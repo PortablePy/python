{
 "cells": [
  {
   "cell_type": "markdown",
   "metadata": {},
   "source": [
    "### Running shell commands in jupyter notbook"
   ]
  },
  {
   "cell_type": "code",
   "execution_count": 1,
   "metadata": {},
   "outputs": [
    {
     "name": "stdout",
     "output_type": "stream",
     "text": [
      "Python 3.7.0\r\n"
     ]
    }
   ],
   "source": [
    "!python --version"
   ]
  },
  {
   "cell_type": "code",
   "execution_count": 2,
   "metadata": {},
   "outputs": [
    {
     "name": "stdout",
     "output_type": "stream",
     "text": [
      "/Users/yukti/Desktop/BuildingYourFirstPythonAnalytics/m3\r\n"
     ]
    }
   ],
   "source": [
    "!pwd"
   ]
  },
  {
   "cell_type": "code",
   "execution_count": 3,
   "metadata": {},
   "outputs": [
    {
     "name": "stdout",
     "output_type": "stream",
     "text": [
      "IRIS.csv                         \u001b[31mdemo2.sh\u001b[m\u001b[m\r\n",
      "UnderstandingJupyter.ipynb       saved_iris_df.csv\r\n",
      "WorkingWithJupyterNotebook.ipynb sin_curve.ipynb\r\n",
      "\u001b[31mdemo1.sh\u001b[m\u001b[m\r\n"
     ]
    }
   ],
   "source": [
    "!ls"
   ]
  },
  {
   "cell_type": "markdown",
   "metadata": {},
   "source": [
    "### Installing prerequisite"
   ]
  },
  {
   "cell_type": "code",
   "execution_count": 4,
   "metadata": {},
   "outputs": [
    {
     "name": "stdout",
     "output_type": "stream",
     "text": [
      "Requirement already satisfied: matplotlib in /Users/yukti/anaconda3/lib/python3.7/site-packages (3.1.1)\r\n",
      "Requirement already satisfied: kiwisolver>=1.0.1 in /Users/yukti/anaconda3/lib/python3.7/site-packages (from matplotlib) (1.1.0)\r\n",
      "Requirement already satisfied: numpy>=1.11 in /Users/yukti/anaconda3/lib/python3.7/site-packages (from matplotlib) (1.16.4)\r\n",
      "Requirement already satisfied: python-dateutil>=2.1 in /Users/yukti/anaconda3/lib/python3.7/site-packages (from matplotlib) (2.8.0)\r\n",
      "Requirement already satisfied: pyparsing!=2.0.4,!=2.1.2,!=2.1.6,>=2.0.1 in /Users/yukti/anaconda3/lib/python3.7/site-packages (from matplotlib) (2.4.2)\r\n",
      "Requirement already satisfied: cycler>=0.10 in /Users/yukti/anaconda3/lib/python3.7/site-packages (from matplotlib) (0.10.0)\r\n",
      "Requirement already satisfied: setuptools in /Users/yukti/anaconda3/lib/python3.7/site-packages (from kiwisolver>=1.0.1->matplotlib) (41.0.1)\r\n",
      "Requirement already satisfied: six>=1.5 in /Users/yukti/anaconda3/lib/python3.7/site-packages (from python-dateutil>=2.1->matplotlib) (1.12.0)\r\n"
     ]
    }
   ],
   "source": [
    "!pip install matplotlib"
   ]
  },
  {
   "cell_type": "code",
   "execution_count": 5,
   "metadata": {},
   "outputs": [
    {
     "data": {
      "text/plain": [
       "'3.1.1'"
      ]
     },
     "execution_count": 5,
     "metadata": {},
     "output_type": "execute_result"
    }
   ],
   "source": [
    "import matplotlib as plt\n",
    "plt.__version__"
   ]
  },
  {
   "cell_type": "code",
   "execution_count": 6,
   "metadata": {},
   "outputs": [
    {
     "name": "stdout",
     "output_type": "stream",
     "text": [
      "Requirement already satisfied: numpy in /Users/yukti/anaconda3/lib/python3.7/site-packages (1.16.4)\r\n"
     ]
    }
   ],
   "source": [
    "!pip install numpy"
   ]
  },
  {
   "cell_type": "code",
   "execution_count": null,
   "metadata": {},
   "outputs": [],
   "source": []
  },
  {
   "cell_type": "code",
   "execution_count": null,
   "metadata": {},
   "outputs": [],
   "source": [
    "##to do\n",
    "\n",
    "#show the below heading in the markdown"
   ]
  },
  {
   "cell_type": "markdown",
   "metadata": {},
   "source": [
    "## Magic Commands"
   ]
  },
  {
   "cell_type": "markdown",
   "metadata": {},
   "source": [
    "### Available magic commands"
   ]
  },
  {
   "cell_type": "code",
   "execution_count": 7,
   "metadata": {},
   "outputs": [
    {
     "data": {
      "application/json": {
       "cell": {
        "!": "OSMagics",
        "HTML": "Other",
        "SVG": "Other",
        "bash": "Other",
        "capture": "ExecutionMagics",
        "debug": "ExecutionMagics",
        "file": "Other",
        "html": "DisplayMagics",
        "javascript": "DisplayMagics",
        "js": "DisplayMagics",
        "latex": "DisplayMagics",
        "markdown": "DisplayMagics",
        "perl": "Other",
        "prun": "ExecutionMagics",
        "pypy": "Other",
        "python": "Other",
        "python2": "Other",
        "python3": "Other",
        "ruby": "Other",
        "script": "ScriptMagics",
        "sh": "Other",
        "svg": "DisplayMagics",
        "sx": "OSMagics",
        "system": "OSMagics",
        "time": "ExecutionMagics",
        "timeit": "ExecutionMagics",
        "writefile": "OSMagics"
       },
       "line": {
        "alias": "OSMagics",
        "alias_magic": "BasicMagics",
        "autoawait": "AsyncMagics",
        "autocall": "AutoMagics",
        "automagic": "AutoMagics",
        "autosave": "KernelMagics",
        "bookmark": "OSMagics",
        "cat": "Other",
        "cd": "OSMagics",
        "clear": "KernelMagics",
        "colors": "BasicMagics",
        "conda": "PackagingMagics",
        "config": "ConfigMagics",
        "connect_info": "KernelMagics",
        "cp": "Other",
        "debug": "ExecutionMagics",
        "dhist": "OSMagics",
        "dirs": "OSMagics",
        "doctest_mode": "BasicMagics",
        "ed": "Other",
        "edit": "KernelMagics",
        "env": "OSMagics",
        "gui": "BasicMagics",
        "hist": "Other",
        "history": "HistoryMagics",
        "killbgscripts": "ScriptMagics",
        "ldir": "Other",
        "less": "KernelMagics",
        "lf": "Other",
        "lk": "Other",
        "ll": "Other",
        "load": "CodeMagics",
        "load_ext": "ExtensionMagics",
        "loadpy": "CodeMagics",
        "logoff": "LoggingMagics",
        "logon": "LoggingMagics",
        "logstart": "LoggingMagics",
        "logstate": "LoggingMagics",
        "logstop": "LoggingMagics",
        "ls": "Other",
        "lsmagic": "BasicMagics",
        "lx": "Other",
        "macro": "ExecutionMagics",
        "magic": "BasicMagics",
        "man": "KernelMagics",
        "matplotlib": "PylabMagics",
        "mkdir": "Other",
        "more": "KernelMagics",
        "mv": "Other",
        "notebook": "BasicMagics",
        "page": "BasicMagics",
        "pastebin": "CodeMagics",
        "pdb": "ExecutionMagics",
        "pdef": "NamespaceMagics",
        "pdoc": "NamespaceMagics",
        "pfile": "NamespaceMagics",
        "pinfo": "NamespaceMagics",
        "pinfo2": "NamespaceMagics",
        "pip": "PackagingMagics",
        "popd": "OSMagics",
        "pprint": "BasicMagics",
        "precision": "BasicMagics",
        "prun": "ExecutionMagics",
        "psearch": "NamespaceMagics",
        "psource": "NamespaceMagics",
        "pushd": "OSMagics",
        "pwd": "OSMagics",
        "pycat": "OSMagics",
        "pylab": "PylabMagics",
        "qtconsole": "KernelMagics",
        "quickref": "BasicMagics",
        "recall": "HistoryMagics",
        "rehashx": "OSMagics",
        "reload_ext": "ExtensionMagics",
        "rep": "Other",
        "rerun": "HistoryMagics",
        "reset": "NamespaceMagics",
        "reset_selective": "NamespaceMagics",
        "rm": "Other",
        "rmdir": "Other",
        "run": "ExecutionMagics",
        "save": "CodeMagics",
        "sc": "OSMagics",
        "set_env": "OSMagics",
        "store": "StoreMagics",
        "sx": "OSMagics",
        "system": "OSMagics",
        "tb": "ExecutionMagics",
        "time": "ExecutionMagics",
        "timeit": "ExecutionMagics",
        "unalias": "OSMagics",
        "unload_ext": "ExtensionMagics",
        "who": "NamespaceMagics",
        "who_ls": "NamespaceMagics",
        "whos": "NamespaceMagics",
        "xdel": "NamespaceMagics",
        "xmode": "BasicMagics"
       }
      },
      "text/plain": [
       "Available line magics:\n",
       "%alias  %alias_magic  %autoawait  %autocall  %automagic  %autosave  %bookmark  %cat  %cd  %clear  %colors  %conda  %config  %connect_info  %cp  %debug  %dhist  %dirs  %doctest_mode  %ed  %edit  %env  %gui  %hist  %history  %killbgscripts  %ldir  %less  %lf  %lk  %ll  %load  %load_ext  %loadpy  %logoff  %logon  %logstart  %logstate  %logstop  %ls  %lsmagic  %lx  %macro  %magic  %man  %matplotlib  %mkdir  %more  %mv  %notebook  %page  %pastebin  %pdb  %pdef  %pdoc  %pfile  %pinfo  %pinfo2  %pip  %popd  %pprint  %precision  %prun  %psearch  %psource  %pushd  %pwd  %pycat  %pylab  %qtconsole  %quickref  %recall  %rehashx  %reload_ext  %rep  %rerun  %reset  %reset_selective  %rm  %rmdir  %run  %save  %sc  %set_env  %store  %sx  %system  %tb  %time  %timeit  %unalias  %unload_ext  %who  %who_ls  %whos  %xdel  %xmode\n",
       "\n",
       "Available cell magics:\n",
       "%%!  %%HTML  %%SVG  %%bash  %%capture  %%debug  %%file  %%html  %%javascript  %%js  %%latex  %%markdown  %%perl  %%prun  %%pypy  %%python  %%python2  %%python3  %%ruby  %%script  %%sh  %%svg  %%sx  %%system  %%time  %%timeit  %%writefile\n",
       "\n",
       "Automagic is ON, % prefix IS NOT needed for line magics."
      ]
     },
     "execution_count": 7,
     "metadata": {},
     "output_type": "execute_result"
    }
   ],
   "source": [
    "%lsmagic"
   ]
  },
  {
   "cell_type": "markdown",
   "metadata": {},
   "source": [
    "### Line Magics"
   ]
  },
  {
   "cell_type": "markdown",
   "metadata": {},
   "source": [
    "### 1) %cd command"
   ]
  },
  {
   "cell_type": "code",
   "execution_count": 8,
   "metadata": {},
   "outputs": [
    {
     "name": "stdout",
     "output_type": "stream",
     "text": [
      "/Users/yukti\n"
     ]
    }
   ],
   "source": [
    "%cd"
   ]
  },
  {
   "cell_type": "markdown",
   "metadata": {},
   "source": [
    "### 2) %env command"
   ]
  },
  {
   "cell_type": "code",
   "execution_count": 9,
   "metadata": {},
   "outputs": [
    {
     "data": {
      "text/plain": [
       "{'TERM_PROGRAM': 'Apple_Terminal',\n",
       " 'SHELL': '/bin/bash',\n",
       " 'TERM': 'xterm-color',\n",
       " 'TMPDIR': '/var/folders/r5/6bj06bq51vq9dkzf5b3wqps80000gp/T/',\n",
       " 'Apple_PubSub_Socket_Render': '/private/tmp/com.apple.launchd.xWt7UySnnm/Render',\n",
       " 'TERM_PROGRAM_VERSION': '421.2',\n",
       " 'TERM_SESSION_ID': '5605BCC4-BAAB-40DD-8BFA-0D73B23322F1',\n",
       " 'SDKMAN_PLATFORM': 'Darwin',\n",
       " 'USER': 'yukti',\n",
       " 'SDKMAN_CANDIDATES_API': 'https://api.sdkman.io/2',\n",
       " 'SSH_AUTH_SOCK': '/private/tmp/com.apple.launchd.VSh45zfIYO/Listeners',\n",
       " 'PATH': '/Library/Frameworks/Python.framework/Versions/3.7/bin:/Library/Frameworks/Python.framework/Versions/3.7/bin:/Library/Frameworks/Python.framework/Versions/3.7/bin:/Library/Frameworks/Python.framework/Versions/3.7/bin:/usr/local/sbin:/usr/local/sbin:/Users/yukti/.sdkman/candidates/scala/current/bin:/Users/yukti/anaconda3/bin:/usr/local/bin:/usr/bin:/bin:/usr/sbin:/sbin',\n",
       " 'PWD': '/Users/yukti',\n",
       " 'SDKMAN_VERSION': '5.7.3+337',\n",
       " 'XPC_FLAGS': '0x0',\n",
       " 'XPC_SERVICE_NAME': '0',\n",
       " 'SHLVL': '1',\n",
       " 'HOME': '/Users/yukti',\n",
       " 'LOGNAME': 'yukti',\n",
       " 'SDKMAN_DIR': '/Users/yukti/.sdkman',\n",
       " 'LC_CTYPE': 'UTF-8',\n",
       " 'SCALA_HOME': '/Users/yukti/.sdkman/candidates/scala/current',\n",
       " 'SDKMAN_CANDIDATES_DIR': '/Users/yukti/.sdkman/candidates',\n",
       " '_': '/Users/yukti/anaconda3/bin/jupyter',\n",
       " 'KERNEL_LAUNCH_TIMEOUT': '40',\n",
       " 'JPY_PARENT_PID': '5293',\n",
       " 'CLICOLOR': '1',\n",
       " 'PAGER': 'cat',\n",
       " 'GIT_PAGER': 'cat',\n",
       " 'MPLBACKEND': 'module://ipykernel.pylab.backend_inline'}"
      ]
     },
     "execution_count": 9,
     "metadata": {},
     "output_type": "execute_result"
    }
   ],
   "source": [
    "%env"
   ]
  },
  {
   "cell_type": "markdown",
   "metadata": {},
   "source": [
    "### 3) %run command"
   ]
  },
  {
   "cell_type": "markdown",
   "metadata": {},
   "source": [
    "#### python file"
   ]
  },
  {
   "cell_type": "code",
   "execution_count": 10,
   "metadata": {},
   "outputs": [
    {
     "name": "stdout",
     "output_type": "stream",
     "text": [
      "square of 1 is 1\n",
      "square of 2 is 4\n",
      "square of 3 is 9\n"
     ]
    }
   ],
   "source": [
    "%run Desktop/myscript.py"
   ]
  },
  {
   "cell_type": "markdown",
   "metadata": {},
   "source": [
    "#### jupyter notebook"
   ]
  },
  {
   "cell_type": "code",
   "execution_count": 11,
   "metadata": {},
   "outputs": [
    {
     "data": {
      "text/plain": [
       "<Figure size 640x480 with 1 Axes>"
      ]
     },
     "metadata": {},
     "output_type": "display_data"
    },
    {
     "name": "stdout",
     "output_type": "stream",
     "text": [
      "I want to pass this string to a different notebook\n"
     ]
    }
   ],
   "source": [
    "%run Desktop/sin_curve.ipynb"
   ]
  },
  {
   "cell_type": "markdown",
   "metadata": {},
   "source": [
    "### 4) %load command"
   ]
  },
  {
   "cell_type": "code",
   "execution_count": 12,
   "metadata": {},
   "outputs": [
    {
     "name": "stdout",
     "output_type": "stream",
     "text": [
      "square of 1 is 1\n",
      "square of 2 is 4\n",
      "square of 3 is 9\n"
     ]
    }
   ],
   "source": [
    "# %load Desktop/myscript.py\n",
    "def square(x):\n",
    "\treturn x ** 2\n",
    "\n",
    "for i in range(1, 4):\n",
    "\tprint( \"square of %s is\"%i, square(i))"
   ]
  },
  {
   "cell_type": "markdown",
   "metadata": {},
   "source": [
    "### 5) %who command"
   ]
  },
  {
   "cell_type": "code",
   "execution_count": 13,
   "metadata": {},
   "outputs": [],
   "source": [
    "a = \"this is a string\"\n",
    "b = 23"
   ]
  },
  {
   "cell_type": "code",
   "execution_count": 14,
   "metadata": {},
   "outputs": [
    {
     "name": "stdout",
     "output_type": "stream",
     "text": [
      "b\t i\t \n"
     ]
    }
   ],
   "source": [
    "%who int"
   ]
  },
  {
   "cell_type": "code",
   "execution_count": 15,
   "metadata": {},
   "outputs": [
    {
     "name": "stdout",
     "output_type": "stream",
     "text": [
      "a\t string\t \n"
     ]
    }
   ],
   "source": [
    "%who str"
   ]
  },
  {
   "cell_type": "markdown",
   "metadata": {},
   "source": [
    "### 6) %rerun command"
   ]
  },
  {
   "cell_type": "code",
   "execution_count": 16,
   "metadata": {},
   "outputs": [
    {
     "name": "stdout",
     "output_type": "stream",
     "text": [
      "=== Executing: ===\n",
      "%who str\n",
      "=== Output: ===\n",
      "a\t string\t \n"
     ]
    }
   ],
   "source": [
    "%rerun"
   ]
  },
  {
   "cell_type": "markdown",
   "metadata": {},
   "source": [
    "### 7) %store command"
   ]
  },
  {
   "cell_type": "code",
   "execution_count": 17,
   "metadata": {},
   "outputs": [],
   "source": [
    "string = 'I want to pass this string to a different notebook'"
   ]
  },
  {
   "cell_type": "code",
   "execution_count": 18,
   "metadata": {},
   "outputs": [
    {
     "name": "stdout",
     "output_type": "stream",
     "text": [
      "Stored 'string' (str)\n"
     ]
    }
   ],
   "source": [
    "%store string\n",
    "\n",
    "del string "
   ]
  },
  {
   "cell_type": "code",
   "execution_count": null,
   "metadata": {},
   "outputs": [],
   "source": []
  },
  {
   "cell_type": "markdown",
   "metadata": {},
   "source": [
    "### Cell Magics"
   ]
  },
  {
   "cell_type": "markdown",
   "metadata": {},
   "source": [
    "### 1) %%markdown command "
   ]
  },
  {
   "cell_type": "code",
   "execution_count": 19,
   "metadata": {},
   "outputs": [
    {
     "data": {
      "text/markdown": [
       "\n",
       "This is a comment\n"
      ],
      "text/plain": [
       "<IPython.core.display.Markdown object>"
      ]
     },
     "metadata": {},
     "output_type": "display_data"
    }
   ],
   "source": [
    "%%markdown\n",
    "\n",
    "This is a comment"
   ]
  },
  {
   "cell_type": "markdown",
   "metadata": {},
   "source": [
    "### 2) %time command"
   ]
  },
  {
   "cell_type": "code",
   "execution_count": 20,
   "metadata": {},
   "outputs": [
    {
     "name": "stdout",
     "output_type": "stream",
     "text": [
      "CPU times: user 20.6 ms, sys: 20.2 ms, total: 40.9 ms\n",
      "Wall time: 11.7 s\n"
     ]
    }
   ],
   "source": [
    "%%time\n",
    "\n",
    "import time\n",
    "for i in range(1000):\n",
    "    time.sleep(0.01) "
   ]
  },
  {
   "cell_type": "markdown",
   "metadata": {},
   "source": [
    "### 3) %timeit command"
   ]
  },
  {
   "cell_type": "markdown",
   "metadata": {},
   "source": [
    "#### with list comprehension "
   ]
  },
  {
   "cell_type": "code",
   "execution_count": 21,
   "metadata": {},
   "outputs": [
    {
     "name": "stdout",
     "output_type": "stream",
     "text": [
      "357 µs ± 4.26 µs per loop (mean ± std. dev. of 7 runs, 1000 loops each)\n"
     ]
    }
   ],
   "source": [
    "%%timeit \n",
    "\n",
    "list_num = [n ** 2 for n in range(1000)]"
   ]
  },
  {
   "cell_type": "markdown",
   "metadata": {},
   "source": [
    "### 4) %%writefile command"
   ]
  },
  {
   "cell_type": "code",
   "execution_count": 21,
   "metadata": {},
   "outputs": [
    {
     "name": "stdout",
     "output_type": "stream",
     "text": [
      "Overwriting newfile.py\n"
     ]
    }
   ],
   "source": [
    "%%writefile newfile.py\n",
    "\n",
    "print('hi')"
   ]
  },
  {
   "cell_type": "code",
   "execution_count": 22,
   "metadata": {},
   "outputs": [
    {
     "name": "stdout",
     "output_type": "stream",
     "text": [
      "hi\n"
     ]
    }
   ],
   "source": [
    "%run newfile.py"
   ]
  },
  {
   "cell_type": "markdown",
   "metadata": {},
   "source": [
    "### html"
   ]
  },
  {
   "cell_type": "code",
   "execution_count": 23,
   "metadata": {},
   "outputs": [
    {
     "data": {
      "text/html": [
       "<font size = 6 color = 'red'>\n",
       "Loonycorn\n",
       "</font>\n"
      ],
      "text/plain": [
       "<IPython.core.display.HTML object>"
      ]
     },
     "metadata": {},
     "output_type": "display_data"
    }
   ],
   "source": [
    "%%html\n",
    "<font size = 6 color = 'red'>\n",
    "Loonycorn\n",
    "</font>"
   ]
  },
  {
   "cell_type": "markdown",
   "metadata": {},
   "source": [
    "## Visual Output"
   ]
  },
  {
   "cell_type": "markdown",
   "metadata": {},
   "source": [
    "### Import libraries"
   ]
  },
  {
   "cell_type": "code",
   "execution_count": 28,
   "metadata": {},
   "outputs": [],
   "source": [
    "%matplotlib notebook\n",
    "\n",
    "import matplotlib.pyplot as plt\n",
    "import numpy as np"
   ]
  },
  {
   "cell_type": "markdown",
   "metadata": {},
   "source": [
    "### Plotting Cosine wave"
   ]
  },
  {
   "cell_type": "code",
   "execution_count": 30,
   "metadata": {},
   "outputs": [
    {
     "data": {
      "application/javascript": [
       "/* Put everything inside the global mpl namespace */\n",
       "window.mpl = {};\n",
       "\n",
       "\n",
       "mpl.get_websocket_type = function() {\n",
       "    if (typeof(WebSocket) !== 'undefined') {\n",
       "        return WebSocket;\n",
       "    } else if (typeof(MozWebSocket) !== 'undefined') {\n",
       "        return MozWebSocket;\n",
       "    } else {\n",
       "        alert('Your browser does not have WebSocket support. ' +\n",
       "              'Please try Chrome, Safari or Firefox ≥ 6. ' +\n",
       "              'Firefox 4 and 5 are also supported but you ' +\n",
       "              'have to enable WebSockets in about:config.');\n",
       "    };\n",
       "}\n",
       "\n",
       "mpl.figure = function(figure_id, websocket, ondownload, parent_element) {\n",
       "    this.id = figure_id;\n",
       "\n",
       "    this.ws = websocket;\n",
       "\n",
       "    this.supports_binary = (this.ws.binaryType != undefined);\n",
       "\n",
       "    if (!this.supports_binary) {\n",
       "        var warnings = document.getElementById(\"mpl-warnings\");\n",
       "        if (warnings) {\n",
       "            warnings.style.display = 'block';\n",
       "            warnings.textContent = (\n",
       "                \"This browser does not support binary websocket messages. \" +\n",
       "                    \"Performance may be slow.\");\n",
       "        }\n",
       "    }\n",
       "\n",
       "    this.imageObj = new Image();\n",
       "\n",
       "    this.context = undefined;\n",
       "    this.message = undefined;\n",
       "    this.canvas = undefined;\n",
       "    this.rubberband_canvas = undefined;\n",
       "    this.rubberband_context = undefined;\n",
       "    this.format_dropdown = undefined;\n",
       "\n",
       "    this.image_mode = 'full';\n",
       "\n",
       "    this.root = $('<div/>');\n",
       "    this._root_extra_style(this.root)\n",
       "    this.root.attr('style', 'display: inline-block');\n",
       "\n",
       "    $(parent_element).append(this.root);\n",
       "\n",
       "    this._init_header(this);\n",
       "    this._init_canvas(this);\n",
       "    this._init_toolbar(this);\n",
       "\n",
       "    var fig = this;\n",
       "\n",
       "    this.waiting = false;\n",
       "\n",
       "    this.ws.onopen =  function () {\n",
       "            fig.send_message(\"supports_binary\", {value: fig.supports_binary});\n",
       "            fig.send_message(\"send_image_mode\", {});\n",
       "            if (mpl.ratio != 1) {\n",
       "                fig.send_message(\"set_dpi_ratio\", {'dpi_ratio': mpl.ratio});\n",
       "            }\n",
       "            fig.send_message(\"refresh\", {});\n",
       "        }\n",
       "\n",
       "    this.imageObj.onload = function() {\n",
       "            if (fig.image_mode == 'full') {\n",
       "                // Full images could contain transparency (where diff images\n",
       "                // almost always do), so we need to clear the canvas so that\n",
       "                // there is no ghosting.\n",
       "                fig.context.clearRect(0, 0, fig.canvas.width, fig.canvas.height);\n",
       "            }\n",
       "            fig.context.drawImage(fig.imageObj, 0, 0);\n",
       "        };\n",
       "\n",
       "    this.imageObj.onunload = function() {\n",
       "        fig.ws.close();\n",
       "    }\n",
       "\n",
       "    this.ws.onmessage = this._make_on_message_function(this);\n",
       "\n",
       "    this.ondownload = ondownload;\n",
       "}\n",
       "\n",
       "mpl.figure.prototype._init_header = function() {\n",
       "    var titlebar = $(\n",
       "        '<div class=\"ui-dialog-titlebar ui-widget-header ui-corner-all ' +\n",
       "        'ui-helper-clearfix\"/>');\n",
       "    var titletext = $(\n",
       "        '<div class=\"ui-dialog-title\" style=\"width: 100%; ' +\n",
       "        'text-align: center; padding: 3px;\"/>');\n",
       "    titlebar.append(titletext)\n",
       "    this.root.append(titlebar);\n",
       "    this.header = titletext[0];\n",
       "}\n",
       "\n",
       "\n",
       "\n",
       "mpl.figure.prototype._canvas_extra_style = function(canvas_div) {\n",
       "\n",
       "}\n",
       "\n",
       "\n",
       "mpl.figure.prototype._root_extra_style = function(canvas_div) {\n",
       "\n",
       "}\n",
       "\n",
       "mpl.figure.prototype._init_canvas = function() {\n",
       "    var fig = this;\n",
       "\n",
       "    var canvas_div = $('<div/>');\n",
       "\n",
       "    canvas_div.attr('style', 'position: relative; clear: both; outline: 0');\n",
       "\n",
       "    function canvas_keyboard_event(event) {\n",
       "        return fig.key_event(event, event['data']);\n",
       "    }\n",
       "\n",
       "    canvas_div.keydown('key_press', canvas_keyboard_event);\n",
       "    canvas_div.keyup('key_release', canvas_keyboard_event);\n",
       "    this.canvas_div = canvas_div\n",
       "    this._canvas_extra_style(canvas_div)\n",
       "    this.root.append(canvas_div);\n",
       "\n",
       "    var canvas = $('<canvas/>');\n",
       "    canvas.addClass('mpl-canvas');\n",
       "    canvas.attr('style', \"left: 0; top: 0; z-index: 0; outline: 0\")\n",
       "\n",
       "    this.canvas = canvas[0];\n",
       "    this.context = canvas[0].getContext(\"2d\");\n",
       "\n",
       "    var backingStore = this.context.backingStorePixelRatio ||\n",
       "\tthis.context.webkitBackingStorePixelRatio ||\n",
       "\tthis.context.mozBackingStorePixelRatio ||\n",
       "\tthis.context.msBackingStorePixelRatio ||\n",
       "\tthis.context.oBackingStorePixelRatio ||\n",
       "\tthis.context.backingStorePixelRatio || 1;\n",
       "\n",
       "    mpl.ratio = (window.devicePixelRatio || 1) / backingStore;\n",
       "\n",
       "    var rubberband = $('<canvas/>');\n",
       "    rubberband.attr('style', \"position: absolute; left: 0; top: 0; z-index: 1;\")\n",
       "\n",
       "    var pass_mouse_events = true;\n",
       "\n",
       "    canvas_div.resizable({\n",
       "        start: function(event, ui) {\n",
       "            pass_mouse_events = false;\n",
       "        },\n",
       "        resize: function(event, ui) {\n",
       "            fig.request_resize(ui.size.width, ui.size.height);\n",
       "        },\n",
       "        stop: function(event, ui) {\n",
       "            pass_mouse_events = true;\n",
       "            fig.request_resize(ui.size.width, ui.size.height);\n",
       "        },\n",
       "    });\n",
       "\n",
       "    function mouse_event_fn(event) {\n",
       "        if (pass_mouse_events)\n",
       "            return fig.mouse_event(event, event['data']);\n",
       "    }\n",
       "\n",
       "    rubberband.mousedown('button_press', mouse_event_fn);\n",
       "    rubberband.mouseup('button_release', mouse_event_fn);\n",
       "    // Throttle sequential mouse events to 1 every 20ms.\n",
       "    rubberband.mousemove('motion_notify', mouse_event_fn);\n",
       "\n",
       "    rubberband.mouseenter('figure_enter', mouse_event_fn);\n",
       "    rubberband.mouseleave('figure_leave', mouse_event_fn);\n",
       "\n",
       "    canvas_div.on(\"wheel\", function (event) {\n",
       "        event = event.originalEvent;\n",
       "        event['data'] = 'scroll'\n",
       "        if (event.deltaY < 0) {\n",
       "            event.step = 1;\n",
       "        } else {\n",
       "            event.step = -1;\n",
       "        }\n",
       "        mouse_event_fn(event);\n",
       "    });\n",
       "\n",
       "    canvas_div.append(canvas);\n",
       "    canvas_div.append(rubberband);\n",
       "\n",
       "    this.rubberband = rubberband;\n",
       "    this.rubberband_canvas = rubberband[0];\n",
       "    this.rubberband_context = rubberband[0].getContext(\"2d\");\n",
       "    this.rubberband_context.strokeStyle = \"#000000\";\n",
       "\n",
       "    this._resize_canvas = function(width, height) {\n",
       "        // Keep the size of the canvas, canvas container, and rubber band\n",
       "        // canvas in synch.\n",
       "        canvas_div.css('width', width)\n",
       "        canvas_div.css('height', height)\n",
       "\n",
       "        canvas.attr('width', width * mpl.ratio);\n",
       "        canvas.attr('height', height * mpl.ratio);\n",
       "        canvas.attr('style', 'width: ' + width + 'px; height: ' + height + 'px;');\n",
       "\n",
       "        rubberband.attr('width', width);\n",
       "        rubberband.attr('height', height);\n",
       "    }\n",
       "\n",
       "    // Set the figure to an initial 600x600px, this will subsequently be updated\n",
       "    // upon first draw.\n",
       "    this._resize_canvas(600, 600);\n",
       "\n",
       "    // Disable right mouse context menu.\n",
       "    $(this.rubberband_canvas).bind(\"contextmenu\",function(e){\n",
       "        return false;\n",
       "    });\n",
       "\n",
       "    function set_focus () {\n",
       "        canvas.focus();\n",
       "        canvas_div.focus();\n",
       "    }\n",
       "\n",
       "    window.setTimeout(set_focus, 100);\n",
       "}\n",
       "\n",
       "mpl.figure.prototype._init_toolbar = function() {\n",
       "    var fig = this;\n",
       "\n",
       "    var nav_element = $('<div/>');\n",
       "    nav_element.attr('style', 'width: 100%');\n",
       "    this.root.append(nav_element);\n",
       "\n",
       "    // Define a callback function for later on.\n",
       "    function toolbar_event(event) {\n",
       "        return fig.toolbar_button_onclick(event['data']);\n",
       "    }\n",
       "    function toolbar_mouse_event(event) {\n",
       "        return fig.toolbar_button_onmouseover(event['data']);\n",
       "    }\n",
       "\n",
       "    for(var toolbar_ind in mpl.toolbar_items) {\n",
       "        var name = mpl.toolbar_items[toolbar_ind][0];\n",
       "        var tooltip = mpl.toolbar_items[toolbar_ind][1];\n",
       "        var image = mpl.toolbar_items[toolbar_ind][2];\n",
       "        var method_name = mpl.toolbar_items[toolbar_ind][3];\n",
       "\n",
       "        if (!name) {\n",
       "            // put a spacer in here.\n",
       "            continue;\n",
       "        }\n",
       "        var button = $('<button/>');\n",
       "        button.addClass('ui-button ui-widget ui-state-default ui-corner-all ' +\n",
       "                        'ui-button-icon-only');\n",
       "        button.attr('role', 'button');\n",
       "        button.attr('aria-disabled', 'false');\n",
       "        button.click(method_name, toolbar_event);\n",
       "        button.mouseover(tooltip, toolbar_mouse_event);\n",
       "\n",
       "        var icon_img = $('<span/>');\n",
       "        icon_img.addClass('ui-button-icon-primary ui-icon');\n",
       "        icon_img.addClass(image);\n",
       "        icon_img.addClass('ui-corner-all');\n",
       "\n",
       "        var tooltip_span = $('<span/>');\n",
       "        tooltip_span.addClass('ui-button-text');\n",
       "        tooltip_span.html(tooltip);\n",
       "\n",
       "        button.append(icon_img);\n",
       "        button.append(tooltip_span);\n",
       "\n",
       "        nav_element.append(button);\n",
       "    }\n",
       "\n",
       "    var fmt_picker_span = $('<span/>');\n",
       "\n",
       "    var fmt_picker = $('<select/>');\n",
       "    fmt_picker.addClass('mpl-toolbar-option ui-widget ui-widget-content');\n",
       "    fmt_picker_span.append(fmt_picker);\n",
       "    nav_element.append(fmt_picker_span);\n",
       "    this.format_dropdown = fmt_picker[0];\n",
       "\n",
       "    for (var ind in mpl.extensions) {\n",
       "        var fmt = mpl.extensions[ind];\n",
       "        var option = $(\n",
       "            '<option/>', {selected: fmt === mpl.default_extension}).html(fmt);\n",
       "        fmt_picker.append(option);\n",
       "    }\n",
       "\n",
       "    // Add hover states to the ui-buttons\n",
       "    $( \".ui-button\" ).hover(\n",
       "        function() { $(this).addClass(\"ui-state-hover\");},\n",
       "        function() { $(this).removeClass(\"ui-state-hover\");}\n",
       "    );\n",
       "\n",
       "    var status_bar = $('<span class=\"mpl-message\"/>');\n",
       "    nav_element.append(status_bar);\n",
       "    this.message = status_bar[0];\n",
       "}\n",
       "\n",
       "mpl.figure.prototype.request_resize = function(x_pixels, y_pixels) {\n",
       "    // Request matplotlib to resize the figure. Matplotlib will then trigger a resize in the client,\n",
       "    // which will in turn request a refresh of the image.\n",
       "    this.send_message('resize', {'width': x_pixels, 'height': y_pixels});\n",
       "}\n",
       "\n",
       "mpl.figure.prototype.send_message = function(type, properties) {\n",
       "    properties['type'] = type;\n",
       "    properties['figure_id'] = this.id;\n",
       "    this.ws.send(JSON.stringify(properties));\n",
       "}\n",
       "\n",
       "mpl.figure.prototype.send_draw_message = function() {\n",
       "    if (!this.waiting) {\n",
       "        this.waiting = true;\n",
       "        this.ws.send(JSON.stringify({type: \"draw\", figure_id: this.id}));\n",
       "    }\n",
       "}\n",
       "\n",
       "\n",
       "mpl.figure.prototype.handle_save = function(fig, msg) {\n",
       "    var format_dropdown = fig.format_dropdown;\n",
       "    var format = format_dropdown.options[format_dropdown.selectedIndex].value;\n",
       "    fig.ondownload(fig, format);\n",
       "}\n",
       "\n",
       "\n",
       "mpl.figure.prototype.handle_resize = function(fig, msg) {\n",
       "    var size = msg['size'];\n",
       "    if (size[0] != fig.canvas.width || size[1] != fig.canvas.height) {\n",
       "        fig._resize_canvas(size[0], size[1]);\n",
       "        fig.send_message(\"refresh\", {});\n",
       "    };\n",
       "}\n",
       "\n",
       "mpl.figure.prototype.handle_rubberband = function(fig, msg) {\n",
       "    var x0 = msg['x0'] / mpl.ratio;\n",
       "    var y0 = (fig.canvas.height - msg['y0']) / mpl.ratio;\n",
       "    var x1 = msg['x1'] / mpl.ratio;\n",
       "    var y1 = (fig.canvas.height - msg['y1']) / mpl.ratio;\n",
       "    x0 = Math.floor(x0) + 0.5;\n",
       "    y0 = Math.floor(y0) + 0.5;\n",
       "    x1 = Math.floor(x1) + 0.5;\n",
       "    y1 = Math.floor(y1) + 0.5;\n",
       "    var min_x = Math.min(x0, x1);\n",
       "    var min_y = Math.min(y0, y1);\n",
       "    var width = Math.abs(x1 - x0);\n",
       "    var height = Math.abs(y1 - y0);\n",
       "\n",
       "    fig.rubberband_context.clearRect(\n",
       "        0, 0, fig.canvas.width / mpl.ratio, fig.canvas.height / mpl.ratio);\n",
       "\n",
       "    fig.rubberband_context.strokeRect(min_x, min_y, width, height);\n",
       "}\n",
       "\n",
       "mpl.figure.prototype.handle_figure_label = function(fig, msg) {\n",
       "    // Updates the figure title.\n",
       "    fig.header.textContent = msg['label'];\n",
       "}\n",
       "\n",
       "mpl.figure.prototype.handle_cursor = function(fig, msg) {\n",
       "    var cursor = msg['cursor'];\n",
       "    switch(cursor)\n",
       "    {\n",
       "    case 0:\n",
       "        cursor = 'pointer';\n",
       "        break;\n",
       "    case 1:\n",
       "        cursor = 'default';\n",
       "        break;\n",
       "    case 2:\n",
       "        cursor = 'crosshair';\n",
       "        break;\n",
       "    case 3:\n",
       "        cursor = 'move';\n",
       "        break;\n",
       "    }\n",
       "    fig.rubberband_canvas.style.cursor = cursor;\n",
       "}\n",
       "\n",
       "mpl.figure.prototype.handle_message = function(fig, msg) {\n",
       "    fig.message.textContent = msg['message'];\n",
       "}\n",
       "\n",
       "mpl.figure.prototype.handle_draw = function(fig, msg) {\n",
       "    // Request the server to send over a new figure.\n",
       "    fig.send_draw_message();\n",
       "}\n",
       "\n",
       "mpl.figure.prototype.handle_image_mode = function(fig, msg) {\n",
       "    fig.image_mode = msg['mode'];\n",
       "}\n",
       "\n",
       "mpl.figure.prototype.updated_canvas_event = function() {\n",
       "    // Called whenever the canvas gets updated.\n",
       "    this.send_message(\"ack\", {});\n",
       "}\n",
       "\n",
       "// A function to construct a web socket function for onmessage handling.\n",
       "// Called in the figure constructor.\n",
       "mpl.figure.prototype._make_on_message_function = function(fig) {\n",
       "    return function socket_on_message(evt) {\n",
       "        if (evt.data instanceof Blob) {\n",
       "            /* FIXME: We get \"Resource interpreted as Image but\n",
       "             * transferred with MIME type text/plain:\" errors on\n",
       "             * Chrome.  But how to set the MIME type?  It doesn't seem\n",
       "             * to be part of the websocket stream */\n",
       "            evt.data.type = \"image/png\";\n",
       "\n",
       "            /* Free the memory for the previous frames */\n",
       "            if (fig.imageObj.src) {\n",
       "                (window.URL || window.webkitURL).revokeObjectURL(\n",
       "                    fig.imageObj.src);\n",
       "            }\n",
       "\n",
       "            fig.imageObj.src = (window.URL || window.webkitURL).createObjectURL(\n",
       "                evt.data);\n",
       "            fig.updated_canvas_event();\n",
       "            fig.waiting = false;\n",
       "            return;\n",
       "        }\n",
       "        else if (typeof evt.data === 'string' && evt.data.slice(0, 21) == \"data:image/png;base64\") {\n",
       "            fig.imageObj.src = evt.data;\n",
       "            fig.updated_canvas_event();\n",
       "            fig.waiting = false;\n",
       "            return;\n",
       "        }\n",
       "\n",
       "        var msg = JSON.parse(evt.data);\n",
       "        var msg_type = msg['type'];\n",
       "\n",
       "        // Call the  \"handle_{type}\" callback, which takes\n",
       "        // the figure and JSON message as its only arguments.\n",
       "        try {\n",
       "            var callback = fig[\"handle_\" + msg_type];\n",
       "        } catch (e) {\n",
       "            console.log(\"No handler for the '\" + msg_type + \"' message type: \", msg);\n",
       "            return;\n",
       "        }\n",
       "\n",
       "        if (callback) {\n",
       "            try {\n",
       "                // console.log(\"Handling '\" + msg_type + \"' message: \", msg);\n",
       "                callback(fig, msg);\n",
       "            } catch (e) {\n",
       "                console.log(\"Exception inside the 'handler_\" + msg_type + \"' callback:\", e, e.stack, msg);\n",
       "            }\n",
       "        }\n",
       "    };\n",
       "}\n",
       "\n",
       "// from http://stackoverflow.com/questions/1114465/getting-mouse-location-in-canvas\n",
       "mpl.findpos = function(e) {\n",
       "    //this section is from http://www.quirksmode.org/js/events_properties.html\n",
       "    var targ;\n",
       "    if (!e)\n",
       "        e = window.event;\n",
       "    if (e.target)\n",
       "        targ = e.target;\n",
       "    else if (e.srcElement)\n",
       "        targ = e.srcElement;\n",
       "    if (targ.nodeType == 3) // defeat Safari bug\n",
       "        targ = targ.parentNode;\n",
       "\n",
       "    // jQuery normalizes the pageX and pageY\n",
       "    // pageX,Y are the mouse positions relative to the document\n",
       "    // offset() returns the position of the element relative to the document\n",
       "    var x = e.pageX - $(targ).offset().left;\n",
       "    var y = e.pageY - $(targ).offset().top;\n",
       "\n",
       "    return {\"x\": x, \"y\": y};\n",
       "};\n",
       "\n",
       "/*\n",
       " * return a copy of an object with only non-object keys\n",
       " * we need this to avoid circular references\n",
       " * http://stackoverflow.com/a/24161582/3208463\n",
       " */\n",
       "function simpleKeys (original) {\n",
       "  return Object.keys(original).reduce(function (obj, key) {\n",
       "    if (typeof original[key] !== 'object')\n",
       "        obj[key] = original[key]\n",
       "    return obj;\n",
       "  }, {});\n",
       "}\n",
       "\n",
       "mpl.figure.prototype.mouse_event = function(event, name) {\n",
       "    var canvas_pos = mpl.findpos(event)\n",
       "\n",
       "    if (name === 'button_press')\n",
       "    {\n",
       "        this.canvas.focus();\n",
       "        this.canvas_div.focus();\n",
       "    }\n",
       "\n",
       "    var x = canvas_pos.x * mpl.ratio;\n",
       "    var y = canvas_pos.y * mpl.ratio;\n",
       "\n",
       "    this.send_message(name, {x: x, y: y, button: event.button,\n",
       "                             step: event.step,\n",
       "                             guiEvent: simpleKeys(event)});\n",
       "\n",
       "    /* This prevents the web browser from automatically changing to\n",
       "     * the text insertion cursor when the button is pressed.  We want\n",
       "     * to control all of the cursor setting manually through the\n",
       "     * 'cursor' event from matplotlib */\n",
       "    event.preventDefault();\n",
       "    return false;\n",
       "}\n",
       "\n",
       "mpl.figure.prototype._key_event_extra = function(event, name) {\n",
       "    // Handle any extra behaviour associated with a key event\n",
       "}\n",
       "\n",
       "mpl.figure.prototype.key_event = function(event, name) {\n",
       "\n",
       "    // Prevent repeat events\n",
       "    if (name == 'key_press')\n",
       "    {\n",
       "        if (event.which === this._key)\n",
       "            return;\n",
       "        else\n",
       "            this._key = event.which;\n",
       "    }\n",
       "    if (name == 'key_release')\n",
       "        this._key = null;\n",
       "\n",
       "    var value = '';\n",
       "    if (event.ctrlKey && event.which != 17)\n",
       "        value += \"ctrl+\";\n",
       "    if (event.altKey && event.which != 18)\n",
       "        value += \"alt+\";\n",
       "    if (event.shiftKey && event.which != 16)\n",
       "        value += \"shift+\";\n",
       "\n",
       "    value += 'k';\n",
       "    value += event.which.toString();\n",
       "\n",
       "    this._key_event_extra(event, name);\n",
       "\n",
       "    this.send_message(name, {key: value,\n",
       "                             guiEvent: simpleKeys(event)});\n",
       "    return false;\n",
       "}\n",
       "\n",
       "mpl.figure.prototype.toolbar_button_onclick = function(name) {\n",
       "    if (name == 'download') {\n",
       "        this.handle_save(this, null);\n",
       "    } else {\n",
       "        this.send_message(\"toolbar_button\", {name: name});\n",
       "    }\n",
       "};\n",
       "\n",
       "mpl.figure.prototype.toolbar_button_onmouseover = function(tooltip) {\n",
       "    this.message.textContent = tooltip;\n",
       "};\n",
       "mpl.toolbar_items = [[\"Home\", \"Reset original view\", \"fa fa-home icon-home\", \"home\"], [\"Back\", \"Back to previous view\", \"fa fa-arrow-left icon-arrow-left\", \"back\"], [\"Forward\", \"Forward to next view\", \"fa fa-arrow-right icon-arrow-right\", \"forward\"], [\"\", \"\", \"\", \"\"], [\"Pan\", \"Pan axes with left mouse, zoom with right\", \"fa fa-arrows icon-move\", \"pan\"], [\"Zoom\", \"Zoom to rectangle\", \"fa fa-square-o icon-check-empty\", \"zoom\"], [\"\", \"\", \"\", \"\"], [\"Download\", \"Download plot\", \"fa fa-floppy-o icon-save\", \"download\"]];\n",
       "\n",
       "mpl.extensions = [\"eps\", \"jpeg\", \"pdf\", \"png\", \"ps\", \"raw\", \"svg\", \"tif\"];\n",
       "\n",
       "mpl.default_extension = \"png\";var comm_websocket_adapter = function(comm) {\n",
       "    // Create a \"websocket\"-like object which calls the given IPython comm\n",
       "    // object with the appropriate methods. Currently this is a non binary\n",
       "    // socket, so there is still some room for performance tuning.\n",
       "    var ws = {};\n",
       "\n",
       "    ws.close = function() {\n",
       "        comm.close()\n",
       "    };\n",
       "    ws.send = function(m) {\n",
       "        //console.log('sending', m);\n",
       "        comm.send(m);\n",
       "    };\n",
       "    // Register the callback with on_msg.\n",
       "    comm.on_msg(function(msg) {\n",
       "        //console.log('receiving', msg['content']['data'], msg);\n",
       "        // Pass the mpl event to the overridden (by mpl) onmessage function.\n",
       "        ws.onmessage(msg['content']['data'])\n",
       "    });\n",
       "    return ws;\n",
       "}\n",
       "\n",
       "mpl.mpl_figure_comm = function(comm, msg) {\n",
       "    // This is the function which gets called when the mpl process\n",
       "    // starts-up an IPython Comm through the \"matplotlib\" channel.\n",
       "\n",
       "    var id = msg.content.data.id;\n",
       "    // Get hold of the div created by the display call when the Comm\n",
       "    // socket was opened in Python.\n",
       "    var element = $(\"#\" + id);\n",
       "    var ws_proxy = comm_websocket_adapter(comm)\n",
       "\n",
       "    function ondownload(figure, format) {\n",
       "        window.open(figure.imageObj.src);\n",
       "    }\n",
       "\n",
       "    var fig = new mpl.figure(id, ws_proxy,\n",
       "                           ondownload,\n",
       "                           element.get(0));\n",
       "\n",
       "    // Call onopen now - mpl needs it, as it is assuming we've passed it a real\n",
       "    // web socket which is closed, not our websocket->open comm proxy.\n",
       "    ws_proxy.onopen();\n",
       "\n",
       "    fig.parent_element = element.get(0);\n",
       "    fig.cell_info = mpl.find_output_cell(\"<div id='\" + id + \"'></div>\");\n",
       "    if (!fig.cell_info) {\n",
       "        console.error(\"Failed to find cell for figure\", id, fig);\n",
       "        return;\n",
       "    }\n",
       "\n",
       "    var output_index = fig.cell_info[2]\n",
       "    var cell = fig.cell_info[0];\n",
       "\n",
       "};\n",
       "\n",
       "mpl.figure.prototype.handle_close = function(fig, msg) {\n",
       "    var width = fig.canvas.width/mpl.ratio\n",
       "    fig.root.unbind('remove')\n",
       "\n",
       "    // Update the output cell to use the data from the current canvas.\n",
       "    fig.push_to_output();\n",
       "    var dataURL = fig.canvas.toDataURL();\n",
       "    // Re-enable the keyboard manager in IPython - without this line, in FF,\n",
       "    // the notebook keyboard shortcuts fail.\n",
       "    IPython.keyboard_manager.enable()\n",
       "    $(fig.parent_element).html('<img src=\"' + dataURL + '\" width=\"' + width + '\">');\n",
       "    fig.close_ws(fig, msg);\n",
       "}\n",
       "\n",
       "mpl.figure.prototype.close_ws = function(fig, msg){\n",
       "    fig.send_message('closing', msg);\n",
       "    // fig.ws.close()\n",
       "}\n",
       "\n",
       "mpl.figure.prototype.push_to_output = function(remove_interactive) {\n",
       "    // Turn the data on the canvas into data in the output cell.\n",
       "    var width = this.canvas.width/mpl.ratio\n",
       "    var dataURL = this.canvas.toDataURL();\n",
       "    this.cell_info[1]['text/html'] = '<img src=\"' + dataURL + '\" width=\"' + width + '\">';\n",
       "}\n",
       "\n",
       "mpl.figure.prototype.updated_canvas_event = function() {\n",
       "    // Tell IPython that the notebook contents must change.\n",
       "    IPython.notebook.set_dirty(true);\n",
       "    this.send_message(\"ack\", {});\n",
       "    var fig = this;\n",
       "    // Wait a second, then push the new image to the DOM so\n",
       "    // that it is saved nicely (might be nice to debounce this).\n",
       "    setTimeout(function () { fig.push_to_output() }, 1000);\n",
       "}\n",
       "\n",
       "mpl.figure.prototype._init_toolbar = function() {\n",
       "    var fig = this;\n",
       "\n",
       "    var nav_element = $('<div/>');\n",
       "    nav_element.attr('style', 'width: 100%');\n",
       "    this.root.append(nav_element);\n",
       "\n",
       "    // Define a callback function for later on.\n",
       "    function toolbar_event(event) {\n",
       "        return fig.toolbar_button_onclick(event['data']);\n",
       "    }\n",
       "    function toolbar_mouse_event(event) {\n",
       "        return fig.toolbar_button_onmouseover(event['data']);\n",
       "    }\n",
       "\n",
       "    for(var toolbar_ind in mpl.toolbar_items){\n",
       "        var name = mpl.toolbar_items[toolbar_ind][0];\n",
       "        var tooltip = mpl.toolbar_items[toolbar_ind][1];\n",
       "        var image = mpl.toolbar_items[toolbar_ind][2];\n",
       "        var method_name = mpl.toolbar_items[toolbar_ind][3];\n",
       "\n",
       "        if (!name) { continue; };\n",
       "\n",
       "        var button = $('<button class=\"btn btn-default\" href=\"#\" title=\"' + name + '\"><i class=\"fa ' + image + ' fa-lg\"></i></button>');\n",
       "        button.click(method_name, toolbar_event);\n",
       "        button.mouseover(tooltip, toolbar_mouse_event);\n",
       "        nav_element.append(button);\n",
       "    }\n",
       "\n",
       "    // Add the status bar.\n",
       "    var status_bar = $('<span class=\"mpl-message\" style=\"text-align:right; float: right;\"/>');\n",
       "    nav_element.append(status_bar);\n",
       "    this.message = status_bar[0];\n",
       "\n",
       "    // Add the close button to the window.\n",
       "    var buttongrp = $('<div class=\"btn-group inline pull-right\"></div>');\n",
       "    var button = $('<button class=\"btn btn-mini btn-primary\" href=\"#\" title=\"Stop Interaction\"><i class=\"fa fa-power-off icon-remove icon-large\"></i></button>');\n",
       "    button.click(function (evt) { fig.handle_close(fig, {}); } );\n",
       "    button.mouseover('Stop Interaction', toolbar_mouse_event);\n",
       "    buttongrp.append(button);\n",
       "    var titlebar = this.root.find($('.ui-dialog-titlebar'));\n",
       "    titlebar.prepend(buttongrp);\n",
       "}\n",
       "\n",
       "mpl.figure.prototype._root_extra_style = function(el){\n",
       "    var fig = this\n",
       "    el.on(\"remove\", function(){\n",
       "\tfig.close_ws(fig, {});\n",
       "    });\n",
       "}\n",
       "\n",
       "mpl.figure.prototype._canvas_extra_style = function(el){\n",
       "    // this is important to make the div 'focusable\n",
       "    el.attr('tabindex', 0)\n",
       "    // reach out to IPython and tell the keyboard manager to turn it's self\n",
       "    // off when our div gets focus\n",
       "\n",
       "    // location in version 3\n",
       "    if (IPython.notebook.keyboard_manager) {\n",
       "        IPython.notebook.keyboard_manager.register_events(el);\n",
       "    }\n",
       "    else {\n",
       "        // location in version 2\n",
       "        IPython.keyboard_manager.register_events(el);\n",
       "    }\n",
       "\n",
       "}\n",
       "\n",
       "mpl.figure.prototype._key_event_extra = function(event, name) {\n",
       "    var manager = IPython.notebook.keyboard_manager;\n",
       "    if (!manager)\n",
       "        manager = IPython.keyboard_manager;\n",
       "\n",
       "    // Check for shift+enter\n",
       "    if (event.shiftKey && event.which == 13) {\n",
       "        this.canvas_div.blur();\n",
       "        event.shiftKey = false;\n",
       "        // Send a \"J\" for go to next cell\n",
       "        event.which = 74;\n",
       "        event.keyCode = 74;\n",
       "        manager.command_mode();\n",
       "        manager.handle_keydown(event);\n",
       "    }\n",
       "}\n",
       "\n",
       "mpl.figure.prototype.handle_save = function(fig, msg) {\n",
       "    fig.ondownload(fig, null);\n",
       "}\n",
       "\n",
       "\n",
       "mpl.find_output_cell = function(html_output) {\n",
       "    // Return the cell and output element which can be found *uniquely* in the notebook.\n",
       "    // Note - this is a bit hacky, but it is done because the \"notebook_saving.Notebook\"\n",
       "    // IPython event is triggered only after the cells have been serialised, which for\n",
       "    // our purposes (turning an active figure into a static one), is too late.\n",
       "    var cells = IPython.notebook.get_cells();\n",
       "    var ncells = cells.length;\n",
       "    for (var i=0; i<ncells; i++) {\n",
       "        var cell = cells[i];\n",
       "        if (cell.cell_type === 'code'){\n",
       "            for (var j=0; j<cell.output_area.outputs.length; j++) {\n",
       "                var data = cell.output_area.outputs[j];\n",
       "                if (data.data) {\n",
       "                    // IPython >= 3 moved mimebundle to data attribute of output\n",
       "                    data = data.data;\n",
       "                }\n",
       "                if (data['text/html'] == html_output) {\n",
       "                    return [cell, data, j];\n",
       "                }\n",
       "            }\n",
       "        }\n",
       "    }\n",
       "}\n",
       "\n",
       "// Register the function which deals with the matplotlib target/channel.\n",
       "// The kernel may be null if the page has been refreshed.\n",
       "if (IPython.notebook.kernel != null) {\n",
       "    IPython.notebook.kernel.comm_manager.register_target('matplotlib', mpl.mpl_figure_comm);\n",
       "}\n"
      ],
      "text/plain": [
       "<IPython.core.display.Javascript object>"
      ]
     },
     "metadata": {},
     "output_type": "display_data"
    },
    {
     "data": {
      "text/html": [
       "<img src=\"data:image/png;base64,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\" width=\"640\">"
      ],
      "text/plain": [
       "<IPython.core.display.HTML object>"
      ]
     },
     "metadata": {},
     "output_type": "display_data"
    }
   ],
   "source": [
    "x = np.linspace(0, 10)\n",
    "line, = plt.plot(x, np.cos(x), '--', linewidth = 2)"
   ]
  },
  {
   "cell_type": "code",
   "execution_count": null,
   "metadata": {},
   "outputs": [],
   "source": []
  }
 ],
 "metadata": {
  "kernelspec": {
   "display_name": "Python 3",
   "language": "python",
   "name": "python3"
  },
  "language_info": {
   "codemirror_mode": {
    "name": "ipython",
    "version": 3
   },
   "file_extension": ".py",
   "mimetype": "text/x-python",
   "name": "python",
   "nbconvert_exporter": "python",
   "pygments_lexer": "ipython3",
   "version": "3.7.0"
  }
 },
 "nbformat": 4,
 "nbformat_minor": 2
}
