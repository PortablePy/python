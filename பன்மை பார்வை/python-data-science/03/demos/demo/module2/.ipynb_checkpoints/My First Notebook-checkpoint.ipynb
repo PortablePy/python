{
 "cells": [
  {
   "cell_type": "code",
   "execution_count": 5,
   "metadata": {
    "collapsed": false
   },
   "outputs": [
    {
     "name": "stdout",
     "output_type": "stream",
     "text": [
      "Hello World\n"
     ]
    }
   ],
   "source": [
    "print \"Hello World\""
   ]
  },
  {
   "cell_type": "markdown",
   "metadata": {},
   "source": [
    "# My First Notebook"
   ]
  },
  {
   "cell_type": "code",
   "execution_count": 1,
   "metadata": {
    "collapsed": false
   },
   "outputs": [
    {
     "data": {
      "text/plain": [
       "4"
      ]
     },
     "execution_count": 1,
     "metadata": {},
     "output_type": "execute_result"
    }
   ],
   "source": [
    "# Simple Code\n",
    "2 + 2"
   ]
  },
  {
   "cell_type": "code",
   "execution_count": 2,
   "metadata": {
    "collapsed": true
   },
   "outputs": [],
   "source": [
    "# Variable defined in one cell\n",
    "x = 3"
   ]
  },
  {
   "cell_type": "code",
   "execution_count": 3,
   "metadata": {
    "collapsed": false
   },
   "outputs": [
    {
     "name": "stdout",
     "output_type": "stream",
     "text": [
      "3\n"
     ]
    }
   ],
   "source": [
    "# Use the variable in another \n",
    "print x"
   ]
  },
  {
   "cell_type": "code",
   "execution_count": 4,
   "metadata": {
    "collapsed": true
   },
   "outputs": [],
   "source": [
    "# Python Functions\n",
    "def print_hello(name):\n",
    "    print 'hello {0}'.format(name)"
   ]
  },
  {
   "cell_type": "code",
   "execution_count": 5,
   "metadata": {
    "collapsed": false
   },
   "outputs": [
    {
     "name": "stdout",
     "output_type": "stream",
     "text": [
      "hello Abhi\n"
     ]
    }
   ],
   "source": [
    "print_hello(\"Abhi\")"
   ]
  },
  {
   "cell_type": "code",
   "execution_count": 7,
   "metadata": {
    "collapsed": false
   },
   "outputs": [],
   "source": [
    "# Use Keyboard shortcut ESC + L to show line numbers for long code blocks\n",
    "\n",
    "# Import numpy package\n",
    "import numpy as np\n",
    "# Generate Data\n",
    "np.random.seed(10)\n",
    "\n",
    "# True Function : Y = -3.4 + 2.5 * X\n",
    "true_weights = np.array([-3.4, 2.5],dtype=float)\n",
    "# Number of observations generated\n",
    "total_count = 1000\n",
    "# X \n",
    "X = np.linspace(0,10, total_count)\n",
    "# Noise - Normally distributed\n",
    "noise = np.random.normal(size=total_count)\n",
    "\n",
    "# Y\n",
    "Y = -3.4  + 2.5 * X + noise\n",
    "# Taking a sample of 100 observations\n",
    "N = 100\n",
    "samples = zip(Y,X)\n",
    "np.random.shuffle(samples)\n",
    "samples = samples[:N]\n",
    "samples_output = [sample[0] for sample in samples]\n",
    "samples_input = [sample[1] for sample in samples]"
   ]
  },
  {
   "cell_type": "code",
   "execution_count": 8,
   "metadata": {
    "collapsed": false
   },
   "outputs": [
    {
     "name": "stdout",
     "output_type": "stream",
     "text": [
      "Python 2.7.11 :: Anaconda 2.4.0 (x86_64)\r\n"
     ]
    }
   ],
   "source": [
    "! python --version"
   ]
  }
 ],
 "metadata": {
  "kernelspec": {
   "display_name": "Python 2",
   "language": "python",
   "name": "python2"
  },
  "language_info": {
   "codemirror_mode": {
    "name": "ipython",
    "version": 2
   },
   "file_extension": ".py",
   "mimetype": "text/x-python",
   "name": "python",
   "nbconvert_exporter": "python",
   "pygments_lexer": "ipython2",
   "version": "2.7.11"
  }
 },
 "nbformat": 4,
 "nbformat_minor": 0
}
