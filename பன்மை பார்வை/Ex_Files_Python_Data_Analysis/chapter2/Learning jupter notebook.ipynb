{
 "cells": [
  {
   "cell_type": "code",
   "execution_count": 2,
   "id": "7af0fc54",
   "metadata": {},
   "outputs": [
    {
     "name": "stdout",
     "output_type": "stream",
     "text": [
      "Hello அனிச் பிரபு தி\n"
     ]
    }
   ],
   "source": [
    "print(\"Hello அனிச் பிரபு தி\")"
   ]
  },
  {
   "cell_type": "code",
   "execution_count": 3,
   "id": "2d421989",
   "metadata": {},
   "outputs": [
    {
     "name": "stdout",
     "output_type": "stream",
     "text": [
      "த\n",
      "ம\n",
      "ி\n",
      "ழ\n",
      "்\n"
     ]
    }
   ],
   "source": [
    "for letter in \"தமிழ்\" :\n",
    "    print(letter)\n",
    "    "
   ]
  },
  {
   "cell_type": "markdown",
   "id": "846a7aba",
   "metadata": {},
   "source": [
    "I can ** ltest ** in https://tamilneram.github.io\n",
    "* A formula: $\\sqrt{1+x}$"
   ]
  },
  {
   "cell_type": "code",
   "execution_count": null,
   "id": "c227db11",
   "metadata": {},
   "outputs": [],
   "source": []
  }
 ],
 "metadata": {
  "kernelspec": {
   "display_name": "Python 3",
   "language": "python",
   "name": "python3"
  },
  "language_info": {
   "codemirror_mode": {
    "name": "ipython",
    "version": 3
   },
   "file_extension": ".py",
   "mimetype": "text/x-python",
   "name": "python",
   "nbconvert_exporter": "python",
   "pygments_lexer": "ipython3",
   "version": "3.8.8"
  }
 },
 "nbformat": 4,
 "nbformat_minor": 5
}
