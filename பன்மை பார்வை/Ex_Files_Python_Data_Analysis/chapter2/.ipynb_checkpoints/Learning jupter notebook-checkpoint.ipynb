{
 "cells": [
  {
   "cell_type": "code",
   "execution_count": 2,
   "id": "df27dc67",
   "metadata": {},
   "outputs": [
    {
     "name": "stdout",
     "output_type": "stream",
     "text": [
      "Hello அனிச் பிரபு தி\n"
     ]
    }
   ],
   "source": [
    "print(\"Hello அனிச் பிரபு தி\")"
   ]
  },
  {
   "cell_type": "code",
   "execution_count": 3,
   "id": "d5a86656",
   "metadata": {},
   "outputs": [
    {
     "name": "stdout",
     "output_type": "stream",
     "text": [
      "த\n",
      "ம\n",
      "ி\n",
      "ழ\n",
      "்\n"
     ]
    }
   ],
   "source": [
    "for letter in \"தமிழ்\" :\n",
    "    print(letter)\n",
    "    "
   ]
  },
  {
   "cell_type": "markdown",
   "id": "f10dc21d",
   "metadata": {},
   "source": [
    "I can write ** ltest ** in https://tamilneram.github.io\n",
    "* A formula: "
   ]
  }
 ],
 "metadata": {
  "kernelspec": {
   "display_name": "Python 3",
   "language": "python",
   "name": "python3"
  },
  "language_info": {
   "codemirror_mode": {
    "name": "ipython",
    "version": 3
   },
   "file_extension": ".py",
   "mimetype": "text/x-python",
   "name": "python",
   "nbconvert_exporter": "python",
   "pygments_lexer": "ipython3",
   "version": "3.8.8"
  }
 },
 "nbformat": 4,
 "nbformat_minor": 5
}
