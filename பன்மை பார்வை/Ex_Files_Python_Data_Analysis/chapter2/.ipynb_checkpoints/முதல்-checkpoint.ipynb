{
 "cells": [
  {
   "cell_type": "code",
   "execution_count": 3,
   "id": "691a0153",
   "metadata": {},
   "outputs": [],
   "source": [
    "def அச்சிடு(*வாதங்கள்,பிரி=\" \",முடி='\\n',கோப்பு=None,பறிப்பு=False):\n",
    "    print(*வாதங்கள், sep=பிரி,end=முடி, file=கோப்பு,flush=பறிப்பு)\n"
   ]
  },
  {
   "cell_type": "code",
   "execution_count": 4,
   "id": "c7e8fe62",
   "metadata": {},
   "outputs": [],
   "source": [
    "def உள்ளீடு(*வாதங்கள்):\n",
    "    அ = input (*வாதங்கள்)\n",
    "    return அ\n"
   ]
  },
  {
   "cell_type": "code",
   "execution_count": 6,
   "id": "1bdc2d38",
   "metadata": {},
   "outputs": [],
   "source": [
    "def முதன்மை():\n",
    "    அச்சிடு(\"வணக்கம் வருக \")\n",
    "    பெயர் = உள்ளீடு (\"தங்கள் பெயர் என்ன?\")\n",
    "    அச்சிடு(பெயர், \"தங்களை சந்தித்ததில் மகிழ்ச்சி\")\n"
   ]
  },
  {
   "cell_type": "code",
   "execution_count": 7,
   "id": "957aa6ba",
   "metadata": {},
   "outputs": [
    {
     "name": "stdout",
     "output_type": "stream",
     "text": [
      "வணக்கம் வருக \n",
      "தங்கள் பெயர் என்ன?அனிச்பிரபு தி.\n",
      "அனிச்பிரபு தி. தங்களை சந்தித்ததில் மகிழ்ச்சி\n"
     ]
    }
   ],
   "source": [
    "if __name__ == \"__main__\":\n",
    "    முதன்மை ()\n"
   ]
  },
  {
   "cell_type": "code",
   "execution_count": null,
   "id": "c956e8b8",
   "metadata": {},
   "outputs": [],
   "source": []
  }
 ],
 "metadata": {
  "kernelspec": {
   "display_name": "Python 3",
   "language": "python",
   "name": "python3"
  },
  "language_info": {
   "codemirror_mode": {
    "name": "ipython",
    "version": 3
   },
   "file_extension": ".py",
   "mimetype": "text/x-python",
   "name": "python",
   "nbconvert_exporter": "python",
   "pygments_lexer": "ipython3",
   "version": "3.8.8"
  }
 },
 "nbformat": 4,
 "nbformat_minor": 5
}
