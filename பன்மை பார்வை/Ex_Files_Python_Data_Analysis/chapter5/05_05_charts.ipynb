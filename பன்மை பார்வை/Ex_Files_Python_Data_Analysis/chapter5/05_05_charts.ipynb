{
 "cells": [
  {
   "cell_type": "markdown",
   "metadata": {},
   "source": [
    "# 05_05: Weather Charts"
   ]
  },
  {
   "cell_type": "code",
   "execution_count": null,
   "metadata": {},
   "outputs": [],
   "source": [
    "# note: this notebook requires Python 3.6 or higher"
   ]
  },
  {
   "cell_type": "code",
   "execution_count": null,
   "metadata": {},
   "outputs": [],
   "source": [
    "import math\n",
    "import collections\n",
    "import urllib\n",
    "\n",
    "import numpy as np\n",
    "import pandas as pd\n",
    "import matplotlib.pyplot as pp\n",
    "\n",
    "%matplotlib inline"
   ]
  },
  {
   "cell_type": "markdown",
   "metadata": {},
   "source": [
    "<img src=\"nytimes.png\">"
   ]
  },
  {
   "cell_type": "code",
   "execution_count": null,
   "metadata": {},
   "outputs": [],
   "source": [
    "import getweather"
   ]
  },
  {
   "cell_type": "code",
   "execution_count": null,
   "metadata": {},
   "outputs": [],
   "source": [
    "# for records: get TMIN/TMAX arrays for years 1910-2018, stack vertically in array\n",
    "\n",
    "allyears = np.vstack([getweather.getyear('PASADENA', ['TMIN','TMAX'], year)\n",
    "                      for year in range(1910, 2019)])"
   ]
  },
  {
   "cell_type": "code",
   "execution_count": null,
   "metadata": {},
   "outputs": [],
   "source": [
    "# show stacked array as colored map, specifying axis values,\n",
    "# and creating temperature-reference colorbar\n",
    "\n",
    "pp.matshow(allyears['TMIN'], extent=[1,365,2019,1910])\n",
    "pp.colorbar()"
   ]
  },
  {
   "cell_type": "code",
   "execution_count": null,
   "metadata": {},
   "outputs": [],
   "source": [
    "# min and max of TMIN/TMAX along all years, excluding NaNs\n",
    "\n",
    "tmin_record = np.nanmin(allyears['TMIN'], axis=0)\n",
    "tmax_record = np.nanmax(allyears['TMAX'], axis=0)"
   ]
  },
  {
   "cell_type": "code",
   "execution_count": null,
   "metadata": {},
   "outputs": [],
   "source": [
    "pp.plot(tmin_record)\n",
    "pp.plot(tmax_record)"
   ]
  },
  {
   "cell_type": "code",
   "execution_count": null,
   "metadata": {},
   "outputs": [],
   "source": [
    "# for normals: get TMIN/TMAX arrays for years 1981-2010, stack vertically in array\n",
    "\n",
    "normal = np.vstack([getweather.getyear('PASADENA', ['TMIN','TMAX'], year)\n",
    "                    for year in range(1981, 2011)])"
   ]
  },
  {
   "cell_type": "code",
   "execution_count": null,
   "metadata": {},
   "outputs": [],
   "source": [
    "# mean of TMIN/TMAX across 1981-2010 years, excluding NaNs\n",
    "\n",
    "tmin_normal = np.nanmean(normal['TMIN'], axis=0)\n",
    "tmax_normal = np.nanmean(normal['TMAX'], axis=0)"
   ]
  },
  {
   "cell_type": "code",
   "execution_count": null,
   "metadata": {},
   "outputs": [],
   "source": [
    "pp.plot(tmin_normal)\n",
    "pp.plot(tmax_normal)"
   ]
  },
  {
   "cell_type": "code",
   "execution_count": null,
   "metadata": {},
   "outputs": [],
   "source": [
    "station, year = 'PASADENA', 2018\n",
    "\n",
    "thisyear = getweather.getyear(station, ['TMIN', 'TMAX'], year)"
   ]
  },
  {
   "cell_type": "code",
   "execution_count": null,
   "metadata": {},
   "outputs": [],
   "source": [
    "# fill area between horizontal curves (days, thisyear['TMIN']) and (days, thisyear['TMAX'])\n",
    "\n",
    "days = np.arange(1, 366)\n",
    "\n",
    "pp.fill_between(days, thisyear['TMIN'], thisyear['TMAX'])"
   ]
  },
  {
   "cell_type": "code",
   "execution_count": null,
   "metadata": {},
   "outputs": [],
   "source": [
    "avg = 0.5*(np.nanmean(thisyear['TMIN']) + np.nanmean(thisyear['TMAX']))"
   ]
  },
  {
   "cell_type": "code",
   "execution_count": null,
   "metadata": {},
   "outputs": [],
   "source": [
    "avg"
   ]
  },
  {
   "cell_type": "code",
   "execution_count": null,
   "metadata": {},
   "outputs": [],
   "source": [
    "# formatted string literal: will insert values of variable in braces\n",
    "f'{station}, {year}: average temperature = {avg:.2f} C'"
   ]
  },
  {
   "cell_type": "code",
   "execution_count": null,
   "metadata": {},
   "outputs": [],
   "source": [
    "# show normals, records, and current year bands together\n",
    "\n",
    "pp.figure(figsize=(15,4.5))\n",
    "\n",
    "pp.fill_between(days, tmin_record, tmax_record, color=(0.92,0.92,0.89), step='mid')\n",
    "pp.fill_between(days, tmin_normal, tmax_normal, color=(0.78,0.72,0.72))\n",
    "\n",
    "pp.fill_between(days, thisyear['TMIN'], thisyear['TMAX'],\n",
    "                color=(0.73,0.21,0.41), alpha=0.6, step='mid')\n",
    "\n",
    "pp.axis(xmin=1, xmax=365, ymin=-15, ymax=50)\n",
    "\n",
    "pp.title(f'{station}, {year}: average temperature = {avg:.2f} C');"
   ]
  },
  {
   "cell_type": "code",
   "execution_count": null,
   "metadata": {},
   "outputs": [],
   "source": [
    "# collect data and make chart for any city and current year,\n",
    "# following the same steps as above\n",
    "\n",
    "def nyplot(station, year):\n",
    "    pp.figure(figsize=(15,4.5))\n",
    "    \n",
    "    allyears = np.vstack([getweather.getyear(station, ['TMIN','TMAX'], year)\n",
    "                          for year in range(1910, 2020)])\n",
    "    \n",
    "    normal = np.vstack([getweather.getyear(station, ['TMIN','TMAX'], year)\n",
    "                        for year in range(1981, 2011)])\n",
    "\n",
    "    tmin_record, tmax_record = np.nanmin(allyears['TMIN'], axis=0), np.nanmax(allyears['TMAX'], axis=0)\n",
    "    tmin_normal, tmax_normal = np.nanmean(normal['TMIN'], axis=0), np.nanmean(normal['TMAX'], axis=0)\n",
    "\n",
    "    days = np.arange(1, 366)\n",
    "\n",
    "    pp.fill_between(days, tmin_record, tmax_record, color=(0.92,0.92,0.89), step='mid')\n",
    "    pp.fill_between(days, tmin_normal, tmax_normal, color=(0.78,0.72,0.72))\n",
    "    \n",
    "    thisyear = getweather.getyear(station, ['TMIN', 'TMAX'], year)\n",
    "\n",
    "    pp.fill_between(days, thisyear['TMIN'], thisyear['TMAX'], color=(0.73,0.21,0.41), alpha=0.6, step='mid')\n",
    "\n",
    "    pp.axis(xmin=1, xmax=365, ymin=-15, ymax=50)\n",
    "    \n",
    "    avg = 0.5*(np.nanmean(thisyear['TMIN']) + np.nanmean(thisyear['TMAX']))\n",
    "    pp.title(f'{station}, {year}: average temperature = {avg:.2f} C');"
   ]
  },
  {
   "cell_type": "code",
   "execution_count": null,
   "metadata": {},
   "outputs": [],
   "source": [
    "nyplot('NEW YORK', 2018)"
   ]
  }
 ],
 "metadata": {
  "kernelspec": {
   "display_name": "Python 3",
   "language": "python",
   "name": "python3"
  },
  "language_info": {
   "codemirror_mode": {
    "name": "ipython",
    "version": 3
   },
   "file_extension": ".py",
   "mimetype": "text/x-python",
   "name": "python",
   "nbconvert_exporter": "python",
   "pygments_lexer": "ipython3",
   "version": "3.7.3"
  }
 },
 "nbformat": 4,
 "nbformat_minor": 2
}
