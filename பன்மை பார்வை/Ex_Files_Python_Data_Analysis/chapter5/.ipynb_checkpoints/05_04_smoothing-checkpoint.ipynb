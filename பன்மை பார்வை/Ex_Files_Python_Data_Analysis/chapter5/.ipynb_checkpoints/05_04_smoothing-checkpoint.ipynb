{
 "cells": [
  {
   "cell_type": "markdown",
   "metadata": {},
   "source": [
    "# 05_04: Smoothing Time Series Data"
   ]
  },
  {
   "cell_type": "code",
   "execution_count": null,
   "metadata": {},
   "outputs": [],
   "source": [
    "import math\n",
    "import collections\n",
    "import urllib\n",
    "\n",
    "import numpy as np\n",
    "import pandas as pd\n",
    "import matplotlib.pyplot as pp\n",
    "\n",
    "%matplotlib inline"
   ]
  },
  {
   "cell_type": "code",
   "execution_count": null,
   "metadata": {},
   "outputs": [],
   "source": [
    "import getweather\n",
    "\n",
    "def fillnans(array):\n",
    "    x = np.arange(len(array))\n",
    "    good = ~np.isnan(array)\n",
    "\n",
    "    return np.interp(x, x[good], array[good])"
   ]
  },
  {
   "cell_type": "code",
   "execution_count": null,
   "metadata": {},
   "outputs": [],
   "source": [
    "hilo = getweather.getyear('HILO', ['TMIN','TMAX'], 2000)"
   ]
  },
  {
   "cell_type": "code",
   "execution_count": null,
   "metadata": {},
   "outputs": [],
   "source": [
    "hilo['TMIN'], hilo['TMAX'] = fillnans(hilo['TMIN']), fillnans(hilo['TMAX'])"
   ]
  },
  {
   "cell_type": "code",
   "execution_count": null,
   "metadata": {},
   "outputs": [],
   "source": [
    "np.mean(hilo['TMIN']), np.min(hilo['TMIN']), np.max(hilo['TMIN'])"
   ]
  },
  {
   "cell_type": "code",
   "execution_count": null,
   "metadata": {},
   "outputs": [],
   "source": [
    "pp.plot(hilo['TMIN'])\n",
    "\n",
    "# plot horizontal lines at mean, min, and max of TMIN data\n",
    "for value in [np.mean(hilo['TMIN']), np.min(hilo['TMIN']), np.max(hilo['TMIN'])]:\n",
    "    pp.axhline(value, linestyle=':')"
   ]
  },
  {
   "cell_type": "code",
   "execution_count": null,
   "metadata": {},
   "outputs": [],
   "source": [
    "mean, err = np.mean(hilo['TMIN']), math.sqrt(np.var(hilo['TMIN']))"
   ]
  },
  {
   "cell_type": "code",
   "execution_count": null,
   "metadata": {},
   "outputs": [],
   "source": [
    "pp.plot(hilo['TMIN'])\n",
    "\n",
    "# plot horizontal lines at mean, mean - std error, and mean + std error\n",
    "for value in [mean, mean - err, mean + err]:\n",
    "    pp.axhline(value, linestyle=':')"
   ]
  },
  {
   "cell_type": "code",
   "execution_count": null,
   "metadata": {},
   "outputs": [],
   "source": [
    "rain = getweather.getyear('HILO', ['PRCP'], 2000)['PRCP']"
   ]
  },
  {
   "cell_type": "code",
   "execution_count": null,
   "metadata": {},
   "outputs": [],
   "source": [
    "pp.plot(rain)"
   ]
  },
  {
   "cell_type": "code",
   "execution_count": null,
   "metadata": {},
   "outputs": [],
   "source": [
    "# show the effects of correlating a sparse vector\n",
    "# with a triangular mask\n",
    "\n",
    "x = np.array([0,0,0,0,1,0,0,0,0,0,1,0,0,0])\n",
    "\n",
    "mask = np.array([0.05,0.2,0.5,0.2,0.05])\n",
    "y = np.correlate(x, mask, 'same')\n",
    "\n",
    "pp.plot(x, 'o')\n",
    "\n",
    "pp.plot(y, 'x')"
   ]
  },
  {
   "cell_type": "code",
   "execution_count": null,
   "metadata": {},
   "outputs": [],
   "source": [
    "np.ones(10) / 10"
   ]
  },
  {
   "cell_type": "code",
   "execution_count": null,
   "metadata": {},
   "outputs": [],
   "source": [
    "# TMIN data, smoothed with uniform mask of length 10;\n",
    "# perform partial correlation on boundaries (mode = \"same\")\n",
    "\n",
    "pp.plot(hilo['TMIN'], '.', ms=3)\n",
    "pp.plot(np.correlate(hilo['TMIN'], np.ones(10)/10, 'same'))"
   ]
  },
  {
   "cell_type": "code",
   "execution_count": null,
   "metadata": {},
   "outputs": [],
   "source": [
    "# TMIN data, smoothed with uniform mask of length 10;\n",
    "# drop boundary values that cannot be fully correlated (mode = \"valid\")\n",
    "\n",
    "pp.plot(hilo['TMIN'], '.', ms=3)\n",
    "pp.plot(np.correlate(hilo['TMIN'], np.ones(10)/10, 'valid'))"
   ]
  },
  {
   "cell_type": "code",
   "execution_count": null,
   "metadata": {},
   "outputs": [],
   "source": [
    "# smooth any array\n",
    "\n",
    "def smooth(array, window=10, mode='valid'):\n",
    "    return np.correlate(array, np.ones(window)/window, mode)"
   ]
  },
  {
   "cell_type": "code",
   "execution_count": null,
   "metadata": {},
   "outputs": [],
   "source": [
    "pp.plot(hilo['TMIN'], '.', ms=3)\n",
    "pp.plot(smooth(hilo['TMIN'], 10))\n",
    "\n",
    "pp.plot(hilo['TMAX'], '.', ms=3)\n",
    "pp.plot(smooth(hilo['TMAX'], 10))"
   ]
  },
  {
   "cell_type": "code",
   "execution_count": null,
   "metadata": {},
   "outputs": [],
   "source": [
    "# load TMIN and TMAX data for a station and year; fill NaNs;\n",
    "# plot unsmoothed data as dots, smoothed data as lines,\n",
    "# dropping boundary values and adjusting x axis consistently\n",
    "\n",
    "def plotsmooth(station, year):\n",
    "    stationdata = getweather.getyear(station, ['TMIN','TMAX'], year)\n",
    "\n",
    "    for obs in ['TMIN','TMAX']:   \n",
    "        stationdata[obs] = fillnans(stationdata[obs])\n",
    "    \n",
    "        # thinner points\n",
    "        pp.plot(stationdata[obs], '.', ms=1)\n",
    "        pp.plot(range(10,356), smooth(stationdata[obs], 20))\n",
    "    \n",
    "    pp.title(station)\n",
    "    pp.axis(xmin=1, xmax=365, ymin=-10, ymax=45)"
   ]
  },
  {
   "cell_type": "code",
   "execution_count": null,
   "metadata": {},
   "outputs": [],
   "source": [
    "plotsmooth('HILO', 2000)\n",
    "plotsmooth('HILO', 2001)\n",
    "plotsmooth('HILO', 2002)\n",
    "\n",
    "pp.axis(ymin=15,ymax=30)"
   ]
  },
  {
   "cell_type": "code",
   "execution_count": null,
   "metadata": {},
   "outputs": [],
   "source": [
    "# plot four cities in a two-by-two grid\n",
    "\n",
    "pp.figure(figsize=(12,9))\n",
    "\n",
    "for i, city in enumerate(['PASADENA','NEW YORK','SAN DIEGO','MINNEAPOLIS']):\n",
    "    pp.subplot(2,2,i+1)\n",
    "    plotsmooth(city, 2000)"
   ]
  }
 ],
 "metadata": {
  "kernelspec": {
   "display_name": "Python 3",
   "language": "python",
   "name": "python3"
  },
  "language_info": {
   "codemirror_mode": {
    "name": "ipython",
    "version": 3
   },
   "file_extension": ".py",
   "mimetype": "text/x-python",
   "name": "python",
   "nbconvert_exporter": "python",
   "pygments_lexer": "ipython3",
   "version": "3.7.3"
  }
 },
 "nbformat": 4,
 "nbformat_minor": 2
}
