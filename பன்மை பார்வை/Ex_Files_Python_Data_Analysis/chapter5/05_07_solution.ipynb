{
 "cells": [
  {
   "cell_type": "markdown",
   "metadata": {},
   "source": [
    "# 05_07: Temperature Anomaly Solution"
   ]
  },
  {
   "cell_type": "code",
   "execution_count": null,
   "metadata": {},
   "outputs": [],
   "source": [
    "import math\n",
    "import collections\n",
    "import urllib\n",
    "\n",
    "import numpy as np\n",
    "import pandas as pd\n",
    "import matplotlib.pyplot as pp\n",
    "\n",
    "%matplotlib inline"
   ]
  },
  {
   "cell_type": "code",
   "execution_count": null,
   "metadata": {},
   "outputs": [],
   "source": [
    "import getweather\n",
    "\n",
    "def smooth(array, window=10, mode='valid'):\n",
    "    return np.correlate(array, np.ones(window)/window, mode)"
   ]
  },
  {
   "cell_type": "code",
   "execution_count": null,
   "metadata": {},
   "outputs": [],
   "source": [
    "# get all historical data for New York, stacked into array\n",
    "\n",
    "station = 'NEW YORK'\n",
    "\n",
    "allyears = np.arange(1880, 2020)\n",
    "\n",
    "alldata = np.vstack([getweather.getyear(station, ['TMIN','TMAX'], year)\n",
    "                     for year in allyears])"
   ]
  },
  {
   "cell_type": "code",
   "execution_count": null,
   "metadata": {},
   "outputs": [],
   "source": [
    "# compute (TMIN + TMAX)/2, averaged over days in every year\n",
    "allavg = np.nanmean(0.5 * (alldata['TMIN'] + alldata['TMAX']), axis=1)"
   ]
  },
  {
   "cell_type": "code",
   "execution_count": null,
   "metadata": {},
   "outputs": [],
   "source": [
    "allavg.shape"
   ]
  },
  {
   "cell_type": "code",
   "execution_count": null,
   "metadata": {},
   "outputs": [],
   "source": [
    "allyears.index(1945)"
   ]
  },
  {
   "cell_type": "code",
   "execution_count": null,
   "metadata": {},
   "outputs": [],
   "source": [
    "# find the index of values 1945 and 1955 in allyears\n",
    "list(allyears).index(1945), list(allyears).index(1955)"
   ]
  },
  {
   "cell_type": "code",
   "execution_count": null,
   "metadata": {},
   "outputs": [],
   "source": [
    "midcentury = np.nanmean(allavg[65:75])"
   ]
  },
  {
   "cell_type": "code",
   "execution_count": null,
   "metadata": {},
   "outputs": [],
   "source": [
    "midcentury"
   ]
  },
  {
   "cell_type": "code",
   "execution_count": null,
   "metadata": {},
   "outputs": [],
   "source": [
    "pp.plot(allyears, allavg - midcentury)"
   ]
  },
  {
   "cell_type": "code",
   "execution_count": null,
   "metadata": {},
   "outputs": [],
   "source": [
    "pp.plot(allyears[4:-4], smooth(allavg - midcentury, 9, 'valid'))"
   ]
  },
  {
   "cell_type": "code",
   "execution_count": null,
   "metadata": {},
   "outputs": [],
   "source": [
    "# compute and plot the temperature anomaly time series for any station\n",
    "\n",
    "allyears = np.arange(1880, 2020)\n",
    "\n",
    "def plotanomaly(station):\n",
    "    # grab the data\n",
    "    alldata = np.vstack([getweather.getyear(station, ['TMIN','TMAX'], year)\n",
    "                         for year in allyears])\n",
    "    \n",
    "    # make yearly averages, and then the midcentury average\n",
    "    allavg = np.nanmean(0.5 * (alldata[:,:]['TMIN'] + alldata[:,:]['TMAX']), axis=1)\n",
    "    midcentury = np.nanmean(allavg[65:75])\n",
    "    \n",
    "    # plot with smoothing, adding a label that we can show in a legend\n",
    "    pp.plot(allyears[4:-4], smooth(allavg - midcentury, 9, 'valid'), label=station)\n",
    "    \n",
    "    # set a reasonable range\n",
    "    pp.axis(ymin=-3,ymax=3)"
   ]
  },
  {
   "cell_type": "code",
   "execution_count": null,
   "metadata": {},
   "outputs": [],
   "source": [
    "plotanomaly('NEW YORK')\n",
    "plotanomaly('PASADENA')\n",
    "plotanomaly('MINNEAPOLIS')\n",
    "\n",
    "pp.legend()"
   ]
  }
 ],
 "metadata": {
  "kernelspec": {
   "display_name": "Python 3",
   "language": "python",
   "name": "python3"
  },
  "language_info": {
   "codemirror_mode": {
    "name": "ipython",
    "version": 3
   },
   "file_extension": ".py",
   "mimetype": "text/x-python",
   "name": "python",
   "nbconvert_exporter": "python",
   "pygments_lexer": "ipython3",
   "version": "3.7.3"
  }
 },
 "nbformat": 4,
 "nbformat_minor": 2
}
