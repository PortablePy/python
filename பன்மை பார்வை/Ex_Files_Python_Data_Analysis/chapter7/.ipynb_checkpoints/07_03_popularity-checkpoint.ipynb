{
 "cells": [
  {
   "cell_type": "markdown",
   "metadata": {},
   "source": [
    "# 07_03: Name Popularity"
   ]
  },
  {
   "cell_type": "code",
   "execution_count": null,
   "metadata": {},
   "outputs": [],
   "source": [
    "import math\n",
    "import collections\n",
    "\n",
    "import numpy as np\n",
    "import pandas as pd\n",
    "import matplotlib.pyplot as pp\n",
    "\n",
    "%matplotlib inline"
   ]
  },
  {
   "cell_type": "code",
   "execution_count": null,
   "metadata": {},
   "outputs": [],
   "source": [
    "pd.options.display.max_rows = 6"
   ]
  },
  {
   "cell_type": "code",
   "execution_count": null,
   "metadata": {},
   "outputs": [],
   "source": [
    "allyears = pd.read_csv('allyears.csv.gz')"
   ]
  },
  {
   "cell_type": "code",
   "execution_count": null,
   "metadata": {},
   "outputs": [],
   "source": [
    "allyears"
   ]
  },
  {
   "cell_type": "code",
   "execution_count": null,
   "metadata": {},
   "outputs": [],
   "source": [
    "allyears_indexed = allyears.set_index(['sex','name','year']).sort_index()"
   ]
  },
  {
   "cell_type": "code",
   "execution_count": null,
   "metadata": {},
   "outputs": [],
   "source": [
    "allyears_indexed.loc[('F','Mary')]"
   ]
  },
  {
   "cell_type": "code",
   "execution_count": null,
   "metadata": {},
   "outputs": [],
   "source": [
    "pp.plot(allyears_indexed.loc[('F','Mary')])"
   ]
  },
  {
   "cell_type": "code",
   "execution_count": null,
   "metadata": {},
   "outputs": [],
   "source": [
    "# normalize F/Mary time series by the total number of births each year\n",
    "pp.plot(allyears_indexed.loc[('F','Mary')] / allyears.groupby('year').sum())"
   ]
  },
  {
   "cell_type": "code",
   "execution_count": null,
   "metadata": {},
   "outputs": [],
   "source": [
    "# plot number of sex/name babies as a function of year\n",
    "\n",
    "def plotname(sex, name):\n",
    "    data = allyears_indexed.loc[(sex,name)]\n",
    "    \n",
    "    pp.plot(data.index, data.values, label=name)\n",
    "    pp.axis(xmin=1880, xmax=2018)"
   ]
  },
  {
   "cell_type": "code",
   "execution_count": null,
   "metadata": {},
   "outputs": [],
   "source": [
    "# combine several \"plotname()\" plots for given sex and list of names\n",
    "\n",
    "def comparenames(sex, names):\n",
    "    pp.figure(figsize=(12,2.5))\n",
    "\n",
    "    for name in names:\n",
    "        plotname(sex, name)\n",
    "\n",
    "    pp.legend()"
   ]
  },
  {
   "cell_type": "code",
   "execution_count": null,
   "metadata": {},
   "outputs": [],
   "source": [
    "comparenames('M', ['Michael','John','David','Martin'])"
   ]
  },
  {
   "cell_type": "code",
   "execution_count": null,
   "metadata": {},
   "outputs": [],
   "source": [
    "comparenames('F', ['Emily','Anna','Claire','Elizabeth'])"
   ]
  },
  {
   "cell_type": "code",
   "execution_count": null,
   "metadata": {},
   "outputs": [],
   "source": [
    "claires = ['Claire','Clare','Clara','Chiara','Ciara']"
   ]
  },
  {
   "cell_type": "code",
   "execution_count": null,
   "metadata": {},
   "outputs": [],
   "source": [
    "comparenames('F', claires)"
   ]
  },
  {
   "cell_type": "code",
   "execution_count": null,
   "metadata": {},
   "outputs": [],
   "source": [
    "allyears_indexed.loc[('F',claires),:]"
   ]
  },
  {
   "cell_type": "code",
   "execution_count": null,
   "metadata": {},
   "outputs": [],
   "source": [
    "# \"pivot\" the third level of the multiindex (years) to create a row of columns;\n",
    "# result is names (rows) x years (columns)\n",
    "allyears_indexed.loc[('F',claires),:].unstack(level=2)"
   ]
  },
  {
   "cell_type": "code",
   "execution_count": null,
   "metadata": {},
   "outputs": [],
   "source": [
    "# \"pivot\" the third level of the multiindex (names) to create a row of columns\n",
    "allyears_indexed.loc[('F',claires),:].unstack(level=1)"
   ]
  },
  {
   "cell_type": "code",
   "execution_count": null,
   "metadata": {},
   "outputs": [],
   "source": [
    "# make a stacked (cumulative) area plot using names x years table \n",
    "\n",
    "pp.figure(figsize=(12,2.5))\n",
    "pp.stackplot(range(1880,2019),\n",
    "             allyears_indexed.loc[('F',claires),:].unstack(level=2));"
   ]
  },
  {
   "cell_type": "code",
   "execution_count": null,
   "metadata": {},
   "outputs": [],
   "source": [
    "# fix stacked plot by filling NaNs with zeros, adding labels, setting axis range\n",
    "\n",
    "pp.figure(figsize=(12,2.5))\n",
    "pp.stackplot(range(1880,2019),\n",
    "             allyears_indexed.loc[('F',claires),:].unstack(level=2).fillna(0),\n",
    "             labels=claires);\n",
    "\n",
    "pp.legend(loc='upper left')\n",
    "pp.axis(xmin=1880, xmax=2018);"
   ]
  }
 ],
 "metadata": {
  "kernelspec": {
   "display_name": "Python 3",
   "language": "python",
   "name": "python3"
  },
  "language_info": {
   "codemirror_mode": {
    "name": "ipython",
    "version": 3
   },
   "file_extension": ".py",
   "mimetype": "text/x-python",
   "name": "python",
   "nbconvert_exporter": "python",
   "pygments_lexer": "ipython3",
   "version": "3.7.3"
  }
 },
 "nbformat": 4,
 "nbformat_minor": 2
}
