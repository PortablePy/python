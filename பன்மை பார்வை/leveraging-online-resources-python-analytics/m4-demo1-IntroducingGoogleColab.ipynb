{
 "cells": [
  {
   "cell_type": "code",
   "execution_count": 0,
   "metadata": {
    "colab": {
     "base_uri": "https://localhost:8080/",
     "height": 108,
     "resources": {
      "http://localhost:8080/nbextensions/google.colab/files.js": {
       "data": "Ly8gQ29weXJpZ2h0IDIwMTcgR29vZ2xlIExMQwovLwovLyBMaWNlbnNlZCB1bmRlciB0aGUgQXBhY2hlIExpY2Vuc2UsIFZlcnNpb24gMi4wICh0aGUgIkxpY2Vuc2UiKTsKLy8geW91IG1heSBub3QgdXNlIHRoaXMgZmlsZSBleGNlcHQgaW4gY29tcGxpYW5jZSB3aXRoIHRoZSBMaWNlbnNlLgovLyBZb3UgbWF5IG9idGFpbiBhIGNvcHkgb2YgdGhlIExpY2Vuc2UgYXQKLy8KLy8gICAgICBodHRwOi8vd3d3LmFwYWNoZS5vcmcvbGljZW5zZXMvTElDRU5TRS0yLjAKLy8KLy8gVW5sZXNzIHJlcXVpcmVkIGJ5IGFwcGxpY2FibGUgbGF3IG9yIGFncmVlZCB0byBpbiB3cml0aW5nLCBzb2Z0d2FyZQovLyBkaXN0cmlidXRlZCB1bmRlciB0aGUgTGljZW5zZSBpcyBkaXN0cmlidXRlZCBvbiBhbiAiQVMgSVMiIEJBU0lTLAovLyBXSVRIT1VUIFdBUlJBTlRJRVMgT1IgQ09ORElUSU9OUyBPRiBBTlkgS0lORCwgZWl0aGVyIGV4cHJlc3Mgb3IgaW1wbGllZC4KLy8gU2VlIHRoZSBMaWNlbnNlIGZvciB0aGUgc3BlY2lmaWMgbGFuZ3VhZ2UgZ292ZXJuaW5nIHBlcm1pc3Npb25zIGFuZAovLyBsaW1pdGF0aW9ucyB1bmRlciB0aGUgTGljZW5zZS4KCi8qKgogKiBAZmlsZW92ZXJ2aWV3IEhlbHBlcnMgZm9yIGdvb2dsZS5jb2xhYiBQeXRob24gbW9kdWxlLgogKi8KKGZ1bmN0aW9uKHNjb3BlKSB7CmZ1bmN0aW9uIHNwYW4odGV4dCwgc3R5bGVBdHRyaWJ1dGVzID0ge30pIHsKICBjb25zdCBlbGVtZW50ID0gZG9jdW1lbnQuY3JlYXRlRWxlbWVudCgnc3BhbicpOwogIGVsZW1lbnQudGV4dENvbnRlbnQgPSB0ZXh0OwogIGZvciAoY29uc3Qga2V5IG9mIE9iamVjdC5rZXlzKHN0eWxlQXR0cmlidXRlcykpIHsKICAgIGVsZW1lbnQuc3R5bGVba2V5XSA9IHN0eWxlQXR0cmlidXRlc1trZXldOwogIH0KICByZXR1cm4gZWxlbWVudDsKfQoKLy8gTWF4IG51bWJlciBvZiBieXRlcyB3aGljaCB3aWxsIGJlIHVwbG9hZGVkIGF0IGEgdGltZS4KY29uc3QgTUFYX1BBWUxPQURfU0laRSA9IDEwMCAqIDEwMjQ7Ci8vIE1heCBhbW91bnQgb2YgdGltZSB0byBibG9jayB3YWl0aW5nIGZvciB0aGUgdXNlci4KY29uc3QgRklMRV9DSEFOR0VfVElNRU9VVF9NUyA9IDMwICogMTAwMDsKCmZ1bmN0aW9uIF91cGxvYWRGaWxlcyhpbnB1dElkLCBvdXRwdXRJZCkgewogIGNvbnN0IHN0ZXBzID0gdXBsb2FkRmlsZXNTdGVwKGlucHV0SWQsIG91dHB1dElkKTsKICBjb25zdCBvdXRwdXRFbGVtZW50ID0gZG9jdW1lbnQuZ2V0RWxlbWVudEJ5SWQob3V0cHV0SWQpOwogIC8vIENhY2hlIHN0ZXBzIG9uIHRoZSBvdXRwdXRFbGVtZW50IHRvIG1ha2UgaXQgYXZhaWxhYmxlIGZvciB0aGUgbmV4dCBjYWxsCiAgLy8gdG8gdXBsb2FkRmlsZXNDb250aW51ZSBmcm9tIFB5dGhvbi4KICBvdXRwdXRFbGVtZW50LnN0ZXBzID0gc3RlcHM7CgogIHJldHVybiBfdXBsb2FkRmlsZXNDb250aW51ZShvdXRwdXRJZCk7Cn0KCi8vIFRoaXMgaXMgcm91Z2hseSBhbiBhc3luYyBnZW5lcmF0b3IgKG5vdCBzdXBwb3J0ZWQgaW4gdGhlIGJyb3dzZXIgeWV0KSwKLy8gd2hlcmUgdGhlcmUgYXJlIG11bHRpcGxlIGFzeW5jaHJvbm91cyBzdGVwcyBhbmQgdGhlIFB5dGhvbiBzaWRlIGlzIGdvaW5nCi8vIHRvIHBvbGwgZm9yIGNvbXBsZXRpb24gb2YgZWFjaCBzdGVwLgovLyBUaGlzIHVzZXMgYSBQcm9taXNlIHRvIGJsb2NrIHRoZSBweXRob24gc2lkZSBvbiBjb21wbGV0aW9uIG9mIGVhY2ggc3RlcCwKLy8gdGhlbiBwYXNzZXMgdGhlIHJlc3VsdCBvZiB0aGUgcHJldmlvdXMgc3RlcCBhcyB0aGUgaW5wdXQgdG8gdGhlIG5leHQgc3RlcC4KZnVuY3Rpb24gX3VwbG9hZEZpbGVzQ29udGludWUob3V0cHV0SWQpIHsKICBjb25zdCBvdXRwdXRFbGVtZW50ID0gZG9jdW1lbnQuZ2V0RWxlbWVudEJ5SWQob3V0cHV0SWQpOwogIGNvbnN0IHN0ZXBzID0gb3V0cHV0RWxlbWVudC5zdGVwczsKCiAgY29uc3QgbmV4dCA9IHN0ZXBzLm5leHQob3V0cHV0RWxlbWVudC5sYXN0UHJvbWlzZVZhbHVlKTsKICByZXR1cm4gUHJvbWlzZS5yZXNvbHZlKG5leHQudmFsdWUucHJvbWlzZSkudGhlbigodmFsdWUpID0+IHsKICAgIC8vIENhY2hlIHRoZSBsYXN0IHByb21pc2UgdmFsdWUgdG8gbWFrZSBpdCBhdmFpbGFibGUgdG8gdGhlIG5leHQKICAgIC8vIHN0ZXAgb2YgdGhlIGdlbmVyYXRvci4KICAgIG91dHB1dEVsZW1lbnQubGFzdFByb21pc2VWYWx1ZSA9IHZhbHVlOwogICAgcmV0dXJuIG5leHQudmFsdWUucmVzcG9uc2U7CiAgfSk7Cn0KCi8qKgogKiBHZW5lcmF0b3IgZnVuY3Rpb24gd2hpY2ggaXMgY2FsbGVkIGJldHdlZW4gZWFjaCBhc3luYyBzdGVwIG9mIHRoZSB1cGxvYWQKICogcHJvY2Vzcy4KICogQHBhcmFtIHtzdHJpbmd9IGlucHV0SWQgRWxlbWVudCBJRCBvZiB0aGUgaW5wdXQgZmlsZSBwaWNrZXIgZWxlbWVudC4KICogQHBhcmFtIHtzdHJpbmd9IG91dHB1dElkIEVsZW1lbnQgSUQgb2YgdGhlIG91dHB1dCBkaXNwbGF5LgogKiBAcmV0dXJuIHshSXRlcmFibGU8IU9iamVjdD59IEl0ZXJhYmxlIG9mIG5leHQgc3RlcHMuCiAqLwpmdW5jdGlvbiogdXBsb2FkRmlsZXNTdGVwKGlucHV0SWQsIG91dHB1dElkKSB7CiAgY29uc3QgaW5wdXRFbGVtZW50ID0gZG9jdW1lbnQuZ2V0RWxlbWVudEJ5SWQoaW5wdXRJZCk7CiAgaW5wdXRFbGVtZW50LmRpc2FibGVkID0gZmFsc2U7CgogIGNvbnN0IG91dHB1dEVsZW1lbnQgPSBkb2N1bWVudC5nZXRFbGVtZW50QnlJZChvdXRwdXRJZCk7CiAgb3V0cHV0RWxlbWVudC5pbm5lckhUTUwgPSAnJzsKCiAgY29uc3QgcGlja2VkUHJvbWlzZSA9IG5ldyBQcm9taXNlKChyZXNvbHZlKSA9PiB7CiAgICBpbnB1dEVsZW1lbnQuYWRkRXZlbnRMaXN0ZW5lcignY2hhbmdlJywgKGUpID0+IHsKICAgICAgcmVzb2x2ZShlLnRhcmdldC5maWxlcyk7CiAgICB9KTsKICB9KTsKCiAgY29uc3QgY2FuY2VsID0gZG9jdW1lbnQuY3JlYXRlRWxlbWVudCgnYnV0dG9uJyk7CiAgaW5wdXRFbGVtZW50LnBhcmVudEVsZW1lbnQuYXBwZW5kQ2hpbGQoY2FuY2VsKTsKICBjYW5jZWwudGV4dENvbnRlbnQgPSAnQ2FuY2VsIHVwbG9hZCc7CiAgY29uc3QgY2FuY2VsUHJvbWlzZSA9IG5ldyBQcm9taXNlKChyZXNvbHZlKSA9PiB7CiAgICBjYW5jZWwub25jbGljayA9ICgpID0+IHsKICAgICAgcmVzb2x2ZShudWxsKTsKICAgIH07CiAgfSk7CgogIC8vIENhbmNlbCB1cGxvYWQgaWYgdXNlciBoYXNuJ3QgcGlja2VkIGFueXRoaW5nIGluIHRpbWVvdXQuCiAgY29uc3QgdGltZW91dFByb21pc2UgPSBuZXcgUHJvbWlzZSgocmVzb2x2ZSkgPT4gewogICAgc2V0VGltZW91dCgoKSA9PiB7CiAgICAgIHJlc29sdmUobnVsbCk7CiAgICB9LCBGSUxFX0NIQU5HRV9USU1FT1VUX01TKTsKICB9KTsKCiAgLy8gV2FpdCBmb3IgdGhlIHVzZXIgdG8gcGljayB0aGUgZmlsZXMuCiAgY29uc3QgZmlsZXMgPSB5aWVsZCB7CiAgICBwcm9taXNlOiBQcm9taXNlLnJhY2UoW3BpY2tlZFByb21pc2UsIHRpbWVvdXRQcm9taXNlLCBjYW5jZWxQcm9taXNlXSksCiAgICByZXNwb25zZTogewogICAgICBhY3Rpb246ICdzdGFydGluZycsCiAgICB9CiAgfTsKCiAgaWYgKCFmaWxlcykgewogICAgcmV0dXJuIHsKICAgICAgcmVzcG9uc2U6IHsKICAgICAgICBhY3Rpb246ICdjb21wbGV0ZScsCiAgICAgIH0KICAgIH07CiAgfQoKICBjYW5jZWwucmVtb3ZlKCk7CgogIC8vIERpc2FibGUgdGhlIGlucHV0IGVsZW1lbnQgc2luY2UgZnVydGhlciBwaWNrcyBhcmUgbm90IGFsbG93ZWQuCiAgaW5wdXRFbGVtZW50LmRpc2FibGVkID0gdHJ1ZTsKCiAgZm9yIChjb25zdCBmaWxlIG9mIGZpbGVzKSB7CiAgICBjb25zdCBsaSA9IGRvY3VtZW50LmNyZWF0ZUVsZW1lbnQoJ2xpJyk7CiAgICBsaS5hcHBlbmQoc3BhbihmaWxlLm5hbWUsIHtmb250V2VpZ2h0OiAnYm9sZCd9KSk7CiAgICBsaS5hcHBlbmQoc3BhbigKICAgICAgICBgKCR7ZmlsZS50eXBlIHx8ICduL2EnfSkgLSAke2ZpbGUuc2l6ZX0gYnl0ZXMsIGAgKwogICAgICAgIGBsYXN0IG1vZGlmaWVkOiAkewogICAgICAgICAgICBmaWxlLmxhc3RNb2RpZmllZERhdGUgPyBmaWxlLmxhc3RNb2RpZmllZERhdGUudG9Mb2NhbGVEYXRlU3RyaW5nKCkgOgogICAgICAgICAgICAgICAgICAgICAgICAgICAgICAgICAgICAnbi9hJ30gLSBgKSk7CiAgICBjb25zdCBwZXJjZW50ID0gc3BhbignMCUgZG9uZScpOwogICAgbGkuYXBwZW5kQ2hpbGQocGVyY2VudCk7CgogICAgb3V0cHV0RWxlbWVudC5hcHBlbmRDaGlsZChsaSk7CgogICAgY29uc3QgZmlsZURhdGFQcm9taXNlID0gbmV3IFByb21pc2UoKHJlc29sdmUpID0+IHsKICAgICAgY29uc3QgcmVhZGVyID0gbmV3IEZpbGVSZWFkZXIoKTsKICAgICAgcmVhZGVyLm9ubG9hZCA9IChlKSA9PiB7CiAgICAgICAgcmVzb2x2ZShlLnRhcmdldC5yZXN1bHQpOwogICAgICB9OwogICAgICByZWFkZXIucmVhZEFzQXJyYXlCdWZmZXIoZmlsZSk7CiAgICB9KTsKICAgIC8vIFdhaXQgZm9yIHRoZSBkYXRhIHRvIGJlIHJlYWR5LgogICAgbGV0IGZpbGVEYXRhID0geWllbGQgewogICAgICBwcm9taXNlOiBmaWxlRGF0YVByb21pc2UsCiAgICAgIHJlc3BvbnNlOiB7CiAgICAgICAgYWN0aW9uOiAnY29udGludWUnLAogICAgICB9CiAgICB9OwoKICAgIC8vIFVzZSBhIGNodW5rZWQgc2VuZGluZyB0byBhdm9pZCBtZXNzYWdlIHNpemUgbGltaXRzLiBTZWUgYi82MjExNTY2MC4KICAgIGxldCBwb3NpdGlvbiA9IDA7CiAgICB3aGlsZSAocG9zaXRpb24gPCBmaWxlRGF0YS5ieXRlTGVuZ3RoKSB7CiAgICAgIGNvbnN0IGxlbmd0aCA9IE1hdGgubWluKGZpbGVEYXRhLmJ5dGVMZW5ndGggLSBwb3NpdGlvbiwgTUFYX1BBWUxPQURfU0laRSk7CiAgICAgIGNvbnN0IGNodW5rID0gbmV3IFVpbnQ4QXJyYXkoZmlsZURhdGEsIHBvc2l0aW9uLCBsZW5ndGgpOwogICAgICBwb3NpdGlvbiArPSBsZW5ndGg7CgogICAgICBjb25zdCBiYXNlNjQgPSBidG9hKFN0cmluZy5mcm9tQ2hhckNvZGUuYXBwbHkobnVsbCwgY2h1bmspKTsKICAgICAgeWllbGQgewogICAgICAgIHJlc3BvbnNlOiB7CiAgICAgICAgICBhY3Rpb246ICdhcHBlbmQnLAogICAgICAgICAgZmlsZTogZmlsZS5uYW1lLAogICAgICAgICAgZGF0YTogYmFzZTY0LAogICAgICAgIH0sCiAgICAgIH07CiAgICAgIHBlcmNlbnQudGV4dENvbnRlbnQgPQogICAgICAgICAgYCR7TWF0aC5yb3VuZCgocG9zaXRpb24gLyBmaWxlRGF0YS5ieXRlTGVuZ3RoKSAqIDEwMCl9JSBkb25lYDsKICAgIH0KICB9CgogIC8vIEFsbCBkb25lLgogIHlpZWxkIHsKICAgIHJlc3BvbnNlOiB7CiAgICAgIGFjdGlvbjogJ2NvbXBsZXRlJywKICAgIH0KICB9Owp9CgpzY29wZS5nb29nbGUgPSBzY29wZS5nb29nbGUgfHwge307CnNjb3BlLmdvb2dsZS5jb2xhYiA9IHNjb3BlLmdvb2dsZS5jb2xhYiB8fCB7fTsKc2NvcGUuZ29vZ2xlLmNvbGFiLl9maWxlcyA9IHsKICBfdXBsb2FkRmlsZXMsCiAgX3VwbG9hZEZpbGVzQ29udGludWUsCn07Cn0pKHNlbGYpOwo=",
       "headers": [
        [
         "content-type",
         "application/javascript"
        ]
       ],
       "ok": true,
       "status": 200,
       "status_text": ""
      }
     }
    },
    "colab_type": "code",
    "executionInfo": {
     "elapsed": 10663,
     "status": "ok",
     "timestamp": 1569318031801,
     "user": {
      "displayName": "Spikey Engineer",
      "photoUrl": "",
      "userId": "00295138978233683076"
     },
     "user_tz": -330
    },
    "id": "ZAgaAIrXk2Kq",
    "outputId": "ca1581a5-39e5-456f-93ef-cb9732028ccd"
   },
   "outputs": [
    {
     "data": {
      "text/html": [
       "\n",
       "     <input type=\"file\" id=\"files-242d1de0-ab79-4319-9e19-8759011dc435\" name=\"files[]\" multiple disabled />\n",
       "     <output id=\"result-242d1de0-ab79-4319-9e19-8759011dc435\">\n",
       "      Upload widget is only available when the cell has been executed in the\n",
       "      current browser session. Please rerun this cell to enable.\n",
       "      </output>\n",
       "      <script src=\"/nbextensions/google.colab/files.js\"></script> "
      ],
      "text/plain": [
       "<IPython.core.display.HTML object>"
      ]
     },
     "metadata": {
      "tags": []
     },
     "output_type": "display_data"
    },
    {
     "name": "stdout",
     "output_type": "stream",
     "text": [
      "Saving advertising_cleaned.csv to advertising_cleaned.csv\n"
     ]
    },
    {
     "data": {
      "text/plain": [
       "{'advertising_cleaned.csv': b\"TimeSpent,Age,AreaIncome,DailyInternetUsage,AdHeadline,City,Male,Country,Timestamp,Clicked\\r\\n80.23,31,68441.85,193.77,Monitored national standardization,West Jodi,1,Nauru,04/04/16 1:39,0\\r\\n69.47,26,59785.94,236.5,Organic bottom-line service-desk,Davidton,0,San Marino,13/03/16 20:35,0\\r\\n74.15,29,54806.18,245.89,Triple-buffered reciprocal time-frame,West Terrifurt,1,Italy,10/01/16 2:31,0\\r\\n68.37,35,73889.99,225.58,Robust logistical utilization,South Manuel,0,Iceland,03/06/16 3:36,0\\r\\n59.99,23,59761.56,226.74,Sharable client-driven software,Jamieberg,1,Norway,19/05/16 14:30,0\\r\\n88.91,33,53852.85,208.36,Enhanced dedicated support,Brandonstad,0,Myanmar,28/01/16 20:59,0\\r\\n66,48,24593.33,131.76,Reactive local challenge,Port Jefferybury,1,Australia,07/03/16 1:40,1\\r\\n74.53,30,68862,221.51,Configurable coherent function,West Colin,1,Grenada,18/04/16 9:33,0\\r\\n69.88,20,55642.32,183.82,Mandatory homogeneous architecture,Ramirezton,1,Ghana,11/07/16 1:42,0\\r\\n47.64,49,45632.51,122.02,Centralized neutral neural-net,West Brandonton,0,Qatar,16/03/16 20:19,1\\r\\n83.07,37,62491.01,230.87,Team-oriented grid-enabled Local Area Network,East Theresashire,1,Burundi,08/05/16 8:10,0\\r\\n69.57,48,51636.92,113.12,Centralized content-based focus group,West Katiefurt,1,Egypt,03/06/16 1:14,1\\r\\n79.52,24,51739.63,214.23,Synergistic fresh-thinking array,North Tara,0,Bosnia and Herzegovina,20/04/16 21:49,0\\r\\n42.95,33,30976,143.56,Grass-roots coherent extranet,West William,0,Barbados,24/03/16 9:31,1\\r\\n63.45,23,52182.23,140.64,Persistent demand-driven interface,New Travistown,1,Spain,09/03/16 3:41,1\\r\\n55.39,37,23936.86,129.41,Customizable multi-tasking website,West Dylanberg,0,Palestinian Territory,30/01/16 19:20,1\\r\\n82.03,41,71511.08,187.53,Intuitive dynamic attitude,Pruittmouth,0,Afghanistan,02/05/16 7:00,0\\r\\n54.7,36,31087.54,118.39,Grass-roots solution-oriented conglomeration,Jessicastad,1,British Indian Ocean Territory (Chagos Archipelago),13/02/16 7:53,1\\r\\n74.58,40,23821.72,135.51,Advanced 24/7 productivity,Millertown,1,Russian Federation,27/02/16 4:43,1\\r\\n77.22,30,64802.33,224.44,Object-based reciprocal knowledgebase,Port Jacqueline,1,Cameroon,05/01/16 7:52,0\\r\\n84.59,35,60015.57,226.54,Streamlined non-volatile analyzer,Lake Nicole,1,Cameroon,18/03/16 13:22,0\\r\\n41.49,52,32635.7,164.83,Mandatory disintermediate utilization,South John,0,Burundi,20/05/16 8:49,1\\r\\n87.29,36,61628.72,209.93,Future-proofed methodical protocol,Pamelamouth,1,Korea,23/03/16 9:43,0\\r\\n41.39,41,68962.32,167.22,Exclusive neutral parallelism,Harperborough,0,Tokelau,13/06/16 17:27,1\\r\\n78.74,28,64828,204.79,Public-key foreground groupware,Port Danielleberg,1,Monaco,27/05/16 15:25,0\\r\\n48.53,28,38067.08,134.14,Ameliorated client-driven forecast,West Jeremyside,1,Tuvalu,08/02/16 10:46,1\\r\\n51.95,52,58295.82,129.23,Monitored systematic hierarchy,South Cathyfurt,0,Greece,19/07/16 8:32,1\\r\\n70.2,34,32708.94,119.2,Open-architected impactful productivity,Palmerside,0,British Virgin Islands,14/04/16 5:08,1\\r\\n76.02,22,46179.97,209.82,Business-focused value-added definition,West Guybury,0,Bouvet Island (Bouvetoya),27/01/16 12:38,0\\r\\n67.64,35,51473.28,267.01,Programmable asymmetric data-warehouse,Phelpschester,1,Peru,02/07/16 20:23,0\\r\\n86.41,28,45593.93,207.48,Digitized static capability,Lake Melindamouth,1,Aruba,01/03/16 22:13,0\\r\\n59.05,57,25583.29,169.23,Digitized global capability,North Richardburgh,1,Maldives,15/07/16 5:05,1\\r\\n55.6,23,30227.98,212.58,Multi-layered 4thgeneration knowledge user,Port Cassie,0,Senegal,14/01/16 14:00,1\\r\\n57.64,57,45580.92,133.81,Synchronized dedicated service-desk,New Thomas,1,Dominica,15/03/16 3:12,1\\r\\n84.37,30,61389.5,201.58,Synchronized systemic hierarchy,Johnstad,0,Luxembourg,12/04/16 3:26,0\\r\\n62.26,53,56770.79,125.45,Profound stable product,West Aprilport,1,Montenegro,07/04/16 15:18,1\\r\\n65.82,39,76435.3,221.94,Reactive demand-driven capacity,Kellytown,0,Ukraine,09/02/16 5:28,0\\r\\n50.43,46,57425.87,119.32,Persevering needs-based open architecture,Charlesport,1,Saint Helena,07/05/16 17:11,1\\r\\n38.93,39,27508.41,162.08,Intuitive exuding service-desk,Millerchester,0,Liberia,11/03/16 6:49,1\\r\\n84.98,29,57691.95,202.61,Innovative user-facing extranet,Mackenziemouth,0,Russian Federation,27/04/16 9:27,0\\r\\n64.24,30,59784.18,252.36,Front-line intermediate database,Zacharystad,0,Tunisia,16/04/16 11:53,0\\r\\n82.52,32,66572.39,198.11,Persevering exuding system engine,North Joshua,1,Turkmenistan,08/05/16 15:38,0\\r\\n81.38,31,64929.61,212.3,Balanced dynamic application,Bowenview,0,Saint Helena,08/02/16 0:23,0\\r\\n80.47,25,57519.64,204.86,Reduced global support,Jamesberg,0,Niger,11/02/16 13:26,0\\r\\n37.68,52,53575.48,172.83,Organic leadingedge secured line,Lake Cassandraport,1,Turkmenistan,17/02/16 13:16,1\\r\\n69.62,20,50983.75,202.25,Business-focused encompassing neural-net,New Sharon,1,Qatar,26/02/16 22:46,0\\r\\n85.4,43,67058.72,198.72,Triple-buffered demand-driven alliance,Johnport,0,Sri Lanka,08/06/16 18:54,0\\r\\n44.33,37,52723.34,123.72,Visionary maximized process improvement,Hamiltonfort,1,Trinidad and Tobago,08/01/16 9:32,1\\r\\n48.01,46,54286.1,119.93,Centralized 24/7 installation,West Christopher,0,Italy,25/04/16 11:01,1\\r\\n73.18,23,61526.25,196.71,Organized static focus group,Hollandberg,1,British Virgin Islands,04/04/16 7:07,0\\r\\n79.94,28,58526.04,225.29,Visionary reciprocal circuit,Odomville,0,United Kingdom,03/05/16 21:19,0\\r\\n33.33,45,53350.11,193.58,Pre-emptive value-added workforce,East Samanthashire,1,Guinea-Bissau,17/01/16 9:31,1\\r\\n50.33,50,62657.53,133.2,Sharable analyzing alliance,South Lauraton,1,Micronesia,02/03/16 4:57,1\\r\\n62.31,47,62722.57,119.3,Team-oriented encompassing portal,Amandahaven,0,Turkey,14/02/16 7:36,1\\r\\n80.6,31,67479.62,177.55,Sharable bottom-line solution,Thomasview,0,Croatia,07/04/16 3:56,0\\r\\n65.19,36,75254.88,150.61,Cross-group regional website,Garciaside,0,Israel,17/02/16 11:42,1\\r\\n44.98,49,52336.64,129.31,Organized global model,Port Sarahshire,0,Svalbard & Jan Mayen Islands,10/04/16 0:13,1\\r\\n77.63,29,56113.37,239.22,Upgradable asynchronous circuit,Port Gregory,0,Azerbaijan,14/02/16 17:05,0\\r\\n41.82,41,24852.9,156.36,Phased transitional instruction set,Brendachester,0,Iran,26/05/16 22:49,1\\r\\n85.61,27,47708.42,183.43,Customer-focused empowering ability,Lake Amy,0,Burundi,30/04/16 8:07,0\\r\\n85.84,34,64654.66,192.93,Front-line heuristic data-warehouse,Lake Annashire,1,Saint Vincent and the Grenadines,15/06/16 5:30,0\\r\\n72.08,29,71228.44,169.5,Stand-alone national attitude,Smithburgh,0,Burundi,09/03/16 14:45,0\\r\\n86.06,32,61601.05,178.92,Focused upward-trending core,North Leonmouth,1,Bulgaria,31/03/16 20:55,0\\r\\n45.96,45,66281.46,141.22,Streamlined cohesive conglomeration,Robertfurt,0,Christmas Island,03/06/16 0:55,1\\r\\n62.42,29,73910.9,198.5,Upgradable optimizing toolset,Jasminefort,1,Canada,10/03/16 23:36,0\\r\\n63.89,40,51317.33,105.22,Synchronized user-facing core,Jensenborough,0,Rwanda,08/01/16 0:17,1\\r\\n35.33,32,51510.18,200.22,Organized client-driven alliance,Bradleyburgh,0,Turks and Caicos Islands,05/06/16 22:11,1\\r\\n75.74,25,61005.87,215.25,Ergonomic multi-state structure,New Sheila,1,Tunisia,16/01/16 11:35,0\\r\\n78.53,34,32536.98,131.72,Synergized multimedia emulation,North Regina,0,Norfolk Island,22/04/16 20:10,1\\r\\n46.13,31,60248.97,139.01,Customer-focused optimizing moderator,Davidmouth,0,Bouvet Island (Bouvetoya),01/02/16 9:00,1\\r\\n69.01,46,74543.81,222.63,Advanced full-range migration,New Michaeltown,0,Turks and Caicos Islands,07/07/16 13:37,0\\r\\n55.35,39,75509.61,153.17,De-engineered object-oriented protocol,East Tammie,1,Cook Islands,08/03/16 0:37,1\\r\\n33.21,43,42650.32,167.07,Polarized clear-thinking budgetary management,Wilcoxport,1,Turkey,10/05/16 17:39,1\\r\\n38.46,42,58183.04,145.98,Customizable 6thgeneration knowledge user,East Michaelmouth,1,Guatemala,06/04/16 11:24,1\\r\\n64.1,22,60465.72,215.93,Seamless object-oriented structure,East Tiffanyport,0,Cote d'Ivoire,01/04/16 16:21,0\\r\\n49.81,35,57009.76,120.06,Seamless real-time array,Ramirezhaven,1,Faroe Islands,05/01/16 4:18,1\\r\\n82.73,33,54541.56,238.99,Grass-roots impactful system engine,Cranemouth,1,Qatar,20/05/16 21:31,0\\r\\n56.14,38,32689.04,113.53,Devolved tangible approach,Lake Edward,1,Ireland,03/02/16 7:59,1\\r\\n55.13,45,55605.92,111.71,Customizable executive software,Lake Conniefurt,0,Ukraine,17/02/16 21:55,1\\r\\n78.11,27,63296.87,209.25,Progressive analyzing attitude,East Shawnchester,1,Moldova,30/01/16 16:10,0\\r\\n73.46,28,65653.47,222.75,Innovative executive encoding,West Joseph,1,Nicaragua,15/05/16 14:41,0\\r\\n56.64,38,61652.53,115.91,Down-sized uniform info-mediaries,Lake Christopherfurt,0,Montserrat,05/01/16 17:56,1\\r\\n68.94,54,30726.26,138.71,Streamlined next generation implementation,East Tylershire,0,Timor-Leste,19/04/16 7:34,1\\r\\n70.79,31,74535.94,184.1,Distributed tertiary system engine,Sharpberg,0,Bouvet Island (Bouvetoya),15/03/16 15:49,0\\r\\n57.76,41,47861.93,105.15,Triple-buffered scalable groupware,Lake Dustin,0,Puerto Rico,12/06/16 15:25,1\\r\\n77.51,36,73600.28,200.55,Total 5thgeneration encoding,North Kristine,0,Central African Republic,01/07/16 4:41,0\\r\\n52.7,34,58543.94,118.6,Integrated human-resource encoding,Grahamberg,1,Venezuela,08/05/16 12:12,1\\r\\n57.7,34,42696.67,109.07,Phased dynamic customer loyalty,New Tina,0,Australia,14/03/16 23:13,1\\r\\n56.89,37,37334.78,109.29,Open-source coherent policy,Nelsonfurt,1,Wallis and Futuna,25/05/16 0:19,1\\r\\n69.9,43,71392.53,138.35,Down-sized modular intranet,Christopherport,0,Jersey,13/05/16 11:51,1\\r\\n55.79,24,59550.05,149.67,Pre-emptive content-based focus group,Port Sarahhaven,0,Puerto Rico,20/02/16 20:47,1\\r\\n70.03,26,64264.25,227.72,Versatile 4thgeneration system engine,Bradleyborough,1,Samoa,22/05/16 20:49,0\\r\\n50.08,40,64147.86,125.85,Ergonomic full-range time-frame,Whiteport,1,Greece,10/04/16 2:02,1\\r\\n43.67,31,25686.34,166.29,Automated directional function,New Theresa,1,Antarctica (the territory South of 60 deg S),28/02/16 6:41,1\\r\\n72.84,26,52968.22,238.63,Progressive empowering alliance,Wongland,0,Albania,08/07/16 21:18,0\\r\\n45.72,36,22473.08,154.02,Versatile homogeneous capacity,Williammouth,1,Hong Kong,19/04/16 15:14,1\\r\\n39.94,41,64927.19,156.3,Function-based optimizing protocol,Williamsborough,0,Lithuania,08/01/16 22:47,1\\r\\n35.61,46,51868.85,158.22,Up-sized secondary software,North Michael,0,Egypt,28/03/16 8:46,1\\r\\n79.71,34,69456.83,211.65,Seamless holistic time-frame,Benjaminchester,1,Bangladesh,02/07/16 14:57,0\\r\\n41.49,53,31947.65,169.18,Persevering reciprocal firmware,Hernandezville,0,Western Sahara,03/07/16 9:22,1\\r\\n63.6,23,51864.77,235.28,Centralized logistical secured line,Youngburgh,1,Serbia,01/06/16 9:27,0\\r\\n89.91,40,59593.56,194.23,Innovative background conglomeration,Wallacechester,0,Maldives,09/07/16 14:55,0\\r\\n68.18,21,48376.14,218.17,Switchable 3rdgeneration hub,Sanchezmouth,1,Czech Republic,09/02/16 22:04,0\\r\\n66.49,20,56884.74,202.16,Polarized 6thgeneration info-mediaries,Bradshawborough,0,Guernsey,10/06/16 11:31,0\\r\\n80.49,40,67186.54,229.12,Balanced heuristic approach,Amyhaven,1,Tanzania,14/02/16 3:50,0\\r\\n72.23,25,46557.92,241.03,Focused 24hour implementation,Marcushaven,1,Bhutan,05/07/16 17:17,0\\r\\n42.39,42,66541.05,150.99,De-engineered mobile infrastructure,Erinton,0,Christmas Island,28/04/16 5:50,1\\r\\n47.53,30,33258.09,135.18,Customer-focused upward-trending contingency,Hughesport,0,Guinea,03/04/16 5:10,1\\r\\n74.02,32,72272.9,210.54,Operative system-worthy protocol,Johnstad,0,Micronesia,09/03/16 14:57,0\\r\\n66.63,60,60333.38,176.98,User-friendly upward-trending intranet,New Lucasburgh,0,Madagascar,16/01/16 23:37,1\\r\\n63.24,53,65229.13,235.78,Future-proofed holistic superstructure,Michelleside,1,Lebanon,03/07/16 4:33,1\\r\\n71,22,56067.38,211.87,Extended systemic policy,Andersonton,0,Eritrea,14/03/16 6:46,0\\r\\n46.13,46,37838.72,123.64,Horizontal hybrid challenge,New Rachel,1,Guyana,09/01/16 5:44,1\\r\\n69,32,72683.35,221.21,Virtual composite model,Port Susan,1,Trinidad and Tobago,11/02/16 4:37,0\\r\\n76.99,31,56729.78,244.34,Switchable mobile framework,West Angelabury,1,Jersey,22/06/16 7:33,0\\r\\n72.6,55,66815.54,162.95,Focused intangible moderator,Port Christopherborough,0,United Arab Emirates,13/07/16 16:12,1\\r\\n61.88,42,60223.52,112.19,Balanced actuating moderator,Phillipsbury,1,Martinique,23/07/16 11:46,1\\r\\n84.45,50,29727.79,207.18,Customer-focused transitional strategy,Millerside,0,Somalia,13/07/16 4:10,1\\r\\n88.97,45,49269.98,152.49,Advanced web-enabled standardization,Lake Jessica,0,Bhutan,11/06/16 18:32,1\\r\\n86.19,31,57669.41,210.26,Pre-emptive executive knowledgebase,Lopezmouth,1,Greece,08/05/16 12:51,0\\r\\n49.58,26,56791.75,231.94,Self-enabling holistic process improvement,Johnsport,0,Benin,07/04/16 16:02,0\\r\\n77.65,27,63274.88,212.79,Horizontal client-driven hierarchy,South Ronald,0,Papua New Guinea,04/02/16 13:30,0\\r\\n37.75,36,35466.8,225.24,Polarized dynamic throughput,South Daniel,0,Uzbekistan,26/02/16 19:48,1\\r\\n62.33,43,68787.09,127.11,Devolved zero administration intranet,Suzannetown,0,South Africa,21/06/16 13:15,1\\r\\n79.57,31,61227.59,230.93,User-friendly asymmetric info-mediaries,Lisaberg,0,Egypt,17/05/16 4:27,0\\r\\n80.31,44,56366.88,127.07,Cross-platform regional task-force,Brianfurt,0,Hungary,18/04/16 15:54,1\\r\\n89.05,45,57868.44,206.98,Polarized bandwidth-monitored moratorium,Stewartbury,0,Falkland Islands (Malvinas),03/04/16 10:07,0\\r\\n70.41,27,66618.21,223.03,Centralized systematic knowledgebase,Benjaminchester,0,Dominica,04/04/16 21:30,0\\r\\n67.36,37,73104.47,233.56,Future-proofed grid-enabled implementation,North Wesleychester,0,Jersey,06/07/16 16:00,0\\r\\n46.98,50,21644.91,175.37,Down-sized well-modulated archive,East Michelleberg,0,Lithuania,04/05/16 9:00,1\\r\\n41.67,36,53817.02,132.55,Realigned zero tolerance emulation,Port Eric,0,Saint Martin,13/06/16 18:50,1\\r\\n51.24,36,76368.31,176.73,Versatile transitional monitoring,Timothyfurt,0,Cuba,03/01/16 16:01,1\\r\\n75.7,29,67633.44,215.44,Profound zero administration instruction set,Port Jeffrey,0,United States Minor Outlying Islands,14/01/16 0:23,0\\r\\n43.49,47,50335.46,127.83,User-centric intangible task-force,Guzmanland,0,Belize,12/01/16 10:07,1\\r\\n49.89,39,17709.98,160.03,Enhanced system-worthy application,East Michele,1,Belize,16/04/16 12:09,1\\r\\n38.37,36,41229.16,140.46,Multi-layered user-facing paradigm,East John,0,Antarctica (the territory South of 60 deg S),13/05/16 6:09,1\\r\\n38.52,38,42581.23,137.28,Customer-focused 24/7 concept,Lesliebury,1,Saint Vincent and the Grenadines,27/03/16 23:59,1\\r\\n71.89,23,61617.98,172.81,Function-based transitional complexity,Patriciahaven,1,Kuwait,03/02/16 23:47,0\\r\\n75.8,38,70575.6,146.19,Progressive clear-thinking open architecture,Ashleychester,1,Thailand,18/04/16 11:23,0\\r\\n83.86,31,64122.36,190.25,Up-sized executive moderator,Lake Josetown,0,Gibraltar,05/02/16 19:06,0\\r\\n37.51,30,52097.32,163,Re-contextualized optimal service-desk,Debraburgh,1,Holy See (Vatican City State),21/03/16 18:46,1\\r\\n55.6,44,65953.76,124.38,Fully-configurable neutral open system,New Debbiestad,1,Korea,14/06/16 11:59,1\\r\\n83.67,44,60192.72,234.26,Upgradable system-worthy array,West Shaun,1,Saint Helena,06/02/16 23:08,0\\r\\n69.08,41,77460.07,210.6,Ergonomic client-driven application,Kimberlyhaven,0,Turks and Caicos Islands,12/03/16 1:39,0\\r\\n37.47,44,45716.48,141.89,Realigned content-based leverage,Port Lawrence,1,Czech Republic,26/01/16 3:56,1\\r\\n56.04,49,65120.86,128.95,Decentralized real-time circuit,West Ricardo,1,Netherlands,07/02/16 8:02,1\\r\\n70.92,41,49995.63,108.16,Polarized modular function,Lake Jose,1,Belarus,05/05/16 7:58,1\\r\\n49.78,46,71718.51,152.24,Enterprise-wide client-driven contingency,Heatherberg,0,Dominica,29/06/16 2:43,1\\r\\n68.61,57,61770.34,150.29,Diverse modular interface,South George,0,South Africa,10/04/16 19:48,1\\r\\n58.18,25,69112.84,176.28,Polarized analyzing concept,Tinachester,1,New Zealand,10/02/16 6:37,0\\r\\n78.54,35,72524.86,172.1,Multi-channeled asynchronous open system,Port Jodi,0,Togo,28/05/16 20:41,0\\r\\n37,48,36782.38,158.22,Function-based context-sensitive secured line,Jonathantown,1,Kenya,24/03/16 6:36,1\\r\\n65.4,33,66699.12,247.31,Adaptive 24hour Graphic Interface,Sylviaview,0,Palau,12/02/16 22:51,0\\r\\n79.52,27,64287.78,183.48,Automated coherent flexibility,East Timothyport,1,Timor-Leste,10/06/16 10:11,0\\r\\n87.98,38,56637.59,222.11,Focused scalable complexity,West Roytown,1,Cambodia,31/03/16 10:44,0\\r\\n44.64,36,55787.58,127.01,Up-sized incremental encryption,Codyburgh,0,Belize,14/02/16 6:51,1\\r\\n41.73,28,61142.33,202.18,Sharable dedicated Graphic Interface,Port Erikhaven,1,Cuba,07/01/16 19:16,1\\r\\n80.46,27,61625.87,207.96,Digitized zero administration paradigm,Port Chasemouth,1,Costa Rica,04/02/16 2:13,0\\r\\n75.55,36,73234.87,159.24,Managed grid-enabled standardization,Ramirezside,0,Liechtenstein,09/05/16 2:58,1\\r\\n76.32,35,74166.24,195.31,Networked foreground definition,East Michaeltown,1,Korea,23/06/16 0:16,0\\r\\n82.68,33,62669.59,222.77,Re-engineered exuding frame,West Courtney,1,Ukraine,20/06/16 9:35,0\\r\\n72.01,31,57756.89,251,Horizontal multi-state interface,West Michaelhaven,0,Angola,29/02/16 12:31,0\\r\\n75.83,24,58019.64,162.44,Diverse stable circuit,Walshhaven,0,Nauru,17/01/16 15:10,0\\r\\n41.28,50,50960.08,140.39,Universal 24/7 implementation,East Rachelview,0,Equatorial Guinea,29/01/16 3:54,1\\r\\n34.66,32,48246.6,194.83,Customer-focused multi-tasking Internet solution,Curtisport,0,Mongolia,14/07/16 12:07,1\\r\\n66.18,55,28271.84,143.42,Vision-oriented contextually-based extranet,Frankbury,0,Svalbard & Jan Mayen Islands,10/01/16 23:14,1\\r\\n86.06,31,53767.12,219.72,Extended local methodology,Timothytown,1,Timor-Leste,28/04/16 18:34,0\\r\\n59.59,42,43662.1,104.78,Re-engineered demand-driven capacity,Samanthaland,1,Brazil,06/07/16 18:36,1\\r\\n86.69,34,62238.58,198.56,Customer-focused attitude-oriented instruction set,South Jennifer,0,Chad,27/05/16 6:19,0\\r\\n43.77,52,49030.03,138.55,Synergized hybrid time-frame,Kyleborough,1,Portugal,25/01/16 7:39,1\\r\\n71.84,47,76003.47,199.79,Advanced exuding conglomeration,North Randy,1,Malawi,08/05/16 22:47,0\\r\\n80.23,31,68094.85,196.23,Secured clear-thinking middleware,South Daniellefort,0,Qatar,19/03/16 14:23,0\\r\\n74.41,26,64395.85,163.05,Right-sized value-added initiative,Dianashire,0,Singapore,23/07/16 4:37,0\\r\\n63.36,48,70053.27,137.43,Centralized tertiary pricing structure,East Eric,0,Guinea,23/06/16 1:22,1\\r\\n71.74,35,72423.97,227.56,Multi-channeled reciprocal artificial intelligence,Hammondport,0,Kazakhstan,19/07/16 18:06,0\\r\\n60.72,44,42995.8,105.69,Synergized context-sensitive database,Jacobstad,0,Kuwait,28/02/16 18:52,1\\r\\n72.04,22,60309.58,199.43,Realigned systematic function,Hernandezfort,0,Rwanda,10/02/16 6:52,0\\r\\n44.57,31,38349.78,133.17,Adaptive context-sensitive application,Joneston,1,China,27/03/16 9:11,1\\r\\n85.86,34,63115.34,208.23,Networked high-level structure,New Jeffreychester,0,Bouvet Island (Bouvetoya),23/05/16 2:15,0\\r\\n39.85,38,31343.39,145.96,Profit-focused dedicated utilization,East Stephen,0,Vietnam,03/01/16 3:22,1\\r\\n84.53,27,40763.13,168.34,Stand-alone tangible moderator,Turnerchester,0,Guatemala,04/01/16 21:48,1\\r\\n62.95,60,36752.24,157.04,Polarized tangible collaboration,Youngfort,0,Peru,24/05/16 13:30,1\\r\\n67.58,41,65044.59,255.61,Focused high-level conglomeration,Ingramberg,1,Mayotte,01/02/16 19:42,0\\r\\n85.56,29,53673.08,210.46,Advanced modular Local Area Network,South Denisefurt,0,Samoa,05/06/16 13:16,0\\r\\n46.88,54,43444.86,136.64,Virtual scalable secured line,Port Melissaberg,0,Singapore,04/02/16 8:53,1\\r\\n46.31,57,44248.52,153.98,Front-line fault-tolerant intranet,Bernardton,1,Jamaica,24/03/16 13:37,1\\r\\n77.95,31,62572.88,233.65,Inverse asymmetric instruction set,Port Mathew,1,Bahamas,02/06/16 21:02,0\\r\\n84.73,30,39840.55,153.76,Synchronized leadingedge help-desk,Aliciatown,0,Canada,21/02/16 7:42,1\\r\\n39.86,36,32593.59,145.85,Total 5thgeneration standardization,Josephstad,0,Algeria,26/06/16 17:16,1\\r\\n50.08,30,41629.86,123.91,Sharable grid-enabled matrix,West Ericfurt,0,Fiji,03/01/16 5:34,1\\r\\n60.23,35,43313.73,106.86,Balanced asynchronous hierarchy,New Brendafurt,0,Kenya,08/03/16 18:00,1\\r\\n60.7,49,42993.48,110.57,Monitored object-oriented Graphic Interface,Port Julie,1,Argentina,19/06/16 3:19,1\\r\\n43.67,53,46004.31,143.79,Cloned analyzing artificial intelligence,South Tiffanyton,1,Bouvet Island (Bouvetoya),21/07/16 21:16,1\\r\\n77.2,33,49325.48,254.05,Persistent homogeneous framework,North Elizabeth,1,Philippines,12/02/16 20:36,0\\r\\n71.86,32,51633.34,116.53,Face-to-face even-keeled website,Kentmouth,0,Senegal,17/05/16 6:14,1\\r\\n44.78,45,63363.04,137.24,Extended context-sensitive monitoring,West Casey,1,Suriname,09/07/16 11:04,1\\r\\n78.57,36,64045.93,239.32,Exclusive client-driven model,East Henry,1,Liberia,27/03/16 2:35,0\\r\\n73.41,31,73049.3,201.26,Profound executive flexibility,Hollyfurt,1,Guam,16/01/16 8:01,0\\r\\n77.05,27,66624.6,191.14,Reduced bi-directional strategy,North Anna,0,United Arab Emirates,21/01/16 23:48,0\\r\\n66.4,40,77567.85,214.42,Digitized heuristic solution,Port Destiny,0,Antigua and Barbuda,05/06/16 0:29,0\\r\\n69.35,29,53431.35,252.77,Seamless 4thgeneration contingency,Ianmouth,1,Argentina,13/02/16 15:37,0\\r\\n35.65,40,31265.75,172.58,Seamless intangible secured line,North Johntown,1,Georgia,10/05/16 7:22,1\\r\\n70.04,31,74780.74,183.85,Intuitive radical forecast,Hannahside,1,Jordan,27/03/16 3:59,0\\r\\n69.78,29,70410.11,218.79,Multi-layered non-volatile Graphical User Interface,Wilsonburgh,0,Saudi Arabia,24/05/16 18:35,0\\r\\n58.22,29,37345.24,120.9,User-friendly client-server instruction set,North Russellborough,0,South Africa,11/02/16 2:40,1\\r\\n76.9,28,66107.84,212.67,Synchronized multimedia model,Murphymouth,0,Croatia,22/04/16 8:31,0\\r\\n84.08,30,62336.39,187.36,Face-to-face intermediate approach,Carterburgh,1,Fiji,13/01/16 2:58,0\\r\\n59.51,58,39132.64,140.83,Assimilated fault-tolerant hub,Penatown,0,Australia,16/06/16 2:01,1\\r\\n40.15,38,38745.29,134.88,Exclusive disintermediate task-force,Joechester,1,Sao Tome and Principe,27/06/16 18:37,1\\r\\n76.81,28,65172.22,217.85,Managed zero tolerance concept,East Paul,1,Fiji,03/07/16 12:57,0\\r\\n41.89,38,68519.96,163.38,Compatible systemic function,Hartmanchester,0,Cyprus,03/02/16 4:21,1\\r\\n76.87,27,54774.77,235.35,Configurable fault-tolerant monitoring,Mcdonaldfort,1,Kyrgyz Republic,29/05/16 21:17,0\\r\\n67.28,43,76246.96,155.8,Future-proofed coherent hardware,North Mercedes,1,Pakistan,03/04/16 21:13,1\\r\\n81.98,40,65461.92,229.22,Ameliorated upward-trending definition,Taylorberg,0,Seychelles,15/04/16 11:51,0\\r\\n66.01,23,34127.21,151.95,Front-line tangible alliance,Hansenmouth,0,Samoa,21/06/16 3:14,1\\r\\n61.57,53,35253.98,125.94,Progressive 24hour forecast,Bradyfurt,1,Bulgaria,14/03/16 14:13,1\\r\\n53.3,34,44893.71,111.94,Self-enabling optimal initiative,West Jessicahaven,0,Mauritania,06/05/16 21:07,1\\r\\n34.87,40,59621.02,200.23,Configurable logistical Graphical User Interface,Davilachester,0,Czech Republic,12/06/16 17:52,1\\r\\n43.6,38,20856.54,170.49,Virtual bandwidth-monitored initiative,North Ricardotown,0,Chile,11/01/16 7:36,1\\r\\n77.88,37,55353.41,254.57,Multi-tiered human-resource structure,Melissafurt,0,Poland,02/07/16 0:24,0\\r\\n75.83,27,67516.07,200.59,Managed upward-trending instruction set,East Brianberg,0,Estonia,04/03/16 10:13,0\\r\\n49.95,39,68737.75,136.59,Cloned object-oriented benchmark,Millerbury,0,Turkmenistan,24/03/16 9:12,1\\r\\n60.94,41,76893.84,154.97,Fundamental fault-tolerant neural-net,Garciaview,0,Latvia,14/02/16 7:30,1\\r\\n89.15,42,59886.58,171.07,Phased zero administration success,Townsendfurt,0,Fiji,25/04/16 7:30,0\\r\\n78.7,30,53441.69,133.99,Compatible intangible customer loyalty,Williamstad,0,Turkey,10/02/16 19:20,1\\r\\n57.35,29,41356.31,119.84,Distributed 3rdgeneration definition,West Connor,0,Kazakhstan,23/04/16 14:34,1\\r\\n34.86,38,49942.66,154.75,Pre-emptive cohesive budgetary management,West Justin,0,Bahrain,18/06/16 17:56,1\\r\\n70.68,31,74430.08,199.08,Configurable multi-state utilization,Robertbury,0,Colombia,17/07/16 1:58,0\\r\\n76.06,23,58633.63,201.04,Diverse multi-tasking parallelism,New Tinamouth,0,Brunei Darussalam,27/04/16 4:28,0\\r\\n66.67,33,72707.87,228.03,Horizontal content-based synergy,Turnerview,1,Taiwan,21/04/16 20:29,0\\r\\n46.77,32,31092.93,136.4,Multi-tiered maximized archive,Reneechester,1,Serbia,23/03/16 6:00,1\\r\\n62.42,38,74445.18,143.94,Diverse executive groupware,West Tinashire,0,Saint Pierre and Miquelon,19/07/16 7:59,1\\r\\n78.32,28,49309.14,239.52,Synergized cohesive array,Jamesfurt,0,Australia,26/06/16 11:52,1\\r\\n37.32,50,56735.14,199.25,Versatile dedicated software,New Nancy,1,Chad,30/03/16 23:40,1\\r\\n40.42,45,40183.75,133.9,Stand-alone reciprocal synergy,Lisamouth,1,Norway,16/03/16 7:59,1\\r\\n76.77,36,58348.41,123.51,Universal even-keeled analyzer,Harveyport,0,Turks and Caicos Islands,04/05/16 0:01,1\\r\\n65.65,30,72209.99,158.05,Up-sized tertiary contingency,Ramosstad,0,Finland,02/07/16 21:22,0\\r\\n74.32,33,62060.11,128.17,Monitored real-time superstructure,North Kevinside,0,South Africa,23/05/16 21:14,1\\r\\n73.27,32,67113.46,234.75,Streamlined analyzing initiative,Haleview,1,Martinique,29/01/16 20:16,0\\r\\n80.03,44,24030.06,150.84,Automated static concept,Christinetown,0,Afghanistan,23/07/16 14:47,1\\r\\n53.68,47,56180.93,115.26,Operative stable moderator,New Michael,1,Micronesia,16/02/16 9:11,1\\r\\n85.84,32,62204.93,192.85,Up-sized 6thgeneration moratorium,Jonesland,1,French Southern Territories,09/06/16 21:43,0\\r\\n85.03,30,60372.64,204.52,Expanded clear-thinking core,North Shannon,0,Philippines,19/06/16 9:24,0\\r\\n70.44,24,65280.16,178.75,Polarized attitude-oriented superstructure,New Sonialand,1,Algeria,06/06/16 21:26,0\\r\\n81.22,53,34309.24,223.09,Networked coherent interface,Port Jason,1,San Marino,07/01/16 13:25,0\\r\\n39.96,45,59610.81,146.13,Enhanced homogeneous moderator,East Barbara,1,Guernsey,15/04/16 6:08,1\\r\\n57.05,41,50278.89,269.96,Seamless full-range website,Port Erinberg,1,Sierra Leone,09/01/16 3:45,1\\r\\n42.44,56,43450.11,168.27,Profit-focused attitude-oriented task-force,Petersonfurt,0,Tajikistan,10/02/16 15:23,1\\r\\n62.2,25,25408.21,161.16,Cross-platform multimedia algorithm,New Lindaberg,0,Liechtenstein,24/04/16 13:42,1\\r\\n76.7,36,71136.49,222.25,Open-source coherent monitoring,West Russell,0,Ecuador,12/06/16 5:31,0\\r\\n61.22,45,63883.81,119.03,Streamlined logistical secured line,South Adam,1,Switzerland,05/01/16 9:42,1\\r\\n84.54,33,64902.47,204.02,Synchronized stable complexity,North Tracyport,1,Moldova,02/03/16 10:07,0\\r\\n46.08,30,66784.81,164.63,Synergistic value-added extranet,Brownport,1,Finland,21/07/16 10:54,1\\r\\n56.7,48,62784.85,123.13,Progressive non-volatile neural-net,Port Crystal,0,France,09/01/16 4:53,1\\r\\n81.03,28,63727.5,201.15,Persevering tertiary capability,Masonhaven,0,Venezuela,06/01/16 13:20,0\\r\\n80.91,32,61608.23,231.42,Enterprise-wide bi-directional secured line,Derrickhaven,0,Cuba,31/01/16 4:10,0\\r\\n40.06,38,56782.18,138.68,Organized contextually-based customer loyalty,Olsonstad,1,Peru,11/06/16 8:38,1\\r\\n83.47,39,64447.77,226.11,Total directional approach,New Brandy,0,Turkey,15/05/16 20:48,0\\r\\n73.84,31,42042.95,121.05,Programmable uniform productivity,South Jasminebury,0,Albania,18/06/16 17:23,1\\r\\n74.65,28,67669.06,212.56,Robust transitional ability,East Timothy,0,French Southern Territories,17/03/16 5:00,0\\r\\n60.25,35,54875.95,109.77,De-engineered fault-tolerant database,Charlottefort,0,Papua New Guinea,29/06/16 13:35,1\\r\\n59.21,35,73347.67,144.62,Managed disintermediate matrices,Lake Beckyburgh,1,Liechtenstein,02/02/16 8:55,1\\r\\n43.02,44,50199.77,125.22,Configurable bottom-line application,West Lindseybury,0,Thailand,13/04/16 5:42,1\\r\\n84.04,38,50723.67,244.55,Self-enabling didactic pricing structure,West Alyssa,0,Malaysia,20/07/16 9:27,0\\r\\n70.66,43,63450.96,120.95,Versatile scalable encryption,Lake Craigview,1,Mauritius,26/02/16 4:57,1\\r\\n70.58,26,56694.12,136.94,Proactive next generation knowledge user,Lake David,0,Algeria,26/02/16 9:18,1\\r\\n72.44,34,70547.16,230.14,Customizable tangible hierarchy,Bruceburgh,0,Christmas Island,15/04/16 14:45,0\\r\\n40.17,26,47391.95,171.31,Visionary asymmetric encryption,South Lauratown,1,Japan,01/02/16 14:37,1\\r\\n79.15,26,62312.23,203.23,Intuitive explicit conglomeration,Port Robin,0,Greenland,20/01/16 19:09,0\\r\\n44.49,53,63100.13,168,Business-focused real-time toolset,Jacksonburgh,1,Sao Tome and Principe,23/04/16 6:28,1\\r\\n73.04,37,73687.5,221.79,Organic contextually-based focus group,Erinmouth,1,Senegal,19/06/16 22:26,0\\r\\n76.28,33,52686.47,254.34,Right-sized asynchronous website,Port Aliciabury,0,Guadeloupe,15/02/16 7:55,0\\r\\n68.88,37,78119.5,179.58,Advanced 5thgeneration capability,Port Whitneyhaven,0,Belgium,09/02/16 19:37,0\\r\\n73.1,28,57014.84,242.37,Universal asymmetric archive,Jeffreyshire,0,Israel,25/01/16 7:52,0\\r\\n47.66,29,27086.4,156.54,Devolved responsive structure,Tinaton,0,Honduras,18/07/16 11:33,1\\r\\n87.3,35,58337.18,216.87,Triple-buffered regional toolset,North Loriburgh,0,Estonia,09/01/16 7:28,0\\r\\n89.34,32,50216.01,177.78,Object-based executive productivity,Wendyton,1,Paraguay,21/03/16 21:15,0\\r\\n81.37,26,53049.44,156.48,Business-focused responsive website,Lake Jacqueline,1,Kyrgyz Republic,15/02/16 12:25,0\\r\\n81.67,28,62927.96,196.76,Visionary analyzing structure,North Christopher,1,Mauritania,04/03/16 8:48,0\\r\\n46.37,52,32847.53,144.27,De-engineered solution-oriented open architecture,Alexanderfurt,0,French Guiana,05/01/16 0:02,1\\r\\n54.88,24,32006.82,148.61,Customizable modular Internet solution,West Pamela,0,Northern Mariana Islands,15/05/16 1:03,1\\r\\n40.67,35,48913.07,133.18,Stand-alone encompassing throughput,West Amanda,0,Lebanon,05/05/16 9:28,1\\r\\n71.76,35,69285.69,237.39,Customizable zero-defect matrix,South Tomside,0,Saint Pierre and Miquelon,26/05/16 13:18,0\\r\\n47.51,51,53700.57,130.41,Managed well-modulated collaboration,Bethburgh,1,American Samoa,21/05/16 1:36,1\\r\\n75.15,22,52011,212.87,Universal global intranet,Jamiefort,1,Austria,04/05/16 12:06,0\\r\\n56.01,26,46339.25,127.26,Re-engineered real-time success,Garciamouth,0,Tonga,05/07/16 18:59,1\\r\\n82.87,37,67938.77,213.36,Front-line fresh-thinking open system,West Brenda,0,Tonga,28/06/16 20:13,0\\r\\n45.05,42,66348.95,141.36,Digitized contextually-based product,South Kyle,0,French Southern Territories,05/05/16 11:09,1\\r\\n60.53,24,66873.9,167.22,Organic interactive support,Combsstad,0,Serbia,25/03/16 15:17,1\\r\\n50.52,31,72270.88,171.62,Function-based stable alliance,Lake Allenville,0,New Caledonia,23/01/16 15:02,1\\r\\n84.71,32,61610.05,210.23,Reactive responsive emulation,Greenechester,0,Taiwan,29/05/16 7:29,0\\r\\n55.2,39,76560.59,159.46,Exclusive zero tolerance alliance,Jordantown,1,United States of America,30/05/16 7:36,1\\r\\n81.61,33,62667.51,228.76,Enterprise-wide local matrices,Gravesport,0,Morocco,17/04/16 15:46,0\\r\\n71.55,36,75687.46,163.99,Inverse next generation moratorium,South Troy,1,Suriname,20/07/16 23:08,0\\r\\n82.4,36,66744.65,218.97,Implemented bifurcated workforce,Lake Patrick,1,Macedonia,29/06/16 3:07,0\\r\\n73.95,35,67714.82,238.58,Persevering even-keeled help-desk,Millerland,0,Wallis and Futuna,10/04/16 14:48,0\\r\\n72.07,31,69710.51,226.45,Grass-roots eco-centric instruction set,Port Jessicamouth,0,Chile,16/04/16 16:38,0\\r\\n80.39,31,66269.49,214.74,Fully-configurable incremental Graphical User Interface,Paulport,0,Gabon,03/05/16 8:21,0\\r\\n65.8,25,60843.32,231.49,Expanded radical software,Clineshire,1,Gabon,18/03/16 16:04,0\\r\\n69.97,28,55041.6,250,Mandatory 3rdgeneration moderator,Cynthiaside,0,Holy See (Vatican City State),22/05/16 0:01,0\\r\\n,,,,,,,,,\\r\\n,,,,,,,,,\\r\\n,,,,,,,,,\\r\\n,,,,,,,,,\\r\\n,,,,,,,,,\\r\\n,,,,,,,,,\\r\\n,,,,,,,,,\\r\\n,,,,,,,,,\\r\\n,,,,,,,,,\\r\\n,,,,,,,,,\\r\\n,,,,,,,,,\\r\\n,,,,,,,,,\\r\\n,,,,,,,,,\\r\\n,,,,,,,,,\\r\\n,,,,,,,,,\\r\\n,,,,,,,,,\\r\\n,,,,,,,,,\\r\\n,,,,,,,,,\\r\\n,,,,,,,,,\\r\\n,,,,,,,,,\\r\\n,,,,,,,,,\\r\\n,,,,,,,,,\\r\\n,,,,,,,,,\\r\\n,,,,,,,,,\\r\\n,,,,,,,,,\\r\\n,,,,,,,,,\\r\\n,,,,,,,,,\\r\\n,,,,,,,,,\\r\\n,,,,,,,,,\\r\\n,,,,,,,,,\\r\\n,,,,,,,,,\\r\\n,,,,,,,,,\\r\\n,,,,,,,,,\\r\\n,,,,,,,,,\\r\\n,,,,,,,,,\\r\\n,,,,,,,,,\\r\\n,,,,,,,,,\\r\\n,,,,,,,,,\\r\\n,,,,,,,,,\\r\\n,,,,,,,,,\\r\\n,,,,,,,,,\\r\\n,,,,,,,,,\\r\\n,,,,,,,,,\\r\\n,,,,,,,,,\\r\\n,,,,,,,,,\\r\\n,,,,,,,,,\\r\\n,,,,,,,,,\\r\\n,,,,,,,,,\\r\\n,,,,,,,,,\\r\\n,,,,,,,,,\\r\\n,,,,,,,,,\\r\\n,,,,,,,,,\\r\\n,,,,,,,,,\\r\\n,,,,,,,,,\\r\\n,,,,,,,,,\\r\\n,,,,,,,,,\\r\\n,,,,,,,,,\\r\\n,,,,,,,,,\\r\\n,,,,,,,,,\\r\\n,,,,,,,,,\\r\\n,,,,,,,,,\\r\\n,,,,,,,,,\\r\\n,,,,,,,,,\\r\\n,,,,,,,,,\\r\\n,,,,,,,,,\\r\\n,,,,,,,,,\\r\\n,,,,,,,,,\\r\\n,,,,,,,,,\\r\\n,,,,,,,,,\\r\\n,,,,,,,,,\\r\\n,,,,,,,,,\\r\\n,,,,,,,,,\\r\\n,,,,,,,,,\\r\\n,,,,,,,,,\\r\\n,,,,,,,,,\\r\\n,,,,,,,,,\\r\\n,,,,,,,,,\\r\\n,,,,,,,,,\\r\\n,,,,,,,,,\\r\\n,,,,,,,,,\\r\\n,,,,,,,,,\\r\\n,,,,,,,,,\\r\\n,,,,,,,,,\\r\\n,,,,,,,,,\\r\\n,,,,,,,,,\\r\\n,,,,,,,,,\\r\\n,,,,,,,,,\\r\\n,,,,,,,,,\\r\\n,,,,,,,,,\\r\\n,,,,,,,,,\\r\\n,,,,,,,,,\\r\\n,,,,,,,,,\\r\\n,,,,,,,,,\\r\\n,,,,,,,,,\\r\\n,,,,,,,,,\\r\\n,,,,,,,,,\\r\\n,,,,,,,,,\\r\\n,,,,,,,,,\\r\\n,,,,,,,,,\\r\\n,,,,,,,,,\\r\\n,,,,,,,,,\\r\\n,,,,,,,,,\\r\\n,,,,,,,,,\\r\\n,,,,,,,,,\\r\\n,,,,,,,,,\\r\\n,,,,,,,,,\\r\\n,,,,,,,,,\\r\\n,,,,,,,,,\\r\\n,,,,,,,,,\\r\\n,,,,,,,,,\\r\\n,,,,,,,,,\\r\\n,,,,,,,,,\\r\\n,,,,,,,,,\\r\\n,,,,,,,,,\\r\\n,,,,,,,,,\\r\\n,,,,,,,,,\\r\\n,,,,,,,,,\\r\\n,,,,,,,,,\\r\\n,,,,,,,,,\\r\\n,,,,,,,,,\\r\\n,,,,,,,,,\\r\\n,,,,,,,,,\\r\\n,,,,,,,,,\\r\\n,,,,,,,,,\\r\\n,,,,,,,,,\\r\\n,,,,,,,,,\\r\\n,,,,,,,,,\\r\\n,,,,,,,,,\\r\\n,,,,,,,,,\\r\\n,,,,,,,,,\\r\\n,,,,,,,,,\\r\\n,,,,,,,,,\\r\\n,,,,,,,,,\\r\\n,,,,,,,,,\\r\\n,,,,,,,,,\\r\\n,,,,,,,,,\\r\\n,,,,,,,,,\\r\\n,,,,,,,,,\\r\\n,,,,,,,,,\\r\\n,,,,,,,,,\\r\\n,,,,,,,,,\\r\\n,,,,,,,,,\\r\\n,,,,,,,,,\\r\\n,,,,,,,,,\\r\\n,,,,,,,,,\\r\\n,,,,,,,,,\\r\\n,,,,,,,,,\\r\\n,,,,,,,,,\\r\\n,,,,,,,,,\\r\\n,,,,,,,,,\\r\\n,,,,,,,,,\\r\\n,,,,,,,,,\\r\\n,,,,,,,,,\\r\\n,,,,,,,,,\\r\\n,,,,,,,,,\\r\\n,,,,,,,,,\\r\\n,,,,,,,,,\\r\\n,,,,,,,,,\\r\\n,,,,,,,,,\\r\\n,,,,,,,,,\\r\\n,,,,,,,,,\\r\\n,,,,,,,,,\\r\\n,,,,,,,,,\\r\\n,,,,,,,,,\\r\\n,,,,,,,,,\\r\\n,,,,,,,,,\\r\\n,,,,,,,,,\\r\\n,,,,,,,,,\\r\\n,,,,,,,,,\\r\\n,,,,,,,,,\\r\\n,,,,,,,,,\\r\\n,,,,,,,,,\\r\\n,,,,,,,,,\\r\\n,,,,,,,,,\\r\\n,,,,,,,,,\\r\\n,,,,,,,,,\\r\\n,,,,,,,,,\\r\\n,,,,,,,,,\\r\\n,,,,,,,,,\\r\\n,,,,,,,,,\\r\\n,,,,,,,,,\\r\\n,,,,,,,,,\\r\\n,,,,,,,,,\\r\\n,,,,,,,,,\\r\\n,,,,,,,,,\\r\\n,,,,,,,,,\\r\\n,,,,,,,,,\\r\\n,,,,,,,,,\\r\\n,,,,,,,,,\\r\\n,,,,,,,,,\\r\\n,,,,,,,,,\\r\\n,,,,,,,,,\\r\\n,,,,,,,,,\\r\\n,,,,,,,,,\\r\\n,,,,,,,,,\\r\\n,,,,,,,,,\\r\\n,,,,,,,,,\\r\\n,,,,,,,,,\\r\\n,,,,,,,,,\\r\\n,,,,,,,,,\\r\\n,,,,,,,,,\\r\\n,,,,,,,,,\\r\\n,,,,,,,,,\\r\\n,,,,,,,,,\\r\\n,,,,,,,,,\\r\\n,,,,,,,,,\\r\\n,,,,,,,,,\\r\\n,,,,,,,,,\\r\\n,,,,,,,,,\\r\\n,,,,,,,,,\\r\\n,,,,,,,,,\\r\\n,,,,,,,,,\\r\\n,,,,,,,,,\\r\\n,,,,,,,,,\\r\\n,,,,,,,,,\\r\\n,,,,,,,,,\\r\\n,,,,,,,,,\\r\\n,,,,,,,,,\\r\\n,,,,,,,,,\\r\\n,,,,,,,,,\\r\\n,,,,,,,,,\\r\\n,,,,,,,,,\\r\\n,,,,,,,,,\\r\\n,,,,,,,,,\\r\\n,,,,,,,,,\\r\\n,,,,,,,,,\\r\\n,,,,,,,,,\\r\\n,,,,,,,,,\\r\\n,,,,,,,,,\\r\\n,,,,,,,,,\\r\\n,,,,,,,,,\\r\\n,,,,,,,,,\\r\\n,,,,,,,,,\\r\\n,,,,,,,,,\\r\\n,,,,,,,,,\\r\\n,,,,,,,,,\\r\\n,,,,,,,,,\\r\\n,,,,,,,,,\\r\\n,,,,,,,,,\\r\\n,,,,,,,,,\\r\\n,,,,,,,,,\\r\\n,,,,,,,,,\\r\\n,,,,,,,,,\\r\\n,,,,,,,,,\\r\\n,,,,,,,,,\\r\\n,,,,,,,,,\\r\\n,,,,,,,,,\\r\\n,,,,,,,,,\\r\\n,,,,,,,,,\\r\\n,,,,,,,,,\\r\\n,,,,,,,,,\\r\\n,,,,,,,,,\\r\\n,,,,,,,,,\\r\\n,,,,,,,,,\\r\\n,,,,,,,,,\\r\\n,,,,,,,,,\\r\\n,,,,,,,,,\\r\\n,,,,,,,,,\\r\\n,,,,,,,,,\\r\\n,,,,,,,,,\\r\\n,,,,,,,,,\\r\\n,,,,,,,,,\\r\\n,,,,,,,,,\\r\\n,,,,,,,,,\\r\\n,,,,,,,,,\\r\\n,,,,,,,,,\\r\\n,,,,,,,,,\\r\\n,,,,,,,,,\\r\\n,,,,,,,,,\\r\\n,,,,,,,,,\\r\\n,,,,,,,,,\\r\\n,,,,,,,,,\\r\\n,,,,,,,,,\\r\\n,,,,,,,,,\\r\\n,,,,,,,,,\\r\\n,,,,,,,,,\\r\\n,,,,,,,,,\\r\\n,,,,,,,,,\\r\\n,,,,,,,,,\\r\\n,,,,,,,,,\\r\\n,,,,,,,,,\\r\\n,,,,,,,,,\\r\\n,,,,,,,,,\\r\\n,,,,,,,,,\\r\\n,,,,,,,,,\\r\\n,,,,,,,,,\\r\\n,,,,,,,,,\\r\\n,,,,,,,,,\\r\\n,,,,,,,,,\\r\\n,,,,,,,,,\\r\\n,,,,,,,,,\\r\\n,,,,,,,,,\\r\\n,,,,,,,,,\\r\\n,,,,,,,,,\\r\\n,,,,,,,,,\\r\\n,,,,,,,,,\\r\\n,,,,,,,,,\\r\\n,,,,,,,,,\\r\\n,,,,,,,,,\\r\\n,,,,,,,,,\\r\\n,,,,,,,,,\\r\\n,,,,,,,,,\\r\\n,,,,,,,,,\\r\\n,,,,,,,,,\\r\\n,,,,,,,,,\\r\\n,,,,,,,,,\\r\\n,,,,,,,,,\\r\\n,,,,,,,,,\\r\\n,,,,,,,,,\\r\\n,,,,,,,,,\\r\\n,,,,,,,,,\\r\\n,,,,,,,,,\\r\\n,,,,,,,,,\\r\\n,,,,,,,,,\\r\\n,,,,,,,,,\\r\\n,,,,,,,,,\\r\\n,,,,,,,,,\\r\\n,,,,,,,,,\\r\\n,,,,,,,,,\\r\\n,,,,,,,,,\\r\\n,,,,,,,,,\\r\\n,,,,,,,,,\\r\\n,,,,,,,,,\\r\\n,,,,,,,,,\\r\\n,,,,,,,,,\\r\\n,,,,,,,,,\\r\\n,,,,,,,,,\\r\\n,,,,,,,,,\\r\\n,,,,,,,,,\\r\\n,,,,,,,,,\\r\\n,,,,,,,,,\\r\\n,,,,,,,,,\\r\\n,,,,,,,,,\\r\\n,,,,,,,,,\\r\\n,,,,,,,,,\\r\\n,,,,,,,,,\\r\\n,,,,,,,,,\\r\\n,,,,,,,,,\\r\\n,,,,,,,,,\\r\\n,,,,,,,,,\\r\\n,,,,,,,,,\\r\\n,,,,,,,,,\\r\\n,,,,,,,,,\\r\\n,,,,,,,,,\\r\\n,,,,,,,,,\\r\\n,,,,,,,,,\\r\\n,,,,,,,,,\\r\\n,,,,,,,,,\\r\\n,,,,,,,,,\\r\\n,,,,,,,,,\\r\\n,,,,,,,,,\\r\\n,,,,,,,,,\\r\\n,,,,,,,,,\\r\\n,,,,,,,,,\\r\\n,,,,,,,,,\\r\\n,,,,,,,,,\\r\\n,,,,,,,,,\\r\\n,,,,,,,,,\\r\\n,,,,,,,,,\\r\\n,,,,,,,,,\\r\\n,,,,,,,,,\\r\\n,,,,,,,,,\\r\\n,,,,,,,,,\\r\\n,,,,,,,,,\\r\\n,,,,,,,,,\\r\\n,,,,,,,,,\\r\\n,,,,,,,,,\\r\\n,,,,,,,,,\\r\\n,,,,,,,,,\\r\\n,,,,,,,,,\\r\\n,,,,,,,,,\\r\\n,,,,,,,,,\\r\\n,,,,,,,,,\\r\\n,,,,,,,,,\\r\\n,,,,,,,,,\\r\\n,,,,,,,,,\\r\\n,,,,,,,,,\\r\\n,,,,,,,,,\\r\\n,,,,,,,,,\\r\\n,,,,,,,,,\\r\\n,,,,,,,,,\\r\\n,,,,,,,,,\\r\\n,,,,,,,,,\\r\\n,,,,,,,,,\\r\\n,,,,,,,,,\\r\\n,,,,,,,,,\\r\\n,,,,,,,,,\\r\\n,,,,,,,,,\\r\\n,,,,,,,,,\\r\\n,,,,,,,,,\\r\\n,,,,,,,,,\\r\\n,,,,,,,,,\\r\\n,,,,,,,,,\\r\\n,,,,,,,,,\\r\\n,,,,,,,,,\\r\\n,,,,,,,,,\\r\\n,,,,,,,,,\\r\\n,,,,,,,,,\\r\\n,,,,,,,,,\\r\\n,,,,,,,,,\\r\\n,,,,,,,,,\\r\\n,,,,,,,,,\\r\\n,,,,,,,,,\\r\\n,,,,,,,,,\\r\\n,,,,,,,,,\\r\\n,,,,,,,,,\\r\\n,,,,,,,,,\\r\\n,,,,,,,,,\\r\\n,,,,,,,,,\\r\\n,,,,,,,,,\\r\\n,,,,,,,,,\\r\\n,,,,,,,,,\\r\\n,,,,,,,,,\\r\\n,,,,,,,,,\\r\\n,,,,,,,,,\\r\\n,,,,,,,,,\\r\\n,,,,,,,,,\\r\\n,,,,,,,,,\\r\\n,,,,,,,,,\\r\\n,,,,,,,,,\\r\\n,,,,,,,,,\\r\\n,,,,,,,,,\\r\\n,,,,,,,,,\\r\\n,,,,,,,,,\\r\\n,,,,,,,,,\\r\\n,,,,,,,,,\\r\\n,,,,,,,,,\\r\\n,,,,,,,,,\\r\\n,,,,,,,,,\\r\\n,,,,,,,,,\\r\\n,,,,,,,,,\\r\\n,,,,,,,,,\\r\\n,,,,,,,,,\\r\\n,,,,,,,,,\\r\\n,,,,,,,,,\\r\\n,,,,,,,,,\\r\\n,,,,,,,,,\\r\\n,,,,,,,,,\\r\\n,,,,,,,,,\\r\\n,,,,,,,,,\\r\\n,,,,,,,,,\\r\\n,,,,,,,,,\\r\\n,,,,,,,,,\\r\\n,,,,,,,,,\\r\\n,,,,,,,,,\\r\\n,,,,,,,,,\\r\\n,,,,,,,,,\\r\\n,,,,,,,,,\\r\\n,,,,,,,,,\\r\\n,,,,,,,,,\\r\\n,,,,,,,,,\\r\\n,,,,,,,,,\\r\\n,,,,,,,,,\\r\\n,,,,,,,,,\\r\\n,,,,,,,,,\\r\\n,,,,,,,,,\\r\\n,,,,,,,,,\\r\\n,,,,,,,,,\\r\\n,,,,,,,,,\\r\\n,,,,,,,,,\\r\\n,,,,,,,,,\\r\\n,,,,,,,,,\\r\\n,,,,,,,,,\\r\\n,,,,,,,,,\\r\\n,,,,,,,,,\\r\\n,,,,,,,,,\\r\\n,,,,,,,,,\\r\\n,,,,,,,,,\\r\\n,,,,,,,,,\\r\\n,,,,,,,,,\\r\\n,,,,,,,,,\\r\\n,,,,,,,,,\\r\\n,,,,,,,,,\\r\\n,,,,,,,,,\\r\\n,,,,,,,,,\\r\\n,,,,,,,,,\\r\\n,,,,,,,,,\\r\\n,,,,,,,,,\\r\\n,,,,,,,,,\\r\\n,,,,,,,,,\\r\\n,,,,,,,,,\\r\\n,,,,,,,,,\\r\\n,,,,,,,,,\\r\\n,,,,,,,,,\\r\\n,,,,,,,,,\\r\\n,,,,,,,,,\\r\\n,,,,,,,,,\\r\\n,,,,,,,,,\\r\\n,,,,,,,,,\\r\\n,,,,,,,,,\\r\\n,,,,,,,,,\\r\\n,,,,,,,,,\\r\\n,,,,,,,,,\\r\\n,,,,,,,,,\\r\\n,,,,,,,,,\\r\\n,,,,,,,,,\\r\\n,,,,,,,,,\\r\\n,,,,,,,,,\\r\\n,,,,,,,,,\\r\\n,,,,,,,,,\\r\\n,,,,,,,,,\\r\\n,,,,,,,,,\\r\\n,,,,,,,,,\\r\\n,,,,,,,,,\\r\\n,,,,,,,,,\\r\\n,,,,,,,,,\\r\\n,,,,,,,,,\\r\\n,,,,,,,,,\\r\\n,,,,,,,,,\\r\\n,,,,,,,,,\\r\\n,,,,,,,,,\\r\\n,,,,,,,,,\\r\\n,,,,,,,,,\\r\\n,,,,,,,,,\\r\\n,,,,,,,,,\\r\\n,,,,,,,,,\\r\\n,,,,,,,,,\\r\\n,,,,,,,,,\\r\\n,,,,,,,,,\\r\\n,,,,,,,,,\\r\\n,,,,,,,,,\\r\\n,,,,,,,,,\\r\\n,,,,,,,,,\\r\\n,,,,,,,,,\\r\\n,,,,,,,,,\\r\\n,,,,,,,,,\\r\\n,,,,,,,,,\\r\\n,,,,,,,,,\\r\\n,,,,,,,,,\\r\\n,,,,,,,,,\\r\\n,,,,,,,,,\\r\\n,,,,,,,,,\\r\\n,,,,,,,,,\\r\\n,,,,,,,,,\\r\\n,,,,,,,,,\\r\\n,,,,,,,,,\\r\\n,,,,,,,,,\\r\\n,,,,,,,,,\\r\\n,,,,,,,,,\\r\\n,,,,,,,,,\\r\\n,,,,,,,,,\\r\\n,,,,,,,,,\\r\\n,,,,,,,,,\\r\\n,,,,,,,,,\\r\\n,,,,,,,,,\\r\\n,,,,,,,,,\\r\\n,,,,,,,,,\\r\\n,,,,,,,,,\\r\\n,,,,,,,,,\\r\\n,,,,,,,,,\\r\\n,,,,,,,,,\\r\\n,,,,,,,,,\\r\\n,,,,,,,,,\\r\\n,,,,,,,,,\\r\\n,,,,,,,,,\\r\\n,,,,,,,,,\\r\\n,,,,,,,,,\\r\\n,,,,,,,,,\\r\\n,,,,,,,,,\\r\\n,,,,,,,,,\\r\\n,,,,,,,,,\\r\\n,,,,,,,,,\\r\\n,,,,,,,,,\\r\\n,,,,,,,,,\\r\\n,,,,,,,,,\\r\\n,,,,,,,,,\\r\\n,,,,,,,,,\\r\\n,,,,,,,,,\\r\\n,,,,,,,,,\\r\\n,,,,,,,,,\\r\\n,,,,,,,,,\\r\\n,,,,,,,,,\\r\\n,,,,,,,,,\\r\\n,,,,,,,,,\\r\\n,,,,,,,,,\\r\\n,,,,,,,,,\\r\\n,,,,,,,,,\\r\\n,,,,,,,,,\\r\\n,,,,,,,,,\\r\\n,,,,,,,,,\\r\\n,,,,,,,,,\\r\\n,,,,,,,,,\\r\\n,,,,,,,,,\\r\\n,,,,,,,,,\\r\\n,,,,,,,,,\\r\\n,,,,,,,,,\\r\\n,,,,,,,,,\\r\\n,,,,,,,,,\\r\\n,,,,,,,,,\\r\\n,,,,,,,,,\\r\\n,,,,,,,,,\\r\\n,,,,,,,,,\\r\\n,,,,,,,,,\\r\\n,,,,,,,,,\\r\\n,,,,,,,,,\\r\\n,,,,,,,,,\\r\\n,,,,,,,,,\\r\\n,,,,,,,,,\\r\\n,,,,,,,,,\\r\\n,,,,,,,,,\\r\\n,,,,,,,,,\\r\\n,,,,,,,,,\\r\\n,,,,,,,,,\\r\\n,,,,,,,,,\\r\\n,,,,,,,,,\\r\\n,,,,,,,,,\\r\\n,,,,,,,,,\\r\\n,,,,,,,,,\\r\\n,,,,,,,,,\\r\\n,,,,,,,,,\\r\\n,,,,,,,,,\\r\\n,,,,,,,,,\\r\\n,,,,,,,,,\\r\\n,,,,,,,,,\\r\\n,,,,,,,,,\\r\\n,,,,,,,,,\\r\\n,,,,,,,,,\\r\\n,,,,,,,,,\\r\\n,,,,,,,,,\\r\\n,,,,,,,,,\\r\\n,,,,,,,,,\\r\\n,,,,,,,,,\\r\\n,,,,,,,,,\\r\\n,,,,,,,,,\\r\\n,,,,,,,,,\\r\\n,,,,,,,,,\\r\\n,,,,,,,,,\\r\\n,,,,,,,,,\\r\\n,,,,,,,,,\\r\\n,,,,,,,,,\\r\\n,,,,,,,,,\\r\\n,,,,,,,,,\\r\\n,,,,,,,,,\\r\\n,,,,,,,,,\\r\\n,,,,,,,,,\\r\\n,,,,,,,,,\\r\\n,,,,,,,,,\\r\\n,,,,,,,,,\\r\\n,,,,,,,,,\\r\\n,,,,,,,,,\\r\\n,,,,,,,,,\\r\\n,,,,,,,,,\\r\\n,,,,,,,,,\\r\\n,,,,,,,,,\\r\\n,,,,,,,,,\\r\\n,,,,,,,,,\\r\\n,,,,,,,,,\\r\\n,,,,,,,,,\\r\\n,,,,,,,,,\\r\\n,,,,,,,,,\\r\\n,,,,,,,,,\\r\\n,,,,,,,,,\\r\\n,,,,,,,,,\\r\\n,,,,,,,,,\\r\\n,,,,,,,,,\\r\\n,,,,,,,,,\\r\\n,,,,,,,,,\\r\\n,,,,,,,,,\\r\\n,,,,,,,,,\\r\\n,,,,,,,,,\\r\\n,,,,,,,,,\\r\\n,,,,,,,,,\\r\\n,,,,,,,,,\\r\\n,,,,,,,,,\\r\\n,,,,,,,,,\\r\\n,,,,,,,,,\\r\\n,,,,,,,,,\\r\\n,,,,,,,,,\\r\\n,,,,,,,,,\\r\\n,,,,,,,,,\\r\\n,,,,,,,,,\\r\\n,,,,,,,,,\\r\\n,,,,,,,,,\\r\\n,,,,,,,,,\\r\\n,,,,,,,,,\\r\\n,,,,,,,,,\\r\\n,,,,,,,,,\\r\\n,,,,,,,,,\\r\\n,,,,,,,,,\\r\\n,,,,,,,,,\\r\\n,,,,,,,,,\\r\\n,,,,,,,,,\\r\\n,,,,,,,,,\\r\\n,,,,,,,,,\\r\\n,,,,,,,,,\\r\\n,,,,,,,,,\\r\\n,,,,,,,,,\\r\\n,,,,,,,,,\\r\\n,,,,,,,,,\\r\\n,,,,,,,,,\\r\\n,,,,,,,,,\\r\\n,,,,,,,,,\\r\\n,,,,,,,,,\\r\\n,,,,,,,,,\\r\\n,,,,,,,,,\\r\\n,,,,,,,,,\\r\\n,,,,,,,,,\\r\\n,,,,,,,,,\\r\\n,,,,,,,,,\\r\\n,,,,,,,,,\\r\\n,,,,,,,,,\\r\\n,,,,,,,,,\"}"
      ]
     },
     "execution_count": 1,
     "metadata": {
      "tags": []
     },
     "output_type": "execute_result"
    }
   ],
   "source": [
    "from google.colab import files\n",
    "\n",
    "files.upload() "
   ]
  },
  {
   "cell_type": "markdown",
   "metadata": {},
   "source": [
    "#### dataset is uploaded from the local machine in the form of a dictionary in the current browser session"
   ]
  },
  {
   "cell_type": "markdown",
   "metadata": {},
   "source": [
    "#### exploring data just like jupyter notebooks"
   ]
  },
  {
   "cell_type": "code",
   "execution_count": 0,
   "metadata": {
    "colab": {},
    "colab_type": "code",
    "id": "9BJ7mASyo_BO"
   },
   "outputs": [],
   "source": [
    "import pandas as pd"
   ]
  },
  {
   "cell_type": "code",
   "execution_count": 0,
   "metadata": {
    "colab": {
     "base_uri": "https://localhost:8080/",
     "height": 204
    },
    "colab_type": "code",
    "executionInfo": {
     "elapsed": 937,
     "status": "ok",
     "timestamp": 1569318061290,
     "user": {
      "displayName": "Spikey Engineer",
      "photoUrl": "",
      "userId": "00295138978233683076"
     },
     "user_tz": -330
    },
    "id": "zTd421eXo_Du",
    "outputId": "c3e11b42-34e9-42db-a01b-879a2b08bf64"
   },
   "outputs": [
    {
     "data": {
      "text/html": [
       "<div>\n",
       "<style scoped>\n",
       "    .dataframe tbody tr th:only-of-type {\n",
       "        vertical-align: middle;\n",
       "    }\n",
       "\n",
       "    .dataframe tbody tr th {\n",
       "        vertical-align: top;\n",
       "    }\n",
       "\n",
       "    .dataframe thead th {\n",
       "        text-align: right;\n",
       "    }\n",
       "</style>\n",
       "<table border=\"1\" class=\"dataframe\">\n",
       "  <thead>\n",
       "    <tr style=\"text-align: right;\">\n",
       "      <th></th>\n",
       "      <th>TimeSpent</th>\n",
       "      <th>Age</th>\n",
       "      <th>AreaIncome</th>\n",
       "      <th>DailyInternetUsage</th>\n",
       "      <th>AdHeadline</th>\n",
       "      <th>City</th>\n",
       "      <th>Male</th>\n",
       "      <th>Country</th>\n",
       "      <th>Timestamp</th>\n",
       "      <th>Clicked</th>\n",
       "    </tr>\n",
       "  </thead>\n",
       "  <tbody>\n",
       "    <tr>\n",
       "      <th>0</th>\n",
       "      <td>80.23</td>\n",
       "      <td>31.0</td>\n",
       "      <td>68441.85</td>\n",
       "      <td>193.77</td>\n",
       "      <td>Monitored national standardization</td>\n",
       "      <td>West Jodi</td>\n",
       "      <td>1.0</td>\n",
       "      <td>Nauru</td>\n",
       "      <td>04/04/16 1:39</td>\n",
       "      <td>0.0</td>\n",
       "    </tr>\n",
       "    <tr>\n",
       "      <th>1</th>\n",
       "      <td>69.47</td>\n",
       "      <td>26.0</td>\n",
       "      <td>59785.94</td>\n",
       "      <td>236.50</td>\n",
       "      <td>Organic bottom-line service-desk</td>\n",
       "      <td>Davidton</td>\n",
       "      <td>0.0</td>\n",
       "      <td>San Marino</td>\n",
       "      <td>13/03/16 20:35</td>\n",
       "      <td>0.0</td>\n",
       "    </tr>\n",
       "    <tr>\n",
       "      <th>2</th>\n",
       "      <td>74.15</td>\n",
       "      <td>29.0</td>\n",
       "      <td>54806.18</td>\n",
       "      <td>245.89</td>\n",
       "      <td>Triple-buffered reciprocal time-frame</td>\n",
       "      <td>West Terrifurt</td>\n",
       "      <td>1.0</td>\n",
       "      <td>Italy</td>\n",
       "      <td>10/01/16 2:31</td>\n",
       "      <td>0.0</td>\n",
       "    </tr>\n",
       "    <tr>\n",
       "      <th>3</th>\n",
       "      <td>68.37</td>\n",
       "      <td>35.0</td>\n",
       "      <td>73889.99</td>\n",
       "      <td>225.58</td>\n",
       "      <td>Robust logistical utilization</td>\n",
       "      <td>South Manuel</td>\n",
       "      <td>0.0</td>\n",
       "      <td>Iceland</td>\n",
       "      <td>03/06/16 3:36</td>\n",
       "      <td>0.0</td>\n",
       "    </tr>\n",
       "    <tr>\n",
       "      <th>4</th>\n",
       "      <td>59.99</td>\n",
       "      <td>23.0</td>\n",
       "      <td>59761.56</td>\n",
       "      <td>226.74</td>\n",
       "      <td>Sharable client-driven software</td>\n",
       "      <td>Jamieberg</td>\n",
       "      <td>1.0</td>\n",
       "      <td>Norway</td>\n",
       "      <td>19/05/16 14:30</td>\n",
       "      <td>0.0</td>\n",
       "    </tr>\n",
       "  </tbody>\n",
       "</table>\n",
       "</div>"
      ],
      "text/plain": [
       "   TimeSpent   Age  AreaIncome  ...     Country       Timestamp Clicked\n",
       "0      80.23  31.0    68441.85  ...       Nauru   04/04/16 1:39     0.0\n",
       "1      69.47  26.0    59785.94  ...  San Marino  13/03/16 20:35     0.0\n",
       "2      74.15  29.0    54806.18  ...       Italy   10/01/16 2:31     0.0\n",
       "3      68.37  35.0    73889.99  ...     Iceland   03/06/16 3:36     0.0\n",
       "4      59.99  23.0    59761.56  ...      Norway  19/05/16 14:30     0.0\n",
       "\n",
       "[5 rows x 10 columns]"
      ]
     },
     "execution_count": 3,
     "metadata": {
      "tags": []
     },
     "output_type": "execute_result"
    }
   ],
   "source": [
    "data = pd.read_csv('advertising_cleaned.csv')\n",
    "\n",
    "data.head()"
   ]
  },
  {
   "cell_type": "code",
   "execution_count": 0,
   "metadata": {
    "colab": {
     "base_uri": "https://localhost:8080/",
     "height": 272
    },
    "colab_type": "code",
    "executionInfo": {
     "elapsed": 939,
     "status": "ok",
     "timestamp": 1569318078626,
     "user": {
      "displayName": "Spikey Engineer",
      "photoUrl": "",
      "userId": "00295138978233683076"
     },
     "user_tz": -330
    },
    "id": "TLc-mdM-o_Gg",
    "outputId": "afc4458e-fca6-43df-b6d0-29ffc2a8097b"
   },
   "outputs": [
    {
     "name": "stdout",
     "output_type": "stream",
     "text": [
      "<class 'pandas.core.frame.DataFrame'>\n",
      "RangeIndex: 1002 entries, 0 to 1001\n",
      "Data columns (total 10 columns):\n",
      "TimeSpent             300 non-null float64\n",
      "Age                   300 non-null float64\n",
      "AreaIncome            300 non-null float64\n",
      "DailyInternetUsage    300 non-null float64\n",
      "AdHeadline            300 non-null object\n",
      "City                  300 non-null object\n",
      "Male                  300 non-null float64\n",
      "Country               300 non-null object\n",
      "Timestamp             300 non-null object\n",
      "Clicked               300 non-null float64\n",
      "dtypes: float64(6), object(4)\n",
      "memory usage: 78.4+ KB\n"
     ]
    }
   ],
   "source": [
    "data.info()"
   ]
  },
  {
   "cell_type": "code",
   "execution_count": 0,
   "metadata": {
    "colab": {
     "base_uri": "https://localhost:8080/",
     "height": 297
    },
    "colab_type": "code",
    "executionInfo": {
     "elapsed": 1141,
     "status": "ok",
     "timestamp": 1569318092857,
     "user": {
      "displayName": "Spikey Engineer",
      "photoUrl": "",
      "userId": "00295138978233683076"
     },
     "user_tz": -330
    },
    "id": "sqroFpKTo_Jh",
    "outputId": "0a8a1f32-a4dc-411b-81a5-c9d3a1ef270b"
   },
   "outputs": [
    {
     "data": {
      "text/html": [
       "<div>\n",
       "<style scoped>\n",
       "    .dataframe tbody tr th:only-of-type {\n",
       "        vertical-align: middle;\n",
       "    }\n",
       "\n",
       "    .dataframe tbody tr th {\n",
       "        vertical-align: top;\n",
       "    }\n",
       "\n",
       "    .dataframe thead th {\n",
       "        text-align: right;\n",
       "    }\n",
       "</style>\n",
       "<table border=\"1\" class=\"dataframe\">\n",
       "  <thead>\n",
       "    <tr style=\"text-align: right;\">\n",
       "      <th></th>\n",
       "      <th>TimeSpent</th>\n",
       "      <th>Age</th>\n",
       "      <th>AreaIncome</th>\n",
       "      <th>DailyInternetUsage</th>\n",
       "      <th>Male</th>\n",
       "      <th>Clicked</th>\n",
       "    </tr>\n",
       "  </thead>\n",
       "  <tbody>\n",
       "    <tr>\n",
       "      <th>count</th>\n",
       "      <td>300.000000</td>\n",
       "      <td>300.000000</td>\n",
       "      <td>300.000000</td>\n",
       "      <td>300.000000</td>\n",
       "      <td>300.000000</td>\n",
       "      <td>300.000000</td>\n",
       "    </tr>\n",
       "    <tr>\n",
       "      <th>mean</th>\n",
       "      <td>64.718867</td>\n",
       "      <td>36.123333</td>\n",
       "      <td>55853.054933</td>\n",
       "      <td>177.685267</td>\n",
       "      <td>0.426667</td>\n",
       "      <td>0.516667</td>\n",
       "    </tr>\n",
       "    <tr>\n",
       "      <th>std</th>\n",
       "      <td>15.535111</td>\n",
       "      <td>8.949213</td>\n",
       "      <td>13764.921570</td>\n",
       "      <td>42.455412</td>\n",
       "      <td>0.495419</td>\n",
       "      <td>0.500557</td>\n",
       "    </tr>\n",
       "    <tr>\n",
       "      <th>min</th>\n",
       "      <td>33.210000</td>\n",
       "      <td>20.000000</td>\n",
       "      <td>17709.980000</td>\n",
       "      <td>104.780000</td>\n",
       "      <td>0.000000</td>\n",
       "      <td>0.000000</td>\n",
       "    </tr>\n",
       "    <tr>\n",
       "      <th>25%</th>\n",
       "      <td>50.405000</td>\n",
       "      <td>29.750000</td>\n",
       "      <td>48343.755000</td>\n",
       "      <td>138.702500</td>\n",
       "      <td>0.000000</td>\n",
       "      <td>0.000000</td>\n",
       "    </tr>\n",
       "    <tr>\n",
       "      <th>50%</th>\n",
       "      <td>68.490000</td>\n",
       "      <td>35.000000</td>\n",
       "      <td>58437.225000</td>\n",
       "      <td>174.100000</td>\n",
       "      <td>0.000000</td>\n",
       "      <td>1.000000</td>\n",
       "    </tr>\n",
       "    <tr>\n",
       "      <th>75%</th>\n",
       "      <td>77.540000</td>\n",
       "      <td>42.000000</td>\n",
       "      <td>65992.280000</td>\n",
       "      <td>212.992500</td>\n",
       "      <td>1.000000</td>\n",
       "      <td>1.000000</td>\n",
       "    </tr>\n",
       "    <tr>\n",
       "      <th>max</th>\n",
       "      <td>89.910000</td>\n",
       "      <td>60.000000</td>\n",
       "      <td>78119.500000</td>\n",
       "      <td>269.960000</td>\n",
       "      <td>1.000000</td>\n",
       "      <td>1.000000</td>\n",
       "    </tr>\n",
       "  </tbody>\n",
       "</table>\n",
       "</div>"
      ],
      "text/plain": [
       "        TimeSpent         Age  ...        Male     Clicked\n",
       "count  300.000000  300.000000  ...  300.000000  300.000000\n",
       "mean    64.718867   36.123333  ...    0.426667    0.516667\n",
       "std     15.535111    8.949213  ...    0.495419    0.500557\n",
       "min     33.210000   20.000000  ...    0.000000    0.000000\n",
       "25%     50.405000   29.750000  ...    0.000000    0.000000\n",
       "50%     68.490000   35.000000  ...    0.000000    1.000000\n",
       "75%     77.540000   42.000000  ...    1.000000    1.000000\n",
       "max     89.910000   60.000000  ...    1.000000    1.000000\n",
       "\n",
       "[8 rows x 6 columns]"
      ]
     },
     "execution_count": 5,
     "metadata": {
      "tags": []
     },
     "output_type": "execute_result"
    }
   ],
   "source": [
    "data.describe()"
   ]
  },
  {
   "cell_type": "markdown",
   "metadata": {},
   "source": [
    "#### visualizing data"
   ]
  },
  {
   "cell_type": "code",
   "execution_count": 0,
   "metadata": {
    "colab": {},
    "colab_type": "code",
    "id": "WPPOWYX0o_OI"
   },
   "outputs": [],
   "source": [
    "import matplotlib.pyplot as plt"
   ]
  },
  {
   "cell_type": "code",
   "execution_count": 0,
   "metadata": {
    "colab": {
     "base_uri": "https://localhost:8080/",
     "height": 397
    },
    "colab_type": "code",
    "executionInfo": {
     "elapsed": 965,
     "status": "ok",
     "timestamp": 1569318115278,
     "user": {
      "displayName": "Spikey Engineer",
      "photoUrl": "",
      "userId": "00295138978233683076"
     },
     "user_tz": -330
    },
    "id": "cw09NRt5o_M7",
    "outputId": "74b4be52-8051-4964-b7f1-0e2a1ea4adda"
   },
   "outputs": [
    {
     "data": {
      "image/png": "[encoded data removed]",
      "text/plain": [
       "<Figure size 576x432 with 1 Axes>"
      ]
     },
     "metadata": {
      "tags": []
     },
     "output_type": "display_data"
    }
   ],
   "source": [
    "data['Clicked'].value_counts().plot(kind = 'bar', figsize=(8,6))\n",
    "\n",
    "plt.xlabel('clicked on ad')\n",
    "plt.ylabel('count')\n",
    "\n",
    "\n",
    "plt.show()"
   ]
  },
  {
   "cell_type": "code",
   "execution_count": 0,
   "metadata": {
    "colab": {},
    "colab_type": "code",
    "id": "TJhq_Idpk2Nf"
   },
   "outputs": [],
   "source": []
  },
  {
   "cell_type": "code",
   "execution_count": 0,
   "metadata": {
    "colab": {},
    "colab_type": "code",
    "id": "kBMZKoFhk2Qg"
   },
   "outputs": [],
   "source": []
  },
  {
   "cell_type": "code",
   "execution_count": 0,
   "metadata": {
    "colab": {},
    "colab_type": "code",
    "id": "zjM8j-Wmk2TX"
   },
   "outputs": [],
   "source": []
  },
  {
   "cell_type": "code",
   "execution_count": 0,
   "metadata": {
    "colab": {},
    "colab_type": "code",
    "id": "oU4AOpt5k2WQ"
   },
   "outputs": [],
   "source": []
  },
  {
   "cell_type": "code",
   "execution_count": 0,
   "metadata": {
    "colab": {},
    "colab_type": "code",
    "id": "qoop8QLqk2ZO"
   },
   "outputs": [],
   "source": []
  },
  {
   "cell_type": "code",
   "execution_count": 0,
   "metadata": {
    "colab": {},
    "colab_type": "code",
    "id": "1atuSN9pk2b9"
   },
   "outputs": [],
   "source": []
  },
  {
   "cell_type": "code",
   "execution_count": 0,
   "metadata": {
    "colab": {},
    "colab_type": "code",
    "id": "hELgdM1Ak2et"
   },
   "outputs": [],
   "source": []
  },
  {
   "cell_type": "code",
   "execution_count": 0,
   "metadata": {
    "colab": {},
    "colab_type": "code",
    "id": "bznCVKNAk2hn"
   },
   "outputs": [],
   "source": []
  },
  {
   "cell_type": "code",
   "execution_count": 0,
   "metadata": {
    "colab": {},
    "colab_type": "code",
    "id": "S-hF6V9x_s_i"
   },
   "outputs": [],
   "source": []
  }
 ],
 "metadata": {
  "colab": {
   "name": "IntroducingGoogleColab.ipynb",
   "provenance": []
  },
  "kernelspec": {
   "display_name": "Python 3",
   "language": "python",
   "name": "python3"
  },
  "language_info": {
   "codemirror_mode": {
    "name": "ipython",
    "version": 3
   },
   "file_extension": ".py",
   "mimetype": "text/x-python",
   "name": "python",
   "nbconvert_exporter": "python",
   "pygments_lexer": "ipython3",
   "version": "3.7.0"
  }
 },
 "nbformat": 4,
 "nbformat_minor": 1
}
