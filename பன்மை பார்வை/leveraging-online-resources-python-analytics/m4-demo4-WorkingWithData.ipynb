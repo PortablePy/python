{
 "cells": [
  {
   "cell_type": "code",
   "execution_count": 1,
   "metadata": {
    "colab": {
     "base_uri": "https://localhost:8080/",
     "height": 122
    },
    "colab_type": "code",
    "executionInfo": {
     "elapsed": 39042,
     "status": "ok",
     "timestamp": 1569485260127,
     "user": {
      "displayName": "Spikey Engineer",
      "photoUrl": "",
      "userId": "00295138978233683076"
     },
     "user_tz": -330
    },
    "id": "dNKUM1TWmyFk",
    "outputId": "b6cca2f9-bfbd-4181-e37a-0760ec004a66"
   },
   "outputs": [
    {
     "name": "stdout",
     "output_type": "stream",
     "text": [
      "Go to this URL in a browser: https://accounts.google.com/o/oauth2/auth?client_id=947318989803-6bn6qk8qdgf4n4g3pfee6491hc0brc4i.apps.googleusercontent.com&redirect_uri=urn%3Aietf%3Awg%3Aoauth%3A2.0%3Aoob&scope=email%20https%3A%2F%2Fwww.googleapis.com%2Fauth%2Fdocs.test%20https%3A%2F%2Fwww.googleapis.com%2Fauth%2Fdrive%20https%3A%2F%2Fwww.googleapis.com%2Fauth%2Fdrive.photos.readonly%20https%3A%2F%2Fwww.googleapis.com%2Fauth%2Fpeopleapi.readonly&response_type=code\n",
      "\n",
      "Enter your authorization code:\n",
      "··········\n",
      "Mounted at /content/drive\n"
     ]
    }
   ],
   "source": [
    "from google.colab import drive\n",
    "drive.mount('/content/drive')"
   ]
  },
  {
   "cell_type": "markdown",
   "metadata": {},
   "source": [
    "writing to the drive"
   ]
  },
  {
   "cell_type": "code",
   "execution_count": 2,
   "metadata": {
    "colab": {
     "base_uri": "https://localhost:8080/",
     "height": 34
    },
    "colab_type": "code",
    "executionInfo": {
     "elapsed": 3410,
     "status": "ok",
     "timestamp": 1569485272332,
     "user": {
      "displayName": "Spikey Engineer",
      "photoUrl": "",
      "userId": "00295138978233683076"
     },
     "user_tz": -330
    },
    "id": "71iSPMytm1d1",
    "outputId": "3f09eac1-f1aa-4fe0-da4f-06d09dc5434f"
   },
   "outputs": [
    {
     "name": "stdout",
     "output_type": "stream",
     "text": [
      "Hello Google Drive!"
     ]
    }
   ],
   "source": [
    "with open('/content/drive/My Drive/sample.txt', 'w') as f:\n",
    "  f.write('Hello Google Drive!')\n",
    "!cat /content/drive/My\\ Drive/sample.txt"
   ]
  },
  {
   "cell_type": "code",
   "execution_count": 0,
   "metadata": {
    "colab": {},
    "colab_type": "code",
    "id": "XjgKsg70m1gn"
   },
   "outputs": [],
   "source": [
    "import pandas as pd\n",
    "import numpy as np\n",
    "import matplotlib.pyplot as plt\n",
    "import seaborn as sns"
   ]
  },
  {
   "cell_type": "markdown",
   "metadata": {},
   "source": [
    "#### reading data from the drive"
   ]
  },
  {
   "cell_type": "code",
   "execution_count": 0,
   "metadata": {
    "colab": {},
    "colab_type": "code",
    "id": "xoFded0nm1jD"
   },
   "outputs": [],
   "source": [
    "data = pd.read_csv('drive/My Drive/automobile_data_final.csv')"
   ]
  },
  {
   "cell_type": "code",
   "execution_count": 5,
   "metadata": {
    "colab": {
     "base_uri": "https://localhost:8080/",
     "height": 34
    },
    "colab_type": "code",
    "executionInfo": {
     "elapsed": 1264,
     "status": "ok",
     "timestamp": 1569485319843,
     "user": {
      "displayName": "Spikey Engineer",
      "photoUrl": "",
      "userId": "00295138978233683076"
     },
     "user_tz": -330
    },
    "id": "stgMpsAPm1le",
    "outputId": "571e1f48-558c-4e04-8bc0-59b6ce2c29d5"
   },
   "outputs": [
    {
     "name": "stdout",
     "output_type": "stream",
     "text": [
      "Shape of the dataset is (159, 26)\n"
     ]
    }
   ],
   "source": [
    "print('Shape of the dataset is', data.shape)"
   ]
  },
  {
   "cell_type": "code",
   "execution_count": 6,
   "metadata": {
    "colab": {
     "base_uri": "https://localhost:8080/",
     "height": 224
    },
    "colab_type": "code",
    "executionInfo": {
     "elapsed": 915,
     "status": "ok",
     "timestamp": 1569485328855,
     "user": {
      "displayName": "Spikey Engineer",
      "photoUrl": "",
      "userId": "00295138978233683076"
     },
     "user_tz": -330
    },
    "id": "zBoA0e60m1n-",
    "outputId": "2b4ca593-28b1-42f4-aaf4-52297eabae6b"
   },
   "outputs": [
    {
     "data": {
      "text/html": [
       "<div>\n",
       "<style scoped>\n",
       "    .dataframe tbody tr th:only-of-type {\n",
       "        vertical-align: middle;\n",
       "    }\n",
       "\n",
       "    .dataframe tbody tr th {\n",
       "        vertical-align: top;\n",
       "    }\n",
       "\n",
       "    .dataframe thead th {\n",
       "        text-align: right;\n",
       "    }\n",
       "</style>\n",
       "<table border=\"1\" class=\"dataframe\">\n",
       "  <thead>\n",
       "    <tr style=\"text-align: right;\">\n",
       "      <th></th>\n",
       "      <th>symboling</th>\n",
       "      <th>normalized_losses</th>\n",
       "      <th>make</th>\n",
       "      <th>fuel_type</th>\n",
       "      <th>aspiration</th>\n",
       "      <th>num_of_doors</th>\n",
       "      <th>body_style</th>\n",
       "      <th>drive_wheels</th>\n",
       "      <th>engine_location</th>\n",
       "      <th>wheel_base</th>\n",
       "      <th>length</th>\n",
       "      <th>width</th>\n",
       "      <th>height</th>\n",
       "      <th>curb_weight</th>\n",
       "      <th>engine_type</th>\n",
       "      <th>num_of_cylinders</th>\n",
       "      <th>engine_size</th>\n",
       "      <th>fuel_system</th>\n",
       "      <th>bore</th>\n",
       "      <th>stroke</th>\n",
       "      <th>compression_ratio</th>\n",
       "      <th>horsepower</th>\n",
       "      <th>peak_rpm</th>\n",
       "      <th>city_mpg</th>\n",
       "      <th>highway_mpg</th>\n",
       "      <th>price</th>\n",
       "    </tr>\n",
       "  </thead>\n",
       "  <tbody>\n",
       "    <tr>\n",
       "      <th>0</th>\n",
       "      <td>2</td>\n",
       "      <td>164</td>\n",
       "      <td>audi</td>\n",
       "      <td>gas</td>\n",
       "      <td>std</td>\n",
       "      <td>four</td>\n",
       "      <td>sedan</td>\n",
       "      <td>fwd</td>\n",
       "      <td>front</td>\n",
       "      <td>99.8</td>\n",
       "      <td>176.6</td>\n",
       "      <td>66.2</td>\n",
       "      <td>54.3</td>\n",
       "      <td>2337</td>\n",
       "      <td>ohc</td>\n",
       "      <td>four</td>\n",
       "      <td>109</td>\n",
       "      <td>mpfi</td>\n",
       "      <td>3.19</td>\n",
       "      <td>3.4</td>\n",
       "      <td>10.0</td>\n",
       "      <td>102</td>\n",
       "      <td>5500</td>\n",
       "      <td>24</td>\n",
       "      <td>30</td>\n",
       "      <td>13950</td>\n",
       "    </tr>\n",
       "    <tr>\n",
       "      <th>1</th>\n",
       "      <td>2</td>\n",
       "      <td>164</td>\n",
       "      <td>audi</td>\n",
       "      <td>gas</td>\n",
       "      <td>std</td>\n",
       "      <td>four</td>\n",
       "      <td>sedan</td>\n",
       "      <td>4wd</td>\n",
       "      <td>front</td>\n",
       "      <td>99.4</td>\n",
       "      <td>176.6</td>\n",
       "      <td>66.4</td>\n",
       "      <td>54.3</td>\n",
       "      <td>2824</td>\n",
       "      <td>ohc</td>\n",
       "      <td>five</td>\n",
       "      <td>136</td>\n",
       "      <td>mpfi</td>\n",
       "      <td>3.19</td>\n",
       "      <td>3.4</td>\n",
       "      <td>8.0</td>\n",
       "      <td>115</td>\n",
       "      <td>5500</td>\n",
       "      <td>18</td>\n",
       "      <td>22</td>\n",
       "      <td>17450</td>\n",
       "    </tr>\n",
       "    <tr>\n",
       "      <th>2</th>\n",
       "      <td>1</td>\n",
       "      <td>158</td>\n",
       "      <td>audi</td>\n",
       "      <td>gas</td>\n",
       "      <td>std</td>\n",
       "      <td>four</td>\n",
       "      <td>sedan</td>\n",
       "      <td>fwd</td>\n",
       "      <td>front</td>\n",
       "      <td>105.8</td>\n",
       "      <td>192.7</td>\n",
       "      <td>71.4</td>\n",
       "      <td>55.7</td>\n",
       "      <td>2844</td>\n",
       "      <td>ohc</td>\n",
       "      <td>five</td>\n",
       "      <td>136</td>\n",
       "      <td>mpfi</td>\n",
       "      <td>3.19</td>\n",
       "      <td>3.4</td>\n",
       "      <td>8.5</td>\n",
       "      <td>110</td>\n",
       "      <td>5500</td>\n",
       "      <td>19</td>\n",
       "      <td>25</td>\n",
       "      <td>17710</td>\n",
       "    </tr>\n",
       "    <tr>\n",
       "      <th>3</th>\n",
       "      <td>1</td>\n",
       "      <td>158</td>\n",
       "      <td>audi</td>\n",
       "      <td>gas</td>\n",
       "      <td>turbo</td>\n",
       "      <td>four</td>\n",
       "      <td>sedan</td>\n",
       "      <td>fwd</td>\n",
       "      <td>front</td>\n",
       "      <td>105.8</td>\n",
       "      <td>192.7</td>\n",
       "      <td>71.4</td>\n",
       "      <td>55.9</td>\n",
       "      <td>3086</td>\n",
       "      <td>ohc</td>\n",
       "      <td>five</td>\n",
       "      <td>131</td>\n",
       "      <td>mpfi</td>\n",
       "      <td>3.13</td>\n",
       "      <td>3.4</td>\n",
       "      <td>8.3</td>\n",
       "      <td>140</td>\n",
       "      <td>5500</td>\n",
       "      <td>17</td>\n",
       "      <td>20</td>\n",
       "      <td>23875</td>\n",
       "    </tr>\n",
       "    <tr>\n",
       "      <th>4</th>\n",
       "      <td>2</td>\n",
       "      <td>192</td>\n",
       "      <td>bmw</td>\n",
       "      <td>gas</td>\n",
       "      <td>std</td>\n",
       "      <td>two</td>\n",
       "      <td>sedan</td>\n",
       "      <td>rwd</td>\n",
       "      <td>front</td>\n",
       "      <td>101.2</td>\n",
       "      <td>176.8</td>\n",
       "      <td>64.8</td>\n",
       "      <td>54.3</td>\n",
       "      <td>2395</td>\n",
       "      <td>ohc</td>\n",
       "      <td>four</td>\n",
       "      <td>108</td>\n",
       "      <td>mpfi</td>\n",
       "      <td>3.50</td>\n",
       "      <td>2.8</td>\n",
       "      <td>8.8</td>\n",
       "      <td>101</td>\n",
       "      <td>5800</td>\n",
       "      <td>23</td>\n",
       "      <td>29</td>\n",
       "      <td>16430</td>\n",
       "    </tr>\n",
       "  </tbody>\n",
       "</table>\n",
       "</div>"
      ],
      "text/plain": [
       "   symboling  normalized_losses  make  ... city_mpg highway_mpg  price\n",
       "0          2                164  audi  ...       24          30  13950\n",
       "1          2                164  audi  ...       18          22  17450\n",
       "2          1                158  audi  ...       19          25  17710\n",
       "3          1                158  audi  ...       17          20  23875\n",
       "4          2                192   bmw  ...       23          29  16430\n",
       "\n",
       "[5 rows x 26 columns]"
      ]
     },
     "execution_count": 6,
     "metadata": {
      "tags": []
     },
     "output_type": "execute_result"
    }
   ],
   "source": [
    "data.head()"
   ]
  },
  {
   "cell_type": "code",
   "execution_count": 7,
   "metadata": {
    "colab": {
     "base_uri": "https://localhost:8080/",
     "height": 544
    },
    "colab_type": "code",
    "executionInfo": {
     "elapsed": 1084,
     "status": "ok",
     "timestamp": 1569485345439,
     "user": {
      "displayName": "Spikey Engineer",
      "photoUrl": "",
      "userId": "00295138978233683076"
     },
     "user_tz": -330
    },
    "id": "Mib_J1aom1qk",
    "outputId": "bfe38031-9b20-4f80-b8ff-4b9c25ba5715"
   },
   "outputs": [
    {
     "name": "stdout",
     "output_type": "stream",
     "text": [
      "<class 'pandas.core.frame.DataFrame'>\n",
      "RangeIndex: 159 entries, 0 to 158\n",
      "Data columns (total 26 columns):\n",
      "symboling            159 non-null int64\n",
      "normalized_losses    159 non-null int64\n",
      "make                 159 non-null object\n",
      "fuel_type            159 non-null object\n",
      "aspiration           159 non-null object\n",
      "num_of_doors         159 non-null object\n",
      "body_style           159 non-null object\n",
      "drive_wheels         159 non-null object\n",
      "engine_location      159 non-null object\n",
      "wheel_base           159 non-null float64\n",
      "length               159 non-null float64\n",
      "width                159 non-null float64\n",
      "height               159 non-null float64\n",
      "curb_weight          159 non-null int64\n",
      "engine_type          159 non-null object\n",
      "num_of_cylinders     159 non-null object\n",
      "engine_size          159 non-null int64\n",
      "fuel_system          159 non-null object\n",
      "bore                 159 non-null float64\n",
      "stroke               159 non-null float64\n",
      "compression_ratio    159 non-null float64\n",
      "horsepower           159 non-null int64\n",
      "peak_rpm             159 non-null int64\n",
      "city_mpg             159 non-null int64\n",
      "highway_mpg          159 non-null int64\n",
      "price                159 non-null int64\n",
      "dtypes: float64(7), int64(9), object(10)\n",
      "memory usage: 32.4+ KB\n"
     ]
    }
   ],
   "source": [
    "data.info()"
   ]
  },
  {
   "cell_type": "code",
   "execution_count": 8,
   "metadata": {
    "colab": {
     "base_uri": "https://localhost:8080/",
     "height": 476
    },
    "colab_type": "code",
    "executionInfo": {
     "elapsed": 895,
     "status": "ok",
     "timestamp": 1569485364282,
     "user": {
      "displayName": "Spikey Engineer",
      "photoUrl": "",
      "userId": "00295138978233683076"
     },
     "user_tz": -330
    },
    "id": "JG-iip9Qm1s8",
    "outputId": "7feb017a-7df7-4a4f-d980-270d34323ddf"
   },
   "outputs": [
    {
     "data": {
      "text/plain": [
       "symboling            0\n",
       "normalized_losses    0\n",
       "make                 0\n",
       "fuel_type            0\n",
       "aspiration           0\n",
       "num_of_doors         0\n",
       "body_style           0\n",
       "drive_wheels         0\n",
       "engine_location      0\n",
       "wheel_base           0\n",
       "length               0\n",
       "width                0\n",
       "height               0\n",
       "curb_weight          0\n",
       "engine_type          0\n",
       "num_of_cylinders     0\n",
       "engine_size          0\n",
       "fuel_system          0\n",
       "bore                 0\n",
       "stroke               0\n",
       "compression_ratio    0\n",
       "horsepower           0\n",
       "peak_rpm             0\n",
       "city_mpg             0\n",
       "highway_mpg          0\n",
       "price                0\n",
       "dtype: int64"
      ]
     },
     "execution_count": 8,
     "metadata": {
      "tags": []
     },
     "output_type": "execute_result"
    }
   ],
   "source": [
    "\n",
    "data.isnull().sum()"
   ]
  },
  {
   "cell_type": "code",
   "execution_count": 9,
   "metadata": {
    "colab": {
     "base_uri": "https://localhost:8080/",
     "height": 317
    },
    "colab_type": "code",
    "executionInfo": {
     "elapsed": 1187,
     "status": "ok",
     "timestamp": 1569485380876,
     "user": {
      "displayName": "Spikey Engineer",
      "photoUrl": "",
      "userId": "00295138978233683076"
     },
     "user_tz": -330
    },
    "id": "5sIxHbDUm12A",
    "outputId": "02747246-df48-4643-dc54-917e07ca6e28"
   },
   "outputs": [
    {
     "data": {
      "text/html": [
       "<div>\n",
       "<style scoped>\n",
       "    .dataframe tbody tr th:only-of-type {\n",
       "        vertical-align: middle;\n",
       "    }\n",
       "\n",
       "    .dataframe tbody tr th {\n",
       "        vertical-align: top;\n",
       "    }\n",
       "\n",
       "    .dataframe thead th {\n",
       "        text-align: right;\n",
       "    }\n",
       "</style>\n",
       "<table border=\"1\" class=\"dataframe\">\n",
       "  <thead>\n",
       "    <tr style=\"text-align: right;\">\n",
       "      <th></th>\n",
       "      <th>symboling</th>\n",
       "      <th>normalized_losses</th>\n",
       "      <th>wheel_base</th>\n",
       "      <th>length</th>\n",
       "      <th>width</th>\n",
       "      <th>height</th>\n",
       "      <th>curb_weight</th>\n",
       "      <th>engine_size</th>\n",
       "      <th>bore</th>\n",
       "      <th>stroke</th>\n",
       "      <th>compression_ratio</th>\n",
       "      <th>horsepower</th>\n",
       "      <th>peak_rpm</th>\n",
       "      <th>city_mpg</th>\n",
       "      <th>highway_mpg</th>\n",
       "      <th>price</th>\n",
       "    </tr>\n",
       "  </thead>\n",
       "  <tbody>\n",
       "    <tr>\n",
       "      <th>count</th>\n",
       "      <td>159.000000</td>\n",
       "      <td>159.000000</td>\n",
       "      <td>159.000000</td>\n",
       "      <td>159.000000</td>\n",
       "      <td>159.000000</td>\n",
       "      <td>159.000000</td>\n",
       "      <td>159.000000</td>\n",
       "      <td>159.000000</td>\n",
       "      <td>159.000000</td>\n",
       "      <td>159.000000</td>\n",
       "      <td>159.000000</td>\n",
       "      <td>159.000000</td>\n",
       "      <td>159.000000</td>\n",
       "      <td>159.000000</td>\n",
       "      <td>159.000000</td>\n",
       "      <td>159.000000</td>\n",
       "    </tr>\n",
       "    <tr>\n",
       "      <th>mean</th>\n",
       "      <td>0.735849</td>\n",
       "      <td>121.132075</td>\n",
       "      <td>98.264151</td>\n",
       "      <td>172.413836</td>\n",
       "      <td>65.607547</td>\n",
       "      <td>53.899371</td>\n",
       "      <td>2461.138365</td>\n",
       "      <td>119.226415</td>\n",
       "      <td>3.300126</td>\n",
       "      <td>3.236352</td>\n",
       "      <td>10.161132</td>\n",
       "      <td>95.836478</td>\n",
       "      <td>5113.836478</td>\n",
       "      <td>26.522013</td>\n",
       "      <td>32.081761</td>\n",
       "      <td>11445.729560</td>\n",
       "    </tr>\n",
       "    <tr>\n",
       "      <th>std</th>\n",
       "      <td>1.193086</td>\n",
       "      <td>35.651285</td>\n",
       "      <td>5.167416</td>\n",
       "      <td>11.523177</td>\n",
       "      <td>1.947883</td>\n",
       "      <td>2.268761</td>\n",
       "      <td>481.941321</td>\n",
       "      <td>30.460791</td>\n",
       "      <td>0.267336</td>\n",
       "      <td>0.294888</td>\n",
       "      <td>3.889475</td>\n",
       "      <td>30.718583</td>\n",
       "      <td>465.754864</td>\n",
       "      <td>6.097142</td>\n",
       "      <td>6.459189</td>\n",
       "      <td>5877.856195</td>\n",
       "    </tr>\n",
       "    <tr>\n",
       "      <th>min</th>\n",
       "      <td>-2.000000</td>\n",
       "      <td>65.000000</td>\n",
       "      <td>86.600000</td>\n",
       "      <td>141.100000</td>\n",
       "      <td>60.300000</td>\n",
       "      <td>49.400000</td>\n",
       "      <td>1488.000000</td>\n",
       "      <td>61.000000</td>\n",
       "      <td>2.540000</td>\n",
       "      <td>2.070000</td>\n",
       "      <td>7.000000</td>\n",
       "      <td>48.000000</td>\n",
       "      <td>4150.000000</td>\n",
       "      <td>15.000000</td>\n",
       "      <td>18.000000</td>\n",
       "      <td>5118.000000</td>\n",
       "    </tr>\n",
       "    <tr>\n",
       "      <th>25%</th>\n",
       "      <td>0.000000</td>\n",
       "      <td>94.000000</td>\n",
       "      <td>94.500000</td>\n",
       "      <td>165.650000</td>\n",
       "      <td>64.000000</td>\n",
       "      <td>52.250000</td>\n",
       "      <td>2065.500000</td>\n",
       "      <td>97.000000</td>\n",
       "      <td>3.050000</td>\n",
       "      <td>3.105000</td>\n",
       "      <td>8.700000</td>\n",
       "      <td>69.000000</td>\n",
       "      <td>4800.000000</td>\n",
       "      <td>23.000000</td>\n",
       "      <td>28.000000</td>\n",
       "      <td>7372.000000</td>\n",
       "    </tr>\n",
       "    <tr>\n",
       "      <th>50%</th>\n",
       "      <td>1.000000</td>\n",
       "      <td>113.000000</td>\n",
       "      <td>96.900000</td>\n",
       "      <td>172.400000</td>\n",
       "      <td>65.400000</td>\n",
       "      <td>54.100000</td>\n",
       "      <td>2340.000000</td>\n",
       "      <td>110.000000</td>\n",
       "      <td>3.270000</td>\n",
       "      <td>3.270000</td>\n",
       "      <td>9.000000</td>\n",
       "      <td>88.000000</td>\n",
       "      <td>5200.000000</td>\n",
       "      <td>26.000000</td>\n",
       "      <td>32.000000</td>\n",
       "      <td>9233.000000</td>\n",
       "    </tr>\n",
       "    <tr>\n",
       "      <th>75%</th>\n",
       "      <td>2.000000</td>\n",
       "      <td>148.000000</td>\n",
       "      <td>100.800000</td>\n",
       "      <td>177.800000</td>\n",
       "      <td>66.500000</td>\n",
       "      <td>55.500000</td>\n",
       "      <td>2809.500000</td>\n",
       "      <td>135.000000</td>\n",
       "      <td>3.560000</td>\n",
       "      <td>3.410000</td>\n",
       "      <td>9.400000</td>\n",
       "      <td>114.000000</td>\n",
       "      <td>5500.000000</td>\n",
       "      <td>31.000000</td>\n",
       "      <td>37.000000</td>\n",
       "      <td>14719.500000</td>\n",
       "    </tr>\n",
       "    <tr>\n",
       "      <th>max</th>\n",
       "      <td>3.000000</td>\n",
       "      <td>256.000000</td>\n",
       "      <td>115.600000</td>\n",
       "      <td>202.600000</td>\n",
       "      <td>71.700000</td>\n",
       "      <td>59.800000</td>\n",
       "      <td>4066.000000</td>\n",
       "      <td>258.000000</td>\n",
       "      <td>3.940000</td>\n",
       "      <td>4.170000</td>\n",
       "      <td>23.000000</td>\n",
       "      <td>200.000000</td>\n",
       "      <td>6600.000000</td>\n",
       "      <td>49.000000</td>\n",
       "      <td>54.000000</td>\n",
       "      <td>35056.000000</td>\n",
       "    </tr>\n",
       "  </tbody>\n",
       "</table>\n",
       "</div>"
      ],
      "text/plain": [
       "        symboling  normalized_losses  ...  highway_mpg         price\n",
       "count  159.000000         159.000000  ...   159.000000    159.000000\n",
       "mean     0.735849         121.132075  ...    32.081761  11445.729560\n",
       "std      1.193086          35.651285  ...     6.459189   5877.856195\n",
       "min     -2.000000          65.000000  ...    18.000000   5118.000000\n",
       "25%      0.000000          94.000000  ...    28.000000   7372.000000\n",
       "50%      1.000000         113.000000  ...    32.000000   9233.000000\n",
       "75%      2.000000         148.000000  ...    37.000000  14719.500000\n",
       "max      3.000000         256.000000  ...    54.000000  35056.000000\n",
       "\n",
       "[8 rows x 16 columns]"
      ]
     },
     "execution_count": 9,
     "metadata": {
      "tags": []
     },
     "output_type": "execute_result"
    }
   ],
   "source": [
    "data.describe()"
   ]
  },
  {
   "cell_type": "markdown",
   "metadata": {},
   "source": [
    "#### Visualize"
   ]
  },
  {
   "cell_type": "code",
   "execution_count": 10,
   "metadata": {
    "colab": {
     "base_uri": "https://localhost:8080/",
     "height": 433
    },
    "colab_type": "code",
    "executionInfo": {
     "elapsed": 1461,
     "status": "ok",
     "timestamp": 1569485417735,
     "user": {
      "displayName": "Spikey Engineer",
      "photoUrl": "",
      "userId": "00295138978233683076"
     },
     "user_tz": -330
    },
    "id": "OwihSiz6m15J",
    "outputId": "be9d7b10-a54e-4fe7-9bd0-b67cd95fec00"
   },
   "outputs": [
    {
     "data": {
      "text/plain": [
       "Text(0.5, 0, 'Make')"
      ]
     },
     "execution_count": 10,
     "metadata": {
      "tags": []
     },
     "output_type": "execute_result"
    },
    {
     "data": {
      "image/png": "[encoded data removed]",
      "text/plain": [
       "<Figure size 1080x360 with 1 Axes>"
      ]
     },
     "metadata": {
      "tags": []
     },
     "output_type": "display_data"
    }
   ],
   "source": [
    "data.make.value_counts().plot(kind='bar', figsize=(15,5))\n",
    "\n",
    "plt.title(\"Number of vehicles by make\")\n",
    "plt.ylabel('Number of vehicles')\n",
    "plt.xlabel('Make')"
   ]
  },
  {
   "cell_type": "code",
   "execution_count": 0,
   "metadata": {
    "colab": {},
    "colab_type": "code",
    "id": "xk5vWMlRm17e"
   },
   "outputs": [],
   "source": [
    "data[\"safe\"] = data[\"symboling\"].isin([\"-2\", \"-1\", \"0\"])"
   ]
  },
  {
   "cell_type": "code",
   "execution_count": 12,
   "metadata": {
    "colab": {
     "base_uri": "https://localhost:8080/",
     "height": 382
    },
    "colab_type": "code",
    "executionInfo": {
     "elapsed": 1341,
     "status": "ok",
     "timestamp": 1569485443600,
     "user": {
      "displayName": "Spikey Engineer",
      "photoUrl": "",
      "userId": "00295138978233683076"
     },
     "user_tz": -330
    },
    "id": "8Da6vgjDm1-G",
    "outputId": "8851eb69-da87-4775-a8a1-a22f2e910c7a"
   },
   "outputs": [
    {
     "data": {
      "image/png": "[encoded data removed]",
      "text/plain": [
       "<Figure size 602.125x360 with 1 Axes>"
      ]
     },
     "metadata": {
      "tags": []
     },
     "output_type": "display_data"
    }
   ],
   "source": [
    "sns.catplot(x = \"symboling\", y = \"city_mpg\",\n",
    "            hue = \"safe\", data = data,\n",
    "            dodge = False, kind = \"bar\", aspect = 1.5)\n",
    "\n",
    "plt.title(\"Symboling v/s City mpg\")\n",
    "plt.show()"
   ]
  },
  {
   "cell_type": "code",
   "execution_count": 13,
   "metadata": {
    "colab": {
     "base_uri": "https://localhost:8080/",
     "height": 386
    },
    "colab_type": "code",
    "executionInfo": {
     "elapsed": 1931,
     "status": "ok",
     "timestamp": 1569485462180,
     "user": {
      "displayName": "Spikey Engineer",
      "photoUrl": "",
      "userId": "00295138978233683076"
     },
     "user_tz": -330
    },
    "id": "ehZWwJrgm2BE",
    "outputId": "bbbb752f-3d73-4cfd-e397-f4ffd4835d59"
   },
   "outputs": [
    {
     "data": {
      "text/plain": [
       "<seaborn.axisgrid.FacetGrid at 0x7f6475a10d30>"
      ]
     },
     "execution_count": 13,
     "metadata": {
      "tags": []
     },
     "output_type": "execute_result"
    },
    {
     "data": {
      "image/png": "[encoded data removed]",
      "text/plain": [
       "<Figure size 472.75x360 with 1 Axes>"
      ]
     },
     "metadata": {
      "tags": []
     },
     "output_type": "display_data"
    }
   ],
   "source": [
    "sns.lmplot('city_mpg', 'curb_weight',\n",
    "            data, hue = 'make',\n",
    "            fit_reg = False)"
   ]
  },
  {
   "cell_type": "code",
   "execution_count": 0,
   "metadata": {
    "colab": {},
    "colab_type": "code",
    "id": "Yv5VzNTXm2JH"
   },
   "outputs": [],
   "source": [
    "import altair as alt"
   ]
  },
  {
   "cell_type": "code",
   "execution_count": 0,
   "metadata": {
    "colab": {},
    "colab_type": "code",
    "id": "PFdnF07Bm2Mv"
   },
   "outputs": [],
   "source": [
    "plot = alt.Chart(data).mark_point().encode(\n",
    "         x = 'horsepower',\n",
    "         y = 'city_mpg',\n",
    "         color = 'body_style').interactive()"
   ]
  },
  {
   "cell_type": "code",
   "execution_count": 16,
   "metadata": {
    "colab": {
     "base_uri": "https://localhost:8080/",
     "height": 368
    },
    "colab_type": "code",
    "executionInfo": {
     "elapsed": 988,
     "status": "ok",
     "timestamp": 1569485499860,
     "user": {
      "displayName": "Spikey Engineer",
      "photoUrl": "",
      "userId": "00295138978233683076"
     },
     "user_tz": -330
    },
    "id": "YV2f925Lm2P8",
    "outputId": "39b5544b-de53-4c3a-e7cb-79f03ad29fcf"
   },
   "outputs": [
    {
     "data": {
      "text/html": [
       "<!DOCTYPE html>\n",
       "<html>\n",
       "<head>\n",
       "  <style>\n",
       "    .vega-actions a {\n",
       "        margin-right: 12px;\n",
       "        color: #757575;\n",
       "        font-weight: normal;\n",
       "        font-size: 13px;\n",
       "    }\n",
       "    .error {\n",
       "        color: red;\n",
       "    }\n",
       "  </style>\n",
       "  <script type=\"text/javascript\" src=\"https://cdn.jsdelivr.net/npm//vega@5\"></script>\n",
       "  <script type=\"text/javascript\" src=\"https://cdn.jsdelivr.net/npm//vega-lite@3.4.0\"></script>\n",
       "  <script type=\"text/javascript\" src=\"https://cdn.jsdelivr.net/npm//vega-embed@4\"></script>\n",
       "</head>\n",
       "<body>\n",
       "  <div id=\"altair-viz\"></div>\n",
       "  <script>\n",
       "    (function(vegaEmbed) {\n",
       "      var spec = {\"config\": {\"view\": {\"width\": 400, \"height\": 300}, \"mark\": {\"tooltip\": null}}, \"data\": {\"name\": \"data-aa31b7c059a5b1128088da6705b26dce\"}, \"mark\": \"point\", \"encoding\": {\"color\": {\"type\": \"nominal\", \"field\": \"body_style\"}, \"x\": {\"type\": \"quantitative\", \"field\": \"horsepower\"}, \"y\": {\"type\": \"quantitative\", \"field\": \"city_mpg\"}}, \"selection\": {\"selector001\": {\"type\": \"interval\", \"bind\": \"scales\", \"encodings\": [\"x\", \"y\"]}}, \"$schema\": \"https://vega.github.io/schema/vega-lite/v3.4.0.json\", \"datasets\": {\"data-aa31b7c059a5b1128088da6705b26dce\": [{\"symboling\": 2, \"normalized_losses\": 164, \"make\": \"audi\", \"fuel_type\": \"gas\", \"aspiration\": \"std\", \"num_of_doors\": \"four\", \"body_style\": \"sedan\", \"drive_wheels\": \"fwd\", \"engine_location\": \"front\", \"wheel_base\": 99.8, \"length\": 176.6, \"width\": 66.2, \"height\": 54.3, \"curb_weight\": 2337, \"engine_type\": \"ohc\", \"num_of_cylinders\": \"four\", \"engine_size\": 109, \"fuel_system\": \"mpfi\", \"bore\": 3.19, \"stroke\": 3.4, \"compression_ratio\": 10.0, \"horsepower\": 102, \"peak_rpm\": 5500, \"city_mpg\": 24, \"highway_mpg\": 30, \"price\": 13950, \"safe\": false}, {\"symboling\": 2, \"normalized_losses\": 164, \"make\": \"audi\", \"fuel_type\": \"gas\", \"aspiration\": \"std\", \"num_of_doors\": \"four\", \"body_style\": \"sedan\", \"drive_wheels\": \"4wd\", \"engine_location\": \"front\", \"wheel_base\": 99.4, \"length\": 176.6, \"width\": 66.4, \"height\": 54.3, \"curb_weight\": 2824, \"engine_type\": \"ohc\", \"num_of_cylinders\": \"five\", \"engine_size\": 136, \"fuel_system\": \"mpfi\", \"bore\": 3.19, \"stroke\": 3.4, \"compression_ratio\": 8.0, \"horsepower\": 115, \"peak_rpm\": 5500, \"city_mpg\": 18, \"highway_mpg\": 22, \"price\": 17450, \"safe\": false}, {\"symboling\": 1, \"normalized_losses\": 158, \"make\": \"audi\", \"fuel_type\": \"gas\", \"aspiration\": \"std\", \"num_of_doors\": \"four\", \"body_style\": \"sedan\", \"drive_wheels\": \"fwd\", \"engine_location\": \"front\", \"wheel_base\": 105.8, \"length\": 192.7, \"width\": 71.4, \"height\": 55.7, \"curb_weight\": 2844, \"engine_type\": \"ohc\", \"num_of_cylinders\": \"five\", \"engine_size\": 136, \"fuel_system\": \"mpfi\", \"bore\": 3.19, \"stroke\": 3.4, \"compression_ratio\": 8.5, \"horsepower\": 110, \"peak_rpm\": 5500, \"city_mpg\": 19, \"highway_mpg\": 25, \"price\": 17710, \"safe\": false}, {\"symboling\": 1, \"normalized_losses\": 158, \"make\": \"audi\", \"fuel_type\": \"gas\", \"aspiration\": \"turbo\", \"num_of_doors\": \"four\", \"body_style\": \"sedan\", \"drive_wheels\": \"fwd\", \"engine_location\": \"front\", \"wheel_base\": 105.8, \"length\": 192.7, \"width\": 71.4, \"height\": 55.9, \"curb_weight\": 3086, \"engine_type\": \"ohc\", \"num_of_cylinders\": \"five\", \"engine_size\": 131, \"fuel_system\": \"mpfi\", \"bore\": 3.13, \"stroke\": 3.4, \"compression_ratio\": 8.3, \"horsepower\": 140, \"peak_rpm\": 5500, \"city_mpg\": 17, \"highway_mpg\": 20, \"price\": 23875, \"safe\": false}, {\"symboling\": 2, \"normalized_losses\": 192, \"make\": \"bmw\", \"fuel_type\": \"gas\", \"aspiration\": \"std\", \"num_of_doors\": \"two\", \"body_style\": \"sedan\", \"drive_wheels\": \"rwd\", \"engine_location\": \"front\", \"wheel_base\": 101.2, \"length\": 176.8, \"width\": 64.8, \"height\": 54.3, \"curb_weight\": 2395, \"engine_type\": \"ohc\", \"num_of_cylinders\": \"four\", \"engine_size\": 108, \"fuel_system\": \"mpfi\", \"bore\": 3.5, \"stroke\": 2.8, \"compression_ratio\": 8.8, \"horsepower\": 101, \"peak_rpm\": 5800, \"city_mpg\": 23, \"highway_mpg\": 29, \"price\": 16430, \"safe\": false}, {\"symboling\": 0, \"normalized_losses\": 192, \"make\": \"bmw\", \"fuel_type\": \"gas\", \"aspiration\": \"std\", \"num_of_doors\": \"four\", \"body_style\": \"sedan\", \"drive_wheels\": \"rwd\", \"engine_location\": \"front\", \"wheel_base\": 101.2, \"length\": 176.8, \"width\": 64.8, \"height\": 54.3, \"curb_weight\": 2395, \"engine_type\": \"ohc\", \"num_of_cylinders\": \"four\", \"engine_size\": 108, \"fuel_system\": \"mpfi\", \"bore\": 3.5, \"stroke\": 2.8, \"compression_ratio\": 8.8, \"horsepower\": 101, \"peak_rpm\": 5800, \"city_mpg\": 23, \"highway_mpg\": 29, \"price\": 16925, \"safe\": true}, {\"symboling\": 0, \"normalized_losses\": 188, \"make\": \"bmw\", \"fuel_type\": \"gas\", \"aspiration\": \"std\", \"num_of_doors\": \"two\", \"body_style\": \"sedan\", \"drive_wheels\": \"rwd\", \"engine_location\": \"front\", \"wheel_base\": 101.2, \"length\": 176.8, \"width\": 64.8, \"height\": 54.3, \"curb_weight\": 2710, \"engine_type\": \"ohc\", \"num_of_cylinders\": \"six\", \"engine_size\": 164, \"fuel_system\": \"mpfi\", \"bore\": 3.31, \"stroke\": 3.19, \"compression_ratio\": 9.0, \"horsepower\": 121, \"peak_rpm\": 4250, \"city_mpg\": 21, \"highway_mpg\": 28, \"price\": 20970, \"safe\": true}, {\"symboling\": 0, \"normalized_losses\": 188, \"make\": \"bmw\", \"fuel_type\": \"gas\", \"aspiration\": \"std\", \"num_of_doors\": \"four\", \"body_style\": \"sedan\", \"drive_wheels\": \"rwd\", \"engine_location\": \"front\", \"wheel_base\": 101.2, \"length\": 176.8, \"width\": 64.8, \"height\": 54.3, \"curb_weight\": 2765, \"engine_type\": \"ohc\", \"num_of_cylinders\": \"six\", \"engine_size\": 164, \"fuel_system\": \"mpfi\", \"bore\": 3.31, \"stroke\": 3.19, \"compression_ratio\": 9.0, \"horsepower\": 121, \"peak_rpm\": 4250, \"city_mpg\": 21, \"highway_mpg\": 28, \"price\": 21105, \"safe\": true}, {\"symboling\": 2, \"normalized_losses\": 121, \"make\": \"chevrolet\", \"fuel_type\": \"gas\", \"aspiration\": \"std\", \"num_of_doors\": \"two\", \"body_style\": \"hatchback\", \"drive_wheels\": \"fwd\", \"engine_location\": \"front\", \"wheel_base\": 88.4, \"length\": 141.1, \"width\": 60.3, \"height\": 53.2, \"curb_weight\": 1488, \"engine_type\": \"l\", \"num_of_cylinders\": \"three\", \"engine_size\": 61, \"fuel_system\": \"2bbl\", \"bore\": 2.91, \"stroke\": 3.03, \"compression_ratio\": 9.5, \"horsepower\": 48, \"peak_rpm\": 5100, \"city_mpg\": 47, \"highway_mpg\": 53, \"price\": 5151, \"safe\": false}, {\"symboling\": 1, \"normalized_losses\": 98, \"make\": \"chevrolet\", \"fuel_type\": \"gas\", \"aspiration\": \"std\", \"num_of_doors\": \"two\", \"body_style\": \"hatchback\", \"drive_wheels\": \"fwd\", \"engine_location\": \"front\", \"wheel_base\": 94.5, \"length\": 155.9, \"width\": 63.6, \"height\": 52.0, \"curb_weight\": 1874, \"engine_type\": \"ohc\", \"num_of_cylinders\": \"four\", \"engine_size\": 90, \"fuel_system\": \"2bbl\", \"bore\": 3.03, \"stroke\": 3.11, \"compression_ratio\": 9.6, \"horsepower\": 70, \"peak_rpm\": 5400, \"city_mpg\": 38, \"highway_mpg\": 43, \"price\": 6295, \"safe\": false}, {\"symboling\": 0, \"normalized_losses\": 81, \"make\": \"chevrolet\", \"fuel_type\": \"gas\", \"aspiration\": \"std\", \"num_of_doors\": \"four\", \"body_style\": \"sedan\", \"drive_wheels\": \"fwd\", \"engine_location\": \"front\", \"wheel_base\": 94.5, \"length\": 158.8, \"width\": 63.6, \"height\": 52.0, \"curb_weight\": 1909, \"engine_type\": \"ohc\", \"num_of_cylinders\": \"four\", \"engine_size\": 90, \"fuel_system\": \"2bbl\", \"bore\": 3.03, \"stroke\": 3.11, \"compression_ratio\": 9.6, \"horsepower\": 70, \"peak_rpm\": 5400, \"city_mpg\": 38, \"highway_mpg\": 43, \"price\": 6575, \"safe\": true}, {\"symboling\": 1, \"normalized_losses\": 118, \"make\": \"dodge\", \"fuel_type\": \"gas\", \"aspiration\": \"std\", \"num_of_doors\": \"two\", \"body_style\": \"hatchback\", \"drive_wheels\": \"fwd\", \"engine_location\": \"front\", \"wheel_base\": 93.7, \"length\": 157.3, \"width\": 63.8, \"height\": 50.8, \"curb_weight\": 1876, \"engine_type\": \"ohc\", \"num_of_cylinders\": \"four\", \"engine_size\": 90, \"fuel_system\": \"2bbl\", \"bore\": 2.97, \"stroke\": 3.23, \"compression_ratio\": 9.41, \"horsepower\": 68, \"peak_rpm\": 5500, \"city_mpg\": 37, \"highway_mpg\": 41, \"price\": 5572, \"safe\": false}, {\"symboling\": 1, \"normalized_losses\": 118, \"make\": \"dodge\", \"fuel_type\": \"gas\", \"aspiration\": \"std\", \"num_of_doors\": \"two\", \"body_style\": \"hatchback\", \"drive_wheels\": \"fwd\", \"engine_location\": \"front\", \"wheel_base\": 93.7, \"length\": 157.3, \"width\": 63.8, \"height\": 50.8, \"curb_weight\": 1876, \"engine_type\": \"ohc\", \"num_of_cylinders\": \"four\", \"engine_size\": 90, \"fuel_system\": \"2bbl\", \"bore\": 2.97, \"stroke\": 3.23, \"compression_ratio\": 9.4, \"horsepower\": 68, \"peak_rpm\": 5500, \"city_mpg\": 31, \"highway_mpg\": 38, \"price\": 6377, \"safe\": false}, {\"symboling\": 1, \"normalized_losses\": 118, \"make\": \"dodge\", \"fuel_type\": \"gas\", \"aspiration\": \"turbo\", \"num_of_doors\": \"two\", \"body_style\": \"hatchback\", \"drive_wheels\": \"fwd\", \"engine_location\": \"front\", \"wheel_base\": 93.7, \"length\": 157.3, \"width\": 63.8, \"height\": 50.8, \"curb_weight\": 2128, \"engine_type\": \"ohc\", \"num_of_cylinders\": \"four\", \"engine_size\": 98, \"fuel_system\": \"mpfi\", \"bore\": 3.03, \"stroke\": 3.39, \"compression_ratio\": 7.6, \"horsepower\": 102, \"peak_rpm\": 5500, \"city_mpg\": 24, \"highway_mpg\": 30, \"price\": 7957, \"safe\": false}, {\"symboling\": 1, \"normalized_losses\": 148, \"make\": \"dodge\", \"fuel_type\": \"gas\", \"aspiration\": \"std\", \"num_of_doors\": \"four\", \"body_style\": \"hatchback\", \"drive_wheels\": \"fwd\", \"engine_location\": \"front\", \"wheel_base\": 93.7, \"length\": 157.3, \"width\": 63.8, \"height\": 50.6, \"curb_weight\": 1967, \"engine_type\": \"ohc\", \"num_of_cylinders\": \"four\", \"engine_size\": 90, \"fuel_system\": \"2bbl\", \"bore\": 2.97, \"stroke\": 3.23, \"compression_ratio\": 9.4, \"horsepower\": 68, \"peak_rpm\": 5500, \"city_mpg\": 31, \"highway_mpg\": 38, \"price\": 6229, \"safe\": false}, {\"symboling\": 1, \"normalized_losses\": 148, \"make\": \"dodge\", \"fuel_type\": \"gas\", \"aspiration\": \"std\", \"num_of_doors\": \"four\", \"body_style\": \"sedan\", \"drive_wheels\": \"fwd\", \"engine_location\": \"front\", \"wheel_base\": 93.7, \"length\": 157.3, \"width\": 63.8, \"height\": 50.6, \"curb_weight\": 1989, \"engine_type\": \"ohc\", \"num_of_cylinders\": \"four\", \"engine_size\": 90, \"fuel_system\": \"2bbl\", \"bore\": 2.97, \"stroke\": 3.23, \"compression_ratio\": 9.4, \"horsepower\": 68, \"peak_rpm\": 5500, \"city_mpg\": 31, \"highway_mpg\": 38, \"price\": 6692, \"safe\": false}, {\"symboling\": 1, \"normalized_losses\": 148, \"make\": \"dodge\", \"fuel_type\": \"gas\", \"aspiration\": \"std\", \"num_of_doors\": \"four\", \"body_style\": \"sedan\", \"drive_wheels\": \"fwd\", \"engine_location\": \"front\", \"wheel_base\": 93.7, \"length\": 157.3, \"width\": 63.8, \"height\": 50.6, \"curb_weight\": 1989, \"engine_type\": \"ohc\", \"num_of_cylinders\": \"four\", \"engine_size\": 90, \"fuel_system\": \"2bbl\", \"bore\": 2.97, \"stroke\": 3.23, \"compression_ratio\": 9.4, \"horsepower\": 68, \"peak_rpm\": 5500, \"city_mpg\": 31, \"highway_mpg\": 38, \"price\": 7609, \"safe\": false}, {\"symboling\": -1, \"normalized_losses\": 110, \"make\": \"dodge\", \"fuel_type\": \"gas\", \"aspiration\": \"std\", \"num_of_doors\": \"four\", \"body_style\": \"wagon\", \"drive_wheels\": \"fwd\", \"engine_location\": \"front\", \"wheel_base\": 103.3, \"length\": 174.6, \"width\": 64.6, \"height\": 59.8, \"curb_weight\": 2535, \"engine_type\": \"ohc\", \"num_of_cylinders\": \"four\", \"engine_size\": 122, \"fuel_system\": \"2bbl\", \"bore\": 3.34, \"stroke\": 3.46, \"compression_ratio\": 8.5, \"horsepower\": 88, \"peak_rpm\": 5000, \"city_mpg\": 24, \"highway_mpg\": 30, \"price\": 8921, \"safe\": true}, {\"symboling\": 3, \"normalized_losses\": 145, \"make\": \"dodge\", \"fuel_type\": \"gas\", \"aspiration\": \"turbo\", \"num_of_doors\": \"two\", \"body_style\": \"hatchback\", \"drive_wheels\": \"fwd\", \"engine_location\": \"front\", \"wheel_base\": 95.9, \"length\": 173.2, \"width\": 66.3, \"height\": 50.2, \"curb_weight\": 2811, \"engine_type\": \"ohc\", \"num_of_cylinders\": \"four\", \"engine_size\": 156, \"fuel_system\": \"mfi\", \"bore\": 3.6, \"stroke\": 3.9, \"compression_ratio\": 7.0, \"horsepower\": 145, \"peak_rpm\": 5000, \"city_mpg\": 19, \"highway_mpg\": 24, \"price\": 12964, \"safe\": false}, {\"symboling\": 2, \"normalized_losses\": 137, \"make\": \"honda\", \"fuel_type\": \"gas\", \"aspiration\": \"std\", \"num_of_doors\": \"two\", \"body_style\": \"hatchback\", \"drive_wheels\": \"fwd\", \"engine_location\": \"front\", \"wheel_base\": 86.6, \"length\": 144.6, \"width\": 63.9, \"height\": 50.8, \"curb_weight\": 1713, \"engine_type\": \"ohc\", \"num_of_cylinders\": \"four\", \"engine_size\": 92, \"fuel_system\": \"1bbl\", \"bore\": 2.91, \"stroke\": 3.41, \"compression_ratio\": 9.6, \"horsepower\": 58, \"peak_rpm\": 4800, \"city_mpg\": 49, \"highway_mpg\": 54, \"price\": 6479, \"safe\": false}, {\"symboling\": 2, \"normalized_losses\": 137, \"make\": \"honda\", \"fuel_type\": \"gas\", \"aspiration\": \"std\", \"num_of_doors\": \"two\", \"body_style\": \"hatchback\", \"drive_wheels\": \"fwd\", \"engine_location\": \"front\", \"wheel_base\": 86.6, \"length\": 144.6, \"width\": 63.9, \"height\": 50.8, \"curb_weight\": 1819, \"engine_type\": \"ohc\", \"num_of_cylinders\": \"four\", \"engine_size\": 92, \"fuel_system\": \"1bbl\", \"bore\": 2.91, \"stroke\": 3.41, \"compression_ratio\": 9.2, \"horsepower\": 76, \"peak_rpm\": 6000, \"city_mpg\": 31, \"highway_mpg\": 38, \"price\": 6855, \"safe\": false}, {\"symboling\": 1, \"normalized_losses\": 101, \"make\": \"honda\", \"fuel_type\": \"gas\", \"aspiration\": \"std\", \"num_of_doors\": \"two\", \"body_style\": \"hatchback\", \"drive_wheels\": \"fwd\", \"engine_location\": \"front\", \"wheel_base\": 93.7, \"length\": 150.0, \"width\": 64.0, \"height\": 52.6, \"curb_weight\": 1837, \"engine_type\": \"ohc\", \"num_of_cylinders\": \"four\", \"engine_size\": 79, \"fuel_system\": \"1bbl\", \"bore\": 2.91, \"stroke\": 3.07, \"compression_ratio\": 10.1, \"horsepower\": 60, \"peak_rpm\": 5500, \"city_mpg\": 38, \"highway_mpg\": 42, \"price\": 5399, \"safe\": false}, {\"symboling\": 1, \"normalized_losses\": 101, \"make\": \"honda\", \"fuel_type\": \"gas\", \"aspiration\": \"std\", \"num_of_doors\": \"two\", \"body_style\": \"hatchback\", \"drive_wheels\": \"fwd\", \"engine_location\": \"front\", \"wheel_base\": 93.7, \"length\": 150.0, \"width\": 64.0, \"height\": 52.6, \"curb_weight\": 1940, \"engine_type\": \"ohc\", \"num_of_cylinders\": \"four\", \"engine_size\": 92, \"fuel_system\": \"1bbl\", \"bore\": 2.91, \"stroke\": 3.41, \"compression_ratio\": 9.2, \"horsepower\": 76, \"peak_rpm\": 6000, \"city_mpg\": 30, \"highway_mpg\": 34, \"price\": 6529, \"safe\": false}, {\"symboling\": 1, \"normalized_losses\": 101, \"make\": \"honda\", \"fuel_type\": \"gas\", \"aspiration\": \"std\", \"num_of_doors\": \"two\", \"body_style\": \"hatchback\", \"drive_wheels\": \"fwd\", \"engine_location\": \"front\", \"wheel_base\": 93.7, \"length\": 150.0, \"width\": 64.0, \"height\": 52.6, \"curb_weight\": 1956, \"engine_type\": \"ohc\", \"num_of_cylinders\": \"four\", \"engine_size\": 92, \"fuel_system\": \"1bbl\", \"bore\": 2.91, \"stroke\": 3.41, \"compression_ratio\": 9.2, \"horsepower\": 76, \"peak_rpm\": 6000, \"city_mpg\": 30, \"highway_mpg\": 34, \"price\": 7129, \"safe\": false}, {\"symboling\": 0, \"normalized_losses\": 110, \"make\": \"honda\", \"fuel_type\": \"gas\", \"aspiration\": \"std\", \"num_of_doors\": \"four\", \"body_style\": \"sedan\", \"drive_wheels\": \"fwd\", \"engine_location\": \"front\", \"wheel_base\": 96.5, \"length\": 163.4, \"width\": 64.0, \"height\": 54.5, \"curb_weight\": 2010, \"engine_type\": \"ohc\", \"num_of_cylinders\": \"four\", \"engine_size\": 92, \"fuel_system\": \"1bbl\", \"bore\": 2.91, \"stroke\": 3.41, \"compression_ratio\": 9.2, \"horsepower\": 76, \"peak_rpm\": 6000, \"city_mpg\": 30, \"highway_mpg\": 34, \"price\": 7295, \"safe\": true}, {\"symboling\": 0, \"normalized_losses\": 78, \"make\": \"honda\", \"fuel_type\": \"gas\", \"aspiration\": \"std\", \"num_of_doors\": \"four\", \"body_style\": \"wagon\", \"drive_wheels\": \"fwd\", \"engine_location\": \"front\", \"wheel_base\": 96.5, \"length\": 157.1, \"width\": 63.9, \"height\": 58.3, \"curb_weight\": 2024, \"engine_type\": \"ohc\", \"num_of_cylinders\": \"four\", \"engine_size\": 92, \"fuel_system\": \"1bbl\", \"bore\": 2.92, \"stroke\": 3.41, \"compression_ratio\": 9.2, \"horsepower\": 76, \"peak_rpm\": 6000, \"city_mpg\": 30, \"highway_mpg\": 34, \"price\": 7295, \"safe\": true}, {\"symboling\": 0, \"normalized_losses\": 106, \"make\": \"honda\", \"fuel_type\": \"gas\", \"aspiration\": \"std\", \"num_of_doors\": \"two\", \"body_style\": \"hatchback\", \"drive_wheels\": \"fwd\", \"engine_location\": \"front\", \"wheel_base\": 96.5, \"length\": 167.5, \"width\": 65.2, \"height\": 53.3, \"curb_weight\": 2236, \"engine_type\": \"ohc\", \"num_of_cylinders\": \"four\", \"engine_size\": 110, \"fuel_system\": \"1bbl\", \"bore\": 3.15, \"stroke\": 3.58, \"compression_ratio\": 9.0, \"horsepower\": 86, \"peak_rpm\": 5800, \"city_mpg\": 27, \"highway_mpg\": 33, \"price\": 7895, \"safe\": true}, {\"symboling\": 0, \"normalized_losses\": 106, \"make\": \"honda\", \"fuel_type\": \"gas\", \"aspiration\": \"std\", \"num_of_doors\": \"two\", \"body_style\": \"hatchback\", \"drive_wheels\": \"fwd\", \"engine_location\": \"front\", \"wheel_base\": 96.5, \"length\": 167.5, \"width\": 65.2, \"height\": 53.3, \"curb_weight\": 2289, \"engine_type\": \"ohc\", \"num_of_cylinders\": \"four\", \"engine_size\": 110, \"fuel_system\": \"1bbl\", \"bore\": 3.15, \"stroke\": 3.58, \"compression_ratio\": 9.0, \"horsepower\": 86, \"peak_rpm\": 5800, \"city_mpg\": 27, \"highway_mpg\": 33, \"price\": 9095, \"safe\": true}, {\"symboling\": 0, \"normalized_losses\": 85, \"make\": \"honda\", \"fuel_type\": \"gas\", \"aspiration\": \"std\", \"num_of_doors\": \"four\", \"body_style\": \"sedan\", \"drive_wheels\": \"fwd\", \"engine_location\": \"front\", \"wheel_base\": 96.5, \"length\": 175.4, \"width\": 65.2, \"height\": 54.1, \"curb_weight\": 2304, \"engine_type\": \"ohc\", \"num_of_cylinders\": \"four\", \"engine_size\": 110, \"fuel_system\": \"1bbl\", \"bore\": 3.15, \"stroke\": 3.58, \"compression_ratio\": 9.0, \"horsepower\": 86, \"peak_rpm\": 5800, \"city_mpg\": 27, \"highway_mpg\": 33, \"price\": 8845, \"safe\": true}, {\"symboling\": 0, \"normalized_losses\": 85, \"make\": \"honda\", \"fuel_type\": \"gas\", \"aspiration\": \"std\", \"num_of_doors\": \"four\", \"body_style\": \"sedan\", \"drive_wheels\": \"fwd\", \"engine_location\": \"front\", \"wheel_base\": 96.5, \"length\": 175.4, \"width\": 62.5, \"height\": 54.1, \"curb_weight\": 2372, \"engine_type\": \"ohc\", \"num_of_cylinders\": \"four\", \"engine_size\": 110, \"fuel_system\": \"1bbl\", \"bore\": 3.15, \"stroke\": 3.58, \"compression_ratio\": 9.0, \"horsepower\": 86, \"peak_rpm\": 5800, \"city_mpg\": 27, \"highway_mpg\": 33, \"price\": 10295, \"safe\": true}, {\"symboling\": 0, \"normalized_losses\": 85, \"make\": \"honda\", \"fuel_type\": \"gas\", \"aspiration\": \"std\", \"num_of_doors\": \"four\", \"body_style\": \"sedan\", \"drive_wheels\": \"fwd\", \"engine_location\": \"front\", \"wheel_base\": 96.5, \"length\": 175.4, \"width\": 65.2, \"height\": 54.1, \"curb_weight\": 2465, \"engine_type\": \"ohc\", \"num_of_cylinders\": \"four\", \"engine_size\": 110, \"fuel_system\": \"mpfi\", \"bore\": 3.15, \"stroke\": 3.58, \"compression_ratio\": 9.0, \"horsepower\": 101, \"peak_rpm\": 5800, \"city_mpg\": 24, \"highway_mpg\": 28, \"price\": 12945, \"safe\": true}, {\"symboling\": 1, \"normalized_losses\": 107, \"make\": \"honda\", \"fuel_type\": \"gas\", \"aspiration\": \"std\", \"num_of_doors\": \"two\", \"body_style\": \"sedan\", \"drive_wheels\": \"fwd\", \"engine_location\": \"front\", \"wheel_base\": 96.5, \"length\": 169.1, \"width\": 66.0, \"height\": 51.0, \"curb_weight\": 2293, \"engine_type\": \"ohc\", \"num_of_cylinders\": \"four\", \"engine_size\": 110, \"fuel_system\": \"2bbl\", \"bore\": 3.15, \"stroke\": 3.58, \"compression_ratio\": 9.1, \"horsepower\": 100, \"peak_rpm\": 5500, \"city_mpg\": 25, \"highway_mpg\": 31, \"price\": 10345, \"safe\": false}, {\"symboling\": 0, \"normalized_losses\": 145, \"make\": \"jaguar\", \"fuel_type\": \"gas\", \"aspiration\": \"std\", \"num_of_doors\": \"four\", \"body_style\": \"sedan\", \"drive_wheels\": \"rwd\", \"engine_location\": \"front\", \"wheel_base\": 113.0, \"length\": 199.6, \"width\": 69.6, \"height\": 52.8, \"curb_weight\": 4066, \"engine_type\": \"dohc\", \"num_of_cylinders\": \"six\", \"engine_size\": 258, \"fuel_system\": \"mpfi\", \"bore\": 3.63, \"stroke\": 4.17, \"compression_ratio\": 8.1, \"horsepower\": 176, \"peak_rpm\": 4750, \"city_mpg\": 15, \"highway_mpg\": 19, \"price\": 32250, \"safe\": true}, {\"symboling\": 1, \"normalized_losses\": 104, \"make\": \"mazda\", \"fuel_type\": \"gas\", \"aspiration\": \"std\", \"num_of_doors\": \"two\", \"body_style\": \"hatchback\", \"drive_wheels\": \"fwd\", \"engine_location\": \"front\", \"wheel_base\": 93.1, \"length\": 159.1, \"width\": 64.2, \"height\": 54.1, \"curb_weight\": 1890, \"engine_type\": \"ohc\", \"num_of_cylinders\": \"four\", \"engine_size\": 91, \"fuel_system\": \"2bbl\", \"bore\": 3.03, \"stroke\": 3.15, \"compression_ratio\": 9.0, \"horsepower\": 68, \"peak_rpm\": 5000, \"city_mpg\": 30, \"highway_mpg\": 31, \"price\": 5195, \"safe\": false}, {\"symboling\": 1, \"normalized_losses\": 104, \"make\": \"mazda\", \"fuel_type\": \"gas\", \"aspiration\": \"std\", \"num_of_doors\": \"two\", \"body_style\": \"hatchback\", \"drive_wheels\": \"fwd\", \"engine_location\": \"front\", \"wheel_base\": 93.1, \"length\": 159.1, \"width\": 64.2, \"height\": 54.1, \"curb_weight\": 1900, \"engine_type\": \"ohc\", \"num_of_cylinders\": \"four\", \"engine_size\": 91, \"fuel_system\": \"2bbl\", \"bore\": 3.03, \"stroke\": 3.15, \"compression_ratio\": 9.0, \"horsepower\": 68, \"peak_rpm\": 5000, \"city_mpg\": 31, \"highway_mpg\": 38, \"price\": 6095, \"safe\": false}, {\"symboling\": 1, \"normalized_losses\": 104, \"make\": \"mazda\", \"fuel_type\": \"gas\", \"aspiration\": \"std\", \"num_of_doors\": \"two\", \"body_style\": \"hatchback\", \"drive_wheels\": \"fwd\", \"engine_location\": \"front\", \"wheel_base\": 93.1, \"length\": 159.1, \"width\": 64.2, \"height\": 54.1, \"curb_weight\": 1905, \"engine_type\": \"ohc\", \"num_of_cylinders\": \"four\", \"engine_size\": 91, \"fuel_system\": \"2bbl\", \"bore\": 3.03, \"stroke\": 3.15, \"compression_ratio\": 9.0, \"horsepower\": 68, \"peak_rpm\": 5000, \"city_mpg\": 31, \"highway_mpg\": 38, \"price\": 6795, \"safe\": false}, {\"symboling\": 1, \"normalized_losses\": 113, \"make\": \"mazda\", \"fuel_type\": \"gas\", \"aspiration\": \"std\", \"num_of_doors\": \"four\", \"body_style\": \"sedan\", \"drive_wheels\": \"fwd\", \"engine_location\": \"front\", \"wheel_base\": 93.1, \"length\": 166.8, \"width\": 64.2, \"height\": 54.1, \"curb_weight\": 1945, \"engine_type\": \"ohc\", \"num_of_cylinders\": \"four\", \"engine_size\": 91, \"fuel_system\": \"2bbl\", \"bore\": 3.03, \"stroke\": 3.15, \"compression_ratio\": 9.0, \"horsepower\": 68, \"peak_rpm\": 5000, \"city_mpg\": 31, \"highway_mpg\": 38, \"price\": 6695, \"safe\": false}, {\"symboling\": 1, \"normalized_losses\": 113, \"make\": \"mazda\", \"fuel_type\": \"gas\", \"aspiration\": \"std\", \"num_of_doors\": \"four\", \"body_style\": \"sedan\", \"drive_wheels\": \"fwd\", \"engine_location\": \"front\", \"wheel_base\": 93.1, \"length\": 166.8, \"width\": 64.2, \"height\": 54.1, \"curb_weight\": 1950, \"engine_type\": \"ohc\", \"num_of_cylinders\": \"four\", \"engine_size\": 91, \"fuel_system\": \"2bbl\", \"bore\": 3.08, \"stroke\": 3.15, \"compression_ratio\": 9.0, \"horsepower\": 68, \"peak_rpm\": 5000, \"city_mpg\": 31, \"highway_mpg\": 38, \"price\": 7395, \"safe\": false}, {\"symboling\": 1, \"normalized_losses\": 129, \"make\": \"mazda\", \"fuel_type\": \"gas\", \"aspiration\": \"std\", \"num_of_doors\": \"two\", \"body_style\": \"hatchback\", \"drive_wheels\": \"fwd\", \"engine_location\": \"front\", \"wheel_base\": 98.8, \"length\": 177.8, \"width\": 66.5, \"height\": 53.7, \"curb_weight\": 2385, \"engine_type\": \"ohc\", \"num_of_cylinders\": \"four\", \"engine_size\": 122, \"fuel_system\": \"2bbl\", \"bore\": 3.39, \"stroke\": 3.39, \"compression_ratio\": 8.6, \"horsepower\": 84, \"peak_rpm\": 4800, \"city_mpg\": 26, \"highway_mpg\": 32, \"price\": 8845, \"safe\": false}, {\"symboling\": 0, \"normalized_losses\": 115, \"make\": \"mazda\", \"fuel_type\": \"gas\", \"aspiration\": \"std\", \"num_of_doors\": \"four\", \"body_style\": \"sedan\", \"drive_wheels\": \"fwd\", \"engine_location\": \"front\", \"wheel_base\": 98.8, \"length\": 177.8, \"width\": 66.5, \"height\": 55.5, \"curb_weight\": 2410, \"engine_type\": \"ohc\", \"num_of_cylinders\": \"four\", \"engine_size\": 122, \"fuel_system\": \"2bbl\", \"bore\": 3.39, \"stroke\": 3.39, \"compression_ratio\": 8.6, \"horsepower\": 84, \"peak_rpm\": 4800, \"city_mpg\": 26, \"highway_mpg\": 32, \"price\": 8495, \"safe\": true}, {\"symboling\": 1, \"normalized_losses\": 129, \"make\": \"mazda\", \"fuel_type\": \"gas\", \"aspiration\": \"std\", \"num_of_doors\": \"two\", \"body_style\": \"hatchback\", \"drive_wheels\": \"fwd\", \"engine_location\": \"front\", \"wheel_base\": 98.8, \"length\": 177.8, \"width\": 66.5, \"height\": 53.7, \"curb_weight\": 2385, \"engine_type\": \"ohc\", \"num_of_cylinders\": \"four\", \"engine_size\": 122, \"fuel_system\": \"2bbl\", \"bore\": 3.39, \"stroke\": 3.39, \"compression_ratio\": 8.6, \"horsepower\": 84, \"peak_rpm\": 4800, \"city_mpg\": 26, \"highway_mpg\": 32, \"price\": 10595, \"safe\": false}, {\"symboling\": 0, \"normalized_losses\": 115, \"make\": \"mazda\", \"fuel_type\": \"gas\", \"aspiration\": \"std\", \"num_of_doors\": \"four\", \"body_style\": \"sedan\", \"drive_wheels\": \"fwd\", \"engine_location\": \"front\", \"wheel_base\": 98.8, \"length\": 177.8, \"width\": 66.5, \"height\": 55.5, \"curb_weight\": 2410, \"engine_type\": \"ohc\", \"num_of_cylinders\": \"four\", \"engine_size\": 122, \"fuel_system\": \"2bbl\", \"bore\": 3.39, \"stroke\": 3.39, \"compression_ratio\": 8.6, \"horsepower\": 84, \"peak_rpm\": 4800, \"city_mpg\": 26, \"highway_mpg\": 32, \"price\": 10245, \"safe\": true}, {\"symboling\": 0, \"normalized_losses\": 115, \"make\": \"mazda\", \"fuel_type\": \"gas\", \"aspiration\": \"std\", \"num_of_doors\": \"four\", \"body_style\": \"hatchback\", \"drive_wheels\": \"fwd\", \"engine_location\": \"front\", \"wheel_base\": 98.8, \"length\": 177.8, \"width\": 66.5, \"height\": 55.5, \"curb_weight\": 2425, \"engine_type\": \"ohc\", \"num_of_cylinders\": \"four\", \"engine_size\": 122, \"fuel_system\": \"2bbl\", \"bore\": 3.39, \"stroke\": 3.39, \"compression_ratio\": 8.6, \"horsepower\": 84, \"peak_rpm\": 4800, \"city_mpg\": 26, \"highway_mpg\": 32, \"price\": 11245, \"safe\": true}, {\"symboling\": 0, \"normalized_losses\": 118, \"make\": \"mazda\", \"fuel_type\": \"gas\", \"aspiration\": \"std\", \"num_of_doors\": \"four\", \"body_style\": \"sedan\", \"drive_wheels\": \"rwd\", \"engine_location\": \"front\", \"wheel_base\": 104.9, \"length\": 175.0, \"width\": 66.1, \"height\": 54.4, \"curb_weight\": 2670, \"engine_type\": \"ohc\", \"num_of_cylinders\": \"four\", \"engine_size\": 140, \"fuel_system\": \"mpfi\", \"bore\": 3.76, \"stroke\": 3.16, \"compression_ratio\": 8.0, \"horsepower\": 120, \"peak_rpm\": 5000, \"city_mpg\": 19, \"highway_mpg\": 27, \"price\": 18280, \"safe\": true}, {\"symboling\": -1, \"normalized_losses\": 93, \"make\": \"mercedes-benz\", \"fuel_type\": \"diesel\", \"aspiration\": \"turbo\", \"num_of_doors\": \"four\", \"body_style\": \"sedan\", \"drive_wheels\": \"rwd\", \"engine_location\": \"front\", \"wheel_base\": 110.0, \"length\": 190.9, \"width\": 70.3, \"height\": 56.5, \"curb_weight\": 3515, \"engine_type\": \"ohc\", \"num_of_cylinders\": \"five\", \"engine_size\": 183, \"fuel_system\": \"idi\", \"bore\": 3.58, \"stroke\": 3.64, \"compression_ratio\": 21.5, \"horsepower\": 123, \"peak_rpm\": 4350, \"city_mpg\": 22, \"highway_mpg\": 25, \"price\": 25552, \"safe\": true}, {\"symboling\": -1, \"normalized_losses\": 93, \"make\": \"mercedes-benz\", \"fuel_type\": \"diesel\", \"aspiration\": \"turbo\", \"num_of_doors\": \"four\", \"body_style\": \"wagon\", \"drive_wheels\": \"rwd\", \"engine_location\": \"front\", \"wheel_base\": 110.0, \"length\": 190.9, \"width\": 70.3, \"height\": 58.7, \"curb_weight\": 3750, \"engine_type\": \"ohc\", \"num_of_cylinders\": \"five\", \"engine_size\": 183, \"fuel_system\": \"idi\", \"bore\": 3.58, \"stroke\": 3.64, \"compression_ratio\": 21.5, \"horsepower\": 123, \"peak_rpm\": 4350, \"city_mpg\": 22, \"highway_mpg\": 25, \"price\": 28248, \"safe\": true}, {\"symboling\": 0, \"normalized_losses\": 93, \"make\": \"mercedes-benz\", \"fuel_type\": \"diesel\", \"aspiration\": \"turbo\", \"num_of_doors\": \"two\", \"body_style\": \"hardtop\", \"drive_wheels\": \"rwd\", \"engine_location\": \"front\", \"wheel_base\": 106.7, \"length\": 187.5, \"width\": 70.3, \"height\": 54.9, \"curb_weight\": 3495, \"engine_type\": \"ohc\", \"num_of_cylinders\": \"five\", \"engine_size\": 183, \"fuel_system\": \"idi\", \"bore\": 3.58, \"stroke\": 3.64, \"compression_ratio\": 21.5, \"horsepower\": 123, \"peak_rpm\": 4350, \"city_mpg\": 22, \"highway_mpg\": 25, \"price\": 28176, \"safe\": true}, {\"symboling\": -1, \"normalized_losses\": 93, \"make\": \"mercedes-benz\", \"fuel_type\": \"diesel\", \"aspiration\": \"turbo\", \"num_of_doors\": \"four\", \"body_style\": \"sedan\", \"drive_wheels\": \"rwd\", \"engine_location\": \"front\", \"wheel_base\": 115.6, \"length\": 202.6, \"width\": 71.7, \"height\": 56.3, \"curb_weight\": 3770, \"engine_type\": \"ohc\", \"num_of_cylinders\": \"five\", \"engine_size\": 183, \"fuel_system\": \"idi\", \"bore\": 3.58, \"stroke\": 3.64, \"compression_ratio\": 21.5, \"horsepower\": 123, \"peak_rpm\": 4350, \"city_mpg\": 22, \"highway_mpg\": 25, \"price\": 31600, \"safe\": true}, {\"symboling\": 3, \"normalized_losses\": 142, \"make\": \"mercedes-benz\", \"fuel_type\": \"gas\", \"aspiration\": \"std\", \"num_of_doors\": \"two\", \"body_style\": \"convertible\", \"drive_wheels\": \"rwd\", \"engine_location\": \"front\", \"wheel_base\": 96.6, \"length\": 180.3, \"width\": 70.5, \"height\": 50.8, \"curb_weight\": 3685, \"engine_type\": \"ohcv\", \"num_of_cylinders\": \"eight\", \"engine_size\": 234, \"fuel_system\": \"mpfi\", \"bore\": 3.46, \"stroke\": 3.1, \"compression_ratio\": 8.3, \"horsepower\": 155, \"peak_rpm\": 4750, \"city_mpg\": 16, \"highway_mpg\": 18, \"price\": 35056, \"safe\": false}, {\"symboling\": 2, \"normalized_losses\": 161, \"make\": \"mitsubishi\", \"fuel_type\": \"gas\", \"aspiration\": \"std\", \"num_of_doors\": \"two\", \"body_style\": \"hatchback\", \"drive_wheels\": \"fwd\", \"engine_location\": \"front\", \"wheel_base\": 93.7, \"length\": 157.3, \"width\": 64.4, \"height\": 50.8, \"curb_weight\": 1918, \"engine_type\": \"ohc\", \"num_of_cylinders\": \"four\", \"engine_size\": 92, \"fuel_system\": \"2bbl\", \"bore\": 2.97, \"stroke\": 3.23, \"compression_ratio\": 9.4, \"horsepower\": 68, \"peak_rpm\": 5500, \"city_mpg\": 37, \"highway_mpg\": 41, \"price\": 5389, \"safe\": false}, {\"symboling\": 2, \"normalized_losses\": 161, \"make\": \"mitsubishi\", \"fuel_type\": \"gas\", \"aspiration\": \"std\", \"num_of_doors\": \"two\", \"body_style\": \"hatchback\", \"drive_wheels\": \"fwd\", \"engine_location\": \"front\", \"wheel_base\": 93.7, \"length\": 157.3, \"width\": 64.4, \"height\": 50.8, \"curb_weight\": 1944, \"engine_type\": \"ohc\", \"num_of_cylinders\": \"four\", \"engine_size\": 92, \"fuel_system\": \"2bbl\", \"bore\": 2.97, \"stroke\": 3.23, \"compression_ratio\": 9.4, \"horsepower\": 68, \"peak_rpm\": 5500, \"city_mpg\": 31, \"highway_mpg\": 38, \"price\": 6189, \"safe\": false}, {\"symboling\": 2, \"normalized_losses\": 161, \"make\": \"mitsubishi\", \"fuel_type\": \"gas\", \"aspiration\": \"std\", \"num_of_doors\": \"two\", \"body_style\": \"hatchback\", \"drive_wheels\": \"fwd\", \"engine_location\": \"front\", \"wheel_base\": 93.7, \"length\": 157.3, \"width\": 64.4, \"height\": 50.8, \"curb_weight\": 2004, \"engine_type\": \"ohc\", \"num_of_cylinders\": \"four\", \"engine_size\": 92, \"fuel_system\": \"2bbl\", \"bore\": 2.97, \"stroke\": 3.23, \"compression_ratio\": 9.4, \"horsepower\": 68, \"peak_rpm\": 5500, \"city_mpg\": 31, \"highway_mpg\": 38, \"price\": 6669, \"safe\": false}, {\"symboling\": 1, \"normalized_losses\": 161, \"make\": \"mitsubishi\", \"fuel_type\": \"gas\", \"aspiration\": \"turbo\", \"num_of_doors\": \"two\", \"body_style\": \"hatchback\", \"drive_wheels\": \"fwd\", \"engine_location\": \"front\", \"wheel_base\": 93.0, \"length\": 157.3, \"width\": 63.8, \"height\": 50.8, \"curb_weight\": 2145, \"engine_type\": \"ohc\", \"num_of_cylinders\": \"four\", \"engine_size\": 98, \"fuel_system\": \"spdi\", \"bore\": 3.03, \"stroke\": 3.39, \"compression_ratio\": 7.6, \"horsepower\": 102, \"peak_rpm\": 5500, \"city_mpg\": 24, \"highway_mpg\": 30, \"price\": 7689, \"safe\": false}, {\"symboling\": 3, \"normalized_losses\": 153, \"make\": \"mitsubishi\", \"fuel_type\": \"gas\", \"aspiration\": \"turbo\", \"num_of_doors\": \"two\", \"body_style\": \"hatchback\", \"drive_wheels\": \"fwd\", \"engine_location\": \"front\", \"wheel_base\": 96.3, \"length\": 173.0, \"width\": 65.4, \"height\": 49.4, \"curb_weight\": 2370, \"engine_type\": \"ohc\", \"num_of_cylinders\": \"four\", \"engine_size\": 110, \"fuel_system\": \"spdi\", \"bore\": 3.17, \"stroke\": 3.46, \"compression_ratio\": 7.5, \"horsepower\": 116, \"peak_rpm\": 5500, \"city_mpg\": 23, \"highway_mpg\": 30, \"price\": 9959, \"safe\": false}, {\"symboling\": 3, \"normalized_losses\": 153, \"make\": \"mitsubishi\", \"fuel_type\": \"gas\", \"aspiration\": \"std\", \"num_of_doors\": \"two\", \"body_style\": \"hatchback\", \"drive_wheels\": \"fwd\", \"engine_location\": \"front\", \"wheel_base\": 96.3, \"length\": 173.0, \"width\": 65.4, \"height\": 49.4, \"curb_weight\": 2328, \"engine_type\": \"ohc\", \"num_of_cylinders\": \"four\", \"engine_size\": 122, \"fuel_system\": \"2bbl\", \"bore\": 3.35, \"stroke\": 3.46, \"compression_ratio\": 8.5, \"horsepower\": 88, \"peak_rpm\": 5000, \"city_mpg\": 25, \"highway_mpg\": 32, \"price\": 8499, \"safe\": false}, {\"symboling\": 1, \"normalized_losses\": 125, \"make\": \"mitsubishi\", \"fuel_type\": \"gas\", \"aspiration\": \"std\", \"num_of_doors\": \"four\", \"body_style\": \"sedan\", \"drive_wheels\": \"fwd\", \"engine_location\": \"front\", \"wheel_base\": 96.3, \"length\": 172.4, \"width\": 65.4, \"height\": 51.6, \"curb_weight\": 2365, \"engine_type\": \"ohc\", \"num_of_cylinders\": \"four\", \"engine_size\": 122, \"fuel_system\": \"2bbl\", \"bore\": 3.35, \"stroke\": 3.46, \"compression_ratio\": 8.5, \"horsepower\": 88, \"peak_rpm\": 5000, \"city_mpg\": 25, \"highway_mpg\": 32, \"price\": 6989, \"safe\": false}, {\"symboling\": 1, \"normalized_losses\": 125, \"make\": \"mitsubishi\", \"fuel_type\": \"gas\", \"aspiration\": \"std\", \"num_of_doors\": \"four\", \"body_style\": \"sedan\", \"drive_wheels\": \"fwd\", \"engine_location\": \"front\", \"wheel_base\": 96.3, \"length\": 172.4, \"width\": 65.4, \"height\": 51.6, \"curb_weight\": 2405, \"engine_type\": \"ohc\", \"num_of_cylinders\": \"four\", \"engine_size\": 122, \"fuel_system\": \"2bbl\", \"bore\": 3.35, \"stroke\": 3.46, \"compression_ratio\": 8.5, \"horsepower\": 88, \"peak_rpm\": 5000, \"city_mpg\": 25, \"highway_mpg\": 32, \"price\": 8189, \"safe\": false}, {\"symboling\": 1, \"normalized_losses\": 125, \"make\": \"mitsubishi\", \"fuel_type\": \"gas\", \"aspiration\": \"turbo\", \"num_of_doors\": \"four\", \"body_style\": \"sedan\", \"drive_wheels\": \"fwd\", \"engine_location\": \"front\", \"wheel_base\": 96.3, \"length\": 172.4, \"width\": 65.4, \"height\": 51.6, \"curb_weight\": 2403, \"engine_type\": \"ohc\", \"num_of_cylinders\": \"four\", \"engine_size\": 110, \"fuel_system\": \"spdi\", \"bore\": 3.17, \"stroke\": 3.46, \"compression_ratio\": 7.5, \"horsepower\": 116, \"peak_rpm\": 5500, \"city_mpg\": 23, \"highway_mpg\": 30, \"price\": 9279, \"safe\": false}, {\"symboling\": -1, \"normalized_losses\": 137, \"make\": \"mitsubishi\", \"fuel_type\": \"gas\", \"aspiration\": \"std\", \"num_of_doors\": \"four\", \"body_style\": \"sedan\", \"drive_wheels\": \"fwd\", \"engine_location\": \"front\", \"wheel_base\": 96.3, \"length\": 172.4, \"width\": 65.4, \"height\": 51.6, \"curb_weight\": 2403, \"engine_type\": \"ohc\", \"num_of_cylinders\": \"four\", \"engine_size\": 110, \"fuel_system\": \"spdi\", \"bore\": 3.17, \"stroke\": 3.46, \"compression_ratio\": 7.5, \"horsepower\": 116, \"peak_rpm\": 5500, \"city_mpg\": 23, \"highway_mpg\": 30, \"price\": 9279, \"safe\": true}, {\"symboling\": 1, \"normalized_losses\": 128, \"make\": \"nissan\", \"fuel_type\": \"gas\", \"aspiration\": \"std\", \"num_of_doors\": \"two\", \"body_style\": \"sedan\", \"drive_wheels\": \"fwd\", \"engine_location\": \"front\", \"wheel_base\": 94.5, \"length\": 165.3, \"width\": 63.8, \"height\": 54.5, \"curb_weight\": 1889, \"engine_type\": \"ohc\", \"num_of_cylinders\": \"four\", \"engine_size\": 97, \"fuel_system\": \"2bbl\", \"bore\": 3.15, \"stroke\": 3.29, \"compression_ratio\": 9.4, \"horsepower\": 69, \"peak_rpm\": 5200, \"city_mpg\": 31, \"highway_mpg\": 37, \"price\": 5499, \"safe\": false}, {\"symboling\": 1, \"normalized_losses\": 128, \"make\": \"nissan\", \"fuel_type\": \"diesel\", \"aspiration\": \"std\", \"num_of_doors\": \"two\", \"body_style\": \"sedan\", \"drive_wheels\": \"fwd\", \"engine_location\": \"front\", \"wheel_base\": 94.5, \"length\": 165.3, \"width\": 63.8, \"height\": 54.5, \"curb_weight\": 2017, \"engine_type\": \"ohc\", \"num_of_cylinders\": \"four\", \"engine_size\": 103, \"fuel_system\": \"idi\", \"bore\": 2.99, \"stroke\": 3.47, \"compression_ratio\": 21.9, \"horsepower\": 55, \"peak_rpm\": 4800, \"city_mpg\": 45, \"highway_mpg\": 50, \"price\": 7099, \"safe\": false}, {\"symboling\": 1, \"normalized_losses\": 128, \"make\": \"nissan\", \"fuel_type\": \"gas\", \"aspiration\": \"std\", \"num_of_doors\": \"two\", \"body_style\": \"sedan\", \"drive_wheels\": \"fwd\", \"engine_location\": \"front\", \"wheel_base\": 94.5, \"length\": 165.3, \"width\": 63.8, \"height\": 54.5, \"curb_weight\": 1918, \"engine_type\": \"ohc\", \"num_of_cylinders\": \"four\", \"engine_size\": 97, \"fuel_system\": \"2bbl\", \"bore\": 3.15, \"stroke\": 3.29, \"compression_ratio\": 9.4, \"horsepower\": 69, \"peak_rpm\": 5200, \"city_mpg\": 31, \"highway_mpg\": 37, \"price\": 6649, \"safe\": false}, {\"symboling\": 1, \"normalized_losses\": 122, \"make\": \"nissan\", \"fuel_type\": \"gas\", \"aspiration\": \"std\", \"num_of_doors\": \"four\", \"body_style\": \"sedan\", \"drive_wheels\": \"fwd\", \"engine_location\": \"front\", \"wheel_base\": 94.5, \"length\": 165.3, \"width\": 63.8, \"height\": 54.5, \"curb_weight\": 1938, \"engine_type\": \"ohc\", \"num_of_cylinders\": \"four\", \"engine_size\": 97, \"fuel_system\": \"2bbl\", \"bore\": 3.15, \"stroke\": 3.29, \"compression_ratio\": 9.4, \"horsepower\": 69, \"peak_rpm\": 5200, \"city_mpg\": 31, \"highway_mpg\": 37, \"price\": 6849, \"safe\": false}, {\"symboling\": 1, \"normalized_losses\": 103, \"make\": \"nissan\", \"fuel_type\": \"gas\", \"aspiration\": \"std\", \"num_of_doors\": \"four\", \"body_style\": \"wagon\", \"drive_wheels\": \"fwd\", \"engine_location\": \"front\", \"wheel_base\": 94.5, \"length\": 170.2, \"width\": 63.8, \"height\": 53.5, \"curb_weight\": 2024, \"engine_type\": \"ohc\", \"num_of_cylinders\": \"four\", \"engine_size\": 97, \"fuel_system\": \"2bbl\", \"bore\": 3.15, \"stroke\": 3.29, \"compression_ratio\": 9.4, \"horsepower\": 69, \"peak_rpm\": 5200, \"city_mpg\": 31, \"highway_mpg\": 37, \"price\": 7349, \"safe\": false}, {\"symboling\": 1, \"normalized_losses\": 128, \"make\": \"nissan\", \"fuel_type\": \"gas\", \"aspiration\": \"std\", \"num_of_doors\": \"two\", \"body_style\": \"sedan\", \"drive_wheels\": \"fwd\", \"engine_location\": \"front\", \"wheel_base\": 94.5, \"length\": 165.3, \"width\": 63.8, \"height\": 54.5, \"curb_weight\": 1951, \"engine_type\": \"ohc\", \"num_of_cylinders\": \"four\", \"engine_size\": 97, \"fuel_system\": \"2bbl\", \"bore\": 3.15, \"stroke\": 3.29, \"compression_ratio\": 9.4, \"horsepower\": 69, \"peak_rpm\": 5200, \"city_mpg\": 31, \"highway_mpg\": 37, \"price\": 7299, \"safe\": false}, {\"symboling\": 1, \"normalized_losses\": 128, \"make\": \"nissan\", \"fuel_type\": \"gas\", \"aspiration\": \"std\", \"num_of_doors\": \"two\", \"body_style\": \"hatchback\", \"drive_wheels\": \"fwd\", \"engine_location\": \"front\", \"wheel_base\": 94.5, \"length\": 165.6, \"width\": 63.8, \"height\": 53.3, \"curb_weight\": 2028, \"engine_type\": \"ohc\", \"num_of_cylinders\": \"four\", \"engine_size\": 97, \"fuel_system\": \"2bbl\", \"bore\": 3.15, \"stroke\": 3.29, \"compression_ratio\": 9.4, \"horsepower\": 69, \"peak_rpm\": 5200, \"city_mpg\": 31, \"highway_mpg\": 37, \"price\": 7799, \"safe\": false}, {\"symboling\": 1, \"normalized_losses\": 122, \"make\": \"nissan\", \"fuel_type\": \"gas\", \"aspiration\": \"std\", \"num_of_doors\": \"four\", \"body_style\": \"sedan\", \"drive_wheels\": \"fwd\", \"engine_location\": \"front\", \"wheel_base\": 94.5, \"length\": 165.3, \"width\": 63.8, \"height\": 54.5, \"curb_weight\": 1971, \"engine_type\": \"ohc\", \"num_of_cylinders\": \"four\", \"engine_size\": 97, \"fuel_system\": \"2bbl\", \"bore\": 3.15, \"stroke\": 3.29, \"compression_ratio\": 9.4, \"horsepower\": 69, \"peak_rpm\": 5200, \"city_mpg\": 31, \"highway_mpg\": 37, \"price\": 7499, \"safe\": false}, {\"symboling\": 1, \"normalized_losses\": 103, \"make\": \"nissan\", \"fuel_type\": \"gas\", \"aspiration\": \"std\", \"num_of_doors\": \"four\", \"body_style\": \"wagon\", \"drive_wheels\": \"fwd\", \"engine_location\": \"front\", \"wheel_base\": 94.5, \"length\": 170.2, \"width\": 63.8, \"height\": 53.5, \"curb_weight\": 2037, \"engine_type\": \"ohc\", \"num_of_cylinders\": \"four\", \"engine_size\": 97, \"fuel_system\": \"2bbl\", \"bore\": 3.15, \"stroke\": 3.29, \"compression_ratio\": 9.4, \"horsepower\": 69, \"peak_rpm\": 5200, \"city_mpg\": 31, \"highway_mpg\": 37, \"price\": 7999, \"safe\": false}, {\"symboling\": 2, \"normalized_losses\": 168, \"make\": \"nissan\", \"fuel_type\": \"gas\", \"aspiration\": \"std\", \"num_of_doors\": \"two\", \"body_style\": \"hardtop\", \"drive_wheels\": \"fwd\", \"engine_location\": \"front\", \"wheel_base\": 95.1, \"length\": 162.4, \"width\": 63.8, \"height\": 53.3, \"curb_weight\": 2008, \"engine_type\": \"ohc\", \"num_of_cylinders\": \"four\", \"engine_size\": 97, \"fuel_system\": \"2bbl\", \"bore\": 3.15, \"stroke\": 3.29, \"compression_ratio\": 9.4, \"horsepower\": 69, \"peak_rpm\": 5200, \"city_mpg\": 31, \"highway_mpg\": 37, \"price\": 8249, \"safe\": false}, {\"symboling\": 0, \"normalized_losses\": 106, \"make\": \"nissan\", \"fuel_type\": \"gas\", \"aspiration\": \"std\", \"num_of_doors\": \"four\", \"body_style\": \"hatchback\", \"drive_wheels\": \"fwd\", \"engine_location\": \"front\", \"wheel_base\": 97.2, \"length\": 173.4, \"width\": 65.2, \"height\": 54.7, \"curb_weight\": 2324, \"engine_type\": \"ohc\", \"num_of_cylinders\": \"four\", \"engine_size\": 120, \"fuel_system\": \"2bbl\", \"bore\": 3.33, \"stroke\": 3.47, \"compression_ratio\": 8.5, \"horsepower\": 97, \"peak_rpm\": 5200, \"city_mpg\": 27, \"highway_mpg\": 34, \"price\": 8949, \"safe\": true}, {\"symboling\": 0, \"normalized_losses\": 106, \"make\": \"nissan\", \"fuel_type\": \"gas\", \"aspiration\": \"std\", \"num_of_doors\": \"four\", \"body_style\": \"sedan\", \"drive_wheels\": \"fwd\", \"engine_location\": \"front\", \"wheel_base\": 97.2, \"length\": 173.4, \"width\": 65.2, \"height\": 54.7, \"curb_weight\": 2302, \"engine_type\": \"ohc\", \"num_of_cylinders\": \"four\", \"engine_size\": 120, \"fuel_system\": \"2bbl\", \"bore\": 3.33, \"stroke\": 3.47, \"compression_ratio\": 8.5, \"horsepower\": 97, \"peak_rpm\": 5200, \"city_mpg\": 27, \"highway_mpg\": 34, \"price\": 9549, \"safe\": true}, {\"symboling\": 0, \"normalized_losses\": 128, \"make\": \"nissan\", \"fuel_type\": \"gas\", \"aspiration\": \"std\", \"num_of_doors\": \"four\", \"body_style\": \"sedan\", \"drive_wheels\": \"fwd\", \"engine_location\": \"front\", \"wheel_base\": 100.4, \"length\": 181.7, \"width\": 66.5, \"height\": 55.1, \"curb_weight\": 3095, \"engine_type\": \"ohcv\", \"num_of_cylinders\": \"six\", \"engine_size\": 181, \"fuel_system\": \"mpfi\", \"bore\": 3.43, \"stroke\": 3.27, \"compression_ratio\": 9.0, \"horsepower\": 152, \"peak_rpm\": 5200, \"city_mpg\": 17, \"highway_mpg\": 22, \"price\": 13499, \"safe\": true}, {\"symboling\": 0, \"normalized_losses\": 108, \"make\": \"nissan\", \"fuel_type\": \"gas\", \"aspiration\": \"std\", \"num_of_doors\": \"four\", \"body_style\": \"wagon\", \"drive_wheels\": \"fwd\", \"engine_location\": \"front\", \"wheel_base\": 100.4, \"length\": 184.6, \"width\": 66.5, \"height\": 56.1, \"curb_weight\": 3296, \"engine_type\": \"ohcv\", \"num_of_cylinders\": \"six\", \"engine_size\": 181, \"fuel_system\": \"mpfi\", \"bore\": 3.43, \"stroke\": 3.27, \"compression_ratio\": 9.0, \"horsepower\": 152, \"peak_rpm\": 5200, \"city_mpg\": 17, \"highway_mpg\": 22, \"price\": 14399, \"safe\": true}, {\"symboling\": 0, \"normalized_losses\": 108, \"make\": \"nissan\", \"fuel_type\": \"gas\", \"aspiration\": \"std\", \"num_of_doors\": \"four\", \"body_style\": \"sedan\", \"drive_wheels\": \"fwd\", \"engine_location\": \"front\", \"wheel_base\": 100.4, \"length\": 184.6, \"width\": 66.5, \"height\": 55.1, \"curb_weight\": 3060, \"engine_type\": \"ohcv\", \"num_of_cylinders\": \"six\", \"engine_size\": 181, \"fuel_system\": \"mpfi\", \"bore\": 3.43, \"stroke\": 3.27, \"compression_ratio\": 9.0, \"horsepower\": 152, \"peak_rpm\": 5200, \"city_mpg\": 19, \"highway_mpg\": 25, \"price\": 13499, \"safe\": true}, {\"symboling\": 3, \"normalized_losses\": 194, \"make\": \"nissan\", \"fuel_type\": \"gas\", \"aspiration\": \"std\", \"num_of_doors\": \"two\", \"body_style\": \"hatchback\", \"drive_wheels\": \"rwd\", \"engine_location\": \"front\", \"wheel_base\": 91.3, \"length\": 170.7, \"width\": 67.9, \"height\": 49.7, \"curb_weight\": 3071, \"engine_type\": \"ohcv\", \"num_of_cylinders\": \"six\", \"engine_size\": 181, \"fuel_system\": \"mpfi\", \"bore\": 3.43, \"stroke\": 3.27, \"compression_ratio\": 9.0, \"horsepower\": 160, \"peak_rpm\": 5200, \"city_mpg\": 19, \"highway_mpg\": 25, \"price\": 17199, \"safe\": false}, {\"symboling\": 3, \"normalized_losses\": 194, \"make\": \"nissan\", \"fuel_type\": \"gas\", \"aspiration\": \"turbo\", \"num_of_doors\": \"two\", \"body_style\": \"hatchback\", \"drive_wheels\": \"rwd\", \"engine_location\": \"front\", \"wheel_base\": 91.3, \"length\": 170.7, \"width\": 67.9, \"height\": 49.7, \"curb_weight\": 3139, \"engine_type\": \"ohcv\", \"num_of_cylinders\": \"six\", \"engine_size\": 181, \"fuel_system\": \"mpfi\", \"bore\": 3.43, \"stroke\": 3.27, \"compression_ratio\": 7.8, \"horsepower\": 200, \"peak_rpm\": 5200, \"city_mpg\": 17, \"highway_mpg\": 23, \"price\": 19699, \"safe\": false}, {\"symboling\": 1, \"normalized_losses\": 231, \"make\": \"nissan\", \"fuel_type\": \"gas\", \"aspiration\": \"std\", \"num_of_doors\": \"two\", \"body_style\": \"hatchback\", \"drive_wheels\": \"rwd\", \"engine_location\": \"front\", \"wheel_base\": 99.2, \"length\": 178.5, \"width\": 67.9, \"height\": 49.7, \"curb_weight\": 3139, \"engine_type\": \"ohcv\", \"num_of_cylinders\": \"six\", \"engine_size\": 181, \"fuel_system\": \"mpfi\", \"bore\": 3.43, \"stroke\": 3.27, \"compression_ratio\": 9.0, \"horsepower\": 160, \"peak_rpm\": 5200, \"city_mpg\": 19, \"highway_mpg\": 25, \"price\": 18399, \"safe\": false}, {\"symboling\": 0, \"normalized_losses\": 161, \"make\": \"peugot\", \"fuel_type\": \"gas\", \"aspiration\": \"std\", \"num_of_doors\": \"four\", \"body_style\": \"sedan\", \"drive_wheels\": \"rwd\", \"engine_location\": \"front\", \"wheel_base\": 107.9, \"length\": 186.7, \"width\": 68.4, \"height\": 56.7, \"curb_weight\": 3020, \"engine_type\": \"l\", \"num_of_cylinders\": \"four\", \"engine_size\": 120, \"fuel_system\": \"mpfi\", \"bore\": 3.46, \"stroke\": 3.19, \"compression_ratio\": 8.4, \"horsepower\": 97, \"peak_rpm\": 5000, \"city_mpg\": 19, \"highway_mpg\": 24, \"price\": 11900, \"safe\": true}, {\"symboling\": 0, \"normalized_losses\": 161, \"make\": \"peugot\", \"fuel_type\": \"diesel\", \"aspiration\": \"turbo\", \"num_of_doors\": \"four\", \"body_style\": \"sedan\", \"drive_wheels\": \"rwd\", \"engine_location\": \"front\", \"wheel_base\": 107.9, \"length\": 186.7, \"width\": 68.4, \"height\": 56.7, \"curb_weight\": 3197, \"engine_type\": \"l\", \"num_of_cylinders\": \"four\", \"engine_size\": 152, \"fuel_system\": \"idi\", \"bore\": 3.7, \"stroke\": 3.52, \"compression_ratio\": 21.0, \"horsepower\": 95, \"peak_rpm\": 4150, \"city_mpg\": 28, \"highway_mpg\": 33, \"price\": 13200, \"safe\": true}, {\"symboling\": 0, \"normalized_losses\": 161, \"make\": \"peugot\", \"fuel_type\": \"gas\", \"aspiration\": \"std\", \"num_of_doors\": \"four\", \"body_style\": \"sedan\", \"drive_wheels\": \"rwd\", \"engine_location\": \"front\", \"wheel_base\": 107.9, \"length\": 186.7, \"width\": 68.4, \"height\": 56.7, \"curb_weight\": 3075, \"engine_type\": \"l\", \"num_of_cylinders\": \"four\", \"engine_size\": 120, \"fuel_system\": \"mpfi\", \"bore\": 3.46, \"stroke\": 2.19, \"compression_ratio\": 8.4, \"horsepower\": 95, \"peak_rpm\": 5000, \"city_mpg\": 19, \"highway_mpg\": 24, \"price\": 15580, \"safe\": true}, {\"symboling\": 0, \"normalized_losses\": 161, \"make\": \"peugot\", \"fuel_type\": \"diesel\", \"aspiration\": \"turbo\", \"num_of_doors\": \"four\", \"body_style\": \"sedan\", \"drive_wheels\": \"rwd\", \"engine_location\": \"front\", \"wheel_base\": 107.9, \"length\": 186.7, \"width\": 68.4, \"height\": 56.7, \"curb_weight\": 3252, \"engine_type\": \"l\", \"num_of_cylinders\": \"four\", \"engine_size\": 152, \"fuel_system\": \"idi\", \"bore\": 3.7, \"stroke\": 3.52, \"compression_ratio\": 21.0, \"horsepower\": 95, \"peak_rpm\": 4150, \"city_mpg\": 28, \"highway_mpg\": 33, \"price\": 16900, \"safe\": true}, {\"symboling\": 0, \"normalized_losses\": 161, \"make\": \"peugot\", \"fuel_type\": \"gas\", \"aspiration\": \"std\", \"num_of_doors\": \"four\", \"body_style\": \"sedan\", \"drive_wheels\": \"rwd\", \"engine_location\": \"front\", \"wheel_base\": 107.9, \"length\": 186.7, \"width\": 68.4, \"height\": 56.7, \"curb_weight\": 3075, \"engine_type\": \"l\", \"num_of_cylinders\": \"four\", \"engine_size\": 120, \"fuel_system\": \"mpfi\", \"bore\": 3.46, \"stroke\": 3.19, \"compression_ratio\": 8.4, \"horsepower\": 97, \"peak_rpm\": 5000, \"city_mpg\": 19, \"highway_mpg\": 24, \"price\": 16630, \"safe\": true}, {\"symboling\": 0, \"normalized_losses\": 161, \"make\": \"peugot\", \"fuel_type\": \"diesel\", \"aspiration\": \"turbo\", \"num_of_doors\": \"four\", \"body_style\": \"sedan\", \"drive_wheels\": \"rwd\", \"engine_location\": \"front\", \"wheel_base\": 107.9, \"length\": 186.7, \"width\": 68.4, \"height\": 56.7, \"curb_weight\": 3252, \"engine_type\": \"l\", \"num_of_cylinders\": \"four\", \"engine_size\": 152, \"fuel_system\": \"idi\", \"bore\": 3.7, \"stroke\": 3.52, \"compression_ratio\": 21.0, \"horsepower\": 95, \"peak_rpm\": 4150, \"city_mpg\": 28, \"highway_mpg\": 33, \"price\": 17950, \"safe\": true}, {\"symboling\": 0, \"normalized_losses\": 161, \"make\": \"peugot\", \"fuel_type\": \"gas\", \"aspiration\": \"turbo\", \"num_of_doors\": \"four\", \"body_style\": \"sedan\", \"drive_wheels\": \"rwd\", \"engine_location\": \"front\", \"wheel_base\": 108.0, \"length\": 186.7, \"width\": 68.3, \"height\": 56.0, \"curb_weight\": 3130, \"engine_type\": \"l\", \"num_of_cylinders\": \"four\", \"engine_size\": 134, \"fuel_system\": \"mpfi\", \"bore\": 3.61, \"stroke\": 3.21, \"compression_ratio\": 7.0, \"horsepower\": 142, \"peak_rpm\": 5600, \"city_mpg\": 18, \"highway_mpg\": 24, \"price\": 18150, \"safe\": true}, {\"symboling\": 1, \"normalized_losses\": 119, \"make\": \"plymouth\", \"fuel_type\": \"gas\", \"aspiration\": \"std\", \"num_of_doors\": \"two\", \"body_style\": \"hatchback\", \"drive_wheels\": \"fwd\", \"engine_location\": \"front\", \"wheel_base\": 93.7, \"length\": 157.3, \"width\": 63.8, \"height\": 50.8, \"curb_weight\": 1918, \"engine_type\": \"ohc\", \"num_of_cylinders\": \"four\", \"engine_size\": 90, \"fuel_system\": \"2bbl\", \"bore\": 2.97, \"stroke\": 3.23, \"compression_ratio\": 9.4, \"horsepower\": 68, \"peak_rpm\": 5500, \"city_mpg\": 37, \"highway_mpg\": 41, \"price\": 5572, \"safe\": false}, {\"symboling\": 1, \"normalized_losses\": 119, \"make\": \"plymouth\", \"fuel_type\": \"gas\", \"aspiration\": \"turbo\", \"num_of_doors\": \"two\", \"body_style\": \"hatchback\", \"drive_wheels\": \"fwd\", \"engine_location\": \"front\", \"wheel_base\": 93.7, \"length\": 157.3, \"width\": 63.8, \"height\": 50.8, \"curb_weight\": 2128, \"engine_type\": \"ohc\", \"num_of_cylinders\": \"four\", \"engine_size\": 98, \"fuel_system\": \"spdi\", \"bore\": 3.03, \"stroke\": 3.39, \"compression_ratio\": 7.6, \"horsepower\": 102, \"peak_rpm\": 5500, \"city_mpg\": 24, \"highway_mpg\": 30, \"price\": 7957, \"safe\": false}, {\"symboling\": 1, \"normalized_losses\": 154, \"make\": \"plymouth\", \"fuel_type\": \"gas\", \"aspiration\": \"std\", \"num_of_doors\": \"four\", \"body_style\": \"hatchback\", \"drive_wheels\": \"fwd\", \"engine_location\": \"front\", \"wheel_base\": 93.7, \"length\": 157.3, \"width\": 63.8, \"height\": 50.6, \"curb_weight\": 1967, \"engine_type\": \"ohc\", \"num_of_cylinders\": \"four\", \"engine_size\": 90, \"fuel_system\": \"2bbl\", \"bore\": 2.97, \"stroke\": 3.23, \"compression_ratio\": 9.4, \"horsepower\": 68, \"peak_rpm\": 5500, \"city_mpg\": 31, \"highway_mpg\": 38, \"price\": 6229, \"safe\": false}, {\"symboling\": 1, \"normalized_losses\": 154, \"make\": \"plymouth\", \"fuel_type\": \"gas\", \"aspiration\": \"std\", \"num_of_doors\": \"four\", \"body_style\": \"sedan\", \"drive_wheels\": \"fwd\", \"engine_location\": \"front\", \"wheel_base\": 93.7, \"length\": 167.3, \"width\": 63.8, \"height\": 50.8, \"curb_weight\": 1989, \"engine_type\": \"ohc\", \"num_of_cylinders\": \"four\", \"engine_size\": 90, \"fuel_system\": \"2bbl\", \"bore\": 2.97, \"stroke\": 3.23, \"compression_ratio\": 9.4, \"horsepower\": 68, \"peak_rpm\": 5500, \"city_mpg\": 31, \"highway_mpg\": 38, \"price\": 6692, \"safe\": false}, {\"symboling\": 1, \"normalized_losses\": 154, \"make\": \"plymouth\", \"fuel_type\": \"gas\", \"aspiration\": \"std\", \"num_of_doors\": \"four\", \"body_style\": \"sedan\", \"drive_wheels\": \"fwd\", \"engine_location\": \"front\", \"wheel_base\": 93.7, \"length\": 167.3, \"width\": 63.8, \"height\": 50.8, \"curb_weight\": 2191, \"engine_type\": \"ohc\", \"num_of_cylinders\": \"four\", \"engine_size\": 98, \"fuel_system\": \"2bbl\", \"bore\": 2.97, \"stroke\": 3.23, \"compression_ratio\": 9.4, \"horsepower\": 68, \"peak_rpm\": 5500, \"city_mpg\": 31, \"highway_mpg\": 38, \"price\": 7609, \"safe\": false}, {\"symboling\": -1, \"normalized_losses\": 74, \"make\": \"plymouth\", \"fuel_type\": \"gas\", \"aspiration\": \"std\", \"num_of_doors\": \"four\", \"body_style\": \"wagon\", \"drive_wheels\": \"fwd\", \"engine_location\": \"front\", \"wheel_base\": 103.3, \"length\": 174.6, \"width\": 64.6, \"height\": 59.8, \"curb_weight\": 2535, \"engine_type\": \"ohc\", \"num_of_cylinders\": \"four\", \"engine_size\": 122, \"fuel_system\": \"2bbl\", \"bore\": 3.35, \"stroke\": 3.46, \"compression_ratio\": 8.5, \"horsepower\": 88, \"peak_rpm\": 5000, \"city_mpg\": 24, \"highway_mpg\": 30, \"price\": 8921, \"safe\": true}, {\"symboling\": 3, \"normalized_losses\": 186, \"make\": \"porsche\", \"fuel_type\": \"gas\", \"aspiration\": \"std\", \"num_of_doors\": \"two\", \"body_style\": \"hatchback\", \"drive_wheels\": \"rwd\", \"engine_location\": \"front\", \"wheel_base\": 94.5, \"length\": 168.9, \"width\": 68.3, \"height\": 50.2, \"curb_weight\": 2778, \"engine_type\": \"ohc\", \"num_of_cylinders\": \"four\", \"engine_size\": 151, \"fuel_system\": \"mpfi\", \"bore\": 3.94, \"stroke\": 3.11, \"compression_ratio\": 9.5, \"horsepower\": 143, \"peak_rpm\": 5500, \"city_mpg\": 19, \"highway_mpg\": 27, \"price\": 22018, \"safe\": false}, {\"symboling\": 3, \"normalized_losses\": 150, \"make\": \"saab\", \"fuel_type\": \"gas\", \"aspiration\": \"std\", \"num_of_doors\": \"two\", \"body_style\": \"hatchback\", \"drive_wheels\": \"fwd\", \"engine_location\": \"front\", \"wheel_base\": 99.1, \"length\": 186.6, \"width\": 66.5, \"height\": 56.1, \"curb_weight\": 2658, \"engine_type\": \"ohc\", \"num_of_cylinders\": \"four\", \"engine_size\": 121, \"fuel_system\": \"mpfi\", \"bore\": 3.54, \"stroke\": 3.07, \"compression_ratio\": 9.31, \"horsepower\": 110, \"peak_rpm\": 5250, \"city_mpg\": 21, \"highway_mpg\": 28, \"price\": 11850, \"safe\": false}, {\"symboling\": 2, \"normalized_losses\": 104, \"make\": \"saab\", \"fuel_type\": \"gas\", \"aspiration\": \"std\", \"num_of_doors\": \"four\", \"body_style\": \"sedan\", \"drive_wheels\": \"fwd\", \"engine_location\": \"front\", \"wheel_base\": 99.1, \"length\": 186.6, \"width\": 66.5, \"height\": 56.1, \"curb_weight\": 2695, \"engine_type\": \"ohc\", \"num_of_cylinders\": \"four\", \"engine_size\": 121, \"fuel_system\": \"mpfi\", \"bore\": 3.54, \"stroke\": 3.07, \"compression_ratio\": 9.3, \"horsepower\": 110, \"peak_rpm\": 5250, \"city_mpg\": 21, \"highway_mpg\": 28, \"price\": 12170, \"safe\": false}, {\"symboling\": 3, \"normalized_losses\": 150, \"make\": \"saab\", \"fuel_type\": \"gas\", \"aspiration\": \"std\", \"num_of_doors\": \"two\", \"body_style\": \"hatchback\", \"drive_wheels\": \"fwd\", \"engine_location\": \"front\", \"wheel_base\": 99.1, \"length\": 186.6, \"width\": 66.5, \"height\": 56.1, \"curb_weight\": 2707, \"engine_type\": \"ohc\", \"num_of_cylinders\": \"four\", \"engine_size\": 121, \"fuel_system\": \"mpfi\", \"bore\": 2.54, \"stroke\": 2.07, \"compression_ratio\": 9.3, \"horsepower\": 110, \"peak_rpm\": 5250, \"city_mpg\": 21, \"highway_mpg\": 28, \"price\": 15040, \"safe\": false}, {\"symboling\": 2, \"normalized_losses\": 104, \"make\": \"saab\", \"fuel_type\": \"gas\", \"aspiration\": \"std\", \"num_of_doors\": \"four\", \"body_style\": \"sedan\", \"drive_wheels\": \"fwd\", \"engine_location\": \"front\", \"wheel_base\": 99.1, \"length\": 186.6, \"width\": 66.5, \"height\": 56.1, \"curb_weight\": 2758, \"engine_type\": \"ohc\", \"num_of_cylinders\": \"four\", \"engine_size\": 121, \"fuel_system\": \"mpfi\", \"bore\": 3.54, \"stroke\": 3.07, \"compression_ratio\": 9.3, \"horsepower\": 110, \"peak_rpm\": 5250, \"city_mpg\": 21, \"highway_mpg\": 28, \"price\": 15510, \"safe\": false}, {\"symboling\": 3, \"normalized_losses\": 150, \"make\": \"saab\", \"fuel_type\": \"gas\", \"aspiration\": \"turbo\", \"num_of_doors\": \"two\", \"body_style\": \"hatchback\", \"drive_wheels\": \"fwd\", \"engine_location\": \"front\", \"wheel_base\": 99.1, \"length\": 186.6, \"width\": 66.5, \"height\": 56.1, \"curb_weight\": 2808, \"engine_type\": \"dohc\", \"num_of_cylinders\": \"four\", \"engine_size\": 121, \"fuel_system\": \"mpfi\", \"bore\": 3.54, \"stroke\": 3.07, \"compression_ratio\": 9.0, \"horsepower\": 160, \"peak_rpm\": 5500, \"city_mpg\": 19, \"highway_mpg\": 26, \"price\": 18150, \"safe\": false}, {\"symboling\": 2, \"normalized_losses\": 104, \"make\": \"saab\", \"fuel_type\": \"gas\", \"aspiration\": \"turbo\", \"num_of_doors\": \"four\", \"body_style\": \"sedan\", \"drive_wheels\": \"fwd\", \"engine_location\": \"front\", \"wheel_base\": 99.1, \"length\": 186.6, \"width\": 66.5, \"height\": 56.1, \"curb_weight\": 2847, \"engine_type\": \"dohc\", \"num_of_cylinders\": \"four\", \"engine_size\": 121, \"fuel_system\": \"mpfi\", \"bore\": 3.54, \"stroke\": 3.07, \"compression_ratio\": 9.0, \"horsepower\": 160, \"peak_rpm\": 5500, \"city_mpg\": 19, \"highway_mpg\": 26, \"price\": 18620, \"safe\": false}, {\"symboling\": 2, \"normalized_losses\": 83, \"make\": \"subaru\", \"fuel_type\": \"gas\", \"aspiration\": \"std\", \"num_of_doors\": \"two\", \"body_style\": \"hatchback\", \"drive_wheels\": \"fwd\", \"engine_location\": \"front\", \"wheel_base\": 93.7, \"length\": 156.9, \"width\": 63.4, \"height\": 53.7, \"curb_weight\": 2050, \"engine_type\": \"ohcf\", \"num_of_cylinders\": \"four\", \"engine_size\": 97, \"fuel_system\": \"2bbl\", \"bore\": 3.62, \"stroke\": 2.36, \"compression_ratio\": 9.0, \"horsepower\": 69, \"peak_rpm\": 4900, \"city_mpg\": 31, \"highway_mpg\": 36, \"price\": 5118, \"safe\": false}, {\"symboling\": 2, \"normalized_losses\": 83, \"make\": \"subaru\", \"fuel_type\": \"gas\", \"aspiration\": \"std\", \"num_of_doors\": \"two\", \"body_style\": \"hatchback\", \"drive_wheels\": \"fwd\", \"engine_location\": \"front\", \"wheel_base\": 93.7, \"length\": 157.9, \"width\": 63.6, \"height\": 53.7, \"curb_weight\": 2120, \"engine_type\": \"ohcf\", \"num_of_cylinders\": \"four\", \"engine_size\": 108, \"fuel_system\": \"2bbl\", \"bore\": 3.62, \"stroke\": 2.64, \"compression_ratio\": 8.7, \"horsepower\": 73, \"peak_rpm\": 4400, \"city_mpg\": 26, \"highway_mpg\": 31, \"price\": 7053, \"safe\": false}, {\"symboling\": 2, \"normalized_losses\": 83, \"make\": \"subaru\", \"fuel_type\": \"gas\", \"aspiration\": \"std\", \"num_of_doors\": \"two\", \"body_style\": \"hatchback\", \"drive_wheels\": \"4wd\", \"engine_location\": \"front\", \"wheel_base\": 93.3, \"length\": 157.3, \"width\": 63.8, \"height\": 55.7, \"curb_weight\": 2240, \"engine_type\": \"ohcf\", \"num_of_cylinders\": \"four\", \"engine_size\": 108, \"fuel_system\": \"2bbl\", \"bore\": 3.62, \"stroke\": 2.64, \"compression_ratio\": 8.7, \"horsepower\": 73, \"peak_rpm\": 4400, \"city_mpg\": 26, \"highway_mpg\": 31, \"price\": 7603, \"safe\": false}, {\"symboling\": 0, \"normalized_losses\": 102, \"make\": \"subaru\", \"fuel_type\": \"gas\", \"aspiration\": \"std\", \"num_of_doors\": \"four\", \"body_style\": \"sedan\", \"drive_wheels\": \"fwd\", \"engine_location\": \"front\", \"wheel_base\": 97.2, \"length\": 172.0, \"width\": 65.4, \"height\": 52.5, \"curb_weight\": 2145, \"engine_type\": \"ohcf\", \"num_of_cylinders\": \"four\", \"engine_size\": 108, \"fuel_system\": \"2bbl\", \"bore\": 3.62, \"stroke\": 2.64, \"compression_ratio\": 9.5, \"horsepower\": 82, \"peak_rpm\": 4800, \"city_mpg\": 32, \"highway_mpg\": 37, \"price\": 7126, \"safe\": true}, {\"symboling\": 0, \"normalized_losses\": 102, \"make\": \"subaru\", \"fuel_type\": \"gas\", \"aspiration\": \"std\", \"num_of_doors\": \"four\", \"body_style\": \"sedan\", \"drive_wheels\": \"fwd\", \"engine_location\": \"front\", \"wheel_base\": 97.2, \"length\": 172.0, \"width\": 65.4, \"height\": 52.5, \"curb_weight\": 2190, \"engine_type\": \"ohcf\", \"num_of_cylinders\": \"four\", \"engine_size\": 108, \"fuel_system\": \"2bbl\", \"bore\": 3.62, \"stroke\": 2.64, \"compression_ratio\": 9.5, \"horsepower\": 82, \"peak_rpm\": 4400, \"city_mpg\": 28, \"highway_mpg\": 33, \"price\": 7775, \"safe\": true}, {\"symboling\": 0, \"normalized_losses\": 102, \"make\": \"subaru\", \"fuel_type\": \"gas\", \"aspiration\": \"std\", \"num_of_doors\": \"four\", \"body_style\": \"sedan\", \"drive_wheels\": \"fwd\", \"engine_location\": \"front\", \"wheel_base\": 97.2, \"length\": 172.0, \"width\": 65.4, \"height\": 52.5, \"curb_weight\": 2340, \"engine_type\": \"ohcf\", \"num_of_cylinders\": \"four\", \"engine_size\": 108, \"fuel_system\": \"mpfi\", \"bore\": 3.62, \"stroke\": 2.64, \"compression_ratio\": 9.0, \"horsepower\": 94, \"peak_rpm\": 5200, \"city_mpg\": 26, \"highway_mpg\": 32, \"price\": 9960, \"safe\": true}, {\"symboling\": 0, \"normalized_losses\": 102, \"make\": \"subaru\", \"fuel_type\": \"gas\", \"aspiration\": \"std\", \"num_of_doors\": \"four\", \"body_style\": \"sedan\", \"drive_wheels\": \"4wd\", \"engine_location\": \"front\", \"wheel_base\": 97.0, \"length\": 172.0, \"width\": 65.4, \"height\": 54.3, \"curb_weight\": 2385, \"engine_type\": \"ohcf\", \"num_of_cylinders\": \"four\", \"engine_size\": 108, \"fuel_system\": \"2bbl\", \"bore\": 3.62, \"stroke\": 2.64, \"compression_ratio\": 9.0, \"horsepower\": 82, \"peak_rpm\": 4800, \"city_mpg\": 24, \"highway_mpg\": 25, \"price\": 9233, \"safe\": true}, {\"symboling\": 0, \"normalized_losses\": 102, \"make\": \"subaru\", \"fuel_type\": \"gas\", \"aspiration\": \"turbo\", \"num_of_doors\": \"four\", \"body_style\": \"sedan\", \"drive_wheels\": \"4wd\", \"engine_location\": \"front\", \"wheel_base\": 97.0, \"length\": 172.0, \"width\": 65.4, \"height\": 54.3, \"curb_weight\": 2510, \"engine_type\": \"ohcf\", \"num_of_cylinders\": \"four\", \"engine_size\": 108, \"fuel_system\": \"mpfi\", \"bore\": 3.62, \"stroke\": 2.64, \"compression_ratio\": 7.7, \"horsepower\": 111, \"peak_rpm\": 4800, \"city_mpg\": 24, \"highway_mpg\": 29, \"price\": 11259, \"safe\": true}, {\"symboling\": 0, \"normalized_losses\": 89, \"make\": \"subaru\", \"fuel_type\": \"gas\", \"aspiration\": \"std\", \"num_of_doors\": \"four\", \"body_style\": \"wagon\", \"drive_wheels\": \"fwd\", \"engine_location\": \"front\", \"wheel_base\": 97.0, \"length\": 173.5, \"width\": 65.4, \"height\": 53.0, \"curb_weight\": 2290, \"engine_type\": \"ohcf\", \"num_of_cylinders\": \"four\", \"engine_size\": 108, \"fuel_system\": \"2bbl\", \"bore\": 3.62, \"stroke\": 2.64, \"compression_ratio\": 9.0, \"horsepower\": 82, \"peak_rpm\": 4800, \"city_mpg\": 28, \"highway_mpg\": 32, \"price\": 7463, \"safe\": true}, {\"symboling\": 0, \"normalized_losses\": 89, \"make\": \"subaru\", \"fuel_type\": \"gas\", \"aspiration\": \"std\", \"num_of_doors\": \"four\", \"body_style\": \"wagon\", \"drive_wheels\": \"fwd\", \"engine_location\": \"front\", \"wheel_base\": 97.0, \"length\": 173.5, \"width\": 65.4, \"height\": 53.0, \"curb_weight\": 2455, \"engine_type\": \"ohcf\", \"num_of_cylinders\": \"four\", \"engine_size\": 108, \"fuel_system\": \"mpfi\", \"bore\": 3.62, \"stroke\": 2.64, \"compression_ratio\": 9.0, \"horsepower\": 94, \"peak_rpm\": 5200, \"city_mpg\": 25, \"highway_mpg\": 31, \"price\": 10198, \"safe\": true}, {\"symboling\": 0, \"normalized_losses\": 85, \"make\": \"subaru\", \"fuel_type\": \"gas\", \"aspiration\": \"std\", \"num_of_doors\": \"four\", \"body_style\": \"wagon\", \"drive_wheels\": \"4wd\", \"engine_location\": \"front\", \"wheel_base\": 96.9, \"length\": 173.6, \"width\": 65.4, \"height\": 54.9, \"curb_weight\": 2420, \"engine_type\": \"ohcf\", \"num_of_cylinders\": \"four\", \"engine_size\": 108, \"fuel_system\": \"2bbl\", \"bore\": 3.62, \"stroke\": 2.64, \"compression_ratio\": 9.0, \"horsepower\": 82, \"peak_rpm\": 4800, \"city_mpg\": 23, \"highway_mpg\": 29, \"price\": 8013, \"safe\": true}, {\"symboling\": 0, \"normalized_losses\": 85, \"make\": \"subaru\", \"fuel_type\": \"gas\", \"aspiration\": \"turbo\", \"num_of_doors\": \"four\", \"body_style\": \"wagon\", \"drive_wheels\": \"4wd\", \"engine_location\": \"front\", \"wheel_base\": 96.9, \"length\": 173.6, \"width\": 65.4, \"height\": 54.9, \"curb_weight\": 2650, \"engine_type\": \"ohcf\", \"num_of_cylinders\": \"four\", \"engine_size\": 108, \"fuel_system\": \"mpfi\", \"bore\": 3.62, \"stroke\": 2.64, \"compression_ratio\": 7.7, \"horsepower\": 111, \"peak_rpm\": 4800, \"city_mpg\": 23, \"highway_mpg\": 23, \"price\": 11694, \"safe\": true}, {\"symboling\": 1, \"normalized_losses\": 87, \"make\": \"toyota\", \"fuel_type\": \"gas\", \"aspiration\": \"std\", \"num_of_doors\": \"two\", \"body_style\": \"hatchback\", \"drive_wheels\": \"fwd\", \"engine_location\": \"front\", \"wheel_base\": 95.7, \"length\": 158.7, \"width\": 63.6, \"height\": 54.5, \"curb_weight\": 1985, \"engine_type\": \"ohc\", \"num_of_cylinders\": \"four\", \"engine_size\": 92, \"fuel_system\": \"2bbl\", \"bore\": 3.05, \"stroke\": 3.03, \"compression_ratio\": 9.0, \"horsepower\": 62, \"peak_rpm\": 4800, \"city_mpg\": 35, \"highway_mpg\": 39, \"price\": 5348, \"safe\": false}, {\"symboling\": 1, \"normalized_losses\": 87, \"make\": \"toyota\", \"fuel_type\": \"gas\", \"aspiration\": \"std\", \"num_of_doors\": \"two\", \"body_style\": \"hatchback\", \"drive_wheels\": \"fwd\", \"engine_location\": \"front\", \"wheel_base\": 95.7, \"length\": 158.7, \"width\": 63.6, \"height\": 54.5, \"curb_weight\": 2040, \"engine_type\": \"ohc\", \"num_of_cylinders\": \"four\", \"engine_size\": 92, \"fuel_system\": \"2bbl\", \"bore\": 3.05, \"stroke\": 3.03, \"compression_ratio\": 9.0, \"horsepower\": 62, \"peak_rpm\": 4800, \"city_mpg\": 31, \"highway_mpg\": 38, \"price\": 6338, \"safe\": false}, {\"symboling\": 1, \"normalized_losses\": 74, \"make\": \"toyota\", \"fuel_type\": \"gas\", \"aspiration\": \"std\", \"num_of_doors\": \"four\", \"body_style\": \"hatchback\", \"drive_wheels\": \"fwd\", \"engine_location\": \"front\", \"wheel_base\": 95.7, \"length\": 158.7, \"width\": 63.6, \"height\": 54.5, \"curb_weight\": 2015, \"engine_type\": \"ohc\", \"num_of_cylinders\": \"four\", \"engine_size\": 92, \"fuel_system\": \"2bbl\", \"bore\": 3.05, \"stroke\": 3.03, \"compression_ratio\": 9.0, \"horsepower\": 62, \"peak_rpm\": 4800, \"city_mpg\": 31, \"highway_mpg\": 38, \"price\": 6488, \"safe\": false}, {\"symboling\": 0, \"normalized_losses\": 77, \"make\": \"toyota\", \"fuel_type\": \"gas\", \"aspiration\": \"std\", \"num_of_doors\": \"four\", \"body_style\": \"wagon\", \"drive_wheels\": \"fwd\", \"engine_location\": \"front\", \"wheel_base\": 95.7, \"length\": 169.7, \"width\": 63.6, \"height\": 59.1, \"curb_weight\": 2280, \"engine_type\": \"ohc\", \"num_of_cylinders\": \"four\", \"engine_size\": 92, \"fuel_system\": \"2bbl\", \"bore\": 3.05, \"stroke\": 3.03, \"compression_ratio\": 9.0, \"horsepower\": 62, \"peak_rpm\": 4800, \"city_mpg\": 31, \"highway_mpg\": 37, \"price\": 6918, \"safe\": true}, {\"symboling\": 0, \"normalized_losses\": 81, \"make\": \"toyota\", \"fuel_type\": \"gas\", \"aspiration\": \"std\", \"num_of_doors\": \"four\", \"body_style\": \"wagon\", \"drive_wheels\": \"4wd\", \"engine_location\": \"front\", \"wheel_base\": 95.7, \"length\": 169.7, \"width\": 63.6, \"height\": 59.1, \"curb_weight\": 2290, \"engine_type\": \"ohc\", \"num_of_cylinders\": \"four\", \"engine_size\": 92, \"fuel_system\": \"2bbl\", \"bore\": 3.05, \"stroke\": 3.03, \"compression_ratio\": 9.0, \"horsepower\": 62, \"peak_rpm\": 4800, \"city_mpg\": 27, \"highway_mpg\": 32, \"price\": 7898, \"safe\": true}, {\"symboling\": 0, \"normalized_losses\": 91, \"make\": \"toyota\", \"fuel_type\": \"gas\", \"aspiration\": \"std\", \"num_of_doors\": \"four\", \"body_style\": \"wagon\", \"drive_wheels\": \"4wd\", \"engine_location\": \"front\", \"wheel_base\": 95.7, \"length\": 169.7, \"width\": 63.6, \"height\": 59.1, \"curb_weight\": 3110, \"engine_type\": \"ohc\", \"num_of_cylinders\": \"four\", \"engine_size\": 92, \"fuel_system\": \"2bbl\", \"bore\": 3.05, \"stroke\": 3.03, \"compression_ratio\": 9.0, \"horsepower\": 62, \"peak_rpm\": 4800, \"city_mpg\": 27, \"highway_mpg\": 32, \"price\": 8778, \"safe\": true}, {\"symboling\": 0, \"normalized_losses\": 91, \"make\": \"toyota\", \"fuel_type\": \"gas\", \"aspiration\": \"std\", \"num_of_doors\": \"four\", \"body_style\": \"sedan\", \"drive_wheels\": \"fwd\", \"engine_location\": \"front\", \"wheel_base\": 95.7, \"length\": 166.3, \"width\": 64.4, \"height\": 53.0, \"curb_weight\": 2081, \"engine_type\": \"ohc\", \"num_of_cylinders\": \"four\", \"engine_size\": 98, \"fuel_system\": \"2bbl\", \"bore\": 3.19, \"stroke\": 3.03, \"compression_ratio\": 9.0, \"horsepower\": 70, \"peak_rpm\": 4800, \"city_mpg\": 30, \"highway_mpg\": 37, \"price\": 6938, \"safe\": true}, {\"symboling\": 0, \"normalized_losses\": 91, \"make\": \"toyota\", \"fuel_type\": \"gas\", \"aspiration\": \"std\", \"num_of_doors\": \"four\", \"body_style\": \"hatchback\", \"drive_wheels\": \"fwd\", \"engine_location\": \"front\", \"wheel_base\": 95.7, \"length\": 166.3, \"width\": 64.4, \"height\": 52.8, \"curb_weight\": 2109, \"engine_type\": \"ohc\", \"num_of_cylinders\": \"four\", \"engine_size\": 98, \"fuel_system\": \"2bbl\", \"bore\": 3.19, \"stroke\": 3.03, \"compression_ratio\": 9.0, \"horsepower\": 70, \"peak_rpm\": 4800, \"city_mpg\": 30, \"highway_mpg\": 37, \"price\": 7198, \"safe\": true}, {\"symboling\": 0, \"normalized_losses\": 91, \"make\": \"toyota\", \"fuel_type\": \"diesel\", \"aspiration\": \"std\", \"num_of_doors\": \"four\", \"body_style\": \"sedan\", \"drive_wheels\": \"fwd\", \"engine_location\": \"front\", \"wheel_base\": 95.7, \"length\": 166.3, \"width\": 64.4, \"height\": 53.0, \"curb_weight\": 2275, \"engine_type\": \"ohc\", \"num_of_cylinders\": \"four\", \"engine_size\": 110, \"fuel_system\": \"idi\", \"bore\": 3.27, \"stroke\": 3.35, \"compression_ratio\": 22.5, \"horsepower\": 56, \"peak_rpm\": 4500, \"city_mpg\": 34, \"highway_mpg\": 36, \"price\": 7898, \"safe\": true}, {\"symboling\": 0, \"normalized_losses\": 91, \"make\": \"toyota\", \"fuel_type\": \"diesel\", \"aspiration\": \"std\", \"num_of_doors\": \"four\", \"body_style\": \"hatchback\", \"drive_wheels\": \"fwd\", \"engine_location\": \"front\", \"wheel_base\": 95.7, \"length\": 166.3, \"width\": 64.4, \"height\": 52.8, \"curb_weight\": 2275, \"engine_type\": \"ohc\", \"num_of_cylinders\": \"four\", \"engine_size\": 110, \"fuel_system\": \"idi\", \"bore\": 3.27, \"stroke\": 3.35, \"compression_ratio\": 22.5, \"horsepower\": 56, \"peak_rpm\": 4500, \"city_mpg\": 38, \"highway_mpg\": 47, \"price\": 7788, \"safe\": true}, {\"symboling\": 0, \"normalized_losses\": 91, \"make\": \"toyota\", \"fuel_type\": \"gas\", \"aspiration\": \"std\", \"num_of_doors\": \"four\", \"body_style\": \"sedan\", \"drive_wheels\": \"fwd\", \"engine_location\": \"front\", \"wheel_base\": 95.7, \"length\": 166.3, \"width\": 64.4, \"height\": 53.0, \"curb_weight\": 2094, \"engine_type\": \"ohc\", \"num_of_cylinders\": \"four\", \"engine_size\": 98, \"fuel_system\": \"2bbl\", \"bore\": 3.19, \"stroke\": 3.03, \"compression_ratio\": 9.0, \"horsepower\": 70, \"peak_rpm\": 4800, \"city_mpg\": 38, \"highway_mpg\": 47, \"price\": 7738, \"safe\": true}, {\"symboling\": 0, \"normalized_losses\": 91, \"make\": \"toyota\", \"fuel_type\": \"gas\", \"aspiration\": \"std\", \"num_of_doors\": \"four\", \"body_style\": \"hatchback\", \"drive_wheels\": \"fwd\", \"engine_location\": \"front\", \"wheel_base\": 95.7, \"length\": 166.3, \"width\": 64.4, \"height\": 52.8, \"curb_weight\": 2122, \"engine_type\": \"ohc\", \"num_of_cylinders\": \"four\", \"engine_size\": 98, \"fuel_system\": \"2bbl\", \"bore\": 3.19, \"stroke\": 3.03, \"compression_ratio\": 9.0, \"horsepower\": 70, \"peak_rpm\": 4800, \"city_mpg\": 28, \"highway_mpg\": 34, \"price\": 8358, \"safe\": true}, {\"symboling\": 0, \"normalized_losses\": 91, \"make\": \"toyota\", \"fuel_type\": \"gas\", \"aspiration\": \"std\", \"num_of_doors\": \"four\", \"body_style\": \"sedan\", \"drive_wheels\": \"fwd\", \"engine_location\": \"front\", \"wheel_base\": 95.7, \"length\": 166.3, \"width\": 64.4, \"height\": 52.8, \"curb_weight\": 2140, \"engine_type\": \"ohc\", \"num_of_cylinders\": \"four\", \"engine_size\": 98, \"fuel_system\": \"2bbl\", \"bore\": 3.19, \"stroke\": 3.03, \"compression_ratio\": 9.0, \"horsepower\": 70, \"peak_rpm\": 4800, \"city_mpg\": 28, \"highway_mpg\": 34, \"price\": 9258, \"safe\": true}, {\"symboling\": 1, \"normalized_losses\": 168, \"make\": \"toyota\", \"fuel_type\": \"gas\", \"aspiration\": \"std\", \"num_of_doors\": \"two\", \"body_style\": \"sedan\", \"drive_wheels\": \"rwd\", \"engine_location\": \"front\", \"wheel_base\": 94.5, \"length\": 168.7, \"width\": 64.0, \"height\": 52.6, \"curb_weight\": 2169, \"engine_type\": \"ohc\", \"num_of_cylinders\": \"four\", \"engine_size\": 98, \"fuel_system\": \"2bbl\", \"bore\": 3.19, \"stroke\": 3.03, \"compression_ratio\": 9.0, \"horsepower\": 70, \"peak_rpm\": 4800, \"city_mpg\": 29, \"highway_mpg\": 34, \"price\": 8058, \"safe\": false}, {\"symboling\": 1, \"normalized_losses\": 168, \"make\": \"toyota\", \"fuel_type\": \"gas\", \"aspiration\": \"std\", \"num_of_doors\": \"two\", \"body_style\": \"hatchback\", \"drive_wheels\": \"rwd\", \"engine_location\": \"front\", \"wheel_base\": 94.5, \"length\": 168.7, \"width\": 64.0, \"height\": 52.6, \"curb_weight\": 2204, \"engine_type\": \"ohc\", \"num_of_cylinders\": \"four\", \"engine_size\": 98, \"fuel_system\": \"2bbl\", \"bore\": 3.19, \"stroke\": 3.03, \"compression_ratio\": 9.0, \"horsepower\": 70, \"peak_rpm\": 4800, \"city_mpg\": 29, \"highway_mpg\": 34, \"price\": 8238, \"safe\": false}, {\"symboling\": 1, \"normalized_losses\": 168, \"make\": \"toyota\", \"fuel_type\": \"gas\", \"aspiration\": \"std\", \"num_of_doors\": \"two\", \"body_style\": \"sedan\", \"drive_wheels\": \"rwd\", \"engine_location\": \"front\", \"wheel_base\": 94.5, \"length\": 168.7, \"width\": 64.0, \"height\": 52.6, \"curb_weight\": 2265, \"engine_type\": \"dohc\", \"num_of_cylinders\": \"four\", \"engine_size\": 98, \"fuel_system\": \"mpfi\", \"bore\": 3.24, \"stroke\": 3.08, \"compression_ratio\": 9.4, \"horsepower\": 112, \"peak_rpm\": 6600, \"city_mpg\": 26, \"highway_mpg\": 29, \"price\": 9298, \"safe\": false}, {\"symboling\": 1, \"normalized_losses\": 168, \"make\": \"toyota\", \"fuel_type\": \"gas\", \"aspiration\": \"std\", \"num_of_doors\": \"two\", \"body_style\": \"hatchback\", \"drive_wheels\": \"rwd\", \"engine_location\": \"front\", \"wheel_base\": 94.5, \"length\": 168.7, \"width\": 64.0, \"height\": 52.6, \"curb_weight\": 2300, \"engine_type\": \"dohc\", \"num_of_cylinders\": \"four\", \"engine_size\": 98, \"fuel_system\": \"mpfi\", \"bore\": 3.24, \"stroke\": 3.08, \"compression_ratio\": 9.4, \"horsepower\": 112, \"peak_rpm\": 6600, \"city_mpg\": 26, \"highway_mpg\": 29, \"price\": 9538, \"safe\": false}, {\"symboling\": 2, \"normalized_losses\": 134, \"make\": \"toyota\", \"fuel_type\": \"gas\", \"aspiration\": \"std\", \"num_of_doors\": \"two\", \"body_style\": \"hardtop\", \"drive_wheels\": \"rwd\", \"engine_location\": \"front\", \"wheel_base\": 98.4, \"length\": 176.2, \"width\": 65.6, \"height\": 52.0, \"curb_weight\": 2540, \"engine_type\": \"ohc\", \"num_of_cylinders\": \"four\", \"engine_size\": 146, \"fuel_system\": \"mpfi\", \"bore\": 3.62, \"stroke\": 3.5, \"compression_ratio\": 9.3, \"horsepower\": 116, \"peak_rpm\": 4800, \"city_mpg\": 24, \"highway_mpg\": 30, \"price\": 8449, \"safe\": false}, {\"symboling\": 2, \"normalized_losses\": 134, \"make\": \"toyota\", \"fuel_type\": \"gas\", \"aspiration\": \"std\", \"num_of_doors\": \"two\", \"body_style\": \"hardtop\", \"drive_wheels\": \"rwd\", \"engine_location\": \"front\", \"wheel_base\": 98.4, \"length\": 176.2, \"width\": 65.6, \"height\": 52.0, \"curb_weight\": 2536, \"engine_type\": \"ohc\", \"num_of_cylinders\": \"four\", \"engine_size\": 146, \"fuel_system\": \"mpfi\", \"bore\": 3.62, \"stroke\": 3.5, \"compression_ratio\": 9.3, \"horsepower\": 116, \"peak_rpm\": 4800, \"city_mpg\": 24, \"highway_mpg\": 30, \"price\": 9639, \"safe\": false}, {\"symboling\": 2, \"normalized_losses\": 134, \"make\": \"toyota\", \"fuel_type\": \"gas\", \"aspiration\": \"std\", \"num_of_doors\": \"two\", \"body_style\": \"hatchback\", \"drive_wheels\": \"rwd\", \"engine_location\": \"front\", \"wheel_base\": 98.4, \"length\": 176.2, \"width\": 65.6, \"height\": 52.0, \"curb_weight\": 2551, \"engine_type\": \"ohc\", \"num_of_cylinders\": \"four\", \"engine_size\": 146, \"fuel_system\": \"mpfi\", \"bore\": 3.62, \"stroke\": 3.5, \"compression_ratio\": 9.3, \"horsepower\": 116, \"peak_rpm\": 4800, \"city_mpg\": 24, \"highway_mpg\": 30, \"price\": 9989, \"safe\": false}, {\"symboling\": 2, \"normalized_losses\": 134, \"make\": \"toyota\", \"fuel_type\": \"gas\", \"aspiration\": \"std\", \"num_of_doors\": \"two\", \"body_style\": \"hardtop\", \"drive_wheels\": \"rwd\", \"engine_location\": \"front\", \"wheel_base\": 98.4, \"length\": 176.2, \"width\": 65.6, \"height\": 52.0, \"curb_weight\": 2679, \"engine_type\": \"ohc\", \"num_of_cylinders\": \"four\", \"engine_size\": 146, \"fuel_system\": \"mpfi\", \"bore\": 3.62, \"stroke\": 3.5, \"compression_ratio\": 9.3, \"horsepower\": 116, \"peak_rpm\": 4800, \"city_mpg\": 24, \"highway_mpg\": 30, \"price\": 11199, \"safe\": false}, {\"symboling\": 2, \"normalized_losses\": 134, \"make\": \"toyota\", \"fuel_type\": \"gas\", \"aspiration\": \"std\", \"num_of_doors\": \"two\", \"body_style\": \"hatchback\", \"drive_wheels\": \"rwd\", \"engine_location\": \"front\", \"wheel_base\": 98.4, \"length\": 176.2, \"width\": 65.6, \"height\": 52.0, \"curb_weight\": 2714, \"engine_type\": \"ohc\", \"num_of_cylinders\": \"four\", \"engine_size\": 146, \"fuel_system\": \"mpfi\", \"bore\": 3.62, \"stroke\": 3.5, \"compression_ratio\": 9.3, \"horsepower\": 116, \"peak_rpm\": 4800, \"city_mpg\": 24, \"highway_mpg\": 30, \"price\": 11549, \"safe\": false}, {\"symboling\": 2, \"normalized_losses\": 134, \"make\": \"toyota\", \"fuel_type\": \"gas\", \"aspiration\": \"std\", \"num_of_doors\": \"two\", \"body_style\": \"convertible\", \"drive_wheels\": \"rwd\", \"engine_location\": \"front\", \"wheel_base\": 98.4, \"length\": 176.2, \"width\": 65.6, \"height\": 53.0, \"curb_weight\": 2975, \"engine_type\": \"ohc\", \"num_of_cylinders\": \"four\", \"engine_size\": 146, \"fuel_system\": \"mpfi\", \"bore\": 3.62, \"stroke\": 3.5, \"compression_ratio\": 9.3, \"horsepower\": 116, \"peak_rpm\": 4800, \"city_mpg\": 24, \"highway_mpg\": 30, \"price\": 17669, \"safe\": false}, {\"symboling\": -1, \"normalized_losses\": 65, \"make\": \"toyota\", \"fuel_type\": \"gas\", \"aspiration\": \"std\", \"num_of_doors\": \"four\", \"body_style\": \"sedan\", \"drive_wheels\": \"fwd\", \"engine_location\": \"front\", \"wheel_base\": 102.4, \"length\": 175.6, \"width\": 66.5, \"height\": 54.9, \"curb_weight\": 2326, \"engine_type\": \"ohc\", \"num_of_cylinders\": \"four\", \"engine_size\": 122, \"fuel_system\": \"mpfi\", \"bore\": 3.31, \"stroke\": 3.54, \"compression_ratio\": 8.7, \"horsepower\": 92, \"peak_rpm\": 4200, \"city_mpg\": 29, \"highway_mpg\": 34, \"price\": 8948, \"safe\": true}, {\"symboling\": -1, \"normalized_losses\": 65, \"make\": \"toyota\", \"fuel_type\": \"diesel\", \"aspiration\": \"turbo\", \"num_of_doors\": \"four\", \"body_style\": \"sedan\", \"drive_wheels\": \"fwd\", \"engine_location\": \"front\", \"wheel_base\": 102.4, \"length\": 175.6, \"width\": 66.5, \"height\": 54.9, \"curb_weight\": 2480, \"engine_type\": \"ohc\", \"num_of_cylinders\": \"four\", \"engine_size\": 110, \"fuel_system\": \"idi\", \"bore\": 3.27, \"stroke\": 3.35, \"compression_ratio\": 22.5, \"horsepower\": 73, \"peak_rpm\": 4500, \"city_mpg\": 30, \"highway_mpg\": 33, \"price\": 10698, \"safe\": true}, {\"symboling\": -1, \"normalized_losses\": 65, \"make\": \"toyota\", \"fuel_type\": \"gas\", \"aspiration\": \"std\", \"num_of_doors\": \"four\", \"body_style\": \"hatchback\", \"drive_wheels\": \"fwd\", \"engine_location\": \"front\", \"wheel_base\": 102.4, \"length\": 175.6, \"width\": 66.5, \"height\": 53.9, \"curb_weight\": 2414, \"engine_type\": \"ohc\", \"num_of_cylinders\": \"four\", \"engine_size\": 122, \"fuel_system\": \"mpfi\", \"bore\": 3.31, \"stroke\": 3.54, \"compression_ratio\": 8.7, \"horsepower\": 92, \"peak_rpm\": 4200, \"city_mpg\": 27, \"highway_mpg\": 32, \"price\": 9988, \"safe\": true}, {\"symboling\": -1, \"normalized_losses\": 65, \"make\": \"toyota\", \"fuel_type\": \"gas\", \"aspiration\": \"std\", \"num_of_doors\": \"four\", \"body_style\": \"sedan\", \"drive_wheels\": \"fwd\", \"engine_location\": \"front\", \"wheel_base\": 102.4, \"length\": 175.6, \"width\": 66.5, \"height\": 54.9, \"curb_weight\": 2414, \"engine_type\": \"ohc\", \"num_of_cylinders\": \"four\", \"engine_size\": 122, \"fuel_system\": \"mpfi\", \"bore\": 3.31, \"stroke\": 3.54, \"compression_ratio\": 8.7, \"horsepower\": 92, \"peak_rpm\": 4200, \"city_mpg\": 27, \"highway_mpg\": 32, \"price\": 10898, \"safe\": true}, {\"symboling\": -1, \"normalized_losses\": 65, \"make\": \"toyota\", \"fuel_type\": \"gas\", \"aspiration\": \"std\", \"num_of_doors\": \"four\", \"body_style\": \"hatchback\", \"drive_wheels\": \"fwd\", \"engine_location\": \"front\", \"wheel_base\": 102.4, \"length\": 175.6, \"width\": 66.5, \"height\": 53.9, \"curb_weight\": 2458, \"engine_type\": \"ohc\", \"num_of_cylinders\": \"four\", \"engine_size\": 122, \"fuel_system\": \"mpfi\", \"bore\": 3.31, \"stroke\": 3.54, \"compression_ratio\": 8.7, \"horsepower\": 92, \"peak_rpm\": 4200, \"city_mpg\": 27, \"highway_mpg\": 32, \"price\": 11248, \"safe\": true}, {\"symboling\": 3, \"normalized_losses\": 197, \"make\": \"toyota\", \"fuel_type\": \"gas\", \"aspiration\": \"std\", \"num_of_doors\": \"two\", \"body_style\": \"hatchback\", \"drive_wheels\": \"rwd\", \"engine_location\": \"front\", \"wheel_base\": 102.9, \"length\": 183.5, \"width\": 67.7, \"height\": 52.0, \"curb_weight\": 2976, \"engine_type\": \"dohc\", \"num_of_cylinders\": \"six\", \"engine_size\": 171, \"fuel_system\": \"mpfi\", \"bore\": 3.27, \"stroke\": 3.35, \"compression_ratio\": 9.3, \"horsepower\": 161, \"peak_rpm\": 5200, \"city_mpg\": 20, \"highway_mpg\": 24, \"price\": 16558, \"safe\": false}, {\"symboling\": 3, \"normalized_losses\": 197, \"make\": \"toyota\", \"fuel_type\": \"gas\", \"aspiration\": \"std\", \"num_of_doors\": \"two\", \"body_style\": \"hatchback\", \"drive_wheels\": \"rwd\", \"engine_location\": \"front\", \"wheel_base\": 102.9, \"length\": 183.5, \"width\": 67.7, \"height\": 52.0, \"curb_weight\": 3016, \"engine_type\": \"dohc\", \"num_of_cylinders\": \"six\", \"engine_size\": 171, \"fuel_system\": \"mpfi\", \"bore\": 3.27, \"stroke\": 3.35, \"compression_ratio\": 9.3, \"horsepower\": 161, \"peak_rpm\": 5200, \"city_mpg\": 19, \"highway_mpg\": 24, \"price\": 15998, \"safe\": false}, {\"symboling\": -1, \"normalized_losses\": 90, \"make\": \"toyota\", \"fuel_type\": \"gas\", \"aspiration\": \"std\", \"num_of_doors\": \"four\", \"body_style\": \"sedan\", \"drive_wheels\": \"rwd\", \"engine_location\": \"front\", \"wheel_base\": 104.5, \"length\": 187.8, \"width\": 66.5, \"height\": 54.1, \"curb_weight\": 3131, \"engine_type\": \"dohc\", \"num_of_cylinders\": \"six\", \"engine_size\": 171, \"fuel_system\": \"mpfi\", \"bore\": 3.27, \"stroke\": 3.35, \"compression_ratio\": 9.2, \"horsepower\": 156, \"peak_rpm\": 5200, \"city_mpg\": 20, \"highway_mpg\": 24, \"price\": 15690, \"safe\": true}, {\"symboling\": 2, \"normalized_losses\": 122, \"make\": \"volkswagen\", \"fuel_type\": \"diesel\", \"aspiration\": \"std\", \"num_of_doors\": \"two\", \"body_style\": \"sedan\", \"drive_wheels\": \"fwd\", \"engine_location\": \"front\", \"wheel_base\": 97.3, \"length\": 171.7, \"width\": 65.5, \"height\": 55.7, \"curb_weight\": 2261, \"engine_type\": \"ohc\", \"num_of_cylinders\": \"four\", \"engine_size\": 97, \"fuel_system\": \"idi\", \"bore\": 3.01, \"stroke\": 3.4, \"compression_ratio\": 23.0, \"horsepower\": 52, \"peak_rpm\": 4800, \"city_mpg\": 37, \"highway_mpg\": 46, \"price\": 7775, \"safe\": false}, {\"symboling\": 2, \"normalized_losses\": 122, \"make\": \"volkswagen\", \"fuel_type\": \"gas\", \"aspiration\": \"std\", \"num_of_doors\": \"two\", \"body_style\": \"sedan\", \"drive_wheels\": \"fwd\", \"engine_location\": \"front\", \"wheel_base\": 97.3, \"length\": 171.7, \"width\": 65.5, \"height\": 55.7, \"curb_weight\": 2209, \"engine_type\": \"ohc\", \"num_of_cylinders\": \"four\", \"engine_size\": 109, \"fuel_system\": \"mpfi\", \"bore\": 3.19, \"stroke\": 3.4, \"compression_ratio\": 9.0, \"horsepower\": 85, \"peak_rpm\": 5250, \"city_mpg\": 27, \"highway_mpg\": 34, \"price\": 7975, \"safe\": false}, {\"symboling\": 2, \"normalized_losses\": 94, \"make\": \"volkswagen\", \"fuel_type\": \"diesel\", \"aspiration\": \"std\", \"num_of_doors\": \"four\", \"body_style\": \"sedan\", \"drive_wheels\": \"fwd\", \"engine_location\": \"front\", \"wheel_base\": 97.3, \"length\": 171.7, \"width\": 65.5, \"height\": 55.7, \"curb_weight\": 2264, \"engine_type\": \"ohc\", \"num_of_cylinders\": \"four\", \"engine_size\": 97, \"fuel_system\": \"idi\", \"bore\": 3.01, \"stroke\": 3.4, \"compression_ratio\": 23.0, \"horsepower\": 52, \"peak_rpm\": 4800, \"city_mpg\": 37, \"highway_mpg\": 46, \"price\": 7995, \"safe\": false}, {\"symboling\": 2, \"normalized_losses\": 94, \"make\": \"volkswagen\", \"fuel_type\": \"gas\", \"aspiration\": \"std\", \"num_of_doors\": \"four\", \"body_style\": \"sedan\", \"drive_wheels\": \"fwd\", \"engine_location\": \"front\", \"wheel_base\": 97.3, \"length\": 171.7, \"width\": 65.5, \"height\": 55.7, \"curb_weight\": 2212, \"engine_type\": \"ohc\", \"num_of_cylinders\": \"four\", \"engine_size\": 109, \"fuel_system\": \"mpfi\", \"bore\": 3.19, \"stroke\": 3.4, \"compression_ratio\": 9.0, \"horsepower\": 85, \"peak_rpm\": 5250, \"city_mpg\": 27, \"highway_mpg\": 34, \"price\": 8195, \"safe\": false}, {\"symboling\": 2, \"normalized_losses\": 94, \"make\": \"volkswagen\", \"fuel_type\": \"gas\", \"aspiration\": \"std\", \"num_of_doors\": \"four\", \"body_style\": \"sedan\", \"drive_wheels\": \"fwd\", \"engine_location\": \"front\", \"wheel_base\": 97.3, \"length\": 171.7, \"width\": 65.5, \"height\": 55.7, \"curb_weight\": 2275, \"engine_type\": \"ohc\", \"num_of_cylinders\": \"four\", \"engine_size\": 109, \"fuel_system\": \"mpfi\", \"bore\": 3.19, \"stroke\": 3.4, \"compression_ratio\": 9.0, \"horsepower\": 85, \"peak_rpm\": 5250, \"city_mpg\": 27, \"highway_mpg\": 34, \"price\": 8495, \"safe\": false}, {\"symboling\": 2, \"normalized_losses\": 94, \"make\": \"volkswagen\", \"fuel_type\": \"diesel\", \"aspiration\": \"turbo\", \"num_of_doors\": \"four\", \"body_style\": \"sedan\", \"drive_wheels\": \"fwd\", \"engine_location\": \"front\", \"wheel_base\": 97.3, \"length\": 171.7, \"width\": 65.5, \"height\": 55.7, \"curb_weight\": 2319, \"engine_type\": \"ohc\", \"num_of_cylinders\": \"four\", \"engine_size\": 97, \"fuel_system\": \"idi\", \"bore\": 3.01, \"stroke\": 3.4, \"compression_ratio\": 23.0, \"horsepower\": 68, \"peak_rpm\": 4500, \"city_mpg\": 37, \"highway_mpg\": 42, \"price\": 9495, \"safe\": false}, {\"symboling\": 2, \"normalized_losses\": 94, \"make\": \"volkswagen\", \"fuel_type\": \"gas\", \"aspiration\": \"std\", \"num_of_doors\": \"four\", \"body_style\": \"sedan\", \"drive_wheels\": \"fwd\", \"engine_location\": \"front\", \"wheel_base\": 97.3, \"length\": 171.7, \"width\": 65.5, \"height\": 55.7, \"curb_weight\": 2300, \"engine_type\": \"ohc\", \"num_of_cylinders\": \"four\", \"engine_size\": 109, \"fuel_system\": \"mpfi\", \"bore\": 3.19, \"stroke\": 3.4, \"compression_ratio\": 10.0, \"horsepower\": 100, \"peak_rpm\": 5500, \"city_mpg\": 26, \"highway_mpg\": 32, \"price\": 9995, \"safe\": false}, {\"symboling\": 3, \"normalized_losses\": 256, \"make\": \"volkswagen\", \"fuel_type\": \"gas\", \"aspiration\": \"std\", \"num_of_doors\": \"two\", \"body_style\": \"hatchback\", \"drive_wheels\": \"fwd\", \"engine_location\": \"front\", \"wheel_base\": 94.5, \"length\": 165.7, \"width\": 64.0, \"height\": 51.4, \"curb_weight\": 2221, \"engine_type\": \"ohc\", \"num_of_cylinders\": \"four\", \"engine_size\": 109, \"fuel_system\": \"mpfi\", \"bore\": 3.19, \"stroke\": 3.4, \"compression_ratio\": 8.5, \"horsepower\": 90, \"peak_rpm\": 5500, \"city_mpg\": 24, \"highway_mpg\": 29, \"price\": 9980, \"safe\": false}, {\"symboling\": -2, \"normalized_losses\": 103, \"make\": \"volvo\", \"fuel_type\": \"gas\", \"aspiration\": \"std\", \"num_of_doors\": \"four\", \"body_style\": \"sedan\", \"drive_wheels\": \"rwd\", \"engine_location\": \"front\", \"wheel_base\": 104.3, \"length\": 188.8, \"width\": 67.2, \"height\": 56.2, \"curb_weight\": 2912, \"engine_type\": \"ohc\", \"num_of_cylinders\": \"four\", \"engine_size\": 141, \"fuel_system\": \"mpfi\", \"bore\": 3.78, \"stroke\": 3.15, \"compression_ratio\": 9.5, \"horsepower\": 114, \"peak_rpm\": 5400, \"city_mpg\": 23, \"highway_mpg\": 28, \"price\": 12940, \"safe\": true}, {\"symboling\": -1, \"normalized_losses\": 74, \"make\": \"volvo\", \"fuel_type\": \"gas\", \"aspiration\": \"std\", \"num_of_doors\": \"four\", \"body_style\": \"wagon\", \"drive_wheels\": \"rwd\", \"engine_location\": \"front\", \"wheel_base\": 104.3, \"length\": 188.8, \"width\": 67.2, \"height\": 57.5, \"curb_weight\": 3034, \"engine_type\": \"ohc\", \"num_of_cylinders\": \"four\", \"engine_size\": 141, \"fuel_system\": \"mpfi\", \"bore\": 3.78, \"stroke\": 3.15, \"compression_ratio\": 9.5, \"horsepower\": 114, \"peak_rpm\": 5400, \"city_mpg\": 23, \"highway_mpg\": 28, \"price\": 13415, \"safe\": true}, {\"symboling\": -2, \"normalized_losses\": 103, \"make\": \"volvo\", \"fuel_type\": \"gas\", \"aspiration\": \"std\", \"num_of_doors\": \"four\", \"body_style\": \"sedan\", \"drive_wheels\": \"rwd\", \"engine_location\": \"front\", \"wheel_base\": 104.3, \"length\": 188.8, \"width\": 67.2, \"height\": 56.2, \"curb_weight\": 2935, \"engine_type\": \"ohc\", \"num_of_cylinders\": \"four\", \"engine_size\": 141, \"fuel_system\": \"mpfi\", \"bore\": 3.78, \"stroke\": 3.15, \"compression_ratio\": 9.5, \"horsepower\": 114, \"peak_rpm\": 5400, \"city_mpg\": 24, \"highway_mpg\": 28, \"price\": 15985, \"safe\": true}, {\"symboling\": -1, \"normalized_losses\": 74, \"make\": \"volvo\", \"fuel_type\": \"gas\", \"aspiration\": \"std\", \"num_of_doors\": \"four\", \"body_style\": \"wagon\", \"drive_wheels\": \"rwd\", \"engine_location\": \"front\", \"wheel_base\": 104.3, \"length\": 188.8, \"width\": 67.2, \"height\": 57.5, \"curb_weight\": 3042, \"engine_type\": \"ohc\", \"num_of_cylinders\": \"four\", \"engine_size\": 141, \"fuel_system\": \"mpfi\", \"bore\": 3.78, \"stroke\": 3.15, \"compression_ratio\": 9.5, \"horsepower\": 114, \"peak_rpm\": 5400, \"city_mpg\": 24, \"highway_mpg\": 28, \"price\": 16515, \"safe\": true}, {\"symboling\": -2, \"normalized_losses\": 103, \"make\": \"volvo\", \"fuel_type\": \"gas\", \"aspiration\": \"turbo\", \"num_of_doors\": \"four\", \"body_style\": \"sedan\", \"drive_wheels\": \"rwd\", \"engine_location\": \"front\", \"wheel_base\": 104.3, \"length\": 188.8, \"width\": 67.2, \"height\": 56.2, \"curb_weight\": 3045, \"engine_type\": \"ohc\", \"num_of_cylinders\": \"four\", \"engine_size\": 130, \"fuel_system\": \"mpfi\", \"bore\": 3.62, \"stroke\": 3.15, \"compression_ratio\": 7.5, \"horsepower\": 162, \"peak_rpm\": 5100, \"city_mpg\": 17, \"highway_mpg\": 22, \"price\": 18420, \"safe\": true}, {\"symboling\": -1, \"normalized_losses\": 74, \"make\": \"volvo\", \"fuel_type\": \"gas\", \"aspiration\": \"turbo\", \"num_of_doors\": \"four\", \"body_style\": \"wagon\", \"drive_wheels\": \"rwd\", \"engine_location\": \"front\", \"wheel_base\": 104.3, \"length\": 188.8, \"width\": 67.2, \"height\": 57.5, \"curb_weight\": 3157, \"engine_type\": \"ohc\", \"num_of_cylinders\": \"four\", \"engine_size\": 130, \"fuel_system\": \"mpfi\", \"bore\": 3.62, \"stroke\": 3.15, \"compression_ratio\": 7.5, \"horsepower\": 162, \"peak_rpm\": 5100, \"city_mpg\": 17, \"highway_mpg\": 22, \"price\": 18950, \"safe\": true}, {\"symboling\": -1, \"normalized_losses\": 95, \"make\": \"volvo\", \"fuel_type\": \"gas\", \"aspiration\": \"std\", \"num_of_doors\": \"four\", \"body_style\": \"sedan\", \"drive_wheels\": \"rwd\", \"engine_location\": \"front\", \"wheel_base\": 109.1, \"length\": 188.8, \"width\": 68.9, \"height\": 55.5, \"curb_weight\": 2952, \"engine_type\": \"ohc\", \"num_of_cylinders\": \"four\", \"engine_size\": 141, \"fuel_system\": \"mpfi\", \"bore\": 3.78, \"stroke\": 3.15, \"compression_ratio\": 9.5, \"horsepower\": 114, \"peak_rpm\": 5400, \"city_mpg\": 23, \"highway_mpg\": 28, \"price\": 16845, \"safe\": true}, {\"symboling\": -1, \"normalized_losses\": 95, \"make\": \"volvo\", \"fuel_type\": \"gas\", \"aspiration\": \"turbo\", \"num_of_doors\": \"four\", \"body_style\": \"sedan\", \"drive_wheels\": \"rwd\", \"engine_location\": \"front\", \"wheel_base\": 109.1, \"length\": 188.8, \"width\": 68.8, \"height\": 55.5, \"curb_weight\": 3049, \"engine_type\": \"ohc\", \"num_of_cylinders\": \"four\", \"engine_size\": 141, \"fuel_system\": \"mpfi\", \"bore\": 3.78, \"stroke\": 3.15, \"compression_ratio\": 8.7, \"horsepower\": 160, \"peak_rpm\": 5300, \"city_mpg\": 19, \"highway_mpg\": 25, \"price\": 19045, \"safe\": true}, {\"symboling\": -1, \"normalized_losses\": 95, \"make\": \"volvo\", \"fuel_type\": \"gas\", \"aspiration\": \"std\", \"num_of_doors\": \"four\", \"body_style\": \"sedan\", \"drive_wheels\": \"rwd\", \"engine_location\": \"front\", \"wheel_base\": 109.1, \"length\": 188.8, \"width\": 68.9, \"height\": 55.5, \"curb_weight\": 3012, \"engine_type\": \"ohcv\", \"num_of_cylinders\": \"six\", \"engine_size\": 173, \"fuel_system\": \"mpfi\", \"bore\": 3.58, \"stroke\": 2.87, \"compression_ratio\": 8.8, \"horsepower\": 134, \"peak_rpm\": 5500, \"city_mpg\": 18, \"highway_mpg\": 23, \"price\": 21485, \"safe\": true}, {\"symboling\": -1, \"normalized_losses\": 95, \"make\": \"volvo\", \"fuel_type\": \"diesel\", \"aspiration\": \"turbo\", \"num_of_doors\": \"four\", \"body_style\": \"sedan\", \"drive_wheels\": \"rwd\", \"engine_location\": \"front\", \"wheel_base\": 109.1, \"length\": 188.8, \"width\": 68.9, \"height\": 55.5, \"curb_weight\": 3217, \"engine_type\": \"ohc\", \"num_of_cylinders\": \"six\", \"engine_size\": 145, \"fuel_system\": \"idi\", \"bore\": 3.01, \"stroke\": 3.4, \"compression_ratio\": 23.0, \"horsepower\": 106, \"peak_rpm\": 4800, \"city_mpg\": 26, \"highway_mpg\": 27, \"price\": 22470, \"safe\": true}, {\"symboling\": -1, \"normalized_losses\": 95, \"make\": \"volvo\", \"fuel_type\": \"gas\", \"aspiration\": \"turbo\", \"num_of_doors\": \"four\", \"body_style\": \"sedan\", \"drive_wheels\": \"rwd\", \"engine_location\": \"front\", \"wheel_base\": 109.1, \"length\": 188.8, \"width\": 68.9, \"height\": 55.5, \"curb_weight\": 3062, \"engine_type\": \"ohc\", \"num_of_cylinders\": \"four\", \"engine_size\": 141, \"fuel_system\": \"mpfi\", \"bore\": 3.78, \"stroke\": 3.15, \"compression_ratio\": 9.5, \"horsepower\": 114, \"peak_rpm\": 5400, \"city_mpg\": 19, \"highway_mpg\": 25, \"price\": 22625, \"safe\": true}]}};\n",
       "      var embedOpt = {\"mode\": \"vega-lite\"};\n",
       "\n",
       "      function showError(el, error){\n",
       "          el.innerHTML = ('<div class=\"error\" style=\"color:red;\">'\n",
       "                          + '<p>JavaScript Error: ' + error.message + '</p>'\n",
       "                          + \"<p>This usually means there's a typo in your chart specification. \"\n",
       "                          + \"See the javascript console for the full traceback.</p>\"\n",
       "                          + '</div>');\n",
       "          throw error;\n",
       "      }\n",
       "      const el = document.getElementById('altair-viz');\n",
       "      vegaEmbed(\"#altair-viz\", spec, embedOpt)\n",
       "        .catch(error => showError(el, error));\n",
       "    })(vegaEmbed);\n",
       "\n",
       "  </script>\n",
       "</body>\n",
       "</html>"
      ],
      "text/plain": [
       "alt.Chart(...)"
      ]
     },
     "execution_count": 16,
     "metadata": {
      "tags": []
     },
     "output_type": "execute_result"
    }
   ],
   "source": [
    "plot"
   ]
  },
  {
   "cell_type": "code",
   "execution_count": 17,
   "metadata": {
    "colab": {
     "base_uri": "https://localhost:8080/",
     "height": 370
    },
    "colab_type": "code",
    "executionInfo": {
     "elapsed": 1292,
     "status": "ok",
     "timestamp": 1569485534679,
     "user": {
      "displayName": "Spikey Engineer",
      "photoUrl": "",
      "userId": "00295138978233683076"
     },
     "user_tz": -330
    },
    "id": "asQ4_R4Fm2S0",
    "outputId": "25a2f111-25b4-482e-d21b-939edc53eeed"
   },
   "outputs": [
    {
     "data": {
      "text/html": [
       "<!DOCTYPE html>\n",
       "<html>\n",
       "<head>\n",
       "  <style>\n",
       "    .vega-actions a {\n",
       "        margin-right: 12px;\n",
       "        color: #757575;\n",
       "        font-weight: normal;\n",
       "        font-size: 13px;\n",
       "    }\n",
       "    .error {\n",
       "        color: red;\n",
       "    }\n",
       "  </style>\n",
       "  <script type=\"text/javascript\" src=\"https://cdn.jsdelivr.net/npm//vega@5\"></script>\n",
       "  <script type=\"text/javascript\" src=\"https://cdn.jsdelivr.net/npm//vega-lite@3.4.0\"></script>\n",
       "  <script type=\"text/javascript\" src=\"https://cdn.jsdelivr.net/npm//vega-embed@4\"></script>\n",
       "</head>\n",
       "<body>\n",
       "  <div id=\"altair-viz\"></div>\n",
       "  <script>\n",
       "    (function(vegaEmbed) {\n",
       "      var spec = {\"config\": {\"view\": {\"width\": 400, \"height\": 300}, \"mark\": {\"tooltip\": null}}, \"hconcat\": [{\"mark\": \"point\", \"encoding\": {\"color\": {\"condition\": {\"type\": \"nominal\", \"field\": \"fuel_system\", \"selection\": \"selector002\"}, \"value\": \"lightgray\"}, \"x\": {\"type\": \"quantitative\", \"field\": \"city_mpg\"}, \"y\": {\"type\": \"quantitative\", \"field\": \"price\"}}, \"selection\": {\"selector002\": {\"type\": \"interval\"}}}, {\"mark\": \"point\", \"encoding\": {\"color\": {\"condition\": {\"type\": \"nominal\", \"field\": \"fuel_system\", \"selection\": \"selector002\"}, \"value\": \"lightgray\"}, \"x\": {\"type\": \"quantitative\", \"field\": \"horsepower\"}, \"y\": {\"type\": \"quantitative\", \"field\": \"price\"}}, \"selection\": {\"selector002\": {\"type\": \"interval\"}}}], \"data\": {\"name\": \"data-aa31b7c059a5b1128088da6705b26dce\"}, \"$schema\": \"https://vega.github.io/schema/vega-lite/v3.4.0.json\", \"datasets\": {\"data-aa31b7c059a5b1128088da6705b26dce\": [{\"symboling\": 2, \"normalized_losses\": 164, \"make\": \"audi\", \"fuel_type\": \"gas\", \"aspiration\": \"std\", \"num_of_doors\": \"four\", \"body_style\": \"sedan\", \"drive_wheels\": \"fwd\", \"engine_location\": \"front\", \"wheel_base\": 99.8, \"length\": 176.6, \"width\": 66.2, \"height\": 54.3, \"curb_weight\": 2337, \"engine_type\": \"ohc\", \"num_of_cylinders\": \"four\", \"engine_size\": 109, \"fuel_system\": \"mpfi\", \"bore\": 3.19, \"stroke\": 3.4, \"compression_ratio\": 10.0, \"horsepower\": 102, \"peak_rpm\": 5500, \"city_mpg\": 24, \"highway_mpg\": 30, \"price\": 13950, \"safe\": false}, {\"symboling\": 2, \"normalized_losses\": 164, \"make\": \"audi\", \"fuel_type\": \"gas\", \"aspiration\": \"std\", \"num_of_doors\": \"four\", \"body_style\": \"sedan\", \"drive_wheels\": \"4wd\", \"engine_location\": \"front\", \"wheel_base\": 99.4, \"length\": 176.6, \"width\": 66.4, \"height\": 54.3, \"curb_weight\": 2824, \"engine_type\": \"ohc\", \"num_of_cylinders\": \"five\", \"engine_size\": 136, \"fuel_system\": \"mpfi\", \"bore\": 3.19, \"stroke\": 3.4, \"compression_ratio\": 8.0, \"horsepower\": 115, \"peak_rpm\": 5500, \"city_mpg\": 18, \"highway_mpg\": 22, \"price\": 17450, \"safe\": false}, {\"symboling\": 1, \"normalized_losses\": 158, \"make\": \"audi\", \"fuel_type\": \"gas\", \"aspiration\": \"std\", \"num_of_doors\": \"four\", \"body_style\": \"sedan\", \"drive_wheels\": \"fwd\", \"engine_location\": \"front\", \"wheel_base\": 105.8, \"length\": 192.7, \"width\": 71.4, \"height\": 55.7, \"curb_weight\": 2844, \"engine_type\": \"ohc\", \"num_of_cylinders\": \"five\", \"engine_size\": 136, \"fuel_system\": \"mpfi\", \"bore\": 3.19, \"stroke\": 3.4, \"compression_ratio\": 8.5, \"horsepower\": 110, \"peak_rpm\": 5500, \"city_mpg\": 19, \"highway_mpg\": 25, \"price\": 17710, \"safe\": false}, {\"symboling\": 1, \"normalized_losses\": 158, \"make\": \"audi\", \"fuel_type\": \"gas\", \"aspiration\": \"turbo\", \"num_of_doors\": \"four\", \"body_style\": \"sedan\", \"drive_wheels\": \"fwd\", \"engine_location\": \"front\", \"wheel_base\": 105.8, \"length\": 192.7, \"width\": 71.4, \"height\": 55.9, \"curb_weight\": 3086, \"engine_type\": \"ohc\", \"num_of_cylinders\": \"five\", \"engine_size\": 131, \"fuel_system\": \"mpfi\", \"bore\": 3.13, \"stroke\": 3.4, \"compression_ratio\": 8.3, \"horsepower\": 140, \"peak_rpm\": 5500, \"city_mpg\": 17, \"highway_mpg\": 20, \"price\": 23875, \"safe\": false}, {\"symboling\": 2, \"normalized_losses\": 192, \"make\": \"bmw\", \"fuel_type\": \"gas\", \"aspiration\": \"std\", \"num_of_doors\": \"two\", \"body_style\": \"sedan\", \"drive_wheels\": \"rwd\", \"engine_location\": \"front\", \"wheel_base\": 101.2, \"length\": 176.8, \"width\": 64.8, \"height\": 54.3, \"curb_weight\": 2395, \"engine_type\": \"ohc\", \"num_of_cylinders\": \"four\", \"engine_size\": 108, \"fuel_system\": \"mpfi\", \"bore\": 3.5, \"stroke\": 2.8, \"compression_ratio\": 8.8, \"horsepower\": 101, \"peak_rpm\": 5800, \"city_mpg\": 23, \"highway_mpg\": 29, \"price\": 16430, \"safe\": false}, {\"symboling\": 0, \"normalized_losses\": 192, \"make\": \"bmw\", \"fuel_type\": \"gas\", \"aspiration\": \"std\", \"num_of_doors\": \"four\", \"body_style\": \"sedan\", \"drive_wheels\": \"rwd\", \"engine_location\": \"front\", \"wheel_base\": 101.2, \"length\": 176.8, \"width\": 64.8, \"height\": 54.3, \"curb_weight\": 2395, \"engine_type\": \"ohc\", \"num_of_cylinders\": \"four\", \"engine_size\": 108, \"fuel_system\": \"mpfi\", \"bore\": 3.5, \"stroke\": 2.8, \"compression_ratio\": 8.8, \"horsepower\": 101, \"peak_rpm\": 5800, \"city_mpg\": 23, \"highway_mpg\": 29, \"price\": 16925, \"safe\": true}, {\"symboling\": 0, \"normalized_losses\": 188, \"make\": \"bmw\", \"fuel_type\": \"gas\", \"aspiration\": \"std\", \"num_of_doors\": \"two\", \"body_style\": \"sedan\", \"drive_wheels\": \"rwd\", \"engine_location\": \"front\", \"wheel_base\": 101.2, \"length\": 176.8, \"width\": 64.8, \"height\": 54.3, \"curb_weight\": 2710, \"engine_type\": \"ohc\", \"num_of_cylinders\": \"six\", \"engine_size\": 164, \"fuel_system\": \"mpfi\", \"bore\": 3.31, \"stroke\": 3.19, \"compression_ratio\": 9.0, \"horsepower\": 121, \"peak_rpm\": 4250, \"city_mpg\": 21, \"highway_mpg\": 28, \"price\": 20970, \"safe\": true}, {\"symboling\": 0, \"normalized_losses\": 188, \"make\": \"bmw\", \"fuel_type\": \"gas\", \"aspiration\": \"std\", \"num_of_doors\": \"four\", \"body_style\": \"sedan\", \"drive_wheels\": \"rwd\", \"engine_location\": \"front\", \"wheel_base\": 101.2, \"length\": 176.8, \"width\": 64.8, \"height\": 54.3, \"curb_weight\": 2765, \"engine_type\": \"ohc\", \"num_of_cylinders\": \"six\", \"engine_size\": 164, \"fuel_system\": \"mpfi\", \"bore\": 3.31, \"stroke\": 3.19, \"compression_ratio\": 9.0, \"horsepower\": 121, \"peak_rpm\": 4250, \"city_mpg\": 21, \"highway_mpg\": 28, \"price\": 21105, \"safe\": true}, {\"symboling\": 2, \"normalized_losses\": 121, \"make\": \"chevrolet\", \"fuel_type\": \"gas\", \"aspiration\": \"std\", \"num_of_doors\": \"two\", \"body_style\": \"hatchback\", \"drive_wheels\": \"fwd\", \"engine_location\": \"front\", \"wheel_base\": 88.4, \"length\": 141.1, \"width\": 60.3, \"height\": 53.2, \"curb_weight\": 1488, \"engine_type\": \"l\", \"num_of_cylinders\": \"three\", \"engine_size\": 61, \"fuel_system\": \"2bbl\", \"bore\": 2.91, \"stroke\": 3.03, \"compression_ratio\": 9.5, \"horsepower\": 48, \"peak_rpm\": 5100, \"city_mpg\": 47, \"highway_mpg\": 53, \"price\": 5151, \"safe\": false}, {\"symboling\": 1, \"normalized_losses\": 98, \"make\": \"chevrolet\", \"fuel_type\": \"gas\", \"aspiration\": \"std\", \"num_of_doors\": \"two\", \"body_style\": \"hatchback\", \"drive_wheels\": \"fwd\", \"engine_location\": \"front\", \"wheel_base\": 94.5, \"length\": 155.9, \"width\": 63.6, \"height\": 52.0, \"curb_weight\": 1874, \"engine_type\": \"ohc\", \"num_of_cylinders\": \"four\", \"engine_size\": 90, \"fuel_system\": \"2bbl\", \"bore\": 3.03, \"stroke\": 3.11, \"compression_ratio\": 9.6, \"horsepower\": 70, \"peak_rpm\": 5400, \"city_mpg\": 38, \"highway_mpg\": 43, \"price\": 6295, \"safe\": false}, {\"symboling\": 0, \"normalized_losses\": 81, \"make\": \"chevrolet\", \"fuel_type\": \"gas\", \"aspiration\": \"std\", \"num_of_doors\": \"four\", \"body_style\": \"sedan\", \"drive_wheels\": \"fwd\", \"engine_location\": \"front\", \"wheel_base\": 94.5, \"length\": 158.8, \"width\": 63.6, \"height\": 52.0, \"curb_weight\": 1909, \"engine_type\": \"ohc\", \"num_of_cylinders\": \"four\", \"engine_size\": 90, \"fuel_system\": \"2bbl\", \"bore\": 3.03, \"stroke\": 3.11, \"compression_ratio\": 9.6, \"horsepower\": 70, \"peak_rpm\": 5400, \"city_mpg\": 38, \"highway_mpg\": 43, \"price\": 6575, \"safe\": true}, {\"symboling\": 1, \"normalized_losses\": 118, \"make\": \"dodge\", \"fuel_type\": \"gas\", \"aspiration\": \"std\", \"num_of_doors\": \"two\", \"body_style\": \"hatchback\", \"drive_wheels\": \"fwd\", \"engine_location\": \"front\", \"wheel_base\": 93.7, \"length\": 157.3, \"width\": 63.8, \"height\": 50.8, \"curb_weight\": 1876, \"engine_type\": \"ohc\", \"num_of_cylinders\": \"four\", \"engine_size\": 90, \"fuel_system\": \"2bbl\", \"bore\": 2.97, \"stroke\": 3.23, \"compression_ratio\": 9.41, \"horsepower\": 68, \"peak_rpm\": 5500, \"city_mpg\": 37, \"highway_mpg\": 41, \"price\": 5572, \"safe\": false}, {\"symboling\": 1, \"normalized_losses\": 118, \"make\": \"dodge\", \"fuel_type\": \"gas\", \"aspiration\": \"std\", \"num_of_doors\": \"two\", \"body_style\": \"hatchback\", \"drive_wheels\": \"fwd\", \"engine_location\": \"front\", \"wheel_base\": 93.7, \"length\": 157.3, \"width\": 63.8, \"height\": 50.8, \"curb_weight\": 1876, \"engine_type\": \"ohc\", \"num_of_cylinders\": \"four\", \"engine_size\": 90, \"fuel_system\": \"2bbl\", \"bore\": 2.97, \"stroke\": 3.23, \"compression_ratio\": 9.4, \"horsepower\": 68, \"peak_rpm\": 5500, \"city_mpg\": 31, \"highway_mpg\": 38, \"price\": 6377, \"safe\": false}, {\"symboling\": 1, \"normalized_losses\": 118, \"make\": \"dodge\", \"fuel_type\": \"gas\", \"aspiration\": \"turbo\", \"num_of_doors\": \"two\", \"body_style\": \"hatchback\", \"drive_wheels\": \"fwd\", \"engine_location\": \"front\", \"wheel_base\": 93.7, \"length\": 157.3, \"width\": 63.8, \"height\": 50.8, \"curb_weight\": 2128, \"engine_type\": \"ohc\", \"num_of_cylinders\": \"four\", \"engine_size\": 98, \"fuel_system\": \"mpfi\", \"bore\": 3.03, \"stroke\": 3.39, \"compression_ratio\": 7.6, \"horsepower\": 102, \"peak_rpm\": 5500, \"city_mpg\": 24, \"highway_mpg\": 30, \"price\": 7957, \"safe\": false}, {\"symboling\": 1, \"normalized_losses\": 148, \"make\": \"dodge\", \"fuel_type\": \"gas\", \"aspiration\": \"std\", \"num_of_doors\": \"four\", \"body_style\": \"hatchback\", \"drive_wheels\": \"fwd\", \"engine_location\": \"front\", \"wheel_base\": 93.7, \"length\": 157.3, \"width\": 63.8, \"height\": 50.6, \"curb_weight\": 1967, \"engine_type\": \"ohc\", \"num_of_cylinders\": \"four\", \"engine_size\": 90, \"fuel_system\": \"2bbl\", \"bore\": 2.97, \"stroke\": 3.23, \"compression_ratio\": 9.4, \"horsepower\": 68, \"peak_rpm\": 5500, \"city_mpg\": 31, \"highway_mpg\": 38, \"price\": 6229, \"safe\": false}, {\"symboling\": 1, \"normalized_losses\": 148, \"make\": \"dodge\", \"fuel_type\": \"gas\", \"aspiration\": \"std\", \"num_of_doors\": \"four\", \"body_style\": \"sedan\", \"drive_wheels\": \"fwd\", \"engine_location\": \"front\", \"wheel_base\": 93.7, \"length\": 157.3, \"width\": 63.8, \"height\": 50.6, \"curb_weight\": 1989, \"engine_type\": \"ohc\", \"num_of_cylinders\": \"four\", \"engine_size\": 90, \"fuel_system\": \"2bbl\", \"bore\": 2.97, \"stroke\": 3.23, \"compression_ratio\": 9.4, \"horsepower\": 68, \"peak_rpm\": 5500, \"city_mpg\": 31, \"highway_mpg\": 38, \"price\": 6692, \"safe\": false}, {\"symboling\": 1, \"normalized_losses\": 148, \"make\": \"dodge\", \"fuel_type\": \"gas\", \"aspiration\": \"std\", \"num_of_doors\": \"four\", \"body_style\": \"sedan\", \"drive_wheels\": \"fwd\", \"engine_location\": \"front\", \"wheel_base\": 93.7, \"length\": 157.3, \"width\": 63.8, \"height\": 50.6, \"curb_weight\": 1989, \"engine_type\": \"ohc\", \"num_of_cylinders\": \"four\", \"engine_size\": 90, \"fuel_system\": \"2bbl\", \"bore\": 2.97, \"stroke\": 3.23, \"compression_ratio\": 9.4, \"horsepower\": 68, \"peak_rpm\": 5500, \"city_mpg\": 31, \"highway_mpg\": 38, \"price\": 7609, \"safe\": false}, {\"symboling\": -1, \"normalized_losses\": 110, \"make\": \"dodge\", \"fuel_type\": \"gas\", \"aspiration\": \"std\", \"num_of_doors\": \"four\", \"body_style\": \"wagon\", \"drive_wheels\": \"fwd\", \"engine_location\": \"front\", \"wheel_base\": 103.3, \"length\": 174.6, \"width\": 64.6, \"height\": 59.8, \"curb_weight\": 2535, \"engine_type\": \"ohc\", \"num_of_cylinders\": \"four\", \"engine_size\": 122, \"fuel_system\": \"2bbl\", \"bore\": 3.34, \"stroke\": 3.46, \"compression_ratio\": 8.5, \"horsepower\": 88, \"peak_rpm\": 5000, \"city_mpg\": 24, \"highway_mpg\": 30, \"price\": 8921, \"safe\": true}, {\"symboling\": 3, \"normalized_losses\": 145, \"make\": \"dodge\", \"fuel_type\": \"gas\", \"aspiration\": \"turbo\", \"num_of_doors\": \"two\", \"body_style\": \"hatchback\", \"drive_wheels\": \"fwd\", \"engine_location\": \"front\", \"wheel_base\": 95.9, \"length\": 173.2, \"width\": 66.3, \"height\": 50.2, \"curb_weight\": 2811, \"engine_type\": \"ohc\", \"num_of_cylinders\": \"four\", \"engine_size\": 156, \"fuel_system\": \"mfi\", \"bore\": 3.6, \"stroke\": 3.9, \"compression_ratio\": 7.0, \"horsepower\": 145, \"peak_rpm\": 5000, \"city_mpg\": 19, \"highway_mpg\": 24, \"price\": 12964, \"safe\": false}, {\"symboling\": 2, \"normalized_losses\": 137, \"make\": \"honda\", \"fuel_type\": \"gas\", \"aspiration\": \"std\", \"num_of_doors\": \"two\", \"body_style\": \"hatchback\", \"drive_wheels\": \"fwd\", \"engine_location\": \"front\", \"wheel_base\": 86.6, \"length\": 144.6, \"width\": 63.9, \"height\": 50.8, \"curb_weight\": 1713, \"engine_type\": \"ohc\", \"num_of_cylinders\": \"four\", \"engine_size\": 92, \"fuel_system\": \"1bbl\", \"bore\": 2.91, \"stroke\": 3.41, \"compression_ratio\": 9.6, \"horsepower\": 58, \"peak_rpm\": 4800, \"city_mpg\": 49, \"highway_mpg\": 54, \"price\": 6479, \"safe\": false}, {\"symboling\": 2, \"normalized_losses\": 137, \"make\": \"honda\", \"fuel_type\": \"gas\", \"aspiration\": \"std\", \"num_of_doors\": \"two\", \"body_style\": \"hatchback\", \"drive_wheels\": \"fwd\", \"engine_location\": \"front\", \"wheel_base\": 86.6, \"length\": 144.6, \"width\": 63.9, \"height\": 50.8, \"curb_weight\": 1819, \"engine_type\": \"ohc\", \"num_of_cylinders\": \"four\", \"engine_size\": 92, \"fuel_system\": \"1bbl\", \"bore\": 2.91, \"stroke\": 3.41, \"compression_ratio\": 9.2, \"horsepower\": 76, \"peak_rpm\": 6000, \"city_mpg\": 31, \"highway_mpg\": 38, \"price\": 6855, \"safe\": false}, {\"symboling\": 1, \"normalized_losses\": 101, \"make\": \"honda\", \"fuel_type\": \"gas\", \"aspiration\": \"std\", \"num_of_doors\": \"two\", \"body_style\": \"hatchback\", \"drive_wheels\": \"fwd\", \"engine_location\": \"front\", \"wheel_base\": 93.7, \"length\": 150.0, \"width\": 64.0, \"height\": 52.6, \"curb_weight\": 1837, \"engine_type\": \"ohc\", \"num_of_cylinders\": \"four\", \"engine_size\": 79, \"fuel_system\": \"1bbl\", \"bore\": 2.91, \"stroke\": 3.07, \"compression_ratio\": 10.1, \"horsepower\": 60, \"peak_rpm\": 5500, \"city_mpg\": 38, \"highway_mpg\": 42, \"price\": 5399, \"safe\": false}, {\"symboling\": 1, \"normalized_losses\": 101, \"make\": \"honda\", \"fuel_type\": \"gas\", \"aspiration\": \"std\", \"num_of_doors\": \"two\", \"body_style\": \"hatchback\", \"drive_wheels\": \"fwd\", \"engine_location\": \"front\", \"wheel_base\": 93.7, \"length\": 150.0, \"width\": 64.0, \"height\": 52.6, \"curb_weight\": 1940, \"engine_type\": \"ohc\", \"num_of_cylinders\": \"four\", \"engine_size\": 92, \"fuel_system\": \"1bbl\", \"bore\": 2.91, \"stroke\": 3.41, \"compression_ratio\": 9.2, \"horsepower\": 76, \"peak_rpm\": 6000, \"city_mpg\": 30, \"highway_mpg\": 34, \"price\": 6529, \"safe\": false}, {\"symboling\": 1, \"normalized_losses\": 101, \"make\": \"honda\", \"fuel_type\": \"gas\", \"aspiration\": \"std\", \"num_of_doors\": \"two\", \"body_style\": \"hatchback\", \"drive_wheels\": \"fwd\", \"engine_location\": \"front\", \"wheel_base\": 93.7, \"length\": 150.0, \"width\": 64.0, \"height\": 52.6, \"curb_weight\": 1956, \"engine_type\": \"ohc\", \"num_of_cylinders\": \"four\", \"engine_size\": 92, \"fuel_system\": \"1bbl\", \"bore\": 2.91, \"stroke\": 3.41, \"compression_ratio\": 9.2, \"horsepower\": 76, \"peak_rpm\": 6000, \"city_mpg\": 30, \"highway_mpg\": 34, \"price\": 7129, \"safe\": false}, {\"symboling\": 0, \"normalized_losses\": 110, \"make\": \"honda\", \"fuel_type\": \"gas\", \"aspiration\": \"std\", \"num_of_doors\": \"four\", \"body_style\": \"sedan\", \"drive_wheels\": \"fwd\", \"engine_location\": \"front\", \"wheel_base\": 96.5, \"length\": 163.4, \"width\": 64.0, \"height\": 54.5, \"curb_weight\": 2010, \"engine_type\": \"ohc\", \"num_of_cylinders\": \"four\", \"engine_size\": 92, \"fuel_system\": \"1bbl\", \"bore\": 2.91, \"stroke\": 3.41, \"compression_ratio\": 9.2, \"horsepower\": 76, \"peak_rpm\": 6000, \"city_mpg\": 30, \"highway_mpg\": 34, \"price\": 7295, \"safe\": true}, {\"symboling\": 0, \"normalized_losses\": 78, \"make\": \"honda\", \"fuel_type\": \"gas\", \"aspiration\": \"std\", \"num_of_doors\": \"four\", \"body_style\": \"wagon\", \"drive_wheels\": \"fwd\", \"engine_location\": \"front\", \"wheel_base\": 96.5, \"length\": 157.1, \"width\": 63.9, \"height\": 58.3, \"curb_weight\": 2024, \"engine_type\": \"ohc\", \"num_of_cylinders\": \"four\", \"engine_size\": 92, \"fuel_system\": \"1bbl\", \"bore\": 2.92, \"stroke\": 3.41, \"compression_ratio\": 9.2, \"horsepower\": 76, \"peak_rpm\": 6000, \"city_mpg\": 30, \"highway_mpg\": 34, \"price\": 7295, \"safe\": true}, {\"symboling\": 0, \"normalized_losses\": 106, \"make\": \"honda\", \"fuel_type\": \"gas\", \"aspiration\": \"std\", \"num_of_doors\": \"two\", \"body_style\": \"hatchback\", \"drive_wheels\": \"fwd\", \"engine_location\": \"front\", \"wheel_base\": 96.5, \"length\": 167.5, \"width\": 65.2, \"height\": 53.3, \"curb_weight\": 2236, \"engine_type\": \"ohc\", \"num_of_cylinders\": \"four\", \"engine_size\": 110, \"fuel_system\": \"1bbl\", \"bore\": 3.15, \"stroke\": 3.58, \"compression_ratio\": 9.0, \"horsepower\": 86, \"peak_rpm\": 5800, \"city_mpg\": 27, \"highway_mpg\": 33, \"price\": 7895, \"safe\": true}, {\"symboling\": 0, \"normalized_losses\": 106, \"make\": \"honda\", \"fuel_type\": \"gas\", \"aspiration\": \"std\", \"num_of_doors\": \"two\", \"body_style\": \"hatchback\", \"drive_wheels\": \"fwd\", \"engine_location\": \"front\", \"wheel_base\": 96.5, \"length\": 167.5, \"width\": 65.2, \"height\": 53.3, \"curb_weight\": 2289, \"engine_type\": \"ohc\", \"num_of_cylinders\": \"four\", \"engine_size\": 110, \"fuel_system\": \"1bbl\", \"bore\": 3.15, \"stroke\": 3.58, \"compression_ratio\": 9.0, \"horsepower\": 86, \"peak_rpm\": 5800, \"city_mpg\": 27, \"highway_mpg\": 33, \"price\": 9095, \"safe\": true}, {\"symboling\": 0, \"normalized_losses\": 85, \"make\": \"honda\", \"fuel_type\": \"gas\", \"aspiration\": \"std\", \"num_of_doors\": \"four\", \"body_style\": \"sedan\", \"drive_wheels\": \"fwd\", \"engine_location\": \"front\", \"wheel_base\": 96.5, \"length\": 175.4, \"width\": 65.2, \"height\": 54.1, \"curb_weight\": 2304, \"engine_type\": \"ohc\", \"num_of_cylinders\": \"four\", \"engine_size\": 110, \"fuel_system\": \"1bbl\", \"bore\": 3.15, \"stroke\": 3.58, \"compression_ratio\": 9.0, \"horsepower\": 86, \"peak_rpm\": 5800, \"city_mpg\": 27, \"highway_mpg\": 33, \"price\": 8845, \"safe\": true}, {\"symboling\": 0, \"normalized_losses\": 85, \"make\": \"honda\", \"fuel_type\": \"gas\", \"aspiration\": \"std\", \"num_of_doors\": \"four\", \"body_style\": \"sedan\", \"drive_wheels\": \"fwd\", \"engine_location\": \"front\", \"wheel_base\": 96.5, \"length\": 175.4, \"width\": 62.5, \"height\": 54.1, \"curb_weight\": 2372, \"engine_type\": \"ohc\", \"num_of_cylinders\": \"four\", \"engine_size\": 110, \"fuel_system\": \"1bbl\", \"bore\": 3.15, \"stroke\": 3.58, \"compression_ratio\": 9.0, \"horsepower\": 86, \"peak_rpm\": 5800, \"city_mpg\": 27, \"highway_mpg\": 33, \"price\": 10295, \"safe\": true}, {\"symboling\": 0, \"normalized_losses\": 85, \"make\": \"honda\", \"fuel_type\": \"gas\", \"aspiration\": \"std\", \"num_of_doors\": \"four\", \"body_style\": \"sedan\", \"drive_wheels\": \"fwd\", \"engine_location\": \"front\", \"wheel_base\": 96.5, \"length\": 175.4, \"width\": 65.2, \"height\": 54.1, \"curb_weight\": 2465, \"engine_type\": \"ohc\", \"num_of_cylinders\": \"four\", \"engine_size\": 110, \"fuel_system\": \"mpfi\", \"bore\": 3.15, \"stroke\": 3.58, \"compression_ratio\": 9.0, \"horsepower\": 101, \"peak_rpm\": 5800, \"city_mpg\": 24, \"highway_mpg\": 28, \"price\": 12945, \"safe\": true}, {\"symboling\": 1, \"normalized_losses\": 107, \"make\": \"honda\", \"fuel_type\": \"gas\", \"aspiration\": \"std\", \"num_of_doors\": \"two\", \"body_style\": \"sedan\", \"drive_wheels\": \"fwd\", \"engine_location\": \"front\", \"wheel_base\": 96.5, \"length\": 169.1, \"width\": 66.0, \"height\": 51.0, \"curb_weight\": 2293, \"engine_type\": \"ohc\", \"num_of_cylinders\": \"four\", \"engine_size\": 110, \"fuel_system\": \"2bbl\", \"bore\": 3.15, \"stroke\": 3.58, \"compression_ratio\": 9.1, \"horsepower\": 100, \"peak_rpm\": 5500, \"city_mpg\": 25, \"highway_mpg\": 31, \"price\": 10345, \"safe\": false}, {\"symboling\": 0, \"normalized_losses\": 145, \"make\": \"jaguar\", \"fuel_type\": \"gas\", \"aspiration\": \"std\", \"num_of_doors\": \"four\", \"body_style\": \"sedan\", \"drive_wheels\": \"rwd\", \"engine_location\": \"front\", \"wheel_base\": 113.0, \"length\": 199.6, \"width\": 69.6, \"height\": 52.8, \"curb_weight\": 4066, \"engine_type\": \"dohc\", \"num_of_cylinders\": \"six\", \"engine_size\": 258, \"fuel_system\": \"mpfi\", \"bore\": 3.63, \"stroke\": 4.17, \"compression_ratio\": 8.1, \"horsepower\": 176, \"peak_rpm\": 4750, \"city_mpg\": 15, \"highway_mpg\": 19, \"price\": 32250, \"safe\": true}, {\"symboling\": 1, \"normalized_losses\": 104, \"make\": \"mazda\", \"fuel_type\": \"gas\", \"aspiration\": \"std\", \"num_of_doors\": \"two\", \"body_style\": \"hatchback\", \"drive_wheels\": \"fwd\", \"engine_location\": \"front\", \"wheel_base\": 93.1, \"length\": 159.1, \"width\": 64.2, \"height\": 54.1, \"curb_weight\": 1890, \"engine_type\": \"ohc\", \"num_of_cylinders\": \"four\", \"engine_size\": 91, \"fuel_system\": \"2bbl\", \"bore\": 3.03, \"stroke\": 3.15, \"compression_ratio\": 9.0, \"horsepower\": 68, \"peak_rpm\": 5000, \"city_mpg\": 30, \"highway_mpg\": 31, \"price\": 5195, \"safe\": false}, {\"symboling\": 1, \"normalized_losses\": 104, \"make\": \"mazda\", \"fuel_type\": \"gas\", \"aspiration\": \"std\", \"num_of_doors\": \"two\", \"body_style\": \"hatchback\", \"drive_wheels\": \"fwd\", \"engine_location\": \"front\", \"wheel_base\": 93.1, \"length\": 159.1, \"width\": 64.2, \"height\": 54.1, \"curb_weight\": 1900, \"engine_type\": \"ohc\", \"num_of_cylinders\": \"four\", \"engine_size\": 91, \"fuel_system\": \"2bbl\", \"bore\": 3.03, \"stroke\": 3.15, \"compression_ratio\": 9.0, \"horsepower\": 68, \"peak_rpm\": 5000, \"city_mpg\": 31, \"highway_mpg\": 38, \"price\": 6095, \"safe\": false}, {\"symboling\": 1, \"normalized_losses\": 104, \"make\": \"mazda\", \"fuel_type\": \"gas\", \"aspiration\": \"std\", \"num_of_doors\": \"two\", \"body_style\": \"hatchback\", \"drive_wheels\": \"fwd\", \"engine_location\": \"front\", \"wheel_base\": 93.1, \"length\": 159.1, \"width\": 64.2, \"height\": 54.1, \"curb_weight\": 1905, \"engine_type\": \"ohc\", \"num_of_cylinders\": \"four\", \"engine_size\": 91, \"fuel_system\": \"2bbl\", \"bore\": 3.03, \"stroke\": 3.15, \"compression_ratio\": 9.0, \"horsepower\": 68, \"peak_rpm\": 5000, \"city_mpg\": 31, \"highway_mpg\": 38, \"price\": 6795, \"safe\": false}, {\"symboling\": 1, \"normalized_losses\": 113, \"make\": \"mazda\", \"fuel_type\": \"gas\", \"aspiration\": \"std\", \"num_of_doors\": \"four\", \"body_style\": \"sedan\", \"drive_wheels\": \"fwd\", \"engine_location\": \"front\", \"wheel_base\": 93.1, \"length\": 166.8, \"width\": 64.2, \"height\": 54.1, \"curb_weight\": 1945, \"engine_type\": \"ohc\", \"num_of_cylinders\": \"four\", \"engine_size\": 91, \"fuel_system\": \"2bbl\", \"bore\": 3.03, \"stroke\": 3.15, \"compression_ratio\": 9.0, \"horsepower\": 68, \"peak_rpm\": 5000, \"city_mpg\": 31, \"highway_mpg\": 38, \"price\": 6695, \"safe\": false}, {\"symboling\": 1, \"normalized_losses\": 113, \"make\": \"mazda\", \"fuel_type\": \"gas\", \"aspiration\": \"std\", \"num_of_doors\": \"four\", \"body_style\": \"sedan\", \"drive_wheels\": \"fwd\", \"engine_location\": \"front\", \"wheel_base\": 93.1, \"length\": 166.8, \"width\": 64.2, \"height\": 54.1, \"curb_weight\": 1950, \"engine_type\": \"ohc\", \"num_of_cylinders\": \"four\", \"engine_size\": 91, \"fuel_system\": \"2bbl\", \"bore\": 3.08, \"stroke\": 3.15, \"compression_ratio\": 9.0, \"horsepower\": 68, \"peak_rpm\": 5000, \"city_mpg\": 31, \"highway_mpg\": 38, \"price\": 7395, \"safe\": false}, {\"symboling\": 1, \"normalized_losses\": 129, \"make\": \"mazda\", \"fuel_type\": \"gas\", \"aspiration\": \"std\", \"num_of_doors\": \"two\", \"body_style\": \"hatchback\", \"drive_wheels\": \"fwd\", \"engine_location\": \"front\", \"wheel_base\": 98.8, \"length\": 177.8, \"width\": 66.5, \"height\": 53.7, \"curb_weight\": 2385, \"engine_type\": \"ohc\", \"num_of_cylinders\": \"four\", \"engine_size\": 122, \"fuel_system\": \"2bbl\", \"bore\": 3.39, \"stroke\": 3.39, \"compression_ratio\": 8.6, \"horsepower\": 84, \"peak_rpm\": 4800, \"city_mpg\": 26, \"highway_mpg\": 32, \"price\": 8845, \"safe\": false}, {\"symboling\": 0, \"normalized_losses\": 115, \"make\": \"mazda\", \"fuel_type\": \"gas\", \"aspiration\": \"std\", \"num_of_doors\": \"four\", \"body_style\": \"sedan\", \"drive_wheels\": \"fwd\", \"engine_location\": \"front\", \"wheel_base\": 98.8, \"length\": 177.8, \"width\": 66.5, \"height\": 55.5, \"curb_weight\": 2410, \"engine_type\": \"ohc\", \"num_of_cylinders\": \"four\", \"engine_size\": 122, \"fuel_system\": \"2bbl\", \"bore\": 3.39, \"stroke\": 3.39, \"compression_ratio\": 8.6, \"horsepower\": 84, \"peak_rpm\": 4800, \"city_mpg\": 26, \"highway_mpg\": 32, \"price\": 8495, \"safe\": true}, {\"symboling\": 1, \"normalized_losses\": 129, \"make\": \"mazda\", \"fuel_type\": \"gas\", \"aspiration\": \"std\", \"num_of_doors\": \"two\", \"body_style\": \"hatchback\", \"drive_wheels\": \"fwd\", \"engine_location\": \"front\", \"wheel_base\": 98.8, \"length\": 177.8, \"width\": 66.5, \"height\": 53.7, \"curb_weight\": 2385, \"engine_type\": \"ohc\", \"num_of_cylinders\": \"four\", \"engine_size\": 122, \"fuel_system\": \"2bbl\", \"bore\": 3.39, \"stroke\": 3.39, \"compression_ratio\": 8.6, \"horsepower\": 84, \"peak_rpm\": 4800, \"city_mpg\": 26, \"highway_mpg\": 32, \"price\": 10595, \"safe\": false}, {\"symboling\": 0, \"normalized_losses\": 115, \"make\": \"mazda\", \"fuel_type\": \"gas\", \"aspiration\": \"std\", \"num_of_doors\": \"four\", \"body_style\": \"sedan\", \"drive_wheels\": \"fwd\", \"engine_location\": \"front\", \"wheel_base\": 98.8, \"length\": 177.8, \"width\": 66.5, \"height\": 55.5, \"curb_weight\": 2410, \"engine_type\": \"ohc\", \"num_of_cylinders\": \"four\", \"engine_size\": 122, \"fuel_system\": \"2bbl\", \"bore\": 3.39, \"stroke\": 3.39, \"compression_ratio\": 8.6, \"horsepower\": 84, \"peak_rpm\": 4800, \"city_mpg\": 26, \"highway_mpg\": 32, \"price\": 10245, \"safe\": true}, {\"symboling\": 0, \"normalized_losses\": 115, \"make\": \"mazda\", \"fuel_type\": \"gas\", \"aspiration\": \"std\", \"num_of_doors\": \"four\", \"body_style\": \"hatchback\", \"drive_wheels\": \"fwd\", \"engine_location\": \"front\", \"wheel_base\": 98.8, \"length\": 177.8, \"width\": 66.5, \"height\": 55.5, \"curb_weight\": 2425, \"engine_type\": \"ohc\", \"num_of_cylinders\": \"four\", \"engine_size\": 122, \"fuel_system\": \"2bbl\", \"bore\": 3.39, \"stroke\": 3.39, \"compression_ratio\": 8.6, \"horsepower\": 84, \"peak_rpm\": 4800, \"city_mpg\": 26, \"highway_mpg\": 32, \"price\": 11245, \"safe\": true}, {\"symboling\": 0, \"normalized_losses\": 118, \"make\": \"mazda\", \"fuel_type\": \"gas\", \"aspiration\": \"std\", \"num_of_doors\": \"four\", \"body_style\": \"sedan\", \"drive_wheels\": \"rwd\", \"engine_location\": \"front\", \"wheel_base\": 104.9, \"length\": 175.0, \"width\": 66.1, \"height\": 54.4, \"curb_weight\": 2670, \"engine_type\": \"ohc\", \"num_of_cylinders\": \"four\", \"engine_size\": 140, \"fuel_system\": \"mpfi\", \"bore\": 3.76, \"stroke\": 3.16, \"compression_ratio\": 8.0, \"horsepower\": 120, \"peak_rpm\": 5000, \"city_mpg\": 19, \"highway_mpg\": 27, \"price\": 18280, \"safe\": true}, {\"symboling\": -1, \"normalized_losses\": 93, \"make\": \"mercedes-benz\", \"fuel_type\": \"diesel\", \"aspiration\": \"turbo\", \"num_of_doors\": \"four\", \"body_style\": \"sedan\", \"drive_wheels\": \"rwd\", \"engine_location\": \"front\", \"wheel_base\": 110.0, \"length\": 190.9, \"width\": 70.3, \"height\": 56.5, \"curb_weight\": 3515, \"engine_type\": \"ohc\", \"num_of_cylinders\": \"five\", \"engine_size\": 183, \"fuel_system\": \"idi\", \"bore\": 3.58, \"stroke\": 3.64, \"compression_ratio\": 21.5, \"horsepower\": 123, \"peak_rpm\": 4350, \"city_mpg\": 22, \"highway_mpg\": 25, \"price\": 25552, \"safe\": true}, {\"symboling\": -1, \"normalized_losses\": 93, \"make\": \"mercedes-benz\", \"fuel_type\": \"diesel\", \"aspiration\": \"turbo\", \"num_of_doors\": \"four\", \"body_style\": \"wagon\", \"drive_wheels\": \"rwd\", \"engine_location\": \"front\", \"wheel_base\": 110.0, \"length\": 190.9, \"width\": 70.3, \"height\": 58.7, \"curb_weight\": 3750, \"engine_type\": \"ohc\", \"num_of_cylinders\": \"five\", \"engine_size\": 183, \"fuel_system\": \"idi\", \"bore\": 3.58, \"stroke\": 3.64, \"compression_ratio\": 21.5, \"horsepower\": 123, \"peak_rpm\": 4350, \"city_mpg\": 22, \"highway_mpg\": 25, \"price\": 28248, \"safe\": true}, {\"symboling\": 0, \"normalized_losses\": 93, \"make\": \"mercedes-benz\", \"fuel_type\": \"diesel\", \"aspiration\": \"turbo\", \"num_of_doors\": \"two\", \"body_style\": \"hardtop\", \"drive_wheels\": \"rwd\", \"engine_location\": \"front\", \"wheel_base\": 106.7, \"length\": 187.5, \"width\": 70.3, \"height\": 54.9, \"curb_weight\": 3495, \"engine_type\": \"ohc\", \"num_of_cylinders\": \"five\", \"engine_size\": 183, \"fuel_system\": \"idi\", \"bore\": 3.58, \"stroke\": 3.64, \"compression_ratio\": 21.5, \"horsepower\": 123, \"peak_rpm\": 4350, \"city_mpg\": 22, \"highway_mpg\": 25, \"price\": 28176, \"safe\": true}, {\"symboling\": -1, \"normalized_losses\": 93, \"make\": \"mercedes-benz\", \"fuel_type\": \"diesel\", \"aspiration\": \"turbo\", \"num_of_doors\": \"four\", \"body_style\": \"sedan\", \"drive_wheels\": \"rwd\", \"engine_location\": \"front\", \"wheel_base\": 115.6, \"length\": 202.6, \"width\": 71.7, \"height\": 56.3, \"curb_weight\": 3770, \"engine_type\": \"ohc\", \"num_of_cylinders\": \"five\", \"engine_size\": 183, \"fuel_system\": \"idi\", \"bore\": 3.58, \"stroke\": 3.64, \"compression_ratio\": 21.5, \"horsepower\": 123, \"peak_rpm\": 4350, \"city_mpg\": 22, \"highway_mpg\": 25, \"price\": 31600, \"safe\": true}, {\"symboling\": 3, \"normalized_losses\": 142, \"make\": \"mercedes-benz\", \"fuel_type\": \"gas\", \"aspiration\": \"std\", \"num_of_doors\": \"two\", \"body_style\": \"convertible\", \"drive_wheels\": \"rwd\", \"engine_location\": \"front\", \"wheel_base\": 96.6, \"length\": 180.3, \"width\": 70.5, \"height\": 50.8, \"curb_weight\": 3685, \"engine_type\": \"ohcv\", \"num_of_cylinders\": \"eight\", \"engine_size\": 234, \"fuel_system\": \"mpfi\", \"bore\": 3.46, \"stroke\": 3.1, \"compression_ratio\": 8.3, \"horsepower\": 155, \"peak_rpm\": 4750, \"city_mpg\": 16, \"highway_mpg\": 18, \"price\": 35056, \"safe\": false}, {\"symboling\": 2, \"normalized_losses\": 161, \"make\": \"mitsubishi\", \"fuel_type\": \"gas\", \"aspiration\": \"std\", \"num_of_doors\": \"two\", \"body_style\": \"hatchback\", \"drive_wheels\": \"fwd\", \"engine_location\": \"front\", \"wheel_base\": 93.7, \"length\": 157.3, \"width\": 64.4, \"height\": 50.8, \"curb_weight\": 1918, \"engine_type\": \"ohc\", \"num_of_cylinders\": \"four\", \"engine_size\": 92, \"fuel_system\": \"2bbl\", \"bore\": 2.97, \"stroke\": 3.23, \"compression_ratio\": 9.4, \"horsepower\": 68, \"peak_rpm\": 5500, \"city_mpg\": 37, \"highway_mpg\": 41, \"price\": 5389, \"safe\": false}, {\"symboling\": 2, \"normalized_losses\": 161, \"make\": \"mitsubishi\", \"fuel_type\": \"gas\", \"aspiration\": \"std\", \"num_of_doors\": \"two\", \"body_style\": \"hatchback\", \"drive_wheels\": \"fwd\", \"engine_location\": \"front\", \"wheel_base\": 93.7, \"length\": 157.3, \"width\": 64.4, \"height\": 50.8, \"curb_weight\": 1944, \"engine_type\": \"ohc\", \"num_of_cylinders\": \"four\", \"engine_size\": 92, \"fuel_system\": \"2bbl\", \"bore\": 2.97, \"stroke\": 3.23, \"compression_ratio\": 9.4, \"horsepower\": 68, \"peak_rpm\": 5500, \"city_mpg\": 31, \"highway_mpg\": 38, \"price\": 6189, \"safe\": false}, {\"symboling\": 2, \"normalized_losses\": 161, \"make\": \"mitsubishi\", \"fuel_type\": \"gas\", \"aspiration\": \"std\", \"num_of_doors\": \"two\", \"body_style\": \"hatchback\", \"drive_wheels\": \"fwd\", \"engine_location\": \"front\", \"wheel_base\": 93.7, \"length\": 157.3, \"width\": 64.4, \"height\": 50.8, \"curb_weight\": 2004, \"engine_type\": \"ohc\", \"num_of_cylinders\": \"four\", \"engine_size\": 92, \"fuel_system\": \"2bbl\", \"bore\": 2.97, \"stroke\": 3.23, \"compression_ratio\": 9.4, \"horsepower\": 68, \"peak_rpm\": 5500, \"city_mpg\": 31, \"highway_mpg\": 38, \"price\": 6669, \"safe\": false}, {\"symboling\": 1, \"normalized_losses\": 161, \"make\": \"mitsubishi\", \"fuel_type\": \"gas\", \"aspiration\": \"turbo\", \"num_of_doors\": \"two\", \"body_style\": \"hatchback\", \"drive_wheels\": \"fwd\", \"engine_location\": \"front\", \"wheel_base\": 93.0, \"length\": 157.3, \"width\": 63.8, \"height\": 50.8, \"curb_weight\": 2145, \"engine_type\": \"ohc\", \"num_of_cylinders\": \"four\", \"engine_size\": 98, \"fuel_system\": \"spdi\", \"bore\": 3.03, \"stroke\": 3.39, \"compression_ratio\": 7.6, \"horsepower\": 102, \"peak_rpm\": 5500, \"city_mpg\": 24, \"highway_mpg\": 30, \"price\": 7689, \"safe\": false}, {\"symboling\": 3, \"normalized_losses\": 153, \"make\": \"mitsubishi\", \"fuel_type\": \"gas\", \"aspiration\": \"turbo\", \"num_of_doors\": \"two\", \"body_style\": \"hatchback\", \"drive_wheels\": \"fwd\", \"engine_location\": \"front\", \"wheel_base\": 96.3, \"length\": 173.0, \"width\": 65.4, \"height\": 49.4, \"curb_weight\": 2370, \"engine_type\": \"ohc\", \"num_of_cylinders\": \"four\", \"engine_size\": 110, \"fuel_system\": \"spdi\", \"bore\": 3.17, \"stroke\": 3.46, \"compression_ratio\": 7.5, \"horsepower\": 116, \"peak_rpm\": 5500, \"city_mpg\": 23, \"highway_mpg\": 30, \"price\": 9959, \"safe\": false}, {\"symboling\": 3, \"normalized_losses\": 153, \"make\": \"mitsubishi\", \"fuel_type\": \"gas\", \"aspiration\": \"std\", \"num_of_doors\": \"two\", \"body_style\": \"hatchback\", \"drive_wheels\": \"fwd\", \"engine_location\": \"front\", \"wheel_base\": 96.3, \"length\": 173.0, \"width\": 65.4, \"height\": 49.4, \"curb_weight\": 2328, \"engine_type\": \"ohc\", \"num_of_cylinders\": \"four\", \"engine_size\": 122, \"fuel_system\": \"2bbl\", \"bore\": 3.35, \"stroke\": 3.46, \"compression_ratio\": 8.5, \"horsepower\": 88, \"peak_rpm\": 5000, \"city_mpg\": 25, \"highway_mpg\": 32, \"price\": 8499, \"safe\": false}, {\"symboling\": 1, \"normalized_losses\": 125, \"make\": \"mitsubishi\", \"fuel_type\": \"gas\", \"aspiration\": \"std\", \"num_of_doors\": \"four\", \"body_style\": \"sedan\", \"drive_wheels\": \"fwd\", \"engine_location\": \"front\", \"wheel_base\": 96.3, \"length\": 172.4, \"width\": 65.4, \"height\": 51.6, \"curb_weight\": 2365, \"engine_type\": \"ohc\", \"num_of_cylinders\": \"four\", \"engine_size\": 122, \"fuel_system\": \"2bbl\", \"bore\": 3.35, \"stroke\": 3.46, \"compression_ratio\": 8.5, \"horsepower\": 88, \"peak_rpm\": 5000, \"city_mpg\": 25, \"highway_mpg\": 32, \"price\": 6989, \"safe\": false}, {\"symboling\": 1, \"normalized_losses\": 125, \"make\": \"mitsubishi\", \"fuel_type\": \"gas\", \"aspiration\": \"std\", \"num_of_doors\": \"four\", \"body_style\": \"sedan\", \"drive_wheels\": \"fwd\", \"engine_location\": \"front\", \"wheel_base\": 96.3, \"length\": 172.4, \"width\": 65.4, \"height\": 51.6, \"curb_weight\": 2405, \"engine_type\": \"ohc\", \"num_of_cylinders\": \"four\", \"engine_size\": 122, \"fuel_system\": \"2bbl\", \"bore\": 3.35, \"stroke\": 3.46, \"compression_ratio\": 8.5, \"horsepower\": 88, \"peak_rpm\": 5000, \"city_mpg\": 25, \"highway_mpg\": 32, \"price\": 8189, \"safe\": false}, {\"symboling\": 1, \"normalized_losses\": 125, \"make\": \"mitsubishi\", \"fuel_type\": \"gas\", \"aspiration\": \"turbo\", \"num_of_doors\": \"four\", \"body_style\": \"sedan\", \"drive_wheels\": \"fwd\", \"engine_location\": \"front\", \"wheel_base\": 96.3, \"length\": 172.4, \"width\": 65.4, \"height\": 51.6, \"curb_weight\": 2403, \"engine_type\": \"ohc\", \"num_of_cylinders\": \"four\", \"engine_size\": 110, \"fuel_system\": \"spdi\", \"bore\": 3.17, \"stroke\": 3.46, \"compression_ratio\": 7.5, \"horsepower\": 116, \"peak_rpm\": 5500, \"city_mpg\": 23, \"highway_mpg\": 30, \"price\": 9279, \"safe\": false}, {\"symboling\": -1, \"normalized_losses\": 137, \"make\": \"mitsubishi\", \"fuel_type\": \"gas\", \"aspiration\": \"std\", \"num_of_doors\": \"four\", \"body_style\": \"sedan\", \"drive_wheels\": \"fwd\", \"engine_location\": \"front\", \"wheel_base\": 96.3, \"length\": 172.4, \"width\": 65.4, \"height\": 51.6, \"curb_weight\": 2403, \"engine_type\": \"ohc\", \"num_of_cylinders\": \"four\", \"engine_size\": 110, \"fuel_system\": \"spdi\", \"bore\": 3.17, \"stroke\": 3.46, \"compression_ratio\": 7.5, \"horsepower\": 116, \"peak_rpm\": 5500, \"city_mpg\": 23, \"highway_mpg\": 30, \"price\": 9279, \"safe\": true}, {\"symboling\": 1, \"normalized_losses\": 128, \"make\": \"nissan\", \"fuel_type\": \"gas\", \"aspiration\": \"std\", \"num_of_doors\": \"two\", \"body_style\": \"sedan\", \"drive_wheels\": \"fwd\", \"engine_location\": \"front\", \"wheel_base\": 94.5, \"length\": 165.3, \"width\": 63.8, \"height\": 54.5, \"curb_weight\": 1889, \"engine_type\": \"ohc\", \"num_of_cylinders\": \"four\", \"engine_size\": 97, \"fuel_system\": \"2bbl\", \"bore\": 3.15, \"stroke\": 3.29, \"compression_ratio\": 9.4, \"horsepower\": 69, \"peak_rpm\": 5200, \"city_mpg\": 31, \"highway_mpg\": 37, \"price\": 5499, \"safe\": false}, {\"symboling\": 1, \"normalized_losses\": 128, \"make\": \"nissan\", \"fuel_type\": \"diesel\", \"aspiration\": \"std\", \"num_of_doors\": \"two\", \"body_style\": \"sedan\", \"drive_wheels\": \"fwd\", \"engine_location\": \"front\", \"wheel_base\": 94.5, \"length\": 165.3, \"width\": 63.8, \"height\": 54.5, \"curb_weight\": 2017, \"engine_type\": \"ohc\", \"num_of_cylinders\": \"four\", \"engine_size\": 103, \"fuel_system\": \"idi\", \"bore\": 2.99, \"stroke\": 3.47, \"compression_ratio\": 21.9, \"horsepower\": 55, \"peak_rpm\": 4800, \"city_mpg\": 45, \"highway_mpg\": 50, \"price\": 7099, \"safe\": false}, {\"symboling\": 1, \"normalized_losses\": 128, \"make\": \"nissan\", \"fuel_type\": \"gas\", \"aspiration\": \"std\", \"num_of_doors\": \"two\", \"body_style\": \"sedan\", \"drive_wheels\": \"fwd\", \"engine_location\": \"front\", \"wheel_base\": 94.5, \"length\": 165.3, \"width\": 63.8, \"height\": 54.5, \"curb_weight\": 1918, \"engine_type\": \"ohc\", \"num_of_cylinders\": \"four\", \"engine_size\": 97, \"fuel_system\": \"2bbl\", \"bore\": 3.15, \"stroke\": 3.29, \"compression_ratio\": 9.4, \"horsepower\": 69, \"peak_rpm\": 5200, \"city_mpg\": 31, \"highway_mpg\": 37, \"price\": 6649, \"safe\": false}, {\"symboling\": 1, \"normalized_losses\": 122, \"make\": \"nissan\", \"fuel_type\": \"gas\", \"aspiration\": \"std\", \"num_of_doors\": \"four\", \"body_style\": \"sedan\", \"drive_wheels\": \"fwd\", \"engine_location\": \"front\", \"wheel_base\": 94.5, \"length\": 165.3, \"width\": 63.8, \"height\": 54.5, \"curb_weight\": 1938, \"engine_type\": \"ohc\", \"num_of_cylinders\": \"four\", \"engine_size\": 97, \"fuel_system\": \"2bbl\", \"bore\": 3.15, \"stroke\": 3.29, \"compression_ratio\": 9.4, \"horsepower\": 69, \"peak_rpm\": 5200, \"city_mpg\": 31, \"highway_mpg\": 37, \"price\": 6849, \"safe\": false}, {\"symboling\": 1, \"normalized_losses\": 103, \"make\": \"nissan\", \"fuel_type\": \"gas\", \"aspiration\": \"std\", \"num_of_doors\": \"four\", \"body_style\": \"wagon\", \"drive_wheels\": \"fwd\", \"engine_location\": \"front\", \"wheel_base\": 94.5, \"length\": 170.2, \"width\": 63.8, \"height\": 53.5, \"curb_weight\": 2024, \"engine_type\": \"ohc\", \"num_of_cylinders\": \"four\", \"engine_size\": 97, \"fuel_system\": \"2bbl\", \"bore\": 3.15, \"stroke\": 3.29, \"compression_ratio\": 9.4, \"horsepower\": 69, \"peak_rpm\": 5200, \"city_mpg\": 31, \"highway_mpg\": 37, \"price\": 7349, \"safe\": false}, {\"symboling\": 1, \"normalized_losses\": 128, \"make\": \"nissan\", \"fuel_type\": \"gas\", \"aspiration\": \"std\", \"num_of_doors\": \"two\", \"body_style\": \"sedan\", \"drive_wheels\": \"fwd\", \"engine_location\": \"front\", \"wheel_base\": 94.5, \"length\": 165.3, \"width\": 63.8, \"height\": 54.5, \"curb_weight\": 1951, \"engine_type\": \"ohc\", \"num_of_cylinders\": \"four\", \"engine_size\": 97, \"fuel_system\": \"2bbl\", \"bore\": 3.15, \"stroke\": 3.29, \"compression_ratio\": 9.4, \"horsepower\": 69, \"peak_rpm\": 5200, \"city_mpg\": 31, \"highway_mpg\": 37, \"price\": 7299, \"safe\": false}, {\"symboling\": 1, \"normalized_losses\": 128, \"make\": \"nissan\", \"fuel_type\": \"gas\", \"aspiration\": \"std\", \"num_of_doors\": \"two\", \"body_style\": \"hatchback\", \"drive_wheels\": \"fwd\", \"engine_location\": \"front\", \"wheel_base\": 94.5, \"length\": 165.6, \"width\": 63.8, \"height\": 53.3, \"curb_weight\": 2028, \"engine_type\": \"ohc\", \"num_of_cylinders\": \"four\", \"engine_size\": 97, \"fuel_system\": \"2bbl\", \"bore\": 3.15, \"stroke\": 3.29, \"compression_ratio\": 9.4, \"horsepower\": 69, \"peak_rpm\": 5200, \"city_mpg\": 31, \"highway_mpg\": 37, \"price\": 7799, \"safe\": false}, {\"symboling\": 1, \"normalized_losses\": 122, \"make\": \"nissan\", \"fuel_type\": \"gas\", \"aspiration\": \"std\", \"num_of_doors\": \"four\", \"body_style\": \"sedan\", \"drive_wheels\": \"fwd\", \"engine_location\": \"front\", \"wheel_base\": 94.5, \"length\": 165.3, \"width\": 63.8, \"height\": 54.5, \"curb_weight\": 1971, \"engine_type\": \"ohc\", \"num_of_cylinders\": \"four\", \"engine_size\": 97, \"fuel_system\": \"2bbl\", \"bore\": 3.15, \"stroke\": 3.29, \"compression_ratio\": 9.4, \"horsepower\": 69, \"peak_rpm\": 5200, \"city_mpg\": 31, \"highway_mpg\": 37, \"price\": 7499, \"safe\": false}, {\"symboling\": 1, \"normalized_losses\": 103, \"make\": \"nissan\", \"fuel_type\": \"gas\", \"aspiration\": \"std\", \"num_of_doors\": \"four\", \"body_style\": \"wagon\", \"drive_wheels\": \"fwd\", \"engine_location\": \"front\", \"wheel_base\": 94.5, \"length\": 170.2, \"width\": 63.8, \"height\": 53.5, \"curb_weight\": 2037, \"engine_type\": \"ohc\", \"num_of_cylinders\": \"four\", \"engine_size\": 97, \"fuel_system\": \"2bbl\", \"bore\": 3.15, \"stroke\": 3.29, \"compression_ratio\": 9.4, \"horsepower\": 69, \"peak_rpm\": 5200, \"city_mpg\": 31, \"highway_mpg\": 37, \"price\": 7999, \"safe\": false}, {\"symboling\": 2, \"normalized_losses\": 168, \"make\": \"nissan\", \"fuel_type\": \"gas\", \"aspiration\": \"std\", \"num_of_doors\": \"two\", \"body_style\": \"hardtop\", \"drive_wheels\": \"fwd\", \"engine_location\": \"front\", \"wheel_base\": 95.1, \"length\": 162.4, \"width\": 63.8, \"height\": 53.3, \"curb_weight\": 2008, \"engine_type\": \"ohc\", \"num_of_cylinders\": \"four\", \"engine_size\": 97, \"fuel_system\": \"2bbl\", \"bore\": 3.15, \"stroke\": 3.29, \"compression_ratio\": 9.4, \"horsepower\": 69, \"peak_rpm\": 5200, \"city_mpg\": 31, \"highway_mpg\": 37, \"price\": 8249, \"safe\": false}, {\"symboling\": 0, \"normalized_losses\": 106, \"make\": \"nissan\", \"fuel_type\": \"gas\", \"aspiration\": \"std\", \"num_of_doors\": \"four\", \"body_style\": \"hatchback\", \"drive_wheels\": \"fwd\", \"engine_location\": \"front\", \"wheel_base\": 97.2, \"length\": 173.4, \"width\": 65.2, \"height\": 54.7, \"curb_weight\": 2324, \"engine_type\": \"ohc\", \"num_of_cylinders\": \"four\", \"engine_size\": 120, \"fuel_system\": \"2bbl\", \"bore\": 3.33, \"stroke\": 3.47, \"compression_ratio\": 8.5, \"horsepower\": 97, \"peak_rpm\": 5200, \"city_mpg\": 27, \"highway_mpg\": 34, \"price\": 8949, \"safe\": true}, {\"symboling\": 0, \"normalized_losses\": 106, \"make\": \"nissan\", \"fuel_type\": \"gas\", \"aspiration\": \"std\", \"num_of_doors\": \"four\", \"body_style\": \"sedan\", \"drive_wheels\": \"fwd\", \"engine_location\": \"front\", \"wheel_base\": 97.2, \"length\": 173.4, \"width\": 65.2, \"height\": 54.7, \"curb_weight\": 2302, \"engine_type\": \"ohc\", \"num_of_cylinders\": \"four\", \"engine_size\": 120, \"fuel_system\": \"2bbl\", \"bore\": 3.33, \"stroke\": 3.47, \"compression_ratio\": 8.5, \"horsepower\": 97, \"peak_rpm\": 5200, \"city_mpg\": 27, \"highway_mpg\": 34, \"price\": 9549, \"safe\": true}, {\"symboling\": 0, \"normalized_losses\": 128, \"make\": \"nissan\", \"fuel_type\": \"gas\", \"aspiration\": \"std\", \"num_of_doors\": \"four\", \"body_style\": \"sedan\", \"drive_wheels\": \"fwd\", \"engine_location\": \"front\", \"wheel_base\": 100.4, \"length\": 181.7, \"width\": 66.5, \"height\": 55.1, \"curb_weight\": 3095, \"engine_type\": \"ohcv\", \"num_of_cylinders\": \"six\", \"engine_size\": 181, \"fuel_system\": \"mpfi\", \"bore\": 3.43, \"stroke\": 3.27, \"compression_ratio\": 9.0, \"horsepower\": 152, \"peak_rpm\": 5200, \"city_mpg\": 17, \"highway_mpg\": 22, \"price\": 13499, \"safe\": true}, {\"symboling\": 0, \"normalized_losses\": 108, \"make\": \"nissan\", \"fuel_type\": \"gas\", \"aspiration\": \"std\", \"num_of_doors\": \"four\", \"body_style\": \"wagon\", \"drive_wheels\": \"fwd\", \"engine_location\": \"front\", \"wheel_base\": 100.4, \"length\": 184.6, \"width\": 66.5, \"height\": 56.1, \"curb_weight\": 3296, \"engine_type\": \"ohcv\", \"num_of_cylinders\": \"six\", \"engine_size\": 181, \"fuel_system\": \"mpfi\", \"bore\": 3.43, \"stroke\": 3.27, \"compression_ratio\": 9.0, \"horsepower\": 152, \"peak_rpm\": 5200, \"city_mpg\": 17, \"highway_mpg\": 22, \"price\": 14399, \"safe\": true}, {\"symboling\": 0, \"normalized_losses\": 108, \"make\": \"nissan\", \"fuel_type\": \"gas\", \"aspiration\": \"std\", \"num_of_doors\": \"four\", \"body_style\": \"sedan\", \"drive_wheels\": \"fwd\", \"engine_location\": \"front\", \"wheel_base\": 100.4, \"length\": 184.6, \"width\": 66.5, \"height\": 55.1, \"curb_weight\": 3060, \"engine_type\": \"ohcv\", \"num_of_cylinders\": \"six\", \"engine_size\": 181, \"fuel_system\": \"mpfi\", \"bore\": 3.43, \"stroke\": 3.27, \"compression_ratio\": 9.0, \"horsepower\": 152, \"peak_rpm\": 5200, \"city_mpg\": 19, \"highway_mpg\": 25, \"price\": 13499, \"safe\": true}, {\"symboling\": 3, \"normalized_losses\": 194, \"make\": \"nissan\", \"fuel_type\": \"gas\", \"aspiration\": \"std\", \"num_of_doors\": \"two\", \"body_style\": \"hatchback\", \"drive_wheels\": \"rwd\", \"engine_location\": \"front\", \"wheel_base\": 91.3, \"length\": 170.7, \"width\": 67.9, \"height\": 49.7, \"curb_weight\": 3071, \"engine_type\": \"ohcv\", \"num_of_cylinders\": \"six\", \"engine_size\": 181, \"fuel_system\": \"mpfi\", \"bore\": 3.43, \"stroke\": 3.27, \"compression_ratio\": 9.0, \"horsepower\": 160, \"peak_rpm\": 5200, \"city_mpg\": 19, \"highway_mpg\": 25, \"price\": 17199, \"safe\": false}, {\"symboling\": 3, \"normalized_losses\": 194, \"make\": \"nissan\", \"fuel_type\": \"gas\", \"aspiration\": \"turbo\", \"num_of_doors\": \"two\", \"body_style\": \"hatchback\", \"drive_wheels\": \"rwd\", \"engine_location\": \"front\", \"wheel_base\": 91.3, \"length\": 170.7, \"width\": 67.9, \"height\": 49.7, \"curb_weight\": 3139, \"engine_type\": \"ohcv\", \"num_of_cylinders\": \"six\", \"engine_size\": 181, \"fuel_system\": \"mpfi\", \"bore\": 3.43, \"stroke\": 3.27, \"compression_ratio\": 7.8, \"horsepower\": 200, \"peak_rpm\": 5200, \"city_mpg\": 17, \"highway_mpg\": 23, \"price\": 19699, \"safe\": false}, {\"symboling\": 1, \"normalized_losses\": 231, \"make\": \"nissan\", \"fuel_type\": \"gas\", \"aspiration\": \"std\", \"num_of_doors\": \"two\", \"body_style\": \"hatchback\", \"drive_wheels\": \"rwd\", \"engine_location\": \"front\", \"wheel_base\": 99.2, \"length\": 178.5, \"width\": 67.9, \"height\": 49.7, \"curb_weight\": 3139, \"engine_type\": \"ohcv\", \"num_of_cylinders\": \"six\", \"engine_size\": 181, \"fuel_system\": \"mpfi\", \"bore\": 3.43, \"stroke\": 3.27, \"compression_ratio\": 9.0, \"horsepower\": 160, \"peak_rpm\": 5200, \"city_mpg\": 19, \"highway_mpg\": 25, \"price\": 18399, \"safe\": false}, {\"symboling\": 0, \"normalized_losses\": 161, \"make\": \"peugot\", \"fuel_type\": \"gas\", \"aspiration\": \"std\", \"num_of_doors\": \"four\", \"body_style\": \"sedan\", \"drive_wheels\": \"rwd\", \"engine_location\": \"front\", \"wheel_base\": 107.9, \"length\": 186.7, \"width\": 68.4, \"height\": 56.7, \"curb_weight\": 3020, \"engine_type\": \"l\", \"num_of_cylinders\": \"four\", \"engine_size\": 120, \"fuel_system\": \"mpfi\", \"bore\": 3.46, \"stroke\": 3.19, \"compression_ratio\": 8.4, \"horsepower\": 97, \"peak_rpm\": 5000, \"city_mpg\": 19, \"highway_mpg\": 24, \"price\": 11900, \"safe\": true}, {\"symboling\": 0, \"normalized_losses\": 161, \"make\": \"peugot\", \"fuel_type\": \"diesel\", \"aspiration\": \"turbo\", \"num_of_doors\": \"four\", \"body_style\": \"sedan\", \"drive_wheels\": \"rwd\", \"engine_location\": \"front\", \"wheel_base\": 107.9, \"length\": 186.7, \"width\": 68.4, \"height\": 56.7, \"curb_weight\": 3197, \"engine_type\": \"l\", \"num_of_cylinders\": \"four\", \"engine_size\": 152, \"fuel_system\": \"idi\", \"bore\": 3.7, \"stroke\": 3.52, \"compression_ratio\": 21.0, \"horsepower\": 95, \"peak_rpm\": 4150, \"city_mpg\": 28, \"highway_mpg\": 33, \"price\": 13200, \"safe\": true}, {\"symboling\": 0, \"normalized_losses\": 161, \"make\": \"peugot\", \"fuel_type\": \"gas\", \"aspiration\": \"std\", \"num_of_doors\": \"four\", \"body_style\": \"sedan\", \"drive_wheels\": \"rwd\", \"engine_location\": \"front\", \"wheel_base\": 107.9, \"length\": 186.7, \"width\": 68.4, \"height\": 56.7, \"curb_weight\": 3075, \"engine_type\": \"l\", \"num_of_cylinders\": \"four\", \"engine_size\": 120, \"fuel_system\": \"mpfi\", \"bore\": 3.46, \"stroke\": 2.19, \"compression_ratio\": 8.4, \"horsepower\": 95, \"peak_rpm\": 5000, \"city_mpg\": 19, \"highway_mpg\": 24, \"price\": 15580, \"safe\": true}, {\"symboling\": 0, \"normalized_losses\": 161, \"make\": \"peugot\", \"fuel_type\": \"diesel\", \"aspiration\": \"turbo\", \"num_of_doors\": \"four\", \"body_style\": \"sedan\", \"drive_wheels\": \"rwd\", \"engine_location\": \"front\", \"wheel_base\": 107.9, \"length\": 186.7, \"width\": 68.4, \"height\": 56.7, \"curb_weight\": 3252, \"engine_type\": \"l\", \"num_of_cylinders\": \"four\", \"engine_size\": 152, \"fuel_system\": \"idi\", \"bore\": 3.7, \"stroke\": 3.52, \"compression_ratio\": 21.0, \"horsepower\": 95, \"peak_rpm\": 4150, \"city_mpg\": 28, \"highway_mpg\": 33, \"price\": 16900, \"safe\": true}, {\"symboling\": 0, \"normalized_losses\": 161, \"make\": \"peugot\", \"fuel_type\": \"gas\", \"aspiration\": \"std\", \"num_of_doors\": \"four\", \"body_style\": \"sedan\", \"drive_wheels\": \"rwd\", \"engine_location\": \"front\", \"wheel_base\": 107.9, \"length\": 186.7, \"width\": 68.4, \"height\": 56.7, \"curb_weight\": 3075, \"engine_type\": \"l\", \"num_of_cylinders\": \"four\", \"engine_size\": 120, \"fuel_system\": \"mpfi\", \"bore\": 3.46, \"stroke\": 3.19, \"compression_ratio\": 8.4, \"horsepower\": 97, \"peak_rpm\": 5000, \"city_mpg\": 19, \"highway_mpg\": 24, \"price\": 16630, \"safe\": true}, {\"symboling\": 0, \"normalized_losses\": 161, \"make\": \"peugot\", \"fuel_type\": \"diesel\", \"aspiration\": \"turbo\", \"num_of_doors\": \"four\", \"body_style\": \"sedan\", \"drive_wheels\": \"rwd\", \"engine_location\": \"front\", \"wheel_base\": 107.9, \"length\": 186.7, \"width\": 68.4, \"height\": 56.7, \"curb_weight\": 3252, \"engine_type\": \"l\", \"num_of_cylinders\": \"four\", \"engine_size\": 152, \"fuel_system\": \"idi\", \"bore\": 3.7, \"stroke\": 3.52, \"compression_ratio\": 21.0, \"horsepower\": 95, \"peak_rpm\": 4150, \"city_mpg\": 28, \"highway_mpg\": 33, \"price\": 17950, \"safe\": true}, {\"symboling\": 0, \"normalized_losses\": 161, \"make\": \"peugot\", \"fuel_type\": \"gas\", \"aspiration\": \"turbo\", \"num_of_doors\": \"four\", \"body_style\": \"sedan\", \"drive_wheels\": \"rwd\", \"engine_location\": \"front\", \"wheel_base\": 108.0, \"length\": 186.7, \"width\": 68.3, \"height\": 56.0, \"curb_weight\": 3130, \"engine_type\": \"l\", \"num_of_cylinders\": \"four\", \"engine_size\": 134, \"fuel_system\": \"mpfi\", \"bore\": 3.61, \"stroke\": 3.21, \"compression_ratio\": 7.0, \"horsepower\": 142, \"peak_rpm\": 5600, \"city_mpg\": 18, \"highway_mpg\": 24, \"price\": 18150, \"safe\": true}, {\"symboling\": 1, \"normalized_losses\": 119, \"make\": \"plymouth\", \"fuel_type\": \"gas\", \"aspiration\": \"std\", \"num_of_doors\": \"two\", \"body_style\": \"hatchback\", \"drive_wheels\": \"fwd\", \"engine_location\": \"front\", \"wheel_base\": 93.7, \"length\": 157.3, \"width\": 63.8, \"height\": 50.8, \"curb_weight\": 1918, \"engine_type\": \"ohc\", \"num_of_cylinders\": \"four\", \"engine_size\": 90, \"fuel_system\": \"2bbl\", \"bore\": 2.97, \"stroke\": 3.23, \"compression_ratio\": 9.4, \"horsepower\": 68, \"peak_rpm\": 5500, \"city_mpg\": 37, \"highway_mpg\": 41, \"price\": 5572, \"safe\": false}, {\"symboling\": 1, \"normalized_losses\": 119, \"make\": \"plymouth\", \"fuel_type\": \"gas\", \"aspiration\": \"turbo\", \"num_of_doors\": \"two\", \"body_style\": \"hatchback\", \"drive_wheels\": \"fwd\", \"engine_location\": \"front\", \"wheel_base\": 93.7, \"length\": 157.3, \"width\": 63.8, \"height\": 50.8, \"curb_weight\": 2128, \"engine_type\": \"ohc\", \"num_of_cylinders\": \"four\", \"engine_size\": 98, \"fuel_system\": \"spdi\", \"bore\": 3.03, \"stroke\": 3.39, \"compression_ratio\": 7.6, \"horsepower\": 102, \"peak_rpm\": 5500, \"city_mpg\": 24, \"highway_mpg\": 30, \"price\": 7957, \"safe\": false}, {\"symboling\": 1, \"normalized_losses\": 154, \"make\": \"plymouth\", \"fuel_type\": \"gas\", \"aspiration\": \"std\", \"num_of_doors\": \"four\", \"body_style\": \"hatchback\", \"drive_wheels\": \"fwd\", \"engine_location\": \"front\", \"wheel_base\": 93.7, \"length\": 157.3, \"width\": 63.8, \"height\": 50.6, \"curb_weight\": 1967, \"engine_type\": \"ohc\", \"num_of_cylinders\": \"four\", \"engine_size\": 90, \"fuel_system\": \"2bbl\", \"bore\": 2.97, \"stroke\": 3.23, \"compression_ratio\": 9.4, \"horsepower\": 68, \"peak_rpm\": 5500, \"city_mpg\": 31, \"highway_mpg\": 38, \"price\": 6229, \"safe\": false}, {\"symboling\": 1, \"normalized_losses\": 154, \"make\": \"plymouth\", \"fuel_type\": \"gas\", \"aspiration\": \"std\", \"num_of_doors\": \"four\", \"body_style\": \"sedan\", \"drive_wheels\": \"fwd\", \"engine_location\": \"front\", \"wheel_base\": 93.7, \"length\": 167.3, \"width\": 63.8, \"height\": 50.8, \"curb_weight\": 1989, \"engine_type\": \"ohc\", \"num_of_cylinders\": \"four\", \"engine_size\": 90, \"fuel_system\": \"2bbl\", \"bore\": 2.97, \"stroke\": 3.23, \"compression_ratio\": 9.4, \"horsepower\": 68, \"peak_rpm\": 5500, \"city_mpg\": 31, \"highway_mpg\": 38, \"price\": 6692, \"safe\": false}, {\"symboling\": 1, \"normalized_losses\": 154, \"make\": \"plymouth\", \"fuel_type\": \"gas\", \"aspiration\": \"std\", \"num_of_doors\": \"four\", \"body_style\": \"sedan\", \"drive_wheels\": \"fwd\", \"engine_location\": \"front\", \"wheel_base\": 93.7, \"length\": 167.3, \"width\": 63.8, \"height\": 50.8, \"curb_weight\": 2191, \"engine_type\": \"ohc\", \"num_of_cylinders\": \"four\", \"engine_size\": 98, \"fuel_system\": \"2bbl\", \"bore\": 2.97, \"stroke\": 3.23, \"compression_ratio\": 9.4, \"horsepower\": 68, \"peak_rpm\": 5500, \"city_mpg\": 31, \"highway_mpg\": 38, \"price\": 7609, \"safe\": false}, {\"symboling\": -1, \"normalized_losses\": 74, \"make\": \"plymouth\", \"fuel_type\": \"gas\", \"aspiration\": \"std\", \"num_of_doors\": \"four\", \"body_style\": \"wagon\", \"drive_wheels\": \"fwd\", \"engine_location\": \"front\", \"wheel_base\": 103.3, \"length\": 174.6, \"width\": 64.6, \"height\": 59.8, \"curb_weight\": 2535, \"engine_type\": \"ohc\", \"num_of_cylinders\": \"four\", \"engine_size\": 122, \"fuel_system\": \"2bbl\", \"bore\": 3.35, \"stroke\": 3.46, \"compression_ratio\": 8.5, \"horsepower\": 88, \"peak_rpm\": 5000, \"city_mpg\": 24, \"highway_mpg\": 30, \"price\": 8921, \"safe\": true}, {\"symboling\": 3, \"normalized_losses\": 186, \"make\": \"porsche\", \"fuel_type\": \"gas\", \"aspiration\": \"std\", \"num_of_doors\": \"two\", \"body_style\": \"hatchback\", \"drive_wheels\": \"rwd\", \"engine_location\": \"front\", \"wheel_base\": 94.5, \"length\": 168.9, \"width\": 68.3, \"height\": 50.2, \"curb_weight\": 2778, \"engine_type\": \"ohc\", \"num_of_cylinders\": \"four\", \"engine_size\": 151, \"fuel_system\": \"mpfi\", \"bore\": 3.94, \"stroke\": 3.11, \"compression_ratio\": 9.5, \"horsepower\": 143, \"peak_rpm\": 5500, \"city_mpg\": 19, \"highway_mpg\": 27, \"price\": 22018, \"safe\": false}, {\"symboling\": 3, \"normalized_losses\": 150, \"make\": \"saab\", \"fuel_type\": \"gas\", \"aspiration\": \"std\", \"num_of_doors\": \"two\", \"body_style\": \"hatchback\", \"drive_wheels\": \"fwd\", \"engine_location\": \"front\", \"wheel_base\": 99.1, \"length\": 186.6, \"width\": 66.5, \"height\": 56.1, \"curb_weight\": 2658, \"engine_type\": \"ohc\", \"num_of_cylinders\": \"four\", \"engine_size\": 121, \"fuel_system\": \"mpfi\", \"bore\": 3.54, \"stroke\": 3.07, \"compression_ratio\": 9.31, \"horsepower\": 110, \"peak_rpm\": 5250, \"city_mpg\": 21, \"highway_mpg\": 28, \"price\": 11850, \"safe\": false}, {\"symboling\": 2, \"normalized_losses\": 104, \"make\": \"saab\", \"fuel_type\": \"gas\", \"aspiration\": \"std\", \"num_of_doors\": \"four\", \"body_style\": \"sedan\", \"drive_wheels\": \"fwd\", \"engine_location\": \"front\", \"wheel_base\": 99.1, \"length\": 186.6, \"width\": 66.5, \"height\": 56.1, \"curb_weight\": 2695, \"engine_type\": \"ohc\", \"num_of_cylinders\": \"four\", \"engine_size\": 121, \"fuel_system\": \"mpfi\", \"bore\": 3.54, \"stroke\": 3.07, \"compression_ratio\": 9.3, \"horsepower\": 110, \"peak_rpm\": 5250, \"city_mpg\": 21, \"highway_mpg\": 28, \"price\": 12170, \"safe\": false}, {\"symboling\": 3, \"normalized_losses\": 150, \"make\": \"saab\", \"fuel_type\": \"gas\", \"aspiration\": \"std\", \"num_of_doors\": \"two\", \"body_style\": \"hatchback\", \"drive_wheels\": \"fwd\", \"engine_location\": \"front\", \"wheel_base\": 99.1, \"length\": 186.6, \"width\": 66.5, \"height\": 56.1, \"curb_weight\": 2707, \"engine_type\": \"ohc\", \"num_of_cylinders\": \"four\", \"engine_size\": 121, \"fuel_system\": \"mpfi\", \"bore\": 2.54, \"stroke\": 2.07, \"compression_ratio\": 9.3, \"horsepower\": 110, \"peak_rpm\": 5250, \"city_mpg\": 21, \"highway_mpg\": 28, \"price\": 15040, \"safe\": false}, {\"symboling\": 2, \"normalized_losses\": 104, \"make\": \"saab\", \"fuel_type\": \"gas\", \"aspiration\": \"std\", \"num_of_doors\": \"four\", \"body_style\": \"sedan\", \"drive_wheels\": \"fwd\", \"engine_location\": \"front\", \"wheel_base\": 99.1, \"length\": 186.6, \"width\": 66.5, \"height\": 56.1, \"curb_weight\": 2758, \"engine_type\": \"ohc\", \"num_of_cylinders\": \"four\", \"engine_size\": 121, \"fuel_system\": \"mpfi\", \"bore\": 3.54, \"stroke\": 3.07, \"compression_ratio\": 9.3, \"horsepower\": 110, \"peak_rpm\": 5250, \"city_mpg\": 21, \"highway_mpg\": 28, \"price\": 15510, \"safe\": false}, {\"symboling\": 3, \"normalized_losses\": 150, \"make\": \"saab\", \"fuel_type\": \"gas\", \"aspiration\": \"turbo\", \"num_of_doors\": \"two\", \"body_style\": \"hatchback\", \"drive_wheels\": \"fwd\", \"engine_location\": \"front\", \"wheel_base\": 99.1, \"length\": 186.6, \"width\": 66.5, \"height\": 56.1, \"curb_weight\": 2808, \"engine_type\": \"dohc\", \"num_of_cylinders\": \"four\", \"engine_size\": 121, \"fuel_system\": \"mpfi\", \"bore\": 3.54, \"stroke\": 3.07, \"compression_ratio\": 9.0, \"horsepower\": 160, \"peak_rpm\": 5500, \"city_mpg\": 19, \"highway_mpg\": 26, \"price\": 18150, \"safe\": false}, {\"symboling\": 2, \"normalized_losses\": 104, \"make\": \"saab\", \"fuel_type\": \"gas\", \"aspiration\": \"turbo\", \"num_of_doors\": \"four\", \"body_style\": \"sedan\", \"drive_wheels\": \"fwd\", \"engine_location\": \"front\", \"wheel_base\": 99.1, \"length\": 186.6, \"width\": 66.5, \"height\": 56.1, \"curb_weight\": 2847, \"engine_type\": \"dohc\", \"num_of_cylinders\": \"four\", \"engine_size\": 121, \"fuel_system\": \"mpfi\", \"bore\": 3.54, \"stroke\": 3.07, \"compression_ratio\": 9.0, \"horsepower\": 160, \"peak_rpm\": 5500, \"city_mpg\": 19, \"highway_mpg\": 26, \"price\": 18620, \"safe\": false}, {\"symboling\": 2, \"normalized_losses\": 83, \"make\": \"subaru\", \"fuel_type\": \"gas\", \"aspiration\": \"std\", \"num_of_doors\": \"two\", \"body_style\": \"hatchback\", \"drive_wheels\": \"fwd\", \"engine_location\": \"front\", \"wheel_base\": 93.7, \"length\": 156.9, \"width\": 63.4, \"height\": 53.7, \"curb_weight\": 2050, \"engine_type\": \"ohcf\", \"num_of_cylinders\": \"four\", \"engine_size\": 97, \"fuel_system\": \"2bbl\", \"bore\": 3.62, \"stroke\": 2.36, \"compression_ratio\": 9.0, \"horsepower\": 69, \"peak_rpm\": 4900, \"city_mpg\": 31, \"highway_mpg\": 36, \"price\": 5118, \"safe\": false}, {\"symboling\": 2, \"normalized_losses\": 83, \"make\": \"subaru\", \"fuel_type\": \"gas\", \"aspiration\": \"std\", \"num_of_doors\": \"two\", \"body_style\": \"hatchback\", \"drive_wheels\": \"fwd\", \"engine_location\": \"front\", \"wheel_base\": 93.7, \"length\": 157.9, \"width\": 63.6, \"height\": 53.7, \"curb_weight\": 2120, \"engine_type\": \"ohcf\", \"num_of_cylinders\": \"four\", \"engine_size\": 108, \"fuel_system\": \"2bbl\", \"bore\": 3.62, \"stroke\": 2.64, \"compression_ratio\": 8.7, \"horsepower\": 73, \"peak_rpm\": 4400, \"city_mpg\": 26, \"highway_mpg\": 31, \"price\": 7053, \"safe\": false}, {\"symboling\": 2, \"normalized_losses\": 83, \"make\": \"subaru\", \"fuel_type\": \"gas\", \"aspiration\": \"std\", \"num_of_doors\": \"two\", \"body_style\": \"hatchback\", \"drive_wheels\": \"4wd\", \"engine_location\": \"front\", \"wheel_base\": 93.3, \"length\": 157.3, \"width\": 63.8, \"height\": 55.7, \"curb_weight\": 2240, \"engine_type\": \"ohcf\", \"num_of_cylinders\": \"four\", \"engine_size\": 108, \"fuel_system\": \"2bbl\", \"bore\": 3.62, \"stroke\": 2.64, \"compression_ratio\": 8.7, \"horsepower\": 73, \"peak_rpm\": 4400, \"city_mpg\": 26, \"highway_mpg\": 31, \"price\": 7603, \"safe\": false}, {\"symboling\": 0, \"normalized_losses\": 102, \"make\": \"subaru\", \"fuel_type\": \"gas\", \"aspiration\": \"std\", \"num_of_doors\": \"four\", \"body_style\": \"sedan\", \"drive_wheels\": \"fwd\", \"engine_location\": \"front\", \"wheel_base\": 97.2, \"length\": 172.0, \"width\": 65.4, \"height\": 52.5, \"curb_weight\": 2145, \"engine_type\": \"ohcf\", \"num_of_cylinders\": \"four\", \"engine_size\": 108, \"fuel_system\": \"2bbl\", \"bore\": 3.62, \"stroke\": 2.64, \"compression_ratio\": 9.5, \"horsepower\": 82, \"peak_rpm\": 4800, \"city_mpg\": 32, \"highway_mpg\": 37, \"price\": 7126, \"safe\": true}, {\"symboling\": 0, \"normalized_losses\": 102, \"make\": \"subaru\", \"fuel_type\": \"gas\", \"aspiration\": \"std\", \"num_of_doors\": \"four\", \"body_style\": \"sedan\", \"drive_wheels\": \"fwd\", \"engine_location\": \"front\", \"wheel_base\": 97.2, \"length\": 172.0, \"width\": 65.4, \"height\": 52.5, \"curb_weight\": 2190, \"engine_type\": \"ohcf\", \"num_of_cylinders\": \"four\", \"engine_size\": 108, \"fuel_system\": \"2bbl\", \"bore\": 3.62, \"stroke\": 2.64, \"compression_ratio\": 9.5, \"horsepower\": 82, \"peak_rpm\": 4400, \"city_mpg\": 28, \"highway_mpg\": 33, \"price\": 7775, \"safe\": true}, {\"symboling\": 0, \"normalized_losses\": 102, \"make\": \"subaru\", \"fuel_type\": \"gas\", \"aspiration\": \"std\", \"num_of_doors\": \"four\", \"body_style\": \"sedan\", \"drive_wheels\": \"fwd\", \"engine_location\": \"front\", \"wheel_base\": 97.2, \"length\": 172.0, \"width\": 65.4, \"height\": 52.5, \"curb_weight\": 2340, \"engine_type\": \"ohcf\", \"num_of_cylinders\": \"four\", \"engine_size\": 108, \"fuel_system\": \"mpfi\", \"bore\": 3.62, \"stroke\": 2.64, \"compression_ratio\": 9.0, \"horsepower\": 94, \"peak_rpm\": 5200, \"city_mpg\": 26, \"highway_mpg\": 32, \"price\": 9960, \"safe\": true}, {\"symboling\": 0, \"normalized_losses\": 102, \"make\": \"subaru\", \"fuel_type\": \"gas\", \"aspiration\": \"std\", \"num_of_doors\": \"four\", \"body_style\": \"sedan\", \"drive_wheels\": \"4wd\", \"engine_location\": \"front\", \"wheel_base\": 97.0, \"length\": 172.0, \"width\": 65.4, \"height\": 54.3, \"curb_weight\": 2385, \"engine_type\": \"ohcf\", \"num_of_cylinders\": \"four\", \"engine_size\": 108, \"fuel_system\": \"2bbl\", \"bore\": 3.62, \"stroke\": 2.64, \"compression_ratio\": 9.0, \"horsepower\": 82, \"peak_rpm\": 4800, \"city_mpg\": 24, \"highway_mpg\": 25, \"price\": 9233, \"safe\": true}, {\"symboling\": 0, \"normalized_losses\": 102, \"make\": \"subaru\", \"fuel_type\": \"gas\", \"aspiration\": \"turbo\", \"num_of_doors\": \"four\", \"body_style\": \"sedan\", \"drive_wheels\": \"4wd\", \"engine_location\": \"front\", \"wheel_base\": 97.0, \"length\": 172.0, \"width\": 65.4, \"height\": 54.3, \"curb_weight\": 2510, \"engine_type\": \"ohcf\", \"num_of_cylinders\": \"four\", \"engine_size\": 108, \"fuel_system\": \"mpfi\", \"bore\": 3.62, \"stroke\": 2.64, \"compression_ratio\": 7.7, \"horsepower\": 111, \"peak_rpm\": 4800, \"city_mpg\": 24, \"highway_mpg\": 29, \"price\": 11259, \"safe\": true}, {\"symboling\": 0, \"normalized_losses\": 89, \"make\": \"subaru\", \"fuel_type\": \"gas\", \"aspiration\": \"std\", \"num_of_doors\": \"four\", \"body_style\": \"wagon\", \"drive_wheels\": \"fwd\", \"engine_location\": \"front\", \"wheel_base\": 97.0, \"length\": 173.5, \"width\": 65.4, \"height\": 53.0, \"curb_weight\": 2290, \"engine_type\": \"ohcf\", \"num_of_cylinders\": \"four\", \"engine_size\": 108, \"fuel_system\": \"2bbl\", \"bore\": 3.62, \"stroke\": 2.64, \"compression_ratio\": 9.0, \"horsepower\": 82, \"peak_rpm\": 4800, \"city_mpg\": 28, \"highway_mpg\": 32, \"price\": 7463, \"safe\": true}, {\"symboling\": 0, \"normalized_losses\": 89, \"make\": \"subaru\", \"fuel_type\": \"gas\", \"aspiration\": \"std\", \"num_of_doors\": \"four\", \"body_style\": \"wagon\", \"drive_wheels\": \"fwd\", \"engine_location\": \"front\", \"wheel_base\": 97.0, \"length\": 173.5, \"width\": 65.4, \"height\": 53.0, \"curb_weight\": 2455, \"engine_type\": \"ohcf\", \"num_of_cylinders\": \"four\", \"engine_size\": 108, \"fuel_system\": \"mpfi\", \"bore\": 3.62, \"stroke\": 2.64, \"compression_ratio\": 9.0, \"horsepower\": 94, \"peak_rpm\": 5200, \"city_mpg\": 25, \"highway_mpg\": 31, \"price\": 10198, \"safe\": true}, {\"symboling\": 0, \"normalized_losses\": 85, \"make\": \"subaru\", \"fuel_type\": \"gas\", \"aspiration\": \"std\", \"num_of_doors\": \"four\", \"body_style\": \"wagon\", \"drive_wheels\": \"4wd\", \"engine_location\": \"front\", \"wheel_base\": 96.9, \"length\": 173.6, \"width\": 65.4, \"height\": 54.9, \"curb_weight\": 2420, \"engine_type\": \"ohcf\", \"num_of_cylinders\": \"four\", \"engine_size\": 108, \"fuel_system\": \"2bbl\", \"bore\": 3.62, \"stroke\": 2.64, \"compression_ratio\": 9.0, \"horsepower\": 82, \"peak_rpm\": 4800, \"city_mpg\": 23, \"highway_mpg\": 29, \"price\": 8013, \"safe\": true}, {\"symboling\": 0, \"normalized_losses\": 85, \"make\": \"subaru\", \"fuel_type\": \"gas\", \"aspiration\": \"turbo\", \"num_of_doors\": \"four\", \"body_style\": \"wagon\", \"drive_wheels\": \"4wd\", \"engine_location\": \"front\", \"wheel_base\": 96.9, \"length\": 173.6, \"width\": 65.4, \"height\": 54.9, \"curb_weight\": 2650, \"engine_type\": \"ohcf\", \"num_of_cylinders\": \"four\", \"engine_size\": 108, \"fuel_system\": \"mpfi\", \"bore\": 3.62, \"stroke\": 2.64, \"compression_ratio\": 7.7, \"horsepower\": 111, \"peak_rpm\": 4800, \"city_mpg\": 23, \"highway_mpg\": 23, \"price\": 11694, \"safe\": true}, {\"symboling\": 1, \"normalized_losses\": 87, \"make\": \"toyota\", \"fuel_type\": \"gas\", \"aspiration\": \"std\", \"num_of_doors\": \"two\", \"body_style\": \"hatchback\", \"drive_wheels\": \"fwd\", \"engine_location\": \"front\", \"wheel_base\": 95.7, \"length\": 158.7, \"width\": 63.6, \"height\": 54.5, \"curb_weight\": 1985, \"engine_type\": \"ohc\", \"num_of_cylinders\": \"four\", \"engine_size\": 92, \"fuel_system\": \"2bbl\", \"bore\": 3.05, \"stroke\": 3.03, \"compression_ratio\": 9.0, \"horsepower\": 62, \"peak_rpm\": 4800, \"city_mpg\": 35, \"highway_mpg\": 39, \"price\": 5348, \"safe\": false}, {\"symboling\": 1, \"normalized_losses\": 87, \"make\": \"toyota\", \"fuel_type\": \"gas\", \"aspiration\": \"std\", \"num_of_doors\": \"two\", \"body_style\": \"hatchback\", \"drive_wheels\": \"fwd\", \"engine_location\": \"front\", \"wheel_base\": 95.7, \"length\": 158.7, \"width\": 63.6, \"height\": 54.5, \"curb_weight\": 2040, \"engine_type\": \"ohc\", \"num_of_cylinders\": \"four\", \"engine_size\": 92, \"fuel_system\": \"2bbl\", \"bore\": 3.05, \"stroke\": 3.03, \"compression_ratio\": 9.0, \"horsepower\": 62, \"peak_rpm\": 4800, \"city_mpg\": 31, \"highway_mpg\": 38, \"price\": 6338, \"safe\": false}, {\"symboling\": 1, \"normalized_losses\": 74, \"make\": \"toyota\", \"fuel_type\": \"gas\", \"aspiration\": \"std\", \"num_of_doors\": \"four\", \"body_style\": \"hatchback\", \"drive_wheels\": \"fwd\", \"engine_location\": \"front\", \"wheel_base\": 95.7, \"length\": 158.7, \"width\": 63.6, \"height\": 54.5, \"curb_weight\": 2015, \"engine_type\": \"ohc\", \"num_of_cylinders\": \"four\", \"engine_size\": 92, \"fuel_system\": \"2bbl\", \"bore\": 3.05, \"stroke\": 3.03, \"compression_ratio\": 9.0, \"horsepower\": 62, \"peak_rpm\": 4800, \"city_mpg\": 31, \"highway_mpg\": 38, \"price\": 6488, \"safe\": false}, {\"symboling\": 0, \"normalized_losses\": 77, \"make\": \"toyota\", \"fuel_type\": \"gas\", \"aspiration\": \"std\", \"num_of_doors\": \"four\", \"body_style\": \"wagon\", \"drive_wheels\": \"fwd\", \"engine_location\": \"front\", \"wheel_base\": 95.7, \"length\": 169.7, \"width\": 63.6, \"height\": 59.1, \"curb_weight\": 2280, \"engine_type\": \"ohc\", \"num_of_cylinders\": \"four\", \"engine_size\": 92, \"fuel_system\": \"2bbl\", \"bore\": 3.05, \"stroke\": 3.03, \"compression_ratio\": 9.0, \"horsepower\": 62, \"peak_rpm\": 4800, \"city_mpg\": 31, \"highway_mpg\": 37, \"price\": 6918, \"safe\": true}, {\"symboling\": 0, \"normalized_losses\": 81, \"make\": \"toyota\", \"fuel_type\": \"gas\", \"aspiration\": \"std\", \"num_of_doors\": \"four\", \"body_style\": \"wagon\", \"drive_wheels\": \"4wd\", \"engine_location\": \"front\", \"wheel_base\": 95.7, \"length\": 169.7, \"width\": 63.6, \"height\": 59.1, \"curb_weight\": 2290, \"engine_type\": \"ohc\", \"num_of_cylinders\": \"four\", \"engine_size\": 92, \"fuel_system\": \"2bbl\", \"bore\": 3.05, \"stroke\": 3.03, \"compression_ratio\": 9.0, \"horsepower\": 62, \"peak_rpm\": 4800, \"city_mpg\": 27, \"highway_mpg\": 32, \"price\": 7898, \"safe\": true}, {\"symboling\": 0, \"normalized_losses\": 91, \"make\": \"toyota\", \"fuel_type\": \"gas\", \"aspiration\": \"std\", \"num_of_doors\": \"four\", \"body_style\": \"wagon\", \"drive_wheels\": \"4wd\", \"engine_location\": \"front\", \"wheel_base\": 95.7, \"length\": 169.7, \"width\": 63.6, \"height\": 59.1, \"curb_weight\": 3110, \"engine_type\": \"ohc\", \"num_of_cylinders\": \"four\", \"engine_size\": 92, \"fuel_system\": \"2bbl\", \"bore\": 3.05, \"stroke\": 3.03, \"compression_ratio\": 9.0, \"horsepower\": 62, \"peak_rpm\": 4800, \"city_mpg\": 27, \"highway_mpg\": 32, \"price\": 8778, \"safe\": true}, {\"symboling\": 0, \"normalized_losses\": 91, \"make\": \"toyota\", \"fuel_type\": \"gas\", \"aspiration\": \"std\", \"num_of_doors\": \"four\", \"body_style\": \"sedan\", \"drive_wheels\": \"fwd\", \"engine_location\": \"front\", \"wheel_base\": 95.7, \"length\": 166.3, \"width\": 64.4, \"height\": 53.0, \"curb_weight\": 2081, \"engine_type\": \"ohc\", \"num_of_cylinders\": \"four\", \"engine_size\": 98, \"fuel_system\": \"2bbl\", \"bore\": 3.19, \"stroke\": 3.03, \"compression_ratio\": 9.0, \"horsepower\": 70, \"peak_rpm\": 4800, \"city_mpg\": 30, \"highway_mpg\": 37, \"price\": 6938, \"safe\": true}, {\"symboling\": 0, \"normalized_losses\": 91, \"make\": \"toyota\", \"fuel_type\": \"gas\", \"aspiration\": \"std\", \"num_of_doors\": \"four\", \"body_style\": \"hatchback\", \"drive_wheels\": \"fwd\", \"engine_location\": \"front\", \"wheel_base\": 95.7, \"length\": 166.3, \"width\": 64.4, \"height\": 52.8, \"curb_weight\": 2109, \"engine_type\": \"ohc\", \"num_of_cylinders\": \"four\", \"engine_size\": 98, \"fuel_system\": \"2bbl\", \"bore\": 3.19, \"stroke\": 3.03, \"compression_ratio\": 9.0, \"horsepower\": 70, \"peak_rpm\": 4800, \"city_mpg\": 30, \"highway_mpg\": 37, \"price\": 7198, \"safe\": true}, {\"symboling\": 0, \"normalized_losses\": 91, \"make\": \"toyota\", \"fuel_type\": \"diesel\", \"aspiration\": \"std\", \"num_of_doors\": \"four\", \"body_style\": \"sedan\", \"drive_wheels\": \"fwd\", \"engine_location\": \"front\", \"wheel_base\": 95.7, \"length\": 166.3, \"width\": 64.4, \"height\": 53.0, \"curb_weight\": 2275, \"engine_type\": \"ohc\", \"num_of_cylinders\": \"four\", \"engine_size\": 110, \"fuel_system\": \"idi\", \"bore\": 3.27, \"stroke\": 3.35, \"compression_ratio\": 22.5, \"horsepower\": 56, \"peak_rpm\": 4500, \"city_mpg\": 34, \"highway_mpg\": 36, \"price\": 7898, \"safe\": true}, {\"symboling\": 0, \"normalized_losses\": 91, \"make\": \"toyota\", \"fuel_type\": \"diesel\", \"aspiration\": \"std\", \"num_of_doors\": \"four\", \"body_style\": \"hatchback\", \"drive_wheels\": \"fwd\", \"engine_location\": \"front\", \"wheel_base\": 95.7, \"length\": 166.3, \"width\": 64.4, \"height\": 52.8, \"curb_weight\": 2275, \"engine_type\": \"ohc\", \"num_of_cylinders\": \"four\", \"engine_size\": 110, \"fuel_system\": \"idi\", \"bore\": 3.27, \"stroke\": 3.35, \"compression_ratio\": 22.5, \"horsepower\": 56, \"peak_rpm\": 4500, \"city_mpg\": 38, \"highway_mpg\": 47, \"price\": 7788, \"safe\": true}, {\"symboling\": 0, \"normalized_losses\": 91, \"make\": \"toyota\", \"fuel_type\": \"gas\", \"aspiration\": \"std\", \"num_of_doors\": \"four\", \"body_style\": \"sedan\", \"drive_wheels\": \"fwd\", \"engine_location\": \"front\", \"wheel_base\": 95.7, \"length\": 166.3, \"width\": 64.4, \"height\": 53.0, \"curb_weight\": 2094, \"engine_type\": \"ohc\", \"num_of_cylinders\": \"four\", \"engine_size\": 98, \"fuel_system\": \"2bbl\", \"bore\": 3.19, \"stroke\": 3.03, \"compression_ratio\": 9.0, \"horsepower\": 70, \"peak_rpm\": 4800, \"city_mpg\": 38, \"highway_mpg\": 47, \"price\": 7738, \"safe\": true}, {\"symboling\": 0, \"normalized_losses\": 91, \"make\": \"toyota\", \"fuel_type\": \"gas\", \"aspiration\": \"std\", \"num_of_doors\": \"four\", \"body_style\": \"hatchback\", \"drive_wheels\": \"fwd\", \"engine_location\": \"front\", \"wheel_base\": 95.7, \"length\": 166.3, \"width\": 64.4, \"height\": 52.8, \"curb_weight\": 2122, \"engine_type\": \"ohc\", \"num_of_cylinders\": \"four\", \"engine_size\": 98, \"fuel_system\": \"2bbl\", \"bore\": 3.19, \"stroke\": 3.03, \"compression_ratio\": 9.0, \"horsepower\": 70, \"peak_rpm\": 4800, \"city_mpg\": 28, \"highway_mpg\": 34, \"price\": 8358, \"safe\": true}, {\"symboling\": 0, \"normalized_losses\": 91, \"make\": \"toyota\", \"fuel_type\": \"gas\", \"aspiration\": \"std\", \"num_of_doors\": \"four\", \"body_style\": \"sedan\", \"drive_wheels\": \"fwd\", \"engine_location\": \"front\", \"wheel_base\": 95.7, \"length\": 166.3, \"width\": 64.4, \"height\": 52.8, \"curb_weight\": 2140, \"engine_type\": \"ohc\", \"num_of_cylinders\": \"four\", \"engine_size\": 98, \"fuel_system\": \"2bbl\", \"bore\": 3.19, \"stroke\": 3.03, \"compression_ratio\": 9.0, \"horsepower\": 70, \"peak_rpm\": 4800, \"city_mpg\": 28, \"highway_mpg\": 34, \"price\": 9258, \"safe\": true}, {\"symboling\": 1, \"normalized_losses\": 168, \"make\": \"toyota\", \"fuel_type\": \"gas\", \"aspiration\": \"std\", \"num_of_doors\": \"two\", \"body_style\": \"sedan\", \"drive_wheels\": \"rwd\", \"engine_location\": \"front\", \"wheel_base\": 94.5, \"length\": 168.7, \"width\": 64.0, \"height\": 52.6, \"curb_weight\": 2169, \"engine_type\": \"ohc\", \"num_of_cylinders\": \"four\", \"engine_size\": 98, \"fuel_system\": \"2bbl\", \"bore\": 3.19, \"stroke\": 3.03, \"compression_ratio\": 9.0, \"horsepower\": 70, \"peak_rpm\": 4800, \"city_mpg\": 29, \"highway_mpg\": 34, \"price\": 8058, \"safe\": false}, {\"symboling\": 1, \"normalized_losses\": 168, \"make\": \"toyota\", \"fuel_type\": \"gas\", \"aspiration\": \"std\", \"num_of_doors\": \"two\", \"body_style\": \"hatchback\", \"drive_wheels\": \"rwd\", \"engine_location\": \"front\", \"wheel_base\": 94.5, \"length\": 168.7, \"width\": 64.0, \"height\": 52.6, \"curb_weight\": 2204, \"engine_type\": \"ohc\", \"num_of_cylinders\": \"four\", \"engine_size\": 98, \"fuel_system\": \"2bbl\", \"bore\": 3.19, \"stroke\": 3.03, \"compression_ratio\": 9.0, \"horsepower\": 70, \"peak_rpm\": 4800, \"city_mpg\": 29, \"highway_mpg\": 34, \"price\": 8238, \"safe\": false}, {\"symboling\": 1, \"normalized_losses\": 168, \"make\": \"toyota\", \"fuel_type\": \"gas\", \"aspiration\": \"std\", \"num_of_doors\": \"two\", \"body_style\": \"sedan\", \"drive_wheels\": \"rwd\", \"engine_location\": \"front\", \"wheel_base\": 94.5, \"length\": 168.7, \"width\": 64.0, \"height\": 52.6, \"curb_weight\": 2265, \"engine_type\": \"dohc\", \"num_of_cylinders\": \"four\", \"engine_size\": 98, \"fuel_system\": \"mpfi\", \"bore\": 3.24, \"stroke\": 3.08, \"compression_ratio\": 9.4, \"horsepower\": 112, \"peak_rpm\": 6600, \"city_mpg\": 26, \"highway_mpg\": 29, \"price\": 9298, \"safe\": false}, {\"symboling\": 1, \"normalized_losses\": 168, \"make\": \"toyota\", \"fuel_type\": \"gas\", \"aspiration\": \"std\", \"num_of_doors\": \"two\", \"body_style\": \"hatchback\", \"drive_wheels\": \"rwd\", \"engine_location\": \"front\", \"wheel_base\": 94.5, \"length\": 168.7, \"width\": 64.0, \"height\": 52.6, \"curb_weight\": 2300, \"engine_type\": \"dohc\", \"num_of_cylinders\": \"four\", \"engine_size\": 98, \"fuel_system\": \"mpfi\", \"bore\": 3.24, \"stroke\": 3.08, \"compression_ratio\": 9.4, \"horsepower\": 112, \"peak_rpm\": 6600, \"city_mpg\": 26, \"highway_mpg\": 29, \"price\": 9538, \"safe\": false}, {\"symboling\": 2, \"normalized_losses\": 134, \"make\": \"toyota\", \"fuel_type\": \"gas\", \"aspiration\": \"std\", \"num_of_doors\": \"two\", \"body_style\": \"hardtop\", \"drive_wheels\": \"rwd\", \"engine_location\": \"front\", \"wheel_base\": 98.4, \"length\": 176.2, \"width\": 65.6, \"height\": 52.0, \"curb_weight\": 2540, \"engine_type\": \"ohc\", \"num_of_cylinders\": \"four\", \"engine_size\": 146, \"fuel_system\": \"mpfi\", \"bore\": 3.62, \"stroke\": 3.5, \"compression_ratio\": 9.3, \"horsepower\": 116, \"peak_rpm\": 4800, \"city_mpg\": 24, \"highway_mpg\": 30, \"price\": 8449, \"safe\": false}, {\"symboling\": 2, \"normalized_losses\": 134, \"make\": \"toyota\", \"fuel_type\": \"gas\", \"aspiration\": \"std\", \"num_of_doors\": \"two\", \"body_style\": \"hardtop\", \"drive_wheels\": \"rwd\", \"engine_location\": \"front\", \"wheel_base\": 98.4, \"length\": 176.2, \"width\": 65.6, \"height\": 52.0, \"curb_weight\": 2536, \"engine_type\": \"ohc\", \"num_of_cylinders\": \"four\", \"engine_size\": 146, \"fuel_system\": \"mpfi\", \"bore\": 3.62, \"stroke\": 3.5, \"compression_ratio\": 9.3, \"horsepower\": 116, \"peak_rpm\": 4800, \"city_mpg\": 24, \"highway_mpg\": 30, \"price\": 9639, \"safe\": false}, {\"symboling\": 2, \"normalized_losses\": 134, \"make\": \"toyota\", \"fuel_type\": \"gas\", \"aspiration\": \"std\", \"num_of_doors\": \"two\", \"body_style\": \"hatchback\", \"drive_wheels\": \"rwd\", \"engine_location\": \"front\", \"wheel_base\": 98.4, \"length\": 176.2, \"width\": 65.6, \"height\": 52.0, \"curb_weight\": 2551, \"engine_type\": \"ohc\", \"num_of_cylinders\": \"four\", \"engine_size\": 146, \"fuel_system\": \"mpfi\", \"bore\": 3.62, \"stroke\": 3.5, \"compression_ratio\": 9.3, \"horsepower\": 116, \"peak_rpm\": 4800, \"city_mpg\": 24, \"highway_mpg\": 30, \"price\": 9989, \"safe\": false}, {\"symboling\": 2, \"normalized_losses\": 134, \"make\": \"toyota\", \"fuel_type\": \"gas\", \"aspiration\": \"std\", \"num_of_doors\": \"two\", \"body_style\": \"hardtop\", \"drive_wheels\": \"rwd\", \"engine_location\": \"front\", \"wheel_base\": 98.4, \"length\": 176.2, \"width\": 65.6, \"height\": 52.0, \"curb_weight\": 2679, \"engine_type\": \"ohc\", \"num_of_cylinders\": \"four\", \"engine_size\": 146, \"fuel_system\": \"mpfi\", \"bore\": 3.62, \"stroke\": 3.5, \"compression_ratio\": 9.3, \"horsepower\": 116, \"peak_rpm\": 4800, \"city_mpg\": 24, \"highway_mpg\": 30, \"price\": 11199, \"safe\": false}, {\"symboling\": 2, \"normalized_losses\": 134, \"make\": \"toyota\", \"fuel_type\": \"gas\", \"aspiration\": \"std\", \"num_of_doors\": \"two\", \"body_style\": \"hatchback\", \"drive_wheels\": \"rwd\", \"engine_location\": \"front\", \"wheel_base\": 98.4, \"length\": 176.2, \"width\": 65.6, \"height\": 52.0, \"curb_weight\": 2714, \"engine_type\": \"ohc\", \"num_of_cylinders\": \"four\", \"engine_size\": 146, \"fuel_system\": \"mpfi\", \"bore\": 3.62, \"stroke\": 3.5, \"compression_ratio\": 9.3, \"horsepower\": 116, \"peak_rpm\": 4800, \"city_mpg\": 24, \"highway_mpg\": 30, \"price\": 11549, \"safe\": false}, {\"symboling\": 2, \"normalized_losses\": 134, \"make\": \"toyota\", \"fuel_type\": \"gas\", \"aspiration\": \"std\", \"num_of_doors\": \"two\", \"body_style\": \"convertible\", \"drive_wheels\": \"rwd\", \"engine_location\": \"front\", \"wheel_base\": 98.4, \"length\": 176.2, \"width\": 65.6, \"height\": 53.0, \"curb_weight\": 2975, \"engine_type\": \"ohc\", \"num_of_cylinders\": \"four\", \"engine_size\": 146, \"fuel_system\": \"mpfi\", \"bore\": 3.62, \"stroke\": 3.5, \"compression_ratio\": 9.3, \"horsepower\": 116, \"peak_rpm\": 4800, \"city_mpg\": 24, \"highway_mpg\": 30, \"price\": 17669, \"safe\": false}, {\"symboling\": -1, \"normalized_losses\": 65, \"make\": \"toyota\", \"fuel_type\": \"gas\", \"aspiration\": \"std\", \"num_of_doors\": \"four\", \"body_style\": \"sedan\", \"drive_wheels\": \"fwd\", \"engine_location\": \"front\", \"wheel_base\": 102.4, \"length\": 175.6, \"width\": 66.5, \"height\": 54.9, \"curb_weight\": 2326, \"engine_type\": \"ohc\", \"num_of_cylinders\": \"four\", \"engine_size\": 122, \"fuel_system\": \"mpfi\", \"bore\": 3.31, \"stroke\": 3.54, \"compression_ratio\": 8.7, \"horsepower\": 92, \"peak_rpm\": 4200, \"city_mpg\": 29, \"highway_mpg\": 34, \"price\": 8948, \"safe\": true}, {\"symboling\": -1, \"normalized_losses\": 65, \"make\": \"toyota\", \"fuel_type\": \"diesel\", \"aspiration\": \"turbo\", \"num_of_doors\": \"four\", \"body_style\": \"sedan\", \"drive_wheels\": \"fwd\", \"engine_location\": \"front\", \"wheel_base\": 102.4, \"length\": 175.6, \"width\": 66.5, \"height\": 54.9, \"curb_weight\": 2480, \"engine_type\": \"ohc\", \"num_of_cylinders\": \"four\", \"engine_size\": 110, \"fuel_system\": \"idi\", \"bore\": 3.27, \"stroke\": 3.35, \"compression_ratio\": 22.5, \"horsepower\": 73, \"peak_rpm\": 4500, \"city_mpg\": 30, \"highway_mpg\": 33, \"price\": 10698, \"safe\": true}, {\"symboling\": -1, \"normalized_losses\": 65, \"make\": \"toyota\", \"fuel_type\": \"gas\", \"aspiration\": \"std\", \"num_of_doors\": \"four\", \"body_style\": \"hatchback\", \"drive_wheels\": \"fwd\", \"engine_location\": \"front\", \"wheel_base\": 102.4, \"length\": 175.6, \"width\": 66.5, \"height\": 53.9, \"curb_weight\": 2414, \"engine_type\": \"ohc\", \"num_of_cylinders\": \"four\", \"engine_size\": 122, \"fuel_system\": \"mpfi\", \"bore\": 3.31, \"stroke\": 3.54, \"compression_ratio\": 8.7, \"horsepower\": 92, \"peak_rpm\": 4200, \"city_mpg\": 27, \"highway_mpg\": 32, \"price\": 9988, \"safe\": true}, {\"symboling\": -1, \"normalized_losses\": 65, \"make\": \"toyota\", \"fuel_type\": \"gas\", \"aspiration\": \"std\", \"num_of_doors\": \"four\", \"body_style\": \"sedan\", \"drive_wheels\": \"fwd\", \"engine_location\": \"front\", \"wheel_base\": 102.4, \"length\": 175.6, \"width\": 66.5, \"height\": 54.9, \"curb_weight\": 2414, \"engine_type\": \"ohc\", \"num_of_cylinders\": \"four\", \"engine_size\": 122, \"fuel_system\": \"mpfi\", \"bore\": 3.31, \"stroke\": 3.54, \"compression_ratio\": 8.7, \"horsepower\": 92, \"peak_rpm\": 4200, \"city_mpg\": 27, \"highway_mpg\": 32, \"price\": 10898, \"safe\": true}, {\"symboling\": -1, \"normalized_losses\": 65, \"make\": \"toyota\", \"fuel_type\": \"gas\", \"aspiration\": \"std\", \"num_of_doors\": \"four\", \"body_style\": \"hatchback\", \"drive_wheels\": \"fwd\", \"engine_location\": \"front\", \"wheel_base\": 102.4, \"length\": 175.6, \"width\": 66.5, \"height\": 53.9, \"curb_weight\": 2458, \"engine_type\": \"ohc\", \"num_of_cylinders\": \"four\", \"engine_size\": 122, \"fuel_system\": \"mpfi\", \"bore\": 3.31, \"stroke\": 3.54, \"compression_ratio\": 8.7, \"horsepower\": 92, \"peak_rpm\": 4200, \"city_mpg\": 27, \"highway_mpg\": 32, \"price\": 11248, \"safe\": true}, {\"symboling\": 3, \"normalized_losses\": 197, \"make\": \"toyota\", \"fuel_type\": \"gas\", \"aspiration\": \"std\", \"num_of_doors\": \"two\", \"body_style\": \"hatchback\", \"drive_wheels\": \"rwd\", \"engine_location\": \"front\", \"wheel_base\": 102.9, \"length\": 183.5, \"width\": 67.7, \"height\": 52.0, \"curb_weight\": 2976, \"engine_type\": \"dohc\", \"num_of_cylinders\": \"six\", \"engine_size\": 171, \"fuel_system\": \"mpfi\", \"bore\": 3.27, \"stroke\": 3.35, \"compression_ratio\": 9.3, \"horsepower\": 161, \"peak_rpm\": 5200, \"city_mpg\": 20, \"highway_mpg\": 24, \"price\": 16558, \"safe\": false}, {\"symboling\": 3, \"normalized_losses\": 197, \"make\": \"toyota\", \"fuel_type\": \"gas\", \"aspiration\": \"std\", \"num_of_doors\": \"two\", \"body_style\": \"hatchback\", \"drive_wheels\": \"rwd\", \"engine_location\": \"front\", \"wheel_base\": 102.9, \"length\": 183.5, \"width\": 67.7, \"height\": 52.0, \"curb_weight\": 3016, \"engine_type\": \"dohc\", \"num_of_cylinders\": \"six\", \"engine_size\": 171, \"fuel_system\": \"mpfi\", \"bore\": 3.27, \"stroke\": 3.35, \"compression_ratio\": 9.3, \"horsepower\": 161, \"peak_rpm\": 5200, \"city_mpg\": 19, \"highway_mpg\": 24, \"price\": 15998, \"safe\": false}, {\"symboling\": -1, \"normalized_losses\": 90, \"make\": \"toyota\", \"fuel_type\": \"gas\", \"aspiration\": \"std\", \"num_of_doors\": \"four\", \"body_style\": \"sedan\", \"drive_wheels\": \"rwd\", \"engine_location\": \"front\", \"wheel_base\": 104.5, \"length\": 187.8, \"width\": 66.5, \"height\": 54.1, \"curb_weight\": 3131, \"engine_type\": \"dohc\", \"num_of_cylinders\": \"six\", \"engine_size\": 171, \"fuel_system\": \"mpfi\", \"bore\": 3.27, \"stroke\": 3.35, \"compression_ratio\": 9.2, \"horsepower\": 156, \"peak_rpm\": 5200, \"city_mpg\": 20, \"highway_mpg\": 24, \"price\": 15690, \"safe\": true}, {\"symboling\": 2, \"normalized_losses\": 122, \"make\": \"volkswagen\", \"fuel_type\": \"diesel\", \"aspiration\": \"std\", \"num_of_doors\": \"two\", \"body_style\": \"sedan\", \"drive_wheels\": \"fwd\", \"engine_location\": \"front\", \"wheel_base\": 97.3, \"length\": 171.7, \"width\": 65.5, \"height\": 55.7, \"curb_weight\": 2261, \"engine_type\": \"ohc\", \"num_of_cylinders\": \"four\", \"engine_size\": 97, \"fuel_system\": \"idi\", \"bore\": 3.01, \"stroke\": 3.4, \"compression_ratio\": 23.0, \"horsepower\": 52, \"peak_rpm\": 4800, \"city_mpg\": 37, \"highway_mpg\": 46, \"price\": 7775, \"safe\": false}, {\"symboling\": 2, \"normalized_losses\": 122, \"make\": \"volkswagen\", \"fuel_type\": \"gas\", \"aspiration\": \"std\", \"num_of_doors\": \"two\", \"body_style\": \"sedan\", \"drive_wheels\": \"fwd\", \"engine_location\": \"front\", \"wheel_base\": 97.3, \"length\": 171.7, \"width\": 65.5, \"height\": 55.7, \"curb_weight\": 2209, \"engine_type\": \"ohc\", \"num_of_cylinders\": \"four\", \"engine_size\": 109, \"fuel_system\": \"mpfi\", \"bore\": 3.19, \"stroke\": 3.4, \"compression_ratio\": 9.0, \"horsepower\": 85, \"peak_rpm\": 5250, \"city_mpg\": 27, \"highway_mpg\": 34, \"price\": 7975, \"safe\": false}, {\"symboling\": 2, \"normalized_losses\": 94, \"make\": \"volkswagen\", \"fuel_type\": \"diesel\", \"aspiration\": \"std\", \"num_of_doors\": \"four\", \"body_style\": \"sedan\", \"drive_wheels\": \"fwd\", \"engine_location\": \"front\", \"wheel_base\": 97.3, \"length\": 171.7, \"width\": 65.5, \"height\": 55.7, \"curb_weight\": 2264, \"engine_type\": \"ohc\", \"num_of_cylinders\": \"four\", \"engine_size\": 97, \"fuel_system\": \"idi\", \"bore\": 3.01, \"stroke\": 3.4, \"compression_ratio\": 23.0, \"horsepower\": 52, \"peak_rpm\": 4800, \"city_mpg\": 37, \"highway_mpg\": 46, \"price\": 7995, \"safe\": false}, {\"symboling\": 2, \"normalized_losses\": 94, \"make\": \"volkswagen\", \"fuel_type\": \"gas\", \"aspiration\": \"std\", \"num_of_doors\": \"four\", \"body_style\": \"sedan\", \"drive_wheels\": \"fwd\", \"engine_location\": \"front\", \"wheel_base\": 97.3, \"length\": 171.7, \"width\": 65.5, \"height\": 55.7, \"curb_weight\": 2212, \"engine_type\": \"ohc\", \"num_of_cylinders\": \"four\", \"engine_size\": 109, \"fuel_system\": \"mpfi\", \"bore\": 3.19, \"stroke\": 3.4, \"compression_ratio\": 9.0, \"horsepower\": 85, \"peak_rpm\": 5250, \"city_mpg\": 27, \"highway_mpg\": 34, \"price\": 8195, \"safe\": false}, {\"symboling\": 2, \"normalized_losses\": 94, \"make\": \"volkswagen\", \"fuel_type\": \"gas\", \"aspiration\": \"std\", \"num_of_doors\": \"four\", \"body_style\": \"sedan\", \"drive_wheels\": \"fwd\", \"engine_location\": \"front\", \"wheel_base\": 97.3, \"length\": 171.7, \"width\": 65.5, \"height\": 55.7, \"curb_weight\": 2275, \"engine_type\": \"ohc\", \"num_of_cylinders\": \"four\", \"engine_size\": 109, \"fuel_system\": \"mpfi\", \"bore\": 3.19, \"stroke\": 3.4, \"compression_ratio\": 9.0, \"horsepower\": 85, \"peak_rpm\": 5250, \"city_mpg\": 27, \"highway_mpg\": 34, \"price\": 8495, \"safe\": false}, {\"symboling\": 2, \"normalized_losses\": 94, \"make\": \"volkswagen\", \"fuel_type\": \"diesel\", \"aspiration\": \"turbo\", \"num_of_doors\": \"four\", \"body_style\": \"sedan\", \"drive_wheels\": \"fwd\", \"engine_location\": \"front\", \"wheel_base\": 97.3, \"length\": 171.7, \"width\": 65.5, \"height\": 55.7, \"curb_weight\": 2319, \"engine_type\": \"ohc\", \"num_of_cylinders\": \"four\", \"engine_size\": 97, \"fuel_system\": \"idi\", \"bore\": 3.01, \"stroke\": 3.4, \"compression_ratio\": 23.0, \"horsepower\": 68, \"peak_rpm\": 4500, \"city_mpg\": 37, \"highway_mpg\": 42, \"price\": 9495, \"safe\": false}, {\"symboling\": 2, \"normalized_losses\": 94, \"make\": \"volkswagen\", \"fuel_type\": \"gas\", \"aspiration\": \"std\", \"num_of_doors\": \"four\", \"body_style\": \"sedan\", \"drive_wheels\": \"fwd\", \"engine_location\": \"front\", \"wheel_base\": 97.3, \"length\": 171.7, \"width\": 65.5, \"height\": 55.7, \"curb_weight\": 2300, \"engine_type\": \"ohc\", \"num_of_cylinders\": \"four\", \"engine_size\": 109, \"fuel_system\": \"mpfi\", \"bore\": 3.19, \"stroke\": 3.4, \"compression_ratio\": 10.0, \"horsepower\": 100, \"peak_rpm\": 5500, \"city_mpg\": 26, \"highway_mpg\": 32, \"price\": 9995, \"safe\": false}, {\"symboling\": 3, \"normalized_losses\": 256, \"make\": \"volkswagen\", \"fuel_type\": \"gas\", \"aspiration\": \"std\", \"num_of_doors\": \"two\", \"body_style\": \"hatchback\", \"drive_wheels\": \"fwd\", \"engine_location\": \"front\", \"wheel_base\": 94.5, \"length\": 165.7, \"width\": 64.0, \"height\": 51.4, \"curb_weight\": 2221, \"engine_type\": \"ohc\", \"num_of_cylinders\": \"four\", \"engine_size\": 109, \"fuel_system\": \"mpfi\", \"bore\": 3.19, \"stroke\": 3.4, \"compression_ratio\": 8.5, \"horsepower\": 90, \"peak_rpm\": 5500, \"city_mpg\": 24, \"highway_mpg\": 29, \"price\": 9980, \"safe\": false}, {\"symboling\": -2, \"normalized_losses\": 103, \"make\": \"volvo\", \"fuel_type\": \"gas\", \"aspiration\": \"std\", \"num_of_doors\": \"four\", \"body_style\": \"sedan\", \"drive_wheels\": \"rwd\", \"engine_location\": \"front\", \"wheel_base\": 104.3, \"length\": 188.8, \"width\": 67.2, \"height\": 56.2, \"curb_weight\": 2912, \"engine_type\": \"ohc\", \"num_of_cylinders\": \"four\", \"engine_size\": 141, \"fuel_system\": \"mpfi\", \"bore\": 3.78, \"stroke\": 3.15, \"compression_ratio\": 9.5, \"horsepower\": 114, \"peak_rpm\": 5400, \"city_mpg\": 23, \"highway_mpg\": 28, \"price\": 12940, \"safe\": true}, {\"symboling\": -1, \"normalized_losses\": 74, \"make\": \"volvo\", \"fuel_type\": \"gas\", \"aspiration\": \"std\", \"num_of_doors\": \"four\", \"body_style\": \"wagon\", \"drive_wheels\": \"rwd\", \"engine_location\": \"front\", \"wheel_base\": 104.3, \"length\": 188.8, \"width\": 67.2, \"height\": 57.5, \"curb_weight\": 3034, \"engine_type\": \"ohc\", \"num_of_cylinders\": \"four\", \"engine_size\": 141, \"fuel_system\": \"mpfi\", \"bore\": 3.78, \"stroke\": 3.15, \"compression_ratio\": 9.5, \"horsepower\": 114, \"peak_rpm\": 5400, \"city_mpg\": 23, \"highway_mpg\": 28, \"price\": 13415, \"safe\": true}, {\"symboling\": -2, \"normalized_losses\": 103, \"make\": \"volvo\", \"fuel_type\": \"gas\", \"aspiration\": \"std\", \"num_of_doors\": \"four\", \"body_style\": \"sedan\", \"drive_wheels\": \"rwd\", \"engine_location\": \"front\", \"wheel_base\": 104.3, \"length\": 188.8, \"width\": 67.2, \"height\": 56.2, \"curb_weight\": 2935, \"engine_type\": \"ohc\", \"num_of_cylinders\": \"four\", \"engine_size\": 141, \"fuel_system\": \"mpfi\", \"bore\": 3.78, \"stroke\": 3.15, \"compression_ratio\": 9.5, \"horsepower\": 114, \"peak_rpm\": 5400, \"city_mpg\": 24, \"highway_mpg\": 28, \"price\": 15985, \"safe\": true}, {\"symboling\": -1, \"normalized_losses\": 74, \"make\": \"volvo\", \"fuel_type\": \"gas\", \"aspiration\": \"std\", \"num_of_doors\": \"four\", \"body_style\": \"wagon\", \"drive_wheels\": \"rwd\", \"engine_location\": \"front\", \"wheel_base\": 104.3, \"length\": 188.8, \"width\": 67.2, \"height\": 57.5, \"curb_weight\": 3042, \"engine_type\": \"ohc\", \"num_of_cylinders\": \"four\", \"engine_size\": 141, \"fuel_system\": \"mpfi\", \"bore\": 3.78, \"stroke\": 3.15, \"compression_ratio\": 9.5, \"horsepower\": 114, \"peak_rpm\": 5400, \"city_mpg\": 24, \"highway_mpg\": 28, \"price\": 16515, \"safe\": true}, {\"symboling\": -2, \"normalized_losses\": 103, \"make\": \"volvo\", \"fuel_type\": \"gas\", \"aspiration\": \"turbo\", \"num_of_doors\": \"four\", \"body_style\": \"sedan\", \"drive_wheels\": \"rwd\", \"engine_location\": \"front\", \"wheel_base\": 104.3, \"length\": 188.8, \"width\": 67.2, \"height\": 56.2, \"curb_weight\": 3045, \"engine_type\": \"ohc\", \"num_of_cylinders\": \"four\", \"engine_size\": 130, \"fuel_system\": \"mpfi\", \"bore\": 3.62, \"stroke\": 3.15, \"compression_ratio\": 7.5, \"horsepower\": 162, \"peak_rpm\": 5100, \"city_mpg\": 17, \"highway_mpg\": 22, \"price\": 18420, \"safe\": true}, {\"symboling\": -1, \"normalized_losses\": 74, \"make\": \"volvo\", \"fuel_type\": \"gas\", \"aspiration\": \"turbo\", \"num_of_doors\": \"four\", \"body_style\": \"wagon\", \"drive_wheels\": \"rwd\", \"engine_location\": \"front\", \"wheel_base\": 104.3, \"length\": 188.8, \"width\": 67.2, \"height\": 57.5, \"curb_weight\": 3157, \"engine_type\": \"ohc\", \"num_of_cylinders\": \"four\", \"engine_size\": 130, \"fuel_system\": \"mpfi\", \"bore\": 3.62, \"stroke\": 3.15, \"compression_ratio\": 7.5, \"horsepower\": 162, \"peak_rpm\": 5100, \"city_mpg\": 17, \"highway_mpg\": 22, \"price\": 18950, \"safe\": true}, {\"symboling\": -1, \"normalized_losses\": 95, \"make\": \"volvo\", \"fuel_type\": \"gas\", \"aspiration\": \"std\", \"num_of_doors\": \"four\", \"body_style\": \"sedan\", \"drive_wheels\": \"rwd\", \"engine_location\": \"front\", \"wheel_base\": 109.1, \"length\": 188.8, \"width\": 68.9, \"height\": 55.5, \"curb_weight\": 2952, \"engine_type\": \"ohc\", \"num_of_cylinders\": \"four\", \"engine_size\": 141, \"fuel_system\": \"mpfi\", \"bore\": 3.78, \"stroke\": 3.15, \"compression_ratio\": 9.5, \"horsepower\": 114, \"peak_rpm\": 5400, \"city_mpg\": 23, \"highway_mpg\": 28, \"price\": 16845, \"safe\": true}, {\"symboling\": -1, \"normalized_losses\": 95, \"make\": \"volvo\", \"fuel_type\": \"gas\", \"aspiration\": \"turbo\", \"num_of_doors\": \"four\", \"body_style\": \"sedan\", \"drive_wheels\": \"rwd\", \"engine_location\": \"front\", \"wheel_base\": 109.1, \"length\": 188.8, \"width\": 68.8, \"height\": 55.5, \"curb_weight\": 3049, \"engine_type\": \"ohc\", \"num_of_cylinders\": \"four\", \"engine_size\": 141, \"fuel_system\": \"mpfi\", \"bore\": 3.78, \"stroke\": 3.15, \"compression_ratio\": 8.7, \"horsepower\": 160, \"peak_rpm\": 5300, \"city_mpg\": 19, \"highway_mpg\": 25, \"price\": 19045, \"safe\": true}, {\"symboling\": -1, \"normalized_losses\": 95, \"make\": \"volvo\", \"fuel_type\": \"gas\", \"aspiration\": \"std\", \"num_of_doors\": \"four\", \"body_style\": \"sedan\", \"drive_wheels\": \"rwd\", \"engine_location\": \"front\", \"wheel_base\": 109.1, \"length\": 188.8, \"width\": 68.9, \"height\": 55.5, \"curb_weight\": 3012, \"engine_type\": \"ohcv\", \"num_of_cylinders\": \"six\", \"engine_size\": 173, \"fuel_system\": \"mpfi\", \"bore\": 3.58, \"stroke\": 2.87, \"compression_ratio\": 8.8, \"horsepower\": 134, \"peak_rpm\": 5500, \"city_mpg\": 18, \"highway_mpg\": 23, \"price\": 21485, \"safe\": true}, {\"symboling\": -1, \"normalized_losses\": 95, \"make\": \"volvo\", \"fuel_type\": \"diesel\", \"aspiration\": \"turbo\", \"num_of_doors\": \"four\", \"body_style\": \"sedan\", \"drive_wheels\": \"rwd\", \"engine_location\": \"front\", \"wheel_base\": 109.1, \"length\": 188.8, \"width\": 68.9, \"height\": 55.5, \"curb_weight\": 3217, \"engine_type\": \"ohc\", \"num_of_cylinders\": \"six\", \"engine_size\": 145, \"fuel_system\": \"idi\", \"bore\": 3.01, \"stroke\": 3.4, \"compression_ratio\": 23.0, \"horsepower\": 106, \"peak_rpm\": 4800, \"city_mpg\": 26, \"highway_mpg\": 27, \"price\": 22470, \"safe\": true}, {\"symboling\": -1, \"normalized_losses\": 95, \"make\": \"volvo\", \"fuel_type\": \"gas\", \"aspiration\": \"turbo\", \"num_of_doors\": \"four\", \"body_style\": \"sedan\", \"drive_wheels\": \"rwd\", \"engine_location\": \"front\", \"wheel_base\": 109.1, \"length\": 188.8, \"width\": 68.9, \"height\": 55.5, \"curb_weight\": 3062, \"engine_type\": \"ohc\", \"num_of_cylinders\": \"four\", \"engine_size\": 141, \"fuel_system\": \"mpfi\", \"bore\": 3.78, \"stroke\": 3.15, \"compression_ratio\": 9.5, \"horsepower\": 114, \"peak_rpm\": 5400, \"city_mpg\": 19, \"highway_mpg\": 25, \"price\": 22625, \"safe\": true}]}};\n",
       "      var embedOpt = {\"mode\": \"vega-lite\"};\n",
       "\n",
       "      function showError(el, error){\n",
       "          el.innerHTML = ('<div class=\"error\" style=\"color:red;\">'\n",
       "                          + '<p>JavaScript Error: ' + error.message + '</p>'\n",
       "                          + \"<p>This usually means there's a typo in your chart specification. \"\n",
       "                          + \"See the javascript console for the full traceback.</p>\"\n",
       "                          + '</div>');\n",
       "          throw error;\n",
       "      }\n",
       "      const el = document.getElementById('altair-viz');\n",
       "      vegaEmbed(\"#altair-viz\", spec, embedOpt)\n",
       "        .catch(error => showError(el, error));\n",
       "    })(vegaEmbed);\n",
       "\n",
       "  </script>\n",
       "</body>\n",
       "</html>"
      ],
      "text/plain": [
       "alt.HConcatChart(...)"
      ]
     },
     "execution_count": 17,
     "metadata": {
      "tags": []
     },
     "output_type": "execute_result"
    }
   ],
   "source": [
    "interval = alt.selection_interval()\n",
    "\n",
    "base = alt.Chart(data).mark_point().encode(\n",
    "         y = 'price',\n",
    "         color = alt.condition(interval, 'fuel_system',\n",
    "                               alt.value('lightgray'))).properties(selection=interval)\n",
    "\n",
    "base.encode(x = 'city_mpg') | base.encode(x = 'horsepower')"
   ]
  },
  {
   "cell_type": "markdown",
   "metadata": {},
   "source": [
    "#### dropping variables"
   ]
  },
  {
   "cell_type": "code",
   "execution_count": 18,
   "metadata": {
    "colab": {
     "base_uri": "https://localhost:8080/",
     "height": 224
    },
    "colab_type": "code",
    "executionInfo": {
     "elapsed": 1035,
     "status": "ok",
     "timestamp": 1569485561488,
     "user": {
      "displayName": "Spikey Engineer",
      "photoUrl": "",
      "userId": "00295138978233683076"
     },
     "user_tz": -330
    },
    "id": "r3AQhaa1m2V5",
    "outputId": "8fadbcf6-42e1-426a-aded-d0f9f3606c9b"
   },
   "outputs": [
    {
     "data": {
      "text/html": [
       "<div>\n",
       "<style scoped>\n",
       "    .dataframe tbody tr th:only-of-type {\n",
       "        vertical-align: middle;\n",
       "    }\n",
       "\n",
       "    .dataframe tbody tr th {\n",
       "        vertical-align: top;\n",
       "    }\n",
       "\n",
       "    .dataframe thead th {\n",
       "        text-align: right;\n",
       "    }\n",
       "</style>\n",
       "<table border=\"1\" class=\"dataframe\">\n",
       "  <thead>\n",
       "    <tr style=\"text-align: right;\">\n",
       "      <th></th>\n",
       "      <th>symboling</th>\n",
       "      <th>make</th>\n",
       "      <th>fuel_type</th>\n",
       "      <th>aspiration</th>\n",
       "      <th>body_style</th>\n",
       "      <th>drive_wheels</th>\n",
       "      <th>wheel_base</th>\n",
       "      <th>length</th>\n",
       "      <th>width</th>\n",
       "      <th>curb_weight</th>\n",
       "      <th>engine_type</th>\n",
       "      <th>num_of_cylinders</th>\n",
       "      <th>engine_size</th>\n",
       "      <th>fuel_system</th>\n",
       "      <th>bore</th>\n",
       "      <th>horsepower</th>\n",
       "      <th>peak_rpm</th>\n",
       "      <th>highway_mpg</th>\n",
       "      <th>price</th>\n",
       "    </tr>\n",
       "  </thead>\n",
       "  <tbody>\n",
       "    <tr>\n",
       "      <th>0</th>\n",
       "      <td>2</td>\n",
       "      <td>audi</td>\n",
       "      <td>gas</td>\n",
       "      <td>std</td>\n",
       "      <td>sedan</td>\n",
       "      <td>fwd</td>\n",
       "      <td>99.8</td>\n",
       "      <td>176.6</td>\n",
       "      <td>66.2</td>\n",
       "      <td>2337</td>\n",
       "      <td>ohc</td>\n",
       "      <td>four</td>\n",
       "      <td>109</td>\n",
       "      <td>mpfi</td>\n",
       "      <td>3.19</td>\n",
       "      <td>102</td>\n",
       "      <td>5500</td>\n",
       "      <td>30</td>\n",
       "      <td>13950</td>\n",
       "    </tr>\n",
       "    <tr>\n",
       "      <th>1</th>\n",
       "      <td>2</td>\n",
       "      <td>audi</td>\n",
       "      <td>gas</td>\n",
       "      <td>std</td>\n",
       "      <td>sedan</td>\n",
       "      <td>4wd</td>\n",
       "      <td>99.4</td>\n",
       "      <td>176.6</td>\n",
       "      <td>66.4</td>\n",
       "      <td>2824</td>\n",
       "      <td>ohc</td>\n",
       "      <td>five</td>\n",
       "      <td>136</td>\n",
       "      <td>mpfi</td>\n",
       "      <td>3.19</td>\n",
       "      <td>115</td>\n",
       "      <td>5500</td>\n",
       "      <td>22</td>\n",
       "      <td>17450</td>\n",
       "    </tr>\n",
       "    <tr>\n",
       "      <th>2</th>\n",
       "      <td>1</td>\n",
       "      <td>audi</td>\n",
       "      <td>gas</td>\n",
       "      <td>std</td>\n",
       "      <td>sedan</td>\n",
       "      <td>fwd</td>\n",
       "      <td>105.8</td>\n",
       "      <td>192.7</td>\n",
       "      <td>71.4</td>\n",
       "      <td>2844</td>\n",
       "      <td>ohc</td>\n",
       "      <td>five</td>\n",
       "      <td>136</td>\n",
       "      <td>mpfi</td>\n",
       "      <td>3.19</td>\n",
       "      <td>110</td>\n",
       "      <td>5500</td>\n",
       "      <td>25</td>\n",
       "      <td>17710</td>\n",
       "    </tr>\n",
       "    <tr>\n",
       "      <th>3</th>\n",
       "      <td>1</td>\n",
       "      <td>audi</td>\n",
       "      <td>gas</td>\n",
       "      <td>turbo</td>\n",
       "      <td>sedan</td>\n",
       "      <td>fwd</td>\n",
       "      <td>105.8</td>\n",
       "      <td>192.7</td>\n",
       "      <td>71.4</td>\n",
       "      <td>3086</td>\n",
       "      <td>ohc</td>\n",
       "      <td>five</td>\n",
       "      <td>131</td>\n",
       "      <td>mpfi</td>\n",
       "      <td>3.13</td>\n",
       "      <td>140</td>\n",
       "      <td>5500</td>\n",
       "      <td>20</td>\n",
       "      <td>23875</td>\n",
       "    </tr>\n",
       "    <tr>\n",
       "      <th>4</th>\n",
       "      <td>2</td>\n",
       "      <td>bmw</td>\n",
       "      <td>gas</td>\n",
       "      <td>std</td>\n",
       "      <td>sedan</td>\n",
       "      <td>rwd</td>\n",
       "      <td>101.2</td>\n",
       "      <td>176.8</td>\n",
       "      <td>64.8</td>\n",
       "      <td>2395</td>\n",
       "      <td>ohc</td>\n",
       "      <td>four</td>\n",
       "      <td>108</td>\n",
       "      <td>mpfi</td>\n",
       "      <td>3.50</td>\n",
       "      <td>101</td>\n",
       "      <td>5800</td>\n",
       "      <td>29</td>\n",
       "      <td>16430</td>\n",
       "    </tr>\n",
       "  </tbody>\n",
       "</table>\n",
       "</div>"
      ],
      "text/plain": [
       "   symboling  make fuel_type  ... peak_rpm highway_mpg  price\n",
       "0          2  audi       gas  ...     5500          30  13950\n",
       "1          2  audi       gas  ...     5500          22  17450\n",
       "2          1  audi       gas  ...     5500          25  17710\n",
       "3          1  audi       gas  ...     5500          20  23875\n",
       "4          2   bmw       gas  ...     5800          29  16430\n",
       "\n",
       "[5 rows x 19 columns]"
      ]
     },
     "execution_count": 18,
     "metadata": {
      "tags": []
     },
     "output_type": "execute_result"
    }
   ],
   "source": [
    "data = data.drop(['height', 'stroke', 'compression_ratio',\n",
    "                  'num_of_doors', 'normalized_losses', 'safe',\n",
    "                  'engine_location','city_mpg'], axis=1)\n",
    "data.head()\n",
    "\n"
   ]
  },
  {
   "cell_type": "markdown",
   "metadata": {},
   "source": [
    "#### one-hot encoding"
   ]
  },
  {
   "cell_type": "code",
   "execution_count": 19,
   "metadata": {
    "colab": {
     "base_uri": "https://localhost:8080/",
     "height": 241
    },
    "colab_type": "code",
    "executionInfo": {
     "elapsed": 1018,
     "status": "ok",
     "timestamp": 1569485574403,
     "user": {
      "displayName": "Spikey Engineer",
      "photoUrl": "",
      "userId": "00295138978233683076"
     },
     "user_tz": -330
    },
    "id": "09zST1Yqm2Yp",
    "outputId": "8dcdbabd-9b19-416a-c5b1-15cfc664988f"
   },
   "outputs": [
    {
     "data": {
      "text/html": [
       "<div>\n",
       "<style scoped>\n",
       "    .dataframe tbody tr th:only-of-type {\n",
       "        vertical-align: middle;\n",
       "    }\n",
       "\n",
       "    .dataframe tbody tr th {\n",
       "        vertical-align: top;\n",
       "    }\n",
       "\n",
       "    .dataframe thead th {\n",
       "        text-align: right;\n",
       "    }\n",
       "</style>\n",
       "<table border=\"1\" class=\"dataframe\">\n",
       "  <thead>\n",
       "    <tr style=\"text-align: right;\">\n",
       "      <th></th>\n",
       "      <th>symboling</th>\n",
       "      <th>wheel_base</th>\n",
       "      <th>length</th>\n",
       "      <th>width</th>\n",
       "      <th>curb_weight</th>\n",
       "      <th>engine_size</th>\n",
       "      <th>bore</th>\n",
       "      <th>horsepower</th>\n",
       "      <th>peak_rpm</th>\n",
       "      <th>highway_mpg</th>\n",
       "      <th>price</th>\n",
       "      <th>make_bmw</th>\n",
       "      <th>make_chevrolet</th>\n",
       "      <th>make_dodge</th>\n",
       "      <th>make_honda</th>\n",
       "      <th>make_jaguar</th>\n",
       "      <th>make_mazda</th>\n",
       "      <th>make_mercedes-benz</th>\n",
       "      <th>make_mitsubishi</th>\n",
       "      <th>make_nissan</th>\n",
       "      <th>make_peugot</th>\n",
       "      <th>make_plymouth</th>\n",
       "      <th>make_porsche</th>\n",
       "      <th>make_saab</th>\n",
       "      <th>make_subaru</th>\n",
       "      <th>make_toyota</th>\n",
       "      <th>make_volkswagen</th>\n",
       "      <th>make_volvo</th>\n",
       "      <th>fuel_type_gas</th>\n",
       "      <th>aspiration_turbo</th>\n",
       "      <th>body_style_hardtop</th>\n",
       "      <th>body_style_hatchback</th>\n",
       "      <th>body_style_sedan</th>\n",
       "      <th>body_style_wagon</th>\n",
       "      <th>drive_wheels_fwd</th>\n",
       "      <th>drive_wheels_rwd</th>\n",
       "      <th>engine_type_l</th>\n",
       "      <th>engine_type_ohc</th>\n",
       "      <th>engine_type_ohcf</th>\n",
       "      <th>engine_type_ohcv</th>\n",
       "      <th>num_of_cylinders_five</th>\n",
       "      <th>num_of_cylinders_four</th>\n",
       "      <th>num_of_cylinders_six</th>\n",
       "      <th>num_of_cylinders_three</th>\n",
       "      <th>fuel_system_2bbl</th>\n",
       "      <th>fuel_system_idi</th>\n",
       "      <th>fuel_system_mfi</th>\n",
       "      <th>fuel_system_mpfi</th>\n",
       "      <th>fuel_system_spdi</th>\n",
       "    </tr>\n",
       "  </thead>\n",
       "  <tbody>\n",
       "    <tr>\n",
       "      <th>0</th>\n",
       "      <td>2</td>\n",
       "      <td>99.8</td>\n",
       "      <td>176.6</td>\n",
       "      <td>66.2</td>\n",
       "      <td>2337</td>\n",
       "      <td>109</td>\n",
       "      <td>3.19</td>\n",
       "      <td>102</td>\n",
       "      <td>5500</td>\n",
       "      <td>30</td>\n",
       "      <td>13950</td>\n",
       "      <td>0</td>\n",
       "      <td>0</td>\n",
       "      <td>0</td>\n",
       "      <td>0</td>\n",
       "      <td>0</td>\n",
       "      <td>0</td>\n",
       "      <td>0</td>\n",
       "      <td>0</td>\n",
       "      <td>0</td>\n",
       "      <td>0</td>\n",
       "      <td>0</td>\n",
       "      <td>0</td>\n",
       "      <td>0</td>\n",
       "      <td>0</td>\n",
       "      <td>0</td>\n",
       "      <td>0</td>\n",
       "      <td>0</td>\n",
       "      <td>1</td>\n",
       "      <td>0</td>\n",
       "      <td>0</td>\n",
       "      <td>0</td>\n",
       "      <td>1</td>\n",
       "      <td>0</td>\n",
       "      <td>1</td>\n",
       "      <td>0</td>\n",
       "      <td>0</td>\n",
       "      <td>1</td>\n",
       "      <td>0</td>\n",
       "      <td>0</td>\n",
       "      <td>0</td>\n",
       "      <td>1</td>\n",
       "      <td>0</td>\n",
       "      <td>0</td>\n",
       "      <td>0</td>\n",
       "      <td>0</td>\n",
       "      <td>0</td>\n",
       "      <td>1</td>\n",
       "      <td>0</td>\n",
       "    </tr>\n",
       "    <tr>\n",
       "      <th>1</th>\n",
       "      <td>2</td>\n",
       "      <td>99.4</td>\n",
       "      <td>176.6</td>\n",
       "      <td>66.4</td>\n",
       "      <td>2824</td>\n",
       "      <td>136</td>\n",
       "      <td>3.19</td>\n",
       "      <td>115</td>\n",
       "      <td>5500</td>\n",
       "      <td>22</td>\n",
       "      <td>17450</td>\n",
       "      <td>0</td>\n",
       "      <td>0</td>\n",
       "      <td>0</td>\n",
       "      <td>0</td>\n",
       "      <td>0</td>\n",
       "      <td>0</td>\n",
       "      <td>0</td>\n",
       "      <td>0</td>\n",
       "      <td>0</td>\n",
       "      <td>0</td>\n",
       "      <td>0</td>\n",
       "      <td>0</td>\n",
       "      <td>0</td>\n",
       "      <td>0</td>\n",
       "      <td>0</td>\n",
       "      <td>0</td>\n",
       "      <td>0</td>\n",
       "      <td>1</td>\n",
       "      <td>0</td>\n",
       "      <td>0</td>\n",
       "      <td>0</td>\n",
       "      <td>1</td>\n",
       "      <td>0</td>\n",
       "      <td>0</td>\n",
       "      <td>0</td>\n",
       "      <td>0</td>\n",
       "      <td>1</td>\n",
       "      <td>0</td>\n",
       "      <td>0</td>\n",
       "      <td>1</td>\n",
       "      <td>0</td>\n",
       "      <td>0</td>\n",
       "      <td>0</td>\n",
       "      <td>0</td>\n",
       "      <td>0</td>\n",
       "      <td>0</td>\n",
       "      <td>1</td>\n",
       "      <td>0</td>\n",
       "    </tr>\n",
       "    <tr>\n",
       "      <th>2</th>\n",
       "      <td>1</td>\n",
       "      <td>105.8</td>\n",
       "      <td>192.7</td>\n",
       "      <td>71.4</td>\n",
       "      <td>2844</td>\n",
       "      <td>136</td>\n",
       "      <td>3.19</td>\n",
       "      <td>110</td>\n",
       "      <td>5500</td>\n",
       "      <td>25</td>\n",
       "      <td>17710</td>\n",
       "      <td>0</td>\n",
       "      <td>0</td>\n",
       "      <td>0</td>\n",
       "      <td>0</td>\n",
       "      <td>0</td>\n",
       "      <td>0</td>\n",
       "      <td>0</td>\n",
       "      <td>0</td>\n",
       "      <td>0</td>\n",
       "      <td>0</td>\n",
       "      <td>0</td>\n",
       "      <td>0</td>\n",
       "      <td>0</td>\n",
       "      <td>0</td>\n",
       "      <td>0</td>\n",
       "      <td>0</td>\n",
       "      <td>0</td>\n",
       "      <td>1</td>\n",
       "      <td>0</td>\n",
       "      <td>0</td>\n",
       "      <td>0</td>\n",
       "      <td>1</td>\n",
       "      <td>0</td>\n",
       "      <td>1</td>\n",
       "      <td>0</td>\n",
       "      <td>0</td>\n",
       "      <td>1</td>\n",
       "      <td>0</td>\n",
       "      <td>0</td>\n",
       "      <td>1</td>\n",
       "      <td>0</td>\n",
       "      <td>0</td>\n",
       "      <td>0</td>\n",
       "      <td>0</td>\n",
       "      <td>0</td>\n",
       "      <td>0</td>\n",
       "      <td>1</td>\n",
       "      <td>0</td>\n",
       "    </tr>\n",
       "    <tr>\n",
       "      <th>3</th>\n",
       "      <td>1</td>\n",
       "      <td>105.8</td>\n",
       "      <td>192.7</td>\n",
       "      <td>71.4</td>\n",
       "      <td>3086</td>\n",
       "      <td>131</td>\n",
       "      <td>3.13</td>\n",
       "      <td>140</td>\n",
       "      <td>5500</td>\n",
       "      <td>20</td>\n",
       "      <td>23875</td>\n",
       "      <td>0</td>\n",
       "      <td>0</td>\n",
       "      <td>0</td>\n",
       "      <td>0</td>\n",
       "      <td>0</td>\n",
       "      <td>0</td>\n",
       "      <td>0</td>\n",
       "      <td>0</td>\n",
       "      <td>0</td>\n",
       "      <td>0</td>\n",
       "      <td>0</td>\n",
       "      <td>0</td>\n",
       "      <td>0</td>\n",
       "      <td>0</td>\n",
       "      <td>0</td>\n",
       "      <td>0</td>\n",
       "      <td>0</td>\n",
       "      <td>1</td>\n",
       "      <td>1</td>\n",
       "      <td>0</td>\n",
       "      <td>0</td>\n",
       "      <td>1</td>\n",
       "      <td>0</td>\n",
       "      <td>1</td>\n",
       "      <td>0</td>\n",
       "      <td>0</td>\n",
       "      <td>1</td>\n",
       "      <td>0</td>\n",
       "      <td>0</td>\n",
       "      <td>1</td>\n",
       "      <td>0</td>\n",
       "      <td>0</td>\n",
       "      <td>0</td>\n",
       "      <td>0</td>\n",
       "      <td>0</td>\n",
       "      <td>0</td>\n",
       "      <td>1</td>\n",
       "      <td>0</td>\n",
       "    </tr>\n",
       "    <tr>\n",
       "      <th>4</th>\n",
       "      <td>2</td>\n",
       "      <td>101.2</td>\n",
       "      <td>176.8</td>\n",
       "      <td>64.8</td>\n",
       "      <td>2395</td>\n",
       "      <td>108</td>\n",
       "      <td>3.50</td>\n",
       "      <td>101</td>\n",
       "      <td>5800</td>\n",
       "      <td>29</td>\n",
       "      <td>16430</td>\n",
       "      <td>1</td>\n",
       "      <td>0</td>\n",
       "      <td>0</td>\n",
       "      <td>0</td>\n",
       "      <td>0</td>\n",
       "      <td>0</td>\n",
       "      <td>0</td>\n",
       "      <td>0</td>\n",
       "      <td>0</td>\n",
       "      <td>0</td>\n",
       "      <td>0</td>\n",
       "      <td>0</td>\n",
       "      <td>0</td>\n",
       "      <td>0</td>\n",
       "      <td>0</td>\n",
       "      <td>0</td>\n",
       "      <td>0</td>\n",
       "      <td>1</td>\n",
       "      <td>0</td>\n",
       "      <td>0</td>\n",
       "      <td>0</td>\n",
       "      <td>1</td>\n",
       "      <td>0</td>\n",
       "      <td>0</td>\n",
       "      <td>1</td>\n",
       "      <td>0</td>\n",
       "      <td>1</td>\n",
       "      <td>0</td>\n",
       "      <td>0</td>\n",
       "      <td>0</td>\n",
       "      <td>1</td>\n",
       "      <td>0</td>\n",
       "      <td>0</td>\n",
       "      <td>0</td>\n",
       "      <td>0</td>\n",
       "      <td>0</td>\n",
       "      <td>1</td>\n",
       "      <td>0</td>\n",
       "    </tr>\n",
       "  </tbody>\n",
       "</table>\n",
       "</div>"
      ],
      "text/plain": [
       "   symboling  wheel_base  ...  fuel_system_mpfi  fuel_system_spdi\n",
       "0          2        99.8  ...                 1                 0\n",
       "1          2        99.4  ...                 1                 0\n",
       "2          1       105.8  ...                 1                 0\n",
       "3          1       105.8  ...                 1                 0\n",
       "4          2       101.2  ...                 1                 0\n",
       "\n",
       "[5 rows x 49 columns]"
      ]
     },
     "execution_count": 19,
     "metadata": {
      "tags": []
     },
     "output_type": "execute_result"
    }
   ],
   "source": [
    "data = pd.get_dummies(data, drop_first=True)\n",
    "\n",
    "data.head()"
   ]
  },
  {
   "cell_type": "code",
   "execution_count": 0,
   "metadata": {
    "colab": {},
    "colab_type": "code",
    "id": "s7PeeXjXm2bf"
   },
   "outputs": [],
   "source": [
    "from sklearn.model_selection import train_test_split"
   ]
  },
  {
   "cell_type": "code",
   "execution_count": 0,
   "metadata": {
    "colab": {},
    "colab_type": "code",
    "id": "pvxIOjmSm2eQ"
   },
   "outputs": [],
   "source": [
    "X = data.drop('price', axis = 1)\n",
    "y = data['price']\n",
    "\n",
    "X_train, X_test, y_train, y_test = train_test_split(X, y, test_size=0.33,\n",
    "                                                    random_state=42)"
   ]
  },
  {
   "cell_type": "code",
   "execution_count": 0,
   "metadata": {
    "colab": {},
    "colab_type": "code",
    "id": "Ld130zSQm2hG"
   },
   "outputs": [],
   "source": [
    "from sklearn.linear_model import LinearRegression\n",
    "from sklearn.metrics import mean_absolute_error\n",
    "from sklearn.metrics import mean_squared_error\n",
    "from sklearn.metrics import r2_score"
   ]
  },
  {
   "cell_type": "code",
   "execution_count": 23,
   "metadata": {
    "colab": {
     "base_uri": "https://localhost:8080/",
     "height": 68
    },
    "colab_type": "code",
    "executionInfo": {
     "elapsed": 1138,
     "status": "ok",
     "timestamp": 1569485628676,
     "user": {
      "displayName": "Spikey Engineer",
      "photoUrl": "",
      "userId": "00295138978233683076"
     },
     "user_tz": -330
    },
    "id": "oGcODq_km2jr",
    "outputId": "7e52c924-a565-49c6-9149-36313f5a11e2"
   },
   "outputs": [
    {
     "name": "stdout",
     "output_type": "stream",
     "text": [
      "1330.6219075897088\n",
      "3390806.951448631\n",
      "0.874657542988818\n"
     ]
    }
   ],
   "source": [
    "model = LinearRegression()\n",
    "\n",
    "model.fit(X_train, y_train)\n",
    "\n",
    "pred = model.predict(X_test)\n",
    "\n",
    "print(mean_absolute_error(y_test, pred))\n",
    "print(mean_squared_error(y_test, pred))\n",
    "print(r2_score(y_test, pred))"
   ]
  },
  {
   "cell_type": "code",
   "execution_count": 24,
   "metadata": {
    "colab": {
     "base_uri": "https://localhost:8080/",
     "height": 504
    },
    "colab_type": "code",
    "executionInfo": {
     "elapsed": 1673,
     "status": "ok",
     "timestamp": 1569485650228,
     "user": {
      "displayName": "Spikey Engineer",
      "photoUrl": "",
      "userId": "00295138978233683076"
     },
     "user_tz": -330
    },
    "id": "0iZRQIw2m2mX",
    "outputId": "772cb014-f260-499d-ab1a-e7baad4e7a26"
   },
   "outputs": [
    {
     "data": {
      "text/plain": [
       "[<matplotlib.lines.Line2D at 0x7f64627270f0>]"
      ]
     },
     "execution_count": 24,
     "metadata": {
      "tags": []
     },
     "output_type": "execute_result"
    },
    {
     "data": {
      "image/png": "[encoded data removed]",
      "text/plain": [
       "<Figure size 720x576 with 1 Axes>"
      ]
     },
     "metadata": {
      "tags": []
     },
     "output_type": "display_data"
    }
   ],
   "source": [
    "plt.figure(figsize=(10, 8))\n",
    "\n",
    "plt.plot(y_test.values)\n",
    "plt.plot(pred)"
   ]
  },
  {
   "cell_type": "code",
   "execution_count": 0,
   "metadata": {
    "colab": {},
    "colab_type": "code",
    "id": "TXpViIzTm2pL"
   },
   "outputs": [],
   "source": []
  },
  {
   "cell_type": "code",
   "execution_count": 0,
   "metadata": {
    "colab": {},
    "colab_type": "code",
    "id": "jsFZvjbSm2r_"
   },
   "outputs": [],
   "source": []
  },
  {
   "cell_type": "code",
   "execution_count": 0,
   "metadata": {
    "colab": {},
    "colab_type": "code",
    "id": "E1ajB9Nym2u5"
   },
   "outputs": [],
   "source": []
  },
  {
   "cell_type": "code",
   "execution_count": 0,
   "metadata": {
    "colab": {},
    "colab_type": "code",
    "id": "udiN5PNQm2xg"
   },
   "outputs": [],
   "source": []
  },
  {
   "cell_type": "code",
   "execution_count": 0,
   "metadata": {
    "colab": {},
    "colab_type": "code",
    "id": "XYkOjZfSm20W"
   },
   "outputs": [],
   "source": []
  },
  {
   "cell_type": "code",
   "execution_count": 0,
   "metadata": {
    "colab": {},
    "colab_type": "code",
    "id": "VfaSoZURm23a"
   },
   "outputs": [],
   "source": []
  },
  {
   "cell_type": "code",
   "execution_count": 0,
   "metadata": {
    "colab": {},
    "colab_type": "code",
    "id": "0jKqrt6em26c"
   },
   "outputs": [],
   "source": []
  },
  {
   "cell_type": "code",
   "execution_count": 0,
   "metadata": {
    "colab": {},
    "colab_type": "code",
    "id": "gPzfOXRem29X"
   },
   "outputs": [],
   "source": []
  },
  {
   "cell_type": "code",
   "execution_count": 0,
   "metadata": {
    "colab": {},
    "colab_type": "code",
    "id": "tkoaXsp6m3AZ"
   },
   "outputs": [],
   "source": []
  },
  {
   "cell_type": "code",
   "execution_count": 0,
   "metadata": {
    "colab": {},
    "colab_type": "code",
    "id": "Ny0He1fkm3Dr"
   },
   "outputs": [],
   "source": []
  },
  {
   "cell_type": "code",
   "execution_count": 0,
   "metadata": {
    "colab": {},
    "colab_type": "code",
    "id": "Okrxv03am3G3"
   },
   "outputs": [],
   "source": []
  },
  {
   "cell_type": "code",
   "execution_count": 0,
   "metadata": {
    "colab": {},
    "colab_type": "code",
    "id": "3MUgwF3Cm3Jc"
   },
   "outputs": [],
   "source": []
  },
  {
   "cell_type": "code",
   "execution_count": 0,
   "metadata": {
    "colab": {},
    "colab_type": "code",
    "id": "HRvcZL3Sm3MW"
   },
   "outputs": [],
   "source": []
  },
  {
   "cell_type": "code",
   "execution_count": 0,
   "metadata": {
    "colab": {},
    "colab_type": "code",
    "id": "dZcF9Fnom3Pu"
   },
   "outputs": [],
   "source": []
  },
  {
   "cell_type": "code",
   "execution_count": 0,
   "metadata": {
    "colab": {},
    "colab_type": "code",
    "id": "T7r95zG0m3Sn"
   },
   "outputs": [],
   "source": []
  },
  {
   "cell_type": "code",
   "execution_count": 0,
   "metadata": {
    "colab": {},
    "colab_type": "code",
    "id": "mFOPgmkQm3V5"
   },
   "outputs": [],
   "source": []
  },
  {
   "cell_type": "code",
   "execution_count": 0,
   "metadata": {
    "colab": {},
    "colab_type": "code",
    "id": "k12-r8mBm3Yx"
   },
   "outputs": [],
   "source": []
  },
  {
   "cell_type": "code",
   "execution_count": 0,
   "metadata": {
    "colab": {},
    "colab_type": "code",
    "id": "Lt1i8ELPm3b1"
   },
   "outputs": [],
   "source": []
  },
  {
   "cell_type": "code",
   "execution_count": 0,
   "metadata": {
    "colab": {},
    "colab_type": "code",
    "id": "wKFjvRvxm3e0"
   },
   "outputs": [],
   "source": []
  },
  {
   "cell_type": "code",
   "execution_count": 0,
   "metadata": {
    "colab": {},
    "colab_type": "code",
    "id": "bqlGfPPZm3iD"
   },
   "outputs": [],
   "source": []
  },
  {
   "cell_type": "code",
   "execution_count": 0,
   "metadata": {
    "colab": {},
    "colab_type": "code",
    "id": "9KahkfB6m3k_"
   },
   "outputs": [],
   "source": []
  },
  {
   "cell_type": "code",
   "execution_count": 0,
   "metadata": {
    "colab": {},
    "colab_type": "code",
    "id": "4M08o3jzm3ol"
   },
   "outputs": [],
   "source": []
  },
  {
   "cell_type": "code",
   "execution_count": 0,
   "metadata": {
    "colab": {},
    "colab_type": "code",
    "id": "qo7r3hFLm3rk"
   },
   "outputs": [],
   "source": []
  },
  {
   "cell_type": "code",
   "execution_count": 0,
   "metadata": {
    "colab": {},
    "colab_type": "code",
    "id": "i4bA7P06m3u0"
   },
   "outputs": [],
   "source": []
  },
  {
   "cell_type": "code",
   "execution_count": 0,
   "metadata": {
    "colab": {},
    "colab_type": "code",
    "id": "JHc_1kwSm3x_"
   },
   "outputs": [],
   "source": []
  },
  {
   "cell_type": "code",
   "execution_count": 0,
   "metadata": {
    "colab": {},
    "colab_type": "code",
    "id": "-4r7jFWNm34A"
   },
   "outputs": [],
   "source": []
  },
  {
   "cell_type": "code",
   "execution_count": 0,
   "metadata": {
    "colab": {},
    "colab_type": "code",
    "id": "qTi-M78lm37M"
   },
   "outputs": [],
   "source": []
  },
  {
   "cell_type": "code",
   "execution_count": 0,
   "metadata": {
    "colab": {},
    "colab_type": "code",
    "id": "ZVES2l-7m394"
   },
   "outputs": [],
   "source": []
  },
  {
   "cell_type": "code",
   "execution_count": 0,
   "metadata": {
    "colab": {},
    "colab_type": "code",
    "id": "56xAD_mMm31B"
   },
   "outputs": [],
   "source": []
  }
 ],
 "metadata": {
  "colab": {
   "name": "WorkingWithData.ipynb",
   "provenance": []
  },
  "kernelspec": {
   "display_name": "Python 3",
   "language": "python",
   "name": "python3"
  },
  "language_info": {
   "codemirror_mode": {
    "name": "ipython",
    "version": 3
   },
   "file_extension": ".py",
   "mimetype": "text/x-python",
   "name": "python",
   "nbconvert_exporter": "python",
   "pygments_lexer": "ipython3",
   "version": "3.7.0"
  }
 },
 "nbformat": 4,
 "nbformat_minor": 1
}
