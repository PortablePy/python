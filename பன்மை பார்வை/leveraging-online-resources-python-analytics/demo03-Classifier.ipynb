{
 "cells": [
  {
   "cell_type": "code",
   "execution_count": 1,
   "metadata": {},
   "outputs": [],
   "source": [
    "import sys\n",
    "\n",
    "import pandas as pd\n",
    "import numpy as np\n",
    "\n",
    "from sklearn.model_selection import train_test_split\n",
    "\n",
    "from sklearn.linear_model import LogisticRegression\n",
    "from sklearn.tree import DecisionTreeClassifier\n",
    "\n",
    "from sklearn.metrics import classification_report"
   ]
  },
  {
   "cell_type": "code",
   "execution_count": 2,
   "metadata": {},
   "outputs": [],
   "source": [
    "def build_model(classifier_fn,                \n",
    "                features, \n",
    "                label, \n",
    "                dataset, \n",
    "                test_frac=0.2):\n",
    "    \n",
    "    X = dataset[features]\n",
    "    Y = dataset[label]\n",
    "    \n",
    "    x_train, x_test, y_train, y_test = train_test_split(X, Y, test_size=test_frac)\n",
    "       \n",
    "    model = classifier_fn(x_train, y_train)\n",
    "    \n",
    "    y_pred = model.predict(x_test)\n",
    "    \n",
    "    print(\"Features used: \", features)\n",
    "    summarize_classification(y_test, y_pred)\n",
    "    \n",
    "    return {'model':model, \n",
    "            'x_train': x_train, \n",
    "            'y_train': y_train, \n",
    "            'x_test': x_test, \n",
    "            'y_test': y_test, \n",
    "            'y_pred': y_pred}"
   ]
  },
  {
   "cell_type": "code",
   "execution_count": 3,
   "metadata": {},
   "outputs": [],
   "source": [
    "def summarize_classification(y_test, y_pred):\n",
    "\n",
    "    report = classification_report(y_test, y_pred)\n",
    "\n",
    "    print('Classification report')\n",
    "    print(\"------\" * 10)\n",
    "    print(report)"
   ]
  },
  {
   "cell_type": "code",
   "execution_count": 11,
   "metadata": {},
   "outputs": [],
   "source": [
    "def logistic_fn(x_train, y_train, penalty='l2', C=1.0, max_iter=1000):\n",
    "    \n",
    "    model = LogisticRegression(penalty=penalty, C=C,\n",
    "                               max_iter=max_iter , solver='lbfgs')\n",
    "    \n",
    "    model.fit(x_train, y_train)\n",
    "    \n",
    "    return model"
   ]
  },
  {
   "cell_type": "code",
   "execution_count": 5,
   "metadata": {},
   "outputs": [],
   "source": [
    "def decision_tree_fn(x_train, y_train, max_depth=3): \n",
    "    \n",
    "    model = DecisionTreeClassifier(max_depth=max_depth)\n",
    "    model.fit(x_train, y_train)\n",
    "    \n",
    "    return model"
   ]
  },
  {
   "cell_type": "code",
   "execution_count": 6,
   "metadata": {},
   "outputs": [],
   "source": [
    "def main():\n",
    "\n",
    "    data = pd.read_csv('./datasets/advertising_cleaned.csv')\n",
    "    features = ['TimeSpent', 'Age',\n",
    "                'AreaIncome','DailyInternetUsage', \n",
    "                'Male']\n",
    "\n",
    "    try:\n",
    "        model_type = sys.argv[1]\n",
    "        \n",
    "        if len(sys.argv) > 2:\n",
    "            features = sys.argv[2:]\n",
    "        \n",
    "    except error:\n",
    "        print(\"Classifier model not specified!\") \n",
    "        \n",
    "        \n",
    "    print(\"Running classifier: \", model_type)\n",
    "\n",
    "    if model_type == \"logistic_regression\":\n",
    "        build_model(logistic_fn,\n",
    "                    features,\n",
    "                    'Clicked',\n",
    "                    data)\n",
    "    elif model_type == \"decision_tree\":\n",
    "        build_model(decision_tree_fn,\n",
    "                    features,\n",
    "                    'Clicked',\n",
    "                    data)\n",
    "    else:\n",
    "        print(\"Invalid classifier model\")   "
   ]
  },
  {
   "cell_type": "code",
   "execution_count": 7,
   "metadata": {},
   "outputs": [
    {
     "name": "stdout",
     "output_type": "stream",
     "text": [
      "Running classifier:  -f\n",
      "Invalid classifier model\n"
     ]
    }
   ],
   "source": [
    "if __name__ == \"__main__\":\n",
    "    main()\n",
    "    "
   ]
  },
  {
   "cell_type": "markdown",
   "metadata": {},
   "source": [
    "#### remove this when you download .py file"
   ]
  },
  {
   "cell_type": "code",
   "execution_count": 8,
   "metadata": {},
   "outputs": [],
   "source": [
    "data = pd.read_csv('./datasets/advertising_cleaned.csv')"
   ]
  },
  {
   "cell_type": "code",
   "execution_count": 9,
   "metadata": {
    "scrolled": true
   },
   "outputs": [
    {
     "name": "stdout",
     "output_type": "stream",
     "text": [
      "Features used:  ['TimeSpent', 'Age', 'AreaIncome', 'DailyInternetUsage', 'Male']\n",
      "Classification report\n",
      "------------------------------------------------------------\n",
      "              precision    recall  f1-score   support\n",
      "\n",
      "           0       0.85      0.94      0.89       103\n",
      "           1       0.93      0.83      0.88        98\n",
      "\n",
      "   micro avg       0.89      0.89      0.89       201\n",
      "   macro avg       0.89      0.88      0.88       201\n",
      "weighted avg       0.89      0.89      0.89       201\n",
      "\n"
     ]
    },
    {
     "data": {
      "text/plain": [
       "{'model': LogisticRegression(C=1.0, class_weight=None, dual=False, fit_intercept=True,\n",
       "           intercept_scaling=1, max_iter=100, multi_class='warn',\n",
       "           n_jobs=None, penalty='l2', random_state=None, solver='lbfgs',\n",
       "           tol=0.0001, verbose=0, warm_start=False),\n",
       " 'x_train':      TimeSpent   Age  AreaIncome  DailyInternetUsage  Male\n",
       " 240      53.68  47.0    56180.93              115.26     1\n",
       " 575      37.05  39.0    49742.83              142.81     1\n",
       " 156      41.73  28.0    61142.33              202.18     1\n",
       " 250      61.22  45.0    63883.81              119.03     1\n",
       " 152      65.40  33.0    66699.12              247.31     0\n",
       " ..         ...   ...         ...                 ...   ...\n",
       " 494      81.59  35.0    65826.53              223.16     0\n",
       " 497      73.94  27.0    68333.01              173.49     0\n",
       " 603      50.18  35.0    63006.14              127.82     1\n",
       " 236      65.65  30.0    72209.99              158.05     0\n",
       " 583      56.16  25.0    66429.84              164.25     1\n",
       " \n",
       " [801 rows x 5 columns],\n",
       " 'y_train': 240    1\n",
       " 575    1\n",
       " 156    1\n",
       " 250    1\n",
       " 152    0\n",
       "       ..\n",
       " 494    0\n",
       " 497    0\n",
       " 603    1\n",
       " 236    0\n",
       " 583    1\n",
       " Name: Clicked, Length: 801, dtype: int64,\n",
       " 'x_test':      TimeSpent   Age  AreaIncome  DailyInternetUsage  Male\n",
       " 78       55.13  45.0    55605.92              111.71     0\n",
       " 402      87.23  29.0    51015.11              202.12     0\n",
       " 326      76.84  32.0    65883.39              231.59     0\n",
       " 909      56.91  50.0    21773.22              146.44     0\n",
       " 785      74.07  22.0    50950.24              165.43     1\n",
       " ..         ...   ...         ...                 ...   ...\n",
       " 394      71.05  20.0    49544.41              204.22     1\n",
       " 345      81.58  25.0    39699.13              199.39     0\n",
       " 288      60.53  24.0    66873.90              167.22     0\n",
       " 436      76.24  27.0    63976.44              214.42     0\n",
       " 530      53.44  42.0    42907.89              108.17     1\n",
       " \n",
       " [201 rows x 5 columns],\n",
       " 'y_test': 78     1\n",
       " 402    0\n",
       " 326    0\n",
       " 909    1\n",
       " 785    0\n",
       "       ..\n",
       " 394    0\n",
       " 345    0\n",
       " 288    1\n",
       " 436    0\n",
       " 530    1\n",
       " Name: Clicked, Length: 201, dtype: int64,\n",
       " 'y_pred': array([1, 0, 0, 1, 0, 1, 0, 1, 1, 0, 0, 0, 0, 1, 0, 1, 0, 0, 0, 0, 0, 1,\n",
       "        1, 1, 0, 0, 0, 0, 0, 0, 0, 1, 0, 1, 1, 1, 1, 1, 1, 0, 0, 0, 1, 1,\n",
       "        1, 1, 1, 0, 1, 1, 0, 1, 1, 0, 0, 0, 0, 1, 1, 0, 1, 0, 1, 0, 0, 0,\n",
       "        1, 1, 0, 1, 1, 0, 0, 0, 1, 1, 1, 0, 1, 0, 1, 0, 0, 1, 0, 0, 1, 0,\n",
       "        0, 0, 0, 1, 0, 0, 1, 1, 1, 0, 0, 0, 1, 1, 0, 0, 1, 1, 0, 1, 1, 1,\n",
       "        0, 1, 1, 0, 0, 0, 1, 1, 0, 1, 0, 0, 1, 1, 0, 1, 0, 0, 0, 1, 0, 1,\n",
       "        1, 0, 1, 1, 0, 1, 0, 1, 0, 0, 1, 0, 0, 1, 1, 0, 1, 0, 1, 0, 0, 0,\n",
       "        0, 1, 1, 0, 1, 0, 1, 0, 0, 0, 0, 1, 0, 0, 0, 1, 0, 0, 1, 0, 0, 0,\n",
       "        1, 1, 0, 1, 0, 0, 0, 0, 0, 0, 0, 0, 1, 0, 1, 0, 1, 0, 1, 0, 0, 0,\n",
       "        0, 0, 1])}"
      ]
     },
     "execution_count": 9,
     "metadata": {},
     "output_type": "execute_result"
    }
   ],
   "source": [
    "build_model(logistic_fn,\n",
    "            ['TimeSpent', 'Age',\n",
    "             'AreaIncome','DailyInternetUsage', \n",
    "             'Male'],\n",
    "            'Clicked',\n",
    "            data)"
   ]
  },
  {
   "cell_type": "code",
   "execution_count": 10,
   "metadata": {},
   "outputs": [
    {
     "name": "stdout",
     "output_type": "stream",
     "text": [
      "Features used:  ['TimeSpent', 'Age', 'AreaIncome', 'DailyInternetUsage', 'Male']\n",
      "Classification report\n",
      "------------------------------------------------------------\n",
      "              precision    recall  f1-score   support\n",
      "\n",
      "           0       0.92      0.95      0.93        97\n",
      "           1       0.95      0.92      0.94       104\n",
      "\n",
      "   micro avg       0.94      0.94      0.94       201\n",
      "   macro avg       0.94      0.94      0.94       201\n",
      "weighted avg       0.94      0.94      0.94       201\n",
      "\n"
     ]
    },
    {
     "data": {
      "text/plain": [
       "{'model': DecisionTreeClassifier(class_weight=None, criterion='gini', max_depth=3,\n",
       "             max_features=None, max_leaf_nodes=None,\n",
       "             min_impurity_decrease=0.0, min_impurity_split=None,\n",
       "             min_samples_leaf=1, min_samples_split=2,\n",
       "             min_weight_fraction_leaf=0.0, presort=False, random_state=None,\n",
       "             splitter='best'),\n",
       " 'x_train':      TimeSpent   Age  AreaIncome  DailyInternetUsage  Male\n",
       " 699      58.60  19.0    44490.09              197.93     1\n",
       " 492      59.70  28.0    49158.50              120.25     0\n",
       " 867      90.75  40.0    45945.88              216.50     0\n",
       " 113      69.00  32.0    72683.35              221.21     1\n",
       " 753      76.87  36.0    72948.76              212.59     0\n",
       " ..         ...   ...         ...                 ...   ...\n",
       " 227      70.68  31.0    74430.08              199.08     0\n",
       " 843      74.61  38.0    71055.22              231.28     1\n",
       " 292      81.61  33.0    62667.51              228.76     0\n",
       " 459      48.03  40.0    25598.75              134.60     1\n",
       " 314      73.89  39.0    47160.53              110.68     0\n",
       " \n",
       " [801 rows x 5 columns],\n",
       " 'y_train': 699    0\n",
       " 492    1\n",
       " 867    0\n",
       " 113    0\n",
       " 753    0\n",
       "       ..\n",
       " 227    0\n",
       " 843    0\n",
       " 292    0\n",
       " 459    1\n",
       " 314    1\n",
       " Name: Clicked, Length: 801, dtype: int64,\n",
       " 'x_test':      TimeSpent   Age  AreaIncome  DailyInternetUsage  Male\n",
       " 515      84.81  32.0    43299.63              233.93     1\n",
       " 399      35.98  47.0    55993.68              165.52     1\n",
       " 642      75.92  22.0    38427.66              182.65     0\n",
       " 648      84.31  29.0    47139.21              225.87     0\n",
       " 395      42.05  51.0    28357.27              174.55     1\n",
       " ..         ...   ...         ...                 ...   ...\n",
       " 572      74.59  23.0    40135.06              158.35     1\n",
       " 641      76.07  36.0    68033.54              235.56     0\n",
       " 695      39.19  54.0    52581.16              173.05     0\n",
       " 800      56.64  35.0    55984.89              123.24     1\n",
       " 93       43.67  31.0    25686.34              166.29     1\n",
       " \n",
       " [201 rows x 5 columns],\n",
       " 'y_test': 515    0\n",
       " 399    1\n",
       " 642    0\n",
       " 648    0\n",
       " 395    1\n",
       "       ..\n",
       " 572    1\n",
       " 641    0\n",
       " 695    1\n",
       " 800    1\n",
       " 93     1\n",
       " Name: Clicked, Length: 201, dtype: int64,\n",
       " 'y_pred': array([0, 1, 0, 0, 1, 1, 1, 1, 0, 0, 1, 0, 1, 0, 0, 0, 1, 0, 0, 0, 1, 0,\n",
       "        0, 1, 1, 1, 0, 0, 0, 0, 0, 1, 0, 1, 1, 0, 1, 0, 0, 0, 1, 1, 0, 0,\n",
       "        1, 0, 0, 0, 1, 0, 1, 1, 0, 1, 0, 1, 1, 1, 1, 1, 1, 1, 0, 0, 1, 0,\n",
       "        1, 0, 1, 1, 0, 1, 0, 0, 0, 1, 0, 0, 1, 0, 0, 0, 1, 1, 1, 0, 1, 1,\n",
       "        1, 1, 1, 0, 1, 0, 1, 1, 1, 1, 1, 1, 0, 0, 1, 0, 1, 1, 1, 1, 0, 1,\n",
       "        0, 0, 0, 1, 1, 0, 0, 0, 1, 1, 0, 0, 1, 0, 1, 0, 0, 0, 1, 0, 0, 1,\n",
       "        0, 0, 0, 0, 0, 1, 0, 0, 1, 1, 1, 1, 0, 0, 1, 1, 1, 0, 1, 1, 0, 1,\n",
       "        0, 0, 1, 1, 1, 0, 1, 0, 0, 1, 1, 1, 1, 0, 0, 1, 0, 0, 1, 0, 1, 0,\n",
       "        0, 0, 1, 1, 0, 1, 1, 1, 0, 1, 0, 0, 0, 1, 0, 0, 1, 0, 1, 1, 0, 0,\n",
       "        1, 1, 1])}"
      ]
     },
     "execution_count": 10,
     "metadata": {},
     "output_type": "execute_result"
    }
   ],
   "source": [
    "build_model(decision_tree_fn,\n",
    "           ['TimeSpent', 'Age',\n",
    "            'AreaIncome','DailyInternetUsage', \n",
    "            'Male'],\n",
    "           'Clicked',\n",
    "           data)"
   ]
  },
  {
   "cell_type": "code",
   "execution_count": null,
   "metadata": {},
   "outputs": [],
   "source": []
  },
  {
   "cell_type": "code",
   "execution_count": null,
   "metadata": {},
   "outputs": [],
   "source": []
  },
  {
   "cell_type": "code",
   "execution_count": null,
   "metadata": {},
   "outputs": [],
   "source": []
  }
 ],
 "metadata": {
  "kernelspec": {
   "display_name": "Python 3",
   "language": "python",
   "name": "python3"
  },
  "language_info": {
   "codemirror_mode": {
    "name": "ipython",
    "version": 3
   },
   "file_extension": ".py",
   "mimetype": "text/x-python",
   "name": "python",
   "nbconvert_exporter": "python",
   "pygments_lexer": "ipython3",
   "version": "3.7.4"
  }
 },
 "nbformat": 4,
 "nbformat_minor": 2
}
