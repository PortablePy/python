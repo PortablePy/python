{
 "cells": [
  {
   "cell_type": "markdown",
   "metadata": {
    "colab": {},
    "colab_type": "code",
    "id": "yADWAm7-AqHR"
   },
   "source": [
    "#### working with strings in google colab forms"
   ]
  },
  {
   "cell_type": "code",
   "execution_count": 0,
   "metadata": {
    "colab": {},
    "colab_type": "code",
    "id": "249NFR_YAqKM"
   },
   "outputs": [],
   "source": [
    "first_name = \"Charles\" #@param {type:\"string\"}\n",
    "\n",
    "last_name = \"Keith\" #@param {type:\"string\"}"
   ]
  },
  {
   "cell_type": "code",
   "execution_count": 4,
   "metadata": {
    "colab": {
     "base_uri": "https://localhost:8080/",
     "height": 51
    },
    "colab_type": "code",
    "executionInfo": {
     "elapsed": 934,
     "status": "ok",
     "timestamp": 1569324278385,
     "user": {
      "displayName": "Spikey Engineer",
      "photoUrl": "",
      "userId": "00295138978233683076"
     },
     "user_tz": -330
    },
    "id": "hCQHeIUHAqNF",
    "outputId": "df26b275-2925-4163-ea7b-cc2b6db499ae"
   },
   "outputs": [
    {
     "name": "stdout",
     "output_type": "stream",
     "text": [
      "Charles\n",
      "Keith\n"
     ]
    }
   ],
   "source": [
    "print(first_name)\n",
    "print(last_name)"
   ]
  },
  {
   "cell_type": "markdown",
   "metadata": {},
   "source": [
    "#### numeric fields"
   ]
  },
  {
   "cell_type": "code",
   "execution_count": 0,
   "metadata": {
    "colab": {},
    "colab_type": "code",
    "id": "NEX_wus3AqQC"
   },
   "outputs": [],
   "source": [
    "age = 43 #@param {type:\"number\"}"
   ]
  },
  {
   "cell_type": "code",
   "execution_count": 6,
   "metadata": {
    "colab": {
     "base_uri": "https://localhost:8080/",
     "height": 34
    },
    "colab_type": "code",
    "executionInfo": {
     "elapsed": 975,
     "status": "ok",
     "timestamp": 1569324314596,
     "user": {
      "displayName": "Spikey Engineer",
      "photoUrl": "",
      "userId": "00295138978233683076"
     },
     "user_tz": -330
    },
    "id": "RRbw8UusAqTJ",
    "outputId": "c791bcc0-0024-4821-8a76-8f33a31cd9dc"
   },
   "outputs": [
    {
     "name": "stdout",
     "output_type": "stream",
     "text": [
      "age is 43 and datatype is <class 'int'>\n"
     ]
    }
   ],
   "source": [
    "print('age is',age, 'and datatype is', type(age))"
   ]
  },
  {
   "cell_type": "markdown",
   "metadata": {},
   "source": [
    "#### creating dropdowns"
   ]
  },
  {
   "cell_type": "code",
   "execution_count": 0,
   "metadata": {
    "cellView": "both",
    "colab": {},
    "colab_type": "code",
    "id": "5ioM4wOcAqV-"
   },
   "outputs": [],
   "source": [
    "#@title Dropdown\n",
    "gender = 'Male' #@param [\"Male\", \"Female\"]"
   ]
  },
  {
   "cell_type": "code",
   "execution_count": 9,
   "metadata": {
    "colab": {
     "base_uri": "https://localhost:8080/",
     "height": 34
    },
    "colab_type": "code",
    "executionInfo": {
     "elapsed": 877,
     "status": "ok",
     "timestamp": 1569324628842,
     "user": {
      "displayName": "Spikey Engineer",
      "photoUrl": "",
      "userId": "00295138978233683076"
     },
     "user_tz": -330
    },
    "id": "Nm_alBHXAqZc",
    "outputId": "a40fee83-d9a9-4cca-d91b-9a9b0f4ee7af"
   },
   "outputs": [
    {
     "name": "stdout",
     "output_type": "stream",
     "text": [
      "Male\n"
     ]
    }
   ],
   "source": [
    "print(gender)"
   ]
  },
  {
   "cell_type": "markdown",
   "metadata": {},
   "source": [
    "#### user input with drop down"
   ]
  },
  {
   "cell_type": "code",
   "execution_count": 0,
   "metadata": {
    "colab": {},
    "colab_type": "code",
    "id": "SIwA15fKAqcQ"
   },
   "outputs": [],
   "source": [
    "#@title  User Input and Dropdown\n",
    "\n",
    "educational_qualification = \"M.SC.\"  #@param[\"B.Phil.\", \"B.Eng.\", \"B.F.A.\", \"Others\"]{allow-input: true}"
   ]
  },
  {
   "cell_type": "code",
   "execution_count": 11,
   "metadata": {
    "colab": {
     "base_uri": "https://localhost:8080/",
     "height": 34
    },
    "colab_type": "code",
    "executionInfo": {
     "elapsed": 881,
     "status": "ok",
     "timestamp": 1569324675913,
     "user": {
      "displayName": "Spikey Engineer",
      "photoUrl": "",
      "userId": "00295138978233683076"
     },
     "user_tz": -330
    },
    "id": "Yf5LrD4KAqhU",
    "outputId": "9c8a6027-258b-4379-871e-0dc8d15c3bd6"
   },
   "outputs": [
    {
     "name": "stdout",
     "output_type": "stream",
     "text": [
      "M.SC.\n"
     ]
    }
   ],
   "source": [
    "print(educational_qualification)"
   ]
  },
  {
   "cell_type": "markdown",
   "metadata": {},
   "source": [
    "#### raw inputs"
   ]
  },
  {
   "cell_type": "code",
   "execution_count": 0,
   "metadata": {
    "colab": {},
    "colab_type": "code",
    "id": "yUUj3QukAqmy"
   },
   "outputs": [],
   "source": [
    "contact_number = 12345678 #@param {type:\"raw\"}"
   ]
  },
  {
   "cell_type": "markdown",
   "metadata": {},
   "source": [
    "#### date field"
   ]
  },
  {
   "cell_type": "code",
   "execution_count": 0,
   "metadata": {
    "colab": {},
    "colab_type": "code",
    "id": "ktoppjhwAqxz"
   },
   "outputs": [],
   "source": [
    "#@title Date Of Birth\n",
    "\n",
    "dob = \"1976-01-09\" #@param {type:\"date\"}"
   ]
  },
  {
   "cell_type": "code",
   "execution_count": 0,
   "metadata": {
    "colab": {},
    "colab_type": "code",
    "id": "1jd04M6VDWBL"
   },
   "outputs": [],
   "source": [
    "work_experience = True #@param {type:\"boolean\"}"
   ]
  },
  {
   "cell_type": "code",
   "execution_count": 15,
   "metadata": {
    "colab": {
     "base_uri": "https://localhost:8080/",
     "height": 34
    },
    "colab_type": "code",
    "executionInfo": {
     "elapsed": 967,
     "status": "ok",
     "timestamp": 1569325031723,
     "user": {
      "displayName": "Spikey Engineer",
      "photoUrl": "",
      "userId": "00295138978233683076"
     },
     "user_tz": -330
    },
    "id": "orKHtafjDWEa",
    "outputId": "6b9ee042-3990-42dc-9716-008f316537b0"
   },
   "outputs": [
    {
     "name": "stdout",
     "output_type": "stream",
     "text": [
      "True\n"
     ]
    }
   ],
   "source": [
    "print(work_experience)"
   ]
  },
  {
   "cell_type": "markdown",
   "metadata": {},
   "source": [
    "#### slider"
   ]
  },
  {
   "cell_type": "code",
   "execution_count": 0,
   "metadata": {
    "cellView": "form",
    "colab": {},
    "colab_type": "code",
    "id": "yF1vfejXDWI1"
   },
   "outputs": [],
   "source": [
    "work_experience_in_years = 8 #@param {type:\"slider\", min:0, max:10, step:1}"
   ]
  },
  {
   "cell_type": "code",
   "execution_count": 18,
   "metadata": {
    "colab": {
     "base_uri": "https://localhost:8080/",
     "height": 34
    },
    "colab_type": "code",
    "executionInfo": {
     "elapsed": 1077,
     "status": "ok",
     "timestamp": 1569325067648,
     "user": {
      "displayName": "Spikey Engineer",
      "photoUrl": "",
      "userId": "00295138978233683076"
     },
     "user_tz": -330
    },
    "id": "ZkrYZfQ9DWM7",
    "outputId": "eaaa4c77-2f61-490f-d7da-c2c320040977"
   },
   "outputs": [
    {
     "name": "stdout",
     "output_type": "stream",
     "text": [
      "8\n"
     ]
    }
   ],
   "source": [
    "print(work_experience_in_years)"
   ]
  },
  {
   "cell_type": "code",
   "execution_count": 0,
   "metadata": {
    "colab": {},
    "colab_type": "code",
    "id": "QgcX0YgUDWRR"
   },
   "outputs": [],
   "source": [
    "#@title ##Description\n",
    "#@markdown #### enter profile description\n",
    "describe = \"Data Analyst : Interpreting data, analyzing results using statistical techniques\" #@param {type:\"string\"}\n",
    "#@markdown ---"
   ]
  },
  {
   "cell_type": "code",
   "execution_count": 20,
   "metadata": {
    "colab": {
     "base_uri": "https://localhost:8080/",
     "height": 34
    },
    "colab_type": "code",
    "executionInfo": {
     "elapsed": 946,
     "status": "ok",
     "timestamp": 1569325163831,
     "user": {
      "displayName": "Spikey Engineer",
      "photoUrl": "",
      "userId": "00295138978233683076"
     },
     "user_tz": -330
    },
    "id": "wGvT_O5aDWXD",
    "outputId": "90aeff47-34c1-47e1-cd40-dd3bfa767868"
   },
   "outputs": [
    {
     "data": {
      "text/plain": [
       "'Data Analyst : Interpreting data, analyzing results using statistical techniques'"
      ]
     },
     "execution_count": 20,
     "metadata": {
      "tags": []
     },
     "output_type": "execute_result"
    }
   ],
   "source": [
    "describe"
   ]
  },
  {
   "cell_type": "markdown",
   "metadata": {},
   "source": [
    "#### auto run "
   ]
  },
  {
   "cell_type": "code",
   "execution_count": 22,
   "metadata": {
    "colab": {
     "base_uri": "https://localhost:8080/",
     "height": 34
    },
    "colab_type": "code",
    "executionInfo": {
     "elapsed": 1135,
     "status": "ok",
     "timestamp": 1569325210172,
     "user": {
      "displayName": "Spikey Engineer",
      "photoUrl": "",
      "userId": "00295138978233683076"
     },
     "user_tz": -330
    },
    "id": "m1v5o6i0DWa3",
    "outputId": "b56708fb-31eb-4323-e89b-8df683aba6fb"
   },
   "outputs": [
    {
     "name": "stdout",
     "output_type": "stream",
     "text": [
      "you selected part-time\n"
     ]
    }
   ],
   "source": [
    "#@title Employment Status.{ run: \"auto\" }\n",
    "\n",
    "status = 'part-time' #@param [\"full-time\",\"part-time\", \"casual\"]\n",
    "print('you selected', status)"
   ]
  },
  {
   "cell_type": "markdown",
   "metadata": {},
   "source": [
    "#### mounting google drive"
   ]
  },
  {
   "cell_type": "code",
   "execution_count": 23,
   "metadata": {
    "colab": {
     "base_uri": "https://localhost:8080/",
     "height": 122
    },
    "colab_type": "code",
    "executionInfo": {
     "elapsed": 44065,
     "status": "ok",
     "timestamp": 1569325264894,
     "user": {
      "displayName": "Spikey Engineer",
      "photoUrl": "",
      "userId": "00295138978233683076"
     },
     "user_tz": -330
    },
    "id": "yBLVPVvFDWHH",
    "outputId": "84a2229c-a2e1-42d7-e6cd-70d730de5402"
   },
   "outputs": [
    {
     "name": "stdout",
     "output_type": "stream",
     "text": [
      "Go to this URL in a browser: https://accounts.google.com/o/oauth2/auth?client_id=947318989803-6bn6qk8qdgf4n4g3pfee6491hc0brc4i.apps.googleusercontent.com&redirect_uri=urn%3Aietf%3Awg%3Aoauth%3A2.0%3Aoob&scope=email%20https%3A%2F%2Fwww.googleapis.com%2Fauth%2Fdocs.test%20https%3A%2F%2Fwww.googleapis.com%2Fauth%2Fdrive%20https%3A%2F%2Fwww.googleapis.com%2Fauth%2Fdrive.photos.readonly%20https%3A%2F%2Fwww.googleapis.com%2Fauth%2Fpeopleapi.readonly&response_type=code\n",
      "\n",
      "Enter your authorization code:\n",
      "··········\n",
      "Mounted at /content/drive\n"
     ]
    }
   ],
   "source": [
    "from google.colab import drive\n",
    "drive.mount('/content/drive') "
   ]
  },
  {
   "cell_type": "markdown",
   "metadata": {},
   "source": [
    "#### using the form to update info"
   ]
  },
  {
   "cell_type": "code",
   "execution_count": 0,
   "metadata": {
    "colab": {},
    "colab_type": "code",
    "id": "2uFVFEtvDU-C"
   },
   "outputs": [],
   "source": [
    "import csv"
   ]
  },
  {
   "cell_type": "code",
   "execution_count": 0,
   "metadata": {
    "colab": {},
    "colab_type": "code",
    "id": "Vmv2sJFVE4af"
   },
   "outputs": [],
   "source": [
    "info = [first_name, last_name]"
   ]
  },
  {
   "cell_type": "code",
   "execution_count": 0,
   "metadata": {
    "colab": {},
    "colab_type": "code",
    "id": "e1BINsv1E4iQ"
   },
   "outputs": [],
   "source": [
    "with open('drive/My Drive/employee_details.csv','a') as f:\n",
    "     writer = csv.writer(f)\n",
    "     writer.writerow(info)"
   ]
  },
  {
   "cell_type": "code",
   "execution_count": 27,
   "metadata": {
    "colab": {
     "base_uri": "https://localhost:8080/",
     "height": 51
    },
    "colab_type": "code",
    "executionInfo": {
     "elapsed": 824,
     "status": "ok",
     "timestamp": 1569325324298,
     "user": {
      "displayName": "Spikey Engineer",
      "photoUrl": "",
      "userId": "00295138978233683076"
     },
     "user_tz": -330
    },
    "id": "YdxRE4UME4pw",
    "outputId": "0458755c-1612-40e1-df67-00cc3529b4a5"
   },
   "outputs": [
    {
     "name": "stdout",
     "output_type": "stream",
     "text": [
      "['first name', 'last name']\n",
      "['Charles', 'Keith']\n"
     ]
    }
   ],
   "source": [
    "with open('drive/My Drive/employee_details.csv','r')as f:\n",
    "  data = csv.reader(f)\n",
    "  for row in data:\n",
    "        print(row)"
   ]
  },
  {
   "cell_type": "code",
   "execution_count": 0,
   "metadata": {
    "colab": {},
    "colab_type": "code",
    "id": "zpANnzQiE4u2"
   },
   "outputs": [],
   "source": []
  },
  {
   "cell_type": "code",
   "execution_count": 0,
   "metadata": {
    "colab": {},
    "colab_type": "code",
    "id": "suQQgNfcE4x5"
   },
   "outputs": [],
   "source": []
  },
  {
   "cell_type": "code",
   "execution_count": 0,
   "metadata": {
    "colab": {},
    "colab_type": "code",
    "id": "cuWo8S2OE43D"
   },
   "outputs": [],
   "source": []
  },
  {
   "cell_type": "code",
   "execution_count": 0,
   "metadata": {
    "colab": {},
    "colab_type": "code",
    "id": "BOVqWUlSE4-e"
   },
   "outputs": [],
   "source": []
  },
  {
   "cell_type": "code",
   "execution_count": 0,
   "metadata": {
    "colab": {},
    "colab_type": "code",
    "id": "iClTx3JPE48m"
   },
   "outputs": [],
   "source": []
  },
  {
   "cell_type": "code",
   "execution_count": 0,
   "metadata": {
    "colab": {},
    "colab_type": "code",
    "id": "TTG8Ukj2E46t"
   },
   "outputs": [],
   "source": []
  },
  {
   "cell_type": "code",
   "execution_count": 0,
   "metadata": {
    "colab": {},
    "colab_type": "code",
    "id": "q8zjtr_xE41W"
   },
   "outputs": [],
   "source": []
  },
  {
   "cell_type": "code",
   "execution_count": 0,
   "metadata": {
    "colab": {},
    "colab_type": "code",
    "id": "n8Oosgb-E4s5"
   },
   "outputs": [],
   "source": []
  },
  {
   "cell_type": "code",
   "execution_count": 0,
   "metadata": {
    "colab": {},
    "colab_type": "code",
    "id": "IDF7jak2E4nQ"
   },
   "outputs": [],
   "source": []
  },
  {
   "cell_type": "code",
   "execution_count": 0,
   "metadata": {
    "colab": {},
    "colab_type": "code",
    "id": "HT6PQ_mYE4lM"
   },
   "outputs": [],
   "source": []
  },
  {
   "cell_type": "code",
   "execution_count": 0,
   "metadata": {
    "colab": {},
    "colab_type": "code",
    "id": "2UI63zzLE4f7"
   },
   "outputs": [],
   "source": []
  },
  {
   "cell_type": "code",
   "execution_count": 0,
   "metadata": {
    "colab": {},
    "colab_type": "code",
    "id": "6k46f49yE4dk"
   },
   "outputs": [],
   "source": []
  },
  {
   "cell_type": "code",
   "execution_count": 0,
   "metadata": {
    "colab": {},
    "colab_type": "code",
    "id": "C4Tsqye3Aqv6"
   },
   "outputs": [],
   "source": []
  },
  {
   "cell_type": "code",
   "execution_count": 0,
   "metadata": {
    "colab": {},
    "colab_type": "code",
    "id": "y5AcfwbDAqrI"
   },
   "outputs": [],
   "source": []
  },
  {
   "cell_type": "code",
   "execution_count": 0,
   "metadata": {
    "colab": {},
    "colab_type": "code",
    "id": "rAdU41_aAqkN"
   },
   "outputs": [],
   "source": []
  },
  {
   "cell_type": "code",
   "execution_count": 0,
   "metadata": {
    "colab": {},
    "colab_type": "code",
    "id": "x0AlHTSpAqfg"
   },
   "outputs": [],
   "source": []
  }
 ],
 "metadata": {
  "colab": {
   "name": "InteractiveForms.ipynb",
   "provenance": []
  },
  "kernelspec": {
   "display_name": "Python 3",
   "language": "python",
   "name": "python3"
  },
  "language_info": {
   "codemirror_mode": {
    "name": "ipython",
    "version": 3
   },
   "file_extension": ".py",
   "mimetype": "text/x-python",
   "name": "python",
   "nbconvert_exporter": "python",
   "pygments_lexer": "ipython3",
   "version": "3.7.0"
  }
 },
 "nbformat": 4,
 "nbformat_minor": 1
}
