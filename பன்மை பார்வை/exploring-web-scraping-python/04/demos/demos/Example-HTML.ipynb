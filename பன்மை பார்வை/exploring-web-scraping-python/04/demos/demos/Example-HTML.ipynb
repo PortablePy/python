{
 "cells": [
  {
   "cell_type": "code",
   "execution_count": 1,
   "metadata": {},
   "outputs": [],
   "source": [
    "example = open(\"example.html\",\"r\")\n",
    "contents = example.read()\n",
    "example.close()\n"
   ]
  },
  {
   "cell_type": "code",
   "execution_count": 2,
   "metadata": {
    "collapsed": true,
    "jupyter": {
     "outputs_hidden": true
    }
   },
   "outputs": [
    {
     "name": "stdout",
     "output_type": "stream",
     "text": [
      "<!DOCTYPE html>\n",
      "<html>\n",
      " <head>\n",
      "  <title>\n",
      "   Car Buying Web Page\n",
      "  </title>\n",
      "  <link href=\"example.css\" rel=\"stylesheet\" type=\"text/css\"/>\n",
      " </head>\n",
      " <body>\n",
      "  <h1 id=\"main-page-title\">\n",
      "   Used Tesla Cars in Your Area\n",
      "  </h1>\n",
      "  <ul class=\"listings\">\n",
      "   <li class=\"auto-listing\" id=\"vin3827\">\n",
      "    <div>\n",
      "     <h2 class=\"model\">\n",
      "      2017 Tesla Model 3\n",
      "     </h2>\n",
      "     <p class=\"price\">\n",
      "      $34,586\n",
      "     </p>\n",
      "     <p class=\"description\">\n",
      "      A wonderful car and a great deal.\n",
      "     </p>\n",
      "    </div>\n",
      "   </li>\n",
      "   <li class=\"auto-listing\" id=\"vin9381\">\n",
      "    <div>\n",
      "     <h2 class=\"model\">\n",
      "      2019 Tesla Model 3\n",
      "     </h2>\n",
      "     <p class=\"price\">\n",
      "      $37,938\n",
      "     </p>\n",
      "     <p class=\"description\">\n",
      "      Great deal. Low mileage.\n",
      "     </p>\n",
      "    </div>\n",
      "   </li>\n",
      "   <li class=\"auto-listing\" id=\"vin2938\">\n",
      "    <div>\n",
      "     <h2 class=\"model\">\n",
      "      2018 Tesla Model 3\n",
      "     </h2>\n",
      "     <p class=\"price\">\n",
      "      $36,263\n",
      "     </p>\n",
      "     <p class=\"description\">\n",
      "      Bright red. Attract attention.\n",
      "     </p>\n",
      "    </div>\n",
      "   </li>\n",
      "  </ul>\n",
      "  <div class=\"scratchpad\">\n",
      "   <textarea class=\"edit-box\" rows=\"2\"></textarea>\n",
      "  </div>\n",
      " </body>\n",
      "</html>\n"
     ]
    }
   ],
   "source": [
    "from bs4 import BeautifulSoup\n",
    "soup = BeautifulSoup(contents)\n",
    "print(soup.prettify())"
   ]
  },
  {
   "cell_type": "markdown",
   "metadata": {},
   "source": [
    "- Select the Title Tag\n",
    "- Select an H1 Tag\n",
    "- Select an <li> Element\n",
    "- Select Multiple <li> Elements\n",
    "- Selecting with an ID\n",
    "- Select with a CSS Class\n",
    "- Selecting Parent-Child Relationships\n",
    "- Combined Selectors\n",
    "- XPath"
   ]
  },
  {
   "cell_type": "code",
   "execution_count": 4,
   "metadata": {},
   "outputs": [
    {
     "data": {
      "text/plain": [
       "<li class=\"auto-listing\" id=\"vin3827\">\n",
       "<div>\n",
       "<h2 class=\"model\">2017 Tesla Model 3</h2>\n",
       "<p class=\"price\">$34,586</p>\n",
       "<p class=\"description\">\n",
       "                A wonderful car and a great deal.</p>\n",
       "</div>\n",
       "</li>"
      ]
     },
     "execution_count": 4,
     "metadata": {},
     "output_type": "execute_result"
    }
   ],
   "source": [
    "soup.li"
   ]
  },
  {
   "cell_type": "code",
   "execution_count": 5,
   "metadata": {},
   "outputs": [
    {
     "data": {
      "text/plain": [
       "[<li class=\"auto-listing\" id=\"vin3827\">\n",
       " <div>\n",
       " <h2 class=\"model\">2017 Tesla Model 3</h2>\n",
       " <p class=\"price\">$34,586</p>\n",
       " <p class=\"description\">\n",
       "                 A wonderful car and a great deal.</p>\n",
       " </div>\n",
       " </li>, <li class=\"auto-listing\" id=\"vin9381\">\n",
       " <div>\n",
       " <h2 class=\"model\">2019 Tesla Model 3</h2>\n",
       " <p class=\"price\">$37,938</p>\n",
       " <p class=\"description\">\n",
       "                 Great deal. Low mileage.</p>\n",
       " </div>\n",
       " </li>, <li class=\"auto-listing\" id=\"vin2938\">\n",
       " <div>\n",
       " <h2 class=\"model\">2018 Tesla Model 3</h2>\n",
       " <p class=\"price\">$36,263</p>\n",
       " <p class=\"description\">\n",
       "                 Bright red. Attract attention.</p>\n",
       " </div>\n",
       " </li>]"
      ]
     },
     "execution_count": 5,
     "metadata": {},
     "output_type": "execute_result"
    }
   ],
   "source": [
    "soup.find_all('li')"
   ]
  },
  {
   "cell_type": "code",
   "execution_count": 10,
   "metadata": {},
   "outputs": [
    {
     "data": {
      "text/plain": [
       "<li class=\"auto-listing\" id=\"vin3827\">\n",
       "<div>\n",
       "<h2 class=\"model\">2017 Tesla Model 3</h2>\n",
       "<p class=\"price\">$34,586</p>\n",
       "<p class=\"description\">\n",
       "                A wonderful car and a great deal.</p>\n",
       "</div>\n",
       "</li>"
      ]
     },
     "execution_count": 10,
     "metadata": {},
     "output_type": "execute_result"
    }
   ],
   "source": [
    "soup.find('li', {'id': 'vin3827'})"
   ]
  },
  {
   "cell_type": "code",
   "execution_count": 17,
   "metadata": {},
   "outputs": [
    {
     "data": {
      "text/plain": [
       "[<li class=\"auto-listing\" id=\"vin3827\">\n",
       " <div>\n",
       " <h2 class=\"model\">2017 Tesla Model 3</h2>\n",
       " <p class=\"price\">$34,586</p>\n",
       " <p class=\"description\">\n",
       "                 A wonderful car and a great deal.</p>\n",
       " </div>\n",
       " </li>, <li class=\"auto-listing\" id=\"vin9381\">\n",
       " <div>\n",
       " <h2 class=\"model\">2019 Tesla Model 3</h2>\n",
       " <p class=\"price\">$37,938</p>\n",
       " <p class=\"description\">\n",
       "                 Great deal. Low mileage.</p>\n",
       " </div>\n",
       " </li>, <li class=\"auto-listing\" id=\"vin2938\">\n",
       " <div>\n",
       " <h2 class=\"model\">2018 Tesla Model 3</h2>\n",
       " <p class=\"price\">$36,263</p>\n",
       " <p class=\"description\">\n",
       "                 Bright red. Attract attention.</p>\n",
       " </div>\n",
       " </li>]"
      ]
     },
     "execution_count": 17,
     "metadata": {},
     "output_type": "execute_result"
    }
   ],
   "source": [
    "soup.select('ul li')"
   ]
  },
  {
   "cell_type": "code",
   "execution_count": 34,
   "metadata": {},
   "outputs": [
    {
     "data": {
      "text/plain": [
       "<ul class=\"listings\">\n",
       "<li class=\"auto-listing\" id=\"vin3827\">\n",
       "<div>\n",
       "<h2 class=\"model\">2017 Tesla Model 3</h2>\n",
       "<p class=\"price\">$34,586</p>\n",
       "<p class=\"description\">\n",
       "                A wonderful car and a great deal.</p>\n",
       "</div>\n",
       "</li>\n",
       "<li class=\"auto-listing\" id=\"vin9381\">\n",
       "<div>\n",
       "<h2 class=\"model\">2019 Tesla Model 3</h2>\n",
       "<p class=\"price\">$37,938</p>\n",
       "<p class=\"description\">\n",
       "                Great deal. Low mileage.</p>\n",
       "</div>\n",
       "</li>\n",
       "<li class=\"auto-listing\" id=\"vin2938\">\n",
       "<div>\n",
       "<h2 class=\"model\">2018 Tesla Model 3</h2>\n",
       "<p class=\"price\">$36,263</p>\n",
       "<p class=\"description\">\n",
       "                Bright red. Attract attention.</p>\n",
       "</div>\n",
       "</li>\n",
       "</ul>"
      ]
     },
     "execution_count": 34,
     "metadata": {},
     "output_type": "execute_result"
    }
   ],
   "source": [
    "# soup.select('li#vin3827')\n",
    "# soup.find_all('li')[1].parent\n",
    "type(soup.find_all('li')[1])\n",
    "tag = soup.select('li#vin3827')[0]\n",
    "tag.parent"
   ]
  },
  {
   "cell_type": "code",
   "execution_count": 35,
   "metadata": {},
   "outputs": [
    {
     "data": {
      "text/plain": [
       "[<li class=\"auto-listing\" id=\"vin3827\">\n",
       " <div>\n",
       " <h2 class=\"model\">2017 Tesla Model 3</h2>\n",
       " <p class=\"price\">$34,586</p>\n",
       " <p class=\"description\">\n",
       "                 A wonderful car and a great deal.</p>\n",
       " </div>\n",
       " </li>, <li class=\"auto-listing\" id=\"vin9381\">\n",
       " <div>\n",
       " <h2 class=\"model\">2019 Tesla Model 3</h2>\n",
       " <p class=\"price\">$37,938</p>\n",
       " <p class=\"description\">\n",
       "                 Great deal. Low mileage.</p>\n",
       " </div>\n",
       " </li>, <li class=\"auto-listing\" id=\"vin2938\">\n",
       " <div>\n",
       " <h2 class=\"model\">2018 Tesla Model 3</h2>\n",
       " <p class=\"price\">$36,263</p>\n",
       " <p class=\"description\">\n",
       "                 Bright red. Attract attention.</p>\n",
       " </div>\n",
       " </li>]"
      ]
     },
     "execution_count": 35,
     "metadata": {},
     "output_type": "execute_result"
    }
   ],
   "source": [
    "soup.select('li.auto-listing')"
   ]
  },
  {
   "cell_type": "code",
   "execution_count": 36,
   "metadata": {},
   "outputs": [
    {
     "data": {
      "text/plain": [
       "<ul class=\"listings\">\n",
       "<li class=\"auto-listing\" id=\"vin3827\">\n",
       "<div>\n",
       "<h2 class=\"model\">2017 Tesla Model 3</h2>\n",
       "<p class=\"price\">$34,586</p>\n",
       "<p class=\"description\">\n",
       "                A wonderful car and a great deal.</p>\n",
       "</div>\n",
       "</li>\n",
       "<li class=\"auto-listing\" id=\"vin9381\">\n",
       "<div>\n",
       "<h2 class=\"model\">2019 Tesla Model 3</h2>\n",
       "<p class=\"price\">$37,938</p>\n",
       "<p class=\"description\">\n",
       "                Great deal. Low mileage.</p>\n",
       "</div>\n",
       "</li>\n",
       "<li class=\"auto-listing\" id=\"vin2938\">\n",
       "<div>\n",
       "<h2 class=\"model\">2018 Tesla Model 3</h2>\n",
       "<p class=\"price\">$36,263</p>\n",
       "<p class=\"description\">\n",
       "                Bright red. Attract attention.</p>\n",
       "</div>\n",
       "</li>\n",
       "</ul>"
      ]
     },
     "execution_count": 36,
     "metadata": {},
     "output_type": "execute_result"
    }
   ],
   "source": [
    "soup.select_one('#vin3827').parent"
   ]
  },
  {
   "cell_type": "code",
   "execution_count": null,
   "metadata": {},
   "outputs": [],
   "source": []
  }
 ],
 "metadata": {
  "kernelspec": {
   "display_name": "Python 3",
   "language": "python",
   "name": "python3"
  },
  "language_info": {
   "codemirror_mode": {
    "name": "ipython",
    "version": 3
   },
   "file_extension": ".py",
   "mimetype": "text/x-python",
   "name": "python",
   "nbconvert_exporter": "python",
   "pygments_lexer": "ipython3",
   "version": "3.7.4"
  },
  "pycharm": {
   "stem_cell": {
    "cell_type": "raw",
    "source": [],
    "metadata": {
     "collapsed": false
    }
   }
  }
 },
 "nbformat": 4,
 "nbformat_minor": 4
}