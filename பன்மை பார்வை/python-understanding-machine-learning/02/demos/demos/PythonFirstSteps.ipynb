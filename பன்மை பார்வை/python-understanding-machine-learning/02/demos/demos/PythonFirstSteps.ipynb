{
 "cells": [
  {
   "cell_type": "markdown",
   "metadata": {
    "collapsed": true
   },
   "source": [
    "# Learning\n",
    "\n",
    "This notebook contains simple examples of using *Juypter Notebook* and *Python 3*."
   ]
  },
  {
   "cell_type": "markdown",
   "metadata": {},
   "source": [
    "## Example 1 - *Hello World*"
   ]
  },
  {
   "cell_type": "code",
   "execution_count": 1,
   "metadata": {
    "collapsed": false
   },
   "outputs": [
    {
     "name": "stdout",
     "output_type": "stream",
     "text": [
      "Hello, Jerry\n",
      "\n",
      "----\n"
     ]
    }
   ],
   "source": [
    "my_name = \"Jerry\"           \n",
    "hello_statement = \"Hello, \" + my_name\n",
    "print(hello_statement, end='\\n\\n' )\n",
    "print(\"----\")\n",
    "x = 10"
   ]
  },
  {
   "cell_type": "markdown",
   "metadata": {},
   "source": [
    "World's **best** loop is here"
   ]
  },
  {
   "cell_type": "code",
   "execution_count": 2,
   "metadata": {
    "collapsed": false
   },
   "outputs": [
    {
     "name": "stdout",
     "output_type": "stream",
     "text": [
      "j = 1    x = 11\n",
      "j = 2    x = 13\n",
      "j = 3    x = 16\n",
      "j = 4    x = 20\n"
     ]
    }
   ],
   "source": [
    "for j in range(1, 5):\n",
    "    x = x + j\n",
    "    print(\"j = {0}    x = {1}\".format(j, x))"
   ]
  },
  {
   "cell_type": "code",
   "execution_count": null,
   "metadata": {
    "collapsed": true
   },
   "outputs": [],
   "source": []
  }
 ],
 "metadata": {
  "kernelspec": {
   "display_name": "Python 3",
   "language": "python",
   "name": "python3"
  },
  "language_info": {
   "codemirror_mode": {
    "name": "ipython",
    "version": 3
   },
   "file_extension": ".py",
   "mimetype": "text/x-python",
   "name": "python",
   "nbconvert_exporter": "python",
   "pygments_lexer": "ipython3",
   "version": "3.5.1"
  }
 },
 "nbformat": 4,
 "nbformat_minor": 0
}
