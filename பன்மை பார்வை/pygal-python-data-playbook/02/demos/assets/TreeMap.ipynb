{
 "cells": [
  {
   "cell_type": "markdown",
   "metadata": {},
   "source": [
    "## Treemap plot\n",
    "\n",
    "The coffee dataset is used here to plot a treemap. Dataset contains the countries that produce coffee around the world.\n",
    "Here, we will plot a binary tree plot, where has two sub sections one the \"Continent\" and other one the \"Country\"."
   ]
  },
  {
   "cell_type": "code",
   "execution_count": 1,
   "metadata": {
    "collapsed": true
   },
   "outputs": [],
   "source": [
    "import pygal\n",
    "import pandas as pd"
   ]
  },
  {
   "cell_type": "markdown",
   "metadata": {},
   "source": [
    "**Coffee producing region by country and continent can be visualized.**"
   ]
  },
  {
   "cell_type": "markdown",
   "metadata": {},
   "source": [
    "**Link to the dataset** - http://www.fao.org/faostat/en/#data/QC"
   ]
  },
  {
   "cell_type": "code",
   "execution_count": 2,
   "metadata": {
    "collapsed": true
   },
   "outputs": [],
   "source": [
    "coffee_df = pd.read_csv('../datasets/coffee_production_stats.csv')"
   ]
  },
  {
   "cell_type": "code",
   "execution_count": 3,
   "metadata": {},
   "outputs": [
    {
     "data": {
      "text/plain": [
       "(85, 15)"
      ]
     },
     "execution_count": 3,
     "metadata": {},
     "output_type": "execute_result"
    }
   ],
   "source": [
    "coffee_df.shape"
   ]
  },
  {
   "cell_type": "code",
   "execution_count": 4,
   "metadata": {
    "scrolled": false
   },
   "outputs": [
    {
     "data": {
      "text/html": [
       "<div>\n",
       "<style scoped>\n",
       "    .dataframe tbody tr th:only-of-type {\n",
       "        vertical-align: middle;\n",
       "    }\n",
       "\n",
       "    .dataframe tbody tr th {\n",
       "        vertical-align: top;\n",
       "    }\n",
       "\n",
       "    .dataframe thead th {\n",
       "        text-align: right;\n",
       "    }\n",
       "</style>\n",
       "<table border=\"1\" class=\"dataframe\">\n",
       "  <thead>\n",
       "    <tr style=\"text-align: right;\">\n",
       "      <th></th>\n",
       "      <th>Domain Code</th>\n",
       "      <th>Domain</th>\n",
       "      <th>Area Code</th>\n",
       "      <th>Area</th>\n",
       "      <th>Continent</th>\n",
       "      <th>Element Code</th>\n",
       "      <th>Element</th>\n",
       "      <th>Item Code</th>\n",
       "      <th>Item</th>\n",
       "      <th>Year Code</th>\n",
       "      <th>Year</th>\n",
       "      <th>Unit</th>\n",
       "      <th>Value</th>\n",
       "      <th>Flag</th>\n",
       "      <th>Flag Description</th>\n",
       "    </tr>\n",
       "  </thead>\n",
       "  <tbody>\n",
       "    <tr>\n",
       "      <th>0</th>\n",
       "      <td>QC</td>\n",
       "      <td>Crops</td>\n",
       "      <td>7</td>\n",
       "      <td>Angola</td>\n",
       "      <td>Africa</td>\n",
       "      <td>5510</td>\n",
       "      <td>Production</td>\n",
       "      <td>656</td>\n",
       "      <td>Coffee, green</td>\n",
       "      <td>2017</td>\n",
       "      <td>2017</td>\n",
       "      <td>tonnes</td>\n",
       "      <td>15436.0</td>\n",
       "      <td>Im</td>\n",
       "      <td>FAO data based on imputation methodology</td>\n",
       "    </tr>\n",
       "    <tr>\n",
       "      <th>1</th>\n",
       "      <td>QC</td>\n",
       "      <td>Crops</td>\n",
       "      <td>23</td>\n",
       "      <td>Belize</td>\n",
       "      <td>North America</td>\n",
       "      <td>5510</td>\n",
       "      <td>Production</td>\n",
       "      <td>656</td>\n",
       "      <td>Coffee, green</td>\n",
       "      <td>2017</td>\n",
       "      <td>2017</td>\n",
       "      <td>tonnes</td>\n",
       "      <td>80.0</td>\n",
       "      <td>Im</td>\n",
       "      <td>FAO data based on imputation methodology</td>\n",
       "    </tr>\n",
       "    <tr>\n",
       "      <th>2</th>\n",
       "      <td>QC</td>\n",
       "      <td>Crops</td>\n",
       "      <td>53</td>\n",
       "      <td>Benin</td>\n",
       "      <td>Africa</td>\n",
       "      <td>5510</td>\n",
       "      <td>Production</td>\n",
       "      <td>656</td>\n",
       "      <td>Coffee, green</td>\n",
       "      <td>2017</td>\n",
       "      <td>2017</td>\n",
       "      <td>tonnes</td>\n",
       "      <td>50.0</td>\n",
       "      <td>Im</td>\n",
       "      <td>FAO data based on imputation methodology</td>\n",
       "    </tr>\n",
       "    <tr>\n",
       "      <th>3</th>\n",
       "      <td>QC</td>\n",
       "      <td>Crops</td>\n",
       "      <td>19</td>\n",
       "      <td>Bolivia (Plurinational State of)</td>\n",
       "      <td>South America</td>\n",
       "      <td>5510</td>\n",
       "      <td>Production</td>\n",
       "      <td>656</td>\n",
       "      <td>Coffee, green</td>\n",
       "      <td>2017</td>\n",
       "      <td>2017</td>\n",
       "      <td>tonnes</td>\n",
       "      <td>21181.0</td>\n",
       "      <td>NaN</td>\n",
       "      <td>Official data</td>\n",
       "    </tr>\n",
       "    <tr>\n",
       "      <th>4</th>\n",
       "      <td>QC</td>\n",
       "      <td>Crops</td>\n",
       "      <td>21</td>\n",
       "      <td>Brazil</td>\n",
       "      <td>South America</td>\n",
       "      <td>5510</td>\n",
       "      <td>Production</td>\n",
       "      <td>656</td>\n",
       "      <td>Coffee, green</td>\n",
       "      <td>2017</td>\n",
       "      <td>2017</td>\n",
       "      <td>tonnes</td>\n",
       "      <td>2680515.0</td>\n",
       "      <td>NaN</td>\n",
       "      <td>Official data</td>\n",
       "    </tr>\n",
       "  </tbody>\n",
       "</table>\n",
       "</div>"
      ],
      "text/plain": [
       "  Domain Code Domain  Area Code                              Area  \\\n",
       "0          QC  Crops          7                            Angola   \n",
       "1          QC  Crops         23                            Belize   \n",
       "2          QC  Crops         53                             Benin   \n",
       "3          QC  Crops         19  Bolivia (Plurinational State of)   \n",
       "4          QC  Crops         21                            Brazil   \n",
       "\n",
       "       Continent  Element Code     Element  Item Code           Item  \\\n",
       "0         Africa          5510  Production        656  Coffee, green   \n",
       "1  North America          5510  Production        656  Coffee, green   \n",
       "2         Africa          5510  Production        656  Coffee, green   \n",
       "3  South America          5510  Production        656  Coffee, green   \n",
       "4  South America          5510  Production        656  Coffee, green   \n",
       "\n",
       "   Year Code  Year    Unit      Value Flag  \\\n",
       "0       2017  2017  tonnes    15436.0   Im   \n",
       "1       2017  2017  tonnes       80.0   Im   \n",
       "2       2017  2017  tonnes       50.0   Im   \n",
       "3       2017  2017  tonnes    21181.0  NaN   \n",
       "4       2017  2017  tonnes  2680515.0  NaN   \n",
       "\n",
       "                           Flag Description  \n",
       "0  FAO data based on imputation methodology  \n",
       "1  FAO data based on imputation methodology  \n",
       "2  FAO data based on imputation methodology  \n",
       "3                             Official data  \n",
       "4                             Official data  "
      ]
     },
     "execution_count": 4,
     "metadata": {},
     "output_type": "execute_result"
    }
   ],
   "source": [
    "coffee_df.head()"
   ]
  },
  {
   "cell_type": "markdown",
   "metadata": {},
   "source": [
    "**Trim the dataset** by reducing the number of columns"
   ]
  },
  {
   "cell_type": "code",
   "execution_count": 5,
   "metadata": {
    "collapsed": true
   },
   "outputs": [],
   "source": [
    "coffee_df = coffee_df[['Area', 'Continent', 'Item', 'Value']]"
   ]
  },
  {
   "cell_type": "markdown",
   "metadata": {},
   "source": [
    "#### Rename the Column names to make it relevant."
   ]
  },
  {
   "cell_type": "code",
   "execution_count": 6,
   "metadata": {
    "collapsed": true
   },
   "outputs": [],
   "source": [
    "coffee_df.columns = ['Country', 'Continent', 'Item', 'Value']"
   ]
  },
  {
   "cell_type": "code",
   "execution_count": 7,
   "metadata": {},
   "outputs": [
    {
     "data": {
      "text/html": [
       "<div>\n",
       "<style scoped>\n",
       "    .dataframe tbody tr th:only-of-type {\n",
       "        vertical-align: middle;\n",
       "    }\n",
       "\n",
       "    .dataframe tbody tr th {\n",
       "        vertical-align: top;\n",
       "    }\n",
       "\n",
       "    .dataframe thead th {\n",
       "        text-align: right;\n",
       "    }\n",
       "</style>\n",
       "<table border=\"1\" class=\"dataframe\">\n",
       "  <thead>\n",
       "    <tr style=\"text-align: right;\">\n",
       "      <th></th>\n",
       "      <th>Country</th>\n",
       "      <th>Continent</th>\n",
       "      <th>Item</th>\n",
       "      <th>Value</th>\n",
       "    </tr>\n",
       "  </thead>\n",
       "  <tbody>\n",
       "    <tr>\n",
       "      <th>0</th>\n",
       "      <td>Angola</td>\n",
       "      <td>Africa</td>\n",
       "      <td>Coffee, green</td>\n",
       "      <td>15436.0</td>\n",
       "    </tr>\n",
       "    <tr>\n",
       "      <th>1</th>\n",
       "      <td>Belize</td>\n",
       "      <td>North America</td>\n",
       "      <td>Coffee, green</td>\n",
       "      <td>80.0</td>\n",
       "    </tr>\n",
       "    <tr>\n",
       "      <th>2</th>\n",
       "      <td>Benin</td>\n",
       "      <td>Africa</td>\n",
       "      <td>Coffee, green</td>\n",
       "      <td>50.0</td>\n",
       "    </tr>\n",
       "    <tr>\n",
       "      <th>3</th>\n",
       "      <td>Bolivia (Plurinational State of)</td>\n",
       "      <td>South America</td>\n",
       "      <td>Coffee, green</td>\n",
       "      <td>21181.0</td>\n",
       "    </tr>\n",
       "    <tr>\n",
       "      <th>4</th>\n",
       "      <td>Brazil</td>\n",
       "      <td>South America</td>\n",
       "      <td>Coffee, green</td>\n",
       "      <td>2680515.0</td>\n",
       "    </tr>\n",
       "  </tbody>\n",
       "</table>\n",
       "</div>"
      ],
      "text/plain": [
       "                            Country      Continent           Item      Value\n",
       "0                            Angola         Africa  Coffee, green    15436.0\n",
       "1                            Belize  North America  Coffee, green       80.0\n",
       "2                             Benin         Africa  Coffee, green       50.0\n",
       "3  Bolivia (Plurinational State of)  South America  Coffee, green    21181.0\n",
       "4                            Brazil  South America  Coffee, green  2680515.0"
      ]
     },
     "execution_count": 7,
     "metadata": {},
     "output_type": "execute_result"
    }
   ],
   "source": [
    "coffee_df.head()"
   ]
  },
  {
   "cell_type": "markdown",
   "metadata": {},
   "source": [
    "###### Drop the NA values in the dataframe"
   ]
  },
  {
   "cell_type": "code",
   "execution_count": 8,
   "metadata": {
    "collapsed": true
   },
   "outputs": [],
   "source": [
    "coffee_df= coffee_df.dropna()"
   ]
  },
  {
   "cell_type": "markdown",
   "metadata": {},
   "source": [
    "###### List out all the Continents in the datasets."
   ]
  },
  {
   "cell_type": "code",
   "execution_count": 9,
   "metadata": {},
   "outputs": [
    {
     "data": {
      "text/plain": [
       "array(['Africa', 'North America', 'South America', 'Asia', 'Oceania'],\n",
       "      dtype=object)"
      ]
     },
     "execution_count": 9,
     "metadata": {},
     "output_type": "execute_result"
    }
   ],
   "source": [
    "coffee_df['Continent'].unique()"
   ]
  },
  {
   "cell_type": "markdown",
   "metadata": {},
   "source": [
    "Get the rows corresponding to each continent in separate dataframe. "
   ]
  },
  {
   "cell_type": "markdown",
   "metadata": {},
   "source": [
    "***process_df*** is method defined to convert each dataframe row of the continent into form of dictionary where \n",
    "\n",
    "- ***{'value':value_of_country, 'label':name_of_the_country}*** \n",
    "- ***append it to a list.***"
   ]
  },
  {
   "cell_type": "code",
   "execution_count": 10,
   "metadata": {
    "collapsed": true
   },
   "outputs": [],
   "source": [
    "def process_df(continent_name):\n",
    "    \n",
    "    continent_df = coffee_df[coffee_df['Continent'] == continent_name]\n",
    "    countries_list = []\n",
    "    \n",
    "    for index, row in continent_df.iterrows():\n",
    "        \n",
    "        dict_country = {'label':row['Country'], \n",
    "                        'value':row['Value']}\n",
    "        countries_list.append(dict_country)\n",
    "        \n",
    "    return countries_list"
   ]
  },
  {
   "cell_type": "code",
   "execution_count": 11,
   "metadata": {
    "collapsed": true
   },
   "outputs": [],
   "source": [
    "africa_list = process_df('Africa')\n",
    "namerica_list = process_df('North America')\n",
    "samerica_list = process_df('South America')\n",
    "asia_list = process_df('Asia')\n",
    "oceania_list = process_df('Oceania')"
   ]
  },
  {
   "cell_type": "code",
   "execution_count": 12,
   "metadata": {},
   "outputs": [
    {
     "data": {
      "text/plain": [
       "[{'label': 'Bolivia (Plurinational State of)', 'value': 21181.0},\n",
       " {'label': 'Brazil', 'value': 2680515.0},\n",
       " {'label': 'Colombia', 'value': 754376.0},\n",
       " {'label': 'Ecuador', 'value': 7564.0},\n",
       " {'label': 'Guyana', 'value': 401.0},\n",
       " {'label': 'Paraguay', 'value': 442.0},\n",
       " {'label': 'Peru', 'value': 346466.0},\n",
       " {'label': 'Suriname', 'value': 6.0},\n",
       " {'label': 'Trinidad and Tobago', 'value': 39.0},\n",
       " {'label': 'Venezuela (Bolivarian Republic of)', 'value': 46650.0}]"
      ]
     },
     "execution_count": 12,
     "metadata": {},
     "output_type": "execute_result"
    }
   ],
   "source": [
    "samerica_list"
   ]
  },
  {
   "cell_type": "markdown",
   "metadata": {},
   "source": [
    "Method to display the interactive chart."
   ]
  },
  {
   "cell_type": "code",
   "execution_count": 13,
   "metadata": {
    "collapsed": true
   },
   "outputs": [],
   "source": [
    "from IPython.display import display, HTML\n",
    "\n",
    "html_skeleton = \"\"\"\n",
    "<!DOCTYPE html>\n",
    "<html>\n",
    "  <head>\n",
    "  <script type=\"text/javascript\" \n",
    "          src=\"http://kozea.github.com/pygal.js/javascripts/svg.jquery.js\">\n",
    "  </script>\n",
    "  <script type=\"text/javascript\" \n",
    "          src=\"https://kozea.github.io/pygal.js/2.0.x/pygal-tooltips.min.js\"\">\n",
    "  </script>\n",
    "  </head>\n",
    "  <body>\n",
    "    <figure>\n",
    "      {rendered_chart}\n",
    "    </figure>\n",
    "  </body>\n",
    "</html>\n",
    "\"\"\"\n",
    "\n",
    "def display_chart(chart):\n",
    "    rendered_chart = chart.render(is_unicode=True)\n",
    "    plot_html = html_skeleton.format(rendered_chart=rendered_chart)\n",
    "    display(HTML(plot_html))"
   ]
  },
  {
   "cell_type": "markdown",
   "metadata": {},
   "source": [
    "Initialize the pygal object and assign a title."
   ]
  },
  {
   "cell_type": "code",
   "execution_count": null,
   "metadata": {
    "collapsed": true
   },
   "outputs": [],
   "source": [
    "from pygal.style import LightColorizedStyle"
   ]
  },
  {
   "cell_type": "code",
   "execution_count": 14,
   "metadata": {
    "collapsed": true
   },
   "outputs": [],
   "source": [
    "treemap = pygal.Treemap(width = 640,\n",
    "                        height = 360,\n",
    "                        explicit_size = True,\n",
    "                        style = LightColorizedStyle)"
   ]
  },
  {
   "cell_type": "code",
   "execution_count": 15,
   "metadata": {
    "collapsed": true
   },
   "outputs": [],
   "source": [
    "treemap.title = 'Coffee Production in 2017 by Continent and Country'"
   ]
  },
  {
   "cell_type": "code",
   "execution_count": 16,
   "metadata": {
    "collapsed": true
   },
   "outputs": [],
   "source": [
    "treemap.value_formatter = lambda x: '{:,.10g} metric tons'.format(x)"
   ]
  },
  {
   "cell_type": "markdown",
   "metadata": {},
   "source": [
    "Add the data to the treemap graph."
   ]
  },
  {
   "cell_type": "code",
   "execution_count": 17,
   "metadata": {},
   "outputs": [
    {
     "data": {
      "text/html": [
       "\n",
       "<!DOCTYPE html>\n",
       "<html>\n",
       "  <head>\n",
       "  <script type=\"text/javascript\" \n",
       "          src=\"http://kozea.github.com/pygal.js/javascripts/svg.jquery.js\">\n",
       "  </script>\n",
       "  <script type=\"text/javascript\" \n",
       "          src=\"https://kozea.github.io/pygal.js/2.0.x/pygal-tooltips.min.js\"\">\n",
       "  </script>\n",
       "  </head>\n",
       "  <body>\n",
       "    <figure>\n",
       "      <?xml version='1.0' encoding='utf-8'?>\n",
       "<svg xmlns:xlink=\"http://www.w3.org/1999/xlink\" xmlns=\"http://www.w3.org/2000/svg\" id=\"chart-fb7a2267-8a42-4a7b-af71-94c837279541\" class=\"pygal-chart\" viewBox=\"0 0 640 360\" width=\"640\" height=\"360\"><!--Generated with pygal 2.4.0 (lxml) ©Kozea 2012-2016 on 2019-02-05--><!--http://pygal.org--><!--http://github.com/Kozea/pygal--><defs><style type=\"text/css\">#chart-fb7a2267-8a42-4a7b-af71-94c837279541{-webkit-user-select:none;-webkit-font-smoothing:antialiased;font-family:Consolas,\"Liberation Mono\",Menlo,Courier,monospace}#chart-fb7a2267-8a42-4a7b-af71-94c837279541 .title{font-family:Consolas,\"Liberation Mono\",Menlo,Courier,monospace;font-size:16px}#chart-fb7a2267-8a42-4a7b-af71-94c837279541 .legends .legend text{font-family:Consolas,\"Liberation Mono\",Menlo,Courier,monospace;font-size:14px}#chart-fb7a2267-8a42-4a7b-af71-94c837279541 .axis text{font-family:Consolas,\"Liberation Mono\",Menlo,Courier,monospace;font-size:10px}#chart-fb7a2267-8a42-4a7b-af71-94c837279541 .axis text.major{font-family:Consolas,\"Liberation Mono\",Menlo,Courier,monospace;font-size:10px}#chart-fb7a2267-8a42-4a7b-af71-94c837279541 .text-overlay text.value{font-family:Consolas,\"Liberation Mono\",Menlo,Courier,monospace;font-size:16px}#chart-fb7a2267-8a42-4a7b-af71-94c837279541 .text-overlay text.label{font-family:Consolas,\"Liberation Mono\",Menlo,Courier,monospace;font-size:10px}#chart-fb7a2267-8a42-4a7b-af71-94c837279541 .tooltip{font-family:Consolas,\"Liberation Mono\",Menlo,Courier,monospace;font-size:14px}#chart-fb7a2267-8a42-4a7b-af71-94c837279541 text.no_data{font-family:Consolas,\"Liberation Mono\",Menlo,Courier,monospace;font-size:64px}\n",
       "#chart-fb7a2267-8a42-4a7b-af71-94c837279541{background-color:#f8f8f8}#chart-fb7a2267-8a42-4a7b-af71-94c837279541 path,#chart-fb7a2267-8a42-4a7b-af71-94c837279541 line,#chart-fb7a2267-8a42-4a7b-af71-94c837279541 rect,#chart-fb7a2267-8a42-4a7b-af71-94c837279541 circle{-webkit-transition:250ms ease-in;-moz-transition:250ms ease-in;transition:250ms ease-in}#chart-fb7a2267-8a42-4a7b-af71-94c837279541 .graph &gt; .background{fill:#f8f8f8}#chart-fb7a2267-8a42-4a7b-af71-94c837279541 .plot &gt; .background{fill:#ffffff}#chart-fb7a2267-8a42-4a7b-af71-94c837279541 .graph{fill:#333}#chart-fb7a2267-8a42-4a7b-af71-94c837279541 text.no_data{fill:#666}#chart-fb7a2267-8a42-4a7b-af71-94c837279541 .title{fill:#666}#chart-fb7a2267-8a42-4a7b-af71-94c837279541 .legends .legend text{fill:#333}#chart-fb7a2267-8a42-4a7b-af71-94c837279541 .legends .legend:hover text{fill:#666}#chart-fb7a2267-8a42-4a7b-af71-94c837279541 .axis .line{stroke:#666}#chart-fb7a2267-8a42-4a7b-af71-94c837279541 .axis .guide.line{stroke:rgba(0,0,0,0.5)}#chart-fb7a2267-8a42-4a7b-af71-94c837279541 .axis .major.line{stroke:#333}#chart-fb7a2267-8a42-4a7b-af71-94c837279541 .axis text.major{fill:#666}#chart-fb7a2267-8a42-4a7b-af71-94c837279541 .axis.y .guides:hover .guide.line,#chart-fb7a2267-8a42-4a7b-af71-94c837279541 .line-graph .axis.x .guides:hover .guide.line,#chart-fb7a2267-8a42-4a7b-af71-94c837279541 .stackedline-graph .axis.x .guides:hover .guide.line,#chart-fb7a2267-8a42-4a7b-af71-94c837279541 .xy-graph .axis.x .guides:hover .guide.line{stroke:#666}#chart-fb7a2267-8a42-4a7b-af71-94c837279541 .axis .guides:hover text{fill:#666}#chart-fb7a2267-8a42-4a7b-af71-94c837279541 .reactive{fill-opacity:.5;stroke-opacity:.8}#chart-fb7a2267-8a42-4a7b-af71-94c837279541 .ci{stroke:#333}#chart-fb7a2267-8a42-4a7b-af71-94c837279541 .reactive.active,#chart-fb7a2267-8a42-4a7b-af71-94c837279541 .active .reactive{fill-opacity:.9;stroke-opacity:.9;stroke-width:4}#chart-fb7a2267-8a42-4a7b-af71-94c837279541 .ci .reactive.active{stroke-width:1.5}#chart-fb7a2267-8a42-4a7b-af71-94c837279541 .series text{fill:#666}#chart-fb7a2267-8a42-4a7b-af71-94c837279541 .tooltip rect{fill:#ffffff;stroke:#666;-webkit-transition:opacity 250ms ease-in;-moz-transition:opacity 250ms ease-in;transition:opacity 250ms ease-in}#chart-fb7a2267-8a42-4a7b-af71-94c837279541 .tooltip .label{fill:#333}#chart-fb7a2267-8a42-4a7b-af71-94c837279541 .tooltip .label{fill:#333}#chart-fb7a2267-8a42-4a7b-af71-94c837279541 .tooltip .legend{font-size:.8em;fill:rgba(0,0,0,0.5)}#chart-fb7a2267-8a42-4a7b-af71-94c837279541 .tooltip .x_label{font-size:.6em;fill:#666}#chart-fb7a2267-8a42-4a7b-af71-94c837279541 .tooltip .xlink{font-size:.5em;text-decoration:underline}#chart-fb7a2267-8a42-4a7b-af71-94c837279541 .tooltip .value{font-size:1.5em}#chart-fb7a2267-8a42-4a7b-af71-94c837279541 .bound{font-size:.5em}#chart-fb7a2267-8a42-4a7b-af71-94c837279541 .max-value{font-size:.75em;fill:rgba(0,0,0,0.5)}#chart-fb7a2267-8a42-4a7b-af71-94c837279541 .map-element{fill:#ffffff;stroke:rgba(0,0,0,0.5) !important}#chart-fb7a2267-8a42-4a7b-af71-94c837279541 .map-element .reactive{fill-opacity:inherit;stroke-opacity:inherit}#chart-fb7a2267-8a42-4a7b-af71-94c837279541 .color-0,#chart-fb7a2267-8a42-4a7b-af71-94c837279541 .color-0 a:visited{stroke:#fe9592;fill:#fe9592}#chart-fb7a2267-8a42-4a7b-af71-94c837279541 .color-1,#chart-fb7a2267-8a42-4a7b-af71-94c837279541 .color-1 a:visited{stroke:#534f4c;fill:#534f4c}#chart-fb7a2267-8a42-4a7b-af71-94c837279541 .color-2,#chart-fb7a2267-8a42-4a7b-af71-94c837279541 .color-2 a:visited{stroke:#3ac2c0;fill:#3ac2c0}#chart-fb7a2267-8a42-4a7b-af71-94c837279541 .color-3,#chart-fb7a2267-8a42-4a7b-af71-94c837279541 .color-3 a:visited{stroke:#a2a7a1;fill:#a2a7a1}#chart-fb7a2267-8a42-4a7b-af71-94c837279541 .color-4,#chart-fb7a2267-8a42-4a7b-af71-94c837279541 .color-4 a:visited{stroke:#fd4b46;fill:#fd4b46}#chart-fb7a2267-8a42-4a7b-af71-94c837279541 .text-overlay .color-0 text{fill:black}#chart-fb7a2267-8a42-4a7b-af71-94c837279541 .text-overlay .color-1 text{fill:black}#chart-fb7a2267-8a42-4a7b-af71-94c837279541 .text-overlay .color-2 text{fill:black}#chart-fb7a2267-8a42-4a7b-af71-94c837279541 .text-overlay .color-3 text{fill:black}#chart-fb7a2267-8a42-4a7b-af71-94c837279541 .text-overlay .color-4 text{fill:black}\n",
       "#chart-fb7a2267-8a42-4a7b-af71-94c837279541 text.no_data{text-anchor:middle}#chart-fb7a2267-8a42-4a7b-af71-94c837279541 .guide.line{fill:none}#chart-fb7a2267-8a42-4a7b-af71-94c837279541 .centered{text-anchor:middle}#chart-fb7a2267-8a42-4a7b-af71-94c837279541 .title{text-anchor:middle}#chart-fb7a2267-8a42-4a7b-af71-94c837279541 .legends .legend text{fill-opacity:1}#chart-fb7a2267-8a42-4a7b-af71-94c837279541 .axis.x text{text-anchor:middle}#chart-fb7a2267-8a42-4a7b-af71-94c837279541 .axis.x:not(.web) text[transform]{text-anchor:start}#chart-fb7a2267-8a42-4a7b-af71-94c837279541 .axis.x:not(.web) text[transform].backwards{text-anchor:end}#chart-fb7a2267-8a42-4a7b-af71-94c837279541 .axis.y text{text-anchor:end}#chart-fb7a2267-8a42-4a7b-af71-94c837279541 .axis.y text[transform].backwards{text-anchor:start}#chart-fb7a2267-8a42-4a7b-af71-94c837279541 .axis.y2 text{text-anchor:start}#chart-fb7a2267-8a42-4a7b-af71-94c837279541 .axis.y2 text[transform].backwards{text-anchor:end}#chart-fb7a2267-8a42-4a7b-af71-94c837279541 .axis .guide.line{stroke-dasharray:4,4}#chart-fb7a2267-8a42-4a7b-af71-94c837279541 .axis .major.guide.line{stroke-dasharray:6,6}#chart-fb7a2267-8a42-4a7b-af71-94c837279541 .horizontal .axis.y .guide.line,#chart-fb7a2267-8a42-4a7b-af71-94c837279541 .horizontal .axis.y2 .guide.line,#chart-fb7a2267-8a42-4a7b-af71-94c837279541 .vertical .axis.x .guide.line{opacity:0}#chart-fb7a2267-8a42-4a7b-af71-94c837279541 .horizontal .axis.always_show .guide.line,#chart-fb7a2267-8a42-4a7b-af71-94c837279541 .vertical .axis.always_show .guide.line{opacity:1 !important}#chart-fb7a2267-8a42-4a7b-af71-94c837279541 .axis.y .guides:hover .guide.line,#chart-fb7a2267-8a42-4a7b-af71-94c837279541 .axis.y2 .guides:hover .guide.line,#chart-fb7a2267-8a42-4a7b-af71-94c837279541 .axis.x .guides:hover .guide.line{opacity:1}#chart-fb7a2267-8a42-4a7b-af71-94c837279541 .axis .guides:hover text{opacity:1}#chart-fb7a2267-8a42-4a7b-af71-94c837279541 .nofill{fill:none}#chart-fb7a2267-8a42-4a7b-af71-94c837279541 .subtle-fill{fill-opacity:.2}#chart-fb7a2267-8a42-4a7b-af71-94c837279541 .dot{stroke-width:1px;fill-opacity:1}#chart-fb7a2267-8a42-4a7b-af71-94c837279541 .dot.active{stroke-width:5px}#chart-fb7a2267-8a42-4a7b-af71-94c837279541 .dot.negative{fill:transparent}#chart-fb7a2267-8a42-4a7b-af71-94c837279541 text,#chart-fb7a2267-8a42-4a7b-af71-94c837279541 tspan{stroke:none !important}#chart-fb7a2267-8a42-4a7b-af71-94c837279541 .series text.active{opacity:1}#chart-fb7a2267-8a42-4a7b-af71-94c837279541 .tooltip rect{fill-opacity:.95;stroke-width:.5}#chart-fb7a2267-8a42-4a7b-af71-94c837279541 .tooltip text{fill-opacity:1}#chart-fb7a2267-8a42-4a7b-af71-94c837279541 .showable{visibility:hidden}#chart-fb7a2267-8a42-4a7b-af71-94c837279541 .showable.shown{visibility:visible}#chart-fb7a2267-8a42-4a7b-af71-94c837279541 .gauge-background{fill:rgba(229,229,229,1);stroke:none}#chart-fb7a2267-8a42-4a7b-af71-94c837279541 .bg-lines{stroke:#f8f8f8;stroke-width:2px}</style><script type=\"text/javascript\">window.pygal = window.pygal || {};window.pygal.config = window.pygal.config || {};window.pygal.config['fb7a2267-8a42-4a7b-af71-94c837279541'] = {\"allow_interruptions\": false, \"box_mode\": \"extremes\", \"classes\": [\"pygal-chart\"], \"css\": [\"file://style.css\", \"file://graph.css\"], \"defs\": [], \"disable_xml_declaration\": false, \"dots_size\": 2.5, \"dynamic_print_values\": false, \"explicit_size\": true, \"fill\": false, \"force_uri_protocol\": \"https\", \"formatter\": null, \"half_pie\": false, \"height\": 360, \"include_x_axis\": false, \"inner_radius\": 0, \"interpolate\": null, \"interpolation_parameters\": {}, \"interpolation_precision\": 250, \"inverse_y_axis\": false, \"js\": [\"//kozea.github.io/pygal.js/2.0.x/pygal-tooltips.min.js\"], \"legend_at_bottom\": false, \"legend_at_bottom_columns\": null, \"legend_box_size\": 12, \"logarithmic\": false, \"margin\": 20, \"margin_bottom\": null, \"margin_left\": null, \"margin_right\": null, \"margin_top\": null, \"max_scale\": 16, \"min_scale\": 4, \"missing_value_fill_truncation\": \"x\", \"no_data_text\": \"No data\", \"no_prefix\": false, \"order_min\": null, \"pretty_print\": false, \"print_labels\": false, \"print_values\": false, \"print_values_position\": \"center\", \"print_zeroes\": true, \"range\": null, \"rounded_bars\": null, \"secondary_range\": null, \"show_dots\": true, \"show_legend\": true, \"show_minor_x_labels\": true, \"show_minor_y_labels\": true, \"show_only_major_dots\": false, \"show_x_guides\": false, \"show_x_labels\": true, \"show_y_guides\": true, \"show_y_labels\": true, \"spacing\": 10, \"stack_from_top\": false, \"strict\": false, \"stroke\": true, \"stroke_style\": null, \"style\": {\"background\": \"#f8f8f8\", \"ci_colors\": [], \"colors\": [\"#fe9592\", \"#534f4c\", \"#3ac2c0\", \"#a2a7a1\", \"#fd4b46\", \"#7b7571\", \"#73d5d4\", \"#c9ccc9\", \"#ffdfde\", \"#2e9b99\"], \"font_family\": \"Consolas, \\\"Liberation Mono\\\", Menlo, Courier, monospace\", \"foreground\": \"#333\", \"foreground_strong\": \"#666\", \"foreground_subtle\": \"rgba(0, 0 , 0, 0.5)\", \"guide_stroke_dasharray\": \"4,4\", \"label_font_family\": \"Consolas, \\\"Liberation Mono\\\", Menlo, Courier, monospace\", \"label_font_size\": 10, \"legend_font_family\": \"Consolas, \\\"Liberation Mono\\\", Menlo, Courier, monospace\", \"legend_font_size\": 14, \"major_guide_stroke_dasharray\": \"6,6\", \"major_label_font_family\": \"Consolas, \\\"Liberation Mono\\\", Menlo, Courier, monospace\", \"major_label_font_size\": 10, \"no_data_font_family\": \"Consolas, \\\"Liberation Mono\\\", Menlo, Courier, monospace\", \"no_data_font_size\": 64, \"opacity\": \".5\", \"opacity_hover\": \".9\", \"plot_background\": \"#ffffff\", \"stroke_opacity\": \".8\", \"stroke_opacity_hover\": \".9\", \"title_font_family\": \"Consolas, \\\"Liberation Mono\\\", Menlo, Courier, monospace\", \"title_font_size\": 16, \"tooltip_font_family\": \"Consolas, \\\"Liberation Mono\\\", Menlo, Courier, monospace\", \"tooltip_font_size\": 14, \"transition\": \"250ms ease-in\", \"value_background\": \"rgba(229, 229, 229, 1)\", \"value_colors\": [], \"value_font_family\": \"Consolas, \\\"Liberation Mono\\\", Menlo, Courier, monospace\", \"value_font_size\": 16, \"value_label_font_family\": \"Consolas, \\\"Liberation Mono\\\", Menlo, Courier, monospace\", \"value_label_font_size\": 10}, \"title\": \"Coffee Production in 2017 by Continent and Country\", \"tooltip_border_radius\": 0, \"tooltip_fancy_mode\": true, \"truncate_label\": null, \"truncate_legend\": null, \"width\": 640, \"x_label_rotation\": 0, \"x_labels\": null, \"x_labels_major\": null, \"x_labels_major_count\": null, \"x_labels_major_every\": null, \"x_title\": null, \"xrange\": null, \"y_label_rotation\": 0, \"y_labels\": null, \"y_labels_major\": null, \"y_labels_major_count\": null, \"y_labels_major_every\": null, \"y_title\": null, \"zero\": 0, \"legends\": [\"Africa\", \"North America\", \"South America\", \"Asia\", \"Oceania\"]}</script><script type=\"text/javascript\" xlink:href=\"https://kozea.github.io/pygal.js/2.0.x/pygal-tooltips.min.js\"/></defs><title>Coffee Production in 2017 by Continent and Country</title><g class=\"graph treemap-graph vertical\"><rect class=\"background\" height=\"360\" width=\"640\" x=\"0\" y=\"0\"/><g class=\"plot\" transform=\"translate(151, 46)\"><rect class=\"background\" height=\"294\" width=\"468.8\" x=\"0\" y=\"0\"/><g class=\"series serie-0 color-0\"><g class=\"rects\"><g class=\"rect\"><desc class=\"label\">Angola</desc><rect class=\"rect reactive tooltip-trigger\" height=\"3.97567246412666\" width=\"53.04392389686362\" x=\"9.015384615384617\" y=\"284.3704813820272\"/><desc class=\"value\">15,436 metric tons</desc><desc class=\"x centered\">35.53734656381643</desc><desc class=\"y centered\">286.35831761409054</desc></g><g class=\"rect\"><desc class=\"label\">Benin</desc><rect class=\"rect reactive tooltip-trigger\" height=\"0.01287792324478687\" width=\"53.04392389686362\" x=\"9.015384615384617\" y=\"284.3576034587824\"/><desc class=\"value\">50 metric tons</desc><desc class=\"x centered\">35.53734656381643</desc><desc class=\"y centered\">284.3640424204048</desc></g><g class=\"rect\"><desc class=\"label\">Burundi</desc><rect class=\"rect reactive tooltip-trigger\" height=\"3.6058185085367427\" width=\"53.04392389686362\" x=\"9.015384615384617\" y=\"280.7517849502457\"/><desc class=\"value\">14,000 metric tons</desc><desc class=\"x centered\">35.53734656381643</desc><desc class=\"y centered\">282.554694204514</desc></g><g class=\"rect\"><desc class=\"label\">Cabo Verde</desc><rect class=\"rect reactive tooltip-trigger\" height=\"0.012105247850115575\" width=\"53.04392389686362\" x=\"9.015384615384617\" y=\"280.73967970239556\"/><desc class=\"value\">47 metric tons</desc><desc class=\"x centered\">35.53734656381643</desc><desc class=\"y centered\">280.74573232632065</desc></g><g class=\"rect\"><desc class=\"label\">Cameroon</desc><rect class=\"rect reactive tooltip-trigger\" height=\"7.980191476321636\" width=\"53.04392389686362\" x=\"9.015384615384617\" y=\"272.7594882260739\"/><desc class=\"value\">30,984 metric tons</desc><desc class=\"x centered\">35.53734656381643</desc><desc class=\"y centered\">276.7495839642347</desc></g><g class=\"rect\"><desc class=\"label\">Central African Republic</desc><rect class=\"rect reactive tooltip-trigger\" height=\"2.4094594390971906\" width=\"53.04392389686362\" x=\"9.015384615384617\" y=\"270.35002878697674\"/><desc class=\"value\">9,355 metric tons</desc><desc class=\"x centered\">35.53734656381643</desc><desc class=\"y centered\">271.55475850652533</desc></g><g class=\"rect\"><desc class=\"label\">Comoros</desc><rect class=\"rect reactive tooltip-trigger\" height=\"0.0360581850853805\" width=\"53.04392389686362\" x=\"9.015384615384617\" y=\"270.31397060189136\"/><desc class=\"value\">140 metric tons</desc><desc class=\"x centered\">35.53734656381643</desc><desc class=\"y centered\">270.33199969443405</desc></g><g class=\"rect\"><desc class=\"label\">Congo</desc><rect class=\"rect reactive tooltip-trigger\" height=\"0.8234144122708358\" width=\"53.04392389686362\" x=\"9.015384615384617\" y=\"269.4905561896205\"/><desc class=\"value\">3,197 metric tons</desc><desc class=\"x centered\">35.53734656381643</desc><desc class=\"y centered\">269.90226339575594</desc></g><g class=\"rect\"><desc class=\"label\">Côte d'Ivoire</desc><rect class=\"rect reactive tooltip-trigger\" height=\"26.66090693519095\" width=\"53.04392389686362\" x=\"9.015384615384617\" y=\"242.82964925442957\"/><desc class=\"value\">103,514 metric tons</desc><desc class=\"x centered\">35.53734656381643</desc><desc class=\"y centered\">256.16010272202504</desc></g><g class=\"rect\"><desc class=\"label\">Democratic Republic of the Congo</desc><rect class=\"rect reactive tooltip-trigger\" height=\"7.704088801953645\" width=\"53.04392389686362\" x=\"9.015384615384617\" y=\"235.12556045247592\"/><desc class=\"value\">29,912 metric tons</desc><desc class=\"x centered\">35.53734656381643</desc><desc class=\"y centered\">238.97760485345276</desc></g><g class=\"rect\"><desc class=\"label\">Equatorial Guinea</desc><rect class=\"rect reactive tooltip-trigger\" height=\"1.1002897620334977\" width=\"53.04392389686362\" x=\"9.015384615384617\" y=\"234.02527069044243\"/><desc class=\"value\">4,272 metric tons</desc><desc class=\"x centered\">35.53734656381643</desc><desc class=\"y centered\">234.5754155714592</desc></g><g class=\"rect\"><desc class=\"label\">Ethiopia</desc><rect class=\"rect reactive tooltip-trigger\" height=\"121.37365390660125\" width=\"53.04392389686362\" x=\"9.015384615384617\" y=\"112.65161678384118\"/><desc class=\"value\">471,247 metric tons</desc><desc class=\"x centered\">35.53734656381643</desc><desc class=\"y centered\">173.3384437371418</desc></g><g class=\"rect\"><desc class=\"label\">Gabon</desc><rect class=\"rect reactive tooltip-trigger\" height=\"0.024210495700174306\" width=\"53.04392389686362\" x=\"9.015384615384617\" y=\"112.627406288141\"/><desc class=\"value\">94 metric tons</desc><desc class=\"x centered\">35.53734656381643</desc><desc class=\"y centered\">112.63951153599109</desc></g><g class=\"rect\"><desc class=\"label\">Ghana</desc><rect class=\"rect reactive tooltip-trigger\" height=\"0.187245003979001\" width=\"53.04392389686362\" x=\"9.015384615384617\" y=\"112.440161284162\"/><desc class=\"value\">727 metric tons</desc><desc class=\"x centered\">35.53734656381643</desc><desc class=\"y centered\">112.5337837861515</desc></g><g class=\"rect\"><desc class=\"label\">Guinea</desc><rect class=\"rect reactive tooltip-trigger\" height=\"4.58788893518323\" width=\"53.04392389686362\" x=\"9.015384615384617\" y=\"107.85227234897877\"/><desc class=\"value\">17,813 metric tons</desc><desc class=\"x centered\">35.53734656381643</desc><desc class=\"y centered\">110.14621681657039</desc></g><g class=\"rect\"><desc class=\"label\">Kenya</desc><rect class=\"rect reactive tooltip-trigger\" height=\"10.508385367735656\" width=\"53.04392389686362\" x=\"9.015384615384617\" y=\"97.34388698124312\"/><desc class=\"value\">40,800 metric tons</desc><desc class=\"x centered\">35.53734656381643</desc><desc class=\"y centered\">102.59807966511094</desc></g><g class=\"rect\"><desc class=\"label\">Liberia</desc><rect class=\"rect reactive tooltip-trigger\" height=\"0.15298972814792933\" width=\"53.04392389686362\" x=\"9.015384615384617\" y=\"97.19089725309519\"/><desc class=\"value\">594 metric tons</desc><desc class=\"x centered\">35.53734656381643</desc><desc class=\"y centered\">97.26739211716915</desc></g><g class=\"rect\"><desc class=\"label\">Malawi</desc><rect class=\"rect reactive tooltip-trigger\" height=\"2.168642274419966\" width=\"53.04392389686362\" x=\"9.015384615384617\" y=\"95.02225497867522\"/><desc class=\"value\">8,420 metric tons</desc><desc class=\"x centered\">35.53734656381643</desc><desc class=\"y centered\">96.1065761158852</desc></g><g class=\"rect\"><desc class=\"label\">Mozambique</desc><rect class=\"rect reactive tooltip-trigger\" height=\"0.204243862662139\" width=\"53.04392389686362\" x=\"9.015384615384617\" y=\"94.81801111601308\"/><desc class=\"value\">793 metric tons</desc><desc class=\"x centered\">35.53734656381643</desc><desc class=\"y centered\">94.92013304734415</desc></g><g class=\"rect\"><desc class=\"label\">Nigeria</desc><rect class=\"rect reactive tooltip-trigger\" height=\"0.4007609713773661\" width=\"53.04392389686362\" x=\"9.015384615384617\" y=\"94.41725014463572\"/><desc class=\"value\">1,556 metric tons</desc><desc class=\"x centered\">35.53734656381643</desc><desc class=\"y centered\">94.6176306303244</desc></g><g class=\"rect\"><desc class=\"label\">Rwanda</desc><rect class=\"rect reactive tooltip-trigger\" height=\"4.590722078297063\" width=\"53.04392389686362\" x=\"9.015384615384617\" y=\"89.82652806633865\"/><desc class=\"value\">17,824 metric tons</desc><desc class=\"x centered\">35.53734656381643</desc><desc class=\"y centered\">92.12188910548718</desc></g><g class=\"rect\"><desc class=\"label\">Sao Tome and Principe</desc><rect class=\"rect reactive tooltip-trigger\" height=\"0.0030907015787704495\" width=\"53.04392389686362\" x=\"9.015384615384617\" y=\"89.82343736475988\"/><desc class=\"value\">12 metric tons</desc><desc class=\"x centered\">35.53734656381643</desc><desc class=\"y centered\">89.82498271554927</desc></g><g class=\"rect\"><desc class=\"label\">Sierra Leone</desc><rect class=\"rect reactive tooltip-trigger\" height=\"9.199988366066606\" width=\"53.04392389686362\" x=\"9.015384615384617\" y=\"80.62344899869328\"/><desc class=\"value\">35,720 metric tons</desc><desc class=\"x centered\">35.53734656381643</desc><desc class=\"y centered\">85.22344318172658</desc></g><g class=\"rect\"><desc class=\"label\">Togo</desc><rect class=\"rect reactive tooltip-trigger\" height=\"4.75865019740894\" width=\"53.04392389686362\" x=\"9.015384615384617\" y=\"75.86479880128434\"/><desc class=\"value\">18,476 metric tons</desc><desc class=\"x centered\">35.53734656381643</desc><desc class=\"y centered\">78.24412389998881</desc></g><g class=\"rect\"><desc class=\"label\">Uganda</desc><rect class=\"rect reactive tooltip-trigger\" height=\"53.913425664246745\" width=\"53.04392389686362\" x=\"9.015384615384617\" y=\"21.951373137037592\"/><desc class=\"value\">209,325 metric tons</desc><desc class=\"x centered\">35.53734656381643</desc><desc class=\"y centered\">48.908085969160965</desc></g><g class=\"rect\"><desc class=\"label\">United Republic of Tanzania</desc><rect class=\"rect reactive tooltip-trigger\" height=\"16.297526983191403\" width=\"46.76687375005332\" x=\"9.015384615384617\" y=\"5.653846153846189\"/><desc class=\"value\">55,789 metric tons</desc><desc class=\"x centered\">32.39882149041128</desc><desc class=\"y centered\">13.80260964544189</desc></g><g class=\"rect\"><desc class=\"label\">Zambia</desc><rect class=\"rect reactive tooltip-trigger\" height=\"14.974223510197248\" width=\"6.277050146810296\" x=\"55.78225836543794\" y=\"6.977149626840344\"/><desc class=\"value\">6,880 metric tons</desc><desc class=\"x centered\">58.92078343884309</desc><desc class=\"y centered\">14.464261381938968</desc></g><g class=\"rect\"><desc class=\"label\">Zimbabwe</desc><rect class=\"rect reactive tooltip-trigger\" height=\"1.323303472994155\" width=\"6.277050146810296\" x=\"55.78225836543794\" y=\"5.653846153846189\"/><desc class=\"value\">608 metric tons</desc><desc class=\"x centered\">58.92078343884309</desc><desc class=\"y centered\">6.315497890343266</desc></g></g></g><g class=\"series serie-1 color-1\"><g class=\"rects\"><g class=\"rect\"><desc class=\"label\">Belize</desc><rect class=\"rect reactive tooltip-trigger\" height=\"67.5812782749199\" width=\"0.016172421664272463\" x=\"62.059308512248236\" y=\"220.76487557123397\"/><desc class=\"value\">80 metric tons</desc><desc class=\"x centered\">62.06739472308037</desc><desc class=\"y centered\">254.55551470869392</desc></g><g class=\"rect\"><desc class=\"label\">Costa Rica</desc><rect class=\"rect reactive tooltip-trigger\" height=\"67.5812782749199\" width=\"18.27281492792283\" x=\"62.07548093391251\" y=\"220.76487557123397\"/><desc class=\"value\">90,390 metric tons</desc><desc class=\"x centered\">71.21188839787392</desc><desc class=\"y centered\">254.55551470869392</desc></g><g class=\"rect\"><desc class=\"label\">Cuba</desc><rect class=\"rect reactive tooltip-trigger\" height=\"67.5812782749199\" width=\"1.2747911376864778\" x=\"80.34829586183534\" y=\"220.76487557123397\"/><desc class=\"value\">6,306 metric tons</desc><desc class=\"x centered\">80.98569143067857</desc><desc class=\"y centered\">254.55551470869392</desc></g><g class=\"rect\"><desc class=\"label\">Dominica</desc><rect class=\"rect reactive tooltip-trigger\" height=\"67.5812782749199\" width=\"0.058018562720590694\" x=\"81.62308699952182\" y=\"220.76487557123397\"/><desc class=\"value\">287 metric tons</desc><desc class=\"x centered\">81.65209628088212</desc><desc class=\"y centered\">254.55551470869392</desc></g><g class=\"rect\"><desc class=\"label\">Dominican Republic</desc><rect class=\"rect reactive tooltip-trigger\" height=\"67.5812782749199\" width=\"3.0810484823151967\" x=\"81.68110556224241\" y=\"220.76487557123397\"/><desc class=\"value\">15,241 metric tons</desc><desc class=\"x centered\">83.2216298034</desc><desc class=\"y centered\">254.55551470869392</desc></g><g class=\"rect\"><desc class=\"label\">El Salvador</desc><rect class=\"rect reactive tooltip-trigger\" height=\"67.5812782749199\" width=\"7.977046985903684\" x=\"84.7621540445576\" y=\"220.76487557123397\"/><desc class=\"value\">39,460 metric tons</desc><desc class=\"x centered\">88.75067753750945</desc><desc class=\"y centered\">254.55551470869392</desc></g><g class=\"rect\"><desc class=\"label\">Guadeloupe</desc><rect class=\"rect reactive tooltip-trigger\" height=\"67.5812782749199\" width=\"0.006266813394915971\" x=\"92.73920103046129\" y=\"220.76487557123397\"/><desc class=\"value\">31 metric tons</desc><desc class=\"x centered\">92.74233443715875</desc><desc class=\"y centered\">254.55551470869392</desc></g><g class=\"rect\"><desc class=\"label\">Guatemala</desc><rect class=\"rect reactive tooltip-trigger\" height=\"67.5812782749199\" width=\"49.61719182126677\" x=\"92.7454678438562\" y=\"220.76487557123397\"/><desc class=\"value\">245,441 metric tons</desc><desc class=\"x centered\">117.55406375448959</desc><desc class=\"y centered\">254.55551470869392</desc></g><g class=\"rect\"><desc class=\"label\">Haiti</desc><rect class=\"rect reactive tooltip-trigger\" height=\"67.5812782749199\" width=\"7.992612941755539\" x=\"142.36265966512298\" y=\"220.76487557123397\"/><desc class=\"value\">39,537 metric tons</desc><desc class=\"x centered\">146.35896613600073</desc><desc class=\"y centered\">254.55551470869392</desc></g><g class=\"rect\"><desc class=\"label\">Honduras</desc><rect class=\"rect reactive tooltip-trigger\" height=\"67.5812782749199\" width=\"96.03224415300704\" x=\"150.35527260687851\" y=\"220.76487557123397\"/><desc class=\"value\">475,042 metric tons</desc><desc class=\"x centered\">198.37139468338205</desc><desc class=\"y centered\">254.55551470869392</desc></g><g class=\"rect\"><desc class=\"label\">Jamaica</desc><rect class=\"rect reactive tooltip-trigger\" height=\"36.0368035271602\" width=\"2.3588222517851705\" x=\"246.38751675988556\" y=\"252.30935031899367\"/><desc class=\"value\">6,222 metric tons</desc><desc class=\"x centered\">247.56692788577814</desc><desc class=\"y centered\">270.32775208257374</desc></g><g class=\"rect\"><desc class=\"label\">Martinique</desc><rect class=\"rect reactive tooltip-trigger\" height=\"36.0368035271602\" width=\"0.010615079242995762\" x=\"248.74633901167073\" y=\"252.30935031899367\"/><desc class=\"value\">28 metric tons</desc><desc class=\"x centered\">248.75164655129223</desc><desc class=\"y centered\">270.32775208257374</desc></g><g class=\"rect\"><desc class=\"label\">Mexico</desc><rect class=\"rect reactive tooltip-trigger\" height=\"36.0368035271602\" width=\"58.304839182103535\" x=\"248.75695409091372\" y=\"252.30935031899367\"/><desc class=\"value\">153,794 metric tons</desc><desc class=\"x centered\">277.90937368196546</desc><desc class=\"y centered\">270.32775208257374</desc></g><g class=\"rect\"><desc class=\"label\">Nicaragua</desc><rect class=\"rect reactive tooltip-trigger\" height=\"31.544474747759693\" width=\"55.48487246596051\" x=\"246.38751675988556\" y=\"220.76487557123397\"/><desc class=\"value\">128,111 metric tons</desc><desc class=\"x centered\">274.1299529928658</desc><desc class=\"y centered\">236.53711294511382</desc></g><g class=\"rect\"><desc class=\"label\">Panama</desc><rect class=\"rect reactive tooltip-trigger\" height=\"15.085114363600667\" width=\"5.189404047171195\" x=\"301.87238922584606\" y=\"237.224235955393\"/><desc class=\"value\">5,730 metric tons</desc><desc class=\"x centered\">304.46709124943163</desc><desc class=\"y centered\">244.76679313719333</desc></g><g class=\"rect\"><desc class=\"label\">Puerto Rico</desc><rect class=\"rect reactive tooltip-trigger\" height=\"10.18311035923341\" width=\"5.189404047171195\" x=\"301.87238922584606\" y=\"227.0411255961596\"/><desc class=\"value\">3,868 metric tons</desc><desc class=\"x centered\">304.46709124943163</desc><desc class=\"y centered\">232.1326807757763</desc></g><g class=\"rect\"><desc class=\"label\">Saint Vincent and the Grenadines</desc><rect class=\"rect reactive tooltip-trigger\" height=\"0.4844085589707561\" width=\"5.189404047171195\" x=\"301.87238922584606\" y=\"226.55671703718883\"/><desc class=\"value\">184 metric tons</desc><desc class=\"x centered\">304.46709124943163</desc><desc class=\"y centered\">226.7989213166742</desc></g><g class=\"rect\"><desc class=\"label\">United States of America</desc><rect class=\"rect reactive tooltip-trigger\" height=\"5.79184146595486\" width=\"5.189404047171195\" x=\"301.87238922584606\" y=\"220.76487557123397\"/><desc class=\"value\">2,200 metric tons</desc><desc class=\"x centered\">304.46709124943163</desc><desc class=\"y centered\">223.6607963042114</desc></g></g></g><g class=\"series serie-2 color-2\"><g class=\"rects\"><g class=\"rect\"><desc class=\"label\">Bolivia (Plurinational State of)</desc><rect class=\"rect reactive tooltip-trigger\" height=\"1.6864468519366085\" width=\"171.58735212934084\" x=\"62.059308512248236\" y=\"219.07842871929736\"/><desc class=\"value\">21,181 metric tons</desc><desc class=\"x centered\">147.85298457691866</desc><desc class=\"y centered\">219.92165214526568</desc></g><g class=\"rect\"><desc class=\"label\">Brazil</desc><rect class=\"rect reactive tooltip-trigger\" height=\"213.42458256545117\" width=\"171.58735212934084\" x=\"62.059308512248236\" y=\"5.653846153846189\"/><desc class=\"value\">2,680,515 metric tons</desc><desc class=\"x centered\">147.85298457691866</desc><desc class=\"y centered\">112.36613743657178</desc></g><g class=\"rect\"><desc class=\"label\">Colombia</desc><rect class=\"rect reactive tooltip-trigger\" height=\"140.38275031296612\" width=\"73.41513263142818\" x=\"233.64666064158908\" y=\"80.38212525826785\"/><desc class=\"value\">754,376 metric tons</desc><desc class=\"x centered\">270.3542269573032</desc><desc class=\"y centered\">150.57350041475092</desc></g><g class=\"rect\"><desc class=\"label\">Ecuador</desc><rect class=\"rect reactive tooltip-trigger\" height=\"66.03874957821202\" width=\"1.5648191415636745\" x=\"233.64666064158908\" y=\"14.343375680055829\"/><desc class=\"value\">7,564 metric tons</desc><desc class=\"x centered\">234.4290702123709</desc><desc class=\"y centered\">47.36275046916184</desc></g><g class=\"rect\"><desc class=\"label\">Guyana</desc><rect class=\"rect reactive tooltip-trigger\" height=\"66.03874957821202\" width=\"0.08295775724047871\" x=\"235.21147978315275\" y=\"14.343375680055829\"/><desc class=\"value\">401 metric tons</desc><desc class=\"x centered\">235.252958661773</desc><desc class=\"y centered\">47.36275046916184</desc></g><g class=\"rect\"><desc class=\"label\">Paraguay</desc><rect class=\"rect reactive tooltip-trigger\" height=\"66.03874957821202\" width=\"0.09143972244464749\" x=\"235.29443754039323\" y=\"14.343375680055829\"/><desc class=\"value\">442 metric tons</desc><desc class=\"x centered\">235.34015740161556</desc><desc class=\"y centered\">47.36275046916184</desc></g><g class=\"rect\"><desc class=\"label\">Peru</desc><rect class=\"rect reactive tooltip-trigger\" height=\"66.03874957821202\" width=\"71.67591601017938\" x=\"235.38587726283788\" y=\"14.343375680055829\"/><desc class=\"value\">346,466 metric tons</desc><desc class=\"x centered\">271.2238352679276</desc><desc class=\"y centered\">47.36275046916184</desc></g><g class=\"rect\"><desc class=\"label\">Suriname</desc><rect class=\"rect reactive tooltip-trigger\" height=\"8.68952952620964\" width=\"0.009433361083381442\" x=\"233.64666064158908\" y=\"5.653846153846189\"/><desc class=\"value\">6 metric tons</desc><desc class=\"x centered\">233.65137732213077</desc><desc class=\"y centered\">9.998610916951009</desc></g><g class=\"rect\"><desc class=\"label\">Trinidad and Tobago</desc><rect class=\"rect reactive tooltip-trigger\" height=\"8.68952952620964\" width=\"0.061316847042007794\" x=\"233.65609400267246\" y=\"5.653846153846189\"/><desc class=\"value\">39 metric tons</desc><desc class=\"x centered\">233.68675242619346</desc><desc class=\"y centered\">9.998610916951009</desc></g><g class=\"rect\"><desc class=\"label\">Venezuela (Bolivarian Republic of)</desc><rect class=\"rect reactive tooltip-trigger\" height=\"8.68952952620964\" width=\"73.34438242330279\" x=\"233.71741084971447\" y=\"5.653846153846189\"/><desc class=\"value\">46,650 metric tons</desc><desc class=\"x centered\">270.38960206136585</desc><desc class=\"y centered\">9.998610916951009</desc></g></g></g><g class=\"series serie-3 color-3\"><g class=\"rects\"><g class=\"rect\"><desc class=\"label\">Cambodia</desc><rect class=\"rect reactive tooltip-trigger\" height=\"0.03265129382128862\" width=\"152.72282211159813\" x=\"307.06179327301726\" y=\"288.3135025523326\"/><desc class=\"value\">365 metric tons</desc><desc class=\"x centered\">383.4232043288163</desc><desc class=\"y centered\">288.32982819924325</desc></g><g class=\"rect\"><desc class=\"label\">China</desc><rect class=\"rect reactive tooltip-trigger\" height=\"10.300812283619393\" width=\"152.72282211159813\" x=\"307.06179327301726\" y=\"278.0126902687132\"/><desc class=\"value\">115,150 metric tons</desc><desc class=\"x centered\">383.4232043288163</desc><desc class=\"y centered\">283.1630964105229</desc></g><g class=\"rect\"><desc class=\"label\">China, mainland</desc><rect class=\"rect reactive tooltip-trigger\" height=\"10.300812283619393\" width=\"152.72282211159813\" x=\"307.06179327301726\" y=\"267.7118779850938\"/><desc class=\"value\">115,150 metric tons</desc><desc class=\"x centered\">383.4232043288163</desc><desc class=\"y centered\">272.8622841269035</desc></g><g class=\"rect\"><desc class=\"label\">India</desc><rect class=\"rect reactive tooltip-trigger\" height=\"27.910147047236194\" width=\"152.72282211159813\" x=\"307.06179327301726\" y=\"239.8017309378576\"/><desc class=\"value\">312,000 metric tons</desc><desc class=\"x centered\">383.4232043288163</desc><desc class=\"y centered\">253.7568044614757</desc></g><g class=\"rect\"><desc class=\"label\">Indonesia</desc><rect class=\"rect reactive tooltip-trigger\" height=\"59.81690191379727\" width=\"152.72282211159813\" x=\"307.06179327301726\" y=\"179.98482902406033\"/><desc class=\"value\">668,677 metric tons</desc><desc class=\"x centered\">383.4232043288163</desc><desc class=\"y centered\">209.89327998095897</desc></g><g class=\"rect\"><desc class=\"label\">Lao People's Democratic Republic</desc><rect class=\"rect reactive tooltip-trigger\" height=\"13.489457128166606\" width=\"152.72282211159813\" x=\"307.06179327301726\" y=\"166.49537189589373\"/><desc class=\"value\">150,795 metric tons</desc><desc class=\"x centered\">383.4232043288163</desc><desc class=\"y centered\">173.24010045997704</desc></g><g class=\"rect\"><desc class=\"label\">Madagascar</desc><rect class=\"rect reactive tooltip-trigger\" height=\"4.239032493998053\" width=\"152.72282211159813\" x=\"307.06179327301726\" y=\"162.25633940189567\"/><desc class=\"value\">47,387 metric tons</desc><desc class=\"x centered\">383.4232043288163</desc><desc class=\"y centered\">164.37585564889469</desc></g><g class=\"rect\"><desc class=\"label\">Malaysia</desc><rect class=\"rect reactive tooltip-trigger\" height=\"148.61670242415914\" width=\"0.7454373529071745\" x=\"307.06179327301726\" y=\"13.63963697773653\"/><desc class=\"value\">8,109 metric tons</desc><desc class=\"x centered\">307.43451194947085</desc><desc class=\"y centered\">87.9479881898161</desc></g><g class=\"rect\"><desc class=\"label\">Myanmar</desc><rect class=\"rect reactive tooltip-trigger\" height=\"148.61670242415914\" width=\"0.785609522499044\" x=\"307.80723062592443\" y=\"13.63963697773653\"/><desc class=\"value\">8,546 metric tons</desc><desc class=\"x centered\">308.20003538717395</desc><desc class=\"y centered\">87.9479881898161</desc></g><g class=\"rect\"><desc class=\"label\">Nepal</desc><rect class=\"rect reactive tooltip-trigger\" height=\"148.61670242415914\" width=\"0.042838057276412655\" x=\"308.5928401484235\" y=\"13.63963697773653\"/><desc class=\"value\">466 metric tons</desc><desc class=\"x centered\">308.6142591770617</desc><desc class=\"y centered\">87.9479881898161</desc></g><g class=\"rect\"><desc class=\"label\">Philippines</desc><rect class=\"rect reactive tooltip-trigger\" height=\"148.61670242415914\" width=\"5.706654333921847\" x=\"308.6356782056999\" y=\"13.63963697773653\"/><desc class=\"value\">62,078 metric tons</desc><desc class=\"x centered\">311.4890053726608</desc><desc class=\"y centered\">87.9479881898161</desc></g><g class=\"rect\"><desc class=\"label\">Sri Lanka</desc><rect class=\"rect reactive tooltip-trigger\" height=\"0.5107167735236544\" width=\"145.44228284499366\" x=\"314.34233253962174\" y=\"161.74562262837202\"/><desc class=\"value\">5,437 metric tons</desc><desc class=\"x centered\">387.06347396211856</desc><desc class=\"y centered\">162.00098101513385</desc></g><g class=\"rect\"><desc class=\"label\">Thailand</desc><rect class=\"rect reactive tooltip-trigger\" height=\"3.223048359967663\" width=\"145.44228284499366\" x=\"314.34233253962174\" y=\"158.52257426840436\"/><desc class=\"value\">34,312 metric tons</desc><desc class=\"x centered\">387.06347396211856</desc><desc class=\"y centered\">160.1340984483882</desc></g><g class=\"rect\"><desc class=\"label\">Viet Nam</desc><rect class=\"rect reactive tooltip-trigger\" height=\"144.88293729066783\" width=\"145.44228284499366\" x=\"314.34233253962174\" y=\"13.63963697773653\"/><desc class=\"value\">1,542,398 metric tons</desc><desc class=\"x centered\">387.06347396211856</desc><desc class=\"y centered\">86.08110562307044</desc></g><g class=\"rect\"><desc class=\"label\">Yemen</desc><rect class=\"rect reactive tooltip-trigger\" height=\"1.7456365688453843\" width=\"152.72282211159813\" x=\"307.06179327301726\" y=\"11.894000408891202\"/><desc class=\"value\">19,514 metric tons</desc><desc class=\"x centered\">383.4232043288163</desc><desc class=\"y centered\">12.766818693313894</desc></g></g></g><g class=\"series serie-4 color-4\"><g class=\"rects\"><g class=\"rect\"><desc class=\"label\">Fiji</desc><rect class=\"rect reactive tooltip-trigger\" height=\"6.240154255045013\" width=\"0.01970419311328442\" x=\"307.06179327301726\" y=\"5.653846153846189\"/><desc class=\"value\">9 metric tons</desc><desc class=\"x centered\">307.0716453695739</desc><desc class=\"y centered\">8.773923281368695</desc></g><g class=\"rect\"><desc class=\"label\">French Polynesia</desc><rect class=\"rect reactive tooltip-trigger\" height=\"6.240154255045013\" width=\"0.04816580538800963\" x=\"307.08149746613054\" y=\"5.653846153846189\"/><desc class=\"value\">22 metric tons</desc><desc class=\"x centered\">307.1055803688246</desc><desc class=\"y centered\">8.773923281368695</desc></g><g class=\"rect\"><desc class=\"label\">New Caledonia</desc><rect class=\"rect reactive tooltip-trigger\" height=\"6.240154255045013\" width=\"0.010946773951843625\" x=\"307.12966327151855\" y=\"5.653846153846189\"/><desc class=\"value\">5 metric tons</desc><desc class=\"x centered\">307.1351366584945</desc><desc class=\"y centered\">8.773923281368695</desc></g><g class=\"rect\"><desc class=\"label\">Papua New Guinea</desc><rect class=\"rect reactive tooltip-trigger\" height=\"6.240154255045013\" width=\"128.8216358651668\" x=\"307.1406100454704\" y=\"5.653846153846189\"/><desc class=\"value\">58,840 metric tons</desc><desc class=\"x centered\">371.55142797805377</desc><desc class=\"y centered\">8.773923281368695</desc></g><g class=\"rect\"><desc class=\"label\">Samoa</desc><rect class=\"rect reactive tooltip-trigger\" height=\"6.240154255045013\" width=\"0.026272257484379224\" x=\"435.9622459106372\" y=\"5.653846153846189\"/><desc class=\"value\">12 metric tons</desc><desc class=\"x centered\">435.9753820393794</desc><desc class=\"y centered\">8.773923281368695</desc></g><g class=\"rect\"><desc class=\"label\">Timor-Leste</desc><rect class=\"rect reactive tooltip-trigger\" height=\"6.240154255045013\" width=\"23.70414431529838\" x=\"435.9885181681216\" y=\"5.653846153846189\"/><desc class=\"value\">10,827 metric tons</desc><desc class=\"x centered\">447.8405903257708</desc><desc class=\"y centered\">8.773923281368695</desc></g><g class=\"rect\"><desc class=\"label\">Tonga</desc><rect class=\"rect reactive tooltip-trigger\" height=\"2.3772016209695153\" width=\"0.09195290119544097\" x=\"459.69266248341995\" y=\"9.516798787921687\"/><desc class=\"value\">16 metric tons</desc><desc class=\"x centered\">459.7386389340177</desc><desc class=\"y centered\">10.705399598406444</desc></g><g class=\"rect\"><desc class=\"label\">Vanuatu</desc><rect class=\"rect reactive tooltip-trigger\" height=\"3.862952634075498\" width=\"0.09195290119544097\" x=\"459.69266248341995\" y=\"5.653846153846189\"/><desc class=\"value\">26 metric tons</desc><desc class=\"x centered\">459.7386389340177</desc><desc class=\"y centered\">7.585322470883938</desc></g></g></g></g><g class=\"titles\"><text class=\"title plot_title\" x=\"320.0\" y=\"26\">Coffee Production in 2017 by Continent and Country</text></g><g class=\"plot overlay\" transform=\"translate(151, 46)\"><g class=\"series serie-0 color-0\"/><g class=\"series serie-1 color-1\"/><g class=\"series serie-2 color-2\"/><g class=\"series serie-3 color-3\"/><g class=\"series serie-4 color-4\"/></g><g class=\"plot text-overlay\" transform=\"translate(151, 46)\"><g class=\"series serie-0 color-0\"/><g class=\"series serie-1 color-1\"/><g class=\"series serie-2 color-2\"/><g class=\"series serie-3 color-3\"/><g class=\"series serie-4 color-4\"/></g><g class=\"plot tooltip-overlay\" transform=\"translate(151, 46)\"><g class=\"tooltip\" style=\"opacity: 0\" transform=\"translate(0 0)\"><rect class=\"tooltip-box\" height=\"0\" rx=\"0\" ry=\"0\" width=\"0\"/><g class=\"text\"/></g></g><g class=\"legends\" transform=\"translate(10, 56)\"><g class=\"legend reactive activate-serie\" id=\"activate-serie-0\"><rect class=\"color-0 reactive\" height=\"12\" width=\"12\" x=\"0.0\" y=\"1.0\"/><text x=\"17.0\" y=\"11.2\">Africa</text></g><g class=\"legend reactive activate-serie\" id=\"activate-serie-1\"><rect class=\"color-1 reactive\" height=\"12\" width=\"12\" x=\"0.0\" y=\"22.0\"/><text x=\"17.0\" y=\"32.2\">North America</text></g><g class=\"legend reactive activate-serie\" id=\"activate-serie-2\"><rect class=\"color-2 reactive\" height=\"12\" width=\"12\" x=\"0.0\" y=\"43.0\"/><text x=\"17.0\" y=\"53.2\">South America</text></g><g class=\"legend reactive activate-serie\" id=\"activate-serie-3\"><rect class=\"color-3 reactive\" height=\"12\" width=\"12\" x=\"0.0\" y=\"64.0\"/><text x=\"17.0\" y=\"74.2\">Asia</text></g><g class=\"legend reactive activate-serie\" id=\"activate-serie-4\"><rect class=\"color-4 reactive\" height=\"12\" width=\"12\" x=\"0.0\" y=\"85.0\"/><text x=\"17.0\" y=\"95.2\">Oceania</text></g></g><g class=\"legends\" transform=\"translate(630, 56)\"/></g></svg>\n",
       "    </figure>\n",
       "  </body>\n",
       "</html>\n"
      ],
      "text/plain": [
       "<IPython.core.display.HTML object>"
      ]
     },
     "metadata": {},
     "output_type": "display_data"
    }
   ],
   "source": [
    "treemap.add('Africa', africa_list)\n",
    "treemap.add('North America', namerica_list)\n",
    "treemap.add('South America', samerica_list)\n",
    "treemap.add('Asia', asia_list)\n",
    "treemap.add('Oceania', oceania_list)\n",
    "\n",
    "display_chart(treemap)"
   ]
  },
  {
   "cell_type": "code",
   "execution_count": 18,
   "metadata": {
    "collapsed": true
   },
   "outputs": [],
   "source": [
    "from pygal.style import DarkSolarizedStyle"
   ]
  },
  {
   "cell_type": "code",
   "execution_count": 19,
   "metadata": {
    "collapsed": true
   },
   "outputs": [],
   "source": [
    "treemap = pygal.Treemap(width = 640,\n",
    "                        height = 360,\n",
    "                        explicit_size = True,\n",
    "                        style = DarkSolarizedStyle)"
   ]
  },
  {
   "cell_type": "code",
   "execution_count": 20,
   "metadata": {},
   "outputs": [
    {
     "data": {
      "text/html": [
       "\n",
       "<!DOCTYPE html>\n",
       "<html>\n",
       "  <head>\n",
       "  <script type=\"text/javascript\" \n",
       "          src=\"http://kozea.github.com/pygal.js/javascripts/svg.jquery.js\">\n",
       "  </script>\n",
       "  <script type=\"text/javascript\" \n",
       "          src=\"https://kozea.github.io/pygal.js/2.0.x/pygal-tooltips.min.js\"\">\n",
       "  </script>\n",
       "  </head>\n",
       "  <body>\n",
       "    <figure>\n",
       "      <?xml version='1.0' encoding='utf-8'?>\n",
       "<svg xmlns:xlink=\"http://www.w3.org/1999/xlink\" xmlns=\"http://www.w3.org/2000/svg\" id=\"chart-1224e4fa-eff1-4b65-8f85-58d53f81b4a7\" class=\"pygal-chart\" viewBox=\"0 0 640 360\" width=\"640\" height=\"360\"><!--Generated with pygal 2.4.0 (lxml) ©Kozea 2012-2016 on 2019-02-05--><!--http://pygal.org--><!--http://github.com/Kozea/pygal--><defs><style type=\"text/css\">#chart-1224e4fa-eff1-4b65-8f85-58d53f81b4a7{-webkit-user-select:none;-webkit-font-smoothing:antialiased;font-family:Consolas,\"Liberation Mono\",Menlo,Courier,monospace}#chart-1224e4fa-eff1-4b65-8f85-58d53f81b4a7 .title{font-family:Consolas,\"Liberation Mono\",Menlo,Courier,monospace;font-size:16px}#chart-1224e4fa-eff1-4b65-8f85-58d53f81b4a7 .legends .legend text{font-family:Consolas,\"Liberation Mono\",Menlo,Courier,monospace;font-size:14px}#chart-1224e4fa-eff1-4b65-8f85-58d53f81b4a7 .axis text{font-family:Consolas,\"Liberation Mono\",Menlo,Courier,monospace;font-size:10px}#chart-1224e4fa-eff1-4b65-8f85-58d53f81b4a7 .axis text.major{font-family:Consolas,\"Liberation Mono\",Menlo,Courier,monospace;font-size:10px}#chart-1224e4fa-eff1-4b65-8f85-58d53f81b4a7 .text-overlay text.value{font-family:Consolas,\"Liberation Mono\",Menlo,Courier,monospace;font-size:16px}#chart-1224e4fa-eff1-4b65-8f85-58d53f81b4a7 .text-overlay text.label{font-family:Consolas,\"Liberation Mono\",Menlo,Courier,monospace;font-size:10px}#chart-1224e4fa-eff1-4b65-8f85-58d53f81b4a7 .tooltip{font-family:Consolas,\"Liberation Mono\",Menlo,Courier,monospace;font-size:14px}#chart-1224e4fa-eff1-4b65-8f85-58d53f81b4a7 text.no_data{font-family:Consolas,\"Liberation Mono\",Menlo,Courier,monospace;font-size:64px}\n",
       "#chart-1224e4fa-eff1-4b65-8f85-58d53f81b4a7{background-color:#073642}#chart-1224e4fa-eff1-4b65-8f85-58d53f81b4a7 path,#chart-1224e4fa-eff1-4b65-8f85-58d53f81b4a7 line,#chart-1224e4fa-eff1-4b65-8f85-58d53f81b4a7 rect,#chart-1224e4fa-eff1-4b65-8f85-58d53f81b4a7 circle{-webkit-transition:500ms ease-in;-moz-transition:500ms ease-in;transition:500ms ease-in}#chart-1224e4fa-eff1-4b65-8f85-58d53f81b4a7 .graph &gt; .background{fill:#073642}#chart-1224e4fa-eff1-4b65-8f85-58d53f81b4a7 .plot &gt; .background{fill:#002b36}#chart-1224e4fa-eff1-4b65-8f85-58d53f81b4a7 .graph{fill:#839496}#chart-1224e4fa-eff1-4b65-8f85-58d53f81b4a7 text.no_data{fill:#fdf6e3}#chart-1224e4fa-eff1-4b65-8f85-58d53f81b4a7 .title{fill:#fdf6e3}#chart-1224e4fa-eff1-4b65-8f85-58d53f81b4a7 .legends .legend text{fill:#839496}#chart-1224e4fa-eff1-4b65-8f85-58d53f81b4a7 .legends .legend:hover text{fill:#fdf6e3}#chart-1224e4fa-eff1-4b65-8f85-58d53f81b4a7 .axis .line{stroke:#fdf6e3}#chart-1224e4fa-eff1-4b65-8f85-58d53f81b4a7 .axis .guide.line{stroke:#657b83}#chart-1224e4fa-eff1-4b65-8f85-58d53f81b4a7 .axis .major.line{stroke:#839496}#chart-1224e4fa-eff1-4b65-8f85-58d53f81b4a7 .axis text.major{fill:#fdf6e3}#chart-1224e4fa-eff1-4b65-8f85-58d53f81b4a7 .axis.y .guides:hover .guide.line,#chart-1224e4fa-eff1-4b65-8f85-58d53f81b4a7 .line-graph .axis.x .guides:hover .guide.line,#chart-1224e4fa-eff1-4b65-8f85-58d53f81b4a7 .stackedline-graph .axis.x .guides:hover .guide.line,#chart-1224e4fa-eff1-4b65-8f85-58d53f81b4a7 .xy-graph .axis.x .guides:hover .guide.line{stroke:#fdf6e3}#chart-1224e4fa-eff1-4b65-8f85-58d53f81b4a7 .axis .guides:hover text{fill:#fdf6e3}#chart-1224e4fa-eff1-4b65-8f85-58d53f81b4a7 .reactive{fill-opacity:.66;stroke-opacity:.8}#chart-1224e4fa-eff1-4b65-8f85-58d53f81b4a7 .ci{stroke:#839496}#chart-1224e4fa-eff1-4b65-8f85-58d53f81b4a7 .reactive.active,#chart-1224e4fa-eff1-4b65-8f85-58d53f81b4a7 .active .reactive{fill-opacity:.9;stroke-opacity:.9;stroke-width:4}#chart-1224e4fa-eff1-4b65-8f85-58d53f81b4a7 .ci .reactive.active{stroke-width:1.5}#chart-1224e4fa-eff1-4b65-8f85-58d53f81b4a7 .series text{fill:#fdf6e3}#chart-1224e4fa-eff1-4b65-8f85-58d53f81b4a7 .tooltip rect{fill:#002b36;stroke:#fdf6e3;-webkit-transition:opacity 500ms ease-in;-moz-transition:opacity 500ms ease-in;transition:opacity 500ms ease-in}#chart-1224e4fa-eff1-4b65-8f85-58d53f81b4a7 .tooltip .label{fill:#839496}#chart-1224e4fa-eff1-4b65-8f85-58d53f81b4a7 .tooltip .label{fill:#839496}#chart-1224e4fa-eff1-4b65-8f85-58d53f81b4a7 .tooltip .legend{font-size:.8em;fill:#657b83}#chart-1224e4fa-eff1-4b65-8f85-58d53f81b4a7 .tooltip .x_label{font-size:.6em;fill:#fdf6e3}#chart-1224e4fa-eff1-4b65-8f85-58d53f81b4a7 .tooltip .xlink{font-size:.5em;text-decoration:underline}#chart-1224e4fa-eff1-4b65-8f85-58d53f81b4a7 .tooltip .value{font-size:1.5em}#chart-1224e4fa-eff1-4b65-8f85-58d53f81b4a7 .bound{font-size:.5em}#chart-1224e4fa-eff1-4b65-8f85-58d53f81b4a7 .max-value{font-size:.75em;fill:#657b83}#chart-1224e4fa-eff1-4b65-8f85-58d53f81b4a7 .map-element{fill:#002b36;stroke:#657b83 !important}#chart-1224e4fa-eff1-4b65-8f85-58d53f81b4a7 .map-element .reactive{fill-opacity:inherit;stroke-opacity:inherit}#chart-1224e4fa-eff1-4b65-8f85-58d53f81b4a7 .color-0,#chart-1224e4fa-eff1-4b65-8f85-58d53f81b4a7 .color-0 a:visited{stroke:#b58900;fill:#b58900}#chart-1224e4fa-eff1-4b65-8f85-58d53f81b4a7 .color-1,#chart-1224e4fa-eff1-4b65-8f85-58d53f81b4a7 .color-1 a:visited{stroke:#cb4b16;fill:#cb4b16}#chart-1224e4fa-eff1-4b65-8f85-58d53f81b4a7 .color-2,#chart-1224e4fa-eff1-4b65-8f85-58d53f81b4a7 .color-2 a:visited{stroke:#dc322f;fill:#dc322f}#chart-1224e4fa-eff1-4b65-8f85-58d53f81b4a7 .color-3,#chart-1224e4fa-eff1-4b65-8f85-58d53f81b4a7 .color-3 a:visited{stroke:#d33682;fill:#d33682}#chart-1224e4fa-eff1-4b65-8f85-58d53f81b4a7 .color-4,#chart-1224e4fa-eff1-4b65-8f85-58d53f81b4a7 .color-4 a:visited{stroke:#6c71c4;fill:#6c71c4}#chart-1224e4fa-eff1-4b65-8f85-58d53f81b4a7 .text-overlay .color-0 text{fill:black}#chart-1224e4fa-eff1-4b65-8f85-58d53f81b4a7 .text-overlay .color-1 text{fill:black}#chart-1224e4fa-eff1-4b65-8f85-58d53f81b4a7 .text-overlay .color-2 text{fill:black}#chart-1224e4fa-eff1-4b65-8f85-58d53f81b4a7 .text-overlay .color-3 text{fill:black}#chart-1224e4fa-eff1-4b65-8f85-58d53f81b4a7 .text-overlay .color-4 text{fill:black}\n",
       "#chart-1224e4fa-eff1-4b65-8f85-58d53f81b4a7 text.no_data{text-anchor:middle}#chart-1224e4fa-eff1-4b65-8f85-58d53f81b4a7 .guide.line{fill:none}#chart-1224e4fa-eff1-4b65-8f85-58d53f81b4a7 .centered{text-anchor:middle}#chart-1224e4fa-eff1-4b65-8f85-58d53f81b4a7 .title{text-anchor:middle}#chart-1224e4fa-eff1-4b65-8f85-58d53f81b4a7 .legends .legend text{fill-opacity:1}#chart-1224e4fa-eff1-4b65-8f85-58d53f81b4a7 .axis.x text{text-anchor:middle}#chart-1224e4fa-eff1-4b65-8f85-58d53f81b4a7 .axis.x:not(.web) text[transform]{text-anchor:start}#chart-1224e4fa-eff1-4b65-8f85-58d53f81b4a7 .axis.x:not(.web) text[transform].backwards{text-anchor:end}#chart-1224e4fa-eff1-4b65-8f85-58d53f81b4a7 .axis.y text{text-anchor:end}#chart-1224e4fa-eff1-4b65-8f85-58d53f81b4a7 .axis.y text[transform].backwards{text-anchor:start}#chart-1224e4fa-eff1-4b65-8f85-58d53f81b4a7 .axis.y2 text{text-anchor:start}#chart-1224e4fa-eff1-4b65-8f85-58d53f81b4a7 .axis.y2 text[transform].backwards{text-anchor:end}#chart-1224e4fa-eff1-4b65-8f85-58d53f81b4a7 .axis .guide.line{stroke-dasharray:4,4}#chart-1224e4fa-eff1-4b65-8f85-58d53f81b4a7 .axis .major.guide.line{stroke-dasharray:6,6}#chart-1224e4fa-eff1-4b65-8f85-58d53f81b4a7 .horizontal .axis.y .guide.line,#chart-1224e4fa-eff1-4b65-8f85-58d53f81b4a7 .horizontal .axis.y2 .guide.line,#chart-1224e4fa-eff1-4b65-8f85-58d53f81b4a7 .vertical .axis.x .guide.line{opacity:0}#chart-1224e4fa-eff1-4b65-8f85-58d53f81b4a7 .horizontal .axis.always_show .guide.line,#chart-1224e4fa-eff1-4b65-8f85-58d53f81b4a7 .vertical .axis.always_show .guide.line{opacity:1 !important}#chart-1224e4fa-eff1-4b65-8f85-58d53f81b4a7 .axis.y .guides:hover .guide.line,#chart-1224e4fa-eff1-4b65-8f85-58d53f81b4a7 .axis.y2 .guides:hover .guide.line,#chart-1224e4fa-eff1-4b65-8f85-58d53f81b4a7 .axis.x .guides:hover .guide.line{opacity:1}#chart-1224e4fa-eff1-4b65-8f85-58d53f81b4a7 .axis .guides:hover text{opacity:1}#chart-1224e4fa-eff1-4b65-8f85-58d53f81b4a7 .nofill{fill:none}#chart-1224e4fa-eff1-4b65-8f85-58d53f81b4a7 .subtle-fill{fill-opacity:.2}#chart-1224e4fa-eff1-4b65-8f85-58d53f81b4a7 .dot{stroke-width:1px;fill-opacity:1}#chart-1224e4fa-eff1-4b65-8f85-58d53f81b4a7 .dot.active{stroke-width:5px}#chart-1224e4fa-eff1-4b65-8f85-58d53f81b4a7 .dot.negative{fill:transparent}#chart-1224e4fa-eff1-4b65-8f85-58d53f81b4a7 text,#chart-1224e4fa-eff1-4b65-8f85-58d53f81b4a7 tspan{stroke:none !important}#chart-1224e4fa-eff1-4b65-8f85-58d53f81b4a7 .series text.active{opacity:1}#chart-1224e4fa-eff1-4b65-8f85-58d53f81b4a7 .tooltip rect{fill-opacity:.95;stroke-width:.5}#chart-1224e4fa-eff1-4b65-8f85-58d53f81b4a7 .tooltip text{fill-opacity:1}#chart-1224e4fa-eff1-4b65-8f85-58d53f81b4a7 .showable{visibility:hidden}#chart-1224e4fa-eff1-4b65-8f85-58d53f81b4a7 .showable.shown{visibility:visible}#chart-1224e4fa-eff1-4b65-8f85-58d53f81b4a7 .gauge-background{fill:rgba(229,229,229,1);stroke:none}#chart-1224e4fa-eff1-4b65-8f85-58d53f81b4a7 .bg-lines{stroke:#073642;stroke-width:2px}</style><script type=\"text/javascript\">window.pygal = window.pygal || {};window.pygal.config = window.pygal.config || {};window.pygal.config['1224e4fa-eff1-4b65-8f85-58d53f81b4a7'] = {\"allow_interruptions\": false, \"box_mode\": \"extremes\", \"classes\": [\"pygal-chart\"], \"css\": [\"file://style.css\", \"file://graph.css\"], \"defs\": [], \"disable_xml_declaration\": false, \"dots_size\": 2.5, \"dynamic_print_values\": false, \"explicit_size\": true, \"fill\": false, \"force_uri_protocol\": \"https\", \"formatter\": null, \"half_pie\": false, \"height\": 360, \"include_x_axis\": false, \"inner_radius\": 0, \"interpolate\": null, \"interpolation_parameters\": {}, \"interpolation_precision\": 250, \"inverse_y_axis\": false, \"js\": [\"//kozea.github.io/pygal.js/2.0.x/pygal-tooltips.min.js\"], \"legend_at_bottom\": false, \"legend_at_bottom_columns\": null, \"legend_box_size\": 12, \"logarithmic\": false, \"margin\": 20, \"margin_bottom\": null, \"margin_left\": null, \"margin_right\": null, \"margin_top\": null, \"max_scale\": 16, \"min_scale\": 4, \"missing_value_fill_truncation\": \"x\", \"no_data_text\": \"No data\", \"no_prefix\": false, \"order_min\": null, \"pretty_print\": false, \"print_labels\": false, \"print_values\": false, \"print_values_position\": \"center\", \"print_zeroes\": true, \"range\": null, \"rounded_bars\": null, \"secondary_range\": null, \"show_dots\": true, \"show_legend\": true, \"show_minor_x_labels\": true, \"show_minor_y_labels\": true, \"show_only_major_dots\": false, \"show_x_guides\": false, \"show_x_labels\": true, \"show_y_guides\": true, \"show_y_labels\": true, \"spacing\": 10, \"stack_from_top\": false, \"strict\": false, \"stroke\": true, \"stroke_style\": null, \"style\": {\"background\": \"#073642\", \"ci_colors\": [], \"colors\": [\"#b58900\", \"#cb4b16\", \"#dc322f\", \"#d33682\", \"#6c71c4\", \"#268bd2\", \"#2aa198\", \"#859900\"], \"font_family\": \"Consolas, \\\"Liberation Mono\\\", Menlo, Courier, monospace\", \"foreground\": \"#839496\", \"foreground_strong\": \"#fdf6e3\", \"foreground_subtle\": \"#657b83\", \"guide_stroke_dasharray\": \"4,4\", \"label_font_family\": \"Consolas, \\\"Liberation Mono\\\", Menlo, Courier, monospace\", \"label_font_size\": 10, \"legend_font_family\": \"Consolas, \\\"Liberation Mono\\\", Menlo, Courier, monospace\", \"legend_font_size\": 14, \"major_guide_stroke_dasharray\": \"6,6\", \"major_label_font_family\": \"Consolas, \\\"Liberation Mono\\\", Menlo, Courier, monospace\", \"major_label_font_size\": 10, \"no_data_font_family\": \"Consolas, \\\"Liberation Mono\\\", Menlo, Courier, monospace\", \"no_data_font_size\": 64, \"opacity\": \".66\", \"opacity_hover\": \".9\", \"plot_background\": \"#002b36\", \"stroke_opacity\": \".8\", \"stroke_opacity_hover\": \".9\", \"title_font_family\": \"Consolas, \\\"Liberation Mono\\\", Menlo, Courier, monospace\", \"title_font_size\": 16, \"tooltip_font_family\": \"Consolas, \\\"Liberation Mono\\\", Menlo, Courier, monospace\", \"tooltip_font_size\": 14, \"transition\": \"500ms ease-in\", \"value_background\": \"rgba(229, 229, 229, 1)\", \"value_colors\": [], \"value_font_family\": \"Consolas, \\\"Liberation Mono\\\", Menlo, Courier, monospace\", \"value_font_size\": 16, \"value_label_font_family\": \"Consolas, \\\"Liberation Mono\\\", Menlo, Courier, monospace\", \"value_label_font_size\": 10}, \"title\": \"Coffee Production in 2017 by Continent and Country\", \"tooltip_border_radius\": 0, \"tooltip_fancy_mode\": true, \"truncate_label\": null, \"truncate_legend\": null, \"width\": 640, \"x_label_rotation\": 0, \"x_labels\": null, \"x_labels_major\": null, \"x_labels_major_count\": null, \"x_labels_major_every\": null, \"x_title\": null, \"xrange\": null, \"y_label_rotation\": 0, \"y_labels\": null, \"y_labels_major\": null, \"y_labels_major_count\": null, \"y_labels_major_every\": null, \"y_title\": null, \"zero\": 0, \"legends\": [\"Africa\", \"North America\", \"South America\", \"Asia\", \"Oceania\"]}</script><script type=\"text/javascript\" xlink:href=\"https://kozea.github.io/pygal.js/2.0.x/pygal-tooltips.min.js\"/></defs><title>Coffee Production in 2017 by Continent and Country</title><g class=\"graph treemap-graph vertical\"><rect class=\"background\" height=\"360\" width=\"640\" x=\"0\" y=\"0\"/><g class=\"plot\" transform=\"translate(151, 46)\"><rect class=\"background\" height=\"294\" width=\"468.8\" x=\"0\" y=\"0\"/><g class=\"series serie-0 color-0\"><g class=\"rects\"><g class=\"rect\"><desc class=\"label\">Angola</desc><rect class=\"rect reactive tooltip-trigger\" height=\"3.97567246412666\" width=\"53.04392389686362\" x=\"9.015384615384617\" y=\"284.3704813820272\"/><desc class=\"value\">15,436 metric tons</desc><desc class=\"x centered\">35.53734656381643</desc><desc class=\"y centered\">286.35831761409054</desc></g><g class=\"rect\"><desc class=\"label\">Benin</desc><rect class=\"rect reactive tooltip-trigger\" height=\"0.01287792324478687\" width=\"53.04392389686362\" x=\"9.015384615384617\" y=\"284.3576034587824\"/><desc class=\"value\">50 metric tons</desc><desc class=\"x centered\">35.53734656381643</desc><desc class=\"y centered\">284.3640424204048</desc></g><g class=\"rect\"><desc class=\"label\">Burundi</desc><rect class=\"rect reactive tooltip-trigger\" height=\"3.6058185085367427\" width=\"53.04392389686362\" x=\"9.015384615384617\" y=\"280.7517849502457\"/><desc class=\"value\">14,000 metric tons</desc><desc class=\"x centered\">35.53734656381643</desc><desc class=\"y centered\">282.554694204514</desc></g><g class=\"rect\"><desc class=\"label\">Cabo Verde</desc><rect class=\"rect reactive tooltip-trigger\" height=\"0.012105247850115575\" width=\"53.04392389686362\" x=\"9.015384615384617\" y=\"280.73967970239556\"/><desc class=\"value\">47 metric tons</desc><desc class=\"x centered\">35.53734656381643</desc><desc class=\"y centered\">280.74573232632065</desc></g><g class=\"rect\"><desc class=\"label\">Cameroon</desc><rect class=\"rect reactive tooltip-trigger\" height=\"7.980191476321636\" width=\"53.04392389686362\" x=\"9.015384615384617\" y=\"272.7594882260739\"/><desc class=\"value\">30,984 metric tons</desc><desc class=\"x centered\">35.53734656381643</desc><desc class=\"y centered\">276.7495839642347</desc></g><g class=\"rect\"><desc class=\"label\">Central African Republic</desc><rect class=\"rect reactive tooltip-trigger\" height=\"2.4094594390971906\" width=\"53.04392389686362\" x=\"9.015384615384617\" y=\"270.35002878697674\"/><desc class=\"value\">9,355 metric tons</desc><desc class=\"x centered\">35.53734656381643</desc><desc class=\"y centered\">271.55475850652533</desc></g><g class=\"rect\"><desc class=\"label\">Comoros</desc><rect class=\"rect reactive tooltip-trigger\" height=\"0.0360581850853805\" width=\"53.04392389686362\" x=\"9.015384615384617\" y=\"270.31397060189136\"/><desc class=\"value\">140 metric tons</desc><desc class=\"x centered\">35.53734656381643</desc><desc class=\"y centered\">270.33199969443405</desc></g><g class=\"rect\"><desc class=\"label\">Congo</desc><rect class=\"rect reactive tooltip-trigger\" height=\"0.8234144122708358\" width=\"53.04392389686362\" x=\"9.015384615384617\" y=\"269.4905561896205\"/><desc class=\"value\">3,197 metric tons</desc><desc class=\"x centered\">35.53734656381643</desc><desc class=\"y centered\">269.90226339575594</desc></g><g class=\"rect\"><desc class=\"label\">Côte d'Ivoire</desc><rect class=\"rect reactive tooltip-trigger\" height=\"26.66090693519095\" width=\"53.04392389686362\" x=\"9.015384615384617\" y=\"242.82964925442957\"/><desc class=\"value\">103,514 metric tons</desc><desc class=\"x centered\">35.53734656381643</desc><desc class=\"y centered\">256.16010272202504</desc></g><g class=\"rect\"><desc class=\"label\">Democratic Republic of the Congo</desc><rect class=\"rect reactive tooltip-trigger\" height=\"7.704088801953645\" width=\"53.04392389686362\" x=\"9.015384615384617\" y=\"235.12556045247592\"/><desc class=\"value\">29,912 metric tons</desc><desc class=\"x centered\">35.53734656381643</desc><desc class=\"y centered\">238.97760485345276</desc></g><g class=\"rect\"><desc class=\"label\">Equatorial Guinea</desc><rect class=\"rect reactive tooltip-trigger\" height=\"1.1002897620334977\" width=\"53.04392389686362\" x=\"9.015384615384617\" y=\"234.02527069044243\"/><desc class=\"value\">4,272 metric tons</desc><desc class=\"x centered\">35.53734656381643</desc><desc class=\"y centered\">234.5754155714592</desc></g><g class=\"rect\"><desc class=\"label\">Ethiopia</desc><rect class=\"rect reactive tooltip-trigger\" height=\"121.37365390660125\" width=\"53.04392389686362\" x=\"9.015384615384617\" y=\"112.65161678384118\"/><desc class=\"value\">471,247 metric tons</desc><desc class=\"x centered\">35.53734656381643</desc><desc class=\"y centered\">173.3384437371418</desc></g><g class=\"rect\"><desc class=\"label\">Gabon</desc><rect class=\"rect reactive tooltip-trigger\" height=\"0.024210495700174306\" width=\"53.04392389686362\" x=\"9.015384615384617\" y=\"112.627406288141\"/><desc class=\"value\">94 metric tons</desc><desc class=\"x centered\">35.53734656381643</desc><desc class=\"y centered\">112.63951153599109</desc></g><g class=\"rect\"><desc class=\"label\">Ghana</desc><rect class=\"rect reactive tooltip-trigger\" height=\"0.187245003979001\" width=\"53.04392389686362\" x=\"9.015384615384617\" y=\"112.440161284162\"/><desc class=\"value\">727 metric tons</desc><desc class=\"x centered\">35.53734656381643</desc><desc class=\"y centered\">112.5337837861515</desc></g><g class=\"rect\"><desc class=\"label\">Guinea</desc><rect class=\"rect reactive tooltip-trigger\" height=\"4.58788893518323\" width=\"53.04392389686362\" x=\"9.015384615384617\" y=\"107.85227234897877\"/><desc class=\"value\">17,813 metric tons</desc><desc class=\"x centered\">35.53734656381643</desc><desc class=\"y centered\">110.14621681657039</desc></g><g class=\"rect\"><desc class=\"label\">Kenya</desc><rect class=\"rect reactive tooltip-trigger\" height=\"10.508385367735656\" width=\"53.04392389686362\" x=\"9.015384615384617\" y=\"97.34388698124312\"/><desc class=\"value\">40,800 metric tons</desc><desc class=\"x centered\">35.53734656381643</desc><desc class=\"y centered\">102.59807966511094</desc></g><g class=\"rect\"><desc class=\"label\">Liberia</desc><rect class=\"rect reactive tooltip-trigger\" height=\"0.15298972814792933\" width=\"53.04392389686362\" x=\"9.015384615384617\" y=\"97.19089725309519\"/><desc class=\"value\">594 metric tons</desc><desc class=\"x centered\">35.53734656381643</desc><desc class=\"y centered\">97.26739211716915</desc></g><g class=\"rect\"><desc class=\"label\">Malawi</desc><rect class=\"rect reactive tooltip-trigger\" height=\"2.168642274419966\" width=\"53.04392389686362\" x=\"9.015384615384617\" y=\"95.02225497867522\"/><desc class=\"value\">8,420 metric tons</desc><desc class=\"x centered\">35.53734656381643</desc><desc class=\"y centered\">96.1065761158852</desc></g><g class=\"rect\"><desc class=\"label\">Mozambique</desc><rect class=\"rect reactive tooltip-trigger\" height=\"0.204243862662139\" width=\"53.04392389686362\" x=\"9.015384615384617\" y=\"94.81801111601308\"/><desc class=\"value\">793 metric tons</desc><desc class=\"x centered\">35.53734656381643</desc><desc class=\"y centered\">94.92013304734415</desc></g><g class=\"rect\"><desc class=\"label\">Nigeria</desc><rect class=\"rect reactive tooltip-trigger\" height=\"0.4007609713773661\" width=\"53.04392389686362\" x=\"9.015384615384617\" y=\"94.41725014463572\"/><desc class=\"value\">1,556 metric tons</desc><desc class=\"x centered\">35.53734656381643</desc><desc class=\"y centered\">94.6176306303244</desc></g><g class=\"rect\"><desc class=\"label\">Rwanda</desc><rect class=\"rect reactive tooltip-trigger\" height=\"4.590722078297063\" width=\"53.04392389686362\" x=\"9.015384615384617\" y=\"89.82652806633865\"/><desc class=\"value\">17,824 metric tons</desc><desc class=\"x centered\">35.53734656381643</desc><desc class=\"y centered\">92.12188910548718</desc></g><g class=\"rect\"><desc class=\"label\">Sao Tome and Principe</desc><rect class=\"rect reactive tooltip-trigger\" height=\"0.0030907015787704495\" width=\"53.04392389686362\" x=\"9.015384615384617\" y=\"89.82343736475988\"/><desc class=\"value\">12 metric tons</desc><desc class=\"x centered\">35.53734656381643</desc><desc class=\"y centered\">89.82498271554927</desc></g><g class=\"rect\"><desc class=\"label\">Sierra Leone</desc><rect class=\"rect reactive tooltip-trigger\" height=\"9.199988366066606\" width=\"53.04392389686362\" x=\"9.015384615384617\" y=\"80.62344899869328\"/><desc class=\"value\">35,720 metric tons</desc><desc class=\"x centered\">35.53734656381643</desc><desc class=\"y centered\">85.22344318172658</desc></g><g class=\"rect\"><desc class=\"label\">Togo</desc><rect class=\"rect reactive tooltip-trigger\" height=\"4.75865019740894\" width=\"53.04392389686362\" x=\"9.015384615384617\" y=\"75.86479880128434\"/><desc class=\"value\">18,476 metric tons</desc><desc class=\"x centered\">35.53734656381643</desc><desc class=\"y centered\">78.24412389998881</desc></g><g class=\"rect\"><desc class=\"label\">Uganda</desc><rect class=\"rect reactive tooltip-trigger\" height=\"53.913425664246745\" width=\"53.04392389686362\" x=\"9.015384615384617\" y=\"21.951373137037592\"/><desc class=\"value\">209,325 metric tons</desc><desc class=\"x centered\">35.53734656381643</desc><desc class=\"y centered\">48.908085969160965</desc></g><g class=\"rect\"><desc class=\"label\">United Republic of Tanzania</desc><rect class=\"rect reactive tooltip-trigger\" height=\"16.297526983191403\" width=\"46.76687375005332\" x=\"9.015384615384617\" y=\"5.653846153846189\"/><desc class=\"value\">55,789 metric tons</desc><desc class=\"x centered\">32.39882149041128</desc><desc class=\"y centered\">13.80260964544189</desc></g><g class=\"rect\"><desc class=\"label\">Zambia</desc><rect class=\"rect reactive tooltip-trigger\" height=\"14.974223510197248\" width=\"6.277050146810296\" x=\"55.78225836543794\" y=\"6.977149626840344\"/><desc class=\"value\">6,880 metric tons</desc><desc class=\"x centered\">58.92078343884309</desc><desc class=\"y centered\">14.464261381938968</desc></g><g class=\"rect\"><desc class=\"label\">Zimbabwe</desc><rect class=\"rect reactive tooltip-trigger\" height=\"1.323303472994155\" width=\"6.277050146810296\" x=\"55.78225836543794\" y=\"5.653846153846189\"/><desc class=\"value\">608 metric tons</desc><desc class=\"x centered\">58.92078343884309</desc><desc class=\"y centered\">6.315497890343266</desc></g></g></g><g class=\"series serie-1 color-1\"><g class=\"rects\"><g class=\"rect\"><desc class=\"label\">Belize</desc><rect class=\"rect reactive tooltip-trigger\" height=\"67.5812782749199\" width=\"0.016172421664272463\" x=\"62.059308512248236\" y=\"220.76487557123397\"/><desc class=\"value\">80 metric tons</desc><desc class=\"x centered\">62.06739472308037</desc><desc class=\"y centered\">254.55551470869392</desc></g><g class=\"rect\"><desc class=\"label\">Costa Rica</desc><rect class=\"rect reactive tooltip-trigger\" height=\"67.5812782749199\" width=\"18.27281492792283\" x=\"62.07548093391251\" y=\"220.76487557123397\"/><desc class=\"value\">90,390 metric tons</desc><desc class=\"x centered\">71.21188839787392</desc><desc class=\"y centered\">254.55551470869392</desc></g><g class=\"rect\"><desc class=\"label\">Cuba</desc><rect class=\"rect reactive tooltip-trigger\" height=\"67.5812782749199\" width=\"1.2747911376864778\" x=\"80.34829586183534\" y=\"220.76487557123397\"/><desc class=\"value\">6,306 metric tons</desc><desc class=\"x centered\">80.98569143067857</desc><desc class=\"y centered\">254.55551470869392</desc></g><g class=\"rect\"><desc class=\"label\">Dominica</desc><rect class=\"rect reactive tooltip-trigger\" height=\"67.5812782749199\" width=\"0.058018562720590694\" x=\"81.62308699952182\" y=\"220.76487557123397\"/><desc class=\"value\">287 metric tons</desc><desc class=\"x centered\">81.65209628088212</desc><desc class=\"y centered\">254.55551470869392</desc></g><g class=\"rect\"><desc class=\"label\">Dominican Republic</desc><rect class=\"rect reactive tooltip-trigger\" height=\"67.5812782749199\" width=\"3.0810484823151967\" x=\"81.68110556224241\" y=\"220.76487557123397\"/><desc class=\"value\">15,241 metric tons</desc><desc class=\"x centered\">83.2216298034</desc><desc class=\"y centered\">254.55551470869392</desc></g><g class=\"rect\"><desc class=\"label\">El Salvador</desc><rect class=\"rect reactive tooltip-trigger\" height=\"67.5812782749199\" width=\"7.977046985903684\" x=\"84.7621540445576\" y=\"220.76487557123397\"/><desc class=\"value\">39,460 metric tons</desc><desc class=\"x centered\">88.75067753750945</desc><desc class=\"y centered\">254.55551470869392</desc></g><g class=\"rect\"><desc class=\"label\">Guadeloupe</desc><rect class=\"rect reactive tooltip-trigger\" height=\"67.5812782749199\" width=\"0.006266813394915971\" x=\"92.73920103046129\" y=\"220.76487557123397\"/><desc class=\"value\">31 metric tons</desc><desc class=\"x centered\">92.74233443715875</desc><desc class=\"y centered\">254.55551470869392</desc></g><g class=\"rect\"><desc class=\"label\">Guatemala</desc><rect class=\"rect reactive tooltip-trigger\" height=\"67.5812782749199\" width=\"49.61719182126677\" x=\"92.7454678438562\" y=\"220.76487557123397\"/><desc class=\"value\">245,441 metric tons</desc><desc class=\"x centered\">117.55406375448959</desc><desc class=\"y centered\">254.55551470869392</desc></g><g class=\"rect\"><desc class=\"label\">Haiti</desc><rect class=\"rect reactive tooltip-trigger\" height=\"67.5812782749199\" width=\"7.992612941755539\" x=\"142.36265966512298\" y=\"220.76487557123397\"/><desc class=\"value\">39,537 metric tons</desc><desc class=\"x centered\">146.35896613600073</desc><desc class=\"y centered\">254.55551470869392</desc></g><g class=\"rect\"><desc class=\"label\">Honduras</desc><rect class=\"rect reactive tooltip-trigger\" height=\"67.5812782749199\" width=\"96.03224415300704\" x=\"150.35527260687851\" y=\"220.76487557123397\"/><desc class=\"value\">475,042 metric tons</desc><desc class=\"x centered\">198.37139468338205</desc><desc class=\"y centered\">254.55551470869392</desc></g><g class=\"rect\"><desc class=\"label\">Jamaica</desc><rect class=\"rect reactive tooltip-trigger\" height=\"36.0368035271602\" width=\"2.3588222517851705\" x=\"246.38751675988556\" y=\"252.30935031899367\"/><desc class=\"value\">6,222 metric tons</desc><desc class=\"x centered\">247.56692788577814</desc><desc class=\"y centered\">270.32775208257374</desc></g><g class=\"rect\"><desc class=\"label\">Martinique</desc><rect class=\"rect reactive tooltip-trigger\" height=\"36.0368035271602\" width=\"0.010615079242995762\" x=\"248.74633901167073\" y=\"252.30935031899367\"/><desc class=\"value\">28 metric tons</desc><desc class=\"x centered\">248.75164655129223</desc><desc class=\"y centered\">270.32775208257374</desc></g><g class=\"rect\"><desc class=\"label\">Mexico</desc><rect class=\"rect reactive tooltip-trigger\" height=\"36.0368035271602\" width=\"58.304839182103535\" x=\"248.75695409091372\" y=\"252.30935031899367\"/><desc class=\"value\">153,794 metric tons</desc><desc class=\"x centered\">277.90937368196546</desc><desc class=\"y centered\">270.32775208257374</desc></g><g class=\"rect\"><desc class=\"label\">Nicaragua</desc><rect class=\"rect reactive tooltip-trigger\" height=\"31.544474747759693\" width=\"55.48487246596051\" x=\"246.38751675988556\" y=\"220.76487557123397\"/><desc class=\"value\">128,111 metric tons</desc><desc class=\"x centered\">274.1299529928658</desc><desc class=\"y centered\">236.53711294511382</desc></g><g class=\"rect\"><desc class=\"label\">Panama</desc><rect class=\"rect reactive tooltip-trigger\" height=\"15.085114363600667\" width=\"5.189404047171195\" x=\"301.87238922584606\" y=\"237.224235955393\"/><desc class=\"value\">5,730 metric tons</desc><desc class=\"x centered\">304.46709124943163</desc><desc class=\"y centered\">244.76679313719333</desc></g><g class=\"rect\"><desc class=\"label\">Puerto Rico</desc><rect class=\"rect reactive tooltip-trigger\" height=\"10.18311035923341\" width=\"5.189404047171195\" x=\"301.87238922584606\" y=\"227.0411255961596\"/><desc class=\"value\">3,868 metric tons</desc><desc class=\"x centered\">304.46709124943163</desc><desc class=\"y centered\">232.1326807757763</desc></g><g class=\"rect\"><desc class=\"label\">Saint Vincent and the Grenadines</desc><rect class=\"rect reactive tooltip-trigger\" height=\"0.4844085589707561\" width=\"5.189404047171195\" x=\"301.87238922584606\" y=\"226.55671703718883\"/><desc class=\"value\">184 metric tons</desc><desc class=\"x centered\">304.46709124943163</desc><desc class=\"y centered\">226.7989213166742</desc></g><g class=\"rect\"><desc class=\"label\">United States of America</desc><rect class=\"rect reactive tooltip-trigger\" height=\"5.79184146595486\" width=\"5.189404047171195\" x=\"301.87238922584606\" y=\"220.76487557123397\"/><desc class=\"value\">2,200 metric tons</desc><desc class=\"x centered\">304.46709124943163</desc><desc class=\"y centered\">223.6607963042114</desc></g></g></g><g class=\"series serie-2 color-2\"><g class=\"rects\"><g class=\"rect\"><desc class=\"label\">Bolivia (Plurinational State of)</desc><rect class=\"rect reactive tooltip-trigger\" height=\"1.6864468519366085\" width=\"171.58735212934084\" x=\"62.059308512248236\" y=\"219.07842871929736\"/><desc class=\"value\">21,181 metric tons</desc><desc class=\"x centered\">147.85298457691866</desc><desc class=\"y centered\">219.92165214526568</desc></g><g class=\"rect\"><desc class=\"label\">Brazil</desc><rect class=\"rect reactive tooltip-trigger\" height=\"213.42458256545117\" width=\"171.58735212934084\" x=\"62.059308512248236\" y=\"5.653846153846189\"/><desc class=\"value\">2,680,515 metric tons</desc><desc class=\"x centered\">147.85298457691866</desc><desc class=\"y centered\">112.36613743657178</desc></g><g class=\"rect\"><desc class=\"label\">Colombia</desc><rect class=\"rect reactive tooltip-trigger\" height=\"140.38275031296612\" width=\"73.41513263142818\" x=\"233.64666064158908\" y=\"80.38212525826785\"/><desc class=\"value\">754,376 metric tons</desc><desc class=\"x centered\">270.3542269573032</desc><desc class=\"y centered\">150.57350041475092</desc></g><g class=\"rect\"><desc class=\"label\">Ecuador</desc><rect class=\"rect reactive tooltip-trigger\" height=\"66.03874957821202\" width=\"1.5648191415636745\" x=\"233.64666064158908\" y=\"14.343375680055829\"/><desc class=\"value\">7,564 metric tons</desc><desc class=\"x centered\">234.4290702123709</desc><desc class=\"y centered\">47.36275046916184</desc></g><g class=\"rect\"><desc class=\"label\">Guyana</desc><rect class=\"rect reactive tooltip-trigger\" height=\"66.03874957821202\" width=\"0.08295775724047871\" x=\"235.21147978315275\" y=\"14.343375680055829\"/><desc class=\"value\">401 metric tons</desc><desc class=\"x centered\">235.252958661773</desc><desc class=\"y centered\">47.36275046916184</desc></g><g class=\"rect\"><desc class=\"label\">Paraguay</desc><rect class=\"rect reactive tooltip-trigger\" height=\"66.03874957821202\" width=\"0.09143972244464749\" x=\"235.29443754039323\" y=\"14.343375680055829\"/><desc class=\"value\">442 metric tons</desc><desc class=\"x centered\">235.34015740161556</desc><desc class=\"y centered\">47.36275046916184</desc></g><g class=\"rect\"><desc class=\"label\">Peru</desc><rect class=\"rect reactive tooltip-trigger\" height=\"66.03874957821202\" width=\"71.67591601017938\" x=\"235.38587726283788\" y=\"14.343375680055829\"/><desc class=\"value\">346,466 metric tons</desc><desc class=\"x centered\">271.2238352679276</desc><desc class=\"y centered\">47.36275046916184</desc></g><g class=\"rect\"><desc class=\"label\">Suriname</desc><rect class=\"rect reactive tooltip-trigger\" height=\"8.68952952620964\" width=\"0.009433361083381442\" x=\"233.64666064158908\" y=\"5.653846153846189\"/><desc class=\"value\">6 metric tons</desc><desc class=\"x centered\">233.65137732213077</desc><desc class=\"y centered\">9.998610916951009</desc></g><g class=\"rect\"><desc class=\"label\">Trinidad and Tobago</desc><rect class=\"rect reactive tooltip-trigger\" height=\"8.68952952620964\" width=\"0.061316847042007794\" x=\"233.65609400267246\" y=\"5.653846153846189\"/><desc class=\"value\">39 metric tons</desc><desc class=\"x centered\">233.68675242619346</desc><desc class=\"y centered\">9.998610916951009</desc></g><g class=\"rect\"><desc class=\"label\">Venezuela (Bolivarian Republic of)</desc><rect class=\"rect reactive tooltip-trigger\" height=\"8.68952952620964\" width=\"73.34438242330279\" x=\"233.71741084971447\" y=\"5.653846153846189\"/><desc class=\"value\">46,650 metric tons</desc><desc class=\"x centered\">270.38960206136585</desc><desc class=\"y centered\">9.998610916951009</desc></g></g></g><g class=\"series serie-3 color-3\"><g class=\"rects\"><g class=\"rect\"><desc class=\"label\">Cambodia</desc><rect class=\"rect reactive tooltip-trigger\" height=\"0.03265129382128862\" width=\"152.72282211159813\" x=\"307.06179327301726\" y=\"288.3135025523326\"/><desc class=\"value\">365 metric tons</desc><desc class=\"x centered\">383.4232043288163</desc><desc class=\"y centered\">288.32982819924325</desc></g><g class=\"rect\"><desc class=\"label\">China</desc><rect class=\"rect reactive tooltip-trigger\" height=\"10.300812283619393\" width=\"152.72282211159813\" x=\"307.06179327301726\" y=\"278.0126902687132\"/><desc class=\"value\">115,150 metric tons</desc><desc class=\"x centered\">383.4232043288163</desc><desc class=\"y centered\">283.1630964105229</desc></g><g class=\"rect\"><desc class=\"label\">China, mainland</desc><rect class=\"rect reactive tooltip-trigger\" height=\"10.300812283619393\" width=\"152.72282211159813\" x=\"307.06179327301726\" y=\"267.7118779850938\"/><desc class=\"value\">115,150 metric tons</desc><desc class=\"x centered\">383.4232043288163</desc><desc class=\"y centered\">272.8622841269035</desc></g><g class=\"rect\"><desc class=\"label\">India</desc><rect class=\"rect reactive tooltip-trigger\" height=\"27.910147047236194\" width=\"152.72282211159813\" x=\"307.06179327301726\" y=\"239.8017309378576\"/><desc class=\"value\">312,000 metric tons</desc><desc class=\"x centered\">383.4232043288163</desc><desc class=\"y centered\">253.7568044614757</desc></g><g class=\"rect\"><desc class=\"label\">Indonesia</desc><rect class=\"rect reactive tooltip-trigger\" height=\"59.81690191379727\" width=\"152.72282211159813\" x=\"307.06179327301726\" y=\"179.98482902406033\"/><desc class=\"value\">668,677 metric tons</desc><desc class=\"x centered\">383.4232043288163</desc><desc class=\"y centered\">209.89327998095897</desc></g><g class=\"rect\"><desc class=\"label\">Lao People's Democratic Republic</desc><rect class=\"rect reactive tooltip-trigger\" height=\"13.489457128166606\" width=\"152.72282211159813\" x=\"307.06179327301726\" y=\"166.49537189589373\"/><desc class=\"value\">150,795 metric tons</desc><desc class=\"x centered\">383.4232043288163</desc><desc class=\"y centered\">173.24010045997704</desc></g><g class=\"rect\"><desc class=\"label\">Madagascar</desc><rect class=\"rect reactive tooltip-trigger\" height=\"4.239032493998053\" width=\"152.72282211159813\" x=\"307.06179327301726\" y=\"162.25633940189567\"/><desc class=\"value\">47,387 metric tons</desc><desc class=\"x centered\">383.4232043288163</desc><desc class=\"y centered\">164.37585564889469</desc></g><g class=\"rect\"><desc class=\"label\">Malaysia</desc><rect class=\"rect reactive tooltip-trigger\" height=\"148.61670242415914\" width=\"0.7454373529071745\" x=\"307.06179327301726\" y=\"13.63963697773653\"/><desc class=\"value\">8,109 metric tons</desc><desc class=\"x centered\">307.43451194947085</desc><desc class=\"y centered\">87.9479881898161</desc></g><g class=\"rect\"><desc class=\"label\">Myanmar</desc><rect class=\"rect reactive tooltip-trigger\" height=\"148.61670242415914\" width=\"0.785609522499044\" x=\"307.80723062592443\" y=\"13.63963697773653\"/><desc class=\"value\">8,546 metric tons</desc><desc class=\"x centered\">308.20003538717395</desc><desc class=\"y centered\">87.9479881898161</desc></g><g class=\"rect\"><desc class=\"label\">Nepal</desc><rect class=\"rect reactive tooltip-trigger\" height=\"148.61670242415914\" width=\"0.042838057276412655\" x=\"308.5928401484235\" y=\"13.63963697773653\"/><desc class=\"value\">466 metric tons</desc><desc class=\"x centered\">308.6142591770617</desc><desc class=\"y centered\">87.9479881898161</desc></g><g class=\"rect\"><desc class=\"label\">Philippines</desc><rect class=\"rect reactive tooltip-trigger\" height=\"148.61670242415914\" width=\"5.706654333921847\" x=\"308.6356782056999\" y=\"13.63963697773653\"/><desc class=\"value\">62,078 metric tons</desc><desc class=\"x centered\">311.4890053726608</desc><desc class=\"y centered\">87.9479881898161</desc></g><g class=\"rect\"><desc class=\"label\">Sri Lanka</desc><rect class=\"rect reactive tooltip-trigger\" height=\"0.5107167735236544\" width=\"145.44228284499366\" x=\"314.34233253962174\" y=\"161.74562262837202\"/><desc class=\"value\">5,437 metric tons</desc><desc class=\"x centered\">387.06347396211856</desc><desc class=\"y centered\">162.00098101513385</desc></g><g class=\"rect\"><desc class=\"label\">Thailand</desc><rect class=\"rect reactive tooltip-trigger\" height=\"3.223048359967663\" width=\"145.44228284499366\" x=\"314.34233253962174\" y=\"158.52257426840436\"/><desc class=\"value\">34,312 metric tons</desc><desc class=\"x centered\">387.06347396211856</desc><desc class=\"y centered\">160.1340984483882</desc></g><g class=\"rect\"><desc class=\"label\">Viet Nam</desc><rect class=\"rect reactive tooltip-trigger\" height=\"144.88293729066783\" width=\"145.44228284499366\" x=\"314.34233253962174\" y=\"13.63963697773653\"/><desc class=\"value\">1,542,398 metric tons</desc><desc class=\"x centered\">387.06347396211856</desc><desc class=\"y centered\">86.08110562307044</desc></g><g class=\"rect\"><desc class=\"label\">Yemen</desc><rect class=\"rect reactive tooltip-trigger\" height=\"1.7456365688453843\" width=\"152.72282211159813\" x=\"307.06179327301726\" y=\"11.894000408891202\"/><desc class=\"value\">19,514 metric tons</desc><desc class=\"x centered\">383.4232043288163</desc><desc class=\"y centered\">12.766818693313894</desc></g></g></g><g class=\"series serie-4 color-4\"><g class=\"rects\"><g class=\"rect\"><desc class=\"label\">Fiji</desc><rect class=\"rect reactive tooltip-trigger\" height=\"6.240154255045013\" width=\"0.01970419311328442\" x=\"307.06179327301726\" y=\"5.653846153846189\"/><desc class=\"value\">9 metric tons</desc><desc class=\"x centered\">307.0716453695739</desc><desc class=\"y centered\">8.773923281368695</desc></g><g class=\"rect\"><desc class=\"label\">French Polynesia</desc><rect class=\"rect reactive tooltip-trigger\" height=\"6.240154255045013\" width=\"0.04816580538800963\" x=\"307.08149746613054\" y=\"5.653846153846189\"/><desc class=\"value\">22 metric tons</desc><desc class=\"x centered\">307.1055803688246</desc><desc class=\"y centered\">8.773923281368695</desc></g><g class=\"rect\"><desc class=\"label\">New Caledonia</desc><rect class=\"rect reactive tooltip-trigger\" height=\"6.240154255045013\" width=\"0.010946773951843625\" x=\"307.12966327151855\" y=\"5.653846153846189\"/><desc class=\"value\">5 metric tons</desc><desc class=\"x centered\">307.1351366584945</desc><desc class=\"y centered\">8.773923281368695</desc></g><g class=\"rect\"><desc class=\"label\">Papua New Guinea</desc><rect class=\"rect reactive tooltip-trigger\" height=\"6.240154255045013\" width=\"128.8216358651668\" x=\"307.1406100454704\" y=\"5.653846153846189\"/><desc class=\"value\">58,840 metric tons</desc><desc class=\"x centered\">371.55142797805377</desc><desc class=\"y centered\">8.773923281368695</desc></g><g class=\"rect\"><desc class=\"label\">Samoa</desc><rect class=\"rect reactive tooltip-trigger\" height=\"6.240154255045013\" width=\"0.026272257484379224\" x=\"435.9622459106372\" y=\"5.653846153846189\"/><desc class=\"value\">12 metric tons</desc><desc class=\"x centered\">435.9753820393794</desc><desc class=\"y centered\">8.773923281368695</desc></g><g class=\"rect\"><desc class=\"label\">Timor-Leste</desc><rect class=\"rect reactive tooltip-trigger\" height=\"6.240154255045013\" width=\"23.70414431529838\" x=\"435.9885181681216\" y=\"5.653846153846189\"/><desc class=\"value\">10,827 metric tons</desc><desc class=\"x centered\">447.8405903257708</desc><desc class=\"y centered\">8.773923281368695</desc></g><g class=\"rect\"><desc class=\"label\">Tonga</desc><rect class=\"rect reactive tooltip-trigger\" height=\"2.3772016209695153\" width=\"0.09195290119544097\" x=\"459.69266248341995\" y=\"9.516798787921687\"/><desc class=\"value\">16 metric tons</desc><desc class=\"x centered\">459.7386389340177</desc><desc class=\"y centered\">10.705399598406444</desc></g><g class=\"rect\"><desc class=\"label\">Vanuatu</desc><rect class=\"rect reactive tooltip-trigger\" height=\"3.862952634075498\" width=\"0.09195290119544097\" x=\"459.69266248341995\" y=\"5.653846153846189\"/><desc class=\"value\">26 metric tons</desc><desc class=\"x centered\">459.7386389340177</desc><desc class=\"y centered\">7.585322470883938</desc></g></g></g></g><g class=\"titles\"><text class=\"title plot_title\" x=\"320.0\" y=\"26\">Coffee Production in 2017 by Continent and Country</text></g><g class=\"plot overlay\" transform=\"translate(151, 46)\"><g class=\"series serie-0 color-0\"/><g class=\"series serie-1 color-1\"/><g class=\"series serie-2 color-2\"/><g class=\"series serie-3 color-3\"/><g class=\"series serie-4 color-4\"/></g><g class=\"plot text-overlay\" transform=\"translate(151, 46)\"><g class=\"series serie-0 color-0\"/><g class=\"series serie-1 color-1\"/><g class=\"series serie-2 color-2\"/><g class=\"series serie-3 color-3\"/><g class=\"series serie-4 color-4\"/></g><g class=\"plot tooltip-overlay\" transform=\"translate(151, 46)\"><g class=\"tooltip\" style=\"opacity: 0\" transform=\"translate(0 0)\"><rect class=\"tooltip-box\" height=\"0\" rx=\"0\" ry=\"0\" width=\"0\"/><g class=\"text\"/></g></g><g class=\"legends\" transform=\"translate(10, 56)\"><g class=\"legend reactive activate-serie\" id=\"activate-serie-0\"><rect class=\"color-0 reactive\" height=\"12\" width=\"12\" x=\"0.0\" y=\"1.0\"/><text x=\"17.0\" y=\"11.2\">Africa</text></g><g class=\"legend reactive activate-serie\" id=\"activate-serie-1\"><rect class=\"color-1 reactive\" height=\"12\" width=\"12\" x=\"0.0\" y=\"22.0\"/><text x=\"17.0\" y=\"32.2\">North America</text></g><g class=\"legend reactive activate-serie\" id=\"activate-serie-2\"><rect class=\"color-2 reactive\" height=\"12\" width=\"12\" x=\"0.0\" y=\"43.0\"/><text x=\"17.0\" y=\"53.2\">South America</text></g><g class=\"legend reactive activate-serie\" id=\"activate-serie-3\"><rect class=\"color-3 reactive\" height=\"12\" width=\"12\" x=\"0.0\" y=\"64.0\"/><text x=\"17.0\" y=\"74.2\">Asia</text></g><g class=\"legend reactive activate-serie\" id=\"activate-serie-4\"><rect class=\"color-4 reactive\" height=\"12\" width=\"12\" x=\"0.0\" y=\"85.0\"/><text x=\"17.0\" y=\"95.2\">Oceania</text></g></g><g class=\"legends\" transform=\"translate(630, 56)\"/></g></svg>\n",
       "    </figure>\n",
       "  </body>\n",
       "</html>\n"
      ],
      "text/plain": [
       "<IPython.core.display.HTML object>"
      ]
     },
     "metadata": {},
     "output_type": "display_data"
    }
   ],
   "source": [
    "treemap.title = 'Coffee Production in 2017 by Continent and Country'\n",
    "treemap.value_formatter = lambda x: '{:,.10g} metric tons'.format(x)\n",
    "\n",
    "treemap.add('Africa', africa_list)\n",
    "treemap.add('North America', namerica_list)\n",
    "treemap.add('South America', samerica_list)\n",
    "treemap.add('Asia', asia_list)\n",
    "treemap.add('Oceania', oceania_list)\n",
    "\n",
    "display_chart(treemap)"
   ]
  },
  {
   "cell_type": "code",
   "execution_count": null,
   "metadata": {
    "collapsed": true
   },
   "outputs": [],
   "source": []
  },
  {
   "cell_type": "code",
   "execution_count": null,
   "metadata": {
    "collapsed": true
   },
   "outputs": [],
   "source": []
  }
 ],
 "metadata": {
  "kernelspec": {
   "display_name": "Python 3",
   "language": "python",
   "name": "python3"
  },
  "language_info": {
   "codemirror_mode": {
    "name": "ipython",
    "version": 3
   },
   "file_extension": ".py",
   "mimetype": "text/x-python",
   "name": "python",
   "nbconvert_exporter": "python",
   "pygments_lexer": "ipython3",
   "version": "3.6.3"
  }
 },
 "nbformat": 4,
 "nbformat_minor": 2
}
