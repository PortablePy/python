{
 "cells": [
  {
   "cell_type": "markdown",
   "metadata": {},
   "source": [
    "## Histogram, Boxplots and Pyramid"
   ]
  },
  {
   "cell_type": "markdown",
   "metadata": {},
   "source": [
    "Social Media Dataset is used here. The subjects in the dataset are the students aged between 7 and 25 including both females and males. Data includes the amount of time spent on the each social media i.e., Facebook, Instagram and Twitter. \n",
    "\n",
    "The dataset contains fair number of different users who spend like 0 minutes on all social media and also users who spend 200 minutes all three social accounts.  \n",
    "\n",
    "import the required packages.\n",
    "\n",
    "### explore the dataset"
   ]
  },
  {
   "cell_type": "code",
   "execution_count": 1,
   "metadata": {
    "collapsed": true
   },
   "outputs": [],
   "source": [
    "import pygal\n",
    "import pandas as pd\n",
    "from datetime import datetime \n",
    "import numpy as np"
   ]
  },
  {
   "cell_type": "code",
   "execution_count": 2,
   "metadata": {},
   "outputs": [],
   "source": [
    "social_media = pd.read_csv('../datasets/social-media_dataset.csv')"
   ]
  },
  {
   "cell_type": "code",
   "execution_count": 3,
   "metadata": {},
   "outputs": [
    {
     "data": {
      "text/html": [
       "<div>\n",
       "<style scoped>\n",
       "    .dataframe tbody tr th:only-of-type {\n",
       "        vertical-align: middle;\n",
       "    }\n",
       "\n",
       "    .dataframe tbody tr th {\n",
       "        vertical-align: top;\n",
       "    }\n",
       "\n",
       "    .dataframe thead th {\n",
       "        text-align: right;\n",
       "    }\n",
       "</style>\n",
       "<table border=\"1\" class=\"dataframe\">\n",
       "  <thead>\n",
       "    <tr style=\"text-align: right;\">\n",
       "      <th></th>\n",
       "      <th>student_id</th>\n",
       "      <th>age</th>\n",
       "      <th>gender</th>\n",
       "      <th>facebook_time</th>\n",
       "      <th>instagram_time</th>\n",
       "      <th>twitter_time</th>\n",
       "    </tr>\n",
       "  </thead>\n",
       "  <tbody>\n",
       "    <tr>\n",
       "      <th>0</th>\n",
       "      <td>s_id0</td>\n",
       "      <td>8</td>\n",
       "      <td>female</td>\n",
       "      <td>13</td>\n",
       "      <td>7</td>\n",
       "      <td>44</td>\n",
       "    </tr>\n",
       "    <tr>\n",
       "      <th>1</th>\n",
       "      <td>s_id1</td>\n",
       "      <td>15</td>\n",
       "      <td>male</td>\n",
       "      <td>37</td>\n",
       "      <td>55</td>\n",
       "      <td>55</td>\n",
       "    </tr>\n",
       "    <tr>\n",
       "      <th>2</th>\n",
       "      <td>s_id2</td>\n",
       "      <td>18</td>\n",
       "      <td>female</td>\n",
       "      <td>23</td>\n",
       "      <td>31</td>\n",
       "      <td>32</td>\n",
       "    </tr>\n",
       "    <tr>\n",
       "      <th>3</th>\n",
       "      <td>s_id3</td>\n",
       "      <td>25</td>\n",
       "      <td>male</td>\n",
       "      <td>17</td>\n",
       "      <td>20</td>\n",
       "      <td>52</td>\n",
       "    </tr>\n",
       "    <tr>\n",
       "      <th>4</th>\n",
       "      <td>s_id4</td>\n",
       "      <td>12</td>\n",
       "      <td>male</td>\n",
       "      <td>10</td>\n",
       "      <td>40</td>\n",
       "      <td>37</td>\n",
       "    </tr>\n",
       "  </tbody>\n",
       "</table>\n",
       "</div>"
      ],
      "text/plain": [
       "  student_id  age  gender  facebook_time  instagram_time  twitter_time\n",
       "0      s_id0    8  female             13               7            44\n",
       "1      s_id1   15    male             37              55            55\n",
       "2      s_id2   18  female             23              31            32\n",
       "3      s_id3   25    male             17              20            52\n",
       "4      s_id4   12    male             10              40            37"
      ]
     },
     "execution_count": 3,
     "metadata": {},
     "output_type": "execute_result"
    }
   ],
   "source": [
    "social_media.head()"
   ]
  },
  {
   "cell_type": "code",
   "execution_count": 4,
   "metadata": {},
   "outputs": [
    {
     "data": {
      "text/plain": [
       "(200, 6)"
      ]
     },
     "execution_count": 4,
     "metadata": {},
     "output_type": "execute_result"
    }
   ],
   "source": [
    "social_media.shape"
   ]
  },
  {
   "cell_type": "markdown",
   "metadata": {},
   "source": [
    "### Histogram \n",
    "\n",
    "Create Age groups using the datasets. \n",
    "\n",
    "\n",
    "The histogram plot based on the age groups in the dataset. Histogram is plotted by grouping students into groups \n",
    "\n",
    "- 0 to 13\n",
    "- 13 to 18\n",
    "- 18 to 25"
   ]
  },
  {
   "cell_type": "code",
   "execution_count": 5,
   "metadata": {},
   "outputs": [
    {
     "data": {
      "text/html": [
       "<div>\n",
       "<style scoped>\n",
       "    .dataframe tbody tr th:only-of-type {\n",
       "        vertical-align: middle;\n",
       "    }\n",
       "\n",
       "    .dataframe tbody tr th {\n",
       "        vertical-align: top;\n",
       "    }\n",
       "\n",
       "    .dataframe thead th {\n",
       "        text-align: right;\n",
       "    }\n",
       "</style>\n",
       "<table border=\"1\" class=\"dataframe\">\n",
       "  <thead>\n",
       "    <tr style=\"text-align: right;\">\n",
       "      <th></th>\n",
       "      <th>student_id</th>\n",
       "      <th>age</th>\n",
       "      <th>gender</th>\n",
       "      <th>facebook_time</th>\n",
       "      <th>instagram_time</th>\n",
       "      <th>twitter_time</th>\n",
       "      <th>age_group</th>\n",
       "    </tr>\n",
       "  </thead>\n",
       "  <tbody>\n",
       "    <tr>\n",
       "      <th>0</th>\n",
       "      <td>s_id0</td>\n",
       "      <td>8</td>\n",
       "      <td>female</td>\n",
       "      <td>13</td>\n",
       "      <td>7</td>\n",
       "      <td>44</td>\n",
       "      <td>(0, 13]</td>\n",
       "    </tr>\n",
       "    <tr>\n",
       "      <th>1</th>\n",
       "      <td>s_id1</td>\n",
       "      <td>15</td>\n",
       "      <td>male</td>\n",
       "      <td>37</td>\n",
       "      <td>55</td>\n",
       "      <td>55</td>\n",
       "      <td>(13, 18]</td>\n",
       "    </tr>\n",
       "    <tr>\n",
       "      <th>2</th>\n",
       "      <td>s_id2</td>\n",
       "      <td>18</td>\n",
       "      <td>female</td>\n",
       "      <td>23</td>\n",
       "      <td>31</td>\n",
       "      <td>32</td>\n",
       "      <td>(13, 18]</td>\n",
       "    </tr>\n",
       "    <tr>\n",
       "      <th>3</th>\n",
       "      <td>s_id3</td>\n",
       "      <td>25</td>\n",
       "      <td>male</td>\n",
       "      <td>17</td>\n",
       "      <td>20</td>\n",
       "      <td>52</td>\n",
       "      <td>(18, 25]</td>\n",
       "    </tr>\n",
       "    <tr>\n",
       "      <th>4</th>\n",
       "      <td>s_id4</td>\n",
       "      <td>12</td>\n",
       "      <td>male</td>\n",
       "      <td>10</td>\n",
       "      <td>40</td>\n",
       "      <td>37</td>\n",
       "      <td>(0, 13]</td>\n",
       "    </tr>\n",
       "  </tbody>\n",
       "</table>\n",
       "</div>"
      ],
      "text/plain": [
       "  student_id  age  gender  facebook_time  instagram_time  twitter_time  \\\n",
       "0      s_id0    8  female             13               7            44   \n",
       "1      s_id1   15    male             37              55            55   \n",
       "2      s_id2   18  female             23              31            32   \n",
       "3      s_id3   25    male             17              20            52   \n",
       "4      s_id4   12    male             10              40            37   \n",
       "\n",
       "  age_group  \n",
       "0   (0, 13]  \n",
       "1  (13, 18]  \n",
       "2  (13, 18]  \n",
       "3  (18, 25]  \n",
       "4   (0, 13]  "
      ]
     },
     "execution_count": 5,
     "metadata": {},
     "output_type": "execute_result"
    }
   ],
   "source": [
    "social_media['age_group'] = pd.cut(x = social_media['age'], \n",
    "                                   bins = [0, 13, 18, 25])\n",
    "\n",
    "social_media.head()"
   ]
  },
  {
   "cell_type": "code",
   "execution_count": 6,
   "metadata": {},
   "outputs": [
    {
     "data": {
      "text/plain": [
       "age_group\n",
       "(0, 13]     88\n",
       "(13, 18]    79\n",
       "(18, 25]    33\n",
       "dtype: int64"
      ]
     },
     "execution_count": 6,
     "metadata": {},
     "output_type": "execute_result"
    }
   ],
   "source": [
    "age_group_counts = social_media.groupby(['age_group']).size()\n",
    "\n",
    "age_group_counts"
   ]
  },
  {
   "cell_type": "code",
   "execution_count": 7,
   "metadata": {},
   "outputs": [
    {
     "data": {
      "text/plain": [
       "0"
      ]
     },
     "execution_count": 7,
     "metadata": {},
     "output_type": "execute_result"
    }
   ],
   "source": [
    "age_group_counts.index[0].left"
   ]
  },
  {
   "cell_type": "code",
   "execution_count": 8,
   "metadata": {},
   "outputs": [
    {
     "data": {
      "text/plain": [
       "13"
      ]
     },
     "execution_count": 8,
     "metadata": {},
     "output_type": "execute_result"
    }
   ],
   "source": [
    "age_group_counts.index[0].right"
   ]
  },
  {
   "cell_type": "code",
   "execution_count": 9,
   "metadata": {
    "collapsed": true
   },
   "outputs": [],
   "source": [
    "from IPython.display import display, HTML\n",
    "\n",
    "html_skeleton = \"\"\"\n",
    "<!DOCTYPE html>\n",
    "<html>\n",
    "  <head>\n",
    "  <script type=\"text/javascript\" \n",
    "          src=\"http://kozea.github.com/pygal.js/javascripts/svg.jquery.js\">\n",
    "  </script>\n",
    "  <script type=\"text/javascript\" \n",
    "          src=\"https://kozea.github.io/pygal.js/2.0.x/pygal-tooltips.min.js\"\">\n",
    "  </script>\n",
    "  </head>\n",
    "  <body>\n",
    "    <figure>\n",
    "      {rendered_chart}\n",
    "    </figure>\n",
    "  </body>\n",
    "</html>\n",
    "\"\"\"\n",
    "\n",
    "def display_chart(chart):\n",
    "    rendered_chart = chart.render(is_unicode=True)\n",
    "    plot_html = html_skeleton.format(rendered_chart=rendered_chart)\n",
    "    display(HTML(plot_html))"
   ]
  },
  {
   "cell_type": "code",
   "execution_count": 10,
   "metadata": {
    "collapsed": true
   },
   "outputs": [],
   "source": [
    "histogram_chart = pygal.Histogram(width = 640,\n",
    "                                  height = 360,\n",
    "                                  explicit_size = True)\n",
    "\n",
    "histogram_chart.title = \"No. of Students by Age Group\"\n",
    "histogram_chart.x_title = \"Age\"\n",
    "histogram_chart.y_title = \"Number of Students\""
   ]
  },
  {
   "cell_type": "code",
   "execution_count": 11,
   "metadata": {},
   "outputs": [
    {
     "data": {
      "text/plain": [
       "[(88, 0, 13), (79, 13, 18), (33, 18, 25)]"
      ]
     },
     "execution_count": 11,
     "metadata": {},
     "output_type": "execute_result"
    }
   ],
   "source": [
    "bars = []\n",
    "\n",
    "for index, value in age_group_counts.iteritems():\n",
    "    bars.append((value, index.left, index.right))\n",
    "    \n",
    "bars"
   ]
  },
  {
   "cell_type": "code",
   "execution_count": 12,
   "metadata": {},
   "outputs": [
    {
     "data": {
      "text/html": [
       "\n",
       "<!DOCTYPE html>\n",
       "<html>\n",
       "  <head>\n",
       "  <script type=\"text/javascript\" \n",
       "          src=\"http://kozea.github.com/pygal.js/javascripts/svg.jquery.js\">\n",
       "  </script>\n",
       "  <script type=\"text/javascript\" \n",
       "          src=\"https://kozea.github.io/pygal.js/2.0.x/pygal-tooltips.min.js\"\">\n",
       "  </script>\n",
       "  </head>\n",
       "  <body>\n",
       "    <figure>\n",
       "      <?xml version='1.0' encoding='utf-8'?>\n",
       "<svg xmlns:xlink=\"http://www.w3.org/1999/xlink\" xmlns=\"http://www.w3.org/2000/svg\" id=\"chart-79d1da43-91b2-42d8-99e3-1ffb51d78399\" class=\"pygal-chart\" viewBox=\"0 0 640 360\" width=\"640\" height=\"360\"><!--Generated with pygal 2.4.0 (lxml) ©Kozea 2012-2016 on 2019-02-06--><!--http://pygal.org--><!--http://github.com/Kozea/pygal--><defs><style type=\"text/css\">#chart-79d1da43-91b2-42d8-99e3-1ffb51d78399{-webkit-user-select:none;-webkit-font-smoothing:antialiased;font-family:Consolas,\"Liberation Mono\",Menlo,Courier,monospace}#chart-79d1da43-91b2-42d8-99e3-1ffb51d78399 .title{font-family:Consolas,\"Liberation Mono\",Menlo,Courier,monospace;font-size:16px}#chart-79d1da43-91b2-42d8-99e3-1ffb51d78399 .legends .legend text{font-family:Consolas,\"Liberation Mono\",Menlo,Courier,monospace;font-size:14px}#chart-79d1da43-91b2-42d8-99e3-1ffb51d78399 .axis text{font-family:Consolas,\"Liberation Mono\",Menlo,Courier,monospace;font-size:10px}#chart-79d1da43-91b2-42d8-99e3-1ffb51d78399 .axis text.major{font-family:Consolas,\"Liberation Mono\",Menlo,Courier,monospace;font-size:10px}#chart-79d1da43-91b2-42d8-99e3-1ffb51d78399 .text-overlay text.value{font-family:Consolas,\"Liberation Mono\",Menlo,Courier,monospace;font-size:16px}#chart-79d1da43-91b2-42d8-99e3-1ffb51d78399 .text-overlay text.label{font-family:Consolas,\"Liberation Mono\",Menlo,Courier,monospace;font-size:10px}#chart-79d1da43-91b2-42d8-99e3-1ffb51d78399 .tooltip{font-family:Consolas,\"Liberation Mono\",Menlo,Courier,monospace;font-size:14px}#chart-79d1da43-91b2-42d8-99e3-1ffb51d78399 text.no_data{font-family:Consolas,\"Liberation Mono\",Menlo,Courier,monospace;font-size:64px}\n",
       "#chart-79d1da43-91b2-42d8-99e3-1ffb51d78399{background-color:rgba(249,249,249,1)}#chart-79d1da43-91b2-42d8-99e3-1ffb51d78399 path,#chart-79d1da43-91b2-42d8-99e3-1ffb51d78399 line,#chart-79d1da43-91b2-42d8-99e3-1ffb51d78399 rect,#chart-79d1da43-91b2-42d8-99e3-1ffb51d78399 circle{-webkit-transition:150ms;-moz-transition:150ms;transition:150ms}#chart-79d1da43-91b2-42d8-99e3-1ffb51d78399 .graph &gt; .background{fill:rgba(249,249,249,1)}#chart-79d1da43-91b2-42d8-99e3-1ffb51d78399 .plot &gt; .background{fill:rgba(255,255,255,1)}#chart-79d1da43-91b2-42d8-99e3-1ffb51d78399 .graph{fill:rgba(0,0,0,.87)}#chart-79d1da43-91b2-42d8-99e3-1ffb51d78399 text.no_data{fill:rgba(0,0,0,1)}#chart-79d1da43-91b2-42d8-99e3-1ffb51d78399 .title{fill:rgba(0,0,0,1)}#chart-79d1da43-91b2-42d8-99e3-1ffb51d78399 .legends .legend text{fill:rgba(0,0,0,.87)}#chart-79d1da43-91b2-42d8-99e3-1ffb51d78399 .legends .legend:hover text{fill:rgba(0,0,0,1)}#chart-79d1da43-91b2-42d8-99e3-1ffb51d78399 .axis .line{stroke:rgba(0,0,0,1)}#chart-79d1da43-91b2-42d8-99e3-1ffb51d78399 .axis .guide.line{stroke:rgba(0,0,0,.54)}#chart-79d1da43-91b2-42d8-99e3-1ffb51d78399 .axis .major.line{stroke:rgba(0,0,0,.87)}#chart-79d1da43-91b2-42d8-99e3-1ffb51d78399 .axis text.major{fill:rgba(0,0,0,1)}#chart-79d1da43-91b2-42d8-99e3-1ffb51d78399 .axis.y .guides:hover .guide.line,#chart-79d1da43-91b2-42d8-99e3-1ffb51d78399 .line-graph .axis.x .guides:hover .guide.line,#chart-79d1da43-91b2-42d8-99e3-1ffb51d78399 .stackedline-graph .axis.x .guides:hover .guide.line,#chart-79d1da43-91b2-42d8-99e3-1ffb51d78399 .xy-graph .axis.x .guides:hover .guide.line{stroke:rgba(0,0,0,1)}#chart-79d1da43-91b2-42d8-99e3-1ffb51d78399 .axis .guides:hover text{fill:rgba(0,0,0,1)}#chart-79d1da43-91b2-42d8-99e3-1ffb51d78399 .reactive{fill-opacity:.7;stroke-opacity:.8}#chart-79d1da43-91b2-42d8-99e3-1ffb51d78399 .ci{stroke:rgba(0,0,0,.87)}#chart-79d1da43-91b2-42d8-99e3-1ffb51d78399 .reactive.active,#chart-79d1da43-91b2-42d8-99e3-1ffb51d78399 .active .reactive{fill-opacity:.8;stroke-opacity:.9;stroke-width:4}#chart-79d1da43-91b2-42d8-99e3-1ffb51d78399 .ci .reactive.active{stroke-width:1.5}#chart-79d1da43-91b2-42d8-99e3-1ffb51d78399 .series text{fill:rgba(0,0,0,1)}#chart-79d1da43-91b2-42d8-99e3-1ffb51d78399 .tooltip rect{fill:rgba(255,255,255,1);stroke:rgba(0,0,0,1);-webkit-transition:opacity 150ms;-moz-transition:opacity 150ms;transition:opacity 150ms}#chart-79d1da43-91b2-42d8-99e3-1ffb51d78399 .tooltip .label{fill:rgba(0,0,0,.87)}#chart-79d1da43-91b2-42d8-99e3-1ffb51d78399 .tooltip .label{fill:rgba(0,0,0,.87)}#chart-79d1da43-91b2-42d8-99e3-1ffb51d78399 .tooltip .legend{font-size:.8em;fill:rgba(0,0,0,.54)}#chart-79d1da43-91b2-42d8-99e3-1ffb51d78399 .tooltip .x_label{font-size:.6em;fill:rgba(0,0,0,1)}#chart-79d1da43-91b2-42d8-99e3-1ffb51d78399 .tooltip .xlink{font-size:.5em;text-decoration:underline}#chart-79d1da43-91b2-42d8-99e3-1ffb51d78399 .tooltip .value{font-size:1.5em}#chart-79d1da43-91b2-42d8-99e3-1ffb51d78399 .bound{font-size:.5em}#chart-79d1da43-91b2-42d8-99e3-1ffb51d78399 .max-value{font-size:.75em;fill:rgba(0,0,0,.54)}#chart-79d1da43-91b2-42d8-99e3-1ffb51d78399 .map-element{fill:rgba(255,255,255,1);stroke:rgba(0,0,0,.54) !important}#chart-79d1da43-91b2-42d8-99e3-1ffb51d78399 .map-element .reactive{fill-opacity:inherit;stroke-opacity:inherit}#chart-79d1da43-91b2-42d8-99e3-1ffb51d78399 .color-0,#chart-79d1da43-91b2-42d8-99e3-1ffb51d78399 .color-0 a:visited{stroke:#F44336;fill:#F44336}#chart-79d1da43-91b2-42d8-99e3-1ffb51d78399 .text-overlay .color-0 text{fill:black}\n",
       "#chart-79d1da43-91b2-42d8-99e3-1ffb51d78399 text.no_data{text-anchor:middle}#chart-79d1da43-91b2-42d8-99e3-1ffb51d78399 .guide.line{fill:none}#chart-79d1da43-91b2-42d8-99e3-1ffb51d78399 .centered{text-anchor:middle}#chart-79d1da43-91b2-42d8-99e3-1ffb51d78399 .title{text-anchor:middle}#chart-79d1da43-91b2-42d8-99e3-1ffb51d78399 .legends .legend text{fill-opacity:1}#chart-79d1da43-91b2-42d8-99e3-1ffb51d78399 .axis.x text{text-anchor:middle}#chart-79d1da43-91b2-42d8-99e3-1ffb51d78399 .axis.x:not(.web) text[transform]{text-anchor:start}#chart-79d1da43-91b2-42d8-99e3-1ffb51d78399 .axis.x:not(.web) text[transform].backwards{text-anchor:end}#chart-79d1da43-91b2-42d8-99e3-1ffb51d78399 .axis.y text{text-anchor:end}#chart-79d1da43-91b2-42d8-99e3-1ffb51d78399 .axis.y text[transform].backwards{text-anchor:start}#chart-79d1da43-91b2-42d8-99e3-1ffb51d78399 .axis.y2 text{text-anchor:start}#chart-79d1da43-91b2-42d8-99e3-1ffb51d78399 .axis.y2 text[transform].backwards{text-anchor:end}#chart-79d1da43-91b2-42d8-99e3-1ffb51d78399 .axis .guide.line{stroke-dasharray:4,4}#chart-79d1da43-91b2-42d8-99e3-1ffb51d78399 .axis .major.guide.line{stroke-dasharray:6,6}#chart-79d1da43-91b2-42d8-99e3-1ffb51d78399 .horizontal .axis.y .guide.line,#chart-79d1da43-91b2-42d8-99e3-1ffb51d78399 .horizontal .axis.y2 .guide.line,#chart-79d1da43-91b2-42d8-99e3-1ffb51d78399 .vertical .axis.x .guide.line{opacity:0}#chart-79d1da43-91b2-42d8-99e3-1ffb51d78399 .horizontal .axis.always_show .guide.line,#chart-79d1da43-91b2-42d8-99e3-1ffb51d78399 .vertical .axis.always_show .guide.line{opacity:1 !important}#chart-79d1da43-91b2-42d8-99e3-1ffb51d78399 .axis.y .guides:hover .guide.line,#chart-79d1da43-91b2-42d8-99e3-1ffb51d78399 .axis.y2 .guides:hover .guide.line,#chart-79d1da43-91b2-42d8-99e3-1ffb51d78399 .axis.x .guides:hover .guide.line{opacity:1}#chart-79d1da43-91b2-42d8-99e3-1ffb51d78399 .axis .guides:hover text{opacity:1}#chart-79d1da43-91b2-42d8-99e3-1ffb51d78399 .nofill{fill:none}#chart-79d1da43-91b2-42d8-99e3-1ffb51d78399 .subtle-fill{fill-opacity:.2}#chart-79d1da43-91b2-42d8-99e3-1ffb51d78399 .dot{stroke-width:1px;fill-opacity:1}#chart-79d1da43-91b2-42d8-99e3-1ffb51d78399 .dot.active{stroke-width:5px}#chart-79d1da43-91b2-42d8-99e3-1ffb51d78399 .dot.negative{fill:transparent}#chart-79d1da43-91b2-42d8-99e3-1ffb51d78399 text,#chart-79d1da43-91b2-42d8-99e3-1ffb51d78399 tspan{stroke:none !important}#chart-79d1da43-91b2-42d8-99e3-1ffb51d78399 .series text.active{opacity:1}#chart-79d1da43-91b2-42d8-99e3-1ffb51d78399 .tooltip rect{fill-opacity:.95;stroke-width:.5}#chart-79d1da43-91b2-42d8-99e3-1ffb51d78399 .tooltip text{fill-opacity:1}#chart-79d1da43-91b2-42d8-99e3-1ffb51d78399 .showable{visibility:hidden}#chart-79d1da43-91b2-42d8-99e3-1ffb51d78399 .showable.shown{visibility:visible}#chart-79d1da43-91b2-42d8-99e3-1ffb51d78399 .gauge-background{fill:rgba(229,229,229,1);stroke:none}#chart-79d1da43-91b2-42d8-99e3-1ffb51d78399 .bg-lines{stroke:rgba(249,249,249,1);stroke-width:2px}</style><script type=\"text/javascript\">window.pygal = window.pygal || {};window.pygal.config = window.pygal.config || {};window.pygal.config['79d1da43-91b2-42d8-99e3-1ffb51d78399'] = {\"allow_interruptions\": false, \"box_mode\": \"extremes\", \"classes\": [\"pygal-chart\"], \"css\": [\"file://style.css\", \"file://graph.css\"], \"defs\": [], \"disable_xml_declaration\": false, \"dots_size\": 2.5, \"dynamic_print_values\": false, \"explicit_size\": true, \"fill\": false, \"force_uri_protocol\": \"https\", \"formatter\": null, \"half_pie\": false, \"height\": 360, \"include_x_axis\": false, \"inner_radius\": 0, \"interpolate\": null, \"interpolation_parameters\": {}, \"interpolation_precision\": 250, \"inverse_y_axis\": false, \"js\": [\"//kozea.github.io/pygal.js/2.0.x/pygal-tooltips.min.js\"], \"legend_at_bottom\": false, \"legend_at_bottom_columns\": null, \"legend_box_size\": 12, \"logarithmic\": false, \"margin\": 20, \"margin_bottom\": null, \"margin_left\": null, \"margin_right\": null, \"margin_top\": null, \"max_scale\": 16, \"min_scale\": 4, \"missing_value_fill_truncation\": \"x\", \"no_data_text\": \"No data\", \"no_prefix\": false, \"order_min\": null, \"pretty_print\": false, \"print_labels\": false, \"print_values\": false, \"print_values_position\": \"center\", \"print_zeroes\": true, \"range\": null, \"rounded_bars\": null, \"secondary_range\": null, \"show_dots\": true, \"show_legend\": true, \"show_minor_x_labels\": true, \"show_minor_y_labels\": true, \"show_only_major_dots\": false, \"show_x_guides\": false, \"show_x_labels\": true, \"show_y_guides\": true, \"show_y_labels\": true, \"spacing\": 10, \"stack_from_top\": false, \"strict\": false, \"stroke\": true, \"stroke_style\": null, \"style\": {\"background\": \"rgba(249, 249, 249, 1)\", \"ci_colors\": [], \"colors\": [\"#F44336\", \"#3F51B5\", \"#009688\", \"#FFC107\", \"#FF5722\", \"#9C27B0\", \"#03A9F4\", \"#8BC34A\", \"#FF9800\", \"#E91E63\", \"#2196F3\", \"#4CAF50\", \"#FFEB3B\", \"#673AB7\", \"#00BCD4\", \"#CDDC39\", \"#9E9E9E\", \"#607D8B\"], \"font_family\": \"Consolas, \\\"Liberation Mono\\\", Menlo, Courier, monospace\", \"foreground\": \"rgba(0, 0, 0, .87)\", \"foreground_strong\": \"rgba(0, 0, 0, 1)\", \"foreground_subtle\": \"rgba(0, 0, 0, .54)\", \"guide_stroke_dasharray\": \"4,4\", \"label_font_family\": \"Consolas, \\\"Liberation Mono\\\", Menlo, Courier, monospace\", \"label_font_size\": 10, \"legend_font_family\": \"Consolas, \\\"Liberation Mono\\\", Menlo, Courier, monospace\", \"legend_font_size\": 14, \"major_guide_stroke_dasharray\": \"6,6\", \"major_label_font_family\": \"Consolas, \\\"Liberation Mono\\\", Menlo, Courier, monospace\", \"major_label_font_size\": 10, \"no_data_font_family\": \"Consolas, \\\"Liberation Mono\\\", Menlo, Courier, monospace\", \"no_data_font_size\": 64, \"opacity\": \".7\", \"opacity_hover\": \".8\", \"plot_background\": \"rgba(255, 255, 255, 1)\", \"stroke_opacity\": \".8\", \"stroke_opacity_hover\": \".9\", \"title_font_family\": \"Consolas, \\\"Liberation Mono\\\", Menlo, Courier, monospace\", \"title_font_size\": 16, \"tooltip_font_family\": \"Consolas, \\\"Liberation Mono\\\", Menlo, Courier, monospace\", \"tooltip_font_size\": 14, \"transition\": \"150ms\", \"value_background\": \"rgba(229, 229, 229, 1)\", \"value_colors\": [], \"value_font_family\": \"Consolas, \\\"Liberation Mono\\\", Menlo, Courier, monospace\", \"value_font_size\": 16, \"value_label_font_family\": \"Consolas, \\\"Liberation Mono\\\", Menlo, Courier, monospace\", \"value_label_font_size\": 10}, \"title\": \"No. of Students by Age Group\", \"tooltip_border_radius\": 0, \"tooltip_fancy_mode\": true, \"truncate_label\": null, \"truncate_legend\": null, \"width\": 640, \"x_label_rotation\": 0, \"x_labels\": null, \"x_labels_major\": null, \"x_labels_major_count\": null, \"x_labels_major_every\": null, \"x_title\": \"Age\", \"xrange\": null, \"y_label_rotation\": 0, \"y_labels\": null, \"y_labels_major\": null, \"y_labels_major_count\": null, \"y_labels_major_every\": null, \"y_title\": \"Number of Students\", \"zero\": 0, \"legends\": [\"Students\"]}</script><script type=\"text/javascript\" xlink:href=\"https://kozea.github.io/pygal.js/2.0.x/pygal-tooltips.min.js\"/></defs><title>No. of Students by Age Group</title><g class=\"graph histogram-graph vertical\"><rect class=\"background\" height=\"360\" width=\"640\" x=\"0\" y=\"0\"/><g class=\"plot\" transform=\"translate(157, 46)\"><rect class=\"background\" height=\"248\" width=\"462.8\" x=\"0\" y=\"0\"/><g class=\"axis y always_show\"><g class=\"guides\"><path class=\"axis major line\" d=\"M0.000000 243.230769 h462.800000\"/><text class=\"major\" x=\"-5\" y=\"246.73076923076923\">0</text><title>0</title></g><g class=\"guides\"><path class=\"guide line\" d=\"M0.000000 216.132867 h462.800000\"/><text class=\"\" x=\"-5\" y=\"219.63286713286715\">10</text><title>10</title></g><g class=\"guides\"><path class=\"guide line\" d=\"M0.000000 189.034965 h462.800000\"/><text class=\"\" x=\"-5\" y=\"192.53496503496504\">20</text><title>20</title></g><g class=\"guides\"><path class=\"guide line\" d=\"M0.000000 161.937063 h462.800000\"/><text class=\"\" x=\"-5\" y=\"165.43706293706293\">30</text><title>30</title></g><g class=\"guides\"><path class=\"guide line\" d=\"M0.000000 134.839161 h462.800000\"/><text class=\"\" x=\"-5\" y=\"138.33916083916085\">40</text><title>40</title></g><g class=\"guides\"><path class=\"major guide line\" d=\"M0.000000 107.741259 h462.800000\"/><text class=\"major\" x=\"-5\" y=\"111.24125874125878\">50</text><title>50</title></g><g class=\"guides\"><path class=\"guide line\" d=\"M0.000000 80.643357 h462.800000\"/><text class=\"\" x=\"-5\" y=\"84.14335664335667\">60</text><title>60</title></g><g class=\"guides\"><path class=\"guide line\" d=\"M0.000000 53.545455 h462.800000\"/><text class=\"\" x=\"-5\" y=\"57.04545454545456\">70</text><title>70</title></g><g class=\"guides\"><path class=\"guide line\" d=\"M0.000000 26.447552 h462.800000\"/><text class=\"\" x=\"-5\" y=\"29.947552447552482\">80</text><title>80</title></g></g><g class=\"axis x\"><g class=\"guides\"><path class=\"axis line\" d=\"M8.900000 0.000000 v248.000000\"/><text class=\"\" x=\"8.9\" y=\"263.0\">0</text><title>0</title></g><g class=\"guides\"><path class=\"guide line\" d=\"M44.500000 0.000000 v248.000000\"/><text class=\"\" x=\"44.5\" y=\"263.0\">2</text><title>2</title></g><g class=\"guides\"><path class=\"guide line\" d=\"M80.100000 0.000000 v248.000000\"/><text class=\"\" x=\"80.1\" y=\"263.0\">4</text><title>4</title></g><g class=\"guides\"><path class=\"guide line\" d=\"M115.700000 0.000000 v248.000000\"/><text class=\"\" x=\"115.70000000000002\" y=\"263.0\">6</text><title>6</title></g><g class=\"guides\"><path class=\"guide line\" d=\"M151.300000 0.000000 v248.000000\"/><text class=\"\" x=\"151.3\" y=\"263.0\">8</text><title>8</title></g><g class=\"guides\"><path class=\"guide line\" d=\"M186.900000 0.000000 v248.000000\"/><text class=\"\" x=\"186.90000000000003\" y=\"263.0\">10</text><title>10</title></g><g class=\"guides\"><path class=\"guide line\" d=\"M222.500000 0.000000 v248.000000\"/><text class=\"\" x=\"222.5\" y=\"263.0\">12</text><title>12</title></g><g class=\"guides\"><path class=\"guide line\" d=\"M258.100000 0.000000 v248.000000\"/><text class=\"\" x=\"258.1\" y=\"263.0\">14</text><title>14</title></g><g class=\"guides\"><path class=\"guide line\" d=\"M293.700000 0.000000 v248.000000\"/><text class=\"\" x=\"293.7\" y=\"263.0\">16</text><title>16</title></g><g class=\"guides\"><path class=\"guide line\" d=\"M329.300000 0.000000 v248.000000\"/><text class=\"\" x=\"329.30000000000007\" y=\"263.0\">18</text><title>18</title></g><g class=\"guides\"><path class=\"guide line\" d=\"M364.900000 0.000000 v248.000000\"/><text class=\"\" x=\"364.9\" y=\"263.0\">20</text><title>20</title></g><g class=\"guides\"><path class=\"guide line\" d=\"M400.500000 0.000000 v248.000000\"/><text class=\"\" x=\"400.5\" y=\"263.0\">22</text><title>22</title></g><g class=\"guides\"><path class=\"guide line\" d=\"M436.100000 0.000000 v248.000000\"/><text class=\"\" x=\"436.1\" y=\"263.0\">24</text><title>24</title></g></g><g class=\"series serie-0 color-0\"><g class=\"histbars\"><g class=\"histbar\"><rect class=\"rect reactive tooltip-trigger\" height=\"238.46153846153842\" rx=\"0\" ry=\"0\" width=\"231.4\" x=\"8.9\" y=\"4.769230769230802\"/><desc class=\"value\">88: 0</desc><desc class=\"x centered\">124.60000000000001</desc><desc class=\"y centered\">124.00000000000001</desc></g><g class=\"histbar\"><rect class=\"rect reactive tooltip-trigger\" height=\"214.07342657342653\" rx=\"0\" ry=\"0\" width=\"89.00000000000006\" x=\"240.3\" y=\"29.157342657342696\"/><desc class=\"value\">79: 13</desc><desc class=\"x centered\">284.80000000000007</desc><desc class=\"y centered\">136.19405594405595</desc></g><g class=\"histbar\"><rect class=\"rect reactive tooltip-trigger\" height=\"89.4230769230769\" rx=\"0\" ry=\"0\" width=\"124.59999999999991\" x=\"329.30000000000007\" y=\"153.80769230769232\"/><desc class=\"value\">33: 18</desc><desc class=\"x centered\">391.6</desc><desc class=\"y centered\">198.51923076923077</desc></g></g></g></g><g class=\"titles\"><text class=\"title plot_title\" x=\"320.0\" y=\"26\">No. of Students by Age Group</text><text class=\"title\" x=\"388.6\" y=\"340\">Age</text><text class=\"title\" x=\"89.2\" y=\"196.0\" transform=\"rotate(-90 89.200000 170.000000)\">Number of Students</text></g><g class=\"plot overlay\" transform=\"translate(157, 46)\"><g class=\"series serie-0 color-0\"/></g><g class=\"plot text-overlay\" transform=\"translate(157, 46)\"><g class=\"series serie-0 color-0\"/></g><g class=\"plot tooltip-overlay\" transform=\"translate(157, 46)\"><g class=\"tooltip\" style=\"opacity: 0\" transform=\"translate(0 0)\"><rect class=\"tooltip-box\" height=\"0\" rx=\"0\" ry=\"0\" width=\"0\"/><g class=\"text\"/></g></g><g class=\"legends\" transform=\"translate(10, 56)\"><g class=\"legend reactive activate-serie\" id=\"activate-serie-0\"><rect class=\"color-0 reactive\" height=\"12\" width=\"12\" x=\"0.0\" y=\"1.0\"/><text x=\"17.0\" y=\"11.2\">Students</text></g></g><g class=\"legends\" transform=\"translate(630, 56)\"/></g></svg>\n",
       "    </figure>\n",
       "  </body>\n",
       "</html>\n"
      ],
      "text/plain": [
       "<IPython.core.display.HTML object>"
      ]
     },
     "metadata": {},
     "output_type": "display_data"
    }
   ],
   "source": [
    "histogram_chart.add('Students', \n",
    "                    bars)\n",
    "\n",
    "display_chart(histogram_chart)"
   ]
  },
  {
   "cell_type": "code",
   "execution_count": null,
   "metadata": {
    "collapsed": true
   },
   "outputs": [],
   "source": []
  },
  {
   "cell_type": "markdown",
   "metadata": {},
   "source": [
    "## Pyramid\n",
    "\n",
    "#### Plot a pyramid to show the gender distribution according to the age in the dataset."
   ]
  },
  {
   "cell_type": "code",
   "execution_count": 13,
   "metadata": {},
   "outputs": [
    {
     "data": {
      "text/html": [
       "<div>\n",
       "<style scoped>\n",
       "    .dataframe tbody tr th:only-of-type {\n",
       "        vertical-align: middle;\n",
       "    }\n",
       "\n",
       "    .dataframe tbody tr th {\n",
       "        vertical-align: top;\n",
       "    }\n",
       "\n",
       "    .dataframe thead th {\n",
       "        text-align: right;\n",
       "    }\n",
       "</style>\n",
       "<table border=\"1\" class=\"dataframe\">\n",
       "  <thead>\n",
       "    <tr style=\"text-align: right;\">\n",
       "      <th></th>\n",
       "      <th>age</th>\n",
       "      <th>facebook_time</th>\n",
       "      <th>instagram_time</th>\n",
       "      <th>twitter_time</th>\n",
       "    </tr>\n",
       "  </thead>\n",
       "  <tbody>\n",
       "    <tr>\n",
       "      <th>count</th>\n",
       "      <td>200.000000</td>\n",
       "      <td>200.000000</td>\n",
       "      <td>200.00000</td>\n",
       "      <td>200.000000</td>\n",
       "    </tr>\n",
       "    <tr>\n",
       "      <th>mean</th>\n",
       "      <td>14.475000</td>\n",
       "      <td>27.925000</td>\n",
       "      <td>31.22000</td>\n",
       "      <td>30.810000</td>\n",
       "    </tr>\n",
       "    <tr>\n",
       "      <th>std</th>\n",
       "      <td>4.396135</td>\n",
       "      <td>19.199544</td>\n",
       "      <td>26.06624</td>\n",
       "      <td>19.748771</td>\n",
       "    </tr>\n",
       "    <tr>\n",
       "      <th>min</th>\n",
       "      <td>7.000000</td>\n",
       "      <td>0.000000</td>\n",
       "      <td>0.00000</td>\n",
       "      <td>0.000000</td>\n",
       "    </tr>\n",
       "    <tr>\n",
       "      <th>25%</th>\n",
       "      <td>11.000000</td>\n",
       "      <td>11.000000</td>\n",
       "      <td>14.00000</td>\n",
       "      <td>13.750000</td>\n",
       "    </tr>\n",
       "    <tr>\n",
       "      <th>50%</th>\n",
       "      <td>14.000000</td>\n",
       "      <td>26.000000</td>\n",
       "      <td>28.50000</td>\n",
       "      <td>31.500000</td>\n",
       "    </tr>\n",
       "    <tr>\n",
       "      <th>75%</th>\n",
       "      <td>18.000000</td>\n",
       "      <td>44.250000</td>\n",
       "      <td>45.00000</td>\n",
       "      <td>47.000000</td>\n",
       "    </tr>\n",
       "    <tr>\n",
       "      <th>max</th>\n",
       "      <td>25.000000</td>\n",
       "      <td>73.000000</td>\n",
       "      <td>240.00000</td>\n",
       "      <td>120.000000</td>\n",
       "    </tr>\n",
       "  </tbody>\n",
       "</table>\n",
       "</div>"
      ],
      "text/plain": [
       "              age  facebook_time  instagram_time  twitter_time\n",
       "count  200.000000     200.000000       200.00000    200.000000\n",
       "mean    14.475000      27.925000        31.22000     30.810000\n",
       "std      4.396135      19.199544        26.06624     19.748771\n",
       "min      7.000000       0.000000         0.00000      0.000000\n",
       "25%     11.000000      11.000000        14.00000     13.750000\n",
       "50%     14.000000      26.000000        28.50000     31.500000\n",
       "75%     18.000000      44.250000        45.00000     47.000000\n",
       "max     25.000000      73.000000       240.00000    120.000000"
      ]
     },
     "execution_count": 13,
     "metadata": {},
     "output_type": "execute_result"
    }
   ],
   "source": [
    "social_media.describe()"
   ]
  },
  {
   "cell_type": "markdown",
   "metadata": {},
   "source": [
    "All the age groups in the dataset. "
   ]
  },
  {
   "cell_type": "code",
   "execution_count": 14,
   "metadata": {},
   "outputs": [
    {
     "data": {
      "text/plain": [
       "array([ 8, 15, 18, 25, 12, 16,  9, 19, 13,  7, 17, 14, 11, 10, 20, 24, 22,\n",
       "       21, 23])"
      ]
     },
     "execution_count": 14,
     "metadata": {},
     "output_type": "execute_result"
    }
   ],
   "source": [
    "social_media['age'].unique()"
   ]
  },
  {
   "cell_type": "code",
   "execution_count": 15,
   "metadata": {},
   "outputs": [
    {
     "data": {
      "text/plain": [
       "gender  age\n",
       "female  7       6\n",
       "        8       7\n",
       "        9       6\n",
       "        10      3\n",
       "        11      6\n",
       "        12      9\n",
       "        13      7\n",
       "        14      8\n",
       "        15      5\n",
       "        16      6\n",
       "        17     10\n",
       "        18     11\n",
       "        19     10\n",
       "        20      1\n",
       "        21      2\n",
       "        22      4\n",
       "        23      2\n",
       "        24      1\n",
       "        25      2\n",
       "male    7       3\n",
       "        8       5\n",
       "        9       5\n",
       "        10      3\n",
       "        11      7\n",
       "        12     10\n",
       "        13     11\n",
       "        14     10\n",
       "        15      8\n",
       "        16      6\n",
       "        17      8\n",
       "        18      7\n",
       "        19      3\n",
       "        20      1\n",
       "        22      2\n",
       "        24      3\n",
       "        25      2\n",
       "dtype: int64"
      ]
     },
     "execution_count": 15,
     "metadata": {},
     "output_type": "execute_result"
    }
   ],
   "source": [
    "age_gender_counts = social_media.groupby(['gender', 'age']).size()\n",
    "\n",
    "age_gender_counts"
   ]
  },
  {
   "cell_type": "code",
   "execution_count": 16,
   "metadata": {},
   "outputs": [
    {
     "data": {
      "text/plain": [
       "Int64Index([7, 8, 9, 10, 11, 12, 13, 14, 15, 16, 17, 18, 19, 20, 21, 22, 23,\n",
       "            24, 25],\n",
       "           dtype='int64', name='age')"
      ]
     },
     "execution_count": 16,
     "metadata": {},
     "output_type": "execute_result"
    }
   ],
   "source": [
    "ages = age_gender_counts.index.get_level_values('age').unique()\n",
    "ages"
   ]
  },
  {
   "cell_type": "code",
   "execution_count": 17,
   "metadata": {},
   "outputs": [
    {
     "data": {
      "text/plain": [
       "range(7, 25)"
      ]
     },
     "execution_count": 17,
     "metadata": {},
     "output_type": "execute_result"
    }
   ],
   "source": [
    "range(ages.min(), ages.max())"
   ]
  },
  {
   "cell_type": "code",
   "execution_count": 18,
   "metadata": {},
   "outputs": [],
   "source": [
    "for gender in age_gender_counts.index.get_level_values('gender').unique():\n",
    "    for age in range(ages.min(), ages.max() + 1):\n",
    "        try:\n",
    "            age_gender_counts.loc[gender, age]\n",
    "        except:\n",
    "            age_gender_counts.loc[gender, age] = 0"
   ]
  },
  {
   "cell_type": "code",
   "execution_count": 19,
   "metadata": {},
   "outputs": [
    {
     "data": {
      "text/plain": [
       "gender  age\n",
       "female  7       6\n",
       "        8       7\n",
       "        9       6\n",
       "        10      3\n",
       "        11      6\n",
       "        12      9\n",
       "        13      7\n",
       "        14      8\n",
       "        15      5\n",
       "        16      6\n",
       "        17     10\n",
       "        18     11\n",
       "        19     10\n",
       "        20      1\n",
       "        21      2\n",
       "        22      4\n",
       "        23      2\n",
       "        24      1\n",
       "        25      2\n",
       "male    7       3\n",
       "        8       5\n",
       "        9       5\n",
       "        10      3\n",
       "        11      7\n",
       "        12     10\n",
       "        13     11\n",
       "        14     10\n",
       "        15      8\n",
       "        16      6\n",
       "        17      8\n",
       "        18      7\n",
       "        19      3\n",
       "        20      1\n",
       "        21      0\n",
       "        22      2\n",
       "        23      0\n",
       "        24      3\n",
       "        25      2\n",
       "dtype: int64"
      ]
     },
     "execution_count": 19,
     "metadata": {},
     "output_type": "execute_result"
    }
   ],
   "source": [
    "age_gender_counts = age_gender_counts.sort_index()\n",
    "\n",
    "age_gender_counts"
   ]
  },
  {
   "cell_type": "code",
   "execution_count": 20,
   "metadata": {
    "collapsed": true
   },
   "outputs": [],
   "source": [
    "pyramid_chart = pygal.Pyramid(width = 640,\n",
    "                              height = 360,\n",
    "                              explicit_size = True,\n",
    "                              legend_at_bottom=True,\n",
    "                              )\n",
    "\n",
    "pyramid_chart.title = 'Age Distribution by gender'"
   ]
  },
  {
   "cell_type": "code",
   "execution_count": 21,
   "metadata": {
    "collapsed": true
   },
   "outputs": [],
   "source": [
    "pyramid_chart.x_labels =  range(ages.min(), ages.max() + 1)"
   ]
  },
  {
   "cell_type": "code",
   "execution_count": 22,
   "metadata": {},
   "outputs": [
    {
     "data": {
      "text/html": [
       "\n",
       "<!DOCTYPE html>\n",
       "<html>\n",
       "  <head>\n",
       "  <script type=\"text/javascript\" \n",
       "          src=\"http://kozea.github.com/pygal.js/javascripts/svg.jquery.js\">\n",
       "  </script>\n",
       "  <script type=\"text/javascript\" \n",
       "          src=\"https://kozea.github.io/pygal.js/2.0.x/pygal-tooltips.min.js\"\">\n",
       "  </script>\n",
       "  </head>\n",
       "  <body>\n",
       "    <figure>\n",
       "      <?xml version='1.0' encoding='utf-8'?>\n",
       "<svg xmlns:xlink=\"http://www.w3.org/1999/xlink\" xmlns=\"http://www.w3.org/2000/svg\" id=\"chart-ff88a363-773f-4f5f-9381-4b6de33f1422\" class=\"pygal-chart\" viewBox=\"0 0 640 360\" width=\"640\" height=\"360\"><!--Generated with pygal 2.4.0 (lxml) ©Kozea 2012-2016 on 2019-02-06--><!--http://pygal.org--><!--http://github.com/Kozea/pygal--><defs><style type=\"text/css\">#chart-ff88a363-773f-4f5f-9381-4b6de33f1422{-webkit-user-select:none;-webkit-font-smoothing:antialiased;font-family:Consolas,\"Liberation Mono\",Menlo,Courier,monospace}#chart-ff88a363-773f-4f5f-9381-4b6de33f1422 .title{font-family:Consolas,\"Liberation Mono\",Menlo,Courier,monospace;font-size:16px}#chart-ff88a363-773f-4f5f-9381-4b6de33f1422 .legends .legend text{font-family:Consolas,\"Liberation Mono\",Menlo,Courier,monospace;font-size:14px}#chart-ff88a363-773f-4f5f-9381-4b6de33f1422 .axis text{font-family:Consolas,\"Liberation Mono\",Menlo,Courier,monospace;font-size:10px}#chart-ff88a363-773f-4f5f-9381-4b6de33f1422 .axis text.major{font-family:Consolas,\"Liberation Mono\",Menlo,Courier,monospace;font-size:10px}#chart-ff88a363-773f-4f5f-9381-4b6de33f1422 .text-overlay text.value{font-family:Consolas,\"Liberation Mono\",Menlo,Courier,monospace;font-size:16px}#chart-ff88a363-773f-4f5f-9381-4b6de33f1422 .text-overlay text.label{font-family:Consolas,\"Liberation Mono\",Menlo,Courier,monospace;font-size:10px}#chart-ff88a363-773f-4f5f-9381-4b6de33f1422 .tooltip{font-family:Consolas,\"Liberation Mono\",Menlo,Courier,monospace;font-size:14px}#chart-ff88a363-773f-4f5f-9381-4b6de33f1422 text.no_data{font-family:Consolas,\"Liberation Mono\",Menlo,Courier,monospace;font-size:64px}\n",
       "#chart-ff88a363-773f-4f5f-9381-4b6de33f1422{background-color:rgba(249,249,249,1)}#chart-ff88a363-773f-4f5f-9381-4b6de33f1422 path,#chart-ff88a363-773f-4f5f-9381-4b6de33f1422 line,#chart-ff88a363-773f-4f5f-9381-4b6de33f1422 rect,#chart-ff88a363-773f-4f5f-9381-4b6de33f1422 circle{-webkit-transition:150ms;-moz-transition:150ms;transition:150ms}#chart-ff88a363-773f-4f5f-9381-4b6de33f1422 .graph &gt; .background{fill:rgba(249,249,249,1)}#chart-ff88a363-773f-4f5f-9381-4b6de33f1422 .plot &gt; .background{fill:rgba(255,255,255,1)}#chart-ff88a363-773f-4f5f-9381-4b6de33f1422 .graph{fill:rgba(0,0,0,.87)}#chart-ff88a363-773f-4f5f-9381-4b6de33f1422 text.no_data{fill:rgba(0,0,0,1)}#chart-ff88a363-773f-4f5f-9381-4b6de33f1422 .title{fill:rgba(0,0,0,1)}#chart-ff88a363-773f-4f5f-9381-4b6de33f1422 .legends .legend text{fill:rgba(0,0,0,.87)}#chart-ff88a363-773f-4f5f-9381-4b6de33f1422 .legends .legend:hover text{fill:rgba(0,0,0,1)}#chart-ff88a363-773f-4f5f-9381-4b6de33f1422 .axis .line{stroke:rgba(0,0,0,1)}#chart-ff88a363-773f-4f5f-9381-4b6de33f1422 .axis .guide.line{stroke:rgba(0,0,0,.54)}#chart-ff88a363-773f-4f5f-9381-4b6de33f1422 .axis .major.line{stroke:rgba(0,0,0,.87)}#chart-ff88a363-773f-4f5f-9381-4b6de33f1422 .axis text.major{fill:rgba(0,0,0,1)}#chart-ff88a363-773f-4f5f-9381-4b6de33f1422 .axis.y .guides:hover .guide.line,#chart-ff88a363-773f-4f5f-9381-4b6de33f1422 .line-graph .axis.x .guides:hover .guide.line,#chart-ff88a363-773f-4f5f-9381-4b6de33f1422 .stackedline-graph .axis.x .guides:hover .guide.line,#chart-ff88a363-773f-4f5f-9381-4b6de33f1422 .xy-graph .axis.x .guides:hover .guide.line{stroke:rgba(0,0,0,1)}#chart-ff88a363-773f-4f5f-9381-4b6de33f1422 .axis .guides:hover text{fill:rgba(0,0,0,1)}#chart-ff88a363-773f-4f5f-9381-4b6de33f1422 .reactive{fill-opacity:.7;stroke-opacity:.8}#chart-ff88a363-773f-4f5f-9381-4b6de33f1422 .ci{stroke:rgba(0,0,0,.87)}#chart-ff88a363-773f-4f5f-9381-4b6de33f1422 .reactive.active,#chart-ff88a363-773f-4f5f-9381-4b6de33f1422 .active .reactive{fill-opacity:.8;stroke-opacity:.9;stroke-width:4}#chart-ff88a363-773f-4f5f-9381-4b6de33f1422 .ci .reactive.active{stroke-width:1.5}#chart-ff88a363-773f-4f5f-9381-4b6de33f1422 .series text{fill:rgba(0,0,0,1)}#chart-ff88a363-773f-4f5f-9381-4b6de33f1422 .tooltip rect{fill:rgba(255,255,255,1);stroke:rgba(0,0,0,1);-webkit-transition:opacity 150ms;-moz-transition:opacity 150ms;transition:opacity 150ms}#chart-ff88a363-773f-4f5f-9381-4b6de33f1422 .tooltip .label{fill:rgba(0,0,0,.87)}#chart-ff88a363-773f-4f5f-9381-4b6de33f1422 .tooltip .label{fill:rgba(0,0,0,.87)}#chart-ff88a363-773f-4f5f-9381-4b6de33f1422 .tooltip .legend{font-size:.8em;fill:rgba(0,0,0,.54)}#chart-ff88a363-773f-4f5f-9381-4b6de33f1422 .tooltip .x_label{font-size:.6em;fill:rgba(0,0,0,1)}#chart-ff88a363-773f-4f5f-9381-4b6de33f1422 .tooltip .xlink{font-size:.5em;text-decoration:underline}#chart-ff88a363-773f-4f5f-9381-4b6de33f1422 .tooltip .value{font-size:1.5em}#chart-ff88a363-773f-4f5f-9381-4b6de33f1422 .bound{font-size:.5em}#chart-ff88a363-773f-4f5f-9381-4b6de33f1422 .max-value{font-size:.75em;fill:rgba(0,0,0,.54)}#chart-ff88a363-773f-4f5f-9381-4b6de33f1422 .map-element{fill:rgba(255,255,255,1);stroke:rgba(0,0,0,.54) !important}#chart-ff88a363-773f-4f5f-9381-4b6de33f1422 .map-element .reactive{fill-opacity:inherit;stroke-opacity:inherit}#chart-ff88a363-773f-4f5f-9381-4b6de33f1422 .color-0,#chart-ff88a363-773f-4f5f-9381-4b6de33f1422 .color-0 a:visited{stroke:#F44336;fill:#F44336}#chart-ff88a363-773f-4f5f-9381-4b6de33f1422 .color-1,#chart-ff88a363-773f-4f5f-9381-4b6de33f1422 .color-1 a:visited{stroke:#3F51B5;fill:#3F51B5}#chart-ff88a363-773f-4f5f-9381-4b6de33f1422 .text-overlay .color-0 text{fill:black}#chart-ff88a363-773f-4f5f-9381-4b6de33f1422 .text-overlay .color-1 text{fill:black}\n",
       "#chart-ff88a363-773f-4f5f-9381-4b6de33f1422 text.no_data{text-anchor:middle}#chart-ff88a363-773f-4f5f-9381-4b6de33f1422 .guide.line{fill:none}#chart-ff88a363-773f-4f5f-9381-4b6de33f1422 .centered{text-anchor:middle}#chart-ff88a363-773f-4f5f-9381-4b6de33f1422 .title{text-anchor:middle}#chart-ff88a363-773f-4f5f-9381-4b6de33f1422 .legends .legend text{fill-opacity:1}#chart-ff88a363-773f-4f5f-9381-4b6de33f1422 .axis.x text{text-anchor:middle}#chart-ff88a363-773f-4f5f-9381-4b6de33f1422 .axis.x:not(.web) text[transform]{text-anchor:start}#chart-ff88a363-773f-4f5f-9381-4b6de33f1422 .axis.x:not(.web) text[transform].backwards{text-anchor:end}#chart-ff88a363-773f-4f5f-9381-4b6de33f1422 .axis.y text{text-anchor:end}#chart-ff88a363-773f-4f5f-9381-4b6de33f1422 .axis.y text[transform].backwards{text-anchor:start}#chart-ff88a363-773f-4f5f-9381-4b6de33f1422 .axis.y2 text{text-anchor:start}#chart-ff88a363-773f-4f5f-9381-4b6de33f1422 .axis.y2 text[transform].backwards{text-anchor:end}#chart-ff88a363-773f-4f5f-9381-4b6de33f1422 .axis .guide.line{stroke-dasharray:4,4}#chart-ff88a363-773f-4f5f-9381-4b6de33f1422 .axis .major.guide.line{stroke-dasharray:6,6}#chart-ff88a363-773f-4f5f-9381-4b6de33f1422 .horizontal .axis.y .guide.line,#chart-ff88a363-773f-4f5f-9381-4b6de33f1422 .horizontal .axis.y2 .guide.line,#chart-ff88a363-773f-4f5f-9381-4b6de33f1422 .vertical .axis.x .guide.line{opacity:0}#chart-ff88a363-773f-4f5f-9381-4b6de33f1422 .horizontal .axis.always_show .guide.line,#chart-ff88a363-773f-4f5f-9381-4b6de33f1422 .vertical .axis.always_show .guide.line{opacity:1 !important}#chart-ff88a363-773f-4f5f-9381-4b6de33f1422 .axis.y .guides:hover .guide.line,#chart-ff88a363-773f-4f5f-9381-4b6de33f1422 .axis.y2 .guides:hover .guide.line,#chart-ff88a363-773f-4f5f-9381-4b6de33f1422 .axis.x .guides:hover .guide.line{opacity:1}#chart-ff88a363-773f-4f5f-9381-4b6de33f1422 .axis .guides:hover text{opacity:1}#chart-ff88a363-773f-4f5f-9381-4b6de33f1422 .nofill{fill:none}#chart-ff88a363-773f-4f5f-9381-4b6de33f1422 .subtle-fill{fill-opacity:.2}#chart-ff88a363-773f-4f5f-9381-4b6de33f1422 .dot{stroke-width:1px;fill-opacity:1}#chart-ff88a363-773f-4f5f-9381-4b6de33f1422 .dot.active{stroke-width:5px}#chart-ff88a363-773f-4f5f-9381-4b6de33f1422 .dot.negative{fill:transparent}#chart-ff88a363-773f-4f5f-9381-4b6de33f1422 text,#chart-ff88a363-773f-4f5f-9381-4b6de33f1422 tspan{stroke:none !important}#chart-ff88a363-773f-4f5f-9381-4b6de33f1422 .series text.active{opacity:1}#chart-ff88a363-773f-4f5f-9381-4b6de33f1422 .tooltip rect{fill-opacity:.95;stroke-width:.5}#chart-ff88a363-773f-4f5f-9381-4b6de33f1422 .tooltip text{fill-opacity:1}#chart-ff88a363-773f-4f5f-9381-4b6de33f1422 .showable{visibility:hidden}#chart-ff88a363-773f-4f5f-9381-4b6de33f1422 .showable.shown{visibility:visible}#chart-ff88a363-773f-4f5f-9381-4b6de33f1422 .gauge-background{fill:rgba(229,229,229,1);stroke:none}#chart-ff88a363-773f-4f5f-9381-4b6de33f1422 .bg-lines{stroke:rgba(249,249,249,1);stroke-width:2px}</style><script type=\"text/javascript\">window.pygal = window.pygal || {};window.pygal.config = window.pygal.config || {};window.pygal.config['ff88a363-773f-4f5f-9381-4b6de33f1422'] = {\"allow_interruptions\": false, \"box_mode\": \"extremes\", \"classes\": [\"pygal-chart\"], \"css\": [\"file://style.css\", \"file://graph.css\"], \"defs\": [], \"disable_xml_declaration\": false, \"dots_size\": 2.5, \"dynamic_print_values\": false, \"explicit_size\": true, \"fill\": false, \"force_uri_protocol\": \"https\", \"formatter\": null, \"half_pie\": false, \"height\": 360, \"include_x_axis\": false, \"inner_radius\": 0, \"interpolate\": null, \"interpolation_parameters\": {}, \"interpolation_precision\": 250, \"inverse_y_axis\": false, \"js\": [\"//kozea.github.io/pygal.js/2.0.x/pygal-tooltips.min.js\"], \"legend_at_bottom\": true, \"legend_at_bottom_columns\": null, \"legend_box_size\": 12, \"logarithmic\": false, \"margin\": 20, \"margin_bottom\": null, \"margin_left\": null, \"margin_right\": null, \"margin_top\": null, \"max_scale\": 16, \"min_scale\": 4, \"missing_value_fill_truncation\": \"x\", \"no_data_text\": \"No data\", \"no_prefix\": false, \"order_min\": null, \"pretty_print\": false, \"print_labels\": false, \"print_values\": false, \"print_values_position\": \"center\", \"print_zeroes\": true, \"range\": null, \"rounded_bars\": null, \"secondary_range\": null, \"show_dots\": true, \"show_legend\": true, \"show_minor_x_labels\": true, \"show_minor_y_labels\": true, \"show_only_major_dots\": false, \"show_x_guides\": true, \"show_x_labels\": true, \"show_y_guides\": false, \"show_y_labels\": true, \"spacing\": 10, \"stack_from_top\": false, \"strict\": false, \"stroke\": true, \"stroke_style\": null, \"style\": {\"background\": \"rgba(249, 249, 249, 1)\", \"ci_colors\": [], \"colors\": [\"#F44336\", \"#3F51B5\", \"#009688\", \"#FFC107\", \"#FF5722\", \"#9C27B0\", \"#03A9F4\", \"#8BC34A\", \"#FF9800\", \"#E91E63\", \"#2196F3\", \"#4CAF50\", \"#FFEB3B\", \"#673AB7\", \"#00BCD4\", \"#CDDC39\", \"#9E9E9E\", \"#607D8B\"], \"font_family\": \"Consolas, \\\"Liberation Mono\\\", Menlo, Courier, monospace\", \"foreground\": \"rgba(0, 0, 0, .87)\", \"foreground_strong\": \"rgba(0, 0, 0, 1)\", \"foreground_subtle\": \"rgba(0, 0, 0, .54)\", \"guide_stroke_dasharray\": \"4,4\", \"label_font_family\": \"Consolas, \\\"Liberation Mono\\\", Menlo, Courier, monospace\", \"label_font_size\": 10, \"legend_font_family\": \"Consolas, \\\"Liberation Mono\\\", Menlo, Courier, monospace\", \"legend_font_size\": 14, \"major_guide_stroke_dasharray\": \"6,6\", \"major_label_font_family\": \"Consolas, \\\"Liberation Mono\\\", Menlo, Courier, monospace\", \"major_label_font_size\": 10, \"no_data_font_family\": \"Consolas, \\\"Liberation Mono\\\", Menlo, Courier, monospace\", \"no_data_font_size\": 64, \"opacity\": \".7\", \"opacity_hover\": \".8\", \"plot_background\": \"rgba(255, 255, 255, 1)\", \"stroke_opacity\": \".8\", \"stroke_opacity_hover\": \".9\", \"title_font_family\": \"Consolas, \\\"Liberation Mono\\\", Menlo, Courier, monospace\", \"title_font_size\": 16, \"tooltip_font_family\": \"Consolas, \\\"Liberation Mono\\\", Menlo, Courier, monospace\", \"tooltip_font_size\": 14, \"transition\": \"150ms\", \"value_background\": \"rgba(229, 229, 229, 1)\", \"value_colors\": [], \"value_font_family\": \"Consolas, \\\"Liberation Mono\\\", Menlo, Courier, monospace\", \"value_font_size\": 16, \"value_label_font_family\": \"Consolas, \\\"Liberation Mono\\\", Menlo, Courier, monospace\", \"value_label_font_size\": 10}, \"title\": \"Age Distribution by gender\", \"tooltip_border_radius\": 0, \"tooltip_fancy_mode\": true, \"truncate_label\": null, \"truncate_legend\": null, \"width\": 640, \"x_label_rotation\": 0, \"x_labels\": [7, 8, 9, 10, 11, 12, 13, 14, 15, 16, 17, 18, 19, 20, 21, 22, 23, 24, 25], \"x_labels_major\": null, \"x_labels_major_count\": null, \"x_labels_major_every\": null, \"x_title\": null, \"xrange\": null, \"y_label_rotation\": 0, \"y_labels\": null, \"y_labels_major\": null, \"y_labels_major_count\": null, \"y_labels_major_every\": null, \"y_title\": null, \"zero\": 0, \"legends\": [\"Female\", \"Male\"]}</script><script type=\"text/javascript\" xlink:href=\"https://kozea.github.io/pygal.js/2.0.x/pygal-tooltips.min.js\"/></defs><title>Age Distribution by gender</title><g class=\"graph pyramid-graph horizontal\"><rect class=\"background\" height=\"360\" width=\"640\" x=\"0\" y=\"0\"/><g class=\"plot\" transform=\"translate(42, 46)\"><rect class=\"background\" height=\"229.0\" width=\"578.0\" x=\"0\" y=\"0\"/><g class=\"axis y\"><g class=\"guides\"><text class=\"\" x=\"-5\" y=\"222.30161943319837\">7</text><title>0.02631578947</title></g><g class=\"guides\"><text class=\"\" x=\"-5\" y=\"210.71255060728745\">8</text><title>0.07894736842</title></g><g class=\"guides\"><text class=\"\" x=\"-5\" y=\"199.12348178137654\">9</text><title>0.1315789474</title></g><g class=\"guides\"><text class=\"\" x=\"-5\" y=\"187.5344129554656\">10</text><title>0.1842105263</title></g><g class=\"guides\"><text class=\"\" x=\"-5\" y=\"175.94534412955466\">11</text><title>0.2368421053</title></g><g class=\"guides\"><text class=\"\" x=\"-5\" y=\"164.3562753036437\">12</text><title>0.2894736842</title></g><g class=\"guides\"><text class=\"\" x=\"-5\" y=\"152.76720647773277\">13</text><title>0.3421052632</title></g><g class=\"guides\"><text class=\"\" x=\"-5\" y=\"141.17813765182186\">14</text><title>0.3947368421</title></g><g class=\"guides\"><text class=\"\" x=\"-5\" y=\"129.58906882591094\">15</text><title>0.4473684211</title></g><g class=\"guides\"><text class=\"\" x=\"-5\" y=\"118.0\">16</text><title>0.5</title></g><g class=\"guides\"><text class=\"\" x=\"-5\" y=\"106.41093117408906\">17</text><title>0.5526315789</title></g><g class=\"guides\"><text class=\"\" x=\"-5\" y=\"94.82186234817812\">18</text><title>0.6052631579</title></g><g class=\"guides\"><text class=\"\" x=\"-5\" y=\"83.2327935222672\">19</text><title>0.6578947368</title></g><g class=\"guides\"><text class=\"\" x=\"-5\" y=\"71.64372469635629\">20</text><title>0.7105263158</title></g><g class=\"guides\"><text class=\"\" x=\"-5\" y=\"60.054655870445345\">21</text><title>0.7631578947</title></g><g class=\"guides\"><text class=\"\" x=\"-5\" y=\"48.46558704453443\">22</text><title>0.8157894737</title></g><g class=\"guides\"><text class=\"\" x=\"-5\" y=\"36.87651821862346\">23</text><title>0.8684210526</title></g><g class=\"guides\"><text class=\"\" x=\"-5\" y=\"25.287449392712574\">24</text><title>0.9210526316</title></g><g class=\"guides\"><text class=\"\" x=\"-5\" y=\"13.698380566801632\">25</text><title>0.9736842105</title></g></g><g class=\"axis x always_show\"><g class=\"guides\"><path class=\"major guide line\" d=\"M36.377622 0.000000 v229.000000\"/><text class=\"major\" x=\"36.377622377622366\" y=\"244.0\">-10</text></g><g class=\"guides\"><path class=\"guide line\" d=\"M86.902098 0.000000 v229.000000\"/><text class=\"\" x=\"86.90209790209789\" y=\"244.0\">-8</text></g><g class=\"guides\"><path class=\"guide line\" d=\"M137.426573 0.000000 v229.000000\"/><text class=\"\" x=\"137.4265734265734\" y=\"244.0\">-6</text></g><g class=\"guides\"><path class=\"guide line\" d=\"M187.951049 0.000000 v229.000000\"/><text class=\"\" x=\"187.95104895104896\" y=\"244.0\">-4</text></g><g class=\"guides\"><path class=\"guide line\" d=\"M238.475524 0.000000 v229.000000\"/><text class=\"\" x=\"238.47552447552448\" y=\"244.0\">-2</text></g><g class=\"guides\"><path class=\"axis major line\" d=\"M289.000000 0.000000 v229.000000\"/><text class=\"major\" x=\"289.0\" y=\"244.0\">0</text></g><g class=\"guides\"><path class=\"guide line\" d=\"M339.524476 0.000000 v229.000000\"/><text class=\"\" x=\"339.5244755244755\" y=\"244.0\">2</text></g><g class=\"guides\"><path class=\"guide line\" d=\"M390.048951 0.000000 v229.000000\"/><text class=\"\" x=\"390.04895104895104\" y=\"244.0\">4</text></g><g class=\"guides\"><path class=\"guide line\" d=\"M440.573427 0.000000 v229.000000\"/><text class=\"\" x=\"440.5734265734265\" y=\"244.0\">6</text></g><g class=\"guides\"><path class=\"guide line\" d=\"M491.097902 0.000000 v229.000000\"/><text class=\"\" x=\"491.097902097902\" y=\"244.0\">8</text></g><g class=\"guides\"><path class=\"major guide line\" d=\"M541.622378 0.000000 v229.000000\"/><text class=\"major\" x=\"541.6223776223776\" y=\"244.0\">10</text></g></g><g class=\"series serie-0 color-0\"><g class=\"bars\"><g class=\"bar\"><rect class=\"rect reactive tooltip-trigger\" height=\"10.19838056680162\" rx=\"0\" ry=\"0\" width=\"151.5734265734265\" x=\"289.0\" y=\"213.70242914979755\"/><desc class=\"value\">6</desc><desc class=\"x centered\">364.7867132867133</desc><desc class=\"y centered\">218.80161943319837</desc><desc class=\"x_label\">7</desc></g><g class=\"bar\"><rect class=\"rect reactive tooltip-trigger\" height=\"10.19838056680162\" rx=\"0\" ry=\"0\" width=\"176.83566433566426\" x=\"289.0\" y=\"202.11336032388664\"/><desc class=\"value\">7</desc><desc class=\"x centered\">377.4178321678321</desc><desc class=\"y centered\">207.21255060728745</desc><desc class=\"x_label\">8</desc></g><g class=\"bar\"><rect class=\"rect reactive tooltip-trigger\" height=\"10.19838056680162\" rx=\"0\" ry=\"0\" width=\"151.5734265734265\" x=\"289.0\" y=\"190.5242914979757\"/><desc class=\"value\">6</desc><desc class=\"x centered\">364.7867132867133</desc><desc class=\"y centered\">195.6234817813765</desc><desc class=\"x_label\">9</desc></g><g class=\"bar\"><rect class=\"rect reactive tooltip-trigger\" height=\"10.19838056680162\" rx=\"0\" ry=\"0\" width=\"75.78671328671328\" x=\"289.0\" y=\"178.93522267206475\"/><desc class=\"value\">3</desc><desc class=\"x centered\">326.89335664335664</desc><desc class=\"y centered\">184.03441295546557</desc><desc class=\"x_label\">10</desc></g><g class=\"bar\"><rect class=\"rect reactive tooltip-trigger\" height=\"10.19838056680162\" rx=\"0\" ry=\"0\" width=\"151.5734265734265\" x=\"289.0\" y=\"167.34615384615384\"/><desc class=\"value\">6</desc><desc class=\"x centered\">364.7867132867133</desc><desc class=\"y centered\">172.44534412955466</desc><desc class=\"x_label\">11</desc></g><g class=\"bar\"><rect class=\"rect reactive tooltip-trigger\" height=\"10.19838056680162\" rx=\"0\" ry=\"0\" width=\"227.36013986013984\" x=\"289.0\" y=\"155.7570850202429\"/><desc class=\"value\">9</desc><desc class=\"x centered\">402.6800699300699</desc><desc class=\"y centered\">160.8562753036437</desc><desc class=\"x_label\">12</desc></g><g class=\"bar\"><rect class=\"rect reactive tooltip-trigger\" height=\"10.19838056680162\" rx=\"0\" ry=\"0\" width=\"176.83566433566426\" x=\"289.0\" y=\"144.16801619433198\"/><desc class=\"value\">7</desc><desc class=\"x centered\">377.4178321678321</desc><desc class=\"y centered\">149.2672064777328</desc><desc class=\"x_label\">13</desc></g><g class=\"bar\"><rect class=\"rect reactive tooltip-trigger\" height=\"10.19838056680162\" rx=\"0\" ry=\"0\" width=\"202.09790209790202\" x=\"289.0\" y=\"132.57894736842104\"/><desc class=\"value\">8</desc><desc class=\"x centered\">390.04895104895104</desc><desc class=\"y centered\">137.67813765182186</desc><desc class=\"x_label\">14</desc></g><g class=\"bar\"><rect class=\"rect reactive tooltip-trigger\" height=\"10.19838056680162\" rx=\"0\" ry=\"0\" width=\"126.31118881118874\" x=\"289.0\" y=\"120.98987854251011\"/><desc class=\"value\">5</desc><desc class=\"x centered\">352.15559440559434</desc><desc class=\"y centered\">126.08906882591091</desc><desc class=\"x_label\">15</desc></g><g class=\"bar\"><rect class=\"rect reactive tooltip-trigger\" height=\"10.19838056680162\" rx=\"0\" ry=\"0\" width=\"151.5734265734265\" x=\"289.0\" y=\"109.4008097165992\"/><desc class=\"value\">6</desc><desc class=\"x centered\">364.7867132867133</desc><desc class=\"y centered\">114.5</desc><desc class=\"x_label\">16</desc></g><g class=\"bar\"><rect class=\"rect reactive tooltip-trigger\" height=\"10.19838056680162\" rx=\"0\" ry=\"0\" width=\"252.6223776223776\" x=\"289.0\" y=\"97.81174089068827\"/><desc class=\"value\">10</desc><desc class=\"x centered\">415.3111888111888</desc><desc class=\"y centered\">102.91093117408907</desc><desc class=\"x_label\">17</desc></g><g class=\"bar\"><rect class=\"rect reactive tooltip-trigger\" height=\"10.19838056680162\" rx=\"0\" ry=\"0\" width=\"277.88461538461536\" x=\"289.0\" y=\"86.22267206477734\"/><desc class=\"value\">11</desc><desc class=\"x centered\">427.9423076923077</desc><desc class=\"y centered\">91.32186234817814</desc><desc class=\"x_label\">18</desc></g><g class=\"bar\"><rect class=\"rect reactive tooltip-trigger\" height=\"10.19838056680162\" rx=\"0\" ry=\"0\" width=\"252.6223776223776\" x=\"289.0\" y=\"74.6336032388664\"/><desc class=\"value\">10</desc><desc class=\"x centered\">415.3111888111888</desc><desc class=\"y centered\">79.7327935222672</desc><desc class=\"x_label\">19</desc></g><g class=\"bar\"><rect class=\"rect reactive tooltip-trigger\" height=\"10.19838056680162\" rx=\"0\" ry=\"0\" width=\"25.26223776223776\" x=\"289.0\" y=\"63.04453441295546\"/><desc class=\"value\">1</desc><desc class=\"x centered\">301.6311188811189</desc><desc class=\"y centered\">68.14372469635626</desc><desc class=\"x_label\">20</desc></g><g class=\"bar\"><rect class=\"rect reactive tooltip-trigger\" height=\"10.19838056680162\" rx=\"0\" ry=\"0\" width=\"50.52447552447552\" x=\"289.0\" y=\"51.45546558704454\"/><desc class=\"value\">2</desc><desc class=\"x centered\">314.26223776223776</desc><desc class=\"y centered\">56.55465587044535</desc><desc class=\"x_label\">21</desc></g><g class=\"bar\"><rect class=\"rect reactive tooltip-trigger\" height=\"10.19838056680162\" rx=\"0\" ry=\"0\" width=\"101.04895104895104\" x=\"289.0\" y=\"39.8663967611336\"/><desc class=\"value\">4</desc><desc class=\"x centered\">339.5244755244755</desc><desc class=\"y centered\">44.96558704453441</desc><desc class=\"x_label\">22</desc></g><g class=\"bar\"><rect class=\"rect reactive tooltip-trigger\" height=\"10.19838056680162\" rx=\"0\" ry=\"0\" width=\"50.52447552447552\" x=\"289.0\" y=\"28.277327935222687\"/><desc class=\"value\">2</desc><desc class=\"x centered\">314.26223776223776</desc><desc class=\"y centered\">33.376518218623495</desc><desc class=\"x_label\">23</desc></g><g class=\"bar\"><rect class=\"rect reactive tooltip-trigger\" height=\"10.19838056680162\" rx=\"0\" ry=\"0\" width=\"25.26223776223776\" x=\"289.0\" y=\"16.688259109311744\"/><desc class=\"value\">1</desc><desc class=\"x centered\">301.6311188811189</desc><desc class=\"y centered\">21.787449392712553</desc><desc class=\"x_label\">24</desc></g><g class=\"bar\"><rect class=\"rect reactive tooltip-trigger\" height=\"10.19838056680162\" rx=\"0\" ry=\"0\" width=\"50.52447552447552\" x=\"289.0\" y=\"5.099190283400828\"/><desc class=\"value\">2</desc><desc class=\"x centered\">314.26223776223776</desc><desc class=\"y centered\">10.198380566801639</desc><desc class=\"x_label\">25</desc></g></g></g><g class=\"series serie-1 color-1\"><g class=\"bars\"><g class=\"bar\"><rect class=\"rect reactive tooltip-trigger\" height=\"10.19838056680162\" rx=\"0\" ry=\"0\" width=\"75.78671328671328\" x=\"213.21328671328672\" y=\"213.70242914979755\"/><desc class=\"value\">3</desc><desc class=\"x centered\">251.10664335664336</desc><desc class=\"y centered\">218.80161943319837</desc><desc class=\"x_label\">7</desc></g><g class=\"bar\"><rect class=\"rect reactive tooltip-trigger\" height=\"10.19838056680162\" rx=\"0\" ry=\"0\" width=\"126.31118881118883\" x=\"162.68881118881117\" y=\"202.11336032388664\"/><desc class=\"value\">5</desc><desc class=\"x centered\">225.8444055944056</desc><desc class=\"y centered\">207.21255060728745</desc><desc class=\"x_label\">8</desc></g><g class=\"bar\"><rect class=\"rect reactive tooltip-trigger\" height=\"10.19838056680162\" rx=\"0\" ry=\"0\" width=\"126.31118881118883\" x=\"162.68881118881117\" y=\"190.5242914979757\"/><desc class=\"value\">5</desc><desc class=\"x centered\">225.8444055944056</desc><desc class=\"y centered\">195.6234817813765</desc><desc class=\"x_label\">9</desc></g><g class=\"bar\"><rect class=\"rect reactive tooltip-trigger\" height=\"10.19838056680162\" rx=\"0\" ry=\"0\" width=\"75.78671328671328\" x=\"213.21328671328672\" y=\"178.93522267206475\"/><desc class=\"value\">3</desc><desc class=\"x centered\">251.10664335664336</desc><desc class=\"y centered\">184.03441295546557</desc><desc class=\"x_label\">10</desc></g><g class=\"bar\"><rect class=\"rect reactive tooltip-trigger\" height=\"10.19838056680162\" rx=\"0\" ry=\"0\" width=\"176.83566433566435\" x=\"112.16433566433565\" y=\"167.34615384615384\"/><desc class=\"value\">7</desc><desc class=\"x centered\">200.58216783216784</desc><desc class=\"y centered\">172.44534412955466</desc><desc class=\"x_label\">11</desc></g><g class=\"bar\"><rect class=\"rect reactive tooltip-trigger\" height=\"10.19838056680162\" rx=\"0\" ry=\"0\" width=\"252.62237762237763\" x=\"36.377622377622366\" y=\"155.7570850202429\"/><desc class=\"value\">10</desc><desc class=\"x centered\">162.68881118881117</desc><desc class=\"y centered\">160.8562753036437</desc><desc class=\"x_label\">12</desc></g><g class=\"bar\"><rect class=\"rect reactive tooltip-trigger\" height=\"10.19838056680162\" rx=\"0\" ry=\"0\" width=\"277.8846153846154\" x=\"11.115384615384603\" y=\"144.16801619433198\"/><desc class=\"value\">11</desc><desc class=\"x centered\">150.05769230769232</desc><desc class=\"y centered\">149.2672064777328</desc><desc class=\"x_label\">13</desc></g><g class=\"bar\"><rect class=\"rect reactive tooltip-trigger\" height=\"10.19838056680162\" rx=\"0\" ry=\"0\" width=\"252.62237762237763\" x=\"36.377622377622366\" y=\"132.57894736842104\"/><desc class=\"value\">10</desc><desc class=\"x centered\">162.68881118881117</desc><desc class=\"y centered\">137.67813765182186</desc><desc class=\"x_label\">14</desc></g><g class=\"bar\"><rect class=\"rect reactive tooltip-trigger\" height=\"10.19838056680162\" rx=\"0\" ry=\"0\" width=\"202.0979020979021\" x=\"86.90209790209789\" y=\"120.98987854251011\"/><desc class=\"value\">8</desc><desc class=\"x centered\">187.95104895104896</desc><desc class=\"y centered\">126.08906882591091</desc><desc class=\"x_label\">15</desc></g><g class=\"bar\"><rect class=\"rect reactive tooltip-trigger\" height=\"10.19838056680162\" rx=\"0\" ry=\"0\" width=\"151.5734265734266\" x=\"137.4265734265734\" y=\"109.4008097165992\"/><desc class=\"value\">6</desc><desc class=\"x centered\">213.21328671328672</desc><desc class=\"y centered\">114.5</desc><desc class=\"x_label\">16</desc></g><g class=\"bar\"><rect class=\"rect reactive tooltip-trigger\" height=\"10.19838056680162\" rx=\"0\" ry=\"0\" width=\"202.0979020979021\" x=\"86.90209790209789\" y=\"97.81174089068827\"/><desc class=\"value\">8</desc><desc class=\"x centered\">187.95104895104896</desc><desc class=\"y centered\">102.91093117408907</desc><desc class=\"x_label\">17</desc></g><g class=\"bar\"><rect class=\"rect reactive tooltip-trigger\" height=\"10.19838056680162\" rx=\"0\" ry=\"0\" width=\"176.83566433566435\" x=\"112.16433566433565\" y=\"86.22267206477734\"/><desc class=\"value\">7</desc><desc class=\"x centered\">200.58216783216784</desc><desc class=\"y centered\">91.32186234817814</desc><desc class=\"x_label\">18</desc></g><g class=\"bar\"><rect class=\"rect reactive tooltip-trigger\" height=\"10.19838056680162\" rx=\"0\" ry=\"0\" width=\"75.78671328671328\" x=\"213.21328671328672\" y=\"74.6336032388664\"/><desc class=\"value\">3</desc><desc class=\"x centered\">251.10664335664336</desc><desc class=\"y centered\">79.7327935222672</desc><desc class=\"x_label\">19</desc></g><g class=\"bar\"><rect class=\"rect reactive tooltip-trigger\" height=\"10.19838056680162\" rx=\"0\" ry=\"0\" width=\"25.26223776223776\" x=\"263.73776223776224\" y=\"63.04453441295546\"/><desc class=\"value\">1</desc><desc class=\"x centered\">276.3688811188811</desc><desc class=\"y centered\">68.14372469635626</desc><desc class=\"x_label\">20</desc></g><g class=\"bar\"><rect class=\"rect reactive tooltip-trigger\" height=\"10.19838056680162\" rx=\"0\" ry=\"0\" x=\"339.5244755244755\" y=\"51.45546558704454\"/><desc class=\"value\">0</desc><desc class=\"x centered\">339.5244755244755</desc><desc class=\"y centered\">56.55465587044535</desc><desc class=\"x_label\">21</desc></g><g class=\"bar\"><rect class=\"rect reactive tooltip-trigger\" height=\"10.19838056680162\" rx=\"0\" ry=\"0\" width=\"50.52447552447552\" x=\"238.47552447552448\" y=\"39.8663967611336\"/><desc class=\"value\">2</desc><desc class=\"x centered\">263.73776223776224</desc><desc class=\"y centered\">44.96558704453441</desc><desc class=\"x_label\">22</desc></g><g class=\"bar\"><rect class=\"rect reactive tooltip-trigger\" height=\"10.19838056680162\" rx=\"0\" ry=\"0\" x=\"339.5244755244755\" y=\"28.277327935222687\"/><desc class=\"value\">0</desc><desc class=\"x centered\">339.5244755244755</desc><desc class=\"y centered\">33.376518218623495</desc><desc class=\"x_label\">23</desc></g><g class=\"bar\"><rect class=\"rect reactive tooltip-trigger\" height=\"10.19838056680162\" rx=\"0\" ry=\"0\" width=\"75.78671328671328\" x=\"213.21328671328672\" y=\"16.688259109311744\"/><desc class=\"value\">3</desc><desc class=\"x centered\">251.10664335664336</desc><desc class=\"y centered\">21.787449392712553</desc><desc class=\"x_label\">24</desc></g><g class=\"bar\"><rect class=\"rect reactive tooltip-trigger\" height=\"10.19838056680162\" rx=\"0\" ry=\"0\" width=\"50.52447552447552\" x=\"238.47552447552448\" y=\"5.099190283400828\"/><desc class=\"value\">2</desc><desc class=\"x centered\">263.73776223776224</desc><desc class=\"y centered\">10.198380566801639</desc><desc class=\"x_label\">25</desc></g></g></g></g><g class=\"titles\"><text class=\"title plot_title\" x=\"320.0\" y=\"26\">Age Distribution by gender</text></g><g class=\"plot overlay\" transform=\"translate(42, 46)\"><g class=\"series serie-0 color-0\"/><g class=\"series serie-1 color-1\"/></g><g class=\"plot text-overlay\" transform=\"translate(42, 46)\"><g class=\"series serie-0 color-0\"/><g class=\"series serie-1 color-1\"/></g><g class=\"plot tooltip-overlay\" transform=\"translate(42, 46)\"><g class=\"tooltip\" style=\"opacity: 0\" transform=\"translate(0 0)\"><rect class=\"tooltip-box\" height=\"0\" rx=\"0\" ry=\"0\" width=\"0\"/><g class=\"text\"/></g></g><g class=\"legends\" transform=\"translate(52, 305)\"><g class=\"legend reactive activate-serie\" id=\"activate-serie-0\"><rect class=\"color-0 reactive\" height=\"12\" width=\"12\" x=\"0.0\" y=\"1.0\"/><text x=\"17.0\" y=\"11.2\">Female</text></g><g class=\"legend reactive activate-serie\" id=\"activate-serie-1\"><rect class=\"color-1 reactive\" height=\"12\" width=\"12\" x=\"289.0\" y=\"1.0\"/><text x=\"306.0\" y=\"11.2\">Male</text></g></g></g></svg>\n",
       "    </figure>\n",
       "  </body>\n",
       "</html>\n"
      ],
      "text/plain": [
       "<IPython.core.display.HTML object>"
      ]
     },
     "metadata": {},
     "output_type": "display_data"
    }
   ],
   "source": [
    "pyramid_chart.add('Female',\n",
    "                  age_gender_counts['female'])\n",
    "pyramid_chart.add('Male',\n",
    "                  age_gender_counts['male'])\n",
    "\n",
    "display_chart(pyramid_chart)"
   ]
  },
  {
   "cell_type": "markdown",
   "metadata": {},
   "source": [
    "Chart is small open in browser."
   ]
  },
  {
   "cell_type": "code",
   "execution_count": 23,
   "metadata": {},
   "outputs": [
    {
     "name": "stdout",
     "output_type": "stream",
     "text": [
      "file:///var/folders/k1/cs73nb7s0157jb0g25yz3y6h0000gn/T/tmpihvbzlg2.html\n"
     ]
    }
   ],
   "source": [
    "pyramid_chart.render_in_browser(explicit_size = False)"
   ]
  },
  {
   "cell_type": "markdown",
   "metadata": {},
   "source": [
    "### Boxplot "
   ]
  },
  {
   "cell_type": "code",
   "execution_count": 24,
   "metadata": {},
   "outputs": [
    {
     "data": {
      "text/html": [
       "<div>\n",
       "<style scoped>\n",
       "    .dataframe tbody tr th:only-of-type {\n",
       "        vertical-align: middle;\n",
       "    }\n",
       "\n",
       "    .dataframe tbody tr th {\n",
       "        vertical-align: top;\n",
       "    }\n",
       "\n",
       "    .dataframe thead th {\n",
       "        text-align: right;\n",
       "    }\n",
       "</style>\n",
       "<table border=\"1\" class=\"dataframe\">\n",
       "  <thead>\n",
       "    <tr style=\"text-align: right;\">\n",
       "      <th></th>\n",
       "      <th>student_id</th>\n",
       "      <th>age</th>\n",
       "      <th>gender</th>\n",
       "      <th>facebook_time</th>\n",
       "      <th>instagram_time</th>\n",
       "      <th>twitter_time</th>\n",
       "      <th>age_group</th>\n",
       "    </tr>\n",
       "  </thead>\n",
       "  <tbody>\n",
       "    <tr>\n",
       "      <th>0</th>\n",
       "      <td>s_id0</td>\n",
       "      <td>8</td>\n",
       "      <td>female</td>\n",
       "      <td>13</td>\n",
       "      <td>7</td>\n",
       "      <td>44</td>\n",
       "      <td>(0, 13]</td>\n",
       "    </tr>\n",
       "    <tr>\n",
       "      <th>1</th>\n",
       "      <td>s_id1</td>\n",
       "      <td>15</td>\n",
       "      <td>male</td>\n",
       "      <td>37</td>\n",
       "      <td>55</td>\n",
       "      <td>55</td>\n",
       "      <td>(13, 18]</td>\n",
       "    </tr>\n",
       "    <tr>\n",
       "      <th>2</th>\n",
       "      <td>s_id2</td>\n",
       "      <td>18</td>\n",
       "      <td>female</td>\n",
       "      <td>23</td>\n",
       "      <td>31</td>\n",
       "      <td>32</td>\n",
       "      <td>(13, 18]</td>\n",
       "    </tr>\n",
       "    <tr>\n",
       "      <th>3</th>\n",
       "      <td>s_id3</td>\n",
       "      <td>25</td>\n",
       "      <td>male</td>\n",
       "      <td>17</td>\n",
       "      <td>20</td>\n",
       "      <td>52</td>\n",
       "      <td>(18, 25]</td>\n",
       "    </tr>\n",
       "    <tr>\n",
       "      <th>4</th>\n",
       "      <td>s_id4</td>\n",
       "      <td>12</td>\n",
       "      <td>male</td>\n",
       "      <td>10</td>\n",
       "      <td>40</td>\n",
       "      <td>37</td>\n",
       "      <td>(0, 13]</td>\n",
       "    </tr>\n",
       "  </tbody>\n",
       "</table>\n",
       "</div>"
      ],
      "text/plain": [
       "  student_id  age  gender  facebook_time  instagram_time  twitter_time  \\\n",
       "0      s_id0    8  female             13               7            44   \n",
       "1      s_id1   15    male             37              55            55   \n",
       "2      s_id2   18  female             23              31            32   \n",
       "3      s_id3   25    male             17              20            52   \n",
       "4      s_id4   12    male             10              40            37   \n",
       "\n",
       "  age_group  \n",
       "0   (0, 13]  \n",
       "1  (13, 18]  \n",
       "2  (13, 18]  \n",
       "3  (18, 25]  \n",
       "4   (0, 13]  "
      ]
     },
     "execution_count": 24,
     "metadata": {},
     "output_type": "execute_result"
    }
   ],
   "source": [
    "social_media.head()"
   ]
  },
  {
   "cell_type": "markdown",
   "metadata": {},
   "source": [
    "Here, the average time of each social media is taken and represented in the form of box plots. \n",
    "\n",
    "**A box and whisker plot gives you a quick overview.** It has five number summary i.e,  **minimum, first quartile, median, third quartile, and maximum.**\n"
   ]
  },
  {
   "cell_type": "markdown",
   "metadata": {},
   "source": [
    "Get the individual social media time."
   ]
  },
  {
   "cell_type": "code",
   "execution_count": 25,
   "metadata": {},
   "outputs": [
    {
     "data": {
      "text/html": [
       "<div>\n",
       "<style scoped>\n",
       "    .dataframe tbody tr th:only-of-type {\n",
       "        vertical-align: middle;\n",
       "    }\n",
       "\n",
       "    .dataframe tbody tr th {\n",
       "        vertical-align: top;\n",
       "    }\n",
       "\n",
       "    .dataframe thead th {\n",
       "        text-align: right;\n",
       "    }\n",
       "</style>\n",
       "<table border=\"1\" class=\"dataframe\">\n",
       "  <thead>\n",
       "    <tr style=\"text-align: right;\">\n",
       "      <th></th>\n",
       "      <th>age</th>\n",
       "      <th>facebook_time</th>\n",
       "      <th>instagram_time</th>\n",
       "      <th>twitter_time</th>\n",
       "    </tr>\n",
       "  </thead>\n",
       "  <tbody>\n",
       "    <tr>\n",
       "      <th>count</th>\n",
       "      <td>200.000000</td>\n",
       "      <td>200.000000</td>\n",
       "      <td>200.00000</td>\n",
       "      <td>200.000000</td>\n",
       "    </tr>\n",
       "    <tr>\n",
       "      <th>mean</th>\n",
       "      <td>14.475000</td>\n",
       "      <td>27.925000</td>\n",
       "      <td>31.22000</td>\n",
       "      <td>30.810000</td>\n",
       "    </tr>\n",
       "    <tr>\n",
       "      <th>std</th>\n",
       "      <td>4.396135</td>\n",
       "      <td>19.199544</td>\n",
       "      <td>26.06624</td>\n",
       "      <td>19.748771</td>\n",
       "    </tr>\n",
       "    <tr>\n",
       "      <th>min</th>\n",
       "      <td>7.000000</td>\n",
       "      <td>0.000000</td>\n",
       "      <td>0.00000</td>\n",
       "      <td>0.000000</td>\n",
       "    </tr>\n",
       "    <tr>\n",
       "      <th>25%</th>\n",
       "      <td>11.000000</td>\n",
       "      <td>11.000000</td>\n",
       "      <td>14.00000</td>\n",
       "      <td>13.750000</td>\n",
       "    </tr>\n",
       "    <tr>\n",
       "      <th>50%</th>\n",
       "      <td>14.000000</td>\n",
       "      <td>26.000000</td>\n",
       "      <td>28.50000</td>\n",
       "      <td>31.500000</td>\n",
       "    </tr>\n",
       "    <tr>\n",
       "      <th>75%</th>\n",
       "      <td>18.000000</td>\n",
       "      <td>44.250000</td>\n",
       "      <td>45.00000</td>\n",
       "      <td>47.000000</td>\n",
       "    </tr>\n",
       "    <tr>\n",
       "      <th>max</th>\n",
       "      <td>25.000000</td>\n",
       "      <td>73.000000</td>\n",
       "      <td>240.00000</td>\n",
       "      <td>120.000000</td>\n",
       "    </tr>\n",
       "  </tbody>\n",
       "</table>\n",
       "</div>"
      ],
      "text/plain": [
       "              age  facebook_time  instagram_time  twitter_time\n",
       "count  200.000000     200.000000       200.00000    200.000000\n",
       "mean    14.475000      27.925000        31.22000     30.810000\n",
       "std      4.396135      19.199544        26.06624     19.748771\n",
       "min      7.000000       0.000000         0.00000      0.000000\n",
       "25%     11.000000      11.000000        14.00000     13.750000\n",
       "50%     14.000000      26.000000        28.50000     31.500000\n",
       "75%     18.000000      44.250000        45.00000     47.000000\n",
       "max     25.000000      73.000000       240.00000    120.000000"
      ]
     },
     "execution_count": 25,
     "metadata": {},
     "output_type": "execute_result"
    }
   ],
   "source": [
    "social_media.describe()"
   ]
  },
  {
   "cell_type": "markdown",
   "metadata": {},
   "source": [
    "Initialize the pygal object and give it a title. "
   ]
  },
  {
   "cell_type": "code",
   "execution_count": 26,
   "metadata": {
    "collapsed": true
   },
   "outputs": [],
   "source": [
    "box_whisker_plot = pygal.Box(width = 640,\n",
    "                              height = 360,\n",
    "                              explicit_size = True)\n",
    "\n",
    "box_whisker_plot.title = 'Social Media time'"
   ]
  },
  {
   "cell_type": "code",
   "execution_count": 27,
   "metadata": {},
   "outputs": [
    {
     "data": {
      "text/html": [
       "\n",
       "<!DOCTYPE html>\n",
       "<html>\n",
       "  <head>\n",
       "  <script type=\"text/javascript\" \n",
       "          src=\"http://kozea.github.com/pygal.js/javascripts/svg.jquery.js\">\n",
       "  </script>\n",
       "  <script type=\"text/javascript\" \n",
       "          src=\"https://kozea.github.io/pygal.js/2.0.x/pygal-tooltips.min.js\"\">\n",
       "  </script>\n",
       "  </head>\n",
       "  <body>\n",
       "    <figure>\n",
       "      <?xml version='1.0' encoding='utf-8'?>\n",
       "<svg xmlns:xlink=\"http://www.w3.org/1999/xlink\" xmlns=\"http://www.w3.org/2000/svg\" id=\"chart-6327e02c-0d8c-48e1-98dd-a7ff9b4126f6\" class=\"pygal-chart\" viewBox=\"0 0 640 360\" width=\"640\" height=\"360\"><!--Generated with pygal 2.4.0 (lxml) ©Kozea 2012-2016 on 2019-02-06--><!--http://pygal.org--><!--http://github.com/Kozea/pygal--><defs><style type=\"text/css\">#chart-6327e02c-0d8c-48e1-98dd-a7ff9b4126f6{-webkit-user-select:none;-webkit-font-smoothing:antialiased;font-family:Consolas,\"Liberation Mono\",Menlo,Courier,monospace}#chart-6327e02c-0d8c-48e1-98dd-a7ff9b4126f6 .title{font-family:Consolas,\"Liberation Mono\",Menlo,Courier,monospace;font-size:16px}#chart-6327e02c-0d8c-48e1-98dd-a7ff9b4126f6 .legends .legend text{font-family:Consolas,\"Liberation Mono\",Menlo,Courier,monospace;font-size:14px}#chart-6327e02c-0d8c-48e1-98dd-a7ff9b4126f6 .axis text{font-family:Consolas,\"Liberation Mono\",Menlo,Courier,monospace;font-size:10px}#chart-6327e02c-0d8c-48e1-98dd-a7ff9b4126f6 .axis text.major{font-family:Consolas,\"Liberation Mono\",Menlo,Courier,monospace;font-size:10px}#chart-6327e02c-0d8c-48e1-98dd-a7ff9b4126f6 .text-overlay text.value{font-family:Consolas,\"Liberation Mono\",Menlo,Courier,monospace;font-size:16px}#chart-6327e02c-0d8c-48e1-98dd-a7ff9b4126f6 .text-overlay text.label{font-family:Consolas,\"Liberation Mono\",Menlo,Courier,monospace;font-size:10px}#chart-6327e02c-0d8c-48e1-98dd-a7ff9b4126f6 .tooltip{font-family:Consolas,\"Liberation Mono\",Menlo,Courier,monospace;font-size:14px}#chart-6327e02c-0d8c-48e1-98dd-a7ff9b4126f6 text.no_data{font-family:Consolas,\"Liberation Mono\",Menlo,Courier,monospace;font-size:64px}\n",
       "#chart-6327e02c-0d8c-48e1-98dd-a7ff9b4126f6{background-color:rgba(249,249,249,1)}#chart-6327e02c-0d8c-48e1-98dd-a7ff9b4126f6 path,#chart-6327e02c-0d8c-48e1-98dd-a7ff9b4126f6 line,#chart-6327e02c-0d8c-48e1-98dd-a7ff9b4126f6 rect,#chart-6327e02c-0d8c-48e1-98dd-a7ff9b4126f6 circle{-webkit-transition:150ms;-moz-transition:150ms;transition:150ms}#chart-6327e02c-0d8c-48e1-98dd-a7ff9b4126f6 .graph &gt; .background{fill:rgba(249,249,249,1)}#chart-6327e02c-0d8c-48e1-98dd-a7ff9b4126f6 .plot &gt; .background{fill:rgba(255,255,255,1)}#chart-6327e02c-0d8c-48e1-98dd-a7ff9b4126f6 .graph{fill:rgba(0,0,0,.87)}#chart-6327e02c-0d8c-48e1-98dd-a7ff9b4126f6 text.no_data{fill:rgba(0,0,0,1)}#chart-6327e02c-0d8c-48e1-98dd-a7ff9b4126f6 .title{fill:rgba(0,0,0,1)}#chart-6327e02c-0d8c-48e1-98dd-a7ff9b4126f6 .legends .legend text{fill:rgba(0,0,0,.87)}#chart-6327e02c-0d8c-48e1-98dd-a7ff9b4126f6 .legends .legend:hover text{fill:rgba(0,0,0,1)}#chart-6327e02c-0d8c-48e1-98dd-a7ff9b4126f6 .axis .line{stroke:rgba(0,0,0,1)}#chart-6327e02c-0d8c-48e1-98dd-a7ff9b4126f6 .axis .guide.line{stroke:rgba(0,0,0,.54)}#chart-6327e02c-0d8c-48e1-98dd-a7ff9b4126f6 .axis .major.line{stroke:rgba(0,0,0,.87)}#chart-6327e02c-0d8c-48e1-98dd-a7ff9b4126f6 .axis text.major{fill:rgba(0,0,0,1)}#chart-6327e02c-0d8c-48e1-98dd-a7ff9b4126f6 .axis.y .guides:hover .guide.line,#chart-6327e02c-0d8c-48e1-98dd-a7ff9b4126f6 .line-graph .axis.x .guides:hover .guide.line,#chart-6327e02c-0d8c-48e1-98dd-a7ff9b4126f6 .stackedline-graph .axis.x .guides:hover .guide.line,#chart-6327e02c-0d8c-48e1-98dd-a7ff9b4126f6 .xy-graph .axis.x .guides:hover .guide.line{stroke:rgba(0,0,0,1)}#chart-6327e02c-0d8c-48e1-98dd-a7ff9b4126f6 .axis .guides:hover text{fill:rgba(0,0,0,1)}#chart-6327e02c-0d8c-48e1-98dd-a7ff9b4126f6 .reactive{fill-opacity:.7;stroke-opacity:.8}#chart-6327e02c-0d8c-48e1-98dd-a7ff9b4126f6 .ci{stroke:rgba(0,0,0,.87)}#chart-6327e02c-0d8c-48e1-98dd-a7ff9b4126f6 .reactive.active,#chart-6327e02c-0d8c-48e1-98dd-a7ff9b4126f6 .active .reactive{fill-opacity:.8;stroke-opacity:.9;stroke-width:4}#chart-6327e02c-0d8c-48e1-98dd-a7ff9b4126f6 .ci .reactive.active{stroke-width:1.5}#chart-6327e02c-0d8c-48e1-98dd-a7ff9b4126f6 .series text{fill:rgba(0,0,0,1)}#chart-6327e02c-0d8c-48e1-98dd-a7ff9b4126f6 .tooltip rect{fill:rgba(255,255,255,1);stroke:rgba(0,0,0,1);-webkit-transition:opacity 150ms;-moz-transition:opacity 150ms;transition:opacity 150ms}#chart-6327e02c-0d8c-48e1-98dd-a7ff9b4126f6 .tooltip .label{fill:rgba(0,0,0,.87)}#chart-6327e02c-0d8c-48e1-98dd-a7ff9b4126f6 .tooltip .label{fill:rgba(0,0,0,.87)}#chart-6327e02c-0d8c-48e1-98dd-a7ff9b4126f6 .tooltip .legend{font-size:.8em;fill:rgba(0,0,0,.54)}#chart-6327e02c-0d8c-48e1-98dd-a7ff9b4126f6 .tooltip .x_label{font-size:.6em;fill:rgba(0,0,0,1)}#chart-6327e02c-0d8c-48e1-98dd-a7ff9b4126f6 .tooltip .xlink{font-size:.5em;text-decoration:underline}#chart-6327e02c-0d8c-48e1-98dd-a7ff9b4126f6 .tooltip .value{font-size:1.5em}#chart-6327e02c-0d8c-48e1-98dd-a7ff9b4126f6 .bound{font-size:.5em}#chart-6327e02c-0d8c-48e1-98dd-a7ff9b4126f6 .max-value{font-size:.75em;fill:rgba(0,0,0,.54)}#chart-6327e02c-0d8c-48e1-98dd-a7ff9b4126f6 .map-element{fill:rgba(255,255,255,1);stroke:rgba(0,0,0,.54) !important}#chart-6327e02c-0d8c-48e1-98dd-a7ff9b4126f6 .map-element .reactive{fill-opacity:inherit;stroke-opacity:inherit}#chart-6327e02c-0d8c-48e1-98dd-a7ff9b4126f6 .color-0,#chart-6327e02c-0d8c-48e1-98dd-a7ff9b4126f6 .color-0 a:visited{stroke:#F44336;fill:#F44336}#chart-6327e02c-0d8c-48e1-98dd-a7ff9b4126f6 .text-overlay .color-0 text{fill:black}\n",
       "#chart-6327e02c-0d8c-48e1-98dd-a7ff9b4126f6 text.no_data{text-anchor:middle}#chart-6327e02c-0d8c-48e1-98dd-a7ff9b4126f6 .guide.line{fill:none}#chart-6327e02c-0d8c-48e1-98dd-a7ff9b4126f6 .centered{text-anchor:middle}#chart-6327e02c-0d8c-48e1-98dd-a7ff9b4126f6 .title{text-anchor:middle}#chart-6327e02c-0d8c-48e1-98dd-a7ff9b4126f6 .legends .legend text{fill-opacity:1}#chart-6327e02c-0d8c-48e1-98dd-a7ff9b4126f6 .axis.x text{text-anchor:middle}#chart-6327e02c-0d8c-48e1-98dd-a7ff9b4126f6 .axis.x:not(.web) text[transform]{text-anchor:start}#chart-6327e02c-0d8c-48e1-98dd-a7ff9b4126f6 .axis.x:not(.web) text[transform].backwards{text-anchor:end}#chart-6327e02c-0d8c-48e1-98dd-a7ff9b4126f6 .axis.y text{text-anchor:end}#chart-6327e02c-0d8c-48e1-98dd-a7ff9b4126f6 .axis.y text[transform].backwards{text-anchor:start}#chart-6327e02c-0d8c-48e1-98dd-a7ff9b4126f6 .axis.y2 text{text-anchor:start}#chart-6327e02c-0d8c-48e1-98dd-a7ff9b4126f6 .axis.y2 text[transform].backwards{text-anchor:end}#chart-6327e02c-0d8c-48e1-98dd-a7ff9b4126f6 .axis .guide.line{stroke-dasharray:4,4}#chart-6327e02c-0d8c-48e1-98dd-a7ff9b4126f6 .axis .major.guide.line{stroke-dasharray:6,6}#chart-6327e02c-0d8c-48e1-98dd-a7ff9b4126f6 .horizontal .axis.y .guide.line,#chart-6327e02c-0d8c-48e1-98dd-a7ff9b4126f6 .horizontal .axis.y2 .guide.line,#chart-6327e02c-0d8c-48e1-98dd-a7ff9b4126f6 .vertical .axis.x .guide.line{opacity:0}#chart-6327e02c-0d8c-48e1-98dd-a7ff9b4126f6 .horizontal .axis.always_show .guide.line,#chart-6327e02c-0d8c-48e1-98dd-a7ff9b4126f6 .vertical .axis.always_show .guide.line{opacity:1 !important}#chart-6327e02c-0d8c-48e1-98dd-a7ff9b4126f6 .axis.y .guides:hover .guide.line,#chart-6327e02c-0d8c-48e1-98dd-a7ff9b4126f6 .axis.y2 .guides:hover .guide.line,#chart-6327e02c-0d8c-48e1-98dd-a7ff9b4126f6 .axis.x .guides:hover .guide.line{opacity:1}#chart-6327e02c-0d8c-48e1-98dd-a7ff9b4126f6 .axis .guides:hover text{opacity:1}#chart-6327e02c-0d8c-48e1-98dd-a7ff9b4126f6 .nofill{fill:none}#chart-6327e02c-0d8c-48e1-98dd-a7ff9b4126f6 .subtle-fill{fill-opacity:.2}#chart-6327e02c-0d8c-48e1-98dd-a7ff9b4126f6 .dot{stroke-width:1px;fill-opacity:1}#chart-6327e02c-0d8c-48e1-98dd-a7ff9b4126f6 .dot.active{stroke-width:5px}#chart-6327e02c-0d8c-48e1-98dd-a7ff9b4126f6 .dot.negative{fill:transparent}#chart-6327e02c-0d8c-48e1-98dd-a7ff9b4126f6 text,#chart-6327e02c-0d8c-48e1-98dd-a7ff9b4126f6 tspan{stroke:none !important}#chart-6327e02c-0d8c-48e1-98dd-a7ff9b4126f6 .series text.active{opacity:1}#chart-6327e02c-0d8c-48e1-98dd-a7ff9b4126f6 .tooltip rect{fill-opacity:.95;stroke-width:.5}#chart-6327e02c-0d8c-48e1-98dd-a7ff9b4126f6 .tooltip text{fill-opacity:1}#chart-6327e02c-0d8c-48e1-98dd-a7ff9b4126f6 .showable{visibility:hidden}#chart-6327e02c-0d8c-48e1-98dd-a7ff9b4126f6 .showable.shown{visibility:visible}#chart-6327e02c-0d8c-48e1-98dd-a7ff9b4126f6 .gauge-background{fill:rgba(229,229,229,1);stroke:none}#chart-6327e02c-0d8c-48e1-98dd-a7ff9b4126f6 .bg-lines{stroke:rgba(249,249,249,1);stroke-width:2px}</style><script type=\"text/javascript\">window.pygal = window.pygal || {};window.pygal.config = window.pygal.config || {};window.pygal.config['6327e02c-0d8c-48e1-98dd-a7ff9b4126f6'] = {\"allow_interruptions\": false, \"box_mode\": \"extremes\", \"classes\": [\"pygal-chart\"], \"css\": [\"file://style.css\", \"file://graph.css\"], \"defs\": [], \"disable_xml_declaration\": false, \"dots_size\": 2.5, \"dynamic_print_values\": false, \"explicit_size\": true, \"fill\": false, \"force_uri_protocol\": \"https\", \"formatter\": null, \"half_pie\": false, \"height\": 360, \"include_x_axis\": false, \"inner_radius\": 0, \"interpolate\": null, \"interpolation_parameters\": {}, \"interpolation_precision\": 250, \"inverse_y_axis\": false, \"js\": [\"//kozea.github.io/pygal.js/2.0.x/pygal-tooltips.min.js\"], \"legend_at_bottom\": false, \"legend_at_bottom_columns\": null, \"legend_box_size\": 12, \"logarithmic\": false, \"margin\": 20, \"margin_bottom\": null, \"margin_left\": null, \"margin_right\": null, \"margin_top\": null, \"max_scale\": 16, \"min_scale\": 4, \"missing_value_fill_truncation\": \"x\", \"no_data_text\": \"No data\", \"no_prefix\": false, \"order_min\": null, \"pretty_print\": false, \"print_labels\": false, \"print_values\": false, \"print_values_position\": \"center\", \"print_zeroes\": true, \"range\": null, \"rounded_bars\": null, \"secondary_range\": null, \"show_dots\": true, \"show_legend\": true, \"show_minor_x_labels\": true, \"show_minor_y_labels\": true, \"show_only_major_dots\": false, \"show_x_guides\": false, \"show_x_labels\": true, \"show_y_guides\": true, \"show_y_labels\": true, \"spacing\": 10, \"stack_from_top\": false, \"strict\": false, \"stroke\": true, \"stroke_style\": null, \"style\": {\"background\": \"rgba(249, 249, 249, 1)\", \"ci_colors\": [], \"colors\": [\"#F44336\", \"#3F51B5\", \"#009688\", \"#FFC107\", \"#FF5722\", \"#9C27B0\", \"#03A9F4\", \"#8BC34A\", \"#FF9800\", \"#E91E63\", \"#2196F3\", \"#4CAF50\", \"#FFEB3B\", \"#673AB7\", \"#00BCD4\", \"#CDDC39\", \"#9E9E9E\", \"#607D8B\"], \"font_family\": \"Consolas, \\\"Liberation Mono\\\", Menlo, Courier, monospace\", \"foreground\": \"rgba(0, 0, 0, .87)\", \"foreground_strong\": \"rgba(0, 0, 0, 1)\", \"foreground_subtle\": \"rgba(0, 0, 0, .54)\", \"guide_stroke_dasharray\": \"4,4\", \"label_font_family\": \"Consolas, \\\"Liberation Mono\\\", Menlo, Courier, monospace\", \"label_font_size\": 10, \"legend_font_family\": \"Consolas, \\\"Liberation Mono\\\", Menlo, Courier, monospace\", \"legend_font_size\": 14, \"major_guide_stroke_dasharray\": \"6,6\", \"major_label_font_family\": \"Consolas, \\\"Liberation Mono\\\", Menlo, Courier, monospace\", \"major_label_font_size\": 10, \"no_data_font_family\": \"Consolas, \\\"Liberation Mono\\\", Menlo, Courier, monospace\", \"no_data_font_size\": 64, \"opacity\": \".7\", \"opacity_hover\": \".8\", \"plot_background\": \"rgba(255, 255, 255, 1)\", \"stroke_opacity\": \".8\", \"stroke_opacity_hover\": \".9\", \"title_font_family\": \"Consolas, \\\"Liberation Mono\\\", Menlo, Courier, monospace\", \"title_font_size\": 16, \"tooltip_font_family\": \"Consolas, \\\"Liberation Mono\\\", Menlo, Courier, monospace\", \"tooltip_font_size\": 14, \"transition\": \"150ms\", \"value_background\": \"rgba(229, 229, 229, 1)\", \"value_colors\": [], \"value_font_family\": \"Consolas, \\\"Liberation Mono\\\", Menlo, Courier, monospace\", \"value_font_size\": 16, \"value_label_font_family\": \"Consolas, \\\"Liberation Mono\\\", Menlo, Courier, monospace\", \"value_label_font_size\": 10}, \"title\": \"Social Media time\", \"tooltip_border_radius\": 0, \"tooltip_fancy_mode\": true, \"truncate_label\": null, \"truncate_legend\": null, \"width\": 640, \"x_label_rotation\": 0, \"x_labels\": null, \"x_labels_major\": null, \"x_labels_major_count\": null, \"x_labels_major_every\": null, \"x_title\": null, \"xrange\": null, \"y_label_rotation\": 0, \"y_labels\": null, \"y_labels_major\": null, \"y_labels_major_count\": null, \"y_labels_major_every\": null, \"y_title\": null, \"zero\": 0, \"legends\": [\"Facebook\"]}</script><script type=\"text/javascript\" xlink:href=\"https://kozea.github.io/pygal.js/2.0.x/pygal-tooltips.min.js\"/></defs><title>Social Media time</title><g class=\"graph box-graph vertical\"><rect class=\"background\" height=\"360\" width=\"640\" x=\"0\" y=\"0\"/><g class=\"plot\" transform=\"translate(131, 46)\"><rect class=\"background\" height=\"294\" width=\"488.8\" x=\"0\" y=\"0\"/><g class=\"axis y always_show\"><g class=\"guides\"><path class=\"axis major line\" d=\"M0.000000 288.346154 h488.800000\"/><text class=\"major\" x=\"-5\" y=\"291.84615384615387\">0</text><title>0</title></g><g class=\"guides\"><path class=\"guide line\" d=\"M0.000000 249.621180 h488.800000\"/><text class=\"\" x=\"-5\" y=\"253.12118018967334\">10</text><title>10</title></g><g class=\"guides\"><path class=\"guide line\" d=\"M0.000000 210.896207 h488.800000\"/><text class=\"\" x=\"-5\" y=\"214.3962065331928\">20</text><title>20</title></g><g class=\"guides\"><path class=\"guide line\" d=\"M0.000000 172.171233 h488.800000\"/><text class=\"\" x=\"-5\" y=\"175.6712328767123\">30</text><title>30</title></g><g class=\"guides\"><path class=\"guide line\" d=\"M0.000000 133.446259 h488.800000\"/><text class=\"\" x=\"-5\" y=\"136.9462592202318\">40</text><title>40</title></g><g class=\"guides\"><path class=\"major guide line\" d=\"M0.000000 94.721286 h488.800000\"/><text class=\"major\" x=\"-5\" y=\"98.22128556375128\">50</text><title>50</title></g><g class=\"guides\"><path class=\"guide line\" d=\"M0.000000 55.996312 h488.800000\"/><text class=\"\" x=\"-5\" y=\"59.49631190727075\">60</text><title>60</title></g><g class=\"guides\"><path class=\"guide line\" d=\"M0.000000 17.271338 h488.800000\"/><text class=\"\" x=\"-5\" y=\"20.77133825079028\">70</text><title>70</title></g></g><g class=\"series serie-0 color-0\"><g class=\"boxes\"><g class=\"box\"><path class=\"reactive tooltip-trigger\" d=\"M141.000000 288.346154 L347.800000 288.346154\" stroke-width=\"3\"/><path class=\"reactive tooltip-trigger\" d=\"M37.600000 187.661222 L451.200000 187.661222\" stroke-width=\"3\"/><path class=\"reactive tooltip-trigger\" d=\"M141.000000 5.653846 L347.800000 5.653846\" stroke-width=\"3\"/><path class=\"reactive tooltip-trigger\" d=\"M244.400000 288.346154 L244.400000 245.748683\" stroke-width=\"2\"/><path class=\"reactive tooltip-trigger\" d=\"M244.400000 5.653846 L244.400000 116.020021\" stroke-width=\"2\"/><rect class=\"subtle-fill reactive tooltip-trigger\" height=\"129.72866174920972\" width=\"413.6\" x=\"37.6\" y=\"116.02002107481556\"/><desc class=\"value\">Min: 0\n",
       "Q1 : 11\n",
       "Q2 : 26\n",
       "Q3 : 44.5\n",
       "Max: 73</desc><desc class=\"x centered\">244.4</desc><desc class=\"y centered\">168.68598524762905</desc></g></g></g></g><g class=\"titles\"><text class=\"title plot_title\" x=\"320.0\" y=\"26\">Social Media time</text></g><g class=\"plot overlay\" transform=\"translate(131, 46)\"><g class=\"series serie-0 color-0\"/></g><g class=\"plot text-overlay\" transform=\"translate(131, 46)\"><g class=\"series serie-0 color-0\"/></g><g class=\"plot tooltip-overlay\" transform=\"translate(131, 46)\"><g class=\"tooltip\" style=\"opacity: 0\" transform=\"translate(0 0)\"><rect class=\"tooltip-box\" height=\"0\" rx=\"0\" ry=\"0\" width=\"0\"/><g class=\"text\"/></g></g><g class=\"legends\" transform=\"translate(10, 56)\"><g class=\"legend reactive activate-serie\" id=\"activate-serie-0\"><rect class=\"color-0 reactive\" height=\"12\" width=\"12\" x=\"0.0\" y=\"1.0\"/><text x=\"17.0\" y=\"11.2\">Facebook</text></g></g><g class=\"legends\" transform=\"translate(630, 56)\"/></g></svg>\n",
       "    </figure>\n",
       "  </body>\n",
       "</html>\n"
      ],
      "text/plain": [
       "<IPython.core.display.HTML object>"
      ]
     },
     "metadata": {},
     "output_type": "display_data"
    }
   ],
   "source": [
    "box_whisker_plot.add('Facebook', \n",
    "                     social_media['facebook_time'])\n",
    "\n",
    "display_chart(box_whisker_plot)"
   ]
  },
  {
   "cell_type": "markdown",
   "metadata": {},
   "source": [
    "The whisker's contain the extreme ends of an attribute like the minimum and maximum. In the middle, you have the median line. "
   ]
  },
  {
   "cell_type": "code",
   "execution_count": 28,
   "metadata": {
    "scrolled": false
   },
   "outputs": [
    {
     "data": {
      "text/html": [
       "\n",
       "<!DOCTYPE html>\n",
       "<html>\n",
       "  <head>\n",
       "  <script type=\"text/javascript\" \n",
       "          src=\"http://kozea.github.com/pygal.js/javascripts/svg.jquery.js\">\n",
       "  </script>\n",
       "  <script type=\"text/javascript\" \n",
       "          src=\"https://kozea.github.io/pygal.js/2.0.x/pygal-tooltips.min.js\"\">\n",
       "  </script>\n",
       "  </head>\n",
       "  <body>\n",
       "    <figure>\n",
       "      <?xml version='1.0' encoding='utf-8'?>\n",
       "<svg xmlns:xlink=\"http://www.w3.org/1999/xlink\" xmlns=\"http://www.w3.org/2000/svg\" id=\"chart-6327e02c-0d8c-48e1-98dd-a7ff9b4126f6\" class=\"pygal-chart\" viewBox=\"0 0 640 360\" width=\"640\" height=\"360\"><!--Generated with pygal 2.4.0 (lxml) ©Kozea 2012-2016 on 2019-02-06--><!--http://pygal.org--><!--http://github.com/Kozea/pygal--><defs><style type=\"text/css\">#chart-6327e02c-0d8c-48e1-98dd-a7ff9b4126f6{-webkit-user-select:none;-webkit-font-smoothing:antialiased;font-family:Consolas,\"Liberation Mono\",Menlo,Courier,monospace}#chart-6327e02c-0d8c-48e1-98dd-a7ff9b4126f6 .title{font-family:Consolas,\"Liberation Mono\",Menlo,Courier,monospace;font-size:16px}#chart-6327e02c-0d8c-48e1-98dd-a7ff9b4126f6 .legends .legend text{font-family:Consolas,\"Liberation Mono\",Menlo,Courier,monospace;font-size:14px}#chart-6327e02c-0d8c-48e1-98dd-a7ff9b4126f6 .axis text{font-family:Consolas,\"Liberation Mono\",Menlo,Courier,monospace;font-size:10px}#chart-6327e02c-0d8c-48e1-98dd-a7ff9b4126f6 .axis text.major{font-family:Consolas,\"Liberation Mono\",Menlo,Courier,monospace;font-size:10px}#chart-6327e02c-0d8c-48e1-98dd-a7ff9b4126f6 .text-overlay text.value{font-family:Consolas,\"Liberation Mono\",Menlo,Courier,monospace;font-size:16px}#chart-6327e02c-0d8c-48e1-98dd-a7ff9b4126f6 .text-overlay text.label{font-family:Consolas,\"Liberation Mono\",Menlo,Courier,monospace;font-size:10px}#chart-6327e02c-0d8c-48e1-98dd-a7ff9b4126f6 .tooltip{font-family:Consolas,\"Liberation Mono\",Menlo,Courier,monospace;font-size:14px}#chart-6327e02c-0d8c-48e1-98dd-a7ff9b4126f6 text.no_data{font-family:Consolas,\"Liberation Mono\",Menlo,Courier,monospace;font-size:64px}\n",
       "#chart-6327e02c-0d8c-48e1-98dd-a7ff9b4126f6{background-color:rgba(249,249,249,1)}#chart-6327e02c-0d8c-48e1-98dd-a7ff9b4126f6 path,#chart-6327e02c-0d8c-48e1-98dd-a7ff9b4126f6 line,#chart-6327e02c-0d8c-48e1-98dd-a7ff9b4126f6 rect,#chart-6327e02c-0d8c-48e1-98dd-a7ff9b4126f6 circle{-webkit-transition:150ms;-moz-transition:150ms;transition:150ms}#chart-6327e02c-0d8c-48e1-98dd-a7ff9b4126f6 .graph &gt; .background{fill:rgba(249,249,249,1)}#chart-6327e02c-0d8c-48e1-98dd-a7ff9b4126f6 .plot &gt; .background{fill:rgba(255,255,255,1)}#chart-6327e02c-0d8c-48e1-98dd-a7ff9b4126f6 .graph{fill:rgba(0,0,0,.87)}#chart-6327e02c-0d8c-48e1-98dd-a7ff9b4126f6 text.no_data{fill:rgba(0,0,0,1)}#chart-6327e02c-0d8c-48e1-98dd-a7ff9b4126f6 .title{fill:rgba(0,0,0,1)}#chart-6327e02c-0d8c-48e1-98dd-a7ff9b4126f6 .legends .legend text{fill:rgba(0,0,0,.87)}#chart-6327e02c-0d8c-48e1-98dd-a7ff9b4126f6 .legends .legend:hover text{fill:rgba(0,0,0,1)}#chart-6327e02c-0d8c-48e1-98dd-a7ff9b4126f6 .axis .line{stroke:rgba(0,0,0,1)}#chart-6327e02c-0d8c-48e1-98dd-a7ff9b4126f6 .axis .guide.line{stroke:rgba(0,0,0,.54)}#chart-6327e02c-0d8c-48e1-98dd-a7ff9b4126f6 .axis .major.line{stroke:rgba(0,0,0,.87)}#chart-6327e02c-0d8c-48e1-98dd-a7ff9b4126f6 .axis text.major{fill:rgba(0,0,0,1)}#chart-6327e02c-0d8c-48e1-98dd-a7ff9b4126f6 .axis.y .guides:hover .guide.line,#chart-6327e02c-0d8c-48e1-98dd-a7ff9b4126f6 .line-graph .axis.x .guides:hover .guide.line,#chart-6327e02c-0d8c-48e1-98dd-a7ff9b4126f6 .stackedline-graph .axis.x .guides:hover .guide.line,#chart-6327e02c-0d8c-48e1-98dd-a7ff9b4126f6 .xy-graph .axis.x .guides:hover .guide.line{stroke:rgba(0,0,0,1)}#chart-6327e02c-0d8c-48e1-98dd-a7ff9b4126f6 .axis .guides:hover text{fill:rgba(0,0,0,1)}#chart-6327e02c-0d8c-48e1-98dd-a7ff9b4126f6 .reactive{fill-opacity:.7;stroke-opacity:.8}#chart-6327e02c-0d8c-48e1-98dd-a7ff9b4126f6 .ci{stroke:rgba(0,0,0,.87)}#chart-6327e02c-0d8c-48e1-98dd-a7ff9b4126f6 .reactive.active,#chart-6327e02c-0d8c-48e1-98dd-a7ff9b4126f6 .active .reactive{fill-opacity:.8;stroke-opacity:.9;stroke-width:4}#chart-6327e02c-0d8c-48e1-98dd-a7ff9b4126f6 .ci .reactive.active{stroke-width:1.5}#chart-6327e02c-0d8c-48e1-98dd-a7ff9b4126f6 .series text{fill:rgba(0,0,0,1)}#chart-6327e02c-0d8c-48e1-98dd-a7ff9b4126f6 .tooltip rect{fill:rgba(255,255,255,1);stroke:rgba(0,0,0,1);-webkit-transition:opacity 150ms;-moz-transition:opacity 150ms;transition:opacity 150ms}#chart-6327e02c-0d8c-48e1-98dd-a7ff9b4126f6 .tooltip .label{fill:rgba(0,0,0,.87)}#chart-6327e02c-0d8c-48e1-98dd-a7ff9b4126f6 .tooltip .label{fill:rgba(0,0,0,.87)}#chart-6327e02c-0d8c-48e1-98dd-a7ff9b4126f6 .tooltip .legend{font-size:.8em;fill:rgba(0,0,0,.54)}#chart-6327e02c-0d8c-48e1-98dd-a7ff9b4126f6 .tooltip .x_label{font-size:.6em;fill:rgba(0,0,0,1)}#chart-6327e02c-0d8c-48e1-98dd-a7ff9b4126f6 .tooltip .xlink{font-size:.5em;text-decoration:underline}#chart-6327e02c-0d8c-48e1-98dd-a7ff9b4126f6 .tooltip .value{font-size:1.5em}#chart-6327e02c-0d8c-48e1-98dd-a7ff9b4126f6 .bound{font-size:.5em}#chart-6327e02c-0d8c-48e1-98dd-a7ff9b4126f6 .max-value{font-size:.75em;fill:rgba(0,0,0,.54)}#chart-6327e02c-0d8c-48e1-98dd-a7ff9b4126f6 .map-element{fill:rgba(255,255,255,1);stroke:rgba(0,0,0,.54) !important}#chart-6327e02c-0d8c-48e1-98dd-a7ff9b4126f6 .map-element .reactive{fill-opacity:inherit;stroke-opacity:inherit}#chart-6327e02c-0d8c-48e1-98dd-a7ff9b4126f6 .color-0,#chart-6327e02c-0d8c-48e1-98dd-a7ff9b4126f6 .color-0 a:visited{stroke:#F44336;fill:#F44336}#chart-6327e02c-0d8c-48e1-98dd-a7ff9b4126f6 .color-1,#chart-6327e02c-0d8c-48e1-98dd-a7ff9b4126f6 .color-1 a:visited{stroke:#3F51B5;fill:#3F51B5}#chart-6327e02c-0d8c-48e1-98dd-a7ff9b4126f6 .color-2,#chart-6327e02c-0d8c-48e1-98dd-a7ff9b4126f6 .color-2 a:visited{stroke:#009688;fill:#009688}#chart-6327e02c-0d8c-48e1-98dd-a7ff9b4126f6 .text-overlay .color-0 text{fill:black}#chart-6327e02c-0d8c-48e1-98dd-a7ff9b4126f6 .text-overlay .color-1 text{fill:black}#chart-6327e02c-0d8c-48e1-98dd-a7ff9b4126f6 .text-overlay .color-2 text{fill:black}\n",
       "#chart-6327e02c-0d8c-48e1-98dd-a7ff9b4126f6 text.no_data{text-anchor:middle}#chart-6327e02c-0d8c-48e1-98dd-a7ff9b4126f6 .guide.line{fill:none}#chart-6327e02c-0d8c-48e1-98dd-a7ff9b4126f6 .centered{text-anchor:middle}#chart-6327e02c-0d8c-48e1-98dd-a7ff9b4126f6 .title{text-anchor:middle}#chart-6327e02c-0d8c-48e1-98dd-a7ff9b4126f6 .legends .legend text{fill-opacity:1}#chart-6327e02c-0d8c-48e1-98dd-a7ff9b4126f6 .axis.x text{text-anchor:middle}#chart-6327e02c-0d8c-48e1-98dd-a7ff9b4126f6 .axis.x:not(.web) text[transform]{text-anchor:start}#chart-6327e02c-0d8c-48e1-98dd-a7ff9b4126f6 .axis.x:not(.web) text[transform].backwards{text-anchor:end}#chart-6327e02c-0d8c-48e1-98dd-a7ff9b4126f6 .axis.y text{text-anchor:end}#chart-6327e02c-0d8c-48e1-98dd-a7ff9b4126f6 .axis.y text[transform].backwards{text-anchor:start}#chart-6327e02c-0d8c-48e1-98dd-a7ff9b4126f6 .axis.y2 text{text-anchor:start}#chart-6327e02c-0d8c-48e1-98dd-a7ff9b4126f6 .axis.y2 text[transform].backwards{text-anchor:end}#chart-6327e02c-0d8c-48e1-98dd-a7ff9b4126f6 .axis .guide.line{stroke-dasharray:4,4}#chart-6327e02c-0d8c-48e1-98dd-a7ff9b4126f6 .axis .major.guide.line{stroke-dasharray:6,6}#chart-6327e02c-0d8c-48e1-98dd-a7ff9b4126f6 .horizontal .axis.y .guide.line,#chart-6327e02c-0d8c-48e1-98dd-a7ff9b4126f6 .horizontal .axis.y2 .guide.line,#chart-6327e02c-0d8c-48e1-98dd-a7ff9b4126f6 .vertical .axis.x .guide.line{opacity:0}#chart-6327e02c-0d8c-48e1-98dd-a7ff9b4126f6 .horizontal .axis.always_show .guide.line,#chart-6327e02c-0d8c-48e1-98dd-a7ff9b4126f6 .vertical .axis.always_show .guide.line{opacity:1 !important}#chart-6327e02c-0d8c-48e1-98dd-a7ff9b4126f6 .axis.y .guides:hover .guide.line,#chart-6327e02c-0d8c-48e1-98dd-a7ff9b4126f6 .axis.y2 .guides:hover .guide.line,#chart-6327e02c-0d8c-48e1-98dd-a7ff9b4126f6 .axis.x .guides:hover .guide.line{opacity:1}#chart-6327e02c-0d8c-48e1-98dd-a7ff9b4126f6 .axis .guides:hover text{opacity:1}#chart-6327e02c-0d8c-48e1-98dd-a7ff9b4126f6 .nofill{fill:none}#chart-6327e02c-0d8c-48e1-98dd-a7ff9b4126f6 .subtle-fill{fill-opacity:.2}#chart-6327e02c-0d8c-48e1-98dd-a7ff9b4126f6 .dot{stroke-width:1px;fill-opacity:1}#chart-6327e02c-0d8c-48e1-98dd-a7ff9b4126f6 .dot.active{stroke-width:5px}#chart-6327e02c-0d8c-48e1-98dd-a7ff9b4126f6 .dot.negative{fill:transparent}#chart-6327e02c-0d8c-48e1-98dd-a7ff9b4126f6 text,#chart-6327e02c-0d8c-48e1-98dd-a7ff9b4126f6 tspan{stroke:none !important}#chart-6327e02c-0d8c-48e1-98dd-a7ff9b4126f6 .series text.active{opacity:1}#chart-6327e02c-0d8c-48e1-98dd-a7ff9b4126f6 .tooltip rect{fill-opacity:.95;stroke-width:.5}#chart-6327e02c-0d8c-48e1-98dd-a7ff9b4126f6 .tooltip text{fill-opacity:1}#chart-6327e02c-0d8c-48e1-98dd-a7ff9b4126f6 .showable{visibility:hidden}#chart-6327e02c-0d8c-48e1-98dd-a7ff9b4126f6 .showable.shown{visibility:visible}#chart-6327e02c-0d8c-48e1-98dd-a7ff9b4126f6 .gauge-background{fill:rgba(229,229,229,1);stroke:none}#chart-6327e02c-0d8c-48e1-98dd-a7ff9b4126f6 .bg-lines{stroke:rgba(249,249,249,1);stroke-width:2px}</style><script type=\"text/javascript\">window.pygal = window.pygal || {};window.pygal.config = window.pygal.config || {};window.pygal.config['6327e02c-0d8c-48e1-98dd-a7ff9b4126f6'] = {\"allow_interruptions\": false, \"box_mode\": \"extremes\", \"classes\": [\"pygal-chart\"], \"css\": [\"file://style.css\", \"file://graph.css\"], \"defs\": [], \"disable_xml_declaration\": false, \"dots_size\": 2.5, \"dynamic_print_values\": false, \"explicit_size\": true, \"fill\": false, \"force_uri_protocol\": \"https\", \"formatter\": null, \"half_pie\": false, \"height\": 360, \"include_x_axis\": false, \"inner_radius\": 0, \"interpolate\": null, \"interpolation_parameters\": {}, \"interpolation_precision\": 250, \"inverse_y_axis\": false, \"js\": [\"//kozea.github.io/pygal.js/2.0.x/pygal-tooltips.min.js\"], \"legend_at_bottom\": false, \"legend_at_bottom_columns\": null, \"legend_box_size\": 12, \"logarithmic\": false, \"margin\": 20, \"margin_bottom\": null, \"margin_left\": null, \"margin_right\": null, \"margin_top\": null, \"max_scale\": 16, \"min_scale\": 4, \"missing_value_fill_truncation\": \"x\", \"no_data_text\": \"No data\", \"no_prefix\": false, \"order_min\": null, \"pretty_print\": false, \"print_labels\": false, \"print_values\": false, \"print_values_position\": \"center\", \"print_zeroes\": true, \"range\": null, \"rounded_bars\": null, \"secondary_range\": null, \"show_dots\": true, \"show_legend\": true, \"show_minor_x_labels\": true, \"show_minor_y_labels\": true, \"show_only_major_dots\": false, \"show_x_guides\": false, \"show_x_labels\": true, \"show_y_guides\": true, \"show_y_labels\": true, \"spacing\": 10, \"stack_from_top\": false, \"strict\": false, \"stroke\": true, \"stroke_style\": null, \"style\": {\"background\": \"rgba(249, 249, 249, 1)\", \"ci_colors\": [], \"colors\": [\"#F44336\", \"#3F51B5\", \"#009688\", \"#FFC107\", \"#FF5722\", \"#9C27B0\", \"#03A9F4\", \"#8BC34A\", \"#FF9800\", \"#E91E63\", \"#2196F3\", \"#4CAF50\", \"#FFEB3B\", \"#673AB7\", \"#00BCD4\", \"#CDDC39\", \"#9E9E9E\", \"#607D8B\"], \"font_family\": \"Consolas, \\\"Liberation Mono\\\", Menlo, Courier, monospace\", \"foreground\": \"rgba(0, 0, 0, .87)\", \"foreground_strong\": \"rgba(0, 0, 0, 1)\", \"foreground_subtle\": \"rgba(0, 0, 0, .54)\", \"guide_stroke_dasharray\": \"4,4\", \"label_font_family\": \"Consolas, \\\"Liberation Mono\\\", Menlo, Courier, monospace\", \"label_font_size\": 10, \"legend_font_family\": \"Consolas, \\\"Liberation Mono\\\", Menlo, Courier, monospace\", \"legend_font_size\": 14, \"major_guide_stroke_dasharray\": \"6,6\", \"major_label_font_family\": \"Consolas, \\\"Liberation Mono\\\", Menlo, Courier, monospace\", \"major_label_font_size\": 10, \"no_data_font_family\": \"Consolas, \\\"Liberation Mono\\\", Menlo, Courier, monospace\", \"no_data_font_size\": 64, \"opacity\": \".7\", \"opacity_hover\": \".8\", \"plot_background\": \"rgba(255, 255, 255, 1)\", \"stroke_opacity\": \".8\", \"stroke_opacity_hover\": \".9\", \"title_font_family\": \"Consolas, \\\"Liberation Mono\\\", Menlo, Courier, monospace\", \"title_font_size\": 16, \"tooltip_font_family\": \"Consolas, \\\"Liberation Mono\\\", Menlo, Courier, monospace\", \"tooltip_font_size\": 14, \"transition\": \"150ms\", \"value_background\": \"rgba(229, 229, 229, 1)\", \"value_colors\": [], \"value_font_family\": \"Consolas, \\\"Liberation Mono\\\", Menlo, Courier, monospace\", \"value_font_size\": 16, \"value_label_font_family\": \"Consolas, \\\"Liberation Mono\\\", Menlo, Courier, monospace\", \"value_label_font_size\": 10}, \"title\": \"Social Media time\", \"tooltip_border_radius\": 0, \"tooltip_fancy_mode\": true, \"truncate_label\": null, \"truncate_legend\": null, \"width\": 640, \"x_label_rotation\": 0, \"x_labels\": null, \"x_labels_major\": null, \"x_labels_major_count\": null, \"x_labels_major_every\": null, \"x_title\": null, \"xrange\": null, \"y_label_rotation\": 0, \"y_labels\": null, \"y_labels_major\": null, \"y_labels_major_count\": null, \"y_labels_major_every\": null, \"y_title\": null, \"zero\": 0, \"legends\": [\"Facebook\", \"Instagram\", \"Twitter\"]}</script><script type=\"text/javascript\" xlink:href=\"https://kozea.github.io/pygal.js/2.0.x/pygal-tooltips.min.js\"/></defs><title>Social Media time</title><g class=\"graph box-graph vertical\"><rect class=\"background\" height=\"360\" width=\"640\" x=\"0\" y=\"0\"/><g class=\"plot\" transform=\"translate(145, 46)\"><rect class=\"background\" height=\"294\" width=\"474.4\" x=\"0\" y=\"0\"/><g class=\"axis y always_show\"><g class=\"guides\"><path class=\"axis major line\" d=\"M0.000000 288.346154 h474.400000\"/><text class=\"major\" x=\"-5\" y=\"291.84615384615387\">0</text><title>0</title></g><g class=\"guides\"><path class=\"guide line\" d=\"M0.000000 264.788462 h474.400000\"/><text class=\"\" x=\"-5\" y=\"268.28846153846155\">20</text><title>20</title></g><g class=\"guides\"><path class=\"guide line\" d=\"M0.000000 241.230769 h474.400000\"/><text class=\"\" x=\"-5\" y=\"244.73076923076923\">40</text><title>40</title></g><g class=\"guides\"><path class=\"guide line\" d=\"M0.000000 217.673077 h474.400000\"/><text class=\"\" x=\"-5\" y=\"221.17307692307693\">60</text><title>60</title></g><g class=\"guides\"><path class=\"guide line\" d=\"M0.000000 194.115385 h474.400000\"/><text class=\"\" x=\"-5\" y=\"197.61538461538464\">80</text><title>80</title></g><g class=\"guides\"><path class=\"major guide line\" d=\"M0.000000 170.557692 h474.400000\"/><text class=\"major\" x=\"-5\" y=\"174.05769230769232\">100</text><title>100</title></g><g class=\"guides\"><path class=\"guide line\" d=\"M0.000000 147.000000 h474.400000\"/><text class=\"\" x=\"-5\" y=\"150.50000000000003\">120</text><title>120</title></g><g class=\"guides\"><path class=\"guide line\" d=\"M0.000000 123.442308 h474.400000\"/><text class=\"\" x=\"-5\" y=\"126.94230769230768\">140</text><title>140</title></g><g class=\"guides\"><path class=\"guide line\" d=\"M0.000000 99.884615 h474.400000\"/><text class=\"\" x=\"-5\" y=\"103.38461538461539\">160</text><title>160</title></g><g class=\"guides\"><path class=\"guide line\" d=\"M0.000000 76.326923 h474.400000\"/><text class=\"\" x=\"-5\" y=\"79.82692307692307\">180</text><title>180</title></g><g class=\"guides\"><path class=\"major guide line\" d=\"M0.000000 52.769231 h474.400000\"/><text class=\"major\" x=\"-5\" y=\"56.269230769230774\">200</text><title>200</title></g><g class=\"guides\"><path class=\"guide line\" d=\"M0.000000 29.211538 h474.400000\"/><text class=\"\" x=\"-5\" y=\"32.71153846153851\">220</text><title>220</title></g><g class=\"guides\"><path class=\"guide line\" d=\"M0.000000 5.653846 h474.400000\"/><text class=\"\" x=\"-5\" y=\"9.153846153846189\">240</text><title>240</title></g></g><g class=\"series serie-0 color-0\"><g class=\"boxes\"><g class=\"box\"><path class=\"reactive tooltip-trigger\" d=\"M51.697436 288.346154 L118.600000 288.346154\" stroke-width=\"3\"/><path class=\"reactive tooltip-trigger\" d=\"M18.246154 257.721154 L152.051282 257.721154\" stroke-width=\"3\"/><path class=\"reactive tooltip-trigger\" d=\"M51.697436 202.360577 L118.600000 202.360577\" stroke-width=\"3\"/><path class=\"reactive tooltip-trigger\" d=\"M85.148718 288.346154 L85.148718 275.389423\" stroke-width=\"2\"/><path class=\"reactive tooltip-trigger\" d=\"M85.148718 202.360577 L85.148718 235.930288\" stroke-width=\"2\"/><rect class=\"subtle-fill reactive tooltip-trigger\" height=\"39.45913461538461\" width=\"133.80512820512817\" x=\"18.246153846153845\" y=\"235.93028846153848\"/><desc class=\"value\">Min: 0\n",
       "Q1 : 11\n",
       "Q2 : 26\n",
       "Q3 : 44.5\n",
       "Max: 73</desc><desc class=\"x centered\">85.14871794871793</desc><desc class=\"y centered\">251.94951923076923</desc></g></g></g><g class=\"series serie-1 color-1\"><g class=\"boxes\"><g class=\"box\"><path class=\"reactive tooltip-trigger\" d=\"M203.748718 288.346154 L270.651282 288.346154\" stroke-width=\"3\"/><path class=\"reactive tooltip-trigger\" d=\"M170.297436 254.776442 L304.102564 254.776442\" stroke-width=\"3\"/><path class=\"reactive tooltip-trigger\" d=\"M203.748718 5.653846 L270.651282 5.653846\" stroke-width=\"3\"/><path class=\"reactive tooltip-trigger\" d=\"M237.200000 288.346154 L237.200000 271.855769\" stroke-width=\"2\"/><path class=\"reactive tooltip-trigger\" d=\"M237.200000 5.653846 L237.200000 235.341346\" stroke-width=\"2\"/><rect class=\"subtle-fill reactive tooltip-trigger\" height=\"36.514423076923066\" width=\"133.80512820512817\" x=\"170.29743589743586\" y=\"235.34134615384616\"/><desc class=\"value\">Min: 0\n",
       "Q1 : 14\n",
       "Q2 : 28.5\n",
       "Q3 : 45\n",
       "Max: 240</desc><desc class=\"x centered\">237.19999999999993</desc><desc class=\"y centered\">211.19471153846155</desc></g></g></g><g class=\"series serie-2 color-2\"><g class=\"boxes\"><g class=\"box\"><path class=\"reactive tooltip-trigger\" d=\"M355.800000 288.346154 L422.702564 288.346154\" stroke-width=\"3\"/><path class=\"reactive tooltip-trigger\" d=\"M322.348718 251.242788 L456.153846 251.242788\" stroke-width=\"3\"/><path class=\"reactive tooltip-trigger\" d=\"M355.800000 147.000000 L422.702564 147.000000\" stroke-width=\"3\"/><path class=\"reactive tooltip-trigger\" d=\"M389.251282 288.346154 L389.251282 272.444712\" stroke-width=\"2\"/><path class=\"reactive tooltip-trigger\" d=\"M389.251282 147.000000 L389.251282 232.985577\" stroke-width=\"2\"/><rect class=\"subtle-fill reactive tooltip-trigger\" height=\"39.45913461538461\" width=\"133.80512820512817\" x=\"322.3487179487178\" y=\"232.98557692307693\"/><desc class=\"value\">Min: 0\n",
       "Q1 : 13.5\n",
       "Q2 : 31.5\n",
       "Q3 : 47\n",
       "Max: 120</desc><desc class=\"x centered\">389.2512820512819</desc><desc class=\"y centered\">238.40384615384616</desc></g></g></g></g><g class=\"titles\"><text class=\"title plot_title\" x=\"320.0\" y=\"26\">Social Media time</text></g><g class=\"plot overlay\" transform=\"translate(145, 46)\"><g class=\"series serie-0 color-0\"/><g class=\"series serie-1 color-1\"/><g class=\"series serie-2 color-2\"/></g><g class=\"plot text-overlay\" transform=\"translate(145, 46)\"><g class=\"series serie-0 color-0\"/><g class=\"series serie-1 color-1\"/><g class=\"series serie-2 color-2\"/></g><g class=\"plot tooltip-overlay\" transform=\"translate(145, 46)\"><g class=\"tooltip\" style=\"opacity: 0\" transform=\"translate(0 0)\"><rect class=\"tooltip-box\" height=\"0\" rx=\"0\" ry=\"0\" width=\"0\"/><g class=\"text\"/></g></g><g class=\"legends\" transform=\"translate(10, 56)\"><g class=\"legend reactive activate-serie\" id=\"activate-serie-0\"><rect class=\"color-0 reactive\" height=\"12\" width=\"12\" x=\"0.0\" y=\"1.0\"/><text x=\"17.0\" y=\"11.2\">Facebook</text></g><g class=\"legend reactive activate-serie\" id=\"activate-serie-1\"><rect class=\"color-1 reactive\" height=\"12\" width=\"12\" x=\"0.0\" y=\"22.0\"/><text x=\"17.0\" y=\"32.2\">Instagram</text></g><g class=\"legend reactive activate-serie\" id=\"activate-serie-2\"><rect class=\"color-2 reactive\" height=\"12\" width=\"12\" x=\"0.0\" y=\"43.0\"/><text x=\"17.0\" y=\"53.2\">Twitter</text></g></g><g class=\"legends\" transform=\"translate(630, 56)\"/></g></svg>\n",
       "    </figure>\n",
       "  </body>\n",
       "</html>\n"
      ],
      "text/plain": [
       "<IPython.core.display.HTML object>"
      ]
     },
     "metadata": {},
     "output_type": "display_data"
    }
   ],
   "source": [
    "box_whisker_plot.add('Instagram', social_media['instagram_time'])\n",
    "box_whisker_plot.add('Twitter', social_media['twitter_time'])\n",
    "\n",
    "display_chart(box_whisker_plot)"
   ]
  },
  {
   "cell_type": "markdown",
   "metadata": {},
   "source": [
    "**Values at 25%, 50% and 75% can be compared by looking dataset** description like lower 25% of Facebook is 11 and bottom-line of the box and also look at the minimum value of the Facebook time, it is 0. "
   ]
  },
  {
   "cell_type": "code",
   "execution_count": 29,
   "metadata": {},
   "outputs": [
    {
     "data": {
      "text/html": [
       "<div>\n",
       "<style scoped>\n",
       "    .dataframe tbody tr th:only-of-type {\n",
       "        vertical-align: middle;\n",
       "    }\n",
       "\n",
       "    .dataframe tbody tr th {\n",
       "        vertical-align: top;\n",
       "    }\n",
       "\n",
       "    .dataframe thead th {\n",
       "        text-align: right;\n",
       "    }\n",
       "</style>\n",
       "<table border=\"1\" class=\"dataframe\">\n",
       "  <thead>\n",
       "    <tr style=\"text-align: right;\">\n",
       "      <th></th>\n",
       "      <th>age</th>\n",
       "      <th>facebook_time</th>\n",
       "      <th>instagram_time</th>\n",
       "      <th>twitter_time</th>\n",
       "    </tr>\n",
       "  </thead>\n",
       "  <tbody>\n",
       "    <tr>\n",
       "      <th>count</th>\n",
       "      <td>200.000000</td>\n",
       "      <td>200.000000</td>\n",
       "      <td>200.00000</td>\n",
       "      <td>200.000000</td>\n",
       "    </tr>\n",
       "    <tr>\n",
       "      <th>mean</th>\n",
       "      <td>14.475000</td>\n",
       "      <td>27.925000</td>\n",
       "      <td>31.22000</td>\n",
       "      <td>30.810000</td>\n",
       "    </tr>\n",
       "    <tr>\n",
       "      <th>std</th>\n",
       "      <td>4.396135</td>\n",
       "      <td>19.199544</td>\n",
       "      <td>26.06624</td>\n",
       "      <td>19.748771</td>\n",
       "    </tr>\n",
       "    <tr>\n",
       "      <th>min</th>\n",
       "      <td>7.000000</td>\n",
       "      <td>0.000000</td>\n",
       "      <td>0.00000</td>\n",
       "      <td>0.000000</td>\n",
       "    </tr>\n",
       "    <tr>\n",
       "      <th>25%</th>\n",
       "      <td>11.000000</td>\n",
       "      <td>11.000000</td>\n",
       "      <td>14.00000</td>\n",
       "      <td>13.750000</td>\n",
       "    </tr>\n",
       "    <tr>\n",
       "      <th>50%</th>\n",
       "      <td>14.000000</td>\n",
       "      <td>26.000000</td>\n",
       "      <td>28.50000</td>\n",
       "      <td>31.500000</td>\n",
       "    </tr>\n",
       "    <tr>\n",
       "      <th>75%</th>\n",
       "      <td>18.000000</td>\n",
       "      <td>44.250000</td>\n",
       "      <td>45.00000</td>\n",
       "      <td>47.000000</td>\n",
       "    </tr>\n",
       "    <tr>\n",
       "      <th>max</th>\n",
       "      <td>25.000000</td>\n",
       "      <td>73.000000</td>\n",
       "      <td>240.00000</td>\n",
       "      <td>120.000000</td>\n",
       "    </tr>\n",
       "  </tbody>\n",
       "</table>\n",
       "</div>"
      ],
      "text/plain": [
       "              age  facebook_time  instagram_time  twitter_time\n",
       "count  200.000000     200.000000       200.00000    200.000000\n",
       "mean    14.475000      27.925000        31.22000     30.810000\n",
       "std      4.396135      19.199544        26.06624     19.748771\n",
       "min      7.000000       0.000000         0.00000      0.000000\n",
       "25%     11.000000      11.000000        14.00000     13.750000\n",
       "50%     14.000000      26.000000        28.50000     31.500000\n",
       "75%     18.000000      44.250000        45.00000     47.000000\n",
       "max     25.000000      73.000000       240.00000    120.000000"
      ]
     },
     "execution_count": 29,
     "metadata": {},
     "output_type": "execute_result"
    }
   ],
   "source": [
    "social_media.describe()"
   ]
  },
  {
   "cell_type": "markdown",
   "metadata": {},
   "source": [
    "Now that we have boxplots - mode can be specified like what the whiskers will represent. \n",
    "\n",
    "Here, whiskers will the **first quartile minus 1.5 times the interquartile range** and **the third quartile plus 1.5 times the interquartile range.**"
   ]
  },
  {
   "cell_type": "code",
   "execution_count": 40,
   "metadata": {
    "collapsed": true
   },
   "outputs": [],
   "source": [
    "box_plot = pygal.Box(box_mode=\"1.5IQR\",\n",
    "                     width = 640,\n",
    "                     height = 360,\n",
    "                     explicit_size = True)\n",
    "\n",
    "box_plot.title = 'Social Media time'"
   ]
  },
  {
   "cell_type": "code",
   "execution_count": 41,
   "metadata": {},
   "outputs": [
    {
     "data": {
      "text/html": [
       "\n",
       "<!DOCTYPE html>\n",
       "<html>\n",
       "  <head>\n",
       "  <script type=\"text/javascript\" \n",
       "          src=\"http://kozea.github.com/pygal.js/javascripts/svg.jquery.js\">\n",
       "  </script>\n",
       "  <script type=\"text/javascript\" \n",
       "          src=\"https://kozea.github.io/pygal.js/2.0.x/pygal-tooltips.min.js\"\">\n",
       "  </script>\n",
       "  </head>\n",
       "  <body>\n",
       "    <figure>\n",
       "      <?xml version='1.0' encoding='utf-8'?>\n",
       "<svg xmlns:xlink=\"http://www.w3.org/1999/xlink\" xmlns=\"http://www.w3.org/2000/svg\" id=\"chart-ac685c0d-4770-41e4-b765-6d31dfc11021\" class=\"pygal-chart\" viewBox=\"0 0 640 360\" width=\"640\" height=\"360\"><!--Generated with pygal 2.4.0 (lxml) ©Kozea 2012-2016 on 2019-02-06--><!--http://pygal.org--><!--http://github.com/Kozea/pygal--><defs><style type=\"text/css\">#chart-ac685c0d-4770-41e4-b765-6d31dfc11021{-webkit-user-select:none;-webkit-font-smoothing:antialiased;font-family:Consolas,\"Liberation Mono\",Menlo,Courier,monospace}#chart-ac685c0d-4770-41e4-b765-6d31dfc11021 .title{font-family:Consolas,\"Liberation Mono\",Menlo,Courier,monospace;font-size:16px}#chart-ac685c0d-4770-41e4-b765-6d31dfc11021 .legends .legend text{font-family:Consolas,\"Liberation Mono\",Menlo,Courier,monospace;font-size:14px}#chart-ac685c0d-4770-41e4-b765-6d31dfc11021 .axis text{font-family:Consolas,\"Liberation Mono\",Menlo,Courier,monospace;font-size:10px}#chart-ac685c0d-4770-41e4-b765-6d31dfc11021 .axis text.major{font-family:Consolas,\"Liberation Mono\",Menlo,Courier,monospace;font-size:10px}#chart-ac685c0d-4770-41e4-b765-6d31dfc11021 .text-overlay text.value{font-family:Consolas,\"Liberation Mono\",Menlo,Courier,monospace;font-size:16px}#chart-ac685c0d-4770-41e4-b765-6d31dfc11021 .text-overlay text.label{font-family:Consolas,\"Liberation Mono\",Menlo,Courier,monospace;font-size:10px}#chart-ac685c0d-4770-41e4-b765-6d31dfc11021 .tooltip{font-family:Consolas,\"Liberation Mono\",Menlo,Courier,monospace;font-size:14px}#chart-ac685c0d-4770-41e4-b765-6d31dfc11021 text.no_data{font-family:Consolas,\"Liberation Mono\",Menlo,Courier,monospace;font-size:64px}\n",
       "#chart-ac685c0d-4770-41e4-b765-6d31dfc11021{background-color:rgba(249,249,249,1)}#chart-ac685c0d-4770-41e4-b765-6d31dfc11021 path,#chart-ac685c0d-4770-41e4-b765-6d31dfc11021 line,#chart-ac685c0d-4770-41e4-b765-6d31dfc11021 rect,#chart-ac685c0d-4770-41e4-b765-6d31dfc11021 circle{-webkit-transition:150ms;-moz-transition:150ms;transition:150ms}#chart-ac685c0d-4770-41e4-b765-6d31dfc11021 .graph &gt; .background{fill:rgba(249,249,249,1)}#chart-ac685c0d-4770-41e4-b765-6d31dfc11021 .plot &gt; .background{fill:rgba(255,255,255,1)}#chart-ac685c0d-4770-41e4-b765-6d31dfc11021 .graph{fill:rgba(0,0,0,.87)}#chart-ac685c0d-4770-41e4-b765-6d31dfc11021 text.no_data{fill:rgba(0,0,0,1)}#chart-ac685c0d-4770-41e4-b765-6d31dfc11021 .title{fill:rgba(0,0,0,1)}#chart-ac685c0d-4770-41e4-b765-6d31dfc11021 .legends .legend text{fill:rgba(0,0,0,.87)}#chart-ac685c0d-4770-41e4-b765-6d31dfc11021 .legends .legend:hover text{fill:rgba(0,0,0,1)}#chart-ac685c0d-4770-41e4-b765-6d31dfc11021 .axis .line{stroke:rgba(0,0,0,1)}#chart-ac685c0d-4770-41e4-b765-6d31dfc11021 .axis .guide.line{stroke:rgba(0,0,0,.54)}#chart-ac685c0d-4770-41e4-b765-6d31dfc11021 .axis .major.line{stroke:rgba(0,0,0,.87)}#chart-ac685c0d-4770-41e4-b765-6d31dfc11021 .axis text.major{fill:rgba(0,0,0,1)}#chart-ac685c0d-4770-41e4-b765-6d31dfc11021 .axis.y .guides:hover .guide.line,#chart-ac685c0d-4770-41e4-b765-6d31dfc11021 .line-graph .axis.x .guides:hover .guide.line,#chart-ac685c0d-4770-41e4-b765-6d31dfc11021 .stackedline-graph .axis.x .guides:hover .guide.line,#chart-ac685c0d-4770-41e4-b765-6d31dfc11021 .xy-graph .axis.x .guides:hover .guide.line{stroke:rgba(0,0,0,1)}#chart-ac685c0d-4770-41e4-b765-6d31dfc11021 .axis .guides:hover text{fill:rgba(0,0,0,1)}#chart-ac685c0d-4770-41e4-b765-6d31dfc11021 .reactive{fill-opacity:.7;stroke-opacity:.8}#chart-ac685c0d-4770-41e4-b765-6d31dfc11021 .ci{stroke:rgba(0,0,0,.87)}#chart-ac685c0d-4770-41e4-b765-6d31dfc11021 .reactive.active,#chart-ac685c0d-4770-41e4-b765-6d31dfc11021 .active .reactive{fill-opacity:.8;stroke-opacity:.9;stroke-width:4}#chart-ac685c0d-4770-41e4-b765-6d31dfc11021 .ci .reactive.active{stroke-width:1.5}#chart-ac685c0d-4770-41e4-b765-6d31dfc11021 .series text{fill:rgba(0,0,0,1)}#chart-ac685c0d-4770-41e4-b765-6d31dfc11021 .tooltip rect{fill:rgba(255,255,255,1);stroke:rgba(0,0,0,1);-webkit-transition:opacity 150ms;-moz-transition:opacity 150ms;transition:opacity 150ms}#chart-ac685c0d-4770-41e4-b765-6d31dfc11021 .tooltip .label{fill:rgba(0,0,0,.87)}#chart-ac685c0d-4770-41e4-b765-6d31dfc11021 .tooltip .label{fill:rgba(0,0,0,.87)}#chart-ac685c0d-4770-41e4-b765-6d31dfc11021 .tooltip .legend{font-size:.8em;fill:rgba(0,0,0,.54)}#chart-ac685c0d-4770-41e4-b765-6d31dfc11021 .tooltip .x_label{font-size:.6em;fill:rgba(0,0,0,1)}#chart-ac685c0d-4770-41e4-b765-6d31dfc11021 .tooltip .xlink{font-size:.5em;text-decoration:underline}#chart-ac685c0d-4770-41e4-b765-6d31dfc11021 .tooltip .value{font-size:1.5em}#chart-ac685c0d-4770-41e4-b765-6d31dfc11021 .bound{font-size:.5em}#chart-ac685c0d-4770-41e4-b765-6d31dfc11021 .max-value{font-size:.75em;fill:rgba(0,0,0,.54)}#chart-ac685c0d-4770-41e4-b765-6d31dfc11021 .map-element{fill:rgba(255,255,255,1);stroke:rgba(0,0,0,.54) !important}#chart-ac685c0d-4770-41e4-b765-6d31dfc11021 .map-element .reactive{fill-opacity:inherit;stroke-opacity:inherit}#chart-ac685c0d-4770-41e4-b765-6d31dfc11021 .color-0,#chart-ac685c0d-4770-41e4-b765-6d31dfc11021 .color-0 a:visited{stroke:#F44336;fill:#F44336}#chart-ac685c0d-4770-41e4-b765-6d31dfc11021 .color-1,#chart-ac685c0d-4770-41e4-b765-6d31dfc11021 .color-1 a:visited{stroke:#3F51B5;fill:#3F51B5}#chart-ac685c0d-4770-41e4-b765-6d31dfc11021 .color-2,#chart-ac685c0d-4770-41e4-b765-6d31dfc11021 .color-2 a:visited{stroke:#009688;fill:#009688}#chart-ac685c0d-4770-41e4-b765-6d31dfc11021 .text-overlay .color-0 text{fill:black}#chart-ac685c0d-4770-41e4-b765-6d31dfc11021 .text-overlay .color-1 text{fill:black}#chart-ac685c0d-4770-41e4-b765-6d31dfc11021 .text-overlay .color-2 text{fill:black}\n",
       "#chart-ac685c0d-4770-41e4-b765-6d31dfc11021 text.no_data{text-anchor:middle}#chart-ac685c0d-4770-41e4-b765-6d31dfc11021 .guide.line{fill:none}#chart-ac685c0d-4770-41e4-b765-6d31dfc11021 .centered{text-anchor:middle}#chart-ac685c0d-4770-41e4-b765-6d31dfc11021 .title{text-anchor:middle}#chart-ac685c0d-4770-41e4-b765-6d31dfc11021 .legends .legend text{fill-opacity:1}#chart-ac685c0d-4770-41e4-b765-6d31dfc11021 .axis.x text{text-anchor:middle}#chart-ac685c0d-4770-41e4-b765-6d31dfc11021 .axis.x:not(.web) text[transform]{text-anchor:start}#chart-ac685c0d-4770-41e4-b765-6d31dfc11021 .axis.x:not(.web) text[transform].backwards{text-anchor:end}#chart-ac685c0d-4770-41e4-b765-6d31dfc11021 .axis.y text{text-anchor:end}#chart-ac685c0d-4770-41e4-b765-6d31dfc11021 .axis.y text[transform].backwards{text-anchor:start}#chart-ac685c0d-4770-41e4-b765-6d31dfc11021 .axis.y2 text{text-anchor:start}#chart-ac685c0d-4770-41e4-b765-6d31dfc11021 .axis.y2 text[transform].backwards{text-anchor:end}#chart-ac685c0d-4770-41e4-b765-6d31dfc11021 .axis .guide.line{stroke-dasharray:4,4}#chart-ac685c0d-4770-41e4-b765-6d31dfc11021 .axis .major.guide.line{stroke-dasharray:6,6}#chart-ac685c0d-4770-41e4-b765-6d31dfc11021 .horizontal .axis.y .guide.line,#chart-ac685c0d-4770-41e4-b765-6d31dfc11021 .horizontal .axis.y2 .guide.line,#chart-ac685c0d-4770-41e4-b765-6d31dfc11021 .vertical .axis.x .guide.line{opacity:0}#chart-ac685c0d-4770-41e4-b765-6d31dfc11021 .horizontal .axis.always_show .guide.line,#chart-ac685c0d-4770-41e4-b765-6d31dfc11021 .vertical .axis.always_show .guide.line{opacity:1 !important}#chart-ac685c0d-4770-41e4-b765-6d31dfc11021 .axis.y .guides:hover .guide.line,#chart-ac685c0d-4770-41e4-b765-6d31dfc11021 .axis.y2 .guides:hover .guide.line,#chart-ac685c0d-4770-41e4-b765-6d31dfc11021 .axis.x .guides:hover .guide.line{opacity:1}#chart-ac685c0d-4770-41e4-b765-6d31dfc11021 .axis .guides:hover text{opacity:1}#chart-ac685c0d-4770-41e4-b765-6d31dfc11021 .nofill{fill:none}#chart-ac685c0d-4770-41e4-b765-6d31dfc11021 .subtle-fill{fill-opacity:.2}#chart-ac685c0d-4770-41e4-b765-6d31dfc11021 .dot{stroke-width:1px;fill-opacity:1}#chart-ac685c0d-4770-41e4-b765-6d31dfc11021 .dot.active{stroke-width:5px}#chart-ac685c0d-4770-41e4-b765-6d31dfc11021 .dot.negative{fill:transparent}#chart-ac685c0d-4770-41e4-b765-6d31dfc11021 text,#chart-ac685c0d-4770-41e4-b765-6d31dfc11021 tspan{stroke:none !important}#chart-ac685c0d-4770-41e4-b765-6d31dfc11021 .series text.active{opacity:1}#chart-ac685c0d-4770-41e4-b765-6d31dfc11021 .tooltip rect{fill-opacity:.95;stroke-width:.5}#chart-ac685c0d-4770-41e4-b765-6d31dfc11021 .tooltip text{fill-opacity:1}#chart-ac685c0d-4770-41e4-b765-6d31dfc11021 .showable{visibility:hidden}#chart-ac685c0d-4770-41e4-b765-6d31dfc11021 .showable.shown{visibility:visible}#chart-ac685c0d-4770-41e4-b765-6d31dfc11021 .gauge-background{fill:rgba(229,229,229,1);stroke:none}#chart-ac685c0d-4770-41e4-b765-6d31dfc11021 .bg-lines{stroke:rgba(249,249,249,1);stroke-width:2px}</style><script type=\"text/javascript\">window.pygal = window.pygal || {};window.pygal.config = window.pygal.config || {};window.pygal.config['ac685c0d-4770-41e4-b765-6d31dfc11021'] = {\"allow_interruptions\": false, \"box_mode\": \"1.5IQR\", \"classes\": [\"pygal-chart\"], \"css\": [\"file://style.css\", \"file://graph.css\"], \"defs\": [], \"disable_xml_declaration\": false, \"dots_size\": 2.5, \"dynamic_print_values\": false, \"explicit_size\": true, \"fill\": false, \"force_uri_protocol\": \"https\", \"formatter\": null, \"half_pie\": false, \"height\": 360, \"include_x_axis\": false, \"inner_radius\": 0, \"interpolate\": null, \"interpolation_parameters\": {}, \"interpolation_precision\": 250, \"inverse_y_axis\": false, \"js\": [\"//kozea.github.io/pygal.js/2.0.x/pygal-tooltips.min.js\"], \"legend_at_bottom\": false, \"legend_at_bottom_columns\": null, \"legend_box_size\": 12, \"logarithmic\": false, \"margin\": 20, \"margin_bottom\": null, \"margin_left\": null, \"margin_right\": null, \"margin_top\": null, \"max_scale\": 16, \"min_scale\": 4, \"missing_value_fill_truncation\": \"x\", \"no_data_text\": \"No data\", \"no_prefix\": false, \"order_min\": null, \"pretty_print\": false, \"print_labels\": false, \"print_values\": false, \"print_values_position\": \"center\", \"print_zeroes\": true, \"range\": null, \"rounded_bars\": null, \"secondary_range\": null, \"show_dots\": true, \"show_legend\": true, \"show_minor_x_labels\": true, \"show_minor_y_labels\": true, \"show_only_major_dots\": false, \"show_x_guides\": false, \"show_x_labels\": true, \"show_y_guides\": true, \"show_y_labels\": true, \"spacing\": 10, \"stack_from_top\": false, \"strict\": false, \"stroke\": true, \"stroke_style\": null, \"style\": {\"background\": \"rgba(249, 249, 249, 1)\", \"ci_colors\": [], \"colors\": [\"#F44336\", \"#3F51B5\", \"#009688\", \"#FFC107\", \"#FF5722\", \"#9C27B0\", \"#03A9F4\", \"#8BC34A\", \"#FF9800\", \"#E91E63\", \"#2196F3\", \"#4CAF50\", \"#FFEB3B\", \"#673AB7\", \"#00BCD4\", \"#CDDC39\", \"#9E9E9E\", \"#607D8B\"], \"font_family\": \"Consolas, \\\"Liberation Mono\\\", Menlo, Courier, monospace\", \"foreground\": \"rgba(0, 0, 0, .87)\", \"foreground_strong\": \"rgba(0, 0, 0, 1)\", \"foreground_subtle\": \"rgba(0, 0, 0, .54)\", \"guide_stroke_dasharray\": \"4,4\", \"label_font_family\": \"Consolas, \\\"Liberation Mono\\\", Menlo, Courier, monospace\", \"label_font_size\": 10, \"legend_font_family\": \"Consolas, \\\"Liberation Mono\\\", Menlo, Courier, monospace\", \"legend_font_size\": 14, \"major_guide_stroke_dasharray\": \"6,6\", \"major_label_font_family\": \"Consolas, \\\"Liberation Mono\\\", Menlo, Courier, monospace\", \"major_label_font_size\": 10, \"no_data_font_family\": \"Consolas, \\\"Liberation Mono\\\", Menlo, Courier, monospace\", \"no_data_font_size\": 64, \"opacity\": \".7\", \"opacity_hover\": \".8\", \"plot_background\": \"rgba(255, 255, 255, 1)\", \"stroke_opacity\": \".8\", \"stroke_opacity_hover\": \".9\", \"title_font_family\": \"Consolas, \\\"Liberation Mono\\\", Menlo, Courier, monospace\", \"title_font_size\": 16, \"tooltip_font_family\": \"Consolas, \\\"Liberation Mono\\\", Menlo, Courier, monospace\", \"tooltip_font_size\": 14, \"transition\": \"150ms\", \"value_background\": \"rgba(229, 229, 229, 1)\", \"value_colors\": [], \"value_font_family\": \"Consolas, \\\"Liberation Mono\\\", Menlo, Courier, monospace\", \"value_font_size\": 16, \"value_label_font_family\": \"Consolas, \\\"Liberation Mono\\\", Menlo, Courier, monospace\", \"value_label_font_size\": 10}, \"title\": \"Social Media time\", \"tooltip_border_radius\": 0, \"tooltip_fancy_mode\": true, \"truncate_label\": null, \"truncate_legend\": null, \"width\": 640, \"x_label_rotation\": 0, \"x_labels\": null, \"x_labels_major\": null, \"x_labels_major_count\": null, \"x_labels_major_every\": null, \"x_title\": null, \"xrange\": null, \"y_label_rotation\": 0, \"y_labels\": null, \"y_labels_major\": null, \"y_labels_major_count\": null, \"y_labels_major_every\": null, \"y_title\": null, \"zero\": 0, \"legends\": [\"Facebook\", \"Instagram\", \"Twitter\"]}</script><script type=\"text/javascript\" xlink:href=\"https://kozea.github.io/pygal.js/2.0.x/pygal-tooltips.min.js\"/></defs><title>Social Media time</title><g class=\"graph box-graph vertical\"><rect class=\"background\" height=\"360\" width=\"640\" x=\"0\" y=\"0\"/><g class=\"plot\" transform=\"translate(145, 46)\"><rect class=\"background\" height=\"294\" width=\"474.4\" x=\"0\" y=\"0\"/><g class=\"axis y always_show\"><g class=\"guides\"><path class=\"axis major line\" d=\"M0.000000 288.346154 h474.400000\"/><text class=\"major\" x=\"-5\" y=\"291.84615384615387\">0</text><title>0</title></g><g class=\"guides\"><path class=\"guide line\" d=\"M0.000000 264.788462 h474.400000\"/><text class=\"\" x=\"-5\" y=\"268.28846153846155\">20</text><title>20</title></g><g class=\"guides\"><path class=\"guide line\" d=\"M0.000000 241.230769 h474.400000\"/><text class=\"\" x=\"-5\" y=\"244.73076923076923\">40</text><title>40</title></g><g class=\"guides\"><path class=\"guide line\" d=\"M0.000000 217.673077 h474.400000\"/><text class=\"\" x=\"-5\" y=\"221.17307692307693\">60</text><title>60</title></g><g class=\"guides\"><path class=\"guide line\" d=\"M0.000000 194.115385 h474.400000\"/><text class=\"\" x=\"-5\" y=\"197.61538461538464\">80</text><title>80</title></g><g class=\"guides\"><path class=\"major guide line\" d=\"M0.000000 170.557692 h474.400000\"/><text class=\"major\" x=\"-5\" y=\"174.05769230769232\">100</text><title>100</title></g><g class=\"guides\"><path class=\"guide line\" d=\"M0.000000 147.000000 h474.400000\"/><text class=\"\" x=\"-5\" y=\"150.50000000000003\">120</text><title>120</title></g><g class=\"guides\"><path class=\"guide line\" d=\"M0.000000 123.442308 h474.400000\"/><text class=\"\" x=\"-5\" y=\"126.94230769230768\">140</text><title>140</title></g><g class=\"guides\"><path class=\"guide line\" d=\"M0.000000 99.884615 h474.400000\"/><text class=\"\" x=\"-5\" y=\"103.38461538461539\">160</text><title>160</title></g><g class=\"guides\"><path class=\"guide line\" d=\"M0.000000 76.326923 h474.400000\"/><text class=\"\" x=\"-5\" y=\"79.82692307692307\">180</text><title>180</title></g><g class=\"guides\"><path class=\"major guide line\" d=\"M0.000000 52.769231 h474.400000\"/><text class=\"major\" x=\"-5\" y=\"56.269230769230774\">200</text><title>200</title></g><g class=\"guides\"><path class=\"guide line\" d=\"M0.000000 29.211538 h474.400000\"/><text class=\"\" x=\"-5\" y=\"32.71153846153851\">220</text><title>220</title></g><g class=\"guides\"><path class=\"guide line\" d=\"M0.000000 5.653846 h474.400000\"/><text class=\"\" x=\"-5\" y=\"9.153846153846189\">240</text><title>240</title></g></g><g class=\"series serie-0 color-0\"><g class=\"boxes\"><g class=\"box\"><path class=\"reactive tooltip-trigger\" d=\"M51.697436 334.578125 L118.600000 334.578125\" stroke-width=\"3\"/><path class=\"reactive tooltip-trigger\" d=\"M18.246154 257.721154 L152.051282 257.721154\" stroke-width=\"3\"/><path class=\"reactive tooltip-trigger\" d=\"M51.697436 176.741587 L118.600000 176.741587\" stroke-width=\"3\"/><path class=\"reactive tooltip-trigger\" d=\"M85.148718 334.578125 L85.148718 275.389423\" stroke-width=\"2\"/><path class=\"reactive tooltip-trigger\" d=\"M85.148718 176.741587 L85.148718 235.930288\" stroke-width=\"2\"/><rect class=\"subtle-fill reactive tooltip-trigger\" height=\"39.45913461538461\" width=\"133.80512820512817\" x=\"18.246153846153845\" y=\"235.93028846153848\"/><desc class=\"value\">Q1: 11\n",
       "Q2: 26\n",
       "Q3: 44.5</desc><desc class=\"x centered\">85.14871794871793</desc><desc class=\"y centered\">256.0721153846154</desc></g></g></g><g class=\"series serie-1 color-1\"><g class=\"boxes\"><g class=\"box\"><path class=\"reactive tooltip-trigger\" d=\"M203.748718 326.627404 L270.651282 326.627404\" stroke-width=\"3\"/><path class=\"reactive tooltip-trigger\" d=\"M170.297436 254.776442 L304.102564 254.776442\" stroke-width=\"3\"/><path class=\"reactive tooltip-trigger\" d=\"M203.748718 180.569712 L270.651282 180.569712\" stroke-width=\"3\"/><path class=\"reactive tooltip-trigger\" d=\"M237.200000 326.627404 L237.200000 271.855769\" stroke-width=\"2\"/><path class=\"reactive tooltip-trigger\" d=\"M237.200000 180.569712 L237.200000 235.341346\" stroke-width=\"2\"/><rect class=\"subtle-fill reactive tooltip-trigger\" height=\"36.514423076923066\" width=\"133.80512820512817\" x=\"170.29743589743586\" y=\"235.34134615384616\"/><desc class=\"value\">Q1: 14\n",
       "Q2: 28.5\n",
       "Q3: 45</desc><desc class=\"x centered\">237.19999999999993</desc><desc class=\"y centered\">253.8341346153846</desc></g></g></g><g class=\"series serie-2 color-2\"><g class=\"boxes\"><g class=\"box\"><path class=\"reactive tooltip-trigger\" d=\"M355.800000 331.633413 L422.702564 331.633413\" stroke-width=\"3\"/><path class=\"reactive tooltip-trigger\" d=\"M322.348718 251.242788 L456.153846 251.242788\" stroke-width=\"3\"/><path class=\"reactive tooltip-trigger\" d=\"M355.800000 173.796875 L422.702564 173.796875\" stroke-width=\"3\"/><path class=\"reactive tooltip-trigger\" d=\"M389.251282 331.633413 L389.251282 272.444712\" stroke-width=\"2\"/><path class=\"reactive tooltip-trigger\" d=\"M389.251282 173.796875 L389.251282 232.985577\" stroke-width=\"2\"/><rect class=\"subtle-fill reactive tooltip-trigger\" height=\"39.45913461538461\" width=\"133.80512820512817\" x=\"322.3487179487178\" y=\"232.98557692307693\"/><desc class=\"value\">Q1: 13.5\n",
       "Q2: 31.5\n",
       "Q3: 47</desc><desc class=\"x centered\">389.2512820512819</desc><desc class=\"y centered\">252.4206730769231</desc></g></g></g></g><g class=\"titles\"><text class=\"title plot_title\" x=\"320.0\" y=\"26\">Social Media time</text></g><g class=\"plot overlay\" transform=\"translate(145, 46)\"><g class=\"series serie-0 color-0\"/><g class=\"series serie-1 color-1\"/><g class=\"series serie-2 color-2\"/></g><g class=\"plot text-overlay\" transform=\"translate(145, 46)\"><g class=\"series serie-0 color-0\"/><g class=\"series serie-1 color-1\"/><g class=\"series serie-2 color-2\"/></g><g class=\"plot tooltip-overlay\" transform=\"translate(145, 46)\"><g class=\"tooltip\" style=\"opacity: 0\" transform=\"translate(0 0)\"><rect class=\"tooltip-box\" height=\"0\" rx=\"0\" ry=\"0\" width=\"0\"/><g class=\"text\"/></g></g><g class=\"legends\" transform=\"translate(10, 56)\"><g class=\"legend reactive activate-serie\" id=\"activate-serie-0\"><rect class=\"color-0 reactive\" height=\"12\" width=\"12\" x=\"0.0\" y=\"1.0\"/><text x=\"17.0\" y=\"11.2\">Facebook</text></g><g class=\"legend reactive activate-serie\" id=\"activate-serie-1\"><rect class=\"color-1 reactive\" height=\"12\" width=\"12\" x=\"0.0\" y=\"22.0\"/><text x=\"17.0\" y=\"32.2\">Instagram</text></g><g class=\"legend reactive activate-serie\" id=\"activate-serie-2\"><rect class=\"color-2 reactive\" height=\"12\" width=\"12\" x=\"0.0\" y=\"43.0\"/><text x=\"17.0\" y=\"53.2\">Twitter</text></g></g><g class=\"legends\" transform=\"translate(630, 56)\"/></g></svg>\n",
       "    </figure>\n",
       "  </body>\n",
       "</html>\n"
      ],
      "text/plain": [
       "<IPython.core.display.HTML object>"
      ]
     },
     "metadata": {},
     "output_type": "display_data"
    }
   ],
   "source": [
    "box_plot.add('Facebook', social_media['facebook_time'])\n",
    "box_plot.add('Instagram', social_media['instagram_time'])\n",
    "box_plot.add('Twitter', social_media['twitter_time'])\n",
    "\n",
    "display_chart(box_plot)"
   ]
  },
  {
   "cell_type": "markdown",
   "metadata": {},
   "source": [
    "Whiskers will the first quartile minus 1.5 times the interquartile range and the third quartile plus 1.5 times the interquartile range.\n",
    "\n",
    "**Top whisker** (third quartile) - it is  third quartile + 1.5 * IQR**\n",
    "\n",
    "**Facebook time** i.e 44 + 1.5(44 - 11) = 93.5\n",
    "\n",
    "**Instagram time**  45 + 1.5(45  - 14 ) = 91.5\n",
    "\n",
    "**Twitter time** = 47 + 1.5(47 - 13) = 98\n",
    "\n",
    "\n",
    "Bottom whisker (First Quartile)\n",
    "\n",
    "**Facebook time** i.e 11 - 1.5(44 - 11) = -38.5\n",
    "\n",
    "**Instagram time**   14 - 1.5(45  - 14 ) = -32.5\n",
    "\n",
    "**Twitter time** = 13 - 1.5(47 - 13)- = - 38\n",
    "\n",
    "Note: You can't see the negative side in the pygal in the \"IQR\" mode"
   ]
  },
  {
   "cell_type": "code",
   "execution_count": 32,
   "metadata": {},
   "outputs": [
    {
     "data": {
      "text/html": [
       "<div>\n",
       "<style scoped>\n",
       "    .dataframe tbody tr th:only-of-type {\n",
       "        vertical-align: middle;\n",
       "    }\n",
       "\n",
       "    .dataframe tbody tr th {\n",
       "        vertical-align: top;\n",
       "    }\n",
       "\n",
       "    .dataframe thead th {\n",
       "        text-align: right;\n",
       "    }\n",
       "</style>\n",
       "<table border=\"1\" class=\"dataframe\">\n",
       "  <thead>\n",
       "    <tr style=\"text-align: right;\">\n",
       "      <th></th>\n",
       "      <th>age</th>\n",
       "      <th>facebook_time</th>\n",
       "      <th>instagram_time</th>\n",
       "      <th>twitter_time</th>\n",
       "    </tr>\n",
       "  </thead>\n",
       "  <tbody>\n",
       "    <tr>\n",
       "      <th>count</th>\n",
       "      <td>200.000000</td>\n",
       "      <td>200.000000</td>\n",
       "      <td>200.00000</td>\n",
       "      <td>200.000000</td>\n",
       "    </tr>\n",
       "    <tr>\n",
       "      <th>mean</th>\n",
       "      <td>14.475000</td>\n",
       "      <td>27.925000</td>\n",
       "      <td>31.22000</td>\n",
       "      <td>30.810000</td>\n",
       "    </tr>\n",
       "    <tr>\n",
       "      <th>std</th>\n",
       "      <td>4.396135</td>\n",
       "      <td>19.199544</td>\n",
       "      <td>26.06624</td>\n",
       "      <td>19.748771</td>\n",
       "    </tr>\n",
       "    <tr>\n",
       "      <th>min</th>\n",
       "      <td>7.000000</td>\n",
       "      <td>0.000000</td>\n",
       "      <td>0.00000</td>\n",
       "      <td>0.000000</td>\n",
       "    </tr>\n",
       "    <tr>\n",
       "      <th>25%</th>\n",
       "      <td>11.000000</td>\n",
       "      <td>11.000000</td>\n",
       "      <td>14.00000</td>\n",
       "      <td>13.750000</td>\n",
       "    </tr>\n",
       "    <tr>\n",
       "      <th>50%</th>\n",
       "      <td>14.000000</td>\n",
       "      <td>26.000000</td>\n",
       "      <td>28.50000</td>\n",
       "      <td>31.500000</td>\n",
       "    </tr>\n",
       "    <tr>\n",
       "      <th>75%</th>\n",
       "      <td>18.000000</td>\n",
       "      <td>44.250000</td>\n",
       "      <td>45.00000</td>\n",
       "      <td>47.000000</td>\n",
       "    </tr>\n",
       "    <tr>\n",
       "      <th>max</th>\n",
       "      <td>25.000000</td>\n",
       "      <td>73.000000</td>\n",
       "      <td>240.00000</td>\n",
       "      <td>120.000000</td>\n",
       "    </tr>\n",
       "  </tbody>\n",
       "</table>\n",
       "</div>"
      ],
      "text/plain": [
       "              age  facebook_time  instagram_time  twitter_time\n",
       "count  200.000000     200.000000       200.00000    200.000000\n",
       "mean    14.475000      27.925000        31.22000     30.810000\n",
       "std      4.396135      19.199544        26.06624     19.748771\n",
       "min      7.000000       0.000000         0.00000      0.000000\n",
       "25%     11.000000      11.000000        14.00000     13.750000\n",
       "50%     14.000000      26.000000        28.50000     31.500000\n",
       "75%     18.000000      44.250000        45.00000     47.000000\n",
       "max     25.000000      73.000000       240.00000    120.000000"
      ]
     },
     "execution_count": 32,
     "metadata": {},
     "output_type": "execute_result"
    }
   ],
   "source": [
    "social_media.describe()"
   ]
  },
  {
   "cell_type": "markdown",
   "metadata": {},
   "source": [
    "### Tukey Boxplot\n",
    "\n",
    "**\"Tukey\"** boxplot, it is the **default boxplot in most the visualization frameworks**. \n",
    "\n",
    "\"Tukey\" boxplot finds the outliers. \n",
    "\n",
    "It has thumb rule, **anything above the *third quartile + 1.5 IQR* for the upper boxplot is an outlier** and **anything below the *first quartile - 1.5 IQR* is an outlier**. \n",
    "\n",
    "\n",
    "Below graph has the upper whisker at the maximm value under the ***third quartile + 1.5 IQR***.\n",
    "\n",
    "The lower whisker is at the minimum value under the ***first quartile - 1.5IQR***. So, all the values are zeros because **time cannot be negative in this case.** \n",
    "\n"
   ]
  },
  {
   "cell_type": "code",
   "execution_count": 42,
   "metadata": {
    "collapsed": true
   },
   "outputs": [],
   "source": [
    "box_plot = pygal.Box(box_mode=\"tukey\",\n",
    "                     width = 640,\n",
    "                     height = 360,\n",
    "                     explicit_size = True)\n",
    "\n",
    "box_plot.title = 'Social Media time'"
   ]
  },
  {
   "cell_type": "code",
   "execution_count": 43,
   "metadata": {},
   "outputs": [
    {
     "data": {
      "text/html": [
       "\n",
       "<!DOCTYPE html>\n",
       "<html>\n",
       "  <head>\n",
       "  <script type=\"text/javascript\" \n",
       "          src=\"http://kozea.github.com/pygal.js/javascripts/svg.jquery.js\">\n",
       "  </script>\n",
       "  <script type=\"text/javascript\" \n",
       "          src=\"https://kozea.github.io/pygal.js/2.0.x/pygal-tooltips.min.js\"\">\n",
       "  </script>\n",
       "  </head>\n",
       "  <body>\n",
       "    <figure>\n",
       "      <?xml version='1.0' encoding='utf-8'?>\n",
       "<svg xmlns:xlink=\"http://www.w3.org/1999/xlink\" xmlns=\"http://www.w3.org/2000/svg\" id=\"chart-db76b142-3649-439e-8152-49e555f1edea\" class=\"pygal-chart\" viewBox=\"0 0 640 360\" width=\"640\" height=\"360\"><!--Generated with pygal 2.4.0 (lxml) ©Kozea 2012-2016 on 2019-02-06--><!--http://pygal.org--><!--http://github.com/Kozea/pygal--><defs><style type=\"text/css\">#chart-db76b142-3649-439e-8152-49e555f1edea{-webkit-user-select:none;-webkit-font-smoothing:antialiased;font-family:Consolas,\"Liberation Mono\",Menlo,Courier,monospace}#chart-db76b142-3649-439e-8152-49e555f1edea .title{font-family:Consolas,\"Liberation Mono\",Menlo,Courier,monospace;font-size:16px}#chart-db76b142-3649-439e-8152-49e555f1edea .legends .legend text{font-family:Consolas,\"Liberation Mono\",Menlo,Courier,monospace;font-size:14px}#chart-db76b142-3649-439e-8152-49e555f1edea .axis text{font-family:Consolas,\"Liberation Mono\",Menlo,Courier,monospace;font-size:10px}#chart-db76b142-3649-439e-8152-49e555f1edea .axis text.major{font-family:Consolas,\"Liberation Mono\",Menlo,Courier,monospace;font-size:10px}#chart-db76b142-3649-439e-8152-49e555f1edea .text-overlay text.value{font-family:Consolas,\"Liberation Mono\",Menlo,Courier,monospace;font-size:16px}#chart-db76b142-3649-439e-8152-49e555f1edea .text-overlay text.label{font-family:Consolas,\"Liberation Mono\",Menlo,Courier,monospace;font-size:10px}#chart-db76b142-3649-439e-8152-49e555f1edea .tooltip{font-family:Consolas,\"Liberation Mono\",Menlo,Courier,monospace;font-size:14px}#chart-db76b142-3649-439e-8152-49e555f1edea text.no_data{font-family:Consolas,\"Liberation Mono\",Menlo,Courier,monospace;font-size:64px}\n",
       "#chart-db76b142-3649-439e-8152-49e555f1edea{background-color:rgba(249,249,249,1)}#chart-db76b142-3649-439e-8152-49e555f1edea path,#chart-db76b142-3649-439e-8152-49e555f1edea line,#chart-db76b142-3649-439e-8152-49e555f1edea rect,#chart-db76b142-3649-439e-8152-49e555f1edea circle{-webkit-transition:150ms;-moz-transition:150ms;transition:150ms}#chart-db76b142-3649-439e-8152-49e555f1edea .graph &gt; .background{fill:rgba(249,249,249,1)}#chart-db76b142-3649-439e-8152-49e555f1edea .plot &gt; .background{fill:rgba(255,255,255,1)}#chart-db76b142-3649-439e-8152-49e555f1edea .graph{fill:rgba(0,0,0,.87)}#chart-db76b142-3649-439e-8152-49e555f1edea text.no_data{fill:rgba(0,0,0,1)}#chart-db76b142-3649-439e-8152-49e555f1edea .title{fill:rgba(0,0,0,1)}#chart-db76b142-3649-439e-8152-49e555f1edea .legends .legend text{fill:rgba(0,0,0,.87)}#chart-db76b142-3649-439e-8152-49e555f1edea .legends .legend:hover text{fill:rgba(0,0,0,1)}#chart-db76b142-3649-439e-8152-49e555f1edea .axis .line{stroke:rgba(0,0,0,1)}#chart-db76b142-3649-439e-8152-49e555f1edea .axis .guide.line{stroke:rgba(0,0,0,.54)}#chart-db76b142-3649-439e-8152-49e555f1edea .axis .major.line{stroke:rgba(0,0,0,.87)}#chart-db76b142-3649-439e-8152-49e555f1edea .axis text.major{fill:rgba(0,0,0,1)}#chart-db76b142-3649-439e-8152-49e555f1edea .axis.y .guides:hover .guide.line,#chart-db76b142-3649-439e-8152-49e555f1edea .line-graph .axis.x .guides:hover .guide.line,#chart-db76b142-3649-439e-8152-49e555f1edea .stackedline-graph .axis.x .guides:hover .guide.line,#chart-db76b142-3649-439e-8152-49e555f1edea .xy-graph .axis.x .guides:hover .guide.line{stroke:rgba(0,0,0,1)}#chart-db76b142-3649-439e-8152-49e555f1edea .axis .guides:hover text{fill:rgba(0,0,0,1)}#chart-db76b142-3649-439e-8152-49e555f1edea .reactive{fill-opacity:.7;stroke-opacity:.8}#chart-db76b142-3649-439e-8152-49e555f1edea .ci{stroke:rgba(0,0,0,.87)}#chart-db76b142-3649-439e-8152-49e555f1edea .reactive.active,#chart-db76b142-3649-439e-8152-49e555f1edea .active .reactive{fill-opacity:.8;stroke-opacity:.9;stroke-width:4}#chart-db76b142-3649-439e-8152-49e555f1edea .ci .reactive.active{stroke-width:1.5}#chart-db76b142-3649-439e-8152-49e555f1edea .series text{fill:rgba(0,0,0,1)}#chart-db76b142-3649-439e-8152-49e555f1edea .tooltip rect{fill:rgba(255,255,255,1);stroke:rgba(0,0,0,1);-webkit-transition:opacity 150ms;-moz-transition:opacity 150ms;transition:opacity 150ms}#chart-db76b142-3649-439e-8152-49e555f1edea .tooltip .label{fill:rgba(0,0,0,.87)}#chart-db76b142-3649-439e-8152-49e555f1edea .tooltip .label{fill:rgba(0,0,0,.87)}#chart-db76b142-3649-439e-8152-49e555f1edea .tooltip .legend{font-size:.8em;fill:rgba(0,0,0,.54)}#chart-db76b142-3649-439e-8152-49e555f1edea .tooltip .x_label{font-size:.6em;fill:rgba(0,0,0,1)}#chart-db76b142-3649-439e-8152-49e555f1edea .tooltip .xlink{font-size:.5em;text-decoration:underline}#chart-db76b142-3649-439e-8152-49e555f1edea .tooltip .value{font-size:1.5em}#chart-db76b142-3649-439e-8152-49e555f1edea .bound{font-size:.5em}#chart-db76b142-3649-439e-8152-49e555f1edea .max-value{font-size:.75em;fill:rgba(0,0,0,.54)}#chart-db76b142-3649-439e-8152-49e555f1edea .map-element{fill:rgba(255,255,255,1);stroke:rgba(0,0,0,.54) !important}#chart-db76b142-3649-439e-8152-49e555f1edea .map-element .reactive{fill-opacity:inherit;stroke-opacity:inherit}#chart-db76b142-3649-439e-8152-49e555f1edea .color-0,#chart-db76b142-3649-439e-8152-49e555f1edea .color-0 a:visited{stroke:#F44336;fill:#F44336}#chart-db76b142-3649-439e-8152-49e555f1edea .color-1,#chart-db76b142-3649-439e-8152-49e555f1edea .color-1 a:visited{stroke:#3F51B5;fill:#3F51B5}#chart-db76b142-3649-439e-8152-49e555f1edea .color-2,#chart-db76b142-3649-439e-8152-49e555f1edea .color-2 a:visited{stroke:#009688;fill:#009688}#chart-db76b142-3649-439e-8152-49e555f1edea .text-overlay .color-0 text{fill:black}#chart-db76b142-3649-439e-8152-49e555f1edea .text-overlay .color-1 text{fill:black}#chart-db76b142-3649-439e-8152-49e555f1edea .text-overlay .color-2 text{fill:black}\n",
       "#chart-db76b142-3649-439e-8152-49e555f1edea text.no_data{text-anchor:middle}#chart-db76b142-3649-439e-8152-49e555f1edea .guide.line{fill:none}#chart-db76b142-3649-439e-8152-49e555f1edea .centered{text-anchor:middle}#chart-db76b142-3649-439e-8152-49e555f1edea .title{text-anchor:middle}#chart-db76b142-3649-439e-8152-49e555f1edea .legends .legend text{fill-opacity:1}#chart-db76b142-3649-439e-8152-49e555f1edea .axis.x text{text-anchor:middle}#chart-db76b142-3649-439e-8152-49e555f1edea .axis.x:not(.web) text[transform]{text-anchor:start}#chart-db76b142-3649-439e-8152-49e555f1edea .axis.x:not(.web) text[transform].backwards{text-anchor:end}#chart-db76b142-3649-439e-8152-49e555f1edea .axis.y text{text-anchor:end}#chart-db76b142-3649-439e-8152-49e555f1edea .axis.y text[transform].backwards{text-anchor:start}#chart-db76b142-3649-439e-8152-49e555f1edea .axis.y2 text{text-anchor:start}#chart-db76b142-3649-439e-8152-49e555f1edea .axis.y2 text[transform].backwards{text-anchor:end}#chart-db76b142-3649-439e-8152-49e555f1edea .axis .guide.line{stroke-dasharray:4,4}#chart-db76b142-3649-439e-8152-49e555f1edea .axis .major.guide.line{stroke-dasharray:6,6}#chart-db76b142-3649-439e-8152-49e555f1edea .horizontal .axis.y .guide.line,#chart-db76b142-3649-439e-8152-49e555f1edea .horizontal .axis.y2 .guide.line,#chart-db76b142-3649-439e-8152-49e555f1edea .vertical .axis.x .guide.line{opacity:0}#chart-db76b142-3649-439e-8152-49e555f1edea .horizontal .axis.always_show .guide.line,#chart-db76b142-3649-439e-8152-49e555f1edea .vertical .axis.always_show .guide.line{opacity:1 !important}#chart-db76b142-3649-439e-8152-49e555f1edea .axis.y .guides:hover .guide.line,#chart-db76b142-3649-439e-8152-49e555f1edea .axis.y2 .guides:hover .guide.line,#chart-db76b142-3649-439e-8152-49e555f1edea .axis.x .guides:hover .guide.line{opacity:1}#chart-db76b142-3649-439e-8152-49e555f1edea .axis .guides:hover text{opacity:1}#chart-db76b142-3649-439e-8152-49e555f1edea .nofill{fill:none}#chart-db76b142-3649-439e-8152-49e555f1edea .subtle-fill{fill-opacity:.2}#chart-db76b142-3649-439e-8152-49e555f1edea .dot{stroke-width:1px;fill-opacity:1}#chart-db76b142-3649-439e-8152-49e555f1edea .dot.active{stroke-width:5px}#chart-db76b142-3649-439e-8152-49e555f1edea .dot.negative{fill:transparent}#chart-db76b142-3649-439e-8152-49e555f1edea text,#chart-db76b142-3649-439e-8152-49e555f1edea tspan{stroke:none !important}#chart-db76b142-3649-439e-8152-49e555f1edea .series text.active{opacity:1}#chart-db76b142-3649-439e-8152-49e555f1edea .tooltip rect{fill-opacity:.95;stroke-width:.5}#chart-db76b142-3649-439e-8152-49e555f1edea .tooltip text{fill-opacity:1}#chart-db76b142-3649-439e-8152-49e555f1edea .showable{visibility:hidden}#chart-db76b142-3649-439e-8152-49e555f1edea .showable.shown{visibility:visible}#chart-db76b142-3649-439e-8152-49e555f1edea .gauge-background{fill:rgba(229,229,229,1);stroke:none}#chart-db76b142-3649-439e-8152-49e555f1edea .bg-lines{stroke:rgba(249,249,249,1);stroke-width:2px}</style><script type=\"text/javascript\">window.pygal = window.pygal || {};window.pygal.config = window.pygal.config || {};window.pygal.config['db76b142-3649-439e-8152-49e555f1edea'] = {\"allow_interruptions\": false, \"box_mode\": \"tukey\", \"classes\": [\"pygal-chart\"], \"css\": [\"file://style.css\", \"file://graph.css\"], \"defs\": [], \"disable_xml_declaration\": false, \"dots_size\": 2.5, \"dynamic_print_values\": false, \"explicit_size\": true, \"fill\": false, \"force_uri_protocol\": \"https\", \"formatter\": null, \"half_pie\": false, \"height\": 360, \"include_x_axis\": false, \"inner_radius\": 0, \"interpolate\": null, \"interpolation_parameters\": {}, \"interpolation_precision\": 250, \"inverse_y_axis\": false, \"js\": [\"//kozea.github.io/pygal.js/2.0.x/pygal-tooltips.min.js\"], \"legend_at_bottom\": false, \"legend_at_bottom_columns\": null, \"legend_box_size\": 12, \"logarithmic\": false, \"margin\": 20, \"margin_bottom\": null, \"margin_left\": null, \"margin_right\": null, \"margin_top\": null, \"max_scale\": 16, \"min_scale\": 4, \"missing_value_fill_truncation\": \"x\", \"no_data_text\": \"No data\", \"no_prefix\": false, \"order_min\": null, \"pretty_print\": false, \"print_labels\": false, \"print_values\": false, \"print_values_position\": \"center\", \"print_zeroes\": true, \"range\": null, \"rounded_bars\": null, \"secondary_range\": null, \"show_dots\": true, \"show_legend\": true, \"show_minor_x_labels\": true, \"show_minor_y_labels\": true, \"show_only_major_dots\": false, \"show_x_guides\": false, \"show_x_labels\": true, \"show_y_guides\": true, \"show_y_labels\": true, \"spacing\": 10, \"stack_from_top\": false, \"strict\": false, \"stroke\": true, \"stroke_style\": null, \"style\": {\"background\": \"rgba(249, 249, 249, 1)\", \"ci_colors\": [], \"colors\": [\"#F44336\", \"#3F51B5\", \"#009688\", \"#FFC107\", \"#FF5722\", \"#9C27B0\", \"#03A9F4\", \"#8BC34A\", \"#FF9800\", \"#E91E63\", \"#2196F3\", \"#4CAF50\", \"#FFEB3B\", \"#673AB7\", \"#00BCD4\", \"#CDDC39\", \"#9E9E9E\", \"#607D8B\"], \"font_family\": \"Consolas, \\\"Liberation Mono\\\", Menlo, Courier, monospace\", \"foreground\": \"rgba(0, 0, 0, .87)\", \"foreground_strong\": \"rgba(0, 0, 0, 1)\", \"foreground_subtle\": \"rgba(0, 0, 0, .54)\", \"guide_stroke_dasharray\": \"4,4\", \"label_font_family\": \"Consolas, \\\"Liberation Mono\\\", Menlo, Courier, monospace\", \"label_font_size\": 10, \"legend_font_family\": \"Consolas, \\\"Liberation Mono\\\", Menlo, Courier, monospace\", \"legend_font_size\": 14, \"major_guide_stroke_dasharray\": \"6,6\", \"major_label_font_family\": \"Consolas, \\\"Liberation Mono\\\", Menlo, Courier, monospace\", \"major_label_font_size\": 10, \"no_data_font_family\": \"Consolas, \\\"Liberation Mono\\\", Menlo, Courier, monospace\", \"no_data_font_size\": 64, \"opacity\": \".7\", \"opacity_hover\": \".8\", \"plot_background\": \"rgba(255, 255, 255, 1)\", \"stroke_opacity\": \".8\", \"stroke_opacity_hover\": \".9\", \"title_font_family\": \"Consolas, \\\"Liberation Mono\\\", Menlo, Courier, monospace\", \"title_font_size\": 16, \"tooltip_font_family\": \"Consolas, \\\"Liberation Mono\\\", Menlo, Courier, monospace\", \"tooltip_font_size\": 14, \"transition\": \"150ms\", \"value_background\": \"rgba(229, 229, 229, 1)\", \"value_colors\": [], \"value_font_family\": \"Consolas, \\\"Liberation Mono\\\", Menlo, Courier, monospace\", \"value_font_size\": 16, \"value_label_font_family\": \"Consolas, \\\"Liberation Mono\\\", Menlo, Courier, monospace\", \"value_label_font_size\": 10}, \"title\": \"Social Media time\", \"tooltip_border_radius\": 0, \"tooltip_fancy_mode\": true, \"truncate_label\": null, \"truncate_legend\": null, \"width\": 640, \"x_label_rotation\": 0, \"x_labels\": null, \"x_labels_major\": null, \"x_labels_major_count\": null, \"x_labels_major_every\": null, \"x_title\": null, \"xrange\": null, \"y_label_rotation\": 0, \"y_labels\": null, \"y_labels_major\": null, \"y_labels_major_count\": null, \"y_labels_major_every\": null, \"y_title\": null, \"zero\": 0, \"legends\": [\"Facebook\", \"Instagram\", \"Twitter\"]}</script><script type=\"text/javascript\" xlink:href=\"https://kozea.github.io/pygal.js/2.0.x/pygal-tooltips.min.js\"/></defs><title>Social Media time</title><g class=\"graph box-graph vertical\"><rect class=\"background\" height=\"360\" width=\"640\" x=\"0\" y=\"0\"/><g class=\"plot\" transform=\"translate(145, 46)\"><rect class=\"background\" height=\"294\" width=\"474.4\" x=\"0\" y=\"0\"/><g class=\"axis y always_show\"><g class=\"guides\"><path class=\"axis major line\" d=\"M0.000000 288.346154 h474.400000\"/><text class=\"major\" x=\"-5\" y=\"291.84615384615387\">0</text><title>0</title></g><g class=\"guides\"><path class=\"guide line\" d=\"M0.000000 264.788462 h474.400000\"/><text class=\"\" x=\"-5\" y=\"268.28846153846155\">20</text><title>20</title></g><g class=\"guides\"><path class=\"guide line\" d=\"M0.000000 241.230769 h474.400000\"/><text class=\"\" x=\"-5\" y=\"244.73076923076923\">40</text><title>40</title></g><g class=\"guides\"><path class=\"guide line\" d=\"M0.000000 217.673077 h474.400000\"/><text class=\"\" x=\"-5\" y=\"221.17307692307693\">60</text><title>60</title></g><g class=\"guides\"><path class=\"guide line\" d=\"M0.000000 194.115385 h474.400000\"/><text class=\"\" x=\"-5\" y=\"197.61538461538464\">80</text><title>80</title></g><g class=\"guides\"><path class=\"major guide line\" d=\"M0.000000 170.557692 h474.400000\"/><text class=\"major\" x=\"-5\" y=\"174.05769230769232\">100</text><title>100</title></g><g class=\"guides\"><path class=\"guide line\" d=\"M0.000000 147.000000 h474.400000\"/><text class=\"\" x=\"-5\" y=\"150.50000000000003\">120</text><title>120</title></g><g class=\"guides\"><path class=\"guide line\" d=\"M0.000000 123.442308 h474.400000\"/><text class=\"\" x=\"-5\" y=\"126.94230769230768\">140</text><title>140</title></g><g class=\"guides\"><path class=\"guide line\" d=\"M0.000000 99.884615 h474.400000\"/><text class=\"\" x=\"-5\" y=\"103.38461538461539\">160</text><title>160</title></g><g class=\"guides\"><path class=\"guide line\" d=\"M0.000000 76.326923 h474.400000\"/><text class=\"\" x=\"-5\" y=\"79.82692307692307\">180</text><title>180</title></g><g class=\"guides\"><path class=\"major guide line\" d=\"M0.000000 52.769231 h474.400000\"/><text class=\"major\" x=\"-5\" y=\"56.269230769230774\">200</text><title>200</title></g><g class=\"guides\"><path class=\"guide line\" d=\"M0.000000 29.211538 h474.400000\"/><text class=\"\" x=\"-5\" y=\"32.71153846153851\">220</text><title>220</title></g><g class=\"guides\"><path class=\"guide line\" d=\"M0.000000 5.653846 h474.400000\"/><text class=\"\" x=\"-5\" y=\"9.153846153846189\">240</text><title>240</title></g></g><g class=\"series serie-0 color-0\"><g class=\"boxes\"><g class=\"box\"><path class=\"reactive tooltip-trigger\" d=\"M51.697436 288.346154 L118.600000 288.346154\" stroke-width=\"3\"/><path class=\"reactive tooltip-trigger\" d=\"M18.246154 257.721154 L152.051282 257.721154\" stroke-width=\"3\"/><path class=\"reactive tooltip-trigger\" d=\"M51.697436 202.360577 L118.600000 202.360577\" stroke-width=\"3\"/><path class=\"reactive tooltip-trigger\" d=\"M85.148718 288.346154 L85.148718 275.389423\" stroke-width=\"2\"/><path class=\"reactive tooltip-trigger\" d=\"M85.148718 202.360577 L85.148718 235.930288\" stroke-width=\"2\"/><rect class=\"subtle-fill reactive tooltip-trigger\" height=\"39.45913461538461\" width=\"133.80512820512817\" x=\"18.246153846153845\" y=\"235.93028846153848\"/><desc class=\"value\">Min: 0\n",
       "Lower Whisker: 0\n",
       "Q1: 11\n",
       "Q2: 26\n",
       "Q3: 44.5\n",
       "Upper Whisker: 73\n",
       "Max: 73</desc><desc class=\"x centered\">85.14871794871793</desc><desc class=\"y centered\">251.94951923076923</desc></g></g></g><g class=\"series serie-1 color-1\"><g class=\"boxes\"><g class=\"box\"><path class=\"reactive tooltip-trigger\" d=\"M203.748718 288.346154 L270.651282 288.346154\" stroke-width=\"3\"/><path class=\"reactive tooltip-trigger\" d=\"M170.297436 254.776442 L304.102564 254.776442\" stroke-width=\"3\"/><path class=\"reactive tooltip-trigger\" d=\"M203.748718 217.673077 L270.651282 217.673077\" stroke-width=\"3\"/><path class=\"reactive tooltip-trigger\" d=\"M237.200000 288.346154 L237.200000 271.855769\" stroke-width=\"2\"/><path class=\"reactive tooltip-trigger\" d=\"M237.200000 217.673077 L237.200000 235.341346\" stroke-width=\"2\"/><rect class=\"subtle-fill reactive tooltip-trigger\" height=\"36.514423076923066\" width=\"133.80512820512817\" x=\"170.29743589743586\" y=\"235.34134615384616\"/><circle class=\"subtle-fill reactive tooltip-trigger\" cx=\"237.19999999999993\" cy=\"170.55769230769232\" r=\"3\"/><circle class=\"subtle-fill reactive tooltip-trigger\" cx=\"237.19999999999993\" cy=\"170.55769230769232\" r=\"3\"/><circle class=\"subtle-fill reactive tooltip-trigger\" cx=\"237.19999999999993\" cy=\"76.32692307692307\" r=\"3\"/><circle class=\"subtle-fill reactive tooltip-trigger\" cx=\"237.19999999999993\" cy=\"5.653846153846189\" r=\"3\"/><desc class=\"value\">Min: 0\n",
       "Lower Whisker: 0\n",
       "Q1: 14\n",
       "Q2: 28.5\n",
       "Q3: 45\n",
       "Upper Whisker: 60\n",
       "Max: 240</desc><desc class=\"x centered\">237.19999999999993</desc><desc class=\"y centered\">253.5985576923077</desc></g></g></g><g class=\"series serie-2 color-2\"><g class=\"boxes\"><g class=\"box\"><path class=\"reactive tooltip-trigger\" d=\"M355.800000 288.346154 L422.702564 288.346154\" stroke-width=\"3\"/><path class=\"reactive tooltip-trigger\" d=\"M322.348718 251.242788 L456.153846 251.242788\" stroke-width=\"3\"/><path class=\"reactive tooltip-trigger\" d=\"M355.800000 188.225962 L422.702564 188.225962\" stroke-width=\"3\"/><path class=\"reactive tooltip-trigger\" d=\"M389.251282 288.346154 L389.251282 272.444712\" stroke-width=\"2\"/><path class=\"reactive tooltip-trigger\" d=\"M389.251282 188.225962 L389.251282 232.985577\" stroke-width=\"2\"/><rect class=\"subtle-fill reactive tooltip-trigger\" height=\"39.45913461538461\" width=\"133.80512820512817\" x=\"322.3487179487178\" y=\"232.98557692307693\"/><circle class=\"subtle-fill reactive tooltip-trigger\" cx=\"389.2512820512819\" cy=\"147.00000000000003\" r=\"3\"/><desc class=\"value\">Min: 0\n",
       "Lower Whisker: 0\n",
       "Q1: 13.5\n",
       "Q2: 31.5\n",
       "Q3: 47\n",
       "Upper Whisker: 85\n",
       "Max: 120</desc><desc class=\"x centered\">389.2512820512819</desc><desc class=\"y centered\">246.64903846153845</desc></g></g></g></g><g class=\"titles\"><text class=\"title plot_title\" x=\"320.0\" y=\"26\">Social Media time</text></g><g class=\"plot overlay\" transform=\"translate(145, 46)\"><g class=\"series serie-0 color-0\"/><g class=\"series serie-1 color-1\"/><g class=\"series serie-2 color-2\"/></g><g class=\"plot text-overlay\" transform=\"translate(145, 46)\"><g class=\"series serie-0 color-0\"/><g class=\"series serie-1 color-1\"/><g class=\"series serie-2 color-2\"/></g><g class=\"plot tooltip-overlay\" transform=\"translate(145, 46)\"><g class=\"tooltip\" style=\"opacity: 0\" transform=\"translate(0 0)\"><rect class=\"tooltip-box\" height=\"0\" rx=\"0\" ry=\"0\" width=\"0\"/><g class=\"text\"/></g></g><g class=\"legends\" transform=\"translate(10, 56)\"><g class=\"legend reactive activate-serie\" id=\"activate-serie-0\"><rect class=\"color-0 reactive\" height=\"12\" width=\"12\" x=\"0.0\" y=\"1.0\"/><text x=\"17.0\" y=\"11.2\">Facebook</text></g><g class=\"legend reactive activate-serie\" id=\"activate-serie-1\"><rect class=\"color-1 reactive\" height=\"12\" width=\"12\" x=\"0.0\" y=\"22.0\"/><text x=\"17.0\" y=\"32.2\">Instagram</text></g><g class=\"legend reactive activate-serie\" id=\"activate-serie-2\"><rect class=\"color-2 reactive\" height=\"12\" width=\"12\" x=\"0.0\" y=\"43.0\"/><text x=\"17.0\" y=\"53.2\">Twitter</text></g></g><g class=\"legends\" transform=\"translate(630, 56)\"/></g></svg>\n",
       "    </figure>\n",
       "  </body>\n",
       "</html>\n"
      ],
      "text/plain": [
       "<IPython.core.display.HTML object>"
      ]
     },
     "metadata": {},
     "output_type": "display_data"
    }
   ],
   "source": [
    "box_plot.add('Facebook', social_media['facebook_time'])\n",
    "box_plot.add('Instagram', social_media['instagram_time'])\n",
    "box_plot.add('Twitter', social_media['twitter_time'])\n",
    "\n",
    "display_chart(box_plot)"
   ]
  },
  {
   "cell_type": "markdown",
   "metadata": {},
   "source": [
    "The whiskers are the **lowest datum whithin the 1.5 IQR of the lower quartile** and **the highest datum still within 1.5 IQR of the upper quartile**. The outliers are shown too."
   ]
  },
  {
   "cell_type": "code",
   "execution_count": 44,
   "metadata": {},
   "outputs": [
    {
     "data": {
      "text/html": [
       "<div>\n",
       "<style scoped>\n",
       "    .dataframe tbody tr th:only-of-type {\n",
       "        vertical-align: middle;\n",
       "    }\n",
       "\n",
       "    .dataframe tbody tr th {\n",
       "        vertical-align: top;\n",
       "    }\n",
       "\n",
       "    .dataframe thead th {\n",
       "        text-align: right;\n",
       "    }\n",
       "</style>\n",
       "<table border=\"1\" class=\"dataframe\">\n",
       "  <thead>\n",
       "    <tr style=\"text-align: right;\">\n",
       "      <th></th>\n",
       "      <th>age</th>\n",
       "      <th>facebook_time</th>\n",
       "      <th>instagram_time</th>\n",
       "      <th>twitter_time</th>\n",
       "    </tr>\n",
       "  </thead>\n",
       "  <tbody>\n",
       "    <tr>\n",
       "      <th>count</th>\n",
       "      <td>200.000000</td>\n",
       "      <td>200.000000</td>\n",
       "      <td>200.00000</td>\n",
       "      <td>200.000000</td>\n",
       "    </tr>\n",
       "    <tr>\n",
       "      <th>mean</th>\n",
       "      <td>14.475000</td>\n",
       "      <td>27.925000</td>\n",
       "      <td>31.22000</td>\n",
       "      <td>30.810000</td>\n",
       "    </tr>\n",
       "    <tr>\n",
       "      <th>std</th>\n",
       "      <td>4.396135</td>\n",
       "      <td>19.199544</td>\n",
       "      <td>26.06624</td>\n",
       "      <td>19.748771</td>\n",
       "    </tr>\n",
       "    <tr>\n",
       "      <th>min</th>\n",
       "      <td>7.000000</td>\n",
       "      <td>0.000000</td>\n",
       "      <td>0.00000</td>\n",
       "      <td>0.000000</td>\n",
       "    </tr>\n",
       "    <tr>\n",
       "      <th>25%</th>\n",
       "      <td>11.000000</td>\n",
       "      <td>11.000000</td>\n",
       "      <td>14.00000</td>\n",
       "      <td>13.750000</td>\n",
       "    </tr>\n",
       "    <tr>\n",
       "      <th>50%</th>\n",
       "      <td>14.000000</td>\n",
       "      <td>26.000000</td>\n",
       "      <td>28.50000</td>\n",
       "      <td>31.500000</td>\n",
       "    </tr>\n",
       "    <tr>\n",
       "      <th>75%</th>\n",
       "      <td>18.000000</td>\n",
       "      <td>44.250000</td>\n",
       "      <td>45.00000</td>\n",
       "      <td>47.000000</td>\n",
       "    </tr>\n",
       "    <tr>\n",
       "      <th>max</th>\n",
       "      <td>25.000000</td>\n",
       "      <td>73.000000</td>\n",
       "      <td>240.00000</td>\n",
       "      <td>120.000000</td>\n",
       "    </tr>\n",
       "  </tbody>\n",
       "</table>\n",
       "</div>"
      ],
      "text/plain": [
       "              age  facebook_time  instagram_time  twitter_time\n",
       "count  200.000000     200.000000       200.00000    200.000000\n",
       "mean    14.475000      27.925000        31.22000     30.810000\n",
       "std      4.396135      19.199544        26.06624     19.748771\n",
       "min      7.000000       0.000000         0.00000      0.000000\n",
       "25%     11.000000      11.000000        14.00000     13.750000\n",
       "50%     14.000000      26.000000        28.50000     31.500000\n",
       "75%     18.000000      44.250000        45.00000     47.000000\n",
       "max     25.000000      73.000000       240.00000    120.000000"
      ]
     },
     "execution_count": 44,
     "metadata": {},
     "output_type": "execute_result"
    }
   ],
   "source": [
    "social_media.describe()"
   ]
  },
  {
   "cell_type": "markdown",
   "metadata": {},
   "source": [
    "### Boxplot mode \"Stdev\" - Sample Standard Deviation"
   ]
  },
  {
   "cell_type": "code",
   "execution_count": 45,
   "metadata": {
    "collapsed": true
   },
   "outputs": [],
   "source": [
    "box_plot_std = pygal.Box(box_mode=\"stdev\",\n",
    "                         width = 640,\n",
    "                         height = 360,\n",
    "                         explicit_size = True)\n",
    "\n",
    "box_plot_std.title = 'Social Media time'"
   ]
  },
  {
   "cell_type": "code",
   "execution_count": 46,
   "metadata": {},
   "outputs": [
    {
     "data": {
      "text/html": [
       "\n",
       "<!DOCTYPE html>\n",
       "<html>\n",
       "  <head>\n",
       "  <script type=\"text/javascript\" \n",
       "          src=\"http://kozea.github.com/pygal.js/javascripts/svg.jquery.js\">\n",
       "  </script>\n",
       "  <script type=\"text/javascript\" \n",
       "          src=\"https://kozea.github.io/pygal.js/2.0.x/pygal-tooltips.min.js\"\">\n",
       "  </script>\n",
       "  </head>\n",
       "  <body>\n",
       "    <figure>\n",
       "      <?xml version='1.0' encoding='utf-8'?>\n",
       "<svg xmlns:xlink=\"http://www.w3.org/1999/xlink\" xmlns=\"http://www.w3.org/2000/svg\" id=\"chart-5302b054-700a-4f32-b825-405b132ae958\" class=\"pygal-chart\" viewBox=\"0 0 640 360\" width=\"640\" height=\"360\"><!--Generated with pygal 2.4.0 (lxml) ©Kozea 2012-2016 on 2019-02-06--><!--http://pygal.org--><!--http://github.com/Kozea/pygal--><defs><style type=\"text/css\">#chart-5302b054-700a-4f32-b825-405b132ae958{-webkit-user-select:none;-webkit-font-smoothing:antialiased;font-family:Consolas,\"Liberation Mono\",Menlo,Courier,monospace}#chart-5302b054-700a-4f32-b825-405b132ae958 .title{font-family:Consolas,\"Liberation Mono\",Menlo,Courier,monospace;font-size:16px}#chart-5302b054-700a-4f32-b825-405b132ae958 .legends .legend text{font-family:Consolas,\"Liberation Mono\",Menlo,Courier,monospace;font-size:14px}#chart-5302b054-700a-4f32-b825-405b132ae958 .axis text{font-family:Consolas,\"Liberation Mono\",Menlo,Courier,monospace;font-size:10px}#chart-5302b054-700a-4f32-b825-405b132ae958 .axis text.major{font-family:Consolas,\"Liberation Mono\",Menlo,Courier,monospace;font-size:10px}#chart-5302b054-700a-4f32-b825-405b132ae958 .text-overlay text.value{font-family:Consolas,\"Liberation Mono\",Menlo,Courier,monospace;font-size:16px}#chart-5302b054-700a-4f32-b825-405b132ae958 .text-overlay text.label{font-family:Consolas,\"Liberation Mono\",Menlo,Courier,monospace;font-size:10px}#chart-5302b054-700a-4f32-b825-405b132ae958 .tooltip{font-family:Consolas,\"Liberation Mono\",Menlo,Courier,monospace;font-size:14px}#chart-5302b054-700a-4f32-b825-405b132ae958 text.no_data{font-family:Consolas,\"Liberation Mono\",Menlo,Courier,monospace;font-size:64px}\n",
       "#chart-5302b054-700a-4f32-b825-405b132ae958{background-color:rgba(249,249,249,1)}#chart-5302b054-700a-4f32-b825-405b132ae958 path,#chart-5302b054-700a-4f32-b825-405b132ae958 line,#chart-5302b054-700a-4f32-b825-405b132ae958 rect,#chart-5302b054-700a-4f32-b825-405b132ae958 circle{-webkit-transition:150ms;-moz-transition:150ms;transition:150ms}#chart-5302b054-700a-4f32-b825-405b132ae958 .graph &gt; .background{fill:rgba(249,249,249,1)}#chart-5302b054-700a-4f32-b825-405b132ae958 .plot &gt; .background{fill:rgba(255,255,255,1)}#chart-5302b054-700a-4f32-b825-405b132ae958 .graph{fill:rgba(0,0,0,.87)}#chart-5302b054-700a-4f32-b825-405b132ae958 text.no_data{fill:rgba(0,0,0,1)}#chart-5302b054-700a-4f32-b825-405b132ae958 .title{fill:rgba(0,0,0,1)}#chart-5302b054-700a-4f32-b825-405b132ae958 .legends .legend text{fill:rgba(0,0,0,.87)}#chart-5302b054-700a-4f32-b825-405b132ae958 .legends .legend:hover text{fill:rgba(0,0,0,1)}#chart-5302b054-700a-4f32-b825-405b132ae958 .axis .line{stroke:rgba(0,0,0,1)}#chart-5302b054-700a-4f32-b825-405b132ae958 .axis .guide.line{stroke:rgba(0,0,0,.54)}#chart-5302b054-700a-4f32-b825-405b132ae958 .axis .major.line{stroke:rgba(0,0,0,.87)}#chart-5302b054-700a-4f32-b825-405b132ae958 .axis text.major{fill:rgba(0,0,0,1)}#chart-5302b054-700a-4f32-b825-405b132ae958 .axis.y .guides:hover .guide.line,#chart-5302b054-700a-4f32-b825-405b132ae958 .line-graph .axis.x .guides:hover .guide.line,#chart-5302b054-700a-4f32-b825-405b132ae958 .stackedline-graph .axis.x .guides:hover .guide.line,#chart-5302b054-700a-4f32-b825-405b132ae958 .xy-graph .axis.x .guides:hover .guide.line{stroke:rgba(0,0,0,1)}#chart-5302b054-700a-4f32-b825-405b132ae958 .axis .guides:hover text{fill:rgba(0,0,0,1)}#chart-5302b054-700a-4f32-b825-405b132ae958 .reactive{fill-opacity:.7;stroke-opacity:.8}#chart-5302b054-700a-4f32-b825-405b132ae958 .ci{stroke:rgba(0,0,0,.87)}#chart-5302b054-700a-4f32-b825-405b132ae958 .reactive.active,#chart-5302b054-700a-4f32-b825-405b132ae958 .active .reactive{fill-opacity:.8;stroke-opacity:.9;stroke-width:4}#chart-5302b054-700a-4f32-b825-405b132ae958 .ci .reactive.active{stroke-width:1.5}#chart-5302b054-700a-4f32-b825-405b132ae958 .series text{fill:rgba(0,0,0,1)}#chart-5302b054-700a-4f32-b825-405b132ae958 .tooltip rect{fill:rgba(255,255,255,1);stroke:rgba(0,0,0,1);-webkit-transition:opacity 150ms;-moz-transition:opacity 150ms;transition:opacity 150ms}#chart-5302b054-700a-4f32-b825-405b132ae958 .tooltip .label{fill:rgba(0,0,0,.87)}#chart-5302b054-700a-4f32-b825-405b132ae958 .tooltip .label{fill:rgba(0,0,0,.87)}#chart-5302b054-700a-4f32-b825-405b132ae958 .tooltip .legend{font-size:.8em;fill:rgba(0,0,0,.54)}#chart-5302b054-700a-4f32-b825-405b132ae958 .tooltip .x_label{font-size:.6em;fill:rgba(0,0,0,1)}#chart-5302b054-700a-4f32-b825-405b132ae958 .tooltip .xlink{font-size:.5em;text-decoration:underline}#chart-5302b054-700a-4f32-b825-405b132ae958 .tooltip .value{font-size:1.5em}#chart-5302b054-700a-4f32-b825-405b132ae958 .bound{font-size:.5em}#chart-5302b054-700a-4f32-b825-405b132ae958 .max-value{font-size:.75em;fill:rgba(0,0,0,.54)}#chart-5302b054-700a-4f32-b825-405b132ae958 .map-element{fill:rgba(255,255,255,1);stroke:rgba(0,0,0,.54) !important}#chart-5302b054-700a-4f32-b825-405b132ae958 .map-element .reactive{fill-opacity:inherit;stroke-opacity:inherit}#chart-5302b054-700a-4f32-b825-405b132ae958 .color-0,#chart-5302b054-700a-4f32-b825-405b132ae958 .color-0 a:visited{stroke:#F44336;fill:#F44336}#chart-5302b054-700a-4f32-b825-405b132ae958 .color-1,#chart-5302b054-700a-4f32-b825-405b132ae958 .color-1 a:visited{stroke:#3F51B5;fill:#3F51B5}#chart-5302b054-700a-4f32-b825-405b132ae958 .color-2,#chart-5302b054-700a-4f32-b825-405b132ae958 .color-2 a:visited{stroke:#009688;fill:#009688}#chart-5302b054-700a-4f32-b825-405b132ae958 .text-overlay .color-0 text{fill:black}#chart-5302b054-700a-4f32-b825-405b132ae958 .text-overlay .color-1 text{fill:black}#chart-5302b054-700a-4f32-b825-405b132ae958 .text-overlay .color-2 text{fill:black}\n",
       "#chart-5302b054-700a-4f32-b825-405b132ae958 text.no_data{text-anchor:middle}#chart-5302b054-700a-4f32-b825-405b132ae958 .guide.line{fill:none}#chart-5302b054-700a-4f32-b825-405b132ae958 .centered{text-anchor:middle}#chart-5302b054-700a-4f32-b825-405b132ae958 .title{text-anchor:middle}#chart-5302b054-700a-4f32-b825-405b132ae958 .legends .legend text{fill-opacity:1}#chart-5302b054-700a-4f32-b825-405b132ae958 .axis.x text{text-anchor:middle}#chart-5302b054-700a-4f32-b825-405b132ae958 .axis.x:not(.web) text[transform]{text-anchor:start}#chart-5302b054-700a-4f32-b825-405b132ae958 .axis.x:not(.web) text[transform].backwards{text-anchor:end}#chart-5302b054-700a-4f32-b825-405b132ae958 .axis.y text{text-anchor:end}#chart-5302b054-700a-4f32-b825-405b132ae958 .axis.y text[transform].backwards{text-anchor:start}#chart-5302b054-700a-4f32-b825-405b132ae958 .axis.y2 text{text-anchor:start}#chart-5302b054-700a-4f32-b825-405b132ae958 .axis.y2 text[transform].backwards{text-anchor:end}#chart-5302b054-700a-4f32-b825-405b132ae958 .axis .guide.line{stroke-dasharray:4,4}#chart-5302b054-700a-4f32-b825-405b132ae958 .axis .major.guide.line{stroke-dasharray:6,6}#chart-5302b054-700a-4f32-b825-405b132ae958 .horizontal .axis.y .guide.line,#chart-5302b054-700a-4f32-b825-405b132ae958 .horizontal .axis.y2 .guide.line,#chart-5302b054-700a-4f32-b825-405b132ae958 .vertical .axis.x .guide.line{opacity:0}#chart-5302b054-700a-4f32-b825-405b132ae958 .horizontal .axis.always_show .guide.line,#chart-5302b054-700a-4f32-b825-405b132ae958 .vertical .axis.always_show .guide.line{opacity:1 !important}#chart-5302b054-700a-4f32-b825-405b132ae958 .axis.y .guides:hover .guide.line,#chart-5302b054-700a-4f32-b825-405b132ae958 .axis.y2 .guides:hover .guide.line,#chart-5302b054-700a-4f32-b825-405b132ae958 .axis.x .guides:hover .guide.line{opacity:1}#chart-5302b054-700a-4f32-b825-405b132ae958 .axis .guides:hover text{opacity:1}#chart-5302b054-700a-4f32-b825-405b132ae958 .nofill{fill:none}#chart-5302b054-700a-4f32-b825-405b132ae958 .subtle-fill{fill-opacity:.2}#chart-5302b054-700a-4f32-b825-405b132ae958 .dot{stroke-width:1px;fill-opacity:1}#chart-5302b054-700a-4f32-b825-405b132ae958 .dot.active{stroke-width:5px}#chart-5302b054-700a-4f32-b825-405b132ae958 .dot.negative{fill:transparent}#chart-5302b054-700a-4f32-b825-405b132ae958 text,#chart-5302b054-700a-4f32-b825-405b132ae958 tspan{stroke:none !important}#chart-5302b054-700a-4f32-b825-405b132ae958 .series text.active{opacity:1}#chart-5302b054-700a-4f32-b825-405b132ae958 .tooltip rect{fill-opacity:.95;stroke-width:.5}#chart-5302b054-700a-4f32-b825-405b132ae958 .tooltip text{fill-opacity:1}#chart-5302b054-700a-4f32-b825-405b132ae958 .showable{visibility:hidden}#chart-5302b054-700a-4f32-b825-405b132ae958 .showable.shown{visibility:visible}#chart-5302b054-700a-4f32-b825-405b132ae958 .gauge-background{fill:rgba(229,229,229,1);stroke:none}#chart-5302b054-700a-4f32-b825-405b132ae958 .bg-lines{stroke:rgba(249,249,249,1);stroke-width:2px}</style><script type=\"text/javascript\">window.pygal = window.pygal || {};window.pygal.config = window.pygal.config || {};window.pygal.config['5302b054-700a-4f32-b825-405b132ae958'] = {\"allow_interruptions\": false, \"box_mode\": \"stdev\", \"classes\": [\"pygal-chart\"], \"css\": [\"file://style.css\", \"file://graph.css\"], \"defs\": [], \"disable_xml_declaration\": false, \"dots_size\": 2.5, \"dynamic_print_values\": false, \"explicit_size\": true, \"fill\": false, \"force_uri_protocol\": \"https\", \"formatter\": null, \"half_pie\": false, \"height\": 360, \"include_x_axis\": false, \"inner_radius\": 0, \"interpolate\": null, \"interpolation_parameters\": {}, \"interpolation_precision\": 250, \"inverse_y_axis\": false, \"js\": [\"//kozea.github.io/pygal.js/2.0.x/pygal-tooltips.min.js\"], \"legend_at_bottom\": false, \"legend_at_bottom_columns\": null, \"legend_box_size\": 12, \"logarithmic\": false, \"margin\": 20, \"margin_bottom\": null, \"margin_left\": null, \"margin_right\": null, \"margin_top\": null, \"max_scale\": 16, \"min_scale\": 4, \"missing_value_fill_truncation\": \"x\", \"no_data_text\": \"No data\", \"no_prefix\": false, \"order_min\": null, \"pretty_print\": false, \"print_labels\": false, \"print_values\": false, \"print_values_position\": \"center\", \"print_zeroes\": true, \"range\": null, \"rounded_bars\": null, \"secondary_range\": null, \"show_dots\": true, \"show_legend\": true, \"show_minor_x_labels\": true, \"show_minor_y_labels\": true, \"show_only_major_dots\": false, \"show_x_guides\": false, \"show_x_labels\": true, \"show_y_guides\": true, \"show_y_labels\": true, \"spacing\": 10, \"stack_from_top\": false, \"strict\": false, \"stroke\": true, \"stroke_style\": null, \"style\": {\"background\": \"rgba(249, 249, 249, 1)\", \"ci_colors\": [], \"colors\": [\"#F44336\", \"#3F51B5\", \"#009688\", \"#FFC107\", \"#FF5722\", \"#9C27B0\", \"#03A9F4\", \"#8BC34A\", \"#FF9800\", \"#E91E63\", \"#2196F3\", \"#4CAF50\", \"#FFEB3B\", \"#673AB7\", \"#00BCD4\", \"#CDDC39\", \"#9E9E9E\", \"#607D8B\"], \"font_family\": \"Consolas, \\\"Liberation Mono\\\", Menlo, Courier, monospace\", \"foreground\": \"rgba(0, 0, 0, .87)\", \"foreground_strong\": \"rgba(0, 0, 0, 1)\", \"foreground_subtle\": \"rgba(0, 0, 0, .54)\", \"guide_stroke_dasharray\": \"4,4\", \"label_font_family\": \"Consolas, \\\"Liberation Mono\\\", Menlo, Courier, monospace\", \"label_font_size\": 10, \"legend_font_family\": \"Consolas, \\\"Liberation Mono\\\", Menlo, Courier, monospace\", \"legend_font_size\": 14, \"major_guide_stroke_dasharray\": \"6,6\", \"major_label_font_family\": \"Consolas, \\\"Liberation Mono\\\", Menlo, Courier, monospace\", \"major_label_font_size\": 10, \"no_data_font_family\": \"Consolas, \\\"Liberation Mono\\\", Menlo, Courier, monospace\", \"no_data_font_size\": 64, \"opacity\": \".7\", \"opacity_hover\": \".8\", \"plot_background\": \"rgba(255, 255, 255, 1)\", \"stroke_opacity\": \".8\", \"stroke_opacity_hover\": \".9\", \"title_font_family\": \"Consolas, \\\"Liberation Mono\\\", Menlo, Courier, monospace\", \"title_font_size\": 16, \"tooltip_font_family\": \"Consolas, \\\"Liberation Mono\\\", Menlo, Courier, monospace\", \"tooltip_font_size\": 14, \"transition\": \"150ms\", \"value_background\": \"rgba(229, 229, 229, 1)\", \"value_colors\": [], \"value_font_family\": \"Consolas, \\\"Liberation Mono\\\", Menlo, Courier, monospace\", \"value_font_size\": 16, \"value_label_font_family\": \"Consolas, \\\"Liberation Mono\\\", Menlo, Courier, monospace\", \"value_label_font_size\": 10}, \"title\": \"Social Media time\", \"tooltip_border_radius\": 0, \"tooltip_fancy_mode\": true, \"truncate_label\": null, \"truncate_legend\": null, \"width\": 640, \"x_label_rotation\": 0, \"x_labels\": null, \"x_labels_major\": null, \"x_labels_major_count\": null, \"x_labels_major_every\": null, \"x_title\": null, \"xrange\": null, \"y_label_rotation\": 0, \"y_labels\": null, \"y_labels_major\": null, \"y_labels_major_count\": null, \"y_labels_major_every\": null, \"y_title\": null, \"zero\": 0, \"legends\": [\"Facebook\", \"Instagram\", \"Twitter\"]}</script><script type=\"text/javascript\" xlink:href=\"https://kozea.github.io/pygal.js/2.0.x/pygal-tooltips.min.js\"/></defs><title>Social Media time</title><g class=\"graph box-graph vertical\"><rect class=\"background\" height=\"360\" width=\"640\" x=\"0\" y=\"0\"/><g class=\"plot\" transform=\"translate(145, 46)\"><rect class=\"background\" height=\"294\" width=\"474.4\" x=\"0\" y=\"0\"/><g class=\"axis y always_show\"><g class=\"guides\"><path class=\"axis major line\" d=\"M0.000000 288.346154 h474.400000\"/><text class=\"major\" x=\"-5\" y=\"291.84615384615387\">0</text><title>0</title></g><g class=\"guides\"><path class=\"guide line\" d=\"M0.000000 264.788462 h474.400000\"/><text class=\"\" x=\"-5\" y=\"268.28846153846155\">20</text><title>20</title></g><g class=\"guides\"><path class=\"guide line\" d=\"M0.000000 241.230769 h474.400000\"/><text class=\"\" x=\"-5\" y=\"244.73076923076923\">40</text><title>40</title></g><g class=\"guides\"><path class=\"guide line\" d=\"M0.000000 217.673077 h474.400000\"/><text class=\"\" x=\"-5\" y=\"221.17307692307693\">60</text><title>60</title></g><g class=\"guides\"><path class=\"guide line\" d=\"M0.000000 194.115385 h474.400000\"/><text class=\"\" x=\"-5\" y=\"197.61538461538464\">80</text><title>80</title></g><g class=\"guides\"><path class=\"major guide line\" d=\"M0.000000 170.557692 h474.400000\"/><text class=\"major\" x=\"-5\" y=\"174.05769230769232\">100</text><title>100</title></g><g class=\"guides\"><path class=\"guide line\" d=\"M0.000000 147.000000 h474.400000\"/><text class=\"\" x=\"-5\" y=\"150.50000000000003\">120</text><title>120</title></g><g class=\"guides\"><path class=\"guide line\" d=\"M0.000000 123.442308 h474.400000\"/><text class=\"\" x=\"-5\" y=\"126.94230769230768\">140</text><title>140</title></g><g class=\"guides\"><path class=\"guide line\" d=\"M0.000000 99.884615 h474.400000\"/><text class=\"\" x=\"-5\" y=\"103.38461538461539\">160</text><title>160</title></g><g class=\"guides\"><path class=\"guide line\" d=\"M0.000000 76.326923 h474.400000\"/><text class=\"\" x=\"-5\" y=\"79.82692307692307\">180</text><title>180</title></g><g class=\"guides\"><path class=\"major guide line\" d=\"M0.000000 52.769231 h474.400000\"/><text class=\"major\" x=\"-5\" y=\"56.269230769230774\">200</text><title>200</title></g><g class=\"guides\"><path class=\"guide line\" d=\"M0.000000 29.211538 h474.400000\"/><text class=\"\" x=\"-5\" y=\"32.71153846153851\">220</text><title>220</title></g><g class=\"guides\"><path class=\"guide line\" d=\"M0.000000 5.653846 h474.400000\"/><text class=\"\" x=\"-5\" y=\"9.153846153846189\">240</text><title>240</title></g></g><g class=\"series serie-0 color-0\"><g class=\"boxes\"><g class=\"box\"><path class=\"reactive tooltip-trigger\" d=\"M51.697436 280.100962 L118.600000 280.100962\" stroke-width=\"3\"/><path class=\"reactive tooltip-trigger\" d=\"M18.246154 257.721154 L152.051282 257.721154\" stroke-width=\"3\"/><path class=\"reactive tooltip-trigger\" d=\"M51.697436 235.341346 L118.600000 235.341346\" stroke-width=\"3\"/><path class=\"reactive tooltip-trigger\" d=\"M85.148718 280.100962 L85.148718 275.389423\" stroke-width=\"2\"/><path class=\"reactive tooltip-trigger\" d=\"M85.148718 235.341346 L85.148718 235.930288\" stroke-width=\"2\"/><rect class=\"subtle-fill reactive tooltip-trigger\" height=\"39.45913461538461\" width=\"133.80512820512817\" x=\"18.246153846153845\" y=\"235.93028846153848\"/><circle class=\"subtle-fill reactive tooltip-trigger\" cx=\"85.14871794871793\" cy=\"288.34615384615387\" r=\"3\"/><circle class=\"subtle-fill reactive tooltip-trigger\" cx=\"85.14871794871793\" cy=\"288.34615384615387\" r=\"3\"/><circle class=\"subtle-fill reactive tooltip-trigger\" cx=\"85.14871794871793\" cy=\"288.34615384615387\" r=\"3\"/><circle class=\"subtle-fill reactive tooltip-trigger\" cx=\"85.14871794871793\" cy=\"288.34615384615387\" r=\"3\"/><circle class=\"subtle-fill reactive tooltip-trigger\" cx=\"85.14871794871793\" cy=\"288.34615384615387\" r=\"3\"/><circle class=\"subtle-fill reactive tooltip-trigger\" cx=\"85.14871794871793\" cy=\"288.34615384615387\" r=\"3\"/><circle class=\"subtle-fill reactive tooltip-trigger\" cx=\"85.14871794871793\" cy=\"288.34615384615387\" r=\"3\"/><circle class=\"subtle-fill reactive tooltip-trigger\" cx=\"85.14871794871793\" cy=\"288.34615384615387\" r=\"3\"/><circle class=\"subtle-fill reactive tooltip-trigger\" cx=\"85.14871794871793\" cy=\"288.34615384615387\" r=\"3\"/><circle class=\"subtle-fill reactive tooltip-trigger\" cx=\"85.14871794871793\" cy=\"288.34615384615387\" r=\"3\"/><circle class=\"subtle-fill reactive tooltip-trigger\" cx=\"85.14871794871793\" cy=\"288.34615384615387\" r=\"3\"/><circle class=\"subtle-fill reactive tooltip-trigger\" cx=\"85.14871794871793\" cy=\"288.34615384615387\" r=\"3\"/><circle class=\"subtle-fill reactive tooltip-trigger\" cx=\"85.14871794871793\" cy=\"287.1682692307692\" r=\"3\"/><circle class=\"subtle-fill reactive tooltip-trigger\" cx=\"85.14871794871793\" cy=\"287.1682692307692\" r=\"3\"/><circle class=\"subtle-fill reactive tooltip-trigger\" cx=\"85.14871794871793\" cy=\"287.1682692307692\" r=\"3\"/><circle class=\"subtle-fill reactive tooltip-trigger\" cx=\"85.14871794871793\" cy=\"287.1682692307692\" r=\"3\"/><circle class=\"subtle-fill reactive tooltip-trigger\" cx=\"85.14871794871793\" cy=\"285.99038461538464\" r=\"3\"/><circle class=\"subtle-fill reactive tooltip-trigger\" cx=\"85.14871794871793\" cy=\"284.8125\" r=\"3\"/><circle class=\"subtle-fill reactive tooltip-trigger\" cx=\"85.14871794871793\" cy=\"284.8125\" r=\"3\"/><circle class=\"subtle-fill reactive tooltip-trigger\" cx=\"85.14871794871793\" cy=\"284.8125\" r=\"3\"/><circle class=\"subtle-fill reactive tooltip-trigger\" cx=\"85.14871794871793\" cy=\"284.8125\" r=\"3\"/><circle class=\"subtle-fill reactive tooltip-trigger\" cx=\"85.14871794871793\" cy=\"284.8125\" r=\"3\"/><circle class=\"subtle-fill reactive tooltip-trigger\" cx=\"85.14871794871793\" cy=\"283.63461538461536\" r=\"3\"/><circle class=\"subtle-fill reactive tooltip-trigger\" cx=\"85.14871794871793\" cy=\"283.63461538461536\" r=\"3\"/><circle class=\"subtle-fill reactive tooltip-trigger\" cx=\"85.14871794871793\" cy=\"282.4567307692308\" r=\"3\"/><circle class=\"subtle-fill reactive tooltip-trigger\" cx=\"85.14871794871793\" cy=\"282.4567307692308\" r=\"3\"/><circle class=\"subtle-fill reactive tooltip-trigger\" cx=\"85.14871794871793\" cy=\"282.4567307692308\" r=\"3\"/><circle class=\"subtle-fill reactive tooltip-trigger\" cx=\"85.14871794871793\" cy=\"282.4567307692308\" r=\"3\"/><circle class=\"subtle-fill reactive tooltip-trigger\" cx=\"85.14871794871793\" cy=\"281.27884615384613\" r=\"3\"/><circle class=\"subtle-fill reactive tooltip-trigger\" cx=\"85.14871794871793\" cy=\"281.27884615384613\" r=\"3\"/><circle class=\"subtle-fill reactive tooltip-trigger\" cx=\"85.14871794871793\" cy=\"281.27884615384613\" r=\"3\"/><circle class=\"subtle-fill reactive tooltip-trigger\" cx=\"85.14871794871793\" cy=\"281.27884615384613\" r=\"3\"/><circle class=\"subtle-fill reactive tooltip-trigger\" cx=\"85.14871794871793\" cy=\"281.27884615384613\" r=\"3\"/><circle class=\"subtle-fill reactive tooltip-trigger\" cx=\"85.14871794871793\" cy=\"281.27884615384613\" r=\"3\"/><circle class=\"subtle-fill reactive tooltip-trigger\" cx=\"85.14871794871793\" cy=\"234.16346153846155\" r=\"3\"/><circle class=\"subtle-fill reactive tooltip-trigger\" cx=\"85.14871794871793\" cy=\"232.98557692307693\" r=\"3\"/><circle class=\"subtle-fill reactive tooltip-trigger\" cx=\"85.14871794871793\" cy=\"232.98557692307693\" r=\"3\"/><circle class=\"subtle-fill reactive tooltip-trigger\" cx=\"85.14871794871793\" cy=\"231.80769230769232\" r=\"3\"/><circle class=\"subtle-fill reactive tooltip-trigger\" cx=\"85.14871794871793\" cy=\"230.6298076923077\" r=\"3\"/><circle class=\"subtle-fill reactive tooltip-trigger\" cx=\"85.14871794871793\" cy=\"229.4519230769231\" r=\"3\"/><circle class=\"subtle-fill reactive tooltip-trigger\" cx=\"85.14871794871793\" cy=\"229.4519230769231\" r=\"3\"/><circle class=\"subtle-fill reactive tooltip-trigger\" cx=\"85.14871794871793\" cy=\"229.4519230769231\" r=\"3\"/><circle class=\"subtle-fill reactive tooltip-trigger\" cx=\"85.14871794871793\" cy=\"228.27403846153845\" r=\"3\"/><circle class=\"subtle-fill reactive tooltip-trigger\" cx=\"85.14871794871793\" cy=\"228.27403846153845\" r=\"3\"/><circle class=\"subtle-fill reactive tooltip-trigger\" cx=\"85.14871794871793\" cy=\"228.27403846153845\" r=\"3\"/><circle class=\"subtle-fill reactive tooltip-trigger\" cx=\"85.14871794871793\" cy=\"228.27403846153845\" r=\"3\"/><circle class=\"subtle-fill reactive tooltip-trigger\" cx=\"85.14871794871793\" cy=\"228.27403846153845\" r=\"3\"/><circle class=\"subtle-fill reactive tooltip-trigger\" cx=\"85.14871794871793\" cy=\"228.27403846153845\" r=\"3\"/><circle class=\"subtle-fill reactive tooltip-trigger\" cx=\"85.14871794871793\" cy=\"228.27403846153845\" r=\"3\"/><circle class=\"subtle-fill reactive tooltip-trigger\" cx=\"85.14871794871793\" cy=\"228.27403846153845\" r=\"3\"/><circle class=\"subtle-fill reactive tooltip-trigger\" cx=\"85.14871794871793\" cy=\"228.27403846153845\" r=\"3\"/><circle class=\"subtle-fill reactive tooltip-trigger\" cx=\"85.14871794871793\" cy=\"227.09615384615387\" r=\"3\"/><circle class=\"subtle-fill reactive tooltip-trigger\" cx=\"85.14871794871793\" cy=\"227.09615384615387\" r=\"3\"/><circle class=\"subtle-fill reactive tooltip-trigger\" cx=\"85.14871794871793\" cy=\"225.91826923076923\" r=\"3\"/><circle class=\"subtle-fill reactive tooltip-trigger\" cx=\"85.14871794871793\" cy=\"224.7403846153846\" r=\"3\"/><circle class=\"subtle-fill reactive tooltip-trigger\" cx=\"85.14871794871793\" cy=\"224.7403846153846\" r=\"3\"/><circle class=\"subtle-fill reactive tooltip-trigger\" cx=\"85.14871794871793\" cy=\"224.7403846153846\" r=\"3\"/><circle class=\"subtle-fill reactive tooltip-trigger\" cx=\"85.14871794871793\" cy=\"223.5625\" r=\"3\"/><circle class=\"subtle-fill reactive tooltip-trigger\" cx=\"85.14871794871793\" cy=\"223.5625\" r=\"3\"/><circle class=\"subtle-fill reactive tooltip-trigger\" cx=\"85.14871794871793\" cy=\"223.5625\" r=\"3\"/><circle class=\"subtle-fill reactive tooltip-trigger\" cx=\"85.14871794871793\" cy=\"222.3846153846154\" r=\"3\"/><circle class=\"subtle-fill reactive tooltip-trigger\" cx=\"85.14871794871793\" cy=\"222.3846153846154\" r=\"3\"/><circle class=\"subtle-fill reactive tooltip-trigger\" cx=\"85.14871794871793\" cy=\"222.3846153846154\" r=\"3\"/><circle class=\"subtle-fill reactive tooltip-trigger\" cx=\"85.14871794871793\" cy=\"222.3846153846154\" r=\"3\"/><circle class=\"subtle-fill reactive tooltip-trigger\" cx=\"85.14871794871793\" cy=\"221.20673076923077\" r=\"3\"/><circle class=\"subtle-fill reactive tooltip-trigger\" cx=\"85.14871794871793\" cy=\"221.20673076923077\" r=\"3\"/><circle class=\"subtle-fill reactive tooltip-trigger\" cx=\"85.14871794871793\" cy=\"221.20673076923077\" r=\"3\"/><circle class=\"subtle-fill reactive tooltip-trigger\" cx=\"85.14871794871793\" cy=\"220.02884615384616\" r=\"3\"/><circle class=\"subtle-fill reactive tooltip-trigger\" cx=\"85.14871794871793\" cy=\"220.02884615384616\" r=\"3\"/><circle class=\"subtle-fill reactive tooltip-trigger\" cx=\"85.14871794871793\" cy=\"220.02884615384616\" r=\"3\"/><circle class=\"subtle-fill reactive tooltip-trigger\" cx=\"85.14871794871793\" cy=\"220.02884615384616\" r=\"3\"/><circle class=\"subtle-fill reactive tooltip-trigger\" cx=\"85.14871794871793\" cy=\"220.02884615384616\" r=\"3\"/><circle class=\"subtle-fill reactive tooltip-trigger\" cx=\"85.14871794871793\" cy=\"218.85096153846155\" r=\"3\"/><circle class=\"subtle-fill reactive tooltip-trigger\" cx=\"85.14871794871793\" cy=\"218.85096153846155\" r=\"3\"/><circle class=\"subtle-fill reactive tooltip-trigger\" cx=\"85.14871794871793\" cy=\"218.85096153846155\" r=\"3\"/><circle class=\"subtle-fill reactive tooltip-trigger\" cx=\"85.14871794871793\" cy=\"217.67307692307693\" r=\"3\"/><circle class=\"subtle-fill reactive tooltip-trigger\" cx=\"85.14871794871793\" cy=\"217.67307692307693\" r=\"3\"/><circle class=\"subtle-fill reactive tooltip-trigger\" cx=\"85.14871794871793\" cy=\"217.67307692307693\" r=\"3\"/><circle class=\"subtle-fill reactive tooltip-trigger\" cx=\"85.14871794871793\" cy=\"217.67307692307693\" r=\"3\"/><circle class=\"subtle-fill reactive tooltip-trigger\" cx=\"85.14871794871793\" cy=\"217.67307692307693\" r=\"3\"/><circle class=\"subtle-fill reactive tooltip-trigger\" cx=\"85.14871794871793\" cy=\"202.36057692307693\" r=\"3\"/><desc class=\"value\">Min: 0\n",
       "Lower Whisker: 7\n",
       "Q1: 11\n",
       "Q2: 26\n",
       "Q3: 44.5\n",
       "Upper Whisker: 45\n",
       "Max: 73</desc><desc class=\"x centered\">85.14871794871793</desc><desc class=\"y centered\">256.89663461538464</desc></g></g></g><g class=\"series serie-1 color-1\"><g class=\"boxes\"><g class=\"box\"><path class=\"reactive tooltip-trigger\" d=\"M203.748718 284.812500 L270.651282 284.812500\" stroke-width=\"3\"/><path class=\"reactive tooltip-trigger\" d=\"M170.297436 254.776442 L304.102564 254.776442\" stroke-width=\"3\"/><path class=\"reactive tooltip-trigger\" d=\"M203.748718 224.740385 L270.651282 224.740385\" stroke-width=\"3\"/><path class=\"reactive tooltip-trigger\" d=\"M237.200000 284.812500 L237.200000 271.855769\" stroke-width=\"2\"/><path class=\"reactive tooltip-trigger\" d=\"M237.200000 224.740385 L237.200000 235.341346\" stroke-width=\"2\"/><rect class=\"subtle-fill reactive tooltip-trigger\" height=\"36.514423076923066\" width=\"133.80512820512817\" x=\"170.29743589743586\" y=\"235.34134615384616\"/><circle class=\"subtle-fill reactive tooltip-trigger\" cx=\"237.19999999999993\" cy=\"288.34615384615387\" r=\"3\"/><circle class=\"subtle-fill reactive tooltip-trigger\" cx=\"237.19999999999993\" cy=\"288.34615384615387\" r=\"3\"/><circle class=\"subtle-fill reactive tooltip-trigger\" cx=\"237.19999999999993\" cy=\"288.34615384615387\" r=\"3\"/><circle class=\"subtle-fill reactive tooltip-trigger\" cx=\"237.19999999999993\" cy=\"288.34615384615387\" r=\"3\"/><circle class=\"subtle-fill reactive tooltip-trigger\" cx=\"237.19999999999993\" cy=\"288.34615384615387\" r=\"3\"/><circle class=\"subtle-fill reactive tooltip-trigger\" cx=\"237.19999999999993\" cy=\"287.1682692307692\" r=\"3\"/><circle class=\"subtle-fill reactive tooltip-trigger\" cx=\"237.19999999999993\" cy=\"287.1682692307692\" r=\"3\"/><circle class=\"subtle-fill reactive tooltip-trigger\" cx=\"237.19999999999993\" cy=\"285.99038461538464\" r=\"3\"/><circle class=\"subtle-fill reactive tooltip-trigger\" cx=\"237.19999999999993\" cy=\"285.99038461538464\" r=\"3\"/><circle class=\"subtle-fill reactive tooltip-trigger\" cx=\"237.19999999999993\" cy=\"285.99038461538464\" r=\"3\"/><circle class=\"subtle-fill reactive tooltip-trigger\" cx=\"237.19999999999993\" cy=\"285.99038461538464\" r=\"3\"/><circle class=\"subtle-fill reactive tooltip-trigger\" cx=\"237.19999999999993\" cy=\"223.5625\" r=\"3\"/><circle class=\"subtle-fill reactive tooltip-trigger\" cx=\"237.19999999999993\" cy=\"222.3846153846154\" r=\"3\"/><circle class=\"subtle-fill reactive tooltip-trigger\" cx=\"237.19999999999993\" cy=\"222.3846153846154\" r=\"3\"/><circle class=\"subtle-fill reactive tooltip-trigger\" cx=\"237.19999999999993\" cy=\"221.20673076923077\" r=\"3\"/><circle class=\"subtle-fill reactive tooltip-trigger\" cx=\"237.19999999999993\" cy=\"221.20673076923077\" r=\"3\"/><circle class=\"subtle-fill reactive tooltip-trigger\" cx=\"237.19999999999993\" cy=\"221.20673076923077\" r=\"3\"/><circle class=\"subtle-fill reactive tooltip-trigger\" cx=\"237.19999999999993\" cy=\"220.02884615384616\" r=\"3\"/><circle class=\"subtle-fill reactive tooltip-trigger\" cx=\"237.19999999999993\" cy=\"220.02884615384616\" r=\"3\"/><circle class=\"subtle-fill reactive tooltip-trigger\" cx=\"237.19999999999993\" cy=\"220.02884615384616\" r=\"3\"/><circle class=\"subtle-fill reactive tooltip-trigger\" cx=\"237.19999999999993\" cy=\"220.02884615384616\" r=\"3\"/><circle class=\"subtle-fill reactive tooltip-trigger\" cx=\"237.19999999999993\" cy=\"218.85096153846155\" r=\"3\"/><circle class=\"subtle-fill reactive tooltip-trigger\" cx=\"237.19999999999993\" cy=\"218.85096153846155\" r=\"3\"/><circle class=\"subtle-fill reactive tooltip-trigger\" cx=\"237.19999999999993\" cy=\"217.67307692307693\" r=\"3\"/><circle class=\"subtle-fill reactive tooltip-trigger\" cx=\"237.19999999999993\" cy=\"217.67307692307693\" r=\"3\"/><circle class=\"subtle-fill reactive tooltip-trigger\" cx=\"237.19999999999993\" cy=\"217.67307692307693\" r=\"3\"/><circle class=\"subtle-fill reactive tooltip-trigger\" cx=\"237.19999999999993\" cy=\"170.55769230769232\" r=\"3\"/><circle class=\"subtle-fill reactive tooltip-trigger\" cx=\"237.19999999999993\" cy=\"170.55769230769232\" r=\"3\"/><circle class=\"subtle-fill reactive tooltip-trigger\" cx=\"237.19999999999993\" cy=\"76.32692307692307\" r=\"3\"/><circle class=\"subtle-fill reactive tooltip-trigger\" cx=\"237.19999999999993\" cy=\"5.653846153846189\" r=\"3\"/><desc class=\"value\">Min: 0\n",
       "Lower Whisker: 3\n",
       "Q1: 14\n",
       "Q2: 28.5\n",
       "Q3: 45\n",
       "Upper Whisker: 54\n",
       "Max: 240</desc><desc class=\"x centered\">237.19999999999993</desc><desc class=\"y centered\">254.30528846153845</desc></g></g></g><g class=\"series serie-2 color-2\"><g class=\"boxes\"><g class=\"box\"><path class=\"reactive tooltip-trigger\" d=\"M355.800000 274.211538 L422.702564 274.211538\" stroke-width=\"3\"/><path class=\"reactive tooltip-trigger\" d=\"M322.348718 251.242788 L456.153846 251.242788\" stroke-width=\"3\"/><path class=\"reactive tooltip-trigger\" d=\"M355.800000 228.274038 L422.702564 228.274038\" stroke-width=\"3\"/><path class=\"reactive tooltip-trigger\" d=\"M389.251282 274.211538 L389.251282 272.444712\" stroke-width=\"2\"/><path class=\"reactive tooltip-trigger\" d=\"M389.251282 228.274038 L389.251282 232.985577\" stroke-width=\"2\"/><rect class=\"subtle-fill reactive tooltip-trigger\" height=\"39.45913461538461\" width=\"133.80512820512817\" x=\"322.3487179487178\" y=\"232.98557692307693\"/><circle class=\"subtle-fill reactive tooltip-trigger\" cx=\"389.2512820512819\" cy=\"288.34615384615387\" r=\"3\"/><circle class=\"subtle-fill reactive tooltip-trigger\" cx=\"389.2512820512819\" cy=\"288.34615384615387\" r=\"3\"/><circle class=\"subtle-fill reactive tooltip-trigger\" cx=\"389.2512820512819\" cy=\"288.34615384615387\" r=\"3\"/><circle class=\"subtle-fill reactive tooltip-trigger\" cx=\"389.2512820512819\" cy=\"287.1682692307692\" r=\"3\"/><circle class=\"subtle-fill reactive tooltip-trigger\" cx=\"389.2512820512819\" cy=\"287.1682692307692\" r=\"3\"/><circle class=\"subtle-fill reactive tooltip-trigger\" cx=\"389.2512820512819\" cy=\"287.1682692307692\" r=\"3\"/><circle class=\"subtle-fill reactive tooltip-trigger\" cx=\"389.2512820512819\" cy=\"287.1682692307692\" r=\"3\"/><circle class=\"subtle-fill reactive tooltip-trigger\" cx=\"389.2512820512819\" cy=\"287.1682692307692\" r=\"3\"/><circle class=\"subtle-fill reactive tooltip-trigger\" cx=\"389.2512820512819\" cy=\"285.99038461538464\" r=\"3\"/><circle class=\"subtle-fill reactive tooltip-trigger\" cx=\"389.2512820512819\" cy=\"285.99038461538464\" r=\"3\"/><circle class=\"subtle-fill reactive tooltip-trigger\" cx=\"389.2512820512819\" cy=\"285.99038461538464\" r=\"3\"/><circle class=\"subtle-fill reactive tooltip-trigger\" cx=\"389.2512820512819\" cy=\"285.99038461538464\" r=\"3\"/><circle class=\"subtle-fill reactive tooltip-trigger\" cx=\"389.2512820512819\" cy=\"285.99038461538464\" r=\"3\"/><circle class=\"subtle-fill reactive tooltip-trigger\" cx=\"389.2512820512819\" cy=\"285.99038461538464\" r=\"3\"/><circle class=\"subtle-fill reactive tooltip-trigger\" cx=\"389.2512820512819\" cy=\"284.8125\" r=\"3\"/><circle class=\"subtle-fill reactive tooltip-trigger\" cx=\"389.2512820512819\" cy=\"284.8125\" r=\"3\"/><circle class=\"subtle-fill reactive tooltip-trigger\" cx=\"389.2512820512819\" cy=\"284.8125\" r=\"3\"/><circle class=\"subtle-fill reactive tooltip-trigger\" cx=\"389.2512820512819\" cy=\"284.8125\" r=\"3\"/><circle class=\"subtle-fill reactive tooltip-trigger\" cx=\"389.2512820512819\" cy=\"284.8125\" r=\"3\"/><circle class=\"subtle-fill reactive tooltip-trigger\" cx=\"389.2512820512819\" cy=\"282.4567307692308\" r=\"3\"/><circle class=\"subtle-fill reactive tooltip-trigger\" cx=\"389.2512820512819\" cy=\"282.4567307692308\" r=\"3\"/><circle class=\"subtle-fill reactive tooltip-trigger\" cx=\"389.2512820512819\" cy=\"282.4567307692308\" r=\"3\"/><circle class=\"subtle-fill reactive tooltip-trigger\" cx=\"389.2512820512819\" cy=\"282.4567307692308\" r=\"3\"/><circle class=\"subtle-fill reactive tooltip-trigger\" cx=\"389.2512820512819\" cy=\"282.4567307692308\" r=\"3\"/><circle class=\"subtle-fill reactive tooltip-trigger\" cx=\"389.2512820512819\" cy=\"282.4567307692308\" r=\"3\"/><circle class=\"subtle-fill reactive tooltip-trigger\" cx=\"389.2512820512819\" cy=\"281.27884615384613\" r=\"3\"/><circle class=\"subtle-fill reactive tooltip-trigger\" cx=\"389.2512820512819\" cy=\"281.27884615384613\" r=\"3\"/><circle class=\"subtle-fill reactive tooltip-trigger\" cx=\"389.2512820512819\" cy=\"281.27884615384613\" r=\"3\"/><circle class=\"subtle-fill reactive tooltip-trigger\" cx=\"389.2512820512819\" cy=\"281.27884615384613\" r=\"3\"/><circle class=\"subtle-fill reactive tooltip-trigger\" cx=\"389.2512820512819\" cy=\"280.10096153846155\" r=\"3\"/><circle class=\"subtle-fill reactive tooltip-trigger\" cx=\"389.2512820512819\" cy=\"280.10096153846155\" r=\"3\"/><circle class=\"subtle-fill reactive tooltip-trigger\" cx=\"389.2512820512819\" cy=\"278.9230769230769\" r=\"3\"/><circle class=\"subtle-fill reactive tooltip-trigger\" cx=\"389.2512820512819\" cy=\"278.9230769230769\" r=\"3\"/><circle class=\"subtle-fill reactive tooltip-trigger\" cx=\"389.2512820512819\" cy=\"277.7451923076923\" r=\"3\"/><circle class=\"subtle-fill reactive tooltip-trigger\" cx=\"389.2512820512819\" cy=\"277.7451923076923\" r=\"3\"/><circle class=\"subtle-fill reactive tooltip-trigger\" cx=\"389.2512820512819\" cy=\"276.5673076923077\" r=\"3\"/><circle class=\"subtle-fill reactive tooltip-trigger\" cx=\"389.2512820512819\" cy=\"276.5673076923077\" r=\"3\"/><circle class=\"subtle-fill reactive tooltip-trigger\" cx=\"389.2512820512819\" cy=\"276.5673076923077\" r=\"3\"/><circle class=\"subtle-fill reactive tooltip-trigger\" cx=\"389.2512820512819\" cy=\"276.5673076923077\" r=\"3\"/><circle class=\"subtle-fill reactive tooltip-trigger\" cx=\"389.2512820512819\" cy=\"276.5673076923077\" r=\"3\"/><circle class=\"subtle-fill reactive tooltip-trigger\" cx=\"389.2512820512819\" cy=\"275.3894230769231\" r=\"3\"/><circle class=\"subtle-fill reactive tooltip-trigger\" cx=\"389.2512820512819\" cy=\"275.3894230769231\" r=\"3\"/><circle class=\"subtle-fill reactive tooltip-trigger\" cx=\"389.2512820512819\" cy=\"275.3894230769231\" r=\"3\"/><circle class=\"subtle-fill reactive tooltip-trigger\" cx=\"389.2512820512819\" cy=\"275.3894230769231\" r=\"3\"/><circle class=\"subtle-fill reactive tooltip-trigger\" cx=\"389.2512820512819\" cy=\"227.09615384615387\" r=\"3\"/><circle class=\"subtle-fill reactive tooltip-trigger\" cx=\"389.2512820512819\" cy=\"227.09615384615387\" r=\"3\"/><circle class=\"subtle-fill reactive tooltip-trigger\" cx=\"389.2512820512819\" cy=\"227.09615384615387\" r=\"3\"/><circle class=\"subtle-fill reactive tooltip-trigger\" cx=\"389.2512820512819\" cy=\"227.09615384615387\" r=\"3\"/><circle class=\"subtle-fill reactive tooltip-trigger\" cx=\"389.2512820512819\" cy=\"227.09615384615387\" r=\"3\"/><circle class=\"subtle-fill reactive tooltip-trigger\" cx=\"389.2512820512819\" cy=\"225.91826923076923\" r=\"3\"/><circle class=\"subtle-fill reactive tooltip-trigger\" cx=\"389.2512820512819\" cy=\"225.91826923076923\" r=\"3\"/><circle class=\"subtle-fill reactive tooltip-trigger\" cx=\"389.2512820512819\" cy=\"225.91826923076923\" r=\"3\"/><circle class=\"subtle-fill reactive tooltip-trigger\" cx=\"389.2512820512819\" cy=\"225.91826923076923\" r=\"3\"/><circle class=\"subtle-fill reactive tooltip-trigger\" cx=\"389.2512820512819\" cy=\"224.7403846153846\" r=\"3\"/><circle class=\"subtle-fill reactive tooltip-trigger\" cx=\"389.2512820512819\" cy=\"224.7403846153846\" r=\"3\"/><circle class=\"subtle-fill reactive tooltip-trigger\" cx=\"389.2512820512819\" cy=\"224.7403846153846\" r=\"3\"/><circle class=\"subtle-fill reactive tooltip-trigger\" cx=\"389.2512820512819\" cy=\"224.7403846153846\" r=\"3\"/><circle class=\"subtle-fill reactive tooltip-trigger\" cx=\"389.2512820512819\" cy=\"224.7403846153846\" r=\"3\"/><circle class=\"subtle-fill reactive tooltip-trigger\" cx=\"389.2512820512819\" cy=\"223.5625\" r=\"3\"/><circle class=\"subtle-fill reactive tooltip-trigger\" cx=\"389.2512820512819\" cy=\"223.5625\" r=\"3\"/><circle class=\"subtle-fill reactive tooltip-trigger\" cx=\"389.2512820512819\" cy=\"223.5625\" r=\"3\"/><circle class=\"subtle-fill reactive tooltip-trigger\" cx=\"389.2512820512819\" cy=\"223.5625\" r=\"3\"/><circle class=\"subtle-fill reactive tooltip-trigger\" cx=\"389.2512820512819\" cy=\"223.5625\" r=\"3\"/><circle class=\"subtle-fill reactive tooltip-trigger\" cx=\"389.2512820512819\" cy=\"223.5625\" r=\"3\"/><circle class=\"subtle-fill reactive tooltip-trigger\" cx=\"389.2512820512819\" cy=\"222.3846153846154\" r=\"3\"/><circle class=\"subtle-fill reactive tooltip-trigger\" cx=\"389.2512820512819\" cy=\"222.3846153846154\" r=\"3\"/><circle class=\"subtle-fill reactive tooltip-trigger\" cx=\"389.2512820512819\" cy=\"221.20673076923077\" r=\"3\"/><circle class=\"subtle-fill reactive tooltip-trigger\" cx=\"389.2512820512819\" cy=\"221.20673076923077\" r=\"3\"/><circle class=\"subtle-fill reactive tooltip-trigger\" cx=\"389.2512820512819\" cy=\"221.20673076923077\" r=\"3\"/><circle class=\"subtle-fill reactive tooltip-trigger\" cx=\"389.2512820512819\" cy=\"220.02884615384616\" r=\"3\"/><circle class=\"subtle-fill reactive tooltip-trigger\" cx=\"389.2512820512819\" cy=\"220.02884615384616\" r=\"3\"/><circle class=\"subtle-fill reactive tooltip-trigger\" cx=\"389.2512820512819\" cy=\"220.02884615384616\" r=\"3\"/><circle class=\"subtle-fill reactive tooltip-trigger\" cx=\"389.2512820512819\" cy=\"218.85096153846155\" r=\"3\"/><circle class=\"subtle-fill reactive tooltip-trigger\" cx=\"389.2512820512819\" cy=\"218.85096153846155\" r=\"3\"/><circle class=\"subtle-fill reactive tooltip-trigger\" cx=\"389.2512820512819\" cy=\"218.85096153846155\" r=\"3\"/><circle class=\"subtle-fill reactive tooltip-trigger\" cx=\"389.2512820512819\" cy=\"217.67307692307693\" r=\"3\"/><circle class=\"subtle-fill reactive tooltip-trigger\" cx=\"389.2512820512819\" cy=\"217.67307692307693\" r=\"3\"/><circle class=\"subtle-fill reactive tooltip-trigger\" cx=\"389.2512820512819\" cy=\"217.67307692307693\" r=\"3\"/><circle class=\"subtle-fill reactive tooltip-trigger\" cx=\"389.2512820512819\" cy=\"188.22596153846155\" r=\"3\"/><circle class=\"subtle-fill reactive tooltip-trigger\" cx=\"389.2512820512819\" cy=\"147.00000000000003\" r=\"3\"/><desc class=\"value\">Min: 0\n",
       "Lower Whisker: 12\n",
       "Q1: 13.5\n",
       "Q2: 31.5\n",
       "Q3: 47\n",
       "Upper Whisker: 51\n",
       "Max: 120</desc><desc class=\"x centered\">389.2512820512819</desc><desc class=\"y centered\">251.83173076923077</desc></g></g></g></g><g class=\"titles\"><text class=\"title plot_title\" x=\"320.0\" y=\"26\">Social Media time</text></g><g class=\"plot overlay\" transform=\"translate(145, 46)\"><g class=\"series serie-0 color-0\"/><g class=\"series serie-1 color-1\"/><g class=\"series serie-2 color-2\"/></g><g class=\"plot text-overlay\" transform=\"translate(145, 46)\"><g class=\"series serie-0 color-0\"/><g class=\"series serie-1 color-1\"/><g class=\"series serie-2 color-2\"/></g><g class=\"plot tooltip-overlay\" transform=\"translate(145, 46)\"><g class=\"tooltip\" style=\"opacity: 0\" transform=\"translate(0 0)\"><rect class=\"tooltip-box\" height=\"0\" rx=\"0\" ry=\"0\" width=\"0\"/><g class=\"text\"/></g></g><g class=\"legends\" transform=\"translate(10, 56)\"><g class=\"legend reactive activate-serie\" id=\"activate-serie-0\"><rect class=\"color-0 reactive\" height=\"12\" width=\"12\" x=\"0.0\" y=\"1.0\"/><text x=\"17.0\" y=\"11.2\">Facebook</text></g><g class=\"legend reactive activate-serie\" id=\"activate-serie-1\"><rect class=\"color-1 reactive\" height=\"12\" width=\"12\" x=\"0.0\" y=\"22.0\"/><text x=\"17.0\" y=\"32.2\">Instagram</text></g><g class=\"legend reactive activate-serie\" id=\"activate-serie-2\"><rect class=\"color-2 reactive\" height=\"12\" width=\"12\" x=\"0.0\" y=\"43.0\"/><text x=\"17.0\" y=\"53.2\">Twitter</text></g></g><g class=\"legends\" transform=\"translate(630, 56)\"/></g></svg>\n",
       "    </figure>\n",
       "  </body>\n",
       "</html>\n"
      ],
      "text/plain": [
       "<IPython.core.display.HTML object>"
      ]
     },
     "metadata": {},
     "output_type": "display_data"
    }
   ],
   "source": [
    "box_plot_std.add('Facebook', social_media['facebook_time'])\n",
    "box_plot_std.add('Instagram', social_media['instagram_time'])\n",
    "box_plot_std.add('Twitter', social_media['twitter_time'])\n",
    "\n",
    "display_chart(box_plot_std)"
   ]
  },
  {
   "cell_type": "markdown",
   "metadata": {},
   "source": [
    "The boxplots with standard deviation are plotted above. \n",
    "\n",
    "The Q1, Q2 and Q3 are same as the usual box plot i.e. Q2 is the media, Q1 is the 25% of the data and Q3 is 75% of the data.  \n",
    "\n",
    "**Note: standard deviation is the sample deviation.**"
   ]
  },
  {
   "cell_type": "markdown",
   "metadata": {},
   "source": [
    "### The Whiskers are the interesting point here. \n",
    "\n",
    "**Upper Whisker**  = Highest point that's within the \"**Q2 + Sample Standard Deviation**\"\n",
    "\n",
    "**Lower Whisker**  = Lowest data point that's greater than \"**Q2 -Sample Standard Deviation**\"\n",
    " \n",
    " for example, Facebook time \n",
    " **Sample Standard Deviation = 19.19** \n",
    " \n",
    " \n",
    " **Lower Whisker** = 7\n",
    " \n",
    " **Q1**** = 11\n",
    " \n",
    " **Q2** = 26\n",
    " \n",
    " **Q3** = 44.5\n",
    " \n",
    " **Upper Whisker** = 45\n",
    " \n",
    "**26 + 19.19 = 45.19** which close the value 45 in the dataset\n",
    " \n",
    " \n",
    " \n",
    " ### Boxplot with Population standard Deviation -pstdev \n",
    " "
   ]
  },
  {
   "cell_type": "code",
   "execution_count": 47,
   "metadata": {
    "collapsed": true
   },
   "outputs": [],
   "source": [
    "box_plot_psd = pygal.Box(box_mode=\"pstdev\",\n",
    "                         width = 640,\n",
    "                         height = 360,\n",
    "                         explicit_size = True)\n",
    "\n",
    "box_plot_psd.title = 'Social Media time'"
   ]
  },
  {
   "cell_type": "code",
   "execution_count": 48,
   "metadata": {},
   "outputs": [
    {
     "data": {
      "text/html": [
       "\n",
       "<!DOCTYPE html>\n",
       "<html>\n",
       "  <head>\n",
       "  <script type=\"text/javascript\" \n",
       "          src=\"http://kozea.github.com/pygal.js/javascripts/svg.jquery.js\">\n",
       "  </script>\n",
       "  <script type=\"text/javascript\" \n",
       "          src=\"https://kozea.github.io/pygal.js/2.0.x/pygal-tooltips.min.js\"\">\n",
       "  </script>\n",
       "  </head>\n",
       "  <body>\n",
       "    <figure>\n",
       "      <?xml version='1.0' encoding='utf-8'?>\n",
       "<svg xmlns:xlink=\"http://www.w3.org/1999/xlink\" xmlns=\"http://www.w3.org/2000/svg\" id=\"chart-e61f2033-1e79-438e-8a4c-7bdf9bb852e0\" class=\"pygal-chart\" viewBox=\"0 0 640 360\" width=\"640\" height=\"360\"><!--Generated with pygal 2.4.0 (lxml) ©Kozea 2012-2016 on 2019-02-06--><!--http://pygal.org--><!--http://github.com/Kozea/pygal--><defs><style type=\"text/css\">#chart-e61f2033-1e79-438e-8a4c-7bdf9bb852e0{-webkit-user-select:none;-webkit-font-smoothing:antialiased;font-family:Consolas,\"Liberation Mono\",Menlo,Courier,monospace}#chart-e61f2033-1e79-438e-8a4c-7bdf9bb852e0 .title{font-family:Consolas,\"Liberation Mono\",Menlo,Courier,monospace;font-size:16px}#chart-e61f2033-1e79-438e-8a4c-7bdf9bb852e0 .legends .legend text{font-family:Consolas,\"Liberation Mono\",Menlo,Courier,monospace;font-size:14px}#chart-e61f2033-1e79-438e-8a4c-7bdf9bb852e0 .axis text{font-family:Consolas,\"Liberation Mono\",Menlo,Courier,monospace;font-size:10px}#chart-e61f2033-1e79-438e-8a4c-7bdf9bb852e0 .axis text.major{font-family:Consolas,\"Liberation Mono\",Menlo,Courier,monospace;font-size:10px}#chart-e61f2033-1e79-438e-8a4c-7bdf9bb852e0 .text-overlay text.value{font-family:Consolas,\"Liberation Mono\",Menlo,Courier,monospace;font-size:16px}#chart-e61f2033-1e79-438e-8a4c-7bdf9bb852e0 .text-overlay text.label{font-family:Consolas,\"Liberation Mono\",Menlo,Courier,monospace;font-size:10px}#chart-e61f2033-1e79-438e-8a4c-7bdf9bb852e0 .tooltip{font-family:Consolas,\"Liberation Mono\",Menlo,Courier,monospace;font-size:14px}#chart-e61f2033-1e79-438e-8a4c-7bdf9bb852e0 text.no_data{font-family:Consolas,\"Liberation Mono\",Menlo,Courier,monospace;font-size:64px}\n",
       "#chart-e61f2033-1e79-438e-8a4c-7bdf9bb852e0{background-color:rgba(249,249,249,1)}#chart-e61f2033-1e79-438e-8a4c-7bdf9bb852e0 path,#chart-e61f2033-1e79-438e-8a4c-7bdf9bb852e0 line,#chart-e61f2033-1e79-438e-8a4c-7bdf9bb852e0 rect,#chart-e61f2033-1e79-438e-8a4c-7bdf9bb852e0 circle{-webkit-transition:150ms;-moz-transition:150ms;transition:150ms}#chart-e61f2033-1e79-438e-8a4c-7bdf9bb852e0 .graph &gt; .background{fill:rgba(249,249,249,1)}#chart-e61f2033-1e79-438e-8a4c-7bdf9bb852e0 .plot &gt; .background{fill:rgba(255,255,255,1)}#chart-e61f2033-1e79-438e-8a4c-7bdf9bb852e0 .graph{fill:rgba(0,0,0,.87)}#chart-e61f2033-1e79-438e-8a4c-7bdf9bb852e0 text.no_data{fill:rgba(0,0,0,1)}#chart-e61f2033-1e79-438e-8a4c-7bdf9bb852e0 .title{fill:rgba(0,0,0,1)}#chart-e61f2033-1e79-438e-8a4c-7bdf9bb852e0 .legends .legend text{fill:rgba(0,0,0,.87)}#chart-e61f2033-1e79-438e-8a4c-7bdf9bb852e0 .legends .legend:hover text{fill:rgba(0,0,0,1)}#chart-e61f2033-1e79-438e-8a4c-7bdf9bb852e0 .axis .line{stroke:rgba(0,0,0,1)}#chart-e61f2033-1e79-438e-8a4c-7bdf9bb852e0 .axis .guide.line{stroke:rgba(0,0,0,.54)}#chart-e61f2033-1e79-438e-8a4c-7bdf9bb852e0 .axis .major.line{stroke:rgba(0,0,0,.87)}#chart-e61f2033-1e79-438e-8a4c-7bdf9bb852e0 .axis text.major{fill:rgba(0,0,0,1)}#chart-e61f2033-1e79-438e-8a4c-7bdf9bb852e0 .axis.y .guides:hover .guide.line,#chart-e61f2033-1e79-438e-8a4c-7bdf9bb852e0 .line-graph .axis.x .guides:hover .guide.line,#chart-e61f2033-1e79-438e-8a4c-7bdf9bb852e0 .stackedline-graph .axis.x .guides:hover .guide.line,#chart-e61f2033-1e79-438e-8a4c-7bdf9bb852e0 .xy-graph .axis.x .guides:hover .guide.line{stroke:rgba(0,0,0,1)}#chart-e61f2033-1e79-438e-8a4c-7bdf9bb852e0 .axis .guides:hover text{fill:rgba(0,0,0,1)}#chart-e61f2033-1e79-438e-8a4c-7bdf9bb852e0 .reactive{fill-opacity:.7;stroke-opacity:.8}#chart-e61f2033-1e79-438e-8a4c-7bdf9bb852e0 .ci{stroke:rgba(0,0,0,.87)}#chart-e61f2033-1e79-438e-8a4c-7bdf9bb852e0 .reactive.active,#chart-e61f2033-1e79-438e-8a4c-7bdf9bb852e0 .active .reactive{fill-opacity:.8;stroke-opacity:.9;stroke-width:4}#chart-e61f2033-1e79-438e-8a4c-7bdf9bb852e0 .ci .reactive.active{stroke-width:1.5}#chart-e61f2033-1e79-438e-8a4c-7bdf9bb852e0 .series text{fill:rgba(0,0,0,1)}#chart-e61f2033-1e79-438e-8a4c-7bdf9bb852e0 .tooltip rect{fill:rgba(255,255,255,1);stroke:rgba(0,0,0,1);-webkit-transition:opacity 150ms;-moz-transition:opacity 150ms;transition:opacity 150ms}#chart-e61f2033-1e79-438e-8a4c-7bdf9bb852e0 .tooltip .label{fill:rgba(0,0,0,.87)}#chart-e61f2033-1e79-438e-8a4c-7bdf9bb852e0 .tooltip .label{fill:rgba(0,0,0,.87)}#chart-e61f2033-1e79-438e-8a4c-7bdf9bb852e0 .tooltip .legend{font-size:.8em;fill:rgba(0,0,0,.54)}#chart-e61f2033-1e79-438e-8a4c-7bdf9bb852e0 .tooltip .x_label{font-size:.6em;fill:rgba(0,0,0,1)}#chart-e61f2033-1e79-438e-8a4c-7bdf9bb852e0 .tooltip .xlink{font-size:.5em;text-decoration:underline}#chart-e61f2033-1e79-438e-8a4c-7bdf9bb852e0 .tooltip .value{font-size:1.5em}#chart-e61f2033-1e79-438e-8a4c-7bdf9bb852e0 .bound{font-size:.5em}#chart-e61f2033-1e79-438e-8a4c-7bdf9bb852e0 .max-value{font-size:.75em;fill:rgba(0,0,0,.54)}#chart-e61f2033-1e79-438e-8a4c-7bdf9bb852e0 .map-element{fill:rgba(255,255,255,1);stroke:rgba(0,0,0,.54) !important}#chart-e61f2033-1e79-438e-8a4c-7bdf9bb852e0 .map-element .reactive{fill-opacity:inherit;stroke-opacity:inherit}#chart-e61f2033-1e79-438e-8a4c-7bdf9bb852e0 .color-0,#chart-e61f2033-1e79-438e-8a4c-7bdf9bb852e0 .color-0 a:visited{stroke:#F44336;fill:#F44336}#chart-e61f2033-1e79-438e-8a4c-7bdf9bb852e0 .color-1,#chart-e61f2033-1e79-438e-8a4c-7bdf9bb852e0 .color-1 a:visited{stroke:#3F51B5;fill:#3F51B5}#chart-e61f2033-1e79-438e-8a4c-7bdf9bb852e0 .color-2,#chart-e61f2033-1e79-438e-8a4c-7bdf9bb852e0 .color-2 a:visited{stroke:#009688;fill:#009688}#chart-e61f2033-1e79-438e-8a4c-7bdf9bb852e0 .text-overlay .color-0 text{fill:black}#chart-e61f2033-1e79-438e-8a4c-7bdf9bb852e0 .text-overlay .color-1 text{fill:black}#chart-e61f2033-1e79-438e-8a4c-7bdf9bb852e0 .text-overlay .color-2 text{fill:black}\n",
       "#chart-e61f2033-1e79-438e-8a4c-7bdf9bb852e0 text.no_data{text-anchor:middle}#chart-e61f2033-1e79-438e-8a4c-7bdf9bb852e0 .guide.line{fill:none}#chart-e61f2033-1e79-438e-8a4c-7bdf9bb852e0 .centered{text-anchor:middle}#chart-e61f2033-1e79-438e-8a4c-7bdf9bb852e0 .title{text-anchor:middle}#chart-e61f2033-1e79-438e-8a4c-7bdf9bb852e0 .legends .legend text{fill-opacity:1}#chart-e61f2033-1e79-438e-8a4c-7bdf9bb852e0 .axis.x text{text-anchor:middle}#chart-e61f2033-1e79-438e-8a4c-7bdf9bb852e0 .axis.x:not(.web) text[transform]{text-anchor:start}#chart-e61f2033-1e79-438e-8a4c-7bdf9bb852e0 .axis.x:not(.web) text[transform].backwards{text-anchor:end}#chart-e61f2033-1e79-438e-8a4c-7bdf9bb852e0 .axis.y text{text-anchor:end}#chart-e61f2033-1e79-438e-8a4c-7bdf9bb852e0 .axis.y text[transform].backwards{text-anchor:start}#chart-e61f2033-1e79-438e-8a4c-7bdf9bb852e0 .axis.y2 text{text-anchor:start}#chart-e61f2033-1e79-438e-8a4c-7bdf9bb852e0 .axis.y2 text[transform].backwards{text-anchor:end}#chart-e61f2033-1e79-438e-8a4c-7bdf9bb852e0 .axis .guide.line{stroke-dasharray:4,4}#chart-e61f2033-1e79-438e-8a4c-7bdf9bb852e0 .axis .major.guide.line{stroke-dasharray:6,6}#chart-e61f2033-1e79-438e-8a4c-7bdf9bb852e0 .horizontal .axis.y .guide.line,#chart-e61f2033-1e79-438e-8a4c-7bdf9bb852e0 .horizontal .axis.y2 .guide.line,#chart-e61f2033-1e79-438e-8a4c-7bdf9bb852e0 .vertical .axis.x .guide.line{opacity:0}#chart-e61f2033-1e79-438e-8a4c-7bdf9bb852e0 .horizontal .axis.always_show .guide.line,#chart-e61f2033-1e79-438e-8a4c-7bdf9bb852e0 .vertical .axis.always_show .guide.line{opacity:1 !important}#chart-e61f2033-1e79-438e-8a4c-7bdf9bb852e0 .axis.y .guides:hover .guide.line,#chart-e61f2033-1e79-438e-8a4c-7bdf9bb852e0 .axis.y2 .guides:hover .guide.line,#chart-e61f2033-1e79-438e-8a4c-7bdf9bb852e0 .axis.x .guides:hover .guide.line{opacity:1}#chart-e61f2033-1e79-438e-8a4c-7bdf9bb852e0 .axis .guides:hover text{opacity:1}#chart-e61f2033-1e79-438e-8a4c-7bdf9bb852e0 .nofill{fill:none}#chart-e61f2033-1e79-438e-8a4c-7bdf9bb852e0 .subtle-fill{fill-opacity:.2}#chart-e61f2033-1e79-438e-8a4c-7bdf9bb852e0 .dot{stroke-width:1px;fill-opacity:1}#chart-e61f2033-1e79-438e-8a4c-7bdf9bb852e0 .dot.active{stroke-width:5px}#chart-e61f2033-1e79-438e-8a4c-7bdf9bb852e0 .dot.negative{fill:transparent}#chart-e61f2033-1e79-438e-8a4c-7bdf9bb852e0 text,#chart-e61f2033-1e79-438e-8a4c-7bdf9bb852e0 tspan{stroke:none !important}#chart-e61f2033-1e79-438e-8a4c-7bdf9bb852e0 .series text.active{opacity:1}#chart-e61f2033-1e79-438e-8a4c-7bdf9bb852e0 .tooltip rect{fill-opacity:.95;stroke-width:.5}#chart-e61f2033-1e79-438e-8a4c-7bdf9bb852e0 .tooltip text{fill-opacity:1}#chart-e61f2033-1e79-438e-8a4c-7bdf9bb852e0 .showable{visibility:hidden}#chart-e61f2033-1e79-438e-8a4c-7bdf9bb852e0 .showable.shown{visibility:visible}#chart-e61f2033-1e79-438e-8a4c-7bdf9bb852e0 .gauge-background{fill:rgba(229,229,229,1);stroke:none}#chart-e61f2033-1e79-438e-8a4c-7bdf9bb852e0 .bg-lines{stroke:rgba(249,249,249,1);stroke-width:2px}</style><script type=\"text/javascript\">window.pygal = window.pygal || {};window.pygal.config = window.pygal.config || {};window.pygal.config['e61f2033-1e79-438e-8a4c-7bdf9bb852e0'] = {\"allow_interruptions\": false, \"box_mode\": \"pstdev\", \"classes\": [\"pygal-chart\"], \"css\": [\"file://style.css\", \"file://graph.css\"], \"defs\": [], \"disable_xml_declaration\": false, \"dots_size\": 2.5, \"dynamic_print_values\": false, \"explicit_size\": true, \"fill\": false, \"force_uri_protocol\": \"https\", \"formatter\": null, \"half_pie\": false, \"height\": 360, \"include_x_axis\": false, \"inner_radius\": 0, \"interpolate\": null, \"interpolation_parameters\": {}, \"interpolation_precision\": 250, \"inverse_y_axis\": false, \"js\": [\"//kozea.github.io/pygal.js/2.0.x/pygal-tooltips.min.js\"], \"legend_at_bottom\": false, \"legend_at_bottom_columns\": null, \"legend_box_size\": 12, \"logarithmic\": false, \"margin\": 20, \"margin_bottom\": null, \"margin_left\": null, \"margin_right\": null, \"margin_top\": null, \"max_scale\": 16, \"min_scale\": 4, \"missing_value_fill_truncation\": \"x\", \"no_data_text\": \"No data\", \"no_prefix\": false, \"order_min\": null, \"pretty_print\": false, \"print_labels\": false, \"print_values\": false, \"print_values_position\": \"center\", \"print_zeroes\": true, \"range\": null, \"rounded_bars\": null, \"secondary_range\": null, \"show_dots\": true, \"show_legend\": true, \"show_minor_x_labels\": true, \"show_minor_y_labels\": true, \"show_only_major_dots\": false, \"show_x_guides\": false, \"show_x_labels\": true, \"show_y_guides\": true, \"show_y_labels\": true, \"spacing\": 10, \"stack_from_top\": false, \"strict\": false, \"stroke\": true, \"stroke_style\": null, \"style\": {\"background\": \"rgba(249, 249, 249, 1)\", \"ci_colors\": [], \"colors\": [\"#F44336\", \"#3F51B5\", \"#009688\", \"#FFC107\", \"#FF5722\", \"#9C27B0\", \"#03A9F4\", \"#8BC34A\", \"#FF9800\", \"#E91E63\", \"#2196F3\", \"#4CAF50\", \"#FFEB3B\", \"#673AB7\", \"#00BCD4\", \"#CDDC39\", \"#9E9E9E\", \"#607D8B\"], \"font_family\": \"Consolas, \\\"Liberation Mono\\\", Menlo, Courier, monospace\", \"foreground\": \"rgba(0, 0, 0, .87)\", \"foreground_strong\": \"rgba(0, 0, 0, 1)\", \"foreground_subtle\": \"rgba(0, 0, 0, .54)\", \"guide_stroke_dasharray\": \"4,4\", \"label_font_family\": \"Consolas, \\\"Liberation Mono\\\", Menlo, Courier, monospace\", \"label_font_size\": 10, \"legend_font_family\": \"Consolas, \\\"Liberation Mono\\\", Menlo, Courier, monospace\", \"legend_font_size\": 14, \"major_guide_stroke_dasharray\": \"6,6\", \"major_label_font_family\": \"Consolas, \\\"Liberation Mono\\\", Menlo, Courier, monospace\", \"major_label_font_size\": 10, \"no_data_font_family\": \"Consolas, \\\"Liberation Mono\\\", Menlo, Courier, monospace\", \"no_data_font_size\": 64, \"opacity\": \".7\", \"opacity_hover\": \".8\", \"plot_background\": \"rgba(255, 255, 255, 1)\", \"stroke_opacity\": \".8\", \"stroke_opacity_hover\": \".9\", \"title_font_family\": \"Consolas, \\\"Liberation Mono\\\", Menlo, Courier, monospace\", \"title_font_size\": 16, \"tooltip_font_family\": \"Consolas, \\\"Liberation Mono\\\", Menlo, Courier, monospace\", \"tooltip_font_size\": 14, \"transition\": \"150ms\", \"value_background\": \"rgba(229, 229, 229, 1)\", \"value_colors\": [], \"value_font_family\": \"Consolas, \\\"Liberation Mono\\\", Menlo, Courier, monospace\", \"value_font_size\": 16, \"value_label_font_family\": \"Consolas, \\\"Liberation Mono\\\", Menlo, Courier, monospace\", \"value_label_font_size\": 10}, \"title\": \"Social Media time\", \"tooltip_border_radius\": 0, \"tooltip_fancy_mode\": true, \"truncate_label\": null, \"truncate_legend\": null, \"width\": 640, \"x_label_rotation\": 0, \"x_labels\": null, \"x_labels_major\": null, \"x_labels_major_count\": null, \"x_labels_major_every\": null, \"x_title\": null, \"xrange\": null, \"y_label_rotation\": 0, \"y_labels\": null, \"y_labels_major\": null, \"y_labels_major_count\": null, \"y_labels_major_every\": null, \"y_title\": null, \"zero\": 0, \"legends\": [\"Facebook\", \"Instagram\", \"Twitter\"]}</script><script type=\"text/javascript\" xlink:href=\"https://kozea.github.io/pygal.js/2.0.x/pygal-tooltips.min.js\"/></defs><title>Social Media time</title><g class=\"graph box-graph vertical\"><rect class=\"background\" height=\"360\" width=\"640\" x=\"0\" y=\"0\"/><g class=\"plot\" transform=\"translate(145, 46)\"><rect class=\"background\" height=\"294\" width=\"474.4\" x=\"0\" y=\"0\"/><g class=\"axis y always_show\"><g class=\"guides\"><path class=\"axis major line\" d=\"M0.000000 288.346154 h474.400000\"/><text class=\"major\" x=\"-5\" y=\"291.84615384615387\">0</text><title>0</title></g><g class=\"guides\"><path class=\"guide line\" d=\"M0.000000 264.788462 h474.400000\"/><text class=\"\" x=\"-5\" y=\"268.28846153846155\">20</text><title>20</title></g><g class=\"guides\"><path class=\"guide line\" d=\"M0.000000 241.230769 h474.400000\"/><text class=\"\" x=\"-5\" y=\"244.73076923076923\">40</text><title>40</title></g><g class=\"guides\"><path class=\"guide line\" d=\"M0.000000 217.673077 h474.400000\"/><text class=\"\" x=\"-5\" y=\"221.17307692307693\">60</text><title>60</title></g><g class=\"guides\"><path class=\"guide line\" d=\"M0.000000 194.115385 h474.400000\"/><text class=\"\" x=\"-5\" y=\"197.61538461538464\">80</text><title>80</title></g><g class=\"guides\"><path class=\"major guide line\" d=\"M0.000000 170.557692 h474.400000\"/><text class=\"major\" x=\"-5\" y=\"174.05769230769232\">100</text><title>100</title></g><g class=\"guides\"><path class=\"guide line\" d=\"M0.000000 147.000000 h474.400000\"/><text class=\"\" x=\"-5\" y=\"150.50000000000003\">120</text><title>120</title></g><g class=\"guides\"><path class=\"guide line\" d=\"M0.000000 123.442308 h474.400000\"/><text class=\"\" x=\"-5\" y=\"126.94230769230768\">140</text><title>140</title></g><g class=\"guides\"><path class=\"guide line\" d=\"M0.000000 99.884615 h474.400000\"/><text class=\"\" x=\"-5\" y=\"103.38461538461539\">160</text><title>160</title></g><g class=\"guides\"><path class=\"guide line\" d=\"M0.000000 76.326923 h474.400000\"/><text class=\"\" x=\"-5\" y=\"79.82692307692307\">180</text><title>180</title></g><g class=\"guides\"><path class=\"major guide line\" d=\"M0.000000 52.769231 h474.400000\"/><text class=\"major\" x=\"-5\" y=\"56.269230769230774\">200</text><title>200</title></g><g class=\"guides\"><path class=\"guide line\" d=\"M0.000000 29.211538 h474.400000\"/><text class=\"\" x=\"-5\" y=\"32.71153846153851\">220</text><title>220</title></g><g class=\"guides\"><path class=\"guide line\" d=\"M0.000000 5.653846 h474.400000\"/><text class=\"\" x=\"-5\" y=\"9.153846153846189\">240</text><title>240</title></g></g><g class=\"series serie-0 color-0\"><g class=\"boxes\"><g class=\"box\"><path class=\"reactive tooltip-trigger\" d=\"M51.697436 280.100962 L118.600000 280.100962\" stroke-width=\"3\"/><path class=\"reactive tooltip-trigger\" d=\"M18.246154 257.721154 L152.051282 257.721154\" stroke-width=\"3\"/><path class=\"reactive tooltip-trigger\" d=\"M51.697436 235.341346 L118.600000 235.341346\" stroke-width=\"3\"/><path class=\"reactive tooltip-trigger\" d=\"M85.148718 280.100962 L85.148718 275.389423\" stroke-width=\"2\"/><path class=\"reactive tooltip-trigger\" d=\"M85.148718 235.341346 L85.148718 235.930288\" stroke-width=\"2\"/><rect class=\"subtle-fill reactive tooltip-trigger\" height=\"39.45913461538461\" width=\"133.80512820512817\" x=\"18.246153846153845\" y=\"235.93028846153848\"/><circle class=\"subtle-fill reactive tooltip-trigger\" cx=\"85.14871794871793\" cy=\"288.34615384615387\" r=\"3\"/><circle class=\"subtle-fill reactive tooltip-trigger\" cx=\"85.14871794871793\" cy=\"288.34615384615387\" r=\"3\"/><circle class=\"subtle-fill reactive tooltip-trigger\" cx=\"85.14871794871793\" cy=\"288.34615384615387\" r=\"3\"/><circle class=\"subtle-fill reactive tooltip-trigger\" cx=\"85.14871794871793\" cy=\"288.34615384615387\" r=\"3\"/><circle class=\"subtle-fill reactive tooltip-trigger\" cx=\"85.14871794871793\" cy=\"288.34615384615387\" r=\"3\"/><circle class=\"subtle-fill reactive tooltip-trigger\" cx=\"85.14871794871793\" cy=\"288.34615384615387\" r=\"3\"/><circle class=\"subtle-fill reactive tooltip-trigger\" cx=\"85.14871794871793\" cy=\"288.34615384615387\" r=\"3\"/><circle class=\"subtle-fill reactive tooltip-trigger\" cx=\"85.14871794871793\" cy=\"288.34615384615387\" r=\"3\"/><circle class=\"subtle-fill reactive tooltip-trigger\" cx=\"85.14871794871793\" cy=\"288.34615384615387\" r=\"3\"/><circle class=\"subtle-fill reactive tooltip-trigger\" cx=\"85.14871794871793\" cy=\"288.34615384615387\" r=\"3\"/><circle class=\"subtle-fill reactive tooltip-trigger\" cx=\"85.14871794871793\" cy=\"288.34615384615387\" r=\"3\"/><circle class=\"subtle-fill reactive tooltip-trigger\" cx=\"85.14871794871793\" cy=\"288.34615384615387\" r=\"3\"/><circle class=\"subtle-fill reactive tooltip-trigger\" cx=\"85.14871794871793\" cy=\"287.1682692307692\" r=\"3\"/><circle class=\"subtle-fill reactive tooltip-trigger\" cx=\"85.14871794871793\" cy=\"287.1682692307692\" r=\"3\"/><circle class=\"subtle-fill reactive tooltip-trigger\" cx=\"85.14871794871793\" cy=\"287.1682692307692\" r=\"3\"/><circle class=\"subtle-fill reactive tooltip-trigger\" cx=\"85.14871794871793\" cy=\"287.1682692307692\" r=\"3\"/><circle class=\"subtle-fill reactive tooltip-trigger\" cx=\"85.14871794871793\" cy=\"285.99038461538464\" r=\"3\"/><circle class=\"subtle-fill reactive tooltip-trigger\" cx=\"85.14871794871793\" cy=\"284.8125\" r=\"3\"/><circle class=\"subtle-fill reactive tooltip-trigger\" cx=\"85.14871794871793\" cy=\"284.8125\" r=\"3\"/><circle class=\"subtle-fill reactive tooltip-trigger\" cx=\"85.14871794871793\" cy=\"284.8125\" r=\"3\"/><circle class=\"subtle-fill reactive tooltip-trigger\" cx=\"85.14871794871793\" cy=\"284.8125\" r=\"3\"/><circle class=\"subtle-fill reactive tooltip-trigger\" cx=\"85.14871794871793\" cy=\"284.8125\" r=\"3\"/><circle class=\"subtle-fill reactive tooltip-trigger\" cx=\"85.14871794871793\" cy=\"283.63461538461536\" r=\"3\"/><circle class=\"subtle-fill reactive tooltip-trigger\" cx=\"85.14871794871793\" cy=\"283.63461538461536\" r=\"3\"/><circle class=\"subtle-fill reactive tooltip-trigger\" cx=\"85.14871794871793\" cy=\"282.4567307692308\" r=\"3\"/><circle class=\"subtle-fill reactive tooltip-trigger\" cx=\"85.14871794871793\" cy=\"282.4567307692308\" r=\"3\"/><circle class=\"subtle-fill reactive tooltip-trigger\" cx=\"85.14871794871793\" cy=\"282.4567307692308\" r=\"3\"/><circle class=\"subtle-fill reactive tooltip-trigger\" cx=\"85.14871794871793\" cy=\"282.4567307692308\" r=\"3\"/><circle class=\"subtle-fill reactive tooltip-trigger\" cx=\"85.14871794871793\" cy=\"281.27884615384613\" r=\"3\"/><circle class=\"subtle-fill reactive tooltip-trigger\" cx=\"85.14871794871793\" cy=\"281.27884615384613\" r=\"3\"/><circle class=\"subtle-fill reactive tooltip-trigger\" cx=\"85.14871794871793\" cy=\"281.27884615384613\" r=\"3\"/><circle class=\"subtle-fill reactive tooltip-trigger\" cx=\"85.14871794871793\" cy=\"281.27884615384613\" r=\"3\"/><circle class=\"subtle-fill reactive tooltip-trigger\" cx=\"85.14871794871793\" cy=\"281.27884615384613\" r=\"3\"/><circle class=\"subtle-fill reactive tooltip-trigger\" cx=\"85.14871794871793\" cy=\"281.27884615384613\" r=\"3\"/><circle class=\"subtle-fill reactive tooltip-trigger\" cx=\"85.14871794871793\" cy=\"234.16346153846155\" r=\"3\"/><circle class=\"subtle-fill reactive tooltip-trigger\" cx=\"85.14871794871793\" cy=\"232.98557692307693\" r=\"3\"/><circle class=\"subtle-fill reactive tooltip-trigger\" cx=\"85.14871794871793\" cy=\"232.98557692307693\" r=\"3\"/><circle class=\"subtle-fill reactive tooltip-trigger\" cx=\"85.14871794871793\" cy=\"231.80769230769232\" r=\"3\"/><circle class=\"subtle-fill reactive tooltip-trigger\" cx=\"85.14871794871793\" cy=\"230.6298076923077\" r=\"3\"/><circle class=\"subtle-fill reactive tooltip-trigger\" cx=\"85.14871794871793\" cy=\"229.4519230769231\" r=\"3\"/><circle class=\"subtle-fill reactive tooltip-trigger\" cx=\"85.14871794871793\" cy=\"229.4519230769231\" r=\"3\"/><circle class=\"subtle-fill reactive tooltip-trigger\" cx=\"85.14871794871793\" cy=\"229.4519230769231\" r=\"3\"/><circle class=\"subtle-fill reactive tooltip-trigger\" cx=\"85.14871794871793\" cy=\"228.27403846153845\" r=\"3\"/><circle class=\"subtle-fill reactive tooltip-trigger\" cx=\"85.14871794871793\" cy=\"228.27403846153845\" r=\"3\"/><circle class=\"subtle-fill reactive tooltip-trigger\" cx=\"85.14871794871793\" cy=\"228.27403846153845\" r=\"3\"/><circle class=\"subtle-fill reactive tooltip-trigger\" cx=\"85.14871794871793\" cy=\"228.27403846153845\" r=\"3\"/><circle class=\"subtle-fill reactive tooltip-trigger\" cx=\"85.14871794871793\" cy=\"228.27403846153845\" r=\"3\"/><circle class=\"subtle-fill reactive tooltip-trigger\" cx=\"85.14871794871793\" cy=\"228.27403846153845\" r=\"3\"/><circle class=\"subtle-fill reactive tooltip-trigger\" cx=\"85.14871794871793\" cy=\"228.27403846153845\" r=\"3\"/><circle class=\"subtle-fill reactive tooltip-trigger\" cx=\"85.14871794871793\" cy=\"228.27403846153845\" r=\"3\"/><circle class=\"subtle-fill reactive tooltip-trigger\" cx=\"85.14871794871793\" cy=\"228.27403846153845\" r=\"3\"/><circle class=\"subtle-fill reactive tooltip-trigger\" cx=\"85.14871794871793\" cy=\"227.09615384615387\" r=\"3\"/><circle class=\"subtle-fill reactive tooltip-trigger\" cx=\"85.14871794871793\" cy=\"227.09615384615387\" r=\"3\"/><circle class=\"subtle-fill reactive tooltip-trigger\" cx=\"85.14871794871793\" cy=\"225.91826923076923\" r=\"3\"/><circle class=\"subtle-fill reactive tooltip-trigger\" cx=\"85.14871794871793\" cy=\"224.7403846153846\" r=\"3\"/><circle class=\"subtle-fill reactive tooltip-trigger\" cx=\"85.14871794871793\" cy=\"224.7403846153846\" r=\"3\"/><circle class=\"subtle-fill reactive tooltip-trigger\" cx=\"85.14871794871793\" cy=\"224.7403846153846\" r=\"3\"/><circle class=\"subtle-fill reactive tooltip-trigger\" cx=\"85.14871794871793\" cy=\"223.5625\" r=\"3\"/><circle class=\"subtle-fill reactive tooltip-trigger\" cx=\"85.14871794871793\" cy=\"223.5625\" r=\"3\"/><circle class=\"subtle-fill reactive tooltip-trigger\" cx=\"85.14871794871793\" cy=\"223.5625\" r=\"3\"/><circle class=\"subtle-fill reactive tooltip-trigger\" cx=\"85.14871794871793\" cy=\"222.3846153846154\" r=\"3\"/><circle class=\"subtle-fill reactive tooltip-trigger\" cx=\"85.14871794871793\" cy=\"222.3846153846154\" r=\"3\"/><circle class=\"subtle-fill reactive tooltip-trigger\" cx=\"85.14871794871793\" cy=\"222.3846153846154\" r=\"3\"/><circle class=\"subtle-fill reactive tooltip-trigger\" cx=\"85.14871794871793\" cy=\"222.3846153846154\" r=\"3\"/><circle class=\"subtle-fill reactive tooltip-trigger\" cx=\"85.14871794871793\" cy=\"221.20673076923077\" r=\"3\"/><circle class=\"subtle-fill reactive tooltip-trigger\" cx=\"85.14871794871793\" cy=\"221.20673076923077\" r=\"3\"/><circle class=\"subtle-fill reactive tooltip-trigger\" cx=\"85.14871794871793\" cy=\"221.20673076923077\" r=\"3\"/><circle class=\"subtle-fill reactive tooltip-trigger\" cx=\"85.14871794871793\" cy=\"220.02884615384616\" r=\"3\"/><circle class=\"subtle-fill reactive tooltip-trigger\" cx=\"85.14871794871793\" cy=\"220.02884615384616\" r=\"3\"/><circle class=\"subtle-fill reactive tooltip-trigger\" cx=\"85.14871794871793\" cy=\"220.02884615384616\" r=\"3\"/><circle class=\"subtle-fill reactive tooltip-trigger\" cx=\"85.14871794871793\" cy=\"220.02884615384616\" r=\"3\"/><circle class=\"subtle-fill reactive tooltip-trigger\" cx=\"85.14871794871793\" cy=\"220.02884615384616\" r=\"3\"/><circle class=\"subtle-fill reactive tooltip-trigger\" cx=\"85.14871794871793\" cy=\"218.85096153846155\" r=\"3\"/><circle class=\"subtle-fill reactive tooltip-trigger\" cx=\"85.14871794871793\" cy=\"218.85096153846155\" r=\"3\"/><circle class=\"subtle-fill reactive tooltip-trigger\" cx=\"85.14871794871793\" cy=\"218.85096153846155\" r=\"3\"/><circle class=\"subtle-fill reactive tooltip-trigger\" cx=\"85.14871794871793\" cy=\"217.67307692307693\" r=\"3\"/><circle class=\"subtle-fill reactive tooltip-trigger\" cx=\"85.14871794871793\" cy=\"217.67307692307693\" r=\"3\"/><circle class=\"subtle-fill reactive tooltip-trigger\" cx=\"85.14871794871793\" cy=\"217.67307692307693\" r=\"3\"/><circle class=\"subtle-fill reactive tooltip-trigger\" cx=\"85.14871794871793\" cy=\"217.67307692307693\" r=\"3\"/><circle class=\"subtle-fill reactive tooltip-trigger\" cx=\"85.14871794871793\" cy=\"217.67307692307693\" r=\"3\"/><circle class=\"subtle-fill reactive tooltip-trigger\" cx=\"85.14871794871793\" cy=\"202.36057692307693\" r=\"3\"/><desc class=\"value\">Min: 0\n",
       "Lower Whisker: 7\n",
       "Q1: 11\n",
       "Q2: 26\n",
       "Q3: 44.5\n",
       "Upper Whisker: 45\n",
       "Max: 73</desc><desc class=\"x centered\">85.14871794871793</desc><desc class=\"y centered\">256.89663461538464</desc></g></g></g><g class=\"series serie-1 color-1\"><g class=\"boxes\"><g class=\"box\"><path class=\"reactive tooltip-trigger\" d=\"M203.748718 284.812500 L270.651282 284.812500\" stroke-width=\"3\"/><path class=\"reactive tooltip-trigger\" d=\"M170.297436 254.776442 L304.102564 254.776442\" stroke-width=\"3\"/><path class=\"reactive tooltip-trigger\" d=\"M203.748718 224.740385 L270.651282 224.740385\" stroke-width=\"3\"/><path class=\"reactive tooltip-trigger\" d=\"M237.200000 284.812500 L237.200000 271.855769\" stroke-width=\"2\"/><path class=\"reactive tooltip-trigger\" d=\"M237.200000 224.740385 L237.200000 235.341346\" stroke-width=\"2\"/><rect class=\"subtle-fill reactive tooltip-trigger\" height=\"36.514423076923066\" width=\"133.80512820512817\" x=\"170.29743589743586\" y=\"235.34134615384616\"/><circle class=\"subtle-fill reactive tooltip-trigger\" cx=\"237.19999999999993\" cy=\"288.34615384615387\" r=\"3\"/><circle class=\"subtle-fill reactive tooltip-trigger\" cx=\"237.19999999999993\" cy=\"288.34615384615387\" r=\"3\"/><circle class=\"subtle-fill reactive tooltip-trigger\" cx=\"237.19999999999993\" cy=\"288.34615384615387\" r=\"3\"/><circle class=\"subtle-fill reactive tooltip-trigger\" cx=\"237.19999999999993\" cy=\"288.34615384615387\" r=\"3\"/><circle class=\"subtle-fill reactive tooltip-trigger\" cx=\"237.19999999999993\" cy=\"288.34615384615387\" r=\"3\"/><circle class=\"subtle-fill reactive tooltip-trigger\" cx=\"237.19999999999993\" cy=\"287.1682692307692\" r=\"3\"/><circle class=\"subtle-fill reactive tooltip-trigger\" cx=\"237.19999999999993\" cy=\"287.1682692307692\" r=\"3\"/><circle class=\"subtle-fill reactive tooltip-trigger\" cx=\"237.19999999999993\" cy=\"285.99038461538464\" r=\"3\"/><circle class=\"subtle-fill reactive tooltip-trigger\" cx=\"237.19999999999993\" cy=\"285.99038461538464\" r=\"3\"/><circle class=\"subtle-fill reactive tooltip-trigger\" cx=\"237.19999999999993\" cy=\"285.99038461538464\" r=\"3\"/><circle class=\"subtle-fill reactive tooltip-trigger\" cx=\"237.19999999999993\" cy=\"285.99038461538464\" r=\"3\"/><circle class=\"subtle-fill reactive tooltip-trigger\" cx=\"237.19999999999993\" cy=\"223.5625\" r=\"3\"/><circle class=\"subtle-fill reactive tooltip-trigger\" cx=\"237.19999999999993\" cy=\"222.3846153846154\" r=\"3\"/><circle class=\"subtle-fill reactive tooltip-trigger\" cx=\"237.19999999999993\" cy=\"222.3846153846154\" r=\"3\"/><circle class=\"subtle-fill reactive tooltip-trigger\" cx=\"237.19999999999993\" cy=\"221.20673076923077\" r=\"3\"/><circle class=\"subtle-fill reactive tooltip-trigger\" cx=\"237.19999999999993\" cy=\"221.20673076923077\" r=\"3\"/><circle class=\"subtle-fill reactive tooltip-trigger\" cx=\"237.19999999999993\" cy=\"221.20673076923077\" r=\"3\"/><circle class=\"subtle-fill reactive tooltip-trigger\" cx=\"237.19999999999993\" cy=\"220.02884615384616\" r=\"3\"/><circle class=\"subtle-fill reactive tooltip-trigger\" cx=\"237.19999999999993\" cy=\"220.02884615384616\" r=\"3\"/><circle class=\"subtle-fill reactive tooltip-trigger\" cx=\"237.19999999999993\" cy=\"220.02884615384616\" r=\"3\"/><circle class=\"subtle-fill reactive tooltip-trigger\" cx=\"237.19999999999993\" cy=\"220.02884615384616\" r=\"3\"/><circle class=\"subtle-fill reactive tooltip-trigger\" cx=\"237.19999999999993\" cy=\"218.85096153846155\" r=\"3\"/><circle class=\"subtle-fill reactive tooltip-trigger\" cx=\"237.19999999999993\" cy=\"218.85096153846155\" r=\"3\"/><circle class=\"subtle-fill reactive tooltip-trigger\" cx=\"237.19999999999993\" cy=\"217.67307692307693\" r=\"3\"/><circle class=\"subtle-fill reactive tooltip-trigger\" cx=\"237.19999999999993\" cy=\"217.67307692307693\" r=\"3\"/><circle class=\"subtle-fill reactive tooltip-trigger\" cx=\"237.19999999999993\" cy=\"217.67307692307693\" r=\"3\"/><circle class=\"subtle-fill reactive tooltip-trigger\" cx=\"237.19999999999993\" cy=\"170.55769230769232\" r=\"3\"/><circle class=\"subtle-fill reactive tooltip-trigger\" cx=\"237.19999999999993\" cy=\"170.55769230769232\" r=\"3\"/><circle class=\"subtle-fill reactive tooltip-trigger\" cx=\"237.19999999999993\" cy=\"76.32692307692307\" r=\"3\"/><circle class=\"subtle-fill reactive tooltip-trigger\" cx=\"237.19999999999993\" cy=\"5.653846153846189\" r=\"3\"/><desc class=\"value\">Min: 0\n",
       "Lower Whisker: 3\n",
       "Q1: 14\n",
       "Q2: 28.5\n",
       "Q3: 45\n",
       "Upper Whisker: 54\n",
       "Max: 240</desc><desc class=\"x centered\">237.19999999999993</desc><desc class=\"y centered\">254.30528846153845</desc></g></g></g><g class=\"series serie-2 color-2\"><g class=\"boxes\"><g class=\"box\"><path class=\"reactive tooltip-trigger\" d=\"M355.800000 274.211538 L422.702564 274.211538\" stroke-width=\"3\"/><path class=\"reactive tooltip-trigger\" d=\"M322.348718 251.242788 L456.153846 251.242788\" stroke-width=\"3\"/><path class=\"reactive tooltip-trigger\" d=\"M355.800000 228.274038 L422.702564 228.274038\" stroke-width=\"3\"/><path class=\"reactive tooltip-trigger\" d=\"M389.251282 274.211538 L389.251282 272.444712\" stroke-width=\"2\"/><path class=\"reactive tooltip-trigger\" d=\"M389.251282 228.274038 L389.251282 232.985577\" stroke-width=\"2\"/><rect class=\"subtle-fill reactive tooltip-trigger\" height=\"39.45913461538461\" width=\"133.80512820512817\" x=\"322.3487179487178\" y=\"232.98557692307693\"/><circle class=\"subtle-fill reactive tooltip-trigger\" cx=\"389.2512820512819\" cy=\"288.34615384615387\" r=\"3\"/><circle class=\"subtle-fill reactive tooltip-trigger\" cx=\"389.2512820512819\" cy=\"288.34615384615387\" r=\"3\"/><circle class=\"subtle-fill reactive tooltip-trigger\" cx=\"389.2512820512819\" cy=\"288.34615384615387\" r=\"3\"/><circle class=\"subtle-fill reactive tooltip-trigger\" cx=\"389.2512820512819\" cy=\"287.1682692307692\" r=\"3\"/><circle class=\"subtle-fill reactive tooltip-trigger\" cx=\"389.2512820512819\" cy=\"287.1682692307692\" r=\"3\"/><circle class=\"subtle-fill reactive tooltip-trigger\" cx=\"389.2512820512819\" cy=\"287.1682692307692\" r=\"3\"/><circle class=\"subtle-fill reactive tooltip-trigger\" cx=\"389.2512820512819\" cy=\"287.1682692307692\" r=\"3\"/><circle class=\"subtle-fill reactive tooltip-trigger\" cx=\"389.2512820512819\" cy=\"287.1682692307692\" r=\"3\"/><circle class=\"subtle-fill reactive tooltip-trigger\" cx=\"389.2512820512819\" cy=\"285.99038461538464\" r=\"3\"/><circle class=\"subtle-fill reactive tooltip-trigger\" cx=\"389.2512820512819\" cy=\"285.99038461538464\" r=\"3\"/><circle class=\"subtle-fill reactive tooltip-trigger\" cx=\"389.2512820512819\" cy=\"285.99038461538464\" r=\"3\"/><circle class=\"subtle-fill reactive tooltip-trigger\" cx=\"389.2512820512819\" cy=\"285.99038461538464\" r=\"3\"/><circle class=\"subtle-fill reactive tooltip-trigger\" cx=\"389.2512820512819\" cy=\"285.99038461538464\" r=\"3\"/><circle class=\"subtle-fill reactive tooltip-trigger\" cx=\"389.2512820512819\" cy=\"285.99038461538464\" r=\"3\"/><circle class=\"subtle-fill reactive tooltip-trigger\" cx=\"389.2512820512819\" cy=\"284.8125\" r=\"3\"/><circle class=\"subtle-fill reactive tooltip-trigger\" cx=\"389.2512820512819\" cy=\"284.8125\" r=\"3\"/><circle class=\"subtle-fill reactive tooltip-trigger\" cx=\"389.2512820512819\" cy=\"284.8125\" r=\"3\"/><circle class=\"subtle-fill reactive tooltip-trigger\" cx=\"389.2512820512819\" cy=\"284.8125\" r=\"3\"/><circle class=\"subtle-fill reactive tooltip-trigger\" cx=\"389.2512820512819\" cy=\"284.8125\" r=\"3\"/><circle class=\"subtle-fill reactive tooltip-trigger\" cx=\"389.2512820512819\" cy=\"282.4567307692308\" r=\"3\"/><circle class=\"subtle-fill reactive tooltip-trigger\" cx=\"389.2512820512819\" cy=\"282.4567307692308\" r=\"3\"/><circle class=\"subtle-fill reactive tooltip-trigger\" cx=\"389.2512820512819\" cy=\"282.4567307692308\" r=\"3\"/><circle class=\"subtle-fill reactive tooltip-trigger\" cx=\"389.2512820512819\" cy=\"282.4567307692308\" r=\"3\"/><circle class=\"subtle-fill reactive tooltip-trigger\" cx=\"389.2512820512819\" cy=\"282.4567307692308\" r=\"3\"/><circle class=\"subtle-fill reactive tooltip-trigger\" cx=\"389.2512820512819\" cy=\"282.4567307692308\" r=\"3\"/><circle class=\"subtle-fill reactive tooltip-trigger\" cx=\"389.2512820512819\" cy=\"281.27884615384613\" r=\"3\"/><circle class=\"subtle-fill reactive tooltip-trigger\" cx=\"389.2512820512819\" cy=\"281.27884615384613\" r=\"3\"/><circle class=\"subtle-fill reactive tooltip-trigger\" cx=\"389.2512820512819\" cy=\"281.27884615384613\" r=\"3\"/><circle class=\"subtle-fill reactive tooltip-trigger\" cx=\"389.2512820512819\" cy=\"281.27884615384613\" r=\"3\"/><circle class=\"subtle-fill reactive tooltip-trigger\" cx=\"389.2512820512819\" cy=\"280.10096153846155\" r=\"3\"/><circle class=\"subtle-fill reactive tooltip-trigger\" cx=\"389.2512820512819\" cy=\"280.10096153846155\" r=\"3\"/><circle class=\"subtle-fill reactive tooltip-trigger\" cx=\"389.2512820512819\" cy=\"278.9230769230769\" r=\"3\"/><circle class=\"subtle-fill reactive tooltip-trigger\" cx=\"389.2512820512819\" cy=\"278.9230769230769\" r=\"3\"/><circle class=\"subtle-fill reactive tooltip-trigger\" cx=\"389.2512820512819\" cy=\"277.7451923076923\" r=\"3\"/><circle class=\"subtle-fill reactive tooltip-trigger\" cx=\"389.2512820512819\" cy=\"277.7451923076923\" r=\"3\"/><circle class=\"subtle-fill reactive tooltip-trigger\" cx=\"389.2512820512819\" cy=\"276.5673076923077\" r=\"3\"/><circle class=\"subtle-fill reactive tooltip-trigger\" cx=\"389.2512820512819\" cy=\"276.5673076923077\" r=\"3\"/><circle class=\"subtle-fill reactive tooltip-trigger\" cx=\"389.2512820512819\" cy=\"276.5673076923077\" r=\"3\"/><circle class=\"subtle-fill reactive tooltip-trigger\" cx=\"389.2512820512819\" cy=\"276.5673076923077\" r=\"3\"/><circle class=\"subtle-fill reactive tooltip-trigger\" cx=\"389.2512820512819\" cy=\"276.5673076923077\" r=\"3\"/><circle class=\"subtle-fill reactive tooltip-trigger\" cx=\"389.2512820512819\" cy=\"275.3894230769231\" r=\"3\"/><circle class=\"subtle-fill reactive tooltip-trigger\" cx=\"389.2512820512819\" cy=\"275.3894230769231\" r=\"3\"/><circle class=\"subtle-fill reactive tooltip-trigger\" cx=\"389.2512820512819\" cy=\"275.3894230769231\" r=\"3\"/><circle class=\"subtle-fill reactive tooltip-trigger\" cx=\"389.2512820512819\" cy=\"275.3894230769231\" r=\"3\"/><circle class=\"subtle-fill reactive tooltip-trigger\" cx=\"389.2512820512819\" cy=\"227.09615384615387\" r=\"3\"/><circle class=\"subtle-fill reactive tooltip-trigger\" cx=\"389.2512820512819\" cy=\"227.09615384615387\" r=\"3\"/><circle class=\"subtle-fill reactive tooltip-trigger\" cx=\"389.2512820512819\" cy=\"227.09615384615387\" r=\"3\"/><circle class=\"subtle-fill reactive tooltip-trigger\" cx=\"389.2512820512819\" cy=\"227.09615384615387\" r=\"3\"/><circle class=\"subtle-fill reactive tooltip-trigger\" cx=\"389.2512820512819\" cy=\"227.09615384615387\" r=\"3\"/><circle class=\"subtle-fill reactive tooltip-trigger\" cx=\"389.2512820512819\" cy=\"225.91826923076923\" r=\"3\"/><circle class=\"subtle-fill reactive tooltip-trigger\" cx=\"389.2512820512819\" cy=\"225.91826923076923\" r=\"3\"/><circle class=\"subtle-fill reactive tooltip-trigger\" cx=\"389.2512820512819\" cy=\"225.91826923076923\" r=\"3\"/><circle class=\"subtle-fill reactive tooltip-trigger\" cx=\"389.2512820512819\" cy=\"225.91826923076923\" r=\"3\"/><circle class=\"subtle-fill reactive tooltip-trigger\" cx=\"389.2512820512819\" cy=\"224.7403846153846\" r=\"3\"/><circle class=\"subtle-fill reactive tooltip-trigger\" cx=\"389.2512820512819\" cy=\"224.7403846153846\" r=\"3\"/><circle class=\"subtle-fill reactive tooltip-trigger\" cx=\"389.2512820512819\" cy=\"224.7403846153846\" r=\"3\"/><circle class=\"subtle-fill reactive tooltip-trigger\" cx=\"389.2512820512819\" cy=\"224.7403846153846\" r=\"3\"/><circle class=\"subtle-fill reactive tooltip-trigger\" cx=\"389.2512820512819\" cy=\"224.7403846153846\" r=\"3\"/><circle class=\"subtle-fill reactive tooltip-trigger\" cx=\"389.2512820512819\" cy=\"223.5625\" r=\"3\"/><circle class=\"subtle-fill reactive tooltip-trigger\" cx=\"389.2512820512819\" cy=\"223.5625\" r=\"3\"/><circle class=\"subtle-fill reactive tooltip-trigger\" cx=\"389.2512820512819\" cy=\"223.5625\" r=\"3\"/><circle class=\"subtle-fill reactive tooltip-trigger\" cx=\"389.2512820512819\" cy=\"223.5625\" r=\"3\"/><circle class=\"subtle-fill reactive tooltip-trigger\" cx=\"389.2512820512819\" cy=\"223.5625\" r=\"3\"/><circle class=\"subtle-fill reactive tooltip-trigger\" cx=\"389.2512820512819\" cy=\"223.5625\" r=\"3\"/><circle class=\"subtle-fill reactive tooltip-trigger\" cx=\"389.2512820512819\" cy=\"222.3846153846154\" r=\"3\"/><circle class=\"subtle-fill reactive tooltip-trigger\" cx=\"389.2512820512819\" cy=\"222.3846153846154\" r=\"3\"/><circle class=\"subtle-fill reactive tooltip-trigger\" cx=\"389.2512820512819\" cy=\"221.20673076923077\" r=\"3\"/><circle class=\"subtle-fill reactive tooltip-trigger\" cx=\"389.2512820512819\" cy=\"221.20673076923077\" r=\"3\"/><circle class=\"subtle-fill reactive tooltip-trigger\" cx=\"389.2512820512819\" cy=\"221.20673076923077\" r=\"3\"/><circle class=\"subtle-fill reactive tooltip-trigger\" cx=\"389.2512820512819\" cy=\"220.02884615384616\" r=\"3\"/><circle class=\"subtle-fill reactive tooltip-trigger\" cx=\"389.2512820512819\" cy=\"220.02884615384616\" r=\"3\"/><circle class=\"subtle-fill reactive tooltip-trigger\" cx=\"389.2512820512819\" cy=\"220.02884615384616\" r=\"3\"/><circle class=\"subtle-fill reactive tooltip-trigger\" cx=\"389.2512820512819\" cy=\"218.85096153846155\" r=\"3\"/><circle class=\"subtle-fill reactive tooltip-trigger\" cx=\"389.2512820512819\" cy=\"218.85096153846155\" r=\"3\"/><circle class=\"subtle-fill reactive tooltip-trigger\" cx=\"389.2512820512819\" cy=\"218.85096153846155\" r=\"3\"/><circle class=\"subtle-fill reactive tooltip-trigger\" cx=\"389.2512820512819\" cy=\"217.67307692307693\" r=\"3\"/><circle class=\"subtle-fill reactive tooltip-trigger\" cx=\"389.2512820512819\" cy=\"217.67307692307693\" r=\"3\"/><circle class=\"subtle-fill reactive tooltip-trigger\" cx=\"389.2512820512819\" cy=\"217.67307692307693\" r=\"3\"/><circle class=\"subtle-fill reactive tooltip-trigger\" cx=\"389.2512820512819\" cy=\"188.22596153846155\" r=\"3\"/><circle class=\"subtle-fill reactive tooltip-trigger\" cx=\"389.2512820512819\" cy=\"147.00000000000003\" r=\"3\"/><desc class=\"value\">Min: 0\n",
       "Lower Whisker: 12\n",
       "Q1: 13.5\n",
       "Q2: 31.5\n",
       "Q3: 47\n",
       "Upper Whisker: 51\n",
       "Max: 120</desc><desc class=\"x centered\">389.2512820512819</desc><desc class=\"y centered\">251.83173076923077</desc></g></g></g></g><g class=\"titles\"><text class=\"title plot_title\" x=\"320.0\" y=\"26\">Social Media time</text></g><g class=\"plot overlay\" transform=\"translate(145, 46)\"><g class=\"series serie-0 color-0\"/><g class=\"series serie-1 color-1\"/><g class=\"series serie-2 color-2\"/></g><g class=\"plot text-overlay\" transform=\"translate(145, 46)\"><g class=\"series serie-0 color-0\"/><g class=\"series serie-1 color-1\"/><g class=\"series serie-2 color-2\"/></g><g class=\"plot tooltip-overlay\" transform=\"translate(145, 46)\"><g class=\"tooltip\" style=\"opacity: 0\" transform=\"translate(0 0)\"><rect class=\"tooltip-box\" height=\"0\" rx=\"0\" ry=\"0\" width=\"0\"/><g class=\"text\"/></g></g><g class=\"legends\" transform=\"translate(10, 56)\"><g class=\"legend reactive activate-serie\" id=\"activate-serie-0\"><rect class=\"color-0 reactive\" height=\"12\" width=\"12\" x=\"0.0\" y=\"1.0\"/><text x=\"17.0\" y=\"11.2\">Facebook</text></g><g class=\"legend reactive activate-serie\" id=\"activate-serie-1\"><rect class=\"color-1 reactive\" height=\"12\" width=\"12\" x=\"0.0\" y=\"22.0\"/><text x=\"17.0\" y=\"32.2\">Instagram</text></g><g class=\"legend reactive activate-serie\" id=\"activate-serie-2\"><rect class=\"color-2 reactive\" height=\"12\" width=\"12\" x=\"0.0\" y=\"43.0\"/><text x=\"17.0\" y=\"53.2\">Twitter</text></g></g><g class=\"legends\" transform=\"translate(630, 56)\"/></g></svg>\n",
       "    </figure>\n",
       "  </body>\n",
       "</html>\n"
      ],
      "text/plain": [
       "<IPython.core.display.HTML object>"
      ]
     },
     "metadata": {},
     "output_type": "display_data"
    }
   ],
   "source": [
    "box_plot_psd.add('Facebook', social_media['facebook_time'])\n",
    "box_plot_psd.add('Instagram', social_media['instagram_time'])\n",
    "box_plot_psd.add('Twitter', social_media['twitter_time'])\n",
    "\n",
    "display_chart(box_plot_psd)"
   ]
  },
  {
   "cell_type": "markdown",
   "metadata": {},
   "source": [
    "The Plot is the same as above but the only difference is using \"**Population Standard Deviation**\"\n",
    "\n",
    "**Upper Whisker**  = Highest point that's within the \"**Q2 + Population Standard Deviation**\"\n",
    "\n",
    "**Lower Whisker**  = Lowest data point that's greater than \"**Q2 - Population Standard Deviation**\""
   ]
  },
  {
   "cell_type": "code",
   "execution_count": null,
   "metadata": {
    "collapsed": true
   },
   "outputs": [],
   "source": []
  }
 ],
 "metadata": {
  "kernelspec": {
   "display_name": "Python 3",
   "language": "python",
   "name": "python3"
  },
  "language_info": {
   "codemirror_mode": {
    "name": "ipython",
    "version": 3
   },
   "file_extension": ".py",
   "mimetype": "text/x-python",
   "name": "python",
   "nbconvert_exporter": "python",
   "pygments_lexer": "ipython3",
   "version": "3.6.3"
  }
 },
 "nbformat": 4,
 "nbformat_minor": 2
}
