{
 "cells": [
  {
   "cell_type": "markdown",
   "metadata": {},
   "source": [
    "### Gauge Chart\n",
    "\n",
    "##### Automobile dataset is used to demonstrate the use of gauge chart. \n",
    "\n",
    "Imagine that you want to buy a car and you have a list of cars with their features like horsepower, RPM and other things to decide. \n",
    "\n",
    "Visualize various features using the Gauge chart. At end, We will also use the Solid Gauge charts to visualize and compare the shortlisted cars."
   ]
  },
  {
   "cell_type": "code",
   "execution_count": 1,
   "metadata": {
    "collapsed": true
   },
   "outputs": [],
   "source": [
    "import pygal \n",
    "import pandas as pd"
   ]
  },
  {
   "cell_type": "markdown",
   "metadata": {},
   "source": [
    "###### Method to Display iteractive charts. "
   ]
  },
  {
   "cell_type": "code",
   "execution_count": 2,
   "metadata": {
    "collapsed": true
   },
   "outputs": [],
   "source": [
    "from IPython.display import display, HTML\n",
    "\n",
    "html_skeleton = \"\"\"\n",
    "<!DOCTYPE html>\n",
    "<html>\n",
    "  <head>\n",
    "  <script type=\"text/javascript\" \n",
    "          src=\"http://kozea.github.com/pygal.js/javascripts/svg.jquery.js\">\n",
    "  </script>\n",
    "  <script type=\"text/javascript\" \n",
    "          src=\"https://kozea.github.io/pygal.js/2.0.x/pygal-tooltips.min.js\"\">\n",
    "  </script>\n",
    "  </head>\n",
    "  <body>\n",
    "    <figure>\n",
    "      {rendered_chart}\n",
    "    </figure>\n",
    "  </body>\n",
    "</html>\n",
    "\"\"\"\n",
    "\n",
    "def display_chart(chart):\n",
    "    rendered_chart = chart.render(is_unicode=True)\n",
    "    plot_html = html_skeleton.format(rendered_chart=rendered_chart)\n",
    "    display(HTML(plot_html))"
   ]
  },
  {
   "cell_type": "markdown",
   "metadata": {},
   "source": [
    "#### Use some in-memory values to create a RPM meter using Gauge. "
   ]
  },
  {
   "cell_type": "code",
   "execution_count": 3,
   "metadata": {
    "collapsed": true
   },
   "outputs": [],
   "source": [
    "gauge_chart = pygal.Gauge(width = 640,\n",
    "                          height = 360,\n",
    "                          explicit_size = True)"
   ]
  },
  {
   "cell_type": "markdown",
   "metadata": {},
   "source": [
    "#### Generate the gauge chart\n",
    "The values increase in an anti-clockwise manner. Pygal currently does not support a clockwise gauge"
   ]
  },
  {
   "cell_type": "code",
   "execution_count": 4,
   "metadata": {},
   "outputs": [
    {
     "data": {
      "text/html": [
       "\n",
       "<!DOCTYPE html>\n",
       "<html>\n",
       "  <head>\n",
       "  <script type=\"text/javascript\" \n",
       "          src=\"http://kozea.github.com/pygal.js/javascripts/svg.jquery.js\">\n",
       "  </script>\n",
       "  <script type=\"text/javascript\" \n",
       "          src=\"https://kozea.github.io/pygal.js/2.0.x/pygal-tooltips.min.js\"\">\n",
       "  </script>\n",
       "  </head>\n",
       "  <body>\n",
       "    <figure>\n",
       "      <?xml version='1.0' encoding='utf-8'?>\n",
       "<svg xmlns:xlink=\"http://www.w3.org/1999/xlink\" xmlns=\"http://www.w3.org/2000/svg\" id=\"chart-939becf0-d48d-4521-9213-810d18a08f8b\" class=\"pygal-chart\" viewBox=\"0 0 640 360\" width=\"640\" height=\"360\"><!--Generated with pygal 2.4.0 (lxml) ©Kozea 2012-2016 on 2019-02-05--><!--http://pygal.org--><!--http://github.com/Kozea/pygal--><defs><style type=\"text/css\">#chart-939becf0-d48d-4521-9213-810d18a08f8b{-webkit-user-select:none;-webkit-font-smoothing:antialiased;font-family:Consolas,\"Liberation Mono\",Menlo,Courier,monospace}#chart-939becf0-d48d-4521-9213-810d18a08f8b .title{font-family:Consolas,\"Liberation Mono\",Menlo,Courier,monospace;font-size:16px}#chart-939becf0-d48d-4521-9213-810d18a08f8b .legends .legend text{font-family:Consolas,\"Liberation Mono\",Menlo,Courier,monospace;font-size:14px}#chart-939becf0-d48d-4521-9213-810d18a08f8b .axis text{font-family:Consolas,\"Liberation Mono\",Menlo,Courier,monospace;font-size:10px}#chart-939becf0-d48d-4521-9213-810d18a08f8b .axis text.major{font-family:Consolas,\"Liberation Mono\",Menlo,Courier,monospace;font-size:10px}#chart-939becf0-d48d-4521-9213-810d18a08f8b .text-overlay text.value{font-family:Consolas,\"Liberation Mono\",Menlo,Courier,monospace;font-size:16px}#chart-939becf0-d48d-4521-9213-810d18a08f8b .text-overlay text.label{font-family:Consolas,\"Liberation Mono\",Menlo,Courier,monospace;font-size:10px}#chart-939becf0-d48d-4521-9213-810d18a08f8b .tooltip{font-family:Consolas,\"Liberation Mono\",Menlo,Courier,monospace;font-size:14px}#chart-939becf0-d48d-4521-9213-810d18a08f8b text.no_data{font-family:Consolas,\"Liberation Mono\",Menlo,Courier,monospace;font-size:64px}\n",
       "#chart-939becf0-d48d-4521-9213-810d18a08f8b{background-color:rgba(249,249,249,1)}#chart-939becf0-d48d-4521-9213-810d18a08f8b path,#chart-939becf0-d48d-4521-9213-810d18a08f8b line,#chart-939becf0-d48d-4521-9213-810d18a08f8b rect,#chart-939becf0-d48d-4521-9213-810d18a08f8b circle{-webkit-transition:150ms;-moz-transition:150ms;transition:150ms}#chart-939becf0-d48d-4521-9213-810d18a08f8b .graph &gt; .background{fill:rgba(249,249,249,1)}#chart-939becf0-d48d-4521-9213-810d18a08f8b .plot &gt; .background{fill:rgba(255,255,255,1)}#chart-939becf0-d48d-4521-9213-810d18a08f8b .graph{fill:rgba(0,0,0,.87)}#chart-939becf0-d48d-4521-9213-810d18a08f8b text.no_data{fill:rgba(0,0,0,1)}#chart-939becf0-d48d-4521-9213-810d18a08f8b .title{fill:rgba(0,0,0,1)}#chart-939becf0-d48d-4521-9213-810d18a08f8b .legends .legend text{fill:rgba(0,0,0,.87)}#chart-939becf0-d48d-4521-9213-810d18a08f8b .legends .legend:hover text{fill:rgba(0,0,0,1)}#chart-939becf0-d48d-4521-9213-810d18a08f8b .axis .line{stroke:rgba(0,0,0,1)}#chart-939becf0-d48d-4521-9213-810d18a08f8b .axis .guide.line{stroke:rgba(0,0,0,.54)}#chart-939becf0-d48d-4521-9213-810d18a08f8b .axis .major.line{stroke:rgba(0,0,0,.87)}#chart-939becf0-d48d-4521-9213-810d18a08f8b .axis text.major{fill:rgba(0,0,0,1)}#chart-939becf0-d48d-4521-9213-810d18a08f8b .axis.y .guides:hover .guide.line,#chart-939becf0-d48d-4521-9213-810d18a08f8b .line-graph .axis.x .guides:hover .guide.line,#chart-939becf0-d48d-4521-9213-810d18a08f8b .stackedline-graph .axis.x .guides:hover .guide.line,#chart-939becf0-d48d-4521-9213-810d18a08f8b .xy-graph .axis.x .guides:hover .guide.line{stroke:rgba(0,0,0,1)}#chart-939becf0-d48d-4521-9213-810d18a08f8b .axis .guides:hover text{fill:rgba(0,0,0,1)}#chart-939becf0-d48d-4521-9213-810d18a08f8b .reactive{fill-opacity:.7;stroke-opacity:.8}#chart-939becf0-d48d-4521-9213-810d18a08f8b .ci{stroke:rgba(0,0,0,.87)}#chart-939becf0-d48d-4521-9213-810d18a08f8b .reactive.active,#chart-939becf0-d48d-4521-9213-810d18a08f8b .active .reactive{fill-opacity:.8;stroke-opacity:.9;stroke-width:4}#chart-939becf0-d48d-4521-9213-810d18a08f8b .ci .reactive.active{stroke-width:1.5}#chart-939becf0-d48d-4521-9213-810d18a08f8b .series text{fill:rgba(0,0,0,1)}#chart-939becf0-d48d-4521-9213-810d18a08f8b .tooltip rect{fill:rgba(255,255,255,1);stroke:rgba(0,0,0,1);-webkit-transition:opacity 150ms;-moz-transition:opacity 150ms;transition:opacity 150ms}#chart-939becf0-d48d-4521-9213-810d18a08f8b .tooltip .label{fill:rgba(0,0,0,.87)}#chart-939becf0-d48d-4521-9213-810d18a08f8b .tooltip .label{fill:rgba(0,0,0,.87)}#chart-939becf0-d48d-4521-9213-810d18a08f8b .tooltip .legend{font-size:.8em;fill:rgba(0,0,0,.54)}#chart-939becf0-d48d-4521-9213-810d18a08f8b .tooltip .x_label{font-size:.6em;fill:rgba(0,0,0,1)}#chart-939becf0-d48d-4521-9213-810d18a08f8b .tooltip .xlink{font-size:.5em;text-decoration:underline}#chart-939becf0-d48d-4521-9213-810d18a08f8b .tooltip .value{font-size:1.5em}#chart-939becf0-d48d-4521-9213-810d18a08f8b .bound{font-size:.5em}#chart-939becf0-d48d-4521-9213-810d18a08f8b .max-value{font-size:.75em;fill:rgba(0,0,0,.54)}#chart-939becf0-d48d-4521-9213-810d18a08f8b .map-element{fill:rgba(255,255,255,1);stroke:rgba(0,0,0,.54) !important}#chart-939becf0-d48d-4521-9213-810d18a08f8b .map-element .reactive{fill-opacity:inherit;stroke-opacity:inherit}#chart-939becf0-d48d-4521-9213-810d18a08f8b .color-0,#chart-939becf0-d48d-4521-9213-810d18a08f8b .color-0 a:visited{stroke:#F44336;fill:#F44336}#chart-939becf0-d48d-4521-9213-810d18a08f8b .text-overlay .color-0 text{fill:black}\n",
       "#chart-939becf0-d48d-4521-9213-810d18a08f8b text.no_data{text-anchor:middle}#chart-939becf0-d48d-4521-9213-810d18a08f8b .guide.line{fill:none}#chart-939becf0-d48d-4521-9213-810d18a08f8b .centered{text-anchor:middle}#chart-939becf0-d48d-4521-9213-810d18a08f8b .title{text-anchor:middle}#chart-939becf0-d48d-4521-9213-810d18a08f8b .legends .legend text{fill-opacity:1}#chart-939becf0-d48d-4521-9213-810d18a08f8b .axis.x text{text-anchor:middle}#chart-939becf0-d48d-4521-9213-810d18a08f8b .axis.x:not(.web) text[transform]{text-anchor:start}#chart-939becf0-d48d-4521-9213-810d18a08f8b .axis.x:not(.web) text[transform].backwards{text-anchor:end}#chart-939becf0-d48d-4521-9213-810d18a08f8b .axis.y text{text-anchor:end}#chart-939becf0-d48d-4521-9213-810d18a08f8b .axis.y text[transform].backwards{text-anchor:start}#chart-939becf0-d48d-4521-9213-810d18a08f8b .axis.y2 text{text-anchor:start}#chart-939becf0-d48d-4521-9213-810d18a08f8b .axis.y2 text[transform].backwards{text-anchor:end}#chart-939becf0-d48d-4521-9213-810d18a08f8b .axis .guide.line{stroke-dasharray:4,4}#chart-939becf0-d48d-4521-9213-810d18a08f8b .axis .major.guide.line{stroke-dasharray:6,6}#chart-939becf0-d48d-4521-9213-810d18a08f8b .horizontal .axis.y .guide.line,#chart-939becf0-d48d-4521-9213-810d18a08f8b .horizontal .axis.y2 .guide.line,#chart-939becf0-d48d-4521-9213-810d18a08f8b .vertical .axis.x .guide.line{opacity:0}#chart-939becf0-d48d-4521-9213-810d18a08f8b .horizontal .axis.always_show .guide.line,#chart-939becf0-d48d-4521-9213-810d18a08f8b .vertical .axis.always_show .guide.line{opacity:1 !important}#chart-939becf0-d48d-4521-9213-810d18a08f8b .axis.y .guides:hover .guide.line,#chart-939becf0-d48d-4521-9213-810d18a08f8b .axis.y2 .guides:hover .guide.line,#chart-939becf0-d48d-4521-9213-810d18a08f8b .axis.x .guides:hover .guide.line{opacity:1}#chart-939becf0-d48d-4521-9213-810d18a08f8b .axis .guides:hover text{opacity:1}#chart-939becf0-d48d-4521-9213-810d18a08f8b .nofill{fill:none}#chart-939becf0-d48d-4521-9213-810d18a08f8b .subtle-fill{fill-opacity:.2}#chart-939becf0-d48d-4521-9213-810d18a08f8b .dot{stroke-width:1px;fill-opacity:1}#chart-939becf0-d48d-4521-9213-810d18a08f8b .dot.active{stroke-width:5px}#chart-939becf0-d48d-4521-9213-810d18a08f8b .dot.negative{fill:transparent}#chart-939becf0-d48d-4521-9213-810d18a08f8b text,#chart-939becf0-d48d-4521-9213-810d18a08f8b tspan{stroke:none !important}#chart-939becf0-d48d-4521-9213-810d18a08f8b .series text.active{opacity:1}#chart-939becf0-d48d-4521-9213-810d18a08f8b .tooltip rect{fill-opacity:.95;stroke-width:.5}#chart-939becf0-d48d-4521-9213-810d18a08f8b .tooltip text{fill-opacity:1}#chart-939becf0-d48d-4521-9213-810d18a08f8b .showable{visibility:hidden}#chart-939becf0-d48d-4521-9213-810d18a08f8b .showable.shown{visibility:visible}#chart-939becf0-d48d-4521-9213-810d18a08f8b .gauge-background{fill:rgba(229,229,229,1);stroke:none}#chart-939becf0-d48d-4521-9213-810d18a08f8b .bg-lines{stroke:rgba(249,249,249,1);stroke-width:2px}</style><script type=\"text/javascript\">window.pygal = window.pygal || {};window.pygal.config = window.pygal.config || {};window.pygal.config['939becf0-d48d-4521-9213-810d18a08f8b'] = {\"allow_interruptions\": false, \"box_mode\": \"extremes\", \"classes\": [\"pygal-chart\"], \"css\": [\"file://style.css\", \"file://graph.css\"], \"defs\": [], \"disable_xml_declaration\": false, \"dots_size\": 2.5, \"dynamic_print_values\": false, \"explicit_size\": true, \"fill\": false, \"force_uri_protocol\": \"https\", \"formatter\": null, \"half_pie\": false, \"height\": 360, \"include_x_axis\": false, \"inner_radius\": 0, \"interpolate\": null, \"interpolation_parameters\": {}, \"interpolation_precision\": 250, \"inverse_y_axis\": false, \"js\": [\"//kozea.github.io/pygal.js/2.0.x/pygal-tooltips.min.js\"], \"legend_at_bottom\": false, \"legend_at_bottom_columns\": null, \"legend_box_size\": 12, \"logarithmic\": false, \"margin\": 20, \"margin_bottom\": null, \"margin_left\": null, \"margin_right\": null, \"margin_top\": null, \"max_scale\": 16, \"min_scale\": 4, \"missing_value_fill_truncation\": \"x\", \"no_data_text\": \"No data\", \"no_prefix\": false, \"order_min\": null, \"pretty_print\": false, \"print_labels\": false, \"print_values\": false, \"print_values_position\": \"center\", \"print_zeroes\": true, \"range\": [-40, 120], \"rounded_bars\": null, \"secondary_range\": null, \"show_dots\": true, \"show_legend\": true, \"show_minor_x_labels\": true, \"show_minor_y_labels\": true, \"show_only_major_dots\": false, \"show_x_guides\": false, \"show_x_labels\": true, \"show_y_guides\": true, \"show_y_labels\": true, \"spacing\": 10, \"stack_from_top\": false, \"strict\": false, \"stroke\": true, \"stroke_style\": null, \"style\": {\"background\": \"rgba(249, 249, 249, 1)\", \"ci_colors\": [], \"colors\": [\"#F44336\", \"#3F51B5\", \"#009688\", \"#FFC107\", \"#FF5722\", \"#9C27B0\", \"#03A9F4\", \"#8BC34A\", \"#FF9800\", \"#E91E63\", \"#2196F3\", \"#4CAF50\", \"#FFEB3B\", \"#673AB7\", \"#00BCD4\", \"#CDDC39\", \"#9E9E9E\", \"#607D8B\"], \"font_family\": \"Consolas, \\\"Liberation Mono\\\", Menlo, Courier, monospace\", \"foreground\": \"rgba(0, 0, 0, .87)\", \"foreground_strong\": \"rgba(0, 0, 0, 1)\", \"foreground_subtle\": \"rgba(0, 0, 0, .54)\", \"guide_stroke_dasharray\": \"4,4\", \"label_font_family\": \"Consolas, \\\"Liberation Mono\\\", Menlo, Courier, monospace\", \"label_font_size\": 10, \"legend_font_family\": \"Consolas, \\\"Liberation Mono\\\", Menlo, Courier, monospace\", \"legend_font_size\": 14, \"major_guide_stroke_dasharray\": \"6,6\", \"major_label_font_family\": \"Consolas, \\\"Liberation Mono\\\", Menlo, Courier, monospace\", \"major_label_font_size\": 10, \"no_data_font_family\": \"Consolas, \\\"Liberation Mono\\\", Menlo, Courier, monospace\", \"no_data_font_size\": 64, \"opacity\": \".7\", \"opacity_hover\": \".8\", \"plot_background\": \"rgba(255, 255, 255, 1)\", \"stroke_opacity\": \".8\", \"stroke_opacity_hover\": \".9\", \"title_font_family\": \"Consolas, \\\"Liberation Mono\\\", Menlo, Courier, monospace\", \"title_font_size\": 16, \"tooltip_font_family\": \"Consolas, \\\"Liberation Mono\\\", Menlo, Courier, monospace\", \"tooltip_font_size\": 14, \"transition\": \"150ms\", \"value_background\": \"rgba(229, 229, 229, 1)\", \"value_colors\": [], \"value_font_family\": \"Consolas, \\\"Liberation Mono\\\", Menlo, Courier, monospace\", \"value_font_size\": 16, \"value_label_font_family\": \"Consolas, \\\"Liberation Mono\\\", Menlo, Courier, monospace\", \"value_label_font_size\": 10}, \"title\": \"Temperature Gauge\", \"tooltip_border_radius\": 0, \"tooltip_fancy_mode\": true, \"truncate_label\": null, \"truncate_legend\": null, \"width\": 640, \"x_label_rotation\": 0, \"x_labels\": null, \"x_labels_major\": null, \"x_labels_major_count\": null, \"x_labels_major_every\": null, \"x_title\": null, \"xrange\": null, \"y_label_rotation\": 0, \"y_labels\": null, \"y_labels_major\": null, \"y_labels_major_count\": null, \"y_labels_major_every\": null, \"y_title\": null, \"zero\": 0, \"legends\": [\"Temperature (F)\"]}</script><script type=\"text/javascript\" xlink:href=\"https://kozea.github.io/pygal.js/2.0.x/pygal-tooltips.min.js\"/></defs><title>Temperature Gauge</title><g class=\"graph gauge-graph vertical\"><rect class=\"background\" height=\"360\" width=\"640\" x=\"0\" y=\"0\"/><g class=\"plot\" transform=\"translate(196, 46)\"><rect class=\"background\" height=\"294\" width=\"424.0\" x=\"0\" y=\"0\"/><g class=\"axis x gauge\"><g class=\"guides\"><path class=\"line\" d=\"M308.826923 263.288892 L313.923077 269.409360 Z\"/><path class=\"guide line major\" d=\"M212.000000 147.000000 L308.826923 263.288892 Z\"/><text x=\"303.7307692307692\" y=\"257.1684239621935\">-40</text><title>-40</title></g><g class=\"guides\"><path class=\"line\" d=\"M357.596670 235.536195 L365.259653 240.195995 Z\"/><path class=\"guide line \" d=\"M212.000000 147.000000 L357.596670 235.536195 Z\"/><text x=\"349.93368775672013\" y=\"230.87639551705684\">-30</text><title>-30</title></g><g class=\"guides\"><path class=\"line\" d=\"M390.912825 198.386290 L400.329289 201.090831 Z\"/><path class=\"guide line \" d=\"M212.000000 147.000000 L390.912825 198.386290 Z\"/><text x=\"381.49636038764766\" y=\"195.68174817490515\">-20</text><title>-20</title></g><g class=\"guides\"><path class=\"line\" d=\"M405.239218 155.782257 L415.409704 156.244481 Z\"/><path class=\"guide line \" d=\"M212.000000 147.000000 L405.239218 155.782257 Z\"/><text x=\"395.0687332249284\" y=\"155.3200326895653\">-10</text><title>-10</title></g><g class=\"guides\"><path class=\"line\" d=\"M399.055251 112.246077 L408.900265 110.416923 Z\"/><path class=\"guide line \" d=\"M212.000000 147.000000 L399.055251 112.246077 Z\"/><text x=\"389.21023813072526\" y=\"114.07523108936195\">0</text><title>0</title></g><g class=\"guides\"><path class=\"line\" d=\"M373.017288 72.398670 L381.491883 68.472284 Z\"/><path class=\"guide line \" d=\"M212.000000 147.000000 L373.017288 72.398670 Z\"/><text x=\"364.542694257044\" y=\"76.32505593414106\">10</text><title>10</title></g><g class=\"guides\"><path class=\"line\" d=\"M329.888992 40.469429 L336.093676 34.862557 Z\"/><path class=\"guide line \" d=\"M212.000000 147.000000 L329.888992 40.469429 Z\"/><text x=\"323.6843083219846\" y=\"46.076301037951566\">20</text><title>20</title></g><g class=\"guides\"><path class=\"line\" d=\"M274.247989 19.847315 L277.524199 13.155068 Z\"/><path class=\"guide line \" d=\"M212.000000 147.000000 L274.247989 19.847315 Z\"/><text x=\"270.9717788267724\" y=\"26.53956141134381\">30</text><title>30</title></g><g class=\"guides\"><path class=\"line\" d=\"M212.000000 12.721154 L212.000000 5.653846 Z\"/><path class=\"guide line \" d=\"M212.000000 147.000000 L212.000000 12.721154 Z\"/><text x=\"212.00000000000003\" y=\"19.788461538461547\">40</text><title>40</title></g><g class=\"guides\"><path class=\"line\" d=\"M149.752011 19.847315 L146.475801 13.155068 Z\"/><path class=\"guide line \" d=\"M212.000000 147.000000 L149.752011 19.847315 Z\"/><text x=\"153.0282211732277\" y=\"26.53956141134381\">50</text><title>50</title></g><g class=\"guides\"><path class=\"line\" d=\"M94.111008 40.469429 L87.906324 34.862557 Z\"/><path class=\"guide line \" d=\"M212.000000 147.000000 L94.111008 40.469429 Z\"/><text x=\"100.31569167801553\" y=\"46.07630103795151\">60</text><title>60</title></g><g class=\"guides\"><path class=\"line\" d=\"M50.982712 72.398670 L42.508117 68.472284 Z\"/><path class=\"guide line \" d=\"M212.000000 147.000000 L50.982712 72.398670 Z\"/><text x=\"59.45730574295614\" y=\"76.32505593414098\">70</text><title>70</title></g><g class=\"guides\"><path class=\"line\" d=\"M24.944749 112.246077 L15.099735 110.416923 Z\"/><path class=\"guide line \" d=\"M212.000000 147.000000 L24.944749 112.246077 Z\"/><text x=\"34.78976186927477\" y=\"114.07523108936203\">80</text><title>80</title></g><g class=\"guides\"><path class=\"line\" d=\"M18.760782 155.782257 L8.590296 156.244481 Z\"/><path class=\"guide line \" d=\"M212.000000 147.000000 L18.760782 155.782257 Z\"/><text x=\"28.931266775071602\" y=\"155.32003268956532\">90</text><title>90</title></g><g class=\"guides\"><path class=\"line\" d=\"M33.087175 198.386290 L23.670711 201.090831 Z\"/><path class=\"guide line \" d=\"M212.000000 147.000000 L33.087175 198.386290 Z\"/><text x=\"42.50363961235241\" y=\"195.68174817490518\">100</text><title>100</title></g><g class=\"guides\"><path class=\"line\" d=\"M66.403330 235.536195 L58.740347 240.195995 Z\"/><path class=\"guide line \" d=\"M212.000000 147.000000 L66.403330 235.536195 Z\"/><text x=\"74.06631224327994\" y=\"230.87639551705684\">110</text><title>110</title></g><g class=\"guides\"><path class=\"line\" d=\"M115.173077 263.288892 L110.076923 269.409360 Z\"/><path class=\"guide line major\" d=\"M212.000000 147.000000 L115.173077 263.288892 Z\"/><text x=\"120.2692307692308\" y=\"257.1684239621935\">120</text><title>120</title></g></g><g class=\"axis y gauge\"><circle cx=\"212.0\" cy=\"147.0\" r=\"4\"/></g><g class=\"series serie-0 color-0\"><g class=\"dots\"><path class=\"line reactive tooltip-trigger\" d=\"M 51.920104 101.022793 L 213.416887 140.001314 A 0.050000 0.050000 1 0 1 205.864820 152.643525 Z\"/><desc class=\"value\">76</desc><desc class=\"x \">70.75303301029358</desc><desc class=\"y \">106.43187652091243</desc></g></g></g><g class=\"titles\"><text class=\"title plot_title\" x=\"320.0\" y=\"26\">Temperature Gauge</text></g><g class=\"plot overlay\" transform=\"translate(196, 46)\"><g class=\"series serie-0 color-0\"/></g><g class=\"plot text-overlay\" transform=\"translate(196, 46)\"><g class=\"series serie-0 color-0\"/></g><g class=\"plot tooltip-overlay\" transform=\"translate(196, 46)\"><g class=\"tooltip\" style=\"opacity: 0\" transform=\"translate(0 0)\"><rect class=\"tooltip-box\" height=\"0\" rx=\"0\" ry=\"0\" width=\"0\"/><g class=\"text\"/></g></g><g class=\"legends\" transform=\"translate(10, 56)\"><g class=\"legend reactive activate-serie\" id=\"activate-serie-0\"><rect class=\"color-0 reactive\" height=\"12\" width=\"12\" x=\"0.0\" y=\"1.0\"/><text x=\"17.0\" y=\"11.2\">Temperature (F)</text></g></g><g class=\"legends\" transform=\"translate(630, 56)\"/></g></svg>\n",
       "    </figure>\n",
       "  </body>\n",
       "</html>\n"
      ],
      "text/plain": [
       "<IPython.core.display.HTML object>"
      ]
     },
     "metadata": {},
     "output_type": "display_data"
    }
   ],
   "source": [
    "gauge_chart.title = 'Temperature Gauge'\n",
    "gauge_chart.range = [-40, 120]\n",
    "gauge_chart.add('Temperature (F)', 76)\n",
    "display_chart(gauge_chart)"
   ]
  },
  {
   "cell_type": "markdown",
   "metadata": {},
   "source": [
    "Define headers for the datasset. \n",
    "\n",
    "**Dataset Link** - https://archive.ics.uci.edu/ml/datasets/automobile\n",
    "\n",
    "The dataset that is being loaded is without the headers. Define a list of headers for each feature."
   ]
  },
  {
   "cell_type": "code",
   "execution_count": 5,
   "metadata": {},
   "outputs": [
    {
     "data": {
      "text/plain": [
       "26"
      ]
     },
     "execution_count": 5,
     "metadata": {},
     "output_type": "execute_result"
    }
   ],
   "source": [
    "headers = ['symboling', 'normalized-losses', 'make',\n",
    "           'fuel-type', 'aspiration', 'num-of-doors',\n",
    "           'body-style', 'drive-wheel', 'engine-location',\n",
    "           'wheel-base', 'length', 'width','height',\n",
    "           'curb-weight', 'engine-type', 'num-of-cylinders',\n",
    "           'engine-size', 'fuel-system', 'bore', 'stroke',\n",
    "           'compression-ratio', 'horsepower', 'peak-rpm',\n",
    "           'city-mpg', 'highway-mpg','price']\n",
    "len(headers)"
   ]
  },
  {
   "cell_type": "markdown",
   "metadata": {},
   "source": [
    "Load the dataset into the pandas and use the above headers for the dataset."
   ]
  },
  {
   "cell_type": "code",
   "execution_count": 6,
   "metadata": {
    "collapsed": true
   },
   "outputs": [],
   "source": [
    "cars_df = pd.read_csv('../datasets/automobile_dataset.data',\n",
    "                      names=headers,\n",
    "                      na_values = '?')"
   ]
  },
  {
   "cell_type": "markdown",
   "metadata": {},
   "source": [
    "This is how the dataset looks."
   ]
  },
  {
   "cell_type": "code",
   "execution_count": 7,
   "metadata": {},
   "outputs": [
    {
     "data": {
      "text/html": [
       "<div>\n",
       "<style scoped>\n",
       "    .dataframe tbody tr th:only-of-type {\n",
       "        vertical-align: middle;\n",
       "    }\n",
       "\n",
       "    .dataframe tbody tr th {\n",
       "        vertical-align: top;\n",
       "    }\n",
       "\n",
       "    .dataframe thead th {\n",
       "        text-align: right;\n",
       "    }\n",
       "</style>\n",
       "<table border=\"1\" class=\"dataframe\">\n",
       "  <thead>\n",
       "    <tr style=\"text-align: right;\">\n",
       "      <th></th>\n",
       "      <th>symboling</th>\n",
       "      <th>normalized-losses</th>\n",
       "      <th>make</th>\n",
       "      <th>fuel-type</th>\n",
       "      <th>aspiration</th>\n",
       "      <th>num-of-doors</th>\n",
       "      <th>body-style</th>\n",
       "      <th>drive-wheel</th>\n",
       "      <th>engine-location</th>\n",
       "      <th>wheel-base</th>\n",
       "      <th>...</th>\n",
       "      <th>engine-size</th>\n",
       "      <th>fuel-system</th>\n",
       "      <th>bore</th>\n",
       "      <th>stroke</th>\n",
       "      <th>compression-ratio</th>\n",
       "      <th>horsepower</th>\n",
       "      <th>peak-rpm</th>\n",
       "      <th>city-mpg</th>\n",
       "      <th>highway-mpg</th>\n",
       "      <th>price</th>\n",
       "    </tr>\n",
       "  </thead>\n",
       "  <tbody>\n",
       "    <tr>\n",
       "      <th>0</th>\n",
       "      <td>3</td>\n",
       "      <td>NaN</td>\n",
       "      <td>alfa-romero</td>\n",
       "      <td>gas</td>\n",
       "      <td>std</td>\n",
       "      <td>two</td>\n",
       "      <td>convertible</td>\n",
       "      <td>rwd</td>\n",
       "      <td>front</td>\n",
       "      <td>88.6</td>\n",
       "      <td>...</td>\n",
       "      <td>130</td>\n",
       "      <td>mpfi</td>\n",
       "      <td>3.47</td>\n",
       "      <td>2.68</td>\n",
       "      <td>9.0</td>\n",
       "      <td>111.0</td>\n",
       "      <td>5000.0</td>\n",
       "      <td>21</td>\n",
       "      <td>27</td>\n",
       "      <td>16500.0</td>\n",
       "    </tr>\n",
       "    <tr>\n",
       "      <th>1</th>\n",
       "      <td>1</td>\n",
       "      <td>NaN</td>\n",
       "      <td>alfa-romero</td>\n",
       "      <td>gas</td>\n",
       "      <td>std</td>\n",
       "      <td>two</td>\n",
       "      <td>hatchback</td>\n",
       "      <td>rwd</td>\n",
       "      <td>front</td>\n",
       "      <td>94.5</td>\n",
       "      <td>...</td>\n",
       "      <td>152</td>\n",
       "      <td>mpfi</td>\n",
       "      <td>2.68</td>\n",
       "      <td>3.47</td>\n",
       "      <td>9.0</td>\n",
       "      <td>154.0</td>\n",
       "      <td>5000.0</td>\n",
       "      <td>19</td>\n",
       "      <td>26</td>\n",
       "      <td>16500.0</td>\n",
       "    </tr>\n",
       "    <tr>\n",
       "      <th>2</th>\n",
       "      <td>2</td>\n",
       "      <td>164.0</td>\n",
       "      <td>audi</td>\n",
       "      <td>gas</td>\n",
       "      <td>std</td>\n",
       "      <td>four</td>\n",
       "      <td>sedan</td>\n",
       "      <td>fwd</td>\n",
       "      <td>front</td>\n",
       "      <td>99.8</td>\n",
       "      <td>...</td>\n",
       "      <td>109</td>\n",
       "      <td>mpfi</td>\n",
       "      <td>3.19</td>\n",
       "      <td>3.40</td>\n",
       "      <td>10.0</td>\n",
       "      <td>102.0</td>\n",
       "      <td>5500.0</td>\n",
       "      <td>24</td>\n",
       "      <td>30</td>\n",
       "      <td>13950.0</td>\n",
       "    </tr>\n",
       "    <tr>\n",
       "      <th>3</th>\n",
       "      <td>2</td>\n",
       "      <td>164.0</td>\n",
       "      <td>audi</td>\n",
       "      <td>gas</td>\n",
       "      <td>std</td>\n",
       "      <td>four</td>\n",
       "      <td>sedan</td>\n",
       "      <td>4wd</td>\n",
       "      <td>front</td>\n",
       "      <td>99.4</td>\n",
       "      <td>...</td>\n",
       "      <td>136</td>\n",
       "      <td>mpfi</td>\n",
       "      <td>3.19</td>\n",
       "      <td>3.40</td>\n",
       "      <td>8.0</td>\n",
       "      <td>115.0</td>\n",
       "      <td>5500.0</td>\n",
       "      <td>18</td>\n",
       "      <td>22</td>\n",
       "      <td>17450.0</td>\n",
       "    </tr>\n",
       "    <tr>\n",
       "      <th>4</th>\n",
       "      <td>2</td>\n",
       "      <td>NaN</td>\n",
       "      <td>audi</td>\n",
       "      <td>gas</td>\n",
       "      <td>std</td>\n",
       "      <td>two</td>\n",
       "      <td>sedan</td>\n",
       "      <td>fwd</td>\n",
       "      <td>front</td>\n",
       "      <td>99.8</td>\n",
       "      <td>...</td>\n",
       "      <td>136</td>\n",
       "      <td>mpfi</td>\n",
       "      <td>3.19</td>\n",
       "      <td>3.40</td>\n",
       "      <td>8.5</td>\n",
       "      <td>110.0</td>\n",
       "      <td>5500.0</td>\n",
       "      <td>19</td>\n",
       "      <td>25</td>\n",
       "      <td>15250.0</td>\n",
       "    </tr>\n",
       "  </tbody>\n",
       "</table>\n",
       "<p>5 rows × 26 columns</p>\n",
       "</div>"
      ],
      "text/plain": [
       "   symboling  normalized-losses         make fuel-type aspiration  \\\n",
       "0          3                NaN  alfa-romero       gas        std   \n",
       "1          1                NaN  alfa-romero       gas        std   \n",
       "2          2              164.0         audi       gas        std   \n",
       "3          2              164.0         audi       gas        std   \n",
       "4          2                NaN         audi       gas        std   \n",
       "\n",
       "  num-of-doors   body-style drive-wheel engine-location  wheel-base   ...     \\\n",
       "0          two  convertible         rwd           front        88.6   ...      \n",
       "1          two    hatchback         rwd           front        94.5   ...      \n",
       "2         four        sedan         fwd           front        99.8   ...      \n",
       "3         four        sedan         4wd           front        99.4   ...      \n",
       "4          two        sedan         fwd           front        99.8   ...      \n",
       "\n",
       "   engine-size  fuel-system  bore  stroke compression-ratio horsepower  \\\n",
       "0          130         mpfi  3.47    2.68               9.0      111.0   \n",
       "1          152         mpfi  2.68    3.47               9.0      154.0   \n",
       "2          109         mpfi  3.19    3.40              10.0      102.0   \n",
       "3          136         mpfi  3.19    3.40               8.0      115.0   \n",
       "4          136         mpfi  3.19    3.40               8.5      110.0   \n",
       "\n",
       "   peak-rpm city-mpg  highway-mpg    price  \n",
       "0    5000.0       21           27  16500.0  \n",
       "1    5000.0       19           26  16500.0  \n",
       "2    5500.0       24           30  13950.0  \n",
       "3    5500.0       18           22  17450.0  \n",
       "4    5500.0       19           25  15250.0  \n",
       "\n",
       "[5 rows x 26 columns]"
      ]
     },
     "execution_count": 7,
     "metadata": {},
     "output_type": "execute_result"
    }
   ],
   "source": [
    "cars_df.head()"
   ]
  },
  {
   "cell_type": "code",
   "execution_count": 8,
   "metadata": {},
   "outputs": [
    {
     "data": {
      "text/plain": [
       "(204, 26)"
      ]
     },
     "execution_count": 8,
     "metadata": {},
     "output_type": "execute_result"
    }
   ],
   "source": [
    "cars_df.shape"
   ]
  },
  {
   "cell_type": "code",
   "execution_count": 9,
   "metadata": {},
   "outputs": [
    {
     "data": {
      "text/plain": [
       "Index(['symboling', 'normalized-losses', 'make', 'fuel-type', 'aspiration',\n",
       "       'num-of-doors', 'body-style', 'drive-wheel', 'engine-location',\n",
       "       'wheel-base', 'length', 'width', 'height', 'curb-weight', 'engine-type',\n",
       "       'num-of-cylinders', 'engine-size', 'fuel-system', 'bore', 'stroke',\n",
       "       'compression-ratio', 'horsepower', 'peak-rpm', 'city-mpg',\n",
       "       'highway-mpg', 'price'],\n",
       "      dtype='object')"
      ]
     },
     "execution_count": 9,
     "metadata": {},
     "output_type": "execute_result"
    }
   ],
   "source": [
    "cars_df.columns"
   ]
  },
  {
   "cell_type": "markdown",
   "metadata": {},
   "source": [
    "**Trim the number of features of the car.** \n",
    "\n",
    "\n",
    "We have realized that dataset contains a lot features which is hard to decide. So, let's trim the dataset to minimum number of features required to buy a car for a beginner car enthusiast."
   ]
  },
  {
   "cell_type": "code",
   "execution_count": 10,
   "metadata": {
    "collapsed": true
   },
   "outputs": [],
   "source": [
    "cars_df = cars_df[['make', 'fuel-type', 'num-of-doors', 'body-style',\n",
    "                   'drive-wheel', 'num-of-cylinders', 'horsepower',\n",
    "                  'peak-rpm','city-mpg','highway-mpg','price']]"
   ]
  },
  {
   "cell_type": "markdown",
   "metadata": {},
   "source": [
    "Drop the **NA values** from the dataframe."
   ]
  },
  {
   "cell_type": "code",
   "execution_count": 11,
   "metadata": {
    "collapsed": true
   },
   "outputs": [],
   "source": [
    "cars_df = cars_df.dropna()"
   ]
  },
  {
   "cell_type": "code",
   "execution_count": 12,
   "metadata": {},
   "outputs": [
    {
     "data": {
      "text/plain": [
       "(196, 11)"
      ]
     },
     "execution_count": 12,
     "metadata": {},
     "output_type": "execute_result"
    }
   ],
   "source": [
    "cars_df.shape"
   ]
  },
  {
   "cell_type": "code",
   "execution_count": 13,
   "metadata": {},
   "outputs": [
    {
     "data": {
      "text/html": [
       "<div>\n",
       "<style scoped>\n",
       "    .dataframe tbody tr th:only-of-type {\n",
       "        vertical-align: middle;\n",
       "    }\n",
       "\n",
       "    .dataframe tbody tr th {\n",
       "        vertical-align: top;\n",
       "    }\n",
       "\n",
       "    .dataframe thead th {\n",
       "        text-align: right;\n",
       "    }\n",
       "</style>\n",
       "<table border=\"1\" class=\"dataframe\">\n",
       "  <thead>\n",
       "    <tr style=\"text-align: right;\">\n",
       "      <th></th>\n",
       "      <th>make</th>\n",
       "      <th>fuel-type</th>\n",
       "      <th>num-of-doors</th>\n",
       "      <th>body-style</th>\n",
       "      <th>drive-wheel</th>\n",
       "      <th>num-of-cylinders</th>\n",
       "      <th>horsepower</th>\n",
       "      <th>peak-rpm</th>\n",
       "      <th>city-mpg</th>\n",
       "      <th>highway-mpg</th>\n",
       "      <th>price</th>\n",
       "    </tr>\n",
       "  </thead>\n",
       "  <tbody>\n",
       "    <tr>\n",
       "      <th>0</th>\n",
       "      <td>alfa-romero</td>\n",
       "      <td>gas</td>\n",
       "      <td>two</td>\n",
       "      <td>convertible</td>\n",
       "      <td>rwd</td>\n",
       "      <td>four</td>\n",
       "      <td>111.0</td>\n",
       "      <td>5000.0</td>\n",
       "      <td>21</td>\n",
       "      <td>27</td>\n",
       "      <td>16500.0</td>\n",
       "    </tr>\n",
       "    <tr>\n",
       "      <th>1</th>\n",
       "      <td>alfa-romero</td>\n",
       "      <td>gas</td>\n",
       "      <td>two</td>\n",
       "      <td>hatchback</td>\n",
       "      <td>rwd</td>\n",
       "      <td>six</td>\n",
       "      <td>154.0</td>\n",
       "      <td>5000.0</td>\n",
       "      <td>19</td>\n",
       "      <td>26</td>\n",
       "      <td>16500.0</td>\n",
       "    </tr>\n",
       "    <tr>\n",
       "      <th>2</th>\n",
       "      <td>audi</td>\n",
       "      <td>gas</td>\n",
       "      <td>four</td>\n",
       "      <td>sedan</td>\n",
       "      <td>fwd</td>\n",
       "      <td>four</td>\n",
       "      <td>102.0</td>\n",
       "      <td>5500.0</td>\n",
       "      <td>24</td>\n",
       "      <td>30</td>\n",
       "      <td>13950.0</td>\n",
       "    </tr>\n",
       "    <tr>\n",
       "      <th>3</th>\n",
       "      <td>audi</td>\n",
       "      <td>gas</td>\n",
       "      <td>four</td>\n",
       "      <td>sedan</td>\n",
       "      <td>4wd</td>\n",
       "      <td>five</td>\n",
       "      <td>115.0</td>\n",
       "      <td>5500.0</td>\n",
       "      <td>18</td>\n",
       "      <td>22</td>\n",
       "      <td>17450.0</td>\n",
       "    </tr>\n",
       "    <tr>\n",
       "      <th>4</th>\n",
       "      <td>audi</td>\n",
       "      <td>gas</td>\n",
       "      <td>two</td>\n",
       "      <td>sedan</td>\n",
       "      <td>fwd</td>\n",
       "      <td>five</td>\n",
       "      <td>110.0</td>\n",
       "      <td>5500.0</td>\n",
       "      <td>19</td>\n",
       "      <td>25</td>\n",
       "      <td>15250.0</td>\n",
       "    </tr>\n",
       "  </tbody>\n",
       "</table>\n",
       "</div>"
      ],
      "text/plain": [
       "          make fuel-type num-of-doors   body-style drive-wheel  \\\n",
       "0  alfa-romero       gas          two  convertible         rwd   \n",
       "1  alfa-romero       gas          two    hatchback         rwd   \n",
       "2         audi       gas         four        sedan         fwd   \n",
       "3         audi       gas         four        sedan         4wd   \n",
       "4         audi       gas          two        sedan         fwd   \n",
       "\n",
       "  num-of-cylinders  horsepower  peak-rpm  city-mpg  highway-mpg    price  \n",
       "0             four       111.0    5000.0        21           27  16500.0  \n",
       "1              six       154.0    5000.0        19           26  16500.0  \n",
       "2             four       102.0    5500.0        24           30  13950.0  \n",
       "3             five       115.0    5500.0        18           22  17450.0  \n",
       "4             five       110.0    5500.0        19           25  15250.0  "
      ]
     },
     "execution_count": 13,
     "metadata": {},
     "output_type": "execute_result"
    }
   ],
   "source": [
    "cars_df.head()"
   ]
  },
  {
   "cell_type": "markdown",
   "metadata": {},
   "source": [
    "Values for the ***make*** in the dataframe"
   ]
  },
  {
   "cell_type": "code",
   "execution_count": 14,
   "metadata": {},
   "outputs": [
    {
     "data": {
      "text/plain": [
       "array(['convertible', 'hatchback', 'sedan', 'wagon', 'hardtop'],\n",
       "      dtype=object)"
      ]
     },
     "execution_count": 14,
     "metadata": {},
     "output_type": "execute_result"
    }
   ],
   "source": [
    "cars_df['body-style'].unique()"
   ]
  },
  {
   "cell_type": "markdown",
   "metadata": {},
   "source": [
    "Let's choose a car which is a **convertible**."
   ]
  },
  {
   "cell_type": "code",
   "execution_count": 15,
   "metadata": {},
   "outputs": [
    {
     "data": {
      "text/html": [
       "<div>\n",
       "<style scoped>\n",
       "    .dataframe tbody tr th:only-of-type {\n",
       "        vertical-align: middle;\n",
       "    }\n",
       "\n",
       "    .dataframe tbody tr th {\n",
       "        vertical-align: top;\n",
       "    }\n",
       "\n",
       "    .dataframe thead th {\n",
       "        text-align: right;\n",
       "    }\n",
       "</style>\n",
       "<table border=\"1\" class=\"dataframe\">\n",
       "  <thead>\n",
       "    <tr style=\"text-align: right;\">\n",
       "      <th></th>\n",
       "      <th>make</th>\n",
       "      <th>fuel-type</th>\n",
       "      <th>num-of-doors</th>\n",
       "      <th>body-style</th>\n",
       "      <th>drive-wheel</th>\n",
       "      <th>num-of-cylinders</th>\n",
       "      <th>horsepower</th>\n",
       "      <th>peak-rpm</th>\n",
       "      <th>city-mpg</th>\n",
       "      <th>highway-mpg</th>\n",
       "      <th>price</th>\n",
       "    </tr>\n",
       "  </thead>\n",
       "  <tbody>\n",
       "    <tr>\n",
       "      <th>0</th>\n",
       "      <td>alfa-romero</td>\n",
       "      <td>gas</td>\n",
       "      <td>two</td>\n",
       "      <td>convertible</td>\n",
       "      <td>rwd</td>\n",
       "      <td>four</td>\n",
       "      <td>111.0</td>\n",
       "      <td>5000.0</td>\n",
       "      <td>21</td>\n",
       "      <td>27</td>\n",
       "      <td>16500.0</td>\n",
       "    </tr>\n",
       "    <tr>\n",
       "      <th>71</th>\n",
       "      <td>mercedes-benz</td>\n",
       "      <td>gas</td>\n",
       "      <td>two</td>\n",
       "      <td>convertible</td>\n",
       "      <td>rwd</td>\n",
       "      <td>eight</td>\n",
       "      <td>155.0</td>\n",
       "      <td>4750.0</td>\n",
       "      <td>16</td>\n",
       "      <td>18</td>\n",
       "      <td>35056.0</td>\n",
       "    </tr>\n",
       "    <tr>\n",
       "      <th>127</th>\n",
       "      <td>porsche</td>\n",
       "      <td>gas</td>\n",
       "      <td>two</td>\n",
       "      <td>convertible</td>\n",
       "      <td>rwd</td>\n",
       "      <td>six</td>\n",
       "      <td>207.0</td>\n",
       "      <td>5900.0</td>\n",
       "      <td>17</td>\n",
       "      <td>25</td>\n",
       "      <td>37028.0</td>\n",
       "    </tr>\n",
       "    <tr>\n",
       "      <th>171</th>\n",
       "      <td>toyota</td>\n",
       "      <td>gas</td>\n",
       "      <td>two</td>\n",
       "      <td>convertible</td>\n",
       "      <td>rwd</td>\n",
       "      <td>four</td>\n",
       "      <td>116.0</td>\n",
       "      <td>4800.0</td>\n",
       "      <td>24</td>\n",
       "      <td>30</td>\n",
       "      <td>17669.0</td>\n",
       "    </tr>\n",
       "    <tr>\n",
       "      <th>188</th>\n",
       "      <td>volkswagen</td>\n",
       "      <td>gas</td>\n",
       "      <td>two</td>\n",
       "      <td>convertible</td>\n",
       "      <td>fwd</td>\n",
       "      <td>four</td>\n",
       "      <td>90.0</td>\n",
       "      <td>5500.0</td>\n",
       "      <td>24</td>\n",
       "      <td>29</td>\n",
       "      <td>11595.0</td>\n",
       "    </tr>\n",
       "  </tbody>\n",
       "</table>\n",
       "</div>"
      ],
      "text/plain": [
       "              make fuel-type num-of-doors   body-style drive-wheel  \\\n",
       "0      alfa-romero       gas          two  convertible         rwd   \n",
       "71   mercedes-benz       gas          two  convertible         rwd   \n",
       "127        porsche       gas          two  convertible         rwd   \n",
       "171         toyota       gas          two  convertible         rwd   \n",
       "188     volkswagen       gas          two  convertible         fwd   \n",
       "\n",
       "    num-of-cylinders  horsepower  peak-rpm  city-mpg  highway-mpg    price  \n",
       "0               four       111.0    5000.0        21           27  16500.0  \n",
       "71             eight       155.0    4750.0        16           18  35056.0  \n",
       "127              six       207.0    5900.0        17           25  37028.0  \n",
       "171             four       116.0    4800.0        24           30  17669.0  \n",
       "188             four        90.0    5500.0        24           29  11595.0  "
      ]
     },
     "execution_count": 15,
     "metadata": {},
     "output_type": "execute_result"
    }
   ],
   "source": [
    "convertibles = cars_df[cars_df['body-style'] == 'convertible']\n",
    "\n",
    "convertibles.head()"
   ]
  },
  {
   "cell_type": "markdown",
   "metadata": {},
   "source": [
    "We have shortlisted **5** Cars to buy from."
   ]
  },
  {
   "cell_type": "code",
   "execution_count": 16,
   "metadata": {},
   "outputs": [
    {
     "data": {
      "text/plain": [
       "(5, 11)"
      ]
     },
     "execution_count": 16,
     "metadata": {},
     "output_type": "execute_result"
    }
   ],
   "source": [
    "convertibles.shape"
   ]
  },
  {
   "cell_type": "markdown",
   "metadata": {},
   "source": [
    "##### Now, we have five cars to choose from. "
   ]
  },
  {
   "cell_type": "markdown",
   "metadata": {},
   "source": [
    "Plot the gauge for the peak-RPM."
   ]
  },
  {
   "cell_type": "code",
   "execution_count": 17,
   "metadata": {
    "collapsed": true
   },
   "outputs": [],
   "source": [
    "gauge_chart = pygal.Gauge(width = 640,\n",
    "                          height = 400,\n",
    "                          explicit_size = True,\n",
    "                          truncate_legend = -1)"
   ]
  },
  {
   "cell_type": "code",
   "execution_count": 18,
   "metadata": {
    "collapsed": true
   },
   "outputs": [],
   "source": [
    "gauge_chart.title = 'Peak RPM'"
   ]
  },
  {
   "cell_type": "code",
   "execution_count": 19,
   "metadata": {
    "collapsed": true
   },
   "outputs": [],
   "source": [
    "gauge_chart.range = [convertibles['peak-rpm'].min(), \n",
    "                     convertibles['peak-rpm'].max()]"
   ]
  },
  {
   "cell_type": "code",
   "execution_count": 20,
   "metadata": {
    "collapsed": true
   },
   "outputs": [],
   "source": [
    "for index, row in convertibles.iterrows():\n",
    "    \n",
    "    gauge_chart.add(row['make'], row['peak-rpm'])"
   ]
  },
  {
   "cell_type": "markdown",
   "metadata": {},
   "source": [
    "Visualize the graph in jupyter notebook. "
   ]
  },
  {
   "cell_type": "code",
   "execution_count": 21,
   "metadata": {},
   "outputs": [
    {
     "data": {
      "text/html": [
       "\n",
       "<!DOCTYPE html>\n",
       "<html>\n",
       "  <head>\n",
       "  <script type=\"text/javascript\" \n",
       "          src=\"http://kozea.github.com/pygal.js/javascripts/svg.jquery.js\">\n",
       "  </script>\n",
       "  <script type=\"text/javascript\" \n",
       "          src=\"https://kozea.github.io/pygal.js/2.0.x/pygal-tooltips.min.js\"\">\n",
       "  </script>\n",
       "  </head>\n",
       "  <body>\n",
       "    <figure>\n",
       "      <?xml version='1.0' encoding='utf-8'?>\n",
       "<svg xmlns:xlink=\"http://www.w3.org/1999/xlink\" xmlns=\"http://www.w3.org/2000/svg\" id=\"chart-76cc9194-3852-44ab-b1a0-7a725bc16004\" class=\"pygal-chart\" viewBox=\"0 0 640 400\" width=\"640\" height=\"400\"><!--Generated with pygal 2.4.0 (lxml) ©Kozea 2012-2016 on 2019-02-05--><!--http://pygal.org--><!--http://github.com/Kozea/pygal--><defs><style type=\"text/css\">#chart-76cc9194-3852-44ab-b1a0-7a725bc16004{-webkit-user-select:none;-webkit-font-smoothing:antialiased;font-family:Consolas,\"Liberation Mono\",Menlo,Courier,monospace}#chart-76cc9194-3852-44ab-b1a0-7a725bc16004 .title{font-family:Consolas,\"Liberation Mono\",Menlo,Courier,monospace;font-size:16px}#chart-76cc9194-3852-44ab-b1a0-7a725bc16004 .legends .legend text{font-family:Consolas,\"Liberation Mono\",Menlo,Courier,monospace;font-size:14px}#chart-76cc9194-3852-44ab-b1a0-7a725bc16004 .axis text{font-family:Consolas,\"Liberation Mono\",Menlo,Courier,monospace;font-size:10px}#chart-76cc9194-3852-44ab-b1a0-7a725bc16004 .axis text.major{font-family:Consolas,\"Liberation Mono\",Menlo,Courier,monospace;font-size:10px}#chart-76cc9194-3852-44ab-b1a0-7a725bc16004 .text-overlay text.value{font-family:Consolas,\"Liberation Mono\",Menlo,Courier,monospace;font-size:16px}#chart-76cc9194-3852-44ab-b1a0-7a725bc16004 .text-overlay text.label{font-family:Consolas,\"Liberation Mono\",Menlo,Courier,monospace;font-size:10px}#chart-76cc9194-3852-44ab-b1a0-7a725bc16004 .tooltip{font-family:Consolas,\"Liberation Mono\",Menlo,Courier,monospace;font-size:14px}#chart-76cc9194-3852-44ab-b1a0-7a725bc16004 text.no_data{font-family:Consolas,\"Liberation Mono\",Menlo,Courier,monospace;font-size:64px}\n",
       "#chart-76cc9194-3852-44ab-b1a0-7a725bc16004{background-color:rgba(249,249,249,1)}#chart-76cc9194-3852-44ab-b1a0-7a725bc16004 path,#chart-76cc9194-3852-44ab-b1a0-7a725bc16004 line,#chart-76cc9194-3852-44ab-b1a0-7a725bc16004 rect,#chart-76cc9194-3852-44ab-b1a0-7a725bc16004 circle{-webkit-transition:150ms;-moz-transition:150ms;transition:150ms}#chart-76cc9194-3852-44ab-b1a0-7a725bc16004 .graph &gt; .background{fill:rgba(249,249,249,1)}#chart-76cc9194-3852-44ab-b1a0-7a725bc16004 .plot &gt; .background{fill:rgba(255,255,255,1)}#chart-76cc9194-3852-44ab-b1a0-7a725bc16004 .graph{fill:rgba(0,0,0,.87)}#chart-76cc9194-3852-44ab-b1a0-7a725bc16004 text.no_data{fill:rgba(0,0,0,1)}#chart-76cc9194-3852-44ab-b1a0-7a725bc16004 .title{fill:rgba(0,0,0,1)}#chart-76cc9194-3852-44ab-b1a0-7a725bc16004 .legends .legend text{fill:rgba(0,0,0,.87)}#chart-76cc9194-3852-44ab-b1a0-7a725bc16004 .legends .legend:hover text{fill:rgba(0,0,0,1)}#chart-76cc9194-3852-44ab-b1a0-7a725bc16004 .axis .line{stroke:rgba(0,0,0,1)}#chart-76cc9194-3852-44ab-b1a0-7a725bc16004 .axis .guide.line{stroke:rgba(0,0,0,.54)}#chart-76cc9194-3852-44ab-b1a0-7a725bc16004 .axis .major.line{stroke:rgba(0,0,0,.87)}#chart-76cc9194-3852-44ab-b1a0-7a725bc16004 .axis text.major{fill:rgba(0,0,0,1)}#chart-76cc9194-3852-44ab-b1a0-7a725bc16004 .axis.y .guides:hover .guide.line,#chart-76cc9194-3852-44ab-b1a0-7a725bc16004 .line-graph .axis.x .guides:hover .guide.line,#chart-76cc9194-3852-44ab-b1a0-7a725bc16004 .stackedline-graph .axis.x .guides:hover .guide.line,#chart-76cc9194-3852-44ab-b1a0-7a725bc16004 .xy-graph .axis.x .guides:hover .guide.line{stroke:rgba(0,0,0,1)}#chart-76cc9194-3852-44ab-b1a0-7a725bc16004 .axis .guides:hover text{fill:rgba(0,0,0,1)}#chart-76cc9194-3852-44ab-b1a0-7a725bc16004 .reactive{fill-opacity:.7;stroke-opacity:.8}#chart-76cc9194-3852-44ab-b1a0-7a725bc16004 .ci{stroke:rgba(0,0,0,.87)}#chart-76cc9194-3852-44ab-b1a0-7a725bc16004 .reactive.active,#chart-76cc9194-3852-44ab-b1a0-7a725bc16004 .active .reactive{fill-opacity:.8;stroke-opacity:.9;stroke-width:4}#chart-76cc9194-3852-44ab-b1a0-7a725bc16004 .ci .reactive.active{stroke-width:1.5}#chart-76cc9194-3852-44ab-b1a0-7a725bc16004 .series text{fill:rgba(0,0,0,1)}#chart-76cc9194-3852-44ab-b1a0-7a725bc16004 .tooltip rect{fill:rgba(255,255,255,1);stroke:rgba(0,0,0,1);-webkit-transition:opacity 150ms;-moz-transition:opacity 150ms;transition:opacity 150ms}#chart-76cc9194-3852-44ab-b1a0-7a725bc16004 .tooltip .label{fill:rgba(0,0,0,.87)}#chart-76cc9194-3852-44ab-b1a0-7a725bc16004 .tooltip .label{fill:rgba(0,0,0,.87)}#chart-76cc9194-3852-44ab-b1a0-7a725bc16004 .tooltip .legend{font-size:.8em;fill:rgba(0,0,0,.54)}#chart-76cc9194-3852-44ab-b1a0-7a725bc16004 .tooltip .x_label{font-size:.6em;fill:rgba(0,0,0,1)}#chart-76cc9194-3852-44ab-b1a0-7a725bc16004 .tooltip .xlink{font-size:.5em;text-decoration:underline}#chart-76cc9194-3852-44ab-b1a0-7a725bc16004 .tooltip .value{font-size:1.5em}#chart-76cc9194-3852-44ab-b1a0-7a725bc16004 .bound{font-size:.5em}#chart-76cc9194-3852-44ab-b1a0-7a725bc16004 .max-value{font-size:.75em;fill:rgba(0,0,0,.54)}#chart-76cc9194-3852-44ab-b1a0-7a725bc16004 .map-element{fill:rgba(255,255,255,1);stroke:rgba(0,0,0,.54) !important}#chart-76cc9194-3852-44ab-b1a0-7a725bc16004 .map-element .reactive{fill-opacity:inherit;stroke-opacity:inherit}#chart-76cc9194-3852-44ab-b1a0-7a725bc16004 .color-0,#chart-76cc9194-3852-44ab-b1a0-7a725bc16004 .color-0 a:visited{stroke:#F44336;fill:#F44336}#chart-76cc9194-3852-44ab-b1a0-7a725bc16004 .color-1,#chart-76cc9194-3852-44ab-b1a0-7a725bc16004 .color-1 a:visited{stroke:#3F51B5;fill:#3F51B5}#chart-76cc9194-3852-44ab-b1a0-7a725bc16004 .color-2,#chart-76cc9194-3852-44ab-b1a0-7a725bc16004 .color-2 a:visited{stroke:#009688;fill:#009688}#chart-76cc9194-3852-44ab-b1a0-7a725bc16004 .color-3,#chart-76cc9194-3852-44ab-b1a0-7a725bc16004 .color-3 a:visited{stroke:#FFC107;fill:#FFC107}#chart-76cc9194-3852-44ab-b1a0-7a725bc16004 .color-4,#chart-76cc9194-3852-44ab-b1a0-7a725bc16004 .color-4 a:visited{stroke:#FF5722;fill:#FF5722}#chart-76cc9194-3852-44ab-b1a0-7a725bc16004 .text-overlay .color-0 text{fill:black}#chart-76cc9194-3852-44ab-b1a0-7a725bc16004 .text-overlay .color-1 text{fill:black}#chart-76cc9194-3852-44ab-b1a0-7a725bc16004 .text-overlay .color-2 text{fill:black}#chart-76cc9194-3852-44ab-b1a0-7a725bc16004 .text-overlay .color-3 text{fill:black}#chart-76cc9194-3852-44ab-b1a0-7a725bc16004 .text-overlay .color-4 text{fill:black}\n",
       "#chart-76cc9194-3852-44ab-b1a0-7a725bc16004 text.no_data{text-anchor:middle}#chart-76cc9194-3852-44ab-b1a0-7a725bc16004 .guide.line{fill:none}#chart-76cc9194-3852-44ab-b1a0-7a725bc16004 .centered{text-anchor:middle}#chart-76cc9194-3852-44ab-b1a0-7a725bc16004 .title{text-anchor:middle}#chart-76cc9194-3852-44ab-b1a0-7a725bc16004 .legends .legend text{fill-opacity:1}#chart-76cc9194-3852-44ab-b1a0-7a725bc16004 .axis.x text{text-anchor:middle}#chart-76cc9194-3852-44ab-b1a0-7a725bc16004 .axis.x:not(.web) text[transform]{text-anchor:start}#chart-76cc9194-3852-44ab-b1a0-7a725bc16004 .axis.x:not(.web) text[transform].backwards{text-anchor:end}#chart-76cc9194-3852-44ab-b1a0-7a725bc16004 .axis.y text{text-anchor:end}#chart-76cc9194-3852-44ab-b1a0-7a725bc16004 .axis.y text[transform].backwards{text-anchor:start}#chart-76cc9194-3852-44ab-b1a0-7a725bc16004 .axis.y2 text{text-anchor:start}#chart-76cc9194-3852-44ab-b1a0-7a725bc16004 .axis.y2 text[transform].backwards{text-anchor:end}#chart-76cc9194-3852-44ab-b1a0-7a725bc16004 .axis .guide.line{stroke-dasharray:4,4}#chart-76cc9194-3852-44ab-b1a0-7a725bc16004 .axis .major.guide.line{stroke-dasharray:6,6}#chart-76cc9194-3852-44ab-b1a0-7a725bc16004 .horizontal .axis.y .guide.line,#chart-76cc9194-3852-44ab-b1a0-7a725bc16004 .horizontal .axis.y2 .guide.line,#chart-76cc9194-3852-44ab-b1a0-7a725bc16004 .vertical .axis.x .guide.line{opacity:0}#chart-76cc9194-3852-44ab-b1a0-7a725bc16004 .horizontal .axis.always_show .guide.line,#chart-76cc9194-3852-44ab-b1a0-7a725bc16004 .vertical .axis.always_show .guide.line{opacity:1 !important}#chart-76cc9194-3852-44ab-b1a0-7a725bc16004 .axis.y .guides:hover .guide.line,#chart-76cc9194-3852-44ab-b1a0-7a725bc16004 .axis.y2 .guides:hover .guide.line,#chart-76cc9194-3852-44ab-b1a0-7a725bc16004 .axis.x .guides:hover .guide.line{opacity:1}#chart-76cc9194-3852-44ab-b1a0-7a725bc16004 .axis .guides:hover text{opacity:1}#chart-76cc9194-3852-44ab-b1a0-7a725bc16004 .nofill{fill:none}#chart-76cc9194-3852-44ab-b1a0-7a725bc16004 .subtle-fill{fill-opacity:.2}#chart-76cc9194-3852-44ab-b1a0-7a725bc16004 .dot{stroke-width:1px;fill-opacity:1}#chart-76cc9194-3852-44ab-b1a0-7a725bc16004 .dot.active{stroke-width:5px}#chart-76cc9194-3852-44ab-b1a0-7a725bc16004 .dot.negative{fill:transparent}#chart-76cc9194-3852-44ab-b1a0-7a725bc16004 text,#chart-76cc9194-3852-44ab-b1a0-7a725bc16004 tspan{stroke:none !important}#chart-76cc9194-3852-44ab-b1a0-7a725bc16004 .series text.active{opacity:1}#chart-76cc9194-3852-44ab-b1a0-7a725bc16004 .tooltip rect{fill-opacity:.95;stroke-width:.5}#chart-76cc9194-3852-44ab-b1a0-7a725bc16004 .tooltip text{fill-opacity:1}#chart-76cc9194-3852-44ab-b1a0-7a725bc16004 .showable{visibility:hidden}#chart-76cc9194-3852-44ab-b1a0-7a725bc16004 .showable.shown{visibility:visible}#chart-76cc9194-3852-44ab-b1a0-7a725bc16004 .gauge-background{fill:rgba(229,229,229,1);stroke:none}#chart-76cc9194-3852-44ab-b1a0-7a725bc16004 .bg-lines{stroke:rgba(249,249,249,1);stroke-width:2px}</style><script type=\"text/javascript\">window.pygal = window.pygal || {};window.pygal.config = window.pygal.config || {};window.pygal.config['76cc9194-3852-44ab-b1a0-7a725bc16004'] = {\"allow_interruptions\": false, \"box_mode\": \"extremes\", \"classes\": [\"pygal-chart\"], \"css\": [\"file://style.css\", \"file://graph.css\"], \"defs\": [], \"disable_xml_declaration\": false, \"dots_size\": 2.5, \"dynamic_print_values\": false, \"explicit_size\": true, \"fill\": false, \"force_uri_protocol\": \"https\", \"formatter\": null, \"half_pie\": false, \"height\": 400, \"include_x_axis\": false, \"inner_radius\": 0, \"interpolate\": null, \"interpolation_parameters\": {}, \"interpolation_precision\": 250, \"inverse_y_axis\": false, \"js\": [\"//kozea.github.io/pygal.js/2.0.x/pygal-tooltips.min.js\"], \"legend_at_bottom\": false, \"legend_at_bottom_columns\": null, \"legend_box_size\": 12, \"logarithmic\": false, \"margin\": 20, \"margin_bottom\": null, \"margin_left\": null, \"margin_right\": null, \"margin_top\": null, \"max_scale\": 16, \"min_scale\": 4, \"missing_value_fill_truncation\": \"x\", \"no_data_text\": \"No data\", \"no_prefix\": false, \"order_min\": null, \"pretty_print\": false, \"print_labels\": false, \"print_values\": false, \"print_values_position\": \"center\", \"print_zeroes\": true, \"range\": [4750.0, 5900.0], \"rounded_bars\": null, \"secondary_range\": null, \"show_dots\": true, \"show_legend\": true, \"show_minor_x_labels\": true, \"show_minor_y_labels\": true, \"show_only_major_dots\": false, \"show_x_guides\": false, \"show_x_labels\": true, \"show_y_guides\": true, \"show_y_labels\": true, \"spacing\": 10, \"stack_from_top\": false, \"strict\": false, \"stroke\": true, \"stroke_style\": null, \"style\": {\"background\": \"rgba(249, 249, 249, 1)\", \"ci_colors\": [], \"colors\": [\"#F44336\", \"#3F51B5\", \"#009688\", \"#FFC107\", \"#FF5722\", \"#9C27B0\", \"#03A9F4\", \"#8BC34A\", \"#FF9800\", \"#E91E63\", \"#2196F3\", \"#4CAF50\", \"#FFEB3B\", \"#673AB7\", \"#00BCD4\", \"#CDDC39\", \"#9E9E9E\", \"#607D8B\"], \"font_family\": \"Consolas, \\\"Liberation Mono\\\", Menlo, Courier, monospace\", \"foreground\": \"rgba(0, 0, 0, .87)\", \"foreground_strong\": \"rgba(0, 0, 0, 1)\", \"foreground_subtle\": \"rgba(0, 0, 0, .54)\", \"guide_stroke_dasharray\": \"4,4\", \"label_font_family\": \"Consolas, \\\"Liberation Mono\\\", Menlo, Courier, monospace\", \"label_font_size\": 10, \"legend_font_family\": \"Consolas, \\\"Liberation Mono\\\", Menlo, Courier, monospace\", \"legend_font_size\": 14, \"major_guide_stroke_dasharray\": \"6,6\", \"major_label_font_family\": \"Consolas, \\\"Liberation Mono\\\", Menlo, Courier, monospace\", \"major_label_font_size\": 10, \"no_data_font_family\": \"Consolas, \\\"Liberation Mono\\\", Menlo, Courier, monospace\", \"no_data_font_size\": 64, \"opacity\": \".7\", \"opacity_hover\": \".8\", \"plot_background\": \"rgba(255, 255, 255, 1)\", \"stroke_opacity\": \".8\", \"stroke_opacity_hover\": \".9\", \"title_font_family\": \"Consolas, \\\"Liberation Mono\\\", Menlo, Courier, monospace\", \"title_font_size\": 16, \"tooltip_font_family\": \"Consolas, \\\"Liberation Mono\\\", Menlo, Courier, monospace\", \"tooltip_font_size\": 14, \"transition\": \"150ms\", \"value_background\": \"rgba(229, 229, 229, 1)\", \"value_colors\": [], \"value_font_family\": \"Consolas, \\\"Liberation Mono\\\", Menlo, Courier, monospace\", \"value_font_size\": 16, \"value_label_font_family\": \"Consolas, \\\"Liberation Mono\\\", Menlo, Courier, monospace\", \"value_label_font_size\": 10}, \"title\": \"Peak RPM\", \"tooltip_border_radius\": 0, \"tooltip_fancy_mode\": true, \"truncate_label\": null, \"truncate_legend\": -1, \"width\": 640, \"x_label_rotation\": 0, \"x_labels\": null, \"x_labels_major\": null, \"x_labels_major_count\": null, \"x_labels_major_every\": null, \"x_title\": null, \"xrange\": null, \"y_label_rotation\": 0, \"y_labels\": null, \"y_labels_major\": null, \"y_labels_major_count\": null, \"y_labels_major_every\": null, \"y_title\": null, \"zero\": 0, \"legends\": [\"alfa-romero\", \"mercedes-benz\", \"porsche\", \"toyota\", \"volkswagen\"]}</script><script type=\"text/javascript\" xlink:href=\"https://kozea.github.io/pygal.js/2.0.x/pygal-tooltips.min.js\"/></defs><title>Peak RPM</title><g class=\"graph gauge-graph vertical\"><rect class=\"background\" height=\"400\" width=\"640\" x=\"0\" y=\"0\"/><g class=\"plot\" transform=\"translate(185, 46)\"><rect class=\"background\" height=\"334\" width=\"434.8\" x=\"0\" y=\"0\"/><g class=\"axis x gauge\"><g class=\"guides\"><path class=\"line\" d=\"M352.945866 278.487621 L360.079859 284.355390 Z\"/><path class=\"guide line major\" d=\"M217.400000 167.000000 L352.945866 278.487621 Z\"/><text x=\"345.81187307900177\" y=\"272.6198513759635\">4800</text><title>4800</title></g><g class=\"guides\"><path class=\"line\" d=\"M402.958038 221.343988 L412.724250 224.204198 Z\"/><path class=\"guide line \" d=\"M217.400000 167.000000 L402.958038 221.343988 Z\"/><text x=\"393.1918251719778\" y=\"218.48377812681667\">4900</text><title>4900</title></g><g class=\"guides\"><path class=\"line\" d=\"M415.163763 153.128062 L425.572382 152.397960 Z\"/><path class=\"guide line \" d=\"M217.400000 167.000000 L415.163763 153.128062 Z\"/><text x=\"404.75514404780716\" y=\"153.85816364901945\">5000</text><title>5000</title></g><g class=\"guides\"><path class=\"line\" d=\"M387.076192 87.738468 L396.006518 83.566808 Z\"/><path class=\"guide line \" d=\"M217.400000 167.000000 L387.076192 87.738468 Z\"/><text x=\"378.1458660515057\" y=\"91.91012722084065\">5100</text><title>5100</title></g><g class=\"guides\"><path class=\"line\" d=\"M324.418015 38.497982 L330.050542 31.734718 Z\"/><path class=\"guide line \" d=\"M217.400000 167.000000 L324.418015 38.497982 Z\"/><text x=\"318.7854875992707\" y=\"45.2612460805841\">5200</text><title>5200</title></g><g class=\"guides\"><path class=\"line\" d=\"M239.955496 15.439087 L241.142627 7.462197 Z\"/><path class=\"guide line \" d=\"M217.400000 167.000000 L239.955496 15.439087 Z\"/><text x=\"238.7683646179192\" y=\"23.415977356197914\">5300</text><title>5300</title></g><g class=\"guides\"><path class=\"line\" d=\"M150.897417 23.259908 L147.397281 15.694640 Z\"/><path class=\"guide line \" d=\"M217.400000 167.000000 L150.897417 23.259908 Z\"/><text x=\"154.3975529640624\" y=\"30.825176351482014\">5400</text><title>5400</title></g><g class=\"guides\"><path class=\"line\" d=\"M75.388880 60.366995 L67.914610 54.754732 Z\"/><path class=\"guide line \" d=\"M217.400000 167.000000 L75.388880 60.366995 Z\"/><text x=\"82.86314900471191\" y=\"65.97925886030316\">5500</text><title>5500</title></g><g class=\"guides\"><path class=\"line\" d=\"M28.814339 119.199980 L18.888778 116.684190 Z\"/><path class=\"guide line \" d=\"M217.400000 167.000000 L28.814339 119.199980 Z\"/><text x=\"38.73990049342646\" y=\"121.71577078064632\">5600</text><title>5600</title></g><g class=\"guides\"><path class=\"line\" d=\"M20.663107 187.771960 L10.308534 188.865222 Z\"/><path class=\"guide line \" d=\"M217.400000 167.000000 L20.663107 187.771960 Z\"/><text x=\"31.01768057551108\" y=\"186.67869938381335\">5700</text><title>5700</title></g><g class=\"guides\"><path class=\"line\" d=\"M52.595953 252.111766 L43.922055 256.591333 Z\"/><path class=\"guide line \" d=\"M217.400000 167.000000 L52.595953 252.111766 Z\"/><text x=\"61.2698497764142\" y=\"247.63219946360618\">5800</text><title>5800</title></g><g class=\"guides\"><path class=\"line\" d=\"M118.106731 299.110510 L112.880769 306.063695 Z\"/><path class=\"guide line major\" d=\"M217.400000 167.000000 L118.106731 299.110510 Z\"/><text x=\"123.33269230769235\" y=\"292.15732518153953\">5900</text><title>5900</title></g></g><g class=\"axis y gauge\"><circle cx=\"217.4\" cy=\"167.0\" r=\"4\"/></g><g class=\"series serie-0 color-0\"><g class=\"dots\"><path class=\"line reactive tooltip-trigger\" d=\"M 394.346525 154.588266 L 221.000314 174.537476 A 0.050000 0.050000 1 0 1 219.163612 159.086277 Z\"/><desc class=\"value\">5000</desc><desc class=\"x left\">373.52928670650596</desc><desc class=\"y left\">156.04846970751623</desc></g></g><g class=\"series serie-1 color-1\"><g class=\"dots\"><path class=\"line reactive tooltip-trigger\" d=\"M 306.241346 285.204140 L 210.000570 172.670480 A 0.050000 0.050000 1 0 1 227.492551 164.912739 Z\"/><desc class=\"value\">4750</desc><desc class=\"x left top\">295.78942307692313</desc><desc class=\"y left top\">271.2977709846163</desc></g></g><g class=\"series serie-2 color-2\"><g class=\"dots\"><path class=\"line reactive tooltip-trigger\" d=\"M 128.558654 285.204140 L 207.307449 164.912739 A 0.050000 0.050000 1 0 1 224.799430 172.670480 Z\"/><desc class=\"value\">5900</desc><desc class=\"x top\">139.01057692307694</desc><desc class=\"y top\">271.2977709846163</desc></g></g><g class=\"series serie-3 color-3\"><g class=\"dots\"><path class=\"line reactive tooltip-trigger\" d=\"M 338.677880 266.752082 L 211.857486 173.807004 A 0.050000 0.050000 1 0 1 226.618910 163.216863 Z\"/><desc class=\"value\">4800</desc><desc class=\"x left top\">324.4098942325015</desc><desc class=\"y left top\">255.01654281330292</desc></g></g><g class=\"series serie-4 color-4\"><g class=\"dots\"><path class=\"line reactive tooltip-trigger\" d=\"M 90.337419 71.591522 L 222.533450 160.006268 A 0.050000 0.050000 1 0 1 208.414797 171.101537 Z\"/><desc class=\"value\">5500</desc><desc class=\"x \">105.2859575039266</desc><desc class=\"y \">82.81604905025262</desc></g></g></g><g class=\"titles\"><text class=\"title plot_title\" x=\"320.0\" y=\"26\">Peak RPM</text></g><g class=\"plot overlay\" transform=\"translate(185, 46)\"><g class=\"series serie-0 color-0\"/><g class=\"series serie-1 color-1\"/><g class=\"series serie-2 color-2\"/><g class=\"series serie-3 color-3\"/><g class=\"series serie-4 color-4\"/></g><g class=\"plot text-overlay\" transform=\"translate(185, 46)\"><g class=\"series serie-0 color-0\"/><g class=\"series serie-1 color-1\"/><g class=\"series serie-2 color-2\"/><g class=\"series serie-3 color-3\"/><g class=\"series serie-4 color-4\"/></g><g class=\"plot tooltip-overlay\" transform=\"translate(185, 46)\"><g class=\"tooltip\" style=\"opacity: 0\" transform=\"translate(0 0)\"><rect class=\"tooltip-box\" height=\"0\" rx=\"0\" ry=\"0\" width=\"0\"/><g class=\"text\"/></g></g><g class=\"legends\" transform=\"translate(10, 56)\"><g class=\"legend reactive activate-serie\" id=\"activate-serie-0\"><rect class=\"color-0 reactive\" height=\"12\" width=\"12\" x=\"0.0\" y=\"1.0\"/><text x=\"17.0\" y=\"11.2\">alfa-romero</text></g><g class=\"legend reactive activate-serie\" id=\"activate-serie-1\"><rect class=\"color-1 reactive\" height=\"12\" width=\"12\" x=\"0.0\" y=\"22.0\"/><text x=\"17.0\" y=\"32.2\">mercedes-benz</text></g><g class=\"legend reactive activate-serie\" id=\"activate-serie-2\"><rect class=\"color-2 reactive\" height=\"12\" width=\"12\" x=\"0.0\" y=\"43.0\"/><text x=\"17.0\" y=\"53.2\">porsche</text></g><g class=\"legend reactive activate-serie\" id=\"activate-serie-3\"><rect class=\"color-3 reactive\" height=\"12\" width=\"12\" x=\"0.0\" y=\"64.0\"/><text x=\"17.0\" y=\"74.2\">toyota</text></g><g class=\"legend reactive activate-serie\" id=\"activate-serie-4\"><rect class=\"color-4 reactive\" height=\"12\" width=\"12\" x=\"0.0\" y=\"85.0\"/><text x=\"17.0\" y=\"95.2\">volkswagen</text></g></g><g class=\"legends\" transform=\"translate(630, 56)\"/></g></svg>\n",
       "    </figure>\n",
       "  </body>\n",
       "</html>\n"
      ],
      "text/plain": [
       "<IPython.core.display.HTML object>"
      ]
     },
     "metadata": {},
     "output_type": "display_data"
    }
   ],
   "source": [
    "display_chart(gauge_chart)"
   ]
  },
  {
   "cell_type": "markdown",
   "metadata": {},
   "source": [
    "##### Plot the gauge graph  for 'HorsePower' Feature "
   ]
  },
  {
   "cell_type": "code",
   "execution_count": 22,
   "metadata": {
    "collapsed": true
   },
   "outputs": [],
   "source": [
    "gauge_chart = pygal.Gauge(width = 640,\n",
    "                          height = 400,\n",
    "                          explicit_size = True,\n",
    "                          truncate_legend = -1)\n",
    "\n",
    "gauge_chart.title = 'HorsePower '"
   ]
  },
  {
   "cell_type": "code",
   "execution_count": 23,
   "metadata": {},
   "outputs": [],
   "source": [
    "gauge_chart.range = [convertibles['horsepower'].min(), \n",
    "                     convertibles['horsepower'].max()]"
   ]
  },
  {
   "cell_type": "code",
   "execution_count": 24,
   "metadata": {},
   "outputs": [
    {
     "data": {
      "text/html": [
       "\n",
       "<!DOCTYPE html>\n",
       "<html>\n",
       "  <head>\n",
       "  <script type=\"text/javascript\" \n",
       "          src=\"http://kozea.github.com/pygal.js/javascripts/svg.jquery.js\">\n",
       "  </script>\n",
       "  <script type=\"text/javascript\" \n",
       "          src=\"https://kozea.github.io/pygal.js/2.0.x/pygal-tooltips.min.js\"\">\n",
       "  </script>\n",
       "  </head>\n",
       "  <body>\n",
       "    <figure>\n",
       "      <?xml version='1.0' encoding='utf-8'?>\n",
       "<svg xmlns:xlink=\"http://www.w3.org/1999/xlink\" xmlns=\"http://www.w3.org/2000/svg\" id=\"chart-85e1cfd7-0e3b-497f-ab3e-78c7b4e703bf\" class=\"pygal-chart\" viewBox=\"0 0 640 400\" width=\"640\" height=\"400\"><!--Generated with pygal 2.4.0 (lxml) ©Kozea 2012-2016 on 2019-02-05--><!--http://pygal.org--><!--http://github.com/Kozea/pygal--><defs><style type=\"text/css\">#chart-85e1cfd7-0e3b-497f-ab3e-78c7b4e703bf{-webkit-user-select:none;-webkit-font-smoothing:antialiased;font-family:Consolas,\"Liberation Mono\",Menlo,Courier,monospace}#chart-85e1cfd7-0e3b-497f-ab3e-78c7b4e703bf .title{font-family:Consolas,\"Liberation Mono\",Menlo,Courier,monospace;font-size:16px}#chart-85e1cfd7-0e3b-497f-ab3e-78c7b4e703bf .legends .legend text{font-family:Consolas,\"Liberation Mono\",Menlo,Courier,monospace;font-size:14px}#chart-85e1cfd7-0e3b-497f-ab3e-78c7b4e703bf .axis text{font-family:Consolas,\"Liberation Mono\",Menlo,Courier,monospace;font-size:10px}#chart-85e1cfd7-0e3b-497f-ab3e-78c7b4e703bf .axis text.major{font-family:Consolas,\"Liberation Mono\",Menlo,Courier,monospace;font-size:10px}#chart-85e1cfd7-0e3b-497f-ab3e-78c7b4e703bf .text-overlay text.value{font-family:Consolas,\"Liberation Mono\",Menlo,Courier,monospace;font-size:16px}#chart-85e1cfd7-0e3b-497f-ab3e-78c7b4e703bf .text-overlay text.label{font-family:Consolas,\"Liberation Mono\",Menlo,Courier,monospace;font-size:10px}#chart-85e1cfd7-0e3b-497f-ab3e-78c7b4e703bf .tooltip{font-family:Consolas,\"Liberation Mono\",Menlo,Courier,monospace;font-size:14px}#chart-85e1cfd7-0e3b-497f-ab3e-78c7b4e703bf text.no_data{font-family:Consolas,\"Liberation Mono\",Menlo,Courier,monospace;font-size:64px}\n",
       "#chart-85e1cfd7-0e3b-497f-ab3e-78c7b4e703bf{background-color:rgba(249,249,249,1)}#chart-85e1cfd7-0e3b-497f-ab3e-78c7b4e703bf path,#chart-85e1cfd7-0e3b-497f-ab3e-78c7b4e703bf line,#chart-85e1cfd7-0e3b-497f-ab3e-78c7b4e703bf rect,#chart-85e1cfd7-0e3b-497f-ab3e-78c7b4e703bf circle{-webkit-transition:150ms;-moz-transition:150ms;transition:150ms}#chart-85e1cfd7-0e3b-497f-ab3e-78c7b4e703bf .graph &gt; .background{fill:rgba(249,249,249,1)}#chart-85e1cfd7-0e3b-497f-ab3e-78c7b4e703bf .plot &gt; .background{fill:rgba(255,255,255,1)}#chart-85e1cfd7-0e3b-497f-ab3e-78c7b4e703bf .graph{fill:rgba(0,0,0,.87)}#chart-85e1cfd7-0e3b-497f-ab3e-78c7b4e703bf text.no_data{fill:rgba(0,0,0,1)}#chart-85e1cfd7-0e3b-497f-ab3e-78c7b4e703bf .title{fill:rgba(0,0,0,1)}#chart-85e1cfd7-0e3b-497f-ab3e-78c7b4e703bf .legends .legend text{fill:rgba(0,0,0,.87)}#chart-85e1cfd7-0e3b-497f-ab3e-78c7b4e703bf .legends .legend:hover text{fill:rgba(0,0,0,1)}#chart-85e1cfd7-0e3b-497f-ab3e-78c7b4e703bf .axis .line{stroke:rgba(0,0,0,1)}#chart-85e1cfd7-0e3b-497f-ab3e-78c7b4e703bf .axis .guide.line{stroke:rgba(0,0,0,.54)}#chart-85e1cfd7-0e3b-497f-ab3e-78c7b4e703bf .axis .major.line{stroke:rgba(0,0,0,.87)}#chart-85e1cfd7-0e3b-497f-ab3e-78c7b4e703bf .axis text.major{fill:rgba(0,0,0,1)}#chart-85e1cfd7-0e3b-497f-ab3e-78c7b4e703bf .axis.y .guides:hover .guide.line,#chart-85e1cfd7-0e3b-497f-ab3e-78c7b4e703bf .line-graph .axis.x .guides:hover .guide.line,#chart-85e1cfd7-0e3b-497f-ab3e-78c7b4e703bf .stackedline-graph .axis.x .guides:hover .guide.line,#chart-85e1cfd7-0e3b-497f-ab3e-78c7b4e703bf .xy-graph .axis.x .guides:hover .guide.line{stroke:rgba(0,0,0,1)}#chart-85e1cfd7-0e3b-497f-ab3e-78c7b4e703bf .axis .guides:hover text{fill:rgba(0,0,0,1)}#chart-85e1cfd7-0e3b-497f-ab3e-78c7b4e703bf .reactive{fill-opacity:.7;stroke-opacity:.8}#chart-85e1cfd7-0e3b-497f-ab3e-78c7b4e703bf .ci{stroke:rgba(0,0,0,.87)}#chart-85e1cfd7-0e3b-497f-ab3e-78c7b4e703bf .reactive.active,#chart-85e1cfd7-0e3b-497f-ab3e-78c7b4e703bf .active .reactive{fill-opacity:.8;stroke-opacity:.9;stroke-width:4}#chart-85e1cfd7-0e3b-497f-ab3e-78c7b4e703bf .ci .reactive.active{stroke-width:1.5}#chart-85e1cfd7-0e3b-497f-ab3e-78c7b4e703bf .series text{fill:rgba(0,0,0,1)}#chart-85e1cfd7-0e3b-497f-ab3e-78c7b4e703bf .tooltip rect{fill:rgba(255,255,255,1);stroke:rgba(0,0,0,1);-webkit-transition:opacity 150ms;-moz-transition:opacity 150ms;transition:opacity 150ms}#chart-85e1cfd7-0e3b-497f-ab3e-78c7b4e703bf .tooltip .label{fill:rgba(0,0,0,.87)}#chart-85e1cfd7-0e3b-497f-ab3e-78c7b4e703bf .tooltip .label{fill:rgba(0,0,0,.87)}#chart-85e1cfd7-0e3b-497f-ab3e-78c7b4e703bf .tooltip .legend{font-size:.8em;fill:rgba(0,0,0,.54)}#chart-85e1cfd7-0e3b-497f-ab3e-78c7b4e703bf .tooltip .x_label{font-size:.6em;fill:rgba(0,0,0,1)}#chart-85e1cfd7-0e3b-497f-ab3e-78c7b4e703bf .tooltip .xlink{font-size:.5em;text-decoration:underline}#chart-85e1cfd7-0e3b-497f-ab3e-78c7b4e703bf .tooltip .value{font-size:1.5em}#chart-85e1cfd7-0e3b-497f-ab3e-78c7b4e703bf .bound{font-size:.5em}#chart-85e1cfd7-0e3b-497f-ab3e-78c7b4e703bf .max-value{font-size:.75em;fill:rgba(0,0,0,.54)}#chart-85e1cfd7-0e3b-497f-ab3e-78c7b4e703bf .map-element{fill:rgba(255,255,255,1);stroke:rgba(0,0,0,.54) !important}#chart-85e1cfd7-0e3b-497f-ab3e-78c7b4e703bf .map-element .reactive{fill-opacity:inherit;stroke-opacity:inherit}#chart-85e1cfd7-0e3b-497f-ab3e-78c7b4e703bf .color-0,#chart-85e1cfd7-0e3b-497f-ab3e-78c7b4e703bf .color-0 a:visited{stroke:#F44336;fill:#F44336}#chart-85e1cfd7-0e3b-497f-ab3e-78c7b4e703bf .color-1,#chart-85e1cfd7-0e3b-497f-ab3e-78c7b4e703bf .color-1 a:visited{stroke:#3F51B5;fill:#3F51B5}#chart-85e1cfd7-0e3b-497f-ab3e-78c7b4e703bf .color-2,#chart-85e1cfd7-0e3b-497f-ab3e-78c7b4e703bf .color-2 a:visited{stroke:#009688;fill:#009688}#chart-85e1cfd7-0e3b-497f-ab3e-78c7b4e703bf .color-3,#chart-85e1cfd7-0e3b-497f-ab3e-78c7b4e703bf .color-3 a:visited{stroke:#FFC107;fill:#FFC107}#chart-85e1cfd7-0e3b-497f-ab3e-78c7b4e703bf .color-4,#chart-85e1cfd7-0e3b-497f-ab3e-78c7b4e703bf .color-4 a:visited{stroke:#FF5722;fill:#FF5722}#chart-85e1cfd7-0e3b-497f-ab3e-78c7b4e703bf .text-overlay .color-0 text{fill:black}#chart-85e1cfd7-0e3b-497f-ab3e-78c7b4e703bf .text-overlay .color-1 text{fill:black}#chart-85e1cfd7-0e3b-497f-ab3e-78c7b4e703bf .text-overlay .color-2 text{fill:black}#chart-85e1cfd7-0e3b-497f-ab3e-78c7b4e703bf .text-overlay .color-3 text{fill:black}#chart-85e1cfd7-0e3b-497f-ab3e-78c7b4e703bf .text-overlay .color-4 text{fill:black}\n",
       "#chart-85e1cfd7-0e3b-497f-ab3e-78c7b4e703bf text.no_data{text-anchor:middle}#chart-85e1cfd7-0e3b-497f-ab3e-78c7b4e703bf .guide.line{fill:none}#chart-85e1cfd7-0e3b-497f-ab3e-78c7b4e703bf .centered{text-anchor:middle}#chart-85e1cfd7-0e3b-497f-ab3e-78c7b4e703bf .title{text-anchor:middle}#chart-85e1cfd7-0e3b-497f-ab3e-78c7b4e703bf .legends .legend text{fill-opacity:1}#chart-85e1cfd7-0e3b-497f-ab3e-78c7b4e703bf .axis.x text{text-anchor:middle}#chart-85e1cfd7-0e3b-497f-ab3e-78c7b4e703bf .axis.x:not(.web) text[transform]{text-anchor:start}#chart-85e1cfd7-0e3b-497f-ab3e-78c7b4e703bf .axis.x:not(.web) text[transform].backwards{text-anchor:end}#chart-85e1cfd7-0e3b-497f-ab3e-78c7b4e703bf .axis.y text{text-anchor:end}#chart-85e1cfd7-0e3b-497f-ab3e-78c7b4e703bf .axis.y text[transform].backwards{text-anchor:start}#chart-85e1cfd7-0e3b-497f-ab3e-78c7b4e703bf .axis.y2 text{text-anchor:start}#chart-85e1cfd7-0e3b-497f-ab3e-78c7b4e703bf .axis.y2 text[transform].backwards{text-anchor:end}#chart-85e1cfd7-0e3b-497f-ab3e-78c7b4e703bf .axis .guide.line{stroke-dasharray:4,4}#chart-85e1cfd7-0e3b-497f-ab3e-78c7b4e703bf .axis .major.guide.line{stroke-dasharray:6,6}#chart-85e1cfd7-0e3b-497f-ab3e-78c7b4e703bf .horizontal .axis.y .guide.line,#chart-85e1cfd7-0e3b-497f-ab3e-78c7b4e703bf .horizontal .axis.y2 .guide.line,#chart-85e1cfd7-0e3b-497f-ab3e-78c7b4e703bf .vertical .axis.x .guide.line{opacity:0}#chart-85e1cfd7-0e3b-497f-ab3e-78c7b4e703bf .horizontal .axis.always_show .guide.line,#chart-85e1cfd7-0e3b-497f-ab3e-78c7b4e703bf .vertical .axis.always_show .guide.line{opacity:1 !important}#chart-85e1cfd7-0e3b-497f-ab3e-78c7b4e703bf .axis.y .guides:hover .guide.line,#chart-85e1cfd7-0e3b-497f-ab3e-78c7b4e703bf .axis.y2 .guides:hover .guide.line,#chart-85e1cfd7-0e3b-497f-ab3e-78c7b4e703bf .axis.x .guides:hover .guide.line{opacity:1}#chart-85e1cfd7-0e3b-497f-ab3e-78c7b4e703bf .axis .guides:hover text{opacity:1}#chart-85e1cfd7-0e3b-497f-ab3e-78c7b4e703bf .nofill{fill:none}#chart-85e1cfd7-0e3b-497f-ab3e-78c7b4e703bf .subtle-fill{fill-opacity:.2}#chart-85e1cfd7-0e3b-497f-ab3e-78c7b4e703bf .dot{stroke-width:1px;fill-opacity:1}#chart-85e1cfd7-0e3b-497f-ab3e-78c7b4e703bf .dot.active{stroke-width:5px}#chart-85e1cfd7-0e3b-497f-ab3e-78c7b4e703bf .dot.negative{fill:transparent}#chart-85e1cfd7-0e3b-497f-ab3e-78c7b4e703bf text,#chart-85e1cfd7-0e3b-497f-ab3e-78c7b4e703bf tspan{stroke:none !important}#chart-85e1cfd7-0e3b-497f-ab3e-78c7b4e703bf .series text.active{opacity:1}#chart-85e1cfd7-0e3b-497f-ab3e-78c7b4e703bf .tooltip rect{fill-opacity:.95;stroke-width:.5}#chart-85e1cfd7-0e3b-497f-ab3e-78c7b4e703bf .tooltip text{fill-opacity:1}#chart-85e1cfd7-0e3b-497f-ab3e-78c7b4e703bf .showable{visibility:hidden}#chart-85e1cfd7-0e3b-497f-ab3e-78c7b4e703bf .showable.shown{visibility:visible}#chart-85e1cfd7-0e3b-497f-ab3e-78c7b4e703bf .gauge-background{fill:rgba(229,229,229,1);stroke:none}#chart-85e1cfd7-0e3b-497f-ab3e-78c7b4e703bf .bg-lines{stroke:rgba(249,249,249,1);stroke-width:2px}</style><script type=\"text/javascript\">window.pygal = window.pygal || {};window.pygal.config = window.pygal.config || {};window.pygal.config['85e1cfd7-0e3b-497f-ab3e-78c7b4e703bf'] = {\"allow_interruptions\": false, \"box_mode\": \"extremes\", \"classes\": [\"pygal-chart\"], \"css\": [\"file://style.css\", \"file://graph.css\"], \"defs\": [], \"disable_xml_declaration\": false, \"dots_size\": 2.5, \"dynamic_print_values\": false, \"explicit_size\": true, \"fill\": false, \"force_uri_protocol\": \"https\", \"formatter\": null, \"half_pie\": false, \"height\": 400, \"include_x_axis\": false, \"inner_radius\": 0, \"interpolate\": null, \"interpolation_parameters\": {}, \"interpolation_precision\": 250, \"inverse_y_axis\": false, \"js\": [\"//kozea.github.io/pygal.js/2.0.x/pygal-tooltips.min.js\"], \"legend_at_bottom\": false, \"legend_at_bottom_columns\": null, \"legend_box_size\": 12, \"logarithmic\": false, \"margin\": 20, \"margin_bottom\": null, \"margin_left\": null, \"margin_right\": null, \"margin_top\": null, \"max_scale\": 16, \"min_scale\": 4, \"missing_value_fill_truncation\": \"x\", \"no_data_text\": \"No data\", \"no_prefix\": false, \"order_min\": null, \"pretty_print\": false, \"print_labels\": false, \"print_values\": false, \"print_values_position\": \"center\", \"print_zeroes\": true, \"range\": [90.0, 207.0], \"rounded_bars\": null, \"secondary_range\": null, \"show_dots\": true, \"show_legend\": true, \"show_minor_x_labels\": true, \"show_minor_y_labels\": true, \"show_only_major_dots\": false, \"show_x_guides\": false, \"show_x_labels\": true, \"show_y_guides\": true, \"show_y_labels\": true, \"spacing\": 10, \"stack_from_top\": false, \"strict\": false, \"stroke\": true, \"stroke_style\": null, \"style\": {\"background\": \"rgba(249, 249, 249, 1)\", \"ci_colors\": [], \"colors\": [\"#F44336\", \"#3F51B5\", \"#009688\", \"#FFC107\", \"#FF5722\", \"#9C27B0\", \"#03A9F4\", \"#8BC34A\", \"#FF9800\", \"#E91E63\", \"#2196F3\", \"#4CAF50\", \"#FFEB3B\", \"#673AB7\", \"#00BCD4\", \"#CDDC39\", \"#9E9E9E\", \"#607D8B\"], \"font_family\": \"Consolas, \\\"Liberation Mono\\\", Menlo, Courier, monospace\", \"foreground\": \"rgba(0, 0, 0, .87)\", \"foreground_strong\": \"rgba(0, 0, 0, 1)\", \"foreground_subtle\": \"rgba(0, 0, 0, .54)\", \"guide_stroke_dasharray\": \"4,4\", \"label_font_family\": \"Consolas, \\\"Liberation Mono\\\", Menlo, Courier, monospace\", \"label_font_size\": 10, \"legend_font_family\": \"Consolas, \\\"Liberation Mono\\\", Menlo, Courier, monospace\", \"legend_font_size\": 14, \"major_guide_stroke_dasharray\": \"6,6\", \"major_label_font_family\": \"Consolas, \\\"Liberation Mono\\\", Menlo, Courier, monospace\", \"major_label_font_size\": 10, \"no_data_font_family\": \"Consolas, \\\"Liberation Mono\\\", Menlo, Courier, monospace\", \"no_data_font_size\": 64, \"opacity\": \".7\", \"opacity_hover\": \".8\", \"plot_background\": \"rgba(255, 255, 255, 1)\", \"stroke_opacity\": \".8\", \"stroke_opacity_hover\": \".9\", \"title_font_family\": \"Consolas, \\\"Liberation Mono\\\", Menlo, Courier, monospace\", \"title_font_size\": 16, \"tooltip_font_family\": \"Consolas, \\\"Liberation Mono\\\", Menlo, Courier, monospace\", \"tooltip_font_size\": 14, \"transition\": \"150ms\", \"value_background\": \"rgba(229, 229, 229, 1)\", \"value_colors\": [], \"value_font_family\": \"Consolas, \\\"Liberation Mono\\\", Menlo, Courier, monospace\", \"value_font_size\": 16, \"value_label_font_family\": \"Consolas, \\\"Liberation Mono\\\", Menlo, Courier, monospace\", \"value_label_font_size\": 10}, \"title\": \"HorsePower \", \"tooltip_border_radius\": 0, \"tooltip_fancy_mode\": true, \"truncate_label\": null, \"truncate_legend\": -1, \"width\": 640, \"x_label_rotation\": 0, \"x_labels\": null, \"x_labels_major\": null, \"x_labels_major_count\": null, \"x_labels_major_every\": null, \"x_title\": null, \"xrange\": null, \"y_label_rotation\": 0, \"y_labels\": null, \"y_labels_major\": null, \"y_labels_major_count\": null, \"y_labels_major_every\": null, \"y_title\": null, \"zero\": 0, \"legends\": [\"alfa-romero\", \"mercedes-benz\", \"porsche\", \"toyota\", \"volkswagen\"]}</script><script type=\"text/javascript\" xlink:href=\"https://kozea.github.io/pygal.js/2.0.x/pygal-tooltips.min.js\"/></defs><title>HorsePower </title><g class=\"graph gauge-graph vertical\"><rect class=\"background\" height=\"400\" width=\"640\" x=\"0\" y=\"0\"/><g class=\"plot\" transform=\"translate(179, 46)\"><rect class=\"background\" height=\"334\" width=\"440.8\" x=\"0\" y=\"0\"/><g class=\"axis x gauge\"><g class=\"guides\"><path class=\"line\" d=\"M321.063462 299.110510 L326.361538 306.063695 Z\"/><path class=\"guide line major\" d=\"M220.400000 167.000000 L321.063462 299.110510 Z\"/><text x=\"315.7653846153846\" y=\"292.15732518153953\">90</text><title>90</title></g><g class=\"guides\"><path class=\"line\" d=\"M386.598963 253.094481 L395.346277 257.625770 Z\"/><path class=\"guide line \" d=\"M220.400000 167.000000 L386.598963 253.094481 Z\"/><text x=\"377.8516491023806\" y=\"248.56319269052568\">100</text><title>100</title></g><g class=\"guides\"><path class=\"line\" d=\"M419.400883 190.121784 L429.874614 191.338720 Z\"/><path class=\"guide line \" d=\"M220.400000 167.000000 L419.400883 190.121784 Z\"/><text x=\"408.92715245823916\" y=\"188.90484810622235\">110</text><title>110</title></g><g class=\"guides\"><path class=\"line\" d=\"M413.008747 122.595155 L423.146049 120.258058 Z\"/><path class=\"guide line \" d=\"M220.400000 167.000000 L413.008747 122.595155 Z\"/><text x=\"402.87144426473856\" y=\"124.93225202878793\">120</text><title>120</title></g><g class=\"guides\"><path class=\"line\" d=\"M368.681512 63.814246 L376.485802 58.383417 Z\"/><path class=\"guide line \" d=\"M220.400000 167.000000 L368.681512 63.814246 Z\"/><text x=\"360.87722159008405\" y=\"69.24507494249963\">130</text><title>130</title></g><g class=\"guides\"><path class=\"line\" d=\"M295.149612 25.356203 L299.083803 17.901266 Z\"/><path class=\"guide line \" d=\"M220.400000 167.000000 L295.149612 25.356203 Z\"/><text x=\"291.2154223106058\" y=\"32.811139391834956\">140</text><title>140</title></g><g class=\"guides\"><path class=\"line\" d=\"M206.895464 14.795498 L206.184699 6.784735 Z\"/><path class=\"guide line \" d=\"M220.400000 167.000000 L206.895464 14.795498 Z\"/><text x=\"207.606229287116\" y=\"22.80626143759764\">150</text><title>150</title></g><g class=\"guides\"><path class=\"line\" d=\"M121.301091 34.212107 L116.085359 27.223271 Z\"/><path class=\"guide line \" d=\"M220.400000 167.000000 L121.301091 34.212107 Z\"/><text x=\"126.51682293976239\" y=\"41.200943657269704\">160</text><title>160</title></g><g class=\"guides\"><path class=\"line\" d=\"M55.224662 79.781847 L46.531224 75.191418 Z\"/><path class=\"guide line \" d=\"M220.400000 167.000000 L55.224662 79.781847 Z\"/><text x=\"63.91810115903512\" y=\"84.37227641700864\">170</text><title>170</title></g><g class=\"guides\"><path class=\"line\" d=\"M21.680208 142.529568 L11.221271 141.241650 Z\"/><path class=\"guide line \" d=\"M220.400000 167.000000 L21.680208 142.529568 Z\"/><text x=\"32.13914413763807\" y=\"143.8174850837295\">180</text><title>180</title></g><g class=\"guides\"><path class=\"line\" d=\"M27.274448 210.096842 L17.109945 212.365097 Z\"/><path class=\"guide line \" d=\"M220.400000 167.000000 L27.274448 210.096842 Z\"/><text x=\"37.43895043675119\" y=\"207.82858706808716\">190</text><title>190</title></g><g class=\"guides\"><path class=\"line\" d=\"M70.905573 269.176013 L63.037446 274.553698 Z\"/><path class=\"guide line major\" d=\"M220.400000 167.000000 L70.905573 269.176013 Z\"/><text x=\"78.7737010292634\" y=\"263.7983279863122\">200</text><title>200</title></g></g><g class=\"axis y gauge\"><circle cx=\"220.4\" cy=\"167.0\" r=\"4\"/></g><g class=\"series serie-0 color-0\"><g class=\"dots\"><path class=\"line reactive tooltip-trigger\" d=\"M 399.496615 181.631564 L 221.906719 174.947263 A 0.050000 0.050000 1 0 1 224.107831 159.478748 Z\"/><desc class=\"value\">111</desc><desc class=\"x left top\">378.42642471296136</desc><desc class=\"y left top\">179.91020345901717</desc></g></g><g class=\"series serie-1 color-1\"><g class=\"dots\"><path class=\"line reactive tooltip-trigger\" d=\"M 168.736810 36.243643 L 229.483116 162.865393 A 0.050000 0.050000 1 0 1 209.812666 167.327525 Z\"/><desc class=\"value\">155</desc><desc class=\"x \">174.8148323392854</desc><desc class=\"y \">51.626743829312545</desc></g></g><g class=\"series serie-2 color-2\"><g class=\"dots\"><path class=\"line reactive tooltip-trigger\" d=\"M 130.332692 285.204140 L 210.197734 164.831265 A 0.050000 0.050000 1 0 1 227.979880 172.610348 Z\"/><desc class=\"value\">207</desc><desc class=\"x top\">140.92884615384617</desc><desc class=\"y top\">271.2977709846163</desc></g></g><g class=\"series serie-3 color-3\"><g class=\"dots\"><path class=\"line reactive tooltip-trigger\" d=\"M 399.316610 151.154433 L 224.196525 174.495805 A 0.050000 0.050000 1 0 1 221.812783 159.042838 Z\"/><desc class=\"value\">116</desc><desc class=\"x left\">378.26759666802224</desc><desc class=\"y left\">153.01861779405277</desc></g></g><g class=\"series serie-4 color-4\"><g class=\"dots\"><path class=\"line reactive tooltip-trigger\" d=\"M 310.467308 285.204140 L 212.820120 172.610348 A 0.050000 0.050000 1 0 1 230.602266 164.831265 Z\"/><desc class=\"value\">90</desc><desc class=\"x left top\">299.8711538461539</desc><desc class=\"y left top\">271.2977709846163</desc></g></g></g><g class=\"titles\"><text class=\"title plot_title\" x=\"320.0\" y=\"26\">HorsePower </text></g><g class=\"plot overlay\" transform=\"translate(179, 46)\"><g class=\"series serie-0 color-0\"/><g class=\"series serie-1 color-1\"/><g class=\"series serie-2 color-2\"/><g class=\"series serie-3 color-3\"/><g class=\"series serie-4 color-4\"/></g><g class=\"plot text-overlay\" transform=\"translate(179, 46)\"><g class=\"series serie-0 color-0\"/><g class=\"series serie-1 color-1\"/><g class=\"series serie-2 color-2\"/><g class=\"series serie-3 color-3\"/><g class=\"series serie-4 color-4\"/></g><g class=\"plot tooltip-overlay\" transform=\"translate(179, 46)\"><g class=\"tooltip\" style=\"opacity: 0\" transform=\"translate(0 0)\"><rect class=\"tooltip-box\" height=\"0\" rx=\"0\" ry=\"0\" width=\"0\"/><g class=\"text\"/></g></g><g class=\"legends\" transform=\"translate(10, 56)\"><g class=\"legend reactive activate-serie\" id=\"activate-serie-0\"><rect class=\"color-0 reactive\" height=\"12\" width=\"12\" x=\"0.0\" y=\"1.0\"/><text x=\"17.0\" y=\"11.2\">alfa-romero</text></g><g class=\"legend reactive activate-serie\" id=\"activate-serie-1\"><rect class=\"color-1 reactive\" height=\"12\" width=\"12\" x=\"0.0\" y=\"22.0\"/><text x=\"17.0\" y=\"32.2\">mercedes-benz</text></g><g class=\"legend reactive activate-serie\" id=\"activate-serie-2\"><rect class=\"color-2 reactive\" height=\"12\" width=\"12\" x=\"0.0\" y=\"43.0\"/><text x=\"17.0\" y=\"53.2\">porsche</text></g><g class=\"legend reactive activate-serie\" id=\"activate-serie-3\"><rect class=\"color-3 reactive\" height=\"12\" width=\"12\" x=\"0.0\" y=\"64.0\"/><text x=\"17.0\" y=\"74.2\">toyota</text></g><g class=\"legend reactive activate-serie\" id=\"activate-serie-4\"><rect class=\"color-4 reactive\" height=\"12\" width=\"12\" x=\"0.0\" y=\"85.0\"/><text x=\"17.0\" y=\"95.2\">volkswagen</text></g></g><g class=\"legends\" transform=\"translate(630, 56)\"/></g></svg>\n",
       "    </figure>\n",
       "  </body>\n",
       "</html>\n"
      ],
      "text/plain": [
       "<IPython.core.display.HTML object>"
      ]
     },
     "metadata": {},
     "output_type": "display_data"
    }
   ],
   "source": [
    "for index, row in convertibles.iterrows():\n",
    "    \n",
    "    gauge_chart.add(row['make'], row['horsepower'])\n",
    "    \n",
    "display_chart(gauge_chart)"
   ]
  },
  {
   "cell_type": "code",
   "execution_count": 25,
   "metadata": {
    "collapsed": true
   },
   "outputs": [],
   "source": [
    "import math\n",
    "\n",
    "def roundup(x, precision):\n",
    "    return int(math.ceil(x / precision)) * precision\n",
    "\n",
    "def rounddown(x, precision):\n",
    "    return int(math.floor(x / precision)) * precision"
   ]
  },
  {
   "cell_type": "code",
   "execution_count": 26,
   "metadata": {
    "collapsed": true
   },
   "outputs": [],
   "source": [
    "from pygal.style import NeonStyle"
   ]
  },
  {
   "cell_type": "code",
   "execution_count": 27,
   "metadata": {
    "collapsed": true
   },
   "outputs": [],
   "source": [
    "gauge_chart = pygal.Gauge(width = 640,\n",
    "                          height = 400,\n",
    "                          explicit_size = True,\n",
    "                          truncate_legend = -1, \n",
    "                          style = NeonStyle)\n",
    "\n",
    "gauge_chart.title = 'HorsePower '"
   ]
  },
  {
   "cell_type": "code",
   "execution_count": 28,
   "metadata": {},
   "outputs": [],
   "source": [
    "gauge_chart.range = [rounddown(convertibles['horsepower'].min(), 10),\n",
    "                     roundup(convertibles['horsepower'].max(), 10)]"
   ]
  },
  {
   "cell_type": "code",
   "execution_count": 29,
   "metadata": {},
   "outputs": [
    {
     "data": {
      "text/html": [
       "\n",
       "<!DOCTYPE html>\n",
       "<html>\n",
       "  <head>\n",
       "  <script type=\"text/javascript\" \n",
       "          src=\"http://kozea.github.com/pygal.js/javascripts/svg.jquery.js\">\n",
       "  </script>\n",
       "  <script type=\"text/javascript\" \n",
       "          src=\"https://kozea.github.io/pygal.js/2.0.x/pygal-tooltips.min.js\"\">\n",
       "  </script>\n",
       "  </head>\n",
       "  <body>\n",
       "    <figure>\n",
       "      <?xml version='1.0' encoding='utf-8'?>\n",
       "<svg xmlns:xlink=\"http://www.w3.org/1999/xlink\" xmlns=\"http://www.w3.org/2000/svg\" id=\"chart-5351b9bf-9b4f-420f-9702-7c904d511f35\" class=\"pygal-chart\" viewBox=\"0 0 640 400\" width=\"640\" height=\"400\"><!--Generated with pygal 2.4.0 (lxml) ©Kozea 2012-2016 on 2019-02-05--><!--http://pygal.org--><!--http://github.com/Kozea/pygal--><defs><style type=\"text/css\">#chart-5351b9bf-9b4f-420f-9702-7c904d511f35{-webkit-user-select:none;-webkit-font-smoothing:antialiased;font-family:Consolas,\"Liberation Mono\",Menlo,Courier,monospace}#chart-5351b9bf-9b4f-420f-9702-7c904d511f35 .title{font-family:Consolas,\"Liberation Mono\",Menlo,Courier,monospace;font-size:16px}#chart-5351b9bf-9b4f-420f-9702-7c904d511f35 .legends .legend text{font-family:Consolas,\"Liberation Mono\",Menlo,Courier,monospace;font-size:14px}#chart-5351b9bf-9b4f-420f-9702-7c904d511f35 .axis text{font-family:Consolas,\"Liberation Mono\",Menlo,Courier,monospace;font-size:10px}#chart-5351b9bf-9b4f-420f-9702-7c904d511f35 .axis text.major{font-family:Consolas,\"Liberation Mono\",Menlo,Courier,monospace;font-size:10px}#chart-5351b9bf-9b4f-420f-9702-7c904d511f35 .text-overlay text.value{font-family:Consolas,\"Liberation Mono\",Menlo,Courier,monospace;font-size:16px}#chart-5351b9bf-9b4f-420f-9702-7c904d511f35 .text-overlay text.label{font-family:Consolas,\"Liberation Mono\",Menlo,Courier,monospace;font-size:10px}#chart-5351b9bf-9b4f-420f-9702-7c904d511f35 .tooltip{font-family:Consolas,\"Liberation Mono\",Menlo,Courier,monospace;font-size:14px}#chart-5351b9bf-9b4f-420f-9702-7c904d511f35 text.no_data{font-family:Consolas,\"Liberation Mono\",Menlo,Courier,monospace;font-size:64px}\n",
       "#chart-5351b9bf-9b4f-420f-9702-7c904d511f35{background-color:black}#chart-5351b9bf-9b4f-420f-9702-7c904d511f35 path,#chart-5351b9bf-9b4f-420f-9702-7c904d511f35 line,#chart-5351b9bf-9b4f-420f-9702-7c904d511f35 rect,#chart-5351b9bf-9b4f-420f-9702-7c904d511f35 circle{-webkit-transition:1s ease-out;-moz-transition:1s ease-out;transition:1s ease-out}#chart-5351b9bf-9b4f-420f-9702-7c904d511f35 .graph &gt; .background{fill:black}#chart-5351b9bf-9b4f-420f-9702-7c904d511f35 .plot &gt; .background{fill:#111}#chart-5351b9bf-9b4f-420f-9702-7c904d511f35 .graph{fill:#999}#chart-5351b9bf-9b4f-420f-9702-7c904d511f35 text.no_data{fill:#eee}#chart-5351b9bf-9b4f-420f-9702-7c904d511f35 .title{fill:#eee}#chart-5351b9bf-9b4f-420f-9702-7c904d511f35 .legends .legend text{fill:#999}#chart-5351b9bf-9b4f-420f-9702-7c904d511f35 .legends .legend:hover text{fill:#eee}#chart-5351b9bf-9b4f-420f-9702-7c904d511f35 .axis .line{stroke:#eee}#chart-5351b9bf-9b4f-420f-9702-7c904d511f35 .axis .guide.line{stroke:#555}#chart-5351b9bf-9b4f-420f-9702-7c904d511f35 .axis .major.line{stroke:#999}#chart-5351b9bf-9b4f-420f-9702-7c904d511f35 .axis text.major{fill:#eee}#chart-5351b9bf-9b4f-420f-9702-7c904d511f35 .axis.y .guides:hover .guide.line,#chart-5351b9bf-9b4f-420f-9702-7c904d511f35 .line-graph .axis.x .guides:hover .guide.line,#chart-5351b9bf-9b4f-420f-9702-7c904d511f35 .stackedline-graph .axis.x .guides:hover .guide.line,#chart-5351b9bf-9b4f-420f-9702-7c904d511f35 .xy-graph .axis.x .guides:hover .guide.line{stroke:#eee}#chart-5351b9bf-9b4f-420f-9702-7c904d511f35 .axis .guides:hover text{fill:#eee}#chart-5351b9bf-9b4f-420f-9702-7c904d511f35 .reactive{fill-opacity:.1;stroke-opacity:.8}#chart-5351b9bf-9b4f-420f-9702-7c904d511f35 .ci{stroke:#999}#chart-5351b9bf-9b4f-420f-9702-7c904d511f35 .reactive.active,#chart-5351b9bf-9b4f-420f-9702-7c904d511f35 .active .reactive{fill-opacity:.75;stroke-opacity:.9;stroke-width:4}#chart-5351b9bf-9b4f-420f-9702-7c904d511f35 .ci .reactive.active{stroke-width:1.5}#chart-5351b9bf-9b4f-420f-9702-7c904d511f35 .series text{fill:#eee}#chart-5351b9bf-9b4f-420f-9702-7c904d511f35 .tooltip rect{fill:#111;stroke:#eee;-webkit-transition:opacity 1s ease-out;-moz-transition:opacity 1s ease-out;transition:opacity 1s ease-out}#chart-5351b9bf-9b4f-420f-9702-7c904d511f35 .tooltip .label{fill:#999}#chart-5351b9bf-9b4f-420f-9702-7c904d511f35 .tooltip .label{fill:#999}#chart-5351b9bf-9b4f-420f-9702-7c904d511f35 .tooltip .legend{font-size:.8em;fill:#555}#chart-5351b9bf-9b4f-420f-9702-7c904d511f35 .tooltip .x_label{font-size:.6em;fill:#eee}#chart-5351b9bf-9b4f-420f-9702-7c904d511f35 .tooltip .xlink{font-size:.5em;text-decoration:underline}#chart-5351b9bf-9b4f-420f-9702-7c904d511f35 .tooltip .value{font-size:1.5em}#chart-5351b9bf-9b4f-420f-9702-7c904d511f35 .bound{font-size:.5em}#chart-5351b9bf-9b4f-420f-9702-7c904d511f35 .max-value{font-size:.75em;fill:#555}#chart-5351b9bf-9b4f-420f-9702-7c904d511f35 .map-element{fill:#111;stroke:#555 !important}#chart-5351b9bf-9b4f-420f-9702-7c904d511f35 .map-element .reactive{fill-opacity:inherit;stroke-opacity:inherit}#chart-5351b9bf-9b4f-420f-9702-7c904d511f35 .color-0,#chart-5351b9bf-9b4f-420f-9702-7c904d511f35 .color-0 a:visited{stroke:#ff5995;fill:#ff5995}#chart-5351b9bf-9b4f-420f-9702-7c904d511f35 .color-1,#chart-5351b9bf-9b4f-420f-9702-7c904d511f35 .color-1 a:visited{stroke:#b6e354;fill:#b6e354}#chart-5351b9bf-9b4f-420f-9702-7c904d511f35 .color-2,#chart-5351b9bf-9b4f-420f-9702-7c904d511f35 .color-2 a:visited{stroke:#feed6c;fill:#feed6c}#chart-5351b9bf-9b4f-420f-9702-7c904d511f35 .color-3,#chart-5351b9bf-9b4f-420f-9702-7c904d511f35 .color-3 a:visited{stroke:#8cedff;fill:#8cedff}#chart-5351b9bf-9b4f-420f-9702-7c904d511f35 .color-4,#chart-5351b9bf-9b4f-420f-9702-7c904d511f35 .color-4 a:visited{stroke:#9e6ffe;fill:#9e6ffe}#chart-5351b9bf-9b4f-420f-9702-7c904d511f35 .text-overlay .color-0 text{fill:black}#chart-5351b9bf-9b4f-420f-9702-7c904d511f35 .text-overlay .color-1 text{fill:black}#chart-5351b9bf-9b4f-420f-9702-7c904d511f35 .text-overlay .color-2 text{fill:black}#chart-5351b9bf-9b4f-420f-9702-7c904d511f35 .text-overlay .color-3 text{fill:black}#chart-5351b9bf-9b4f-420f-9702-7c904d511f35 .text-overlay .color-4 text{fill:black}\n",
       "#chart-5351b9bf-9b4f-420f-9702-7c904d511f35 text.no_data{text-anchor:middle}#chart-5351b9bf-9b4f-420f-9702-7c904d511f35 .guide.line{fill:none}#chart-5351b9bf-9b4f-420f-9702-7c904d511f35 .centered{text-anchor:middle}#chart-5351b9bf-9b4f-420f-9702-7c904d511f35 .title{text-anchor:middle}#chart-5351b9bf-9b4f-420f-9702-7c904d511f35 .legends .legend text{fill-opacity:1}#chart-5351b9bf-9b4f-420f-9702-7c904d511f35 .axis.x text{text-anchor:middle}#chart-5351b9bf-9b4f-420f-9702-7c904d511f35 .axis.x:not(.web) text[transform]{text-anchor:start}#chart-5351b9bf-9b4f-420f-9702-7c904d511f35 .axis.x:not(.web) text[transform].backwards{text-anchor:end}#chart-5351b9bf-9b4f-420f-9702-7c904d511f35 .axis.y text{text-anchor:end}#chart-5351b9bf-9b4f-420f-9702-7c904d511f35 .axis.y text[transform].backwards{text-anchor:start}#chart-5351b9bf-9b4f-420f-9702-7c904d511f35 .axis.y2 text{text-anchor:start}#chart-5351b9bf-9b4f-420f-9702-7c904d511f35 .axis.y2 text[transform].backwards{text-anchor:end}#chart-5351b9bf-9b4f-420f-9702-7c904d511f35 .axis .guide.line{stroke-dasharray:4,4}#chart-5351b9bf-9b4f-420f-9702-7c904d511f35 .axis .major.guide.line{stroke-dasharray:6,6}#chart-5351b9bf-9b4f-420f-9702-7c904d511f35 .horizontal .axis.y .guide.line,#chart-5351b9bf-9b4f-420f-9702-7c904d511f35 .horizontal .axis.y2 .guide.line,#chart-5351b9bf-9b4f-420f-9702-7c904d511f35 .vertical .axis.x .guide.line{opacity:0}#chart-5351b9bf-9b4f-420f-9702-7c904d511f35 .horizontal .axis.always_show .guide.line,#chart-5351b9bf-9b4f-420f-9702-7c904d511f35 .vertical .axis.always_show .guide.line{opacity:1 !important}#chart-5351b9bf-9b4f-420f-9702-7c904d511f35 .axis.y .guides:hover .guide.line,#chart-5351b9bf-9b4f-420f-9702-7c904d511f35 .axis.y2 .guides:hover .guide.line,#chart-5351b9bf-9b4f-420f-9702-7c904d511f35 .axis.x .guides:hover .guide.line{opacity:1}#chart-5351b9bf-9b4f-420f-9702-7c904d511f35 .axis .guides:hover text{opacity:1}#chart-5351b9bf-9b4f-420f-9702-7c904d511f35 .nofill{fill:none}#chart-5351b9bf-9b4f-420f-9702-7c904d511f35 .subtle-fill{fill-opacity:.2}#chart-5351b9bf-9b4f-420f-9702-7c904d511f35 .dot{stroke-width:1px;fill-opacity:1}#chart-5351b9bf-9b4f-420f-9702-7c904d511f35 .dot.active{stroke-width:5px}#chart-5351b9bf-9b4f-420f-9702-7c904d511f35 .dot.negative{fill:transparent}#chart-5351b9bf-9b4f-420f-9702-7c904d511f35 text,#chart-5351b9bf-9b4f-420f-9702-7c904d511f35 tspan{stroke:none !important}#chart-5351b9bf-9b4f-420f-9702-7c904d511f35 .series text.active{opacity:1}#chart-5351b9bf-9b4f-420f-9702-7c904d511f35 .tooltip rect{fill-opacity:.95;stroke-width:.5}#chart-5351b9bf-9b4f-420f-9702-7c904d511f35 .tooltip text{fill-opacity:1}#chart-5351b9bf-9b4f-420f-9702-7c904d511f35 .showable{visibility:hidden}#chart-5351b9bf-9b4f-420f-9702-7c904d511f35 .showable.shown{visibility:visible}#chart-5351b9bf-9b4f-420f-9702-7c904d511f35 .gauge-background{fill:rgba(229,229,229,1);stroke:none}#chart-5351b9bf-9b4f-420f-9702-7c904d511f35 .bg-lines{stroke:black;stroke-width:2px}</style><script type=\"text/javascript\">window.pygal = window.pygal || {};window.pygal.config = window.pygal.config || {};window.pygal.config['5351b9bf-9b4f-420f-9702-7c904d511f35'] = {\"allow_interruptions\": false, \"box_mode\": \"extremes\", \"classes\": [\"pygal-chart\"], \"css\": [\"file://style.css\", \"file://graph.css\"], \"defs\": [], \"disable_xml_declaration\": false, \"dots_size\": 2.5, \"dynamic_print_values\": false, \"explicit_size\": true, \"fill\": false, \"force_uri_protocol\": \"https\", \"formatter\": null, \"half_pie\": false, \"height\": 400, \"include_x_axis\": false, \"inner_radius\": 0, \"interpolate\": null, \"interpolation_parameters\": {}, \"interpolation_precision\": 250, \"inverse_y_axis\": false, \"js\": [\"//kozea.github.io/pygal.js/2.0.x/pygal-tooltips.min.js\"], \"legend_at_bottom\": false, \"legend_at_bottom_columns\": null, \"legend_box_size\": 12, \"logarithmic\": false, \"margin\": 20, \"margin_bottom\": null, \"margin_left\": null, \"margin_right\": null, \"margin_top\": null, \"max_scale\": 16, \"min_scale\": 4, \"missing_value_fill_truncation\": \"x\", \"no_data_text\": \"No data\", \"no_prefix\": false, \"order_min\": null, \"pretty_print\": false, \"print_labels\": false, \"print_values\": false, \"print_values_position\": \"center\", \"print_zeroes\": true, \"range\": [90, 210], \"rounded_bars\": null, \"secondary_range\": null, \"show_dots\": true, \"show_legend\": true, \"show_minor_x_labels\": true, \"show_minor_y_labels\": true, \"show_only_major_dots\": false, \"show_x_guides\": false, \"show_x_labels\": true, \"show_y_guides\": true, \"show_y_labels\": true, \"spacing\": 10, \"stack_from_top\": false, \"strict\": false, \"stroke\": true, \"stroke_style\": null, \"style\": {\"background\": \"black\", \"ci_colors\": [], \"colors\": [\"#ff5995\", \"#b6e354\", \"#feed6c\", \"#8cedff\", \"#9e6ffe\", \"#899ca1\", \"#f8f8f2\", \"#bf4646\", \"#516083\", \"#f92672\", \"#82b414\", \"#fd971f\", \"#56c2d6\", \"#808384\", \"#8c54fe\", \"#465457\"], \"font_family\": \"Consolas, \\\"Liberation Mono\\\", Menlo, Courier, monospace\", \"foreground\": \"#999\", \"foreground_strong\": \"#eee\", \"foreground_subtle\": \"#555\", \"guide_stroke_dasharray\": \"4,4\", \"label_font_family\": \"Consolas, \\\"Liberation Mono\\\", Menlo, Courier, monospace\", \"label_font_size\": 10, \"legend_font_family\": \"Consolas, \\\"Liberation Mono\\\", Menlo, Courier, monospace\", \"legend_font_size\": 14, \"major_guide_stroke_dasharray\": \"6,6\", \"major_label_font_family\": \"Consolas, \\\"Liberation Mono\\\", Menlo, Courier, monospace\", \"major_label_font_size\": 10, \"no_data_font_family\": \"Consolas, \\\"Liberation Mono\\\", Menlo, Courier, monospace\", \"no_data_font_size\": 64, \"opacity\": \".1\", \"opacity_hover\": \".75\", \"plot_background\": \"#111\", \"stroke_opacity\": \".8\", \"stroke_opacity_hover\": \".9\", \"title_font_family\": \"Consolas, \\\"Liberation Mono\\\", Menlo, Courier, monospace\", \"title_font_size\": 16, \"tooltip_font_family\": \"Consolas, \\\"Liberation Mono\\\", Menlo, Courier, monospace\", \"tooltip_font_size\": 14, \"transition\": \"1s ease-out\", \"value_background\": \"rgba(229, 229, 229, 1)\", \"value_colors\": [], \"value_font_family\": \"Consolas, \\\"Liberation Mono\\\", Menlo, Courier, monospace\", \"value_font_size\": 16, \"value_label_font_family\": \"Consolas, \\\"Liberation Mono\\\", Menlo, Courier, monospace\", \"value_label_font_size\": 10}, \"title\": \"HorsePower \", \"tooltip_border_radius\": 0, \"tooltip_fancy_mode\": true, \"truncate_label\": null, \"truncate_legend\": -1, \"width\": 640, \"x_label_rotation\": 0, \"x_labels\": null, \"x_labels_major\": null, \"x_labels_major_count\": null, \"x_labels_major_every\": null, \"x_title\": null, \"xrange\": null, \"y_label_rotation\": 0, \"y_labels\": null, \"y_labels_major\": null, \"y_labels_major_count\": null, \"y_labels_major_every\": null, \"y_title\": null, \"zero\": 0, \"legends\": [\"alfa-romero\", \"mercedes-benz\", \"porsche\", \"toyota\", \"volkswagen\"]}</script><script type=\"text/javascript\" xlink:href=\"https://kozea.github.io/pygal.js/2.0.x/pygal-tooltips.min.js\"/></defs><title>HorsePower </title><g class=\"graph gauge-graph vertical\"><rect class=\"background\" height=\"400\" width=\"640\" x=\"0\" y=\"0\"/><g class=\"plot\" transform=\"translate(179, 46)\"><rect class=\"background\" height=\"334\" width=\"440.8\" x=\"0\" y=\"0\"/><g class=\"axis x gauge\"><g class=\"guides\"><path class=\"line\" d=\"M321.063462 299.110510 L326.361538 306.063695 Z\"/><path class=\"guide line major\" d=\"M220.400000 167.000000 L321.063462 299.110510 Z\"/><text x=\"315.7653846153846\" y=\"292.15732518153953\">90</text><title>90</title></g><g class=\"guides\"><path class=\"line\" d=\"M385.317361 254.497982 L393.997222 259.103139 Z\"/><path class=\"guide line \" d=\"M220.400000 167.000000 L385.317361 254.497982 Z\"/><text x=\"376.6374995241966\" y=\"249.89282536880978\">100</text><title>100</title></g><g class=\"guides\"><path class=\"line\" d=\"M418.668315 193.489696 L429.103489 194.883890 Z\"/><path class=\"guide line \" d=\"M220.400000 167.000000 L418.668315 193.489696 Z\"/><text x=\"408.23314027644386\" y=\"192.0955010609035\">110</text><title>110</title></g><g class=\"guides\"><path class=\"line\" d=\"M414.866875 127.517652 L425.101973 125.439634 Z\"/><path class=\"guide line \" d=\"M220.400000 167.000000 L414.866875 127.517652 Z\"/><text x=\"404.6317758679804\" y=\"129.5956706933568\">120</text><title>120</title></g><g class=\"guides\"><path class=\"line\" d=\"M374.625371 68.943986 L382.742495 63.783143 Z\"/><path class=\"guide line \" d=\"M220.400000 167.000000 L374.625371 68.943986 Z\"/><text x=\"366.50824590103883\" y=\"74.1048291001087\">130</text><title>130</title></g><g class=\"guides\"><path class=\"line\" d=\"M305.484434 28.744490 L309.962562 21.467884 Z\"/><path class=\"guide line \" d=\"M220.400000 167.000000 L305.484434 28.744490 Z\"/><text x=\"301.00630615277413\" y=\"36.021095777299536\">140</text><title>140</title></g><g class=\"guides\"><path class=\"line\" d=\"M220.400000 14.451923 L220.400000 6.423077 Z\"/><path class=\"guide line \" d=\"M220.400000 167.000000 L220.400000 14.451923 Z\"/><text x=\"220.40000000000006\" y=\"22.480769230769226\">150</text><title>150</title></g><g class=\"guides\"><path class=\"line\" d=\"M135.315566 28.744490 L130.837438 21.467884 Z\"/><path class=\"guide line \" d=\"M220.400000 167.000000 L135.315566 28.744490 Z\"/><text x=\"139.79369384722597\" y=\"36.02109577729948\">160</text><title>160</title></g><g class=\"guides\"><path class=\"line\" d=\"M66.174629 68.943986 L58.057505 63.783143 Z\"/><path class=\"guide line \" d=\"M220.400000 167.000000 L66.174629 68.943986 Z\"/><text x=\"74.29175409896102\" y=\"74.10482910010882\">170</text><title>170</title></g><g class=\"guides\"><path class=\"line\" d=\"M25.933125 127.517652 L15.698027 125.439634 Z\"/><path class=\"guide line \" d=\"M220.400000 167.000000 L25.933125 127.517652 Z\"/><text x=\"36.168224132019624\" y=\"129.59567069335685\">180</text><title>180</title></g><g class=\"guides\"><path class=\"line\" d=\"M22.131685 193.489696 L11.696511 194.883890 Z\"/><path class=\"guide line \" d=\"M220.400000 167.000000 L22.131685 193.489696 Z\"/><text x=\"32.56685972355615\" y=\"192.09550106090342\">190</text><title>190</title></g><g class=\"guides\"><path class=\"line\" d=\"M55.482639 254.497982 L46.802778 259.103139 Z\"/><path class=\"guide line \" d=\"M220.400000 167.000000 L55.482639 254.497982 Z\"/><text x=\"64.16250047580353\" y=\"249.89282536880992\">200</text><title>200</title></g><g class=\"guides\"><path class=\"line\" d=\"M119.736538 299.110510 L114.438462 306.063695 Z\"/><path class=\"guide line major\" d=\"M220.400000 167.000000 L119.736538 299.110510 Z\"/><text x=\"125.03461538461544\" y=\"292.15732518153953\">210</text><title>210</title></g></g><g class=\"axis y gauge\"><circle cx=\"220.4\" cy=\"167.0\" r=\"4\"/></g><g class=\"series serie-0 color-0\"><g class=\"dots\"><path class=\"line reactive tooltip-trigger\" d=\"M 398.993539 184.815570 L 221.662982 174.971610 A 0.050000 0.050000 1 0 1 224.342883 159.547700 Z\"/><desc class=\"value\">111</desc><desc class=\"x left top\">377.9825342164335</desc><desc class=\"y left top\">182.7196207457322</desc></g></g><g class=\"series serie-1 color-1\"><g class=\"dots\"><path class=\"line reactive tooltip-trigger\" d=\"M 181.411733 33.744982 L 229.854180 163.374283 A 0.050000 0.050000 1 0 1 209.809342 166.741435 Z\"/><desc class=\"value\">155</desc><desc class=\"x \">185.9985882846457</desc><desc class=\"y \">49.4220433732965</desc></g></g><g class=\"series serie-2 color-2\"><g class=\"dots\"><path class=\"line reactive tooltip-trigger\" d=\"M 110.740994 275.285103 L 210.657389 163.842963 A 0.050000 0.050000 1 0 1 226.946135 173.313465 Z\"/><desc class=\"value\">207</desc><desc class=\"x top\">123.64205363928714</desc><desc class=\"y top\">262.5456787225743</desc></g></g><g class=\"series serie-3 color-3\"><g class=\"dots\"><path class=\"line reactive tooltip-trigger\" d=\"M 399.849149 155.104079 L 223.910122 174.575523 A 0.050000 0.050000 1 0 1 222.120683 159.077720 Z\"/><desc class=\"value\">116</desc><desc class=\"x left\">378.73748422554377</desc><desc class=\"y left\">156.50359925082296</desc></g></g><g class=\"series serie-4 color-4\"><g class=\"dots\"><path class=\"line reactive tooltip-trigger\" d=\"M 310.467308 285.204140 L 212.822289 172.612030 A 0.050000 0.050000 1 0 1 230.603104 164.833530 Z\"/><desc class=\"value\">90</desc><desc class=\"x left top\">299.8711538461539</desc><desc class=\"y left top\">271.2977709846163</desc></g></g></g><g class=\"titles\"><text class=\"title plot_title\" x=\"320.0\" y=\"26\">HorsePower </text></g><g class=\"plot overlay\" transform=\"translate(179, 46)\"><g class=\"series serie-0 color-0\"/><g class=\"series serie-1 color-1\"/><g class=\"series serie-2 color-2\"/><g class=\"series serie-3 color-3\"/><g class=\"series serie-4 color-4\"/></g><g class=\"plot text-overlay\" transform=\"translate(179, 46)\"><g class=\"series serie-0 color-0\"/><g class=\"series serie-1 color-1\"/><g class=\"series serie-2 color-2\"/><g class=\"series serie-3 color-3\"/><g class=\"series serie-4 color-4\"/></g><g class=\"plot tooltip-overlay\" transform=\"translate(179, 46)\"><g class=\"tooltip\" style=\"opacity: 0\" transform=\"translate(0 0)\"><rect class=\"tooltip-box\" height=\"0\" rx=\"0\" ry=\"0\" width=\"0\"/><g class=\"text\"/></g></g><g class=\"legends\" transform=\"translate(10, 56)\"><g class=\"legend reactive activate-serie\" id=\"activate-serie-0\"><rect class=\"color-0 reactive\" height=\"12\" width=\"12\" x=\"0.0\" y=\"1.0\"/><text x=\"17.0\" y=\"11.2\">alfa-romero</text></g><g class=\"legend reactive activate-serie\" id=\"activate-serie-1\"><rect class=\"color-1 reactive\" height=\"12\" width=\"12\" x=\"0.0\" y=\"22.0\"/><text x=\"17.0\" y=\"32.2\">mercedes-benz</text></g><g class=\"legend reactive activate-serie\" id=\"activate-serie-2\"><rect class=\"color-2 reactive\" height=\"12\" width=\"12\" x=\"0.0\" y=\"43.0\"/><text x=\"17.0\" y=\"53.2\">porsche</text></g><g class=\"legend reactive activate-serie\" id=\"activate-serie-3\"><rect class=\"color-3 reactive\" height=\"12\" width=\"12\" x=\"0.0\" y=\"64.0\"/><text x=\"17.0\" y=\"74.2\">toyota</text></g><g class=\"legend reactive activate-serie\" id=\"activate-serie-4\"><rect class=\"color-4 reactive\" height=\"12\" width=\"12\" x=\"0.0\" y=\"85.0\"/><text x=\"17.0\" y=\"95.2\">volkswagen</text></g></g><g class=\"legends\" transform=\"translate(630, 56)\"/></g></svg>\n",
       "    </figure>\n",
       "  </body>\n",
       "</html>\n"
      ],
      "text/plain": [
       "<IPython.core.display.HTML object>"
      ]
     },
     "metadata": {},
     "output_type": "display_data"
    }
   ],
   "source": [
    "for index, row in convertibles.iterrows():\n",
    "    \n",
    "    gauge_chart.add(row['make'], row['horsepower'])\n",
    "    \n",
    "display_chart(gauge_chart)"
   ]
  },
  {
   "cell_type": "code",
   "execution_count": null,
   "metadata": {
    "collapsed": true
   },
   "outputs": [],
   "source": []
  },
  {
   "cell_type": "markdown",
   "metadata": {},
   "source": [
    "### Solid Gauge\n",
    "\n",
    "Compare the five cars to the **maximum value** for a feature. \n",
    "\n",
    "Let's say you want to compare the price of all cars and so, each car will be compare to the **maximum value** in the lot separately in the gauge. Here, **Solid Gauge** is used. "
   ]
  },
  {
   "cell_type": "code",
   "execution_count": 30,
   "metadata": {
    "collapsed": true
   },
   "outputs": [],
   "source": [
    "solid_gauge = pygal.SolidGauge(width = 640,\n",
    "                               height = 400,\n",
    "                               explicit_size = True,\n",
    "                               truncate_legend = -1,\n",
    "                               inner_radius=0.70)"
   ]
  },
  {
   "cell_type": "code",
   "execution_count": 31,
   "metadata": {
    "collapsed": true
   },
   "outputs": [],
   "source": [
    "solid_gauge.title = 'Auto Prices'"
   ]
  },
  {
   "cell_type": "code",
   "execution_count": 32,
   "metadata": {
    "collapsed": true
   },
   "outputs": [],
   "source": [
    "dollar_formatter = lambda x: '${:,.10g}'.format(x)"
   ]
  },
  {
   "cell_type": "code",
   "execution_count": 33,
   "metadata": {
    "collapsed": true
   },
   "outputs": [],
   "source": [
    "for index, row in convertibles.iterrows():\n",
    "    \n",
    "    solid_gauge.add(row['make'], \n",
    "                    [{'value': row['price'],\n",
    "                      'max_value': convertibles['price'].max()\n",
    "                     }],\n",
    "                     formatter = dollar_formatter)"
   ]
  },
  {
   "cell_type": "code",
   "execution_count": 34,
   "metadata": {},
   "outputs": [
    {
     "data": {
      "text/html": [
       "\n",
       "<!DOCTYPE html>\n",
       "<html>\n",
       "  <head>\n",
       "  <script type=\"text/javascript\" \n",
       "          src=\"http://kozea.github.com/pygal.js/javascripts/svg.jquery.js\">\n",
       "  </script>\n",
       "  <script type=\"text/javascript\" \n",
       "          src=\"https://kozea.github.io/pygal.js/2.0.x/pygal-tooltips.min.js\"\">\n",
       "  </script>\n",
       "  </head>\n",
       "  <body>\n",
       "    <figure>\n",
       "      <?xml version='1.0' encoding='utf-8'?>\n",
       "<svg xmlns:xlink=\"http://www.w3.org/1999/xlink\" xmlns=\"http://www.w3.org/2000/svg\" id=\"chart-1a2b9d1b-1eba-496b-bdd8-b321529a03e7\" class=\"pygal-chart\" viewBox=\"0 0 640 400\" width=\"640\" height=\"400\"><!--Generated with pygal 2.4.0 (lxml) ©Kozea 2012-2016 on 2019-02-05--><!--http://pygal.org--><!--http://github.com/Kozea/pygal--><defs><path d=\"M117.200000 14.584667 A41.082000 41.082000 0 1 1 117.199589 14.584667\" id=\"valuePath-117.255.666666666666664\"/><path d=\"M351.600000 14.584667 A41.082000 41.082000 0 1 1 351.599589 14.584667\" id=\"valuePath-351.655.666666666666664\"/><path d=\"M117.200000 125.918000 A41.082000 41.082000 0 1 1 117.199589 125.918000\" id=\"valuePath-117.2167.0\"/><path d=\"M351.600000 125.918000 A41.082000 41.082000 0 1 1 351.599589 125.918000\" id=\"valuePath-351.6167.0\"/><path d=\"M117.200000 237.251333 A41.082000 41.082000 0 1 1 117.199589 237.251333\" id=\"valuePath-117.2278.3333333333333\"/><style type=\"text/css\">#chart-1a2b9d1b-1eba-496b-bdd8-b321529a03e7{-webkit-user-select:none;-webkit-font-smoothing:antialiased;font-family:Consolas,\"Liberation Mono\",Menlo,Courier,monospace}#chart-1a2b9d1b-1eba-496b-bdd8-b321529a03e7 .title{font-family:Consolas,\"Liberation Mono\",Menlo,Courier,monospace;font-size:16px}#chart-1a2b9d1b-1eba-496b-bdd8-b321529a03e7 .legends .legend text{font-family:Consolas,\"Liberation Mono\",Menlo,Courier,monospace;font-size:14px}#chart-1a2b9d1b-1eba-496b-bdd8-b321529a03e7 .axis text{font-family:Consolas,\"Liberation Mono\",Menlo,Courier,monospace;font-size:10px}#chart-1a2b9d1b-1eba-496b-bdd8-b321529a03e7 .axis text.major{font-family:Consolas,\"Liberation Mono\",Menlo,Courier,monospace;font-size:10px}#chart-1a2b9d1b-1eba-496b-bdd8-b321529a03e7 .text-overlay text.value{font-family:Consolas,\"Liberation Mono\",Menlo,Courier,monospace;font-size:16px}#chart-1a2b9d1b-1eba-496b-bdd8-b321529a03e7 .text-overlay text.label{font-family:Consolas,\"Liberation Mono\",Menlo,Courier,monospace;font-size:10px}#chart-1a2b9d1b-1eba-496b-bdd8-b321529a03e7 .tooltip{font-family:Consolas,\"Liberation Mono\",Menlo,Courier,monospace;font-size:14px}#chart-1a2b9d1b-1eba-496b-bdd8-b321529a03e7 text.no_data{font-family:Consolas,\"Liberation Mono\",Menlo,Courier,monospace;font-size:64px}\n",
       "#chart-1a2b9d1b-1eba-496b-bdd8-b321529a03e7{background-color:rgba(249,249,249,1)}#chart-1a2b9d1b-1eba-496b-bdd8-b321529a03e7 path,#chart-1a2b9d1b-1eba-496b-bdd8-b321529a03e7 line,#chart-1a2b9d1b-1eba-496b-bdd8-b321529a03e7 rect,#chart-1a2b9d1b-1eba-496b-bdd8-b321529a03e7 circle{-webkit-transition:150ms;-moz-transition:150ms;transition:150ms}#chart-1a2b9d1b-1eba-496b-bdd8-b321529a03e7 .graph &gt; .background{fill:rgba(249,249,249,1)}#chart-1a2b9d1b-1eba-496b-bdd8-b321529a03e7 .plot &gt; .background{fill:rgba(255,255,255,1)}#chart-1a2b9d1b-1eba-496b-bdd8-b321529a03e7 .graph{fill:rgba(0,0,0,.87)}#chart-1a2b9d1b-1eba-496b-bdd8-b321529a03e7 text.no_data{fill:rgba(0,0,0,1)}#chart-1a2b9d1b-1eba-496b-bdd8-b321529a03e7 .title{fill:rgba(0,0,0,1)}#chart-1a2b9d1b-1eba-496b-bdd8-b321529a03e7 .legends .legend text{fill:rgba(0,0,0,.87)}#chart-1a2b9d1b-1eba-496b-bdd8-b321529a03e7 .legends .legend:hover text{fill:rgba(0,0,0,1)}#chart-1a2b9d1b-1eba-496b-bdd8-b321529a03e7 .axis .line{stroke:rgba(0,0,0,1)}#chart-1a2b9d1b-1eba-496b-bdd8-b321529a03e7 .axis .guide.line{stroke:rgba(0,0,0,.54)}#chart-1a2b9d1b-1eba-496b-bdd8-b321529a03e7 .axis .major.line{stroke:rgba(0,0,0,.87)}#chart-1a2b9d1b-1eba-496b-bdd8-b321529a03e7 .axis text.major{fill:rgba(0,0,0,1)}#chart-1a2b9d1b-1eba-496b-bdd8-b321529a03e7 .axis.y .guides:hover .guide.line,#chart-1a2b9d1b-1eba-496b-bdd8-b321529a03e7 .line-graph .axis.x .guides:hover .guide.line,#chart-1a2b9d1b-1eba-496b-bdd8-b321529a03e7 .stackedline-graph .axis.x .guides:hover .guide.line,#chart-1a2b9d1b-1eba-496b-bdd8-b321529a03e7 .xy-graph .axis.x .guides:hover .guide.line{stroke:rgba(0,0,0,1)}#chart-1a2b9d1b-1eba-496b-bdd8-b321529a03e7 .axis .guides:hover text{fill:rgba(0,0,0,1)}#chart-1a2b9d1b-1eba-496b-bdd8-b321529a03e7 .reactive{fill-opacity:.7;stroke-opacity:.8}#chart-1a2b9d1b-1eba-496b-bdd8-b321529a03e7 .ci{stroke:rgba(0,0,0,.87)}#chart-1a2b9d1b-1eba-496b-bdd8-b321529a03e7 .reactive.active,#chart-1a2b9d1b-1eba-496b-bdd8-b321529a03e7 .active .reactive{fill-opacity:.8;stroke-opacity:.9;stroke-width:4}#chart-1a2b9d1b-1eba-496b-bdd8-b321529a03e7 .ci .reactive.active{stroke-width:1.5}#chart-1a2b9d1b-1eba-496b-bdd8-b321529a03e7 .series text{fill:rgba(0,0,0,1)}#chart-1a2b9d1b-1eba-496b-bdd8-b321529a03e7 .tooltip rect{fill:rgba(255,255,255,1);stroke:rgba(0,0,0,1);-webkit-transition:opacity 150ms;-moz-transition:opacity 150ms;transition:opacity 150ms}#chart-1a2b9d1b-1eba-496b-bdd8-b321529a03e7 .tooltip .label{fill:rgba(0,0,0,.87)}#chart-1a2b9d1b-1eba-496b-bdd8-b321529a03e7 .tooltip .label{fill:rgba(0,0,0,.87)}#chart-1a2b9d1b-1eba-496b-bdd8-b321529a03e7 .tooltip .legend{font-size:.8em;fill:rgba(0,0,0,.54)}#chart-1a2b9d1b-1eba-496b-bdd8-b321529a03e7 .tooltip .x_label{font-size:.6em;fill:rgba(0,0,0,1)}#chart-1a2b9d1b-1eba-496b-bdd8-b321529a03e7 .tooltip .xlink{font-size:.5em;text-decoration:underline}#chart-1a2b9d1b-1eba-496b-bdd8-b321529a03e7 .tooltip .value{font-size:1.5em}#chart-1a2b9d1b-1eba-496b-bdd8-b321529a03e7 .bound{font-size:.5em}#chart-1a2b9d1b-1eba-496b-bdd8-b321529a03e7 .max-value{font-size:.75em;fill:rgba(0,0,0,.54)}#chart-1a2b9d1b-1eba-496b-bdd8-b321529a03e7 .map-element{fill:rgba(255,255,255,1);stroke:rgba(0,0,0,.54) !important}#chart-1a2b9d1b-1eba-496b-bdd8-b321529a03e7 .map-element .reactive{fill-opacity:inherit;stroke-opacity:inherit}#chart-1a2b9d1b-1eba-496b-bdd8-b321529a03e7 .color-0,#chart-1a2b9d1b-1eba-496b-bdd8-b321529a03e7 .color-0 a:visited{stroke:#F44336;fill:#F44336}#chart-1a2b9d1b-1eba-496b-bdd8-b321529a03e7 .color-1,#chart-1a2b9d1b-1eba-496b-bdd8-b321529a03e7 .color-1 a:visited{stroke:#3F51B5;fill:#3F51B5}#chart-1a2b9d1b-1eba-496b-bdd8-b321529a03e7 .color-2,#chart-1a2b9d1b-1eba-496b-bdd8-b321529a03e7 .color-2 a:visited{stroke:#009688;fill:#009688}#chart-1a2b9d1b-1eba-496b-bdd8-b321529a03e7 .color-3,#chart-1a2b9d1b-1eba-496b-bdd8-b321529a03e7 .color-3 a:visited{stroke:#FFC107;fill:#FFC107}#chart-1a2b9d1b-1eba-496b-bdd8-b321529a03e7 .color-4,#chart-1a2b9d1b-1eba-496b-bdd8-b321529a03e7 .color-4 a:visited{stroke:#FF5722;fill:#FF5722}#chart-1a2b9d1b-1eba-496b-bdd8-b321529a03e7 .text-overlay .color-0 text{fill:black}#chart-1a2b9d1b-1eba-496b-bdd8-b321529a03e7 .text-overlay .color-1 text{fill:black}#chart-1a2b9d1b-1eba-496b-bdd8-b321529a03e7 .text-overlay .color-2 text{fill:black}#chart-1a2b9d1b-1eba-496b-bdd8-b321529a03e7 .text-overlay .color-3 text{fill:black}#chart-1a2b9d1b-1eba-496b-bdd8-b321529a03e7 .text-overlay .color-4 text{fill:black}\n",
       "#chart-1a2b9d1b-1eba-496b-bdd8-b321529a03e7 text.no_data{text-anchor:middle}#chart-1a2b9d1b-1eba-496b-bdd8-b321529a03e7 .guide.line{fill:none}#chart-1a2b9d1b-1eba-496b-bdd8-b321529a03e7 .centered{text-anchor:middle}#chart-1a2b9d1b-1eba-496b-bdd8-b321529a03e7 .title{text-anchor:middle}#chart-1a2b9d1b-1eba-496b-bdd8-b321529a03e7 .legends .legend text{fill-opacity:1}#chart-1a2b9d1b-1eba-496b-bdd8-b321529a03e7 .axis.x text{text-anchor:middle}#chart-1a2b9d1b-1eba-496b-bdd8-b321529a03e7 .axis.x:not(.web) text[transform]{text-anchor:start}#chart-1a2b9d1b-1eba-496b-bdd8-b321529a03e7 .axis.x:not(.web) text[transform].backwards{text-anchor:end}#chart-1a2b9d1b-1eba-496b-bdd8-b321529a03e7 .axis.y text{text-anchor:end}#chart-1a2b9d1b-1eba-496b-bdd8-b321529a03e7 .axis.y text[transform].backwards{text-anchor:start}#chart-1a2b9d1b-1eba-496b-bdd8-b321529a03e7 .axis.y2 text{text-anchor:start}#chart-1a2b9d1b-1eba-496b-bdd8-b321529a03e7 .axis.y2 text[transform].backwards{text-anchor:end}#chart-1a2b9d1b-1eba-496b-bdd8-b321529a03e7 .axis .guide.line{stroke-dasharray:4,4}#chart-1a2b9d1b-1eba-496b-bdd8-b321529a03e7 .axis .major.guide.line{stroke-dasharray:6,6}#chart-1a2b9d1b-1eba-496b-bdd8-b321529a03e7 .horizontal .axis.y .guide.line,#chart-1a2b9d1b-1eba-496b-bdd8-b321529a03e7 .horizontal .axis.y2 .guide.line,#chart-1a2b9d1b-1eba-496b-bdd8-b321529a03e7 .vertical .axis.x .guide.line{opacity:0}#chart-1a2b9d1b-1eba-496b-bdd8-b321529a03e7 .horizontal .axis.always_show .guide.line,#chart-1a2b9d1b-1eba-496b-bdd8-b321529a03e7 .vertical .axis.always_show .guide.line{opacity:1 !important}#chart-1a2b9d1b-1eba-496b-bdd8-b321529a03e7 .axis.y .guides:hover .guide.line,#chart-1a2b9d1b-1eba-496b-bdd8-b321529a03e7 .axis.y2 .guides:hover .guide.line,#chart-1a2b9d1b-1eba-496b-bdd8-b321529a03e7 .axis.x .guides:hover .guide.line{opacity:1}#chart-1a2b9d1b-1eba-496b-bdd8-b321529a03e7 .axis .guides:hover text{opacity:1}#chart-1a2b9d1b-1eba-496b-bdd8-b321529a03e7 .nofill{fill:none}#chart-1a2b9d1b-1eba-496b-bdd8-b321529a03e7 .subtle-fill{fill-opacity:.2}#chart-1a2b9d1b-1eba-496b-bdd8-b321529a03e7 .dot{stroke-width:1px;fill-opacity:1}#chart-1a2b9d1b-1eba-496b-bdd8-b321529a03e7 .dot.active{stroke-width:5px}#chart-1a2b9d1b-1eba-496b-bdd8-b321529a03e7 .dot.negative{fill:transparent}#chart-1a2b9d1b-1eba-496b-bdd8-b321529a03e7 text,#chart-1a2b9d1b-1eba-496b-bdd8-b321529a03e7 tspan{stroke:none !important}#chart-1a2b9d1b-1eba-496b-bdd8-b321529a03e7 .series text.active{opacity:1}#chart-1a2b9d1b-1eba-496b-bdd8-b321529a03e7 .tooltip rect{fill-opacity:.95;stroke-width:.5}#chart-1a2b9d1b-1eba-496b-bdd8-b321529a03e7 .tooltip text{fill-opacity:1}#chart-1a2b9d1b-1eba-496b-bdd8-b321529a03e7 .showable{visibility:hidden}#chart-1a2b9d1b-1eba-496b-bdd8-b321529a03e7 .showable.shown{visibility:visible}#chart-1a2b9d1b-1eba-496b-bdd8-b321529a03e7 .gauge-background{fill:rgba(229,229,229,1);stroke:none}#chart-1a2b9d1b-1eba-496b-bdd8-b321529a03e7 .bg-lines{stroke:rgba(249,249,249,1);stroke-width:2px}</style><script type=\"text/javascript\">window.pygal = window.pygal || {};window.pygal.config = window.pygal.config || {};window.pygal.config['1a2b9d1b-1eba-496b-bdd8-b321529a03e7'] = {\"allow_interruptions\": false, \"box_mode\": \"extremes\", \"classes\": [\"pygal-chart\"], \"css\": [\"file://style.css\", \"file://graph.css\"], \"defs\": [], \"disable_xml_declaration\": false, \"dots_size\": 2.5, \"dynamic_print_values\": false, \"explicit_size\": true, \"fill\": false, \"force_uri_protocol\": \"https\", \"formatter\": null, \"half_pie\": false, \"height\": 400, \"include_x_axis\": false, \"inner_radius\": 0.7, \"interpolate\": null, \"interpolation_parameters\": {}, \"interpolation_precision\": 250, \"inverse_y_axis\": false, \"js\": [\"//kozea.github.io/pygal.js/2.0.x/pygal-tooltips.min.js\"], \"legend_at_bottom\": false, \"legend_at_bottom_columns\": null, \"legend_box_size\": 12, \"logarithmic\": false, \"margin\": 20, \"margin_bottom\": null, \"margin_left\": null, \"margin_right\": null, \"margin_top\": null, \"max_scale\": 16, \"min_scale\": 4, \"missing_value_fill_truncation\": \"x\", \"no_data_text\": \"No data\", \"no_prefix\": false, \"order_min\": null, \"pretty_print\": false, \"print_labels\": false, \"print_values\": false, \"print_values_position\": \"center\", \"print_zeroes\": true, \"range\": null, \"rounded_bars\": null, \"secondary_range\": null, \"show_dots\": true, \"show_legend\": true, \"show_minor_x_labels\": true, \"show_minor_y_labels\": true, \"show_only_major_dots\": false, \"show_x_guides\": false, \"show_x_labels\": true, \"show_y_guides\": true, \"show_y_labels\": true, \"spacing\": 10, \"stack_from_top\": false, \"strict\": false, \"stroke\": true, \"stroke_style\": null, \"style\": {\"background\": \"rgba(249, 249, 249, 1)\", \"ci_colors\": [], \"colors\": [\"#F44336\", \"#3F51B5\", \"#009688\", \"#FFC107\", \"#FF5722\", \"#9C27B0\", \"#03A9F4\", \"#8BC34A\", \"#FF9800\", \"#E91E63\", \"#2196F3\", \"#4CAF50\", \"#FFEB3B\", \"#673AB7\", \"#00BCD4\", \"#CDDC39\", \"#9E9E9E\", \"#607D8B\"], \"font_family\": \"Consolas, \\\"Liberation Mono\\\", Menlo, Courier, monospace\", \"foreground\": \"rgba(0, 0, 0, .87)\", \"foreground_strong\": \"rgba(0, 0, 0, 1)\", \"foreground_subtle\": \"rgba(0, 0, 0, .54)\", \"guide_stroke_dasharray\": \"4,4\", \"label_font_family\": \"Consolas, \\\"Liberation Mono\\\", Menlo, Courier, monospace\", \"label_font_size\": 10, \"legend_font_family\": \"Consolas, \\\"Liberation Mono\\\", Menlo, Courier, monospace\", \"legend_font_size\": 14, \"major_guide_stroke_dasharray\": \"6,6\", \"major_label_font_family\": \"Consolas, \\\"Liberation Mono\\\", Menlo, Courier, monospace\", \"major_label_font_size\": 10, \"no_data_font_family\": \"Consolas, \\\"Liberation Mono\\\", Menlo, Courier, monospace\", \"no_data_font_size\": 64, \"opacity\": \".7\", \"opacity_hover\": \".8\", \"plot_background\": \"rgba(255, 255, 255, 1)\", \"stroke_opacity\": \".8\", \"stroke_opacity_hover\": \".9\", \"title_font_family\": \"Consolas, \\\"Liberation Mono\\\", Menlo, Courier, monospace\", \"title_font_size\": 16, \"tooltip_font_family\": \"Consolas, \\\"Liberation Mono\\\", Menlo, Courier, monospace\", \"tooltip_font_size\": 14, \"transition\": \"150ms\", \"value_background\": \"rgba(229, 229, 229, 1)\", \"value_colors\": [], \"value_font_family\": \"Consolas, \\\"Liberation Mono\\\", Menlo, Courier, monospace\", \"value_font_size\": 16, \"value_label_font_family\": \"Consolas, \\\"Liberation Mono\\\", Menlo, Courier, monospace\", \"value_label_font_size\": 10}, \"title\": \"Auto Prices\", \"tooltip_border_radius\": 0, \"tooltip_fancy_mode\": true, \"truncate_label\": null, \"truncate_legend\": -1, \"width\": 640, \"x_label_rotation\": 0, \"x_labels\": null, \"x_labels_major\": null, \"x_labels_major_count\": null, \"x_labels_major_every\": null, \"x_title\": null, \"xrange\": null, \"y_label_rotation\": 0, \"y_labels\": null, \"y_labels_major\": null, \"y_labels_major_count\": null, \"y_labels_major_every\": null, \"y_title\": null, \"zero\": 0, \"legends\": [\"alfa-romero\", \"mercedes-benz\", \"porsche\", \"toyota\", \"volkswagen\"]}</script><script type=\"text/javascript\" xlink:href=\"https://kozea.github.io/pygal.js/2.0.x/pygal-tooltips.min.js\"/></defs><title>Auto Prices</title><g class=\"graph solidgauge-graph vertical\"><rect class=\"background\" height=\"400\" width=\"640\" x=\"0\" y=\"0\"/><g class=\"plot\" transform=\"translate(151, 46)\"><rect class=\"background\" height=\"334\" width=\"468.8\" x=\"0\" y=\"0\"/><path class=\"bg-lines\" d=\"M234.4 0 L234.4 334\"/><path class=\"bg-lines\" d=\"M0 111.33333333333333 L468.8 111.33333333333333\"/><path class=\"bg-lines\" d=\"M0 222.66666666666666 L468.8 222.66666666666666\"/><g class=\"series serie-0 color-0\"><path class=\"gauge-background reactive\" d=\"M117.200000 5.566667 A50.100000 50.100000 0 1 1 117.199499 5.566667 L117.199649 20.596667 A35.070000 35.070000 0 1 0 117.200000 20.596667 z\"/><g class=\"gauge\"><path class=\"slice reactive tooltip-trigger\" d=\"M117.200000 5.566667 A50.100000 50.100000 0 0 1 133.990354 102.869357 L128.953248 88.708550 A35.070000 35.070000 0 0 0 117.200000 20.596667 z\"/><desc class=\"value\">$16,500</desc><desc class=\"x centered\">159.16480559611574</desc><desc class=\"y centered\">48.42530517312056</desc></g></g><g class=\"series serie-1 color-1\"><path class=\"gauge-background reactive\" d=\"M351.600000 5.566667 A50.100000 50.100000 0 1 1 351.599499 5.566667 L351.599649 20.596667 A35.070000 35.070000 0 1 0 351.600000 20.596667 z\"/><g class=\"gauge\"><path class=\"slice reactive tooltip-trigger\" d=\"M351.600000 5.566667 A50.100000 50.100000 0 1 1 335.146477 8.345513 L340.082534 22.541859 A35.070000 35.070000 0 1 0 351.600000 20.596667 z\"/><desc class=\"value\">$35,056</desc><desc class=\"x centered\">358.69177695439964</desc><desc class=\"y centered\">97.65700989733158</desc></g></g><g class=\"series serie-2 color-2\"><path class=\"gauge-background reactive\" d=\"M117.200000 116.900000 A50.100000 50.100000 0 1 1 117.199499 116.900000 L117.199649 131.930000 A35.070000 35.070000 0 1 0 117.200000 131.930000 z\"/><g class=\"gauge\"><path class=\"slice reactive tooltip-trigger\" d=\"M117.200000 116.900000 A50.100000 50.100000 0 1 1 117.199499 116.900000 L117.199649 131.930000 A35.070000 35.070000 0 1 0 117.200000 131.930000 z\"/><desc class=\"value\">$37,028</desc><desc class=\"x centered\">117.200212925</desc><desc class=\"y centered\">209.5849999994677</desc></g></g><g class=\"series serie-3 color-3\"><path class=\"gauge-background reactive\" d=\"M351.600000 116.900000 A50.100000 50.100000 0 1 1 351.599499 116.900000 L351.599649 131.930000 A35.070000 35.070000 0 1 0 351.600000 131.930000 z\"/><g class=\"gauge\"><path class=\"slice reactive tooltip-trigger\" d=\"M351.600000 116.900000 A50.100000 50.100000 0 0 1 358.759042 216.585866 L356.611329 201.710106 A35.070000 35.070000 0 0 0 351.600000 131.930000 z\"/><desc class=\"value\">$17,669</desc><desc class=\"x centered\">394.0756060553732</desc><desc class=\"y centered\">163.94957130410455</desc></g></g><g class=\"series serie-4 color-4\"><path class=\"gauge-background reactive\" d=\"M117.200000 228.233333 A50.100000 50.100000 0 1 1 117.199499 228.233333 L117.199649 243.263333 A35.070000 35.070000 0 1 0 117.200000 243.263333 z\"/><g class=\"gauge\"><path class=\"slice reactive tooltip-trigger\" d=\"M117.200000 228.233333 A50.100000 50.100000 0 0 1 163.408723 297.692155 L149.546106 291.884508 A35.070000 35.070000 0 0 0 117.200000 243.263333 z\"/><desc class=\"value\">$11,595</desc><desc class=\"x centered\">152.65573522164098</desc><desc class=\"y centered\">254.74577167696688</desc></g></g></g><g class=\"titles\"><text class=\"title plot_title\" x=\"320.0\" y=\"26\">Auto Prices</text></g><g class=\"plot overlay\" transform=\"translate(151, 46)\"><g class=\"series serie-0 color-0\"/><g class=\"series serie-1 color-1\"/><g class=\"series serie-2 color-2\"/><g class=\"series serie-3 color-3\"/><g class=\"series serie-4 color-4\"/></g><g class=\"plot text-overlay\" transform=\"translate(151, 46)\"><g class=\"series serie-0 color-0\"><text><textPath class=\"max-value reactive\" startOffset=\"99%\" text-anchor=\"end\" xlink:href=\"#valuePath-117.255.666666666666664\">$37,028</textPath></text><text class=\"value gauge-sum\" text-anchor=\"middle\" x=\"117.2\" y=\"61.0\">$16,500</text></g><g class=\"series serie-1 color-1\"><text><textPath class=\"max-value reactive\" startOffset=\"99%\" text-anchor=\"end\" xlink:href=\"#valuePath-351.655.666666666666664\">$37,028</textPath></text><text class=\"value gauge-sum\" text-anchor=\"middle\" x=\"351.6\" y=\"61.0\">$35,056</text></g><g class=\"series serie-2 color-2\"><text><textPath class=\"max-value reactive\" startOffset=\"99%\" text-anchor=\"end\" xlink:href=\"#valuePath-117.2167.0\">$37,028</textPath></text><text class=\"value gauge-sum\" text-anchor=\"middle\" x=\"117.2\" y=\"172.33333333333334\">$37,028</text></g><g class=\"series serie-3 color-3\"><text><textPath class=\"max-value reactive\" startOffset=\"99%\" text-anchor=\"end\" xlink:href=\"#valuePath-351.6167.0\">$37,028</textPath></text><text class=\"value gauge-sum\" text-anchor=\"middle\" x=\"351.6\" y=\"172.33333333333334\">$17,669</text></g><g class=\"series serie-4 color-4\"><text><textPath class=\"max-value reactive\" startOffset=\"99%\" text-anchor=\"end\" xlink:href=\"#valuePath-117.2278.3333333333333\">$37,028</textPath></text><text class=\"value gauge-sum\" text-anchor=\"middle\" x=\"117.2\" y=\"283.66666666666663\">$11,595</text></g></g><g class=\"plot tooltip-overlay\" transform=\"translate(151, 46)\"><g class=\"tooltip\" style=\"opacity: 0\" transform=\"translate(0 0)\"><rect class=\"tooltip-box\" height=\"0\" rx=\"0\" ry=\"0\" width=\"0\"/><g class=\"text\"/></g></g><g class=\"legends\" transform=\"translate(10, 56)\"><g class=\"legend reactive activate-serie\" id=\"activate-serie-0\"><rect class=\"color-0 reactive\" height=\"12\" width=\"12\" x=\"0.0\" y=\"1.0\"/><text x=\"17.0\" y=\"11.2\">alfa-romero</text></g><g class=\"legend reactive activate-serie\" id=\"activate-serie-1\"><rect class=\"color-1 reactive\" height=\"12\" width=\"12\" x=\"0.0\" y=\"22.0\"/><text x=\"17.0\" y=\"32.2\">mercedes-benz</text></g><g class=\"legend reactive activate-serie\" id=\"activate-serie-2\"><rect class=\"color-2 reactive\" height=\"12\" width=\"12\" x=\"0.0\" y=\"43.0\"/><text x=\"17.0\" y=\"53.2\">porsche</text></g><g class=\"legend reactive activate-serie\" id=\"activate-serie-3\"><rect class=\"color-3 reactive\" height=\"12\" width=\"12\" x=\"0.0\" y=\"64.0\"/><text x=\"17.0\" y=\"74.2\">toyota</text></g><g class=\"legend reactive activate-serie\" id=\"activate-serie-4\"><rect class=\"color-4 reactive\" height=\"12\" width=\"12\" x=\"0.0\" y=\"85.0\"/><text x=\"17.0\" y=\"95.2\">volkswagen</text></g></g><g class=\"legends\" transform=\"translate(630, 56)\"/></g></svg>\n",
       "    </figure>\n",
       "  </body>\n",
       "</html>\n"
      ],
      "text/plain": [
       "<IPython.core.display.HTML object>"
      ]
     },
     "metadata": {},
     "output_type": "display_data"
    }
   ],
   "source": [
    "display_chart(solid_gauge)"
   ]
  },
  {
   "cell_type": "markdown",
   "metadata": {},
   "source": [
    "Solid gauge can be a **semi-circle** and you can specify the **inner_radius** too. "
   ]
  },
  {
   "cell_type": "code",
   "execution_count": 35,
   "metadata": {
    "collapsed": true
   },
   "outputs": [],
   "source": [
    "horsepower_formatter = lambda x: '{:.10g}hp'.format(x)"
   ]
  },
  {
   "cell_type": "code",
   "execution_count": 36,
   "metadata": {
    "collapsed": true
   },
   "outputs": [],
   "source": [
    "solid_gauge = pygal.SolidGauge(width = 640,\n",
    "                               height = 400,\n",
    "                               explicit_size = True,\n",
    "                               truncate_legend = -1,\n",
    "                               inner_radius = .60, \n",
    "                               half_pie = True)"
   ]
  },
  {
   "cell_type": "markdown",
   "metadata": {},
   "source": [
    "##### Let's compare the horsepower of each car to the maximum"
   ]
  },
  {
   "cell_type": "code",
   "execution_count": 37,
   "metadata": {
    "collapsed": true
   },
   "outputs": [],
   "source": [
    "for index, row in convertibles.iterrows():\n",
    "    \n",
    "    solid_gauge.add(row['make'], \n",
    "                    [{'value':row['horsepower'], \n",
    "                      'max_value': convertibles['horsepower'].max()}],\n",
    "                    formatter = horsepower_formatter)"
   ]
  },
  {
   "cell_type": "code",
   "execution_count": 38,
   "metadata": {},
   "outputs": [
    {
     "data": {
      "text/html": [
       "\n",
       "<!DOCTYPE html>\n",
       "<html>\n",
       "  <head>\n",
       "  <script type=\"text/javascript\" \n",
       "          src=\"http://kozea.github.com/pygal.js/javascripts/svg.jquery.js\">\n",
       "  </script>\n",
       "  <script type=\"text/javascript\" \n",
       "          src=\"https://kozea.github.io/pygal.js/2.0.x/pygal-tooltips.min.js\"\">\n",
       "  </script>\n",
       "  </head>\n",
       "  <body>\n",
       "    <figure>\n",
       "      <?xml version='1.0' encoding='utf-8'?>\n",
       "<svg xmlns:xlink=\"http://www.w3.org/1999/xlink\" xmlns=\"http://www.w3.org/2000/svg\" id=\"chart-3ff2fec6-c3d9-4d43-ba15-995d5b868b4d\" class=\"pygal-chart\" viewBox=\"0 0 640 400\" width=\"640\" height=\"400\"><!--Generated with pygal 2.4.0 (lxml) ©Kozea 2012-2016 on 2019-02-05--><!--http://pygal.org--><!--http://github.com/Kozea/pygal--><defs><style type=\"text/css\">#chart-3ff2fec6-c3d9-4d43-ba15-995d5b868b4d{-webkit-user-select:none;-webkit-font-smoothing:antialiased;font-family:Consolas,\"Liberation Mono\",Menlo,Courier,monospace}#chart-3ff2fec6-c3d9-4d43-ba15-995d5b868b4d .title{font-family:Consolas,\"Liberation Mono\",Menlo,Courier,monospace;font-size:16px}#chart-3ff2fec6-c3d9-4d43-ba15-995d5b868b4d .legends .legend text{font-family:Consolas,\"Liberation Mono\",Menlo,Courier,monospace;font-size:14px}#chart-3ff2fec6-c3d9-4d43-ba15-995d5b868b4d .axis text{font-family:Consolas,\"Liberation Mono\",Menlo,Courier,monospace;font-size:10px}#chart-3ff2fec6-c3d9-4d43-ba15-995d5b868b4d .axis text.major{font-family:Consolas,\"Liberation Mono\",Menlo,Courier,monospace;font-size:10px}#chart-3ff2fec6-c3d9-4d43-ba15-995d5b868b4d .text-overlay text.value{font-family:Consolas,\"Liberation Mono\",Menlo,Courier,monospace;font-size:16px}#chart-3ff2fec6-c3d9-4d43-ba15-995d5b868b4d .text-overlay text.label{font-family:Consolas,\"Liberation Mono\",Menlo,Courier,monospace;font-size:10px}#chart-3ff2fec6-c3d9-4d43-ba15-995d5b868b4d .tooltip{font-family:Consolas,\"Liberation Mono\",Menlo,Courier,monospace;font-size:14px}#chart-3ff2fec6-c3d9-4d43-ba15-995d5b868b4d text.no_data{font-family:Consolas,\"Liberation Mono\",Menlo,Courier,monospace;font-size:64px}\n",
       "#chart-3ff2fec6-c3d9-4d43-ba15-995d5b868b4d{background-color:rgba(249,249,249,1)}#chart-3ff2fec6-c3d9-4d43-ba15-995d5b868b4d path,#chart-3ff2fec6-c3d9-4d43-ba15-995d5b868b4d line,#chart-3ff2fec6-c3d9-4d43-ba15-995d5b868b4d rect,#chart-3ff2fec6-c3d9-4d43-ba15-995d5b868b4d circle{-webkit-transition:150ms;-moz-transition:150ms;transition:150ms}#chart-3ff2fec6-c3d9-4d43-ba15-995d5b868b4d .graph &gt; .background{fill:rgba(249,249,249,1)}#chart-3ff2fec6-c3d9-4d43-ba15-995d5b868b4d .plot &gt; .background{fill:rgba(255,255,255,1)}#chart-3ff2fec6-c3d9-4d43-ba15-995d5b868b4d .graph{fill:rgba(0,0,0,.87)}#chart-3ff2fec6-c3d9-4d43-ba15-995d5b868b4d text.no_data{fill:rgba(0,0,0,1)}#chart-3ff2fec6-c3d9-4d43-ba15-995d5b868b4d .title{fill:rgba(0,0,0,1)}#chart-3ff2fec6-c3d9-4d43-ba15-995d5b868b4d .legends .legend text{fill:rgba(0,0,0,.87)}#chart-3ff2fec6-c3d9-4d43-ba15-995d5b868b4d .legends .legend:hover text{fill:rgba(0,0,0,1)}#chart-3ff2fec6-c3d9-4d43-ba15-995d5b868b4d .axis .line{stroke:rgba(0,0,0,1)}#chart-3ff2fec6-c3d9-4d43-ba15-995d5b868b4d .axis .guide.line{stroke:rgba(0,0,0,.54)}#chart-3ff2fec6-c3d9-4d43-ba15-995d5b868b4d .axis .major.line{stroke:rgba(0,0,0,.87)}#chart-3ff2fec6-c3d9-4d43-ba15-995d5b868b4d .axis text.major{fill:rgba(0,0,0,1)}#chart-3ff2fec6-c3d9-4d43-ba15-995d5b868b4d .axis.y .guides:hover .guide.line,#chart-3ff2fec6-c3d9-4d43-ba15-995d5b868b4d .line-graph .axis.x .guides:hover .guide.line,#chart-3ff2fec6-c3d9-4d43-ba15-995d5b868b4d .stackedline-graph .axis.x .guides:hover .guide.line,#chart-3ff2fec6-c3d9-4d43-ba15-995d5b868b4d .xy-graph .axis.x .guides:hover .guide.line{stroke:rgba(0,0,0,1)}#chart-3ff2fec6-c3d9-4d43-ba15-995d5b868b4d .axis .guides:hover text{fill:rgba(0,0,0,1)}#chart-3ff2fec6-c3d9-4d43-ba15-995d5b868b4d .reactive{fill-opacity:.7;stroke-opacity:.8}#chart-3ff2fec6-c3d9-4d43-ba15-995d5b868b4d .ci{stroke:rgba(0,0,0,.87)}#chart-3ff2fec6-c3d9-4d43-ba15-995d5b868b4d .reactive.active,#chart-3ff2fec6-c3d9-4d43-ba15-995d5b868b4d .active .reactive{fill-opacity:.8;stroke-opacity:.9;stroke-width:4}#chart-3ff2fec6-c3d9-4d43-ba15-995d5b868b4d .ci .reactive.active{stroke-width:1.5}#chart-3ff2fec6-c3d9-4d43-ba15-995d5b868b4d .series text{fill:rgba(0,0,0,1)}#chart-3ff2fec6-c3d9-4d43-ba15-995d5b868b4d .tooltip rect{fill:rgba(255,255,255,1);stroke:rgba(0,0,0,1);-webkit-transition:opacity 150ms;-moz-transition:opacity 150ms;transition:opacity 150ms}#chart-3ff2fec6-c3d9-4d43-ba15-995d5b868b4d .tooltip .label{fill:rgba(0,0,0,.87)}#chart-3ff2fec6-c3d9-4d43-ba15-995d5b868b4d .tooltip .label{fill:rgba(0,0,0,.87)}#chart-3ff2fec6-c3d9-4d43-ba15-995d5b868b4d .tooltip .legend{font-size:.8em;fill:rgba(0,0,0,.54)}#chart-3ff2fec6-c3d9-4d43-ba15-995d5b868b4d .tooltip .x_label{font-size:.6em;fill:rgba(0,0,0,1)}#chart-3ff2fec6-c3d9-4d43-ba15-995d5b868b4d .tooltip .xlink{font-size:.5em;text-decoration:underline}#chart-3ff2fec6-c3d9-4d43-ba15-995d5b868b4d .tooltip .value{font-size:1.5em}#chart-3ff2fec6-c3d9-4d43-ba15-995d5b868b4d .bound{font-size:.5em}#chart-3ff2fec6-c3d9-4d43-ba15-995d5b868b4d .max-value{font-size:.75em;fill:rgba(0,0,0,.54)}#chart-3ff2fec6-c3d9-4d43-ba15-995d5b868b4d .map-element{fill:rgba(255,255,255,1);stroke:rgba(0,0,0,.54) !important}#chart-3ff2fec6-c3d9-4d43-ba15-995d5b868b4d .map-element .reactive{fill-opacity:inherit;stroke-opacity:inherit}#chart-3ff2fec6-c3d9-4d43-ba15-995d5b868b4d .color-0,#chart-3ff2fec6-c3d9-4d43-ba15-995d5b868b4d .color-0 a:visited{stroke:#F44336;fill:#F44336}#chart-3ff2fec6-c3d9-4d43-ba15-995d5b868b4d .color-1,#chart-3ff2fec6-c3d9-4d43-ba15-995d5b868b4d .color-1 a:visited{stroke:#3F51B5;fill:#3F51B5}#chart-3ff2fec6-c3d9-4d43-ba15-995d5b868b4d .color-2,#chart-3ff2fec6-c3d9-4d43-ba15-995d5b868b4d .color-2 a:visited{stroke:#009688;fill:#009688}#chart-3ff2fec6-c3d9-4d43-ba15-995d5b868b4d .color-3,#chart-3ff2fec6-c3d9-4d43-ba15-995d5b868b4d .color-3 a:visited{stroke:#FFC107;fill:#FFC107}#chart-3ff2fec6-c3d9-4d43-ba15-995d5b868b4d .color-4,#chart-3ff2fec6-c3d9-4d43-ba15-995d5b868b4d .color-4 a:visited{stroke:#FF5722;fill:#FF5722}#chart-3ff2fec6-c3d9-4d43-ba15-995d5b868b4d .text-overlay .color-0 text{fill:black}#chart-3ff2fec6-c3d9-4d43-ba15-995d5b868b4d .text-overlay .color-1 text{fill:black}#chart-3ff2fec6-c3d9-4d43-ba15-995d5b868b4d .text-overlay .color-2 text{fill:black}#chart-3ff2fec6-c3d9-4d43-ba15-995d5b868b4d .text-overlay .color-3 text{fill:black}#chart-3ff2fec6-c3d9-4d43-ba15-995d5b868b4d .text-overlay .color-4 text{fill:black}\n",
       "#chart-3ff2fec6-c3d9-4d43-ba15-995d5b868b4d text.no_data{text-anchor:middle}#chart-3ff2fec6-c3d9-4d43-ba15-995d5b868b4d .guide.line{fill:none}#chart-3ff2fec6-c3d9-4d43-ba15-995d5b868b4d .centered{text-anchor:middle}#chart-3ff2fec6-c3d9-4d43-ba15-995d5b868b4d .title{text-anchor:middle}#chart-3ff2fec6-c3d9-4d43-ba15-995d5b868b4d .legends .legend text{fill-opacity:1}#chart-3ff2fec6-c3d9-4d43-ba15-995d5b868b4d .axis.x text{text-anchor:middle}#chart-3ff2fec6-c3d9-4d43-ba15-995d5b868b4d .axis.x:not(.web) text[transform]{text-anchor:start}#chart-3ff2fec6-c3d9-4d43-ba15-995d5b868b4d .axis.x:not(.web) text[transform].backwards{text-anchor:end}#chart-3ff2fec6-c3d9-4d43-ba15-995d5b868b4d .axis.y text{text-anchor:end}#chart-3ff2fec6-c3d9-4d43-ba15-995d5b868b4d .axis.y text[transform].backwards{text-anchor:start}#chart-3ff2fec6-c3d9-4d43-ba15-995d5b868b4d .axis.y2 text{text-anchor:start}#chart-3ff2fec6-c3d9-4d43-ba15-995d5b868b4d .axis.y2 text[transform].backwards{text-anchor:end}#chart-3ff2fec6-c3d9-4d43-ba15-995d5b868b4d .axis .guide.line{stroke-dasharray:4,4}#chart-3ff2fec6-c3d9-4d43-ba15-995d5b868b4d .axis .major.guide.line{stroke-dasharray:6,6}#chart-3ff2fec6-c3d9-4d43-ba15-995d5b868b4d .horizontal .axis.y .guide.line,#chart-3ff2fec6-c3d9-4d43-ba15-995d5b868b4d .horizontal .axis.y2 .guide.line,#chart-3ff2fec6-c3d9-4d43-ba15-995d5b868b4d .vertical .axis.x .guide.line{opacity:0}#chart-3ff2fec6-c3d9-4d43-ba15-995d5b868b4d .horizontal .axis.always_show .guide.line,#chart-3ff2fec6-c3d9-4d43-ba15-995d5b868b4d .vertical .axis.always_show .guide.line{opacity:1 !important}#chart-3ff2fec6-c3d9-4d43-ba15-995d5b868b4d .axis.y .guides:hover .guide.line,#chart-3ff2fec6-c3d9-4d43-ba15-995d5b868b4d .axis.y2 .guides:hover .guide.line,#chart-3ff2fec6-c3d9-4d43-ba15-995d5b868b4d .axis.x .guides:hover .guide.line{opacity:1}#chart-3ff2fec6-c3d9-4d43-ba15-995d5b868b4d .axis .guides:hover text{opacity:1}#chart-3ff2fec6-c3d9-4d43-ba15-995d5b868b4d .nofill{fill:none}#chart-3ff2fec6-c3d9-4d43-ba15-995d5b868b4d .subtle-fill{fill-opacity:.2}#chart-3ff2fec6-c3d9-4d43-ba15-995d5b868b4d .dot{stroke-width:1px;fill-opacity:1}#chart-3ff2fec6-c3d9-4d43-ba15-995d5b868b4d .dot.active{stroke-width:5px}#chart-3ff2fec6-c3d9-4d43-ba15-995d5b868b4d .dot.negative{fill:transparent}#chart-3ff2fec6-c3d9-4d43-ba15-995d5b868b4d text,#chart-3ff2fec6-c3d9-4d43-ba15-995d5b868b4d tspan{stroke:none !important}#chart-3ff2fec6-c3d9-4d43-ba15-995d5b868b4d .series text.active{opacity:1}#chart-3ff2fec6-c3d9-4d43-ba15-995d5b868b4d .tooltip rect{fill-opacity:.95;stroke-width:.5}#chart-3ff2fec6-c3d9-4d43-ba15-995d5b868b4d .tooltip text{fill-opacity:1}#chart-3ff2fec6-c3d9-4d43-ba15-995d5b868b4d .showable{visibility:hidden}#chart-3ff2fec6-c3d9-4d43-ba15-995d5b868b4d .showable.shown{visibility:visible}#chart-3ff2fec6-c3d9-4d43-ba15-995d5b868b4d .gauge-background{fill:rgba(229,229,229,1);stroke:none}#chart-3ff2fec6-c3d9-4d43-ba15-995d5b868b4d .bg-lines{stroke:rgba(249,249,249,1);stroke-width:2px}</style><script type=\"text/javascript\">window.pygal = window.pygal || {};window.pygal.config = window.pygal.config || {};window.pygal.config['3ff2fec6-c3d9-4d43-ba15-995d5b868b4d'] = {\"allow_interruptions\": false, \"box_mode\": \"extremes\", \"classes\": [\"pygal-chart\"], \"css\": [\"file://style.css\", \"file://graph.css\"], \"defs\": [], \"disable_xml_declaration\": false, \"dots_size\": 2.5, \"dynamic_print_values\": false, \"explicit_size\": true, \"fill\": false, \"force_uri_protocol\": \"https\", \"formatter\": null, \"half_pie\": true, \"height\": 400, \"include_x_axis\": false, \"inner_radius\": 0.6, \"interpolate\": null, \"interpolation_parameters\": {}, \"interpolation_precision\": 250, \"inverse_y_axis\": false, \"js\": [\"//kozea.github.io/pygal.js/2.0.x/pygal-tooltips.min.js\"], \"legend_at_bottom\": false, \"legend_at_bottom_columns\": null, \"legend_box_size\": 12, \"logarithmic\": false, \"margin\": 20, \"margin_bottom\": null, \"margin_left\": null, \"margin_right\": null, \"margin_top\": null, \"max_scale\": 16, \"min_scale\": 4, \"missing_value_fill_truncation\": \"x\", \"no_data_text\": \"No data\", \"no_prefix\": false, \"order_min\": null, \"pretty_print\": false, \"print_labels\": false, \"print_values\": false, \"print_values_position\": \"center\", \"print_zeroes\": true, \"range\": null, \"rounded_bars\": null, \"secondary_range\": null, \"show_dots\": true, \"show_legend\": true, \"show_minor_x_labels\": true, \"show_minor_y_labels\": true, \"show_only_major_dots\": false, \"show_x_guides\": false, \"show_x_labels\": true, \"show_y_guides\": true, \"show_y_labels\": true, \"spacing\": 10, \"stack_from_top\": false, \"strict\": false, \"stroke\": true, \"stroke_style\": null, \"style\": {\"background\": \"rgba(249, 249, 249, 1)\", \"ci_colors\": [], \"colors\": [\"#F44336\", \"#3F51B5\", \"#009688\", \"#FFC107\", \"#FF5722\", \"#9C27B0\", \"#03A9F4\", \"#8BC34A\", \"#FF9800\", \"#E91E63\", \"#2196F3\", \"#4CAF50\", \"#FFEB3B\", \"#673AB7\", \"#00BCD4\", \"#CDDC39\", \"#9E9E9E\", \"#607D8B\"], \"font_family\": \"Consolas, \\\"Liberation Mono\\\", Menlo, Courier, monospace\", \"foreground\": \"rgba(0, 0, 0, .87)\", \"foreground_strong\": \"rgba(0, 0, 0, 1)\", \"foreground_subtle\": \"rgba(0, 0, 0, .54)\", \"guide_stroke_dasharray\": \"4,4\", \"label_font_family\": \"Consolas, \\\"Liberation Mono\\\", Menlo, Courier, monospace\", \"label_font_size\": 10, \"legend_font_family\": \"Consolas, \\\"Liberation Mono\\\", Menlo, Courier, monospace\", \"legend_font_size\": 14, \"major_guide_stroke_dasharray\": \"6,6\", \"major_label_font_family\": \"Consolas, \\\"Liberation Mono\\\", Menlo, Courier, monospace\", \"major_label_font_size\": 10, \"no_data_font_family\": \"Consolas, \\\"Liberation Mono\\\", Menlo, Courier, monospace\", \"no_data_font_size\": 64, \"opacity\": \".7\", \"opacity_hover\": \".8\", \"plot_background\": \"rgba(255, 255, 255, 1)\", \"stroke_opacity\": \".8\", \"stroke_opacity_hover\": \".9\", \"title_font_family\": \"Consolas, \\\"Liberation Mono\\\", Menlo, Courier, monospace\", \"title_font_size\": 16, \"tooltip_font_family\": \"Consolas, \\\"Liberation Mono\\\", Menlo, Courier, monospace\", \"tooltip_font_size\": 14, \"transition\": \"150ms\", \"value_background\": \"rgba(229, 229, 229, 1)\", \"value_colors\": [], \"value_font_family\": \"Consolas, \\\"Liberation Mono\\\", Menlo, Courier, monospace\", \"value_font_size\": 16, \"value_label_font_family\": \"Consolas, \\\"Liberation Mono\\\", Menlo, Courier, monospace\", \"value_label_font_size\": 10}, \"title\": null, \"tooltip_border_radius\": 0, \"tooltip_fancy_mode\": true, \"truncate_label\": null, \"truncate_legend\": -1, \"width\": 640, \"x_label_rotation\": 0, \"x_labels\": null, \"x_labels_major\": null, \"x_labels_major_count\": null, \"x_labels_major_every\": null, \"x_title\": null, \"xrange\": null, \"y_label_rotation\": 0, \"y_labels\": null, \"y_labels_major\": null, \"y_labels_major_count\": null, \"y_labels_major_every\": null, \"y_title\": null, \"zero\": 0, \"legends\": [\"alfa-romero\", \"mercedes-benz\", \"porsche\", \"toyota\", \"volkswagen\"]}</script><script type=\"text/javascript\" xlink:href=\"https://kozea.github.io/pygal.js/2.0.x/pygal-tooltips.min.js\"/></defs><title>Pygal</title><g class=\"graph solidgauge-graph vertical\"><rect class=\"background\" height=\"400\" width=\"640\" x=\"0\" y=\"0\"/><g class=\"plot\" transform=\"translate(151, 20)\"><rect class=\"background\" height=\"360\" width=\"468.8\" x=\"0\" y=\"0\"/><path class=\"bg-lines\" d=\"M234.4 0 L234.4 360\"/><path class=\"bg-lines\" d=\"M0 120.0 L468.8 120.0\"/><path class=\"bg-lines\" d=\"M0 240.0 L468.8 240.0\"/><g class=\"series serie-0 color-0\"><path class=\"gauge-background reactive\" d=\"M63.200000 90.000000 A54.000000 54.000000 0 1 1 171.200000 90.000000 L149.600000 90.000000 A32.400000 32.400000 0 1 0 84.800000 90.000000 z\"/><text class=\"y-0 bound reactive\" text-anchor=\"middle\" x=\"74.0\" y=\"100.00000000000001\">0</text><text class=\"y-1 bound reactive\" text-anchor=\"middle\" x=\"160.4\" y=\"100.0\">207hp</text><g class=\"gauge\"><path class=\"slice reactive tooltip-trigger\" d=\"M63.200000 90.000000 A54.000000 54.000000 0 0 1 123.333330 36.349443 L120.879998 57.809666 A32.400000 32.400000 0 0 0 84.800000 90.000000 z\"/><desc class=\"value\">111hp</desc><desc class=\"x centered\">88.44002682907056</desc><desc class=\"y centered\">57.76486477137999</desc></g></g><g class=\"series serie-1 color-1\"><path class=\"gauge-background reactive\" d=\"M297.600000 90.000000 A54.000000 54.000000 0 1 1 405.600000 90.000000 L384.000000 90.000000 A32.400000 32.400000 0 1 0 319.200000 90.000000 z\"/><text class=\"y-0 bound reactive\" text-anchor=\"middle\" x=\"308.40000000000003\" y=\"100.00000000000001\">0</text><text class=\"y-1 bound reactive\" text-anchor=\"middle\" x=\"394.8\" y=\"100.0\">207hp</text><g class=\"gauge\"><path class=\"slice reactive tooltip-trigger\" d=\"M297.600000 90.000000 A54.000000 54.000000 0 0 1 389.638615 51.671632 L374.423169 67.002979 A32.400000 32.400000 0 0 0 319.200000 90.000000 z\"/><desc class=\"value\">155hp</desc><desc class=\"x centered\">334.992389347058</desc><desc class=\"y centered\">50.119838661305714</desc></g></g><g class=\"series serie-2 color-2\"><path class=\"gauge-background reactive\" d=\"M63.200000 210.000000 A54.000000 54.000000 0 1 1 171.200000 210.000000 L149.600000 210.000000 A32.400000 32.400000 0 1 0 84.800000 210.000000 z\"/><text class=\"y-0 bound reactive\" text-anchor=\"middle\" x=\"74.0\" y=\"220.0\">0</text><text class=\"y-1 bound reactive\" text-anchor=\"middle\" x=\"160.4\" y=\"220.0\">207hp</text><g class=\"gauge\"><path class=\"slice reactive tooltip-trigger\" d=\"M63.200000 210.000000 A54.000000 54.000000 0 0 1 171.200000 210.000000 L149.600000 210.000000 A32.400000 32.400000 0 0 0 84.800000 210.000000 z\"/><desc class=\"value\">207hp</desc><desc class=\"x centered\">117.19999999999999</desc><desc class=\"y centered\">166.8</desc></g></g><g class=\"series serie-3 color-3\"><path class=\"gauge-background reactive\" d=\"M297.600000 210.000000 A54.000000 54.000000 0 1 1 405.600000 210.000000 L384.000000 210.000000 A32.400000 32.400000 0 1 0 319.200000 210.000000 z\"/><text class=\"y-0 bound reactive\" text-anchor=\"middle\" x=\"308.40000000000003\" y=\"220.0\">0</text><text class=\"y-1 bound reactive\" text-anchor=\"middle\" x=\"394.8\" y=\"220.0\">207hp</text><g class=\"gauge\"><path class=\"slice reactive tooltip-trigger\" d=\"M297.600000 210.000000 A54.000000 54.000000 0 0 1 361.782986 156.968813 L357.709792 178.181288 A32.400000 32.400000 0 0 0 319.200000 210.000000 z\"/><desc class=\"value\">116hp</desc><desc class=\"x centered\">324.08349578698653</desc><desc class=\"y centered\">176.6971173035244</desc></g></g><g class=\"series serie-4 color-4\"><path class=\"gauge-background reactive\" d=\"M63.200000 330.000000 A54.000000 54.000000 0 1 1 171.200000 330.000000 L149.600000 330.000000 A32.400000 32.400000 0 1 0 84.800000 330.000000 z\"/><text class=\"y-0 bound reactive\" text-anchor=\"middle\" x=\"74.0\" y=\"340.0\">0</text><text class=\"y-1 bound reactive\" text-anchor=\"middle\" x=\"160.4\" y=\"340.0\">207hp</text><g class=\"gauge\"><path class=\"slice reactive tooltip-trigger\" d=\"M63.200000 330.000000 A54.000000 54.000000 0 0 1 106.213375 277.129459 L110.608025 298.277676 A32.400000 32.400000 0 0 0 84.800000 330.000000 z\"/><desc class=\"value\">90hp</desc><desc class=\"x centered\">83.68927224156906</desc><desc class=\"y centered\">302.7370008051145</desc></g></g></g><g class=\"titles\"/><g class=\"plot overlay\" transform=\"translate(151, 20)\"><g class=\"series serie-0 color-0\"/><g class=\"series serie-1 color-1\"/><g class=\"series serie-2 color-2\"/><g class=\"series serie-3 color-3\"/><g class=\"series serie-4 color-4\"/></g><g class=\"plot text-overlay\" transform=\"translate(151, 20)\"><g class=\"series serie-0 color-0\"><text class=\"value gauge-sum\" text-anchor=\"middle\" x=\"117.2\" y=\"95.33333333333333\">111hp</text></g><g class=\"series serie-1 color-1\"><text class=\"value gauge-sum\" text-anchor=\"middle\" x=\"351.6\" y=\"95.33333333333333\">155hp</text></g><g class=\"series serie-2 color-2\"><text class=\"value gauge-sum\" text-anchor=\"middle\" x=\"117.2\" y=\"215.33333333333334\">207hp</text></g><g class=\"series serie-3 color-3\"><text class=\"value gauge-sum\" text-anchor=\"middle\" x=\"351.6\" y=\"215.33333333333334\">116hp</text></g><g class=\"series serie-4 color-4\"><text class=\"value gauge-sum\" text-anchor=\"middle\" x=\"117.2\" y=\"335.3333333333333\">90hp</text></g></g><g class=\"plot tooltip-overlay\" transform=\"translate(151, 20)\"><g class=\"tooltip\" style=\"opacity: 0\" transform=\"translate(0 0)\"><rect class=\"tooltip-box\" height=\"0\" rx=\"0\" ry=\"0\" width=\"0\"/><g class=\"text\"/></g></g><g class=\"legends\" transform=\"translate(10, 30)\"><g class=\"legend reactive activate-serie\" id=\"activate-serie-0\"><rect class=\"color-0 reactive\" height=\"12\" width=\"12\" x=\"0.0\" y=\"1.0\"/><text x=\"17.0\" y=\"11.2\">alfa-romero</text></g><g class=\"legend reactive activate-serie\" id=\"activate-serie-1\"><rect class=\"color-1 reactive\" height=\"12\" width=\"12\" x=\"0.0\" y=\"22.0\"/><text x=\"17.0\" y=\"32.2\">mercedes-benz</text></g><g class=\"legend reactive activate-serie\" id=\"activate-serie-2\"><rect class=\"color-2 reactive\" height=\"12\" width=\"12\" x=\"0.0\" y=\"43.0\"/><text x=\"17.0\" y=\"53.2\">porsche</text></g><g class=\"legend reactive activate-serie\" id=\"activate-serie-3\"><rect class=\"color-3 reactive\" height=\"12\" width=\"12\" x=\"0.0\" y=\"64.0\"/><text x=\"17.0\" y=\"74.2\">toyota</text></g><g class=\"legend reactive activate-serie\" id=\"activate-serie-4\"><rect class=\"color-4 reactive\" height=\"12\" width=\"12\" x=\"0.0\" y=\"85.0\"/><text x=\"17.0\" y=\"95.2\">volkswagen</text></g></g><g class=\"legends\" transform=\"translate(630, 30)\"/></g></svg>\n",
       "    </figure>\n",
       "  </body>\n",
       "</html>\n"
      ],
      "text/plain": [
       "<IPython.core.display.HTML object>"
      ]
     },
     "metadata": {},
     "output_type": "display_data"
    }
   ],
   "source": [
    "display_chart(solid_gauge)"
   ]
  },
  {
   "cell_type": "code",
   "execution_count": null,
   "metadata": {
    "collapsed": true
   },
   "outputs": [],
   "source": []
  }
 ],
 "metadata": {
  "kernelspec": {
   "display_name": "Python 3",
   "language": "python",
   "name": "python3"
  },
  "language_info": {
   "codemirror_mode": {
    "name": "ipython",
    "version": 3
   },
   "file_extension": ".py",
   "mimetype": "text/x-python",
   "name": "python",
   "nbconvert_exporter": "python",
   "pygments_lexer": "ipython3",
   "version": "3.6.3"
  }
 },
 "nbformat": 4,
 "nbformat_minor": 2
}
