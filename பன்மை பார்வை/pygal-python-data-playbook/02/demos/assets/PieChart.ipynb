{
 "cells": [
  {
   "cell_type": "markdown",
   "metadata": {},
   "source": [
    "### Visualization using Pie Chart "
   ]
  },
  {
   "cell_type": "markdown",
   "metadata": {},
   "source": [
    "Import the required packages. "
   ]
  },
  {
   "cell_type": "code",
   "execution_count": 1,
   "metadata": {
    "collapsed": true
   },
   "outputs": [],
   "source": [
    "import pygal\n",
    "import pandas as pd"
   ]
  },
  {
   "cell_type": "markdown",
   "metadata": {},
   "source": [
    "Read the csv file using pandas. Wine dataset is used here."
   ]
  },
  {
   "cell_type": "code",
   "execution_count": 2,
   "metadata": {
    "collapsed": true
   },
   "outputs": [],
   "source": [
    "wine_dataframe = pd.read_csv('../datasets/winequality-red.csv', \n",
    "                             sep=';')"
   ]
  },
  {
   "cell_type": "markdown",
   "metadata": {},
   "source": [
    "Inspect the dataset. The first few rows are printed and summary is printed using describe(). The focus here is on the quality of the wines and their number. The quality of wine is categorized into \"Below Average\", \"Average\", \"Good\". \n",
    "\n",
    "** The Categorization is as follows ** - \n",
    "-  Wine that has quality ** rating 8 and greater ** would be considered as **\"Good\"**. \n",
    "-  Wine that has quality **rating 5 and till 7 ** would be considered as **\"Average\"**.\n",
    "-  Wine that has quality **rating 4 and below ** would be considered as **\"Below Average\"**.\n",
    "\n",
    "All this would be plotted on a Pie Chart "
   ]
  },
  {
   "cell_type": "code",
   "execution_count": 3,
   "metadata": {},
   "outputs": [
    {
     "data": {
      "text/html": [
       "<div>\n",
       "<style scoped>\n",
       "    .dataframe tbody tr th:only-of-type {\n",
       "        vertical-align: middle;\n",
       "    }\n",
       "\n",
       "    .dataframe tbody tr th {\n",
       "        vertical-align: top;\n",
       "    }\n",
       "\n",
       "    .dataframe thead th {\n",
       "        text-align: right;\n",
       "    }\n",
       "</style>\n",
       "<table border=\"1\" class=\"dataframe\">\n",
       "  <thead>\n",
       "    <tr style=\"text-align: right;\">\n",
       "      <th></th>\n",
       "      <th>fixed acidity</th>\n",
       "      <th>volatile acidity</th>\n",
       "      <th>citric acid</th>\n",
       "      <th>residual sugar</th>\n",
       "      <th>chlorides</th>\n",
       "      <th>free sulfur dioxide</th>\n",
       "      <th>total sulfur dioxide</th>\n",
       "      <th>density</th>\n",
       "      <th>pH</th>\n",
       "      <th>sulphates</th>\n",
       "      <th>alcohol</th>\n",
       "      <th>quality</th>\n",
       "    </tr>\n",
       "  </thead>\n",
       "  <tbody>\n",
       "    <tr>\n",
       "      <th>0</th>\n",
       "      <td>7.4</td>\n",
       "      <td>0.70</td>\n",
       "      <td>0.00</td>\n",
       "      <td>1.9</td>\n",
       "      <td>0.076</td>\n",
       "      <td>11.0</td>\n",
       "      <td>34.0</td>\n",
       "      <td>0.9978</td>\n",
       "      <td>3.51</td>\n",
       "      <td>0.56</td>\n",
       "      <td>9.4</td>\n",
       "      <td>5</td>\n",
       "    </tr>\n",
       "    <tr>\n",
       "      <th>1</th>\n",
       "      <td>7.8</td>\n",
       "      <td>0.88</td>\n",
       "      <td>0.00</td>\n",
       "      <td>2.6</td>\n",
       "      <td>0.098</td>\n",
       "      <td>25.0</td>\n",
       "      <td>67.0</td>\n",
       "      <td>0.9968</td>\n",
       "      <td>3.20</td>\n",
       "      <td>0.68</td>\n",
       "      <td>9.8</td>\n",
       "      <td>5</td>\n",
       "    </tr>\n",
       "    <tr>\n",
       "      <th>2</th>\n",
       "      <td>7.8</td>\n",
       "      <td>0.76</td>\n",
       "      <td>0.04</td>\n",
       "      <td>2.3</td>\n",
       "      <td>0.092</td>\n",
       "      <td>15.0</td>\n",
       "      <td>54.0</td>\n",
       "      <td>0.9970</td>\n",
       "      <td>3.26</td>\n",
       "      <td>0.65</td>\n",
       "      <td>9.8</td>\n",
       "      <td>5</td>\n",
       "    </tr>\n",
       "    <tr>\n",
       "      <th>3</th>\n",
       "      <td>11.2</td>\n",
       "      <td>0.28</td>\n",
       "      <td>0.56</td>\n",
       "      <td>1.9</td>\n",
       "      <td>0.075</td>\n",
       "      <td>17.0</td>\n",
       "      <td>60.0</td>\n",
       "      <td>0.9980</td>\n",
       "      <td>3.16</td>\n",
       "      <td>0.58</td>\n",
       "      <td>9.8</td>\n",
       "      <td>6</td>\n",
       "    </tr>\n",
       "    <tr>\n",
       "      <th>4</th>\n",
       "      <td>7.4</td>\n",
       "      <td>0.70</td>\n",
       "      <td>0.00</td>\n",
       "      <td>1.9</td>\n",
       "      <td>0.076</td>\n",
       "      <td>11.0</td>\n",
       "      <td>34.0</td>\n",
       "      <td>0.9978</td>\n",
       "      <td>3.51</td>\n",
       "      <td>0.56</td>\n",
       "      <td>9.4</td>\n",
       "      <td>5</td>\n",
       "    </tr>\n",
       "  </tbody>\n",
       "</table>\n",
       "</div>"
      ],
      "text/plain": [
       "   fixed acidity  volatile acidity  citric acid  residual sugar  chlorides  \\\n",
       "0            7.4              0.70         0.00             1.9      0.076   \n",
       "1            7.8              0.88         0.00             2.6      0.098   \n",
       "2            7.8              0.76         0.04             2.3      0.092   \n",
       "3           11.2              0.28         0.56             1.9      0.075   \n",
       "4            7.4              0.70         0.00             1.9      0.076   \n",
       "\n",
       "   free sulfur dioxide  total sulfur dioxide  density    pH  sulphates  \\\n",
       "0                 11.0                  34.0   0.9978  3.51       0.56   \n",
       "1                 25.0                  67.0   0.9968  3.20       0.68   \n",
       "2                 15.0                  54.0   0.9970  3.26       0.65   \n",
       "3                 17.0                  60.0   0.9980  3.16       0.58   \n",
       "4                 11.0                  34.0   0.9978  3.51       0.56   \n",
       "\n",
       "   alcohol  quality  \n",
       "0      9.4        5  \n",
       "1      9.8        5  \n",
       "2      9.8        5  \n",
       "3      9.8        6  \n",
       "4      9.4        5  "
      ]
     },
     "execution_count": 3,
     "metadata": {},
     "output_type": "execute_result"
    }
   ],
   "source": [
    "wine_dataframe.head()"
   ]
  },
  {
   "cell_type": "code",
   "execution_count": 4,
   "metadata": {},
   "outputs": [
    {
     "data": {
      "text/html": [
       "<div>\n",
       "<style scoped>\n",
       "    .dataframe tbody tr th:only-of-type {\n",
       "        vertical-align: middle;\n",
       "    }\n",
       "\n",
       "    .dataframe tbody tr th {\n",
       "        vertical-align: top;\n",
       "    }\n",
       "\n",
       "    .dataframe thead th {\n",
       "        text-align: right;\n",
       "    }\n",
       "</style>\n",
       "<table border=\"1\" class=\"dataframe\">\n",
       "  <thead>\n",
       "    <tr style=\"text-align: right;\">\n",
       "      <th></th>\n",
       "      <th>fixed acidity</th>\n",
       "      <th>volatile acidity</th>\n",
       "      <th>citric acid</th>\n",
       "      <th>residual sugar</th>\n",
       "      <th>chlorides</th>\n",
       "      <th>free sulfur dioxide</th>\n",
       "      <th>total sulfur dioxide</th>\n",
       "      <th>density</th>\n",
       "      <th>pH</th>\n",
       "      <th>sulphates</th>\n",
       "      <th>alcohol</th>\n",
       "      <th>quality</th>\n",
       "    </tr>\n",
       "  </thead>\n",
       "  <tbody>\n",
       "    <tr>\n",
       "      <th>count</th>\n",
       "      <td>1599.000000</td>\n",
       "      <td>1599.000000</td>\n",
       "      <td>1599.000000</td>\n",
       "      <td>1599.000000</td>\n",
       "      <td>1599.000000</td>\n",
       "      <td>1599.000000</td>\n",
       "      <td>1599.000000</td>\n",
       "      <td>1599.000000</td>\n",
       "      <td>1599.000000</td>\n",
       "      <td>1599.000000</td>\n",
       "      <td>1599.000000</td>\n",
       "      <td>1599.000000</td>\n",
       "    </tr>\n",
       "    <tr>\n",
       "      <th>mean</th>\n",
       "      <td>8.319637</td>\n",
       "      <td>0.527821</td>\n",
       "      <td>0.270976</td>\n",
       "      <td>2.538806</td>\n",
       "      <td>0.087467</td>\n",
       "      <td>15.874922</td>\n",
       "      <td>46.467792</td>\n",
       "      <td>0.996747</td>\n",
       "      <td>3.311113</td>\n",
       "      <td>0.658149</td>\n",
       "      <td>10.422983</td>\n",
       "      <td>5.636023</td>\n",
       "    </tr>\n",
       "    <tr>\n",
       "      <th>std</th>\n",
       "      <td>1.741096</td>\n",
       "      <td>0.179060</td>\n",
       "      <td>0.194801</td>\n",
       "      <td>1.409928</td>\n",
       "      <td>0.047065</td>\n",
       "      <td>10.460157</td>\n",
       "      <td>32.895324</td>\n",
       "      <td>0.001887</td>\n",
       "      <td>0.154386</td>\n",
       "      <td>0.169507</td>\n",
       "      <td>1.065668</td>\n",
       "      <td>0.807569</td>\n",
       "    </tr>\n",
       "    <tr>\n",
       "      <th>min</th>\n",
       "      <td>4.600000</td>\n",
       "      <td>0.120000</td>\n",
       "      <td>0.000000</td>\n",
       "      <td>0.900000</td>\n",
       "      <td>0.012000</td>\n",
       "      <td>1.000000</td>\n",
       "      <td>6.000000</td>\n",
       "      <td>0.990070</td>\n",
       "      <td>2.740000</td>\n",
       "      <td>0.330000</td>\n",
       "      <td>8.400000</td>\n",
       "      <td>3.000000</td>\n",
       "    </tr>\n",
       "    <tr>\n",
       "      <th>25%</th>\n",
       "      <td>7.100000</td>\n",
       "      <td>0.390000</td>\n",
       "      <td>0.090000</td>\n",
       "      <td>1.900000</td>\n",
       "      <td>0.070000</td>\n",
       "      <td>7.000000</td>\n",
       "      <td>22.000000</td>\n",
       "      <td>0.995600</td>\n",
       "      <td>3.210000</td>\n",
       "      <td>0.550000</td>\n",
       "      <td>9.500000</td>\n",
       "      <td>5.000000</td>\n",
       "    </tr>\n",
       "    <tr>\n",
       "      <th>50%</th>\n",
       "      <td>7.900000</td>\n",
       "      <td>0.520000</td>\n",
       "      <td>0.260000</td>\n",
       "      <td>2.200000</td>\n",
       "      <td>0.079000</td>\n",
       "      <td>14.000000</td>\n",
       "      <td>38.000000</td>\n",
       "      <td>0.996750</td>\n",
       "      <td>3.310000</td>\n",
       "      <td>0.620000</td>\n",
       "      <td>10.200000</td>\n",
       "      <td>6.000000</td>\n",
       "    </tr>\n",
       "    <tr>\n",
       "      <th>75%</th>\n",
       "      <td>9.200000</td>\n",
       "      <td>0.640000</td>\n",
       "      <td>0.420000</td>\n",
       "      <td>2.600000</td>\n",
       "      <td>0.090000</td>\n",
       "      <td>21.000000</td>\n",
       "      <td>62.000000</td>\n",
       "      <td>0.997835</td>\n",
       "      <td>3.400000</td>\n",
       "      <td>0.730000</td>\n",
       "      <td>11.100000</td>\n",
       "      <td>6.000000</td>\n",
       "    </tr>\n",
       "    <tr>\n",
       "      <th>max</th>\n",
       "      <td>15.900000</td>\n",
       "      <td>1.580000</td>\n",
       "      <td>1.000000</td>\n",
       "      <td>15.500000</td>\n",
       "      <td>0.611000</td>\n",
       "      <td>72.000000</td>\n",
       "      <td>289.000000</td>\n",
       "      <td>1.003690</td>\n",
       "      <td>4.010000</td>\n",
       "      <td>2.000000</td>\n",
       "      <td>14.900000</td>\n",
       "      <td>8.000000</td>\n",
       "    </tr>\n",
       "  </tbody>\n",
       "</table>\n",
       "</div>"
      ],
      "text/plain": [
       "       fixed acidity  volatile acidity  citric acid  residual sugar  \\\n",
       "count    1599.000000       1599.000000  1599.000000     1599.000000   \n",
       "mean        8.319637          0.527821     0.270976        2.538806   \n",
       "std         1.741096          0.179060     0.194801        1.409928   \n",
       "min         4.600000          0.120000     0.000000        0.900000   \n",
       "25%         7.100000          0.390000     0.090000        1.900000   \n",
       "50%         7.900000          0.520000     0.260000        2.200000   \n",
       "75%         9.200000          0.640000     0.420000        2.600000   \n",
       "max        15.900000          1.580000     1.000000       15.500000   \n",
       "\n",
       "         chlorides  free sulfur dioxide  total sulfur dioxide      density  \\\n",
       "count  1599.000000          1599.000000           1599.000000  1599.000000   \n",
       "mean      0.087467            15.874922             46.467792     0.996747   \n",
       "std       0.047065            10.460157             32.895324     0.001887   \n",
       "min       0.012000             1.000000              6.000000     0.990070   \n",
       "25%       0.070000             7.000000             22.000000     0.995600   \n",
       "50%       0.079000            14.000000             38.000000     0.996750   \n",
       "75%       0.090000            21.000000             62.000000     0.997835   \n",
       "max       0.611000            72.000000            289.000000     1.003690   \n",
       "\n",
       "                pH    sulphates      alcohol      quality  \n",
       "count  1599.000000  1599.000000  1599.000000  1599.000000  \n",
       "mean      3.311113     0.658149    10.422983     5.636023  \n",
       "std       0.154386     0.169507     1.065668     0.807569  \n",
       "min       2.740000     0.330000     8.400000     3.000000  \n",
       "25%       3.210000     0.550000     9.500000     5.000000  \n",
       "50%       3.310000     0.620000    10.200000     6.000000  \n",
       "75%       3.400000     0.730000    11.100000     6.000000  \n",
       "max       4.010000     2.000000    14.900000     8.000000  "
      ]
     },
     "execution_count": 4,
     "metadata": {},
     "output_type": "execute_result"
    }
   ],
   "source": [
    "wine_dataframe.describe()"
   ]
  },
  {
   "cell_type": "markdown",
   "metadata": {},
   "source": [
    "Total no of wines"
   ]
  },
  {
   "cell_type": "code",
   "execution_count": 5,
   "metadata": {},
   "outputs": [
    {
     "data": {
      "text/plain": [
       "1599"
      ]
     },
     "execution_count": 5,
     "metadata": {},
     "output_type": "execute_result"
    }
   ],
   "source": [
    "num_wines = len(wine_dataframe)\n",
    "num_wines"
   ]
  },
  {
   "cell_type": "markdown",
   "metadata": {},
   "source": [
    "Here, loc() method is used. It is used in two ways -\n",
    "- locating rows and columns using name \n",
    "- locating rows and clomns based on boolean condition. \n",
    "The second way is used here. Below rows are selected where 'quality' is greate than '7' and it is stored a dataframe. Then, length (rows) of the dataframe is used. "
   ]
  },
  {
   "cell_type": "code",
   "execution_count": 6,
   "metadata": {},
   "outputs": [
    {
     "data": {
      "text/plain": [
       "quality\n",
       "3     10\n",
       "4     53\n",
       "5    681\n",
       "6    638\n",
       "7    199\n",
       "8     18\n",
       "dtype: int64"
      ]
     },
     "execution_count": 6,
     "metadata": {},
     "output_type": "execute_result"
    }
   ],
   "source": [
    "counts_df = wine_dataframe.groupby(['quality']).size()\n",
    "\n",
    "counts_df"
   ]
  },
  {
   "cell_type": "code",
   "execution_count": 7,
   "metadata": {},
   "outputs": [
    {
     "data": {
      "text/plain": [
       "217"
      ]
     },
     "execution_count": 7,
     "metadata": {},
     "output_type": "execute_result"
    }
   ],
   "source": [
    "num_high_quality = counts_df[7] + counts_df[8]\n",
    "num_high_quality"
   ]
  },
  {
   "cell_type": "code",
   "execution_count": 8,
   "metadata": {
    "collapsed": true
   },
   "outputs": [],
   "source": [
    "num_low_quality = counts_df[3] + counts_df[4]\n",
    "num_med_quality = counts_df[5] + counts_df[6]"
   ]
  },
  {
   "cell_type": "code",
   "execution_count": 9,
   "metadata": {},
   "outputs": [
    {
     "name": "stdout",
     "output_type": "stream",
     "text": [
      "Total wines:  1599\n",
      "High Quality wines :  217\n",
      "Medium Quality wines :  1319\n",
      "Low Quality wines :  63\n"
     ]
    }
   ],
   "source": [
    "print('Total wines: ', num_wines)\n",
    "print('High Quality wines : ', num_high_quality)\n",
    "print('Medium Quality wines : ', num_med_quality)\n",
    "print('Low Quality wines : ', num_low_quality)"
   ]
  },
  {
   "cell_type": "code",
   "execution_count": 10,
   "metadata": {
    "collapsed": true
   },
   "outputs": [],
   "source": [
    "from pygal.style import DarkStyle"
   ]
  },
  {
   "cell_type": "code",
   "execution_count": 11,
   "metadata": {
    "collapsed": true
   },
   "outputs": [],
   "source": [
    "pie_chart = pygal.Pie(width = 640,\n",
    "                      height = 360,\n",
    "                      explicit_size = True,\n",
    "                      style = DarkStyle)"
   ]
  },
  {
   "cell_type": "code",
   "execution_count": 12,
   "metadata": {
    "collapsed": true
   },
   "outputs": [],
   "source": [
    "pie_chart.title = 'Wines by Quality'"
   ]
  },
  {
   "cell_type": "code",
   "execution_count": 13,
   "metadata": {},
   "outputs": [
    {
     "data": {
      "image/png": "[encoded data removed]",
      "image/svg+xml": [
       "<svg xmlns:xlink=\"http://www.w3.org/1999/xlink\" xmlns=\"http://www.w3.org/2000/svg\" id=\"chart-d65d66ed-8876-4205-b9d9-29e24018c20f\" class=\"pygal-chart\" viewBox=\"0 0 640 360\" width=\"640\" height=\"360\"><!--Generated with pygal 2.4.0 (lxml) ©Kozea 2012-2016 on 2019-02-03--><!--http://pygal.org--><!--http://github.com/Kozea/pygal--><defs><style type=\"text/css\">#chart-d65d66ed-8876-4205-b9d9-29e24018c20f{-webkit-user-select:none;-webkit-font-smoothing:antialiased;font-family:Consolas,\"Liberation Mono\",Menlo,Courier,monospace}#chart-d65d66ed-8876-4205-b9d9-29e24018c20f .title{font-family:Consolas,\"Liberation Mono\",Menlo,Courier,monospace;font-size:16px}#chart-d65d66ed-8876-4205-b9d9-29e24018c20f .legends .legend text{font-family:Consolas,\"Liberation Mono\",Menlo,Courier,monospace;font-size:14px}#chart-d65d66ed-8876-4205-b9d9-29e24018c20f .axis text{font-family:Consolas,\"Liberation Mono\",Menlo,Courier,monospace;font-size:10px}#chart-d65d66ed-8876-4205-b9d9-29e24018c20f .axis text.major{font-family:Consolas,\"Liberation Mono\",Menlo,Courier,monospace;font-size:10px}#chart-d65d66ed-8876-4205-b9d9-29e24018c20f .text-overlay text.value{font-family:Consolas,\"Liberation Mono\",Menlo,Courier,monospace;font-size:16px}#chart-d65d66ed-8876-4205-b9d9-29e24018c20f .text-overlay text.label{font-family:Consolas,\"Liberation Mono\",Menlo,Courier,monospace;font-size:10px}#chart-d65d66ed-8876-4205-b9d9-29e24018c20f .tooltip{font-family:Consolas,\"Liberation Mono\",Menlo,Courier,monospace;font-size:14px}#chart-d65d66ed-8876-4205-b9d9-29e24018c20f text.no_data{font-family:Consolas,\"Liberation Mono\",Menlo,Courier,monospace;font-size:64px}\n",
       "#chart-d65d66ed-8876-4205-b9d9-29e24018c20f{background-color:black}#chart-d65d66ed-8876-4205-b9d9-29e24018c20f path,#chart-d65d66ed-8876-4205-b9d9-29e24018c20f line,#chart-d65d66ed-8876-4205-b9d9-29e24018c20f rect,#chart-d65d66ed-8876-4205-b9d9-29e24018c20f circle{-webkit-transition:250ms;-moz-transition:250ms;transition:250ms}#chart-d65d66ed-8876-4205-b9d9-29e24018c20f .graph &gt; .background{fill:black}#chart-d65d66ed-8876-4205-b9d9-29e24018c20f .plot &gt; .background{fill:#111}#chart-d65d66ed-8876-4205-b9d9-29e24018c20f .graph{fill:#999}#chart-d65d66ed-8876-4205-b9d9-29e24018c20f text.no_data{fill:#eee}#chart-d65d66ed-8876-4205-b9d9-29e24018c20f .title{fill:#eee}#chart-d65d66ed-8876-4205-b9d9-29e24018c20f .legends .legend text{fill:#999}#chart-d65d66ed-8876-4205-b9d9-29e24018c20f .legends .legend:hover text{fill:#eee}#chart-d65d66ed-8876-4205-b9d9-29e24018c20f .axis .line{stroke:#eee}#chart-d65d66ed-8876-4205-b9d9-29e24018c20f .axis .guide.line{stroke:#555}#chart-d65d66ed-8876-4205-b9d9-29e24018c20f .axis .major.line{stroke:#999}#chart-d65d66ed-8876-4205-b9d9-29e24018c20f .axis text.major{fill:#eee}#chart-d65d66ed-8876-4205-b9d9-29e24018c20f .axis.y .guides:hover .guide.line,#chart-d65d66ed-8876-4205-b9d9-29e24018c20f .line-graph .axis.x .guides:hover .guide.line,#chart-d65d66ed-8876-4205-b9d9-29e24018c20f .stackedline-graph .axis.x .guides:hover .guide.line,#chart-d65d66ed-8876-4205-b9d9-29e24018c20f .xy-graph .axis.x .guides:hover .guide.line{stroke:#eee}#chart-d65d66ed-8876-4205-b9d9-29e24018c20f .axis .guides:hover text{fill:#eee}#chart-d65d66ed-8876-4205-b9d9-29e24018c20f .reactive{fill-opacity:.8;stroke-opacity:.8}#chart-d65d66ed-8876-4205-b9d9-29e24018c20f .ci{stroke:#999}#chart-d65d66ed-8876-4205-b9d9-29e24018c20f .reactive.active,#chart-d65d66ed-8876-4205-b9d9-29e24018c20f .active .reactive{fill-opacity:.4;stroke-opacity:.9;stroke-width:4}#chart-d65d66ed-8876-4205-b9d9-29e24018c20f .ci .reactive.active{stroke-width:1.5}#chart-d65d66ed-8876-4205-b9d9-29e24018c20f .series text{fill:#eee}#chart-d65d66ed-8876-4205-b9d9-29e24018c20f .tooltip rect{fill:#111;stroke:#eee;-webkit-transition:opacity 250ms;-moz-transition:opacity 250ms;transition:opacity 250ms}#chart-d65d66ed-8876-4205-b9d9-29e24018c20f .tooltip .label{fill:#999}#chart-d65d66ed-8876-4205-b9d9-29e24018c20f .tooltip .label{fill:#999}#chart-d65d66ed-8876-4205-b9d9-29e24018c20f .tooltip .legend{font-size:.8em;fill:#555}#chart-d65d66ed-8876-4205-b9d9-29e24018c20f .tooltip .x_label{font-size:.6em;fill:#eee}#chart-d65d66ed-8876-4205-b9d9-29e24018c20f .tooltip .xlink{font-size:.5em;text-decoration:underline}#chart-d65d66ed-8876-4205-b9d9-29e24018c20f .tooltip .value{font-size:1.5em}#chart-d65d66ed-8876-4205-b9d9-29e24018c20f .bound{font-size:.5em}#chart-d65d66ed-8876-4205-b9d9-29e24018c20f .max-value{font-size:.75em;fill:#555}#chart-d65d66ed-8876-4205-b9d9-29e24018c20f .map-element{fill:#111;stroke:#555 !important}#chart-d65d66ed-8876-4205-b9d9-29e24018c20f .map-element .reactive{fill-opacity:inherit;stroke-opacity:inherit}#chart-d65d66ed-8876-4205-b9d9-29e24018c20f .color-0,#chart-d65d66ed-8876-4205-b9d9-29e24018c20f .color-0 a:visited{stroke:#ff5995;fill:#ff5995}#chart-d65d66ed-8876-4205-b9d9-29e24018c20f .color-1,#chart-d65d66ed-8876-4205-b9d9-29e24018c20f .color-1 a:visited{stroke:#b6e354;fill:#b6e354}#chart-d65d66ed-8876-4205-b9d9-29e24018c20f .color-2,#chart-d65d66ed-8876-4205-b9d9-29e24018c20f .color-2 a:visited{stroke:#feed6c;fill:#feed6c}#chart-d65d66ed-8876-4205-b9d9-29e24018c20f .text-overlay .color-0 text{fill:black}#chart-d65d66ed-8876-4205-b9d9-29e24018c20f .text-overlay .color-1 text{fill:black}#chart-d65d66ed-8876-4205-b9d9-29e24018c20f .text-overlay .color-2 text{fill:black}\n",
       "#chart-d65d66ed-8876-4205-b9d9-29e24018c20f text.no_data{text-anchor:middle}#chart-d65d66ed-8876-4205-b9d9-29e24018c20f .guide.line{fill:none}#chart-d65d66ed-8876-4205-b9d9-29e24018c20f .centered{text-anchor:middle}#chart-d65d66ed-8876-4205-b9d9-29e24018c20f .title{text-anchor:middle}#chart-d65d66ed-8876-4205-b9d9-29e24018c20f .legends .legend text{fill-opacity:1}#chart-d65d66ed-8876-4205-b9d9-29e24018c20f .axis.x text{text-anchor:middle}#chart-d65d66ed-8876-4205-b9d9-29e24018c20f .axis.x:not(.web) text[transform]{text-anchor:start}#chart-d65d66ed-8876-4205-b9d9-29e24018c20f .axis.x:not(.web) text[transform].backwards{text-anchor:end}#chart-d65d66ed-8876-4205-b9d9-29e24018c20f .axis.y text{text-anchor:end}#chart-d65d66ed-8876-4205-b9d9-29e24018c20f .axis.y text[transform].backwards{text-anchor:start}#chart-d65d66ed-8876-4205-b9d9-29e24018c20f .axis.y2 text{text-anchor:start}#chart-d65d66ed-8876-4205-b9d9-29e24018c20f .axis.y2 text[transform].backwards{text-anchor:end}#chart-d65d66ed-8876-4205-b9d9-29e24018c20f .axis .guide.line{stroke-dasharray:4,4}#chart-d65d66ed-8876-4205-b9d9-29e24018c20f .axis .major.guide.line{stroke-dasharray:6,6}#chart-d65d66ed-8876-4205-b9d9-29e24018c20f .horizontal .axis.y .guide.line,#chart-d65d66ed-8876-4205-b9d9-29e24018c20f .horizontal .axis.y2 .guide.line,#chart-d65d66ed-8876-4205-b9d9-29e24018c20f .vertical .axis.x .guide.line{opacity:0}#chart-d65d66ed-8876-4205-b9d9-29e24018c20f .horizontal .axis.always_show .guide.line,#chart-d65d66ed-8876-4205-b9d9-29e24018c20f .vertical .axis.always_show .guide.line{opacity:1 !important}#chart-d65d66ed-8876-4205-b9d9-29e24018c20f .axis.y .guides:hover .guide.line,#chart-d65d66ed-8876-4205-b9d9-29e24018c20f .axis.y2 .guides:hover .guide.line,#chart-d65d66ed-8876-4205-b9d9-29e24018c20f .axis.x .guides:hover .guide.line{opacity:1}#chart-d65d66ed-8876-4205-b9d9-29e24018c20f .axis .guides:hover text{opacity:1}#chart-d65d66ed-8876-4205-b9d9-29e24018c20f .nofill{fill:none}#chart-d65d66ed-8876-4205-b9d9-29e24018c20f .subtle-fill{fill-opacity:.2}#chart-d65d66ed-8876-4205-b9d9-29e24018c20f .dot{stroke-width:1px;fill-opacity:1}#chart-d65d66ed-8876-4205-b9d9-29e24018c20f .dot.active{stroke-width:5px}#chart-d65d66ed-8876-4205-b9d9-29e24018c20f .dot.negative{fill:transparent}#chart-d65d66ed-8876-4205-b9d9-29e24018c20f text,#chart-d65d66ed-8876-4205-b9d9-29e24018c20f tspan{stroke:none !important}#chart-d65d66ed-8876-4205-b9d9-29e24018c20f .series text.active{opacity:1}#chart-d65d66ed-8876-4205-b9d9-29e24018c20f .tooltip rect{fill-opacity:.95;stroke-width:.5}#chart-d65d66ed-8876-4205-b9d9-29e24018c20f .tooltip text{fill-opacity:1}#chart-d65d66ed-8876-4205-b9d9-29e24018c20f .showable{visibility:hidden}#chart-d65d66ed-8876-4205-b9d9-29e24018c20f .showable.shown{visibility:visible}#chart-d65d66ed-8876-4205-b9d9-29e24018c20f .gauge-background{fill:rgba(229,229,229,1);stroke:none}#chart-d65d66ed-8876-4205-b9d9-29e24018c20f .bg-lines{stroke:black;stroke-width:2px}</style><script type=\"text/javascript\">window.pygal = window.pygal || {};window.pygal.config = window.pygal.config || {};window.pygal.config['d65d66ed-8876-4205-b9d9-29e24018c20f'] = {\"allow_interruptions\": false, \"box_mode\": \"extremes\", \"classes\": [\"pygal-chart\"], \"css\": [\"file://style.css\", \"file://graph.css\"], \"defs\": [], \"disable_xml_declaration\": true, \"dots_size\": 2.5, \"dynamic_print_values\": false, \"explicit_size\": true, \"fill\": false, \"force_uri_protocol\": \"https\", \"formatter\": null, \"half_pie\": false, \"height\": 360, \"include_x_axis\": false, \"inner_radius\": 0, \"interpolate\": null, \"interpolation_parameters\": {}, \"interpolation_precision\": 250, \"inverse_y_axis\": false, \"js\": [\"//kozea.github.io/pygal.js/2.0.x/pygal-tooltips.min.js\"], \"legend_at_bottom\": false, \"legend_at_bottom_columns\": null, \"legend_box_size\": 12, \"logarithmic\": false, \"margin\": 20, \"margin_bottom\": null, \"margin_left\": null, \"margin_right\": null, \"margin_top\": null, \"max_scale\": 16, \"min_scale\": 4, \"missing_value_fill_truncation\": \"x\", \"no_data_text\": \"No data\", \"no_prefix\": false, \"order_min\": null, \"pretty_print\": false, \"print_labels\": false, \"print_values\": false, \"print_values_position\": \"center\", \"print_zeroes\": true, \"range\": null, \"rounded_bars\": null, \"secondary_range\": null, \"show_dots\": true, \"show_legend\": true, \"show_minor_x_labels\": true, \"show_minor_y_labels\": true, \"show_only_major_dots\": false, \"show_x_guides\": false, \"show_x_labels\": true, \"show_y_guides\": true, \"show_y_labels\": true, \"spacing\": 10, \"stack_from_top\": false, \"strict\": false, \"stroke\": true, \"stroke_style\": null, \"style\": {\"background\": \"black\", \"ci_colors\": [], \"colors\": [\"#ff5995\", \"#b6e354\", \"#feed6c\", \"#8cedff\", \"#9e6ffe\", \"#899ca1\", \"#f8f8f2\", \"#bf4646\", \"#516083\", \"#f92672\", \"#82b414\", \"#fd971f\", \"#56c2d6\", \"#808384\", \"#8c54fe\", \"#465457\"], \"font_family\": \"Consolas, \\\"Liberation Mono\\\", Menlo, Courier, monospace\", \"foreground\": \"#999\", \"foreground_strong\": \"#eee\", \"foreground_subtle\": \"#555\", \"guide_stroke_dasharray\": \"4,4\", \"label_font_family\": \"Consolas, \\\"Liberation Mono\\\", Menlo, Courier, monospace\", \"label_font_size\": 10, \"legend_font_family\": \"Consolas, \\\"Liberation Mono\\\", Menlo, Courier, monospace\", \"legend_font_size\": 14, \"major_guide_stroke_dasharray\": \"6,6\", \"major_label_font_family\": \"Consolas, \\\"Liberation Mono\\\", Menlo, Courier, monospace\", \"major_label_font_size\": 10, \"no_data_font_family\": \"Consolas, \\\"Liberation Mono\\\", Menlo, Courier, monospace\", \"no_data_font_size\": 64, \"opacity\": \".8\", \"opacity_hover\": \".4\", \"plot_background\": \"#111\", \"stroke_opacity\": \".8\", \"stroke_opacity_hover\": \".9\", \"title_font_family\": \"Consolas, \\\"Liberation Mono\\\", Menlo, Courier, monospace\", \"title_font_size\": 16, \"tooltip_font_family\": \"Consolas, \\\"Liberation Mono\\\", Menlo, Courier, monospace\", \"tooltip_font_size\": 14, \"transition\": \"250ms\", \"value_background\": \"rgba(229, 229, 229, 1)\", \"value_colors\": [], \"value_font_family\": \"Consolas, \\\"Liberation Mono\\\", Menlo, Courier, monospace\", \"value_font_size\": 16, \"value_label_font_family\": \"Consolas, \\\"Liberation Mono\\\", Menlo, Courier, monospace\", \"value_label_font_size\": 10}, \"title\": \"Wines by Quality\", \"tooltip_border_radius\": 0, \"tooltip_fancy_mode\": true, \"truncate_label\": null, \"truncate_legend\": null, \"width\": 640, \"x_label_rotation\": 0, \"x_labels\": null, \"x_labels_major\": null, \"x_labels_major_count\": null, \"x_labels_major_every\": null, \"x_title\": null, \"xrange\": null, \"y_label_rotation\": 0, \"y_labels\": null, \"y_labels_major\": null, \"y_labels_major_count\": null, \"y_labels_major_every\": null, \"y_title\": null, \"zero\": 0, \"legends\": [\"High Quality\", \"Medium Quality\", \"Low Quality\"]}</script><script type=\"text/javascript\" xlink:href=\"https://kozea.github.io/pygal.js/2.0.x/pygal-tooltips.min.js\"/></defs><title>Wines by Quality</title><g class=\"graph pie-graph vertical\"><rect class=\"background\" height=\"360\" width=\"640\" x=\"0\" y=\"0\"/><g class=\"plot\" transform=\"translate(159, 46)\"><rect class=\"background\" height=\"294\" width=\"460.4\" x=\"0\" y=\"0\"/><g class=\"series serie-0 color-0\"><g class=\"slices\"><g class=\"slice\"><path class=\"slice reactive tooltip-trigger\" d=\"M230.200000 14.700000 A132.300000 132.300000 0 0 1 329.828912 59.951910 L230.200000 147.000000 A0.000000 0.000000 0 0 0 230.200000 147.000000 z\"/><desc class=\"value\">217</desc><desc class=\"x centered\">257.55604987559275</desc><desc class=\"y centered\">86.77152637494386</desc></g></g></g><g class=\"series serie-1 color-1\"><g class=\"slices\"><g class=\"slice\"><path class=\"slice reactive tooltip-trigger\" d=\"M329.828912 59.951910 A132.300000 132.300000 0 1 1 197.781953 18.733246 L230.200000 147.000000 A0.000000 0.000000 0 1 0 230.200000 147.000000 z\"/><desc class=\"value\">1319</desc><desc class=\"x centered\">210.48915494217687</desc><desc class=\"y centered\">210.14511134764504</desc></g></g></g><g class=\"series serie-2 color-2\"><g class=\"slices\"><g class=\"slice\"><path class=\"slice reactive tooltip-trigger\" d=\"M197.781953 18.733246 A132.300000 132.300000 0 0 1 230.200000 14.700000 L230.200000 147.000000 A0.000000 0.000000 0 0 0 230.200000 147.000000 z\"/><desc class=\"value\">63</desc><desc class=\"x centered\">222.03300523456736</desc><desc class=\"y centered\">81.35609170302703</desc></g></g></g></g><g class=\"titles\"><text class=\"title plot_title\" x=\"320.0\" y=\"26\">Wines by Quality</text></g><g class=\"plot overlay\" transform=\"translate(159, 46)\"><g class=\"series serie-0 color-0\"/><g class=\"series serie-1 color-1\"/><g class=\"series serie-2 color-2\"/></g><g class=\"plot text-overlay\" transform=\"translate(159, 46)\"><g class=\"series serie-0 color-0\"/><g class=\"series serie-1 color-1\"/><g class=\"series serie-2 color-2\"/></g><g class=\"plot tooltip-overlay\" transform=\"translate(159, 46)\"><g class=\"tooltip\" style=\"opacity: 0\" transform=\"translate(0 0)\"><rect class=\"tooltip-box\" height=\"0\" rx=\"0\" ry=\"0\" width=\"0\"/><g class=\"text\"/></g></g><g class=\"legends\" transform=\"translate(10, 56)\"><g class=\"legend reactive activate-serie\" id=\"activate-serie-0\"><rect class=\"color-0 reactive\" height=\"12\" width=\"12\" x=\"0.0\" y=\"1.0\"/><text x=\"17.0\" y=\"11.2\">High Quality</text></g><g class=\"legend reactive activate-serie\" id=\"activate-serie-1\"><rect class=\"color-1 reactive\" height=\"12\" width=\"12\" x=\"0.0\" y=\"22.0\"/><text x=\"17.0\" y=\"32.2\">Medium Quality</text></g><g class=\"legend reactive activate-serie\" id=\"activate-serie-2\"><rect class=\"color-2 reactive\" height=\"12\" width=\"12\" x=\"0.0\" y=\"43.0\"/><text x=\"17.0\" y=\"53.2\">Low Quality</text></g></g><g class=\"legends\" transform=\"translate(630, 56)\"/></g></svg>"
      ],
      "text/plain": [
       "<pygal.graph.pie.Pie at 0x115f27630>"
      ]
     },
     "execution_count": 13,
     "metadata": {},
     "output_type": "execute_result"
    }
   ],
   "source": [
    "pie_chart.add('High Quality', num_high_quality)\n",
    "pie_chart.add('Medium Quality', num_med_quality)\n",
    "pie_chart.add('Low Quality', num_low_quality)"
   ]
  },
  {
   "cell_type": "code",
   "execution_count": null,
   "metadata": {
    "collapsed": true
   },
   "outputs": [],
   "source": []
  },
  {
   "cell_type": "markdown",
   "metadata": {},
   "source": [
    "As the above chart is not interactive \n",
    "\n",
    "Below is the **method to print the interactive graph** in the jupyter notebook. HTML template is defined and rendered chart is passed inside the HTML template and displayed. "
   ]
  },
  {
   "cell_type": "code",
   "execution_count": 14,
   "metadata": {
    "collapsed": true
   },
   "outputs": [],
   "source": [
    "from IPython.display import display, HTML\n",
    "\n",
    "html_skeleton = \"\"\"\n",
    "<!DOCTYPE html>\n",
    "<html>\n",
    "  <head>\n",
    "  <script type=\"text/javascript\" \n",
    "          src=\"http://kozea.github.com/pygal.js/javascripts/svg.jquery.js\">\n",
    "  </script>\n",
    "  <script type=\"text/javascript\" \n",
    "          src=\"https://kozea.github.io/pygal.js/2.0.x/pygal-tooltips.min.js\"\">\n",
    "  </script>\n",
    "  </head>\n",
    "  <body>\n",
    "    <figure>\n",
    "      {rendered_chart}\n",
    "    </figure>\n",
    "  </body>\n",
    "</html>\n",
    "\"\"\"\n",
    "\n",
    "def display_chart(chart):\n",
    "    rendered_chart = chart.render(is_unicode=True)\n",
    "    plot_html = html_skeleton.format(rendered_chart=rendered_chart)\n",
    "    display(HTML(plot_html))"
   ]
  },
  {
   "cell_type": "code",
   "execution_count": 15,
   "metadata": {},
   "outputs": [
    {
     "data": {
      "text/html": [
       "\n",
       "<!DOCTYPE html>\n",
       "<html>\n",
       "  <head>\n",
       "  <script type=\"text/javascript\" \n",
       "          src=\"http://kozea.github.com/pygal.js/javascripts/svg.jquery.js\">\n",
       "  </script>\n",
       "  <script type=\"text/javascript\" \n",
       "          src=\"https://kozea.github.io/pygal.js/2.0.x/pygal-tooltips.min.js\"\">\n",
       "  </script>\n",
       "  </head>\n",
       "  <body>\n",
       "    <figure>\n",
       "      <?xml version='1.0' encoding='utf-8'?>\n",
       "<svg xmlns:xlink=\"http://www.w3.org/1999/xlink\" xmlns=\"http://www.w3.org/2000/svg\" id=\"chart-d65d66ed-8876-4205-b9d9-29e24018c20f\" class=\"pygal-chart\" viewBox=\"0 0 640 360\" width=\"640\" height=\"360\"><!--Generated with pygal 2.4.0 (lxml) ©Kozea 2012-2016 on 2019-02-03--><!--http://pygal.org--><!--http://github.com/Kozea/pygal--><defs><style type=\"text/css\">#chart-d65d66ed-8876-4205-b9d9-29e24018c20f{-webkit-user-select:none;-webkit-font-smoothing:antialiased;font-family:Consolas,\"Liberation Mono\",Menlo,Courier,monospace}#chart-d65d66ed-8876-4205-b9d9-29e24018c20f .title{font-family:Consolas,\"Liberation Mono\",Menlo,Courier,monospace;font-size:16px}#chart-d65d66ed-8876-4205-b9d9-29e24018c20f .legends .legend text{font-family:Consolas,\"Liberation Mono\",Menlo,Courier,monospace;font-size:14px}#chart-d65d66ed-8876-4205-b9d9-29e24018c20f .axis text{font-family:Consolas,\"Liberation Mono\",Menlo,Courier,monospace;font-size:10px}#chart-d65d66ed-8876-4205-b9d9-29e24018c20f .axis text.major{font-family:Consolas,\"Liberation Mono\",Menlo,Courier,monospace;font-size:10px}#chart-d65d66ed-8876-4205-b9d9-29e24018c20f .text-overlay text.value{font-family:Consolas,\"Liberation Mono\",Menlo,Courier,monospace;font-size:16px}#chart-d65d66ed-8876-4205-b9d9-29e24018c20f .text-overlay text.label{font-family:Consolas,\"Liberation Mono\",Menlo,Courier,monospace;font-size:10px}#chart-d65d66ed-8876-4205-b9d9-29e24018c20f .tooltip{font-family:Consolas,\"Liberation Mono\",Menlo,Courier,monospace;font-size:14px}#chart-d65d66ed-8876-4205-b9d9-29e24018c20f text.no_data{font-family:Consolas,\"Liberation Mono\",Menlo,Courier,monospace;font-size:64px}\n",
       "#chart-d65d66ed-8876-4205-b9d9-29e24018c20f{background-color:black}#chart-d65d66ed-8876-4205-b9d9-29e24018c20f path,#chart-d65d66ed-8876-4205-b9d9-29e24018c20f line,#chart-d65d66ed-8876-4205-b9d9-29e24018c20f rect,#chart-d65d66ed-8876-4205-b9d9-29e24018c20f circle{-webkit-transition:250ms;-moz-transition:250ms;transition:250ms}#chart-d65d66ed-8876-4205-b9d9-29e24018c20f .graph &gt; .background{fill:black}#chart-d65d66ed-8876-4205-b9d9-29e24018c20f .plot &gt; .background{fill:#111}#chart-d65d66ed-8876-4205-b9d9-29e24018c20f .graph{fill:#999}#chart-d65d66ed-8876-4205-b9d9-29e24018c20f text.no_data{fill:#eee}#chart-d65d66ed-8876-4205-b9d9-29e24018c20f .title{fill:#eee}#chart-d65d66ed-8876-4205-b9d9-29e24018c20f .legends .legend text{fill:#999}#chart-d65d66ed-8876-4205-b9d9-29e24018c20f .legends .legend:hover text{fill:#eee}#chart-d65d66ed-8876-4205-b9d9-29e24018c20f .axis .line{stroke:#eee}#chart-d65d66ed-8876-4205-b9d9-29e24018c20f .axis .guide.line{stroke:#555}#chart-d65d66ed-8876-4205-b9d9-29e24018c20f .axis .major.line{stroke:#999}#chart-d65d66ed-8876-4205-b9d9-29e24018c20f .axis text.major{fill:#eee}#chart-d65d66ed-8876-4205-b9d9-29e24018c20f .axis.y .guides:hover .guide.line,#chart-d65d66ed-8876-4205-b9d9-29e24018c20f .line-graph .axis.x .guides:hover .guide.line,#chart-d65d66ed-8876-4205-b9d9-29e24018c20f .stackedline-graph .axis.x .guides:hover .guide.line,#chart-d65d66ed-8876-4205-b9d9-29e24018c20f .xy-graph .axis.x .guides:hover .guide.line{stroke:#eee}#chart-d65d66ed-8876-4205-b9d9-29e24018c20f .axis .guides:hover text{fill:#eee}#chart-d65d66ed-8876-4205-b9d9-29e24018c20f .reactive{fill-opacity:.8;stroke-opacity:.8}#chart-d65d66ed-8876-4205-b9d9-29e24018c20f .ci{stroke:#999}#chart-d65d66ed-8876-4205-b9d9-29e24018c20f .reactive.active,#chart-d65d66ed-8876-4205-b9d9-29e24018c20f .active .reactive{fill-opacity:.4;stroke-opacity:.9;stroke-width:4}#chart-d65d66ed-8876-4205-b9d9-29e24018c20f .ci .reactive.active{stroke-width:1.5}#chart-d65d66ed-8876-4205-b9d9-29e24018c20f .series text{fill:#eee}#chart-d65d66ed-8876-4205-b9d9-29e24018c20f .tooltip rect{fill:#111;stroke:#eee;-webkit-transition:opacity 250ms;-moz-transition:opacity 250ms;transition:opacity 250ms}#chart-d65d66ed-8876-4205-b9d9-29e24018c20f .tooltip .label{fill:#999}#chart-d65d66ed-8876-4205-b9d9-29e24018c20f .tooltip .label{fill:#999}#chart-d65d66ed-8876-4205-b9d9-29e24018c20f .tooltip .legend{font-size:.8em;fill:#555}#chart-d65d66ed-8876-4205-b9d9-29e24018c20f .tooltip .x_label{font-size:.6em;fill:#eee}#chart-d65d66ed-8876-4205-b9d9-29e24018c20f .tooltip .xlink{font-size:.5em;text-decoration:underline}#chart-d65d66ed-8876-4205-b9d9-29e24018c20f .tooltip .value{font-size:1.5em}#chart-d65d66ed-8876-4205-b9d9-29e24018c20f .bound{font-size:.5em}#chart-d65d66ed-8876-4205-b9d9-29e24018c20f .max-value{font-size:.75em;fill:#555}#chart-d65d66ed-8876-4205-b9d9-29e24018c20f .map-element{fill:#111;stroke:#555 !important}#chart-d65d66ed-8876-4205-b9d9-29e24018c20f .map-element .reactive{fill-opacity:inherit;stroke-opacity:inherit}#chart-d65d66ed-8876-4205-b9d9-29e24018c20f .color-0,#chart-d65d66ed-8876-4205-b9d9-29e24018c20f .color-0 a:visited{stroke:#ff5995;fill:#ff5995}#chart-d65d66ed-8876-4205-b9d9-29e24018c20f .color-1,#chart-d65d66ed-8876-4205-b9d9-29e24018c20f .color-1 a:visited{stroke:#b6e354;fill:#b6e354}#chart-d65d66ed-8876-4205-b9d9-29e24018c20f .color-2,#chart-d65d66ed-8876-4205-b9d9-29e24018c20f .color-2 a:visited{stroke:#feed6c;fill:#feed6c}#chart-d65d66ed-8876-4205-b9d9-29e24018c20f .text-overlay .color-0 text{fill:black}#chart-d65d66ed-8876-4205-b9d9-29e24018c20f .text-overlay .color-1 text{fill:black}#chart-d65d66ed-8876-4205-b9d9-29e24018c20f .text-overlay .color-2 text{fill:black}\n",
       "#chart-d65d66ed-8876-4205-b9d9-29e24018c20f text.no_data{text-anchor:middle}#chart-d65d66ed-8876-4205-b9d9-29e24018c20f .guide.line{fill:none}#chart-d65d66ed-8876-4205-b9d9-29e24018c20f .centered{text-anchor:middle}#chart-d65d66ed-8876-4205-b9d9-29e24018c20f .title{text-anchor:middle}#chart-d65d66ed-8876-4205-b9d9-29e24018c20f .legends .legend text{fill-opacity:1}#chart-d65d66ed-8876-4205-b9d9-29e24018c20f .axis.x text{text-anchor:middle}#chart-d65d66ed-8876-4205-b9d9-29e24018c20f .axis.x:not(.web) text[transform]{text-anchor:start}#chart-d65d66ed-8876-4205-b9d9-29e24018c20f .axis.x:not(.web) text[transform].backwards{text-anchor:end}#chart-d65d66ed-8876-4205-b9d9-29e24018c20f .axis.y text{text-anchor:end}#chart-d65d66ed-8876-4205-b9d9-29e24018c20f .axis.y text[transform].backwards{text-anchor:start}#chart-d65d66ed-8876-4205-b9d9-29e24018c20f .axis.y2 text{text-anchor:start}#chart-d65d66ed-8876-4205-b9d9-29e24018c20f .axis.y2 text[transform].backwards{text-anchor:end}#chart-d65d66ed-8876-4205-b9d9-29e24018c20f .axis .guide.line{stroke-dasharray:4,4}#chart-d65d66ed-8876-4205-b9d9-29e24018c20f .axis .major.guide.line{stroke-dasharray:6,6}#chart-d65d66ed-8876-4205-b9d9-29e24018c20f .horizontal .axis.y .guide.line,#chart-d65d66ed-8876-4205-b9d9-29e24018c20f .horizontal .axis.y2 .guide.line,#chart-d65d66ed-8876-4205-b9d9-29e24018c20f .vertical .axis.x .guide.line{opacity:0}#chart-d65d66ed-8876-4205-b9d9-29e24018c20f .horizontal .axis.always_show .guide.line,#chart-d65d66ed-8876-4205-b9d9-29e24018c20f .vertical .axis.always_show .guide.line{opacity:1 !important}#chart-d65d66ed-8876-4205-b9d9-29e24018c20f .axis.y .guides:hover .guide.line,#chart-d65d66ed-8876-4205-b9d9-29e24018c20f .axis.y2 .guides:hover .guide.line,#chart-d65d66ed-8876-4205-b9d9-29e24018c20f .axis.x .guides:hover .guide.line{opacity:1}#chart-d65d66ed-8876-4205-b9d9-29e24018c20f .axis .guides:hover text{opacity:1}#chart-d65d66ed-8876-4205-b9d9-29e24018c20f .nofill{fill:none}#chart-d65d66ed-8876-4205-b9d9-29e24018c20f .subtle-fill{fill-opacity:.2}#chart-d65d66ed-8876-4205-b9d9-29e24018c20f .dot{stroke-width:1px;fill-opacity:1}#chart-d65d66ed-8876-4205-b9d9-29e24018c20f .dot.active{stroke-width:5px}#chart-d65d66ed-8876-4205-b9d9-29e24018c20f .dot.negative{fill:transparent}#chart-d65d66ed-8876-4205-b9d9-29e24018c20f text,#chart-d65d66ed-8876-4205-b9d9-29e24018c20f tspan{stroke:none !important}#chart-d65d66ed-8876-4205-b9d9-29e24018c20f .series text.active{opacity:1}#chart-d65d66ed-8876-4205-b9d9-29e24018c20f .tooltip rect{fill-opacity:.95;stroke-width:.5}#chart-d65d66ed-8876-4205-b9d9-29e24018c20f .tooltip text{fill-opacity:1}#chart-d65d66ed-8876-4205-b9d9-29e24018c20f .showable{visibility:hidden}#chart-d65d66ed-8876-4205-b9d9-29e24018c20f .showable.shown{visibility:visible}#chart-d65d66ed-8876-4205-b9d9-29e24018c20f .gauge-background{fill:rgba(229,229,229,1);stroke:none}#chart-d65d66ed-8876-4205-b9d9-29e24018c20f .bg-lines{stroke:black;stroke-width:2px}</style><script type=\"text/javascript\">window.pygal = window.pygal || {};window.pygal.config = window.pygal.config || {};window.pygal.config['d65d66ed-8876-4205-b9d9-29e24018c20f'] = {\"allow_interruptions\": false, \"box_mode\": \"extremes\", \"classes\": [\"pygal-chart\"], \"css\": [\"file://style.css\", \"file://graph.css\"], \"defs\": [], \"disable_xml_declaration\": false, \"dots_size\": 2.5, \"dynamic_print_values\": false, \"explicit_size\": true, \"fill\": false, \"force_uri_protocol\": \"https\", \"formatter\": null, \"half_pie\": false, \"height\": 360, \"include_x_axis\": false, \"inner_radius\": 0, \"interpolate\": null, \"interpolation_parameters\": {}, \"interpolation_precision\": 250, \"inverse_y_axis\": false, \"js\": [\"//kozea.github.io/pygal.js/2.0.x/pygal-tooltips.min.js\"], \"legend_at_bottom\": false, \"legend_at_bottom_columns\": null, \"legend_box_size\": 12, \"logarithmic\": false, \"margin\": 20, \"margin_bottom\": null, \"margin_left\": null, \"margin_right\": null, \"margin_top\": null, \"max_scale\": 16, \"min_scale\": 4, \"missing_value_fill_truncation\": \"x\", \"no_data_text\": \"No data\", \"no_prefix\": false, \"order_min\": null, \"pretty_print\": false, \"print_labels\": false, \"print_values\": false, \"print_values_position\": \"center\", \"print_zeroes\": true, \"range\": null, \"rounded_bars\": null, \"secondary_range\": null, \"show_dots\": true, \"show_legend\": true, \"show_minor_x_labels\": true, \"show_minor_y_labels\": true, \"show_only_major_dots\": false, \"show_x_guides\": false, \"show_x_labels\": true, \"show_y_guides\": true, \"show_y_labels\": true, \"spacing\": 10, \"stack_from_top\": false, \"strict\": false, \"stroke\": true, \"stroke_style\": null, \"style\": {\"background\": \"black\", \"ci_colors\": [], \"colors\": [\"#ff5995\", \"#b6e354\", \"#feed6c\", \"#8cedff\", \"#9e6ffe\", \"#899ca1\", \"#f8f8f2\", \"#bf4646\", \"#516083\", \"#f92672\", \"#82b414\", \"#fd971f\", \"#56c2d6\", \"#808384\", \"#8c54fe\", \"#465457\"], \"font_family\": \"Consolas, \\\"Liberation Mono\\\", Menlo, Courier, monospace\", \"foreground\": \"#999\", \"foreground_strong\": \"#eee\", \"foreground_subtle\": \"#555\", \"guide_stroke_dasharray\": \"4,4\", \"label_font_family\": \"Consolas, \\\"Liberation Mono\\\", Menlo, Courier, monospace\", \"label_font_size\": 10, \"legend_font_family\": \"Consolas, \\\"Liberation Mono\\\", Menlo, Courier, monospace\", \"legend_font_size\": 14, \"major_guide_stroke_dasharray\": \"6,6\", \"major_label_font_family\": \"Consolas, \\\"Liberation Mono\\\", Menlo, Courier, monospace\", \"major_label_font_size\": 10, \"no_data_font_family\": \"Consolas, \\\"Liberation Mono\\\", Menlo, Courier, monospace\", \"no_data_font_size\": 64, \"opacity\": \".8\", \"opacity_hover\": \".4\", \"plot_background\": \"#111\", \"stroke_opacity\": \".8\", \"stroke_opacity_hover\": \".9\", \"title_font_family\": \"Consolas, \\\"Liberation Mono\\\", Menlo, Courier, monospace\", \"title_font_size\": 16, \"tooltip_font_family\": \"Consolas, \\\"Liberation Mono\\\", Menlo, Courier, monospace\", \"tooltip_font_size\": 14, \"transition\": \"250ms\", \"value_background\": \"rgba(229, 229, 229, 1)\", \"value_colors\": [], \"value_font_family\": \"Consolas, \\\"Liberation Mono\\\", Menlo, Courier, monospace\", \"value_font_size\": 16, \"value_label_font_family\": \"Consolas, \\\"Liberation Mono\\\", Menlo, Courier, monospace\", \"value_label_font_size\": 10}, \"title\": \"Wines by Quality\", \"tooltip_border_radius\": 0, \"tooltip_fancy_mode\": true, \"truncate_label\": null, \"truncate_legend\": null, \"width\": 640, \"x_label_rotation\": 0, \"x_labels\": null, \"x_labels_major\": null, \"x_labels_major_count\": null, \"x_labels_major_every\": null, \"x_title\": null, \"xrange\": null, \"y_label_rotation\": 0, \"y_labels\": null, \"y_labels_major\": null, \"y_labels_major_count\": null, \"y_labels_major_every\": null, \"y_title\": null, \"zero\": 0, \"legends\": [\"High Quality\", \"Medium Quality\", \"Low Quality\"]}</script><script type=\"text/javascript\" xlink:href=\"https://kozea.github.io/pygal.js/2.0.x/pygal-tooltips.min.js\"/></defs><title>Wines by Quality</title><g class=\"graph pie-graph vertical\"><rect class=\"background\" height=\"360\" width=\"640\" x=\"0\" y=\"0\"/><g class=\"plot\" transform=\"translate(159, 46)\"><rect class=\"background\" height=\"294\" width=\"460.4\" x=\"0\" y=\"0\"/><g class=\"series serie-0 color-0\"><g class=\"slices\"><g class=\"slice\"><path class=\"slice reactive tooltip-trigger\" d=\"M230.200000 14.700000 A132.300000 132.300000 0 0 1 329.828912 59.951910 L230.200000 147.000000 A0.000000 0.000000 0 0 0 230.200000 147.000000 z\"/><desc class=\"value\">217</desc><desc class=\"x centered\">257.55604987559275</desc><desc class=\"y centered\">86.77152637494386</desc></g></g></g><g class=\"series serie-1 color-1\"><g class=\"slices\"><g class=\"slice\"><path class=\"slice reactive tooltip-trigger\" d=\"M329.828912 59.951910 A132.300000 132.300000 0 1 1 197.781953 18.733246 L230.200000 147.000000 A0.000000 0.000000 0 1 0 230.200000 147.000000 z\"/><desc class=\"value\">1319</desc><desc class=\"x centered\">210.48915494217687</desc><desc class=\"y centered\">210.14511134764504</desc></g></g></g><g class=\"series serie-2 color-2\"><g class=\"slices\"><g class=\"slice\"><path class=\"slice reactive tooltip-trigger\" d=\"M197.781953 18.733246 A132.300000 132.300000 0 0 1 230.200000 14.700000 L230.200000 147.000000 A0.000000 0.000000 0 0 0 230.200000 147.000000 z\"/><desc class=\"value\">63</desc><desc class=\"x centered\">222.03300523456736</desc><desc class=\"y centered\">81.35609170302703</desc></g></g></g></g><g class=\"titles\"><text class=\"title plot_title\" x=\"320.0\" y=\"26\">Wines by Quality</text></g><g class=\"plot overlay\" transform=\"translate(159, 46)\"><g class=\"series serie-0 color-0\"/><g class=\"series serie-1 color-1\"/><g class=\"series serie-2 color-2\"/></g><g class=\"plot text-overlay\" transform=\"translate(159, 46)\"><g class=\"series serie-0 color-0\"/><g class=\"series serie-1 color-1\"/><g class=\"series serie-2 color-2\"/></g><g class=\"plot tooltip-overlay\" transform=\"translate(159, 46)\"><g class=\"tooltip\" style=\"opacity: 0\" transform=\"translate(0 0)\"><rect class=\"tooltip-box\" height=\"0\" rx=\"0\" ry=\"0\" width=\"0\"/><g class=\"text\"/></g></g><g class=\"legends\" transform=\"translate(10, 56)\"><g class=\"legend reactive activate-serie\" id=\"activate-serie-0\"><rect class=\"color-0 reactive\" height=\"12\" width=\"12\" x=\"0.0\" y=\"1.0\"/><text x=\"17.0\" y=\"11.2\">High Quality</text></g><g class=\"legend reactive activate-serie\" id=\"activate-serie-1\"><rect class=\"color-1 reactive\" height=\"12\" width=\"12\" x=\"0.0\" y=\"22.0\"/><text x=\"17.0\" y=\"32.2\">Medium Quality</text></g><g class=\"legend reactive activate-serie\" id=\"activate-serie-2\"><rect class=\"color-2 reactive\" height=\"12\" width=\"12\" x=\"0.0\" y=\"43.0\"/><text x=\"17.0\" y=\"53.2\">Low Quality</text></g></g><g class=\"legends\" transform=\"translate(630, 56)\"/></g></svg>\n",
       "    </figure>\n",
       "  </body>\n",
       "</html>\n"
      ],
      "text/plain": [
       "<IPython.core.display.HTML object>"
      ]
     },
     "metadata": {},
     "output_type": "display_data"
    }
   ],
   "source": [
    "display_chart(pie_chart)"
   ]
  },
  {
   "cell_type": "markdown",
   "metadata": {},
   "source": [
    "Now, the chart is interactive. After the **display_chart** method is used to display the chart, **non-interactive** chart will also turn into interactive one. \n",
    "\n",
    "\n",
    "### Create a donut. (Aesthetic tweak)\n",
    "\n",
    "Create a **Donut** by sepcifying a paramerter **inner_radius**"
   ]
  },
  {
   "cell_type": "code",
   "execution_count": 16,
   "metadata": {
    "collapsed": true
   },
   "outputs": [],
   "source": [
    "pie_chart = pygal.Pie(width = 640,\n",
    "                      height = 360,\n",
    "                      explicit_size = True,\n",
    "                      style = DarkStyle,\n",
    "                      inner_radius = .5)"
   ]
  },
  {
   "cell_type": "code",
   "execution_count": 17,
   "metadata": {},
   "outputs": [
    {
     "data": {
      "text/html": [
       "\n",
       "<!DOCTYPE html>\n",
       "<html>\n",
       "  <head>\n",
       "  <script type=\"text/javascript\" \n",
       "          src=\"http://kozea.github.com/pygal.js/javascripts/svg.jquery.js\">\n",
       "  </script>\n",
       "  <script type=\"text/javascript\" \n",
       "          src=\"https://kozea.github.io/pygal.js/2.0.x/pygal-tooltips.min.js\"\">\n",
       "  </script>\n",
       "  </head>\n",
       "  <body>\n",
       "    <figure>\n",
       "      <?xml version='1.0' encoding='utf-8'?>\n",
       "<svg xmlns:xlink=\"http://www.w3.org/1999/xlink\" xmlns=\"http://www.w3.org/2000/svg\" id=\"chart-cd6e634f-a4d2-4e79-9473-3b555e5a5689\" class=\"pygal-chart\" viewBox=\"0 0 640 360\" width=\"640\" height=\"360\"><!--Generated with pygal 2.4.0 (lxml) ©Kozea 2012-2016 on 2019-02-03--><!--http://pygal.org--><!--http://github.com/Kozea/pygal--><defs><style type=\"text/css\">#chart-cd6e634f-a4d2-4e79-9473-3b555e5a5689{-webkit-user-select:none;-webkit-font-smoothing:antialiased;font-family:Consolas,\"Liberation Mono\",Menlo,Courier,monospace}#chart-cd6e634f-a4d2-4e79-9473-3b555e5a5689 .title{font-family:Consolas,\"Liberation Mono\",Menlo,Courier,monospace;font-size:16px}#chart-cd6e634f-a4d2-4e79-9473-3b555e5a5689 .legends .legend text{font-family:Consolas,\"Liberation Mono\",Menlo,Courier,monospace;font-size:14px}#chart-cd6e634f-a4d2-4e79-9473-3b555e5a5689 .axis text{font-family:Consolas,\"Liberation Mono\",Menlo,Courier,monospace;font-size:10px}#chart-cd6e634f-a4d2-4e79-9473-3b555e5a5689 .axis text.major{font-family:Consolas,\"Liberation Mono\",Menlo,Courier,monospace;font-size:10px}#chart-cd6e634f-a4d2-4e79-9473-3b555e5a5689 .text-overlay text.value{font-family:Consolas,\"Liberation Mono\",Menlo,Courier,monospace;font-size:16px}#chart-cd6e634f-a4d2-4e79-9473-3b555e5a5689 .text-overlay text.label{font-family:Consolas,\"Liberation Mono\",Menlo,Courier,monospace;font-size:10px}#chart-cd6e634f-a4d2-4e79-9473-3b555e5a5689 .tooltip{font-family:Consolas,\"Liberation Mono\",Menlo,Courier,monospace;font-size:14px}#chart-cd6e634f-a4d2-4e79-9473-3b555e5a5689 text.no_data{font-family:Consolas,\"Liberation Mono\",Menlo,Courier,monospace;font-size:64px}\n",
       "#chart-cd6e634f-a4d2-4e79-9473-3b555e5a5689{background-color:black}#chart-cd6e634f-a4d2-4e79-9473-3b555e5a5689 path,#chart-cd6e634f-a4d2-4e79-9473-3b555e5a5689 line,#chart-cd6e634f-a4d2-4e79-9473-3b555e5a5689 rect,#chart-cd6e634f-a4d2-4e79-9473-3b555e5a5689 circle{-webkit-transition:250ms;-moz-transition:250ms;transition:250ms}#chart-cd6e634f-a4d2-4e79-9473-3b555e5a5689 .graph &gt; .background{fill:black}#chart-cd6e634f-a4d2-4e79-9473-3b555e5a5689 .plot &gt; .background{fill:#111}#chart-cd6e634f-a4d2-4e79-9473-3b555e5a5689 .graph{fill:#999}#chart-cd6e634f-a4d2-4e79-9473-3b555e5a5689 text.no_data{fill:#eee}#chart-cd6e634f-a4d2-4e79-9473-3b555e5a5689 .title{fill:#eee}#chart-cd6e634f-a4d2-4e79-9473-3b555e5a5689 .legends .legend text{fill:#999}#chart-cd6e634f-a4d2-4e79-9473-3b555e5a5689 .legends .legend:hover text{fill:#eee}#chart-cd6e634f-a4d2-4e79-9473-3b555e5a5689 .axis .line{stroke:#eee}#chart-cd6e634f-a4d2-4e79-9473-3b555e5a5689 .axis .guide.line{stroke:#555}#chart-cd6e634f-a4d2-4e79-9473-3b555e5a5689 .axis .major.line{stroke:#999}#chart-cd6e634f-a4d2-4e79-9473-3b555e5a5689 .axis text.major{fill:#eee}#chart-cd6e634f-a4d2-4e79-9473-3b555e5a5689 .axis.y .guides:hover .guide.line,#chart-cd6e634f-a4d2-4e79-9473-3b555e5a5689 .line-graph .axis.x .guides:hover .guide.line,#chart-cd6e634f-a4d2-4e79-9473-3b555e5a5689 .stackedline-graph .axis.x .guides:hover .guide.line,#chart-cd6e634f-a4d2-4e79-9473-3b555e5a5689 .xy-graph .axis.x .guides:hover .guide.line{stroke:#eee}#chart-cd6e634f-a4d2-4e79-9473-3b555e5a5689 .axis .guides:hover text{fill:#eee}#chart-cd6e634f-a4d2-4e79-9473-3b555e5a5689 .reactive{fill-opacity:.8;stroke-opacity:.8}#chart-cd6e634f-a4d2-4e79-9473-3b555e5a5689 .ci{stroke:#999}#chart-cd6e634f-a4d2-4e79-9473-3b555e5a5689 .reactive.active,#chart-cd6e634f-a4d2-4e79-9473-3b555e5a5689 .active .reactive{fill-opacity:.4;stroke-opacity:.9;stroke-width:4}#chart-cd6e634f-a4d2-4e79-9473-3b555e5a5689 .ci .reactive.active{stroke-width:1.5}#chart-cd6e634f-a4d2-4e79-9473-3b555e5a5689 .series text{fill:#eee}#chart-cd6e634f-a4d2-4e79-9473-3b555e5a5689 .tooltip rect{fill:#111;stroke:#eee;-webkit-transition:opacity 250ms;-moz-transition:opacity 250ms;transition:opacity 250ms}#chart-cd6e634f-a4d2-4e79-9473-3b555e5a5689 .tooltip .label{fill:#999}#chart-cd6e634f-a4d2-4e79-9473-3b555e5a5689 .tooltip .label{fill:#999}#chart-cd6e634f-a4d2-4e79-9473-3b555e5a5689 .tooltip .legend{font-size:.8em;fill:#555}#chart-cd6e634f-a4d2-4e79-9473-3b555e5a5689 .tooltip .x_label{font-size:.6em;fill:#eee}#chart-cd6e634f-a4d2-4e79-9473-3b555e5a5689 .tooltip .xlink{font-size:.5em;text-decoration:underline}#chart-cd6e634f-a4d2-4e79-9473-3b555e5a5689 .tooltip .value{font-size:1.5em}#chart-cd6e634f-a4d2-4e79-9473-3b555e5a5689 .bound{font-size:.5em}#chart-cd6e634f-a4d2-4e79-9473-3b555e5a5689 .max-value{font-size:.75em;fill:#555}#chart-cd6e634f-a4d2-4e79-9473-3b555e5a5689 .map-element{fill:#111;stroke:#555 !important}#chart-cd6e634f-a4d2-4e79-9473-3b555e5a5689 .map-element .reactive{fill-opacity:inherit;stroke-opacity:inherit}#chart-cd6e634f-a4d2-4e79-9473-3b555e5a5689 .color-0,#chart-cd6e634f-a4d2-4e79-9473-3b555e5a5689 .color-0 a:visited{stroke:#ff5995;fill:#ff5995}#chart-cd6e634f-a4d2-4e79-9473-3b555e5a5689 .color-1,#chart-cd6e634f-a4d2-4e79-9473-3b555e5a5689 .color-1 a:visited{stroke:#b6e354;fill:#b6e354}#chart-cd6e634f-a4d2-4e79-9473-3b555e5a5689 .color-2,#chart-cd6e634f-a4d2-4e79-9473-3b555e5a5689 .color-2 a:visited{stroke:#feed6c;fill:#feed6c}#chart-cd6e634f-a4d2-4e79-9473-3b555e5a5689 .text-overlay .color-0 text{fill:black}#chart-cd6e634f-a4d2-4e79-9473-3b555e5a5689 .text-overlay .color-1 text{fill:black}#chart-cd6e634f-a4d2-4e79-9473-3b555e5a5689 .text-overlay .color-2 text{fill:black}\n",
       "#chart-cd6e634f-a4d2-4e79-9473-3b555e5a5689 text.no_data{text-anchor:middle}#chart-cd6e634f-a4d2-4e79-9473-3b555e5a5689 .guide.line{fill:none}#chart-cd6e634f-a4d2-4e79-9473-3b555e5a5689 .centered{text-anchor:middle}#chart-cd6e634f-a4d2-4e79-9473-3b555e5a5689 .title{text-anchor:middle}#chart-cd6e634f-a4d2-4e79-9473-3b555e5a5689 .legends .legend text{fill-opacity:1}#chart-cd6e634f-a4d2-4e79-9473-3b555e5a5689 .axis.x text{text-anchor:middle}#chart-cd6e634f-a4d2-4e79-9473-3b555e5a5689 .axis.x:not(.web) text[transform]{text-anchor:start}#chart-cd6e634f-a4d2-4e79-9473-3b555e5a5689 .axis.x:not(.web) text[transform].backwards{text-anchor:end}#chart-cd6e634f-a4d2-4e79-9473-3b555e5a5689 .axis.y text{text-anchor:end}#chart-cd6e634f-a4d2-4e79-9473-3b555e5a5689 .axis.y text[transform].backwards{text-anchor:start}#chart-cd6e634f-a4d2-4e79-9473-3b555e5a5689 .axis.y2 text{text-anchor:start}#chart-cd6e634f-a4d2-4e79-9473-3b555e5a5689 .axis.y2 text[transform].backwards{text-anchor:end}#chart-cd6e634f-a4d2-4e79-9473-3b555e5a5689 .axis .guide.line{stroke-dasharray:4,4}#chart-cd6e634f-a4d2-4e79-9473-3b555e5a5689 .axis .major.guide.line{stroke-dasharray:6,6}#chart-cd6e634f-a4d2-4e79-9473-3b555e5a5689 .horizontal .axis.y .guide.line,#chart-cd6e634f-a4d2-4e79-9473-3b555e5a5689 .horizontal .axis.y2 .guide.line,#chart-cd6e634f-a4d2-4e79-9473-3b555e5a5689 .vertical .axis.x .guide.line{opacity:0}#chart-cd6e634f-a4d2-4e79-9473-3b555e5a5689 .horizontal .axis.always_show .guide.line,#chart-cd6e634f-a4d2-4e79-9473-3b555e5a5689 .vertical .axis.always_show .guide.line{opacity:1 !important}#chart-cd6e634f-a4d2-4e79-9473-3b555e5a5689 .axis.y .guides:hover .guide.line,#chart-cd6e634f-a4d2-4e79-9473-3b555e5a5689 .axis.y2 .guides:hover .guide.line,#chart-cd6e634f-a4d2-4e79-9473-3b555e5a5689 .axis.x .guides:hover .guide.line{opacity:1}#chart-cd6e634f-a4d2-4e79-9473-3b555e5a5689 .axis .guides:hover text{opacity:1}#chart-cd6e634f-a4d2-4e79-9473-3b555e5a5689 .nofill{fill:none}#chart-cd6e634f-a4d2-4e79-9473-3b555e5a5689 .subtle-fill{fill-opacity:.2}#chart-cd6e634f-a4d2-4e79-9473-3b555e5a5689 .dot{stroke-width:1px;fill-opacity:1}#chart-cd6e634f-a4d2-4e79-9473-3b555e5a5689 .dot.active{stroke-width:5px}#chart-cd6e634f-a4d2-4e79-9473-3b555e5a5689 .dot.negative{fill:transparent}#chart-cd6e634f-a4d2-4e79-9473-3b555e5a5689 text,#chart-cd6e634f-a4d2-4e79-9473-3b555e5a5689 tspan{stroke:none !important}#chart-cd6e634f-a4d2-4e79-9473-3b555e5a5689 .series text.active{opacity:1}#chart-cd6e634f-a4d2-4e79-9473-3b555e5a5689 .tooltip rect{fill-opacity:.95;stroke-width:.5}#chart-cd6e634f-a4d2-4e79-9473-3b555e5a5689 .tooltip text{fill-opacity:1}#chart-cd6e634f-a4d2-4e79-9473-3b555e5a5689 .showable{visibility:hidden}#chart-cd6e634f-a4d2-4e79-9473-3b555e5a5689 .showable.shown{visibility:visible}#chart-cd6e634f-a4d2-4e79-9473-3b555e5a5689 .gauge-background{fill:rgba(229,229,229,1);stroke:none}#chart-cd6e634f-a4d2-4e79-9473-3b555e5a5689 .bg-lines{stroke:black;stroke-width:2px}</style><script type=\"text/javascript\">window.pygal = window.pygal || {};window.pygal.config = window.pygal.config || {};window.pygal.config['cd6e634f-a4d2-4e79-9473-3b555e5a5689'] = {\"allow_interruptions\": false, \"box_mode\": \"extremes\", \"classes\": [\"pygal-chart\"], \"css\": [\"file://style.css\", \"file://graph.css\"], \"defs\": [], \"disable_xml_declaration\": false, \"dots_size\": 2.5, \"dynamic_print_values\": false, \"explicit_size\": true, \"fill\": false, \"force_uri_protocol\": \"https\", \"formatter\": null, \"half_pie\": false, \"height\": 360, \"include_x_axis\": false, \"inner_radius\": 0.5, \"interpolate\": null, \"interpolation_parameters\": {}, \"interpolation_precision\": 250, \"inverse_y_axis\": false, \"js\": [\"//kozea.github.io/pygal.js/2.0.x/pygal-tooltips.min.js\"], \"legend_at_bottom\": false, \"legend_at_bottom_columns\": null, \"legend_box_size\": 12, \"logarithmic\": false, \"margin\": 20, \"margin_bottom\": null, \"margin_left\": null, \"margin_right\": null, \"margin_top\": null, \"max_scale\": 16, \"min_scale\": 4, \"missing_value_fill_truncation\": \"x\", \"no_data_text\": \"No data\", \"no_prefix\": false, \"order_min\": null, \"pretty_print\": false, \"print_labels\": false, \"print_values\": false, \"print_values_position\": \"center\", \"print_zeroes\": true, \"range\": null, \"rounded_bars\": null, \"secondary_range\": null, \"show_dots\": true, \"show_legend\": true, \"show_minor_x_labels\": true, \"show_minor_y_labels\": true, \"show_only_major_dots\": false, \"show_x_guides\": false, \"show_x_labels\": true, \"show_y_guides\": true, \"show_y_labels\": true, \"spacing\": 10, \"stack_from_top\": false, \"strict\": false, \"stroke\": true, \"stroke_style\": null, \"style\": {\"background\": \"black\", \"ci_colors\": [], \"colors\": [\"#ff5995\", \"#b6e354\", \"#feed6c\", \"#8cedff\", \"#9e6ffe\", \"#899ca1\", \"#f8f8f2\", \"#bf4646\", \"#516083\", \"#f92672\", \"#82b414\", \"#fd971f\", \"#56c2d6\", \"#808384\", \"#8c54fe\", \"#465457\"], \"font_family\": \"Consolas, \\\"Liberation Mono\\\", Menlo, Courier, monospace\", \"foreground\": \"#999\", \"foreground_strong\": \"#eee\", \"foreground_subtle\": \"#555\", \"guide_stroke_dasharray\": \"4,4\", \"label_font_family\": \"Consolas, \\\"Liberation Mono\\\", Menlo, Courier, monospace\", \"label_font_size\": 10, \"legend_font_family\": \"Consolas, \\\"Liberation Mono\\\", Menlo, Courier, monospace\", \"legend_font_size\": 14, \"major_guide_stroke_dasharray\": \"6,6\", \"major_label_font_family\": \"Consolas, \\\"Liberation Mono\\\", Menlo, Courier, monospace\", \"major_label_font_size\": 10, \"no_data_font_family\": \"Consolas, \\\"Liberation Mono\\\", Menlo, Courier, monospace\", \"no_data_font_size\": 64, \"opacity\": \".8\", \"opacity_hover\": \".4\", \"plot_background\": \"#111\", \"stroke_opacity\": \".8\", \"stroke_opacity_hover\": \".9\", \"title_font_family\": \"Consolas, \\\"Liberation Mono\\\", Menlo, Courier, monospace\", \"title_font_size\": 16, \"tooltip_font_family\": \"Consolas, \\\"Liberation Mono\\\", Menlo, Courier, monospace\", \"tooltip_font_size\": 14, \"transition\": \"250ms\", \"value_background\": \"rgba(229, 229, 229, 1)\", \"value_colors\": [], \"value_font_family\": \"Consolas, \\\"Liberation Mono\\\", Menlo, Courier, monospace\", \"value_font_size\": 16, \"value_label_font_family\": \"Consolas, \\\"Liberation Mono\\\", Menlo, Courier, monospace\", \"value_label_font_size\": 10}, \"title\": \"Wines by Quality\", \"tooltip_border_radius\": 0, \"tooltip_fancy_mode\": true, \"truncate_label\": null, \"truncate_legend\": null, \"width\": 640, \"x_label_rotation\": 0, \"x_labels\": null, \"x_labels_major\": null, \"x_labels_major_count\": null, \"x_labels_major_every\": null, \"x_title\": null, \"xrange\": null, \"y_label_rotation\": 0, \"y_labels\": null, \"y_labels_major\": null, \"y_labels_major_count\": null, \"y_labels_major_every\": null, \"y_title\": null, \"zero\": 0, \"legends\": [\"High Quality\", \"Medium Quality\", \"Low Quality\"]}</script><script type=\"text/javascript\" xlink:href=\"https://kozea.github.io/pygal.js/2.0.x/pygal-tooltips.min.js\"/></defs><title>Wines by Quality</title><g class=\"graph pie-graph vertical\"><rect class=\"background\" height=\"360\" width=\"640\" x=\"0\" y=\"0\"/><g class=\"plot\" transform=\"translate(159, 46)\"><rect class=\"background\" height=\"294\" width=\"460.4\" x=\"0\" y=\"0\"/><g class=\"series serie-0 color-0\"><g class=\"slices\"><g class=\"slice\"><path class=\"slice reactive tooltip-trigger\" d=\"M230.200000 14.700000 A132.300000 132.300000 0 0 1 329.828912 59.951910 L285.549395 98.639950 A73.500000 73.500000 0 0 0 230.200000 73.500000 z\"/><desc class=\"value\">217</desc><desc class=\"x centered\">272.75385536203316</desc><desc class=\"y centered\">53.311263249912685</desc></g></g></g><g class=\"series serie-1 color-1\"><g class=\"slices\"><g class=\"slice\"><path class=\"slice reactive tooltip-trigger\" d=\"M329.828912 59.951910 A132.300000 132.300000 0 1 1 197.781953 18.733246 L212.189974 75.740692 A73.500000 73.500000 0 1 0 285.549395 98.639950 z\"/><desc class=\"value\">1319</desc><desc class=\"x centered\">199.53868546560844</desc><desc class=\"y centered\">245.2257287630034</desc></g></g></g><g class=\"series serie-2 color-2\"><g class=\"slices\"><g class=\"slice\"><path class=\"slice reactive tooltip-trigger\" d=\"M197.781953 18.733246 A132.300000 132.300000 0 0 1 230.200000 14.700000 L230.200000 73.500000 A73.500000 73.500000 0 0 0 212.189974 75.740692 z\"/><desc class=\"value\">63</desc><desc class=\"x centered\">217.49578592043812</desc><desc class=\"y centered\">44.88725376026427</desc></g></g></g></g><g class=\"titles\"><text class=\"title plot_title\" x=\"320.0\" y=\"26\">Wines by Quality</text></g><g class=\"plot overlay\" transform=\"translate(159, 46)\"><g class=\"series serie-0 color-0\"/><g class=\"series serie-1 color-1\"/><g class=\"series serie-2 color-2\"/></g><g class=\"plot text-overlay\" transform=\"translate(159, 46)\"><g class=\"series serie-0 color-0\"/><g class=\"series serie-1 color-1\"/><g class=\"series serie-2 color-2\"/></g><g class=\"plot tooltip-overlay\" transform=\"translate(159, 46)\"><g class=\"tooltip\" style=\"opacity: 0\" transform=\"translate(0 0)\"><rect class=\"tooltip-box\" height=\"0\" rx=\"0\" ry=\"0\" width=\"0\"/><g class=\"text\"/></g></g><g class=\"legends\" transform=\"translate(10, 56)\"><g class=\"legend reactive activate-serie\" id=\"activate-serie-0\"><rect class=\"color-0 reactive\" height=\"12\" width=\"12\" x=\"0.0\" y=\"1.0\"/><text x=\"17.0\" y=\"11.2\">High Quality</text></g><g class=\"legend reactive activate-serie\" id=\"activate-serie-1\"><rect class=\"color-1 reactive\" height=\"12\" width=\"12\" x=\"0.0\" y=\"22.0\"/><text x=\"17.0\" y=\"32.2\">Medium Quality</text></g><g class=\"legend reactive activate-serie\" id=\"activate-serie-2\"><rect class=\"color-2 reactive\" height=\"12\" width=\"12\" x=\"0.0\" y=\"43.0\"/><text x=\"17.0\" y=\"53.2\">Low Quality</text></g></g><g class=\"legends\" transform=\"translate(630, 56)\"/></g></svg>\n",
       "    </figure>\n",
       "  </body>\n",
       "</html>\n"
      ],
      "text/plain": [
       "<IPython.core.display.HTML object>"
      ]
     },
     "metadata": {},
     "output_type": "display_data"
    }
   ],
   "source": [
    "pie_chart.title = 'Wines by Quality'\n",
    "\n",
    "pie_chart.add('High Quality', num_high_quality)\n",
    "pie_chart.add('Medium Quality', num_med_quality)\n",
    "pie_chart.add('Low Quality', num_low_quality)\n",
    "\n",
    "display_chart(pie_chart)"
   ]
  },
  {
   "cell_type": "code",
   "execution_count": 18,
   "metadata": {
    "collapsed": true
   },
   "outputs": [],
   "source": [
    "pie_chart = pygal.Pie(width = 640,\n",
    "                      height = 360,\n",
    "                      explicit_size = True,\n",
    "                      style = DarkStyle,\n",
    "                      half_pie = True)"
   ]
  },
  {
   "cell_type": "code",
   "execution_count": 19,
   "metadata": {},
   "outputs": [
    {
     "data": {
      "text/html": [
       "\n",
       "<!DOCTYPE html>\n",
       "<html>\n",
       "  <head>\n",
       "  <script type=\"text/javascript\" \n",
       "          src=\"http://kozea.github.com/pygal.js/javascripts/svg.jquery.js\">\n",
       "  </script>\n",
       "  <script type=\"text/javascript\" \n",
       "          src=\"https://kozea.github.io/pygal.js/2.0.x/pygal-tooltips.min.js\"\">\n",
       "  </script>\n",
       "  </head>\n",
       "  <body>\n",
       "    <figure>\n",
       "      <?xml version='1.0' encoding='utf-8'?>\n",
       "<svg xmlns:xlink=\"http://www.w3.org/1999/xlink\" xmlns=\"http://www.w3.org/2000/svg\" id=\"chart-e300b2bd-3922-4a1c-81fe-158736ca285d\" class=\"pygal-chart\" viewBox=\"0 0 640 360\" width=\"640\" height=\"360\"><!--Generated with pygal 2.4.0 (lxml) ©Kozea 2012-2016 on 2019-02-03--><!--http://pygal.org--><!--http://github.com/Kozea/pygal--><defs><style type=\"text/css\">#chart-e300b2bd-3922-4a1c-81fe-158736ca285d{-webkit-user-select:none;-webkit-font-smoothing:antialiased;font-family:Consolas,\"Liberation Mono\",Menlo,Courier,monospace}#chart-e300b2bd-3922-4a1c-81fe-158736ca285d .title{font-family:Consolas,\"Liberation Mono\",Menlo,Courier,monospace;font-size:16px}#chart-e300b2bd-3922-4a1c-81fe-158736ca285d .legends .legend text{font-family:Consolas,\"Liberation Mono\",Menlo,Courier,monospace;font-size:14px}#chart-e300b2bd-3922-4a1c-81fe-158736ca285d .axis text{font-family:Consolas,\"Liberation Mono\",Menlo,Courier,monospace;font-size:10px}#chart-e300b2bd-3922-4a1c-81fe-158736ca285d .axis text.major{font-family:Consolas,\"Liberation Mono\",Menlo,Courier,monospace;font-size:10px}#chart-e300b2bd-3922-4a1c-81fe-158736ca285d .text-overlay text.value{font-family:Consolas,\"Liberation Mono\",Menlo,Courier,monospace;font-size:16px}#chart-e300b2bd-3922-4a1c-81fe-158736ca285d .text-overlay text.label{font-family:Consolas,\"Liberation Mono\",Menlo,Courier,monospace;font-size:10px}#chart-e300b2bd-3922-4a1c-81fe-158736ca285d .tooltip{font-family:Consolas,\"Liberation Mono\",Menlo,Courier,monospace;font-size:14px}#chart-e300b2bd-3922-4a1c-81fe-158736ca285d text.no_data{font-family:Consolas,\"Liberation Mono\",Menlo,Courier,monospace;font-size:64px}\n",
       "#chart-e300b2bd-3922-4a1c-81fe-158736ca285d{background-color:black}#chart-e300b2bd-3922-4a1c-81fe-158736ca285d path,#chart-e300b2bd-3922-4a1c-81fe-158736ca285d line,#chart-e300b2bd-3922-4a1c-81fe-158736ca285d rect,#chart-e300b2bd-3922-4a1c-81fe-158736ca285d circle{-webkit-transition:250ms;-moz-transition:250ms;transition:250ms}#chart-e300b2bd-3922-4a1c-81fe-158736ca285d .graph &gt; .background{fill:black}#chart-e300b2bd-3922-4a1c-81fe-158736ca285d .plot &gt; .background{fill:#111}#chart-e300b2bd-3922-4a1c-81fe-158736ca285d .graph{fill:#999}#chart-e300b2bd-3922-4a1c-81fe-158736ca285d text.no_data{fill:#eee}#chart-e300b2bd-3922-4a1c-81fe-158736ca285d .title{fill:#eee}#chart-e300b2bd-3922-4a1c-81fe-158736ca285d .legends .legend text{fill:#999}#chart-e300b2bd-3922-4a1c-81fe-158736ca285d .legends .legend:hover text{fill:#eee}#chart-e300b2bd-3922-4a1c-81fe-158736ca285d .axis .line{stroke:#eee}#chart-e300b2bd-3922-4a1c-81fe-158736ca285d .axis .guide.line{stroke:#555}#chart-e300b2bd-3922-4a1c-81fe-158736ca285d .axis .major.line{stroke:#999}#chart-e300b2bd-3922-4a1c-81fe-158736ca285d .axis text.major{fill:#eee}#chart-e300b2bd-3922-4a1c-81fe-158736ca285d .axis.y .guides:hover .guide.line,#chart-e300b2bd-3922-4a1c-81fe-158736ca285d .line-graph .axis.x .guides:hover .guide.line,#chart-e300b2bd-3922-4a1c-81fe-158736ca285d .stackedline-graph .axis.x .guides:hover .guide.line,#chart-e300b2bd-3922-4a1c-81fe-158736ca285d .xy-graph .axis.x .guides:hover .guide.line{stroke:#eee}#chart-e300b2bd-3922-4a1c-81fe-158736ca285d .axis .guides:hover text{fill:#eee}#chart-e300b2bd-3922-4a1c-81fe-158736ca285d .reactive{fill-opacity:.8;stroke-opacity:.8}#chart-e300b2bd-3922-4a1c-81fe-158736ca285d .ci{stroke:#999}#chart-e300b2bd-3922-4a1c-81fe-158736ca285d .reactive.active,#chart-e300b2bd-3922-4a1c-81fe-158736ca285d .active .reactive{fill-opacity:.4;stroke-opacity:.9;stroke-width:4}#chart-e300b2bd-3922-4a1c-81fe-158736ca285d .ci .reactive.active{stroke-width:1.5}#chart-e300b2bd-3922-4a1c-81fe-158736ca285d .series text{fill:#eee}#chart-e300b2bd-3922-4a1c-81fe-158736ca285d .tooltip rect{fill:#111;stroke:#eee;-webkit-transition:opacity 250ms;-moz-transition:opacity 250ms;transition:opacity 250ms}#chart-e300b2bd-3922-4a1c-81fe-158736ca285d .tooltip .label{fill:#999}#chart-e300b2bd-3922-4a1c-81fe-158736ca285d .tooltip .label{fill:#999}#chart-e300b2bd-3922-4a1c-81fe-158736ca285d .tooltip .legend{font-size:.8em;fill:#555}#chart-e300b2bd-3922-4a1c-81fe-158736ca285d .tooltip .x_label{font-size:.6em;fill:#eee}#chart-e300b2bd-3922-4a1c-81fe-158736ca285d .tooltip .xlink{font-size:.5em;text-decoration:underline}#chart-e300b2bd-3922-4a1c-81fe-158736ca285d .tooltip .value{font-size:1.5em}#chart-e300b2bd-3922-4a1c-81fe-158736ca285d .bound{font-size:.5em}#chart-e300b2bd-3922-4a1c-81fe-158736ca285d .max-value{font-size:.75em;fill:#555}#chart-e300b2bd-3922-4a1c-81fe-158736ca285d .map-element{fill:#111;stroke:#555 !important}#chart-e300b2bd-3922-4a1c-81fe-158736ca285d .map-element .reactive{fill-opacity:inherit;stroke-opacity:inherit}#chart-e300b2bd-3922-4a1c-81fe-158736ca285d .color-0,#chart-e300b2bd-3922-4a1c-81fe-158736ca285d .color-0 a:visited{stroke:#ff5995;fill:#ff5995}#chart-e300b2bd-3922-4a1c-81fe-158736ca285d .color-1,#chart-e300b2bd-3922-4a1c-81fe-158736ca285d .color-1 a:visited{stroke:#b6e354;fill:#b6e354}#chart-e300b2bd-3922-4a1c-81fe-158736ca285d .color-2,#chart-e300b2bd-3922-4a1c-81fe-158736ca285d .color-2 a:visited{stroke:#feed6c;fill:#feed6c}#chart-e300b2bd-3922-4a1c-81fe-158736ca285d .text-overlay .color-0 text{fill:black}#chart-e300b2bd-3922-4a1c-81fe-158736ca285d .text-overlay .color-1 text{fill:black}#chart-e300b2bd-3922-4a1c-81fe-158736ca285d .text-overlay .color-2 text{fill:black}\n",
       "#chart-e300b2bd-3922-4a1c-81fe-158736ca285d text.no_data{text-anchor:middle}#chart-e300b2bd-3922-4a1c-81fe-158736ca285d .guide.line{fill:none}#chart-e300b2bd-3922-4a1c-81fe-158736ca285d .centered{text-anchor:middle}#chart-e300b2bd-3922-4a1c-81fe-158736ca285d .title{text-anchor:middle}#chart-e300b2bd-3922-4a1c-81fe-158736ca285d .legends .legend text{fill-opacity:1}#chart-e300b2bd-3922-4a1c-81fe-158736ca285d .axis.x text{text-anchor:middle}#chart-e300b2bd-3922-4a1c-81fe-158736ca285d .axis.x:not(.web) text[transform]{text-anchor:start}#chart-e300b2bd-3922-4a1c-81fe-158736ca285d .axis.x:not(.web) text[transform].backwards{text-anchor:end}#chart-e300b2bd-3922-4a1c-81fe-158736ca285d .axis.y text{text-anchor:end}#chart-e300b2bd-3922-4a1c-81fe-158736ca285d .axis.y text[transform].backwards{text-anchor:start}#chart-e300b2bd-3922-4a1c-81fe-158736ca285d .axis.y2 text{text-anchor:start}#chart-e300b2bd-3922-4a1c-81fe-158736ca285d .axis.y2 text[transform].backwards{text-anchor:end}#chart-e300b2bd-3922-4a1c-81fe-158736ca285d .axis .guide.line{stroke-dasharray:4,4}#chart-e300b2bd-3922-4a1c-81fe-158736ca285d .axis .major.guide.line{stroke-dasharray:6,6}#chart-e300b2bd-3922-4a1c-81fe-158736ca285d .horizontal .axis.y .guide.line,#chart-e300b2bd-3922-4a1c-81fe-158736ca285d .horizontal .axis.y2 .guide.line,#chart-e300b2bd-3922-4a1c-81fe-158736ca285d .vertical .axis.x .guide.line{opacity:0}#chart-e300b2bd-3922-4a1c-81fe-158736ca285d .horizontal .axis.always_show .guide.line,#chart-e300b2bd-3922-4a1c-81fe-158736ca285d .vertical .axis.always_show .guide.line{opacity:1 !important}#chart-e300b2bd-3922-4a1c-81fe-158736ca285d .axis.y .guides:hover .guide.line,#chart-e300b2bd-3922-4a1c-81fe-158736ca285d .axis.y2 .guides:hover .guide.line,#chart-e300b2bd-3922-4a1c-81fe-158736ca285d .axis.x .guides:hover .guide.line{opacity:1}#chart-e300b2bd-3922-4a1c-81fe-158736ca285d .axis .guides:hover text{opacity:1}#chart-e300b2bd-3922-4a1c-81fe-158736ca285d .nofill{fill:none}#chart-e300b2bd-3922-4a1c-81fe-158736ca285d .subtle-fill{fill-opacity:.2}#chart-e300b2bd-3922-4a1c-81fe-158736ca285d .dot{stroke-width:1px;fill-opacity:1}#chart-e300b2bd-3922-4a1c-81fe-158736ca285d .dot.active{stroke-width:5px}#chart-e300b2bd-3922-4a1c-81fe-158736ca285d .dot.negative{fill:transparent}#chart-e300b2bd-3922-4a1c-81fe-158736ca285d text,#chart-e300b2bd-3922-4a1c-81fe-158736ca285d tspan{stroke:none !important}#chart-e300b2bd-3922-4a1c-81fe-158736ca285d .series text.active{opacity:1}#chart-e300b2bd-3922-4a1c-81fe-158736ca285d .tooltip rect{fill-opacity:.95;stroke-width:.5}#chart-e300b2bd-3922-4a1c-81fe-158736ca285d .tooltip text{fill-opacity:1}#chart-e300b2bd-3922-4a1c-81fe-158736ca285d .showable{visibility:hidden}#chart-e300b2bd-3922-4a1c-81fe-158736ca285d .showable.shown{visibility:visible}#chart-e300b2bd-3922-4a1c-81fe-158736ca285d .gauge-background{fill:rgba(229,229,229,1);stroke:none}#chart-e300b2bd-3922-4a1c-81fe-158736ca285d .bg-lines{stroke:black;stroke-width:2px}</style><script type=\"text/javascript\">window.pygal = window.pygal || {};window.pygal.config = window.pygal.config || {};window.pygal.config['e300b2bd-3922-4a1c-81fe-158736ca285d'] = {\"allow_interruptions\": false, \"box_mode\": \"extremes\", \"classes\": [\"pygal-chart\"], \"css\": [\"file://style.css\", \"file://graph.css\"], \"defs\": [], \"disable_xml_declaration\": false, \"dots_size\": 2.5, \"dynamic_print_values\": false, \"explicit_size\": true, \"fill\": false, \"force_uri_protocol\": \"https\", \"formatter\": null, \"half_pie\": true, \"height\": 360, \"include_x_axis\": false, \"inner_radius\": 0, \"interpolate\": null, \"interpolation_parameters\": {}, \"interpolation_precision\": 250, \"inverse_y_axis\": false, \"js\": [\"//kozea.github.io/pygal.js/2.0.x/pygal-tooltips.min.js\"], \"legend_at_bottom\": false, \"legend_at_bottom_columns\": null, \"legend_box_size\": 12, \"logarithmic\": false, \"margin\": 20, \"margin_bottom\": null, \"margin_left\": null, \"margin_right\": null, \"margin_top\": null, \"max_scale\": 16, \"min_scale\": 4, \"missing_value_fill_truncation\": \"x\", \"no_data_text\": \"No data\", \"no_prefix\": false, \"order_min\": null, \"pretty_print\": false, \"print_labels\": false, \"print_values\": false, \"print_values_position\": \"center\", \"print_zeroes\": true, \"range\": null, \"rounded_bars\": null, \"secondary_range\": null, \"show_dots\": true, \"show_legend\": true, \"show_minor_x_labels\": true, \"show_minor_y_labels\": true, \"show_only_major_dots\": false, \"show_x_guides\": false, \"show_x_labels\": true, \"show_y_guides\": true, \"show_y_labels\": true, \"spacing\": 10, \"stack_from_top\": false, \"strict\": false, \"stroke\": true, \"stroke_style\": null, \"style\": {\"background\": \"black\", \"ci_colors\": [], \"colors\": [\"#ff5995\", \"#b6e354\", \"#feed6c\", \"#8cedff\", \"#9e6ffe\", \"#899ca1\", \"#f8f8f2\", \"#bf4646\", \"#516083\", \"#f92672\", \"#82b414\", \"#fd971f\", \"#56c2d6\", \"#808384\", \"#8c54fe\", \"#465457\"], \"font_family\": \"Consolas, \\\"Liberation Mono\\\", Menlo, Courier, monospace\", \"foreground\": \"#999\", \"foreground_strong\": \"#eee\", \"foreground_subtle\": \"#555\", \"guide_stroke_dasharray\": \"4,4\", \"label_font_family\": \"Consolas, \\\"Liberation Mono\\\", Menlo, Courier, monospace\", \"label_font_size\": 10, \"legend_font_family\": \"Consolas, \\\"Liberation Mono\\\", Menlo, Courier, monospace\", \"legend_font_size\": 14, \"major_guide_stroke_dasharray\": \"6,6\", \"major_label_font_family\": \"Consolas, \\\"Liberation Mono\\\", Menlo, Courier, monospace\", \"major_label_font_size\": 10, \"no_data_font_family\": \"Consolas, \\\"Liberation Mono\\\", Menlo, Courier, monospace\", \"no_data_font_size\": 64, \"opacity\": \".8\", \"opacity_hover\": \".4\", \"plot_background\": \"#111\", \"stroke_opacity\": \".8\", \"stroke_opacity_hover\": \".9\", \"title_font_family\": \"Consolas, \\\"Liberation Mono\\\", Menlo, Courier, monospace\", \"title_font_size\": 16, \"tooltip_font_family\": \"Consolas, \\\"Liberation Mono\\\", Menlo, Courier, monospace\", \"tooltip_font_size\": 14, \"transition\": \"250ms\", \"value_background\": \"rgba(229, 229, 229, 1)\", \"value_colors\": [], \"value_font_family\": \"Consolas, \\\"Liberation Mono\\\", Menlo, Courier, monospace\", \"value_font_size\": 16, \"value_label_font_family\": \"Consolas, \\\"Liberation Mono\\\", Menlo, Courier, monospace\", \"value_label_font_size\": 10}, \"title\": \"Wines by Quality\", \"tooltip_border_radius\": 0, \"tooltip_fancy_mode\": true, \"truncate_label\": null, \"truncate_legend\": null, \"width\": 640, \"x_label_rotation\": 0, \"x_labels\": null, \"x_labels_major\": null, \"x_labels_major_count\": null, \"x_labels_major_every\": null, \"x_title\": null, \"xrange\": null, \"y_label_rotation\": 0, \"y_labels\": null, \"y_labels_major\": null, \"y_labels_major_count\": null, \"y_labels_major_every\": null, \"y_title\": null, \"zero\": 0, \"legends\": [\"High Quality\", \"Medium Quality\", \"Low Quality\"]}</script><script type=\"text/javascript\" xlink:href=\"https://kozea.github.io/pygal.js/2.0.x/pygal-tooltips.min.js\"/></defs><title>Wines by Quality</title><g class=\"graph pie-graph vertical\"><rect class=\"background\" height=\"360\" width=\"640\" x=\"0\" y=\"0\"/><g class=\"plot\" transform=\"translate(159, 46)\"><rect class=\"background\" height=\"294\" width=\"460.4\" x=\"0\" y=\"0\"/><g class=\"series serie-0 color-0\"><g class=\"slices\"><g class=\"slice\"><path class=\"slice reactive tooltip-trigger\" d=\"M23.020000 235.200000 A207.180000 207.180000 0 0 1 41.566059 149.521596 L230.200000 235.200000 A0.000000 0.000000 0 0 0 230.200000 235.200000 z\"/><desc class=\"value\">217</desc><desc class=\"x centered\">128.95479505324164</desc><desc class=\"y centered\">213.28433037096747</desc></g></g></g><g class=\"series serie-1 color-1\"><g class=\"slices\"><g class=\"slice\"><path class=\"slice reactive tooltip-trigger\" d=\"M41.566059 149.521596 A207.180000 207.180000 0 0 1 435.794935 209.621195 L230.200000 235.200000 A0.000000 0.000000 0 0 0 230.200000 235.200000 z\"/><desc class=\"value\">1319</desc><desc class=\"x centered\">245.81176850353182</desc><desc class=\"y centered\">132.7931604618513</desc></g></g></g><g class=\"series serie-2 color-2\"><g class=\"slices\"><g class=\"slice\"><path class=\"slice reactive tooltip-trigger\" d=\"M435.794935 209.621195 A207.180000 207.180000 0 0 1 437.380000 235.200000 L230.200000 235.200000 A0.000000 0.000000 0 0 0 230.200000 235.200000 z\"/><desc class=\"value\">63</desc><desc class=\"x centered\">333.59167697497827</desc><desc class=\"y centered\">228.79303251906578</desc></g></g></g></g><g class=\"titles\"><text class=\"title plot_title\" x=\"320.0\" y=\"26\">Wines by Quality</text></g><g class=\"plot overlay\" transform=\"translate(159, 46)\"><g class=\"series serie-0 color-0\"/><g class=\"series serie-1 color-1\"/><g class=\"series serie-2 color-2\"/></g><g class=\"plot text-overlay\" transform=\"translate(159, 46)\"><g class=\"series serie-0 color-0\"/><g class=\"series serie-1 color-1\"/><g class=\"series serie-2 color-2\"/></g><g class=\"plot tooltip-overlay\" transform=\"translate(159, 46)\"><g class=\"tooltip\" style=\"opacity: 0\" transform=\"translate(0 0)\"><rect class=\"tooltip-box\" height=\"0\" rx=\"0\" ry=\"0\" width=\"0\"/><g class=\"text\"/></g></g><g class=\"legends\" transform=\"translate(10, 56)\"><g class=\"legend reactive activate-serie\" id=\"activate-serie-0\"><rect class=\"color-0 reactive\" height=\"12\" width=\"12\" x=\"0.0\" y=\"1.0\"/><text x=\"17.0\" y=\"11.2\">High Quality</text></g><g class=\"legend reactive activate-serie\" id=\"activate-serie-1\"><rect class=\"color-1 reactive\" height=\"12\" width=\"12\" x=\"0.0\" y=\"22.0\"/><text x=\"17.0\" y=\"32.2\">Medium Quality</text></g><g class=\"legend reactive activate-serie\" id=\"activate-serie-2\"><rect class=\"color-2 reactive\" height=\"12\" width=\"12\" x=\"0.0\" y=\"43.0\"/><text x=\"17.0\" y=\"53.2\">Low Quality</text></g></g><g class=\"legends\" transform=\"translate(630, 56)\"/></g></svg>\n",
       "    </figure>\n",
       "  </body>\n",
       "</html>\n"
      ],
      "text/plain": [
       "<IPython.core.display.HTML object>"
      ]
     },
     "metadata": {},
     "output_type": "display_data"
    }
   ],
   "source": [
    "pie_chart.title = 'Wines by Quality'\n",
    "\n",
    "pie_chart.add('High Quality', num_high_quality)\n",
    "pie_chart.add('Medium Quality', num_med_quality)\n",
    "pie_chart.add('Low Quality', num_low_quality)\n",
    "\n",
    "display_chart(pie_chart)"
   ]
  },
  {
   "cell_type": "code",
   "execution_count": 20,
   "metadata": {
    "collapsed": true
   },
   "outputs": [],
   "source": [
    "pie_chart = pygal.Pie(width = 640,\n",
    "                      height = 360,\n",
    "                      explicit_size = True,\n",
    "                      style = DarkStyle,\n",
    "                      half_pie = True, \n",
    "                      inner_radius = .5)"
   ]
  },
  {
   "cell_type": "code",
   "execution_count": 21,
   "metadata": {},
   "outputs": [
    {
     "data": {
      "text/html": [
       "\n",
       "<!DOCTYPE html>\n",
       "<html>\n",
       "  <head>\n",
       "  <script type=\"text/javascript\" \n",
       "          src=\"http://kozea.github.com/pygal.js/javascripts/svg.jquery.js\">\n",
       "  </script>\n",
       "  <script type=\"text/javascript\" \n",
       "          src=\"https://kozea.github.io/pygal.js/2.0.x/pygal-tooltips.min.js\"\">\n",
       "  </script>\n",
       "  </head>\n",
       "  <body>\n",
       "    <figure>\n",
       "      <?xml version='1.0' encoding='utf-8'?>\n",
       "<svg xmlns:xlink=\"http://www.w3.org/1999/xlink\" xmlns=\"http://www.w3.org/2000/svg\" id=\"chart-111cb782-bf47-4846-b3d5-5de1cfc55002\" class=\"pygal-chart\" viewBox=\"0 0 640 360\" width=\"640\" height=\"360\"><!--Generated with pygal 2.4.0 (lxml) ©Kozea 2012-2016 on 2019-02-03--><!--http://pygal.org--><!--http://github.com/Kozea/pygal--><defs><style type=\"text/css\">#chart-111cb782-bf47-4846-b3d5-5de1cfc55002{-webkit-user-select:none;-webkit-font-smoothing:antialiased;font-family:Consolas,\"Liberation Mono\",Menlo,Courier,monospace}#chart-111cb782-bf47-4846-b3d5-5de1cfc55002 .title{font-family:Consolas,\"Liberation Mono\",Menlo,Courier,monospace;font-size:16px}#chart-111cb782-bf47-4846-b3d5-5de1cfc55002 .legends .legend text{font-family:Consolas,\"Liberation Mono\",Menlo,Courier,monospace;font-size:14px}#chart-111cb782-bf47-4846-b3d5-5de1cfc55002 .axis text{font-family:Consolas,\"Liberation Mono\",Menlo,Courier,monospace;font-size:10px}#chart-111cb782-bf47-4846-b3d5-5de1cfc55002 .axis text.major{font-family:Consolas,\"Liberation Mono\",Menlo,Courier,monospace;font-size:10px}#chart-111cb782-bf47-4846-b3d5-5de1cfc55002 .text-overlay text.value{font-family:Consolas,\"Liberation Mono\",Menlo,Courier,monospace;font-size:16px}#chart-111cb782-bf47-4846-b3d5-5de1cfc55002 .text-overlay text.label{font-family:Consolas,\"Liberation Mono\",Menlo,Courier,monospace;font-size:10px}#chart-111cb782-bf47-4846-b3d5-5de1cfc55002 .tooltip{font-family:Consolas,\"Liberation Mono\",Menlo,Courier,monospace;font-size:14px}#chart-111cb782-bf47-4846-b3d5-5de1cfc55002 text.no_data{font-family:Consolas,\"Liberation Mono\",Menlo,Courier,monospace;font-size:64px}\n",
       "#chart-111cb782-bf47-4846-b3d5-5de1cfc55002{background-color:black}#chart-111cb782-bf47-4846-b3d5-5de1cfc55002 path,#chart-111cb782-bf47-4846-b3d5-5de1cfc55002 line,#chart-111cb782-bf47-4846-b3d5-5de1cfc55002 rect,#chart-111cb782-bf47-4846-b3d5-5de1cfc55002 circle{-webkit-transition:250ms;-moz-transition:250ms;transition:250ms}#chart-111cb782-bf47-4846-b3d5-5de1cfc55002 .graph &gt; .background{fill:black}#chart-111cb782-bf47-4846-b3d5-5de1cfc55002 .plot &gt; .background{fill:#111}#chart-111cb782-bf47-4846-b3d5-5de1cfc55002 .graph{fill:#999}#chart-111cb782-bf47-4846-b3d5-5de1cfc55002 text.no_data{fill:#eee}#chart-111cb782-bf47-4846-b3d5-5de1cfc55002 .title{fill:#eee}#chart-111cb782-bf47-4846-b3d5-5de1cfc55002 .legends .legend text{fill:#999}#chart-111cb782-bf47-4846-b3d5-5de1cfc55002 .legends .legend:hover text{fill:#eee}#chart-111cb782-bf47-4846-b3d5-5de1cfc55002 .axis .line{stroke:#eee}#chart-111cb782-bf47-4846-b3d5-5de1cfc55002 .axis .guide.line{stroke:#555}#chart-111cb782-bf47-4846-b3d5-5de1cfc55002 .axis .major.line{stroke:#999}#chart-111cb782-bf47-4846-b3d5-5de1cfc55002 .axis text.major{fill:#eee}#chart-111cb782-bf47-4846-b3d5-5de1cfc55002 .axis.y .guides:hover .guide.line,#chart-111cb782-bf47-4846-b3d5-5de1cfc55002 .line-graph .axis.x .guides:hover .guide.line,#chart-111cb782-bf47-4846-b3d5-5de1cfc55002 .stackedline-graph .axis.x .guides:hover .guide.line,#chart-111cb782-bf47-4846-b3d5-5de1cfc55002 .xy-graph .axis.x .guides:hover .guide.line{stroke:#eee}#chart-111cb782-bf47-4846-b3d5-5de1cfc55002 .axis .guides:hover text{fill:#eee}#chart-111cb782-bf47-4846-b3d5-5de1cfc55002 .reactive{fill-opacity:.8;stroke-opacity:.8}#chart-111cb782-bf47-4846-b3d5-5de1cfc55002 .ci{stroke:#999}#chart-111cb782-bf47-4846-b3d5-5de1cfc55002 .reactive.active,#chart-111cb782-bf47-4846-b3d5-5de1cfc55002 .active .reactive{fill-opacity:.4;stroke-opacity:.9;stroke-width:4}#chart-111cb782-bf47-4846-b3d5-5de1cfc55002 .ci .reactive.active{stroke-width:1.5}#chart-111cb782-bf47-4846-b3d5-5de1cfc55002 .series text{fill:#eee}#chart-111cb782-bf47-4846-b3d5-5de1cfc55002 .tooltip rect{fill:#111;stroke:#eee;-webkit-transition:opacity 250ms;-moz-transition:opacity 250ms;transition:opacity 250ms}#chart-111cb782-bf47-4846-b3d5-5de1cfc55002 .tooltip .label{fill:#999}#chart-111cb782-bf47-4846-b3d5-5de1cfc55002 .tooltip .label{fill:#999}#chart-111cb782-bf47-4846-b3d5-5de1cfc55002 .tooltip .legend{font-size:.8em;fill:#555}#chart-111cb782-bf47-4846-b3d5-5de1cfc55002 .tooltip .x_label{font-size:.6em;fill:#eee}#chart-111cb782-bf47-4846-b3d5-5de1cfc55002 .tooltip .xlink{font-size:.5em;text-decoration:underline}#chart-111cb782-bf47-4846-b3d5-5de1cfc55002 .tooltip .value{font-size:1.5em}#chart-111cb782-bf47-4846-b3d5-5de1cfc55002 .bound{font-size:.5em}#chart-111cb782-bf47-4846-b3d5-5de1cfc55002 .max-value{font-size:.75em;fill:#555}#chart-111cb782-bf47-4846-b3d5-5de1cfc55002 .map-element{fill:#111;stroke:#555 !important}#chart-111cb782-bf47-4846-b3d5-5de1cfc55002 .map-element .reactive{fill-opacity:inherit;stroke-opacity:inherit}#chart-111cb782-bf47-4846-b3d5-5de1cfc55002 .color-0,#chart-111cb782-bf47-4846-b3d5-5de1cfc55002 .color-0 a:visited{stroke:#ff5995;fill:#ff5995}#chart-111cb782-bf47-4846-b3d5-5de1cfc55002 .color-1,#chart-111cb782-bf47-4846-b3d5-5de1cfc55002 .color-1 a:visited{stroke:#b6e354;fill:#b6e354}#chart-111cb782-bf47-4846-b3d5-5de1cfc55002 .color-2,#chart-111cb782-bf47-4846-b3d5-5de1cfc55002 .color-2 a:visited{stroke:#feed6c;fill:#feed6c}#chart-111cb782-bf47-4846-b3d5-5de1cfc55002 .text-overlay .color-0 text{fill:black}#chart-111cb782-bf47-4846-b3d5-5de1cfc55002 .text-overlay .color-1 text{fill:black}#chart-111cb782-bf47-4846-b3d5-5de1cfc55002 .text-overlay .color-2 text{fill:black}\n",
       "#chart-111cb782-bf47-4846-b3d5-5de1cfc55002 text.no_data{text-anchor:middle}#chart-111cb782-bf47-4846-b3d5-5de1cfc55002 .guide.line{fill:none}#chart-111cb782-bf47-4846-b3d5-5de1cfc55002 .centered{text-anchor:middle}#chart-111cb782-bf47-4846-b3d5-5de1cfc55002 .title{text-anchor:middle}#chart-111cb782-bf47-4846-b3d5-5de1cfc55002 .legends .legend text{fill-opacity:1}#chart-111cb782-bf47-4846-b3d5-5de1cfc55002 .axis.x text{text-anchor:middle}#chart-111cb782-bf47-4846-b3d5-5de1cfc55002 .axis.x:not(.web) text[transform]{text-anchor:start}#chart-111cb782-bf47-4846-b3d5-5de1cfc55002 .axis.x:not(.web) text[transform].backwards{text-anchor:end}#chart-111cb782-bf47-4846-b3d5-5de1cfc55002 .axis.y text{text-anchor:end}#chart-111cb782-bf47-4846-b3d5-5de1cfc55002 .axis.y text[transform].backwards{text-anchor:start}#chart-111cb782-bf47-4846-b3d5-5de1cfc55002 .axis.y2 text{text-anchor:start}#chart-111cb782-bf47-4846-b3d5-5de1cfc55002 .axis.y2 text[transform].backwards{text-anchor:end}#chart-111cb782-bf47-4846-b3d5-5de1cfc55002 .axis .guide.line{stroke-dasharray:4,4}#chart-111cb782-bf47-4846-b3d5-5de1cfc55002 .axis .major.guide.line{stroke-dasharray:6,6}#chart-111cb782-bf47-4846-b3d5-5de1cfc55002 .horizontal .axis.y .guide.line,#chart-111cb782-bf47-4846-b3d5-5de1cfc55002 .horizontal .axis.y2 .guide.line,#chart-111cb782-bf47-4846-b3d5-5de1cfc55002 .vertical .axis.x .guide.line{opacity:0}#chart-111cb782-bf47-4846-b3d5-5de1cfc55002 .horizontal .axis.always_show .guide.line,#chart-111cb782-bf47-4846-b3d5-5de1cfc55002 .vertical .axis.always_show .guide.line{opacity:1 !important}#chart-111cb782-bf47-4846-b3d5-5de1cfc55002 .axis.y .guides:hover .guide.line,#chart-111cb782-bf47-4846-b3d5-5de1cfc55002 .axis.y2 .guides:hover .guide.line,#chart-111cb782-bf47-4846-b3d5-5de1cfc55002 .axis.x .guides:hover .guide.line{opacity:1}#chart-111cb782-bf47-4846-b3d5-5de1cfc55002 .axis .guides:hover text{opacity:1}#chart-111cb782-bf47-4846-b3d5-5de1cfc55002 .nofill{fill:none}#chart-111cb782-bf47-4846-b3d5-5de1cfc55002 .subtle-fill{fill-opacity:.2}#chart-111cb782-bf47-4846-b3d5-5de1cfc55002 .dot{stroke-width:1px;fill-opacity:1}#chart-111cb782-bf47-4846-b3d5-5de1cfc55002 .dot.active{stroke-width:5px}#chart-111cb782-bf47-4846-b3d5-5de1cfc55002 .dot.negative{fill:transparent}#chart-111cb782-bf47-4846-b3d5-5de1cfc55002 text,#chart-111cb782-bf47-4846-b3d5-5de1cfc55002 tspan{stroke:none !important}#chart-111cb782-bf47-4846-b3d5-5de1cfc55002 .series text.active{opacity:1}#chart-111cb782-bf47-4846-b3d5-5de1cfc55002 .tooltip rect{fill-opacity:.95;stroke-width:.5}#chart-111cb782-bf47-4846-b3d5-5de1cfc55002 .tooltip text{fill-opacity:1}#chart-111cb782-bf47-4846-b3d5-5de1cfc55002 .showable{visibility:hidden}#chart-111cb782-bf47-4846-b3d5-5de1cfc55002 .showable.shown{visibility:visible}#chart-111cb782-bf47-4846-b3d5-5de1cfc55002 .gauge-background{fill:rgba(229,229,229,1);stroke:none}#chart-111cb782-bf47-4846-b3d5-5de1cfc55002 .bg-lines{stroke:black;stroke-width:2px}</style><script type=\"text/javascript\">window.pygal = window.pygal || {};window.pygal.config = window.pygal.config || {};window.pygal.config['111cb782-bf47-4846-b3d5-5de1cfc55002'] = {\"allow_interruptions\": false, \"box_mode\": \"extremes\", \"classes\": [\"pygal-chart\"], \"css\": [\"file://style.css\", \"file://graph.css\"], \"defs\": [], \"disable_xml_declaration\": false, \"dots_size\": 2.5, \"dynamic_print_values\": false, \"explicit_size\": true, \"fill\": false, \"force_uri_protocol\": \"https\", \"formatter\": null, \"half_pie\": true, \"height\": 360, \"include_x_axis\": false, \"inner_radius\": 0.5, \"interpolate\": null, \"interpolation_parameters\": {}, \"interpolation_precision\": 250, \"inverse_y_axis\": false, \"js\": [\"//kozea.github.io/pygal.js/2.0.x/pygal-tooltips.min.js\"], \"legend_at_bottom\": false, \"legend_at_bottom_columns\": null, \"legend_box_size\": 12, \"logarithmic\": false, \"margin\": 20, \"margin_bottom\": null, \"margin_left\": null, \"margin_right\": null, \"margin_top\": null, \"max_scale\": 16, \"min_scale\": 4, \"missing_value_fill_truncation\": \"x\", \"no_data_text\": \"No data\", \"no_prefix\": false, \"order_min\": null, \"pretty_print\": false, \"print_labels\": false, \"print_values\": false, \"print_values_position\": \"center\", \"print_zeroes\": true, \"range\": null, \"rounded_bars\": null, \"secondary_range\": null, \"show_dots\": true, \"show_legend\": true, \"show_minor_x_labels\": true, \"show_minor_y_labels\": true, \"show_only_major_dots\": false, \"show_x_guides\": false, \"show_x_labels\": true, \"show_y_guides\": true, \"show_y_labels\": true, \"spacing\": 10, \"stack_from_top\": false, \"strict\": false, \"stroke\": true, \"stroke_style\": null, \"style\": {\"background\": \"black\", \"ci_colors\": [], \"colors\": [\"#ff5995\", \"#b6e354\", \"#feed6c\", \"#8cedff\", \"#9e6ffe\", \"#899ca1\", \"#f8f8f2\", \"#bf4646\", \"#516083\", \"#f92672\", \"#82b414\", \"#fd971f\", \"#56c2d6\", \"#808384\", \"#8c54fe\", \"#465457\"], \"font_family\": \"Consolas, \\\"Liberation Mono\\\", Menlo, Courier, monospace\", \"foreground\": \"#999\", \"foreground_strong\": \"#eee\", \"foreground_subtle\": \"#555\", \"guide_stroke_dasharray\": \"4,4\", \"label_font_family\": \"Consolas, \\\"Liberation Mono\\\", Menlo, Courier, monospace\", \"label_font_size\": 10, \"legend_font_family\": \"Consolas, \\\"Liberation Mono\\\", Menlo, Courier, monospace\", \"legend_font_size\": 14, \"major_guide_stroke_dasharray\": \"6,6\", \"major_label_font_family\": \"Consolas, \\\"Liberation Mono\\\", Menlo, Courier, monospace\", \"major_label_font_size\": 10, \"no_data_font_family\": \"Consolas, \\\"Liberation Mono\\\", Menlo, Courier, monospace\", \"no_data_font_size\": 64, \"opacity\": \".8\", \"opacity_hover\": \".4\", \"plot_background\": \"#111\", \"stroke_opacity\": \".8\", \"stroke_opacity_hover\": \".9\", \"title_font_family\": \"Consolas, \\\"Liberation Mono\\\", Menlo, Courier, monospace\", \"title_font_size\": 16, \"tooltip_font_family\": \"Consolas, \\\"Liberation Mono\\\", Menlo, Courier, monospace\", \"tooltip_font_size\": 14, \"transition\": \"250ms\", \"value_background\": \"rgba(229, 229, 229, 1)\", \"value_colors\": [], \"value_font_family\": \"Consolas, \\\"Liberation Mono\\\", Menlo, Courier, monospace\", \"value_font_size\": 16, \"value_label_font_family\": \"Consolas, \\\"Liberation Mono\\\", Menlo, Courier, monospace\", \"value_label_font_size\": 10}, \"title\": \"Wines by Quality\", \"tooltip_border_radius\": 0, \"tooltip_fancy_mode\": true, \"truncate_label\": null, \"truncate_legend\": null, \"width\": 640, \"x_label_rotation\": 0, \"x_labels\": null, \"x_labels_major\": null, \"x_labels_major_count\": null, \"x_labels_major_every\": null, \"x_title\": null, \"xrange\": null, \"y_label_rotation\": 0, \"y_labels\": null, \"y_labels_major\": null, \"y_labels_major_count\": null, \"y_labels_major_every\": null, \"y_title\": null, \"zero\": 0, \"legends\": [\"High Quality\", \"Medium Quality\", \"Low Quality\"]}</script><script type=\"text/javascript\" xlink:href=\"https://kozea.github.io/pygal.js/2.0.x/pygal-tooltips.min.js\"/></defs><title>Wines by Quality</title><g class=\"graph pie-graph vertical\"><rect class=\"background\" height=\"360\" width=\"640\" x=\"0\" y=\"0\"/><g class=\"plot\" transform=\"translate(159, 46)\"><rect class=\"background\" height=\"294\" width=\"460.4\" x=\"0\" y=\"0\"/><g class=\"series serie-0 color-0\"><g class=\"slices\"><g class=\"slice\"><path class=\"slice reactive tooltip-trigger\" d=\"M23.020000 235.200000 A207.180000 207.180000 0 0 1 41.566059 149.521596 L125.403366 187.600887 A115.100000 115.100000 0 0 0 115.100000 235.200000 z\"/><desc class=\"value\">217</desc><desc class=\"x centered\">72.70745897170923</desc><desc class=\"y centered\">201.1089583548383</desc></g></g></g><g class=\"series serie-1 color-1\"><g class=\"slices\"><g class=\"slice\"><path class=\"slice reactive tooltip-trigger\" d=\"M41.566059 149.521596 A207.180000 207.180000 0 0 1 435.794935 209.621195 L344.419408 220.989553 A115.100000 115.100000 0 0 0 125.403366 187.600887 z\"/><desc class=\"value\">1319</desc><desc class=\"x centered\">254.48497322771618</desc><desc class=\"y centered\">75.90047182954652</desc></g></g></g><g class=\"series serie-2 color-2\"><g class=\"slices\"><g class=\"slice\"><path class=\"slice reactive tooltip-trigger\" d=\"M435.794935 209.621195 A207.180000 207.180000 0 0 1 437.380000 235.200000 L345.300000 235.200000 A115.100000 115.100000 0 0 0 344.419408 220.989553 z\"/><desc class=\"value\">63</desc><desc class=\"x centered\">391.03149751663284</desc><desc class=\"y centered\">225.23360614076898</desc></g></g></g></g><g class=\"titles\"><text class=\"title plot_title\" x=\"320.0\" y=\"26\">Wines by Quality</text></g><g class=\"plot overlay\" transform=\"translate(159, 46)\"><g class=\"series serie-0 color-0\"/><g class=\"series serie-1 color-1\"/><g class=\"series serie-2 color-2\"/></g><g class=\"plot text-overlay\" transform=\"translate(159, 46)\"><g class=\"series serie-0 color-0\"/><g class=\"series serie-1 color-1\"/><g class=\"series serie-2 color-2\"/></g><g class=\"plot tooltip-overlay\" transform=\"translate(159, 46)\"><g class=\"tooltip\" style=\"opacity: 0\" transform=\"translate(0 0)\"><rect class=\"tooltip-box\" height=\"0\" rx=\"0\" ry=\"0\" width=\"0\"/><g class=\"text\"/></g></g><g class=\"legends\" transform=\"translate(10, 56)\"><g class=\"legend reactive activate-serie\" id=\"activate-serie-0\"><rect class=\"color-0 reactive\" height=\"12\" width=\"12\" x=\"0.0\" y=\"1.0\"/><text x=\"17.0\" y=\"11.2\">High Quality</text></g><g class=\"legend reactive activate-serie\" id=\"activate-serie-1\"><rect class=\"color-1 reactive\" height=\"12\" width=\"12\" x=\"0.0\" y=\"22.0\"/><text x=\"17.0\" y=\"32.2\">Medium Quality</text></g><g class=\"legend reactive activate-serie\" id=\"activate-serie-2\"><rect class=\"color-2 reactive\" height=\"12\" width=\"12\" x=\"0.0\" y=\"43.0\"/><text x=\"17.0\" y=\"53.2\">Low Quality</text></g></g><g class=\"legends\" transform=\"translate(630, 56)\"/></g></svg>\n",
       "    </figure>\n",
       "  </body>\n",
       "</html>\n"
      ],
      "text/plain": [
       "<IPython.core.display.HTML object>"
      ]
     },
     "metadata": {},
     "output_type": "display_data"
    }
   ],
   "source": [
    "pie_chart.title = 'Wines by Quality'\n",
    "\n",
    "pie_chart.add('High Quality', num_high_quality)\n",
    "pie_chart.add('Medium Quality', num_med_quality)\n",
    "pie_chart.add('Low Quality', num_low_quality)\n",
    "\n",
    "display_chart(pie_chart)"
   ]
  },
  {
   "cell_type": "code",
   "execution_count": null,
   "metadata": {
    "collapsed": true
   },
   "outputs": [],
   "source": []
  },
  {
   "cell_type": "markdown",
   "metadata": {},
   "source": [
    "## Multi Series Pie\n",
    "**Increasing the granuality**"
   ]
  },
  {
   "cell_type": "markdown",
   "metadata": {},
   "source": [
    "You can create a Pie chart by specifying the inner details of share of a Pie. For example, there are **three** shares in pie. You can specify the sub-parts in each one of them, which will tell what each part consists of. "
   ]
  },
  {
   "cell_type": "code",
   "execution_count": null,
   "metadata": {
    "collapsed": true
   },
   "outputs": [],
   "source": [
    "counts_df"
   ]
  },
  {
   "cell_type": "code",
   "execution_count": 22,
   "metadata": {
    "collapsed": true
   },
   "outputs": [],
   "source": [
    "pie_chart = pygal.Pie(width = 640,\n",
    "                      height = 360,\n",
    "                      explicit_size = True,\n",
    "                      style = DarkStyle)\n",
    "\n",
    "pie_chart.title = 'Wines by Quality'"
   ]
  },
  {
   "cell_type": "code",
   "execution_count": 23,
   "metadata": {},
   "outputs": [
    {
     "data": {
      "text/html": [
       "\n",
       "<!DOCTYPE html>\n",
       "<html>\n",
       "  <head>\n",
       "  <script type=\"text/javascript\" \n",
       "          src=\"http://kozea.github.com/pygal.js/javascripts/svg.jquery.js\">\n",
       "  </script>\n",
       "  <script type=\"text/javascript\" \n",
       "          src=\"https://kozea.github.io/pygal.js/2.0.x/pygal-tooltips.min.js\"\">\n",
       "  </script>\n",
       "  </head>\n",
       "  <body>\n",
       "    <figure>\n",
       "      <?xml version='1.0' encoding='utf-8'?>\n",
       "<svg xmlns:xlink=\"http://www.w3.org/1999/xlink\" xmlns=\"http://www.w3.org/2000/svg\" id=\"chart-93d33ce7-be72-4440-a0cf-fb57945401f1\" class=\"pygal-chart\" viewBox=\"0 0 640 360\" width=\"640\" height=\"360\"><!--Generated with pygal 2.4.0 (lxml) ©Kozea 2012-2016 on 2019-02-03--><!--http://pygal.org--><!--http://github.com/Kozea/pygal--><defs><style type=\"text/css\">#chart-93d33ce7-be72-4440-a0cf-fb57945401f1{-webkit-user-select:none;-webkit-font-smoothing:antialiased;font-family:Consolas,\"Liberation Mono\",Menlo,Courier,monospace}#chart-93d33ce7-be72-4440-a0cf-fb57945401f1 .title{font-family:Consolas,\"Liberation Mono\",Menlo,Courier,monospace;font-size:16px}#chart-93d33ce7-be72-4440-a0cf-fb57945401f1 .legends .legend text{font-family:Consolas,\"Liberation Mono\",Menlo,Courier,monospace;font-size:14px}#chart-93d33ce7-be72-4440-a0cf-fb57945401f1 .axis text{font-family:Consolas,\"Liberation Mono\",Menlo,Courier,monospace;font-size:10px}#chart-93d33ce7-be72-4440-a0cf-fb57945401f1 .axis text.major{font-family:Consolas,\"Liberation Mono\",Menlo,Courier,monospace;font-size:10px}#chart-93d33ce7-be72-4440-a0cf-fb57945401f1 .text-overlay text.value{font-family:Consolas,\"Liberation Mono\",Menlo,Courier,monospace;font-size:16px}#chart-93d33ce7-be72-4440-a0cf-fb57945401f1 .text-overlay text.label{font-family:Consolas,\"Liberation Mono\",Menlo,Courier,monospace;font-size:10px}#chart-93d33ce7-be72-4440-a0cf-fb57945401f1 .tooltip{font-family:Consolas,\"Liberation Mono\",Menlo,Courier,monospace;font-size:14px}#chart-93d33ce7-be72-4440-a0cf-fb57945401f1 text.no_data{font-family:Consolas,\"Liberation Mono\",Menlo,Courier,monospace;font-size:64px}\n",
       "#chart-93d33ce7-be72-4440-a0cf-fb57945401f1{background-color:black}#chart-93d33ce7-be72-4440-a0cf-fb57945401f1 path,#chart-93d33ce7-be72-4440-a0cf-fb57945401f1 line,#chart-93d33ce7-be72-4440-a0cf-fb57945401f1 rect,#chart-93d33ce7-be72-4440-a0cf-fb57945401f1 circle{-webkit-transition:250ms;-moz-transition:250ms;transition:250ms}#chart-93d33ce7-be72-4440-a0cf-fb57945401f1 .graph &gt; .background{fill:black}#chart-93d33ce7-be72-4440-a0cf-fb57945401f1 .plot &gt; .background{fill:#111}#chart-93d33ce7-be72-4440-a0cf-fb57945401f1 .graph{fill:#999}#chart-93d33ce7-be72-4440-a0cf-fb57945401f1 text.no_data{fill:#eee}#chart-93d33ce7-be72-4440-a0cf-fb57945401f1 .title{fill:#eee}#chart-93d33ce7-be72-4440-a0cf-fb57945401f1 .legends .legend text{fill:#999}#chart-93d33ce7-be72-4440-a0cf-fb57945401f1 .legends .legend:hover text{fill:#eee}#chart-93d33ce7-be72-4440-a0cf-fb57945401f1 .axis .line{stroke:#eee}#chart-93d33ce7-be72-4440-a0cf-fb57945401f1 .axis .guide.line{stroke:#555}#chart-93d33ce7-be72-4440-a0cf-fb57945401f1 .axis .major.line{stroke:#999}#chart-93d33ce7-be72-4440-a0cf-fb57945401f1 .axis text.major{fill:#eee}#chart-93d33ce7-be72-4440-a0cf-fb57945401f1 .axis.y .guides:hover .guide.line,#chart-93d33ce7-be72-4440-a0cf-fb57945401f1 .line-graph .axis.x .guides:hover .guide.line,#chart-93d33ce7-be72-4440-a0cf-fb57945401f1 .stackedline-graph .axis.x .guides:hover .guide.line,#chart-93d33ce7-be72-4440-a0cf-fb57945401f1 .xy-graph .axis.x .guides:hover .guide.line{stroke:#eee}#chart-93d33ce7-be72-4440-a0cf-fb57945401f1 .axis .guides:hover text{fill:#eee}#chart-93d33ce7-be72-4440-a0cf-fb57945401f1 .reactive{fill-opacity:.8;stroke-opacity:.8}#chart-93d33ce7-be72-4440-a0cf-fb57945401f1 .ci{stroke:#999}#chart-93d33ce7-be72-4440-a0cf-fb57945401f1 .reactive.active,#chart-93d33ce7-be72-4440-a0cf-fb57945401f1 .active .reactive{fill-opacity:.4;stroke-opacity:.9;stroke-width:4}#chart-93d33ce7-be72-4440-a0cf-fb57945401f1 .ci .reactive.active{stroke-width:1.5}#chart-93d33ce7-be72-4440-a0cf-fb57945401f1 .series text{fill:#eee}#chart-93d33ce7-be72-4440-a0cf-fb57945401f1 .tooltip rect{fill:#111;stroke:#eee;-webkit-transition:opacity 250ms;-moz-transition:opacity 250ms;transition:opacity 250ms}#chart-93d33ce7-be72-4440-a0cf-fb57945401f1 .tooltip .label{fill:#999}#chart-93d33ce7-be72-4440-a0cf-fb57945401f1 .tooltip .label{fill:#999}#chart-93d33ce7-be72-4440-a0cf-fb57945401f1 .tooltip .legend{font-size:.8em;fill:#555}#chart-93d33ce7-be72-4440-a0cf-fb57945401f1 .tooltip .x_label{font-size:.6em;fill:#eee}#chart-93d33ce7-be72-4440-a0cf-fb57945401f1 .tooltip .xlink{font-size:.5em;text-decoration:underline}#chart-93d33ce7-be72-4440-a0cf-fb57945401f1 .tooltip .value{font-size:1.5em}#chart-93d33ce7-be72-4440-a0cf-fb57945401f1 .bound{font-size:.5em}#chart-93d33ce7-be72-4440-a0cf-fb57945401f1 .max-value{font-size:.75em;fill:#555}#chart-93d33ce7-be72-4440-a0cf-fb57945401f1 .map-element{fill:#111;stroke:#555 !important}#chart-93d33ce7-be72-4440-a0cf-fb57945401f1 .map-element .reactive{fill-opacity:inherit;stroke-opacity:inherit}#chart-93d33ce7-be72-4440-a0cf-fb57945401f1 .color-0,#chart-93d33ce7-be72-4440-a0cf-fb57945401f1 .color-0 a:visited{stroke:#ff5995;fill:#ff5995}#chart-93d33ce7-be72-4440-a0cf-fb57945401f1 .color-1,#chart-93d33ce7-be72-4440-a0cf-fb57945401f1 .color-1 a:visited{stroke:#b6e354;fill:#b6e354}#chart-93d33ce7-be72-4440-a0cf-fb57945401f1 .color-2,#chart-93d33ce7-be72-4440-a0cf-fb57945401f1 .color-2 a:visited{stroke:#feed6c;fill:#feed6c}#chart-93d33ce7-be72-4440-a0cf-fb57945401f1 .text-overlay .color-0 text{fill:black}#chart-93d33ce7-be72-4440-a0cf-fb57945401f1 .text-overlay .color-1 text{fill:black}#chart-93d33ce7-be72-4440-a0cf-fb57945401f1 .text-overlay .color-2 text{fill:black}\n",
       "#chart-93d33ce7-be72-4440-a0cf-fb57945401f1 text.no_data{text-anchor:middle}#chart-93d33ce7-be72-4440-a0cf-fb57945401f1 .guide.line{fill:none}#chart-93d33ce7-be72-4440-a0cf-fb57945401f1 .centered{text-anchor:middle}#chart-93d33ce7-be72-4440-a0cf-fb57945401f1 .title{text-anchor:middle}#chart-93d33ce7-be72-4440-a0cf-fb57945401f1 .legends .legend text{fill-opacity:1}#chart-93d33ce7-be72-4440-a0cf-fb57945401f1 .axis.x text{text-anchor:middle}#chart-93d33ce7-be72-4440-a0cf-fb57945401f1 .axis.x:not(.web) text[transform]{text-anchor:start}#chart-93d33ce7-be72-4440-a0cf-fb57945401f1 .axis.x:not(.web) text[transform].backwards{text-anchor:end}#chart-93d33ce7-be72-4440-a0cf-fb57945401f1 .axis.y text{text-anchor:end}#chart-93d33ce7-be72-4440-a0cf-fb57945401f1 .axis.y text[transform].backwards{text-anchor:start}#chart-93d33ce7-be72-4440-a0cf-fb57945401f1 .axis.y2 text{text-anchor:start}#chart-93d33ce7-be72-4440-a0cf-fb57945401f1 .axis.y2 text[transform].backwards{text-anchor:end}#chart-93d33ce7-be72-4440-a0cf-fb57945401f1 .axis .guide.line{stroke-dasharray:4,4}#chart-93d33ce7-be72-4440-a0cf-fb57945401f1 .axis .major.guide.line{stroke-dasharray:6,6}#chart-93d33ce7-be72-4440-a0cf-fb57945401f1 .horizontal .axis.y .guide.line,#chart-93d33ce7-be72-4440-a0cf-fb57945401f1 .horizontal .axis.y2 .guide.line,#chart-93d33ce7-be72-4440-a0cf-fb57945401f1 .vertical .axis.x .guide.line{opacity:0}#chart-93d33ce7-be72-4440-a0cf-fb57945401f1 .horizontal .axis.always_show .guide.line,#chart-93d33ce7-be72-4440-a0cf-fb57945401f1 .vertical .axis.always_show .guide.line{opacity:1 !important}#chart-93d33ce7-be72-4440-a0cf-fb57945401f1 .axis.y .guides:hover .guide.line,#chart-93d33ce7-be72-4440-a0cf-fb57945401f1 .axis.y2 .guides:hover .guide.line,#chart-93d33ce7-be72-4440-a0cf-fb57945401f1 .axis.x .guides:hover .guide.line{opacity:1}#chart-93d33ce7-be72-4440-a0cf-fb57945401f1 .axis .guides:hover text{opacity:1}#chart-93d33ce7-be72-4440-a0cf-fb57945401f1 .nofill{fill:none}#chart-93d33ce7-be72-4440-a0cf-fb57945401f1 .subtle-fill{fill-opacity:.2}#chart-93d33ce7-be72-4440-a0cf-fb57945401f1 .dot{stroke-width:1px;fill-opacity:1}#chart-93d33ce7-be72-4440-a0cf-fb57945401f1 .dot.active{stroke-width:5px}#chart-93d33ce7-be72-4440-a0cf-fb57945401f1 .dot.negative{fill:transparent}#chart-93d33ce7-be72-4440-a0cf-fb57945401f1 text,#chart-93d33ce7-be72-4440-a0cf-fb57945401f1 tspan{stroke:none !important}#chart-93d33ce7-be72-4440-a0cf-fb57945401f1 .series text.active{opacity:1}#chart-93d33ce7-be72-4440-a0cf-fb57945401f1 .tooltip rect{fill-opacity:.95;stroke-width:.5}#chart-93d33ce7-be72-4440-a0cf-fb57945401f1 .tooltip text{fill-opacity:1}#chart-93d33ce7-be72-4440-a0cf-fb57945401f1 .showable{visibility:hidden}#chart-93d33ce7-be72-4440-a0cf-fb57945401f1 .showable.shown{visibility:visible}#chart-93d33ce7-be72-4440-a0cf-fb57945401f1 .gauge-background{fill:rgba(229,229,229,1);stroke:none}#chart-93d33ce7-be72-4440-a0cf-fb57945401f1 .bg-lines{stroke:black;stroke-width:2px}</style><script type=\"text/javascript\">window.pygal = window.pygal || {};window.pygal.config = window.pygal.config || {};window.pygal.config['93d33ce7-be72-4440-a0cf-fb57945401f1'] = {\"allow_interruptions\": false, \"box_mode\": \"extremes\", \"classes\": [\"pygal-chart\"], \"css\": [\"file://style.css\", \"file://graph.css\"], \"defs\": [], \"disable_xml_declaration\": false, \"dots_size\": 2.5, \"dynamic_print_values\": false, \"explicit_size\": true, \"fill\": false, \"force_uri_protocol\": \"https\", \"formatter\": null, \"half_pie\": false, \"height\": 360, \"include_x_axis\": false, \"inner_radius\": 0, \"interpolate\": null, \"interpolation_parameters\": {}, \"interpolation_precision\": 250, \"inverse_y_axis\": false, \"js\": [\"//kozea.github.io/pygal.js/2.0.x/pygal-tooltips.min.js\"], \"legend_at_bottom\": false, \"legend_at_bottom_columns\": null, \"legend_box_size\": 12, \"logarithmic\": false, \"margin\": 20, \"margin_bottom\": null, \"margin_left\": null, \"margin_right\": null, \"margin_top\": null, \"max_scale\": 16, \"min_scale\": 4, \"missing_value_fill_truncation\": \"x\", \"no_data_text\": \"No data\", \"no_prefix\": false, \"order_min\": null, \"pretty_print\": false, \"print_labels\": false, \"print_values\": false, \"print_values_position\": \"center\", \"print_zeroes\": true, \"range\": null, \"rounded_bars\": null, \"secondary_range\": null, \"show_dots\": true, \"show_legend\": true, \"show_minor_x_labels\": true, \"show_minor_y_labels\": true, \"show_only_major_dots\": false, \"show_x_guides\": false, \"show_x_labels\": true, \"show_y_guides\": true, \"show_y_labels\": true, \"spacing\": 10, \"stack_from_top\": false, \"strict\": false, \"stroke\": true, \"stroke_style\": null, \"style\": {\"background\": \"black\", \"ci_colors\": [], \"colors\": [\"#ff5995\", \"#b6e354\", \"#feed6c\", \"#8cedff\", \"#9e6ffe\", \"#899ca1\", \"#f8f8f2\", \"#bf4646\", \"#516083\", \"#f92672\", \"#82b414\", \"#fd971f\", \"#56c2d6\", \"#808384\", \"#8c54fe\", \"#465457\"], \"font_family\": \"Consolas, \\\"Liberation Mono\\\", Menlo, Courier, monospace\", \"foreground\": \"#999\", \"foreground_strong\": \"#eee\", \"foreground_subtle\": \"#555\", \"guide_stroke_dasharray\": \"4,4\", \"label_font_family\": \"Consolas, \\\"Liberation Mono\\\", Menlo, Courier, monospace\", \"label_font_size\": 10, \"legend_font_family\": \"Consolas, \\\"Liberation Mono\\\", Menlo, Courier, monospace\", \"legend_font_size\": 14, \"major_guide_stroke_dasharray\": \"6,6\", \"major_label_font_family\": \"Consolas, \\\"Liberation Mono\\\", Menlo, Courier, monospace\", \"major_label_font_size\": 10, \"no_data_font_family\": \"Consolas, \\\"Liberation Mono\\\", Menlo, Courier, monospace\", \"no_data_font_size\": 64, \"opacity\": \".8\", \"opacity_hover\": \".4\", \"plot_background\": \"#111\", \"stroke_opacity\": \".8\", \"stroke_opacity_hover\": \".9\", \"title_font_family\": \"Consolas, \\\"Liberation Mono\\\", Menlo, Courier, monospace\", \"title_font_size\": 16, \"tooltip_font_family\": \"Consolas, \\\"Liberation Mono\\\", Menlo, Courier, monospace\", \"tooltip_font_size\": 14, \"transition\": \"250ms\", \"value_background\": \"rgba(229, 229, 229, 1)\", \"value_colors\": [], \"value_font_family\": \"Consolas, \\\"Liberation Mono\\\", Menlo, Courier, monospace\", \"value_font_size\": 16, \"value_label_font_family\": \"Consolas, \\\"Liberation Mono\\\", Menlo, Courier, monospace\", \"value_label_font_size\": 10}, \"title\": \"Wines by Quality\", \"tooltip_border_radius\": 0, \"tooltip_fancy_mode\": true, \"truncate_label\": null, \"truncate_legend\": null, \"width\": 640, \"x_label_rotation\": 0, \"x_labels\": null, \"x_labels_major\": null, \"x_labels_major_count\": null, \"x_labels_major_every\": null, \"x_title\": null, \"xrange\": null, \"y_label_rotation\": 0, \"y_labels\": null, \"y_labels_major\": null, \"y_labels_major_count\": null, \"y_labels_major_every\": null, \"y_title\": null, \"zero\": 0, \"legends\": [\"Low Quality\", \"Medium Quality\", \"High Quality\"]}</script><script type=\"text/javascript\" xlink:href=\"https://kozea.github.io/pygal.js/2.0.x/pygal-tooltips.min.js\"/></defs><title>Wines by Quality</title><g class=\"graph pie-graph vertical\"><rect class=\"background\" height=\"360\" width=\"640\" x=\"0\" y=\"0\"/><g class=\"plot\" transform=\"translate(159, 46)\"><rect class=\"background\" height=\"294\" width=\"460.4\" x=\"0\" y=\"0\"/><g class=\"series serie-0 color-0\"><g class=\"slices\"><g class=\"slice\"><path class=\"slice reactive tooltip-trigger\" d=\"M230.200000 0.000000 A147.000000 147.000000 0 0 1 235.974800 0.113473 L235.397320 14.802126 A132.300000 132.300000 0 0 0 230.200000 14.700000 z\"/><desc class=\"value\">10</desc><desc class=\"x centered\">232.94355965647736</desc><desc class=\"y centered\">7.376952545751408</desc></g><g class=\"slice\"><path class=\"slice reactive tooltip-trigger\" d=\"M235.974800 0.113473 A147.000000 147.000000 0 0 1 266.220052 4.481384 L262.618047 18.733246 A132.300000 132.300000 0 0 0 235.397320 14.802126 z\"/><desc class=\"value\">53</desc><desc class=\"x centered\">250.16067537701696</desc><desc class=\"y centered\">8.783886834807305</desc></g><g class=\"big_slice\"><path class=\"slice reactive tooltip-trigger\" d=\"M230.200000 14.700000 A132.300000 132.300000 0 0 1 262.618047 18.733246 L230.200000 147.000000 A0.000000 0.000000 0 0 0 230.200000 147.000000 z\"/><desc class=\"value\">63</desc><desc class=\"x centered\">238.3669947654326</desc><desc class=\"y centered\">81.35609170302703</desc></g></g></g><g class=\"series serie-1 color-1\"><g class=\"slices\"><g class=\"slice\"><path class=\"slice reactive tooltip-trigger\" d=\"M266.220052 4.481384 A147.000000 147.000000 0 0 1 262.004874 290.518117 L258.824387 276.166305 A132.300000 132.300000 0 0 0 262.618047 18.733246 z\"/><desc class=\"value\">681</desc><desc class=\"x centered\">369.8348389796479</desc><desc class=\"y centered\">149.05772766123602</desc></g><g class=\"slice\"><path class=\"slice reactive tooltip-trigger\" d=\"M262.004874 290.518117 A147.000000 147.000000 0 0 1 119.501209 50.279900 L130.571088 59.951910 A132.300000 132.300000 0 0 0 258.824387 276.166305 z\"/><desc class=\"value\">638</desc><desc class=\"x centered\">110.0910572945487</desc><desc class=\"y centered\">218.2458025583165</desc></g><g class=\"big_slice\"><path class=\"slice reactive tooltip-trigger\" d=\"M262.618047 18.733246 A132.300000 132.300000 0 1 1 130.571088 59.951910 L230.200000 147.000000 A0.000000 0.000000 0 1 0 230.200000 147.000000 z\"/><desc class=\"value\">1319</desc><desc class=\"x centered\">249.91084505782314</desc><desc class=\"y centered\">210.14511134764504</desc></g></g></g><g class=\"series serie-2 color-2\"><g class=\"slices\"><g class=\"slice\"><path class=\"slice reactive tooltip-trigger\" d=\"M119.501209 50.279900 A147.000000 147.000000 0 0 1 219.811351 0.367548 L220.850216 15.030793 A132.300000 132.300000 0 0 0 130.571088 59.951910 z\"/><desc class=\"value\">199</desc><desc class=\"x centered\">167.98876021210174</desc><desc class=\"y centered\">21.97246645617365</desc></g><g class=\"slice\"><path class=\"slice reactive tooltip-trigger\" d=\"M219.811351 0.367548 A147.000000 147.000000 0 0 1 230.200000 0.000000 L230.200000 14.700000 A132.300000 132.300000 0 0 0 220.850216 15.030793 z\"/><desc class=\"value\">18</desc><desc class=\"x centered\">225.26230428873438</desc><desc class=\"y centered\">7.437319956003449</desc></g><g class=\"big_slice\"><path class=\"slice reactive tooltip-trigger\" d=\"M130.571088 59.951910 A132.300000 132.300000 0 0 1 230.200000 14.700000 L230.200000 147.000000 A0.000000 0.000000 0 0 0 230.200000 147.000000 z\"/><desc class=\"value\">217</desc><desc class=\"x centered\">202.84395012440723</desc><desc class=\"y centered\">86.77152637494387</desc></g></g></g></g><g class=\"titles\"><text class=\"title plot_title\" x=\"320.0\" y=\"26\">Wines by Quality</text></g><g class=\"plot overlay\" transform=\"translate(159, 46)\"><g class=\"series serie-0 color-0\"/><g class=\"series serie-1 color-1\"/><g class=\"series serie-2 color-2\"/></g><g class=\"plot text-overlay\" transform=\"translate(159, 46)\"><g class=\"series serie-0 color-0\"/><g class=\"series serie-1 color-1\"/><g class=\"series serie-2 color-2\"/></g><g class=\"plot tooltip-overlay\" transform=\"translate(159, 46)\"><g class=\"tooltip\" style=\"opacity: 0\" transform=\"translate(0 0)\"><rect class=\"tooltip-box\" height=\"0\" rx=\"0\" ry=\"0\" width=\"0\"/><g class=\"text\"/></g></g><g class=\"legends\" transform=\"translate(10, 56)\"><g class=\"legend reactive activate-serie\" id=\"activate-serie-0\"><rect class=\"color-0 reactive\" height=\"12\" width=\"12\" x=\"0.0\" y=\"1.0\"/><text x=\"17.0\" y=\"11.2\">Low Quality</text></g><g class=\"legend reactive activate-serie\" id=\"activate-serie-1\"><rect class=\"color-1 reactive\" height=\"12\" width=\"12\" x=\"0.0\" y=\"22.0\"/><text x=\"17.0\" y=\"32.2\">Medium Quality</text></g><g class=\"legend reactive activate-serie\" id=\"activate-serie-2\"><rect class=\"color-2 reactive\" height=\"12\" width=\"12\" x=\"0.0\" y=\"43.0\"/><text x=\"17.0\" y=\"53.2\">High Quality</text></g></g><g class=\"legends\" transform=\"translate(630, 56)\"/></g></svg>\n",
       "    </figure>\n",
       "  </body>\n",
       "</html>\n"
      ],
      "text/plain": [
       "<IPython.core.display.HTML object>"
      ]
     },
     "metadata": {},
     "output_type": "display_data"
    }
   ],
   "source": [
    "pie_chart.add('Low Quality', \n",
    "              [counts_df[3], counts_df[4]])\n",
    "\n",
    "pie_chart.add('Medium Quality', \n",
    "              [counts_df[5], counts_df[6]])\n",
    "\n",
    "pie_chart.add('High Quality', \n",
    "              [counts_df[7], counts_df[8]])\n",
    "\n",
    "display_chart(pie_chart)"
   ]
  },
  {
   "cell_type": "code",
   "execution_count": 24,
   "metadata": {
    "collapsed": true
   },
   "outputs": [],
   "source": [
    "pie_chart = pygal.Pie(width = 640,\n",
    "                      height = 360,\n",
    "                      explicit_size = True,\n",
    "                      style = DarkStyle)\n",
    "\n",
    "pie_chart.title = 'Wines by Quality'"
   ]
  },
  {
   "cell_type": "code",
   "execution_count": 25,
   "metadata": {},
   "outputs": [
    {
     "data": {
      "text/html": [
       "\n",
       "<!DOCTYPE html>\n",
       "<html>\n",
       "  <head>\n",
       "  <script type=\"text/javascript\" \n",
       "          src=\"http://kozea.github.com/pygal.js/javascripts/svg.jquery.js\">\n",
       "  </script>\n",
       "  <script type=\"text/javascript\" \n",
       "          src=\"https://kozea.github.io/pygal.js/2.0.x/pygal-tooltips.min.js\"\">\n",
       "  </script>\n",
       "  </head>\n",
       "  <body>\n",
       "    <figure>\n",
       "      <?xml version='1.0' encoding='utf-8'?>\n",
       "<svg xmlns:xlink=\"http://www.w3.org/1999/xlink\" xmlns=\"http://www.w3.org/2000/svg\" id=\"chart-6a6a0bbf-c558-450c-ac6c-e4c9440ae5f3\" class=\"pygal-chart\" viewBox=\"0 0 640 360\" width=\"640\" height=\"360\"><!--Generated with pygal 2.4.0 (lxml) ©Kozea 2012-2016 on 2019-02-03--><!--http://pygal.org--><!--http://github.com/Kozea/pygal--><defs><style type=\"text/css\">#chart-6a6a0bbf-c558-450c-ac6c-e4c9440ae5f3{-webkit-user-select:none;-webkit-font-smoothing:antialiased;font-family:Consolas,\"Liberation Mono\",Menlo,Courier,monospace}#chart-6a6a0bbf-c558-450c-ac6c-e4c9440ae5f3 .title{font-family:Consolas,\"Liberation Mono\",Menlo,Courier,monospace;font-size:16px}#chart-6a6a0bbf-c558-450c-ac6c-e4c9440ae5f3 .legends .legend text{font-family:Consolas,\"Liberation Mono\",Menlo,Courier,monospace;font-size:14px}#chart-6a6a0bbf-c558-450c-ac6c-e4c9440ae5f3 .axis text{font-family:Consolas,\"Liberation Mono\",Menlo,Courier,monospace;font-size:10px}#chart-6a6a0bbf-c558-450c-ac6c-e4c9440ae5f3 .axis text.major{font-family:Consolas,\"Liberation Mono\",Menlo,Courier,monospace;font-size:10px}#chart-6a6a0bbf-c558-450c-ac6c-e4c9440ae5f3 .text-overlay text.value{font-family:Consolas,\"Liberation Mono\",Menlo,Courier,monospace;font-size:16px}#chart-6a6a0bbf-c558-450c-ac6c-e4c9440ae5f3 .text-overlay text.label{font-family:Consolas,\"Liberation Mono\",Menlo,Courier,monospace;font-size:10px}#chart-6a6a0bbf-c558-450c-ac6c-e4c9440ae5f3 .tooltip{font-family:Consolas,\"Liberation Mono\",Menlo,Courier,monospace;font-size:14px}#chart-6a6a0bbf-c558-450c-ac6c-e4c9440ae5f3 text.no_data{font-family:Consolas,\"Liberation Mono\",Menlo,Courier,monospace;font-size:64px}\n",
       "#chart-6a6a0bbf-c558-450c-ac6c-e4c9440ae5f3{background-color:black}#chart-6a6a0bbf-c558-450c-ac6c-e4c9440ae5f3 path,#chart-6a6a0bbf-c558-450c-ac6c-e4c9440ae5f3 line,#chart-6a6a0bbf-c558-450c-ac6c-e4c9440ae5f3 rect,#chart-6a6a0bbf-c558-450c-ac6c-e4c9440ae5f3 circle{-webkit-transition:250ms;-moz-transition:250ms;transition:250ms}#chart-6a6a0bbf-c558-450c-ac6c-e4c9440ae5f3 .graph &gt; .background{fill:black}#chart-6a6a0bbf-c558-450c-ac6c-e4c9440ae5f3 .plot &gt; .background{fill:#111}#chart-6a6a0bbf-c558-450c-ac6c-e4c9440ae5f3 .graph{fill:#999}#chart-6a6a0bbf-c558-450c-ac6c-e4c9440ae5f3 text.no_data{fill:#eee}#chart-6a6a0bbf-c558-450c-ac6c-e4c9440ae5f3 .title{fill:#eee}#chart-6a6a0bbf-c558-450c-ac6c-e4c9440ae5f3 .legends .legend text{fill:#999}#chart-6a6a0bbf-c558-450c-ac6c-e4c9440ae5f3 .legends .legend:hover text{fill:#eee}#chart-6a6a0bbf-c558-450c-ac6c-e4c9440ae5f3 .axis .line{stroke:#eee}#chart-6a6a0bbf-c558-450c-ac6c-e4c9440ae5f3 .axis .guide.line{stroke:#555}#chart-6a6a0bbf-c558-450c-ac6c-e4c9440ae5f3 .axis .major.line{stroke:#999}#chart-6a6a0bbf-c558-450c-ac6c-e4c9440ae5f3 .axis text.major{fill:#eee}#chart-6a6a0bbf-c558-450c-ac6c-e4c9440ae5f3 .axis.y .guides:hover .guide.line,#chart-6a6a0bbf-c558-450c-ac6c-e4c9440ae5f3 .line-graph .axis.x .guides:hover .guide.line,#chart-6a6a0bbf-c558-450c-ac6c-e4c9440ae5f3 .stackedline-graph .axis.x .guides:hover .guide.line,#chart-6a6a0bbf-c558-450c-ac6c-e4c9440ae5f3 .xy-graph .axis.x .guides:hover .guide.line{stroke:#eee}#chart-6a6a0bbf-c558-450c-ac6c-e4c9440ae5f3 .axis .guides:hover text{fill:#eee}#chart-6a6a0bbf-c558-450c-ac6c-e4c9440ae5f3 .reactive{fill-opacity:.8;stroke-opacity:.8}#chart-6a6a0bbf-c558-450c-ac6c-e4c9440ae5f3 .ci{stroke:#999}#chart-6a6a0bbf-c558-450c-ac6c-e4c9440ae5f3 .reactive.active,#chart-6a6a0bbf-c558-450c-ac6c-e4c9440ae5f3 .active .reactive{fill-opacity:.4;stroke-opacity:.9;stroke-width:4}#chart-6a6a0bbf-c558-450c-ac6c-e4c9440ae5f3 .ci .reactive.active{stroke-width:1.5}#chart-6a6a0bbf-c558-450c-ac6c-e4c9440ae5f3 .series text{fill:#eee}#chart-6a6a0bbf-c558-450c-ac6c-e4c9440ae5f3 .tooltip rect{fill:#111;stroke:#eee;-webkit-transition:opacity 250ms;-moz-transition:opacity 250ms;transition:opacity 250ms}#chart-6a6a0bbf-c558-450c-ac6c-e4c9440ae5f3 .tooltip .label{fill:#999}#chart-6a6a0bbf-c558-450c-ac6c-e4c9440ae5f3 .tooltip .label{fill:#999}#chart-6a6a0bbf-c558-450c-ac6c-e4c9440ae5f3 .tooltip .legend{font-size:.8em;fill:#555}#chart-6a6a0bbf-c558-450c-ac6c-e4c9440ae5f3 .tooltip .x_label{font-size:.6em;fill:#eee}#chart-6a6a0bbf-c558-450c-ac6c-e4c9440ae5f3 .tooltip .xlink{font-size:.5em;text-decoration:underline}#chart-6a6a0bbf-c558-450c-ac6c-e4c9440ae5f3 .tooltip .value{font-size:1.5em}#chart-6a6a0bbf-c558-450c-ac6c-e4c9440ae5f3 .bound{font-size:.5em}#chart-6a6a0bbf-c558-450c-ac6c-e4c9440ae5f3 .max-value{font-size:.75em;fill:#555}#chart-6a6a0bbf-c558-450c-ac6c-e4c9440ae5f3 .map-element{fill:#111;stroke:#555 !important}#chart-6a6a0bbf-c558-450c-ac6c-e4c9440ae5f3 .map-element .reactive{fill-opacity:inherit;stroke-opacity:inherit}#chart-6a6a0bbf-c558-450c-ac6c-e4c9440ae5f3 .color-0,#chart-6a6a0bbf-c558-450c-ac6c-e4c9440ae5f3 .color-0 a:visited{stroke:#ff5995;fill:#ff5995}#chart-6a6a0bbf-c558-450c-ac6c-e4c9440ae5f3 .color-1,#chart-6a6a0bbf-c558-450c-ac6c-e4c9440ae5f3 .color-1 a:visited{stroke:#b6e354;fill:#b6e354}#chart-6a6a0bbf-c558-450c-ac6c-e4c9440ae5f3 .color-2,#chart-6a6a0bbf-c558-450c-ac6c-e4c9440ae5f3 .color-2 a:visited{stroke:#feed6c;fill:#feed6c}#chart-6a6a0bbf-c558-450c-ac6c-e4c9440ae5f3 .text-overlay .color-0 text{fill:black}#chart-6a6a0bbf-c558-450c-ac6c-e4c9440ae5f3 .text-overlay .color-1 text{fill:black}#chart-6a6a0bbf-c558-450c-ac6c-e4c9440ae5f3 .text-overlay .color-2 text{fill:black}\n",
       "#chart-6a6a0bbf-c558-450c-ac6c-e4c9440ae5f3 text.no_data{text-anchor:middle}#chart-6a6a0bbf-c558-450c-ac6c-e4c9440ae5f3 .guide.line{fill:none}#chart-6a6a0bbf-c558-450c-ac6c-e4c9440ae5f3 .centered{text-anchor:middle}#chart-6a6a0bbf-c558-450c-ac6c-e4c9440ae5f3 .title{text-anchor:middle}#chart-6a6a0bbf-c558-450c-ac6c-e4c9440ae5f3 .legends .legend text{fill-opacity:1}#chart-6a6a0bbf-c558-450c-ac6c-e4c9440ae5f3 .axis.x text{text-anchor:middle}#chart-6a6a0bbf-c558-450c-ac6c-e4c9440ae5f3 .axis.x:not(.web) text[transform]{text-anchor:start}#chart-6a6a0bbf-c558-450c-ac6c-e4c9440ae5f3 .axis.x:not(.web) text[transform].backwards{text-anchor:end}#chart-6a6a0bbf-c558-450c-ac6c-e4c9440ae5f3 .axis.y text{text-anchor:end}#chart-6a6a0bbf-c558-450c-ac6c-e4c9440ae5f3 .axis.y text[transform].backwards{text-anchor:start}#chart-6a6a0bbf-c558-450c-ac6c-e4c9440ae5f3 .axis.y2 text{text-anchor:start}#chart-6a6a0bbf-c558-450c-ac6c-e4c9440ae5f3 .axis.y2 text[transform].backwards{text-anchor:end}#chart-6a6a0bbf-c558-450c-ac6c-e4c9440ae5f3 .axis .guide.line{stroke-dasharray:4,4}#chart-6a6a0bbf-c558-450c-ac6c-e4c9440ae5f3 .axis .major.guide.line{stroke-dasharray:6,6}#chart-6a6a0bbf-c558-450c-ac6c-e4c9440ae5f3 .horizontal .axis.y .guide.line,#chart-6a6a0bbf-c558-450c-ac6c-e4c9440ae5f3 .horizontal .axis.y2 .guide.line,#chart-6a6a0bbf-c558-450c-ac6c-e4c9440ae5f3 .vertical .axis.x .guide.line{opacity:0}#chart-6a6a0bbf-c558-450c-ac6c-e4c9440ae5f3 .horizontal .axis.always_show .guide.line,#chart-6a6a0bbf-c558-450c-ac6c-e4c9440ae5f3 .vertical .axis.always_show .guide.line{opacity:1 !important}#chart-6a6a0bbf-c558-450c-ac6c-e4c9440ae5f3 .axis.y .guides:hover .guide.line,#chart-6a6a0bbf-c558-450c-ac6c-e4c9440ae5f3 .axis.y2 .guides:hover .guide.line,#chart-6a6a0bbf-c558-450c-ac6c-e4c9440ae5f3 .axis.x .guides:hover .guide.line{opacity:1}#chart-6a6a0bbf-c558-450c-ac6c-e4c9440ae5f3 .axis .guides:hover text{opacity:1}#chart-6a6a0bbf-c558-450c-ac6c-e4c9440ae5f3 .nofill{fill:none}#chart-6a6a0bbf-c558-450c-ac6c-e4c9440ae5f3 .subtle-fill{fill-opacity:.2}#chart-6a6a0bbf-c558-450c-ac6c-e4c9440ae5f3 .dot{stroke-width:1px;fill-opacity:1}#chart-6a6a0bbf-c558-450c-ac6c-e4c9440ae5f3 .dot.active{stroke-width:5px}#chart-6a6a0bbf-c558-450c-ac6c-e4c9440ae5f3 .dot.negative{fill:transparent}#chart-6a6a0bbf-c558-450c-ac6c-e4c9440ae5f3 text,#chart-6a6a0bbf-c558-450c-ac6c-e4c9440ae5f3 tspan{stroke:none !important}#chart-6a6a0bbf-c558-450c-ac6c-e4c9440ae5f3 .series text.active{opacity:1}#chart-6a6a0bbf-c558-450c-ac6c-e4c9440ae5f3 .tooltip rect{fill-opacity:.95;stroke-width:.5}#chart-6a6a0bbf-c558-450c-ac6c-e4c9440ae5f3 .tooltip text{fill-opacity:1}#chart-6a6a0bbf-c558-450c-ac6c-e4c9440ae5f3 .showable{visibility:hidden}#chart-6a6a0bbf-c558-450c-ac6c-e4c9440ae5f3 .showable.shown{visibility:visible}#chart-6a6a0bbf-c558-450c-ac6c-e4c9440ae5f3 .gauge-background{fill:rgba(229,229,229,1);stroke:none}#chart-6a6a0bbf-c558-450c-ac6c-e4c9440ae5f3 .bg-lines{stroke:black;stroke-width:2px}</style><script type=\"text/javascript\">window.pygal = window.pygal || {};window.pygal.config = window.pygal.config || {};window.pygal.config['6a6a0bbf-c558-450c-ac6c-e4c9440ae5f3'] = {\"allow_interruptions\": false, \"box_mode\": \"extremes\", \"classes\": [\"pygal-chart\"], \"css\": [\"file://style.css\", \"file://graph.css\"], \"defs\": [], \"disable_xml_declaration\": false, \"dots_size\": 2.5, \"dynamic_print_values\": false, \"explicit_size\": true, \"fill\": false, \"force_uri_protocol\": \"https\", \"formatter\": null, \"half_pie\": false, \"height\": 360, \"include_x_axis\": false, \"inner_radius\": 0, \"interpolate\": null, \"interpolation_parameters\": {}, \"interpolation_precision\": 250, \"inverse_y_axis\": false, \"js\": [\"//kozea.github.io/pygal.js/2.0.x/pygal-tooltips.min.js\"], \"legend_at_bottom\": false, \"legend_at_bottom_columns\": null, \"legend_box_size\": 12, \"logarithmic\": false, \"margin\": 20, \"margin_bottom\": null, \"margin_left\": null, \"margin_right\": null, \"margin_top\": null, \"max_scale\": 16, \"min_scale\": 4, \"missing_value_fill_truncation\": \"x\", \"no_data_text\": \"No data\", \"no_prefix\": false, \"order_min\": null, \"pretty_print\": false, \"print_labels\": false, \"print_values\": false, \"print_values_position\": \"center\", \"print_zeroes\": true, \"range\": null, \"rounded_bars\": null, \"secondary_range\": null, \"show_dots\": true, \"show_legend\": true, \"show_minor_x_labels\": true, \"show_minor_y_labels\": true, \"show_only_major_dots\": false, \"show_x_guides\": false, \"show_x_labels\": true, \"show_y_guides\": true, \"show_y_labels\": true, \"spacing\": 10, \"stack_from_top\": false, \"strict\": false, \"stroke\": true, \"stroke_style\": null, \"style\": {\"background\": \"black\", \"ci_colors\": [], \"colors\": [\"#ff5995\", \"#b6e354\", \"#feed6c\", \"#8cedff\", \"#9e6ffe\", \"#899ca1\", \"#f8f8f2\", \"#bf4646\", \"#516083\", \"#f92672\", \"#82b414\", \"#fd971f\", \"#56c2d6\", \"#808384\", \"#8c54fe\", \"#465457\"], \"font_family\": \"Consolas, \\\"Liberation Mono\\\", Menlo, Courier, monospace\", \"foreground\": \"#999\", \"foreground_strong\": \"#eee\", \"foreground_subtle\": \"#555\", \"guide_stroke_dasharray\": \"4,4\", \"label_font_family\": \"Consolas, \\\"Liberation Mono\\\", Menlo, Courier, monospace\", \"label_font_size\": 10, \"legend_font_family\": \"Consolas, \\\"Liberation Mono\\\", Menlo, Courier, monospace\", \"legend_font_size\": 14, \"major_guide_stroke_dasharray\": \"6,6\", \"major_label_font_family\": \"Consolas, \\\"Liberation Mono\\\", Menlo, Courier, monospace\", \"major_label_font_size\": 10, \"no_data_font_family\": \"Consolas, \\\"Liberation Mono\\\", Menlo, Courier, monospace\", \"no_data_font_size\": 64, \"opacity\": \".8\", \"opacity_hover\": \".4\", \"plot_background\": \"#111\", \"stroke_opacity\": \".8\", \"stroke_opacity_hover\": \".9\", \"title_font_family\": \"Consolas, \\\"Liberation Mono\\\", Menlo, Courier, monospace\", \"title_font_size\": 16, \"tooltip_font_family\": \"Consolas, \\\"Liberation Mono\\\", Menlo, Courier, monospace\", \"tooltip_font_size\": 14, \"transition\": \"250ms\", \"value_background\": \"rgba(229, 229, 229, 1)\", \"value_colors\": [], \"value_font_family\": \"Consolas, \\\"Liberation Mono\\\", Menlo, Courier, monospace\", \"value_font_size\": 16, \"value_label_font_family\": \"Consolas, \\\"Liberation Mono\\\", Menlo, Courier, monospace\", \"value_label_font_size\": 10}, \"title\": \"Wines by Quality\", \"tooltip_border_radius\": 0, \"tooltip_fancy_mode\": true, \"truncate_label\": null, \"truncate_legend\": null, \"width\": 640, \"x_label_rotation\": 0, \"x_labels\": null, \"x_labels_major\": null, \"x_labels_major_count\": null, \"x_labels_major_every\": null, \"x_title\": null, \"xrange\": null, \"y_label_rotation\": 0, \"y_labels\": null, \"y_labels_major\": null, \"y_labels_major_count\": null, \"y_labels_major_every\": null, \"y_title\": null, \"zero\": 0, \"legends\": [\"Low Quality\", \"Medium Quality\", \"High Quality\"]}</script><script type=\"text/javascript\" xlink:href=\"https://kozea.github.io/pygal.js/2.0.x/pygal-tooltips.min.js\"/></defs><title>Wines by Quality</title><g class=\"graph pie-graph vertical\"><rect class=\"background\" height=\"360\" width=\"640\" x=\"0\" y=\"0\"/><g class=\"plot\" transform=\"translate(159, 46)\"><rect class=\"background\" height=\"294\" width=\"460.4\" x=\"0\" y=\"0\"/><g class=\"series serie-0 color-0\"><g class=\"slices\"><g class=\"slice\"><desc class=\"label\">3</desc><path class=\"slice reactive tooltip-trigger\" d=\"M230.200000 0.000000 A147.000000 147.000000 0 0 1 235.974800 0.113473 L235.397320 14.802126 A132.300000 132.300000 0 0 0 230.200000 14.700000 z\"/><desc class=\"value\">10</desc><desc class=\"x centered\">232.94355965647736</desc><desc class=\"y centered\">7.376952545751408</desc></g><g class=\"slice\"><desc class=\"label\">4</desc><path class=\"slice reactive tooltip-trigger\" d=\"M235.974800 0.113473 A147.000000 147.000000 0 0 1 266.220052 4.481384 L262.618047 18.733246 A132.300000 132.300000 0 0 0 235.397320 14.802126 z\"/><desc class=\"value\">53</desc><desc class=\"x centered\">250.16067537701696</desc><desc class=\"y centered\">8.783886834807305</desc></g><g class=\"big_slice\"><path class=\"slice reactive tooltip-trigger\" d=\"M230.200000 14.700000 A132.300000 132.300000 0 0 1 262.618047 18.733246 L230.200000 147.000000 A0.000000 0.000000 0 0 0 230.200000 147.000000 z\"/><desc class=\"value\">63</desc><desc class=\"x centered\">238.3669947654326</desc><desc class=\"y centered\">81.35609170302703</desc></g></g></g><g class=\"series serie-1 color-1\"><g class=\"slices\"><g class=\"slice\"><desc class=\"label\">5</desc><path class=\"slice reactive tooltip-trigger\" d=\"M266.220052 4.481384 A147.000000 147.000000 0 0 1 262.004874 290.518117 L258.824387 276.166305 A132.300000 132.300000 0 0 0 262.618047 18.733246 z\"/><desc class=\"value\">681</desc><desc class=\"x centered\">369.8348389796479</desc><desc class=\"y centered\">149.05772766123602</desc></g><g class=\"slice\"><desc class=\"label\">6</desc><path class=\"slice reactive tooltip-trigger\" d=\"M262.004874 290.518117 A147.000000 147.000000 0 0 1 119.501209 50.279900 L130.571088 59.951910 A132.300000 132.300000 0 0 0 258.824387 276.166305 z\"/><desc class=\"value\">638</desc><desc class=\"x centered\">110.0910572945487</desc><desc class=\"y centered\">218.2458025583165</desc></g><g class=\"big_slice\"><path class=\"slice reactive tooltip-trigger\" d=\"M262.618047 18.733246 A132.300000 132.300000 0 1 1 130.571088 59.951910 L230.200000 147.000000 A0.000000 0.000000 0 1 0 230.200000 147.000000 z\"/><desc class=\"value\">1319</desc><desc class=\"x centered\">249.91084505782314</desc><desc class=\"y centered\">210.14511134764504</desc></g></g></g><g class=\"series serie-2 color-2\"><g class=\"slices\"><g class=\"slice\"><desc class=\"label\">7</desc><path class=\"slice reactive tooltip-trigger\" d=\"M119.501209 50.279900 A147.000000 147.000000 0 0 1 219.811351 0.367548 L220.850216 15.030793 A132.300000 132.300000 0 0 0 130.571088 59.951910 z\"/><desc class=\"value\">199</desc><desc class=\"x centered\">167.98876021210174</desc><desc class=\"y centered\">21.97246645617365</desc></g><g class=\"slice\"><desc class=\"label\">8</desc><path class=\"slice reactive tooltip-trigger\" d=\"M219.811351 0.367548 A147.000000 147.000000 0 0 1 230.200000 0.000000 L230.200000 14.700000 A132.300000 132.300000 0 0 0 220.850216 15.030793 z\"/><desc class=\"value\">18</desc><desc class=\"x centered\">225.26230428873438</desc><desc class=\"y centered\">7.437319956003449</desc></g><g class=\"big_slice\"><path class=\"slice reactive tooltip-trigger\" d=\"M130.571088 59.951910 A132.300000 132.300000 0 0 1 230.200000 14.700000 L230.200000 147.000000 A0.000000 0.000000 0 0 0 230.200000 147.000000 z\"/><desc class=\"value\">217</desc><desc class=\"x centered\">202.84395012440723</desc><desc class=\"y centered\">86.77152637494387</desc></g></g></g></g><g class=\"titles\"><text class=\"title plot_title\" x=\"320.0\" y=\"26\">Wines by Quality</text></g><g class=\"plot overlay\" transform=\"translate(159, 46)\"><g class=\"series serie-0 color-0\"/><g class=\"series serie-1 color-1\"/><g class=\"series serie-2 color-2\"/></g><g class=\"plot text-overlay\" transform=\"translate(159, 46)\"><g class=\"series serie-0 color-0\"/><g class=\"series serie-1 color-1\"/><g class=\"series serie-2 color-2\"/></g><g class=\"plot tooltip-overlay\" transform=\"translate(159, 46)\"><g class=\"tooltip\" style=\"opacity: 0\" transform=\"translate(0 0)\"><rect class=\"tooltip-box\" height=\"0\" rx=\"0\" ry=\"0\" width=\"0\"/><g class=\"text\"/></g></g><g class=\"legends\" transform=\"translate(10, 56)\"><g class=\"legend reactive activate-serie\" id=\"activate-serie-0\"><rect class=\"color-0 reactive\" height=\"12\" width=\"12\" x=\"0.0\" y=\"1.0\"/><text x=\"17.0\" y=\"11.2\">Low Quality</text></g><g class=\"legend reactive activate-serie\" id=\"activate-serie-1\"><rect class=\"color-1 reactive\" height=\"12\" width=\"12\" x=\"0.0\" y=\"22.0\"/><text x=\"17.0\" y=\"32.2\">Medium Quality</text></g><g class=\"legend reactive activate-serie\" id=\"activate-serie-2\"><rect class=\"color-2 reactive\" height=\"12\" width=\"12\" x=\"0.0\" y=\"43.0\"/><text x=\"17.0\" y=\"53.2\">High Quality</text></g></g><g class=\"legends\" transform=\"translate(630, 56)\"/></g></svg>\n",
       "    </figure>\n",
       "  </body>\n",
       "</html>\n"
      ],
      "text/plain": [
       "<IPython.core.display.HTML object>"
      ]
     },
     "metadata": {},
     "output_type": "display_data"
    }
   ],
   "source": [
    "pie_chart.add('Low Quality', \n",
    "              [{'value': counts_df[3], 'label': '3'}, \n",
    "               {'value': counts_df[4], 'label': '4'}])\n",
    "\n",
    "pie_chart.add('Medium Quality', \n",
    "              [{'value': counts_df[5], 'label': '5'}, \n",
    "               {'value': counts_df[6], 'label': '6'}])\n",
    "\n",
    "pie_chart.add('High Quality', \n",
    "              [{'value': counts_df[7], 'label': '7'}, \n",
    "               {'value': counts_df[8], 'label': '8'}])\n",
    "\n",
    "display_chart(pie_chart)"
   ]
  },
  {
   "cell_type": "markdown",
   "metadata": {},
   "source": [
    "There are two circles. \n",
    "- Inner circle is the regual pie that shows the percentage of the Quality of the wine. \n",
    "- The outer circle shows the break up the each part. "
   ]
  },
  {
   "cell_type": "code",
   "execution_count": null,
   "metadata": {
    "collapsed": true
   },
   "outputs": [],
   "source": []
  },
  {
   "cell_type": "code",
   "execution_count": null,
   "metadata": {
    "collapsed": true
   },
   "outputs": [],
   "source": []
  }
 ],
 "metadata": {
  "kernelspec": {
   "display_name": "Python 3",
   "language": "python",
   "name": "python3"
  },
  "language_info": {
   "codemirror_mode": {
    "name": "ipython",
    "version": 3
   },
   "file_extension": ".py",
   "mimetype": "text/x-python",
   "name": "python",
   "nbconvert_exporter": "python",
   "pygments_lexer": "ipython3",
   "version": "3.6.3"
  }
 },
 "nbformat": 4,
 "nbformat_minor": 2
}
