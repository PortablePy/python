{
 "cells": [
  {
   "cell_type": "markdown",
   "metadata": {},
   "source": [
    "# Line and DateTimeLine plots using Apple Stock data "
   ]
  },
  {
   "cell_type": "markdown",
   "metadata": {},
   "source": [
    "Initialize the pygal DatTimeLine object and in some in-memory values to plot the graph."
   ]
  },
  {
   "cell_type": "code",
   "execution_count": 1,
   "metadata": {
    "collapsed": true
   },
   "outputs": [],
   "source": [
    "import pygal\n",
    "import pandas as pd\n",
    "from datetime import datetime "
   ]
  },
  {
   "cell_type": "markdown",
   "metadata": {},
   "source": [
    "Method to display the interactive chart."
   ]
  },
  {
   "cell_type": "code",
   "execution_count": 2,
   "metadata": {
    "collapsed": true
   },
   "outputs": [],
   "source": [
    "from IPython.display import display, HTML\n",
    "\n",
    "html_skeleton = \"\"\"\n",
    "<!DOCTYPE html>\n",
    "<html>\n",
    "  <head>\n",
    "  <script type=\"text/javascript\" \n",
    "          src=\"http://kozea.github.com/pygal.js/javascripts/svg.jquery.js\">\n",
    "  </script>\n",
    "  <script type=\"text/javascript\" \n",
    "          src=\"https://kozea.github.io/pygal.js/2.0.x/pygal-tooltips.min.js\"\">\n",
    "  </script>\n",
    "  </head>\n",
    "  <body>\n",
    "    <figure>\n",
    "      {rendered_chart}\n",
    "    </figure>\n",
    "  </body>\n",
    "</html>\n",
    "\"\"\"\n",
    "\n",
    "def display_chart(chart):\n",
    "    rendered_chart = chart.render(is_unicode=True)\n",
    "    plot_html = html_skeleton.format(rendered_chart=rendered_chart)\n",
    "    display(HTML(plot_html))"
   ]
  },
  {
   "cell_type": "code",
   "execution_count": 3,
   "metadata": {
    "collapsed": true
   },
   "outputs": [],
   "source": [
    "line_plot = pygal.Line(width = 640,\n",
    "                       height = 360,\n",
    "                       explicit_size = True)"
   ]
  },
  {
   "cell_type": "code",
   "execution_count": 4,
   "metadata": {},
   "outputs": [
    {
     "data": {
      "text/html": [
       "\n",
       "<!DOCTYPE html>\n",
       "<html>\n",
       "  <head>\n",
       "  <script type=\"text/javascript\" \n",
       "          src=\"http://kozea.github.com/pygal.js/javascripts/svg.jquery.js\">\n",
       "  </script>\n",
       "  <script type=\"text/javascript\" \n",
       "          src=\"https://kozea.github.io/pygal.js/2.0.x/pygal-tooltips.min.js\"\">\n",
       "  </script>\n",
       "  </head>\n",
       "  <body>\n",
       "    <figure>\n",
       "      <?xml version='1.0' encoding='utf-8'?>\n",
       "<svg xmlns:xlink=\"http://www.w3.org/1999/xlink\" xmlns=\"http://www.w3.org/2000/svg\" id=\"chart-7af49e5d-082a-4b84-83ad-aeb4466b770f\" class=\"pygal-chart\" viewBox=\"0 0 640 360\" width=\"640\" height=\"360\"><!--Generated with pygal 2.4.0 (lxml) ©Kozea 2012-2016 on 2019-02-03--><!--http://pygal.org--><!--http://github.com/Kozea/pygal--><defs><style type=\"text/css\">#chart-7af49e5d-082a-4b84-83ad-aeb4466b770f{-webkit-user-select:none;-webkit-font-smoothing:antialiased;font-family:Consolas,\"Liberation Mono\",Menlo,Courier,monospace}#chart-7af49e5d-082a-4b84-83ad-aeb4466b770f .title{font-family:Consolas,\"Liberation Mono\",Menlo,Courier,monospace;font-size:16px}#chart-7af49e5d-082a-4b84-83ad-aeb4466b770f .legends .legend text{font-family:Consolas,\"Liberation Mono\",Menlo,Courier,monospace;font-size:14px}#chart-7af49e5d-082a-4b84-83ad-aeb4466b770f .axis text{font-family:Consolas,\"Liberation Mono\",Menlo,Courier,monospace;font-size:10px}#chart-7af49e5d-082a-4b84-83ad-aeb4466b770f .axis text.major{font-family:Consolas,\"Liberation Mono\",Menlo,Courier,monospace;font-size:10px}#chart-7af49e5d-082a-4b84-83ad-aeb4466b770f .text-overlay text.value{font-family:Consolas,\"Liberation Mono\",Menlo,Courier,monospace;font-size:16px}#chart-7af49e5d-082a-4b84-83ad-aeb4466b770f .text-overlay text.label{font-family:Consolas,\"Liberation Mono\",Menlo,Courier,monospace;font-size:10px}#chart-7af49e5d-082a-4b84-83ad-aeb4466b770f .tooltip{font-family:Consolas,\"Liberation Mono\",Menlo,Courier,monospace;font-size:14px}#chart-7af49e5d-082a-4b84-83ad-aeb4466b770f text.no_data{font-family:Consolas,\"Liberation Mono\",Menlo,Courier,monospace;font-size:64px}\n",
       "#chart-7af49e5d-082a-4b84-83ad-aeb4466b770f{background-color:rgba(249,249,249,1)}#chart-7af49e5d-082a-4b84-83ad-aeb4466b770f path,#chart-7af49e5d-082a-4b84-83ad-aeb4466b770f line,#chart-7af49e5d-082a-4b84-83ad-aeb4466b770f rect,#chart-7af49e5d-082a-4b84-83ad-aeb4466b770f circle{-webkit-transition:150ms;-moz-transition:150ms;transition:150ms}#chart-7af49e5d-082a-4b84-83ad-aeb4466b770f .graph &gt; .background{fill:rgba(249,249,249,1)}#chart-7af49e5d-082a-4b84-83ad-aeb4466b770f .plot &gt; .background{fill:rgba(255,255,255,1)}#chart-7af49e5d-082a-4b84-83ad-aeb4466b770f .graph{fill:rgba(0,0,0,.87)}#chart-7af49e5d-082a-4b84-83ad-aeb4466b770f text.no_data{fill:rgba(0,0,0,1)}#chart-7af49e5d-082a-4b84-83ad-aeb4466b770f .title{fill:rgba(0,0,0,1)}#chart-7af49e5d-082a-4b84-83ad-aeb4466b770f .legends .legend text{fill:rgba(0,0,0,.87)}#chart-7af49e5d-082a-4b84-83ad-aeb4466b770f .legends .legend:hover text{fill:rgba(0,0,0,1)}#chart-7af49e5d-082a-4b84-83ad-aeb4466b770f .axis .line{stroke:rgba(0,0,0,1)}#chart-7af49e5d-082a-4b84-83ad-aeb4466b770f .axis .guide.line{stroke:rgba(0,0,0,.54)}#chart-7af49e5d-082a-4b84-83ad-aeb4466b770f .axis .major.line{stroke:rgba(0,0,0,.87)}#chart-7af49e5d-082a-4b84-83ad-aeb4466b770f .axis text.major{fill:rgba(0,0,0,1)}#chart-7af49e5d-082a-4b84-83ad-aeb4466b770f .axis.y .guides:hover .guide.line,#chart-7af49e5d-082a-4b84-83ad-aeb4466b770f .line-graph .axis.x .guides:hover .guide.line,#chart-7af49e5d-082a-4b84-83ad-aeb4466b770f .stackedline-graph .axis.x .guides:hover .guide.line,#chart-7af49e5d-082a-4b84-83ad-aeb4466b770f .xy-graph .axis.x .guides:hover .guide.line{stroke:rgba(0,0,0,1)}#chart-7af49e5d-082a-4b84-83ad-aeb4466b770f .axis .guides:hover text{fill:rgba(0,0,0,1)}#chart-7af49e5d-082a-4b84-83ad-aeb4466b770f .reactive{fill-opacity:.7;stroke-opacity:.8}#chart-7af49e5d-082a-4b84-83ad-aeb4466b770f .ci{stroke:rgba(0,0,0,.87)}#chart-7af49e5d-082a-4b84-83ad-aeb4466b770f .reactive.active,#chart-7af49e5d-082a-4b84-83ad-aeb4466b770f .active .reactive{fill-opacity:.8;stroke-opacity:.9;stroke-width:4}#chart-7af49e5d-082a-4b84-83ad-aeb4466b770f .ci .reactive.active{stroke-width:1.5}#chart-7af49e5d-082a-4b84-83ad-aeb4466b770f .series text{fill:rgba(0,0,0,1)}#chart-7af49e5d-082a-4b84-83ad-aeb4466b770f .tooltip rect{fill:rgba(255,255,255,1);stroke:rgba(0,0,0,1);-webkit-transition:opacity 150ms;-moz-transition:opacity 150ms;transition:opacity 150ms}#chart-7af49e5d-082a-4b84-83ad-aeb4466b770f .tooltip .label{fill:rgba(0,0,0,.87)}#chart-7af49e5d-082a-4b84-83ad-aeb4466b770f .tooltip .label{fill:rgba(0,0,0,.87)}#chart-7af49e5d-082a-4b84-83ad-aeb4466b770f .tooltip .legend{font-size:.8em;fill:rgba(0,0,0,.54)}#chart-7af49e5d-082a-4b84-83ad-aeb4466b770f .tooltip .x_label{font-size:.6em;fill:rgba(0,0,0,1)}#chart-7af49e5d-082a-4b84-83ad-aeb4466b770f .tooltip .xlink{font-size:.5em;text-decoration:underline}#chart-7af49e5d-082a-4b84-83ad-aeb4466b770f .tooltip .value{font-size:1.5em}#chart-7af49e5d-082a-4b84-83ad-aeb4466b770f .bound{font-size:.5em}#chart-7af49e5d-082a-4b84-83ad-aeb4466b770f .max-value{font-size:.75em;fill:rgba(0,0,0,.54)}#chart-7af49e5d-082a-4b84-83ad-aeb4466b770f .map-element{fill:rgba(255,255,255,1);stroke:rgba(0,0,0,.54) !important}#chart-7af49e5d-082a-4b84-83ad-aeb4466b770f .map-element .reactive{fill-opacity:inherit;stroke-opacity:inherit}#chart-7af49e5d-082a-4b84-83ad-aeb4466b770f .color-0,#chart-7af49e5d-082a-4b84-83ad-aeb4466b770f .color-0 a:visited{stroke:#F44336;fill:#F44336}#chart-7af49e5d-082a-4b84-83ad-aeb4466b770f .text-overlay .color-0 text{fill:black}\n",
       "#chart-7af49e5d-082a-4b84-83ad-aeb4466b770f text.no_data{text-anchor:middle}#chart-7af49e5d-082a-4b84-83ad-aeb4466b770f .guide.line{fill:none}#chart-7af49e5d-082a-4b84-83ad-aeb4466b770f .centered{text-anchor:middle}#chart-7af49e5d-082a-4b84-83ad-aeb4466b770f .title{text-anchor:middle}#chart-7af49e5d-082a-4b84-83ad-aeb4466b770f .legends .legend text{fill-opacity:1}#chart-7af49e5d-082a-4b84-83ad-aeb4466b770f .axis.x text{text-anchor:middle}#chart-7af49e5d-082a-4b84-83ad-aeb4466b770f .axis.x:not(.web) text[transform]{text-anchor:start}#chart-7af49e5d-082a-4b84-83ad-aeb4466b770f .axis.x:not(.web) text[transform].backwards{text-anchor:end}#chart-7af49e5d-082a-4b84-83ad-aeb4466b770f .axis.y text{text-anchor:end}#chart-7af49e5d-082a-4b84-83ad-aeb4466b770f .axis.y text[transform].backwards{text-anchor:start}#chart-7af49e5d-082a-4b84-83ad-aeb4466b770f .axis.y2 text{text-anchor:start}#chart-7af49e5d-082a-4b84-83ad-aeb4466b770f .axis.y2 text[transform].backwards{text-anchor:end}#chart-7af49e5d-082a-4b84-83ad-aeb4466b770f .axis .guide.line{stroke-dasharray:4,4}#chart-7af49e5d-082a-4b84-83ad-aeb4466b770f .axis .major.guide.line{stroke-dasharray:6,6}#chart-7af49e5d-082a-4b84-83ad-aeb4466b770f .horizontal .axis.y .guide.line,#chart-7af49e5d-082a-4b84-83ad-aeb4466b770f .horizontal .axis.y2 .guide.line,#chart-7af49e5d-082a-4b84-83ad-aeb4466b770f .vertical .axis.x .guide.line{opacity:0}#chart-7af49e5d-082a-4b84-83ad-aeb4466b770f .horizontal .axis.always_show .guide.line,#chart-7af49e5d-082a-4b84-83ad-aeb4466b770f .vertical .axis.always_show .guide.line{opacity:1 !important}#chart-7af49e5d-082a-4b84-83ad-aeb4466b770f .axis.y .guides:hover .guide.line,#chart-7af49e5d-082a-4b84-83ad-aeb4466b770f .axis.y2 .guides:hover .guide.line,#chart-7af49e5d-082a-4b84-83ad-aeb4466b770f .axis.x .guides:hover .guide.line{opacity:1}#chart-7af49e5d-082a-4b84-83ad-aeb4466b770f .axis .guides:hover text{opacity:1}#chart-7af49e5d-082a-4b84-83ad-aeb4466b770f .nofill{fill:none}#chart-7af49e5d-082a-4b84-83ad-aeb4466b770f .subtle-fill{fill-opacity:.2}#chart-7af49e5d-082a-4b84-83ad-aeb4466b770f .dot{stroke-width:1px;fill-opacity:1}#chart-7af49e5d-082a-4b84-83ad-aeb4466b770f .dot.active{stroke-width:5px}#chart-7af49e5d-082a-4b84-83ad-aeb4466b770f .dot.negative{fill:transparent}#chart-7af49e5d-082a-4b84-83ad-aeb4466b770f text,#chart-7af49e5d-082a-4b84-83ad-aeb4466b770f tspan{stroke:none !important}#chart-7af49e5d-082a-4b84-83ad-aeb4466b770f .series text.active{opacity:1}#chart-7af49e5d-082a-4b84-83ad-aeb4466b770f .tooltip rect{fill-opacity:.95;stroke-width:.5}#chart-7af49e5d-082a-4b84-83ad-aeb4466b770f .tooltip text{fill-opacity:1}#chart-7af49e5d-082a-4b84-83ad-aeb4466b770f .showable{visibility:hidden}#chart-7af49e5d-082a-4b84-83ad-aeb4466b770f .showable.shown{visibility:visible}#chart-7af49e5d-082a-4b84-83ad-aeb4466b770f .gauge-background{fill:rgba(229,229,229,1);stroke:none}#chart-7af49e5d-082a-4b84-83ad-aeb4466b770f .bg-lines{stroke:rgba(249,249,249,1);stroke-width:2px}</style><script type=\"text/javascript\">window.pygal = window.pygal || {};window.pygal.config = window.pygal.config || {};window.pygal.config['7af49e5d-082a-4b84-83ad-aeb4466b770f'] = {\"allow_interruptions\": false, \"box_mode\": \"extremes\", \"classes\": [\"pygal-chart\"], \"css\": [\"file://style.css\", \"file://graph.css\"], \"defs\": [], \"disable_xml_declaration\": false, \"dots_size\": 2.5, \"dynamic_print_values\": false, \"explicit_size\": true, \"fill\": false, \"force_uri_protocol\": \"https\", \"formatter\": null, \"half_pie\": false, \"height\": 360, \"include_x_axis\": false, \"inner_radius\": 0, \"interpolate\": null, \"interpolation_parameters\": {}, \"interpolation_precision\": 250, \"inverse_y_axis\": false, \"js\": [\"//kozea.github.io/pygal.js/2.0.x/pygal-tooltips.min.js\"], \"legend_at_bottom\": false, \"legend_at_bottom_columns\": null, \"legend_box_size\": 12, \"logarithmic\": false, \"margin\": 20, \"margin_bottom\": null, \"margin_left\": null, \"margin_right\": null, \"margin_top\": null, \"max_scale\": 16, \"min_scale\": 4, \"missing_value_fill_truncation\": \"x\", \"no_data_text\": \"No data\", \"no_prefix\": false, \"order_min\": null, \"pretty_print\": false, \"print_labels\": false, \"print_values\": false, \"print_values_position\": \"center\", \"print_zeroes\": true, \"range\": null, \"rounded_bars\": null, \"secondary_range\": null, \"show_dots\": true, \"show_legend\": true, \"show_minor_x_labels\": true, \"show_minor_y_labels\": true, \"show_only_major_dots\": false, \"show_x_guides\": false, \"show_x_labels\": true, \"show_y_guides\": true, \"show_y_labels\": true, \"spacing\": 10, \"stack_from_top\": false, \"strict\": false, \"stroke\": true, \"stroke_style\": null, \"style\": {\"background\": \"rgba(249, 249, 249, 1)\", \"ci_colors\": [], \"colors\": [\"#F44336\", \"#3F51B5\", \"#009688\", \"#FFC107\", \"#FF5722\", \"#9C27B0\", \"#03A9F4\", \"#8BC34A\", \"#FF9800\", \"#E91E63\", \"#2196F3\", \"#4CAF50\", \"#FFEB3B\", \"#673AB7\", \"#00BCD4\", \"#CDDC39\", \"#9E9E9E\", \"#607D8B\"], \"font_family\": \"Consolas, \\\"Liberation Mono\\\", Menlo, Courier, monospace\", \"foreground\": \"rgba(0, 0, 0, .87)\", \"foreground_strong\": \"rgba(0, 0, 0, 1)\", \"foreground_subtle\": \"rgba(0, 0, 0, .54)\", \"guide_stroke_dasharray\": \"4,4\", \"label_font_family\": \"Consolas, \\\"Liberation Mono\\\", Menlo, Courier, monospace\", \"label_font_size\": 10, \"legend_font_family\": \"Consolas, \\\"Liberation Mono\\\", Menlo, Courier, monospace\", \"legend_font_size\": 14, \"major_guide_stroke_dasharray\": \"6,6\", \"major_label_font_family\": \"Consolas, \\\"Liberation Mono\\\", Menlo, Courier, monospace\", \"major_label_font_size\": 10, \"no_data_font_family\": \"Consolas, \\\"Liberation Mono\\\", Menlo, Courier, monospace\", \"no_data_font_size\": 64, \"opacity\": \".7\", \"opacity_hover\": \".8\", \"plot_background\": \"rgba(255, 255, 255, 1)\", \"stroke_opacity\": \".8\", \"stroke_opacity_hover\": \".9\", \"title_font_family\": \"Consolas, \\\"Liberation Mono\\\", Menlo, Courier, monospace\", \"title_font_size\": 16, \"tooltip_font_family\": \"Consolas, \\\"Liberation Mono\\\", Menlo, Courier, monospace\", \"tooltip_font_size\": 14, \"transition\": \"150ms\", \"value_background\": \"rgba(229, 229, 229, 1)\", \"value_colors\": [], \"value_font_family\": \"Consolas, \\\"Liberation Mono\\\", Menlo, Courier, monospace\", \"value_font_size\": 16, \"value_label_font_family\": \"Consolas, \\\"Liberation Mono\\\", Menlo, Courier, monospace\", \"value_label_font_size\": 10}, \"title\": null, \"tooltip_border_radius\": 0, \"tooltip_fancy_mode\": true, \"truncate_label\": null, \"truncate_legend\": null, \"width\": 640, \"x_label_rotation\": 0, \"x_labels\": null, \"x_labels_major\": null, \"x_labels_major_count\": null, \"x_labels_major_every\": null, \"x_title\": null, \"xrange\": null, \"y_label_rotation\": 0, \"y_labels\": null, \"y_labels_major\": null, \"y_labels_major_count\": null, \"y_labels_major_every\": null, \"y_title\": null, \"zero\": 0, \"legends\": [\"Sales\"]}</script><script type=\"text/javascript\" xlink:href=\"https://kozea.github.io/pygal.js/2.0.x/pygal-tooltips.min.js\"/></defs><title>Pygal</title><g class=\"graph line-graph vertical\"><rect class=\"background\" height=\"360\" width=\"640\" x=\"0\" y=\"0\"/><g class=\"plot\" transform=\"translate(112, 20)\"><rect class=\"background\" height=\"320\" width=\"508.0\" x=\"0\" y=\"0\"/><g class=\"axis y always_show\"><path class=\"line\" d=\"M0.000000 320.000000 h508.000000\"/><g class=\"guides\"><path class=\"guide line\" d=\"M0.000000 286.487398 h508.000000\"/><text class=\"\" x=\"-5\" y=\"289.98739810737374\">200</text><title>200</title></g><g class=\"guides\"><path class=\"guide line\" d=\"M0.000000 249.009651 h508.000000\"/><text class=\"\" x=\"-5\" y=\"252.50965052000373\">300</text><title>300</title></g><g class=\"guides\"><path class=\"guide line\" d=\"M0.000000 211.531903 h508.000000\"/><text class=\"\" x=\"-5\" y=\"215.03190293263373\">400</text><title>400</title></g><g class=\"guides\"><path class=\"major guide line\" d=\"M0.000000 174.054155 h508.000000\"/><text class=\"major\" x=\"-5\" y=\"177.55415534526372\">500</text><title>500</title></g><g class=\"guides\"><path class=\"guide line\" d=\"M0.000000 136.576408 h508.000000\"/><text class=\"\" x=\"-5\" y=\"140.07640775789375\">600</text><title>600</title></g><g class=\"guides\"><path class=\"guide line\" d=\"M0.000000 99.098660 h508.000000\"/><text class=\"\" x=\"-5\" y=\"102.59866017052374\">700</text><title>700</title></g><g class=\"guides\"><path class=\"guide line\" d=\"M0.000000 61.620913 h508.000000\"/><text class=\"\" x=\"-5\" y=\"65.12091258315371\">800</text><title>800</title></g><g class=\"guides\"><path class=\"guide line\" d=\"M0.000000 24.143165 h508.000000\"/><text class=\"\" x=\"-5\" y=\"27.643164995783707\">900</text><title>900</title></g></g><g class=\"series serie-0 color-0\"><path class=\"line reactive nofill\" d=\"M9.769231 286.487398 L172.589744 313.846154 335.410256 211.531903 498.230769 6.153846\"/></g></g><g class=\"titles\"/><g class=\"plot overlay\" transform=\"translate(112, 20)\"><g class=\"series serie-0 color-0\"><g class=\"dots\"><circle class=\"dot reactive tooltip-trigger\" cx=\"9.769230769230768\" cy=\"286.48739810737374\" r=\"2.5\"/><desc class=\"value\">200</desc><desc class=\"x top\">9.769230769230768</desc><desc class=\"y top\">286.48739810737374</desc></g><g class=\"dots\"><circle class=\"dot reactive tooltip-trigger\" cx=\"172.5897435897436\" cy=\"313.84615384615387\" r=\"2.5\"/><desc class=\"value\">127</desc><desc class=\"x top\">172.5897435897436</desc><desc class=\"y top\">313.84615384615387</desc></g><g class=\"dots\"><circle class=\"dot reactive tooltip-trigger\" cx=\"335.4102564102564\" cy=\"211.53190293263373\" r=\"2.5\"/><desc class=\"value\">400</desc><desc class=\"x left top\">335.4102564102564</desc><desc class=\"y left top\">211.53190293263373</desc></g><g class=\"dots\"><circle class=\"dot reactive tooltip-trigger\" cx=\"498.23076923076917\" cy=\"6.153846153846189\" r=\"2.5\"/><desc class=\"value\">948</desc><desc class=\"x left\">498.23076923076917</desc><desc class=\"y left\">6.153846153846189</desc></g></g></g><g class=\"plot text-overlay\" transform=\"translate(112, 20)\"><g class=\"series serie-0 color-0\"/></g><g class=\"plot tooltip-overlay\" transform=\"translate(112, 20)\"><g class=\"tooltip\" style=\"opacity: 0\" transform=\"translate(0 0)\"><rect class=\"tooltip-box\" height=\"0\" rx=\"0\" ry=\"0\" width=\"0\"/><g class=\"text\"/></g></g><g class=\"legends\" transform=\"translate(10, 30)\"><g class=\"legend reactive activate-serie\" id=\"activate-serie-0\"><rect class=\"color-0 reactive\" height=\"12\" width=\"12\" x=\"0.0\" y=\"1.0\"/><text x=\"17.0\" y=\"11.2\">Sales</text></g></g><g class=\"legends\" transform=\"translate(630, 30)\"/></g></svg>\n",
       "    </figure>\n",
       "  </body>\n",
       "</html>\n"
      ],
      "text/plain": [
       "<IPython.core.display.HTML object>"
      ]
     },
     "metadata": {},
     "output_type": "display_data"
    }
   ],
   "source": [
    "line_plot.add('Sales', \n",
    "              [200, 127, 400, 948])\n",
    "\n",
    "display_chart(line_plot)"
   ]
  },
  {
   "cell_type": "code",
   "execution_count": null,
   "metadata": {
    "collapsed": true
   },
   "outputs": [],
   "source": []
  },
  {
   "cell_type": "markdown",
   "metadata": {},
   "source": [
    "#### A DateTimeLine is a special version of a Line plot\n",
    "The arguments are sets of (x,y) coordinates rather than a series"
   ]
  },
  {
   "cell_type": "code",
   "execution_count": 5,
   "metadata": {
    "collapsed": true
   },
   "outputs": [],
   "source": [
    "timeline_plot = pygal.DateTimeLine(width = 640,\n",
    "                                   height = 360,\n",
    "                                   explicit_size = True)"
   ]
  },
  {
   "cell_type": "markdown",
   "metadata": {},
   "source": [
    "DatetimeLine Object takes in the **datetime python object** and **value i.e Volume Traded.**"
   ]
  },
  {
   "cell_type": "code",
   "execution_count": 6,
   "metadata": {},
   "outputs": [
    {
     "data": {
      "text/html": [
       "\n",
       "<!DOCTYPE html>\n",
       "<html>\n",
       "  <head>\n",
       "  <script type=\"text/javascript\" \n",
       "          src=\"http://kozea.github.com/pygal.js/javascripts/svg.jquery.js\">\n",
       "  </script>\n",
       "  <script type=\"text/javascript\" \n",
       "          src=\"https://kozea.github.io/pygal.js/2.0.x/pygal-tooltips.min.js\"\">\n",
       "  </script>\n",
       "  </head>\n",
       "  <body>\n",
       "    <figure>\n",
       "      <?xml version='1.0' encoding='utf-8'?>\n",
       "<svg xmlns:xlink=\"http://www.w3.org/1999/xlink\" xmlns=\"http://www.w3.org/2000/svg\" id=\"chart-ff135ada-f24f-42da-9699-c19ede13ffbc\" class=\"pygal-chart\" viewBox=\"0 0 640 360\" width=\"640\" height=\"360\"><!--Generated with pygal 2.4.0 (lxml) ©Kozea 2012-2016 on 2019-02-03--><!--http://pygal.org--><!--http://github.com/Kozea/pygal--><defs><style type=\"text/css\">#chart-ff135ada-f24f-42da-9699-c19ede13ffbc{-webkit-user-select:none;-webkit-font-smoothing:antialiased;font-family:Consolas,\"Liberation Mono\",Menlo,Courier,monospace}#chart-ff135ada-f24f-42da-9699-c19ede13ffbc .title{font-family:Consolas,\"Liberation Mono\",Menlo,Courier,monospace;font-size:16px}#chart-ff135ada-f24f-42da-9699-c19ede13ffbc .legends .legend text{font-family:Consolas,\"Liberation Mono\",Menlo,Courier,monospace;font-size:14px}#chart-ff135ada-f24f-42da-9699-c19ede13ffbc .axis text{font-family:Consolas,\"Liberation Mono\",Menlo,Courier,monospace;font-size:10px}#chart-ff135ada-f24f-42da-9699-c19ede13ffbc .axis text.major{font-family:Consolas,\"Liberation Mono\",Menlo,Courier,monospace;font-size:10px}#chart-ff135ada-f24f-42da-9699-c19ede13ffbc .text-overlay text.value{font-family:Consolas,\"Liberation Mono\",Menlo,Courier,monospace;font-size:16px}#chart-ff135ada-f24f-42da-9699-c19ede13ffbc .text-overlay text.label{font-family:Consolas,\"Liberation Mono\",Menlo,Courier,monospace;font-size:10px}#chart-ff135ada-f24f-42da-9699-c19ede13ffbc .tooltip{font-family:Consolas,\"Liberation Mono\",Menlo,Courier,monospace;font-size:14px}#chart-ff135ada-f24f-42da-9699-c19ede13ffbc text.no_data{font-family:Consolas,\"Liberation Mono\",Menlo,Courier,monospace;font-size:64px}\n",
       "#chart-ff135ada-f24f-42da-9699-c19ede13ffbc{background-color:rgba(249,249,249,1)}#chart-ff135ada-f24f-42da-9699-c19ede13ffbc path,#chart-ff135ada-f24f-42da-9699-c19ede13ffbc line,#chart-ff135ada-f24f-42da-9699-c19ede13ffbc rect,#chart-ff135ada-f24f-42da-9699-c19ede13ffbc circle{-webkit-transition:150ms;-moz-transition:150ms;transition:150ms}#chart-ff135ada-f24f-42da-9699-c19ede13ffbc .graph &gt; .background{fill:rgba(249,249,249,1)}#chart-ff135ada-f24f-42da-9699-c19ede13ffbc .plot &gt; .background{fill:rgba(255,255,255,1)}#chart-ff135ada-f24f-42da-9699-c19ede13ffbc .graph{fill:rgba(0,0,0,.87)}#chart-ff135ada-f24f-42da-9699-c19ede13ffbc text.no_data{fill:rgba(0,0,0,1)}#chart-ff135ada-f24f-42da-9699-c19ede13ffbc .title{fill:rgba(0,0,0,1)}#chart-ff135ada-f24f-42da-9699-c19ede13ffbc .legends .legend text{fill:rgba(0,0,0,.87)}#chart-ff135ada-f24f-42da-9699-c19ede13ffbc .legends .legend:hover text{fill:rgba(0,0,0,1)}#chart-ff135ada-f24f-42da-9699-c19ede13ffbc .axis .line{stroke:rgba(0,0,0,1)}#chart-ff135ada-f24f-42da-9699-c19ede13ffbc .axis .guide.line{stroke:rgba(0,0,0,.54)}#chart-ff135ada-f24f-42da-9699-c19ede13ffbc .axis .major.line{stroke:rgba(0,0,0,.87)}#chart-ff135ada-f24f-42da-9699-c19ede13ffbc .axis text.major{fill:rgba(0,0,0,1)}#chart-ff135ada-f24f-42da-9699-c19ede13ffbc .axis.y .guides:hover .guide.line,#chart-ff135ada-f24f-42da-9699-c19ede13ffbc .line-graph .axis.x .guides:hover .guide.line,#chart-ff135ada-f24f-42da-9699-c19ede13ffbc .stackedline-graph .axis.x .guides:hover .guide.line,#chart-ff135ada-f24f-42da-9699-c19ede13ffbc .xy-graph .axis.x .guides:hover .guide.line{stroke:rgba(0,0,0,1)}#chart-ff135ada-f24f-42da-9699-c19ede13ffbc .axis .guides:hover text{fill:rgba(0,0,0,1)}#chart-ff135ada-f24f-42da-9699-c19ede13ffbc .reactive{fill-opacity:.7;stroke-opacity:.8}#chart-ff135ada-f24f-42da-9699-c19ede13ffbc .ci{stroke:rgba(0,0,0,.87)}#chart-ff135ada-f24f-42da-9699-c19ede13ffbc .reactive.active,#chart-ff135ada-f24f-42da-9699-c19ede13ffbc .active .reactive{fill-opacity:.8;stroke-opacity:.9;stroke-width:4}#chart-ff135ada-f24f-42da-9699-c19ede13ffbc .ci .reactive.active{stroke-width:1.5}#chart-ff135ada-f24f-42da-9699-c19ede13ffbc .series text{fill:rgba(0,0,0,1)}#chart-ff135ada-f24f-42da-9699-c19ede13ffbc .tooltip rect{fill:rgba(255,255,255,1);stroke:rgba(0,0,0,1);-webkit-transition:opacity 150ms;-moz-transition:opacity 150ms;transition:opacity 150ms}#chart-ff135ada-f24f-42da-9699-c19ede13ffbc .tooltip .label{fill:rgba(0,0,0,.87)}#chart-ff135ada-f24f-42da-9699-c19ede13ffbc .tooltip .label{fill:rgba(0,0,0,.87)}#chart-ff135ada-f24f-42da-9699-c19ede13ffbc .tooltip .legend{font-size:.8em;fill:rgba(0,0,0,.54)}#chart-ff135ada-f24f-42da-9699-c19ede13ffbc .tooltip .x_label{font-size:.6em;fill:rgba(0,0,0,1)}#chart-ff135ada-f24f-42da-9699-c19ede13ffbc .tooltip .xlink{font-size:.5em;text-decoration:underline}#chart-ff135ada-f24f-42da-9699-c19ede13ffbc .tooltip .value{font-size:1.5em}#chart-ff135ada-f24f-42da-9699-c19ede13ffbc .bound{font-size:.5em}#chart-ff135ada-f24f-42da-9699-c19ede13ffbc .max-value{font-size:.75em;fill:rgba(0,0,0,.54)}#chart-ff135ada-f24f-42da-9699-c19ede13ffbc .map-element{fill:rgba(255,255,255,1);stroke:rgba(0,0,0,.54) !important}#chart-ff135ada-f24f-42da-9699-c19ede13ffbc .map-element .reactive{fill-opacity:inherit;stroke-opacity:inherit}#chart-ff135ada-f24f-42da-9699-c19ede13ffbc .color-0,#chart-ff135ada-f24f-42da-9699-c19ede13ffbc .color-0 a:visited{stroke:#F44336;fill:#F44336}#chart-ff135ada-f24f-42da-9699-c19ede13ffbc .text-overlay .color-0 text{fill:black}\n",
       "#chart-ff135ada-f24f-42da-9699-c19ede13ffbc text.no_data{text-anchor:middle}#chart-ff135ada-f24f-42da-9699-c19ede13ffbc .guide.line{fill:none}#chart-ff135ada-f24f-42da-9699-c19ede13ffbc .centered{text-anchor:middle}#chart-ff135ada-f24f-42da-9699-c19ede13ffbc .title{text-anchor:middle}#chart-ff135ada-f24f-42da-9699-c19ede13ffbc .legends .legend text{fill-opacity:1}#chart-ff135ada-f24f-42da-9699-c19ede13ffbc .axis.x text{text-anchor:middle}#chart-ff135ada-f24f-42da-9699-c19ede13ffbc .axis.x:not(.web) text[transform]{text-anchor:start}#chart-ff135ada-f24f-42da-9699-c19ede13ffbc .axis.x:not(.web) text[transform].backwards{text-anchor:end}#chart-ff135ada-f24f-42da-9699-c19ede13ffbc .axis.y text{text-anchor:end}#chart-ff135ada-f24f-42da-9699-c19ede13ffbc .axis.y text[transform].backwards{text-anchor:start}#chart-ff135ada-f24f-42da-9699-c19ede13ffbc .axis.y2 text{text-anchor:start}#chart-ff135ada-f24f-42da-9699-c19ede13ffbc .axis.y2 text[transform].backwards{text-anchor:end}#chart-ff135ada-f24f-42da-9699-c19ede13ffbc .axis .guide.line{stroke-dasharray:4,4}#chart-ff135ada-f24f-42da-9699-c19ede13ffbc .axis .major.guide.line{stroke-dasharray:6,6}#chart-ff135ada-f24f-42da-9699-c19ede13ffbc .horizontal .axis.y .guide.line,#chart-ff135ada-f24f-42da-9699-c19ede13ffbc .horizontal .axis.y2 .guide.line,#chart-ff135ada-f24f-42da-9699-c19ede13ffbc .vertical .axis.x .guide.line{opacity:0}#chart-ff135ada-f24f-42da-9699-c19ede13ffbc .horizontal .axis.always_show .guide.line,#chart-ff135ada-f24f-42da-9699-c19ede13ffbc .vertical .axis.always_show .guide.line{opacity:1 !important}#chart-ff135ada-f24f-42da-9699-c19ede13ffbc .axis.y .guides:hover .guide.line,#chart-ff135ada-f24f-42da-9699-c19ede13ffbc .axis.y2 .guides:hover .guide.line,#chart-ff135ada-f24f-42da-9699-c19ede13ffbc .axis.x .guides:hover .guide.line{opacity:1}#chart-ff135ada-f24f-42da-9699-c19ede13ffbc .axis .guides:hover text{opacity:1}#chart-ff135ada-f24f-42da-9699-c19ede13ffbc .nofill{fill:none}#chart-ff135ada-f24f-42da-9699-c19ede13ffbc .subtle-fill{fill-opacity:.2}#chart-ff135ada-f24f-42da-9699-c19ede13ffbc .dot{stroke-width:1px;fill-opacity:1}#chart-ff135ada-f24f-42da-9699-c19ede13ffbc .dot.active{stroke-width:5px}#chart-ff135ada-f24f-42da-9699-c19ede13ffbc .dot.negative{fill:transparent}#chart-ff135ada-f24f-42da-9699-c19ede13ffbc text,#chart-ff135ada-f24f-42da-9699-c19ede13ffbc tspan{stroke:none !important}#chart-ff135ada-f24f-42da-9699-c19ede13ffbc .series text.active{opacity:1}#chart-ff135ada-f24f-42da-9699-c19ede13ffbc .tooltip rect{fill-opacity:.95;stroke-width:.5}#chart-ff135ada-f24f-42da-9699-c19ede13ffbc .tooltip text{fill-opacity:1}#chart-ff135ada-f24f-42da-9699-c19ede13ffbc .showable{visibility:hidden}#chart-ff135ada-f24f-42da-9699-c19ede13ffbc .showable.shown{visibility:visible}#chart-ff135ada-f24f-42da-9699-c19ede13ffbc .gauge-background{fill:rgba(229,229,229,1);stroke:none}#chart-ff135ada-f24f-42da-9699-c19ede13ffbc .bg-lines{stroke:rgba(249,249,249,1);stroke-width:2px}</style><script type=\"text/javascript\">window.pygal = window.pygal || {};window.pygal.config = window.pygal.config || {};window.pygal.config['ff135ada-f24f-42da-9699-c19ede13ffbc'] = {\"allow_interruptions\": false, \"box_mode\": \"extremes\", \"classes\": [\"pygal-chart\"], \"css\": [\"file://style.css\", \"file://graph.css\"], \"defs\": [], \"disable_xml_declaration\": false, \"dots_size\": 2.5, \"dynamic_print_values\": false, \"explicit_size\": true, \"fill\": false, \"force_uri_protocol\": \"https\", \"formatter\": null, \"half_pie\": false, \"height\": 360, \"include_x_axis\": false, \"inner_radius\": 0, \"interpolate\": null, \"interpolation_parameters\": {}, \"interpolation_precision\": 250, \"inverse_y_axis\": false, \"js\": [\"//kozea.github.io/pygal.js/2.0.x/pygal-tooltips.min.js\"], \"legend_at_bottom\": false, \"legend_at_bottom_columns\": null, \"legend_box_size\": 12, \"logarithmic\": false, \"margin\": 20, \"margin_bottom\": null, \"margin_left\": null, \"margin_right\": null, \"margin_top\": null, \"max_scale\": 16, \"min_scale\": 4, \"missing_value_fill_truncation\": \"x\", \"no_data_text\": \"No data\", \"no_prefix\": false, \"order_min\": null, \"pretty_print\": false, \"print_labels\": false, \"print_values\": false, \"print_values_position\": \"center\", \"print_zeroes\": true, \"range\": null, \"rounded_bars\": null, \"secondary_range\": null, \"show_dots\": true, \"show_legend\": true, \"show_minor_x_labels\": true, \"show_minor_y_labels\": true, \"show_only_major_dots\": false, \"show_x_guides\": false, \"show_x_labels\": true, \"show_y_guides\": true, \"show_y_labels\": true, \"spacing\": 10, \"stack_from_top\": false, \"strict\": false, \"stroke\": true, \"stroke_style\": null, \"style\": {\"background\": \"rgba(249, 249, 249, 1)\", \"ci_colors\": [], \"colors\": [\"#F44336\", \"#3F51B5\", \"#009688\", \"#FFC107\", \"#FF5722\", \"#9C27B0\", \"#03A9F4\", \"#8BC34A\", \"#FF9800\", \"#E91E63\", \"#2196F3\", \"#4CAF50\", \"#FFEB3B\", \"#673AB7\", \"#00BCD4\", \"#CDDC39\", \"#9E9E9E\", \"#607D8B\"], \"font_family\": \"Consolas, \\\"Liberation Mono\\\", Menlo, Courier, monospace\", \"foreground\": \"rgba(0, 0, 0, .87)\", \"foreground_strong\": \"rgba(0, 0, 0, 1)\", \"foreground_subtle\": \"rgba(0, 0, 0, .54)\", \"guide_stroke_dasharray\": \"4,4\", \"label_font_family\": \"Consolas, \\\"Liberation Mono\\\", Menlo, Courier, monospace\", \"label_font_size\": 10, \"legend_font_family\": \"Consolas, \\\"Liberation Mono\\\", Menlo, Courier, monospace\", \"legend_font_size\": 14, \"major_guide_stroke_dasharray\": \"6,6\", \"major_label_font_family\": \"Consolas, \\\"Liberation Mono\\\", Menlo, Courier, monospace\", \"major_label_font_size\": 10, \"no_data_font_family\": \"Consolas, \\\"Liberation Mono\\\", Menlo, Courier, monospace\", \"no_data_font_size\": 64, \"opacity\": \".7\", \"opacity_hover\": \".8\", \"plot_background\": \"rgba(255, 255, 255, 1)\", \"stroke_opacity\": \".8\", \"stroke_opacity_hover\": \".9\", \"title_font_family\": \"Consolas, \\\"Liberation Mono\\\", Menlo, Courier, monospace\", \"title_font_size\": 16, \"tooltip_font_family\": \"Consolas, \\\"Liberation Mono\\\", Menlo, Courier, monospace\", \"tooltip_font_size\": 14, \"transition\": \"150ms\", \"value_background\": \"rgba(229, 229, 229, 1)\", \"value_colors\": [], \"value_font_family\": \"Consolas, \\\"Liberation Mono\\\", Menlo, Courier, monospace\", \"value_font_size\": 16, \"value_label_font_family\": \"Consolas, \\\"Liberation Mono\\\", Menlo, Courier, monospace\", \"value_label_font_size\": 10}, \"title\": null, \"tooltip_border_radius\": 0, \"tooltip_fancy_mode\": true, \"truncate_label\": null, \"truncate_legend\": null, \"width\": 640, \"x_label_rotation\": 0, \"x_labels\": null, \"x_labels_major\": null, \"x_labels_major_count\": null, \"x_labels_major_every\": null, \"x_title\": null, \"xrange\": null, \"y_label_rotation\": 0, \"y_labels\": null, \"y_labels_major\": null, \"y_labels_major_count\": null, \"y_labels_major_every\": null, \"y_title\": null, \"zero\": 0, \"legends\": [\"Sales\"]}</script><script type=\"text/javascript\" xlink:href=\"https://kozea.github.io/pygal.js/2.0.x/pygal-tooltips.min.js\"/></defs><title>Pygal</title><g class=\"graph datetimeline-graph vertical\"><rect class=\"background\" height=\"360\" width=\"640\" x=\"0\" y=\"0\"/><g class=\"plot\" transform=\"translate(112, 20)\"><rect class=\"background\" height=\"300\" width=\"508.0\" x=\"0\" y=\"0\"/><g class=\"axis y always_show\"><path class=\"line\" d=\"M0.000000 300.000000 h508.000000\"/><g class=\"guides\"><path class=\"guide line\" d=\"M0.000000 268.581936 h508.000000\"/><text class=\"\" x=\"-5\" y=\"272.0819357256629\">200</text><title>200</title></g><g class=\"guides\"><path class=\"guide line\" d=\"M0.000000 233.446547 h508.000000\"/><text class=\"\" x=\"-5\" y=\"236.9465473625035\">300</text><title>300</title></g><g class=\"guides\"><path class=\"guide line\" d=\"M0.000000 198.311159 h508.000000\"/><text class=\"\" x=\"-5\" y=\"201.81115899934412\">400</text><title>400</title></g><g class=\"guides\"><path class=\"major guide line\" d=\"M0.000000 163.175771 h508.000000\"/><text class=\"major\" x=\"-5\" y=\"166.67577063618475\">500</text><title>500</title></g><g class=\"guides\"><path class=\"guide line\" d=\"M0.000000 128.040382 h508.000000\"/><text class=\"\" x=\"-5\" y=\"131.5403822730254\">600</text><title>600</title></g><g class=\"guides\"><path class=\"guide line\" d=\"M0.000000 92.904994 h508.000000\"/><text class=\"\" x=\"-5\" y=\"96.404993909866\">700</text><title>700</title></g><g class=\"guides\"><path class=\"guide line\" d=\"M0.000000 57.769606 h508.000000\"/><text class=\"\" x=\"-5\" y=\"61.26960554670663\">800</text><title>800</title></g><g class=\"guides\"><path class=\"guide line\" d=\"M0.000000 22.634217 h508.000000\"/><text class=\"\" x=\"-5\" y=\"26.134217183547264\">900</text><title>900</title></g></g><g class=\"axis x\"><path class=\"line\" d=\"M0.000000 0.000000 v300.000000\"/><g class=\"guides\"><path class=\"guide line\" d=\"M39.338560 0.000000 v300.000000\"/><text class=\"\" x=\"39.33856028875949\" y=\"315.0\">2007-07-…</text><title>2007-07-05T01:46:40</title></g><g class=\"guides\"><path class=\"guide line\" d=\"M93.395835 0.000000 v300.000000\"/><text class=\"\" x=\"93.39583546157252\" y=\"315.0\">2007-07-…</text><title>2007-07-09T16:53:20</title></g><g class=\"guides\"><path class=\"guide line\" d=\"M147.453111 0.000000 v300.000000\"/><text class=\"\" x=\"147.45311063438552\" y=\"315.0\">2007-07-…</text><title>2007-07-14T08:00:00</title></g><g class=\"guides\"><path class=\"guide line\" d=\"M201.510386 0.000000 v300.000000\"/><text class=\"\" x=\"201.51038580719856\" y=\"315.0\">2007-07-…</text><title>2007-07-18T23:06:40</title></g><g class=\"guides\"><path class=\"guide line\" d=\"M255.567661 0.000000 v300.000000\"/><text class=\"\" x=\"255.56766098001157\" y=\"315.0\">2007-07-…</text><title>2007-07-23T14:13:20</title></g><g class=\"guides\"><path class=\"guide line\" d=\"M309.624936 0.000000 v300.000000\"/><text class=\"\" x=\"309.6249361528246\" y=\"315.0\">2007-07-…</text><title>2007-07-28T05:20:00</title></g><g class=\"guides\"><path class=\"guide line\" d=\"M363.682211 0.000000 v300.000000\"/><text class=\"\" x=\"363.68221132563764\" y=\"315.0\">2007-08-…</text><title>2007-08-01T20:26:40</title></g><g class=\"guides\"><path class=\"guide line\" d=\"M417.739486 0.000000 v300.000000\"/><text class=\"\" x=\"417.7394864984506\" y=\"315.0\">2007-08-…</text><title>2007-08-06T11:33:20</title></g><g class=\"guides\"><path class=\"guide line\" d=\"M471.796762 0.000000 v300.000000\"/><text class=\"\" x=\"471.79676167126365\" y=\"315.0\">2007-08-…</text><title>2007-08-11T02:40:00</title></g></g><g class=\"series serie-0 color-0\"><path class=\"line reactive nofill\" d=\"M9.769231 268.581936 L173.502636 294.230769 337.036705 198.311159 498.230769 5.769231\"/></g></g><g class=\"titles\"/><g class=\"plot overlay\" transform=\"translate(112, 20)\"><g class=\"series serie-0 color-0\"><g class=\"dots\"><circle class=\"dot reactive tooltip-trigger\" cx=\"9.76923076923077\" cy=\"268.5819357256629\" r=\"2.5\"/><desc class=\"value\">2007-07-02T13:00:00: 200</desc><desc class=\"x top\">9.76923076923077</desc><desc class=\"y top\">268.5819357256629</desc></g><g class=\"dots\"><circle class=\"dot reactive tooltip-trigger\" cx=\"173.50263582422446\" cy=\"294.2307692307692\" r=\"2.5\"/><desc class=\"value\">2007-07-16T13:32:35: 127</desc><desc class=\"x top\">173.50263582422446</desc><desc class=\"y top\">294.2307692307692</desc></g><g class=\"dots\"><circle class=\"dot reactive tooltip-trigger\" cx=\"337.0367046770184\" cy=\"198.31115899934412\" r=\"2.5\"/><desc class=\"value\">2007-07-30T13:40:35: 400</desc><desc class=\"x left top\">337.0367046770184</desc><desc class=\"y left top\">198.31115899934412</desc></g><g class=\"dots\"><circle class=\"dot reactive tooltip-trigger\" cx=\"498.2307692307692\" cy=\"5.769230769230717\" r=\"2.5\"/><desc class=\"value\">2007-08-13T09:00:00: 948</desc><desc class=\"x left\">498.2307692307692</desc><desc class=\"y left\">5.769230769230717</desc></g></g></g><g class=\"plot text-overlay\" transform=\"translate(112, 20)\"><g class=\"series serie-0 color-0\"/></g><g class=\"plot tooltip-overlay\" transform=\"translate(112, 20)\"><g class=\"tooltip\" style=\"opacity: 0\" transform=\"translate(0 0)\"><rect class=\"tooltip-box\" height=\"0\" rx=\"0\" ry=\"0\" width=\"0\"/><g class=\"text\"/></g></g><g class=\"legends\" transform=\"translate(10, 30)\"><g class=\"legend reactive activate-serie\" id=\"activate-serie-0\"><rect class=\"color-0 reactive\" height=\"12\" width=\"12\" x=\"0.0\" y=\"1.0\"/><text x=\"17.0\" y=\"11.2\">Sales</text></g></g><g class=\"legends\" transform=\"translate(630, 30)\"/></g></svg>\n",
       "    </figure>\n",
       "  </body>\n",
       "</html>\n"
      ],
      "text/plain": [
       "<IPython.core.display.HTML object>"
      ]
     },
     "metadata": {},
     "output_type": "display_data"
    }
   ],
   "source": [
    "timeline_plot.add('Sales', \n",
    "                  [(datetime(2007, 7, 2, 13, 0), 200),\n",
    "                   (datetime(2007, 7, 16, 13, 32, 35), 127),\n",
    "                   (datetime(2007, 7, 30, 13, 40, 35), 400),\n",
    "                   (datetime(2007, 8, 13, 9), 948),\n",
    "                  ])\n",
    "\n",
    "display_chart(timeline_plot)"
   ]
  },
  {
   "cell_type": "markdown",
   "metadata": {},
   "source": [
    "###### Data on the X axis is not clear. Some Optional parameters need to be set. \n",
    "\n",
    "**Axis label rotation** - it is done avoid the clutter between axis labels(date).\n",
    "\n",
    "**Truncate label** - It is disabled so that whole date can be displayed\n",
    "\n",
    "##### Parameters to format the time \n",
    "\n",
    "**%I** - Hour (12-hour clock) as a zero-padded decimal number.\t\n",
    "\n",
    "**%M** - Minute as a zero-padded decimal number.\n",
    "\n",
    "**%S** - Second as a zero-padded decimal number.\n",
    "\n",
    "**%p** - Locale’s AM or PM.\n",
    "\n",
    "**%b** - Abbreviated month name.\n",
    "\n",
    "**%Y** - Year with century as a decimal number.\n",
    "\n",
    "##### Show the Truncate label first, then show x_label_rotation and x_value_formatter\n",
    "\n",
    "**Truncate_label** value will display the whole title on **X axis**"
   ]
  },
  {
   "cell_type": "code",
   "execution_count": 7,
   "metadata": {
    "collapsed": true
   },
   "outputs": [],
   "source": [
    "timeline_plot = pygal.DateTimeLine(width = 640,\n",
    "                                   height = 360,\n",
    "                                   explicit_size = True,\n",
    "                                   truncate_label=-1)"
   ]
  },
  {
   "cell_type": "code",
   "execution_count": 8,
   "metadata": {},
   "outputs": [
    {
     "data": {
      "text/html": [
       "\n",
       "<!DOCTYPE html>\n",
       "<html>\n",
       "  <head>\n",
       "  <script type=\"text/javascript\" \n",
       "          src=\"http://kozea.github.com/pygal.js/javascripts/svg.jquery.js\">\n",
       "  </script>\n",
       "  <script type=\"text/javascript\" \n",
       "          src=\"https://kozea.github.io/pygal.js/2.0.x/pygal-tooltips.min.js\"\">\n",
       "  </script>\n",
       "  </head>\n",
       "  <body>\n",
       "    <figure>\n",
       "      <?xml version='1.0' encoding='utf-8'?>\n",
       "<svg xmlns:xlink=\"http://www.w3.org/1999/xlink\" xmlns=\"http://www.w3.org/2000/svg\" id=\"chart-f17ccbfc-81b7-459c-a183-b379b0bf7c9c\" class=\"pygal-chart\" viewBox=\"0 0 640 360\" width=\"640\" height=\"360\"><!--Generated with pygal 2.4.0 (lxml) ©Kozea 2012-2016 on 2019-02-03--><!--http://pygal.org--><!--http://github.com/Kozea/pygal--><defs><style type=\"text/css\">#chart-f17ccbfc-81b7-459c-a183-b379b0bf7c9c{-webkit-user-select:none;-webkit-font-smoothing:antialiased;font-family:Consolas,\"Liberation Mono\",Menlo,Courier,monospace}#chart-f17ccbfc-81b7-459c-a183-b379b0bf7c9c .title{font-family:Consolas,\"Liberation Mono\",Menlo,Courier,monospace;font-size:16px}#chart-f17ccbfc-81b7-459c-a183-b379b0bf7c9c .legends .legend text{font-family:Consolas,\"Liberation Mono\",Menlo,Courier,monospace;font-size:14px}#chart-f17ccbfc-81b7-459c-a183-b379b0bf7c9c .axis text{font-family:Consolas,\"Liberation Mono\",Menlo,Courier,monospace;font-size:10px}#chart-f17ccbfc-81b7-459c-a183-b379b0bf7c9c .axis text.major{font-family:Consolas,\"Liberation Mono\",Menlo,Courier,monospace;font-size:10px}#chart-f17ccbfc-81b7-459c-a183-b379b0bf7c9c .text-overlay text.value{font-family:Consolas,\"Liberation Mono\",Menlo,Courier,monospace;font-size:16px}#chart-f17ccbfc-81b7-459c-a183-b379b0bf7c9c .text-overlay text.label{font-family:Consolas,\"Liberation Mono\",Menlo,Courier,monospace;font-size:10px}#chart-f17ccbfc-81b7-459c-a183-b379b0bf7c9c .tooltip{font-family:Consolas,\"Liberation Mono\",Menlo,Courier,monospace;font-size:14px}#chart-f17ccbfc-81b7-459c-a183-b379b0bf7c9c text.no_data{font-family:Consolas,\"Liberation Mono\",Menlo,Courier,monospace;font-size:64px}\n",
       "#chart-f17ccbfc-81b7-459c-a183-b379b0bf7c9c{background-color:rgba(249,249,249,1)}#chart-f17ccbfc-81b7-459c-a183-b379b0bf7c9c path,#chart-f17ccbfc-81b7-459c-a183-b379b0bf7c9c line,#chart-f17ccbfc-81b7-459c-a183-b379b0bf7c9c rect,#chart-f17ccbfc-81b7-459c-a183-b379b0bf7c9c circle{-webkit-transition:150ms;-moz-transition:150ms;transition:150ms}#chart-f17ccbfc-81b7-459c-a183-b379b0bf7c9c .graph &gt; .background{fill:rgba(249,249,249,1)}#chart-f17ccbfc-81b7-459c-a183-b379b0bf7c9c .plot &gt; .background{fill:rgba(255,255,255,1)}#chart-f17ccbfc-81b7-459c-a183-b379b0bf7c9c .graph{fill:rgba(0,0,0,.87)}#chart-f17ccbfc-81b7-459c-a183-b379b0bf7c9c text.no_data{fill:rgba(0,0,0,1)}#chart-f17ccbfc-81b7-459c-a183-b379b0bf7c9c .title{fill:rgba(0,0,0,1)}#chart-f17ccbfc-81b7-459c-a183-b379b0bf7c9c .legends .legend text{fill:rgba(0,0,0,.87)}#chart-f17ccbfc-81b7-459c-a183-b379b0bf7c9c .legends .legend:hover text{fill:rgba(0,0,0,1)}#chart-f17ccbfc-81b7-459c-a183-b379b0bf7c9c .axis .line{stroke:rgba(0,0,0,1)}#chart-f17ccbfc-81b7-459c-a183-b379b0bf7c9c .axis .guide.line{stroke:rgba(0,0,0,.54)}#chart-f17ccbfc-81b7-459c-a183-b379b0bf7c9c .axis .major.line{stroke:rgba(0,0,0,.87)}#chart-f17ccbfc-81b7-459c-a183-b379b0bf7c9c .axis text.major{fill:rgba(0,0,0,1)}#chart-f17ccbfc-81b7-459c-a183-b379b0bf7c9c .axis.y .guides:hover .guide.line,#chart-f17ccbfc-81b7-459c-a183-b379b0bf7c9c .line-graph .axis.x .guides:hover .guide.line,#chart-f17ccbfc-81b7-459c-a183-b379b0bf7c9c .stackedline-graph .axis.x .guides:hover .guide.line,#chart-f17ccbfc-81b7-459c-a183-b379b0bf7c9c .xy-graph .axis.x .guides:hover .guide.line{stroke:rgba(0,0,0,1)}#chart-f17ccbfc-81b7-459c-a183-b379b0bf7c9c .axis .guides:hover text{fill:rgba(0,0,0,1)}#chart-f17ccbfc-81b7-459c-a183-b379b0bf7c9c .reactive{fill-opacity:.7;stroke-opacity:.8}#chart-f17ccbfc-81b7-459c-a183-b379b0bf7c9c .ci{stroke:rgba(0,0,0,.87)}#chart-f17ccbfc-81b7-459c-a183-b379b0bf7c9c .reactive.active,#chart-f17ccbfc-81b7-459c-a183-b379b0bf7c9c .active .reactive{fill-opacity:.8;stroke-opacity:.9;stroke-width:4}#chart-f17ccbfc-81b7-459c-a183-b379b0bf7c9c .ci .reactive.active{stroke-width:1.5}#chart-f17ccbfc-81b7-459c-a183-b379b0bf7c9c .series text{fill:rgba(0,0,0,1)}#chart-f17ccbfc-81b7-459c-a183-b379b0bf7c9c .tooltip rect{fill:rgba(255,255,255,1);stroke:rgba(0,0,0,1);-webkit-transition:opacity 150ms;-moz-transition:opacity 150ms;transition:opacity 150ms}#chart-f17ccbfc-81b7-459c-a183-b379b0bf7c9c .tooltip .label{fill:rgba(0,0,0,.87)}#chart-f17ccbfc-81b7-459c-a183-b379b0bf7c9c .tooltip .label{fill:rgba(0,0,0,.87)}#chart-f17ccbfc-81b7-459c-a183-b379b0bf7c9c .tooltip .legend{font-size:.8em;fill:rgba(0,0,0,.54)}#chart-f17ccbfc-81b7-459c-a183-b379b0bf7c9c .tooltip .x_label{font-size:.6em;fill:rgba(0,0,0,1)}#chart-f17ccbfc-81b7-459c-a183-b379b0bf7c9c .tooltip .xlink{font-size:.5em;text-decoration:underline}#chart-f17ccbfc-81b7-459c-a183-b379b0bf7c9c .tooltip .value{font-size:1.5em}#chart-f17ccbfc-81b7-459c-a183-b379b0bf7c9c .bound{font-size:.5em}#chart-f17ccbfc-81b7-459c-a183-b379b0bf7c9c .max-value{font-size:.75em;fill:rgba(0,0,0,.54)}#chart-f17ccbfc-81b7-459c-a183-b379b0bf7c9c .map-element{fill:rgba(255,255,255,1);stroke:rgba(0,0,0,.54) !important}#chart-f17ccbfc-81b7-459c-a183-b379b0bf7c9c .map-element .reactive{fill-opacity:inherit;stroke-opacity:inherit}#chart-f17ccbfc-81b7-459c-a183-b379b0bf7c9c .color-0,#chart-f17ccbfc-81b7-459c-a183-b379b0bf7c9c .color-0 a:visited{stroke:#F44336;fill:#F44336}#chart-f17ccbfc-81b7-459c-a183-b379b0bf7c9c .text-overlay .color-0 text{fill:black}\n",
       "#chart-f17ccbfc-81b7-459c-a183-b379b0bf7c9c text.no_data{text-anchor:middle}#chart-f17ccbfc-81b7-459c-a183-b379b0bf7c9c .guide.line{fill:none}#chart-f17ccbfc-81b7-459c-a183-b379b0bf7c9c .centered{text-anchor:middle}#chart-f17ccbfc-81b7-459c-a183-b379b0bf7c9c .title{text-anchor:middle}#chart-f17ccbfc-81b7-459c-a183-b379b0bf7c9c .legends .legend text{fill-opacity:1}#chart-f17ccbfc-81b7-459c-a183-b379b0bf7c9c .axis.x text{text-anchor:middle}#chart-f17ccbfc-81b7-459c-a183-b379b0bf7c9c .axis.x:not(.web) text[transform]{text-anchor:start}#chart-f17ccbfc-81b7-459c-a183-b379b0bf7c9c .axis.x:not(.web) text[transform].backwards{text-anchor:end}#chart-f17ccbfc-81b7-459c-a183-b379b0bf7c9c .axis.y text{text-anchor:end}#chart-f17ccbfc-81b7-459c-a183-b379b0bf7c9c .axis.y text[transform].backwards{text-anchor:start}#chart-f17ccbfc-81b7-459c-a183-b379b0bf7c9c .axis.y2 text{text-anchor:start}#chart-f17ccbfc-81b7-459c-a183-b379b0bf7c9c .axis.y2 text[transform].backwards{text-anchor:end}#chart-f17ccbfc-81b7-459c-a183-b379b0bf7c9c .axis .guide.line{stroke-dasharray:4,4}#chart-f17ccbfc-81b7-459c-a183-b379b0bf7c9c .axis .major.guide.line{stroke-dasharray:6,6}#chart-f17ccbfc-81b7-459c-a183-b379b0bf7c9c .horizontal .axis.y .guide.line,#chart-f17ccbfc-81b7-459c-a183-b379b0bf7c9c .horizontal .axis.y2 .guide.line,#chart-f17ccbfc-81b7-459c-a183-b379b0bf7c9c .vertical .axis.x .guide.line{opacity:0}#chart-f17ccbfc-81b7-459c-a183-b379b0bf7c9c .horizontal .axis.always_show .guide.line,#chart-f17ccbfc-81b7-459c-a183-b379b0bf7c9c .vertical .axis.always_show .guide.line{opacity:1 !important}#chart-f17ccbfc-81b7-459c-a183-b379b0bf7c9c .axis.y .guides:hover .guide.line,#chart-f17ccbfc-81b7-459c-a183-b379b0bf7c9c .axis.y2 .guides:hover .guide.line,#chart-f17ccbfc-81b7-459c-a183-b379b0bf7c9c .axis.x .guides:hover .guide.line{opacity:1}#chart-f17ccbfc-81b7-459c-a183-b379b0bf7c9c .axis .guides:hover text{opacity:1}#chart-f17ccbfc-81b7-459c-a183-b379b0bf7c9c .nofill{fill:none}#chart-f17ccbfc-81b7-459c-a183-b379b0bf7c9c .subtle-fill{fill-opacity:.2}#chart-f17ccbfc-81b7-459c-a183-b379b0bf7c9c .dot{stroke-width:1px;fill-opacity:1}#chart-f17ccbfc-81b7-459c-a183-b379b0bf7c9c .dot.active{stroke-width:5px}#chart-f17ccbfc-81b7-459c-a183-b379b0bf7c9c .dot.negative{fill:transparent}#chart-f17ccbfc-81b7-459c-a183-b379b0bf7c9c text,#chart-f17ccbfc-81b7-459c-a183-b379b0bf7c9c tspan{stroke:none !important}#chart-f17ccbfc-81b7-459c-a183-b379b0bf7c9c .series text.active{opacity:1}#chart-f17ccbfc-81b7-459c-a183-b379b0bf7c9c .tooltip rect{fill-opacity:.95;stroke-width:.5}#chart-f17ccbfc-81b7-459c-a183-b379b0bf7c9c .tooltip text{fill-opacity:1}#chart-f17ccbfc-81b7-459c-a183-b379b0bf7c9c .showable{visibility:hidden}#chart-f17ccbfc-81b7-459c-a183-b379b0bf7c9c .showable.shown{visibility:visible}#chart-f17ccbfc-81b7-459c-a183-b379b0bf7c9c .gauge-background{fill:rgba(229,229,229,1);stroke:none}#chart-f17ccbfc-81b7-459c-a183-b379b0bf7c9c .bg-lines{stroke:rgba(249,249,249,1);stroke-width:2px}</style><script type=\"text/javascript\">window.pygal = window.pygal || {};window.pygal.config = window.pygal.config || {};window.pygal.config['f17ccbfc-81b7-459c-a183-b379b0bf7c9c'] = {\"allow_interruptions\": false, \"box_mode\": \"extremes\", \"classes\": [\"pygal-chart\"], \"css\": [\"file://style.css\", \"file://graph.css\"], \"defs\": [], \"disable_xml_declaration\": false, \"dots_size\": 2.5, \"dynamic_print_values\": false, \"explicit_size\": true, \"fill\": false, \"force_uri_protocol\": \"https\", \"formatter\": null, \"half_pie\": false, \"height\": 360, \"include_x_axis\": false, \"inner_radius\": 0, \"interpolate\": null, \"interpolation_parameters\": {}, \"interpolation_precision\": 250, \"inverse_y_axis\": false, \"js\": [\"//kozea.github.io/pygal.js/2.0.x/pygal-tooltips.min.js\"], \"legend_at_bottom\": false, \"legend_at_bottom_columns\": null, \"legend_box_size\": 12, \"logarithmic\": false, \"margin\": 20, \"margin_bottom\": null, \"margin_left\": null, \"margin_right\": null, \"margin_top\": null, \"max_scale\": 16, \"min_scale\": 4, \"missing_value_fill_truncation\": \"x\", \"no_data_text\": \"No data\", \"no_prefix\": false, \"order_min\": null, \"pretty_print\": false, \"print_labels\": false, \"print_values\": false, \"print_values_position\": \"center\", \"print_zeroes\": true, \"range\": null, \"rounded_bars\": null, \"secondary_range\": null, \"show_dots\": true, \"show_legend\": true, \"show_minor_x_labels\": true, \"show_minor_y_labels\": true, \"show_only_major_dots\": false, \"show_x_guides\": false, \"show_x_labels\": true, \"show_y_guides\": true, \"show_y_labels\": true, \"spacing\": 10, \"stack_from_top\": false, \"strict\": false, \"stroke\": true, \"stroke_style\": null, \"style\": {\"background\": \"rgba(249, 249, 249, 1)\", \"ci_colors\": [], \"colors\": [\"#F44336\", \"#3F51B5\", \"#009688\", \"#FFC107\", \"#FF5722\", \"#9C27B0\", \"#03A9F4\", \"#8BC34A\", \"#FF9800\", \"#E91E63\", \"#2196F3\", \"#4CAF50\", \"#FFEB3B\", \"#673AB7\", \"#00BCD4\", \"#CDDC39\", \"#9E9E9E\", \"#607D8B\"], \"font_family\": \"Consolas, \\\"Liberation Mono\\\", Menlo, Courier, monospace\", \"foreground\": \"rgba(0, 0, 0, .87)\", \"foreground_strong\": \"rgba(0, 0, 0, 1)\", \"foreground_subtle\": \"rgba(0, 0, 0, .54)\", \"guide_stroke_dasharray\": \"4,4\", \"label_font_family\": \"Consolas, \\\"Liberation Mono\\\", Menlo, Courier, monospace\", \"label_font_size\": 10, \"legend_font_family\": \"Consolas, \\\"Liberation Mono\\\", Menlo, Courier, monospace\", \"legend_font_size\": 14, \"major_guide_stroke_dasharray\": \"6,6\", \"major_label_font_family\": \"Consolas, \\\"Liberation Mono\\\", Menlo, Courier, monospace\", \"major_label_font_size\": 10, \"no_data_font_family\": \"Consolas, \\\"Liberation Mono\\\", Menlo, Courier, monospace\", \"no_data_font_size\": 64, \"opacity\": \".7\", \"opacity_hover\": \".8\", \"plot_background\": \"rgba(255, 255, 255, 1)\", \"stroke_opacity\": \".8\", \"stroke_opacity_hover\": \".9\", \"title_font_family\": \"Consolas, \\\"Liberation Mono\\\", Menlo, Courier, monospace\", \"title_font_size\": 16, \"tooltip_font_family\": \"Consolas, \\\"Liberation Mono\\\", Menlo, Courier, monospace\", \"tooltip_font_size\": 14, \"transition\": \"150ms\", \"value_background\": \"rgba(229, 229, 229, 1)\", \"value_colors\": [], \"value_font_family\": \"Consolas, \\\"Liberation Mono\\\", Menlo, Courier, monospace\", \"value_font_size\": 16, \"value_label_font_family\": \"Consolas, \\\"Liberation Mono\\\", Menlo, Courier, monospace\", \"value_label_font_size\": 10}, \"title\": null, \"tooltip_border_radius\": 0, \"tooltip_fancy_mode\": true, \"truncate_label\": -1, \"truncate_legend\": null, \"width\": 640, \"x_label_rotation\": 0, \"x_labels\": null, \"x_labels_major\": null, \"x_labels_major_count\": null, \"x_labels_major_every\": null, \"x_title\": null, \"xrange\": null, \"y_label_rotation\": 0, \"y_labels\": null, \"y_labels_major\": null, \"y_labels_major_count\": null, \"y_labels_major_every\": null, \"y_title\": null, \"zero\": 0, \"legends\": [\"Sales\"]}</script><script type=\"text/javascript\" xlink:href=\"https://kozea.github.io/pygal.js/2.0.x/pygal-tooltips.min.js\"/></defs><title>Pygal</title><g class=\"graph datetimeline-graph vertical\"><rect class=\"background\" height=\"360\" width=\"640\" x=\"0\" y=\"0\"/><g class=\"plot\" transform=\"translate(112, 20)\"><rect class=\"background\" height=\"300\" width=\"508.0\" x=\"0\" y=\"0\"/><g class=\"axis y always_show\"><path class=\"line\" d=\"M0.000000 300.000000 h508.000000\"/><g class=\"guides\"><path class=\"guide line\" d=\"M0.000000 268.581936 h508.000000\"/><text class=\"\" x=\"-5\" y=\"272.0819357256629\">200</text><title>200</title></g><g class=\"guides\"><path class=\"guide line\" d=\"M0.000000 233.446547 h508.000000\"/><text class=\"\" x=\"-5\" y=\"236.9465473625035\">300</text><title>300</title></g><g class=\"guides\"><path class=\"guide line\" d=\"M0.000000 198.311159 h508.000000\"/><text class=\"\" x=\"-5\" y=\"201.81115899934412\">400</text><title>400</title></g><g class=\"guides\"><path class=\"major guide line\" d=\"M0.000000 163.175771 h508.000000\"/><text class=\"major\" x=\"-5\" y=\"166.67577063618475\">500</text><title>500</title></g><g class=\"guides\"><path class=\"guide line\" d=\"M0.000000 128.040382 h508.000000\"/><text class=\"\" x=\"-5\" y=\"131.5403822730254\">600</text><title>600</title></g><g class=\"guides\"><path class=\"guide line\" d=\"M0.000000 92.904994 h508.000000\"/><text class=\"\" x=\"-5\" y=\"96.404993909866\">700</text><title>700</title></g><g class=\"guides\"><path class=\"guide line\" d=\"M0.000000 57.769606 h508.000000\"/><text class=\"\" x=\"-5\" y=\"61.26960554670663\">800</text><title>800</title></g><g class=\"guides\"><path class=\"guide line\" d=\"M0.000000 22.634217 h508.000000\"/><text class=\"\" x=\"-5\" y=\"26.134217183547264\">900</text><title>900</title></g></g><g class=\"axis x\"><path class=\"line\" d=\"M0.000000 0.000000 v300.000000\"/><g class=\"guides\"><path class=\"guide line\" d=\"M39.338560 0.000000 v300.000000\"/><text class=\"\" x=\"39.33856028875949\" y=\"315.0\">2007-07-05T01:46:40</text><title>2007-07-05T01:46:40</title></g><g class=\"guides\"><path class=\"guide line\" d=\"M93.395835 0.000000 v300.000000\"/><text class=\"\" x=\"93.39583546157252\" y=\"315.0\">2007-07-09T16:53:20</text><title>2007-07-09T16:53:20</title></g><g class=\"guides\"><path class=\"guide line\" d=\"M147.453111 0.000000 v300.000000\"/><text class=\"\" x=\"147.45311063438552\" y=\"315.0\">2007-07-14T08:00:00</text><title>2007-07-14T08:00:00</title></g><g class=\"guides\"><path class=\"guide line\" d=\"M201.510386 0.000000 v300.000000\"/><text class=\"\" x=\"201.51038580719856\" y=\"315.0\">2007-07-18T23:06:40</text><title>2007-07-18T23:06:40</title></g><g class=\"guides\"><path class=\"guide line\" d=\"M255.567661 0.000000 v300.000000\"/><text class=\"\" x=\"255.56766098001157\" y=\"315.0\">2007-07-23T14:13:20</text><title>2007-07-23T14:13:20</title></g><g class=\"guides\"><path class=\"guide line\" d=\"M309.624936 0.000000 v300.000000\"/><text class=\"\" x=\"309.6249361528246\" y=\"315.0\">2007-07-28T05:20:00</text><title>2007-07-28T05:20:00</title></g><g class=\"guides\"><path class=\"guide line\" d=\"M363.682211 0.000000 v300.000000\"/><text class=\"\" x=\"363.68221132563764\" y=\"315.0\">2007-08-01T20:26:40</text><title>2007-08-01T20:26:40</title></g><g class=\"guides\"><path class=\"guide line\" d=\"M417.739486 0.000000 v300.000000\"/><text class=\"\" x=\"417.7394864984506\" y=\"315.0\">2007-08-06T11:33:20</text><title>2007-08-06T11:33:20</title></g><g class=\"guides\"><path class=\"guide line\" d=\"M471.796762 0.000000 v300.000000\"/><text class=\"\" x=\"471.79676167126365\" y=\"315.0\">2007-08-11T02:40:00</text><title>2007-08-11T02:40:00</title></g></g><g class=\"series serie-0 color-0\"><path class=\"line reactive nofill\" d=\"M9.769231 268.581936 L173.502636 294.230769 337.036705 198.311159 498.230769 5.769231\"/></g></g><g class=\"titles\"/><g class=\"plot overlay\" transform=\"translate(112, 20)\"><g class=\"series serie-0 color-0\"><g class=\"dots\"><circle class=\"dot reactive tooltip-trigger\" cx=\"9.76923076923077\" cy=\"268.5819357256629\" r=\"2.5\"/><desc class=\"value\">2007-07-02T13:00:00: 200</desc><desc class=\"x top\">9.76923076923077</desc><desc class=\"y top\">268.5819357256629</desc></g><g class=\"dots\"><circle class=\"dot reactive tooltip-trigger\" cx=\"173.50263582422446\" cy=\"294.2307692307692\" r=\"2.5\"/><desc class=\"value\">2007-07-16T13:32:35: 127</desc><desc class=\"x top\">173.50263582422446</desc><desc class=\"y top\">294.2307692307692</desc></g><g class=\"dots\"><circle class=\"dot reactive tooltip-trigger\" cx=\"337.0367046770184\" cy=\"198.31115899934412\" r=\"2.5\"/><desc class=\"value\">2007-07-30T13:40:35: 400</desc><desc class=\"x left top\">337.0367046770184</desc><desc class=\"y left top\">198.31115899934412</desc></g><g class=\"dots\"><circle class=\"dot reactive tooltip-trigger\" cx=\"498.2307692307692\" cy=\"5.769230769230717\" r=\"2.5\"/><desc class=\"value\">2007-08-13T09:00:00: 948</desc><desc class=\"x left\">498.2307692307692</desc><desc class=\"y left\">5.769230769230717</desc></g></g></g><g class=\"plot text-overlay\" transform=\"translate(112, 20)\"><g class=\"series serie-0 color-0\"/></g><g class=\"plot tooltip-overlay\" transform=\"translate(112, 20)\"><g class=\"tooltip\" style=\"opacity: 0\" transform=\"translate(0 0)\"><rect class=\"tooltip-box\" height=\"0\" rx=\"0\" ry=\"0\" width=\"0\"/><g class=\"text\"/></g></g><g class=\"legends\" transform=\"translate(10, 30)\"><g class=\"legend reactive activate-serie\" id=\"activate-serie-0\"><rect class=\"color-0 reactive\" height=\"12\" width=\"12\" x=\"0.0\" y=\"1.0\"/><text x=\"17.0\" y=\"11.2\">Sales</text></g></g><g class=\"legends\" transform=\"translate(630, 30)\"/></g></svg>\n",
       "    </figure>\n",
       "  </body>\n",
       "</html>\n"
      ],
      "text/plain": [
       "<IPython.core.display.HTML object>"
      ]
     },
     "metadata": {},
     "output_type": "display_data"
    }
   ],
   "source": [
    "timeline_plot.add('Sales', \n",
    "                  [(datetime(2007, 7, 2, 13, 0), 200),\n",
    "                   (datetime(2007, 7, 16, 13, 32, 35), 127),\n",
    "                   (datetime(2007, 7, 30, 13, 40, 35), 400),\n",
    "                   (datetime(2007, 8, 13, 9), 948),\n",
    "                  ])\n",
    "\n",
    "display_chart(timeline_plot)"
   ]
  },
  {
   "cell_type": "markdown",
   "metadata": {},
   "source": [
    "After the **truncate_label** is disabled, **x_labels** are cluttered. Let's fix it.\n",
    "\n",
    "##### Rotate the labels by some degrees using x_label_rotation parameter"
   ]
  },
  {
   "cell_type": "code",
   "execution_count": 9,
   "metadata": {
    "collapsed": true
   },
   "outputs": [],
   "source": [
    "timeline_plot = pygal.DateTimeLine(width = 640,\n",
    "                                   height = 360,\n",
    "                                   explicit_size = True,\n",
    "                                   truncate_label=-1,\n",
    "                                   x_label_rotation=35)"
   ]
  },
  {
   "cell_type": "code",
   "execution_count": 10,
   "metadata": {},
   "outputs": [
    {
     "data": {
      "text/html": [
       "\n",
       "<!DOCTYPE html>\n",
       "<html>\n",
       "  <head>\n",
       "  <script type=\"text/javascript\" \n",
       "          src=\"http://kozea.github.com/pygal.js/javascripts/svg.jquery.js\">\n",
       "  </script>\n",
       "  <script type=\"text/javascript\" \n",
       "          src=\"https://kozea.github.io/pygal.js/2.0.x/pygal-tooltips.min.js\"\">\n",
       "  </script>\n",
       "  </head>\n",
       "  <body>\n",
       "    <figure>\n",
       "      <?xml version='1.0' encoding='utf-8'?>\n",
       "<svg xmlns:xlink=\"http://www.w3.org/1999/xlink\" xmlns=\"http://www.w3.org/2000/svg\" id=\"chart-a255cfc9-e822-4792-b86e-603a79c7fabd\" class=\"pygal-chart\" viewBox=\"0 0 640 360\" width=\"640\" height=\"360\"><!--Generated with pygal 2.4.0 (lxml) ©Kozea 2012-2016 on 2019-02-03--><!--http://pygal.org--><!--http://github.com/Kozea/pygal--><defs><style type=\"text/css\">#chart-a255cfc9-e822-4792-b86e-603a79c7fabd{-webkit-user-select:none;-webkit-font-smoothing:antialiased;font-family:Consolas,\"Liberation Mono\",Menlo,Courier,monospace}#chart-a255cfc9-e822-4792-b86e-603a79c7fabd .title{font-family:Consolas,\"Liberation Mono\",Menlo,Courier,monospace;font-size:16px}#chart-a255cfc9-e822-4792-b86e-603a79c7fabd .legends .legend text{font-family:Consolas,\"Liberation Mono\",Menlo,Courier,monospace;font-size:14px}#chart-a255cfc9-e822-4792-b86e-603a79c7fabd .axis text{font-family:Consolas,\"Liberation Mono\",Menlo,Courier,monospace;font-size:10px}#chart-a255cfc9-e822-4792-b86e-603a79c7fabd .axis text.major{font-family:Consolas,\"Liberation Mono\",Menlo,Courier,monospace;font-size:10px}#chart-a255cfc9-e822-4792-b86e-603a79c7fabd .text-overlay text.value{font-family:Consolas,\"Liberation Mono\",Menlo,Courier,monospace;font-size:16px}#chart-a255cfc9-e822-4792-b86e-603a79c7fabd .text-overlay text.label{font-family:Consolas,\"Liberation Mono\",Menlo,Courier,monospace;font-size:10px}#chart-a255cfc9-e822-4792-b86e-603a79c7fabd .tooltip{font-family:Consolas,\"Liberation Mono\",Menlo,Courier,monospace;font-size:14px}#chart-a255cfc9-e822-4792-b86e-603a79c7fabd text.no_data{font-family:Consolas,\"Liberation Mono\",Menlo,Courier,monospace;font-size:64px}\n",
       "#chart-a255cfc9-e822-4792-b86e-603a79c7fabd{background-color:rgba(249,249,249,1)}#chart-a255cfc9-e822-4792-b86e-603a79c7fabd path,#chart-a255cfc9-e822-4792-b86e-603a79c7fabd line,#chart-a255cfc9-e822-4792-b86e-603a79c7fabd rect,#chart-a255cfc9-e822-4792-b86e-603a79c7fabd circle{-webkit-transition:150ms;-moz-transition:150ms;transition:150ms}#chart-a255cfc9-e822-4792-b86e-603a79c7fabd .graph &gt; .background{fill:rgba(249,249,249,1)}#chart-a255cfc9-e822-4792-b86e-603a79c7fabd .plot &gt; .background{fill:rgba(255,255,255,1)}#chart-a255cfc9-e822-4792-b86e-603a79c7fabd .graph{fill:rgba(0,0,0,.87)}#chart-a255cfc9-e822-4792-b86e-603a79c7fabd text.no_data{fill:rgba(0,0,0,1)}#chart-a255cfc9-e822-4792-b86e-603a79c7fabd .title{fill:rgba(0,0,0,1)}#chart-a255cfc9-e822-4792-b86e-603a79c7fabd .legends .legend text{fill:rgba(0,0,0,.87)}#chart-a255cfc9-e822-4792-b86e-603a79c7fabd .legends .legend:hover text{fill:rgba(0,0,0,1)}#chart-a255cfc9-e822-4792-b86e-603a79c7fabd .axis .line{stroke:rgba(0,0,0,1)}#chart-a255cfc9-e822-4792-b86e-603a79c7fabd .axis .guide.line{stroke:rgba(0,0,0,.54)}#chart-a255cfc9-e822-4792-b86e-603a79c7fabd .axis .major.line{stroke:rgba(0,0,0,.87)}#chart-a255cfc9-e822-4792-b86e-603a79c7fabd .axis text.major{fill:rgba(0,0,0,1)}#chart-a255cfc9-e822-4792-b86e-603a79c7fabd .axis.y .guides:hover .guide.line,#chart-a255cfc9-e822-4792-b86e-603a79c7fabd .line-graph .axis.x .guides:hover .guide.line,#chart-a255cfc9-e822-4792-b86e-603a79c7fabd .stackedline-graph .axis.x .guides:hover .guide.line,#chart-a255cfc9-e822-4792-b86e-603a79c7fabd .xy-graph .axis.x .guides:hover .guide.line{stroke:rgba(0,0,0,1)}#chart-a255cfc9-e822-4792-b86e-603a79c7fabd .axis .guides:hover text{fill:rgba(0,0,0,1)}#chart-a255cfc9-e822-4792-b86e-603a79c7fabd .reactive{fill-opacity:.7;stroke-opacity:.8}#chart-a255cfc9-e822-4792-b86e-603a79c7fabd .ci{stroke:rgba(0,0,0,.87)}#chart-a255cfc9-e822-4792-b86e-603a79c7fabd .reactive.active,#chart-a255cfc9-e822-4792-b86e-603a79c7fabd .active .reactive{fill-opacity:.8;stroke-opacity:.9;stroke-width:4}#chart-a255cfc9-e822-4792-b86e-603a79c7fabd .ci .reactive.active{stroke-width:1.5}#chart-a255cfc9-e822-4792-b86e-603a79c7fabd .series text{fill:rgba(0,0,0,1)}#chart-a255cfc9-e822-4792-b86e-603a79c7fabd .tooltip rect{fill:rgba(255,255,255,1);stroke:rgba(0,0,0,1);-webkit-transition:opacity 150ms;-moz-transition:opacity 150ms;transition:opacity 150ms}#chart-a255cfc9-e822-4792-b86e-603a79c7fabd .tooltip .label{fill:rgba(0,0,0,.87)}#chart-a255cfc9-e822-4792-b86e-603a79c7fabd .tooltip .label{fill:rgba(0,0,0,.87)}#chart-a255cfc9-e822-4792-b86e-603a79c7fabd .tooltip .legend{font-size:.8em;fill:rgba(0,0,0,.54)}#chart-a255cfc9-e822-4792-b86e-603a79c7fabd .tooltip .x_label{font-size:.6em;fill:rgba(0,0,0,1)}#chart-a255cfc9-e822-4792-b86e-603a79c7fabd .tooltip .xlink{font-size:.5em;text-decoration:underline}#chart-a255cfc9-e822-4792-b86e-603a79c7fabd .tooltip .value{font-size:1.5em}#chart-a255cfc9-e822-4792-b86e-603a79c7fabd .bound{font-size:.5em}#chart-a255cfc9-e822-4792-b86e-603a79c7fabd .max-value{font-size:.75em;fill:rgba(0,0,0,.54)}#chart-a255cfc9-e822-4792-b86e-603a79c7fabd .map-element{fill:rgba(255,255,255,1);stroke:rgba(0,0,0,.54) !important}#chart-a255cfc9-e822-4792-b86e-603a79c7fabd .map-element .reactive{fill-opacity:inherit;stroke-opacity:inherit}#chart-a255cfc9-e822-4792-b86e-603a79c7fabd .color-0,#chart-a255cfc9-e822-4792-b86e-603a79c7fabd .color-0 a:visited{stroke:#F44336;fill:#F44336}#chart-a255cfc9-e822-4792-b86e-603a79c7fabd .text-overlay .color-0 text{fill:black}\n",
       "#chart-a255cfc9-e822-4792-b86e-603a79c7fabd text.no_data{text-anchor:middle}#chart-a255cfc9-e822-4792-b86e-603a79c7fabd .guide.line{fill:none}#chart-a255cfc9-e822-4792-b86e-603a79c7fabd .centered{text-anchor:middle}#chart-a255cfc9-e822-4792-b86e-603a79c7fabd .title{text-anchor:middle}#chart-a255cfc9-e822-4792-b86e-603a79c7fabd .legends .legend text{fill-opacity:1}#chart-a255cfc9-e822-4792-b86e-603a79c7fabd .axis.x text{text-anchor:middle}#chart-a255cfc9-e822-4792-b86e-603a79c7fabd .axis.x:not(.web) text[transform]{text-anchor:start}#chart-a255cfc9-e822-4792-b86e-603a79c7fabd .axis.x:not(.web) text[transform].backwards{text-anchor:end}#chart-a255cfc9-e822-4792-b86e-603a79c7fabd .axis.y text{text-anchor:end}#chart-a255cfc9-e822-4792-b86e-603a79c7fabd .axis.y text[transform].backwards{text-anchor:start}#chart-a255cfc9-e822-4792-b86e-603a79c7fabd .axis.y2 text{text-anchor:start}#chart-a255cfc9-e822-4792-b86e-603a79c7fabd .axis.y2 text[transform].backwards{text-anchor:end}#chart-a255cfc9-e822-4792-b86e-603a79c7fabd .axis .guide.line{stroke-dasharray:4,4}#chart-a255cfc9-e822-4792-b86e-603a79c7fabd .axis .major.guide.line{stroke-dasharray:6,6}#chart-a255cfc9-e822-4792-b86e-603a79c7fabd .horizontal .axis.y .guide.line,#chart-a255cfc9-e822-4792-b86e-603a79c7fabd .horizontal .axis.y2 .guide.line,#chart-a255cfc9-e822-4792-b86e-603a79c7fabd .vertical .axis.x .guide.line{opacity:0}#chart-a255cfc9-e822-4792-b86e-603a79c7fabd .horizontal .axis.always_show .guide.line,#chart-a255cfc9-e822-4792-b86e-603a79c7fabd .vertical .axis.always_show .guide.line{opacity:1 !important}#chart-a255cfc9-e822-4792-b86e-603a79c7fabd .axis.y .guides:hover .guide.line,#chart-a255cfc9-e822-4792-b86e-603a79c7fabd .axis.y2 .guides:hover .guide.line,#chart-a255cfc9-e822-4792-b86e-603a79c7fabd .axis.x .guides:hover .guide.line{opacity:1}#chart-a255cfc9-e822-4792-b86e-603a79c7fabd .axis .guides:hover text{opacity:1}#chart-a255cfc9-e822-4792-b86e-603a79c7fabd .nofill{fill:none}#chart-a255cfc9-e822-4792-b86e-603a79c7fabd .subtle-fill{fill-opacity:.2}#chart-a255cfc9-e822-4792-b86e-603a79c7fabd .dot{stroke-width:1px;fill-opacity:1}#chart-a255cfc9-e822-4792-b86e-603a79c7fabd .dot.active{stroke-width:5px}#chart-a255cfc9-e822-4792-b86e-603a79c7fabd .dot.negative{fill:transparent}#chart-a255cfc9-e822-4792-b86e-603a79c7fabd text,#chart-a255cfc9-e822-4792-b86e-603a79c7fabd tspan{stroke:none !important}#chart-a255cfc9-e822-4792-b86e-603a79c7fabd .series text.active{opacity:1}#chart-a255cfc9-e822-4792-b86e-603a79c7fabd .tooltip rect{fill-opacity:.95;stroke-width:.5}#chart-a255cfc9-e822-4792-b86e-603a79c7fabd .tooltip text{fill-opacity:1}#chart-a255cfc9-e822-4792-b86e-603a79c7fabd .showable{visibility:hidden}#chart-a255cfc9-e822-4792-b86e-603a79c7fabd .showable.shown{visibility:visible}#chart-a255cfc9-e822-4792-b86e-603a79c7fabd .gauge-background{fill:rgba(229,229,229,1);stroke:none}#chart-a255cfc9-e822-4792-b86e-603a79c7fabd .bg-lines{stroke:rgba(249,249,249,1);stroke-width:2px}</style><script type=\"text/javascript\">window.pygal = window.pygal || {};window.pygal.config = window.pygal.config || {};window.pygal.config['a255cfc9-e822-4792-b86e-603a79c7fabd'] = {\"allow_interruptions\": false, \"box_mode\": \"extremes\", \"classes\": [\"pygal-chart\"], \"css\": [\"file://style.css\", \"file://graph.css\"], \"defs\": [], \"disable_xml_declaration\": false, \"dots_size\": 2.5, \"dynamic_print_values\": false, \"explicit_size\": true, \"fill\": false, \"force_uri_protocol\": \"https\", \"formatter\": null, \"half_pie\": false, \"height\": 360, \"include_x_axis\": false, \"inner_radius\": 0, \"interpolate\": null, \"interpolation_parameters\": {}, \"interpolation_precision\": 250, \"inverse_y_axis\": false, \"js\": [\"//kozea.github.io/pygal.js/2.0.x/pygal-tooltips.min.js\"], \"legend_at_bottom\": false, \"legend_at_bottom_columns\": null, \"legend_box_size\": 12, \"logarithmic\": false, \"margin\": 20, \"margin_bottom\": null, \"margin_left\": null, \"margin_right\": null, \"margin_top\": null, \"max_scale\": 16, \"min_scale\": 4, \"missing_value_fill_truncation\": \"x\", \"no_data_text\": \"No data\", \"no_prefix\": false, \"order_min\": null, \"pretty_print\": false, \"print_labels\": false, \"print_values\": false, \"print_values_position\": \"center\", \"print_zeroes\": true, \"range\": null, \"rounded_bars\": null, \"secondary_range\": null, \"show_dots\": true, \"show_legend\": true, \"show_minor_x_labels\": true, \"show_minor_y_labels\": true, \"show_only_major_dots\": false, \"show_x_guides\": false, \"show_x_labels\": true, \"show_y_guides\": true, \"show_y_labels\": true, \"spacing\": 10, \"stack_from_top\": false, \"strict\": false, \"stroke\": true, \"stroke_style\": null, \"style\": {\"background\": \"rgba(249, 249, 249, 1)\", \"ci_colors\": [], \"colors\": [\"#F44336\", \"#3F51B5\", \"#009688\", \"#FFC107\", \"#FF5722\", \"#9C27B0\", \"#03A9F4\", \"#8BC34A\", \"#FF9800\", \"#E91E63\", \"#2196F3\", \"#4CAF50\", \"#FFEB3B\", \"#673AB7\", \"#00BCD4\", \"#CDDC39\", \"#9E9E9E\", \"#607D8B\"], \"font_family\": \"Consolas, \\\"Liberation Mono\\\", Menlo, Courier, monospace\", \"foreground\": \"rgba(0, 0, 0, .87)\", \"foreground_strong\": \"rgba(0, 0, 0, 1)\", \"foreground_subtle\": \"rgba(0, 0, 0, .54)\", \"guide_stroke_dasharray\": \"4,4\", \"label_font_family\": \"Consolas, \\\"Liberation Mono\\\", Menlo, Courier, monospace\", \"label_font_size\": 10, \"legend_font_family\": \"Consolas, \\\"Liberation Mono\\\", Menlo, Courier, monospace\", \"legend_font_size\": 14, \"major_guide_stroke_dasharray\": \"6,6\", \"major_label_font_family\": \"Consolas, \\\"Liberation Mono\\\", Menlo, Courier, monospace\", \"major_label_font_size\": 10, \"no_data_font_family\": \"Consolas, \\\"Liberation Mono\\\", Menlo, Courier, monospace\", \"no_data_font_size\": 64, \"opacity\": \".7\", \"opacity_hover\": \".8\", \"plot_background\": \"rgba(255, 255, 255, 1)\", \"stroke_opacity\": \".8\", \"stroke_opacity_hover\": \".9\", \"title_font_family\": \"Consolas, \\\"Liberation Mono\\\", Menlo, Courier, monospace\", \"title_font_size\": 16, \"tooltip_font_family\": \"Consolas, \\\"Liberation Mono\\\", Menlo, Courier, monospace\", \"tooltip_font_size\": 14, \"transition\": \"150ms\", \"value_background\": \"rgba(229, 229, 229, 1)\", \"value_colors\": [], \"value_font_family\": \"Consolas, \\\"Liberation Mono\\\", Menlo, Courier, monospace\", \"value_font_size\": 16, \"value_label_font_family\": \"Consolas, \\\"Liberation Mono\\\", Menlo, Courier, monospace\", \"value_label_font_size\": 10}, \"title\": null, \"tooltip_border_radius\": 0, \"tooltip_fancy_mode\": true, \"truncate_label\": -1, \"truncate_legend\": null, \"width\": 640, \"x_label_rotation\": 35, \"x_labels\": null, \"x_labels_major\": null, \"x_labels_major_count\": null, \"x_labels_major_every\": null, \"x_title\": null, \"xrange\": null, \"y_label_rotation\": 0, \"y_labels\": null, \"y_labels_major\": null, \"y_labels_major_count\": null, \"y_labels_major_every\": null, \"y_title\": null, \"zero\": 0, \"legends\": [\"Sales\"]}</script><script type=\"text/javascript\" xlink:href=\"https://kozea.github.io/pygal.js/2.0.x/pygal-tooltips.min.js\"/></defs><title>Pygal</title><g class=\"graph datetimeline-graph vertical\"><rect class=\"background\" height=\"360\" width=\"640\" x=\"0\" y=\"0\"/><g class=\"plot\" transform=\"translate(112, 20)\"><rect class=\"background\" height=\"244.61228625598073\" width=\"434.6166669510549\" x=\"0\" y=\"0\"/><g class=\"axis y always_show\"><path class=\"line\" d=\"M0.000000 244.612286 h434.616667\"/><g class=\"guides\"><path class=\"guide line\" d=\"M0.000000 218.994804 h434.616667\"/><text class=\"\" x=\"-5\" y=\"222.49480448303757\">200</text><title>200</title></g><g class=\"guides\"><path class=\"guide line\" d=\"M0.000000 190.346312 h434.616667\"/><text class=\"\" x=\"-5\" y=\"193.84631222969023\">300</text><title>300</title></g><g class=\"guides\"><path class=\"guide line\" d=\"M0.000000 161.697820 h434.616667\"/><text class=\"\" x=\"-5\" y=\"165.1978199763429\">400</text><title>400</title></g><g class=\"guides\"><path class=\"major guide line\" d=\"M0.000000 133.049328 h434.616667\"/><text class=\"major\" x=\"-5\" y=\"136.5493277229956\">500</text><title>500</title></g><g class=\"guides\"><path class=\"guide line\" d=\"M0.000000 104.400835 h434.616667\"/><text class=\"\" x=\"-5\" y=\"107.90083546964829\">600</text><title>600</title></g><g class=\"guides\"><path class=\"guide line\" d=\"M0.000000 75.752343 h434.616667\"/><text class=\"\" x=\"-5\" y=\"79.252343216301\">700</text><title>700</title></g><g class=\"guides\"><path class=\"guide line\" d=\"M0.000000 47.103851 h434.616667\"/><text class=\"\" x=\"-5\" y=\"50.60385096295366\">800</text><title>800</title></g><g class=\"guides\"><path class=\"guide line\" d=\"M0.000000 18.455359 h434.616667\"/><text class=\"\" x=\"-5\" y=\"21.955358709606344\">900</text><title>900</title></g></g><g class=\"axis x\"><path class=\"line\" d=\"M0.000000 0.000000 v244.612286\"/><g class=\"guides\"><path class=\"guide line\" d=\"M33.655894 0.000000 v244.612286\"/><text class=\"\" x=\"33.65589361290114\" y=\"259.61228625598073\" transform=\"rotate(35 33.655894 259.612286)\">2007-07-05T01:46:40</text><title>2007-07-05T01:46:40</title></g><g class=\"guides\"><path class=\"guide line\" d=\"M79.904305 0.000000 v244.612286\"/><text class=\"\" x=\"79.90430455790903\" y=\"259.61228625598073\" transform=\"rotate(35 79.904305 259.612286)\">2007-07-09T16:53:20</text><title>2007-07-09T16:53:20</title></g><g class=\"guides\"><path class=\"guide line\" d=\"M126.152716 0.000000 v244.612286\"/><text class=\"\" x=\"126.15271550291692\" y=\"259.61228625598073\" transform=\"rotate(35 126.152716 259.612286)\">2007-07-14T08:00:00</text><title>2007-07-14T08:00:00</title></g><g class=\"guides\"><path class=\"guide line\" d=\"M172.401126 0.000000 v244.612286\"/><text class=\"\" x=\"172.4011264479248\" y=\"259.61228625598073\" transform=\"rotate(35 172.401126 259.612286)\">2007-07-18T23:06:40</text><title>2007-07-18T23:06:40</title></g><g class=\"guides\"><path class=\"guide line\" d=\"M218.649537 0.000000 v244.612286\"/><text class=\"\" x=\"218.6495373929327\" y=\"259.61228625598073\" transform=\"rotate(35 218.649537 259.612286)\">2007-07-23T14:13:20</text><title>2007-07-23T14:13:20</title></g><g class=\"guides\"><path class=\"guide line\" d=\"M264.897948 0.000000 v244.612286\"/><text class=\"\" x=\"264.8979483379406\" y=\"259.61228625598073\" transform=\"rotate(35 264.897948 259.612286)\">2007-07-28T05:20:00</text><title>2007-07-28T05:20:00</title></g><g class=\"guides\"><path class=\"guide line\" d=\"M311.146359 0.000000 v244.612286\"/><text class=\"\" x=\"311.1463592829485\" y=\"259.61228625598073\" transform=\"rotate(35 311.146359 259.612286)\">2007-08-01T20:26:40</text><title>2007-08-01T20:26:40</title></g><g class=\"guides\"><path class=\"guide line\" d=\"M357.394770 0.000000 v244.612286\"/><text class=\"\" x=\"357.39477022795637\" y=\"259.61228625598073\" transform=\"rotate(35 357.394770 259.612286)\">2007-08-06T11:33:20</text><title>2007-08-06T11:33:20</title></g><g class=\"guides\"><path class=\"guide line\" d=\"M403.643181 0.000000 v244.612286\"/><text class=\"\" x=\"403.64318117296426\" y=\"259.61228625598073\" transform=\"rotate(35 403.643181 259.612286)\">2007-08-11T02:40:00</text><title>2007-08-11T02:40:00</title></g></g><g class=\"series serie-0 color-0\"><path class=\"line reactive nofill\" d=\"M8.358013 218.994804 L148.439247 239.908204 288.349939 161.697820 426.258654 4.704082\"/></g></g><g class=\"titles\"/><g class=\"plot overlay\" transform=\"translate(112, 20)\"><g class=\"series serie-0 color-0\"><g class=\"dots\"><circle class=\"dot reactive tooltip-trigger\" cx=\"8.358012825981826\" cy=\"218.99480448303757\" r=\"2.5\"/><desc class=\"value\">2007-07-02T13:00:00: 200</desc><desc class=\"x top\">8.358012825981826</desc><desc class=\"y top\">218.99480448303757</desc></g><g class=\"dots\"><circle class=\"dot reactive tooltip-trigger\" cx=\"148.4392466321794\" cy=\"239.9082038279811\" r=\"2.5\"/><desc class=\"value\">2007-07-16T13:32:35: 127</desc><desc class=\"x top\">148.4392466321794</desc><desc class=\"y top\">239.9082038279811</desc></g><g class=\"dots\"><circle class=\"dot reactive tooltip-trigger\" cx=\"288.34993942301725\" cy=\"161.6978199763429\" r=\"2.5\"/><desc class=\"value\">2007-07-30T13:40:35: 400</desc><desc class=\"x left top\">288.34993942301725</desc><desc class=\"y left top\">161.6978199763429</desc></g><g class=\"dots\"><circle class=\"dot reactive tooltip-trigger\" cx=\"426.2586541250731\" cy=\"4.704082427999623\" r=\"2.5\"/><desc class=\"value\">2007-08-13T09:00:00: 948</desc><desc class=\"x left\">426.2586541250731</desc><desc class=\"y left\">4.704082427999623</desc></g></g></g><g class=\"plot text-overlay\" transform=\"translate(112, 20)\"><g class=\"series serie-0 color-0\"/></g><g class=\"plot tooltip-overlay\" transform=\"translate(112, 20)\"><g class=\"tooltip\" style=\"opacity: 0\" transform=\"translate(0 0)\"><rect class=\"tooltip-box\" height=\"0\" rx=\"0\" ry=\"0\" width=\"0\"/><g class=\"text\"/></g></g><g class=\"legends\" transform=\"translate(10, 30)\"><g class=\"legend reactive activate-serie\" id=\"activate-serie-0\"><rect class=\"color-0 reactive\" height=\"12\" width=\"12\" x=\"0.0\" y=\"1.0\"/><text x=\"17.0\" y=\"11.2\">Sales</text></g></g><g class=\"legends\" transform=\"translate(556, 30)\"/></g></svg>\n",
       "    </figure>\n",
       "  </body>\n",
       "</html>\n"
      ],
      "text/plain": [
       "<IPython.core.display.HTML object>"
      ]
     },
     "metadata": {},
     "output_type": "display_data"
    }
   ],
   "source": [
    "timeline_plot.add('Sales', \n",
    "                  [(datetime(2007, 7, 2, 13, 0), 200),\n",
    "                   (datetime(2007, 7, 16, 13, 32, 35), 127),\n",
    "                   (datetime(2007, 7, 30, 13, 40, 35), 400),\n",
    "                   (datetime(2007, 8, 13, 9), 948),\n",
    "                  ])\n",
    "\n",
    "display_chart(timeline_plot)"
   ]
  },
  {
   "cell_type": "markdown",
   "metadata": {},
   "source": [
    "Now, the title on the X axis is rotates to 35 degrees. But still **time** is not properly formated.\n",
    "\n",
    "Add in the parameter **x_value_formatter**"
   ]
  },
  {
   "cell_type": "code",
   "execution_count": 11,
   "metadata": {
    "collapsed": true
   },
   "outputs": [],
   "source": [
    "fmt = '%d, %b %Y at %I:%M:%S %p'"
   ]
  },
  {
   "cell_type": "code",
   "execution_count": 12,
   "metadata": {
    "collapsed": true
   },
   "outputs": [],
   "source": [
    "timeline_plot = pygal.DateTimeLine(width = 640,\n",
    "                                   height = 360,\n",
    "                                   explicit_size = True,\n",
    "                                   truncate_label=-1,\n",
    "                                   x_label_rotation=35,\n",
    "                                   x_value_formatter = lambda dt: dt.strftime(fmt))"
   ]
  },
  {
   "cell_type": "code",
   "execution_count": 13,
   "metadata": {},
   "outputs": [
    {
     "data": {
      "text/html": [
       "\n",
       "<!DOCTYPE html>\n",
       "<html>\n",
       "  <head>\n",
       "  <script type=\"text/javascript\" \n",
       "          src=\"http://kozea.github.com/pygal.js/javascripts/svg.jquery.js\">\n",
       "  </script>\n",
       "  <script type=\"text/javascript\" \n",
       "          src=\"https://kozea.github.io/pygal.js/2.0.x/pygal-tooltips.min.js\"\">\n",
       "  </script>\n",
       "  </head>\n",
       "  <body>\n",
       "    <figure>\n",
       "      <?xml version='1.0' encoding='utf-8'?>\n",
       "<svg xmlns:xlink=\"http://www.w3.org/1999/xlink\" xmlns=\"http://www.w3.org/2000/svg\" id=\"chart-cb629759-6abe-49a7-8d41-3e9d5b978186\" class=\"pygal-chart\" viewBox=\"0 0 640 360\" width=\"640\" height=\"360\"><!--Generated with pygal 2.4.0 (lxml) ©Kozea 2012-2016 on 2019-02-03--><!--http://pygal.org--><!--http://github.com/Kozea/pygal--><defs><style type=\"text/css\">#chart-cb629759-6abe-49a7-8d41-3e9d5b978186{-webkit-user-select:none;-webkit-font-smoothing:antialiased;font-family:Consolas,\"Liberation Mono\",Menlo,Courier,monospace}#chart-cb629759-6abe-49a7-8d41-3e9d5b978186 .title{font-family:Consolas,\"Liberation Mono\",Menlo,Courier,monospace;font-size:16px}#chart-cb629759-6abe-49a7-8d41-3e9d5b978186 .legends .legend text{font-family:Consolas,\"Liberation Mono\",Menlo,Courier,monospace;font-size:14px}#chart-cb629759-6abe-49a7-8d41-3e9d5b978186 .axis text{font-family:Consolas,\"Liberation Mono\",Menlo,Courier,monospace;font-size:10px}#chart-cb629759-6abe-49a7-8d41-3e9d5b978186 .axis text.major{font-family:Consolas,\"Liberation Mono\",Menlo,Courier,monospace;font-size:10px}#chart-cb629759-6abe-49a7-8d41-3e9d5b978186 .text-overlay text.value{font-family:Consolas,\"Liberation Mono\",Menlo,Courier,monospace;font-size:16px}#chart-cb629759-6abe-49a7-8d41-3e9d5b978186 .text-overlay text.label{font-family:Consolas,\"Liberation Mono\",Menlo,Courier,monospace;font-size:10px}#chart-cb629759-6abe-49a7-8d41-3e9d5b978186 .tooltip{font-family:Consolas,\"Liberation Mono\",Menlo,Courier,monospace;font-size:14px}#chart-cb629759-6abe-49a7-8d41-3e9d5b978186 text.no_data{font-family:Consolas,\"Liberation Mono\",Menlo,Courier,monospace;font-size:64px}\n",
       "#chart-cb629759-6abe-49a7-8d41-3e9d5b978186{background-color:rgba(249,249,249,1)}#chart-cb629759-6abe-49a7-8d41-3e9d5b978186 path,#chart-cb629759-6abe-49a7-8d41-3e9d5b978186 line,#chart-cb629759-6abe-49a7-8d41-3e9d5b978186 rect,#chart-cb629759-6abe-49a7-8d41-3e9d5b978186 circle{-webkit-transition:150ms;-moz-transition:150ms;transition:150ms}#chart-cb629759-6abe-49a7-8d41-3e9d5b978186 .graph &gt; .background{fill:rgba(249,249,249,1)}#chart-cb629759-6abe-49a7-8d41-3e9d5b978186 .plot &gt; .background{fill:rgba(255,255,255,1)}#chart-cb629759-6abe-49a7-8d41-3e9d5b978186 .graph{fill:rgba(0,0,0,.87)}#chart-cb629759-6abe-49a7-8d41-3e9d5b978186 text.no_data{fill:rgba(0,0,0,1)}#chart-cb629759-6abe-49a7-8d41-3e9d5b978186 .title{fill:rgba(0,0,0,1)}#chart-cb629759-6abe-49a7-8d41-3e9d5b978186 .legends .legend text{fill:rgba(0,0,0,.87)}#chart-cb629759-6abe-49a7-8d41-3e9d5b978186 .legends .legend:hover text{fill:rgba(0,0,0,1)}#chart-cb629759-6abe-49a7-8d41-3e9d5b978186 .axis .line{stroke:rgba(0,0,0,1)}#chart-cb629759-6abe-49a7-8d41-3e9d5b978186 .axis .guide.line{stroke:rgba(0,0,0,.54)}#chart-cb629759-6abe-49a7-8d41-3e9d5b978186 .axis .major.line{stroke:rgba(0,0,0,.87)}#chart-cb629759-6abe-49a7-8d41-3e9d5b978186 .axis text.major{fill:rgba(0,0,0,1)}#chart-cb629759-6abe-49a7-8d41-3e9d5b978186 .axis.y .guides:hover .guide.line,#chart-cb629759-6abe-49a7-8d41-3e9d5b978186 .line-graph .axis.x .guides:hover .guide.line,#chart-cb629759-6abe-49a7-8d41-3e9d5b978186 .stackedline-graph .axis.x .guides:hover .guide.line,#chart-cb629759-6abe-49a7-8d41-3e9d5b978186 .xy-graph .axis.x .guides:hover .guide.line{stroke:rgba(0,0,0,1)}#chart-cb629759-6abe-49a7-8d41-3e9d5b978186 .axis .guides:hover text{fill:rgba(0,0,0,1)}#chart-cb629759-6abe-49a7-8d41-3e9d5b978186 .reactive{fill-opacity:.7;stroke-opacity:.8}#chart-cb629759-6abe-49a7-8d41-3e9d5b978186 .ci{stroke:rgba(0,0,0,.87)}#chart-cb629759-6abe-49a7-8d41-3e9d5b978186 .reactive.active,#chart-cb629759-6abe-49a7-8d41-3e9d5b978186 .active .reactive{fill-opacity:.8;stroke-opacity:.9;stroke-width:4}#chart-cb629759-6abe-49a7-8d41-3e9d5b978186 .ci .reactive.active{stroke-width:1.5}#chart-cb629759-6abe-49a7-8d41-3e9d5b978186 .series text{fill:rgba(0,0,0,1)}#chart-cb629759-6abe-49a7-8d41-3e9d5b978186 .tooltip rect{fill:rgba(255,255,255,1);stroke:rgba(0,0,0,1);-webkit-transition:opacity 150ms;-moz-transition:opacity 150ms;transition:opacity 150ms}#chart-cb629759-6abe-49a7-8d41-3e9d5b978186 .tooltip .label{fill:rgba(0,0,0,.87)}#chart-cb629759-6abe-49a7-8d41-3e9d5b978186 .tooltip .label{fill:rgba(0,0,0,.87)}#chart-cb629759-6abe-49a7-8d41-3e9d5b978186 .tooltip .legend{font-size:.8em;fill:rgba(0,0,0,.54)}#chart-cb629759-6abe-49a7-8d41-3e9d5b978186 .tooltip .x_label{font-size:.6em;fill:rgba(0,0,0,1)}#chart-cb629759-6abe-49a7-8d41-3e9d5b978186 .tooltip .xlink{font-size:.5em;text-decoration:underline}#chart-cb629759-6abe-49a7-8d41-3e9d5b978186 .tooltip .value{font-size:1.5em}#chart-cb629759-6abe-49a7-8d41-3e9d5b978186 .bound{font-size:.5em}#chart-cb629759-6abe-49a7-8d41-3e9d5b978186 .max-value{font-size:.75em;fill:rgba(0,0,0,.54)}#chart-cb629759-6abe-49a7-8d41-3e9d5b978186 .map-element{fill:rgba(255,255,255,1);stroke:rgba(0,0,0,.54) !important}#chart-cb629759-6abe-49a7-8d41-3e9d5b978186 .map-element .reactive{fill-opacity:inherit;stroke-opacity:inherit}#chart-cb629759-6abe-49a7-8d41-3e9d5b978186 .color-0,#chart-cb629759-6abe-49a7-8d41-3e9d5b978186 .color-0 a:visited{stroke:#F44336;fill:#F44336}#chart-cb629759-6abe-49a7-8d41-3e9d5b978186 .text-overlay .color-0 text{fill:black}\n",
       "#chart-cb629759-6abe-49a7-8d41-3e9d5b978186 text.no_data{text-anchor:middle}#chart-cb629759-6abe-49a7-8d41-3e9d5b978186 .guide.line{fill:none}#chart-cb629759-6abe-49a7-8d41-3e9d5b978186 .centered{text-anchor:middle}#chart-cb629759-6abe-49a7-8d41-3e9d5b978186 .title{text-anchor:middle}#chart-cb629759-6abe-49a7-8d41-3e9d5b978186 .legends .legend text{fill-opacity:1}#chart-cb629759-6abe-49a7-8d41-3e9d5b978186 .axis.x text{text-anchor:middle}#chart-cb629759-6abe-49a7-8d41-3e9d5b978186 .axis.x:not(.web) text[transform]{text-anchor:start}#chart-cb629759-6abe-49a7-8d41-3e9d5b978186 .axis.x:not(.web) text[transform].backwards{text-anchor:end}#chart-cb629759-6abe-49a7-8d41-3e9d5b978186 .axis.y text{text-anchor:end}#chart-cb629759-6abe-49a7-8d41-3e9d5b978186 .axis.y text[transform].backwards{text-anchor:start}#chart-cb629759-6abe-49a7-8d41-3e9d5b978186 .axis.y2 text{text-anchor:start}#chart-cb629759-6abe-49a7-8d41-3e9d5b978186 .axis.y2 text[transform].backwards{text-anchor:end}#chart-cb629759-6abe-49a7-8d41-3e9d5b978186 .axis .guide.line{stroke-dasharray:4,4}#chart-cb629759-6abe-49a7-8d41-3e9d5b978186 .axis .major.guide.line{stroke-dasharray:6,6}#chart-cb629759-6abe-49a7-8d41-3e9d5b978186 .horizontal .axis.y .guide.line,#chart-cb629759-6abe-49a7-8d41-3e9d5b978186 .horizontal .axis.y2 .guide.line,#chart-cb629759-6abe-49a7-8d41-3e9d5b978186 .vertical .axis.x .guide.line{opacity:0}#chart-cb629759-6abe-49a7-8d41-3e9d5b978186 .horizontal .axis.always_show .guide.line,#chart-cb629759-6abe-49a7-8d41-3e9d5b978186 .vertical .axis.always_show .guide.line{opacity:1 !important}#chart-cb629759-6abe-49a7-8d41-3e9d5b978186 .axis.y .guides:hover .guide.line,#chart-cb629759-6abe-49a7-8d41-3e9d5b978186 .axis.y2 .guides:hover .guide.line,#chart-cb629759-6abe-49a7-8d41-3e9d5b978186 .axis.x .guides:hover .guide.line{opacity:1}#chart-cb629759-6abe-49a7-8d41-3e9d5b978186 .axis .guides:hover text{opacity:1}#chart-cb629759-6abe-49a7-8d41-3e9d5b978186 .nofill{fill:none}#chart-cb629759-6abe-49a7-8d41-3e9d5b978186 .subtle-fill{fill-opacity:.2}#chart-cb629759-6abe-49a7-8d41-3e9d5b978186 .dot{stroke-width:1px;fill-opacity:1}#chart-cb629759-6abe-49a7-8d41-3e9d5b978186 .dot.active{stroke-width:5px}#chart-cb629759-6abe-49a7-8d41-3e9d5b978186 .dot.negative{fill:transparent}#chart-cb629759-6abe-49a7-8d41-3e9d5b978186 text,#chart-cb629759-6abe-49a7-8d41-3e9d5b978186 tspan{stroke:none !important}#chart-cb629759-6abe-49a7-8d41-3e9d5b978186 .series text.active{opacity:1}#chart-cb629759-6abe-49a7-8d41-3e9d5b978186 .tooltip rect{fill-opacity:.95;stroke-width:.5}#chart-cb629759-6abe-49a7-8d41-3e9d5b978186 .tooltip text{fill-opacity:1}#chart-cb629759-6abe-49a7-8d41-3e9d5b978186 .showable{visibility:hidden}#chart-cb629759-6abe-49a7-8d41-3e9d5b978186 .showable.shown{visibility:visible}#chart-cb629759-6abe-49a7-8d41-3e9d5b978186 .gauge-background{fill:rgba(229,229,229,1);stroke:none}#chart-cb629759-6abe-49a7-8d41-3e9d5b978186 .bg-lines{stroke:rgba(249,249,249,1);stroke-width:2px}</style><script type=\"text/javascript\">window.pygal = window.pygal || {};window.pygal.config = window.pygal.config || {};window.pygal.config['cb629759-6abe-49a7-8d41-3e9d5b978186'] = {\"allow_interruptions\": false, \"box_mode\": \"extremes\", \"classes\": [\"pygal-chart\"], \"css\": [\"file://style.css\", \"file://graph.css\"], \"defs\": [], \"disable_xml_declaration\": false, \"dots_size\": 2.5, \"dynamic_print_values\": false, \"explicit_size\": true, \"fill\": false, \"force_uri_protocol\": \"https\", \"formatter\": null, \"half_pie\": false, \"height\": 360, \"include_x_axis\": false, \"inner_radius\": 0, \"interpolate\": null, \"interpolation_parameters\": {}, \"interpolation_precision\": 250, \"inverse_y_axis\": false, \"js\": [\"//kozea.github.io/pygal.js/2.0.x/pygal-tooltips.min.js\"], \"legend_at_bottom\": false, \"legend_at_bottom_columns\": null, \"legend_box_size\": 12, \"logarithmic\": false, \"margin\": 20, \"margin_bottom\": null, \"margin_left\": null, \"margin_right\": null, \"margin_top\": null, \"max_scale\": 16, \"min_scale\": 4, \"missing_value_fill_truncation\": \"x\", \"no_data_text\": \"No data\", \"no_prefix\": false, \"order_min\": null, \"pretty_print\": false, \"print_labels\": false, \"print_values\": false, \"print_values_position\": \"center\", \"print_zeroes\": true, \"range\": null, \"rounded_bars\": null, \"secondary_range\": null, \"show_dots\": true, \"show_legend\": true, \"show_minor_x_labels\": true, \"show_minor_y_labels\": true, \"show_only_major_dots\": false, \"show_x_guides\": false, \"show_x_labels\": true, \"show_y_guides\": true, \"show_y_labels\": true, \"spacing\": 10, \"stack_from_top\": false, \"strict\": false, \"stroke\": true, \"stroke_style\": null, \"style\": {\"background\": \"rgba(249, 249, 249, 1)\", \"ci_colors\": [], \"colors\": [\"#F44336\", \"#3F51B5\", \"#009688\", \"#FFC107\", \"#FF5722\", \"#9C27B0\", \"#03A9F4\", \"#8BC34A\", \"#FF9800\", \"#E91E63\", \"#2196F3\", \"#4CAF50\", \"#FFEB3B\", \"#673AB7\", \"#00BCD4\", \"#CDDC39\", \"#9E9E9E\", \"#607D8B\"], \"font_family\": \"Consolas, \\\"Liberation Mono\\\", Menlo, Courier, monospace\", \"foreground\": \"rgba(0, 0, 0, .87)\", \"foreground_strong\": \"rgba(0, 0, 0, 1)\", \"foreground_subtle\": \"rgba(0, 0, 0, .54)\", \"guide_stroke_dasharray\": \"4,4\", \"label_font_family\": \"Consolas, \\\"Liberation Mono\\\", Menlo, Courier, monospace\", \"label_font_size\": 10, \"legend_font_family\": \"Consolas, \\\"Liberation Mono\\\", Menlo, Courier, monospace\", \"legend_font_size\": 14, \"major_guide_stroke_dasharray\": \"6,6\", \"major_label_font_family\": \"Consolas, \\\"Liberation Mono\\\", Menlo, Courier, monospace\", \"major_label_font_size\": 10, \"no_data_font_family\": \"Consolas, \\\"Liberation Mono\\\", Menlo, Courier, monospace\", \"no_data_font_size\": 64, \"opacity\": \".7\", \"opacity_hover\": \".8\", \"plot_background\": \"rgba(255, 255, 255, 1)\", \"stroke_opacity\": \".8\", \"stroke_opacity_hover\": \".9\", \"title_font_family\": \"Consolas, \\\"Liberation Mono\\\", Menlo, Courier, monospace\", \"title_font_size\": 16, \"tooltip_font_family\": \"Consolas, \\\"Liberation Mono\\\", Menlo, Courier, monospace\", \"tooltip_font_size\": 14, \"transition\": \"150ms\", \"value_background\": \"rgba(229, 229, 229, 1)\", \"value_colors\": [], \"value_font_family\": \"Consolas, \\\"Liberation Mono\\\", Menlo, Courier, monospace\", \"value_font_size\": 16, \"value_label_font_family\": \"Consolas, \\\"Liberation Mono\\\", Menlo, Courier, monospace\", \"value_label_font_size\": 10}, \"title\": null, \"tooltip_border_radius\": 0, \"tooltip_fancy_mode\": true, \"truncate_label\": -1, \"truncate_legend\": null, \"width\": 640, \"x_label_rotation\": 35, \"x_labels\": null, \"x_labels_major\": null, \"x_labels_major_count\": null, \"x_labels_major_every\": null, \"x_title\": null, \"xrange\": null, \"y_label_rotation\": 0, \"y_labels\": null, \"y_labels_major\": null, \"y_labels_major_count\": null, \"y_labels_major_every\": null, \"y_title\": null, \"zero\": 0, \"legends\": [\"Sales\"]}</script><script type=\"text/javascript\" xlink:href=\"https://kozea.github.io/pygal.js/2.0.x/pygal-tooltips.min.js\"/></defs><title>Pygal</title><g class=\"graph datetimeline-graph vertical\"><rect class=\"background\" height=\"360\" width=\"640\" x=\"0\" y=\"0\"/><g class=\"plot\" transform=\"translate(112, 20)\"><rect class=\"background\" height=\"217.08061731113054\" width=\"395.2973688251833\" x=\"0\" y=\"0\"/><g class=\"axis y always_show\"><path class=\"line\" d=\"M0.000000 217.080617 h395.297369\"/><g class=\"guides\"><path class=\"guide line\" d=\"M0.000000 194.346441 h395.297369\"/><text class=\"\" x=\"-5\" y=\"197.84644135315094\">200</text><title>200</title></g><g class=\"guides\"><path class=\"guide line\" d=\"M0.000000 168.922402 h395.297369\"/><text class=\"\" x=\"-5\" y=\"172.42240203534777\">300</text><title>300</title></g><g class=\"guides\"><path class=\"guide line\" d=\"M0.000000 143.498363 h395.297369\"/><text class=\"\" x=\"-5\" y=\"146.9983627175446\">400</text><title>400</title></g><g class=\"guides\"><path class=\"major guide line\" d=\"M0.000000 118.074323 h395.297369\"/><text class=\"major\" x=\"-5\" y=\"121.57432339974144\">500</text><title>500</title></g><g class=\"guides\"><path class=\"guide line\" d=\"M0.000000 92.650284 h395.297369\"/><text class=\"\" x=\"-5\" y=\"96.15028408193828\">600</text><title>600</title></g><g class=\"guides\"><path class=\"guide line\" d=\"M0.000000 67.226245 h395.297369\"/><text class=\"\" x=\"-5\" y=\"70.72624476413512\">700</text><title>700</title></g><g class=\"guides\"><path class=\"guide line\" d=\"M0.000000 41.802205 h395.297369\"/><text class=\"\" x=\"-5\" y=\"45.30220544633195\">800</text><title>800</title></g><g class=\"guides\"><path class=\"guide line\" d=\"M0.000000 16.378166 h395.297369\"/><text class=\"\" x=\"-5\" y=\"19.87816612852879\">900</text><title>900</title></g></g><g class=\"axis x\"><path class=\"line\" d=\"M0.000000 0.000000 v217.080617\"/><g class=\"guides\"><path class=\"guide line\" d=\"M30.611081 0.000000 v217.080617\"/><text class=\"\" x=\"30.611081447869033\" y=\"232.08061731113054\" transform=\"rotate(35 30.611081 232.080617)\">05, Jul 2007 at 01:46:40 AM</text><title>05, Jul 2007 at 01:46:40 AM</title></g><g class=\"guides\"><path class=\"guide line\" d=\"M72.675449 0.000000 v217.080617\"/><text class=\"\" x=\"72.67544885273497\" y=\"232.08061731113054\" transform=\"rotate(35 72.675449 232.080617)\">09, Jul 2007 at 04:53:20 PM</text><title>09, Jul 2007 at 04:53:20 PM</title></g><g class=\"guides\"><path class=\"guide line\" d=\"M114.739816 0.000000 v217.080617\"/><text class=\"\" x=\"114.73981625760089\" y=\"232.08061731113054\" transform=\"rotate(35 114.739816 232.080617)\">14, Jul 2007 at 08:00:00 AM</text><title>14, Jul 2007 at 08:00:00 AM</title></g><g class=\"guides\"><path class=\"guide line\" d=\"M156.804184 0.000000 v217.080617\"/><text class=\"\" x=\"156.8041836624668\" y=\"232.08061731113054\" transform=\"rotate(35 156.804184 232.080617)\">18, Jul 2007 at 11:06:40 PM</text><title>18, Jul 2007 at 11:06:40 PM</title></g><g class=\"guides\"><path class=\"guide line\" d=\"M198.868551 0.000000 v217.080617\"/><text class=\"\" x=\"198.86855106733276\" y=\"232.08061731113054\" transform=\"rotate(35 198.868551 232.080617)\">23, Jul 2007 at 02:13:20 PM</text><title>23, Jul 2007 at 02:13:20 PM</title></g><g class=\"guides\"><path class=\"guide line\" d=\"M240.932918 0.000000 v217.080617\"/><text class=\"\" x=\"240.9329184721987\" y=\"232.08061731113054\" transform=\"rotate(35 240.932918 232.080617)\">28, Jul 2007 at 05:20:00 AM</text><title>28, Jul 2007 at 05:20:00 AM</title></g><g class=\"guides\"><path class=\"guide line\" d=\"M282.997286 0.000000 v217.080617\"/><text class=\"\" x=\"282.9972858770646\" y=\"232.08061731113054\" transform=\"rotate(35 282.997286 232.080617)\">01, Aug 2007 at 08:26:40 PM</text><title>01, Aug 2007 at 08:26:40 PM</title></g><g class=\"guides\"><path class=\"guide line\" d=\"M325.061653 0.000000 v217.080617\"/><text class=\"\" x=\"325.06165328193055\" y=\"232.08061731113054\" transform=\"rotate(35 325.061653 232.080617)\">06, Aug 2007 at 11:33:20 AM</text><title>06, Aug 2007 at 11:33:20 AM</title></g><g class=\"guides\"><path class=\"guide line\" d=\"M367.126021 0.000000 v217.080617\"/><text class=\"\" x=\"367.12602068679644\" y=\"232.08061731113054\" transform=\"rotate(35 367.126021 232.080617)\">11, Aug 2007 at 02:40:00 AM</text><title>11, Aug 2007 at 02:40:00 AM</title></g></g><g class=\"series serie-0 color-0\"><path class=\"line reactive nofill\" d=\"M7.601872 194.346441 L135.010109 212.905990 262.263233 143.498363 387.695496 4.174627\"/></g></g><g class=\"titles\"/><g class=\"plot overlay\" transform=\"translate(112, 20)\"><g class=\"series serie-0 color-0\"><g class=\"dots\"><circle class=\"dot reactive tooltip-trigger\" cx=\"7.601872477407371\" cy=\"194.34644135315094\" r=\"2.5\"/><desc class=\"value\">02, Jul 2007 at 01:00:00 PM: 200</desc><desc class=\"x top\">7.601872477407371</desc><desc class=\"y top\">194.34644135315094</desc></g><g class=\"dots\"><circle class=\"dot reactive tooltip-trigger\" cx=\"135.01010910541322\" cy=\"212.90599005514727\" r=\"2.5\"/><desc class=\"value\">16, Jul 2007 at 01:32:35 PM: 127</desc><desc class=\"x top\">135.01010910541322</desc><desc class=\"y top\">212.90599005514727</desc></g><g class=\"dots\"><circle class=\"dot reactive tooltip-trigger\" cx=\"262.2632333786137\" cy=\"143.4983627175446\" r=\"2.5\"/><desc class=\"value\">30, Jul 2007 at 01:40:35 PM: 400</desc><desc class=\"x left top\">262.2632333786137</desc><desc class=\"y left top\">143.4983627175446</desc></g><g class=\"dots\"><circle class=\"dot reactive tooltip-trigger\" cx=\"387.69549634777593\" cy=\"4.174627255983296\" r=\"2.5\"/><desc class=\"value\">13, Aug 2007 at 09:00:00 AM: 948</desc><desc class=\"x left\">387.69549634777593</desc><desc class=\"y left\">4.174627255983296</desc></g></g></g><g class=\"plot text-overlay\" transform=\"translate(112, 20)\"><g class=\"series serie-0 color-0\"/></g><g class=\"plot tooltip-overlay\" transform=\"translate(112, 20)\"><g class=\"tooltip\" style=\"opacity: 0\" transform=\"translate(0 0)\"><rect class=\"tooltip-box\" height=\"0\" rx=\"0\" ry=\"0\" width=\"0\"/><g class=\"text\"/></g></g><g class=\"legends\" transform=\"translate(10, 30)\"><g class=\"legend reactive activate-serie\" id=\"activate-serie-0\"><rect class=\"color-0 reactive\" height=\"12\" width=\"12\" x=\"0.0\" y=\"1.0\"/><text x=\"17.0\" y=\"11.2\">Sales</text></g></g><g class=\"legends\" transform=\"translate(517, 30)\"/></g></svg>\n",
       "    </figure>\n",
       "  </body>\n",
       "</html>\n"
      ],
      "text/plain": [
       "<IPython.core.display.HTML object>"
      ]
     },
     "metadata": {},
     "output_type": "display_data"
    }
   ],
   "source": [
    "timeline_plot.add('Sales', \n",
    "                  [(datetime(2007, 7, 2, 13, 0), 200),\n",
    "                   (datetime(2007, 7, 16, 13, 32, 35), 127),\n",
    "                   (datetime(2007, 7, 30, 13, 40, 35), 400),\n",
    "                   (datetime(2007, 8, 13, 9), 948),\n",
    "                  ])\n",
    "\n",
    "display_chart(timeline_plot)"
   ]
  },
  {
   "cell_type": "markdown",
   "metadata": {},
   "source": [
    "###### Load in the dataset using pandas. Look at the data."
   ]
  },
  {
   "cell_type": "code",
   "execution_count": 14,
   "metadata": {
    "collapsed": true
   },
   "outputs": [],
   "source": [
    "stock_df = pd.read_csv('../datasets/stock_close.csv')"
   ]
  },
  {
   "cell_type": "code",
   "execution_count": 15,
   "metadata": {},
   "outputs": [
    {
     "data": {
      "text/html": [
       "<div>\n",
       "<style scoped>\n",
       "    .dataframe tbody tr th:only-of-type {\n",
       "        vertical-align: middle;\n",
       "    }\n",
       "\n",
       "    .dataframe tbody tr th {\n",
       "        vertical-align: top;\n",
       "    }\n",
       "\n",
       "    .dataframe thead th {\n",
       "        text-align: right;\n",
       "    }\n",
       "</style>\n",
       "<table border=\"1\" class=\"dataframe\">\n",
       "  <thead>\n",
       "    <tr style=\"text-align: right;\">\n",
       "      <th></th>\n",
       "      <th>Date</th>\n",
       "      <th>AAPL</th>\n",
       "      <th>MSFT</th>\n",
       "    </tr>\n",
       "  </thead>\n",
       "  <tbody>\n",
       "    <tr>\n",
       "      <th>0</th>\n",
       "      <td>2018-12-14</td>\n",
       "      <td>165.479996</td>\n",
       "      <td>106.029999</td>\n",
       "    </tr>\n",
       "    <tr>\n",
       "      <th>1</th>\n",
       "      <td>2018-12-17</td>\n",
       "      <td>163.940002</td>\n",
       "      <td>102.889999</td>\n",
       "    </tr>\n",
       "    <tr>\n",
       "      <th>2</th>\n",
       "      <td>2018-12-18</td>\n",
       "      <td>166.070007</td>\n",
       "      <td>103.970001</td>\n",
       "    </tr>\n",
       "    <tr>\n",
       "      <th>3</th>\n",
       "      <td>2018-12-19</td>\n",
       "      <td>160.889999</td>\n",
       "      <td>103.690002</td>\n",
       "    </tr>\n",
       "    <tr>\n",
       "      <th>4</th>\n",
       "      <td>2018-12-20</td>\n",
       "      <td>156.830002</td>\n",
       "      <td>101.510002</td>\n",
       "    </tr>\n",
       "  </tbody>\n",
       "</table>\n",
       "</div>"
      ],
      "text/plain": [
       "         Date        AAPL        MSFT\n",
       "0  2018-12-14  165.479996  106.029999\n",
       "1  2018-12-17  163.940002  102.889999\n",
       "2  2018-12-18  166.070007  103.970001\n",
       "3  2018-12-19  160.889999  103.690002\n",
       "4  2018-12-20  156.830002  101.510002"
      ]
     },
     "execution_count": 15,
     "metadata": {},
     "output_type": "execute_result"
    }
   ],
   "source": [
    "stock_df.head()"
   ]
  },
  {
   "cell_type": "markdown",
   "metadata": {},
   "source": [
    "We have a data for a month (excluding holidays)"
   ]
  },
  {
   "cell_type": "code",
   "execution_count": 16,
   "metadata": {},
   "outputs": [
    {
     "data": {
      "text/plain": [
       "(19, 3)"
      ]
     },
     "execution_count": 16,
     "metadata": {},
     "output_type": "execute_result"
    }
   ],
   "source": [
    "stock_df.shape"
   ]
  },
  {
   "cell_type": "code",
   "execution_count": 17,
   "metadata": {},
   "outputs": [
    {
     "data": {
      "text/plain": [
       "Index(['Date', 'AAPL', 'MSFT'], dtype='object')"
      ]
     },
     "execution_count": 17,
     "metadata": {},
     "output_type": "execute_result"
    }
   ],
   "source": [
    "stock_df.columns"
   ]
  },
  {
   "cell_type": "code",
   "execution_count": 18,
   "metadata": {},
   "outputs": [
    {
     "data": {
      "text/html": [
       "<div>\n",
       "<style scoped>\n",
       "    .dataframe tbody tr th:only-of-type {\n",
       "        vertical-align: middle;\n",
       "    }\n",
       "\n",
       "    .dataframe tbody tr th {\n",
       "        vertical-align: top;\n",
       "    }\n",
       "\n",
       "    .dataframe thead th {\n",
       "        text-align: right;\n",
       "    }\n",
       "</style>\n",
       "<table border=\"1\" class=\"dataframe\">\n",
       "  <thead>\n",
       "    <tr style=\"text-align: right;\">\n",
       "      <th></th>\n",
       "      <th>AAPL</th>\n",
       "      <th>MSFT</th>\n",
       "    </tr>\n",
       "  </thead>\n",
       "  <tbody>\n",
       "    <tr>\n",
       "      <th>count</th>\n",
       "      <td>19.000000</td>\n",
       "      <td>19.000000</td>\n",
       "    </tr>\n",
       "    <tr>\n",
       "      <th>mean</th>\n",
       "      <td>154.974209</td>\n",
       "      <td>101.585790</td>\n",
       "    </tr>\n",
       "    <tr>\n",
       "      <th>std</th>\n",
       "      <td>6.446786</td>\n",
       "      <td>2.721916</td>\n",
       "    </tr>\n",
       "    <tr>\n",
       "      <th>min</th>\n",
       "      <td>142.190002</td>\n",
       "      <td>94.129997</td>\n",
       "    </tr>\n",
       "    <tr>\n",
       "      <th>25%</th>\n",
       "      <td>150.739998</td>\n",
       "      <td>100.840001</td>\n",
       "    </tr>\n",
       "    <tr>\n",
       "      <th>50%</th>\n",
       "      <td>156.149994</td>\n",
       "      <td>101.930000</td>\n",
       "    </tr>\n",
       "    <tr>\n",
       "      <th>75%</th>\n",
       "      <td>157.830001</td>\n",
       "      <td>103.244999</td>\n",
       "    </tr>\n",
       "    <tr>\n",
       "      <th>max</th>\n",
       "      <td>166.070007</td>\n",
       "      <td>106.029999</td>\n",
       "    </tr>\n",
       "  </tbody>\n",
       "</table>\n",
       "</div>"
      ],
      "text/plain": [
       "             AAPL        MSFT\n",
       "count   19.000000   19.000000\n",
       "mean   154.974209  101.585790\n",
       "std      6.446786    2.721916\n",
       "min    142.190002   94.129997\n",
       "25%    150.739998  100.840001\n",
       "50%    156.149994  101.930000\n",
       "75%    157.830001  103.244999\n",
       "max    166.070007  106.029999"
      ]
     },
     "execution_count": 18,
     "metadata": {},
     "output_type": "execute_result"
    }
   ],
   "source": [
    "stock_df.describe()"
   ]
  },
  {
   "cell_type": "code",
   "execution_count": 19,
   "metadata": {},
   "outputs": [
    {
     "data": {
      "text/html": [
       "<div>\n",
       "<style scoped>\n",
       "    .dataframe tbody tr th:only-of-type {\n",
       "        vertical-align: middle;\n",
       "    }\n",
       "\n",
       "    .dataframe tbody tr th {\n",
       "        vertical-align: top;\n",
       "    }\n",
       "\n",
       "    .dataframe thead th {\n",
       "        text-align: right;\n",
       "    }\n",
       "</style>\n",
       "<table border=\"1\" class=\"dataframe\">\n",
       "  <thead>\n",
       "    <tr style=\"text-align: right;\">\n",
       "      <th></th>\n",
       "      <th>Date</th>\n",
       "      <th>AAPL</th>\n",
       "      <th>MSFT</th>\n",
       "    </tr>\n",
       "  </thead>\n",
       "  <tbody>\n",
       "    <tr>\n",
       "      <th>0</th>\n",
       "      <td>2018-12-14</td>\n",
       "      <td>165.48</td>\n",
       "      <td>106.03</td>\n",
       "    </tr>\n",
       "    <tr>\n",
       "      <th>1</th>\n",
       "      <td>2018-12-17</td>\n",
       "      <td>163.94</td>\n",
       "      <td>102.89</td>\n",
       "    </tr>\n",
       "    <tr>\n",
       "      <th>2</th>\n",
       "      <td>2018-12-18</td>\n",
       "      <td>166.07</td>\n",
       "      <td>103.97</td>\n",
       "    </tr>\n",
       "    <tr>\n",
       "      <th>3</th>\n",
       "      <td>2018-12-19</td>\n",
       "      <td>160.89</td>\n",
       "      <td>103.69</td>\n",
       "    </tr>\n",
       "    <tr>\n",
       "      <th>4</th>\n",
       "      <td>2018-12-20</td>\n",
       "      <td>156.83</td>\n",
       "      <td>101.51</td>\n",
       "    </tr>\n",
       "  </tbody>\n",
       "</table>\n",
       "</div>"
      ],
      "text/plain": [
       "         Date    AAPL    MSFT\n",
       "0  2018-12-14  165.48  106.03\n",
       "1  2018-12-17  163.94  102.89\n",
       "2  2018-12-18  166.07  103.97\n",
       "3  2018-12-19  160.89  103.69\n",
       "4  2018-12-20  156.83  101.51"
      ]
     },
     "execution_count": 19,
     "metadata": {},
     "output_type": "execute_result"
    }
   ],
   "source": [
    "stock_df[['AAPL', 'MSFT']] = stock_df[['AAPL', 'MSFT']].round(2)\n",
    "\n",
    "stock_df.head()"
   ]
  },
  {
   "cell_type": "code",
   "execution_count": 20,
   "metadata": {
    "collapsed": true
   },
   "outputs": [],
   "source": [
    "line_plot = pygal.Line(width = 640,\n",
    "                       height = 360,\n",
    "                       explicit_size = True)"
   ]
  },
  {
   "cell_type": "code",
   "execution_count": 21,
   "metadata": {
    "collapsed": true
   },
   "outputs": [],
   "source": [
    "line_plot.title = \"Close Prices\"\n",
    "line_plot.x_title = \"Day\"\n",
    "line_plot.y_title = \"Adj Close (USD)\"\n",
    "\n",
    "line_plot.x_labels = map(str, range(1, len(stock_df)))"
   ]
  },
  {
   "cell_type": "code",
   "execution_count": 22,
   "metadata": {},
   "outputs": [
    {
     "data": {
      "text/html": [
       "\n",
       "<!DOCTYPE html>\n",
       "<html>\n",
       "  <head>\n",
       "  <script type=\"text/javascript\" \n",
       "          src=\"http://kozea.github.com/pygal.js/javascripts/svg.jquery.js\">\n",
       "  </script>\n",
       "  <script type=\"text/javascript\" \n",
       "          src=\"https://kozea.github.io/pygal.js/2.0.x/pygal-tooltips.min.js\"\">\n",
       "  </script>\n",
       "  </head>\n",
       "  <body>\n",
       "    <figure>\n",
       "      <?xml version='1.0' encoding='utf-8'?>\n",
       "<svg xmlns:xlink=\"http://www.w3.org/1999/xlink\" xmlns=\"http://www.w3.org/2000/svg\" id=\"chart-c30d9847-8c2a-4350-b027-26d71afc7d5d\" class=\"pygal-chart\" viewBox=\"0 0 640 360\" width=\"640\" height=\"360\"><!--Generated with pygal 2.4.0 (lxml) ©Kozea 2012-2016 on 2019-02-03--><!--http://pygal.org--><!--http://github.com/Kozea/pygal--><defs><style type=\"text/css\">#chart-c30d9847-8c2a-4350-b027-26d71afc7d5d{-webkit-user-select:none;-webkit-font-smoothing:antialiased;font-family:Consolas,\"Liberation Mono\",Menlo,Courier,monospace}#chart-c30d9847-8c2a-4350-b027-26d71afc7d5d .title{font-family:Consolas,\"Liberation Mono\",Menlo,Courier,monospace;font-size:16px}#chart-c30d9847-8c2a-4350-b027-26d71afc7d5d .legends .legend text{font-family:Consolas,\"Liberation Mono\",Menlo,Courier,monospace;font-size:14px}#chart-c30d9847-8c2a-4350-b027-26d71afc7d5d .axis text{font-family:Consolas,\"Liberation Mono\",Menlo,Courier,monospace;font-size:10px}#chart-c30d9847-8c2a-4350-b027-26d71afc7d5d .axis text.major{font-family:Consolas,\"Liberation Mono\",Menlo,Courier,monospace;font-size:10px}#chart-c30d9847-8c2a-4350-b027-26d71afc7d5d .text-overlay text.value{font-family:Consolas,\"Liberation Mono\",Menlo,Courier,monospace;font-size:16px}#chart-c30d9847-8c2a-4350-b027-26d71afc7d5d .text-overlay text.label{font-family:Consolas,\"Liberation Mono\",Menlo,Courier,monospace;font-size:10px}#chart-c30d9847-8c2a-4350-b027-26d71afc7d5d .tooltip{font-family:Consolas,\"Liberation Mono\",Menlo,Courier,monospace;font-size:14px}#chart-c30d9847-8c2a-4350-b027-26d71afc7d5d text.no_data{font-family:Consolas,\"Liberation Mono\",Menlo,Courier,monospace;font-size:64px}\n",
       "#chart-c30d9847-8c2a-4350-b027-26d71afc7d5d{background-color:rgba(249,249,249,1)}#chart-c30d9847-8c2a-4350-b027-26d71afc7d5d path,#chart-c30d9847-8c2a-4350-b027-26d71afc7d5d line,#chart-c30d9847-8c2a-4350-b027-26d71afc7d5d rect,#chart-c30d9847-8c2a-4350-b027-26d71afc7d5d circle{-webkit-transition:150ms;-moz-transition:150ms;transition:150ms}#chart-c30d9847-8c2a-4350-b027-26d71afc7d5d .graph &gt; .background{fill:rgba(249,249,249,1)}#chart-c30d9847-8c2a-4350-b027-26d71afc7d5d .plot &gt; .background{fill:rgba(255,255,255,1)}#chart-c30d9847-8c2a-4350-b027-26d71afc7d5d .graph{fill:rgba(0,0,0,.87)}#chart-c30d9847-8c2a-4350-b027-26d71afc7d5d text.no_data{fill:rgba(0,0,0,1)}#chart-c30d9847-8c2a-4350-b027-26d71afc7d5d .title{fill:rgba(0,0,0,1)}#chart-c30d9847-8c2a-4350-b027-26d71afc7d5d .legends .legend text{fill:rgba(0,0,0,.87)}#chart-c30d9847-8c2a-4350-b027-26d71afc7d5d .legends .legend:hover text{fill:rgba(0,0,0,1)}#chart-c30d9847-8c2a-4350-b027-26d71afc7d5d .axis .line{stroke:rgba(0,0,0,1)}#chart-c30d9847-8c2a-4350-b027-26d71afc7d5d .axis .guide.line{stroke:rgba(0,0,0,.54)}#chart-c30d9847-8c2a-4350-b027-26d71afc7d5d .axis .major.line{stroke:rgba(0,0,0,.87)}#chart-c30d9847-8c2a-4350-b027-26d71afc7d5d .axis text.major{fill:rgba(0,0,0,1)}#chart-c30d9847-8c2a-4350-b027-26d71afc7d5d .axis.y .guides:hover .guide.line,#chart-c30d9847-8c2a-4350-b027-26d71afc7d5d .line-graph .axis.x .guides:hover .guide.line,#chart-c30d9847-8c2a-4350-b027-26d71afc7d5d .stackedline-graph .axis.x .guides:hover .guide.line,#chart-c30d9847-8c2a-4350-b027-26d71afc7d5d .xy-graph .axis.x .guides:hover .guide.line{stroke:rgba(0,0,0,1)}#chart-c30d9847-8c2a-4350-b027-26d71afc7d5d .axis .guides:hover text{fill:rgba(0,0,0,1)}#chart-c30d9847-8c2a-4350-b027-26d71afc7d5d .reactive{fill-opacity:.7;stroke-opacity:.8}#chart-c30d9847-8c2a-4350-b027-26d71afc7d5d .ci{stroke:rgba(0,0,0,.87)}#chart-c30d9847-8c2a-4350-b027-26d71afc7d5d .reactive.active,#chart-c30d9847-8c2a-4350-b027-26d71afc7d5d .active .reactive{fill-opacity:.8;stroke-opacity:.9;stroke-width:4}#chart-c30d9847-8c2a-4350-b027-26d71afc7d5d .ci .reactive.active{stroke-width:1.5}#chart-c30d9847-8c2a-4350-b027-26d71afc7d5d .series text{fill:rgba(0,0,0,1)}#chart-c30d9847-8c2a-4350-b027-26d71afc7d5d .tooltip rect{fill:rgba(255,255,255,1);stroke:rgba(0,0,0,1);-webkit-transition:opacity 150ms;-moz-transition:opacity 150ms;transition:opacity 150ms}#chart-c30d9847-8c2a-4350-b027-26d71afc7d5d .tooltip .label{fill:rgba(0,0,0,.87)}#chart-c30d9847-8c2a-4350-b027-26d71afc7d5d .tooltip .label{fill:rgba(0,0,0,.87)}#chart-c30d9847-8c2a-4350-b027-26d71afc7d5d .tooltip .legend{font-size:.8em;fill:rgba(0,0,0,.54)}#chart-c30d9847-8c2a-4350-b027-26d71afc7d5d .tooltip .x_label{font-size:.6em;fill:rgba(0,0,0,1)}#chart-c30d9847-8c2a-4350-b027-26d71afc7d5d .tooltip .xlink{font-size:.5em;text-decoration:underline}#chart-c30d9847-8c2a-4350-b027-26d71afc7d5d .tooltip .value{font-size:1.5em}#chart-c30d9847-8c2a-4350-b027-26d71afc7d5d .bound{font-size:.5em}#chart-c30d9847-8c2a-4350-b027-26d71afc7d5d .max-value{font-size:.75em;fill:rgba(0,0,0,.54)}#chart-c30d9847-8c2a-4350-b027-26d71afc7d5d .map-element{fill:rgba(255,255,255,1);stroke:rgba(0,0,0,.54) !important}#chart-c30d9847-8c2a-4350-b027-26d71afc7d5d .map-element .reactive{fill-opacity:inherit;stroke-opacity:inherit}#chart-c30d9847-8c2a-4350-b027-26d71afc7d5d .color-0,#chart-c30d9847-8c2a-4350-b027-26d71afc7d5d .color-0 a:visited{stroke:#F44336;fill:#F44336}#chart-c30d9847-8c2a-4350-b027-26d71afc7d5d .text-overlay .color-0 text{fill:black}\n",
       "#chart-c30d9847-8c2a-4350-b027-26d71afc7d5d text.no_data{text-anchor:middle}#chart-c30d9847-8c2a-4350-b027-26d71afc7d5d .guide.line{fill:none}#chart-c30d9847-8c2a-4350-b027-26d71afc7d5d .centered{text-anchor:middle}#chart-c30d9847-8c2a-4350-b027-26d71afc7d5d .title{text-anchor:middle}#chart-c30d9847-8c2a-4350-b027-26d71afc7d5d .legends .legend text{fill-opacity:1}#chart-c30d9847-8c2a-4350-b027-26d71afc7d5d .axis.x text{text-anchor:middle}#chart-c30d9847-8c2a-4350-b027-26d71afc7d5d .axis.x:not(.web) text[transform]{text-anchor:start}#chart-c30d9847-8c2a-4350-b027-26d71afc7d5d .axis.x:not(.web) text[transform].backwards{text-anchor:end}#chart-c30d9847-8c2a-4350-b027-26d71afc7d5d .axis.y text{text-anchor:end}#chart-c30d9847-8c2a-4350-b027-26d71afc7d5d .axis.y text[transform].backwards{text-anchor:start}#chart-c30d9847-8c2a-4350-b027-26d71afc7d5d .axis.y2 text{text-anchor:start}#chart-c30d9847-8c2a-4350-b027-26d71afc7d5d .axis.y2 text[transform].backwards{text-anchor:end}#chart-c30d9847-8c2a-4350-b027-26d71afc7d5d .axis .guide.line{stroke-dasharray:4,4}#chart-c30d9847-8c2a-4350-b027-26d71afc7d5d .axis .major.guide.line{stroke-dasharray:6,6}#chart-c30d9847-8c2a-4350-b027-26d71afc7d5d .horizontal .axis.y .guide.line,#chart-c30d9847-8c2a-4350-b027-26d71afc7d5d .horizontal .axis.y2 .guide.line,#chart-c30d9847-8c2a-4350-b027-26d71afc7d5d .vertical .axis.x .guide.line{opacity:0}#chart-c30d9847-8c2a-4350-b027-26d71afc7d5d .horizontal .axis.always_show .guide.line,#chart-c30d9847-8c2a-4350-b027-26d71afc7d5d .vertical .axis.always_show .guide.line{opacity:1 !important}#chart-c30d9847-8c2a-4350-b027-26d71afc7d5d .axis.y .guides:hover .guide.line,#chart-c30d9847-8c2a-4350-b027-26d71afc7d5d .axis.y2 .guides:hover .guide.line,#chart-c30d9847-8c2a-4350-b027-26d71afc7d5d .axis.x .guides:hover .guide.line{opacity:1}#chart-c30d9847-8c2a-4350-b027-26d71afc7d5d .axis .guides:hover text{opacity:1}#chart-c30d9847-8c2a-4350-b027-26d71afc7d5d .nofill{fill:none}#chart-c30d9847-8c2a-4350-b027-26d71afc7d5d .subtle-fill{fill-opacity:.2}#chart-c30d9847-8c2a-4350-b027-26d71afc7d5d .dot{stroke-width:1px;fill-opacity:1}#chart-c30d9847-8c2a-4350-b027-26d71afc7d5d .dot.active{stroke-width:5px}#chart-c30d9847-8c2a-4350-b027-26d71afc7d5d .dot.negative{fill:transparent}#chart-c30d9847-8c2a-4350-b027-26d71afc7d5d text,#chart-c30d9847-8c2a-4350-b027-26d71afc7d5d tspan{stroke:none !important}#chart-c30d9847-8c2a-4350-b027-26d71afc7d5d .series text.active{opacity:1}#chart-c30d9847-8c2a-4350-b027-26d71afc7d5d .tooltip rect{fill-opacity:.95;stroke-width:.5}#chart-c30d9847-8c2a-4350-b027-26d71afc7d5d .tooltip text{fill-opacity:1}#chart-c30d9847-8c2a-4350-b027-26d71afc7d5d .showable{visibility:hidden}#chart-c30d9847-8c2a-4350-b027-26d71afc7d5d .showable.shown{visibility:visible}#chart-c30d9847-8c2a-4350-b027-26d71afc7d5d .gauge-background{fill:rgba(229,229,229,1);stroke:none}#chart-c30d9847-8c2a-4350-b027-26d71afc7d5d .bg-lines{stroke:rgba(249,249,249,1);stroke-width:2px}</style><script type=\"text/javascript\">window.pygal = window.pygal || {};window.pygal.config = window.pygal.config || {};window.pygal.config['c30d9847-8c2a-4350-b027-26d71afc7d5d'] = {\"allow_interruptions\": false, \"box_mode\": \"extremes\", \"classes\": [\"pygal-chart\"], \"css\": [\"file://style.css\", \"file://graph.css\"], \"defs\": [], \"disable_xml_declaration\": false, \"dots_size\": 2.5, \"dynamic_print_values\": false, \"explicit_size\": true, \"fill\": false, \"force_uri_protocol\": \"https\", \"formatter\": null, \"half_pie\": false, \"height\": 360, \"include_x_axis\": false, \"inner_radius\": 0, \"interpolate\": null, \"interpolation_parameters\": {}, \"interpolation_precision\": 250, \"inverse_y_axis\": false, \"js\": [\"//kozea.github.io/pygal.js/2.0.x/pygal-tooltips.min.js\"], \"legend_at_bottom\": false, \"legend_at_bottom_columns\": null, \"legend_box_size\": 12, \"logarithmic\": false, \"margin\": 20, \"margin_bottom\": null, \"margin_left\": null, \"margin_right\": null, \"margin_top\": null, \"max_scale\": 16, \"min_scale\": 4, \"missing_value_fill_truncation\": \"x\", \"no_data_text\": \"No data\", \"no_prefix\": false, \"order_min\": null, \"pretty_print\": false, \"print_labels\": false, \"print_values\": false, \"print_values_position\": \"center\", \"print_zeroes\": true, \"range\": null, \"rounded_bars\": null, \"secondary_range\": null, \"show_dots\": true, \"show_legend\": true, \"show_minor_x_labels\": true, \"show_minor_y_labels\": true, \"show_only_major_dots\": false, \"show_x_guides\": false, \"show_x_labels\": true, \"show_y_guides\": true, \"show_y_labels\": true, \"spacing\": 10, \"stack_from_top\": false, \"strict\": false, \"stroke\": true, \"stroke_style\": null, \"style\": {\"background\": \"rgba(249, 249, 249, 1)\", \"ci_colors\": [], \"colors\": [\"#F44336\", \"#3F51B5\", \"#009688\", \"#FFC107\", \"#FF5722\", \"#9C27B0\", \"#03A9F4\", \"#8BC34A\", \"#FF9800\", \"#E91E63\", \"#2196F3\", \"#4CAF50\", \"#FFEB3B\", \"#673AB7\", \"#00BCD4\", \"#CDDC39\", \"#9E9E9E\", \"#607D8B\"], \"font_family\": \"Consolas, \\\"Liberation Mono\\\", Menlo, Courier, monospace\", \"foreground\": \"rgba(0, 0, 0, .87)\", \"foreground_strong\": \"rgba(0, 0, 0, 1)\", \"foreground_subtle\": \"rgba(0, 0, 0, .54)\", \"guide_stroke_dasharray\": \"4,4\", \"label_font_family\": \"Consolas, \\\"Liberation Mono\\\", Menlo, Courier, monospace\", \"label_font_size\": 10, \"legend_font_family\": \"Consolas, \\\"Liberation Mono\\\", Menlo, Courier, monospace\", \"legend_font_size\": 14, \"major_guide_stroke_dasharray\": \"6,6\", \"major_label_font_family\": \"Consolas, \\\"Liberation Mono\\\", Menlo, Courier, monospace\", \"major_label_font_size\": 10, \"no_data_font_family\": \"Consolas, \\\"Liberation Mono\\\", Menlo, Courier, monospace\", \"no_data_font_size\": 64, \"opacity\": \".7\", \"opacity_hover\": \".8\", \"plot_background\": \"rgba(255, 255, 255, 1)\", \"stroke_opacity\": \".8\", \"stroke_opacity_hover\": \".9\", \"title_font_family\": \"Consolas, \\\"Liberation Mono\\\", Menlo, Courier, monospace\", \"title_font_size\": 16, \"tooltip_font_family\": \"Consolas, \\\"Liberation Mono\\\", Menlo, Courier, monospace\", \"tooltip_font_size\": 14, \"transition\": \"150ms\", \"value_background\": \"rgba(229, 229, 229, 1)\", \"value_colors\": [], \"value_font_family\": \"Consolas, \\\"Liberation Mono\\\", Menlo, Courier, monospace\", \"value_font_size\": 16, \"value_label_font_family\": \"Consolas, \\\"Liberation Mono\\\", Menlo, Courier, monospace\", \"value_label_font_size\": 10}, \"title\": \"Close Prices\", \"tooltip_border_radius\": 0, \"tooltip_fancy_mode\": true, \"truncate_label\": null, \"truncate_legend\": null, \"width\": 640, \"x_label_rotation\": 0, \"x_labels\": [\"1\", \"2\", \"3\", \"4\", \"5\", \"6\", \"7\", \"8\", \"9\", \"10\", \"11\", \"12\", \"13\", \"14\", \"15\", \"16\", \"17\", \"18\"], \"x_labels_major\": null, \"x_labels_major_count\": null, \"x_labels_major_every\": null, \"x_title\": \"Day\", \"xrange\": null, \"y_label_rotation\": 0, \"y_labels\": null, \"y_labels_major\": null, \"y_labels_major_count\": null, \"y_labels_major_every\": null, \"y_title\": \"Adj Close (USD)\", \"zero\": 0, \"legends\": [\"Apple\"]}</script><script type=\"text/javascript\" xlink:href=\"https://kozea.github.io/pygal.js/2.0.x/pygal-tooltips.min.js\"/></defs><title>Close Prices</title><g class=\"graph line-graph vertical\"><rect class=\"background\" height=\"360\" width=\"640\" x=\"0\" y=\"0\"/><g class=\"plot\" transform=\"translate(138, 46)\"><rect class=\"background\" height=\"248\" width=\"482.0\" x=\"0\" y=\"0\"/><g class=\"axis y always_show\"><path class=\"line\" d=\"M0.000000 248.000000 h482.000000\"/><g class=\"guides\"><path class=\"guide line\" d=\"M0.000000 225.156423 h482.000000\"/><text class=\"\" x=\"-5\" y=\"228.65642314134777\">144</text><title>144</title></g><g class=\"guides\"><path class=\"guide line\" d=\"M0.000000 205.184770 h482.000000\"/><text class=\"\" x=\"-5\" y=\"208.68477000386548\">146</text><title>146</title></g><g class=\"guides\"><path class=\"guide line\" d=\"M0.000000 185.213117 h482.000000\"/><text class=\"\" x=\"-5\" y=\"188.7131168663832\">148</text><title>148</title></g><g class=\"guides\"><path class=\"major guide line\" d=\"M0.000000 165.241464 h482.000000\"/><text class=\"major\" x=\"-5\" y=\"168.7414637289009\">150</text><title>150</title></g><g class=\"guides\"><path class=\"guide line\" d=\"M0.000000 145.269811 h482.000000\"/><text class=\"\" x=\"-5\" y=\"148.7698105914186\">152</text><title>152</title></g><g class=\"guides\"><path class=\"guide line\" d=\"M0.000000 125.298157 h482.000000\"/><text class=\"\" x=\"-5\" y=\"128.7981574539363\">154</text><title>154</title></g><g class=\"guides\"><path class=\"guide line\" d=\"M0.000000 105.326504 h482.000000\"/><text class=\"\" x=\"-5\" y=\"108.82650431645402\">156</text><title>156</title></g><g class=\"guides\"><path class=\"guide line\" d=\"M0.000000 85.354851 h482.000000\"/><text class=\"\" x=\"-5\" y=\"88.85485117897173\">158</text><title>158</title></g><g class=\"guides\"><path class=\"major guide line\" d=\"M0.000000 65.383198 h482.000000\"/><text class=\"major\" x=\"-5\" y=\"68.88319804148941\">160</text><title>160</title></g><g class=\"guides\"><path class=\"guide line\" d=\"M0.000000 45.411545 h482.000000\"/><text class=\"\" x=\"-5\" y=\"48.911544904007116\">162</text><title>162</title></g><g class=\"guides\"><path class=\"guide line\" d=\"M0.000000 25.439892 h482.000000\"/><text class=\"\" x=\"-5\" y=\"28.939891766524823\">164</text><title>164</title></g><g class=\"guides\"><path class=\"guide line\" d=\"M0.000000 5.468239 h482.000000\"/><text class=\"\" x=\"-5\" y=\"8.968238629042531\">166</text><title>166</title></g></g><g class=\"axis x\"><g class=\"guides\"><path class=\"line\" d=\"M9.269231 0.000000 v248.000000\"/><text class=\"\" x=\"9.26923076923077\" y=\"263.0\">1</text></g><g class=\"guides\"><path class=\"guide line\" d=\"M35.017094 0.000000 v248.000000\"/><text class=\"\" x=\"35.01709401709402\" y=\"263.0\">2</text></g><g class=\"guides\"><path class=\"guide line\" d=\"M60.764957 0.000000 v248.000000\"/><text class=\"\" x=\"60.76495726495726\" y=\"263.0\">3</text></g><g class=\"guides\"><path class=\"guide line\" d=\"M86.512821 0.000000 v248.000000\"/><text class=\"\" x=\"86.51282051282051\" y=\"263.0\">4</text></g><g class=\"guides\"><path class=\"guide line\" d=\"M112.260684 0.000000 v248.000000\"/><text class=\"\" x=\"112.26068376068375\" y=\"263.0\">5</text></g><g class=\"guides\"><path class=\"guide line\" d=\"M138.008547 0.000000 v248.000000\"/><text class=\"\" x=\"138.00854700854703\" y=\"263.0\">6</text></g><g class=\"guides\"><path class=\"guide line\" d=\"M163.756410 0.000000 v248.000000\"/><text class=\"\" x=\"163.75641025641025\" y=\"263.0\">7</text></g><g class=\"guides\"><path class=\"guide line\" d=\"M189.504274 0.000000 v248.000000\"/><text class=\"\" x=\"189.5042735042735\" y=\"263.0\">8</text></g><g class=\"guides\"><path class=\"guide line\" d=\"M215.252137 0.000000 v248.000000\"/><text class=\"\" x=\"215.25213675213675\" y=\"263.0\">9</text></g><g class=\"guides\"><path class=\"guide line\" d=\"M241.000000 0.000000 v248.000000\"/><text class=\"\" x=\"241.0\" y=\"263.0\">10</text></g><g class=\"guides\"><path class=\"guide line\" d=\"M266.747863 0.000000 v248.000000\"/><text class=\"\" x=\"266.7478632478633\" y=\"263.0\">11</text></g><g class=\"guides\"><path class=\"guide line\" d=\"M292.495726 0.000000 v248.000000\"/><text class=\"\" x=\"292.4957264957265\" y=\"263.0\">12</text></g><g class=\"guides\"><path class=\"guide line\" d=\"M318.243590 0.000000 v248.000000\"/><text class=\"\" x=\"318.2435897435897\" y=\"263.0\">13</text></g><g class=\"guides\"><path class=\"guide line\" d=\"M343.991453 0.000000 v248.000000\"/><text class=\"\" x=\"343.991452991453\" y=\"263.0\">14</text></g><g class=\"guides\"><path class=\"guide line\" d=\"M369.739316 0.000000 v248.000000\"/><text class=\"\" x=\"369.7393162393162\" y=\"263.0\">15</text></g><g class=\"guides\"><path class=\"guide line\" d=\"M395.487179 0.000000 v248.000000\"/><text class=\"\" x=\"395.4871794871795\" y=\"263.0\">16</text></g><g class=\"guides\"><path class=\"guide line\" d=\"M421.235043 0.000000 v248.000000\"/><text class=\"\" x=\"421.2350427350427\" y=\"263.0\">17</text></g><g class=\"guides\"><path class=\"guide line\" d=\"M446.982906 0.000000 v248.000000\"/><text class=\"\" x=\"446.98290598290595\" y=\"263.0\">18</text></g></g><g class=\"series serie-0 color-0\"><path class=\"line reactive nofill\" d=\"M9.269231 10.660868 L35.017094 26.039041 60.764957 4.769231 86.512821 56.495812 112.260684 97.038268 138.008547 157.951810 163.756410 196.896534 189.504274 93.643087 215.252137 103.828630 241.000000 103.029764 266.747863 87.951166 292.495726 86.153717 318.243590 243.230769 343.991453 182.616802 369.739316 185.912125 395.487179 157.752094 421.235043 132.188378 446.982906 127.295323 472.730769 142.373921\"/></g></g><g class=\"titles\"><text class=\"title plot_title\" x=\"320.0\" y=\"26\">Close Prices</text><text class=\"title\" x=\"379.0\" y=\"340\">Day</text><text class=\"title\" x=\"64.0\" y=\"196.0\" transform=\"rotate(-90 64.000000 170.000000)\">Adj Close (USD)</text></g><g class=\"plot overlay\" transform=\"translate(138, 46)\"><g class=\"series serie-0 color-0\"><g class=\"dots\"><circle class=\"dot reactive tooltip-trigger\" cx=\"9.26923076923077\" cy=\"10.660868444788036\" r=\"2.5\"/><desc class=\"value\">165.48</desc><desc class=\"x \">9.26923076923077</desc><desc class=\"y \">10.660868444788036</desc><desc class=\"x_label\">1</desc></g><g class=\"dots\"><circle class=\"dot reactive tooltip-trigger\" cx=\"35.01709401709402\" cy=\"26.039041360649293\" r=\"2.5\"/><desc class=\"value\">163.94</desc><desc class=\"x \">35.01709401709402</desc><desc class=\"y \">26.039041360649293</desc><desc class=\"x_label\">2</desc></g><g class=\"dots\"><circle class=\"dot reactive tooltip-trigger\" cx=\"60.76495726495726\" cy=\"4.769230769230745\" r=\"2.5\"/><desc class=\"value\">166.07</desc><desc class=\"x \">60.76495726495726</desc><desc class=\"y \">4.769230769230745</desc><desc class=\"x_label\">3</desc></g><g class=\"dots\"><circle class=\"dot reactive tooltip-trigger\" cx=\"86.51282051282051\" cy=\"56.49581239530994\" r=\"2.5\"/><desc class=\"value\">160.89</desc><desc class=\"x \">86.51282051282051</desc><desc class=\"y \">56.49581239530994</desc><desc class=\"x_label\">4</desc></g><g class=\"dots\"><circle class=\"dot reactive tooltip-trigger\" cx=\"112.26068376068375\" cy=\"97.03826826439874\" r=\"2.5\"/><desc class=\"value\">156.83</desc><desc class=\"x \">112.26068376068375</desc><desc class=\"y \">97.03826826439874</desc><desc class=\"x_label\">5</desc></g><g class=\"dots\"><circle class=\"dot reactive tooltip-trigger\" cx=\"138.00854700854703\" cy=\"157.95181033371995\" r=\"2.5\"/><desc class=\"value\">150.73</desc><desc class=\"x top\">138.00854700854703</desc><desc class=\"y top\">157.95181033371995</desc><desc class=\"x_label\">6</desc></g><g class=\"dots\"><circle class=\"dot reactive tooltip-trigger\" cx=\"163.75641025641025\" cy=\"196.8965339518102\" r=\"2.5\"/><desc class=\"value\">146.83</desc><desc class=\"x top\">163.75641025641025</desc><desc class=\"y top\">196.8965339518102</desc><desc class=\"x_label\">7</desc></g><g class=\"dots\"><circle class=\"dot reactive tooltip-trigger\" cx=\"189.5042735042735\" cy=\"93.64308723102698\" r=\"2.5\"/><desc class=\"value\">157.17</desc><desc class=\"x \">189.5042735042735</desc><desc class=\"y \">93.64308723102698</desc><desc class=\"x_label\">8</desc></g><g class=\"dots\"><circle class=\"dot reactive tooltip-trigger\" cx=\"215.25213675213675\" cy=\"103.82863033114276\" r=\"2.5\"/><desc class=\"value\">156.15</desc><desc class=\"x \">215.25213675213675</desc><desc class=\"y \">103.82863033114276</desc><desc class=\"x_label\">9</desc></g><g class=\"dots\"><circle class=\"dot reactive tooltip-trigger\" cx=\"241.0\" cy=\"103.02976420564366\" r=\"2.5\"/><desc class=\"value\">156.23</desc><desc class=\"x \">241.0</desc><desc class=\"y \">103.02976420564366</desc><desc class=\"x_label\">10</desc></g><g class=\"dots\"><circle class=\"dot reactive tooltip-trigger\" cx=\"266.7478632478633\" cy=\"87.95116608684432\" r=\"2.5\"/><desc class=\"value\">157.74</desc><desc class=\"x left\">266.7478632478633</desc><desc class=\"y left\">87.95116608684432</desc><desc class=\"x_label\">11</desc></g><g class=\"dots\"><circle class=\"dot reactive tooltip-trigger\" cx=\"292.4957264957265\" cy=\"86.15371730447112\" r=\"2.5\"/><desc class=\"value\">157.92</desc><desc class=\"x left\">292.4957264957265</desc><desc class=\"y left\">86.15371730447112</desc><desc class=\"x_label\">12</desc></g><g class=\"dots\"><circle class=\"dot reactive tooltip-trigger\" cx=\"318.2435897435897\" cy=\"243.23076923076928\" r=\"2.5\"/><desc class=\"value\">142.19</desc><desc class=\"x left top\">318.2435897435897</desc><desc class=\"y left top\">243.23076923076928</desc><desc class=\"x_label\">13</desc></g><g class=\"dots\"><circle class=\"dot reactive tooltip-trigger\" cx=\"343.991452991453\" cy=\"182.61680195851056\" r=\"2.5\"/><desc class=\"value\">148.26</desc><desc class=\"x left top\">343.991452991453</desc><desc class=\"y left top\">182.61680195851056</desc><desc class=\"x_label\">14</desc></g><g class=\"dots\"><circle class=\"dot reactive tooltip-trigger\" cx=\"369.7393162393162\" cy=\"185.912124726195\" r=\"2.5\"/><desc class=\"value\">147.93</desc><desc class=\"x left top\">369.7393162393162</desc><desc class=\"y left top\">185.912124726195</desc><desc class=\"x_label\">15</desc></g><g class=\"dots\"><circle class=\"dot reactive tooltip-trigger\" cx=\"395.4871794871795\" cy=\"157.75209380234503\" r=\"2.5\"/><desc class=\"value\">150.75</desc><desc class=\"x left top\">395.4871794871795</desc><desc class=\"y left top\">157.75209380234503</desc><desc class=\"x_label\">16</desc></g><g class=\"dots\"><circle class=\"dot reactive tooltip-trigger\" cx=\"421.2350427350427\" cy=\"132.18837778636765\" r=\"2.5\"/><desc class=\"value\">153.31</desc><desc class=\"x left top\">421.2350427350427</desc><desc class=\"y left top\">132.18837778636765</desc><desc class=\"x_label\">17</desc></g><g class=\"dots\"><circle class=\"dot reactive tooltip-trigger\" cx=\"446.98290598290595\" cy=\"127.29532276768443\" r=\"2.5\"/><desc class=\"value\">153.8</desc><desc class=\"x left top\">446.98290598290595</desc><desc class=\"y left top\">127.29532276768443</desc><desc class=\"x_label\">18</desc></g><g class=\"dots\"><circle class=\"dot reactive tooltip-trigger\" cx=\"472.7307692307692\" cy=\"142.37392088648375\" r=\"2.5\"/><desc class=\"value\">152.29</desc><desc class=\"x left top\">472.7307692307692</desc><desc class=\"y left top\">142.37392088648375</desc></g></g></g><g class=\"plot text-overlay\" transform=\"translate(138, 46)\"><g class=\"series serie-0 color-0\"/></g><g class=\"plot tooltip-overlay\" transform=\"translate(138, 46)\"><g class=\"tooltip\" style=\"opacity: 0\" transform=\"translate(0 0)\"><rect class=\"tooltip-box\" height=\"0\" rx=\"0\" ry=\"0\" width=\"0\"/><g class=\"text\"/></g></g><g class=\"legends\" transform=\"translate(10, 56)\"><g class=\"legend reactive activate-serie\" id=\"activate-serie-0\"><rect class=\"color-0 reactive\" height=\"12\" width=\"12\" x=\"0.0\" y=\"1.0\"/><text x=\"17.0\" y=\"11.2\">Apple</text></g></g><g class=\"legends\" transform=\"translate(630, 56)\"/></g></svg>\n",
       "    </figure>\n",
       "  </body>\n",
       "</html>\n"
      ],
      "text/plain": [
       "<IPython.core.display.HTML object>"
      ]
     },
     "metadata": {},
     "output_type": "display_data"
    }
   ],
   "source": [
    "line_plot.add('Apple', \n",
    "              stock_df['AAPL'])\n",
    "\n",
    "display_chart(line_plot)"
   ]
  },
  {
   "cell_type": "code",
   "execution_count": 23,
   "metadata": {},
   "outputs": [
    {
     "data": {
      "text/html": [
       "\n",
       "<!DOCTYPE html>\n",
       "<html>\n",
       "  <head>\n",
       "  <script type=\"text/javascript\" \n",
       "          src=\"http://kozea.github.com/pygal.js/javascripts/svg.jquery.js\">\n",
       "  </script>\n",
       "  <script type=\"text/javascript\" \n",
       "          src=\"https://kozea.github.io/pygal.js/2.0.x/pygal-tooltips.min.js\"\">\n",
       "  </script>\n",
       "  </head>\n",
       "  <body>\n",
       "    <figure>\n",
       "      <?xml version='1.0' encoding='utf-8'?>\n",
       "<svg xmlns:xlink=\"http://www.w3.org/1999/xlink\" xmlns=\"http://www.w3.org/2000/svg\" id=\"chart-c30d9847-8c2a-4350-b027-26d71afc7d5d\" class=\"pygal-chart\" viewBox=\"0 0 640 360\" width=\"640\" height=\"360\"><!--Generated with pygal 2.4.0 (lxml) ©Kozea 2012-2016 on 2019-02-03--><!--http://pygal.org--><!--http://github.com/Kozea/pygal--><defs><style type=\"text/css\">#chart-c30d9847-8c2a-4350-b027-26d71afc7d5d{-webkit-user-select:none;-webkit-font-smoothing:antialiased;font-family:Consolas,\"Liberation Mono\",Menlo,Courier,monospace}#chart-c30d9847-8c2a-4350-b027-26d71afc7d5d .title{font-family:Consolas,\"Liberation Mono\",Menlo,Courier,monospace;font-size:16px}#chart-c30d9847-8c2a-4350-b027-26d71afc7d5d .legends .legend text{font-family:Consolas,\"Liberation Mono\",Menlo,Courier,monospace;font-size:14px}#chart-c30d9847-8c2a-4350-b027-26d71afc7d5d .axis text{font-family:Consolas,\"Liberation Mono\",Menlo,Courier,monospace;font-size:10px}#chart-c30d9847-8c2a-4350-b027-26d71afc7d5d .axis text.major{font-family:Consolas,\"Liberation Mono\",Menlo,Courier,monospace;font-size:10px}#chart-c30d9847-8c2a-4350-b027-26d71afc7d5d .text-overlay text.value{font-family:Consolas,\"Liberation Mono\",Menlo,Courier,monospace;font-size:16px}#chart-c30d9847-8c2a-4350-b027-26d71afc7d5d .text-overlay text.label{font-family:Consolas,\"Liberation Mono\",Menlo,Courier,monospace;font-size:10px}#chart-c30d9847-8c2a-4350-b027-26d71afc7d5d .tooltip{font-family:Consolas,\"Liberation Mono\",Menlo,Courier,monospace;font-size:14px}#chart-c30d9847-8c2a-4350-b027-26d71afc7d5d text.no_data{font-family:Consolas,\"Liberation Mono\",Menlo,Courier,monospace;font-size:64px}\n",
       "#chart-c30d9847-8c2a-4350-b027-26d71afc7d5d{background-color:rgba(249,249,249,1)}#chart-c30d9847-8c2a-4350-b027-26d71afc7d5d path,#chart-c30d9847-8c2a-4350-b027-26d71afc7d5d line,#chart-c30d9847-8c2a-4350-b027-26d71afc7d5d rect,#chart-c30d9847-8c2a-4350-b027-26d71afc7d5d circle{-webkit-transition:150ms;-moz-transition:150ms;transition:150ms}#chart-c30d9847-8c2a-4350-b027-26d71afc7d5d .graph &gt; .background{fill:rgba(249,249,249,1)}#chart-c30d9847-8c2a-4350-b027-26d71afc7d5d .plot &gt; .background{fill:rgba(255,255,255,1)}#chart-c30d9847-8c2a-4350-b027-26d71afc7d5d .graph{fill:rgba(0,0,0,.87)}#chart-c30d9847-8c2a-4350-b027-26d71afc7d5d text.no_data{fill:rgba(0,0,0,1)}#chart-c30d9847-8c2a-4350-b027-26d71afc7d5d .title{fill:rgba(0,0,0,1)}#chart-c30d9847-8c2a-4350-b027-26d71afc7d5d .legends .legend text{fill:rgba(0,0,0,.87)}#chart-c30d9847-8c2a-4350-b027-26d71afc7d5d .legends .legend:hover text{fill:rgba(0,0,0,1)}#chart-c30d9847-8c2a-4350-b027-26d71afc7d5d .axis .line{stroke:rgba(0,0,0,1)}#chart-c30d9847-8c2a-4350-b027-26d71afc7d5d .axis .guide.line{stroke:rgba(0,0,0,.54)}#chart-c30d9847-8c2a-4350-b027-26d71afc7d5d .axis .major.line{stroke:rgba(0,0,0,.87)}#chart-c30d9847-8c2a-4350-b027-26d71afc7d5d .axis text.major{fill:rgba(0,0,0,1)}#chart-c30d9847-8c2a-4350-b027-26d71afc7d5d .axis.y .guides:hover .guide.line,#chart-c30d9847-8c2a-4350-b027-26d71afc7d5d .line-graph .axis.x .guides:hover .guide.line,#chart-c30d9847-8c2a-4350-b027-26d71afc7d5d .stackedline-graph .axis.x .guides:hover .guide.line,#chart-c30d9847-8c2a-4350-b027-26d71afc7d5d .xy-graph .axis.x .guides:hover .guide.line{stroke:rgba(0,0,0,1)}#chart-c30d9847-8c2a-4350-b027-26d71afc7d5d .axis .guides:hover text{fill:rgba(0,0,0,1)}#chart-c30d9847-8c2a-4350-b027-26d71afc7d5d .reactive{fill-opacity:.7;stroke-opacity:.8}#chart-c30d9847-8c2a-4350-b027-26d71afc7d5d .ci{stroke:rgba(0,0,0,.87)}#chart-c30d9847-8c2a-4350-b027-26d71afc7d5d .reactive.active,#chart-c30d9847-8c2a-4350-b027-26d71afc7d5d .active .reactive{fill-opacity:.8;stroke-opacity:.9;stroke-width:4}#chart-c30d9847-8c2a-4350-b027-26d71afc7d5d .ci .reactive.active{stroke-width:1.5}#chart-c30d9847-8c2a-4350-b027-26d71afc7d5d .series text{fill:rgba(0,0,0,1)}#chart-c30d9847-8c2a-4350-b027-26d71afc7d5d .tooltip rect{fill:rgba(255,255,255,1);stroke:rgba(0,0,0,1);-webkit-transition:opacity 150ms;-moz-transition:opacity 150ms;transition:opacity 150ms}#chart-c30d9847-8c2a-4350-b027-26d71afc7d5d .tooltip .label{fill:rgba(0,0,0,.87)}#chart-c30d9847-8c2a-4350-b027-26d71afc7d5d .tooltip .label{fill:rgba(0,0,0,.87)}#chart-c30d9847-8c2a-4350-b027-26d71afc7d5d .tooltip .legend{font-size:.8em;fill:rgba(0,0,0,.54)}#chart-c30d9847-8c2a-4350-b027-26d71afc7d5d .tooltip .x_label{font-size:.6em;fill:rgba(0,0,0,1)}#chart-c30d9847-8c2a-4350-b027-26d71afc7d5d .tooltip .xlink{font-size:.5em;text-decoration:underline}#chart-c30d9847-8c2a-4350-b027-26d71afc7d5d .tooltip .value{font-size:1.5em}#chart-c30d9847-8c2a-4350-b027-26d71afc7d5d .bound{font-size:.5em}#chart-c30d9847-8c2a-4350-b027-26d71afc7d5d .max-value{font-size:.75em;fill:rgba(0,0,0,.54)}#chart-c30d9847-8c2a-4350-b027-26d71afc7d5d .map-element{fill:rgba(255,255,255,1);stroke:rgba(0,0,0,.54) !important}#chart-c30d9847-8c2a-4350-b027-26d71afc7d5d .map-element .reactive{fill-opacity:inherit;stroke-opacity:inherit}#chart-c30d9847-8c2a-4350-b027-26d71afc7d5d .color-0,#chart-c30d9847-8c2a-4350-b027-26d71afc7d5d .color-0 a:visited{stroke:#F44336;fill:#F44336}#chart-c30d9847-8c2a-4350-b027-26d71afc7d5d .color-1,#chart-c30d9847-8c2a-4350-b027-26d71afc7d5d .color-1 a:visited{stroke:#3F51B5;fill:#3F51B5}#chart-c30d9847-8c2a-4350-b027-26d71afc7d5d .text-overlay .color-0 text{fill:black}#chart-c30d9847-8c2a-4350-b027-26d71afc7d5d .text-overlay .color-1 text{fill:black}\n",
       "#chart-c30d9847-8c2a-4350-b027-26d71afc7d5d text.no_data{text-anchor:middle}#chart-c30d9847-8c2a-4350-b027-26d71afc7d5d .guide.line{fill:none}#chart-c30d9847-8c2a-4350-b027-26d71afc7d5d .centered{text-anchor:middle}#chart-c30d9847-8c2a-4350-b027-26d71afc7d5d .title{text-anchor:middle}#chart-c30d9847-8c2a-4350-b027-26d71afc7d5d .legends .legend text{fill-opacity:1}#chart-c30d9847-8c2a-4350-b027-26d71afc7d5d .axis.x text{text-anchor:middle}#chart-c30d9847-8c2a-4350-b027-26d71afc7d5d .axis.x:not(.web) text[transform]{text-anchor:start}#chart-c30d9847-8c2a-4350-b027-26d71afc7d5d .axis.x:not(.web) text[transform].backwards{text-anchor:end}#chart-c30d9847-8c2a-4350-b027-26d71afc7d5d .axis.y text{text-anchor:end}#chart-c30d9847-8c2a-4350-b027-26d71afc7d5d .axis.y text[transform].backwards{text-anchor:start}#chart-c30d9847-8c2a-4350-b027-26d71afc7d5d .axis.y2 text{text-anchor:start}#chart-c30d9847-8c2a-4350-b027-26d71afc7d5d .axis.y2 text[transform].backwards{text-anchor:end}#chart-c30d9847-8c2a-4350-b027-26d71afc7d5d .axis .guide.line{stroke-dasharray:4,4}#chart-c30d9847-8c2a-4350-b027-26d71afc7d5d .axis .major.guide.line{stroke-dasharray:6,6}#chart-c30d9847-8c2a-4350-b027-26d71afc7d5d .horizontal .axis.y .guide.line,#chart-c30d9847-8c2a-4350-b027-26d71afc7d5d .horizontal .axis.y2 .guide.line,#chart-c30d9847-8c2a-4350-b027-26d71afc7d5d .vertical .axis.x .guide.line{opacity:0}#chart-c30d9847-8c2a-4350-b027-26d71afc7d5d .horizontal .axis.always_show .guide.line,#chart-c30d9847-8c2a-4350-b027-26d71afc7d5d .vertical .axis.always_show .guide.line{opacity:1 !important}#chart-c30d9847-8c2a-4350-b027-26d71afc7d5d .axis.y .guides:hover .guide.line,#chart-c30d9847-8c2a-4350-b027-26d71afc7d5d .axis.y2 .guides:hover .guide.line,#chart-c30d9847-8c2a-4350-b027-26d71afc7d5d .axis.x .guides:hover .guide.line{opacity:1}#chart-c30d9847-8c2a-4350-b027-26d71afc7d5d .axis .guides:hover text{opacity:1}#chart-c30d9847-8c2a-4350-b027-26d71afc7d5d .nofill{fill:none}#chart-c30d9847-8c2a-4350-b027-26d71afc7d5d .subtle-fill{fill-opacity:.2}#chart-c30d9847-8c2a-4350-b027-26d71afc7d5d .dot{stroke-width:1px;fill-opacity:1}#chart-c30d9847-8c2a-4350-b027-26d71afc7d5d .dot.active{stroke-width:5px}#chart-c30d9847-8c2a-4350-b027-26d71afc7d5d .dot.negative{fill:transparent}#chart-c30d9847-8c2a-4350-b027-26d71afc7d5d text,#chart-c30d9847-8c2a-4350-b027-26d71afc7d5d tspan{stroke:none !important}#chart-c30d9847-8c2a-4350-b027-26d71afc7d5d .series text.active{opacity:1}#chart-c30d9847-8c2a-4350-b027-26d71afc7d5d .tooltip rect{fill-opacity:.95;stroke-width:.5}#chart-c30d9847-8c2a-4350-b027-26d71afc7d5d .tooltip text{fill-opacity:1}#chart-c30d9847-8c2a-4350-b027-26d71afc7d5d .showable{visibility:hidden}#chart-c30d9847-8c2a-4350-b027-26d71afc7d5d .showable.shown{visibility:visible}#chart-c30d9847-8c2a-4350-b027-26d71afc7d5d .gauge-background{fill:rgba(229,229,229,1);stroke:none}#chart-c30d9847-8c2a-4350-b027-26d71afc7d5d .bg-lines{stroke:rgba(249,249,249,1);stroke-width:2px}</style><script type=\"text/javascript\">window.pygal = window.pygal || {};window.pygal.config = window.pygal.config || {};window.pygal.config['c30d9847-8c2a-4350-b027-26d71afc7d5d'] = {\"allow_interruptions\": false, \"box_mode\": \"extremes\", \"classes\": [\"pygal-chart\"], \"css\": [\"file://style.css\", \"file://graph.css\"], \"defs\": [], \"disable_xml_declaration\": false, \"dots_size\": 2.5, \"dynamic_print_values\": false, \"explicit_size\": true, \"fill\": false, \"force_uri_protocol\": \"https\", \"formatter\": null, \"half_pie\": false, \"height\": 360, \"include_x_axis\": false, \"inner_radius\": 0, \"interpolate\": null, \"interpolation_parameters\": {}, \"interpolation_precision\": 250, \"inverse_y_axis\": false, \"js\": [\"//kozea.github.io/pygal.js/2.0.x/pygal-tooltips.min.js\"], \"legend_at_bottom\": false, \"legend_at_bottom_columns\": null, \"legend_box_size\": 12, \"logarithmic\": false, \"margin\": 20, \"margin_bottom\": null, \"margin_left\": null, \"margin_right\": null, \"margin_top\": null, \"max_scale\": 16, \"min_scale\": 4, \"missing_value_fill_truncation\": \"x\", \"no_data_text\": \"No data\", \"no_prefix\": false, \"order_min\": null, \"pretty_print\": false, \"print_labels\": false, \"print_values\": false, \"print_values_position\": \"center\", \"print_zeroes\": true, \"range\": null, \"rounded_bars\": null, \"secondary_range\": null, \"show_dots\": true, \"show_legend\": true, \"show_minor_x_labels\": true, \"show_minor_y_labels\": true, \"show_only_major_dots\": false, \"show_x_guides\": false, \"show_x_labels\": true, \"show_y_guides\": true, \"show_y_labels\": true, \"spacing\": 10, \"stack_from_top\": false, \"strict\": false, \"stroke\": true, \"stroke_style\": null, \"style\": {\"background\": \"rgba(249, 249, 249, 1)\", \"ci_colors\": [], \"colors\": [\"#F44336\", \"#3F51B5\", \"#009688\", \"#FFC107\", \"#FF5722\", \"#9C27B0\", \"#03A9F4\", \"#8BC34A\", \"#FF9800\", \"#E91E63\", \"#2196F3\", \"#4CAF50\", \"#FFEB3B\", \"#673AB7\", \"#00BCD4\", \"#CDDC39\", \"#9E9E9E\", \"#607D8B\"], \"font_family\": \"Consolas, \\\"Liberation Mono\\\", Menlo, Courier, monospace\", \"foreground\": \"rgba(0, 0, 0, .87)\", \"foreground_strong\": \"rgba(0, 0, 0, 1)\", \"foreground_subtle\": \"rgba(0, 0, 0, .54)\", \"guide_stroke_dasharray\": \"4,4\", \"label_font_family\": \"Consolas, \\\"Liberation Mono\\\", Menlo, Courier, monospace\", \"label_font_size\": 10, \"legend_font_family\": \"Consolas, \\\"Liberation Mono\\\", Menlo, Courier, monospace\", \"legend_font_size\": 14, \"major_guide_stroke_dasharray\": \"6,6\", \"major_label_font_family\": \"Consolas, \\\"Liberation Mono\\\", Menlo, Courier, monospace\", \"major_label_font_size\": 10, \"no_data_font_family\": \"Consolas, \\\"Liberation Mono\\\", Menlo, Courier, monospace\", \"no_data_font_size\": 64, \"opacity\": \".7\", \"opacity_hover\": \".8\", \"plot_background\": \"rgba(255, 255, 255, 1)\", \"stroke_opacity\": \".8\", \"stroke_opacity_hover\": \".9\", \"title_font_family\": \"Consolas, \\\"Liberation Mono\\\", Menlo, Courier, monospace\", \"title_font_size\": 16, \"tooltip_font_family\": \"Consolas, \\\"Liberation Mono\\\", Menlo, Courier, monospace\", \"tooltip_font_size\": 14, \"transition\": \"150ms\", \"value_background\": \"rgba(229, 229, 229, 1)\", \"value_colors\": [], \"value_font_family\": \"Consolas, \\\"Liberation Mono\\\", Menlo, Courier, monospace\", \"value_font_size\": 16, \"value_label_font_family\": \"Consolas, \\\"Liberation Mono\\\", Menlo, Courier, monospace\", \"value_label_font_size\": 10}, \"title\": \"Close Prices\", \"tooltip_border_radius\": 0, \"tooltip_fancy_mode\": true, \"truncate_label\": null, \"truncate_legend\": null, \"width\": 640, \"x_label_rotation\": 0, \"x_labels\": [\"1\", \"2\", \"3\", \"4\", \"5\", \"6\", \"7\", \"8\", \"9\", \"10\", \"11\", \"12\", \"13\", \"14\", \"15\", \"16\", \"17\", \"18\"], \"x_labels_major\": null, \"x_labels_major_count\": null, \"x_labels_major_every\": null, \"x_title\": \"Day\", \"xrange\": null, \"y_label_rotation\": 0, \"y_labels\": null, \"y_labels_major\": null, \"y_labels_major_count\": null, \"y_labels_major_every\": null, \"y_title\": \"Adj Close (USD)\", \"zero\": 0, \"legends\": [\"Apple\", \"Microsoft\"]}</script><script type=\"text/javascript\" xlink:href=\"https://kozea.github.io/pygal.js/2.0.x/pygal-tooltips.min.js\"/></defs><title>Close Prices</title><g class=\"graph line-graph vertical\"><rect class=\"background\" height=\"360\" width=\"640\" x=\"0\" y=\"0\"/><g class=\"plot\" transform=\"translate(171, 46)\"><rect class=\"background\" height=\"248\" width=\"448.4\" x=\"0\" y=\"0\"/><g class=\"axis y always_show\"><path class=\"line\" d=\"M0.000000 248.000000 h448.400000\"/><g class=\"guides\"><path class=\"major guide line\" d=\"M0.000000 223.773315 h448.400000\"/><text class=\"major\" x=\"-5\" y=\"227.27331536964562\">100</text><title>100</title></g><g class=\"guides\"><path class=\"guide line\" d=\"M0.000000 190.626035 h448.400000\"/><text class=\"\" x=\"-5\" y=\"194.12603451594276\">110</text><title>110</title></g><g class=\"guides\"><path class=\"guide line\" d=\"M0.000000 157.478754 h448.400000\"/><text class=\"\" x=\"-5\" y=\"160.97875366223985\">120</text><title>120</title></g><g class=\"guides\"><path class=\"guide line\" d=\"M0.000000 124.331473 h448.400000\"/><text class=\"\" x=\"-5\" y=\"127.83147280853699\">130</text><title>130</title></g><g class=\"guides\"><path class=\"guide line\" d=\"M0.000000 91.184192 h448.400000\"/><text class=\"\" x=\"-5\" y=\"94.68419195483412\">140</text><title>140</title></g><g class=\"guides\"><path class=\"major guide line\" d=\"M0.000000 58.036911 h448.400000\"/><text class=\"major\" x=\"-5\" y=\"61.53691110113124\">150</text><title>150</title></g><g class=\"guides\"><path class=\"guide line\" d=\"M0.000000 24.889630 h448.400000\"/><text class=\"\" x=\"-5\" y=\"28.38963024742833\">160</text><title>160</title></g></g><g class=\"axis x\"><g class=\"guides\"><path class=\"line\" d=\"M8.623077 0.000000 v248.000000\"/><text class=\"\" x=\"8.623076923076923\" y=\"263.0\">1</text></g><g class=\"guides\"><path class=\"guide line\" d=\"M32.576068 0.000000 v248.000000\"/><text class=\"\" x=\"32.57606837606837\" y=\"263.0\">2</text></g><g class=\"guides\"><path class=\"guide line\" d=\"M56.529060 0.000000 v248.000000\"/><text class=\"\" x=\"56.52905982905982\" y=\"263.0\">3</text></g><g class=\"guides\"><path class=\"guide line\" d=\"M80.482051 0.000000 v248.000000\"/><text class=\"\" x=\"80.48205128205127\" y=\"263.0\">4</text></g><g class=\"guides\"><path class=\"guide line\" d=\"M104.435043 0.000000 v248.000000\"/><text class=\"\" x=\"104.43504273504273\" y=\"263.0\">5</text></g><g class=\"guides\"><path class=\"guide line\" d=\"M128.388034 0.000000 v248.000000\"/><text class=\"\" x=\"128.3880341880342\" y=\"263.0\">6</text></g><g class=\"guides\"><path class=\"guide line\" d=\"M152.341026 0.000000 v248.000000\"/><text class=\"\" x=\"152.34102564102562\" y=\"263.0\">7</text></g><g class=\"guides\"><path class=\"guide line\" d=\"M176.294017 0.000000 v248.000000\"/><text class=\"\" x=\"176.2940170940171\" y=\"263.0\">8</text></g><g class=\"guides\"><path class=\"guide line\" d=\"M200.247009 0.000000 v248.000000\"/><text class=\"\" x=\"200.24700854700853\" y=\"263.0\">9</text></g><g class=\"guides\"><path class=\"guide line\" d=\"M224.200000 0.000000 v248.000000\"/><text class=\"\" x=\"224.2\" y=\"263.0\">10</text></g><g class=\"guides\"><path class=\"guide line\" d=\"M248.152991 0.000000 v248.000000\"/><text class=\"\" x=\"248.15299145299144\" y=\"263.0\">11</text></g><g class=\"guides\"><path class=\"guide line\" d=\"M272.105983 0.000000 v248.000000\"/><text class=\"\" x=\"272.10598290598296\" y=\"263.0\">12</text></g><g class=\"guides\"><path class=\"guide line\" d=\"M296.058974 0.000000 v248.000000\"/><text class=\"\" x=\"296.0589743589743\" y=\"263.0\">13</text></g><g class=\"guides\"><path class=\"guide line\" d=\"M320.011966 0.000000 v248.000000\"/><text class=\"\" x=\"320.0119658119658\" y=\"263.0\">14</text></g><g class=\"guides\"><path class=\"guide line\" d=\"M343.964957 0.000000 v248.000000\"/><text class=\"\" x=\"343.96495726495726\" y=\"263.0\">15</text></g><g class=\"guides\"><path class=\"guide line\" d=\"M367.917949 0.000000 v248.000000\"/><text class=\"\" x=\"367.91794871794866\" y=\"263.0\">16</text></g><g class=\"guides\"><path class=\"guide line\" d=\"M391.870940 0.000000 v248.000000\"/><text class=\"\" x=\"391.8709401709401\" y=\"263.0\">17</text></g><g class=\"guides\"><path class=\"guide line\" d=\"M415.823932 0.000000 v248.000000\"/><text class=\"\" x=\"415.82393162393157\" y=\"263.0\">18</text></g></g><g class=\"series serie-0 color-0\"><path class=\"line reactive nofill\" d=\"M8.623077 6.724920 L32.576068 11.829602 56.529060 4.769231 80.482051 21.939522 104.435043 35.397318 128.388034 55.617160 152.341026 68.544599 176.294017 34.270311 200.247009 37.651333 224.200000 37.386155 248.152991 32.380916 272.105983 31.784265 296.058974 83.924937 320.011966 63.804538 343.964957 64.898398 367.917949 55.550865 391.870940 47.065161 415.823932 45.440944 439.776923 50.446184\"/></g><g class=\"series serie-1 color-1\"><path class=\"line reactive nofill\" d=\"M8.623077 203.785505 L32.576068 214.193751 56.529060 210.613845 80.482051 211.541969 104.435043 218.768076 128.388034 229.640384 152.341026 243.230769 176.294017 221.917068 200.247009 219.861936 224.200000 222.480571 248.152991 218.569192 272.105983 220.060820 296.058974 232.391608 320.011966 217.375890 343.964957 216.944976 367.917949 214.492077 391.870940 209.619426 415.823932 211.840294 439.776923 214.492077\"/></g></g><g class=\"titles\"><text class=\"title plot_title\" x=\"320.0\" y=\"26\">Close Prices</text><text class=\"title\" x=\"395.79999999999995\" y=\"340\">Day</text><text class=\"title\" x=\"97.6\" y=\"196.0\" transform=\"rotate(-90 97.600000 170.000000)\">Adj Close (USD)</text></g><g class=\"plot overlay\" transform=\"translate(171, 46)\"><g class=\"series serie-0 color-0\"><g class=\"dots\"><circle class=\"dot reactive tooltip-trigger\" cx=\"8.623076923076923\" cy=\"6.72492033959918\" r=\"2.5\"/><desc class=\"value\">165.48</desc><desc class=\"x \">8.623076923076923</desc><desc class=\"y \">6.72492033959918</desc><desc class=\"x_label\">1</desc></g><g class=\"dots\"><circle class=\"dot reactive tooltip-trigger\" cx=\"32.57606837606837\" cy=\"11.829601591069405\" r=\"2.5\"/><desc class=\"value\">163.94</desc><desc class=\"x \">32.57606837606837</desc><desc class=\"y \">11.829601591069405</desc><desc class=\"x_label\">2</desc></g><g class=\"dots\"><circle class=\"dot reactive tooltip-trigger\" cx=\"56.52905982905982\" cy=\"4.769230769230717\" r=\"2.5\"/><desc class=\"value\">166.07</desc><desc class=\"x \">56.52905982905982</desc><desc class=\"y \">4.769230769230717</desc><desc class=\"x_label\">3</desc></g><g class=\"dots\"><circle class=\"dot reactive tooltip-trigger\" cx=\"80.48205128205127\" cy=\"21.939522251448864\" r=\"2.5\"/><desc class=\"value\">160.89</desc><desc class=\"x \">80.48205128205127</desc><desc class=\"y \">21.939522251448864</desc><desc class=\"x_label\">4</desc></g><g class=\"dots\"><circle class=\"dot reactive tooltip-trigger\" cx=\"104.43504273504273\" cy=\"35.397318278052126\" r=\"2.5\"/><desc class=\"value\">156.83</desc><desc class=\"x \">104.43504273504273</desc><desc class=\"y \">35.397318278052126</desc><desc class=\"x_label\">5</desc></g><g class=\"dots\"><circle class=\"dot reactive tooltip-trigger\" cx=\"128.3880341880342\" cy=\"55.61715959881096\" r=\"2.5\"/><desc class=\"value\">150.73</desc><desc class=\"x \">128.3880341880342</desc><desc class=\"y \">55.61715959881096</desc><desc class=\"x_label\">6</desc></g><g class=\"dots\"><circle class=\"dot reactive tooltip-trigger\" cx=\"152.34102564102562\" cy=\"68.54459913175498\" r=\"2.5\"/><desc class=\"value\">146.83</desc><desc class=\"x \">152.34102564102562</desc><desc class=\"y \">68.54459913175498</desc><desc class=\"x_label\">7</desc></g><g class=\"dots\"><circle class=\"dot reactive tooltip-trigger\" cx=\"176.2940170940171\" cy=\"34.270310729026306\" r=\"2.5\"/><desc class=\"value\">157.17</desc><desc class=\"x \">176.2940170940171</desc><desc class=\"y \">34.270310729026306</desc><desc class=\"x_label\">8</desc></g><g class=\"dots\"><circle class=\"dot reactive tooltip-trigger\" cx=\"200.24700854700853\" cy=\"37.65133337610396\" r=\"2.5\"/><desc class=\"value\">156.15</desc><desc class=\"x \">200.24700854700853</desc><desc class=\"y \">37.65133337610396</desc><desc class=\"x_label\">9</desc></g><g class=\"dots\"><circle class=\"dot reactive tooltip-trigger\" cx=\"224.2\" cy=\"37.386155129274385\" r=\"2.5\"/><desc class=\"value\">156.23</desc><desc class=\"x \">224.2</desc><desc class=\"y \">37.386155129274385</desc><desc class=\"x_label\">10</desc></g><g class=\"dots\"><circle class=\"dot reactive tooltip-trigger\" cx=\"248.15299145299144\" cy=\"32.38091572036518\" r=\"2.5\"/><desc class=\"value\">157.74</desc><desc class=\"x left\">248.15299145299144</desc><desc class=\"y left\">32.38091572036518</desc><desc class=\"x_label\">11</desc></g><g class=\"dots\"><circle class=\"dot reactive tooltip-trigger\" cx=\"272.10598290598296\" cy=\"31.784264664998602\" r=\"2.5\"/><desc class=\"value\">157.92</desc><desc class=\"x left\">272.10598290598296</desc><desc class=\"y left\">31.784264664998602</desc><desc class=\"x_label\">12</desc></g><g class=\"dots\"><circle class=\"dot reactive tooltip-trigger\" cx=\"296.0589743589743\" cy=\"83.92493744787319\" r=\"2.5\"/><desc class=\"value\">142.19</desc><desc class=\"x left\">296.0589743589743</desc><desc class=\"y left\">83.92493744787319</desc><desc class=\"x_label\">13</desc></g><g class=\"dots\"><circle class=\"dot reactive tooltip-trigger\" cx=\"320.0119658119658\" cy=\"63.80453796967555\" r=\"2.5\"/><desc class=\"value\">148.26</desc><desc class=\"x left\">320.0119658119658</desc><desc class=\"y left\">63.80453796967555</desc><desc class=\"x_label\">14</desc></g><g class=\"dots\"><circle class=\"dot reactive tooltip-trigger\" cx=\"343.96495726495726\" cy=\"64.89839823784772\" r=\"2.5\"/><desc class=\"value\">147.93</desc><desc class=\"x left\">343.96495726495726</desc><desc class=\"y left\">64.89839823784772</desc><desc class=\"x_label\">15</desc></g><g class=\"dots\"><circle class=\"dot reactive tooltip-trigger\" cx=\"367.91794871794866\" cy=\"55.550865037103506\" r=\"2.5\"/><desc class=\"value\">150.75</desc><desc class=\"x left\">367.91794871794866</desc><desc class=\"y left\">55.550865037103506</desc><desc class=\"x_label\">16</desc></g><g class=\"dots\"><circle class=\"dot reactive tooltip-trigger\" cx=\"391.8709401709401\" cy=\"47.06516113855557\" r=\"2.5\"/><desc class=\"value\">153.31</desc><desc class=\"x left\">391.8709401709401</desc><desc class=\"y left\">47.06516113855557</desc><desc class=\"x_label\">17</desc></g><g class=\"dots\"><circle class=\"dot reactive tooltip-trigger\" cx=\"415.82393162393157\" cy=\"45.440944376724104\" r=\"2.5\"/><desc class=\"value\">153.8</desc><desc class=\"x left\">415.82393162393157</desc><desc class=\"y left\">45.440944376724104</desc><desc class=\"x_label\">18</desc></g><g class=\"dots\"><circle class=\"dot reactive tooltip-trigger\" cx=\"439.7769230769231\" cy=\"50.44618378563328\" r=\"2.5\"/><desc class=\"value\">152.29</desc><desc class=\"x left\">439.7769230769231</desc><desc class=\"y left\">50.44618378563328</desc></g></g><g class=\"series serie-1 color-1\"><g class=\"dots\"><circle class=\"dot reactive tooltip-trigger\" cx=\"8.623076923076923\" cy=\"203.7855050148628\" r=\"2.5\"/><desc class=\"value\">106.03</desc><desc class=\"x top\">8.623076923076923</desc><desc class=\"y top\">203.7855050148628</desc><desc class=\"x_label\">1</desc></g><g class=\"dots\"><circle class=\"dot reactive tooltip-trigger\" cx=\"32.57606837606837\" cy=\"214.19375120292548\" r=\"2.5\"/><desc class=\"value\">102.89</desc><desc class=\"x top\">32.57606837606837</desc><desc class=\"y top\">214.19375120292548</desc><desc class=\"x_label\">2</desc></g><g class=\"dots\"><circle class=\"dot reactive tooltip-trigger\" cx=\"56.52905982905982\" cy=\"210.6138448707256\" r=\"2.5\"/><desc class=\"value\">103.97</desc><desc class=\"x top\">56.52905982905982</desc><desc class=\"y top\">210.6138448707256</desc><desc class=\"x_label\">3</desc></g><g class=\"dots\"><circle class=\"dot reactive tooltip-trigger\" cx=\"80.48205128205127\" cy=\"211.54196873462928\" r=\"2.5\"/><desc class=\"value\">103.69</desc><desc class=\"x top\">80.48205128205127</desc><desc class=\"y top\">211.54196873462928</desc><desc class=\"x_label\">4</desc></g><g class=\"dots\"><circle class=\"dot reactive tooltip-trigger\" cx=\"104.43504273504273\" cy=\"218.76807596073647\" r=\"2.5\"/><desc class=\"value\">101.51</desc><desc class=\"x top\">104.43504273504273</desc><desc class=\"y top\">218.76807596073647</desc><desc class=\"x_label\">5</desc></g><g class=\"dots\"><circle class=\"dot reactive tooltip-trigger\" cx=\"128.3880341880342\" cy=\"229.640384080751\" r=\"2.5\"/><desc class=\"value\">98.23</desc><desc class=\"x top\">128.3880341880342</desc><desc class=\"y top\">229.640384080751</desc><desc class=\"x_label\">6</desc></g><g class=\"dots\"><circle class=\"dot reactive tooltip-trigger\" cx=\"152.34102564102562\" cy=\"243.23076923076923\" r=\"2.5\"/><desc class=\"value\">94.13</desc><desc class=\"x top\">152.34102564102562</desc><desc class=\"y top\">243.23076923076923</desc><desc class=\"x_label\">7</desc></g><g class=\"dots\"><circle class=\"dot reactive tooltip-trigger\" cx=\"176.2940170940171\" cy=\"221.91706764183826\" r=\"2.5\"/><desc class=\"value\">100.56</desc><desc class=\"x top\">176.2940170940171</desc><desc class=\"y top\">221.91706764183826</desc><desc class=\"x_label\">8</desc></g><g class=\"dots\"><circle class=\"dot reactive tooltip-trigger\" cx=\"200.24700854700853\" cy=\"219.86193622890866\" r=\"2.5\"/><desc class=\"value\">101.18</desc><desc class=\"x top\">200.24700854700853</desc><desc class=\"y top\">219.86193622890866</desc><desc class=\"x_label\">9</desc></g><g class=\"dots\"><circle class=\"dot reactive tooltip-trigger\" cx=\"224.2\" cy=\"222.4805714163512\" r=\"2.5\"/><desc class=\"value\">100.39</desc><desc class=\"x top\">224.2</desc><desc class=\"y top\">222.4805714163512</desc><desc class=\"x_label\">10</desc></g><g class=\"dots\"><circle class=\"dot reactive tooltip-trigger\" cx=\"248.15299145299144\" cy=\"218.56919227561428\" r=\"2.5\"/><desc class=\"value\">101.57</desc><desc class=\"x left top\">248.15299145299144</desc><desc class=\"y left top\">218.56919227561428</desc><desc class=\"x_label\">11</desc></g><g class=\"dots\"><circle class=\"dot reactive tooltip-trigger\" cx=\"272.10598290598296\" cy=\"220.0608199140309\" r=\"2.5\"/><desc class=\"value\">101.12</desc><desc class=\"x left top\">272.10598290598296</desc><desc class=\"y left top\">220.0608199140309</desc><desc class=\"x_label\">12</desc></g><g class=\"dots\"><circle class=\"dot reactive tooltip-trigger\" cx=\"296.0589743589743\" cy=\"232.39160839160834\" r=\"2.5\"/><desc class=\"value\">97.4</desc><desc class=\"x left top\">296.0589743589743</desc><desc class=\"y left top\">232.39160839160834</desc><desc class=\"x_label\">13</desc></g><g class=\"dots\"><circle class=\"dot reactive tooltip-trigger\" cx=\"320.0119658119658\" cy=\"217.37589016488096\" r=\"2.5\"/><desc class=\"value\">101.93</desc><desc class=\"x left top\">320.0119658119658</desc><desc class=\"y left top\">217.37589016488096</desc><desc class=\"x_label\">14</desc></g><g class=\"dots\"><circle class=\"dot reactive tooltip-trigger\" cx=\"343.96495726495726\" cy=\"216.94497551378282\" r=\"2.5\"/><desc class=\"value\">102.06</desc><desc class=\"x left top\">343.96495726495726</desc><desc class=\"y left top\">216.94497551378282</desc><desc class=\"x_label\">15</desc></g><g class=\"dots\"><circle class=\"dot reactive tooltip-trigger\" cx=\"367.91794871794866\" cy=\"214.49207673060883\" r=\"2.5\"/><desc class=\"value\">102.8</desc><desc class=\"x left top\">367.91794871794866</desc><desc class=\"y left top\">214.49207673060883</desc><desc class=\"x_label\">16</desc></g><g class=\"dots\"><circle class=\"dot reactive tooltip-trigger\" cx=\"391.8709401709401\" cy=\"209.6194264451145\" r=\"2.5\"/><desc class=\"value\">104.27</desc><desc class=\"x left top\">391.8709401709401</desc><desc class=\"y left top\">209.6194264451145</desc><desc class=\"x_label\">17</desc></g><g class=\"dots\"><circle class=\"dot reactive tooltip-trigger\" cx=\"415.82393162393157\" cy=\"211.8402942623126\" r=\"2.5\"/><desc class=\"value\">103.6</desc><desc class=\"x left top\">415.82393162393157</desc><desc class=\"y left top\">211.8402942623126</desc><desc class=\"x_label\">18</desc></g><g class=\"dots\"><circle class=\"dot reactive tooltip-trigger\" cx=\"439.7769230769231\" cy=\"214.49207673060883\" r=\"2.5\"/><desc class=\"value\">102.8</desc><desc class=\"x left top\">439.7769230769231</desc><desc class=\"y left top\">214.49207673060883</desc></g></g></g><g class=\"plot text-overlay\" transform=\"translate(171, 46)\"><g class=\"series serie-0 color-0\"/><g class=\"series serie-1 color-1\"/></g><g class=\"plot tooltip-overlay\" transform=\"translate(171, 46)\"><g class=\"tooltip\" style=\"opacity: 0\" transform=\"translate(0 0)\"><rect class=\"tooltip-box\" height=\"0\" rx=\"0\" ry=\"0\" width=\"0\"/><g class=\"text\"/></g></g><g class=\"legends\" transform=\"translate(10, 56)\"><g class=\"legend reactive activate-serie\" id=\"activate-serie-0\"><rect class=\"color-0 reactive\" height=\"12\" width=\"12\" x=\"0.0\" y=\"1.0\"/><text x=\"17.0\" y=\"11.2\">Apple</text></g><g class=\"legend reactive activate-serie\" id=\"activate-serie-1\"><rect class=\"color-1 reactive\" height=\"12\" width=\"12\" x=\"0.0\" y=\"22.0\"/><text x=\"17.0\" y=\"32.2\">Microsoft</text></g></g><g class=\"legends\" transform=\"translate(630, 56)\"/></g></svg>\n",
       "    </figure>\n",
       "  </body>\n",
       "</html>\n"
      ],
      "text/plain": [
       "<IPython.core.display.HTML object>"
      ]
     },
     "metadata": {},
     "output_type": "display_data"
    }
   ],
   "source": [
    "line_plot.add('Microsoft', \n",
    "              stock_df['MSFT'])\n",
    "\n",
    "display_chart(line_plot)"
   ]
  },
  {
   "cell_type": "code",
   "execution_count": null,
   "metadata": {
    "collapsed": true
   },
   "outputs": [],
   "source": []
  },
  {
   "cell_type": "code",
   "execution_count": 24,
   "metadata": {
    "collapsed": true
   },
   "outputs": [],
   "source": [
    "stock_df['Date'] = pd.to_datetime(stock_df['Date'])"
   ]
  },
  {
   "cell_type": "markdown",
   "metadata": {},
   "source": [
    "###### Datetimeline object needs you to convert the data into (x,y) tuples "
   ]
  },
  {
   "cell_type": "code",
   "execution_count": 25,
   "metadata": {
    "collapsed": true
   },
   "outputs": [],
   "source": [
    "aapl_close = []\n",
    "\n",
    "for i,j in zip(stock_df['Date'], stock_df['AAPL']):\n",
    "    aapl_close.append((i, j))"
   ]
  },
  {
   "cell_type": "code",
   "execution_count": 26,
   "metadata": {},
   "outputs": [
    {
     "data": {
      "text/plain": [
       "[(Timestamp('2018-12-14 00:00:00'), 165.48),\n",
       " (Timestamp('2018-12-17 00:00:00'), 163.94),\n",
       " (Timestamp('2018-12-18 00:00:00'), 166.07),\n",
       " (Timestamp('2018-12-19 00:00:00'), 160.89),\n",
       " (Timestamp('2018-12-20 00:00:00'), 156.83),\n",
       " (Timestamp('2018-12-21 00:00:00'), 150.73),\n",
       " (Timestamp('2018-12-24 00:00:00'), 146.83),\n",
       " (Timestamp('2018-12-26 00:00:00'), 157.17),\n",
       " (Timestamp('2018-12-27 00:00:00'), 156.15),\n",
       " (Timestamp('2018-12-28 00:00:00'), 156.23),\n",
       " (Timestamp('2018-12-31 00:00:00'), 157.74),\n",
       " (Timestamp('2019-01-02 00:00:00'), 157.92),\n",
       " (Timestamp('2019-01-03 00:00:00'), 142.19),\n",
       " (Timestamp('2019-01-04 00:00:00'), 148.26),\n",
       " (Timestamp('2019-01-07 00:00:00'), 147.93),\n",
       " (Timestamp('2019-01-08 00:00:00'), 150.75),\n",
       " (Timestamp('2019-01-09 00:00:00'), 153.31),\n",
       " (Timestamp('2019-01-10 00:00:00'), 153.8),\n",
       " (Timestamp('2019-01-11 00:00:00'), 152.29)]"
      ]
     },
     "execution_count": 26,
     "metadata": {},
     "output_type": "execute_result"
    }
   ],
   "source": [
    "aapl_close"
   ]
  },
  {
   "cell_type": "markdown",
   "metadata": {},
   "source": [
    "initialize the object, give it a title and required paramters like format the date to American Format."
   ]
  },
  {
   "cell_type": "code",
   "execution_count": 27,
   "metadata": {
    "collapsed": true
   },
   "outputs": [],
   "source": [
    "stock_close = pygal.DateLine(width = 640,\n",
    "                             height = 360,\n",
    "                             explicit_size = True,\n",
    "                             truncate_label=-1,\n",
    "                             x_label_rotation=35, \n",
    "                             x_value_formatter=lambda dt: dt.strftime('%m-%d-%Y '))"
   ]
  },
  {
   "cell_type": "code",
   "execution_count": 28,
   "metadata": {
    "collapsed": true
   },
   "outputs": [],
   "source": [
    "stock_close.title = \"Close Prices\"\n",
    "stock_close.x_title = \"Date\"\n",
    "stock_close.y_title = \"Adj Close (USD)\""
   ]
  },
  {
   "cell_type": "code",
   "execution_count": 29,
   "metadata": {},
   "outputs": [
    {
     "data": {
      "text/html": [
       "\n",
       "<!DOCTYPE html>\n",
       "<html>\n",
       "  <head>\n",
       "  <script type=\"text/javascript\" \n",
       "          src=\"http://kozea.github.com/pygal.js/javascripts/svg.jquery.js\">\n",
       "  </script>\n",
       "  <script type=\"text/javascript\" \n",
       "          src=\"https://kozea.github.io/pygal.js/2.0.x/pygal-tooltips.min.js\"\">\n",
       "  </script>\n",
       "  </head>\n",
       "  <body>\n",
       "    <figure>\n",
       "      <?xml version='1.0' encoding='utf-8'?>\n",
       "<svg xmlns:xlink=\"http://www.w3.org/1999/xlink\" xmlns=\"http://www.w3.org/2000/svg\" id=\"chart-e79ac104-3065-4fde-8105-2d4d2595da4f\" class=\"pygal-chart\" viewBox=\"0 0 640 360\" width=\"640\" height=\"360\"><!--Generated with pygal 2.4.0 (lxml) ©Kozea 2012-2016 on 2019-02-03--><!--http://pygal.org--><!--http://github.com/Kozea/pygal--><defs><style type=\"text/css\">#chart-e79ac104-3065-4fde-8105-2d4d2595da4f{-webkit-user-select:none;-webkit-font-smoothing:antialiased;font-family:Consolas,\"Liberation Mono\",Menlo,Courier,monospace}#chart-e79ac104-3065-4fde-8105-2d4d2595da4f .title{font-family:Consolas,\"Liberation Mono\",Menlo,Courier,monospace;font-size:16px}#chart-e79ac104-3065-4fde-8105-2d4d2595da4f .legends .legend text{font-family:Consolas,\"Liberation Mono\",Menlo,Courier,monospace;font-size:14px}#chart-e79ac104-3065-4fde-8105-2d4d2595da4f .axis text{font-family:Consolas,\"Liberation Mono\",Menlo,Courier,monospace;font-size:10px}#chart-e79ac104-3065-4fde-8105-2d4d2595da4f .axis text.major{font-family:Consolas,\"Liberation Mono\",Menlo,Courier,monospace;font-size:10px}#chart-e79ac104-3065-4fde-8105-2d4d2595da4f .text-overlay text.value{font-family:Consolas,\"Liberation Mono\",Menlo,Courier,monospace;font-size:16px}#chart-e79ac104-3065-4fde-8105-2d4d2595da4f .text-overlay text.label{font-family:Consolas,\"Liberation Mono\",Menlo,Courier,monospace;font-size:10px}#chart-e79ac104-3065-4fde-8105-2d4d2595da4f .tooltip{font-family:Consolas,\"Liberation Mono\",Menlo,Courier,monospace;font-size:14px}#chart-e79ac104-3065-4fde-8105-2d4d2595da4f text.no_data{font-family:Consolas,\"Liberation Mono\",Menlo,Courier,monospace;font-size:64px}\n",
       "#chart-e79ac104-3065-4fde-8105-2d4d2595da4f{background-color:rgba(249,249,249,1)}#chart-e79ac104-3065-4fde-8105-2d4d2595da4f path,#chart-e79ac104-3065-4fde-8105-2d4d2595da4f line,#chart-e79ac104-3065-4fde-8105-2d4d2595da4f rect,#chart-e79ac104-3065-4fde-8105-2d4d2595da4f circle{-webkit-transition:150ms;-moz-transition:150ms;transition:150ms}#chart-e79ac104-3065-4fde-8105-2d4d2595da4f .graph &gt; .background{fill:rgba(249,249,249,1)}#chart-e79ac104-3065-4fde-8105-2d4d2595da4f .plot &gt; .background{fill:rgba(255,255,255,1)}#chart-e79ac104-3065-4fde-8105-2d4d2595da4f .graph{fill:rgba(0,0,0,.87)}#chart-e79ac104-3065-4fde-8105-2d4d2595da4f text.no_data{fill:rgba(0,0,0,1)}#chart-e79ac104-3065-4fde-8105-2d4d2595da4f .title{fill:rgba(0,0,0,1)}#chart-e79ac104-3065-4fde-8105-2d4d2595da4f .legends .legend text{fill:rgba(0,0,0,.87)}#chart-e79ac104-3065-4fde-8105-2d4d2595da4f .legends .legend:hover text{fill:rgba(0,0,0,1)}#chart-e79ac104-3065-4fde-8105-2d4d2595da4f .axis .line{stroke:rgba(0,0,0,1)}#chart-e79ac104-3065-4fde-8105-2d4d2595da4f .axis .guide.line{stroke:rgba(0,0,0,.54)}#chart-e79ac104-3065-4fde-8105-2d4d2595da4f .axis .major.line{stroke:rgba(0,0,0,.87)}#chart-e79ac104-3065-4fde-8105-2d4d2595da4f .axis text.major{fill:rgba(0,0,0,1)}#chart-e79ac104-3065-4fde-8105-2d4d2595da4f .axis.y .guides:hover .guide.line,#chart-e79ac104-3065-4fde-8105-2d4d2595da4f .line-graph .axis.x .guides:hover .guide.line,#chart-e79ac104-3065-4fde-8105-2d4d2595da4f .stackedline-graph .axis.x .guides:hover .guide.line,#chart-e79ac104-3065-4fde-8105-2d4d2595da4f .xy-graph .axis.x .guides:hover .guide.line{stroke:rgba(0,0,0,1)}#chart-e79ac104-3065-4fde-8105-2d4d2595da4f .axis .guides:hover text{fill:rgba(0,0,0,1)}#chart-e79ac104-3065-4fde-8105-2d4d2595da4f .reactive{fill-opacity:.7;stroke-opacity:.8}#chart-e79ac104-3065-4fde-8105-2d4d2595da4f .ci{stroke:rgba(0,0,0,.87)}#chart-e79ac104-3065-4fde-8105-2d4d2595da4f .reactive.active,#chart-e79ac104-3065-4fde-8105-2d4d2595da4f .active .reactive{fill-opacity:.8;stroke-opacity:.9;stroke-width:4}#chart-e79ac104-3065-4fde-8105-2d4d2595da4f .ci .reactive.active{stroke-width:1.5}#chart-e79ac104-3065-4fde-8105-2d4d2595da4f .series text{fill:rgba(0,0,0,1)}#chart-e79ac104-3065-4fde-8105-2d4d2595da4f .tooltip rect{fill:rgba(255,255,255,1);stroke:rgba(0,0,0,1);-webkit-transition:opacity 150ms;-moz-transition:opacity 150ms;transition:opacity 150ms}#chart-e79ac104-3065-4fde-8105-2d4d2595da4f .tooltip .label{fill:rgba(0,0,0,.87)}#chart-e79ac104-3065-4fde-8105-2d4d2595da4f .tooltip .label{fill:rgba(0,0,0,.87)}#chart-e79ac104-3065-4fde-8105-2d4d2595da4f .tooltip .legend{font-size:.8em;fill:rgba(0,0,0,.54)}#chart-e79ac104-3065-4fde-8105-2d4d2595da4f .tooltip .x_label{font-size:.6em;fill:rgba(0,0,0,1)}#chart-e79ac104-3065-4fde-8105-2d4d2595da4f .tooltip .xlink{font-size:.5em;text-decoration:underline}#chart-e79ac104-3065-4fde-8105-2d4d2595da4f .tooltip .value{font-size:1.5em}#chart-e79ac104-3065-4fde-8105-2d4d2595da4f .bound{font-size:.5em}#chart-e79ac104-3065-4fde-8105-2d4d2595da4f .max-value{font-size:.75em;fill:rgba(0,0,0,.54)}#chart-e79ac104-3065-4fde-8105-2d4d2595da4f .map-element{fill:rgba(255,255,255,1);stroke:rgba(0,0,0,.54) !important}#chart-e79ac104-3065-4fde-8105-2d4d2595da4f .map-element .reactive{fill-opacity:inherit;stroke-opacity:inherit}#chart-e79ac104-3065-4fde-8105-2d4d2595da4f .color-0,#chart-e79ac104-3065-4fde-8105-2d4d2595da4f .color-0 a:visited{stroke:#F44336;fill:#F44336}#chart-e79ac104-3065-4fde-8105-2d4d2595da4f .text-overlay .color-0 text{fill:black}\n",
       "#chart-e79ac104-3065-4fde-8105-2d4d2595da4f text.no_data{text-anchor:middle}#chart-e79ac104-3065-4fde-8105-2d4d2595da4f .guide.line{fill:none}#chart-e79ac104-3065-4fde-8105-2d4d2595da4f .centered{text-anchor:middle}#chart-e79ac104-3065-4fde-8105-2d4d2595da4f .title{text-anchor:middle}#chart-e79ac104-3065-4fde-8105-2d4d2595da4f .legends .legend text{fill-opacity:1}#chart-e79ac104-3065-4fde-8105-2d4d2595da4f .axis.x text{text-anchor:middle}#chart-e79ac104-3065-4fde-8105-2d4d2595da4f .axis.x:not(.web) text[transform]{text-anchor:start}#chart-e79ac104-3065-4fde-8105-2d4d2595da4f .axis.x:not(.web) text[transform].backwards{text-anchor:end}#chart-e79ac104-3065-4fde-8105-2d4d2595da4f .axis.y text{text-anchor:end}#chart-e79ac104-3065-4fde-8105-2d4d2595da4f .axis.y text[transform].backwards{text-anchor:start}#chart-e79ac104-3065-4fde-8105-2d4d2595da4f .axis.y2 text{text-anchor:start}#chart-e79ac104-3065-4fde-8105-2d4d2595da4f .axis.y2 text[transform].backwards{text-anchor:end}#chart-e79ac104-3065-4fde-8105-2d4d2595da4f .axis .guide.line{stroke-dasharray:4,4}#chart-e79ac104-3065-4fde-8105-2d4d2595da4f .axis .major.guide.line{stroke-dasharray:6,6}#chart-e79ac104-3065-4fde-8105-2d4d2595da4f .horizontal .axis.y .guide.line,#chart-e79ac104-3065-4fde-8105-2d4d2595da4f .horizontal .axis.y2 .guide.line,#chart-e79ac104-3065-4fde-8105-2d4d2595da4f .vertical .axis.x .guide.line{opacity:0}#chart-e79ac104-3065-4fde-8105-2d4d2595da4f .horizontal .axis.always_show .guide.line,#chart-e79ac104-3065-4fde-8105-2d4d2595da4f .vertical .axis.always_show .guide.line{opacity:1 !important}#chart-e79ac104-3065-4fde-8105-2d4d2595da4f .axis.y .guides:hover .guide.line,#chart-e79ac104-3065-4fde-8105-2d4d2595da4f .axis.y2 .guides:hover .guide.line,#chart-e79ac104-3065-4fde-8105-2d4d2595da4f .axis.x .guides:hover .guide.line{opacity:1}#chart-e79ac104-3065-4fde-8105-2d4d2595da4f .axis .guides:hover text{opacity:1}#chart-e79ac104-3065-4fde-8105-2d4d2595da4f .nofill{fill:none}#chart-e79ac104-3065-4fde-8105-2d4d2595da4f .subtle-fill{fill-opacity:.2}#chart-e79ac104-3065-4fde-8105-2d4d2595da4f .dot{stroke-width:1px;fill-opacity:1}#chart-e79ac104-3065-4fde-8105-2d4d2595da4f .dot.active{stroke-width:5px}#chart-e79ac104-3065-4fde-8105-2d4d2595da4f .dot.negative{fill:transparent}#chart-e79ac104-3065-4fde-8105-2d4d2595da4f text,#chart-e79ac104-3065-4fde-8105-2d4d2595da4f tspan{stroke:none !important}#chart-e79ac104-3065-4fde-8105-2d4d2595da4f .series text.active{opacity:1}#chart-e79ac104-3065-4fde-8105-2d4d2595da4f .tooltip rect{fill-opacity:.95;stroke-width:.5}#chart-e79ac104-3065-4fde-8105-2d4d2595da4f .tooltip text{fill-opacity:1}#chart-e79ac104-3065-4fde-8105-2d4d2595da4f .showable{visibility:hidden}#chart-e79ac104-3065-4fde-8105-2d4d2595da4f .showable.shown{visibility:visible}#chart-e79ac104-3065-4fde-8105-2d4d2595da4f .gauge-background{fill:rgba(229,229,229,1);stroke:none}#chart-e79ac104-3065-4fde-8105-2d4d2595da4f .bg-lines{stroke:rgba(249,249,249,1);stroke-width:2px}</style><script type=\"text/javascript\">window.pygal = window.pygal || {};window.pygal.config = window.pygal.config || {};window.pygal.config['e79ac104-3065-4fde-8105-2d4d2595da4f'] = {\"allow_interruptions\": false, \"box_mode\": \"extremes\", \"classes\": [\"pygal-chart\"], \"css\": [\"file://style.css\", \"file://graph.css\"], \"defs\": [], \"disable_xml_declaration\": false, \"dots_size\": 2.5, \"dynamic_print_values\": false, \"explicit_size\": true, \"fill\": false, \"force_uri_protocol\": \"https\", \"formatter\": null, \"half_pie\": false, \"height\": 360, \"include_x_axis\": false, \"inner_radius\": 0, \"interpolate\": null, \"interpolation_parameters\": {}, \"interpolation_precision\": 250, \"inverse_y_axis\": false, \"js\": [\"//kozea.github.io/pygal.js/2.0.x/pygal-tooltips.min.js\"], \"legend_at_bottom\": false, \"legend_at_bottom_columns\": null, \"legend_box_size\": 12, \"logarithmic\": false, \"margin\": 20, \"margin_bottom\": null, \"margin_left\": null, \"margin_right\": null, \"margin_top\": null, \"max_scale\": 16, \"min_scale\": 4, \"missing_value_fill_truncation\": \"x\", \"no_data_text\": \"No data\", \"no_prefix\": false, \"order_min\": null, \"pretty_print\": false, \"print_labels\": false, \"print_values\": false, \"print_values_position\": \"center\", \"print_zeroes\": true, \"range\": null, \"rounded_bars\": null, \"secondary_range\": null, \"show_dots\": true, \"show_legend\": true, \"show_minor_x_labels\": true, \"show_minor_y_labels\": true, \"show_only_major_dots\": false, \"show_x_guides\": false, \"show_x_labels\": true, \"show_y_guides\": true, \"show_y_labels\": true, \"spacing\": 10, \"stack_from_top\": false, \"strict\": false, \"stroke\": true, \"stroke_style\": null, \"style\": {\"background\": \"rgba(249, 249, 249, 1)\", \"ci_colors\": [], \"colors\": [\"#F44336\", \"#3F51B5\", \"#009688\", \"#FFC107\", \"#FF5722\", \"#9C27B0\", \"#03A9F4\", \"#8BC34A\", \"#FF9800\", \"#E91E63\", \"#2196F3\", \"#4CAF50\", \"#FFEB3B\", \"#673AB7\", \"#00BCD4\", \"#CDDC39\", \"#9E9E9E\", \"#607D8B\"], \"font_family\": \"Consolas, \\\"Liberation Mono\\\", Menlo, Courier, monospace\", \"foreground\": \"rgba(0, 0, 0, .87)\", \"foreground_strong\": \"rgba(0, 0, 0, 1)\", \"foreground_subtle\": \"rgba(0, 0, 0, .54)\", \"guide_stroke_dasharray\": \"4,4\", \"label_font_family\": \"Consolas, \\\"Liberation Mono\\\", Menlo, Courier, monospace\", \"label_font_size\": 10, \"legend_font_family\": \"Consolas, \\\"Liberation Mono\\\", Menlo, Courier, monospace\", \"legend_font_size\": 14, \"major_guide_stroke_dasharray\": \"6,6\", \"major_label_font_family\": \"Consolas, \\\"Liberation Mono\\\", Menlo, Courier, monospace\", \"major_label_font_size\": 10, \"no_data_font_family\": \"Consolas, \\\"Liberation Mono\\\", Menlo, Courier, monospace\", \"no_data_font_size\": 64, \"opacity\": \".7\", \"opacity_hover\": \".8\", \"plot_background\": \"rgba(255, 255, 255, 1)\", \"stroke_opacity\": \".8\", \"stroke_opacity_hover\": \".9\", \"title_font_family\": \"Consolas, \\\"Liberation Mono\\\", Menlo, Courier, monospace\", \"title_font_size\": 16, \"tooltip_font_family\": \"Consolas, \\\"Liberation Mono\\\", Menlo, Courier, monospace\", \"tooltip_font_size\": 14, \"transition\": \"150ms\", \"value_background\": \"rgba(229, 229, 229, 1)\", \"value_colors\": [], \"value_font_family\": \"Consolas, \\\"Liberation Mono\\\", Menlo, Courier, monospace\", \"value_font_size\": 16, \"value_label_font_family\": \"Consolas, \\\"Liberation Mono\\\", Menlo, Courier, monospace\", \"value_label_font_size\": 10}, \"title\": \"Close Prices\", \"tooltip_border_radius\": 0, \"tooltip_fancy_mode\": true, \"truncate_label\": -1, \"truncate_legend\": null, \"width\": 640, \"x_label_rotation\": 35, \"x_labels\": null, \"x_labels_major\": null, \"x_labels_major_count\": null, \"x_labels_major_every\": null, \"x_title\": \"Date\", \"xrange\": null, \"y_label_rotation\": 0, \"y_labels\": null, \"y_labels_major\": null, \"y_labels_major_count\": null, \"y_labels_major_every\": null, \"y_title\": \"Adj Close (USD)\", \"zero\": 0, \"legends\": [\"Apple\"]}</script><script type=\"text/javascript\" xlink:href=\"https://kozea.github.io/pygal.js/2.0.x/pygal-tooltips.min.js\"/></defs><title>Close Prices</title><g class=\"graph dateline-graph vertical\"><rect class=\"background\" height=\"360\" width=\"640\" x=\"0\" y=\"0\"/><g class=\"plot\" transform=\"translate(138, 46)\"><rect class=\"background\" height=\"220.14395520083096\" width=\"447.93596507692655\" x=\"0\" y=\"0\"/><g class=\"axis y always_show\"><path class=\"line\" d=\"M0.000000 220.143955 h447.935965\"/><g class=\"guides\"><path class=\"guide line\" d=\"M0.000000 199.866232 h447.935965\"/><text class=\"\" x=\"-5\" y=\"203.36623197261372\">144</text><title>144</title></g><g class=\"guides\"><path class=\"guide line\" d=\"M0.000000 182.137850 h447.935965\"/><text class=\"\" x=\"-5\" y=\"185.63785006299906\">146</text><title>146</title></g><g class=\"guides\"><path class=\"guide line\" d=\"M0.000000 164.409468 h447.935965\"/><text class=\"\" x=\"-5\" y=\"167.9094681533844\">148</text><title>148</title></g><g class=\"guides\"><path class=\"major guide line\" d=\"M0.000000 146.681086 h447.935965\"/><text class=\"major\" x=\"-5\" y=\"150.18108624376973\">150</text><title>150</title></g><g class=\"guides\"><path class=\"guide line\" d=\"M0.000000 128.952704 h447.935965\"/><text class=\"\" x=\"-5\" y=\"132.45270433415507\">152</text><title>152</title></g><g class=\"guides\"><path class=\"guide line\" d=\"M0.000000 111.224322 h447.935965\"/><text class=\"\" x=\"-5\" y=\"114.7243224245404\">154</text><title>154</title></g><g class=\"guides\"><path class=\"guide line\" d=\"M0.000000 93.495941 h447.935965\"/><text class=\"\" x=\"-5\" y=\"96.99594051492573\">156</text><title>156</title></g><g class=\"guides\"><path class=\"guide line\" d=\"M0.000000 75.767559 h447.935965\"/><text class=\"\" x=\"-5\" y=\"79.26755860531105\">158</text><title>158</title></g><g class=\"guides\"><path class=\"major guide line\" d=\"M0.000000 58.039177 h447.935965\"/><text class=\"major\" x=\"-5\" y=\"61.5391766956964\">160</text><title>160</title></g><g class=\"guides\"><path class=\"guide line\" d=\"M0.000000 40.310795 h447.935965\"/><text class=\"\" x=\"-5\" y=\"43.81079478608174\">162</text><title>162</title></g><g class=\"guides\"><path class=\"guide line\" d=\"M0.000000 22.582413 h447.935965\"/><text class=\"\" x=\"-5\" y=\"26.08241287646706\">164</text><title>164</title></g><g class=\"guides\"><path class=\"guide line\" d=\"M0.000000 4.854031 h447.935965\"/><text class=\"\" x=\"-5\" y=\"8.354030966852406\">166</text><title>166</title></g></g><g class=\"axis x\"><path class=\"line\" d=\"M0.000000 0.000000 v220.143955\"/><g class=\"guides\"><path class=\"guide line\" d=\"M18.299378 0.000000 v220.143955\"/><text class=\"\" x=\"18.29937830467908\" y=\"235.14395520083096\" transform=\"rotate(35 18.299378 235.143955)\">12-14-2018 </text><title>12-14-2018 </title></g><g class=\"guides\"><path class=\"guide line\" d=\"M53.906824 0.000000 v220.143955\"/><text class=\"\" x=\"53.90682363601291\" y=\"235.14395520083096\" transform=\"rotate(35 53.906824 235.143955)\">12-16-2018 </text><title>12-16-2018 </title></g><g class=\"guides\"><path class=\"guide line\" d=\"M89.514269 0.000000 v220.143955\"/><text class=\"\" x=\"89.51426896734674\" y=\"235.14395520083096\" transform=\"rotate(35 89.514269 235.143955)\">12-19-2018 </text><title>12-19-2018 </title></g><g class=\"guides\"><path class=\"guide line\" d=\"M125.121714 0.000000 v220.143955\"/><text class=\"\" x=\"125.12171429868056\" y=\"235.14395520083096\" transform=\"rotate(35 125.121714 235.143955)\">12-21-2018 </text><title>12-21-2018 </title></g><g class=\"guides\"><path class=\"guide line\" d=\"M160.729160 0.000000 v220.143955\"/><text class=\"\" x=\"160.72915963001438\" y=\"235.14395520083096\" transform=\"rotate(35 160.729160 235.143955)\">12-23-2018 </text><title>12-23-2018 </title></g><g class=\"guides\"><path class=\"guide line\" d=\"M196.336605 0.000000 v220.143955\"/><text class=\"\" x=\"196.33660496134823\" y=\"235.14395520083096\" transform=\"rotate(35 196.336605 235.143955)\">12-26-2018 </text><title>12-26-2018 </title></g><g class=\"guides\"><path class=\"guide line\" d=\"M231.944050 0.000000 v220.143955\"/><text class=\"\" x=\"231.94405029268205\" y=\"235.14395520083096\" transform=\"rotate(35 231.944050 235.143955)\">12-28-2018 </text><title>12-28-2018 </title></g><g class=\"guides\"><path class=\"guide line\" d=\"M267.551496 0.000000 v220.143955\"/><text class=\"\" x=\"267.5514956240159\" y=\"235.14395520083096\" transform=\"rotate(35 267.551496 235.143955)\">12-30-2018 </text><title>12-30-2018 </title></g><g class=\"guides\"><path class=\"guide line\" d=\"M303.158941 0.000000 v220.143955\"/><text class=\"\" x=\"303.1589409553497\" y=\"235.14395520083096\" transform=\"rotate(35 303.158941 235.143955)\">01-02-2019 </text><title>01-02-2019 </title></g><g class=\"guides\"><path class=\"guide line\" d=\"M338.766386 0.000000 v220.143955\"/><text class=\"\" x=\"338.76638628668354\" y=\"235.14395520083096\" transform=\"rotate(35 338.766386 235.143955)\">01-04-2019 </text><title>01-04-2019 </title></g><g class=\"guides\"><path class=\"guide line\" d=\"M374.373832 0.000000 v220.143955\"/><text class=\"\" x=\"374.3738316180174\" y=\"235.14395520083096\" transform=\"rotate(35 374.373832 235.143955)\">01-06-2019 </text><title>01-06-2019 </title></g><g class=\"guides\"><path class=\"guide line\" d=\"M409.981277 0.000000 v220.143955\"/><text class=\"\" x=\"409.9812769493512\" y=\"235.14395520083096\" transform=\"rotate(35 409.981277 235.143955)\">01-09-2019 </text><title>01-09-2019 </title></g></g><g class=\"series serie-0 color-0\"><path class=\"line reactive nofill\" d=\"M8.614153 9.463410 L54.761402 23.114264 70.143819 4.233538 85.526235 50.150047 100.908651 86.138662 116.291068 140.210227 162.438317 174.780572 193.203150 83.124837 208.585566 92.166312 223.967983 91.457177 270.115232 78.072248 300.880064 76.476694 316.262481 215.910418 331.644897 162.104779 377.792146 165.029962 393.174563 140.032943 408.556979 117.340614 423.939396 112.997161 439.321812 126.382089\"/></g></g><g class=\"titles\"><text class=\"title plot_title\" x=\"320.0\" y=\"26\">Close Prices</text><text class=\"title\" x=\"361.9679825384633\" y=\"340.0\">Date</text><text class=\"title\" x=\"64.0\" y=\"182.0719776004155\" transform=\"rotate(-90 64.000000 156.071978)\">Adj Close (USD)</text></g><g class=\"plot overlay\" transform=\"translate(138, 46)\"><g class=\"series serie-0 color-0\"><g class=\"dots\"><circle class=\"dot reactive tooltip-trigger\" cx=\"8.614153174556279\" cy=\"9.463410263352301\" r=\"2.5\"/><desc class=\"value\">12-14-2018 : 165.48</desc><desc class=\"x \">8.614153174556279</desc><desc class=\"y \">9.463410263352301</desc></g><g class=\"dots\"><circle class=\"dot reactive tooltip-trigger\" cx=\"54.76140232396492\" cy=\"23.11426433375553\" r=\"2.5\"/><desc class=\"value\">12-17-2018 : 163.94</desc><desc class=\"x \">54.76140232396492</desc><desc class=\"y \">23.11426433375553</desc></g><g class=\"dots\"><circle class=\"dot reactive tooltip-trigger\" cx=\"70.14381870710115\" cy=\"4.2335376000159215\" r=\"2.5\"/><desc class=\"value\">12-18-2018 : 166.07</desc><desc class=\"x \">70.14381870710115</desc><desc class=\"y \">4.2335376000159215</desc></g><g class=\"dots\"><circle class=\"dot reactive tooltip-trigger\" cx=\"85.52623509023735\" cy=\"50.15004674591799\" r=\"2.5\"/><desc class=\"value\">12-19-2018 : 160.89</desc><desc class=\"x \">85.52623509023735</desc><desc class=\"y \">50.15004674591799</desc></g><g class=\"dots\"><circle class=\"dot reactive tooltip-trigger\" cx=\"100.90865147337355\" cy=\"86.13866202243554\" r=\"2.5\"/><desc class=\"value\">12-20-2018 : 156.83</desc><desc class=\"x \">100.90865147337355</desc><desc class=\"y \">86.13866202243554</desc></g><g class=\"dots\"><circle class=\"dot reactive tooltip-trigger\" cx=\"116.29106785650977\" cy=\"140.21022684676046\" r=\"2.5\"/><desc class=\"value\">12-21-2018 : 150.73</desc><desc class=\"x top\">116.29106785650977</desc><desc class=\"y top\">140.21022684676046</desc></g><g class=\"dots\"><circle class=\"dot reactive tooltip-trigger\" cx=\"162.4383170059184\" cy=\"174.78057157050887\" r=\"2.5\"/><desc class=\"value\">12-24-2018 : 146.83</desc><desc class=\"x top\">162.4383170059184</desc><desc class=\"y top\">174.78057157050887</desc></g><g class=\"dots\"><circle class=\"dot reactive tooltip-trigger\" cx=\"193.20314977219084\" cy=\"83.12483709780128\" r=\"2.5\"/><desc class=\"value\">12-26-2018 : 157.17</desc><desc class=\"x \">193.20314977219084</desc><desc class=\"y \">83.12483709780128</desc></g><g class=\"dots\"><circle class=\"dot reactive tooltip-trigger\" cx=\"208.58556615532706\" cy=\"92.16631187170456\" r=\"2.5\"/><desc class=\"value\">12-27-2018 : 156.15</desc><desc class=\"x \">208.58556615532706</desc><desc class=\"y \">92.16631187170456</desc></g><g class=\"dots\"><circle class=\"dot reactive tooltip-trigger\" cx=\"223.96798253846325\" cy=\"91.45717659532013\" r=\"2.5\"/><desc class=\"value\">12-28-2018 : 156.23</desc><desc class=\"x \">223.96798253846325</desc><desc class=\"y \">91.45717659532013</desc></g><g class=\"dots\"><circle class=\"dot reactive tooltip-trigger\" cx=\"270.1152316878719\" cy=\"78.0722482535609\" r=\"2.5\"/><desc class=\"value\">12-31-2018 : 157.74</desc><desc class=\"x left\">270.1152316878719</desc><desc class=\"y left\">78.0722482535609</desc></g><g class=\"dots\"><circle class=\"dot reactive tooltip-trigger\" cx=\"300.88006445414436\" cy=\"76.47669388169575\" r=\"2.5\"/><desc class=\"value\">01-02-2019 : 157.92</desc><desc class=\"x left\">300.88006445414436</desc><desc class=\"y left\">76.47669388169575</desc></g><g class=\"dots\"><circle class=\"dot reactive tooltip-trigger\" cx=\"316.2624808372806\" cy=\"215.910417600815\" r=\"2.5\"/><desc class=\"value\">01-03-2019 : 142.19</desc><desc class=\"x left top\">316.2624808372806</desc><desc class=\"y left top\">215.910417600815</desc></g><g class=\"dots\"><circle class=\"dot reactive tooltip-trigger\" cx=\"331.64489722041674\" cy=\"162.10477850513456\" r=\"2.5\"/><desc class=\"value\">01-04-2019 : 148.26</desc><desc class=\"x left top\">331.64489722041674</desc><desc class=\"y left top\">162.10477850513456</desc></g><g class=\"dots\"><circle class=\"dot reactive tooltip-trigger\" cx=\"377.7921463698254\" cy=\"165.02996152022084\" r=\"2.5\"/><desc class=\"value\">01-07-2019 : 147.93</desc><desc class=\"x left top\">377.7921463698254</desc><desc class=\"y left top\">165.02996152022084</desc></g><g class=\"dots\"><circle class=\"dot reactive tooltip-trigger\" cx=\"393.17456275296166\" cy=\"140.0329430276642\" r=\"2.5\"/><desc class=\"value\">01-08-2019 : 150.75</desc><desc class=\"x left top\">393.17456275296166</desc><desc class=\"y left top\">140.0329430276642</desc></g><g class=\"dots\"><circle class=\"dot reactive tooltip-trigger\" cx=\"408.5569791360979\" cy=\"117.34061418335743\" r=\"2.5\"/><desc class=\"value\">01-09-2019 : 153.31</desc><desc class=\"x left top\">408.5569791360979</desc><desc class=\"y left top\">117.34061418335743</desc></g><g class=\"dots\"><circle class=\"dot reactive tooltip-trigger\" cx=\"423.93939551923404\" cy=\"112.99716061550176\" r=\"2.5\"/><desc class=\"value\">01-10-2019 : 153.8</desc><desc class=\"x left top\">423.93939551923404</desc><desc class=\"y left top\">112.99716061550176</desc></g><g class=\"dots\"><circle class=\"dot reactive tooltip-trigger\" cx=\"439.3218119023702\" cy=\"126.382088957261\" r=\"2.5\"/><desc class=\"value\">01-11-2019 : 152.29</desc><desc class=\"x left top\">439.3218119023702</desc><desc class=\"y left top\">126.382088957261</desc></g></g></g><g class=\"plot text-overlay\" transform=\"translate(138, 46)\"><g class=\"series serie-0 color-0\"/></g><g class=\"plot tooltip-overlay\" transform=\"translate(138, 46)\"><g class=\"tooltip\" style=\"opacity: 0\" transform=\"translate(0 0)\"><rect class=\"tooltip-box\" height=\"0\" rx=\"0\" ry=\"0\" width=\"0\"/><g class=\"text\"/></g></g><g class=\"legends\" transform=\"translate(10, 56)\"><g class=\"legend reactive activate-serie\" id=\"activate-serie-0\"><rect class=\"color-0 reactive\" height=\"12\" width=\"12\" x=\"0.0\" y=\"1.0\"/><text x=\"17.0\" y=\"11.2\">Apple</text></g></g><g class=\"legends\" transform=\"translate(595, 56)\"/></g></svg>\n",
       "    </figure>\n",
       "  </body>\n",
       "</html>\n"
      ],
      "text/plain": [
       "<IPython.core.display.HTML object>"
      ]
     },
     "metadata": {},
     "output_type": "display_data"
    }
   ],
   "source": [
    "stock_close.add('Apple', \n",
    "               aapl_close)\n",
    "\n",
    "display_chart(stock_close)"
   ]
  },
  {
   "cell_type": "code",
   "execution_count": 30,
   "metadata": {
    "collapsed": true
   },
   "outputs": [],
   "source": [
    "msft_close = []\n",
    "\n",
    "for i,j in zip(stock_df['Date'], stock_df['MSFT']):\n",
    "    msft_close.append((i, j))"
   ]
  },
  {
   "cell_type": "code",
   "execution_count": 31,
   "metadata": {},
   "outputs": [
    {
     "data": {
      "text/html": [
       "\n",
       "<!DOCTYPE html>\n",
       "<html>\n",
       "  <head>\n",
       "  <script type=\"text/javascript\" \n",
       "          src=\"http://kozea.github.com/pygal.js/javascripts/svg.jquery.js\">\n",
       "  </script>\n",
       "  <script type=\"text/javascript\" \n",
       "          src=\"https://kozea.github.io/pygal.js/2.0.x/pygal-tooltips.min.js\"\">\n",
       "  </script>\n",
       "  </head>\n",
       "  <body>\n",
       "    <figure>\n",
       "      <?xml version='1.0' encoding='utf-8'?>\n",
       "<svg xmlns:xlink=\"http://www.w3.org/1999/xlink\" xmlns=\"http://www.w3.org/2000/svg\" id=\"chart-e79ac104-3065-4fde-8105-2d4d2595da4f\" class=\"pygal-chart\" viewBox=\"0 0 640 360\" width=\"640\" height=\"360\"><!--Generated with pygal 2.4.0 (lxml) ©Kozea 2012-2016 on 2019-02-03--><!--http://pygal.org--><!--http://github.com/Kozea/pygal--><defs><style type=\"text/css\">#chart-e79ac104-3065-4fde-8105-2d4d2595da4f{-webkit-user-select:none;-webkit-font-smoothing:antialiased;font-family:Consolas,\"Liberation Mono\",Menlo,Courier,monospace}#chart-e79ac104-3065-4fde-8105-2d4d2595da4f .title{font-family:Consolas,\"Liberation Mono\",Menlo,Courier,monospace;font-size:16px}#chart-e79ac104-3065-4fde-8105-2d4d2595da4f .legends .legend text{font-family:Consolas,\"Liberation Mono\",Menlo,Courier,monospace;font-size:14px}#chart-e79ac104-3065-4fde-8105-2d4d2595da4f .axis text{font-family:Consolas,\"Liberation Mono\",Menlo,Courier,monospace;font-size:10px}#chart-e79ac104-3065-4fde-8105-2d4d2595da4f .axis text.major{font-family:Consolas,\"Liberation Mono\",Menlo,Courier,monospace;font-size:10px}#chart-e79ac104-3065-4fde-8105-2d4d2595da4f .text-overlay text.value{font-family:Consolas,\"Liberation Mono\",Menlo,Courier,monospace;font-size:16px}#chart-e79ac104-3065-4fde-8105-2d4d2595da4f .text-overlay text.label{font-family:Consolas,\"Liberation Mono\",Menlo,Courier,monospace;font-size:10px}#chart-e79ac104-3065-4fde-8105-2d4d2595da4f .tooltip{font-family:Consolas,\"Liberation Mono\",Menlo,Courier,monospace;font-size:14px}#chart-e79ac104-3065-4fde-8105-2d4d2595da4f text.no_data{font-family:Consolas,\"Liberation Mono\",Menlo,Courier,monospace;font-size:64px}\n",
       "#chart-e79ac104-3065-4fde-8105-2d4d2595da4f{background-color:rgba(249,249,249,1)}#chart-e79ac104-3065-4fde-8105-2d4d2595da4f path,#chart-e79ac104-3065-4fde-8105-2d4d2595da4f line,#chart-e79ac104-3065-4fde-8105-2d4d2595da4f rect,#chart-e79ac104-3065-4fde-8105-2d4d2595da4f circle{-webkit-transition:150ms;-moz-transition:150ms;transition:150ms}#chart-e79ac104-3065-4fde-8105-2d4d2595da4f .graph &gt; .background{fill:rgba(249,249,249,1)}#chart-e79ac104-3065-4fde-8105-2d4d2595da4f .plot &gt; .background{fill:rgba(255,255,255,1)}#chart-e79ac104-3065-4fde-8105-2d4d2595da4f .graph{fill:rgba(0,0,0,.87)}#chart-e79ac104-3065-4fde-8105-2d4d2595da4f text.no_data{fill:rgba(0,0,0,1)}#chart-e79ac104-3065-4fde-8105-2d4d2595da4f .title{fill:rgba(0,0,0,1)}#chart-e79ac104-3065-4fde-8105-2d4d2595da4f .legends .legend text{fill:rgba(0,0,0,.87)}#chart-e79ac104-3065-4fde-8105-2d4d2595da4f .legends .legend:hover text{fill:rgba(0,0,0,1)}#chart-e79ac104-3065-4fde-8105-2d4d2595da4f .axis .line{stroke:rgba(0,0,0,1)}#chart-e79ac104-3065-4fde-8105-2d4d2595da4f .axis .guide.line{stroke:rgba(0,0,0,.54)}#chart-e79ac104-3065-4fde-8105-2d4d2595da4f .axis .major.line{stroke:rgba(0,0,0,.87)}#chart-e79ac104-3065-4fde-8105-2d4d2595da4f .axis text.major{fill:rgba(0,0,0,1)}#chart-e79ac104-3065-4fde-8105-2d4d2595da4f .axis.y .guides:hover .guide.line,#chart-e79ac104-3065-4fde-8105-2d4d2595da4f .line-graph .axis.x .guides:hover .guide.line,#chart-e79ac104-3065-4fde-8105-2d4d2595da4f .stackedline-graph .axis.x .guides:hover .guide.line,#chart-e79ac104-3065-4fde-8105-2d4d2595da4f .xy-graph .axis.x .guides:hover .guide.line{stroke:rgba(0,0,0,1)}#chart-e79ac104-3065-4fde-8105-2d4d2595da4f .axis .guides:hover text{fill:rgba(0,0,0,1)}#chart-e79ac104-3065-4fde-8105-2d4d2595da4f .reactive{fill-opacity:.7;stroke-opacity:.8}#chart-e79ac104-3065-4fde-8105-2d4d2595da4f .ci{stroke:rgba(0,0,0,.87)}#chart-e79ac104-3065-4fde-8105-2d4d2595da4f .reactive.active,#chart-e79ac104-3065-4fde-8105-2d4d2595da4f .active .reactive{fill-opacity:.8;stroke-opacity:.9;stroke-width:4}#chart-e79ac104-3065-4fde-8105-2d4d2595da4f .ci .reactive.active{stroke-width:1.5}#chart-e79ac104-3065-4fde-8105-2d4d2595da4f .series text{fill:rgba(0,0,0,1)}#chart-e79ac104-3065-4fde-8105-2d4d2595da4f .tooltip rect{fill:rgba(255,255,255,1);stroke:rgba(0,0,0,1);-webkit-transition:opacity 150ms;-moz-transition:opacity 150ms;transition:opacity 150ms}#chart-e79ac104-3065-4fde-8105-2d4d2595da4f .tooltip .label{fill:rgba(0,0,0,.87)}#chart-e79ac104-3065-4fde-8105-2d4d2595da4f .tooltip .label{fill:rgba(0,0,0,.87)}#chart-e79ac104-3065-4fde-8105-2d4d2595da4f .tooltip .legend{font-size:.8em;fill:rgba(0,0,0,.54)}#chart-e79ac104-3065-4fde-8105-2d4d2595da4f .tooltip .x_label{font-size:.6em;fill:rgba(0,0,0,1)}#chart-e79ac104-3065-4fde-8105-2d4d2595da4f .tooltip .xlink{font-size:.5em;text-decoration:underline}#chart-e79ac104-3065-4fde-8105-2d4d2595da4f .tooltip .value{font-size:1.5em}#chart-e79ac104-3065-4fde-8105-2d4d2595da4f .bound{font-size:.5em}#chart-e79ac104-3065-4fde-8105-2d4d2595da4f .max-value{font-size:.75em;fill:rgba(0,0,0,.54)}#chart-e79ac104-3065-4fde-8105-2d4d2595da4f .map-element{fill:rgba(255,255,255,1);stroke:rgba(0,0,0,.54) !important}#chart-e79ac104-3065-4fde-8105-2d4d2595da4f .map-element .reactive{fill-opacity:inherit;stroke-opacity:inherit}#chart-e79ac104-3065-4fde-8105-2d4d2595da4f .color-0,#chart-e79ac104-3065-4fde-8105-2d4d2595da4f .color-0 a:visited{stroke:#F44336;fill:#F44336}#chart-e79ac104-3065-4fde-8105-2d4d2595da4f .color-1,#chart-e79ac104-3065-4fde-8105-2d4d2595da4f .color-1 a:visited{stroke:#3F51B5;fill:#3F51B5}#chart-e79ac104-3065-4fde-8105-2d4d2595da4f .text-overlay .color-0 text{fill:black}#chart-e79ac104-3065-4fde-8105-2d4d2595da4f .text-overlay .color-1 text{fill:black}#chart-e79ac104-3065-4fde-8105-2d4d2595da4f .series.serie-1{stroke-width:3;stroke-dasharray:6,3}\n",
       "#chart-e79ac104-3065-4fde-8105-2d4d2595da4f text.no_data{text-anchor:middle}#chart-e79ac104-3065-4fde-8105-2d4d2595da4f .guide.line{fill:none}#chart-e79ac104-3065-4fde-8105-2d4d2595da4f .centered{text-anchor:middle}#chart-e79ac104-3065-4fde-8105-2d4d2595da4f .title{text-anchor:middle}#chart-e79ac104-3065-4fde-8105-2d4d2595da4f .legends .legend text{fill-opacity:1}#chart-e79ac104-3065-4fde-8105-2d4d2595da4f .axis.x text{text-anchor:middle}#chart-e79ac104-3065-4fde-8105-2d4d2595da4f .axis.x:not(.web) text[transform]{text-anchor:start}#chart-e79ac104-3065-4fde-8105-2d4d2595da4f .axis.x:not(.web) text[transform].backwards{text-anchor:end}#chart-e79ac104-3065-4fde-8105-2d4d2595da4f .axis.y text{text-anchor:end}#chart-e79ac104-3065-4fde-8105-2d4d2595da4f .axis.y text[transform].backwards{text-anchor:start}#chart-e79ac104-3065-4fde-8105-2d4d2595da4f .axis.y2 text{text-anchor:start}#chart-e79ac104-3065-4fde-8105-2d4d2595da4f .axis.y2 text[transform].backwards{text-anchor:end}#chart-e79ac104-3065-4fde-8105-2d4d2595da4f .axis .guide.line{stroke-dasharray:4,4}#chart-e79ac104-3065-4fde-8105-2d4d2595da4f .axis .major.guide.line{stroke-dasharray:6,6}#chart-e79ac104-3065-4fde-8105-2d4d2595da4f .horizontal .axis.y .guide.line,#chart-e79ac104-3065-4fde-8105-2d4d2595da4f .horizontal .axis.y2 .guide.line,#chart-e79ac104-3065-4fde-8105-2d4d2595da4f .vertical .axis.x .guide.line{opacity:0}#chart-e79ac104-3065-4fde-8105-2d4d2595da4f .horizontal .axis.always_show .guide.line,#chart-e79ac104-3065-4fde-8105-2d4d2595da4f .vertical .axis.always_show .guide.line{opacity:1 !important}#chart-e79ac104-3065-4fde-8105-2d4d2595da4f .axis.y .guides:hover .guide.line,#chart-e79ac104-3065-4fde-8105-2d4d2595da4f .axis.y2 .guides:hover .guide.line,#chart-e79ac104-3065-4fde-8105-2d4d2595da4f .axis.x .guides:hover .guide.line{opacity:1}#chart-e79ac104-3065-4fde-8105-2d4d2595da4f .axis .guides:hover text{opacity:1}#chart-e79ac104-3065-4fde-8105-2d4d2595da4f .nofill{fill:none}#chart-e79ac104-3065-4fde-8105-2d4d2595da4f .subtle-fill{fill-opacity:.2}#chart-e79ac104-3065-4fde-8105-2d4d2595da4f .dot{stroke-width:1px;fill-opacity:1}#chart-e79ac104-3065-4fde-8105-2d4d2595da4f .dot.active{stroke-width:5px}#chart-e79ac104-3065-4fde-8105-2d4d2595da4f .dot.negative{fill:transparent}#chart-e79ac104-3065-4fde-8105-2d4d2595da4f text,#chart-e79ac104-3065-4fde-8105-2d4d2595da4f tspan{stroke:none !important}#chart-e79ac104-3065-4fde-8105-2d4d2595da4f .series text.active{opacity:1}#chart-e79ac104-3065-4fde-8105-2d4d2595da4f .tooltip rect{fill-opacity:.95;stroke-width:.5}#chart-e79ac104-3065-4fde-8105-2d4d2595da4f .tooltip text{fill-opacity:1}#chart-e79ac104-3065-4fde-8105-2d4d2595da4f .showable{visibility:hidden}#chart-e79ac104-3065-4fde-8105-2d4d2595da4f .showable.shown{visibility:visible}#chart-e79ac104-3065-4fde-8105-2d4d2595da4f .gauge-background{fill:rgba(229,229,229,1);stroke:none}#chart-e79ac104-3065-4fde-8105-2d4d2595da4f .bg-lines{stroke:rgba(249,249,249,1);stroke-width:2px}</style><script type=\"text/javascript\">window.pygal = window.pygal || {};window.pygal.config = window.pygal.config || {};window.pygal.config['e79ac104-3065-4fde-8105-2d4d2595da4f'] = {\"allow_interruptions\": false, \"box_mode\": \"extremes\", \"classes\": [\"pygal-chart\"], \"css\": [\"file://style.css\", \"file://graph.css\"], \"defs\": [], \"disable_xml_declaration\": false, \"dots_size\": 2.5, \"dynamic_print_values\": false, \"explicit_size\": true, \"fill\": false, \"force_uri_protocol\": \"https\", \"formatter\": null, \"half_pie\": false, \"height\": 360, \"include_x_axis\": false, \"inner_radius\": 0, \"interpolate\": null, \"interpolation_parameters\": {}, \"interpolation_precision\": 250, \"inverse_y_axis\": false, \"js\": [\"//kozea.github.io/pygal.js/2.0.x/pygal-tooltips.min.js\"], \"legend_at_bottom\": false, \"legend_at_bottom_columns\": null, \"legend_box_size\": 12, \"logarithmic\": false, \"margin\": 20, \"margin_bottom\": null, \"margin_left\": null, \"margin_right\": null, \"margin_top\": null, \"max_scale\": 16, \"min_scale\": 4, \"missing_value_fill_truncation\": \"x\", \"no_data_text\": \"No data\", \"no_prefix\": false, \"order_min\": null, \"pretty_print\": false, \"print_labels\": false, \"print_values\": false, \"print_values_position\": \"center\", \"print_zeroes\": true, \"range\": null, \"rounded_bars\": null, \"secondary_range\": null, \"show_dots\": true, \"show_legend\": true, \"show_minor_x_labels\": true, \"show_minor_y_labels\": true, \"show_only_major_dots\": false, \"show_x_guides\": false, \"show_x_labels\": true, \"show_y_guides\": true, \"show_y_labels\": true, \"spacing\": 10, \"stack_from_top\": false, \"strict\": false, \"stroke\": true, \"stroke_style\": null, \"style\": {\"background\": \"rgba(249, 249, 249, 1)\", \"ci_colors\": [], \"colors\": [\"#F44336\", \"#3F51B5\", \"#009688\", \"#FFC107\", \"#FF5722\", \"#9C27B0\", \"#03A9F4\", \"#8BC34A\", \"#FF9800\", \"#E91E63\", \"#2196F3\", \"#4CAF50\", \"#FFEB3B\", \"#673AB7\", \"#00BCD4\", \"#CDDC39\", \"#9E9E9E\", \"#607D8B\"], \"font_family\": \"Consolas, \\\"Liberation Mono\\\", Menlo, Courier, monospace\", \"foreground\": \"rgba(0, 0, 0, .87)\", \"foreground_strong\": \"rgba(0, 0, 0, 1)\", \"foreground_subtle\": \"rgba(0, 0, 0, .54)\", \"guide_stroke_dasharray\": \"4,4\", \"label_font_family\": \"Consolas, \\\"Liberation Mono\\\", Menlo, Courier, monospace\", \"label_font_size\": 10, \"legend_font_family\": \"Consolas, \\\"Liberation Mono\\\", Menlo, Courier, monospace\", \"legend_font_size\": 14, \"major_guide_stroke_dasharray\": \"6,6\", \"major_label_font_family\": \"Consolas, \\\"Liberation Mono\\\", Menlo, Courier, monospace\", \"major_label_font_size\": 10, \"no_data_font_family\": \"Consolas, \\\"Liberation Mono\\\", Menlo, Courier, monospace\", \"no_data_font_size\": 64, \"opacity\": \".7\", \"opacity_hover\": \".8\", \"plot_background\": \"rgba(255, 255, 255, 1)\", \"stroke_opacity\": \".8\", \"stroke_opacity_hover\": \".9\", \"title_font_family\": \"Consolas, \\\"Liberation Mono\\\", Menlo, Courier, monospace\", \"title_font_size\": 16, \"tooltip_font_family\": \"Consolas, \\\"Liberation Mono\\\", Menlo, Courier, monospace\", \"tooltip_font_size\": 14, \"transition\": \"150ms\", \"value_background\": \"rgba(229, 229, 229, 1)\", \"value_colors\": [], \"value_font_family\": \"Consolas, \\\"Liberation Mono\\\", Menlo, Courier, monospace\", \"value_font_size\": 16, \"value_label_font_family\": \"Consolas, \\\"Liberation Mono\\\", Menlo, Courier, monospace\", \"value_label_font_size\": 10}, \"title\": \"Close Prices\", \"tooltip_border_radius\": 0, \"tooltip_fancy_mode\": true, \"truncate_label\": -1, \"truncate_legend\": null, \"width\": 640, \"x_label_rotation\": 35, \"x_labels\": null, \"x_labels_major\": null, \"x_labels_major_count\": null, \"x_labels_major_every\": null, \"x_title\": \"Date\", \"xrange\": null, \"y_label_rotation\": 0, \"y_labels\": null, \"y_labels_major\": null, \"y_labels_major_count\": null, \"y_labels_major_every\": null, \"y_title\": \"Adj Close (USD)\", \"zero\": 0, \"legends\": [\"Apple\", \"Microsoft\"]}</script><script type=\"text/javascript\" xlink:href=\"https://kozea.github.io/pygal.js/2.0.x/pygal-tooltips.min.js\"/></defs><title>Close Prices</title><g class=\"graph dateline-graph vertical\"><rect class=\"background\" height=\"360\" width=\"640\" x=\"0\" y=\"0\"/><g class=\"plot\" transform=\"translate(171, 46)\"><rect class=\"background\" height=\"220.14395520083096\" width=\"414.3359650769265\" x=\"0\" y=\"0\"/><g class=\"axis y always_show\"><path class=\"line\" d=\"M0.000000 220.143955 h414.335965\"/><g class=\"guides\"><path class=\"major guide line\" d=\"M0.000000 198.638479 h414.335965\"/><text class=\"major\" x=\"-5\" y=\"202.13847868498664\">100</text><title>100</title></g><g class=\"guides\"><path class=\"guide line\" d=\"M0.000000 169.214392 h414.335965\"/><text class=\"\" x=\"-5\" y=\"172.71439194592642\">110</text><title>110</title></g><g class=\"guides\"><path class=\"guide line\" d=\"M0.000000 139.790305 h414.335965\"/><text class=\"\" x=\"-5\" y=\"143.29030520686624\">120</text><title>120</title></g><g class=\"guides\"><path class=\"guide line\" d=\"M0.000000 110.366218 h414.335965\"/><text class=\"\" x=\"-5\" y=\"113.86621846780605\">130</text><title>130</title></g><g class=\"guides\"><path class=\"guide line\" d=\"M0.000000 80.942132 h414.335965\"/><text class=\"\" x=\"-5\" y=\"84.44213172874586\">140</text><title>140</title></g><g class=\"guides\"><path class=\"major guide line\" d=\"M0.000000 51.518045 h414.335965\"/><text class=\"major\" x=\"-5\" y=\"55.01804498968565\">150</text><title>150</title></g><g class=\"guides\"><path class=\"guide line\" d=\"M0.000000 22.093958 h414.335965\"/><text class=\"\" x=\"-5\" y=\"25.593958250625462\">160</text><title>160</title></g></g><g class=\"axis x\"><path class=\"line\" d=\"M0.000000 0.000000 v220.143955\"/><g class=\"guides\"><path class=\"guide line\" d=\"M16.926729 0.000000 v220.143955\"/><text class=\"\" x=\"16.926728732029506\" y=\"235.14395520083096\" transform=\"rotate(35 16.926729 235.143955)\">12-14-2018 </text><title>12-14-2018 </title></g><g class=\"guides\"><path class=\"guide line\" d=\"M49.863234 0.000000 v220.143955\"/><text class=\"\" x=\"49.86323389242316\" y=\"235.14395520083096\" transform=\"rotate(35 49.863234 235.143955)\">12-16-2018 </text><title>12-16-2018 </title></g><g class=\"guides\"><path class=\"guide line\" d=\"M82.799739 0.000000 v220.143955\"/><text class=\"\" x=\"82.79973905281682\" y=\"235.14395520083096\" transform=\"rotate(35 82.799739 235.143955)\">12-19-2018 </text><title>12-19-2018 </title></g><g class=\"guides\"><path class=\"guide line\" d=\"M115.736244 0.000000 v220.143955\"/><text class=\"\" x=\"115.73624421321048\" y=\"235.14395520083096\" transform=\"rotate(35 115.736244 235.143955)\">12-21-2018 </text><title>12-21-2018 </title></g><g class=\"guides\"><path class=\"guide line\" d=\"M148.672749 0.000000 v220.143955\"/><text class=\"\" x=\"148.67274937360412\" y=\"235.14395520083096\" transform=\"rotate(35 148.672749 235.143955)\">12-23-2018 </text><title>12-23-2018 </title></g><g class=\"guides\"><path class=\"guide line\" d=\"M181.609255 0.000000 v220.143955\"/><text class=\"\" x=\"181.60925453399778\" y=\"235.14395520083096\" transform=\"rotate(35 181.609255 235.143955)\">12-26-2018 </text><title>12-26-2018 </title></g><g class=\"guides\"><path class=\"guide line\" d=\"M214.545760 0.000000 v220.143955\"/><text class=\"\" x=\"214.54575969439145\" y=\"235.14395520083096\" transform=\"rotate(35 214.545760 235.143955)\">12-28-2018 </text><title>12-28-2018 </title></g><g class=\"guides\"><path class=\"guide line\" d=\"M247.482265 0.000000 v220.143955\"/><text class=\"\" x=\"247.4822648547851\" y=\"235.14395520083096\" transform=\"rotate(35 247.482265 235.143955)\">12-30-2018 </text><title>12-30-2018 </title></g><g class=\"guides\"><path class=\"guide line\" d=\"M280.418770 0.000000 v220.143955\"/><text class=\"\" x=\"280.4187700151787\" y=\"235.14395520083096\" transform=\"rotate(35 280.418770 235.143955)\">01-02-2019 </text><title>01-02-2019 </title></g><g class=\"guides\"><path class=\"guide line\" d=\"M313.355275 0.000000 v220.143955\"/><text class=\"\" x=\"313.35527517557244\" y=\"235.14395520083096\" transform=\"rotate(35 313.355275 235.143955)\">01-04-2019 </text><title>01-04-2019 </title></g><g class=\"guides\"><path class=\"guide line\" d=\"M346.291780 0.000000 v220.143955\"/><text class=\"\" x=\"346.29178033596605\" y=\"235.14395520083096\" transform=\"rotate(35 346.291780 235.143955)\">01-06-2019 </text><title>01-06-2019 </title></g><g class=\"guides\"><path class=\"guide line\" d=\"M379.228285 0.000000 v220.143955\"/><text class=\"\" x=\"379.2282854963597\" y=\"235.14395520083096\" transform=\"rotate(35 379.228285 235.143955)\">01-09-2019 </text><title>01-09-2019 </title></g></g><g class=\"series serie-0 color-0\"><path class=\"line reactive nofill\" d=\"M7.967999 5.969559 L50.653710 10.500868 64.882280 4.233538 79.110850 19.475215 93.339421 31.421394 107.567991 49.370087 150.253702 60.845480 178.710842 30.420975 192.939412 33.422232 207.167983 33.186839 249.853693 28.743802 278.310834 28.214168 292.539404 74.498257 306.767974 56.637836 349.453685 57.608831 363.682255 49.311238 377.910825 41.778672 392.139396 40.336892 406.367966 44.779929\"/></g><g class=\"series serie-1 color-1\"><path class=\"line reactive nofill\" d=\"M7.967999 180.895754 L50.653710 190.134918 64.882280 186.957116 79.110850 187.780991 93.339421 194.195442 107.567991 203.846542 150.253702 215.910418 178.710842 196.990730 192.939412 195.166436 207.167983 197.490939 249.853693 194.018897 278.310834 195.342981 292.539404 206.288741 306.767974 192.959630 349.453685 192.577117 363.682255 190.399734 377.910825 186.074394 392.139396 188.045807 406.367966 190.399734\"/></g></g><g class=\"titles\"><text class=\"title plot_title\" x=\"320.0\" y=\"26\">Close Prices</text><text class=\"title\" x=\"378.76798253846323\" y=\"340.0\">Date</text><text class=\"title\" x=\"97.6\" y=\"182.0719776004155\" transform=\"rotate(-90 97.600000 156.071978)\">Adj Close (USD)</text></g><g class=\"plot overlay\" transform=\"translate(171, 46)\"><g class=\"series serie-0 color-0\"><g class=\"dots\"><circle class=\"dot reactive tooltip-trigger\" cx=\"7.967999328402434\" cy=\"5.969558717620487\" r=\"2.5\"/><desc class=\"value\">12-14-2018 : 165.48</desc><desc class=\"x \">7.967999328402434</desc><desc class=\"y \">5.969558717620487</desc></g><g class=\"dots\"><circle class=\"dot reactive tooltip-trigger\" cx=\"50.65371001627261\" cy=\"10.500868075435761\" r=\"2.5\"/><desc class=\"value\">12-17-2018 : 163.94</desc><desc class=\"x \">50.65371001627261</desc><desc class=\"y \">10.500868075435761</desc></g><g class=\"dots\"><circle class=\"dot reactive tooltip-trigger\" cx=\"64.88228024556267\" cy=\"4.2335376000159215\" r=\"2.5\"/><desc class=\"value\">12-18-2018 : 166.07</desc><desc class=\"x \">64.88228024556267</desc><desc class=\"y \">4.2335376000159215</desc></g><g class=\"dots\"><circle class=\"dot reactive tooltip-trigger\" cx=\"79.11085047485273\" cy=\"19.475214530849144\" r=\"2.5\"/><desc class=\"value\">12-19-2018 : 160.89</desc><desc class=\"x \">79.11085047485273</desc><desc class=\"y \">19.475214530849144</desc></g><g class=\"dots\"><circle class=\"dot reactive tooltip-trigger\" cx=\"93.33942070414278\" cy=\"31.421393746907512\" r=\"2.5\"/><desc class=\"value\">12-20-2018 : 156.83</desc><desc class=\"x \">93.33942070414278</desc><desc class=\"y \">31.421393746907512</desc></g><g class=\"dots\"><circle class=\"dot reactive tooltip-trigger\" cx=\"107.56799093343285\" cy=\"49.370086657734305\" r=\"2.5\"/><desc class=\"value\">12-21-2018 : 150.73</desc><desc class=\"x \">107.56799093343285</desc><desc class=\"y \">49.370086657734305</desc></g><g class=\"dots\"><circle class=\"dot reactive tooltip-trigger\" cx=\"150.253701621303\" cy=\"60.8454804859677\" r=\"2.5\"/><desc class=\"value\">12-24-2018 : 146.83</desc><desc class=\"x \">150.253701621303</desc><desc class=\"y \">60.8454804859677</desc></g><g class=\"dots\"><circle class=\"dot reactive tooltip-trigger\" cx=\"178.71084207988315\" cy=\"30.420974797779536\" r=\"2.5\"/><desc class=\"value\">12-26-2018 : 157.17</desc><desc class=\"x \">178.71084207988315</desc><desc class=\"y \">30.420974797779536</desc></g><g class=\"dots\"><circle class=\"dot reactive tooltip-trigger\" cx=\"192.9394123091732\" cy=\"33.422231645163635\" r=\"2.5\"/><desc class=\"value\">12-27-2018 : 156.15</desc><desc class=\"x \">192.9394123091732</desc><desc class=\"y \">33.422231645163635</desc></g><g class=\"dots\"><circle class=\"dot reactive tooltip-trigger\" cx=\"207.16798253846326\" cy=\"33.18683895125119\" r=\"2.5\"/><desc class=\"value\">12-28-2018 : 156.23</desc><desc class=\"x \">207.16798253846326</desc><desc class=\"y \">33.18683895125119</desc></g><g class=\"dots\"><circle class=\"dot reactive tooltip-trigger\" cx=\"249.85369322633343\" cy=\"28.743801853653025\" r=\"2.5\"/><desc class=\"value\">12-31-2018 : 157.74</desc><desc class=\"x left\">249.85369322633343</desc><desc class=\"y left\">28.743801853653025</desc></g><g class=\"dots\"><circle class=\"dot reactive tooltip-trigger\" cx=\"278.3108336849135\" cy=\"28.214168292349996\" r=\"2.5\"/><desc class=\"value\">01-02-2019 : 157.92</desc><desc class=\"x left\">278.3108336849135</desc><desc class=\"y left\">28.214168292349996</desc></g><g class=\"dots\"><circle class=\"dot reactive tooltip-trigger\" cx=\"292.53940391420366\" cy=\"74.49825673289169\" r=\"2.5\"/><desc class=\"value\">01-03-2019 : 142.19</desc><desc class=\"x left\">292.53940391420366</desc><desc class=\"y left\">74.49825673289169</desc></g><g class=\"dots\"><circle class=\"dot reactive tooltip-trigger\" cx=\"306.7679741434937\" cy=\"56.63783608228215\" r=\"2.5\"/><desc class=\"value\">01-04-2019 : 148.26</desc><desc class=\"x left\">306.7679741434937</desc><desc class=\"y left\">56.63783608228215</desc></g><g class=\"dots\"><circle class=\"dot reactive tooltip-trigger\" cx=\"349.4536848313639\" cy=\"57.6088309446711\" r=\"2.5\"/><desc class=\"value\">01-07-2019 : 147.93</desc><desc class=\"x left\">349.4536848313639</desc><desc class=\"y left\">57.6088309446711</desc></g><g class=\"dots\"><circle class=\"dot reactive tooltip-trigger\" cx=\"363.6822550606539\" cy=\"49.31123848425614\" r=\"2.5\"/><desc class=\"value\">01-08-2019 : 150.75</desc><desc class=\"x left\">363.6822550606539</desc><desc class=\"y left\">49.31123848425614</desc></g><g class=\"dots\"><circle class=\"dot reactive tooltip-trigger\" cx=\"377.910825289944\" cy=\"41.778672279056735\" r=\"2.5\"/><desc class=\"value\">01-09-2019 : 153.31</desc><desc class=\"x left\">377.910825289944</desc><desc class=\"y left\">41.778672279056735</desc></g><g class=\"dots\"><circle class=\"dot reactive tooltip-trigger\" cx=\"392.13939551923403\" cy=\"40.336892028842726\" r=\"2.5\"/><desc class=\"value\">01-10-2019 : 153.8</desc><desc class=\"x left\">392.13939551923403</desc><desc class=\"y left\">40.336892028842726</desc></g><g class=\"dots\"><circle class=\"dot reactive tooltip-trigger\" cx=\"406.36796574852406\" cy=\"44.77992912644089\" r=\"2.5\"/><desc class=\"value\">01-11-2019 : 152.29</desc><desc class=\"x left\">406.36796574852406</desc><desc class=\"y left\">44.77992912644089</desc></g></g><g class=\"series serie-1 color-1\"><g class=\"dots\"><circle class=\"dot reactive tooltip-trigger\" cx=\"7.967999328402434\" cy=\"180.89575438133332\" r=\"4\"/><desc class=\"value\">12-14-2018 : 106.03</desc><desc class=\"x top\">7.967999328402434</desc><desc class=\"y top\">180.89575438133332</desc></g><g class=\"dots\"><circle class=\"dot reactive tooltip-trigger\" cx=\"50.65371001627261\" cy=\"190.13491761739823\" r=\"4\"/><desc class=\"value\">12-17-2018 : 102.89</desc><desc class=\"x top\">50.65371001627261</desc><desc class=\"y top\">190.13491761739823</desc></g><g class=\"dots\"><circle class=\"dot reactive tooltip-trigger\" cx=\"64.88228024556267\" cy=\"186.95711624957974\" r=\"4\"/><desc class=\"value\">12-18-2018 : 103.97</desc><desc class=\"x top\">64.88228024556267</desc><desc class=\"y top\">186.95711624957974</desc></g><g class=\"dots\"><circle class=\"dot reactive tooltip-trigger\" cx=\"79.11085047485273\" cy=\"187.7809906782734\" r=\"4\"/><desc class=\"value\">12-19-2018 : 103.69</desc><desc class=\"x top\">79.11085047485273</desc><desc class=\"y top\">187.7809906782734</desc></g><g class=\"dots\"><circle class=\"dot reactive tooltip-trigger\" cx=\"93.33942070414278\" cy=\"194.19544158738853\" r=\"4\"/><desc class=\"value\">12-20-2018 : 101.51</desc><desc class=\"x top\">93.33942070414278</desc><desc class=\"y top\">194.19544158738853</desc></g><g class=\"dots\"><circle class=\"dot reactive tooltip-trigger\" cx=\"107.56799093343285\" cy=\"203.84654203780028\" r=\"4\"/><desc class=\"value\">12-21-2018 : 98.23</desc><desc class=\"x top\">107.56799093343285</desc><desc class=\"y top\">203.84654203780028</desc></g><g class=\"dots\"><circle class=\"dot reactive tooltip-trigger\" cx=\"150.253701621303\" cy=\"215.91041760081498\" r=\"4\"/><desc class=\"value\">12-24-2018 : 94.13</desc><desc class=\"x top\">150.253701621303</desc><desc class=\"y top\">215.91041760081498</desc></g><g class=\"dots\"><circle class=\"dot reactive tooltip-trigger\" cx=\"178.71084207988315\" cy=\"196.99072982759924\" r=\"4\"/><desc class=\"value\">12-26-2018 : 100.56</desc><desc class=\"x top\">178.71084207988315</desc><desc class=\"y top\">196.99072982759924</desc></g><g class=\"dots\"><circle class=\"dot reactive tooltip-trigger\" cx=\"192.9394123091732\" cy=\"195.1664364497775\" r=\"4\"/><desc class=\"value\">12-27-2018 : 101.18</desc><desc class=\"x top\">192.9394123091732</desc><desc class=\"y top\">195.1664364497775</desc></g><g class=\"dots\"><circle class=\"dot reactive tooltip-trigger\" cx=\"207.16798253846326\" cy=\"197.49093930216327\" r=\"4\"/><desc class=\"value\">12-28-2018 : 100.39</desc><desc class=\"x top\">207.16798253846326</desc><desc class=\"y top\">197.49093930216327</desc></g><g class=\"dots\"><circle class=\"dot reactive tooltip-trigger\" cx=\"249.85369322633343\" cy=\"194.0188970669542\" r=\"4\"/><desc class=\"value\">12-31-2018 : 101.57</desc><desc class=\"x left top\">249.85369322633343</desc><desc class=\"y left top\">194.0188970669542</desc></g><g class=\"dots\"><circle class=\"dot reactive tooltip-trigger\" cx=\"278.3108336849135\" cy=\"195.34298097021187\" r=\"4\"/><desc class=\"value\">01-02-2019 : 101.12</desc><desc class=\"x left top\">278.3108336849135</desc><desc class=\"y left top\">195.34298097021187</desc></g><g class=\"dots\"><circle class=\"dot reactive tooltip-trigger\" cx=\"292.53940391420366\" cy=\"206.28874123714226\" r=\"4\"/><desc class=\"value\">01-03-2019 : 97.4</desc><desc class=\"x left top\">292.53940391420366</desc><desc class=\"y left top\">206.28874123714226</desc></g><g class=\"dots\"><circle class=\"dot reactive tooltip-trigger\" cx=\"306.7679741434937\" cy=\"192.959629944348\" r=\"4\"/><desc class=\"value\">01-04-2019 : 101.93</desc><desc class=\"x left top\">306.7679741434937</desc><desc class=\"y left top\">192.959629944348</desc></g><g class=\"dots\"><circle class=\"dot reactive tooltip-trigger\" cx=\"349.4536848313639\" cy=\"192.57711681674022\" r=\"4\"/><desc class=\"value\">01-07-2019 : 102.06</desc><desc class=\"x left top\">349.4536848313639</desc><desc class=\"y left top\">192.57711681674022</desc></g><g class=\"dots\"><circle class=\"dot reactive tooltip-trigger\" cx=\"363.6822550606539\" cy=\"190.3997343980498\" r=\"4\"/><desc class=\"value\">01-08-2019 : 102.8</desc><desc class=\"x left top\">363.6822550606539</desc><desc class=\"y left top\">190.3997343980498</desc></g><g class=\"dots\"><circle class=\"dot reactive tooltip-trigger\" cx=\"377.910825289944\" cy=\"186.07439364740793\" r=\"4\"/><desc class=\"value\">01-09-2019 : 104.27</desc><desc class=\"x left top\">377.910825289944</desc><desc class=\"y left top\">186.07439364740793</desc></g><g class=\"dots\"><circle class=\"dot reactive tooltip-trigger\" cx=\"392.13939551923403\" cy=\"188.04580745892497\" r=\"4\"/><desc class=\"value\">01-10-2019 : 103.6</desc><desc class=\"x left top\">392.13939551923403</desc><desc class=\"y left top\">188.04580745892497</desc></g><g class=\"dots\"><circle class=\"dot reactive tooltip-trigger\" cx=\"406.36796574852406\" cy=\"190.3997343980498\" r=\"4\"/><desc class=\"value\">01-11-2019 : 102.8</desc><desc class=\"x left top\">406.36796574852406</desc><desc class=\"y left top\">190.3997343980498</desc></g></g></g><g class=\"plot text-overlay\" transform=\"translate(171, 46)\"><g class=\"series serie-0 color-0\"/><g class=\"series serie-1 color-1\"/></g><g class=\"plot tooltip-overlay\" transform=\"translate(171, 46)\"><g class=\"tooltip\" style=\"opacity: 0\" transform=\"translate(0 0)\"><rect class=\"tooltip-box\" height=\"0\" rx=\"0\" ry=\"0\" width=\"0\"/><g class=\"text\"/></g></g><g class=\"legends\" transform=\"translate(10, 56)\"><g class=\"legend reactive activate-serie\" id=\"activate-serie-0\"><rect class=\"color-0 reactive\" height=\"12\" width=\"12\" x=\"0.0\" y=\"1.0\"/><text x=\"17.0\" y=\"11.2\">Apple</text></g><g class=\"legend reactive activate-serie\" id=\"activate-serie-1\"><rect class=\"color-1 reactive\" height=\"12\" width=\"12\" x=\"0.0\" y=\"22.0\"/><text x=\"17.0\" y=\"32.2\">Microsoft</text></g></g><g class=\"legends\" transform=\"translate(595, 56)\"/></g></svg>\n",
       "    </figure>\n",
       "  </body>\n",
       "</html>\n"
      ],
      "text/plain": [
       "<IPython.core.display.HTML object>"
      ]
     },
     "metadata": {},
     "output_type": "display_data"
    }
   ],
   "source": [
    "stock_close.add('Microsoft', \n",
    "                msft_close, \n",
    "                dots_size = 4, \n",
    "                stroke_style={'width': 3, \n",
    "                              'dasharray': '6, 3'})\n",
    "\n",
    "display_chart(stock_close)"
   ]
  },
  {
   "cell_type": "code",
   "execution_count": null,
   "metadata": {
    "collapsed": true
   },
   "outputs": [],
   "source": []
  },
  {
   "cell_type": "code",
   "execution_count": null,
   "metadata": {
    "collapsed": true
   },
   "outputs": [],
   "source": []
  },
  {
   "cell_type": "code",
   "execution_count": null,
   "metadata": {
    "collapsed": true
   },
   "outputs": [],
   "source": []
  }
 ],
 "metadata": {
  "kernelspec": {
   "display_name": "Python 3",
   "language": "python",
   "name": "python3"
  },
  "language_info": {
   "codemirror_mode": {
    "name": "ipython",
    "version": 3
   },
   "file_extension": ".py",
   "mimetype": "text/x-python",
   "name": "python",
   "nbconvert_exporter": "python",
   "pygments_lexer": "ipython3",
   "version": "3.6.3"
  }
 },
 "nbformat": 4,
 "nbformat_minor": 2
}
