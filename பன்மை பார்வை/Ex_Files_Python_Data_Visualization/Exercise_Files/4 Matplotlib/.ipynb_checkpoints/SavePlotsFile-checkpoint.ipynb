{
 "cells": [
  {
   "cell_type": "code",
   "execution_count": null,
   "metadata": {},
   "outputs": [],
   "source": [
    "# The ``inline`` flag will use the appropriate backend to make figures appear inline in the notebook.  \n",
    "%matplotlib inline\n",
    "\n",
    "import pandas as pd\n",
    "import numpy as np\n",
    "\n",
    "# `plt` is an alias for the `matplotlib.pyplot` module\n",
    "import matplotlib.pyplot as plt\n",
    "\n",
    "# import seaborn library (wrapper of matplotlib)\n",
    "import seaborn as sns"
   ]
  },
  {
   "cell_type": "markdown",
   "metadata": {},
   "source": [
    "### Load Data"
   ]
  },
  {
   "cell_type": "code",
   "execution_count": null,
   "metadata": {},
   "outputs": [],
   "source": [
    "# Load car loan data into a pandas dataframe from a csv file\n",
    "filename = 'data/table_i702t60.csv'\n",
    "df = pd.read_csv(filename)"
   ]
  },
  {
   "cell_type": "code",
   "execution_count": null,
   "metadata": {},
   "outputs": [],
   "source": [
    "# View the first 5 rows of the dataframe\n",
    "df.head()"
   ]
  },
  {
   "cell_type": "code",
   "execution_count": null,
   "metadata": {},
   "outputs": [],
   "source": [
    "# Checking to make sure we dont have nans in our dataframe\n",
    "# It is not easy to directly plot data that contains nans\n",
    "df.info()"
   ]
  },
  {
   "cell_type": "code",
   "execution_count": null,
   "metadata": {},
   "outputs": [],
   "source": [
    "# For this notebook we will graph interest_paid, principal_paid, and month on one graph\n",
    "# While we could graph directly through pandas, we will graph through matplotlib for now.\n",
    "month_number = df.loc[:, 'month'].values\n",
    "interest_paid = df.loc[:, 'interest_paid'].values\n",
    "principal_paid = df.loc[:, 'principal_paid'].values"
   ]
  },
  {
   "cell_type": "code",
   "execution_count": null,
   "metadata": {},
   "outputs": [],
   "source": [
    "month_number"
   ]
  },
  {
   "cell_type": "code",
   "execution_count": null,
   "metadata": {},
   "outputs": [],
   "source": [
    "# The values attribute converts a column of values into a numpy array\n",
    "type(month_number)"
   ]
  },
  {
   "cell_type": "markdown",
   "metadata": {},
   "source": [
    "## Saving plots to files\n",
    "Saving your visualizations outside your jupyter notebook is important as it allows you to show your visualizations to others. Equally important is checking your saved visualization as there is always the possibility the graph doesnt look the same in the notebook as in the image file."
   ]
  },
  {
   "cell_type": "code",
   "execution_count": null,
   "metadata": {},
   "outputs": [],
   "source": [
    "plt.style.use('seaborn')"
   ]
  },
  {
   "cell_type": "markdown",
   "metadata": {},
   "source": [
    "### MATLAB-style"
   ]
  },
  {
   "cell_type": "code",
   "execution_count": null,
   "metadata": {},
   "outputs": [],
   "source": [
    "# an image may good in the notebook, but it may not save that way\n",
    "plt.figure(figsize=(10, 5))\n",
    "plt.plot(month_number, principal_paid, c = 'b', label = 'Principal')\n",
    "plt.plot(month_number, interest_paid, c= 'k', label = 'Interest')\n",
    "plt.xticks(fontsize = 20)\n",
    "plt.yticks(fontsize = 20)\n",
    "plt.xlim(left =1 , right = 61)\n",
    "plt.ylim(bottom = 0, top = 700)\n",
    "plt.xlabel('Month', fontsize = 22);\n",
    "plt.ylabel('Dollars', fontsize = 22);\n",
    "plt.title('Interest and Principal Paid Each Month', fontsize = 24)\n",
    "plt.legend(loc=(1.02,0), borderaxespad=0, fontsize = 20)\n",
    "\n",
    "plt.savefig('images/mslegendcutoff.png', dpi = 300)"
   ]
  },
  {
   "cell_type": "code",
   "execution_count": null,
   "metadata": {},
   "outputs": [],
   "source": [
    "# tight_layout()\n",
    "# automatically adjusts subplot params so that the subplot(s) fits in to the figure area\n",
    "plt.figure(figsize=(10, 5))\n",
    "plt.plot(month_number, principal_paid, c = 'b', label = 'Principal')\n",
    "plt.plot(month_number, interest_paid, c= 'k', label = 'Interest')\n",
    "plt.xticks(fontsize = 20)\n",
    "plt.yticks(fontsize = 20)\n",
    "plt.xlim(left =1 , right = 61)\n",
    "plt.ylim(bottom = 0, top = 700)\n",
    "plt.xlabel('Month', fontsize = 22);\n",
    "plt.ylabel('Dollars', fontsize = 22);\n",
    "plt.title('Interest and Principal Paid Each Month', fontsize = 24)\n",
    "plt.legend(loc=(1.02,0), borderaxespad=0, fontsize = 20)\n",
    "\n",
    "plt.tight_layout()\n",
    "plt.savefig('images/mslegend.png', dpi = 300)"
   ]
  },
  {
   "cell_type": "markdown",
   "metadata": {},
   "source": [
    "### Object-oriented"
   ]
  },
  {
   "cell_type": "code",
   "execution_count": null,
   "metadata": {},
   "outputs": [],
   "source": [
    "# an image may good in the notebook, but it may not save that way\n",
    "fig, axes = plt.subplots(nrows = 1, ncols = 1, figsize=(10, 5) )\n",
    "axes.plot(month_number, principal_paid, c = 'b', label = 'Principal')\n",
    "axes.plot(month_number, interest_paid, c= 'k', label = 'Interest')\n",
    "axes.tick_params(axis = 'x', labelsize = 20)\n",
    "axes.tick_params(axis = 'y', labelsize = 20)\n",
    "axes.set_xlim(left =1 , right = 61)\n",
    "axes.set_ylim(bottom = 0, top = 700)\n",
    "axes.set_xlabel('Month', fontsize = 22);\n",
    "axes.set_ylabel('Dollars', fontsize = 22);\n",
    "axes.set_title('Interest and Principal Paid Each Month', fontsize = 24)\n",
    "axes.legend(loc=(1.02,0), borderaxespad=0, fontsize = 20)\n",
    "\n",
    "fig.savefig('images/objectlegendcutoff.png', dpi = 300)"
   ]
  },
  {
   "cell_type": "code",
   "execution_count": null,
   "metadata": {},
   "outputs": [],
   "source": [
    "# tight_layout()\n",
    "# automatically adjusts subplot params so that the subplot(s) fits in to the figure area\n",
    "fig, axes = plt.subplots(nrows = 1, ncols = 1, figsize=(10, 5) )\n",
    "axes.plot(month_number, principal_paid, c = 'b', label = 'Principal')\n",
    "axes.plot(month_number, interest_paid, c= 'k', label = 'Interest')\n",
    "axes.tick_params(axis = 'x', labelsize = 20)\n",
    "axes.tick_params(axis = 'y', labelsize = 20)\n",
    "axes.set_xlim(left =1 , right = 61)\n",
    "axes.set_ylim(bottom = 0, top = 700)\n",
    "axes.set_xlabel('Month', fontsize = 22);\n",
    "axes.set_ylabel('Dollars', fontsize = 22);\n",
    "axes.set_title('Interest and Principal Paid Each Month', fontsize = 24)\n",
    "axes.legend(loc=(1.02,0), borderaxespad=0, fontsize = 20)\n",
    "\n",
    "fig.tight_layout()\n",
    "fig.savefig('images/objectlegend.png', dpi = 300)"
   ]
  }
 ],
 "metadata": {
  "anaconda-cloud": {},
  "kernelspec": {
   "display_name": "Python 3",
   "language": "python",
   "name": "python3"
  },
  "language_info": {
   "codemirror_mode": {
    "name": "ipython",
    "version": 3
   },
   "file_extension": ".py",
   "mimetype": "text/x-python",
   "name": "python",
   "nbconvert_exporter": "python",
   "pygments_lexer": "ipython3",
   "version": "3.6.8"
  }
 },
 "nbformat": 4,
 "nbformat_minor": 1
}
