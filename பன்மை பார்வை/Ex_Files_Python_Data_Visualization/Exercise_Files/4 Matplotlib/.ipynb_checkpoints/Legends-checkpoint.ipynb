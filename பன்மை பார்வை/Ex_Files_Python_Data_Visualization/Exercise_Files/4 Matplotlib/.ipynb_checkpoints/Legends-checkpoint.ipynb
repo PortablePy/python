{
 "cells": [
  {
   "cell_type": "code",
   "execution_count": null,
   "metadata": {},
   "outputs": [],
   "source": [
    "# The ``inline`` flag will use the appropriate backend to make figures appear inline in the notebook.  \n",
    "%matplotlib inline\n",
    "\n",
    "import pandas as pd\n",
    "import numpy as np\n",
    "\n",
    "# `plt` is an alias for the `matplotlib.pyplot` module\n",
    "import matplotlib.pyplot as plt\n",
    "plt.style.use('classic')\n",
    "\n",
    "# import seaborn library (wrapper of matplotlib)\n",
    "import seaborn as sns"
   ]
  },
  {
   "cell_type": "markdown",
   "metadata": {},
   "source": [
    "### Load Data"
   ]
  },
  {
   "cell_type": "code",
   "execution_count": null,
   "metadata": {},
   "outputs": [],
   "source": [
    "# Load car loan data into a pandas dataframe from a csv file\n",
    "filename = 'data/table_i702t60.csv'\n",
    "df = pd.read_csv(filename)"
   ]
  },
  {
   "cell_type": "code",
   "execution_count": null,
   "metadata": {},
   "outputs": [],
   "source": [
    "# View the first 5 rows of the dataframe\n",
    "df.head()"
   ]
  },
  {
   "cell_type": "code",
   "execution_count": null,
   "metadata": {},
   "outputs": [],
   "source": [
    "# Checking to make sure we dont have nans in our dataframe\n",
    "# It is not easy to directly plot data that contains nans\n",
    "df.info()"
   ]
  },
  {
   "cell_type": "code",
   "execution_count": null,
   "metadata": {},
   "outputs": [],
   "source": [
    "# For this notebook we will graph interest_paid, principal_paid, and month on one graph\n",
    "# While we could graph directly through pandas, we will graph through matplotlib for now.\n",
    "month_number = df.loc[:, 'month'].values\n",
    "interest_paid = df.loc[:, 'interest_paid'].values\n",
    "principal_paid = df.loc[:, 'principal_paid'].values"
   ]
  },
  {
   "cell_type": "code",
   "execution_count": null,
   "metadata": {},
   "outputs": [],
   "source": [
    "month_number"
   ]
  },
  {
   "cell_type": "code",
   "execution_count": null,
   "metadata": {},
   "outputs": [],
   "source": [
    "# The values attribute converts a column of values into a numpy array\n",
    "type(month_number)"
   ]
  },
  {
   "cell_type": "markdown",
   "metadata": {},
   "source": [
    "## Legends\n",
    "\n",
    "The `loc` (legend location) parameter accepts strings, ints, and tuples\n",
    "\n",
    "string | int\n",
    "--- | ---\n",
    "'best' | 0\n",
    "'upper right' | 1\n",
    "'upper left' | 2\n",
    "'lower left' |3\n",
    "'lower right' | 4\n",
    "'right' | 5\n",
    "'center left' | 6\n",
    "'center right' | 7\n",
    "'lower center' | 8\n",
    "'upper center' | 9\n",
    "'center' | 10\n",
    "\n",
    "The parameter accepts a 2 element tuple  ``x, y`` where (0, 0) is the of the lower-leftcorner of the legend in axes coordinates. "
   ]
  },
  {
   "cell_type": "markdown",
   "metadata": {},
   "source": [
    "### MATLAB-style"
   ]
  },
  {
   "cell_type": "code",
   "execution_count": null,
   "metadata": {
    "scrolled": true
   },
   "outputs": [],
   "source": [
    "# Obviously the legend is not in an ideal location\n",
    "plt.plot(month_number, interest_paid, c= 'k', label = 'Interest')\n",
    "plt.plot(month_number, principal_paid, c = 'b', label = 'Principal')\n",
    "plt.legend()"
   ]
  },
  {
   "cell_type": "code",
   "execution_count": null,
   "metadata": {},
   "outputs": [],
   "source": [
    "# At least the legend is not overlapping with the graph\n",
    "plt.plot(month_number, interest_paid, c= 'k', label = 'Interest')\n",
    "plt.plot(month_number, principal_paid, c = 'b', label = 'Principal')\n",
    "plt.legend(loc=\"center right\")"
   ]
  },
  {
   "cell_type": "code",
   "execution_count": null,
   "metadata": {},
   "outputs": [],
   "source": [
    "# You can move the legend outside of the plotting area. \n",
    "# At least the legend is not overlapping with the graph\n",
    "plt.plot(month_number, interest_paid, c= 'k', label = 'Interest')\n",
    "plt.plot(month_number, principal_paid, c = 'b', label = 'Principal')\n",
    "plt.legend(loc=(1.02,0))"
   ]
  },
  {
   "cell_type": "markdown",
   "metadata": {},
   "source": [
    "### Object-oriented"
   ]
  },
  {
   "cell_type": "code",
   "execution_count": null,
   "metadata": {},
   "outputs": [],
   "source": [
    "# Obviously the legend is not in an ideal location\n",
    "fig, axes = plt.subplots(nrows = 1, ncols = 1);\n",
    "axes.plot(month_number, interest_paid, c= 'k', label = 'Interest');\n",
    "axes.plot(month_number, principal_paid, c = 'b', label = 'Principal');\n",
    "axes.legend()"
   ]
  },
  {
   "cell_type": "code",
   "execution_count": null,
   "metadata": {},
   "outputs": [],
   "source": [
    "# At least the legend is not overlapping with the graph\n",
    "fig, axes = plt.subplots(nrows = 1, ncols = 1);\n",
    "axes.plot(month_number, interest_paid, c= 'k', label = 'Interest');\n",
    "axes.plot(month_number, principal_paid, c = 'b', label = 'Principal');\n",
    "axes.legend(loc=\"center right\")"
   ]
  },
  {
   "cell_type": "code",
   "execution_count": null,
   "metadata": {},
   "outputs": [],
   "source": [
    "# At least the legend is not overlapping with the graph\n",
    "fig, axes = plt.subplots(nrows = 1, ncols = 1);\n",
    "axes.plot(month_number, interest_paid, c= 'k', label = 'Interest');\n",
    "axes.plot(month_number, principal_paid, c = 'b', label = 'Principal');\n",
    "axes.legend(loc=(1.02,0))"
   ]
  },
  {
   "cell_type": "code",
   "execution_count": null,
   "metadata": {},
   "outputs": [],
   "source": []
  }
 ],
 "metadata": {
  "anaconda-cloud": {},
  "kernelspec": {
   "display_name": "Python 3",
   "language": "python",
   "name": "python3"
  },
  "language_info": {
   "codemirror_mode": {
    "name": "ipython",
    "version": 3
   },
   "file_extension": ".py",
   "mimetype": "text/x-python",
   "name": "python",
   "nbconvert_exporter": "python",
   "pygments_lexer": "ipython3",
   "version": "3.6.8"
  }
 },
 "nbformat": 4,
 "nbformat_minor": 1
}
