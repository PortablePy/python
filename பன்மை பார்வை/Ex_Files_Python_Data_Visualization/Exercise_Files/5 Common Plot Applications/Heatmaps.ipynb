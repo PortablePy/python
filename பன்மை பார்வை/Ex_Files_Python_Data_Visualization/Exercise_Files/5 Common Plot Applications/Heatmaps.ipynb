{
 "cells": [
  {
   "cell_type": "markdown",
   "metadata": {},
   "source": [
    "## Heatmaps"
   ]
  },
  {
   "cell_type": "markdown",
   "metadata": {},
   "source": [
    "A heat map is a graphical representation of data where values are depicted by colors. Heatmaps allow you to easier spot where something happened and where it didn't. Consequently, what we choose for our color palette is important. Two types of color palettes are: \n",
    "\n",
    "1. Sequential: appropriate when data ranges from relatively low values to relatively high values. \n",
    "2. Qualitative: best when you want to distinguish discrete chunks of data that <b>do not have inherent ordering</b>."
   ]
  },
  {
   "cell_type": "code",
   "execution_count": null,
   "metadata": {},
   "outputs": [],
   "source": [
    "# The ``inline`` flag will use the appropriate backend to make figures appear inline in the notebook.  \n",
    "%matplotlib inline\n",
    "\n",
    "import numpy as np\n",
    "import pandas as pd\n",
    "\n",
    "# `plt` is an alias for the `matplotlib.pyplot` module\n",
    "import matplotlib.pyplot as plt\n",
    "\n",
    "# import seaborn library (wrapper of matplotlib)\n",
    "import seaborn as sns"
   ]
  },
  {
   "cell_type": "markdown",
   "metadata": {},
   "source": [
    "### Load Data\n",
    "\n",
    "The data is a confusion matrix which is a table that is often used to describe the performance of a machine learning classification model. It tells you where the predictions went wrong. \n",
    "\n",
    "This particular table is derived from predicting labels for digits from 0-9."
   ]
  },
  {
   "cell_type": "code",
   "execution_count": null,
   "metadata": {},
   "outputs": [],
   "source": [
    "confusion = np.array([[37, 0,  0,  0,  0,  0,  0,  0,  0,  0],\n",
    "                      [0, 39,  0,  0,  0,  0,  1,  0,  2,  1],\n",
    "                      [0,  0, 41,  3,  0,  0,  0,  0,  0,  0],\n",
    "                      [0,  0,  0, 44,  0,  0,  0,  0,  1,  0],\n",
    "                      [0,  0,  0,  0, 37,  0,  0,  1,  0,  0],\n",
    "                      [0,  0,  0,  0,  0, 46,  0,  0,  0,  2],\n",
    "                      [0,  1,  0,  0,  0,  0, 51,  0,  0,  0],\n",
    "                      [0,  0,  0,  1,  1,  0,  0, 46,  0,  0],\n",
    "                      [0,  3,  1,  0,  0,  0,  0,  0, 44,  0],\n",
    "                      [0,  0,  0,  0,  0,  1,  0,  0,  2, 44]])"
   ]
  },
  {
   "cell_type": "markdown",
   "metadata": {},
   "source": [
    "### Seaborn with Sequential Colormap"
   ]
  },
  {
   "cell_type": "code",
   "execution_count": null,
   "metadata": {},
   "outputs": [],
   "source": [
    "# sequential Sequential: appropriate when data ranges from relatively low\n",
    "# (uninteresting values) to relatively high (interesting values). \n",
    "plt.figure(figsize=(6,6))\n",
    "sns.heatmap(confusion, \n",
    "            annot=True,\n",
    "            cmap = 'Blues');\n",
    "plt.ylabel('Actual label');\n",
    "plt.xlabel('Predicted label');"
   ]
  },
  {
   "cell_type": "markdown",
   "metadata": {},
   "source": [
    "### Seaborn with Qualitative Colormap\n",
    "Qualitative colormaps are best when you want to distinguish discrete chunks of data that <b>do not have inherent ordering</b>."
   ]
  },
  {
   "cell_type": "code",
   "execution_count": null,
   "metadata": {},
   "outputs": [],
   "source": [
    "plt.figure(figsize=(6,6))\n",
    "sns.heatmap(confusion, \n",
    "            annot=True,\n",
    "            cmap = 'Pastel1');\n",
    "plt.ylabel('Actual label');\n",
    "plt.xlabel('Predicted label');"
   ]
  },
  {
   "cell_type": "markdown",
   "metadata": {},
   "source": [
    "### Matplotlib"
   ]
  },
  {
   "cell_type": "code",
   "execution_count": null,
   "metadata": {},
   "outputs": [],
   "source": [
    "# this is a lot of code that is not trivial to create\n",
    "plt.figure(figsize=(6,6))\n",
    "plt.imshow(confusion, interpolation='nearest', cmap='Blues')\n",
    "plt.colorbar()\n",
    "tick_marks = np.arange(10)\n",
    "plt.xticks(tick_marks, [\"0\", \"1\", \"2\", \"3\", \"4\", \"5\", \"6\", \"7\", \"8\", \"9\"], size = 10)\n",
    "plt.yticks(tick_marks, [\"0\", \"1\", \"2\", \"3\", \"4\", \"5\", \"6\", \"7\", \"8\", \"9\"], size = 10)\n",
    "plt.tight_layout()\n",
    "plt.ylabel('Actual label', size = 15)\n",
    "plt.xlabel('Predicted label', size = 15)\n",
    "width, height = confusion.shape\n",
    "\n",
    "for x in range(width):\n",
    "    for y in range(height):\n",
    "        plt.annotate(str(confusion[x][y]), xy=(y, x), \n",
    "                    horizontalalignment='center',\n",
    "                    verticalalignment='center')"
   ]
  }
 ],
 "metadata": {
  "anaconda-cloud": {},
  "kernelspec": {
   "display_name": "Python 3",
   "language": "python",
   "name": "python3"
  },
  "language_info": {
   "codemirror_mode": {
    "name": "ipython",
    "version": 3
   },
   "file_extension": ".py",
   "mimetype": "text/x-python",
   "name": "python",
   "nbconvert_exporter": "python",
   "pygments_lexer": "ipython3",
   "version": "3.6.8"
  }
 },
 "nbformat": 4,
 "nbformat_minor": 1
}
