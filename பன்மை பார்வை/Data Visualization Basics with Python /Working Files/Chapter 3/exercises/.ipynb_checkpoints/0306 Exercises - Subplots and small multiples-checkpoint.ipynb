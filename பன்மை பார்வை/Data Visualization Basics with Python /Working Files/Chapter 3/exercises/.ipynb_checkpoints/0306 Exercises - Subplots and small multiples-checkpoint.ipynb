{
 "cells": [
  {
   "cell_type": "markdown",
   "metadata": {
    "collapsed": true
   },
   "source": [
    "# Exercise 1\n",
    "\n",
    "Use subplots to create a figure with two sepate line plots showing the number of marriages and divorces per capita in the U.S. between 1867 and 2014. Place the two line plots on top of each other so the years line up.\n",
    "\n",
    "Don't forget to label your axes!"
   ]
  },
  {
   "cell_type": "code",
   "execution_count": null,
   "metadata": {
    "collapsed": false
   },
   "outputs": [],
   "source": [
    "import pandas as pd\n",
    "\n",
    "us_marriage_divorce_data = pd.read_csv('data/us-marriages-divorces-1867-2014.csv')\n",
    "years = us_marriage_divorce_data['Year'].values\n",
    "marriages_per_capita = us_marriage_divorce_data['Marriages_per_1000'].values\n",
    "divorces_per_capita = us_marriage_divorce_data['Divorces_per_1000'].values\n",
    "\n"
   ]
  },
  {
   "cell_type": "markdown",
   "metadata": {},
   "source": [
    "# Exercise 2\n",
    "\n",
    "Use small multiples to compare the trends in gender ratio of 17 U.S. college majors between 1970 and 2011. Make sure all of the subplots have the same axes and ranges.\n",
    "\n",
    "**Bonus:** Only label the y-axes of the subplots on the left; only label the x-axes of the subplots on the bottom."
   ]
  },
  {
   "cell_type": "code",
   "execution_count": null,
   "metadata": {
    "collapsed": false
   },
   "outputs": [],
   "source": [
    "import pandas as pd\n",
    "\n",
    "degree_gender_ratio = pd.read_csv('data/percent-degrees-conferred-women-usa.csv')\n",
    "years = degree_gender_ratio['Year'].values\n",
    "degree_gender_ratios = {}\n",
    "\n",
    "for degree in degree_gender_ratio.columns.drop('Year'):\n",
    "    degree_gender_ratios[degree] = degree_gender_ratio[degree].values\n",
    "\n"
   ]
  },
  {
   "cell_type": "code",
   "execution_count": null,
   "metadata": {
    "collapsed": true
   },
   "outputs": [],
   "source": []
  }
 ],
 "metadata": {
  "kernelspec": {
   "display_name": "Python 3",
   "language": "python",
   "name": "python3"
  },
  "language_info": {
   "codemirror_mode": {
    "name": "ipython",
    "version": 3
   },
   "file_extension": ".py",
   "mimetype": "text/x-python",
   "name": "python",
   "nbconvert_exporter": "python",
   "pygments_lexer": "ipython3",
   "version": "3.4.3"
  }
 },
 "nbformat": 4,
 "nbformat_minor": 0
}
